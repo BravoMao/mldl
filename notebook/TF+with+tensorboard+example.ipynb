{
 "cells": [
  {
   "cell_type": "markdown",
   "metadata": {},
   "source": [
    "1. Run the following cell first\n",
    "2. Start tensorboard as below\n",
    "   - $ tensorboard --logdir /tmp/test-tf/\n",
    "   \n",
    "3. Check your folder\n",
    "   - $ ll /tmp/test-tf/\n",
    "   - -rw-rw-r--  1 ubuntu ubuntu 23565 Dec 11 19:45 events.out.tfevents.1481485540.ip-10-236-190-133\n",
    "   - -rw-rw-r--  1 ubuntu ubuntu 24354 Dec 11 19:45 graph.pbtxt\n",
    "   "
   ]
  },
  {
   "cell_type": "code",
   "execution_count": 2,
   "metadata": {
    "collapsed": true
   },
   "outputs": [],
   "source": [
    "import tensorflow as tf\n",
    "import numpy as np"
   ]
  },
  {
   "cell_type": "code",
   "execution_count": 3,
   "metadata": {
    "collapsed": true
   },
   "outputs": [],
   "source": [
    "sess = tf.InteractiveSession()  #define a session\n",
    "# Create 100 phony x, y data points in NumPy, y = x * 0.1 + 0.3\n",
    "x_data = np.random.rand(100).astype(\"float32\")\n",
    "y_data = x_data * 0.1 + 0.3\n",
    "\n",
    "# Try to find values for W and b that compute y_data = W * x_data + b\n",
    "# (We know that W should be 0.1 and b 0.3, but Tensorflow will\n",
    "# figure that out for us.)\n",
    "W = tf.Variable(tf.random_uniform([1], -1.0, 1.0))\n",
    "b = tf.Variable(tf.zeros([1]))\n",
    "y = W * x_data + b\n"
   ]
  },
  {
   "cell_type": "code",
   "execution_count": 4,
   "metadata": {
    "collapsed": true
   },
   "outputs": [],
   "source": [
    "# Minimize the mean squared errors.\n",
    "loss = tf.reduce_mean(tf.square(y - y_data))\n",
    "optimizer = tf.train.GradientDescentOptimizer(0.5)\n",
    "train = optimizer.minimize(loss)"
   ]
  },
  {
   "cell_type": "code",
   "execution_count": 6,
   "metadata": {
    "collapsed": false
   },
   "outputs": [],
   "source": [
    "# Before starting, initialize the variables.  We will 'run' this first.\n",
    "init = tf.global_variables_initializer()"
   ]
  },
  {
   "cell_type": "code",
   "execution_count": null,
   "metadata": {
    "collapsed": false
   },
   "outputs": [],
   "source": [
    "# Launch the graph.\n",
    "sess = tf.Session()\n",
    "sess.run(init)\n",
    "\n",
    "#### ----> ADD THIS LINE <---- ####\n",
    "writer = tf.summary.FileWriter(\"/tmp/test-tf\", sess.graph)\n",
    "tf.train.write_graph(sess.graph_def, '/tmp/test-tf', 'graph.pbtxt')\n",
    "\n",
    "print writer\n",
    "# Fit the line.\n",
    "for step in xrange(200):\n",
    "    sess.run(train)\n",
    "    if step % 20 == 0:\n",
    "        print(step, sess.run(W), sess.run(b))\n",
    "\n",
    "# Learns best fit is W: [0.1], b: [0.3]"
   ]
  },
  {
   "cell_type": "code",
   "execution_count": 9,
   "metadata": {
    "collapsed": false
   },
   "outputs": [
    {
     "name": "stdout",
     "output_type": "stream",
     "text": [
      "(0, array([ 0.48463106], dtype=float32), array([ 0.12730293], dtype=float32))\n",
      "(20, array([ 0.19511852], dtype=float32), array([ 0.24992283], dtype=float32))\n",
      "(40, array([ 0.12429867], dtype=float32), array([ 0.28720745], dtype=float32))\n",
      "(60, array([ 0.10620725], dtype=float32), array([ 0.29673207], dtype=float32))\n",
      "(80, array([ 0.10158569], dtype=float32), array([ 0.29916519], dtype=float32))\n",
      "(100, array([ 0.10040507], dtype=float32), array([ 0.29978675], dtype=float32))\n",
      "(120, array([ 0.10010348], dtype=float32), array([ 0.29994553], dtype=float32))\n",
      "(140, array([ 0.10002644], dtype=float32), array([ 0.29998609], dtype=float32))\n",
      "(160, array([ 0.10000677], dtype=float32), array([ 0.29999647], dtype=float32))\n",
      "(180, array([ 0.10000174], dtype=float32), array([ 0.29999912], dtype=float32))\n"
     ]
    }
   ],
   "source": [
    "## You can call the same seesion as below:\n",
    "with tf.Session() as sess:\n",
    "    sess.run(init)\n",
    "    #\n",
    "    # Add the following 2 lines to setup tensorboard session\n",
    "    # After running this cell go to your machine and run the following command\n",
    "    # $ tensorboard --logdir=/tmp/test-tflearn  --port=6006\n",
    "    \n",
    "    writer = tf.summary.FileWriter(\"/tmp/test-tflearn\", sess.graph)\n",
    "    tf.train.write_graph(sess.graph_def, '/tmp/test-tflearn', 'graph.pbtxt')\n",
    "\n",
    "    # fit the function.\n",
    "    for step in xrange(200):\n",
    "        # get your data\n",
    "        sess.run(train)\n",
    "        if step % 20 == 0:\n",
    "            print(step, sess.run(W), sess.run(b))\n"
   ]
  },
  {
   "cell_type": "markdown",
   "metadata": {},
   "source": [
    "**Now open the command prompt and run the following command:**\n",
    "\n",
    "$ tensorboard --logdir=/tmp/test-tflearn  --port=6006"
   ]
  },
  {
   "cell_type": "code",
   "execution_count": null,
   "metadata": {
    "collapsed": true
   },
   "outputs": [],
   "source": []
  }
 ],
 "metadata": {
  "kernelspec": {
   "display_name": "Python 2",
   "language": "python",
   "name": "python2"
  },
  "language_info": {
   "codemirror_mode": {
    "name": "ipython",
    "version": 2
   },
   "file_extension": ".py",
   "mimetype": "text/x-python",
   "name": "python",
   "nbconvert_exporter": "python",
   "pygments_lexer": "ipython2",
   "version": "2.7.12"
  }
 },
 "nbformat": 4,
 "nbformat_minor": 1
}
