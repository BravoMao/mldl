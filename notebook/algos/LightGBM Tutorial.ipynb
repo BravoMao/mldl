{
 "cells": [
  {
   "cell_type": "code",
   "execution_count": 1,
   "metadata": {
    "collapsed": true
   },
   "outputs": [],
   "source": [
    "import json\n",
    "import lightgbm as lgb\n",
    "import pandas as pd\n",
    "from sklearn.metrics import mean_squared_error\n"
   ]
  },
  {
   "cell_type": "code",
   "execution_count": 2,
   "metadata": {
    "collapsed": false
   },
   "outputs": [
    {
     "name": "stdout",
     "output_type": "stream",
     "text": [
      "Load data...\n"
     ]
    }
   ],
   "source": [
    "# load or create your dataset\n",
    "print('Load data...')\n",
    "df_train = pd.read_csv('/Users/avkashchauhan/src/github.com/microsoft/LightGBM/examples/regression/regression.train', header=None, sep='\\t')\n",
    "df_test = pd.read_csv('/Users/avkashchauhan/src/github.com/microsoft/LightGBM/examples/regression/regression.test', header=None, sep='\\t')\n"
   ]
  },
  {
   "cell_type": "code",
   "execution_count": 4,
   "metadata": {
    "collapsed": false
   },
   "outputs": [
    {
     "data": {
      "text/plain": [
       "(7000, 29)"
      ]
     },
     "execution_count": 4,
     "metadata": {},
     "output_type": "execute_result"
    }
   ],
   "source": [
    "df_train.shape"
   ]
  },
  {
   "cell_type": "code",
   "execution_count": 5,
   "metadata": {
    "collapsed": false
   },
   "outputs": [
    {
     "data": {
      "text/plain": [
       "(500, 29)"
      ]
     },
     "execution_count": 5,
     "metadata": {},
     "output_type": "execute_result"
    }
   ],
   "source": [
    "df_test.shape"
   ]
  },
  {
   "cell_type": "code",
   "execution_count": 6,
   "metadata": {
    "collapsed": true
   },
   "outputs": [],
   "source": [
    "y_train = df_train[0]\n",
    "y_test = df_test[0]\n",
    "X_train = df_train.drop(0, axis=1)\n",
    "X_test = df_test.drop(0, axis=1)\n"
   ]
  },
  {
   "cell_type": "code",
   "execution_count": 8,
   "metadata": {
    "collapsed": false
   },
   "outputs": [
    {
     "data": {
      "text/plain": [
       "(7000,)"
      ]
     },
     "execution_count": 8,
     "metadata": {},
     "output_type": "execute_result"
    }
   ],
   "source": [
    "y_train.shape"
   ]
  },
  {
   "cell_type": "code",
   "execution_count": 10,
   "metadata": {
    "collapsed": false
   },
   "outputs": [
    {
     "data": {
      "text/plain": [
       "(7000, 28)"
      ]
     },
     "execution_count": 10,
     "metadata": {},
     "output_type": "execute_result"
    }
   ],
   "source": [
    "X_train.shape"
   ]
  },
  {
   "cell_type": "code",
   "execution_count": 11,
   "metadata": {
    "collapsed": false
   },
   "outputs": [
    {
     "data": {
      "text/plain": [
       "(500, 28)"
      ]
     },
     "execution_count": 11,
     "metadata": {},
     "output_type": "execute_result"
    }
   ],
   "source": [
    "X_test.shape"
   ]
  },
  {
   "cell_type": "code",
   "execution_count": 12,
   "metadata": {
    "collapsed": true
   },
   "outputs": [],
   "source": [
    "# create dataset for lightgbm\n",
    "lgb_train = lgb.Dataset(X_train, y_train)\n",
    "lgb_eval = lgb.Dataset(X_test, y_test, reference=lgb_train)\n",
    "\n"
   ]
  },
  {
   "cell_type": "code",
   "execution_count": 18,
   "metadata": {
    "collapsed": false
   },
   "outputs": [],
   "source": [
    "# specify your configurations as a dict\n",
    "params = {\n",
    "    'task': 'train',\n",
    "    'boosting_type': 'gbdt',\n",
    "    'objective': 'regression',\n",
    "    'metric': {'l2', 'auc'},\n",
    "    'num_leaves': 31,\n",
    "    'learning_rate': 0.05,\n",
    "    'feature_fraction': 0.9,\n",
    "    'bagging_fraction': 0.8,\n",
    "    'bagging_freq': 5,\n",
    "    'verbose': 0\n",
    "}"
   ]
  },
  {
   "cell_type": "code",
   "execution_count": 19,
   "metadata": {
    "collapsed": false
   },
   "outputs": [
    {
     "data": {
      "text/plain": [
       "{'bagging_fraction': 0.8,\n",
       " 'bagging_freq': 5,\n",
       " 'boosting_type': 'gbdt',\n",
       " 'feature_fraction': 0.9,\n",
       " 'learning_rate': 0.05,\n",
       " 'metric': {'auc', 'l2'},\n",
       " 'num_leaves': 31,\n",
       " 'objective': 'regression',\n",
       " 'task': 'train',\n",
       " 'verbose': 0}"
      ]
     },
     "execution_count": 19,
     "metadata": {},
     "output_type": "execute_result"
    }
   ],
   "source": [
    "params"
   ]
  },
  {
   "cell_type": "code",
   "execution_count": 21,
   "metadata": {
    "collapsed": false
   },
   "outputs": [
    {
     "name": "stdout",
     "output_type": "stream",
     "text": [
      "Start training...\n",
      "[1]\tvalid_0's l2: 0.71477\tvalid_0's auc: 0.755458\n",
      "Train until valid scores didn't improve in 5 rounds.\n",
      "[2]\tvalid_0's l2: 0.69441\tvalid_0's auc: 0.745243\n",
      "[3]\tvalid_0's l2: 0.675223\tvalid_0's auc: 0.769842\n",
      "[4]\tvalid_0's l2: 0.656313\tvalid_0's auc: 0.780557\n",
      "[5]\tvalid_0's l2: 0.639\tvalid_0's auc: 0.783927\n",
      "[6]\tvalid_0's l2: 0.623967\tvalid_0's auc: 0.779936\n",
      "[7]\tvalid_0's l2: 0.609924\tvalid_0's auc: 0.788127\n",
      "[8]\tvalid_0's l2: 0.596133\tvalid_0's auc: 0.793279\n",
      "[9]\tvalid_0's l2: 0.583548\tvalid_0's auc: 0.795351\n",
      "[10]\tvalid_0's l2: 0.571882\tvalid_0's auc: 0.79544\n",
      "[11]\tvalid_0's l2: 0.561026\tvalid_0's auc: 0.795271\n",
      "[12]\tvalid_0's l2: 0.551058\tvalid_0's auc: 0.795279\n",
      "[13]\tvalid_0's l2: 0.541681\tvalid_0's auc: 0.79436\n",
      "[14]\tvalid_0's l2: 0.533475\tvalid_0's auc: 0.793319\n",
      "[15]\tvalid_0's l2: 0.52547\tvalid_0's auc: 0.793586\n",
      "Early stopping, best iteration is:\n",
      "[10]\tvalid_0's l2: 0.571882\tvalid_0's auc: 0.79544\n"
     ]
    },
    {
     "name": "stderr",
     "output_type": "stream",
     "text": [
      "/Library/Python/2.7/site-packages/lightgbm-0.1-py2.7.egg/lightgbm/engine.py:163: UserWarning: Using Pandas (default) integer column names, not column indexes. You can use indexes with DataFrame.values.\n",
      "  booster = Booster(params=params, train_set=train_set)\n"
     ]
    }
   ],
   "source": [
    "print('Start training...')\n",
    "# train\n",
    "gbm = lgb.train(params,\n",
    "                lgb_train,\n",
    "                num_boost_round=20,\n",
    "                valid_sets=lgb_eval,\n",
    "                early_stopping_rounds=5)\n"
   ]
  },
  {
   "cell_type": "code",
   "execution_count": 22,
   "metadata": {
    "collapsed": false
   },
   "outputs": [
    {
     "name": "stdout",
     "output_type": "stream",
     "text": [
      "Start predicting...\n",
      "('The rmse of prediction is:', 0.57188207350333087)\n"
     ]
    },
    {
     "name": "stderr",
     "output_type": "stream",
     "text": [
      "/Library/Python/2.7/site-packages/IPython/core/interactiveshell.py:2881: UserWarning: Using Pandas (default) integer column names, not column indexes. You can use indexes with DataFrame.values.\n",
      "  exec(code_obj, self.user_global_ns, self.user_ns)\n"
     ]
    }
   ],
   "source": [
    "print('Start predicting...')\n",
    "# predict\n",
    "y_pred = gbm.predict(X_test, num_iteration=gbm.best_iteration)\n",
    "# eval\n",
    "print('The rmse of prediction is:', mean_squared_error(y_test, y_pred) ** 0.5)\n"
   ]
  },
  {
   "cell_type": "code",
   "execution_count": 29,
   "metadata": {
    "collapsed": false
   },
   "outputs": [
    {
     "name": "stdout",
     "output_type": "stream",
     "text": [
      "Dump model to JSON as : lightgbm_model.json\n",
      "Above lightgbm_model.json file is saved at your local file system, mostly where jupyter notebook started\n"
     ]
    }
   ],
   "source": [
    "print('Dump model to JSON as : lightgbm_model.json')\n",
    "# dump model to json (and save to file)\n",
    "model_json = gbm.dump_model()\n",
    "\n",
    "with open('lightgbm_model.json', 'w+') as f:\n",
    "    json.dump(model_json, f, indent=4)\n",
    "\n",
    "print('Above lightgbm_model.json file is saved at your local file system, mostly where jupyter notebook started')    "
   ]
  },
  {
   "cell_type": "code",
   "execution_count": 26,
   "metadata": {
    "collapsed": false
   },
   "outputs": [
    {
     "name": "stdout",
     "output_type": "stream",
     "text": [
      "Feature Importance Results:\n",
      "('Feature names:', [u'1', u'2', u'3', u'4', u'5', u'6', u'7', u'8', u'9', u'10', u'11', u'12', u'13', u'14', u'15', u'16', u'17', u'18', u'19', u'20', u'21', u'22', u'23', u'24', u'25', u'26', u'27', u'28'])\n",
      "Calculate feature importances...\n",
      "('Feature importances:', [10, 2, 2, 15, 3, 34, 1, 0, 2, 18, 0, 2, 1, 7, 3, 2, 0, 1, 5, 3, 1, 13, 36, 1, 25, 47, 34, 32])\n"
     ]
    }
   ],
   "source": [
    "print('Feature Importance Results:')\n",
    "print('Feature names:', gbm.feature_name())\n",
    "print('Calculate feature importances...')\n",
    "# feature importances\n",
    "print('Feature importances:', list(gbm.feature_importance()))"
   ]
  },
  {
   "cell_type": "code",
   "execution_count": 28,
   "metadata": {
    "collapsed": false
   },
   "outputs": [
    {
     "name": "stdout",
     "output_type": "stream",
     "text": [
      "Save model...\n",
      "Above lightgbm_model.txt file is saved at your local file system, mostly where jupyter notebook started\n"
     ]
    }
   ],
   "source": [
    "print('Save model...')\n",
    "# save model to file\n",
    "gbm.save_model('lightgbm_model.txt')\n",
    "print('Above lightgbm_model.txt file is saved at your local file system, mostly where jupyter notebook started')    "
   ]
  },
  {
   "cell_type": "code",
   "execution_count": null,
   "metadata": {
    "collapsed": true
   },
   "outputs": [],
   "source": []
  }
 ],
 "metadata": {
  "kernelspec": {
   "display_name": "Python 2",
   "language": "python",
   "name": "python2"
  },
  "language_info": {
   "codemirror_mode": {
    "name": "ipython",
    "version": 2
   },
   "file_extension": ".py",
   "mimetype": "text/x-python",
   "name": "python",
   "nbconvert_exporter": "python",
   "pygments_lexer": "ipython2",
   "version": "2.7.10"
  }
 },
 "nbformat": 4,
 "nbformat_minor": 1
}
