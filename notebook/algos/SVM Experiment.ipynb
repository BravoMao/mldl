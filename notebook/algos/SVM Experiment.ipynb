{
 "cells": [
  {
   "cell_type": "code",
   "execution_count": 1,
   "metadata": {
    "collapsed": true
   },
   "outputs": [],
   "source": [
    "# Data driven farmer goes to the Rodeo\n",
    "\n",
    "import numpy as np\n",
    "import pylab as pl\n",
    "from sklearn import svm\n",
    "from sklearn import linear_model\n",
    "from sklearn import tree\n",
    "import pandas as pd\n"
   ]
  },
  {
   "cell_type": "code",
   "execution_count": 2,
   "metadata": {
    "collapsed": true
   },
   "outputs": [],
   "source": [
    "def plot_results_with_hyperplane(clf, clf_name, df, plt_nmbr):\n",
    "    x_min, x_max = df.x.min() - .5, df.x.max() + .5\n",
    "    y_min, y_max = df.y.min() - .5, df.y.max() + .5\n",
    "\n",
    "    # step between points. i.e. [0, 0.02, 0.04, ...]\n",
    "    step = .02\n",
    "    # to plot the boundary, we're going to create a matrix of every possible point\n",
    "    # then label each point as a wolf or cow using our classifier\n",
    "    xx, yy = np.meshgrid(np.arange(x_min, x_max, step), np.arange(y_min, y_max, step))\n",
    "    Z = clf.predict(np.c_[xx.ravel(), yy.ravel()])\n",
    "    # this gets our predictions back into a matrix\n",
    "    Z = Z.reshape(xx.shape)\n",
    "\n",
    "    # create a subplot (we're going to have more than 1 plot on a given image)\n",
    "    pl.subplot(2, 2, plt_nmbr)\n",
    "    # plot the boundaries\n",
    "    pl.pcolormesh(xx, yy, Z, cmap=pl.cm.Paired)\n",
    "\n",
    "    # plot the wolves and cows\n",
    "    for animal in df.animal.unique():\n",
    "        pl.scatter(df[df.animal==animal].x,\n",
    "                   df[df.animal==animal].y,\n",
    "                   marker=animal,\n",
    "                   label=\"cows\" if animal==\"x\" else \"wolves\",\n",
    "                   color='black')\n",
    "    pl.title(clf_name)\n",
    "    pl.legend(loc=\"best\")\n"
   ]
  },
  {
   "cell_type": "code",
   "execution_count": 18,
   "metadata": {
    "collapsed": false
   },
   "outputs": [
    {
     "name": "stdout",
     "output_type": "stream",
     "text": [
      "[['  o', '', 'o', '', 'o', ''], ['', 'o', '', ' ', 'x', '', ''], ['o', '', '', 'x', 'x', 'x', ''], ['', '', '', 'x', '', '', 'o'], ['', '', '', 'x', 'x', 'x', 'o'], ['', '', 'x', '', '', '', ''], ['', '', '', '', 'o', '', 'o'], ['', '', 'o', '', '', '', ''], ['', '', '', '', '', '', '']]\n"
     ]
    }
   ],
   "source": [
    "# Source: https://gist.githubusercontent.com/glamp/4365660/raw/474658c2c5a8bb763c50278c810d45a27bd21c7e/cows_and_wolves.txt\n",
    "import urllib2\n",
    "target_url = \"https://gist.githubusercontent.com/glamp/4365660/raw/474658c2c5a8bb763c50278c810d45a27bd21c7e/cows_and_wolves.txt\"\n",
    "data = urllib2.urlopen(target_url)\n",
    "temp = \"\"\n",
    "for line in data: # files are iterable\n",
    "    temp = temp + line\n",
    "#data = open(\"cows_and_wolves.txt\").read()\n",
    "# print (temp)\n",
    "data = [row.split('\\t') for row in temp.split('\\n')]\n",
    "# print data.shape\n",
    "print (data)"
   ]
  },
  {
   "cell_type": "code",
   "execution_count": 19,
   "metadata": {
    "collapsed": true
   },
   "outputs": [],
   "source": [
    "animals = []\n",
    "for y, row in enumerate(data):\n",
    "    for x, item in enumerate(row):\n",
    "        # x's are cows, o's are wolves\n",
    "        if item in ['o', 'x']:\n",
    "            animals.append([x, y, item])"
   ]
  },
  {
   "cell_type": "code",
   "execution_count": 22,
   "metadata": {
    "collapsed": false
   },
   "outputs": [
    {
     "data": {
      "text/plain": [
       "[[2, 0, 'o'],\n",
       " [4, 0, 'o'],\n",
       " [1, 1, 'o'],\n",
       " [4, 1, 'x'],\n",
       " [0, 2, 'o'],\n",
       " [3, 2, 'x'],\n",
       " [4, 2, 'x'],\n",
       " [5, 2, 'x'],\n",
       " [3, 3, 'x'],\n",
       " [6, 3, 'o'],\n",
       " [3, 4, 'x'],\n",
       " [4, 4, 'x'],\n",
       " [5, 4, 'x'],\n",
       " [6, 4, 'o'],\n",
       " [2, 5, 'x'],\n",
       " [4, 6, 'o'],\n",
       " [6, 6, 'o'],\n",
       " [2, 7, 'o']]"
      ]
     },
     "execution_count": 22,
     "metadata": {},
     "output_type": "execute_result"
    }
   ],
   "source": [
    "animals"
   ]
  },
  {
   "cell_type": "code",
   "execution_count": 23,
   "metadata": {
    "collapsed": true
   },
   "outputs": [],
   "source": [
    "df = pd.DataFrame(animals, columns=[\"x\", \"y\", \"animal\"])\n",
    "df['animal_type'] = df.animal.apply(lambda x: 0 if x==\"x\" else 1)\n"
   ]
  },
  {
   "cell_type": "code",
   "execution_count": 24,
   "metadata": {
    "collapsed": false
   },
   "outputs": [
    {
     "data": {
      "text/html": [
       "<div>\n",
       "<table border=\"1\" class=\"dataframe\">\n",
       "  <thead>\n",
       "    <tr style=\"text-align: right;\">\n",
       "      <th></th>\n",
       "      <th>x</th>\n",
       "      <th>y</th>\n",
       "      <th>animal</th>\n",
       "      <th>animal_type</th>\n",
       "    </tr>\n",
       "  </thead>\n",
       "  <tbody>\n",
       "    <tr>\n",
       "      <th>0</th>\n",
       "      <td>2</td>\n",
       "      <td>0</td>\n",
       "      <td>o</td>\n",
       "      <td>1</td>\n",
       "    </tr>\n",
       "    <tr>\n",
       "      <th>1</th>\n",
       "      <td>4</td>\n",
       "      <td>0</td>\n",
       "      <td>o</td>\n",
       "      <td>1</td>\n",
       "    </tr>\n",
       "    <tr>\n",
       "      <th>2</th>\n",
       "      <td>1</td>\n",
       "      <td>1</td>\n",
       "      <td>o</td>\n",
       "      <td>1</td>\n",
       "    </tr>\n",
       "    <tr>\n",
       "      <th>3</th>\n",
       "      <td>4</td>\n",
       "      <td>1</td>\n",
       "      <td>x</td>\n",
       "      <td>0</td>\n",
       "    </tr>\n",
       "    <tr>\n",
       "      <th>4</th>\n",
       "      <td>0</td>\n",
       "      <td>2</td>\n",
       "      <td>o</td>\n",
       "      <td>1</td>\n",
       "    </tr>\n",
       "    <tr>\n",
       "      <th>5</th>\n",
       "      <td>3</td>\n",
       "      <td>2</td>\n",
       "      <td>x</td>\n",
       "      <td>0</td>\n",
       "    </tr>\n",
       "    <tr>\n",
       "      <th>6</th>\n",
       "      <td>4</td>\n",
       "      <td>2</td>\n",
       "      <td>x</td>\n",
       "      <td>0</td>\n",
       "    </tr>\n",
       "    <tr>\n",
       "      <th>7</th>\n",
       "      <td>5</td>\n",
       "      <td>2</td>\n",
       "      <td>x</td>\n",
       "      <td>0</td>\n",
       "    </tr>\n",
       "    <tr>\n",
       "      <th>8</th>\n",
       "      <td>3</td>\n",
       "      <td>3</td>\n",
       "      <td>x</td>\n",
       "      <td>0</td>\n",
       "    </tr>\n",
       "    <tr>\n",
       "      <th>9</th>\n",
       "      <td>6</td>\n",
       "      <td>3</td>\n",
       "      <td>o</td>\n",
       "      <td>1</td>\n",
       "    </tr>\n",
       "    <tr>\n",
       "      <th>10</th>\n",
       "      <td>3</td>\n",
       "      <td>4</td>\n",
       "      <td>x</td>\n",
       "      <td>0</td>\n",
       "    </tr>\n",
       "    <tr>\n",
       "      <th>11</th>\n",
       "      <td>4</td>\n",
       "      <td>4</td>\n",
       "      <td>x</td>\n",
       "      <td>0</td>\n",
       "    </tr>\n",
       "    <tr>\n",
       "      <th>12</th>\n",
       "      <td>5</td>\n",
       "      <td>4</td>\n",
       "      <td>x</td>\n",
       "      <td>0</td>\n",
       "    </tr>\n",
       "    <tr>\n",
       "      <th>13</th>\n",
       "      <td>6</td>\n",
       "      <td>4</td>\n",
       "      <td>o</td>\n",
       "      <td>1</td>\n",
       "    </tr>\n",
       "    <tr>\n",
       "      <th>14</th>\n",
       "      <td>2</td>\n",
       "      <td>5</td>\n",
       "      <td>x</td>\n",
       "      <td>0</td>\n",
       "    </tr>\n",
       "    <tr>\n",
       "      <th>15</th>\n",
       "      <td>4</td>\n",
       "      <td>6</td>\n",
       "      <td>o</td>\n",
       "      <td>1</td>\n",
       "    </tr>\n",
       "    <tr>\n",
       "      <th>16</th>\n",
       "      <td>6</td>\n",
       "      <td>6</td>\n",
       "      <td>o</td>\n",
       "      <td>1</td>\n",
       "    </tr>\n",
       "    <tr>\n",
       "      <th>17</th>\n",
       "      <td>2</td>\n",
       "      <td>7</td>\n",
       "      <td>o</td>\n",
       "      <td>1</td>\n",
       "    </tr>\n",
       "  </tbody>\n",
       "</table>\n",
       "</div>"
      ],
      "text/plain": [
       "    x  y animal  animal_type\n",
       "0   2  0      o            1\n",
       "1   4  0      o            1\n",
       "2   1  1      o            1\n",
       "3   4  1      x            0\n",
       "4   0  2      o            1\n",
       "5   3  2      x            0\n",
       "6   4  2      x            0\n",
       "7   5  2      x            0\n",
       "8   3  3      x            0\n",
       "9   6  3      o            1\n",
       "10  3  4      x            0\n",
       "11  4  4      x            0\n",
       "12  5  4      x            0\n",
       "13  6  4      o            1\n",
       "14  2  5      x            0\n",
       "15  4  6      o            1\n",
       "16  6  6      o            1\n",
       "17  2  7      o            1"
      ]
     },
     "execution_count": 24,
     "metadata": {},
     "output_type": "execute_result"
    }
   ],
   "source": [
    "df"
   ]
  },
  {
   "cell_type": "code",
   "execution_count": 25,
   "metadata": {
    "collapsed": true
   },
   "outputs": [],
   "source": [
    "# train using the x and y position coordiantes\n",
    "train_cols = [\"x\", \"y\"]\n"
   ]
  },
  {
   "cell_type": "code",
   "execution_count": 26,
   "metadata": {
    "collapsed": true
   },
   "outputs": [],
   "source": [
    "clfs = {\n",
    "    \"SVM\": svm.SVC(),\n",
    "    \"Logistic\" : linear_model.LogisticRegression(),\n",
    "    \"Decision Tree\": tree.DecisionTreeClassifier(),\n",
    "}"
   ]
  },
  {
   "cell_type": "code",
   "execution_count": 27,
   "metadata": {
    "collapsed": false
   },
   "outputs": [
    {
     "name": "stderr",
     "output_type": "stream",
     "text": [
      "/System/Library/Frameworks/Python.framework/Versions/2.7/Extras/lib/python/matplotlib/collections.py:548: FutureWarning: elementwise comparison failed; returning scalar instead, but in the future will perform elementwise comparison\n",
      "  if self._edgecolors == 'face':\n"
     ]
    }
   ],
   "source": [
    "plt_nmbr = 1\n",
    "for clf_name, clf in clfs.iteritems():\n",
    "    clf.fit(df[train_cols], df.animal_type)\n",
    "    plot_results_with_hyperplane(clf, clf_name, df, plt_nmbr)\n",
    "    plt_nmbr += 1\n",
    "pl.show()"
   ]
  },
  {
   "cell_type": "code",
   "execution_count": null,
   "metadata": {
    "collapsed": true
   },
   "outputs": [],
   "source": []
  }
 ],
 "metadata": {
  "kernelspec": {
   "display_name": "Python 2",
   "language": "python",
   "name": "python2"
  },
  "language_info": {
   "codemirror_mode": {
    "name": "ipython",
    "version": 2
   },
   "file_extension": ".py",
   "mimetype": "text/x-python",
   "name": "python",
   "nbconvert_exporter": "python",
   "pygments_lexer": "ipython2",
   "version": "2.7.10"
  }
 },
 "nbformat": 4,
 "nbformat_minor": 1
}
