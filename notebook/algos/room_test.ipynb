{
 "cells": [
  {
   "cell_type": "code",
   "execution_count": 1,
   "metadata": {
    "collapsed": false
   },
   "outputs": [],
   "source": [
    "import numpy as np  \n",
    "import tensorflow as tf\n",
    "import matplotlib\n",
    "import matplotlib.pyplot as plt\n",
    "%matplotlib inline"
   ]
  },
  {
   "cell_type": "code",
   "execution_count": 2,
   "metadata": {
    "collapsed": true
   },
   "outputs": [],
   "source": [
    "import csv\n",
    "\n",
    "def load_data(filename):\n",
    "    x=[]\n",
    "    target=[]\n",
    "    a=[]\n",
    "    with open(filename) as csv_file:\n",
    "        data_file = csv.reader(csv_file)\n",
    "        for row in data_file:\n",
    "            a.append(row)\n",
    "    print a[0]\n",
    "    np_a=np.array(a)\n",
    "    x=np_a[1:,:-1].astype(np.float32)  #read after first row\n",
    "    target=np_a[1:,-1].astype(np.float32)\n",
    "    return x, target"
   ]
  },
  {
   "cell_type": "code",
   "execution_count": 3,
   "metadata": {
    "collapsed": false
   },
   "outputs": [
    {
     "name": "stdout",
     "output_type": "stream",
     "text": [
      "['Temperature', 'Humidity', 'Light', 'CO2', 'HumidityRatio', 'Occupancy']\n"
     ]
    }
   ],
   "source": [
    "X, y=load_data('train.csv')"
   ]
  },
  {
   "cell_type": "code",
   "execution_count": 4,
   "metadata": {
    "collapsed": false
   },
   "outputs": [
    {
     "name": "stdout",
     "output_type": "stream",
     "text": [
      "8143\n",
      "8143\n"
     ]
    }
   ],
   "source": [
    "print len(X)\n",
    "print len(y)"
   ]
  },
  {
   "cell_type": "code",
   "execution_count": 5,
   "metadata": {
    "collapsed": false
   },
   "outputs": [
    {
     "name": "stdout",
     "output_type": "stream",
     "text": [
      "['Temperature', 'Humidity', 'Light', 'CO2', 'HumidityRatio', 'Occupancy']\n"
     ]
    }
   ],
   "source": [
    "X_test, y_test=load_data('test.csv')"
   ]
  },
  {
   "cell_type": "code",
   "execution_count": 16,
   "metadata": {
    "collapsed": false
   },
   "outputs": [
    {
     "name": "stdout",
     "output_type": "stream",
     "text": [
      "2665\n",
      "2665\n"
     ]
    }
   ],
   "source": [
    "print len(X_test)\n",
    "print len(y_test)"
   ]
  },
  {
   "cell_type": "code",
   "execution_count": 6,
   "metadata": {
    "collapsed": false
   },
   "outputs": [
    {
     "name": "stdout",
     "output_type": "stream",
     "text": [
      "[  2.31800003e+01   2.72719994e+01   4.26000000e+02   7.21250000e+02\n",
      "   4.79298783e-03]\n"
     ]
    }
   ],
   "source": [
    "print X[0]"
   ]
  },
  {
   "cell_type": "code",
   "execution_count": 7,
   "metadata": {
    "collapsed": false
   },
   "outputs": [
    {
     "name": "stdout",
     "output_type": "stream",
     "text": [
      "8143\n",
      "5\n",
      "2665\n"
     ]
    }
   ],
   "source": [
    "#*** Inspect data\n",
    "n_samples=len(X)\n",
    "n_features = len(X[0])\n",
    "print n_samples\n",
    "print n_features\n",
    "\n",
    "n_samples_test = len(X_test)\n",
    "print n_samples_test\n"
   ]
  },
  {
   "cell_type": "code",
   "execution_count": 8,
   "metadata": {
    "collapsed": false
   },
   "outputs": [
    {
     "name": "stdout",
     "output_type": "stream",
     "text": [
      "[ 1.  1.  1. ...,  1.  1.  1.]\n"
     ]
    }
   ],
   "source": [
    "print y"
   ]
  },
  {
   "cell_type": "code",
   "execution_count": 12,
   "metadata": {
    "collapsed": false
   },
   "outputs": [
    {
     "name": "stdout",
     "output_type": "stream",
     "text": [
      "[[-0.83215612]\n",
      " [-0.33642992]\n",
      " [ 0.32360554]\n",
      " [-0.46921009]\n",
      " [ 0.00595133]]\n",
      "[[-0.83215612]\n",
      " [-0.33642992]\n",
      " [ 0.32360554]\n",
      " [-0.46921009]\n",
      " [ 0.00595133]]\n",
      "Accuracy = 63.564727955%\n",
      "Sensitivity = 0.102880658436%\n",
      "Specificity = 100.0%\n"
     ]
    }
   ],
   "source": [
    "# Training\n",
    "losses = []\n",
    "losses_test = []\n",
    "training_steps = 200\n",
    "learning_rate = 0.002\n",
    "\n",
    "with tf.Session() as sess:\n",
    "  # Set up all the tensors, variables, and operations.\n",
    "  input = tf.constant(X)\n",
    "  target = tf.constant(np.transpose([y]).astype(np.float32))\n",
    "  # print target.eval()\n",
    "  xx = tf.random_normal([5, 1], 0, 0.1)\n",
    "  weights = tf.Variable(xx)\n",
    "    \n",
    "  # print X.max(axis=1)\n",
    "\n",
    "  tf.initialize_all_variables().run()\n",
    "  # print(weights.eval())\n",
    "                      \n",
    "  yhat = tf.matmul(input, weights)\n",
    "  \n",
    "  #yhatS = tf.sigmoid(yhat)\n",
    "    \n",
    "  # yerror = tf.sub(yhat, target)\n",
    "  #loss = tf.nn.l2_loss(yerror)\n",
    "  #loss = tf.nn.softmax(yhat,yerror)\n",
    "  loss = tf.reduce_mean( tf.nn.sigmoid_cross_entropy_with_logits(yhat, target) )\n",
    "                                                \n",
    "  update_weights = tf.train.GradientDescentOptimizer(learning_rate).minimize(loss)\n",
    "  \n",
    "  for _ in range(training_steps):\n",
    "    update_weights.run()\n",
    "    losses.append(loss.eval())\n",
    "    # print _  #It takes on value from 0 to 49\n",
    "    # print losses  #this shows losses array keep increasing in size: [18] , [18, 13],...\n",
    "    # print losses[-1]\n",
    "    # print loss.eval()\n",
    "\n",
    "  # Training is done, get the final values for the graphs\n",
    "  betas = weights.eval()\n",
    "  yhat = yhat.eval()\n",
    "  print betas\n",
    "\n",
    "  # Testing\n",
    "  input_test = tf.constant(X_test)\n",
    "  target_test = tf.constant(np.transpose([y_test]).astype(np.float32))\n",
    "  # print target.eval()\n",
    "  weights = tf.Variable(betas)\n",
    "\n",
    "  # bestBetas = np.transpose([-0.56908154, -0.43243277, 0.38995218, -0.05960743, 0.01064102]);\n",
    "  # print bestBetas\n",
    "  # weights = tf.Variable(bestBetas);\n",
    "    \n",
    "  yhat_test = tf.matmul(input_test, weights)\n",
    "  # print X.max(axis=1) \n",
    "    \n",
    "  yerror = tf.sub(yhat_test, target_test)\n",
    "\n",
    "  tf.initialize_all_variables().run()\n",
    "    \n",
    "  print weights.eval()\n",
    "  # print yhat_test.eval()\n",
    "  # print target_test.eval()\n",
    "  loss = tf.reduce_mean( tf.nn.sigmoid_cross_entropy_with_logits(yhat_test, target_test) )\n",
    "  # print loss.eval()\n",
    "    \n",
    "  yhat_testS = tf.sigmoid( yhat_test )\n",
    "    \n",
    "  TP = 0\n",
    "  FP = 0\n",
    "  FN = 0\n",
    "  TN = 0\n",
    "#  for i in range(0, len(y_test)):\n",
    "#     print '{}: obs: {} pred:{}'.format(i, target_test.eval()[i], yhat_testS.eval()[i] )\n",
    "   \n",
    "  for i in range(0, len(y_test)):\n",
    "    if target_test.eval()[i]==1:\n",
    "      if yhat_testS.eval()[i]>0.5:\n",
    "        TP = TP + 1;\n",
    "      else:\n",
    "        FN = FN + 1;    \n",
    "        \n",
    "    if target_test.eval()[i]==0:\n",
    "      if yhat_testS.eval()[i]>0.5:\n",
    "        FP = FP + 1;\n",
    "      else:\n",
    "        TN = TN + 1;\n",
    "                \n",
    "\n",
    " #      \n",
    " #    if target_test.eval()[i]==1 & yhat_testS.eval()[i]>0.5:\n",
    " #      TP = TP + 1;\n",
    " #    elif target_test.eval()[i]==0 & yhat_testS.eval()[i]<0.5:\n",
    " #      TN = TN + 1;\n",
    " #    elif target_test.eval()[i]==1 & yhat_testS.eval()[i]<0.5:\n",
    " #      FN = FN + 1;\n",
    " #    elif target_test.eval()[i]==0 & yhat_testS.eval()[i]>0.5:\n",
    " #      FP = FP + 1;\n",
    " \n",
    "  accuracy = float((TP+TN))/len(y_test)\n",
    "  sensitivity = float(TP)/(TP+FN)\n",
    "  specificity = float(TN)/(TN+FP)\n",
    "  print 'Accuracy = {}%'.format(accuracy*100.) \n",
    "  print 'Sensitivity = {}%'.format(sensitivity*100.) \n",
    "  print 'Specificity = {}%'.format(specificity*100.) \n",
    "    \n",
    "\n",
    "  \n",
    "\n"
   ]
  },
  {
   "cell_type": "code",
   "execution_count": null,
   "metadata": {
    "collapsed": false
   },
   "outputs": [],
   "source": []
  },
  {
   "cell_type": "code",
   "execution_count": null,
   "metadata": {
    "collapsed": true
   },
   "outputs": [],
   "source": []
  },
  {
   "cell_type": "code",
   "execution_count": null,
   "metadata": {
    "collapsed": true
   },
   "outputs": [],
   "source": []
  },
  {
   "cell_type": "code",
   "execution_count": null,
   "metadata": {
    "collapsed": true
   },
   "outputs": [],
   "source": []
  }
 ],
 "metadata": {
  "kernelspec": {
   "display_name": "Python 2",
   "language": "python",
   "name": "python2"
  },
  "language_info": {
   "codemirror_mode": {
    "name": "ipython",
    "version": 2
   },
   "file_extension": ".py",
   "mimetype": "text/x-python",
   "name": "python",
   "nbconvert_exporter": "python",
   "pygments_lexer": "ipython2",
   "version": "2.7.10"
  }
 },
 "nbformat": 4,
 "nbformat_minor": 0
}
