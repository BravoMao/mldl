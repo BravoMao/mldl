{
 "cells": [
  {
   "cell_type": "code",
   "execution_count": 1,
   "metadata": {
    "collapsed": true
   },
   "outputs": [],
   "source": [
    "###: Importing H2O Library"
   ]
  },
  {
   "cell_type": "code",
   "execution_count": 2,
   "metadata": {
    "collapsed": true
   },
   "outputs": [],
   "source": [
    "import h2o"
   ]
  },
  {
   "cell_type": "code",
   "execution_count": 3,
   "metadata": {
    "collapsed": true
   },
   "outputs": [],
   "source": [
    "### : Initializing h2O"
   ]
  },
  {
   "cell_type": "code",
   "execution_count": 4,
   "metadata": {},
   "outputs": [
    {
     "name": "stderr",
     "output_type": "stream",
     "text": [
      "ERROR:h2o:Key init.version_check is not a valid config key\n"
     ]
    },
    {
     "name": "stdout",
     "output_type": "stream",
     "text": [
      "Checking whether there is an H2O instance running at http://localhost:54321. connected.\n"
     ]
    },
    {
     "data": {
      "text/html": [
       "<div style=\"overflow:auto\"><table style=\"width:50%\"><tr><td>H2O cluster uptime:</td>\n",
       "<td>2 hours 9 mins</td></tr>\n",
       "<tr><td>H2O cluster version:</td>\n",
       "<td>3.14.0.7</td></tr>\n",
       "<tr><td>H2O cluster version age:</td>\n",
       "<td>26 days </td></tr>\n",
       "<tr><td>H2O cluster name:</td>\n",
       "<td>H2O_from_python_avkashchauhan_8r3asb</td></tr>\n",
       "<tr><td>H2O cluster total nodes:</td>\n",
       "<td>1</td></tr>\n",
       "<tr><td>H2O cluster free memory:</td>\n",
       "<td>3.263 Gb</td></tr>\n",
       "<tr><td>H2O cluster total cores:</td>\n",
       "<td>8</td></tr>\n",
       "<tr><td>H2O cluster allowed cores:</td>\n",
       "<td>8</td></tr>\n",
       "<tr><td>H2O cluster status:</td>\n",
       "<td>locked, healthy</td></tr>\n",
       "<tr><td>H2O connection url:</td>\n",
       "<td>http://localhost:54321</td></tr>\n",
       "<tr><td>H2O connection proxy:</td>\n",
       "<td>None</td></tr>\n",
       "<tr><td>H2O internal security:</td>\n",
       "<td>False</td></tr>\n",
       "<tr><td>H2O API Extensions:</td>\n",
       "<td>XGBoost, Algos, AutoML, Core V3, Core V4</td></tr>\n",
       "<tr><td>Python version:</td>\n",
       "<td>2.7.13 final</td></tr></table></div>"
      ],
      "text/plain": [
       "--------------------------  ----------------------------------------\n",
       "H2O cluster uptime:         2 hours 9 mins\n",
       "H2O cluster version:        3.14.0.7\n",
       "H2O cluster version age:    26 days\n",
       "H2O cluster name:           H2O_from_python_avkashchauhan_8r3asb\n",
       "H2O cluster total nodes:    1\n",
       "H2O cluster free memory:    3.263 Gb\n",
       "H2O cluster total cores:    8\n",
       "H2O cluster allowed cores:  8\n",
       "H2O cluster status:         locked, healthy\n",
       "H2O connection url:         http://localhost:54321\n",
       "H2O connection proxy:\n",
       "H2O internal security:      False\n",
       "H2O API Extensions:         XGBoost, Algos, AutoML, Core V3, Core V4\n",
       "Python version:             2.7.13 final\n",
       "--------------------------  ----------------------------------------"
      ]
     },
     "metadata": {},
     "output_type": "display_data"
    }
   ],
   "source": [
    "h2o.init()"
   ]
  },
  {
   "cell_type": "code",
   "execution_count": 5,
   "metadata": {
    "collapsed": true
   },
   "outputs": [],
   "source": [
    "### : Getting H2O Cluster status"
   ]
  },
  {
   "cell_type": "code",
   "execution_count": 6,
   "metadata": {},
   "outputs": [
    {
     "data": {
      "text/html": [
       "<div style=\"overflow:auto\"><table style=\"width:50%\"><tr><td>H2O cluster uptime:</td>\n",
       "<td>2 hours 9 mins</td></tr>\n",
       "<tr><td>H2O cluster version:</td>\n",
       "<td>3.14.0.7</td></tr>\n",
       "<tr><td>H2O cluster version age:</td>\n",
       "<td>26 days </td></tr>\n",
       "<tr><td>H2O cluster name:</td>\n",
       "<td>H2O_from_python_avkashchauhan_8r3asb</td></tr>\n",
       "<tr><td>H2O cluster total nodes:</td>\n",
       "<td>1</td></tr>\n",
       "<tr><td>H2O cluster free memory:</td>\n",
       "<td>3.263 Gb</td></tr>\n",
       "<tr><td>H2O cluster total cores:</td>\n",
       "<td>8</td></tr>\n",
       "<tr><td>H2O cluster allowed cores:</td>\n",
       "<td>8</td></tr>\n",
       "<tr><td>H2O cluster status:</td>\n",
       "<td>locked, healthy</td></tr>\n",
       "<tr><td>H2O connection url:</td>\n",
       "<td>http://localhost:54321</td></tr>\n",
       "<tr><td>H2O connection proxy:</td>\n",
       "<td>None</td></tr>\n",
       "<tr><td>H2O internal security:</td>\n",
       "<td>False</td></tr>\n",
       "<tr><td>H2O API Extensions:</td>\n",
       "<td>XGBoost, Algos, AutoML, Core V3, Core V4</td></tr>\n",
       "<tr><td>Python version:</td>\n",
       "<td>2.7.13 final</td></tr></table></div>"
      ],
      "text/plain": [
       "--------------------------  ----------------------------------------\n",
       "H2O cluster uptime:         2 hours 9 mins\n",
       "H2O cluster version:        3.14.0.7\n",
       "H2O cluster version age:    26 days\n",
       "H2O cluster name:           H2O_from_python_avkashchauhan_8r3asb\n",
       "H2O cluster total nodes:    1\n",
       "H2O cluster free memory:    3.263 Gb\n",
       "H2O cluster total cores:    8\n",
       "H2O cluster allowed cores:  8\n",
       "H2O cluster status:         locked, healthy\n",
       "H2O connection url:         http://localhost:54321\n",
       "H2O connection proxy:\n",
       "H2O internal security:      False\n",
       "H2O API Extensions:         XGBoost, Algos, AutoML, Core V3, Core V4\n",
       "Python version:             2.7.13 final\n",
       "--------------------------  ----------------------------------------"
      ]
     },
     "metadata": {},
     "output_type": "display_data"
    },
    {
     "data": {
      "text/html": [
       "<div style=\"overflow:auto\"><table style=\"width:50%\"><tr><td><b>Nodes info:</b></td>\n",
       "<td><b>Node 1</b></td></tr>\n",
       "<tr><td>h2o</td>\n",
       "<td>/127.0.0.1:54321</td></tr>\n",
       "<tr><td>healthy</td>\n",
       "<td>True</td></tr>\n",
       "<tr><td>last_ping</td>\n",
       "<td>1510858397615.0000000</td></tr>\n",
       "<tr><td>num_cpus</td>\n",
       "<td>8</td></tr>\n",
       "<tr><td>sys_load</td>\n",
       "<td>2.1069336</td></tr>\n",
       "<tr><td>mem_value_size</td>\n",
       "<td>12555264</td></tr>\n",
       "<tr><td>free_mem</td>\n",
       "<td>3503644672.0000000</td></tr>\n",
       "<tr><td>pojo_mem</td>\n",
       "<td>301664256</td></tr>\n",
       "<tr><td>swap_mem</td>\n",
       "<td>0</td></tr>\n",
       "<tr><td>free_disk</td>\n",
       "<td>223772409856.0000000</td></tr>\n",
       "<tr><td>max_disk</td>\n",
       "<td>499987251200.0000000</td></tr>\n",
       "<tr><td>pid</td>\n",
       "<td>28339</td></tr>\n",
       "<tr><td>num_keys</td>\n",
       "<td>604</td></tr>\n",
       "<tr><td>tcps_active</td>\n",
       "<td>0</td></tr>\n",
       "<tr><td>open_fds</td>\n",
       "<td>-1</td></tr>\n",
       "<tr><td>rpcs_active</td>\n",
       "<td>0</td></tr></table></div>"
      ],
      "text/plain": [
       "Nodes info:     Node 1\n",
       "--------------  ----------------\n",
       "h2o             /127.0.0.1:54321\n",
       "healthy         True\n",
       "last_ping       1510858397615\n",
       "num_cpus        8\n",
       "sys_load        2.1069336\n",
       "mem_value_size  12555264\n",
       "free_mem        3503644672\n",
       "pojo_mem        301664256\n",
       "swap_mem        0\n",
       "free_disk       223772409856\n",
       "max_disk        499987251200\n",
       "pid             28339\n",
       "num_keys        604\n",
       "tcps_active     0\n",
       "open_fds        -1\n",
       "rpcs_active     0"
      ]
     },
     "metadata": {},
     "output_type": "display_data"
    }
   ],
   "source": [
    "h2o.cluster().show_status(True)"
   ]
  },
  {
   "cell_type": "code",
   "execution_count": 7,
   "metadata": {
    "collapsed": true
   },
   "outputs": [],
   "source": [
    "###: Importing Dataset"
   ]
  },
  {
   "cell_type": "code",
   "execution_count": 8,
   "metadata": {},
   "outputs": [
    {
     "name": "stdout",
     "output_type": "stream",
     "text": [
      "Parse progress: |█████████████████████████████████████████████████████████| 100%\n"
     ]
    }
   ],
   "source": [
    "df = h2o.import_file(\"/Users/avkashchauhan/src/github.com/avkash/mldl/data/auto_mpg.csv\")"
   ]
  },
  {
   "cell_type": "code",
   "execution_count": 9,
   "metadata": {
    "collapsed": true
   },
   "outputs": [],
   "source": [
    "###: Understanding Dataset"
   ]
  },
  {
   "cell_type": "code",
   "execution_count": 10,
   "metadata": {},
   "outputs": [
    {
     "name": "stdout",
     "output_type": "stream",
     "text": [
      "Rows:398\n",
      "Cols:8\n",
      "\n",
      "\n"
     ]
    },
    {
     "data": {
      "text/html": [
       "<table>\n",
       "<thead>\n",
       "<tr><th>       </th><th>cylinders    </th><th>displacement  </th><th>horsepower   </th><th>weight       </th><th>acceleration  </th><th>modelyear    </th><th>origin        </th><th>mpg          </th></tr>\n",
       "</thead>\n",
       "<tbody>\n",
       "<tr><td>type   </td><td>int          </td><td>real          </td><td>int          </td><td>int          </td><td>real          </td><td>int          </td><td>int           </td><td>real         </td></tr>\n",
       "<tr><td>mins   </td><td>3.0          </td><td>68.0          </td><td>46.0         </td><td>1613.0       </td><td>8.0           </td><td>70.0         </td><td>1.0           </td><td>9.0          </td></tr>\n",
       "<tr><td>mean   </td><td>5.45477386935</td><td>193.425879397 </td><td>104.469387755</td><td>2970.42462312</td><td>15.5680904523 </td><td>76.0100502513</td><td>1.57286432161 </td><td>23.5145728643</td></tr>\n",
       "<tr><td>maxs   </td><td>8.0          </td><td>455.0         </td><td>230.0        </td><td>5140.0       </td><td>24.8          </td><td>82.0         </td><td>3.0           </td><td>46.6         </td></tr>\n",
       "<tr><td>sigma  </td><td>1.70100424453</td><td>104.269838171 </td><td>38.4911599328</td><td>846.841774197</td><td>2.75768892981 </td><td>3.69762664673</td><td>0.802054877727</td><td>7.81598431257</td></tr>\n",
       "<tr><td>zeros  </td><td>0            </td><td>0             </td><td>0            </td><td>0            </td><td>0             </td><td>0            </td><td>0             </td><td>0            </td></tr>\n",
       "<tr><td>missing</td><td>0            </td><td>0             </td><td>6            </td><td>0            </td><td>0             </td><td>0            </td><td>0             </td><td>0            </td></tr>\n",
       "<tr><td>0      </td><td>8.0          </td><td>307.0         </td><td>130.0        </td><td>3504.0       </td><td>12.0          </td><td>70.0         </td><td>1.0           </td><td>18.0         </td></tr>\n",
       "<tr><td>1      </td><td>8.0          </td><td>350.0         </td><td>165.0        </td><td>3693.0       </td><td>11.5          </td><td>70.0         </td><td>1.0           </td><td>15.0         </td></tr>\n",
       "<tr><td>2      </td><td>8.0          </td><td>318.0         </td><td>150.0        </td><td>3436.0       </td><td>11.0          </td><td>70.0         </td><td>1.0           </td><td>18.0         </td></tr>\n",
       "<tr><td>3      </td><td>8.0          </td><td>304.0         </td><td>150.0        </td><td>3433.0       </td><td>12.0          </td><td>70.0         </td><td>1.0           </td><td>16.0         </td></tr>\n",
       "<tr><td>4      </td><td>8.0          </td><td>302.0         </td><td>140.0        </td><td>3449.0       </td><td>10.5          </td><td>70.0         </td><td>1.0           </td><td>17.0         </td></tr>\n",
       "<tr><td>5      </td><td>8.0          </td><td>429.0         </td><td>198.0        </td><td>4341.0       </td><td>10.0          </td><td>70.0         </td><td>1.0           </td><td>15.0         </td></tr>\n",
       "<tr><td>6      </td><td>8.0          </td><td>454.0         </td><td>220.0        </td><td>4354.0       </td><td>9.0           </td><td>70.0         </td><td>1.0           </td><td>14.0         </td></tr>\n",
       "<tr><td>7      </td><td>8.0          </td><td>440.0         </td><td>215.0        </td><td>4312.0       </td><td>8.5           </td><td>70.0         </td><td>1.0           </td><td>14.0         </td></tr>\n",
       "<tr><td>8      </td><td>8.0          </td><td>455.0         </td><td>225.0        </td><td>4425.0       </td><td>10.0          </td><td>70.0         </td><td>1.0           </td><td>14.0         </td></tr>\n",
       "<tr><td>9      </td><td>8.0          </td><td>390.0         </td><td>190.0        </td><td>3850.0       </td><td>8.5           </td><td>70.0         </td><td>1.0           </td><td>15.0         </td></tr>\n",
       "</tbody>\n",
       "</table>"
      ]
     },
     "metadata": {},
     "output_type": "display_data"
    }
   ],
   "source": [
    "df.describe()"
   ]
  },
  {
   "cell_type": "code",
   "execution_count": 11,
   "metadata": {
    "collapsed": true
   },
   "outputs": [],
   "source": [
    "###: Getting a list of columns in our dataset"
   ]
  },
  {
   "cell_type": "code",
   "execution_count": 12,
   "metadata": {},
   "outputs": [
    {
     "data": {
      "text/plain": [
       "[u'cylinders',\n",
       " u'displacement',\n",
       " u'horsepower',\n",
       " u'weight',\n",
       " u'acceleration',\n",
       " u'modelyear',\n",
       " u'origin',\n",
       " u'mpg']"
      ]
     },
     "execution_count": 12,
     "metadata": {},
     "output_type": "execute_result"
    }
   ],
   "source": [
    "df.col_names"
   ]
  },
  {
   "cell_type": "code",
   "execution_count": 13,
   "metadata": {
    "collapsed": true
   },
   "outputs": [],
   "source": [
    "###: Understanding Dataset with pylab library"
   ]
  },
  {
   "cell_type": "code",
   "execution_count": 14,
   "metadata": {},
   "outputs": [
    {
     "data": {
      "text/plain": [
       "<matplotlib.figure.Figure at 0x10fd51c90>"
      ]
     },
     "metadata": {},
     "output_type": "display_data"
    },
    {
     "data": {
      "image/png": "[encoded data removed]",
      "text/plain": [
       "<matplotlib.figure.Figure at 0x1122c3910>"
      ]
     },
     "metadata": {},
     "output_type": "display_data"
    }
   ],
   "source": [
    "import pylab as pl\n",
    "pl.figure(figsize=(20,10))\n",
    "df.as_data_frame().hist()\n",
    "pl.show()"
   ]
  },
  {
   "cell_type": "code",
   "execution_count": 15,
   "metadata": {
    "collapsed": true
   },
   "outputs": [],
   "source": [
    "###: Understanding Dataset with Seaborn python library using origin as color hue"
   ]
  },
  {
   "cell_type": "code",
   "execution_count": 16,
   "metadata": {},
   "outputs": [
    {
     "name": "stderr",
     "output_type": "stream",
     "text": [
      "/Users/avkashchauhan/anaconda3/envs/python27/lib/python2.7/site-packages/numpy/lib/function_base.py:748: RuntimeWarning: invalid value encountered in greater_equal\n",
      "  keep = (tmp_a >= mn)\n",
      "/Users/avkashchauhan/anaconda3/envs/python27/lib/python2.7/site-packages/numpy/lib/function_base.py:749: RuntimeWarning: invalid value encountered in less_equal\n",
      "  keep &= (tmp_a <= mx)\n"
     ]
    },
    {
     "data": {
      "image/png": "[encoded data removed]",
      "text/plain": [
       "<matplotlib.figure.Figure at 0x11bc42c10>"
      ]
     },
     "metadata": {},
     "output_type": "display_data"
    }
   ],
   "source": [
    "import matplotlib.pyplot as plt\n",
    "plt.rcParams['figure.figsize'] = (12, 12)\n",
    "\n",
    "import seaborn as sns\n",
    "sns.set_context(\"notebook\")\n",
    "\n",
    "sns.pairplot(df.as_data_frame(), vars=[\"horsepower\" , \"cylinders\", \"origin\", \"weight\"], hue=\"origin\");\n",
    "plt.show()"
   ]
  },
  {
   "cell_type": "code",
   "execution_count": 17,
   "metadata": {
    "collapsed": true
   },
   "outputs": [],
   "source": [
    "###: Getting the list of classes in the response column ()"
   ]
  },
  {
   "cell_type": "code",
   "execution_count": 18,
   "metadata": {},
   "outputs": [
    {
     "data": {
      "text/plain": [
       "[['3', '4', '5', '6', '8']]"
      ]
     },
     "execution_count": 18,
     "metadata": {},
     "output_type": "execute_result"
    }
   ],
   "source": [
    "df['cylinders'].asfactor().levels()"
   ]
  },
  {
   "cell_type": "code",
   "execution_count": 19,
   "metadata": {
    "collapsed": true
   },
   "outputs": [],
   "source": [
    "###: Understanding Dataset with Seaborn python library using cylinders as color hue"
   ]
  },
  {
   "cell_type": "code",
   "execution_count": 20,
   "metadata": {},
   "outputs": [
    {
     "data": {
      "image/png": "[encoded data removed]",
      "text/plain": [
       "<matplotlib.figure.Figure at 0x11c6b7b10>"
      ]
     },
     "metadata": {},
     "output_type": "display_data"
    }
   ],
   "source": [
    "sns.pairplot(df.as_data_frame(), vars=[\"horsepower\" , \"origin\", \"weight\"], hue=\"cylinders\");\n",
    "plt.show()"
   ]
  },
  {
   "cell_type": "code",
   "execution_count": 21,
   "metadata": {
    "collapsed": true
   },
   "outputs": [],
   "source": [
    "###: Setting Response column"
   ]
  },
  {
   "cell_type": "code",
   "execution_count": 22,
   "metadata": {
    "collapsed": true
   },
   "outputs": [],
   "source": [
    "response = \"mpg\""
   ]
  },
  {
   "cell_type": "code",
   "execution_count": 23,
   "metadata": {
    "collapsed": true
   },
   "outputs": [],
   "source": [
    "###: Setting all columns/features into a local variable"
   ]
  },
  {
   "cell_type": "code",
   "execution_count": 24,
   "metadata": {
    "collapsed": true
   },
   "outputs": [],
   "source": [
    "features = df.col_names"
   ]
  },
  {
   "cell_type": "code",
   "execution_count": 25,
   "metadata": {
    "collapsed": true
   },
   "outputs": [],
   "source": [
    "###: Settings all features for model building"
   ]
  },
  {
   "cell_type": "code",
   "execution_count": 26,
   "metadata": {},
   "outputs": [
    {
     "name": "stdout",
     "output_type": "stream",
     "text": [
      "[u'cylinders', u'displacement', u'horsepower', u'weight', u'acceleration', u'modelyear', u'origin']\n"
     ]
    }
   ],
   "source": [
    "features.remove(response)\n",
    "print(features)"
   ]
  },
  {
   "cell_type": "code",
   "execution_count": 27,
   "metadata": {
    "collapsed": true
   },
   "outputs": [],
   "source": [
    "###: Importing H2O Deep Learning library"
   ]
  },
  {
   "cell_type": "code",
   "execution_count": 28,
   "metadata": {},
   "outputs": [],
   "source": [
    "from h2o.estimators.deeplearning import H2ODeepLearningEstimator"
   ]
  },
  {
   "cell_type": "code",
   "execution_count": 30,
   "metadata": {
    "collapsed": true
   },
   "outputs": [],
   "source": [
    "###: Setting H2O Deep Learning model configuration (default)"
   ]
  },
  {
   "cell_type": "code",
   "execution_count": 31,
   "metadata": {
    "collapsed": true
   },
   "outputs": [],
   "source": [
    "dl_auto_basic = H2ODeepLearningEstimator()"
   ]
  },
  {
   "cell_type": "code",
   "execution_count": 32,
   "metadata": {
    "collapsed": true
   },
   "outputs": [],
   "source": [
    "###: Training H2O Deep Learning Model "
   ]
  },
  {
   "cell_type": "code",
   "execution_count": 33,
   "metadata": {},
   "outputs": [
    {
     "name": "stdout",
     "output_type": "stream",
     "text": [
      "deeplearning Model Build progress: |██████████████████████████████████████| 100%\n"
     ]
    }
   ],
   "source": [
    "dl_auto_basic.train(x = features, y = response, training_frame=df)"
   ]
  },
  {
   "cell_type": "code",
   "execution_count": 34,
   "metadata": {
    "collapsed": true
   },
   "outputs": [],
   "source": [
    "###: Understanding H2O Deep Learning Model"
   ]
  },
  {
   "cell_type": "code",
   "execution_count": 35,
   "metadata": {},
   "outputs": [
    {
     "name": "stdout",
     "output_type": "stream",
     "text": [
      "Model Details\n",
      "=============\n",
      "H2ODeepLearningEstimator :  Deep Learning\n",
      "Model Key:  DeepLearning_model_python_1510850632242_50\n",
      "\n",
      "\n",
      "ModelMetricsRegression: deeplearning\n",
      "** Reported on train data. **\n",
      "\n",
      "MSE: 7.58100646405\n",
      "RMSE: 2.75336275562\n",
      "MAE: 2.03536825377\n",
      "RMSLE: 0.109079670701\n",
      "Mean Residual Deviance: 7.58100646405\n",
      "Scoring History: \n"
     ]
    },
    {
     "data": {
      "text/html": [
       "<div style=\"overflow:auto\"><table style=\"width:50%\"><tr><td><b></b></td>\n",
       "<td><b>timestamp</b></td>\n",
       "<td><b>duration</b></td>\n",
       "<td><b>training_speed</b></td>\n",
       "<td><b>epochs</b></td>\n",
       "<td><b>iterations</b></td>\n",
       "<td><b>samples</b></td>\n",
       "<td><b>training_rmse</b></td>\n",
       "<td><b>training_deviance</b></td>\n",
       "<td><b>training_mae</b></td></tr>\n",
       "<tr><td></td>\n",
       "<td>2017-11-16 11:02:33</td>\n",
       "<td> 0.000 sec</td>\n",
       "<td>None</td>\n",
       "<td>0.0</td>\n",
       "<td>0</td>\n",
       "<td>0.0</td>\n",
       "<td>nan</td>\n",
       "<td>nan</td>\n",
       "<td>nan</td></tr>\n",
       "<tr><td></td>\n",
       "<td>2017-11-16 11:02:33</td>\n",
       "<td> 0.406 sec</td>\n",
       "<td>1644 obs/sec</td>\n",
       "<td>1.0</td>\n",
       "<td>1</td>\n",
       "<td>398.0</td>\n",
       "<td>3.1213455</td>\n",
       "<td>9.7427980</td>\n",
       "<td>2.2868057</td></tr>\n",
       "<tr><td></td>\n",
       "<td>2017-11-16 11:02:34</td>\n",
       "<td> 0.816 sec</td>\n",
       "<td>6189 obs/sec</td>\n",
       "<td>10.0</td>\n",
       "<td>10</td>\n",
       "<td>3980.0</td>\n",
       "<td>2.7533628</td>\n",
       "<td>7.5810065</td>\n",
       "<td>2.0353683</td></tr></table></div>"
      ],
      "text/plain": [
       "    timestamp            duration    training_speed    epochs    iterations    samples    training_rmse    training_deviance    training_mae\n",
       "--  -------------------  ----------  ----------------  --------  ------------  ---------  ---------------  -------------------  --------------\n",
       "    2017-11-16 11:02:33  0.000 sec                     0         0             0          nan              nan                  nan\n",
       "    2017-11-16 11:02:33  0.406 sec   1644 obs/sec      1         1             398        3.12135          9.7428               2.28681\n",
       "    2017-11-16 11:02:34  0.816 sec   6189 obs/sec      10        10            3980       2.75336          7.58101              2.03537"
      ]
     },
     "metadata": {},
     "output_type": "display_data"
    },
    {
     "name": "stdout",
     "output_type": "stream",
     "text": [
      "Variable Importances: \n"
     ]
    },
    {
     "data": {
      "text/html": [
       "<div style=\"overflow:auto\"><table style=\"width:50%\"><tr><td><b>variable</b></td>\n",
       "<td><b>relative_importance</b></td>\n",
       "<td><b>scaled_importance</b></td>\n",
       "<td><b>percentage</b></td></tr>\n",
       "<tr><td>weight</td>\n",
       "<td>1.0</td>\n",
       "<td>1.0</td>\n",
       "<td>0.1491051</td></tr>\n",
       "<tr><td>displacement</td>\n",
       "<td>0.9919012</td>\n",
       "<td>0.9919012</td>\n",
       "<td>0.1478976</td></tr>\n",
       "<tr><td>modelyear</td>\n",
       "<td>0.9856502</td>\n",
       "<td>0.9856502</td>\n",
       "<td>0.1469655</td></tr>\n",
       "<tr><td>cylinders</td>\n",
       "<td>0.9640727</td>\n",
       "<td>0.9640727</td>\n",
       "<td>0.1437482</td></tr>\n",
       "<tr><td>horsepower</td>\n",
       "<td>0.9607453</td>\n",
       "<td>0.9607453</td>\n",
       "<td>0.1432521</td></tr>\n",
       "<tr><td>acceleration</td>\n",
       "<td>0.9073324</td>\n",
       "<td>0.9073324</td>\n",
       "<td>0.1352879</td></tr>\n",
       "<tr><td>origin</td>\n",
       "<td>0.8969752</td>\n",
       "<td>0.8969752</td>\n",
       "<td>0.1337436</td></tr></table></div>"
      ],
      "text/plain": [
       "variable      relative_importance    scaled_importance    percentage\n",
       "------------  ---------------------  -------------------  ------------\n",
       "weight        1                      1                    0.149105\n",
       "displacement  0.991901               0.991901             0.147898\n",
       "modelyear     0.98565                0.98565              0.146966\n",
       "cylinders     0.964073               0.964073             0.143748\n",
       "horsepower    0.960745               0.960745             0.143252\n",
       "acceleration  0.907332               0.907332             0.135288\n",
       "origin        0.896975               0.896975             0.133744"
      ]
     },
     "metadata": {},
     "output_type": "display_data"
    },
    {
     "data": {
      "text/plain": []
     },
     "execution_count": 35,
     "metadata": {},
     "output_type": "execute_result"
    }
   ],
   "source": [
    "dl_auto_basic"
   ]
  },
  {
   "cell_type": "code",
   "execution_count": 36,
   "metadata": {
    "collapsed": true
   },
   "outputs": [],
   "source": [
    "###: Understanding H2O Deep Learning Model overall performance based on training data"
   ]
  },
  {
   "cell_type": "code",
   "execution_count": 37,
   "metadata": {},
   "outputs": [
    {
     "name": "stdout",
     "output_type": "stream",
     "text": [
      "\n",
      "ModelMetricsRegression: deeplearning\n",
      "** Reported on train data. **\n",
      "\n",
      "MSE: 7.58100646405\n",
      "RMSE: 2.75336275562\n",
      "MAE: 2.03536825377\n",
      "RMSLE: 0.109079670701\n",
      "Mean Residual Deviance: 7.58100646405\n"
     ]
    },
    {
     "data": {
      "text/plain": []
     },
     "execution_count": 37,
     "metadata": {},
     "output_type": "execute_result"
    }
   ],
   "source": [
    "dl_auto_basic.model_performance(train=True)"
   ]
  },
  {
   "cell_type": "code",
   "execution_count": 38,
   "metadata": {
    "collapsed": true
   },
   "outputs": [],
   "source": [
    "###: Understanding H2O Deep Learning Model - r2 Model metrics based on training data"
   ]
  },
  {
   "cell_type": "code",
   "execution_count": 39,
   "metadata": {},
   "outputs": [
    {
     "data": {
      "text/plain": [
       "0.8755909197398568"
      ]
     },
     "execution_count": 39,
     "metadata": {},
     "output_type": "execute_result"
    }
   ],
   "source": [
    "dl_auto_basic.model_performance(train=True).r2()"
   ]
  },
  {
   "cell_type": "code",
   "execution_count": 40,
   "metadata": {
    "collapsed": true
   },
   "outputs": [],
   "source": [
    "###: Setting H2O Deep Learning model configuration to use cross validation with 5 folds"
   ]
  },
  {
   "cell_type": "code",
   "execution_count": 41,
   "metadata": {
    "collapsed": true
   },
   "outputs": [],
   "source": [
    "dl_auto_cv = H2ODeepLearningEstimator(nfolds = 5)"
   ]
  },
  {
   "cell_type": "code",
   "execution_count": 42,
   "metadata": {
    "collapsed": true
   },
   "outputs": [],
   "source": [
    "###: Training H2O Deep Learning Model "
   ]
  },
  {
   "cell_type": "code",
   "execution_count": 43,
   "metadata": {},
   "outputs": [
    {
     "name": "stdout",
     "output_type": "stream",
     "text": [
      "deeplearning Model Build progress: |██████████████████████████████████████| 100%\n"
     ]
    }
   ],
   "source": [
    "dl_auto_cv.train(x = features, y = response, training_frame=df)"
   ]
  },
  {
   "cell_type": "code",
   "execution_count": 44,
   "metadata": {},
   "outputs": [
    {
     "name": "stdout",
     "output_type": "stream",
     "text": [
      "Model Details\n",
      "=============\n",
      "H2ODeepLearningEstimator :  Deep Learning\n",
      "Model Key:  DeepLearning_model_python_1510850632242_51\n",
      "\n",
      "\n",
      "ModelMetricsRegression: deeplearning\n",
      "** Reported on train data. **\n",
      "\n",
      "MSE: 33.6881972165\n",
      "RMSE: 5.80415344529\n",
      "MAE: 5.20379437925\n",
      "RMSLE: 0.280672743253\n",
      "Mean Residual Deviance: 33.6881972165\n",
      "\n",
      "ModelMetricsRegression: deeplearning\n",
      "** Reported on cross-validation data. **\n",
      "\n",
      "MSE: 11.9577117798\n",
      "RMSE: 3.45799244935\n",
      "MAE: 2.64168293896\n",
      "RMSLE: 0.133113749259\n",
      "Mean Residual Deviance: 11.9577117798\n",
      "Cross-Validation Metrics Summary: \n"
     ]
    },
    {
     "data": {
      "text/html": [
       "<div style=\"overflow:auto\"><table style=\"width:50%\"><tr><td><b></b></td>\n",
       "<td><b>mean</b></td>\n",
       "<td><b>sd</b></td>\n",
       "<td><b>cv_1_valid</b></td>\n",
       "<td><b>cv_2_valid</b></td>\n",
       "<td><b>cv_3_valid</b></td>\n",
       "<td><b>cv_4_valid</b></td>\n",
       "<td><b>cv_5_valid</b></td></tr>\n",
       "<tr><td>mae</td>\n",
       "<td>2.6469975</td>\n",
       "<td>0.0631556</td>\n",
       "<td>2.6722093</td>\n",
       "<td>2.6722982</td>\n",
       "<td>2.7549803</td>\n",
       "<td>2.4829268</td>\n",
       "<td>2.6525726</td></tr>\n",
       "<tr><td>mean_residual_deviance</td>\n",
       "<td>11.96327</td>\n",
       "<td>0.2483126</td>\n",
       "<td>11.811564</td>\n",
       "<td>12.228558</td>\n",
       "<td>12.268812</td>\n",
       "<td>11.34018</td>\n",
       "<td>12.167237</td></tr>\n",
       "<tr><td>mse</td>\n",
       "<td>11.96327</td>\n",
       "<td>0.2483126</td>\n",
       "<td>11.811564</td>\n",
       "<td>12.228558</td>\n",
       "<td>12.268812</td>\n",
       "<td>11.34018</td>\n",
       "<td>12.167237</td></tr>\n",
       "<tr><td>r2</td>\n",
       "<td>0.7992982</td>\n",
       "<td>0.0126221</td>\n",
       "<td>0.8140280</td>\n",
       "<td>0.7860948</td>\n",
       "<td>0.7724146</td>\n",
       "<td>0.8030986</td>\n",
       "<td>0.8208551</td></tr>\n",
       "<tr><td>residual_deviance</td>\n",
       "<td>11.96327</td>\n",
       "<td>0.2483126</td>\n",
       "<td>11.811564</td>\n",
       "<td>12.228558</td>\n",
       "<td>12.268812</td>\n",
       "<td>11.34018</td>\n",
       "<td>12.167237</td></tr>\n",
       "<tr><td>rmse</td>\n",
       "<td>3.4584186</td>\n",
       "<td>0.0361358</td>\n",
       "<td>3.4367957</td>\n",
       "<td>3.4969354</td>\n",
       "<td>3.5026865</td>\n",
       "<td>3.3675184</td>\n",
       "<td>3.4881568</td></tr>\n",
       "<tr><td>rmsle</td>\n",
       "<td>0.1333287</td>\n",
       "<td>0.0083153</td>\n",
       "<td>0.1284986</td>\n",
       "<td>0.1288565</td>\n",
       "<td>0.1554621</td>\n",
       "<td>0.1207525</td>\n",
       "<td>0.1330738</td></tr></table></div>"
      ],
      "text/plain": [
       "                        mean      sd         cv_1_valid    cv_2_valid    cv_3_valid    cv_4_valid    cv_5_valid\n",
       "----------------------  --------  ---------  ------------  ------------  ------------  ------------  ------------\n",
       "mae                     2.647     0.0631556  2.67221       2.6723        2.75498       2.48293       2.65257\n",
       "mean_residual_deviance  11.9633   0.248313   11.8116       12.2286       12.2688       11.3402       12.1672\n",
       "mse                     11.9633   0.248313   11.8116       12.2286       12.2688       11.3402       12.1672\n",
       "r2                      0.799298  0.0126221  0.814028      0.786095      0.772415      0.803099      0.820855\n",
       "residual_deviance       11.9633   0.248313   11.8116       12.2286       12.2688       11.3402       12.1672\n",
       "rmse                    3.45842   0.0361358  3.4368        3.49694       3.50269       3.36752       3.48816\n",
       "rmsle                   0.133329  0.0083153  0.128499      0.128857      0.155462      0.120752      0.133074"
      ]
     },
     "metadata": {},
     "output_type": "display_data"
    },
    {
     "name": "stdout",
     "output_type": "stream",
     "text": [
      "Scoring History: \n"
     ]
    },
    {
     "data": {
      "text/html": [
       "<div style=\"overflow:auto\"><table style=\"width:50%\"><tr><td><b></b></td>\n",
       "<td><b>timestamp</b></td>\n",
       "<td><b>duration</b></td>\n",
       "<td><b>training_speed</b></td>\n",
       "<td><b>epochs</b></td>\n",
       "<td><b>iterations</b></td>\n",
       "<td><b>samples</b></td>\n",
       "<td><b>training_rmse</b></td>\n",
       "<td><b>training_deviance</b></td>\n",
       "<td><b>training_mae</b></td></tr>\n",
       "<tr><td></td>\n",
       "<td>2017-11-16 11:02:37</td>\n",
       "<td> 0.000 sec</td>\n",
       "<td>None</td>\n",
       "<td>0.0</td>\n",
       "<td>0</td>\n",
       "<td>0.0</td>\n",
       "<td>nan</td>\n",
       "<td>nan</td>\n",
       "<td>nan</td></tr>\n",
       "<tr><td></td>\n",
       "<td>2017-11-16 11:02:37</td>\n",
       "<td> 2.692 sec</td>\n",
       "<td>5116 obs/sec</td>\n",
       "<td>0.9899497</td>\n",
       "<td>1</td>\n",
       "<td>394.0</td>\n",
       "<td>4.9427961</td>\n",
       "<td>24.4312333</td>\n",
       "<td>3.7898437</td></tr>\n",
       "<tr><td></td>\n",
       "<td>2017-11-16 11:02:37</td>\n",
       "<td> 3.225 sec</td>\n",
       "<td>6990 obs/sec</td>\n",
       "<td>10.5552764</td>\n",
       "<td>10</td>\n",
       "<td>4201.0</td>\n",
       "<td>5.8041534</td>\n",
       "<td>33.6881972</td>\n",
       "<td>5.2037944</td></tr></table></div>"
      ],
      "text/plain": [
       "    timestamp            duration    training_speed    epochs    iterations    samples    training_rmse    training_deviance    training_mae\n",
       "--  -------------------  ----------  ----------------  --------  ------------  ---------  ---------------  -------------------  --------------\n",
       "    2017-11-16 11:02:37  0.000 sec                     0         0             0          nan              nan                  nan\n",
       "    2017-11-16 11:02:37  2.692 sec   5116 obs/sec      0.98995   1             394        4.9428           24.4312              3.78984\n",
       "    2017-11-16 11:02:37  3.225 sec   6990 obs/sec      10.5553   10            4201       5.80415          33.6882              5.20379"
      ]
     },
     "metadata": {},
     "output_type": "display_data"
    },
    {
     "name": "stdout",
     "output_type": "stream",
     "text": [
      "Variable Importances: \n"
     ]
    },
    {
     "data": {
      "text/html": [
       "<div style=\"overflow:auto\"><table style=\"width:50%\"><tr><td><b>variable</b></td>\n",
       "<td><b>relative_importance</b></td>\n",
       "<td><b>scaled_importance</b></td>\n",
       "<td><b>percentage</b></td></tr>\n",
       "<tr><td>weight</td>\n",
       "<td>1.0</td>\n",
       "<td>1.0</td>\n",
       "<td>0.1513504</td></tr>\n",
       "<tr><td>modelyear</td>\n",
       "<td>0.9927492</td>\n",
       "<td>0.9927492</td>\n",
       "<td>0.1502530</td></tr>\n",
       "<tr><td>origin</td>\n",
       "<td>0.9867641</td>\n",
       "<td>0.9867641</td>\n",
       "<td>0.1493471</td></tr>\n",
       "<tr><td>displacement</td>\n",
       "<td>0.9465899</td>\n",
       "<td>0.9465899</td>\n",
       "<td>0.1432667</td></tr>\n",
       "<tr><td>acceleration</td>\n",
       "<td>0.9251090</td>\n",
       "<td>0.9251090</td>\n",
       "<td>0.1400156</td></tr>\n",
       "<tr><td>horsepower</td>\n",
       "<td>0.8783220</td>\n",
       "<td>0.8783220</td>\n",
       "<td>0.1329344</td></tr>\n",
       "<tr><td>cylinders</td>\n",
       "<td>0.8776505</td>\n",
       "<td>0.8776505</td>\n",
       "<td>0.1328327</td></tr></table></div>"
      ],
      "text/plain": [
       "variable      relative_importance    scaled_importance    percentage\n",
       "------------  ---------------------  -------------------  ------------\n",
       "weight        1                      1                    0.15135\n",
       "modelyear     0.992749               0.992749             0.150253\n",
       "origin        0.986764               0.986764             0.149347\n",
       "displacement  0.94659                0.94659              0.143267\n",
       "acceleration  0.925109               0.925109             0.140016\n",
       "horsepower    0.878322               0.878322             0.132934\n",
       "cylinders     0.87765                0.87765              0.132833"
      ]
     },
     "metadata": {},
     "output_type": "display_data"
    },
    {
     "data": {
      "text/plain": []
     },
     "execution_count": 44,
     "metadata": {},
     "output_type": "execute_result"
    }
   ],
   "source": [
    "dl_auto_cv"
   ]
  },
  {
   "cell_type": "code",
   "execution_count": 45,
   "metadata": {
    "collapsed": true
   },
   "outputs": [],
   "source": [
    "###: Understanding H2O Deep Learning Model overall performance based on training data (r2 only)"
   ]
  },
  {
   "cell_type": "code",
   "execution_count": 46,
   "metadata": {},
   "outputs": [
    {
     "data": {
      "text/plain": [
       "0.4471555127671989"
      ]
     },
     "execution_count": 46,
     "metadata": {},
     "output_type": "execute_result"
    }
   ],
   "source": [
    "dl_auto_cv.model_performance(train=True).r2()"
   ]
  },
  {
   "cell_type": "code",
   "execution_count": 47,
   "metadata": {
    "collapsed": true
   },
   "outputs": [],
   "source": [
    "###: Understanding H2O Deep Learning Model overall performance based on cross validation data (r2 only)"
   ]
  },
  {
   "cell_type": "code",
   "execution_count": 48,
   "metadata": {},
   "outputs": [
    {
     "data": {
      "text/plain": [
       "0.8037664350255854"
      ]
     },
     "execution_count": 48,
     "metadata": {},
     "output_type": "execute_result"
    }
   ],
   "source": [
    "dl_auto_cv.model_performance(xval=True).r2()"
   ]
  },
  {
   "cell_type": "code",
   "execution_count": 49,
   "metadata": {
    "collapsed": true
   },
   "outputs": [],
   "source": [
    "###: Understanding H2O Deep Learning Model scoring History"
   ]
  },
  {
   "cell_type": "code",
   "execution_count": 50,
   "metadata": {},
   "outputs": [
    {
     "data": {
      "text/html": [
       "<div>\n",
       "<style>\n",
       "    .dataframe thead tr:only-child th {\n",
       "        text-align: right;\n",
       "    }\n",
       "\n",
       "    .dataframe thead th {\n",
       "        text-align: left;\n",
       "    }\n",
       "\n",
       "    .dataframe tbody tr th {\n",
       "        vertical-align: top;\n",
       "    }\n",
       "</style>\n",
       "<table border=\"1\" class=\"dataframe\">\n",
       "  <thead>\n",
       "    <tr style=\"text-align: right;\">\n",
       "      <th></th>\n",
       "      <th></th>\n",
       "      <th>timestamp</th>\n",
       "      <th>duration</th>\n",
       "      <th>training_speed</th>\n",
       "      <th>epochs</th>\n",
       "      <th>iterations</th>\n",
       "      <th>samples</th>\n",
       "      <th>training_rmse</th>\n",
       "      <th>training_deviance</th>\n",
       "      <th>training_mae</th>\n",
       "    </tr>\n",
       "  </thead>\n",
       "  <tbody>\n",
       "    <tr>\n",
       "      <th>0</th>\n",
       "      <td></td>\n",
       "      <td>2017-11-16 11:02:37</td>\n",
       "      <td>0.000 sec</td>\n",
       "      <td>None</td>\n",
       "      <td>0.000000</td>\n",
       "      <td>0</td>\n",
       "      <td>0.0</td>\n",
       "      <td>NaN</td>\n",
       "      <td>NaN</td>\n",
       "      <td>NaN</td>\n",
       "    </tr>\n",
       "    <tr>\n",
       "      <th>1</th>\n",
       "      <td></td>\n",
       "      <td>2017-11-16 11:02:37</td>\n",
       "      <td>2.692 sec</td>\n",
       "      <td>5116 obs/sec</td>\n",
       "      <td>0.989950</td>\n",
       "      <td>1</td>\n",
       "      <td>394.0</td>\n",
       "      <td>4.942796</td>\n",
       "      <td>24.431233</td>\n",
       "      <td>3.789844</td>\n",
       "    </tr>\n",
       "    <tr>\n",
       "      <th>2</th>\n",
       "      <td></td>\n",
       "      <td>2017-11-16 11:02:37</td>\n",
       "      <td>3.225 sec</td>\n",
       "      <td>6990 obs/sec</td>\n",
       "      <td>10.555276</td>\n",
       "      <td>10</td>\n",
       "      <td>4201.0</td>\n",
       "      <td>5.804153</td>\n",
       "      <td>33.688197</td>\n",
       "      <td>5.203794</td>\n",
       "    </tr>\n",
       "  </tbody>\n",
       "</table>\n",
       "</div>"
      ],
      "text/plain": [
       "               timestamp    duration training_speed     epochs  iterations  \\\n",
       "0    2017-11-16 11:02:37   0.000 sec           None   0.000000           0   \n",
       "1    2017-11-16 11:02:37   2.692 sec   5116 obs/sec   0.989950           1   \n",
       "2    2017-11-16 11:02:37   3.225 sec   6990 obs/sec  10.555276          10   \n",
       "\n",
       "   samples  training_rmse  training_deviance  training_mae  \n",
       "0      0.0            NaN                NaN           NaN  \n",
       "1    394.0       4.942796          24.431233      3.789844  \n",
       "2   4201.0       5.804153          33.688197      5.203794  "
      ]
     },
     "execution_count": 50,
     "metadata": {},
     "output_type": "execute_result"
    }
   ],
   "source": [
    "dl_auto_cv.score_history()"
   ]
  },
  {
   "cell_type": "code",
   "execution_count": 51,
   "metadata": {
    "collapsed": true
   },
   "outputs": [],
   "source": [
    "###: Understanding H2O Deep Learning Model variable importance"
   ]
  },
  {
   "cell_type": "code",
   "execution_count": 52,
   "metadata": {},
   "outputs": [
    {
     "data": {
      "text/plain": [
       "[(u'weight', 1.0, 1.0, 0.15135039130207528),\n",
       " (u'modelyear', 0.9927492141723633, 0.9927492141723633, 0.1502529820298149),\n",
       " (u'origin', 0.986764132976532, 0.986764132976532, 0.14934713764885116),\n",
       " (u'displacement',\n",
       "  0.9465898871421814,\n",
       "  0.9465898871421814,\n",
       "  0.14326674982155643),\n",
       " (u'acceleration', 0.9251090288162231, 0.9251090288162231, 0.1400156135084182),\n",
       " (u'horsepower', 0.8783220052719116, 0.8783220052719116, 0.13293437918712725),\n",
       " (u'cylinders', 0.8776504993438721, 0.8776504993438721, 0.1328327465021568)]"
      ]
     },
     "execution_count": 52,
     "metadata": {},
     "output_type": "execute_result"
    }
   ],
   "source": [
    "dl_auto_cv.varimp()"
   ]
  },
  {
   "cell_type": "code",
   "execution_count": 53,
   "metadata": {
    "collapsed": true
   },
   "outputs": [],
   "source": [
    "###: Generating H2O Deep Learning Model variable importance plot"
   ]
  },
  {
   "cell_type": "code",
   "execution_count": 54,
   "metadata": {},
   "outputs": [
    {
     "data": {
      "image/png": "[encoded data removed]",
      "text/plain": [
       "<matplotlib.figure.Figure at 0x11c43ca50>"
      ]
     },
     "metadata": {},
     "output_type": "display_data"
    }
   ],
   "source": [
    "dl_auto_cv.varimp_plot()"
   ]
  },
  {
   "cell_type": "code",
   "execution_count": 55,
   "metadata": {
    "collapsed": true
   },
   "outputs": [],
   "source": [
    "###: Setting H2O Deep Learning model configuration to use cross validation with 5 folds and various other parameters\n",
    "###: for tuning the performance and accuracy"
   ]
  },
  {
   "cell_type": "code",
   "execution_count": 56,
   "metadata": {},
   "outputs": [],
   "source": [
    "dl_auto_cv_tuned = H2ODeepLearningEstimator(nfolds = 5,\n",
    "                                           hidden = [10,10],\n",
    "                                           epochs = 25,\n",
    "                                           train_samples_per_iteration=10,\n",
    "                                           score_training_samples=20,\n",
    "                                           activation=\"Rectifier\",\n",
    "                                           adaptive_rate = False)\n",
    "# default activation works best this data #\n",
    "# adaptive_rate = False works best for this data #"
   ]
  },
  {
   "cell_type": "code",
   "execution_count": 57,
   "metadata": {
    "collapsed": true
   },
   "outputs": [],
   "source": [
    "###: Training H2O Deep Learning Model "
   ]
  },
  {
   "cell_type": "code",
   "execution_count": 58,
   "metadata": {},
   "outputs": [
    {
     "name": "stdout",
     "output_type": "stream",
     "text": [
      "deeplearning Model Build progress: |██████████████████████████████████████| 100%\n"
     ]
    }
   ],
   "source": [
    "dl_auto_cv_tuned.train(x = features , y = response, training_frame=df)"
   ]
  },
  {
   "cell_type": "code",
   "execution_count": 59,
   "metadata": {
    "collapsed": true
   },
   "outputs": [],
   "source": [
    "###: Understanding H2O Deep Learning Model overall performance based on cross validation data (r2 only)"
   ]
  },
  {
   "cell_type": "code",
   "execution_count": 60,
   "metadata": {},
   "outputs": [
    {
     "data": {
      "text/plain": [
       "0.8484913891933124"
      ]
     },
     "execution_count": 60,
     "metadata": {},
     "output_type": "execute_result"
    }
   ],
   "source": [
    "dl_auto_cv_tuned.model_performance(xval=True).r2()"
   ]
  },
  {
   "cell_type": "code",
   "execution_count": 61,
   "metadata": {
    "collapsed": true
   },
   "outputs": [],
   "source": [
    "###: Plotting H2O Deep Learning Model performance based on mae metric"
   ]
  },
  {
   "cell_type": "code",
   "execution_count": 62,
   "metadata": {},
   "outputs": [
    {
     "data": {
      "image/png": "[encoded data removed]",
      "text/plain": [
       "<matplotlib.figure.Figure at 0x11c34ed50>"
      ]
     },
     "metadata": {},
     "output_type": "display_data"
    }
   ],
   "source": [
    "dl_auto_cv_tuned.plot(metric=\"mae\")"
   ]
  },
  {
   "cell_type": "code",
   "execution_count": 63,
   "metadata": {
    "collapsed": true
   },
   "outputs": [],
   "source": [
    "###: Plotting H2O Deep Learning Model performance based on rmse metric"
   ]
  },
  {
   "cell_type": "code",
   "execution_count": 64,
   "metadata": {},
   "outputs": [
    {
     "data": {
      "image/png": "[encoded data removed]",
      "text/plain": [
       "<matplotlib.figure.Figure at 0x11c376050>"
      ]
     },
     "metadata": {},
     "output_type": "display_data"
    }
   ],
   "source": [
    "dl_auto_cv.plot(metric='rmse')"
   ]
  },
  {
   "cell_type": "code",
   "execution_count": 65,
   "metadata": {
    "collapsed": true
   },
   "outputs": [],
   "source": [
    "###: Plotting H2O Deep Learning Model variable importance plot"
   ]
  },
  {
   "cell_type": "code",
   "execution_count": 66,
   "metadata": {},
   "outputs": [
    {
     "data": {
      "image/png": "[encoded data removed]",
      "text/plain": [
       "<matplotlib.figure.Figure at 0x119e0f790>"
      ]
     },
     "metadata": {},
     "output_type": "display_data"
    }
   ],
   "source": [
    "dl_auto_cv_tuned.varimp_plot()"
   ]
  },
  {
   "cell_type": "code",
   "execution_count": 67,
   "metadata": {
    "collapsed": true
   },
   "outputs": [],
   "source": [
    "###: Comparing H2O Deep Learning Model performance based on tuned and default cross validation model"
   ]
  },
  {
   "cell_type": "code",
   "execution_count": 68,
   "metadata": {},
   "outputs": [
    {
     "name": "stdout",
     "output_type": "stream",
     "text": [
      "0.848491389193\n",
      "0.91098764454\n"
     ]
    }
   ],
   "source": [
    "print(dl_auto_cv_tuned.model_performance(xval=True).r2())\n",
    "print(dl_auto_cv_tuned.model_performance(train=True).r2())"
   ]
  },
  {
   "cell_type": "code",
   "execution_count": 69,
   "metadata": {
    "collapsed": true
   },
   "outputs": [],
   "source": [
    "### PERFORMING PREDICTIONS USING a TEST DATA SET"
   ]
  },
  {
   "cell_type": "code",
   "execution_count": 70,
   "metadata": {
    "collapsed": true
   },
   "outputs": [],
   "source": [
    "###: listing first 3 rows from the original data set"
   ]
  },
  {
   "cell_type": "code",
   "execution_count": 71,
   "metadata": {},
   "outputs": [
    {
     "data": {
      "text/html": [
       "<table>\n",
       "<thead>\n",
       "<tr><th style=\"text-align: right;\">  cylinders</th><th style=\"text-align: right;\">  displacement</th><th style=\"text-align: right;\">  horsepower</th><th style=\"text-align: right;\">  weight</th><th style=\"text-align: right;\">  acceleration</th><th style=\"text-align: right;\">  modelyear</th><th style=\"text-align: right;\">  origin</th><th style=\"text-align: right;\">  mpg</th></tr>\n",
       "</thead>\n",
       "<tbody>\n",
       "<tr><td style=\"text-align: right;\">          8</td><td style=\"text-align: right;\">           307</td><td style=\"text-align: right;\">         130</td><td style=\"text-align: right;\">    3504</td><td style=\"text-align: right;\">          12  </td><td style=\"text-align: right;\">         70</td><td style=\"text-align: right;\">       1</td><td style=\"text-align: right;\">   18</td></tr>\n",
       "<tr><td style=\"text-align: right;\">          8</td><td style=\"text-align: right;\">           350</td><td style=\"text-align: right;\">         165</td><td style=\"text-align: right;\">    3693</td><td style=\"text-align: right;\">          11.5</td><td style=\"text-align: right;\">         70</td><td style=\"text-align: right;\">       1</td><td style=\"text-align: right;\">   15</td></tr>\n",
       "<tr><td style=\"text-align: right;\">          8</td><td style=\"text-align: right;\">           318</td><td style=\"text-align: right;\">         150</td><td style=\"text-align: right;\">    3436</td><td style=\"text-align: right;\">          11  </td><td style=\"text-align: right;\">         70</td><td style=\"text-align: right;\">       1</td><td style=\"text-align: right;\">   18</td></tr>\n",
       "</tbody>\n",
       "</table>"
      ]
     },
     "metadata": {},
     "output_type": "display_data"
    },
    {
     "data": {
      "text/plain": []
     },
     "execution_count": 71,
     "metadata": {},
     "output_type": "execute_result"
    }
   ],
   "source": [
    "df.head(3)"
   ]
  },
  {
   "cell_type": "code",
   "execution_count": 72,
   "metadata": {
    "collapsed": true
   },
   "outputs": [],
   "source": [
    "###: listing original data set columns"
   ]
  },
  {
   "cell_type": "code",
   "execution_count": 73,
   "metadata": {},
   "outputs": [
    {
     "data": {
      "text/plain": [
       "[0.0, 1.0, 2.0, 3.0, 4.0, 5.0, 6.0, 7.0]"
      ]
     },
     "execution_count": 73,
     "metadata": {},
     "output_type": "execute_result"
    }
   ],
   "source": [
    "df.columns_by_type()"
   ]
  },
  {
   "cell_type": "code",
   "execution_count": 74,
   "metadata": {
    "collapsed": true
   },
   "outputs": [],
   "source": [
    "###: creating test data set based on features used for building model"
   ]
  },
  {
   "cell_type": "code",
   "execution_count": 75,
   "metadata": {},
   "outputs": [
    {
     "name": "stdout",
     "output_type": "stream",
     "text": [
      "Parse progress: |█████████████████████████████████████████████████████████| 100%\n"
     ]
    }
   ],
   "source": [
    "df_test = h2o.H2OFrame.from_python({\"cylinders\":11, \"displacement\" : 400, \"horsepower\" : 400, \n",
    "                                    \"weight\" : 2000, \"acceleration\" : 14, \"modelyear\" : 90,\n",
    "                                   \"origin\" : 2})"
   ]
  },
  {
   "cell_type": "code",
   "execution_count": 76,
   "metadata": {
    "collapsed": true
   },
   "outputs": [],
   "source": [
    "###: Performing prediction using one of the best deep learning model we built earlier"
   ]
  },
  {
   "cell_type": "code",
   "execution_count": 77,
   "metadata": {},
   "outputs": [
    {
     "name": "stdout",
     "output_type": "stream",
     "text": [
      "deeplearning prediction progress: |███████████████████████████████████████| 100%\n"
     ]
    },
    {
     "data": {
      "text/html": [
       "<table>\n",
       "<thead>\n",
       "<tr><th style=\"text-align: right;\">  predict</th></tr>\n",
       "</thead>\n",
       "<tbody>\n",
       "<tr><td style=\"text-align: right;\">   18.735</td></tr>\n",
       "</tbody>\n",
       "</table>"
      ]
     },
     "metadata": {},
     "output_type": "display_data"
    },
    {
     "data": {
      "text/plain": []
     },
     "execution_count": 77,
     "metadata": {},
     "output_type": "execute_result"
    }
   ],
   "source": [
    "dl_auto_cv_tuned.predict(df_test)"
   ]
  },
  {
   "cell_type": "code",
   "execution_count": null,
   "metadata": {
    "collapsed": true
   },
   "outputs": [],
   "source": []
  }
 ],
 "metadata": {
  "kernelspec": {
   "display_name": "Python 2",
   "language": "python",
   "name": "python2"
  },
  "language_info": {
   "codemirror_mode": {
    "name": "ipython",
    "version": 2
   },
   "file_extension": ".py",
   "mimetype": "text/x-python",
   "name": "python",
   "nbconvert_exporter": "python",
   "pygments_lexer": "ipython2",
   "version": "2.7.13"
  }
 },
 "nbformat": 4,
 "nbformat_minor": 2
}
