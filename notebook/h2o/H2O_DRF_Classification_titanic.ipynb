{
 "cells": [
  {
   "cell_type": "code",
   "execution_count": 1,
   "metadata": {
    "collapsed": true
   },
   "outputs": [],
   "source": [
    "###: Importing H2O Library"
   ]
  },
  {
   "cell_type": "code",
   "execution_count": 2,
   "metadata": {
    "collapsed": true
   },
   "outputs": [],
   "source": [
    "import h2o"
   ]
  },
  {
   "cell_type": "code",
   "execution_count": 3,
   "metadata": {
    "collapsed": true
   },
   "outputs": [],
   "source": [
    "### : Initializing h2O"
   ]
  },
  {
   "cell_type": "code",
   "execution_count": 4,
   "metadata": {},
   "outputs": [
    {
     "name": "stderr",
     "output_type": "stream",
     "text": [
      "ERROR:h2o:Key init.version_check is not a valid config key\n"
     ]
    },
    {
     "name": "stdout",
     "output_type": "stream",
     "text": [
      "Checking whether there is an H2O instance running at http://localhost:54321. connected.\n"
     ]
    },
    {
     "data": {
      "text/html": [
       "<div style=\"overflow:auto\"><table style=\"width:50%\"><tr><td>H2O cluster uptime:</td>\n",
       "<td>22 mins 38 secs</td></tr>\n",
       "<tr><td>H2O cluster version:</td>\n",
       "<td>3.14.0.7</td></tr>\n",
       "<tr><td>H2O cluster version age:</td>\n",
       "<td>27 days </td></tr>\n",
       "<tr><td>H2O cluster name:</td>\n",
       "<td>H2O_started_from_R_avkashchauhan_ggh839</td></tr>\n",
       "<tr><td>H2O cluster total nodes:</td>\n",
       "<td>1</td></tr>\n",
       "<tr><td>H2O cluster free memory:</td>\n",
       "<td>3.221 Gb</td></tr>\n",
       "<tr><td>H2O cluster total cores:</td>\n",
       "<td>8</td></tr>\n",
       "<tr><td>H2O cluster allowed cores:</td>\n",
       "<td>8</td></tr>\n",
       "<tr><td>H2O cluster status:</td>\n",
       "<td>locked, healthy</td></tr>\n",
       "<tr><td>H2O connection url:</td>\n",
       "<td>http://localhost:54321</td></tr>\n",
       "<tr><td>H2O connection proxy:</td>\n",
       "<td>None</td></tr>\n",
       "<tr><td>H2O internal security:</td>\n",
       "<td>False</td></tr>\n",
       "<tr><td>H2O API Extensions:</td>\n",
       "<td>XGBoost, Algos, AutoML, Core V3, Core V4</td></tr>\n",
       "<tr><td>Python version:</td>\n",
       "<td>2.7.13 final</td></tr></table></div>"
      ],
      "text/plain": [
       "--------------------------  ----------------------------------------\n",
       "H2O cluster uptime:         22 mins 38 secs\n",
       "H2O cluster version:        3.14.0.7\n",
       "H2O cluster version age:    27 days\n",
       "H2O cluster name:           H2O_started_from_R_avkashchauhan_ggh839\n",
       "H2O cluster total nodes:    1\n",
       "H2O cluster free memory:    3.221 Gb\n",
       "H2O cluster total cores:    8\n",
       "H2O cluster allowed cores:  8\n",
       "H2O cluster status:         locked, healthy\n",
       "H2O connection url:         http://localhost:54321\n",
       "H2O connection proxy:\n",
       "H2O internal security:      False\n",
       "H2O API Extensions:         XGBoost, Algos, AutoML, Core V3, Core V4\n",
       "Python version:             2.7.13 final\n",
       "--------------------------  ----------------------------------------"
      ]
     },
     "metadata": {},
     "output_type": "display_data"
    }
   ],
   "source": [
    "h2o.init()"
   ]
  },
  {
   "cell_type": "code",
   "execution_count": 5,
   "metadata": {
    "collapsed": true
   },
   "outputs": [],
   "source": [
    "### : Getting H2O Cluster status"
   ]
  },
  {
   "cell_type": "code",
   "execution_count": 6,
   "metadata": {},
   "outputs": [
    {
     "data": {
      "text/html": [
       "<div style=\"overflow:auto\"><table style=\"width:50%\"><tr><td>H2O cluster uptime:</td>\n",
       "<td>22 mins 38 secs</td></tr>\n",
       "<tr><td>H2O cluster version:</td>\n",
       "<td>3.14.0.7</td></tr>\n",
       "<tr><td>H2O cluster version age:</td>\n",
       "<td>27 days </td></tr>\n",
       "<tr><td>H2O cluster name:</td>\n",
       "<td>H2O_started_from_R_avkashchauhan_ggh839</td></tr>\n",
       "<tr><td>H2O cluster total nodes:</td>\n",
       "<td>1</td></tr>\n",
       "<tr><td>H2O cluster free memory:</td>\n",
       "<td>3.221 Gb</td></tr>\n",
       "<tr><td>H2O cluster total cores:</td>\n",
       "<td>8</td></tr>\n",
       "<tr><td>H2O cluster allowed cores:</td>\n",
       "<td>8</td></tr>\n",
       "<tr><td>H2O cluster status:</td>\n",
       "<td>locked, healthy</td></tr>\n",
       "<tr><td>H2O connection url:</td>\n",
       "<td>http://localhost:54321</td></tr>\n",
       "<tr><td>H2O connection proxy:</td>\n",
       "<td>None</td></tr>\n",
       "<tr><td>H2O internal security:</td>\n",
       "<td>False</td></tr>\n",
       "<tr><td>H2O API Extensions:</td>\n",
       "<td>XGBoost, Algos, AutoML, Core V3, Core V4</td></tr>\n",
       "<tr><td>Python version:</td>\n",
       "<td>2.7.13 final</td></tr></table></div>"
      ],
      "text/plain": [
       "--------------------------  ----------------------------------------\n",
       "H2O cluster uptime:         22 mins 38 secs\n",
       "H2O cluster version:        3.14.0.7\n",
       "H2O cluster version age:    27 days\n",
       "H2O cluster name:           H2O_started_from_R_avkashchauhan_ggh839\n",
       "H2O cluster total nodes:    1\n",
       "H2O cluster free memory:    3.221 Gb\n",
       "H2O cluster total cores:    8\n",
       "H2O cluster allowed cores:  8\n",
       "H2O cluster status:         locked, healthy\n",
       "H2O connection url:         http://localhost:54321\n",
       "H2O connection proxy:\n",
       "H2O internal security:      False\n",
       "H2O API Extensions:         XGBoost, Algos, AutoML, Core V3, Core V4\n",
       "Python version:             2.7.13 final\n",
       "--------------------------  ----------------------------------------"
      ]
     },
     "metadata": {},
     "output_type": "display_data"
    }
   ],
   "source": [
    "h2o.cluster().show_status()"
   ]
  },
  {
   "cell_type": "code",
   "execution_count": 7,
   "metadata": {
    "collapsed": true
   },
   "outputs": [],
   "source": [
    "###: Importing Dataset"
   ]
  },
  {
   "cell_type": "code",
   "execution_count": 8,
   "metadata": {},
   "outputs": [
    {
     "name": "stdout",
     "output_type": "stream",
     "text": [
      "Parse progress: |█████████████████████████████████████████████████████████| 100%\n"
     ]
    }
   ],
   "source": [
    "df = h2o.import_file(\"/Users/avkashchauhan/src/github.com/avkash/mldl/data/titanic_list.csv\")"
   ]
  },
  {
   "cell_type": "code",
   "execution_count": 9,
   "metadata": {
    "collapsed": true
   },
   "outputs": [],
   "source": [
    "###: Understanding Dataset"
   ]
  },
  {
   "cell_type": "code",
   "execution_count": 10,
   "metadata": {},
   "outputs": [
    {
     "name": "stdout",
     "output_type": "stream",
     "text": [
      "Rows:1309\n",
      "Cols:14\n",
      "\n",
      "\n"
     ]
    },
    {
     "data": {
      "text/html": [
       "<table>\n",
       "<thead>\n",
       "<tr><th>       </th><th>pclass       </th><th>survived      </th><th>name                                           </th><th>sex   </th><th>age          </th><th>sibsp         </th><th>parch         </th><th>ticket       </th><th>fare         </th><th>cabin  </th><th>embarked  </th><th>boat         </th><th>body         </th><th>home.dest                      </th></tr>\n",
       "</thead>\n",
       "<tbody>\n",
       "<tr><td>type   </td><td>int          </td><td>int           </td><td>string                                         </td><td>enum  </td><td>real         </td><td>int           </td><td>int           </td><td>int          </td><td>real         </td><td>enum   </td><td>enum      </td><td>int          </td><td>int          </td><td>enum                           </td></tr>\n",
       "<tr><td>mins   </td><td>1.0          </td><td>0.0           </td><td>NaN                                            </td><td>      </td><td>0.1667       </td><td>0.0           </td><td>0.0           </td><td>680.0        </td><td>0.0          </td><td>       </td><td>          </td><td>1.0          </td><td>1.0          </td><td>                               </td></tr>\n",
       "<tr><td>mean   </td><td>2.294881589  </td><td>0.381970970206</td><td>NaN                                            </td><td>      </td><td>29.8811345124</td><td>0.498854087089</td><td>0.385026737968</td><td>249039.136886</td><td>33.2954792813</td><td>       </td><td>          </td><td>9.40452261307</td><td>160.809917355</td><td>                               </td></tr>\n",
       "<tr><td>maxs   </td><td>3.0          </td><td>1.0           </td><td>NaN                                            </td><td>      </td><td>80.0         </td><td>8.0           </td><td>9.0           </td><td>3101298.0    </td><td>512.3292     </td><td>       </td><td>          </td><td>16.0         </td><td>328.0        </td><td>                               </td></tr>\n",
       "<tr><td>sigma  </td><td>0.83783601897</td><td>0.486055170866</td><td>NaN                                            </td><td>      </td><td>14.4134996999</td><td>1.0416583906  </td><td>0.86556027535 </td><td>442685.317677</td><td>51.7586682392</td><td>       </td><td>          </td><td>4.3574169836 </td><td>97.696921996 </td><td>                               </td></tr>\n",
       "<tr><td>zeros  </td><td>0            </td><td>809           </td><td>0                                              </td><td>      </td><td>0            </td><td>891           </td><td>1002          </td><td>0            </td><td>17           </td><td>       </td><td>          </td><td>0            </td><td>0            </td><td>                               </td></tr>\n",
       "<tr><td>missing</td><td>0            </td><td>0             </td><td>0                                              </td><td>0     </td><td>263          </td><td>0             </td><td>0             </td><td>352          </td><td>1            </td><td>1014   </td><td>2         </td><td>911          </td><td>1188         </td><td>564                            </td></tr>\n",
       "<tr><td>0      </td><td>1.0          </td><td>1.0           </td><td>Allen, Miss. Elisabeth Walton                  </td><td>female</td><td>29.0         </td><td>0.0           </td><td>0.0           </td><td>24160.0      </td><td>211.3375     </td><td>B5     </td><td>S         </td><td>2.0          </td><td>nan          </td><td>St Louis, MO                   </td></tr>\n",
       "<tr><td>1      </td><td>1.0          </td><td>1.0           </td><td>Allison, Master. Hudson Trevor                 </td><td>male  </td><td>0.9167       </td><td>1.0           </td><td>2.0           </td><td>113781.0     </td><td>151.55       </td><td>C22 C26</td><td>S         </td><td>11.0         </td><td>nan          </td><td>Montreal, PQ / Chesterville, ON</td></tr>\n",
       "<tr><td>2      </td><td>1.0          </td><td>0.0           </td><td>Allison, Miss. Helen Loraine                   </td><td>female</td><td>2.0          </td><td>1.0           </td><td>2.0           </td><td>113781.0     </td><td>151.55       </td><td>C22 C26</td><td>S         </td><td>nan          </td><td>nan          </td><td>Montreal, PQ / Chesterville, ON</td></tr>\n",
       "<tr><td>3      </td><td>1.0          </td><td>0.0           </td><td>Allison, Mr. Hudson Joshua Creighton           </td><td>male  </td><td>30.0         </td><td>1.0           </td><td>2.0           </td><td>113781.0     </td><td>151.55       </td><td>C22 C26</td><td>S         </td><td>nan          </td><td>135.0        </td><td>Montreal, PQ / Chesterville, ON</td></tr>\n",
       "<tr><td>4      </td><td>1.0          </td><td>0.0           </td><td>Allison, Mrs. Hudson J C (Bessie Waldo Daniels)</td><td>female</td><td>25.0         </td><td>1.0           </td><td>2.0           </td><td>113781.0     </td><td>151.55       </td><td>C22 C26</td><td>S         </td><td>nan          </td><td>nan          </td><td>Montreal, PQ / Chesterville, ON</td></tr>\n",
       "<tr><td>5      </td><td>1.0          </td><td>1.0           </td><td>Anderson, Mr. Harry                            </td><td>male  </td><td>48.0         </td><td>0.0           </td><td>0.0           </td><td>19952.0      </td><td>26.55        </td><td>E12    </td><td>S         </td><td>3.0          </td><td>nan          </td><td>New York, NY                   </td></tr>\n",
       "<tr><td>6      </td><td>1.0          </td><td>1.0           </td><td>Andrews, Miss. Kornelia Theodosia              </td><td>female</td><td>63.0         </td><td>1.0           </td><td>0.0           </td><td>13502.0      </td><td>77.9583      </td><td>D7     </td><td>S         </td><td>10.0         </td><td>nan          </td><td>Hudson, NY                     </td></tr>\n",
       "<tr><td>7      </td><td>1.0          </td><td>0.0           </td><td>Andrews, Mr. Thomas Jr                         </td><td>male  </td><td>39.0         </td><td>0.0           </td><td>0.0           </td><td>112050.0     </td><td>0.0          </td><td>A36    </td><td>S         </td><td>nan          </td><td>nan          </td><td>Belfast, NI                    </td></tr>\n",
       "<tr><td>8      </td><td>1.0          </td><td>1.0           </td><td>Appleton, Mrs. Edward Dale (Charlotte Lamson)  </td><td>female</td><td>53.0         </td><td>2.0           </td><td>0.0           </td><td>11769.0      </td><td>51.4792      </td><td>C101   </td><td>S         </td><td>nan          </td><td>nan          </td><td>Bayside, Queens, NY            </td></tr>\n",
       "<tr><td>9      </td><td>1.0          </td><td>0.0           </td><td>Artagaveytia, Mr. Ramon                        </td><td>male  </td><td>71.0         </td><td>0.0           </td><td>0.0           </td><td>nan          </td><td>49.5042      </td><td>       </td><td>C         </td><td>nan          </td><td>22.0         </td><td>Montevideo, Uruguay            </td></tr>\n",
       "</tbody>\n",
       "</table>"
      ]
     },
     "metadata": {},
     "output_type": "display_data"
    }
   ],
   "source": [
    "df.describe()"
   ]
  },
  {
   "cell_type": "code",
   "execution_count": 11,
   "metadata": {
    "collapsed": true
   },
   "outputs": [],
   "source": [
    "###: Understanding Dataset with pylab library"
   ]
  },
  {
   "cell_type": "code",
   "execution_count": 12,
   "metadata": {},
   "outputs": [
    {
     "data": {
      "text/plain": [
       "<matplotlib.figure.Figure at 0x10365dd10>"
      ]
     },
     "metadata": {},
     "output_type": "display_data"
    },
    {
     "data": {
      "image/png": "[encoded data removed]",
      "text/plain": [
       "<matplotlib.figure.Figure at 0x10ce91f50>"
      ]
     },
     "metadata": {},
     "output_type": "display_data"
    }
   ],
   "source": [
    "import pylab as pl\n",
    "pl.figure(figsize=(20,10))\n",
    "df.as_data_frame().hist()\n",
    "pl.show()"
   ]
  },
  {
   "cell_type": "code",
   "execution_count": 13,
   "metadata": {
    "collapsed": true
   },
   "outputs": [],
   "source": [
    "###: Getting a list of columns in our dataset"
   ]
  },
  {
   "cell_type": "code",
   "execution_count": 14,
   "metadata": {},
   "outputs": [
    {
     "data": {
      "text/plain": [
       "[u'pclass',\n",
       " u'survived',\n",
       " u'name',\n",
       " u'sex',\n",
       " u'age',\n",
       " u'sibsp',\n",
       " u'parch',\n",
       " u'ticket',\n",
       " u'fare',\n",
       " u'cabin',\n",
       " u'embarked',\n",
       " u'boat',\n",
       " u'body',\n",
       " u'home.dest']"
      ]
     },
     "execution_count": 14,
     "metadata": {},
     "output_type": "execute_result"
    }
   ],
   "source": [
    "df.col_names"
   ]
  },
  {
   "cell_type": "code",
   "execution_count": 15,
   "metadata": {
    "collapsed": true
   },
   "outputs": [],
   "source": [
    "###: Setting Response column"
   ]
  },
  {
   "cell_type": "code",
   "execution_count": 16,
   "metadata": {
    "collapsed": true
   },
   "outputs": [],
   "source": [
    "response = \"survived\""
   ]
  },
  {
   "cell_type": "code",
   "execution_count": 17,
   "metadata": {
    "collapsed": true
   },
   "outputs": [],
   "source": [
    "###: Setting Response column to factor so we can get unique values in it"
   ]
  },
  {
   "cell_type": "code",
   "execution_count": 18,
   "metadata": {},
   "outputs": [
    {
     "data": {
      "text/plain": [
       "[['0', '1']]"
      ]
     },
     "execution_count": 18,
     "metadata": {},
     "output_type": "execute_result"
    }
   ],
   "source": [
    "df['survived'].asfactor().levels()"
   ]
  },
  {
   "cell_type": "code",
   "execution_count": null,
   "metadata": {
    "collapsed": true
   },
   "outputs": [],
   "source": [
    "###: Understanding Dataset with Seaborn python library using origin as color pclass"
   ]
  },
  {
   "cell_type": "code",
   "execution_count": null,
   "metadata": {},
   "outputs": [],
   "source": [
    "import matplotlib.pyplot as plt\n",
    "plt.rcParams['figure.figsize'] = (12, 12)\n",
    "\n",
    "import seaborn as sns\n",
    "sns.set_context(\"notebook\")\n",
    "\n",
    "## Error due to NAs\n",
    "\n",
    "sns.pairplot(df.as_data_frame(), vars=[\"embarked\", \"survived\"], hue=\"pclass\");\n",
    "plt.show()"
   ]
  },
  {
   "cell_type": "code",
   "execution_count": 19,
   "metadata": {
    "collapsed": true
   },
   "outputs": [],
   "source": [
    "###: Setting Response column to factor so we can build classification model"
   ]
  },
  {
   "cell_type": "code",
   "execution_count": 20,
   "metadata": {
    "collapsed": true
   },
   "outputs": [],
   "source": [
    "df[response] = df[response].asfactor()"
   ]
  },
  {
   "cell_type": "code",
   "execution_count": 21,
   "metadata": {
    "collapsed": true
   },
   "outputs": [],
   "source": [
    "###: Verifying Response column as factor "
   ]
  },
  {
   "cell_type": "code",
   "execution_count": 22,
   "metadata": {},
   "outputs": [
    {
     "name": "stdout",
     "output_type": "stream",
     "text": [
      "Rows:1309\n",
      "Cols:1\n",
      "\n",
      "\n"
     ]
    },
    {
     "data": {
      "text/html": [
       "<table>\n",
       "<thead>\n",
       "<tr><th>       </th><th>survived  </th></tr>\n",
       "</thead>\n",
       "<tbody>\n",
       "<tr><td>type   </td><td>enum      </td></tr>\n",
       "<tr><td>mins   </td><td>          </td></tr>\n",
       "<tr><td>mean   </td><td>          </td></tr>\n",
       "<tr><td>maxs   </td><td>          </td></tr>\n",
       "<tr><td>sigma  </td><td>          </td></tr>\n",
       "<tr><td>zeros  </td><td>          </td></tr>\n",
       "<tr><td>missing</td><td>0         </td></tr>\n",
       "<tr><td>0      </td><td>1         </td></tr>\n",
       "<tr><td>1      </td><td>1         </td></tr>\n",
       "<tr><td>2      </td><td>0         </td></tr>\n",
       "<tr><td>3      </td><td>0         </td></tr>\n",
       "<tr><td>4      </td><td>0         </td></tr>\n",
       "<tr><td>5      </td><td>1         </td></tr>\n",
       "<tr><td>6      </td><td>1         </td></tr>\n",
       "<tr><td>7      </td><td>0         </td></tr>\n",
       "<tr><td>8      </td><td>1         </td></tr>\n",
       "<tr><td>9      </td><td>0         </td></tr>\n",
       "</tbody>\n",
       "</table>"
      ]
     },
     "metadata": {},
     "output_type": "display_data"
    }
   ],
   "source": [
    "df[response].describe()"
   ]
  },
  {
   "cell_type": "code",
   "execution_count": 23,
   "metadata": {
    "collapsed": true
   },
   "outputs": [],
   "source": [
    "###: Setting all columns/features into a local variable"
   ]
  },
  {
   "cell_type": "code",
   "execution_count": 24,
   "metadata": {
    "collapsed": true
   },
   "outputs": [],
   "source": [
    "features = df.col_names"
   ]
  },
  {
   "cell_type": "code",
   "execution_count": 25,
   "metadata": {
    "collapsed": true
   },
   "outputs": [],
   "source": [
    "###: Settings all features for model building"
   ]
  },
  {
   "cell_type": "code",
   "execution_count": 26,
   "metadata": {},
   "outputs": [
    {
     "name": "stdout",
     "output_type": "stream",
     "text": [
      "[u'pclass', u'name', u'sex', u'age', u'sibsp', u'parch', u'ticket', u'fare', u'cabin', u'embarked', u'boat', u'body', u'home.dest']\n"
     ]
    }
   ],
   "source": [
    "features.remove(response)\n",
    "print(features)"
   ]
  },
  {
   "cell_type": "code",
   "execution_count": 27,
   "metadata": {
    "collapsed": true
   },
   "outputs": [],
   "source": [
    "###: Ignoring list of features which are not required for model building"
   ]
  },
  {
   "cell_type": "code",
   "execution_count": 28,
   "metadata": {},
   "outputs": [
    {
     "name": "stdout",
     "output_type": "stream",
     "text": [
      "[u'pclass', u'sex', u'age', u'sibsp', u'parch', u'fare', u'cabin', u'embarked', u'boat', u'body']\n"
     ]
    }
   ],
   "source": [
    "ignore_list = ['name', 'ticket', 'home.dest']\n",
    "for x in ignore_list:\n",
    "    features.remove(x)\n",
    "print(features)    "
   ]
  },
  {
   "cell_type": "code",
   "execution_count": 29,
   "metadata": {
    "collapsed": true
   },
   "outputs": [],
   "source": [
    "###: Importing H2O Distributed Random Forest library"
   ]
  },
  {
   "cell_type": "code",
   "execution_count": 30,
   "metadata": {
    "collapsed": true
   },
   "outputs": [],
   "source": [
    "from h2o.estimators.random_forest import H2ORandomForestEstimator"
   ]
  },
  {
   "cell_type": "code",
   "execution_count": 31,
   "metadata": {
    "collapsed": true
   },
   "outputs": [],
   "source": [
    "###: Setting H2O Distributed Random Forest model configuration (default)"
   ]
  },
  {
   "cell_type": "code",
   "execution_count": 32,
   "metadata": {
    "collapsed": true
   },
   "outputs": [],
   "source": [
    "drf_titanic_basic = H2ORandomForestEstimator()"
   ]
  },
  {
   "cell_type": "code",
   "execution_count": 33,
   "metadata": {
    "collapsed": true
   },
   "outputs": [],
   "source": [
    "###: Training H2O Distributed Random Forest Model "
   ]
  },
  {
   "cell_type": "code",
   "execution_count": 34,
   "metadata": {},
   "outputs": [
    {
     "name": "stdout",
     "output_type": "stream",
     "text": [
      "drf Model Build progress: |███████████████████████████████████████████████| 100%\n"
     ]
    }
   ],
   "source": [
    "drf_titanic_basic.train(x = features, y = response,training_frame=df)"
   ]
  },
  {
   "cell_type": "code",
   "execution_count": 35,
   "metadata": {
    "collapsed": true
   },
   "outputs": [],
   "source": [
    "###: Understanding H2O Distributed Random Forest Model overall performance based on training data"
   ]
  },
  {
   "cell_type": "code",
   "execution_count": 36,
   "metadata": {},
   "outputs": [
    {
     "name": "stdout",
     "output_type": "stream",
     "text": [
      "\n",
      "ModelMetricsBinomial: drf\n",
      "** Reported on train data. **\n",
      "\n",
      "MSE: 0.0635641794918\n",
      "RMSE: 0.252119375479\n",
      "LogLoss: 0.239379129034\n",
      "Mean Per-Class Error: 0.0878887515451\n",
      "AUC: 0.963683559951\n",
      "Gini: 0.927367119901\n",
      "Confusion Matrix (Act/Pred) for max f1 @ threshold = 0.339064189366: \n"
     ]
    },
    {
     "data": {
      "text/html": [
       "<div style=\"overflow:auto\"><table style=\"width:50%\"><tr><td><b></b></td>\n",
       "<td><b>0</b></td>\n",
       "<td><b>1</b></td>\n",
       "<td><b>Error</b></td>\n",
       "<td><b>Rate</b></td></tr>\n",
       "<tr><td>0</td>\n",
       "<td>793.0</td>\n",
       "<td>16.0</td>\n",
       "<td>0.0198</td>\n",
       "<td> (16.0/809.0)</td></tr>\n",
       "<tr><td>1</td>\n",
       "<td>78.0</td>\n",
       "<td>422.0</td>\n",
       "<td>0.156</td>\n",
       "<td> (78.0/500.0)</td></tr>\n",
       "<tr><td>Total</td>\n",
       "<td>871.0</td>\n",
       "<td>438.0</td>\n",
       "<td>0.0718</td>\n",
       "<td> (94.0/1309.0)</td></tr></table></div>"
      ],
      "text/plain": [
       "       0    1    Error    Rate\n",
       "-----  ---  ---  -------  -------------\n",
       "0      793  16   0.0198   (16.0/809.0)\n",
       "1      78   422  0.156    (78.0/500.0)\n",
       "Total  871  438  0.0718   (94.0/1309.0)"
      ]
     },
     "metadata": {},
     "output_type": "display_data"
    },
    {
     "name": "stdout",
     "output_type": "stream",
     "text": [
      "Maximum Metrics: Maximum metrics at their respective thresholds\n",
      "\n"
     ]
    },
    {
     "data": {
      "text/html": [
       "<div style=\"overflow:auto\"><table style=\"width:50%\"><tr><td><b>metric</b></td>\n",
       "<td><b>threshold</b></td>\n",
       "<td><b>value</b></td>\n",
       "<td><b>idx</b></td></tr>\n",
       "<tr><td>max f1</td>\n",
       "<td>0.3390642</td>\n",
       "<td>0.8997868</td>\n",
       "<td>166.0</td></tr>\n",
       "<tr><td>max f2</td>\n",
       "<td>0.1860318</td>\n",
       "<td>0.9103208</td>\n",
       "<td>240.0</td></tr>\n",
       "<tr><td>max f0point5</td>\n",
       "<td>0.6003945</td>\n",
       "<td>0.9464627</td>\n",
       "<td>134.0</td></tr>\n",
       "<tr><td>max accuracy</td>\n",
       "<td>0.3390642</td>\n",
       "<td>0.9281895</td>\n",
       "<td>166.0</td></tr>\n",
       "<tr><td>max precision</td>\n",
       "<td>1.0</td>\n",
       "<td>1.0</td>\n",
       "<td>0.0</td></tr>\n",
       "<tr><td>max recall</td>\n",
       "<td>0.0704406</td>\n",
       "<td>1.0</td>\n",
       "<td>367.0</td></tr>\n",
       "<tr><td>max specificity</td>\n",
       "<td>1.0</td>\n",
       "<td>1.0</td>\n",
       "<td>0.0</td></tr>\n",
       "<tr><td>max absolute_mcc</td>\n",
       "<td>0.3390642</td>\n",
       "<td>0.8487066</td>\n",
       "<td>166.0</td></tr>\n",
       "<tr><td>max min_per_class_accuracy</td>\n",
       "<td>0.2365440</td>\n",
       "<td>0.908</td>\n",
       "<td>213.0</td></tr>\n",
       "<tr><td>max mean_per_class_accuracy</td>\n",
       "<td>0.3390642</td>\n",
       "<td>0.9121112</td>\n",
       "<td>166.0</td></tr></table></div>"
      ],
      "text/plain": [
       "metric                       threshold    value     idx\n",
       "---------------------------  -----------  --------  -----\n",
       "max f1                       0.339064     0.899787  166\n",
       "max f2                       0.186032     0.910321  240\n",
       "max f0point5                 0.600394     0.946463  134\n",
       "max accuracy                 0.339064     0.928189  166\n",
       "max precision                1            1         0\n",
       "max recall                   0.0704406    1         367\n",
       "max specificity              1            1         0\n",
       "max absolute_mcc             0.339064     0.848707  166\n",
       "max min_per_class_accuracy   0.236544     0.908     213\n",
       "max mean_per_class_accuracy  0.339064     0.912111  166"
      ]
     },
     "metadata": {},
     "output_type": "display_data"
    },
    {
     "name": "stdout",
     "output_type": "stream",
     "text": [
      "Gains/Lift Table: Avg response rate: 38.20 %\n",
      "\n"
     ]
    },
    {
     "data": {
      "text/html": [
       "<div style=\"overflow:auto\"><table style=\"width:50%\"><tr><td><b></b></td>\n",
       "<td><b>group</b></td>\n",
       "<td><b>cumulative_data_fraction</b></td>\n",
       "<td><b>lower_threshold</b></td>\n",
       "<td><b>lift</b></td>\n",
       "<td><b>cumulative_lift</b></td>\n",
       "<td><b>response_rate</b></td>\n",
       "<td><b>cumulative_response_rate</b></td>\n",
       "<td><b>capture_rate</b></td>\n",
       "<td><b>cumulative_capture_rate</b></td>\n",
       "<td><b>gain</b></td>\n",
       "<td><b>cumulative_gain</b></td></tr>\n",
       "<tr><td></td>\n",
       "<td>1</td>\n",
       "<td>0.0252101</td>\n",
       "<td>0.9650515</td>\n",
       "<td>2.618</td>\n",
       "<td>2.618</td>\n",
       "<td>1.0</td>\n",
       "<td>1.0</td>\n",
       "<td>0.066</td>\n",
       "<td>0.066</td>\n",
       "<td>161.8</td>\n",
       "<td>161.8</td></tr>\n",
       "<tr><td></td>\n",
       "<td>2</td>\n",
       "<td>0.0916730</td>\n",
       "<td>0.9601418</td>\n",
       "<td>2.618</td>\n",
       "<td>2.618</td>\n",
       "<td>1.0</td>\n",
       "<td>1.0</td>\n",
       "<td>0.174</td>\n",
       "<td>0.24</td>\n",
       "<td>161.8</td>\n",
       "<td>161.8</td></tr>\n",
       "<tr><td></td>\n",
       "<td>3</td>\n",
       "<td>0.1046600</td>\n",
       "<td>0.9401418</td>\n",
       "<td>2.618</td>\n",
       "<td>2.618</td>\n",
       "<td>1.0</td>\n",
       "<td>1.0</td>\n",
       "<td>0.034</td>\n",
       "<td>0.274</td>\n",
       "<td>161.8</td>\n",
       "<td>161.8</td></tr>\n",
       "<tr><td></td>\n",
       "<td>4</td>\n",
       "<td>0.1703591</td>\n",
       "<td>0.9336147</td>\n",
       "<td>2.618</td>\n",
       "<td>2.618</td>\n",
       "<td>1.0</td>\n",
       "<td>1.0</td>\n",
       "<td>0.172</td>\n",
       "<td>0.446</td>\n",
       "<td>161.8</td>\n",
       "<td>161.8</td></tr>\n",
       "<tr><td></td>\n",
       "<td>5</td>\n",
       "<td>0.2009167</td>\n",
       "<td>0.9185245</td>\n",
       "<td>2.618</td>\n",
       "<td>2.618</td>\n",
       "<td>1.0</td>\n",
       "<td>1.0</td>\n",
       "<td>0.08</td>\n",
       "<td>0.526</td>\n",
       "<td>161.8</td>\n",
       "<td>161.8</td></tr>\n",
       "<tr><td></td>\n",
       "<td>6</td>\n",
       "<td>0.3002292</td>\n",
       "<td>0.8387419</td>\n",
       "<td>2.618</td>\n",
       "<td>2.618</td>\n",
       "<td>1.0</td>\n",
       "<td>1.0</td>\n",
       "<td>0.26</td>\n",
       "<td>0.786</td>\n",
       "<td>161.8</td>\n",
       "<td>161.8</td></tr>\n",
       "<tr><td></td>\n",
       "<td>7</td>\n",
       "<td>0.4003056</td>\n",
       "<td>0.2061024</td>\n",
       "<td>1.8585802</td>\n",
       "<td>2.4281450</td>\n",
       "<td>0.7099237</td>\n",
       "<td>0.9274809</td>\n",
       "<td>0.186</td>\n",
       "<td>0.972</td>\n",
       "<td>85.8580153</td>\n",
       "<td>142.8145038</td></tr>\n",
       "<tr><td></td>\n",
       "<td>8</td>\n",
       "<td>0.5003820</td>\n",
       "<td>0.1368184</td>\n",
       "<td>0.2797863</td>\n",
       "<td>1.9984733</td>\n",
       "<td>0.1068702</td>\n",
       "<td>0.7633588</td>\n",
       "<td>0.028</td>\n",
       "<td>1.0</td>\n",
       "<td>-72.0213740</td>\n",
       "<td>99.8473282</td></tr>\n",
       "<tr><td></td>\n",
       "<td>9</td>\n",
       "<td>0.6012223</td>\n",
       "<td>0.1176763</td>\n",
       "<td>0.0</td>\n",
       "<td>1.6632783</td>\n",
       "<td>0.0</td>\n",
       "<td>0.6353240</td>\n",
       "<td>0.0</td>\n",
       "<td>1.0</td>\n",
       "<td>-100.0</td>\n",
       "<td>66.3278272</td></tr>\n",
       "<tr><td></td>\n",
       "<td>10</td>\n",
       "<td>0.7043545</td>\n",
       "<td>0.1130415</td>\n",
       "<td>0.0</td>\n",
       "<td>1.4197397</td>\n",
       "<td>0.0</td>\n",
       "<td>0.5422993</td>\n",
       "<td>0.0</td>\n",
       "<td>1.0</td>\n",
       "<td>-100.0</td>\n",
       "<td>41.9739696</td></tr>\n",
       "<tr><td></td>\n",
       "<td>11</td>\n",
       "<td>0.8029030</td>\n",
       "<td>0.1121836</td>\n",
       "<td>0.0</td>\n",
       "<td>1.2454805</td>\n",
       "<td>0.0</td>\n",
       "<td>0.4757374</td>\n",
       "<td>0.0</td>\n",
       "<td>1.0</td>\n",
       "<td>-100.0</td>\n",
       "<td>24.5480495</td></tr>\n",
       "<tr><td></td>\n",
       "<td>12</td>\n",
       "<td>0.8999236</td>\n",
       "<td>0.1051239</td>\n",
       "<td>0.0</td>\n",
       "<td>1.1112054</td>\n",
       "<td>0.0</td>\n",
       "<td>0.4244482</td>\n",
       "<td>0.0</td>\n",
       "<td>1.0</td>\n",
       "<td>-100.0</td>\n",
       "<td>11.1205433</td></tr>\n",
       "<tr><td></td>\n",
       "<td>13</td>\n",
       "<td>1.0</td>\n",
       "<td>0.0500633</td>\n",
       "<td>0.0</td>\n",
       "<td>1.0</td>\n",
       "<td>0.0</td>\n",
       "<td>0.3819710</td>\n",
       "<td>0.0</td>\n",
       "<td>1.0</td>\n",
       "<td>-100.0</td>\n",
       "<td>0.0</td></tr></table></div>"
      ],
      "text/plain": [
       "    group    cumulative_data_fraction    lower_threshold    lift      cumulative_lift    response_rate    cumulative_response_rate    capture_rate    cumulative_capture_rate    gain      cumulative_gain\n",
       "--  -------  --------------------------  -----------------  --------  -----------------  ---------------  --------------------------  --------------  -------------------------  --------  -----------------\n",
       "    1        0.0252101                   0.965052           2.618     2.618              1                1                           0.066           0.066                      161.8     161.8\n",
       "    2        0.091673                    0.960142           2.618     2.618              1                1                           0.174           0.24                       161.8     161.8\n",
       "    3        0.10466                     0.940142           2.618     2.618              1                1                           0.034           0.274                      161.8     161.8\n",
       "    4        0.170359                    0.933615           2.618     2.618              1                1                           0.172           0.446                      161.8     161.8\n",
       "    5        0.200917                    0.918524           2.618     2.618              1                1                           0.08            0.526                      161.8     161.8\n",
       "    6        0.300229                    0.838742           2.618     2.618              1                1                           0.26            0.786                      161.8     161.8\n",
       "    7        0.400306                    0.206102           1.85858   2.42815            0.709924         0.927481                    0.186           0.972                      85.858    142.815\n",
       "    8        0.500382                    0.136818           0.279786  1.99847            0.10687          0.763359                    0.028           1                          -72.0214  99.8473\n",
       "    9        0.601222                    0.117676           0         1.66328            0                0.635324                    0               1                          -100      66.3278\n",
       "    10       0.704354                    0.113041           0         1.41974            0                0.542299                    0               1                          -100      41.974\n",
       "    11       0.802903                    0.112184           0         1.24548            0                0.475737                    0               1                          -100      24.548\n",
       "    12       0.899924                    0.105124           0         1.11121            0                0.424448                    0               1                          -100      11.1205\n",
       "    13       1                           0.0500633          0         1                  0                0.381971                    0               1                          -100      0"
      ]
     },
     "metadata": {},
     "output_type": "display_data"
    },
    {
     "name": "stdout",
     "output_type": "stream",
     "text": [
      "\n"
     ]
    },
    {
     "data": {
      "text/plain": []
     },
     "execution_count": 36,
     "metadata": {},
     "output_type": "execute_result"
    }
   ],
   "source": [
    "drf_titanic_basic.model_performance(train=True)"
   ]
  },
  {
   "cell_type": "code",
   "execution_count": 37,
   "metadata": {
    "collapsed": true
   },
   "outputs": [],
   "source": [
    "###: Understanding H2O Distributed Random Forest Model - AUC Model metrics based on training data"
   ]
  },
  {
   "cell_type": "code",
   "execution_count": 38,
   "metadata": {},
   "outputs": [
    {
     "data": {
      "text/plain": [
       "0.9636835599505562"
      ]
     },
     "execution_count": 38,
     "metadata": {},
     "output_type": "execute_result"
    }
   ],
   "source": [
    "drf_titanic_basic.model_performance(train=True).auc()"
   ]
  },
  {
   "cell_type": "code",
   "execution_count": 39,
   "metadata": {
    "collapsed": true
   },
   "outputs": [],
   "source": [
    "###: Setting H2O Distributed Random Forest model configuration to use cross validation with 5 folds"
   ]
  },
  {
   "cell_type": "code",
   "execution_count": 40,
   "metadata": {
    "collapsed": true
   },
   "outputs": [],
   "source": [
    "drf_titanic_cv = H2ORandomForestEstimator(nfolds = 5 )"
   ]
  },
  {
   "cell_type": "code",
   "execution_count": 41,
   "metadata": {
    "collapsed": true
   },
   "outputs": [],
   "source": [
    "###: Training H2O Distributed Random Forest Model"
   ]
  },
  {
   "cell_type": "code",
   "execution_count": 42,
   "metadata": {},
   "outputs": [
    {
     "name": "stdout",
     "output_type": "stream",
     "text": [
      "drf Model Build progress: |███████████████████████████████████████████████| 100%\n"
     ]
    }
   ],
   "source": [
    "drf_titanic_cv.train(x = features, y = response,training_frame=df)"
   ]
  },
  {
   "cell_type": "code",
   "execution_count": 43,
   "metadata": {
    "collapsed": true
   },
   "outputs": [],
   "source": [
    "###: Understanding H2O Distributed Random Forest Model overall performance based on cross validation data (r2 only)"
   ]
  },
  {
   "cell_type": "code",
   "execution_count": 44,
   "metadata": {},
   "outputs": [
    {
     "data": {
      "text/plain": [
       "0.9606761433868974"
      ]
     },
     "execution_count": 44,
     "metadata": {},
     "output_type": "execute_result"
    }
   ],
   "source": [
    "drf_titanic_cv.model_performance(xval=True).auc()"
   ]
  },
  {
   "cell_type": "code",
   "execution_count": 45,
   "metadata": {
    "collapsed": true
   },
   "outputs": [],
   "source": [
    "###: Plotting H2O Distributed Random Forest Model for its AUC metric "
   ]
  },
  {
   "cell_type": "code",
   "execution_count": 46,
   "metadata": {},
   "outputs": [
    {
     "data": {
      "image/png": "[encoded data removed]",
      "text/plain": [
       "<matplotlib.figure.Figure at 0x10d67eb90>"
      ]
     },
     "metadata": {},
     "output_type": "display_data"
    }
   ],
   "source": [
    "drf_titanic_cv.plot(metric='auc')"
   ]
  },
  {
   "cell_type": "code",
   "execution_count": 47,
   "metadata": {
    "collapsed": true
   },
   "outputs": [],
   "source": [
    "###: Generating H2O Distributed Random Forest "
   ]
  },
  {
   "cell_type": "code",
   "execution_count": 48,
   "metadata": {},
   "outputs": [
    {
     "data": {
      "image/png": "[encoded data removed]",
      "text/plain": [
       "<matplotlib.figure.Figure at 0x10d868f10>"
      ]
     },
     "metadata": {},
     "output_type": "display_data"
    }
   ],
   "source": [
    "drf_titanic_cv.varimp_plot()"
   ]
  },
  {
   "cell_type": "code",
   "execution_count": 49,
   "metadata": {
    "collapsed": true
   },
   "outputs": [],
   "source": [
    "###: Setting H2O Distributed Random Forest model configuration to use cross validation with 5 folds and various other parameters\n",
    "###: for tuning the performance and accuracy"
   ]
  },
  {
   "cell_type": "code",
   "execution_count": 50,
   "metadata": {
    "collapsed": true
   },
   "outputs": [],
   "source": [
    "drf_titanic_cv_tuned = H2ORandomForestEstimator(nfolds = 5,\n",
    "                                    ntrees=10,\n",
    "                                    max_depth=3,\n",
    "                                    min_rows=2,\n",
    "                                    keep_cross_validation_predictions=True,\n",
    "                                   seed = 12345)"
   ]
  },
  {
   "cell_type": "code",
   "execution_count": 51,
   "metadata": {
    "collapsed": true
   },
   "outputs": [],
   "source": [
    "###: Training H2O Distributed Random Forest Model "
   ]
  },
  {
   "cell_type": "code",
   "execution_count": 52,
   "metadata": {},
   "outputs": [
    {
     "name": "stdout",
     "output_type": "stream",
     "text": [
      "drf Model Build progress: |███████████████████████████████████████████████| 100%\n"
     ]
    }
   ],
   "source": [
    "drf_titanic_cv_tuned.train(x = features, y = response, training_frame=df)"
   ]
  },
  {
   "cell_type": "code",
   "execution_count": 53,
   "metadata": {
    "collapsed": true
   },
   "outputs": [],
   "source": [
    "###: Understanding H2O Distributed Random Forest Model overall performance based on cross validation data (AUC only)"
   ]
  },
  {
   "cell_type": "code",
   "execution_count": 54,
   "metadata": {},
   "outputs": [
    {
     "name": "stdout",
     "output_type": "stream",
     "text": [
      "0.963683559951\n",
      "0.960676143387\n",
      "0.950353522868\n"
     ]
    }
   ],
   "source": [
    "print(drf_titanic_basic.model_performance(train=True).auc())\n",
    "print(drf_titanic_cv.model_performance(xval=True).auc())\n",
    "print(drf_titanic_cv_tuned.model_performance(xval=True).auc())"
   ]
  },
  {
   "cell_type": "code",
   "execution_count": 55,
   "metadata": {
    "collapsed": true
   },
   "outputs": [],
   "source": [
    "###:  H2O Distributed Random Forest Tuned model varialbe importance plot"
   ]
  },
  {
   "cell_type": "code",
   "execution_count": 56,
   "metadata": {},
   "outputs": [
    {
     "data": {
      "image/png": "[encoded data removed]",
      "text/plain": [
       "<matplotlib.figure.Figure at 0x10d871850>"
      ]
     },
     "metadata": {},
     "output_type": "display_data"
    }
   ],
   "source": [
    "drf_titanic_cv_tuned.varimp_plot()"
   ]
  },
  {
   "cell_type": "code",
   "execution_count": 57,
   "metadata": {
    "collapsed": true
   },
   "outputs": [],
   "source": [
    "###:  H2O Distributed Random Forest Tuned model varialbe importance plot"
   ]
  },
  {
   "cell_type": "code",
   "execution_count": 58,
   "metadata": {},
   "outputs": [
    {
     "data": {
      "text/html": [
       "<div>\n",
       "<style>\n",
       "    .dataframe thead tr:only-child th {\n",
       "        text-align: right;\n",
       "    }\n",
       "\n",
       "    .dataframe thead th {\n",
       "        text-align: left;\n",
       "    }\n",
       "\n",
       "    .dataframe tbody tr th {\n",
       "        vertical-align: top;\n",
       "    }\n",
       "</style>\n",
       "<table border=\"1\" class=\"dataframe\">\n",
       "  <thead>\n",
       "    <tr style=\"text-align: right;\">\n",
       "      <th></th>\n",
       "      <th></th>\n",
       "      <th>timestamp</th>\n",
       "      <th>duration</th>\n",
       "      <th>number_of_trees</th>\n",
       "      <th>training_rmse</th>\n",
       "      <th>training_logloss</th>\n",
       "      <th>training_auc</th>\n",
       "      <th>training_lift</th>\n",
       "      <th>training_classification_error</th>\n",
       "    </tr>\n",
       "  </thead>\n",
       "  <tbody>\n",
       "    <tr>\n",
       "      <th>0</th>\n",
       "      <td></td>\n",
       "      <td>2017-11-17 09:37:25</td>\n",
       "      <td>0.196 sec</td>\n",
       "      <td>0.0</td>\n",
       "      <td>NaN</td>\n",
       "      <td>NaN</td>\n",
       "      <td>NaN</td>\n",
       "      <td>NaN</td>\n",
       "      <td>NaN</td>\n",
       "    </tr>\n",
       "    <tr>\n",
       "      <th>1</th>\n",
       "      <td></td>\n",
       "      <td>2017-11-17 09:37:25</td>\n",
       "      <td>0.199 sec</td>\n",
       "      <td>1.0</td>\n",
       "      <td>0.468981</td>\n",
       "      <td>3.016329</td>\n",
       "      <td>0.747661</td>\n",
       "      <td>2.195004</td>\n",
       "      <td>0.285425</td>\n",
       "    </tr>\n",
       "    <tr>\n",
       "      <th>2</th>\n",
       "      <td></td>\n",
       "      <td>2017-11-17 09:37:25</td>\n",
       "      <td>0.202 sec</td>\n",
       "      <td>2.0</td>\n",
       "      <td>0.369714</td>\n",
       "      <td>1.343281</td>\n",
       "      <td>0.844582</td>\n",
       "      <td>2.618000</td>\n",
       "      <td>0.182390</td>\n",
       "    </tr>\n",
       "    <tr>\n",
       "      <th>3</th>\n",
       "      <td></td>\n",
       "      <td>2017-11-17 09:37:25</td>\n",
       "      <td>0.206 sec</td>\n",
       "      <td>3.0</td>\n",
       "      <td>0.332265</td>\n",
       "      <td>0.745711</td>\n",
       "      <td>0.869292</td>\n",
       "      <td>2.618000</td>\n",
       "      <td>0.118902</td>\n",
       "    </tr>\n",
       "    <tr>\n",
       "      <th>4</th>\n",
       "      <td></td>\n",
       "      <td>2017-11-17 09:37:25</td>\n",
       "      <td>0.210 sec</td>\n",
       "      <td>4.0</td>\n",
       "      <td>0.310285</td>\n",
       "      <td>0.546964</td>\n",
       "      <td>0.894127</td>\n",
       "      <td>2.618000</td>\n",
       "      <td>0.102954</td>\n",
       "    </tr>\n",
       "    <tr>\n",
       "      <th>5</th>\n",
       "      <td></td>\n",
       "      <td>2017-11-17 09:37:25</td>\n",
       "      <td>0.214 sec</td>\n",
       "      <td>5.0</td>\n",
       "      <td>0.294225</td>\n",
       "      <td>0.425936</td>\n",
       "      <td>0.915779</td>\n",
       "      <td>2.618000</td>\n",
       "      <td>0.094996</td>\n",
       "    </tr>\n",
       "    <tr>\n",
       "      <th>6</th>\n",
       "      <td></td>\n",
       "      <td>2017-11-17 09:37:25</td>\n",
       "      <td>0.219 sec</td>\n",
       "      <td>6.0</td>\n",
       "      <td>0.283047</td>\n",
       "      <td>0.325113</td>\n",
       "      <td>0.924777</td>\n",
       "      <td>2.618000</td>\n",
       "      <td>0.090244</td>\n",
       "    </tr>\n",
       "    <tr>\n",
       "      <th>7</th>\n",
       "      <td></td>\n",
       "      <td>2017-11-17 09:37:25</td>\n",
       "      <td>0.223 sec</td>\n",
       "      <td>7.0</td>\n",
       "      <td>0.297687</td>\n",
       "      <td>0.331142</td>\n",
       "      <td>0.919938</td>\n",
       "      <td>2.618000</td>\n",
       "      <td>0.095163</td>\n",
       "    </tr>\n",
       "    <tr>\n",
       "      <th>8</th>\n",
       "      <td></td>\n",
       "      <td>2017-11-17 09:37:25</td>\n",
       "      <td>0.227 sec</td>\n",
       "      <td>8.0</td>\n",
       "      <td>0.300955</td>\n",
       "      <td>0.314875</td>\n",
       "      <td>0.918121</td>\n",
       "      <td>2.618000</td>\n",
       "      <td>0.092188</td>\n",
       "    </tr>\n",
       "    <tr>\n",
       "      <th>9</th>\n",
       "      <td></td>\n",
       "      <td>2017-11-17 09:37:25</td>\n",
       "      <td>0.231 sec</td>\n",
       "      <td>9.0</td>\n",
       "      <td>0.297215</td>\n",
       "      <td>0.309309</td>\n",
       "      <td>0.916042</td>\n",
       "      <td>2.618000</td>\n",
       "      <td>0.092248</td>\n",
       "    </tr>\n",
       "    <tr>\n",
       "      <th>10</th>\n",
       "      <td></td>\n",
       "      <td>2017-11-17 09:37:25</td>\n",
       "      <td>0.238 sec</td>\n",
       "      <td>10.0</td>\n",
       "      <td>0.288799</td>\n",
       "      <td>0.297317</td>\n",
       "      <td>0.933232</td>\n",
       "      <td>2.618000</td>\n",
       "      <td>0.086856</td>\n",
       "    </tr>\n",
       "  </tbody>\n",
       "</table>\n",
       "</div>"
      ],
      "text/plain": [
       "                timestamp    duration  number_of_trees  training_rmse  \\\n",
       "0     2017-11-17 09:37:25   0.196 sec              0.0            NaN   \n",
       "1     2017-11-17 09:37:25   0.199 sec              1.0       0.468981   \n",
       "2     2017-11-17 09:37:25   0.202 sec              2.0       0.369714   \n",
       "3     2017-11-17 09:37:25   0.206 sec              3.0       0.332265   \n",
       "4     2017-11-17 09:37:25   0.210 sec              4.0       0.310285   \n",
       "5     2017-11-17 09:37:25   0.214 sec              5.0       0.294225   \n",
       "6     2017-11-17 09:37:25   0.219 sec              6.0       0.283047   \n",
       "7     2017-11-17 09:37:25   0.223 sec              7.0       0.297687   \n",
       "8     2017-11-17 09:37:25   0.227 sec              8.0       0.300955   \n",
       "9     2017-11-17 09:37:25   0.231 sec              9.0       0.297215   \n",
       "10    2017-11-17 09:37:25   0.238 sec             10.0       0.288799   \n",
       "\n",
       "    training_logloss  training_auc  training_lift  \\\n",
       "0                NaN           NaN            NaN   \n",
       "1           3.016329      0.747661       2.195004   \n",
       "2           1.343281      0.844582       2.618000   \n",
       "3           0.745711      0.869292       2.618000   \n",
       "4           0.546964      0.894127       2.618000   \n",
       "5           0.425936      0.915779       2.618000   \n",
       "6           0.325113      0.924777       2.618000   \n",
       "7           0.331142      0.919938       2.618000   \n",
       "8           0.314875      0.918121       2.618000   \n",
       "9           0.309309      0.916042       2.618000   \n",
       "10          0.297317      0.933232       2.618000   \n",
       "\n",
       "    training_classification_error  \n",
       "0                             NaN  \n",
       "1                        0.285425  \n",
       "2                        0.182390  \n",
       "3                        0.118902  \n",
       "4                        0.102954  \n",
       "5                        0.094996  \n",
       "6                        0.090244  \n",
       "7                        0.095163  \n",
       "8                        0.092188  \n",
       "9                        0.092248  \n",
       "10                       0.086856  "
      ]
     },
     "execution_count": 58,
     "metadata": {},
     "output_type": "execute_result"
    }
   ],
   "source": [
    "drf_titanic_cv_tuned.score_history()"
   ]
  },
  {
   "cell_type": "code",
   "execution_count": 59,
   "metadata": {},
   "outputs": [
    {
     "data": {
      "text/html": [
       "<div>\n",
       "<style>\n",
       "    .dataframe thead tr:only-child th {\n",
       "        text-align: right;\n",
       "    }\n",
       "\n",
       "    .dataframe thead th {\n",
       "        text-align: left;\n",
       "    }\n",
       "\n",
       "    .dataframe tbody tr th {\n",
       "        vertical-align: top;\n",
       "    }\n",
       "</style>\n",
       "<table border=\"1\" class=\"dataframe\">\n",
       "  <thead>\n",
       "    <tr style=\"text-align: right;\">\n",
       "      <th></th>\n",
       "      <th></th>\n",
       "      <th>timestamp</th>\n",
       "      <th>duration</th>\n",
       "      <th>number_of_trees</th>\n",
       "      <th>training_rmse</th>\n",
       "      <th>training_logloss</th>\n",
       "      <th>training_auc</th>\n",
       "      <th>training_lift</th>\n",
       "      <th>training_classification_error</th>\n",
       "    </tr>\n",
       "  </thead>\n",
       "  <tbody>\n",
       "    <tr>\n",
       "      <th>0</th>\n",
       "      <td></td>\n",
       "      <td>2017-11-17 09:37:25</td>\n",
       "      <td>0.196 sec</td>\n",
       "      <td>0.0</td>\n",
       "      <td>NaN</td>\n",
       "      <td>NaN</td>\n",
       "      <td>NaN</td>\n",
       "      <td>NaN</td>\n",
       "      <td>NaN</td>\n",
       "    </tr>\n",
       "    <tr>\n",
       "      <th>1</th>\n",
       "      <td></td>\n",
       "      <td>2017-11-17 09:37:25</td>\n",
       "      <td>0.199 sec</td>\n",
       "      <td>1.0</td>\n",
       "      <td>0.468981</td>\n",
       "      <td>3.016329</td>\n",
       "      <td>0.747661</td>\n",
       "      <td>2.195004</td>\n",
       "      <td>0.285425</td>\n",
       "    </tr>\n",
       "    <tr>\n",
       "      <th>2</th>\n",
       "      <td></td>\n",
       "      <td>2017-11-17 09:37:25</td>\n",
       "      <td>0.202 sec</td>\n",
       "      <td>2.0</td>\n",
       "      <td>0.369714</td>\n",
       "      <td>1.343281</td>\n",
       "      <td>0.844582</td>\n",
       "      <td>2.618000</td>\n",
       "      <td>0.182390</td>\n",
       "    </tr>\n",
       "    <tr>\n",
       "      <th>3</th>\n",
       "      <td></td>\n",
       "      <td>2017-11-17 09:37:25</td>\n",
       "      <td>0.206 sec</td>\n",
       "      <td>3.0</td>\n",
       "      <td>0.332265</td>\n",
       "      <td>0.745711</td>\n",
       "      <td>0.869292</td>\n",
       "      <td>2.618000</td>\n",
       "      <td>0.118902</td>\n",
       "    </tr>\n",
       "    <tr>\n",
       "      <th>4</th>\n",
       "      <td></td>\n",
       "      <td>2017-11-17 09:37:25</td>\n",
       "      <td>0.210 sec</td>\n",
       "      <td>4.0</td>\n",
       "      <td>0.310285</td>\n",
       "      <td>0.546964</td>\n",
       "      <td>0.894127</td>\n",
       "      <td>2.618000</td>\n",
       "      <td>0.102954</td>\n",
       "    </tr>\n",
       "    <tr>\n",
       "      <th>5</th>\n",
       "      <td></td>\n",
       "      <td>2017-11-17 09:37:25</td>\n",
       "      <td>0.214 sec</td>\n",
       "      <td>5.0</td>\n",
       "      <td>0.294225</td>\n",
       "      <td>0.425936</td>\n",
       "      <td>0.915779</td>\n",
       "      <td>2.618000</td>\n",
       "      <td>0.094996</td>\n",
       "    </tr>\n",
       "    <tr>\n",
       "      <th>6</th>\n",
       "      <td></td>\n",
       "      <td>2017-11-17 09:37:25</td>\n",
       "      <td>0.219 sec</td>\n",
       "      <td>6.0</td>\n",
       "      <td>0.283047</td>\n",
       "      <td>0.325113</td>\n",
       "      <td>0.924777</td>\n",
       "      <td>2.618000</td>\n",
       "      <td>0.090244</td>\n",
       "    </tr>\n",
       "    <tr>\n",
       "      <th>7</th>\n",
       "      <td></td>\n",
       "      <td>2017-11-17 09:37:25</td>\n",
       "      <td>0.223 sec</td>\n",
       "      <td>7.0</td>\n",
       "      <td>0.297687</td>\n",
       "      <td>0.331142</td>\n",
       "      <td>0.919938</td>\n",
       "      <td>2.618000</td>\n",
       "      <td>0.095163</td>\n",
       "    </tr>\n",
       "    <tr>\n",
       "      <th>8</th>\n",
       "      <td></td>\n",
       "      <td>2017-11-17 09:37:25</td>\n",
       "      <td>0.227 sec</td>\n",
       "      <td>8.0</td>\n",
       "      <td>0.300955</td>\n",
       "      <td>0.314875</td>\n",
       "      <td>0.918121</td>\n",
       "      <td>2.618000</td>\n",
       "      <td>0.092188</td>\n",
       "    </tr>\n",
       "    <tr>\n",
       "      <th>9</th>\n",
       "      <td></td>\n",
       "      <td>2017-11-17 09:37:25</td>\n",
       "      <td>0.231 sec</td>\n",
       "      <td>9.0</td>\n",
       "      <td>0.297215</td>\n",
       "      <td>0.309309</td>\n",
       "      <td>0.916042</td>\n",
       "      <td>2.618000</td>\n",
       "      <td>0.092248</td>\n",
       "    </tr>\n",
       "    <tr>\n",
       "      <th>10</th>\n",
       "      <td></td>\n",
       "      <td>2017-11-17 09:37:25</td>\n",
       "      <td>0.238 sec</td>\n",
       "      <td>10.0</td>\n",
       "      <td>0.288799</td>\n",
       "      <td>0.297317</td>\n",
       "      <td>0.933232</td>\n",
       "      <td>2.618000</td>\n",
       "      <td>0.086856</td>\n",
       "    </tr>\n",
       "  </tbody>\n",
       "</table>\n",
       "</div>"
      ],
      "text/plain": [
       "                timestamp    duration  number_of_trees  training_rmse  \\\n",
       "0     2017-11-17 09:37:25   0.196 sec              0.0            NaN   \n",
       "1     2017-11-17 09:37:25   0.199 sec              1.0       0.468981   \n",
       "2     2017-11-17 09:37:25   0.202 sec              2.0       0.369714   \n",
       "3     2017-11-17 09:37:25   0.206 sec              3.0       0.332265   \n",
       "4     2017-11-17 09:37:25   0.210 sec              4.0       0.310285   \n",
       "5     2017-11-17 09:37:25   0.214 sec              5.0       0.294225   \n",
       "6     2017-11-17 09:37:25   0.219 sec              6.0       0.283047   \n",
       "7     2017-11-17 09:37:25   0.223 sec              7.0       0.297687   \n",
       "8     2017-11-17 09:37:25   0.227 sec              8.0       0.300955   \n",
       "9     2017-11-17 09:37:25   0.231 sec              9.0       0.297215   \n",
       "10    2017-11-17 09:37:25   0.238 sec             10.0       0.288799   \n",
       "\n",
       "    training_logloss  training_auc  training_lift  \\\n",
       "0                NaN           NaN            NaN   \n",
       "1           3.016329      0.747661       2.195004   \n",
       "2           1.343281      0.844582       2.618000   \n",
       "3           0.745711      0.869292       2.618000   \n",
       "4           0.546964      0.894127       2.618000   \n",
       "5           0.425936      0.915779       2.618000   \n",
       "6           0.325113      0.924777       2.618000   \n",
       "7           0.331142      0.919938       2.618000   \n",
       "8           0.314875      0.918121       2.618000   \n",
       "9           0.309309      0.916042       2.618000   \n",
       "10          0.297317      0.933232       2.618000   \n",
       "\n",
       "    training_classification_error  \n",
       "0                             NaN  \n",
       "1                        0.285425  \n",
       "2                        0.182390  \n",
       "3                        0.118902  \n",
       "4                        0.102954  \n",
       "5                        0.094996  \n",
       "6                        0.090244  \n",
       "7                        0.095163  \n",
       "8                        0.092188  \n",
       "9                        0.092248  \n",
       "10                       0.086856  "
      ]
     },
     "execution_count": 59,
     "metadata": {},
     "output_type": "execute_result"
    }
   ],
   "source": [
    "drf_titanic_cv_tuned.scoring_history()"
   ]
  },
  {
   "cell_type": "code",
   "execution_count": 60,
   "metadata": {
    "collapsed": true
   },
   "outputs": [],
   "source": [
    "### PERFORMING PREDICTIONS USING a TEST DATA SET"
   ]
  },
  {
   "cell_type": "code",
   "execution_count": 61,
   "metadata": {
    "collapsed": true
   },
   "outputs": [],
   "source": [
    "###: listing features used for model building from the original data set"
   ]
  },
  {
   "cell_type": "code",
   "execution_count": 62,
   "metadata": {},
   "outputs": [
    {
     "data": {
      "text/plain": [
       "[u'pclass',\n",
       " u'sex',\n",
       " u'age',\n",
       " u'sibsp',\n",
       " u'parch',\n",
       " u'fare',\n",
       " u'cabin',\n",
       " u'embarked',\n",
       " u'boat',\n",
       " u'body']"
      ]
     },
     "execution_count": 62,
     "metadata": {},
     "output_type": "execute_result"
    }
   ],
   "source": [
    "features"
   ]
  },
  {
   "cell_type": "code",
   "execution_count": 63,
   "metadata": {
    "collapsed": true
   },
   "outputs": [],
   "source": [
    "###: listing first 3 rows from the original data set"
   ]
  },
  {
   "cell_type": "code",
   "execution_count": 64,
   "metadata": {},
   "outputs": [
    {
     "name": "stdout",
     "output_type": "stream",
     "text": [
      "Rows:3\n",
      "Cols:14\n",
      "\n",
      "\n"
     ]
    },
    {
     "data": {
      "text/html": [
       "<table>\n",
       "<thead>\n",
       "<tr><th>       </th><th>pclass  </th><th>survived  </th><th>name                          </th><th>sex   </th><th>age          </th><th>sibsp         </th><th>parch        </th><th>ticket       </th><th>fare         </th><th>cabin  </th><th>embarked  </th><th>boat         </th><th>body  </th><th>home.dest                      </th></tr>\n",
       "</thead>\n",
       "<tbody>\n",
       "<tr><td>type   </td><td>int     </td><td>enum      </td><td>string                        </td><td>enum  </td><td>real         </td><td>int           </td><td>int          </td><td>int          </td><td>real         </td><td>enum   </td><td>enum      </td><td>int          </td><td>int   </td><td>enum                           </td></tr>\n",
       "<tr><td>mins   </td><td>1.0     </td><td>          </td><td>NaN                           </td><td>      </td><td>0.9167       </td><td>0.0           </td><td>0.0          </td><td>24160.0      </td><td>151.55       </td><td>       </td><td>          </td><td>2.0          </td><td>NaN   </td><td>                               </td></tr>\n",
       "<tr><td>mean   </td><td>1.0     </td><td>          </td><td>NaN                           </td><td>      </td><td>10.6389      </td><td>0.666666666667</td><td>1.33333333333</td><td>83907.3333333</td><td>171.479166667</td><td>       </td><td>          </td><td>6.5          </td><td>0.0   </td><td>                               </td></tr>\n",
       "<tr><td>maxs   </td><td>1.0     </td><td>          </td><td>NaN                           </td><td>      </td><td>29.0         </td><td>1.0           </td><td>2.0          </td><td>113781.0     </td><td>211.3375     </td><td>       </td><td>          </td><td>11.0         </td><td>NaN   </td><td>                               </td></tr>\n",
       "<tr><td>sigma  </td><td>0.0     </td><td>          </td><td>NaN                           </td><td>      </td><td>15.9104016175</td><td>0.57735026919 </td><td>1.15470053838</td><td>51742.708475 </td><td>34.5183292192</td><td>       </td><td>          </td><td>6.36396103068</td><td>-0.0  </td><td>                               </td></tr>\n",
       "<tr><td>zeros  </td><td>0       </td><td>          </td><td>0                             </td><td>      </td><td>0            </td><td>1             </td><td>1            </td><td>0            </td><td>0            </td><td>       </td><td>          </td><td>0            </td><td>0     </td><td>                               </td></tr>\n",
       "<tr><td>missing</td><td>0       </td><td>0         </td><td>0                             </td><td>0     </td><td>0            </td><td>0             </td><td>0            </td><td>0            </td><td>0            </td><td>0      </td><td>0         </td><td>1            </td><td>3     </td><td>0                              </td></tr>\n",
       "<tr><td>0      </td><td>1.0     </td><td>1         </td><td>Allen, Miss. Elisabeth Walton </td><td>female</td><td>29.0         </td><td>0.0           </td><td>0.0          </td><td>24160.0      </td><td>211.3375     </td><td>B5     </td><td>S         </td><td>2.0          </td><td>nan   </td><td>St Louis, MO                   </td></tr>\n",
       "<tr><td>1      </td><td>1.0     </td><td>1         </td><td>Allison, Master. Hudson Trevor</td><td>male  </td><td>0.9167       </td><td>1.0           </td><td>2.0          </td><td>113781.0     </td><td>151.55       </td><td>C22 C26</td><td>S         </td><td>11.0         </td><td>nan   </td><td>Montreal, PQ / Chesterville, ON</td></tr>\n",
       "<tr><td>2      </td><td>1.0     </td><td>0         </td><td>Allison, Miss. Helen Loraine  </td><td>female</td><td>2.0          </td><td>1.0           </td><td>2.0          </td><td>113781.0     </td><td>151.55       </td><td>C22 C26</td><td>S         </td><td>nan          </td><td>nan   </td><td>Montreal, PQ / Chesterville, ON</td></tr>\n",
       "</tbody>\n",
       "</table>"
      ]
     },
     "metadata": {},
     "output_type": "display_data"
    }
   ],
   "source": [
    "df.head(3).describe()"
   ]
  },
  {
   "cell_type": "code",
   "execution_count": 65,
   "metadata": {
    "collapsed": true
   },
   "outputs": [],
   "source": [
    "###: creating test data set based on features used for building model"
   ]
  },
  {
   "cell_type": "code",
   "execution_count": 66,
   "metadata": {},
   "outputs": [
    {
     "name": "stdout",
     "output_type": "stream",
     "text": [
      "Parse progress: |█████████████████████████████████████████████████████████| 100%\n"
     ]
    }
   ],
   "source": [
    "df_test = h2o.H2OFrame.from_python({\"pclass\":2, \"sex\" : 'male', \"age\" : 28, \n",
    "                                    \"sibsp\" : 1, \"parch\" : 2, \"fare\" : 321.9, \"boat\": 2, 'body' : 123,\n",
    "                                   \"embarked\" : 'S', \"cabin\": \"B5\"})"
   ]
  },
  {
   "cell_type": "code",
   "execution_count": 67,
   "metadata": {},
   "outputs": [
    {
     "data": {
      "text/plain": [
       "h2o.frame.H2OFrame"
      ]
     },
     "execution_count": 67,
     "metadata": {},
     "output_type": "execute_result"
    }
   ],
   "source": [
    "type(df_test)"
   ]
  },
  {
   "cell_type": "code",
   "execution_count": 68,
   "metadata": {
    "collapsed": true
   },
   "outputs": [],
   "source": [
    "###: Performing prediction using one of the best Distributed Random Forest model we built earlier"
   ]
  },
  {
   "cell_type": "code",
   "execution_count": 69,
   "metadata": {},
   "outputs": [
    {
     "name": "stdout",
     "output_type": "stream",
     "text": [
      "drf prediction progress: |████████████████████████████████████████████████| 100%\n"
     ]
    },
    {
     "data": {
      "text/html": [
       "<table>\n",
       "<thead>\n",
       "<tr><th style=\"text-align: right;\">  predict</th><th style=\"text-align: right;\">      p0</th><th style=\"text-align: right;\">      p1</th></tr>\n",
       "</thead>\n",
       "<tbody>\n",
       "<tr><td style=\"text-align: right;\">        1</td><td style=\"text-align: right;\">0.330172</td><td style=\"text-align: right;\">0.669828</td></tr>\n",
       "</tbody>\n",
       "</table>"
      ]
     },
     "metadata": {},
     "output_type": "display_data"
    },
    {
     "data": {
      "text/plain": []
     },
     "execution_count": 69,
     "metadata": {},
     "output_type": "execute_result"
    }
   ],
   "source": [
    "drf_titanic_cv_tuned.predict(df_test)"
   ]
  },
  {
   "cell_type": "code",
   "execution_count": 70,
   "metadata": {
    "collapsed": true
   },
   "outputs": [],
   "source": [
    "###: Looking at the histogram of response variable from original data set"
   ]
  },
  {
   "cell_type": "code",
   "execution_count": 71,
   "metadata": {},
   "outputs": [
    {
     "data": {
      "image/png": "[encoded data removed]",
      "text/plain": [
       "<matplotlib.figure.Figure at 0x10ea0aa50>"
      ]
     },
     "metadata": {},
     "output_type": "display_data"
    }
   ],
   "source": [
    "df[response].asnumeric().hist()"
   ]
  },
  {
   "cell_type": "code",
   "execution_count": null,
   "metadata": {
    "collapsed": true
   },
   "outputs": [],
   "source": []
  },
  {
   "cell_type": "code",
   "execution_count": null,
   "metadata": {
    "collapsed": true
   },
   "outputs": [],
   "source": []
  }
 ],
 "metadata": {
  "kernelspec": {
   "display_name": "Python 2",
   "language": "python",
   "name": "python2"
  },
  "language_info": {
   "codemirror_mode": {
    "name": "ipython",
    "version": 2
   },
   "file_extension": ".py",
   "mimetype": "text/x-python",
   "name": "python",
   "nbconvert_exporter": "python",
   "pygments_lexer": "ipython2",
   "version": "2.7.13"
  }
 },
 "nbformat": 4,
 "nbformat_minor": 2
}
