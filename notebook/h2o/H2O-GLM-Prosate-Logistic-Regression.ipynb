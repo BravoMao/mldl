{
 "cells": [
  {
   "cell_type": "code",
   "execution_count": 1,
   "metadata": {
    "collapsed": true
   },
   "outputs": [],
   "source": [
    "#: Loading H2O Library"
   ]
  },
  {
   "cell_type": "code",
   "execution_count": 2,
   "metadata": {
    "collapsed": true
   },
   "outputs": [],
   "source": [
    "import h2o"
   ]
  },
  {
   "cell_type": "code",
   "execution_count": 3,
   "metadata": {
    "collapsed": true
   },
   "outputs": [],
   "source": [
    "#: Get H2O Version"
   ]
  },
  {
   "cell_type": "code",
   "execution_count": 4,
   "metadata": {},
   "outputs": [
    {
     "data": {
      "text/plain": [
       "u'3.14.0.7'"
      ]
     },
     "execution_count": 4,
     "metadata": {},
     "output_type": "execute_result"
    }
   ],
   "source": [
    "h2o.__version__"
   ]
  },
  {
   "cell_type": "code",
   "execution_count": 5,
   "metadata": {
    "collapsed": true
   },
   "outputs": [],
   "source": [
    "#: Initalizing H2O cluster"
   ]
  },
  {
   "cell_type": "code",
   "execution_count": 6,
   "metadata": {},
   "outputs": [
    {
     "name": "stderr",
     "output_type": "stream",
     "text": [
      "ERROR:h2o:Key init.version_check is not a valid config key\n"
     ]
    },
    {
     "name": "stdout",
     "output_type": "stream",
     "text": [
      "Checking whether there is an H2O instance running at http://localhost:54321. connected.\n"
     ]
    },
    {
     "data": {
      "text/html": [
       "<div style=\"overflow:auto\"><table style=\"width:50%\"><tr><td>H2O cluster uptime:</td>\n",
       "<td>1 hour 31 mins</td></tr>\n",
       "<tr><td>H2O cluster version:</td>\n",
       "<td>3.14.0.7</td></tr>\n",
       "<tr><td>H2O cluster version age:</td>\n",
       "<td>23 days </td></tr>\n",
       "<tr><td>H2O cluster name:</td>\n",
       "<td>H2O_from_python_avkashchauhan_1ocjkz</td></tr>\n",
       "<tr><td>H2O cluster total nodes:</td>\n",
       "<td>1</td></tr>\n",
       "<tr><td>H2O cluster free memory:</td>\n",
       "<td>3.313 Gb</td></tr>\n",
       "<tr><td>H2O cluster total cores:</td>\n",
       "<td>8</td></tr>\n",
       "<tr><td>H2O cluster allowed cores:</td>\n",
       "<td>8</td></tr>\n",
       "<tr><td>H2O cluster status:</td>\n",
       "<td>locked, healthy</td></tr>\n",
       "<tr><td>H2O connection url:</td>\n",
       "<td>http://localhost:54321</td></tr>\n",
       "<tr><td>H2O connection proxy:</td>\n",
       "<td>None</td></tr>\n",
       "<tr><td>H2O internal security:</td>\n",
       "<td>False</td></tr>\n",
       "<tr><td>H2O API Extensions:</td>\n",
       "<td>XGBoost, Algos, AutoML, Core V3, Core V4</td></tr>\n",
       "<tr><td>Python version:</td>\n",
       "<td>2.7.13 final</td></tr></table></div>"
      ],
      "text/plain": [
       "--------------------------  ----------------------------------------\n",
       "H2O cluster uptime:         1 hour 31 mins\n",
       "H2O cluster version:        3.14.0.7\n",
       "H2O cluster version age:    23 days\n",
       "H2O cluster name:           H2O_from_python_avkashchauhan_1ocjkz\n",
       "H2O cluster total nodes:    1\n",
       "H2O cluster free memory:    3.313 Gb\n",
       "H2O cluster total cores:    8\n",
       "H2O cluster allowed cores:  8\n",
       "H2O cluster status:         locked, healthy\n",
       "H2O connection url:         http://localhost:54321\n",
       "H2O connection proxy:\n",
       "H2O internal security:      False\n",
       "H2O API Extensions:         XGBoost, Algos, AutoML, Core V3, Core V4\n",
       "Python version:             2.7.13 final\n",
       "--------------------------  ----------------------------------------"
      ]
     },
     "metadata": {},
     "output_type": "display_data"
    }
   ],
   "source": [
    "h2o.init()"
   ]
  },
  {
   "cell_type": "code",
   "execution_count": 7,
   "metadata": {
    "collapsed": true
   },
   "outputs": [],
   "source": [
    "#: Importing both training and test dataset into H2O cluster memory"
   ]
  },
  {
   "cell_type": "code",
   "execution_count": 8,
   "metadata": {},
   "outputs": [
    {
     "name": "stdout",
     "output_type": "stream",
     "text": [
      "Parse progress: |█████████████████████████████████████████████████████████| 100%\n"
     ]
    }
   ],
   "source": [
    "#train_df = h2o.import_file(\"/Users/avkashchauhan/examples/regression/prostate.csv\")\n",
    "train_df = h2o.import_file(\"https://raw.githubusercontent.com/Avkash/mldl/master/data/prostate.csv\")"
   ]
  },
  {
   "cell_type": "code",
   "execution_count": 9,
   "metadata": {
    "collapsed": true
   },
   "outputs": [],
   "source": [
    "#: Understanding Training dataset"
   ]
  },
  {
   "cell_type": "code",
   "execution_count": 10,
   "metadata": {},
   "outputs": [
    {
     "name": "stdout",
     "output_type": "stream",
     "text": [
      "Rows:380\n",
      "Cols:9\n",
      "\n",
      "\n"
     ]
    },
    {
     "data": {
      "text/html": [
       "<table>\n",
       "<thead>\n",
       "<tr><th>       </th><th>ID           </th><th>CAPSULE       </th><th>AGE          </th><th>RACE          </th><th>DPROS        </th><th>DCAPS         </th><th>PSA          </th><th>VOL          </th><th>GLEASON      </th></tr>\n",
       "</thead>\n",
       "<tbody>\n",
       "<tr><td>type   </td><td>int          </td><td>int           </td><td>int          </td><td>int           </td><td>int          </td><td>int           </td><td>real         </td><td>real         </td><td>int          </td></tr>\n",
       "<tr><td>mins   </td><td>1.0          </td><td>0.0           </td><td>43.0         </td><td>0.0           </td><td>1.0          </td><td>1.0           </td><td>0.3          </td><td>0.0          </td><td>0.0          </td></tr>\n",
       "<tr><td>mean   </td><td>190.5        </td><td>0.402631578947</td><td>66.0394736842</td><td>1.08684210526 </td><td>2.27105263158</td><td>1.10789473684 </td><td>15.4086315789</td><td>15.8129210526</td><td>6.38421052632</td></tr>\n",
       "<tr><td>maxs   </td><td>380.0        </td><td>1.0           </td><td>79.0         </td><td>2.0           </td><td>4.0          </td><td>2.0           </td><td>139.7        </td><td>97.6         </td><td>9.0          </td></tr>\n",
       "<tr><td>sigma  </td><td>109.840793879</td><td>0.491074338963</td><td>6.52707126917</td><td>0.308773258025</td><td>1.00010761815</td><td>0.310656449351</td><td>19.9975726686</td><td>18.3476199673</td><td>1.09195337443</td></tr>\n",
       "<tr><td>zeros  </td><td>0            </td><td>227           </td><td>0            </td><td>3             </td><td>0            </td><td>0             </td><td>0            </td><td>167          </td><td>2            </td></tr>\n",
       "<tr><td>missing</td><td>0            </td><td>0             </td><td>0            </td><td>0             </td><td>0            </td><td>0             </td><td>0            </td><td>0            </td><td>0            </td></tr>\n",
       "<tr><td>0      </td><td>1.0          </td><td>0.0           </td><td>65.0         </td><td>1.0           </td><td>2.0          </td><td>1.0           </td><td>1.4          </td><td>0.0          </td><td>6.0          </td></tr>\n",
       "<tr><td>1      </td><td>2.0          </td><td>0.0           </td><td>72.0         </td><td>1.0           </td><td>3.0          </td><td>2.0           </td><td>6.7          </td><td>0.0          </td><td>7.0          </td></tr>\n",
       "<tr><td>2      </td><td>3.0          </td><td>0.0           </td><td>70.0         </td><td>1.0           </td><td>1.0          </td><td>2.0           </td><td>4.9          </td><td>0.0          </td><td>6.0          </td></tr>\n",
       "<tr><td>3      </td><td>4.0          </td><td>0.0           </td><td>76.0         </td><td>2.0           </td><td>2.0          </td><td>1.0           </td><td>51.2         </td><td>20.0         </td><td>7.0          </td></tr>\n",
       "<tr><td>4      </td><td>5.0          </td><td>0.0           </td><td>69.0         </td><td>1.0           </td><td>1.0          </td><td>1.0           </td><td>12.3         </td><td>55.9         </td><td>6.0          </td></tr>\n",
       "<tr><td>5      </td><td>6.0          </td><td>1.0           </td><td>71.0         </td><td>1.0           </td><td>3.0          </td><td>2.0           </td><td>3.3          </td><td>0.0          </td><td>8.0          </td></tr>\n",
       "<tr><td>6      </td><td>7.0          </td><td>0.0           </td><td>68.0         </td><td>2.0           </td><td>4.0          </td><td>2.0           </td><td>31.9         </td><td>0.0          </td><td>7.0          </td></tr>\n",
       "<tr><td>7      </td><td>8.0          </td><td>0.0           </td><td>61.0         </td><td>2.0           </td><td>4.0          </td><td>2.0           </td><td>66.7         </td><td>27.2         </td><td>7.0          </td></tr>\n",
       "<tr><td>8      </td><td>9.0          </td><td>0.0           </td><td>69.0         </td><td>1.0           </td><td>1.0          </td><td>1.0           </td><td>3.9          </td><td>24.0         </td><td>7.0          </td></tr>\n",
       "<tr><td>9      </td><td>10.0         </td><td>0.0           </td><td>68.0         </td><td>2.0           </td><td>1.0          </td><td>2.0           </td><td>13.0         </td><td>0.0          </td><td>6.0          </td></tr>\n",
       "</tbody>\n",
       "</table>"
      ]
     },
     "metadata": {},
     "output_type": "display_data"
    }
   ],
   "source": [
    "train_df.describe()"
   ]
  },
  {
   "cell_type": "code",
   "execution_count": 11,
   "metadata": {
    "collapsed": true
   },
   "outputs": [],
   "source": [
    "#: Training and test dataset - columns and rows details"
   ]
  },
  {
   "cell_type": "code",
   "execution_count": 12,
   "metadata": {},
   "outputs": [
    {
     "name": "stdout",
     "output_type": "stream",
     "text": [
      "(380, 9)\n"
     ]
    }
   ],
   "source": [
    "print(train_df.shape)"
   ]
  },
  {
   "cell_type": "code",
   "execution_count": 13,
   "metadata": {
    "collapsed": true
   },
   "outputs": [],
   "source": [
    "#: Training and Test Dataframes - columns names"
   ]
  },
  {
   "cell_type": "code",
   "execution_count": 14,
   "metadata": {},
   "outputs": [
    {
     "name": "stdout",
     "output_type": "stream",
     "text": [
      "[u'ID', u'CAPSULE', u'AGE', u'RACE', u'DPROS', u'DCAPS', u'PSA', u'VOL', u'GLEASON']\n"
     ]
    }
   ],
   "source": [
    "print(train_df.col_names)"
   ]
  },
  {
   "cell_type": "code",
   "execution_count": 15,
   "metadata": {
    "collapsed": true
   },
   "outputs": [],
   "source": [
    "#: Training and Test Dataframes - columns names"
   ]
  },
  {
   "cell_type": "code",
   "execution_count": 16,
   "metadata": {},
   "outputs": [
    {
     "name": "stdout",
     "output_type": "stream",
     "text": [
      "[u'ID', u'CAPSULE', u'AGE', u'RACE', u'DPROS', u'DCAPS', u'PSA', u'VOL', u'GLEASON']\n"
     ]
    }
   ],
   "source": [
    "print(train_df.columns)"
   ]
  },
  {
   "cell_type": "code",
   "execution_count": 17,
   "metadata": {
    "collapsed": true
   },
   "outputs": [],
   "source": [
    "#: Training and Test dataframes - columns by their type i.e. numeric, string, categorical(enum)"
   ]
  },
  {
   "cell_type": "code",
   "execution_count": 18,
   "metadata": {},
   "outputs": [
    {
     "name": "stdout",
     "output_type": "stream",
     "text": [
      "[0.0, 1.0, 2.0, 3.0, 4.0, 5.0, 6.0, 7.0, 8.0]\n"
     ]
    }
   ],
   "source": [
    "print(train_df.columns_by_type())"
   ]
  },
  {
   "cell_type": "code",
   "execution_count": 19,
   "metadata": {
    "collapsed": true
   },
   "outputs": [],
   "source": [
    "#: Training and Test dataframes - columns type as strings"
   ]
  },
  {
   "cell_type": "code",
   "execution_count": 20,
   "metadata": {},
   "outputs": [
    {
     "name": "stdout",
     "output_type": "stream",
     "text": [
      "[]\n"
     ]
    }
   ],
   "source": [
    "print(train_df.columns_by_type(\"string\"))"
   ]
  },
  {
   "cell_type": "code",
   "execution_count": 21,
   "metadata": {
    "collapsed": true
   },
   "outputs": [],
   "source": [
    "#: Training and Test dataframes - columns type as numeric"
   ]
  },
  {
   "cell_type": "code",
   "execution_count": 22,
   "metadata": {},
   "outputs": [
    {
     "name": "stdout",
     "output_type": "stream",
     "text": [
      "[0.0, 1.0, 2.0, 3.0, 4.0, 5.0, 6.0, 7.0, 8.0]\n"
     ]
    }
   ],
   "source": [
    "print(train_df.columns_by_type(\"numeric\"))"
   ]
  },
  {
   "cell_type": "code",
   "execution_count": 23,
   "metadata": {
    "collapsed": true
   },
   "outputs": [],
   "source": [
    "#: Training and Test dataframes - columns type as categorical or enum"
   ]
  },
  {
   "cell_type": "code",
   "execution_count": 24,
   "metadata": {},
   "outputs": [
    {
     "name": "stdout",
     "output_type": "stream",
     "text": [
      "[]\n"
     ]
    }
   ],
   "source": [
    "print(train_df.columns_by_type(\"categorical\"))"
   ]
  },
  {
   "cell_type": "code",
   "execution_count": 25,
   "metadata": {
    "collapsed": true
   },
   "outputs": [],
   "source": [
    "#: Settings response or target variable for supervised machine learning"
   ]
  },
  {
   "cell_type": "code",
   "execution_count": 26,
   "metadata": {},
   "outputs": [
    {
     "name": "stdout",
     "output_type": "stream",
     "text": [
      "[u'ID', u'CAPSULE', u'AGE', u'RACE', u'DPROS', u'DCAPS', u'PSA', u'VOL', u'GLEASON']\n"
     ]
    }
   ],
   "source": [
    "response = \"CAPSULE\"\n",
    "features = train_df.col_names\n",
    "print(features)"
   ]
  },
  {
   "cell_type": "code",
   "execution_count": 27,
   "metadata": {
    "collapsed": true
   },
   "outputs": [],
   "source": [
    "#: Creating a list of all features we will use for machine learning"
   ]
  },
  {
   "cell_type": "code",
   "execution_count": 28,
   "metadata": {},
   "outputs": [
    {
     "name": "stdout",
     "output_type": "stream",
     "text": [
      "[u'ID', u'AGE', u'RACE', u'DPROS', u'DCAPS', u'PSA', u'VOL', u'GLEASON']\n"
     ]
    }
   ],
   "source": [
    "features.remove(response)\n",
    "print(features)"
   ]
  },
  {
   "cell_type": "code",
   "execution_count": 29,
   "metadata": {
    "collapsed": true
   },
   "outputs": [],
   "source": [
    "#: Understanding response variable values as historgram in Training data"
   ]
  },
  {
   "cell_type": "code",
   "execution_count": 30,
   "metadata": {},
   "outputs": [
    {
     "data": {
      "image/png": "[encoded data removed]",
      "text/plain": [
       "<matplotlib.figure.Figure at 0x10880df10>"
      ]
     },
     "metadata": {},
     "output_type": "display_data"
    }
   ],
   "source": [
    "train_df[response].hist()"
   ]
  },
  {
   "cell_type": "code",
   "execution_count": 31,
   "metadata": {
    "collapsed": true
   },
   "outputs": [],
   "source": [
    "#: Understanding response variable values "
   ]
  },
  {
   "cell_type": "code",
   "execution_count": 32,
   "metadata": {},
   "outputs": [
    {
     "data": {
      "text/plain": [
       "[]"
      ]
     },
     "execution_count": 32,
     "metadata": {},
     "output_type": "execute_result"
    }
   ],
   "source": [
    "train_df[response].levels()"
   ]
  },
  {
   "cell_type": "code",
   "execution_count": 33,
   "metadata": {},
   "outputs": [
    {
     "data": {
      "text/plain": [
       "[['0', '1']]"
      ]
     },
     "execution_count": 33,
     "metadata": {},
     "output_type": "execute_result"
    }
   ],
   "source": [
    "train_df[response].asfactor().levels()"
   ]
  },
  {
   "cell_type": "code",
   "execution_count": 34,
   "metadata": {
    "collapsed": true
   },
   "outputs": [],
   "source": [
    "#: Understanding response column as dataframe"
   ]
  },
  {
   "cell_type": "code",
   "execution_count": 35,
   "metadata": {},
   "outputs": [
    {
     "data": {
      "text/plain": [
       "h2o.frame.H2OFrame"
      ]
     },
     "execution_count": 35,
     "metadata": {},
     "output_type": "execute_result"
    }
   ],
   "source": [
    "type(train_df[response])"
   ]
  },
  {
   "cell_type": "code",
   "execution_count": 36,
   "metadata": {
    "collapsed": true
   },
   "outputs": [],
   "source": [
    "#: Importing H2O H2OGeneralizedLinearEstimator to build GLM Model"
   ]
  },
  {
   "cell_type": "code",
   "execution_count": 37,
   "metadata": {
    "collapsed": true
   },
   "outputs": [],
   "source": [
    "from h2o.estimators.glm import H2OGeneralizedLinearEstimator"
   ]
  },
  {
   "cell_type": "code",
   "execution_count": 38,
   "metadata": {
    "collapsed": true
   },
   "outputs": [],
   "source": [
    "#: Building linear regression model (GLM) only with training dataframe"
   ]
  },
  {
   "cell_type": "code",
   "execution_count": 39,
   "metadata": {},
   "outputs": [
    {
     "name": "stdout",
     "output_type": "stream",
     "text": [
      "glm Model Build progress: |███████████████████████████████████████████████| 100%\n"
     ]
    }
   ],
   "source": [
    "glm_model_with_training_only = H2OGeneralizedLinearEstimator(family = \"Binomial\")\n",
    "glm_model_with_training_only.train(x= features, y = response, training_frame= train_df)"
   ]
  },
  {
   "cell_type": "code",
   "execution_count": 40,
   "metadata": {},
   "outputs": [
    {
     "name": "stdout",
     "output_type": "stream",
     "text": [
      "Model Details\n",
      "=============\n",
      "H2OGeneralizedLinearEstimator :  Generalized Linear Modeling\n",
      "Model Key:  GLM_model_python_1510608322538_27\n",
      "\n",
      "\n",
      "ModelMetricsBinomialGLM: glm\n",
      "** Reported on train data. **\n",
      "\n",
      "MSE: 0.165329175291\n",
      "RMSE: 0.40660690512\n",
      "LogLoss: 0.495921946388\n",
      "Null degrees of freedom: 379\n",
      "Residual degrees of freedom: 371\n",
      "Null deviance: 512.288840185\n",
      "Residual deviance: 376.900679255\n",
      "AIC: 394.900679255\n",
      "AUC: 0.827387636406\n",
      "Gini: 0.654775272811\n",
      "Confusion Matrix (Act/Pred) for max f1 @ threshold = 0.273868116441: \n"
     ]
    },
    {
     "data": {
      "text/html": [
       "<div style=\"overflow:auto\"><table style=\"width:50%\"><tr><td><b></b></td>\n",
       "<td><b>0</b></td>\n",
       "<td><b>1</b></td>\n",
       "<td><b>Error</b></td>\n",
       "<td><b>Rate</b></td></tr>\n",
       "<tr><td>0</td>\n",
       "<td>142.0</td>\n",
       "<td>85.0</td>\n",
       "<td>0.3744</td>\n",
       "<td> (85.0/227.0)</td></tr>\n",
       "<tr><td>1</td>\n",
       "<td>18.0</td>\n",
       "<td>135.0</td>\n",
       "<td>0.1176</td>\n",
       "<td> (18.0/153.0)</td></tr>\n",
       "<tr><td>Total</td>\n",
       "<td>160.0</td>\n",
       "<td>220.0</td>\n",
       "<td>0.2711</td>\n",
       "<td> (103.0/380.0)</td></tr></table></div>"
      ],
      "text/plain": [
       "       0    1    Error    Rate\n",
       "-----  ---  ---  -------  -------------\n",
       "0      142  85   0.3744   (85.0/227.0)\n",
       "1      18   135  0.1176   (18.0/153.0)\n",
       "Total  160  220  0.2711   (103.0/380.0)"
      ]
     },
     "metadata": {},
     "output_type": "display_data"
    },
    {
     "name": "stdout",
     "output_type": "stream",
     "text": [
      "Maximum Metrics: Maximum metrics at their respective thresholds\n",
      "\n"
     ]
    },
    {
     "data": {
      "text/html": [
       "<div style=\"overflow:auto\"><table style=\"width:50%\"><tr><td><b>metric</b></td>\n",
       "<td><b>threshold</b></td>\n",
       "<td><b>value</b></td>\n",
       "<td><b>idx</b></td></tr>\n",
       "<tr><td>max f1</td>\n",
       "<td>0.2738681</td>\n",
       "<td>0.7238606</td>\n",
       "<td>219.0</td></tr>\n",
       "<tr><td>max f2</td>\n",
       "<td>0.1476253</td>\n",
       "<td>0.8187773</td>\n",
       "<td>303.0</td></tr>\n",
       "<tr><td>max f0point5</td>\n",
       "<td>0.5807376</td>\n",
       "<td>0.7142857</td>\n",
       "<td>99.0</td></tr>\n",
       "<tr><td>max accuracy</td>\n",
       "<td>0.4560958</td>\n",
       "<td>0.7631579</td>\n",
       "<td>148.0</td></tr>\n",
       "<tr><td>max precision</td>\n",
       "<td>0.9986394</td>\n",
       "<td>1.0</td>\n",
       "<td>0.0</td></tr>\n",
       "<tr><td>max recall</td>\n",
       "<td>0.0623959</td>\n",
       "<td>1.0</td>\n",
       "<td>357.0</td></tr>\n",
       "<tr><td>max specificity</td>\n",
       "<td>0.9986394</td>\n",
       "<td>1.0</td>\n",
       "<td>0.0</td></tr>\n",
       "<tr><td>max absolute_mcc</td>\n",
       "<td>0.4560958</td>\n",
       "<td>0.5056595</td>\n",
       "<td>148.0</td></tr>\n",
       "<tr><td>max min_per_class_accuracy</td>\n",
       "<td>0.3817675</td>\n",
       "<td>0.7450980</td>\n",
       "<td>170.0</td></tr>\n",
       "<tr><td>max mean_per_class_accuracy</td>\n",
       "<td>0.2738681</td>\n",
       "<td>0.7539518</td>\n",
       "<td>219.0</td></tr></table></div>"
      ],
      "text/plain": [
       "metric                       threshold    value     idx\n",
       "---------------------------  -----------  --------  -----\n",
       "max f1                       0.273868     0.723861  219\n",
       "max f2                       0.147625     0.818777  303\n",
       "max f0point5                 0.580738     0.714286  99\n",
       "max accuracy                 0.456096     0.763158  148\n",
       "max precision                0.998639     1         0\n",
       "max recall                   0.0623959    1         357\n",
       "max specificity              0.998639     1         0\n",
       "max absolute_mcc             0.456096     0.50566   148\n",
       "max min_per_class_accuracy   0.381768     0.745098  170\n",
       "max mean_per_class_accuracy  0.273868     0.753952  219"
      ]
     },
     "metadata": {},
     "output_type": "display_data"
    },
    {
     "name": "stdout",
     "output_type": "stream",
     "text": [
      "Gains/Lift Table: Avg response rate: 40.26 %\n",
      "\n"
     ]
    },
    {
     "data": {
      "text/html": [
       "<div style=\"overflow:auto\"><table style=\"width:50%\"><tr><td><b></b></td>\n",
       "<td><b>group</b></td>\n",
       "<td><b>cumulative_data_fraction</b></td>\n",
       "<td><b>lower_threshold</b></td>\n",
       "<td><b>lift</b></td>\n",
       "<td><b>cumulative_lift</b></td>\n",
       "<td><b>response_rate</b></td>\n",
       "<td><b>cumulative_response_rate</b></td>\n",
       "<td><b>capture_rate</b></td>\n",
       "<td><b>cumulative_capture_rate</b></td>\n",
       "<td><b>gain</b></td>\n",
       "<td><b>cumulative_gain</b></td></tr>\n",
       "<tr><td></td>\n",
       "<td>1</td>\n",
       "<td>0.0105263</td>\n",
       "<td>0.9867979</td>\n",
       "<td>2.4836601</td>\n",
       "<td>2.4836601</td>\n",
       "<td>1.0</td>\n",
       "<td>1.0</td>\n",
       "<td>0.0261438</td>\n",
       "<td>0.0261438</td>\n",
       "<td>148.3660131</td>\n",
       "<td>148.3660131</td></tr>\n",
       "<tr><td></td>\n",
       "<td>2</td>\n",
       "<td>0.0210526</td>\n",
       "<td>0.9767913</td>\n",
       "<td>2.4836601</td>\n",
       "<td>2.4836601</td>\n",
       "<td>1.0</td>\n",
       "<td>1.0</td>\n",
       "<td>0.0261438</td>\n",
       "<td>0.0522876</td>\n",
       "<td>148.3660131</td>\n",
       "<td>148.3660131</td></tr>\n",
       "<tr><td></td>\n",
       "<td>3</td>\n",
       "<td>0.0315789</td>\n",
       "<td>0.9666501</td>\n",
       "<td>2.4836601</td>\n",
       "<td>2.4836601</td>\n",
       "<td>1.0</td>\n",
       "<td>1.0</td>\n",
       "<td>0.0261438</td>\n",
       "<td>0.0784314</td>\n",
       "<td>148.3660131</td>\n",
       "<td>148.3660131</td></tr>\n",
       "<tr><td></td>\n",
       "<td>4</td>\n",
       "<td>0.0421053</td>\n",
       "<td>0.9570197</td>\n",
       "<td>2.4836601</td>\n",
       "<td>2.4836601</td>\n",
       "<td>1.0</td>\n",
       "<td>1.0</td>\n",
       "<td>0.0261438</td>\n",
       "<td>0.1045752</td>\n",
       "<td>148.3660131</td>\n",
       "<td>148.3660131</td></tr>\n",
       "<tr><td></td>\n",
       "<td>5</td>\n",
       "<td>0.05</td>\n",
       "<td>0.9399771</td>\n",
       "<td>2.4836601</td>\n",
       "<td>2.4836601</td>\n",
       "<td>1.0</td>\n",
       "<td>1.0</td>\n",
       "<td>0.0196078</td>\n",
       "<td>0.1241830</td>\n",
       "<td>148.3660131</td>\n",
       "<td>148.3660131</td></tr>\n",
       "<tr><td></td>\n",
       "<td>6</td>\n",
       "<td>0.1</td>\n",
       "<td>0.8274993</td>\n",
       "<td>1.8300654</td>\n",
       "<td>2.1568627</td>\n",
       "<td>0.7368421</td>\n",
       "<td>0.8684211</td>\n",
       "<td>0.0915033</td>\n",
       "<td>0.2156863</td>\n",
       "<td>83.0065359</td>\n",
       "<td>115.6862745</td></tr>\n",
       "<tr><td></td>\n",
       "<td>7</td>\n",
       "<td>0.15</td>\n",
       "<td>0.7649272</td>\n",
       "<td>1.9607843</td>\n",
       "<td>2.0915033</td>\n",
       "<td>0.7894737</td>\n",
       "<td>0.8421053</td>\n",
       "<td>0.0980392</td>\n",
       "<td>0.3137255</td>\n",
       "<td>96.0784314</td>\n",
       "<td>109.1503268</td></tr>\n",
       "<tr><td></td>\n",
       "<td>8</td>\n",
       "<td>0.2</td>\n",
       "<td>0.6596141</td>\n",
       "<td>1.8300654</td>\n",
       "<td>2.0261438</td>\n",
       "<td>0.7368421</td>\n",
       "<td>0.8157895</td>\n",
       "<td>0.0915033</td>\n",
       "<td>0.4052288</td>\n",
       "<td>83.0065359</td>\n",
       "<td>102.6143791</td></tr>\n",
       "<tr><td></td>\n",
       "<td>9</td>\n",
       "<td>0.3</td>\n",
       "<td>0.5523884</td>\n",
       "<td>1.5032680</td>\n",
       "<td>1.8518519</td>\n",
       "<td>0.6052632</td>\n",
       "<td>0.7456140</td>\n",
       "<td>0.1503268</td>\n",
       "<td>0.5555556</td>\n",
       "<td>50.3267974</td>\n",
       "<td>85.1851852</td></tr>\n",
       "<tr><td></td>\n",
       "<td>10</td>\n",
       "<td>0.4</td>\n",
       "<td>0.4390252</td>\n",
       "<td>1.3725490</td>\n",
       "<td>1.7320261</td>\n",
       "<td>0.5526316</td>\n",
       "<td>0.6973684</td>\n",
       "<td>0.1372549</td>\n",
       "<td>0.6928105</td>\n",
       "<td>37.2549020</td>\n",
       "<td>73.2026144</td></tr>\n",
       "<tr><td></td>\n",
       "<td>11</td>\n",
       "<td>0.5</td>\n",
       "<td>0.3320543</td>\n",
       "<td>0.9803922</td>\n",
       "<td>1.5816993</td>\n",
       "<td>0.3947368</td>\n",
       "<td>0.6368421</td>\n",
       "<td>0.0980392</td>\n",
       "<td>0.7908497</td>\n",
       "<td>-1.9607843</td>\n",
       "<td>58.1699346</td></tr>\n",
       "<tr><td></td>\n",
       "<td>12</td>\n",
       "<td>0.6</td>\n",
       "<td>0.2519998</td>\n",
       "<td>0.9150327</td>\n",
       "<td>1.4705882</td>\n",
       "<td>0.3684211</td>\n",
       "<td>0.5921053</td>\n",
       "<td>0.0915033</td>\n",
       "<td>0.8823529</td>\n",
       "<td>-8.4967320</td>\n",
       "<td>47.0588235</td></tr>\n",
       "<tr><td></td>\n",
       "<td>13</td>\n",
       "<td>0.7</td>\n",
       "<td>0.2008203</td>\n",
       "<td>0.4575163</td>\n",
       "<td>1.3258637</td>\n",
       "<td>0.1842105</td>\n",
       "<td>0.5338346</td>\n",
       "<td>0.0457516</td>\n",
       "<td>0.9281046</td>\n",
       "<td>-54.2483660</td>\n",
       "<td>32.5863679</td></tr>\n",
       "<tr><td></td>\n",
       "<td>14</td>\n",
       "<td>0.8</td>\n",
       "<td>0.1469887</td>\n",
       "<td>0.5228758</td>\n",
       "<td>1.2254902</td>\n",
       "<td>0.2105263</td>\n",
       "<td>0.4934211</td>\n",
       "<td>0.0522876</td>\n",
       "<td>0.9803922</td>\n",
       "<td>-47.7124183</td>\n",
       "<td>22.5490196</td></tr>\n",
       "<tr><td></td>\n",
       "<td>15</td>\n",
       "<td>0.9</td>\n",
       "<td>0.0876284</td>\n",
       "<td>0.1307190</td>\n",
       "<td>1.1038489</td>\n",
       "<td>0.0526316</td>\n",
       "<td>0.4444444</td>\n",
       "<td>0.0130719</td>\n",
       "<td>0.9934641</td>\n",
       "<td>-86.9281046</td>\n",
       "<td>10.3848947</td></tr>\n",
       "<tr><td></td>\n",
       "<td>16</td>\n",
       "<td>1.0</td>\n",
       "<td>0.0005319</td>\n",
       "<td>0.0653595</td>\n",
       "<td>1.0</td>\n",
       "<td>0.0263158</td>\n",
       "<td>0.4026316</td>\n",
       "<td>0.0065359</td>\n",
       "<td>1.0</td>\n",
       "<td>-93.4640523</td>\n",
       "<td>0.0</td></tr></table></div>"
      ],
      "text/plain": [
       "    group    cumulative_data_fraction    lower_threshold    lift       cumulative_lift    response_rate    cumulative_response_rate    capture_rate    cumulative_capture_rate    gain      cumulative_gain\n",
       "--  -------  --------------------------  -----------------  ---------  -----------------  ---------------  --------------------------  --------------  -------------------------  --------  -----------------\n",
       "    1        0.0105263                   0.986798           2.48366    2.48366            1                1                           0.0261438       0.0261438                  148.366   148.366\n",
       "    2        0.0210526                   0.976791           2.48366    2.48366            1                1                           0.0261438       0.0522876                  148.366   148.366\n",
       "    3        0.0315789                   0.96665            2.48366    2.48366            1                1                           0.0261438       0.0784314                  148.366   148.366\n",
       "    4        0.0421053                   0.95702            2.48366    2.48366            1                1                           0.0261438       0.104575                   148.366   148.366\n",
       "    5        0.05                        0.939977           2.48366    2.48366            1                1                           0.0196078       0.124183                   148.366   148.366\n",
       "    6        0.1                         0.827499           1.83007    2.15686            0.736842         0.868421                    0.0915033       0.215686                   83.0065   115.686\n",
       "    7        0.15                        0.764927           1.96078    2.0915             0.789474         0.842105                    0.0980392       0.313725                   96.0784   109.15\n",
       "    8        0.2                         0.659614           1.83007    2.02614            0.736842         0.815789                    0.0915033       0.405229                   83.0065   102.614\n",
       "    9        0.3                         0.552388           1.50327    1.85185            0.605263         0.745614                    0.150327        0.555556                   50.3268   85.1852\n",
       "    10       0.4                         0.439025           1.37255    1.73203            0.552632         0.697368                    0.137255        0.69281                    37.2549   73.2026\n",
       "    11       0.5                         0.332054           0.980392   1.5817             0.394737         0.636842                    0.0980392       0.79085                    -1.96078  58.1699\n",
       "    12       0.6                         0.252              0.915033   1.47059            0.368421         0.592105                    0.0915033       0.882353                   -8.49673  47.0588\n",
       "    13       0.7                         0.20082            0.457516   1.32586            0.184211         0.533835                    0.0457516       0.928105                   -54.2484  32.5864\n",
       "    14       0.8                         0.146989           0.522876   1.22549            0.210526         0.493421                    0.0522876       0.980392                   -47.7124  22.549\n",
       "    15       0.9                         0.0876284          0.130719   1.10385            0.0526316        0.444444                    0.0130719       0.993464                   -86.9281  10.3849\n",
       "    16       1                           0.000531917        0.0653595  1                  0.0263158        0.402632                    0.00653595      1                          -93.4641  0"
      ]
     },
     "metadata": {},
     "output_type": "display_data"
    },
    {
     "name": "stdout",
     "output_type": "stream",
     "text": [
      "\n",
      "Scoring History: \n"
     ]
    },
    {
     "data": {
      "text/html": [
       "<div style=\"overflow:auto\"><table style=\"width:50%\"><tr><td><b></b></td>\n",
       "<td><b>timestamp</b></td>\n",
       "<td><b>duration</b></td>\n",
       "<td><b>iterations</b></td>\n",
       "<td><b>negative_log_likelihood</b></td>\n",
       "<td><b>objective</b></td></tr>\n",
       "<tr><td></td>\n",
       "<td>2017-11-13 14:57:18</td>\n",
       "<td> 0.000 sec</td>\n",
       "<td>0</td>\n",
       "<td>256.1444201</td>\n",
       "<td>0.6740643</td></tr>\n",
       "<tr><td></td>\n",
       "<td>2017-11-13 14:57:18</td>\n",
       "<td> 0.002 sec</td>\n",
       "<td>1</td>\n",
       "<td>194.8874941</td>\n",
       "<td>0.5133770</td></tr>\n",
       "<tr><td></td>\n",
       "<td>2017-11-13 14:57:18</td>\n",
       "<td> 0.002 sec</td>\n",
       "<td>2</td>\n",
       "<td>188.7807393</td>\n",
       "<td>0.4975772</td></tr>\n",
       "<tr><td></td>\n",
       "<td>2017-11-13 14:57:18</td>\n",
       "<td> 0.003 sec</td>\n",
       "<td>3</td>\n",
       "<td>188.4538605</td>\n",
       "<td>0.4968035</td></tr>\n",
       "<tr><td></td>\n",
       "<td>2017-11-13 14:57:18</td>\n",
       "<td> 0.003 sec</td>\n",
       "<td>4</td>\n",
       "<td>188.4503396</td>\n",
       "<td>0.4968002</td></tr></table></div>"
      ],
      "text/plain": [
       "    timestamp            duration    iterations    negative_log_likelihood    objective\n",
       "--  -------------------  ----------  ------------  -------------------------  -----------\n",
       "    2017-11-13 14:57:18  0.000 sec   0             256.144                    0.674064\n",
       "    2017-11-13 14:57:18  0.002 sec   1             194.887                    0.513377\n",
       "    2017-11-13 14:57:18  0.002 sec   2             188.781                    0.497577\n",
       "    2017-11-13 14:57:18  0.003 sec   3             188.454                    0.496803\n",
       "    2017-11-13 14:57:18  0.003 sec   4             188.45                     0.4968"
      ]
     },
     "metadata": {},
     "output_type": "display_data"
    },
    {
     "data": {
      "text/plain": []
     },
     "execution_count": 40,
     "metadata": {},
     "output_type": "execute_result"
    }
   ],
   "source": [
    "glm_model_with_training_only"
   ]
  },
  {
   "cell_type": "code",
   "execution_count": 41,
   "metadata": {
    "collapsed": true
   },
   "outputs": [],
   "source": [
    "#: Building linear regression model (GLM) with cross validation"
   ]
  },
  {
   "cell_type": "code",
   "execution_count": 42,
   "metadata": {},
   "outputs": [
    {
     "name": "stdout",
     "output_type": "stream",
     "text": [
      "glm Model Build progress: |███████████████████████████████████████████████| 100%\n"
     ]
    }
   ],
   "source": [
    "glm_model_with_training_and_cv = H2OGeneralizedLinearEstimator(nfolds=5, family = \"Binomial\")\n",
    "glm_model_with_training_and_cv.train(x = features, y = response, training_frame=train_df)"
   ]
  },
  {
   "cell_type": "code",
   "execution_count": 43,
   "metadata": {},
   "outputs": [
    {
     "name": "stdout",
     "output_type": "stream",
     "text": [
      "Model Details\n",
      "=============\n",
      "H2OGeneralizedLinearEstimator :  Generalized Linear Modeling\n",
      "Model Key:  GLM_model_python_1510608322538_29\n",
      "\n",
      "\n",
      "ModelMetricsBinomialGLM: glm\n",
      "** Reported on train data. **\n",
      "\n",
      "MSE: 0.165329175291\n",
      "RMSE: 0.40660690512\n",
      "LogLoss: 0.495921946388\n",
      "Null degrees of freedom: 379\n",
      "Residual degrees of freedom: 371\n",
      "Null deviance: 512.288840185\n",
      "Residual deviance: 376.900679255\n",
      "AIC: 394.900679255\n",
      "AUC: 0.827387636406\n",
      "Gini: 0.654775272811\n",
      "Confusion Matrix (Act/Pred) for max f1 @ threshold = 0.273868116441: \n"
     ]
    },
    {
     "data": {
      "text/html": [
       "<div style=\"overflow:auto\"><table style=\"width:50%\"><tr><td><b></b></td>\n",
       "<td><b>0</b></td>\n",
       "<td><b>1</b></td>\n",
       "<td><b>Error</b></td>\n",
       "<td><b>Rate</b></td></tr>\n",
       "<tr><td>0</td>\n",
       "<td>142.0</td>\n",
       "<td>85.0</td>\n",
       "<td>0.3744</td>\n",
       "<td> (85.0/227.0)</td></tr>\n",
       "<tr><td>1</td>\n",
       "<td>18.0</td>\n",
       "<td>135.0</td>\n",
       "<td>0.1176</td>\n",
       "<td> (18.0/153.0)</td></tr>\n",
       "<tr><td>Total</td>\n",
       "<td>160.0</td>\n",
       "<td>220.0</td>\n",
       "<td>0.2711</td>\n",
       "<td> (103.0/380.0)</td></tr></table></div>"
      ],
      "text/plain": [
       "       0    1    Error    Rate\n",
       "-----  ---  ---  -------  -------------\n",
       "0      142  85   0.3744   (85.0/227.0)\n",
       "1      18   135  0.1176   (18.0/153.0)\n",
       "Total  160  220  0.2711   (103.0/380.0)"
      ]
     },
     "metadata": {},
     "output_type": "display_data"
    },
    {
     "name": "stdout",
     "output_type": "stream",
     "text": [
      "Maximum Metrics: Maximum metrics at their respective thresholds\n",
      "\n"
     ]
    },
    {
     "data": {
      "text/html": [
       "<div style=\"overflow:auto\"><table style=\"width:50%\"><tr><td><b>metric</b></td>\n",
       "<td><b>threshold</b></td>\n",
       "<td><b>value</b></td>\n",
       "<td><b>idx</b></td></tr>\n",
       "<tr><td>max f1</td>\n",
       "<td>0.2738681</td>\n",
       "<td>0.7238606</td>\n",
       "<td>219.0</td></tr>\n",
       "<tr><td>max f2</td>\n",
       "<td>0.1476253</td>\n",
       "<td>0.8187773</td>\n",
       "<td>303.0</td></tr>\n",
       "<tr><td>max f0point5</td>\n",
       "<td>0.5807376</td>\n",
       "<td>0.7142857</td>\n",
       "<td>99.0</td></tr>\n",
       "<tr><td>max accuracy</td>\n",
       "<td>0.4560958</td>\n",
       "<td>0.7631579</td>\n",
       "<td>148.0</td></tr>\n",
       "<tr><td>max precision</td>\n",
       "<td>0.9986394</td>\n",
       "<td>1.0</td>\n",
       "<td>0.0</td></tr>\n",
       "<tr><td>max recall</td>\n",
       "<td>0.0623959</td>\n",
       "<td>1.0</td>\n",
       "<td>357.0</td></tr>\n",
       "<tr><td>max specificity</td>\n",
       "<td>0.9986394</td>\n",
       "<td>1.0</td>\n",
       "<td>0.0</td></tr>\n",
       "<tr><td>max absolute_mcc</td>\n",
       "<td>0.4560958</td>\n",
       "<td>0.5056595</td>\n",
       "<td>148.0</td></tr>\n",
       "<tr><td>max min_per_class_accuracy</td>\n",
       "<td>0.3817675</td>\n",
       "<td>0.7450980</td>\n",
       "<td>170.0</td></tr>\n",
       "<tr><td>max mean_per_class_accuracy</td>\n",
       "<td>0.2738681</td>\n",
       "<td>0.7539518</td>\n",
       "<td>219.0</td></tr></table></div>"
      ],
      "text/plain": [
       "metric                       threshold    value     idx\n",
       "---------------------------  -----------  --------  -----\n",
       "max f1                       0.273868     0.723861  219\n",
       "max f2                       0.147625     0.818777  303\n",
       "max f0point5                 0.580738     0.714286  99\n",
       "max accuracy                 0.456096     0.763158  148\n",
       "max precision                0.998639     1         0\n",
       "max recall                   0.0623959    1         357\n",
       "max specificity              0.998639     1         0\n",
       "max absolute_mcc             0.456096     0.50566   148\n",
       "max min_per_class_accuracy   0.381768     0.745098  170\n",
       "max mean_per_class_accuracy  0.273868     0.753952  219"
      ]
     },
     "metadata": {},
     "output_type": "display_data"
    },
    {
     "name": "stdout",
     "output_type": "stream",
     "text": [
      "Gains/Lift Table: Avg response rate: 40.26 %\n",
      "\n"
     ]
    },
    {
     "data": {
      "text/html": [
       "<div style=\"overflow:auto\"><table style=\"width:50%\"><tr><td><b></b></td>\n",
       "<td><b>group</b></td>\n",
       "<td><b>cumulative_data_fraction</b></td>\n",
       "<td><b>lower_threshold</b></td>\n",
       "<td><b>lift</b></td>\n",
       "<td><b>cumulative_lift</b></td>\n",
       "<td><b>response_rate</b></td>\n",
       "<td><b>cumulative_response_rate</b></td>\n",
       "<td><b>capture_rate</b></td>\n",
       "<td><b>cumulative_capture_rate</b></td>\n",
       "<td><b>gain</b></td>\n",
       "<td><b>cumulative_gain</b></td></tr>\n",
       "<tr><td></td>\n",
       "<td>1</td>\n",
       "<td>0.0105263</td>\n",
       "<td>0.9867979</td>\n",
       "<td>2.4836601</td>\n",
       "<td>2.4836601</td>\n",
       "<td>1.0</td>\n",
       "<td>1.0</td>\n",
       "<td>0.0261438</td>\n",
       "<td>0.0261438</td>\n",
       "<td>148.3660131</td>\n",
       "<td>148.3660131</td></tr>\n",
       "<tr><td></td>\n",
       "<td>2</td>\n",
       "<td>0.0210526</td>\n",
       "<td>0.9767913</td>\n",
       "<td>2.4836601</td>\n",
       "<td>2.4836601</td>\n",
       "<td>1.0</td>\n",
       "<td>1.0</td>\n",
       "<td>0.0261438</td>\n",
       "<td>0.0522876</td>\n",
       "<td>148.3660131</td>\n",
       "<td>148.3660131</td></tr>\n",
       "<tr><td></td>\n",
       "<td>3</td>\n",
       "<td>0.0315789</td>\n",
       "<td>0.9666501</td>\n",
       "<td>2.4836601</td>\n",
       "<td>2.4836601</td>\n",
       "<td>1.0</td>\n",
       "<td>1.0</td>\n",
       "<td>0.0261438</td>\n",
       "<td>0.0784314</td>\n",
       "<td>148.3660131</td>\n",
       "<td>148.3660131</td></tr>\n",
       "<tr><td></td>\n",
       "<td>4</td>\n",
       "<td>0.0421053</td>\n",
       "<td>0.9570197</td>\n",
       "<td>2.4836601</td>\n",
       "<td>2.4836601</td>\n",
       "<td>1.0</td>\n",
       "<td>1.0</td>\n",
       "<td>0.0261438</td>\n",
       "<td>0.1045752</td>\n",
       "<td>148.3660131</td>\n",
       "<td>148.3660131</td></tr>\n",
       "<tr><td></td>\n",
       "<td>5</td>\n",
       "<td>0.05</td>\n",
       "<td>0.9399771</td>\n",
       "<td>2.4836601</td>\n",
       "<td>2.4836601</td>\n",
       "<td>1.0</td>\n",
       "<td>1.0</td>\n",
       "<td>0.0196078</td>\n",
       "<td>0.1241830</td>\n",
       "<td>148.3660131</td>\n",
       "<td>148.3660131</td></tr>\n",
       "<tr><td></td>\n",
       "<td>6</td>\n",
       "<td>0.1</td>\n",
       "<td>0.8274993</td>\n",
       "<td>1.8300654</td>\n",
       "<td>2.1568627</td>\n",
       "<td>0.7368421</td>\n",
       "<td>0.8684211</td>\n",
       "<td>0.0915033</td>\n",
       "<td>0.2156863</td>\n",
       "<td>83.0065359</td>\n",
       "<td>115.6862745</td></tr>\n",
       "<tr><td></td>\n",
       "<td>7</td>\n",
       "<td>0.15</td>\n",
       "<td>0.7649272</td>\n",
       "<td>1.9607843</td>\n",
       "<td>2.0915033</td>\n",
       "<td>0.7894737</td>\n",
       "<td>0.8421053</td>\n",
       "<td>0.0980392</td>\n",
       "<td>0.3137255</td>\n",
       "<td>96.0784314</td>\n",
       "<td>109.1503268</td></tr>\n",
       "<tr><td></td>\n",
       "<td>8</td>\n",
       "<td>0.2</td>\n",
       "<td>0.6596141</td>\n",
       "<td>1.8300654</td>\n",
       "<td>2.0261438</td>\n",
       "<td>0.7368421</td>\n",
       "<td>0.8157895</td>\n",
       "<td>0.0915033</td>\n",
       "<td>0.4052288</td>\n",
       "<td>83.0065359</td>\n",
       "<td>102.6143791</td></tr>\n",
       "<tr><td></td>\n",
       "<td>9</td>\n",
       "<td>0.3</td>\n",
       "<td>0.5523884</td>\n",
       "<td>1.5032680</td>\n",
       "<td>1.8518519</td>\n",
       "<td>0.6052632</td>\n",
       "<td>0.7456140</td>\n",
       "<td>0.1503268</td>\n",
       "<td>0.5555556</td>\n",
       "<td>50.3267974</td>\n",
       "<td>85.1851852</td></tr>\n",
       "<tr><td></td>\n",
       "<td>10</td>\n",
       "<td>0.4</td>\n",
       "<td>0.4390252</td>\n",
       "<td>1.3725490</td>\n",
       "<td>1.7320261</td>\n",
       "<td>0.5526316</td>\n",
       "<td>0.6973684</td>\n",
       "<td>0.1372549</td>\n",
       "<td>0.6928105</td>\n",
       "<td>37.2549020</td>\n",
       "<td>73.2026144</td></tr>\n",
       "<tr><td></td>\n",
       "<td>11</td>\n",
       "<td>0.5</td>\n",
       "<td>0.3320543</td>\n",
       "<td>0.9803922</td>\n",
       "<td>1.5816993</td>\n",
       "<td>0.3947368</td>\n",
       "<td>0.6368421</td>\n",
       "<td>0.0980392</td>\n",
       "<td>0.7908497</td>\n",
       "<td>-1.9607843</td>\n",
       "<td>58.1699346</td></tr>\n",
       "<tr><td></td>\n",
       "<td>12</td>\n",
       "<td>0.6</td>\n",
       "<td>0.2519998</td>\n",
       "<td>0.9150327</td>\n",
       "<td>1.4705882</td>\n",
       "<td>0.3684211</td>\n",
       "<td>0.5921053</td>\n",
       "<td>0.0915033</td>\n",
       "<td>0.8823529</td>\n",
       "<td>-8.4967320</td>\n",
       "<td>47.0588235</td></tr>\n",
       "<tr><td></td>\n",
       "<td>13</td>\n",
       "<td>0.7</td>\n",
       "<td>0.2008203</td>\n",
       "<td>0.4575163</td>\n",
       "<td>1.3258637</td>\n",
       "<td>0.1842105</td>\n",
       "<td>0.5338346</td>\n",
       "<td>0.0457516</td>\n",
       "<td>0.9281046</td>\n",
       "<td>-54.2483660</td>\n",
       "<td>32.5863679</td></tr>\n",
       "<tr><td></td>\n",
       "<td>14</td>\n",
       "<td>0.8</td>\n",
       "<td>0.1469887</td>\n",
       "<td>0.5228758</td>\n",
       "<td>1.2254902</td>\n",
       "<td>0.2105263</td>\n",
       "<td>0.4934211</td>\n",
       "<td>0.0522876</td>\n",
       "<td>0.9803922</td>\n",
       "<td>-47.7124183</td>\n",
       "<td>22.5490196</td></tr>\n",
       "<tr><td></td>\n",
       "<td>15</td>\n",
       "<td>0.9</td>\n",
       "<td>0.0876284</td>\n",
       "<td>0.1307190</td>\n",
       "<td>1.1038489</td>\n",
       "<td>0.0526316</td>\n",
       "<td>0.4444444</td>\n",
       "<td>0.0130719</td>\n",
       "<td>0.9934641</td>\n",
       "<td>-86.9281046</td>\n",
       "<td>10.3848947</td></tr>\n",
       "<tr><td></td>\n",
       "<td>16</td>\n",
       "<td>1.0</td>\n",
       "<td>0.0005319</td>\n",
       "<td>0.0653595</td>\n",
       "<td>1.0</td>\n",
       "<td>0.0263158</td>\n",
       "<td>0.4026316</td>\n",
       "<td>0.0065359</td>\n",
       "<td>1.0</td>\n",
       "<td>-93.4640523</td>\n",
       "<td>0.0</td></tr></table></div>"
      ],
      "text/plain": [
       "    group    cumulative_data_fraction    lower_threshold    lift       cumulative_lift    response_rate    cumulative_response_rate    capture_rate    cumulative_capture_rate    gain      cumulative_gain\n",
       "--  -------  --------------------------  -----------------  ---------  -----------------  ---------------  --------------------------  --------------  -------------------------  --------  -----------------\n",
       "    1        0.0105263                   0.986798           2.48366    2.48366            1                1                           0.0261438       0.0261438                  148.366   148.366\n",
       "    2        0.0210526                   0.976791           2.48366    2.48366            1                1                           0.0261438       0.0522876                  148.366   148.366\n",
       "    3        0.0315789                   0.96665            2.48366    2.48366            1                1                           0.0261438       0.0784314                  148.366   148.366\n",
       "    4        0.0421053                   0.95702            2.48366    2.48366            1                1                           0.0261438       0.104575                   148.366   148.366\n",
       "    5        0.05                        0.939977           2.48366    2.48366            1                1                           0.0196078       0.124183                   148.366   148.366\n",
       "    6        0.1                         0.827499           1.83007    2.15686            0.736842         0.868421                    0.0915033       0.215686                   83.0065   115.686\n",
       "    7        0.15                        0.764927           1.96078    2.0915             0.789474         0.842105                    0.0980392       0.313725                   96.0784   109.15\n",
       "    8        0.2                         0.659614           1.83007    2.02614            0.736842         0.815789                    0.0915033       0.405229                   83.0065   102.614\n",
       "    9        0.3                         0.552388           1.50327    1.85185            0.605263         0.745614                    0.150327        0.555556                   50.3268   85.1852\n",
       "    10       0.4                         0.439025           1.37255    1.73203            0.552632         0.697368                    0.137255        0.69281                    37.2549   73.2026\n",
       "    11       0.5                         0.332054           0.980392   1.5817             0.394737         0.636842                    0.0980392       0.79085                    -1.96078  58.1699\n",
       "    12       0.6                         0.252              0.915033   1.47059            0.368421         0.592105                    0.0915033       0.882353                   -8.49673  47.0588\n",
       "    13       0.7                         0.20082            0.457516   1.32586            0.184211         0.533835                    0.0457516       0.928105                   -54.2484  32.5864\n",
       "    14       0.8                         0.146989           0.522876   1.22549            0.210526         0.493421                    0.0522876       0.980392                   -47.7124  22.549\n",
       "    15       0.9                         0.0876284          0.130719   1.10385            0.0526316        0.444444                    0.0130719       0.993464                   -86.9281  10.3849\n",
       "    16       1                           0.000531917        0.0653595  1                  0.0263158        0.402632                    0.00653595      1                          -93.4641  0"
      ]
     },
     "metadata": {},
     "output_type": "display_data"
    },
    {
     "name": "stdout",
     "output_type": "stream",
     "text": [
      "\n",
      "\n",
      "ModelMetricsBinomialGLM: glm\n",
      "** Reported on cross-validation data. **\n",
      "\n",
      "MSE: 0.17412567208\n",
      "RMSE: 0.417283682979\n",
      "LogLoss: 0.518955909059\n",
      "Null degrees of freedom: 379\n",
      "Residual degrees of freedom: 371\n",
      "Null deviance: 512.574969489\n",
      "Residual deviance: 394.406490885\n",
      "AIC: 412.406490885\n",
      "AUC: 0.811090956206\n",
      "Gini: 0.622181912413\n",
      "Confusion Matrix (Act/Pred) for max f1 @ threshold = 0.299295757748: \n"
     ]
    },
    {
     "data": {
      "text/html": [
       "<div style=\"overflow:auto\"><table style=\"width:50%\"><tr><td><b></b></td>\n",
       "<td><b>0</b></td>\n",
       "<td><b>1</b></td>\n",
       "<td><b>Error</b></td>\n",
       "<td><b>Rate</b></td></tr>\n",
       "<tr><td>0</td>\n",
       "<td>151.0</td>\n",
       "<td>76.0</td>\n",
       "<td>0.3348</td>\n",
       "<td> (76.0/227.0)</td></tr>\n",
       "<tr><td>1</td>\n",
       "<td>30.0</td>\n",
       "<td>123.0</td>\n",
       "<td>0.1961</td>\n",
       "<td> (30.0/153.0)</td></tr>\n",
       "<tr><td>Total</td>\n",
       "<td>181.0</td>\n",
       "<td>199.0</td>\n",
       "<td>0.2789</td>\n",
       "<td> (106.0/380.0)</td></tr></table></div>"
      ],
      "text/plain": [
       "       0    1    Error    Rate\n",
       "-----  ---  ---  -------  -------------\n",
       "0      151  76   0.3348   (76.0/227.0)\n",
       "1      30   123  0.1961   (30.0/153.0)\n",
       "Total  181  199  0.2789   (106.0/380.0)"
      ]
     },
     "metadata": {},
     "output_type": "display_data"
    },
    {
     "name": "stdout",
     "output_type": "stream",
     "text": [
      "Maximum Metrics: Maximum metrics at their respective thresholds\n",
      "\n"
     ]
    },
    {
     "data": {
      "text/html": [
       "<div style=\"overflow:auto\"><table style=\"width:50%\"><tr><td><b>metric</b></td>\n",
       "<td><b>threshold</b></td>\n",
       "<td><b>value</b></td>\n",
       "<td><b>idx</b></td></tr>\n",
       "<tr><td>max f1</td>\n",
       "<td>0.2992958</td>\n",
       "<td>0.6988636</td>\n",
       "<td>198.0</td></tr>\n",
       "<tr><td>max f2</td>\n",
       "<td>0.1493041</td>\n",
       "<td>0.8159912</td>\n",
       "<td>300.0</td></tr>\n",
       "<tr><td>max f0point5</td>\n",
       "<td>0.6491633</td>\n",
       "<td>0.6907216</td>\n",
       "<td>82.0</td></tr>\n",
       "<tr><td>max accuracy</td>\n",
       "<td>0.4457072</td>\n",
       "<td>0.75</td>\n",
       "<td>149.0</td></tr>\n",
       "<tr><td>max precision</td>\n",
       "<td>0.9990694</td>\n",
       "<td>1.0</td>\n",
       "<td>0.0</td></tr>\n",
       "<tr><td>max recall</td>\n",
       "<td>0.0642455</td>\n",
       "<td>1.0</td>\n",
       "<td>353.0</td></tr>\n",
       "<tr><td>max specificity</td>\n",
       "<td>0.9990694</td>\n",
       "<td>1.0</td>\n",
       "<td>0.0</td></tr>\n",
       "<tr><td>max absolute_mcc</td>\n",
       "<td>0.4077889</td>\n",
       "<td>0.4797108</td>\n",
       "<td>160.0</td></tr>\n",
       "<tr><td>max min_per_class_accuracy</td>\n",
       "<td>0.3685410</td>\n",
       "<td>0.7312775</td>\n",
       "<td>172.0</td></tr>\n",
       "<tr><td>max mean_per_class_accuracy</td>\n",
       "<td>0.4077889</td>\n",
       "<td>0.7416717</td>\n",
       "<td>160.0</td></tr></table></div>"
      ],
      "text/plain": [
       "metric                       threshold    value     idx\n",
       "---------------------------  -----------  --------  -----\n",
       "max f1                       0.299296     0.698864  198\n",
       "max f2                       0.149304     0.815991  300\n",
       "max f0point5                 0.649163     0.690722  82\n",
       "max accuracy                 0.445707     0.75      149\n",
       "max precision                0.999069     1         0\n",
       "max recall                   0.0642455    1         353\n",
       "max specificity              0.999069     1         0\n",
       "max absolute_mcc             0.407789     0.479711  160\n",
       "max min_per_class_accuracy   0.368541     0.731278  172\n",
       "max mean_per_class_accuracy  0.407789     0.741672  160"
      ]
     },
     "metadata": {},
     "output_type": "display_data"
    },
    {
     "name": "stdout",
     "output_type": "stream",
     "text": [
      "Gains/Lift Table: Avg response rate: 40.26 %\n",
      "\n"
     ]
    },
    {
     "data": {
      "text/html": [
       "<div style=\"overflow:auto\"><table style=\"width:50%\"><tr><td><b></b></td>\n",
       "<td><b>group</b></td>\n",
       "<td><b>cumulative_data_fraction</b></td>\n",
       "<td><b>lower_threshold</b></td>\n",
       "<td><b>lift</b></td>\n",
       "<td><b>cumulative_lift</b></td>\n",
       "<td><b>response_rate</b></td>\n",
       "<td><b>cumulative_response_rate</b></td>\n",
       "<td><b>capture_rate</b></td>\n",
       "<td><b>cumulative_capture_rate</b></td>\n",
       "<td><b>gain</b></td>\n",
       "<td><b>cumulative_gain</b></td></tr>\n",
       "<tr><td></td>\n",
       "<td>1</td>\n",
       "<td>0.0105263</td>\n",
       "<td>0.9867909</td>\n",
       "<td>2.4836601</td>\n",
       "<td>2.4836601</td>\n",
       "<td>1.0</td>\n",
       "<td>1.0</td>\n",
       "<td>0.0261438</td>\n",
       "<td>0.0261438</td>\n",
       "<td>148.3660131</td>\n",
       "<td>148.3660131</td></tr>\n",
       "<tr><td></td>\n",
       "<td>2</td>\n",
       "<td>0.0210526</td>\n",
       "<td>0.9783230</td>\n",
       "<td>2.4836601</td>\n",
       "<td>2.4836601</td>\n",
       "<td>1.0</td>\n",
       "<td>1.0</td>\n",
       "<td>0.0261438</td>\n",
       "<td>0.0522876</td>\n",
       "<td>148.3660131</td>\n",
       "<td>148.3660131</td></tr>\n",
       "<tr><td></td>\n",
       "<td>3</td>\n",
       "<td>0.0315789</td>\n",
       "<td>0.9725397</td>\n",
       "<td>2.4836601</td>\n",
       "<td>2.4836601</td>\n",
       "<td>1.0</td>\n",
       "<td>1.0</td>\n",
       "<td>0.0261438</td>\n",
       "<td>0.0784314</td>\n",
       "<td>148.3660131</td>\n",
       "<td>148.3660131</td></tr>\n",
       "<tr><td></td>\n",
       "<td>4</td>\n",
       "<td>0.0421053</td>\n",
       "<td>0.9473972</td>\n",
       "<td>1.8627451</td>\n",
       "<td>2.3284314</td>\n",
       "<td>0.75</td>\n",
       "<td>0.9375</td>\n",
       "<td>0.0196078</td>\n",
       "<td>0.0980392</td>\n",
       "<td>86.2745098</td>\n",
       "<td>132.8431373</td></tr>\n",
       "<tr><td></td>\n",
       "<td>5</td>\n",
       "<td>0.05</td>\n",
       "<td>0.9424469</td>\n",
       "<td>2.4836601</td>\n",
       "<td>2.3529412</td>\n",
       "<td>1.0</td>\n",
       "<td>0.9473684</td>\n",
       "<td>0.0196078</td>\n",
       "<td>0.1176471</td>\n",
       "<td>148.3660131</td>\n",
       "<td>135.2941176</td></tr>\n",
       "<tr><td></td>\n",
       "<td>6</td>\n",
       "<td>0.1</td>\n",
       "<td>0.8422299</td>\n",
       "<td>1.8300654</td>\n",
       "<td>2.0915033</td>\n",
       "<td>0.7368421</td>\n",
       "<td>0.8421053</td>\n",
       "<td>0.0915033</td>\n",
       "<td>0.2091503</td>\n",
       "<td>83.0065359</td>\n",
       "<td>109.1503268</td></tr>\n",
       "<tr><td></td>\n",
       "<td>7</td>\n",
       "<td>0.15</td>\n",
       "<td>0.7610756</td>\n",
       "<td>1.8300654</td>\n",
       "<td>2.0043573</td>\n",
       "<td>0.7368421</td>\n",
       "<td>0.8070175</td>\n",
       "<td>0.0915033</td>\n",
       "<td>0.3006536</td>\n",
       "<td>83.0065359</td>\n",
       "<td>100.4357298</td></tr>\n",
       "<tr><td></td>\n",
       "<td>8</td>\n",
       "<td>0.2</td>\n",
       "<td>0.6714147</td>\n",
       "<td>1.8300654</td>\n",
       "<td>1.9607843</td>\n",
       "<td>0.7368421</td>\n",
       "<td>0.7894737</td>\n",
       "<td>0.0915033</td>\n",
       "<td>0.3921569</td>\n",
       "<td>83.0065359</td>\n",
       "<td>96.0784314</td></tr>\n",
       "<tr><td></td>\n",
       "<td>9</td>\n",
       "<td>0.3</td>\n",
       "<td>0.5394356</td>\n",
       "<td>1.4379085</td>\n",
       "<td>1.7864924</td>\n",
       "<td>0.5789474</td>\n",
       "<td>0.7192982</td>\n",
       "<td>0.1437908</td>\n",
       "<td>0.5359477</td>\n",
       "<td>43.7908497</td>\n",
       "<td>78.6492375</td></tr>\n",
       "<tr><td></td>\n",
       "<td>10</td>\n",
       "<td>0.4</td>\n",
       "<td>0.4329919</td>\n",
       "<td>1.4379085</td>\n",
       "<td>1.6993464</td>\n",
       "<td>0.5789474</td>\n",
       "<td>0.6842105</td>\n",
       "<td>0.1437908</td>\n",
       "<td>0.6797386</td>\n",
       "<td>43.7908497</td>\n",
       "<td>69.9346405</td></tr>\n",
       "<tr><td></td>\n",
       "<td>11</td>\n",
       "<td>0.5</td>\n",
       "<td>0.3281248</td>\n",
       "<td>0.9803922</td>\n",
       "<td>1.5555556</td>\n",
       "<td>0.3947368</td>\n",
       "<td>0.6263158</td>\n",
       "<td>0.0980392</td>\n",
       "<td>0.7777778</td>\n",
       "<td>-1.9607843</td>\n",
       "<td>55.5555556</td></tr>\n",
       "<tr><td></td>\n",
       "<td>12</td>\n",
       "<td>0.6</td>\n",
       "<td>0.2477466</td>\n",
       "<td>0.7843137</td>\n",
       "<td>1.4270153</td>\n",
       "<td>0.3157895</td>\n",
       "<td>0.5745614</td>\n",
       "<td>0.0784314</td>\n",
       "<td>0.8562092</td>\n",
       "<td>-21.5686275</td>\n",
       "<td>42.7015251</td></tr>\n",
       "<tr><td></td>\n",
       "<td>13</td>\n",
       "<td>0.7</td>\n",
       "<td>0.1907541</td>\n",
       "<td>0.7189542</td>\n",
       "<td>1.3258637</td>\n",
       "<td>0.2894737</td>\n",
       "<td>0.5338346</td>\n",
       "<td>0.0718954</td>\n",
       "<td>0.9281046</td>\n",
       "<td>-28.1045752</td>\n",
       "<td>32.5863679</td></tr>\n",
       "<tr><td></td>\n",
       "<td>14</td>\n",
       "<td>0.8</td>\n",
       "<td>0.1460047</td>\n",
       "<td>0.4575163</td>\n",
       "<td>1.2173203</td>\n",
       "<td>0.1842105</td>\n",
       "<td>0.4901316</td>\n",
       "<td>0.0457516</td>\n",
       "<td>0.9738562</td>\n",
       "<td>-54.2483660</td>\n",
       "<td>21.7320261</td></tr>\n",
       "<tr><td></td>\n",
       "<td>15</td>\n",
       "<td>0.9</td>\n",
       "<td>0.0820538</td>\n",
       "<td>0.1960784</td>\n",
       "<td>1.1038489</td>\n",
       "<td>0.0789474</td>\n",
       "<td>0.4444444</td>\n",
       "<td>0.0196078</td>\n",
       "<td>0.9934641</td>\n",
       "<td>-80.3921569</td>\n",
       "<td>10.3848947</td></tr>\n",
       "<tr><td></td>\n",
       "<td>16</td>\n",
       "<td>1.0</td>\n",
       "<td>0.0002773</td>\n",
       "<td>0.0653595</td>\n",
       "<td>1.0</td>\n",
       "<td>0.0263158</td>\n",
       "<td>0.4026316</td>\n",
       "<td>0.0065359</td>\n",
       "<td>1.0</td>\n",
       "<td>-93.4640523</td>\n",
       "<td>0.0</td></tr></table></div>"
      ],
      "text/plain": [
       "    group    cumulative_data_fraction    lower_threshold    lift       cumulative_lift    response_rate    cumulative_response_rate    capture_rate    cumulative_capture_rate    gain      cumulative_gain\n",
       "--  -------  --------------------------  -----------------  ---------  -----------------  ---------------  --------------------------  --------------  -------------------------  --------  -----------------\n",
       "    1        0.0105263                   0.986791           2.48366    2.48366            1                1                           0.0261438       0.0261438                  148.366   148.366\n",
       "    2        0.0210526                   0.978323           2.48366    2.48366            1                1                           0.0261438       0.0522876                  148.366   148.366\n",
       "    3        0.0315789                   0.97254            2.48366    2.48366            1                1                           0.0261438       0.0784314                  148.366   148.366\n",
       "    4        0.0421053                   0.947397           1.86275    2.32843            0.75             0.9375                      0.0196078       0.0980392                  86.2745   132.843\n",
       "    5        0.05                        0.942447           2.48366    2.35294            1                0.947368                    0.0196078       0.117647                   148.366   135.294\n",
       "    6        0.1                         0.84223            1.83007    2.0915             0.736842         0.842105                    0.0915033       0.20915                    83.0065   109.15\n",
       "    7        0.15                        0.761076           1.83007    2.00436            0.736842         0.807018                    0.0915033       0.300654                   83.0065   100.436\n",
       "    8        0.2                         0.671415           1.83007    1.96078            0.736842         0.789474                    0.0915033       0.392157                   83.0065   96.0784\n",
       "    9        0.3                         0.539436           1.43791    1.78649            0.578947         0.719298                    0.143791        0.535948                   43.7908   78.6492\n",
       "    10       0.4                         0.432992           1.43791    1.69935            0.578947         0.684211                    0.143791        0.679739                   43.7908   69.9346\n",
       "    11       0.5                         0.328125           0.980392   1.55556            0.394737         0.626316                    0.0980392       0.777778                   -1.96078  55.5556\n",
       "    12       0.6                         0.247747           0.784314   1.42702            0.315789         0.574561                    0.0784314       0.856209                   -21.5686  42.7015\n",
       "    13       0.7                         0.190754           0.718954   1.32586            0.289474         0.533835                    0.0718954       0.928105                   -28.1046  32.5864\n",
       "    14       0.8                         0.146005           0.457516   1.21732            0.184211         0.490132                    0.0457516       0.973856                   -54.2484  21.732\n",
       "    15       0.9                         0.0820538          0.196078   1.10385            0.0789474        0.444444                    0.0196078       0.993464                   -80.3922  10.3849\n",
       "    16       1                           0.000277258        0.0653595  1                  0.0263158        0.402632                    0.00653595      1                          -93.4641  0"
      ]
     },
     "metadata": {},
     "output_type": "display_data"
    },
    {
     "name": "stdout",
     "output_type": "stream",
     "text": [
      "\n",
      "Cross-Validation Metrics Summary: \n"
     ]
    },
    {
     "data": {
      "text/html": [
       "<div style=\"overflow:auto\"><table style=\"width:50%\"><tr><td><b></b></td>\n",
       "<td><b>mean</b></td>\n",
       "<td><b>sd</b></td>\n",
       "<td><b>cv_1_valid</b></td>\n",
       "<td><b>cv_2_valid</b></td>\n",
       "<td><b>cv_3_valid</b></td>\n",
       "<td><b>cv_4_valid</b></td>\n",
       "<td><b>cv_5_valid</b></td></tr>\n",
       "<tr><td>accuracy</td>\n",
       "<td>0.741648</td>\n",
       "<td>0.0504372</td>\n",
       "<td>0.8289474</td>\n",
       "<td>0.7628866</td>\n",
       "<td>0.6315789</td>\n",
       "<td>0.7936508</td>\n",
       "<td>0.6911765</td></tr>\n",
       "<tr><td>auc</td>\n",
       "<td>0.8102137</td>\n",
       "<td>0.0204309</td>\n",
       "<td>0.8473011</td>\n",
       "<td>0.8134394</td>\n",
       "<td>0.7840909</td>\n",
       "<td>0.8347826</td>\n",
       "<td>0.7714544</td></tr>\n",
       "<tr><td>err</td>\n",
       "<td>0.2583519</td>\n",
       "<td>0.0504372</td>\n",
       "<td>0.1710526</td>\n",
       "<td>0.2371134</td>\n",
       "<td>0.3684211</td>\n",
       "<td>0.2063492</td>\n",
       "<td>0.3088235</td></tr>\n",
       "<tr><td>err_count</td>\n",
       "<td>19.6</td>\n",
       "<td>4.1376324</td>\n",
       "<td>13.0</td>\n",
       "<td>23.0</td>\n",
       "<td>28.0</td>\n",
       "<td>13.0</td>\n",
       "<td>21.0</td></tr>\n",
       "<tr><td>f0point5</td>\n",
       "<td>0.6842991</td>\n",
       "<td>0.0553671</td>\n",
       "<td>0.8108108</td>\n",
       "<td>0.6976744</td>\n",
       "<td>0.5882353</td>\n",
       "<td>0.7086614</td>\n",
       "<td>0.6161137</td></tr>\n",
       "<tr><td>---</td>\n",
       "<td>---</td>\n",
       "<td>---</td>\n",
       "<td>---</td>\n",
       "<td>---</td>\n",
       "<td>---</td>\n",
       "<td>---</td>\n",
       "<td>---</td></tr>\n",
       "<tr><td>r2</td>\n",
       "<td>0.2735834</td>\n",
       "<td>0.0420356</td>\n",
       "<td>0.3592168</td>\n",
       "<td>0.2781078</td>\n",
       "<td>0.2491044</td>\n",
       "<td>0.3022268</td>\n",
       "<td>0.1792613</td></tr>\n",
       "<tr><td>recall</td>\n",
       "<td>0.8529605</td>\n",
       "<td>0.0750214</td>\n",
       "<td>0.75</td>\n",
       "<td>0.7692308</td>\n",
       "<td>1.0</td>\n",
       "<td>0.7826087</td>\n",
       "<td>0.962963</td></tr>\n",
       "<tr><td>residual_deviance</td>\n",
       "<td>78.8813</td>\n",
       "<td>8.995062</td>\n",
       "<td>73.16009</td>\n",
       "<td>100.2491</td>\n",
       "<td>80.50242</td>\n",
       "<td>61.080074</td>\n",
       "<td>79.41481</td></tr>\n",
       "<tr><td>rmse</td>\n",
       "<td>0.4170183</td>\n",
       "<td>0.0122546</td>\n",
       "<td>0.3952240</td>\n",
       "<td>0.4165918</td>\n",
       "<td>0.4278362</td>\n",
       "<td>0.4021708</td>\n",
       "<td>0.443269</td></tr>\n",
       "<tr><td>specificity</td>\n",
       "<td>0.6641632</td>\n",
       "<td>0.1378976</td>\n",
       "<td>0.8863636</td>\n",
       "<td>0.7586207</td>\n",
       "<td>0.3636364</td>\n",
       "<td>0.8</td>\n",
       "<td>0.5121951</td></tr></table></div>"
      ],
      "text/plain": [
       "                   mean        sd           cv_1_valid    cv_2_valid    cv_3_valid    cv_4_valid    cv_5_valid\n",
       "-----------------  ----------  -----------  ------------  ------------  ------------  ------------  ------------\n",
       "accuracy           0.741648    0.05043721   0.82894737    0.7628866     0.6315789     0.7936508     0.6911765\n",
       "auc                0.8102137   0.020430857  0.8473011     0.8134394     0.78409094    0.8347826     0.7714544\n",
       "err                0.25835195  0.05043721   0.17105263    0.2371134     0.36842105    0.20634921    0.30882353\n",
       "err_count          19.6        4.1376324    13.0          23.0          28.0          13.0          21.0\n",
       "f0point5           0.6842991   0.05536708   0.8108108     0.6976744     0.5882353     0.70866144    0.6161137\n",
       "---                ---         ---          ---           ---           ---           ---           ---\n",
       "r2                 0.27358344  0.042035572  0.35921684    0.27810785    0.24910437    0.30222684    0.17926125\n",
       "recall             0.85296047  0.07502137   0.75          0.7692308     1.0           0.7826087     0.962963\n",
       "residual_deviance  78.8813     8.995062     73.16009      100.2491      80.50242      61.080074     79.41481\n",
       "rmse               0.41701835  0.012254592  0.39522398    0.4165918     0.4278362     0.40217078    0.443269\n",
       "specificity        0.6641632   0.13789763   0.8863636     0.7586207     0.36363637    0.8           0.5121951"
      ]
     },
     "metadata": {},
     "output_type": "display_data"
    },
    {
     "name": "stdout",
     "output_type": "stream",
     "text": [
      "\n",
      "See the whole table with table.as_data_frame()\n",
      "Scoring History: \n"
     ]
    },
    {
     "data": {
      "text/html": [
       "<div style=\"overflow:auto\"><table style=\"width:50%\"><tr><td><b></b></td>\n",
       "<td><b>timestamp</b></td>\n",
       "<td><b>duration</b></td>\n",
       "<td><b>iterations</b></td>\n",
       "<td><b>negative_log_likelihood</b></td>\n",
       "<td><b>objective</b></td></tr>\n",
       "<tr><td></td>\n",
       "<td>2017-11-13 14:57:18</td>\n",
       "<td> 0.000 sec</td>\n",
       "<td>0</td>\n",
       "<td>256.1444201</td>\n",
       "<td>0.6740643</td></tr>\n",
       "<tr><td></td>\n",
       "<td>2017-11-13 14:57:18</td>\n",
       "<td> 0.002 sec</td>\n",
       "<td>1</td>\n",
       "<td>194.8874941</td>\n",
       "<td>0.5133770</td></tr>\n",
       "<tr><td></td>\n",
       "<td>2017-11-13 14:57:18</td>\n",
       "<td> 0.002 sec</td>\n",
       "<td>2</td>\n",
       "<td>188.7807393</td>\n",
       "<td>0.4975772</td></tr>\n",
       "<tr><td></td>\n",
       "<td>2017-11-13 14:57:18</td>\n",
       "<td> 0.003 sec</td>\n",
       "<td>3</td>\n",
       "<td>188.4538605</td>\n",
       "<td>0.4968035</td></tr>\n",
       "<tr><td></td>\n",
       "<td>2017-11-13 14:57:18</td>\n",
       "<td> 0.003 sec</td>\n",
       "<td>4</td>\n",
       "<td>188.4503396</td>\n",
       "<td>0.4968002</td></tr></table></div>"
      ],
      "text/plain": [
       "    timestamp            duration    iterations    negative_log_likelihood    objective\n",
       "--  -------------------  ----------  ------------  -------------------------  -----------\n",
       "    2017-11-13 14:57:18  0.000 sec   0             256.144                    0.674064\n",
       "    2017-11-13 14:57:18  0.002 sec   1             194.887                    0.513377\n",
       "    2017-11-13 14:57:18  0.002 sec   2             188.781                    0.497577\n",
       "    2017-11-13 14:57:18  0.003 sec   3             188.454                    0.496803\n",
       "    2017-11-13 14:57:18  0.003 sec   4             188.45                     0.4968"
      ]
     },
     "metadata": {},
     "output_type": "display_data"
    },
    {
     "data": {
      "text/plain": []
     },
     "execution_count": 43,
     "metadata": {},
     "output_type": "execute_result"
    }
   ],
   "source": [
    "glm_model_with_training_and_cv"
   ]
  },
  {
   "cell_type": "code",
   "execution_count": 44,
   "metadata": {
    "collapsed": true
   },
   "outputs": [],
   "source": [
    "#: Building linear regression model (GLM) with training and \n",
    "#  validation data and for that reason we need to split training dataset"
   ]
  },
  {
   "cell_type": "code",
   "execution_count": 45,
   "metadata": {
    "collapsed": true
   },
   "outputs": [],
   "source": [
    "df_prostate_train, df_prostate_valid, df_prostate_test = train_df.split_frame(ratios=[0.8,0.1])"
   ]
  },
  {
   "cell_type": "code",
   "execution_count": 46,
   "metadata": {
    "collapsed": true
   },
   "outputs": [],
   "source": [
    "#: understanding the row count into original andsplit object"
   ]
  },
  {
   "cell_type": "code",
   "execution_count": 47,
   "metadata": {},
   "outputs": [
    {
     "name": "stdout",
     "output_type": "stream",
     "text": [
      "(380, 9)\n",
      "(300, 9)\n",
      "(41, 9)\n",
      "(39, 9)\n"
     ]
    }
   ],
   "source": [
    "print(train_df.shape)\n",
    "print(df_prostate_train.shape)\n",
    "print(df_prostate_valid.shape)\n",
    "print(df_prostate_test.shape)"
   ]
  },
  {
   "cell_type": "code",
   "execution_count": 48,
   "metadata": {
    "collapsed": true
   },
   "outputs": [],
   "source": [
    "#: Building linear regression model (GLM) with training and validation data now"
   ]
  },
  {
   "cell_type": "code",
   "execution_count": 49,
   "metadata": {},
   "outputs": [
    {
     "name": "stdout",
     "output_type": "stream",
     "text": [
      "glm Model Build progress: |███████████████████████████████████████████████| 100%\n"
     ]
    }
   ],
   "source": [
    "glm_model_with_training_and_validtion = H2OGeneralizedLinearEstimator(family = \"Binomial\")\n",
    "glm_model_with_training_and_validtion.train(x = features, y = response, \n",
    "                                            training_frame=df_prostate_train, \n",
    "                                            validation_frame=df_prostate_valid,\n",
    "                                           model_id = \"glm_model_with_training_and_validtion_python\")"
   ]
  },
  {
   "cell_type": "code",
   "execution_count": 50,
   "metadata": {},
   "outputs": [
    {
     "name": "stdout",
     "output_type": "stream",
     "text": [
      "Model Details\n",
      "=============\n",
      "H2OGeneralizedLinearEstimator :  Generalized Linear Modeling\n",
      "Model Key:  glm_model_with_training_and_validtion_python\n",
      "\n",
      "\n",
      "ModelMetricsBinomialGLM: glm\n",
      "** Reported on train data. **\n",
      "\n",
      "MSE: 0.172881414421\n",
      "RMSE: 0.415790108614\n",
      "LogLoss: 0.514938620857\n",
      "Null degrees of freedom: 299\n",
      "Residual degrees of freedom: 291\n",
      "Null deviance: 405.373405975\n",
      "Residual deviance: 308.963172514\n",
      "AIC: 326.963172514\n",
      "AUC: 0.814975133542\n",
      "Gini: 0.629950267084\n",
      "Confusion Matrix (Act/Pred) for max f1 @ threshold = 0.287833399151: \n"
     ]
    },
    {
     "data": {
      "text/html": [
       "<div style=\"overflow:auto\"><table style=\"width:50%\"><tr><td><b></b></td>\n",
       "<td><b>0</b></td>\n",
       "<td><b>1</b></td>\n",
       "<td><b>Error</b></td>\n",
       "<td><b>Rate</b></td></tr>\n",
       "<tr><td>0</td>\n",
       "<td>111.0</td>\n",
       "<td>67.0</td>\n",
       "<td>0.3764</td>\n",
       "<td> (67.0/178.0)</td></tr>\n",
       "<tr><td>1</td>\n",
       "<td>15.0</td>\n",
       "<td>107.0</td>\n",
       "<td>0.123</td>\n",
       "<td> (15.0/122.0)</td></tr>\n",
       "<tr><td>Total</td>\n",
       "<td>126.0</td>\n",
       "<td>174.0</td>\n",
       "<td>0.2733</td>\n",
       "<td> (82.0/300.0)</td></tr></table></div>"
      ],
      "text/plain": [
       "       0    1    Error    Rate\n",
       "-----  ---  ---  -------  ------------\n",
       "0      111  67   0.3764   (67.0/178.0)\n",
       "1      15   107  0.123    (15.0/122.0)\n",
       "Total  126  174  0.2733   (82.0/300.0)"
      ]
     },
     "metadata": {},
     "output_type": "display_data"
    },
    {
     "name": "stdout",
     "output_type": "stream",
     "text": [
      "Maximum Metrics: Maximum metrics at their respective thresholds\n",
      "\n"
     ]
    },
    {
     "data": {
      "text/html": [
       "<div style=\"overflow:auto\"><table style=\"width:50%\"><tr><td><b>metric</b></td>\n",
       "<td><b>threshold</b></td>\n",
       "<td><b>value</b></td>\n",
       "<td><b>idx</b></td></tr>\n",
       "<tr><td>max f1</td>\n",
       "<td>0.2878334</td>\n",
       "<td>0.7229730</td>\n",
       "<td>173.0</td></tr>\n",
       "<tr><td>max f2</td>\n",
       "<td>0.1552152</td>\n",
       "<td>0.8196721</td>\n",
       "<td>243.0</td></tr>\n",
       "<tr><td>max f0point5</td>\n",
       "<td>0.4231571</td>\n",
       "<td>0.7073955</td>\n",
       "<td>124.0</td></tr>\n",
       "<tr><td>max accuracy</td>\n",
       "<td>0.4231571</td>\n",
       "<td>0.7633333</td>\n",
       "<td>124.0</td></tr>\n",
       "<tr><td>max precision</td>\n",
       "<td>0.9966497</td>\n",
       "<td>1.0</td>\n",
       "<td>0.0</td></tr>\n",
       "<tr><td>max recall</td>\n",
       "<td>0.0711054</td>\n",
       "<td>1.0</td>\n",
       "<td>283.0</td></tr>\n",
       "<tr><td>max specificity</td>\n",
       "<td>0.9966497</td>\n",
       "<td>1.0</td>\n",
       "<td>0.0</td></tr>\n",
       "<tr><td>max absolute_mcc</td>\n",
       "<td>0.4231571</td>\n",
       "<td>0.5115769</td>\n",
       "<td>124.0</td></tr>\n",
       "<tr><td>max min_per_class_accuracy</td>\n",
       "<td>0.4182599</td>\n",
       "<td>0.7295082</td>\n",
       "<td>127.0</td></tr>\n",
       "<tr><td>max mean_per_class_accuracy</td>\n",
       "<td>0.4231571</td>\n",
       "<td>0.7567232</td>\n",
       "<td>124.0</td></tr></table></div>"
      ],
      "text/plain": [
       "metric                       threshold    value     idx\n",
       "---------------------------  -----------  --------  -----\n",
       "max f1                       0.287833     0.722973  173\n",
       "max f2                       0.155215     0.819672  243\n",
       "max f0point5                 0.423157     0.707395  124\n",
       "max accuracy                 0.423157     0.763333  124\n",
       "max precision                0.99665      1         0\n",
       "max recall                   0.0711054    1         283\n",
       "max specificity              0.99665      1         0\n",
       "max absolute_mcc             0.423157     0.511577  124\n",
       "max min_per_class_accuracy   0.41826      0.729508  127\n",
       "max mean_per_class_accuracy  0.423157     0.756723  124"
      ]
     },
     "metadata": {},
     "output_type": "display_data"
    },
    {
     "name": "stdout",
     "output_type": "stream",
     "text": [
      "Gains/Lift Table: Avg response rate: 40.67 %\n",
      "\n"
     ]
    },
    {
     "data": {
      "text/html": [
       "<div style=\"overflow:auto\"><table style=\"width:50%\"><tr><td><b></b></td>\n",
       "<td><b>group</b></td>\n",
       "<td><b>cumulative_data_fraction</b></td>\n",
       "<td><b>lower_threshold</b></td>\n",
       "<td><b>lift</b></td>\n",
       "<td><b>cumulative_lift</b></td>\n",
       "<td><b>response_rate</b></td>\n",
       "<td><b>cumulative_response_rate</b></td>\n",
       "<td><b>capture_rate</b></td>\n",
       "<td><b>cumulative_capture_rate</b></td>\n",
       "<td><b>gain</b></td>\n",
       "<td><b>cumulative_gain</b></td></tr>\n",
       "<tr><td></td>\n",
       "<td>1</td>\n",
       "<td>0.01</td>\n",
       "<td>0.9788795</td>\n",
       "<td>2.4590164</td>\n",
       "<td>2.4590164</td>\n",
       "<td>1.0</td>\n",
       "<td>1.0</td>\n",
       "<td>0.0245902</td>\n",
       "<td>0.0245902</td>\n",
       "<td>145.9016393</td>\n",
       "<td>145.9016393</td></tr>\n",
       "<tr><td></td>\n",
       "<td>2</td>\n",
       "<td>0.02</td>\n",
       "<td>0.9723558</td>\n",
       "<td>2.4590164</td>\n",
       "<td>2.4590164</td>\n",
       "<td>1.0</td>\n",
       "<td>1.0</td>\n",
       "<td>0.0245902</td>\n",
       "<td>0.0491803</td>\n",
       "<td>145.9016393</td>\n",
       "<td>145.9016393</td></tr>\n",
       "<tr><td></td>\n",
       "<td>3</td>\n",
       "<td>0.03</td>\n",
       "<td>0.9603805</td>\n",
       "<td>2.4590164</td>\n",
       "<td>2.4590164</td>\n",
       "<td>1.0</td>\n",
       "<td>1.0</td>\n",
       "<td>0.0245902</td>\n",
       "<td>0.0737705</td>\n",
       "<td>145.9016393</td>\n",
       "<td>145.9016393</td></tr>\n",
       "<tr><td></td>\n",
       "<td>4</td>\n",
       "<td>0.04</td>\n",
       "<td>0.9468066</td>\n",
       "<td>2.4590164</td>\n",
       "<td>2.4590164</td>\n",
       "<td>1.0</td>\n",
       "<td>1.0</td>\n",
       "<td>0.0245902</td>\n",
       "<td>0.0983607</td>\n",
       "<td>145.9016393</td>\n",
       "<td>145.9016393</td></tr>\n",
       "<tr><td></td>\n",
       "<td>5</td>\n",
       "<td>0.05</td>\n",
       "<td>0.9251554</td>\n",
       "<td>2.4590164</td>\n",
       "<td>2.4590164</td>\n",
       "<td>1.0</td>\n",
       "<td>1.0</td>\n",
       "<td>0.0245902</td>\n",
       "<td>0.1229508</td>\n",
       "<td>145.9016393</td>\n",
       "<td>145.9016393</td></tr>\n",
       "<tr><td></td>\n",
       "<td>6</td>\n",
       "<td>0.1</td>\n",
       "<td>0.8207720</td>\n",
       "<td>1.6393443</td>\n",
       "<td>2.0491803</td>\n",
       "<td>0.6666667</td>\n",
       "<td>0.8333333</td>\n",
       "<td>0.0819672</td>\n",
       "<td>0.2049180</td>\n",
       "<td>63.9344262</td>\n",
       "<td>104.9180328</td></tr>\n",
       "<tr><td></td>\n",
       "<td>7</td>\n",
       "<td>0.15</td>\n",
       "<td>0.7335702</td>\n",
       "<td>1.9672131</td>\n",
       "<td>2.0218579</td>\n",
       "<td>0.8</td>\n",
       "<td>0.8222222</td>\n",
       "<td>0.0983607</td>\n",
       "<td>0.3032787</td>\n",
       "<td>96.7213115</td>\n",
       "<td>102.1857923</td></tr>\n",
       "<tr><td></td>\n",
       "<td>8</td>\n",
       "<td>0.2</td>\n",
       "<td>0.6510465</td>\n",
       "<td>1.6393443</td>\n",
       "<td>1.9262295</td>\n",
       "<td>0.6666667</td>\n",
       "<td>0.7833333</td>\n",
       "<td>0.0819672</td>\n",
       "<td>0.3852459</td>\n",
       "<td>63.9344262</td>\n",
       "<td>92.6229508</td></tr>\n",
       "<tr><td></td>\n",
       "<td>9</td>\n",
       "<td>0.3</td>\n",
       "<td>0.5325099</td>\n",
       "<td>1.3934426</td>\n",
       "<td>1.7486339</td>\n",
       "<td>0.5666667</td>\n",
       "<td>0.7111111</td>\n",
       "<td>0.1393443</td>\n",
       "<td>0.5245902</td>\n",
       "<td>39.3442623</td>\n",
       "<td>74.8633880</td></tr>\n",
       "<tr><td></td>\n",
       "<td>10</td>\n",
       "<td>0.4</td>\n",
       "<td>0.4456888</td>\n",
       "<td>1.7213115</td>\n",
       "<td>1.7418033</td>\n",
       "<td>0.7</td>\n",
       "<td>0.7083333</td>\n",
       "<td>0.1721311</td>\n",
       "<td>0.6967213</td>\n",
       "<td>72.1311475</td>\n",
       "<td>74.1803279</td></tr>\n",
       "<tr><td></td>\n",
       "<td>11</td>\n",
       "<td>0.5</td>\n",
       "<td>0.3502210</td>\n",
       "<td>0.8196721</td>\n",
       "<td>1.5573770</td>\n",
       "<td>0.3333333</td>\n",
       "<td>0.6333333</td>\n",
       "<td>0.0819672</td>\n",
       "<td>0.7786885</td>\n",
       "<td>-18.0327869</td>\n",
       "<td>55.7377049</td></tr>\n",
       "<tr><td></td>\n",
       "<td>12</td>\n",
       "<td>0.6</td>\n",
       "<td>0.2708692</td>\n",
       "<td>0.9836066</td>\n",
       "<td>1.4617486</td>\n",
       "<td>0.4</td>\n",
       "<td>0.5944444</td>\n",
       "<td>0.0983607</td>\n",
       "<td>0.8770492</td>\n",
       "<td>-1.6393443</td>\n",
       "<td>46.1748634</td></tr>\n",
       "<tr><td></td>\n",
       "<td>13</td>\n",
       "<td>0.7</td>\n",
       "<td>0.2229876</td>\n",
       "<td>0.4918033</td>\n",
       "<td>1.3231850</td>\n",
       "<td>0.2</td>\n",
       "<td>0.5380952</td>\n",
       "<td>0.0491803</td>\n",
       "<td>0.9262295</td>\n",
       "<td>-50.8196721</td>\n",
       "<td>32.3185012</td></tr>\n",
       "<tr><td></td>\n",
       "<td>14</td>\n",
       "<td>0.8</td>\n",
       "<td>0.1591679</td>\n",
       "<td>0.4918033</td>\n",
       "<td>1.2192623</td>\n",
       "<td>0.2</td>\n",
       "<td>0.4958333</td>\n",
       "<td>0.0491803</td>\n",
       "<td>0.9754098</td>\n",
       "<td>-50.8196721</td>\n",
       "<td>21.9262295</td></tr>\n",
       "<tr><td></td>\n",
       "<td>15</td>\n",
       "<td>0.9</td>\n",
       "<td>0.1048264</td>\n",
       "<td>0.1639344</td>\n",
       "<td>1.1020036</td>\n",
       "<td>0.0666667</td>\n",
       "<td>0.4481481</td>\n",
       "<td>0.0163934</td>\n",
       "<td>0.9918033</td>\n",
       "<td>-83.6065574</td>\n",
       "<td>10.2003643</td></tr>\n",
       "<tr><td></td>\n",
       "<td>16</td>\n",
       "<td>1.0</td>\n",
       "<td>0.0008296</td>\n",
       "<td>0.0819672</td>\n",
       "<td>1.0</td>\n",
       "<td>0.0333333</td>\n",
       "<td>0.4066667</td>\n",
       "<td>0.0081967</td>\n",
       "<td>1.0</td>\n",
       "<td>-91.8032787</td>\n",
       "<td>0.0</td></tr></table></div>"
      ],
      "text/plain": [
       "    group    cumulative_data_fraction    lower_threshold    lift       cumulative_lift    response_rate    cumulative_response_rate    capture_rate    cumulative_capture_rate    gain      cumulative_gain\n",
       "--  -------  --------------------------  -----------------  ---------  -----------------  ---------------  --------------------------  --------------  -------------------------  --------  -----------------\n",
       "    1        0.01                        0.97888            2.45902    2.45902            1                1                           0.0245902       0.0245902                  145.902   145.902\n",
       "    2        0.02                        0.972356           2.45902    2.45902            1                1                           0.0245902       0.0491803                  145.902   145.902\n",
       "    3        0.03                        0.96038            2.45902    2.45902            1                1                           0.0245902       0.0737705                  145.902   145.902\n",
       "    4        0.04                        0.946807           2.45902    2.45902            1                1                           0.0245902       0.0983607                  145.902   145.902\n",
       "    5        0.05                        0.925155           2.45902    2.45902            1                1                           0.0245902       0.122951                   145.902   145.902\n",
       "    6        0.1                         0.820772           1.63934    2.04918            0.666667         0.833333                    0.0819672       0.204918                   63.9344   104.918\n",
       "    7        0.15                        0.73357            1.96721    2.02186            0.8              0.822222                    0.0983607       0.303279                   96.7213   102.186\n",
       "    8        0.2                         0.651047           1.63934    1.92623            0.666667         0.783333                    0.0819672       0.385246                   63.9344   92.623\n",
       "    9        0.3                         0.53251            1.39344    1.74863            0.566667         0.711111                    0.139344        0.52459                    39.3443   74.8634\n",
       "    10       0.4                         0.445689           1.72131    1.7418             0.7              0.708333                    0.172131        0.696721                   72.1311   74.1803\n",
       "    11       0.5                         0.350221           0.819672   1.55738            0.333333         0.633333                    0.0819672       0.778689                   -18.0328  55.7377\n",
       "    12       0.6                         0.270869           0.983607   1.46175            0.4              0.594444                    0.0983607       0.877049                   -1.63934  46.1749\n",
       "    13       0.7                         0.222988           0.491803   1.32319            0.2              0.538095                    0.0491803       0.92623                    -50.8197  32.3185\n",
       "    14       0.8                         0.159168           0.491803   1.21926            0.2              0.495833                    0.0491803       0.97541                    -50.8197  21.9262\n",
       "    15       0.9                         0.104826           0.163934   1.102              0.0666667        0.448148                    0.0163934       0.991803                   -83.6066  10.2004\n",
       "    16       1                           0.000829563        0.0819672  1                  0.0333333        0.406667                    0.00819672      1                          -91.8033  0"
      ]
     },
     "metadata": {},
     "output_type": "display_data"
    },
    {
     "name": "stdout",
     "output_type": "stream",
     "text": [
      "\n",
      "\n",
      "ModelMetricsBinomialGLM: glm\n",
      "** Reported on validation data. **\n",
      "\n",
      "MSE: 0.156113826234\n",
      "RMSE: 0.395112422272\n",
      "LogLoss: 0.473325434714\n",
      "Null degrees of freedom: 40\n",
      "Residual degrees of freedom: 32\n",
      "Null deviance: 54.1367869646\n",
      "Residual deviance: 38.8126856465\n",
      "AIC: 56.8126856465\n",
      "AUC: 0.848717948718\n",
      "Gini: 0.697435897436\n",
      "Confusion Matrix (Act/Pred) for max f1 @ threshold = 0.474497214428: \n"
     ]
    },
    {
     "data": {
      "text/html": [
       "<div style=\"overflow:auto\"><table style=\"width:50%\"><tr><td><b></b></td>\n",
       "<td><b>0</b></td>\n",
       "<td><b>1</b></td>\n",
       "<td><b>Error</b></td>\n",
       "<td><b>Rate</b></td></tr>\n",
       "<tr><td>0</td>\n",
       "<td>24.0</td>\n",
       "<td>2.0</td>\n",
       "<td>0.0769</td>\n",
       "<td> (2.0/26.0)</td></tr>\n",
       "<tr><td>1</td>\n",
       "<td>5.0</td>\n",
       "<td>10.0</td>\n",
       "<td>0.3333</td>\n",
       "<td> (5.0/15.0)</td></tr>\n",
       "<tr><td>Total</td>\n",
       "<td>29.0</td>\n",
       "<td>12.0</td>\n",
       "<td>0.1707</td>\n",
       "<td> (7.0/41.0)</td></tr></table></div>"
      ],
      "text/plain": [
       "       0    1    Error    Rate\n",
       "-----  ---  ---  -------  ----------\n",
       "0      24   2    0.0769   (2.0/26.0)\n",
       "1      5    10   0.3333   (5.0/15.0)\n",
       "Total  29   12   0.1707   (7.0/41.0)"
      ]
     },
     "metadata": {},
     "output_type": "display_data"
    },
    {
     "name": "stdout",
     "output_type": "stream",
     "text": [
      "Maximum Metrics: Maximum metrics at their respective thresholds\n",
      "\n"
     ]
    },
    {
     "data": {
      "text/html": [
       "<div style=\"overflow:auto\"><table style=\"width:50%\"><tr><td><b>metric</b></td>\n",
       "<td><b>threshold</b></td>\n",
       "<td><b>value</b></td>\n",
       "<td><b>idx</b></td></tr>\n",
       "<tr><td>max f1</td>\n",
       "<td>0.4744972</td>\n",
       "<td>0.7407407</td>\n",
       "<td>11.0</td></tr>\n",
       "<tr><td>max f2</td>\n",
       "<td>0.1889904</td>\n",
       "<td>0.8241758</td>\n",
       "<td>30.0</td></tr>\n",
       "<tr><td>max f0point5</td>\n",
       "<td>0.4744972</td>\n",
       "<td>0.7936508</td>\n",
       "<td>11.0</td></tr>\n",
       "<tr><td>max accuracy</td>\n",
       "<td>0.4744972</td>\n",
       "<td>0.8292683</td>\n",
       "<td>11.0</td></tr>\n",
       "<tr><td>max precision</td>\n",
       "<td>0.9581874</td>\n",
       "<td>1.0</td>\n",
       "<td>0.0</td></tr>\n",
       "<tr><td>max recall</td>\n",
       "<td>0.1889904</td>\n",
       "<td>1.0</td>\n",
       "<td>30.0</td></tr>\n",
       "<tr><td>max specificity</td>\n",
       "<td>0.9581874</td>\n",
       "<td>1.0</td>\n",
       "<td>0.0</td></tr>\n",
       "<tr><td>max absolute_mcc</td>\n",
       "<td>0.4744972</td>\n",
       "<td>0.6243181</td>\n",
       "<td>11.0</td></tr>\n",
       "<tr><td>max min_per_class_accuracy</td>\n",
       "<td>0.3637427</td>\n",
       "<td>0.7692308</td>\n",
       "<td>17.0</td></tr>\n",
       "<tr><td>max mean_per_class_accuracy</td>\n",
       "<td>0.4744972</td>\n",
       "<td>0.7948718</td>\n",
       "<td>11.0</td></tr></table></div>"
      ],
      "text/plain": [
       "metric                       threshold    value     idx\n",
       "---------------------------  -----------  --------  -----\n",
       "max f1                       0.474497     0.740741  11\n",
       "max f2                       0.18899      0.824176  30\n",
       "max f0point5                 0.474497     0.793651  11\n",
       "max accuracy                 0.474497     0.829268  11\n",
       "max precision                0.958187     1         0\n",
       "max recall                   0.18899      1         30\n",
       "max specificity              0.958187     1         0\n",
       "max absolute_mcc             0.474497     0.624318  11\n",
       "max min_per_class_accuracy   0.363743     0.769231  17\n",
       "max mean_per_class_accuracy  0.474497     0.794872  11"
      ]
     },
     "metadata": {},
     "output_type": "display_data"
    },
    {
     "name": "stdout",
     "output_type": "stream",
     "text": [
      "Gains/Lift Table: Avg response rate: 36.59 %\n",
      "\n"
     ]
    },
    {
     "data": {
      "text/html": [
       "<div style=\"overflow:auto\"><table style=\"width:50%\"><tr><td><b></b></td>\n",
       "<td><b>group</b></td>\n",
       "<td><b>cumulative_data_fraction</b></td>\n",
       "<td><b>lower_threshold</b></td>\n",
       "<td><b>lift</b></td>\n",
       "<td><b>cumulative_lift</b></td>\n",
       "<td><b>response_rate</b></td>\n",
       "<td><b>cumulative_response_rate</b></td>\n",
       "<td><b>capture_rate</b></td>\n",
       "<td><b>cumulative_capture_rate</b></td>\n",
       "<td><b>gain</b></td>\n",
       "<td><b>cumulative_gain</b></td></tr>\n",
       "<tr><td></td>\n",
       "<td>1</td>\n",
       "<td>0.0243902</td>\n",
       "<td>0.8826142</td>\n",
       "<td>2.7333333</td>\n",
       "<td>2.7333333</td>\n",
       "<td>1.0</td>\n",
       "<td>1.0</td>\n",
       "<td>0.0666667</td>\n",
       "<td>0.0666667</td>\n",
       "<td>173.3333333</td>\n",
       "<td>173.3333333</td></tr>\n",
       "<tr><td></td>\n",
       "<td>2</td>\n",
       "<td>0.0243902</td>\n",
       "<td>0.8070411</td>\n",
       "<td>0.0</td>\n",
       "<td>2.7333333</td>\n",
       "<td>0.0</td>\n",
       "<td>1.0</td>\n",
       "<td>0.0</td>\n",
       "<td>0.0666667</td>\n",
       "<td>-100.0</td>\n",
       "<td>173.3333333</td></tr>\n",
       "<tr><td></td>\n",
       "<td>3</td>\n",
       "<td>0.0487805</td>\n",
       "<td>0.7662521</td>\n",
       "<td>2.7333333</td>\n",
       "<td>2.7333333</td>\n",
       "<td>1.0</td>\n",
       "<td>1.0</td>\n",
       "<td>0.0666667</td>\n",
       "<td>0.1333333</td>\n",
       "<td>173.3333333</td>\n",
       "<td>173.3333333</td></tr>\n",
       "<tr><td></td>\n",
       "<td>4</td>\n",
       "<td>0.0487805</td>\n",
       "<td>0.7602473</td>\n",
       "<td>0.0</td>\n",
       "<td>2.7333333</td>\n",
       "<td>0.0</td>\n",
       "<td>1.0</td>\n",
       "<td>0.0</td>\n",
       "<td>0.1333333</td>\n",
       "<td>-100.0</td>\n",
       "<td>173.3333333</td></tr>\n",
       "<tr><td></td>\n",
       "<td>5</td>\n",
       "<td>0.0731707</td>\n",
       "<td>0.7542425</td>\n",
       "<td>2.7333333</td>\n",
       "<td>2.7333333</td>\n",
       "<td>1.0</td>\n",
       "<td>1.0</td>\n",
       "<td>0.0666667</td>\n",
       "<td>0.2</td>\n",
       "<td>173.3333333</td>\n",
       "<td>173.3333333</td></tr>\n",
       "<tr><td></td>\n",
       "<td>6</td>\n",
       "<td>0.1219512</td>\n",
       "<td>0.5871963</td>\n",
       "<td>1.3666667</td>\n",
       "<td>2.1866667</td>\n",
       "<td>0.5</td>\n",
       "<td>0.8</td>\n",
       "<td>0.0666667</td>\n",
       "<td>0.2666667</td>\n",
       "<td>36.6666667</td>\n",
       "<td>118.6666667</td></tr>\n",
       "<tr><td></td>\n",
       "<td>7</td>\n",
       "<td>0.1707317</td>\n",
       "<td>0.5747403</td>\n",
       "<td>2.7333333</td>\n",
       "<td>2.3428571</td>\n",
       "<td>1.0</td>\n",
       "<td>0.8571429</td>\n",
       "<td>0.1333333</td>\n",
       "<td>0.4</td>\n",
       "<td>173.3333333</td>\n",
       "<td>134.2857143</td></tr>\n",
       "<tr><td></td>\n",
       "<td>8</td>\n",
       "<td>0.2195122</td>\n",
       "<td>0.5263861</td>\n",
       "<td>1.3666667</td>\n",
       "<td>2.1259259</td>\n",
       "<td>0.5</td>\n",
       "<td>0.7777778</td>\n",
       "<td>0.0666667</td>\n",
       "<td>0.4666667</td>\n",
       "<td>36.6666667</td>\n",
       "<td>112.5925926</td></tr>\n",
       "<tr><td></td>\n",
       "<td>9</td>\n",
       "<td>0.3170732</td>\n",
       "<td>0.4229667</td>\n",
       "<td>2.05</td>\n",
       "<td>2.1025641</td>\n",
       "<td>0.75</td>\n",
       "<td>0.7692308</td>\n",
       "<td>0.2</td>\n",
       "<td>0.6666667</td>\n",
       "<td>105.0</td>\n",
       "<td>110.2564103</td></tr>\n",
       "<tr><td></td>\n",
       "<td>10</td>\n",
       "<td>0.4146341</td>\n",
       "<td>0.3868156</td>\n",
       "<td>0.6833333</td>\n",
       "<td>1.7686275</td>\n",
       "<td>0.25</td>\n",
       "<td>0.6470588</td>\n",
       "<td>0.0666667</td>\n",
       "<td>0.7333333</td>\n",
       "<td>-31.6666667</td>\n",
       "<td>76.8627451</td></tr>\n",
       "<tr><td></td>\n",
       "<td>11</td>\n",
       "<td>0.5121951</td>\n",
       "<td>0.3131088</td>\n",
       "<td>0.6833333</td>\n",
       "<td>1.5619048</td>\n",
       "<td>0.25</td>\n",
       "<td>0.5714286</td>\n",
       "<td>0.0666667</td>\n",
       "<td>0.8</td>\n",
       "<td>-31.6666667</td>\n",
       "<td>56.1904762</td></tr>\n",
       "<tr><td></td>\n",
       "<td>12</td>\n",
       "<td>0.6097561</td>\n",
       "<td>0.2636448</td>\n",
       "<td>0.6833333</td>\n",
       "<td>1.4213333</td>\n",
       "<td>0.25</td>\n",
       "<td>0.52</td>\n",
       "<td>0.0666667</td>\n",
       "<td>0.8666667</td>\n",
       "<td>-31.6666667</td>\n",
       "<td>42.1333333</td></tr>\n",
       "<tr><td></td>\n",
       "<td>13</td>\n",
       "<td>0.7073171</td>\n",
       "<td>0.2089570</td>\n",
       "<td>0.6833333</td>\n",
       "<td>1.3195402</td>\n",
       "<td>0.25</td>\n",
       "<td>0.4827586</td>\n",
       "<td>0.0666667</td>\n",
       "<td>0.9333333</td>\n",
       "<td>-31.6666667</td>\n",
       "<td>31.9540230</td></tr>\n",
       "<tr><td></td>\n",
       "<td>14</td>\n",
       "<td>0.8048780</td>\n",
       "<td>0.1760137</td>\n",
       "<td>0.6833333</td>\n",
       "<td>1.2424242</td>\n",
       "<td>0.25</td>\n",
       "<td>0.4545455</td>\n",
       "<td>0.0666667</td>\n",
       "<td>1.0</td>\n",
       "<td>-31.6666667</td>\n",
       "<td>24.2424242</td></tr>\n",
       "<tr><td></td>\n",
       "<td>15</td>\n",
       "<td>0.9024390</td>\n",
       "<td>0.0945731</td>\n",
       "<td>0.0</td>\n",
       "<td>1.1081081</td>\n",
       "<td>0.0</td>\n",
       "<td>0.4054054</td>\n",
       "<td>0.0</td>\n",
       "<td>1.0</td>\n",
       "<td>-100.0</td>\n",
       "<td>10.8108108</td></tr>\n",
       "<tr><td></td>\n",
       "<td>16</td>\n",
       "<td>1.0</td>\n",
       "<td>0.0007601</td>\n",
       "<td>0.0</td>\n",
       "<td>1.0</td>\n",
       "<td>0.0</td>\n",
       "<td>0.3658537</td>\n",
       "<td>0.0</td>\n",
       "<td>1.0</td>\n",
       "<td>-100.0</td>\n",
       "<td>0.0</td></tr></table></div>"
      ],
      "text/plain": [
       "    group    cumulative_data_fraction    lower_threshold    lift      cumulative_lift    response_rate    cumulative_response_rate    capture_rate    cumulative_capture_rate    gain      cumulative_gain\n",
       "--  -------  --------------------------  -----------------  --------  -----------------  ---------------  --------------------------  --------------  -------------------------  --------  -----------------\n",
       "    1        0.0243902                   0.882614           2.73333   2.73333            1                1                           0.0666667       0.0666667                  173.333   173.333\n",
       "    2        0.0243902                   0.807041           0         2.73333            0                1                           0               0.0666667                  -100      173.333\n",
       "    3        0.0487805                   0.766252           2.73333   2.73333            1                1                           0.0666667       0.133333                   173.333   173.333\n",
       "    4        0.0487805                   0.760247           0         2.73333            0                1                           0               0.133333                   -100      173.333\n",
       "    5        0.0731707                   0.754242           2.73333   2.73333            1                1                           0.0666667       0.2                        173.333   173.333\n",
       "    6        0.121951                    0.587196           1.36667   2.18667            0.5              0.8                         0.0666667       0.266667                   36.6667   118.667\n",
       "    7        0.170732                    0.57474            2.73333   2.34286            1                0.857143                    0.133333        0.4                        173.333   134.286\n",
       "    8        0.219512                    0.526386           1.36667   2.12593            0.5              0.777778                    0.0666667       0.466667                   36.6667   112.593\n",
       "    9        0.317073                    0.422967           2.05      2.10256            0.75             0.769231                    0.2             0.666667                   105       110.256\n",
       "    10       0.414634                    0.386816           0.683333  1.76863            0.25             0.647059                    0.0666667       0.733333                   -31.6667  76.8627\n",
       "    11       0.512195                    0.313109           0.683333  1.5619             0.25             0.571429                    0.0666667       0.8                        -31.6667  56.1905\n",
       "    12       0.609756                    0.263645           0.683333  1.42133            0.25             0.52                        0.0666667       0.866667                   -31.6667  42.1333\n",
       "    13       0.707317                    0.208957           0.683333  1.31954            0.25             0.482759                    0.0666667       0.933333                   -31.6667  31.954\n",
       "    14       0.804878                    0.176014           0.683333  1.24242            0.25             0.454545                    0.0666667       1                          -31.6667  24.2424\n",
       "    15       0.902439                    0.0945731          0         1.10811            0                0.405405                    0               1                          -100      10.8108\n",
       "    16       1                           0.00076007         0         1                  0                0.365854                    0               1                          -100      0"
      ]
     },
     "metadata": {},
     "output_type": "display_data"
    },
    {
     "name": "stdout",
     "output_type": "stream",
     "text": [
      "\n",
      "Scoring History: \n"
     ]
    },
    {
     "data": {
      "text/html": [
       "<div style=\"overflow:auto\"><table style=\"width:50%\"><tr><td><b></b></td>\n",
       "<td><b>timestamp</b></td>\n",
       "<td><b>duration</b></td>\n",
       "<td><b>iterations</b></td>\n",
       "<td><b>negative_log_likelihood</b></td>\n",
       "<td><b>objective</b></td></tr>\n",
       "<tr><td></td>\n",
       "<td>2017-11-13 14:57:20</td>\n",
       "<td> 0.000 sec</td>\n",
       "<td>0</td>\n",
       "<td>202.6867030</td>\n",
       "<td>0.6756223</td></tr>\n",
       "<tr><td></td>\n",
       "<td>2017-11-13 14:57:20</td>\n",
       "<td> 0.001 sec</td>\n",
       "<td>1</td>\n",
       "<td>158.2317004</td>\n",
       "<td>0.5279166</td></tr>\n",
       "<tr><td></td>\n",
       "<td>2017-11-13 14:57:20</td>\n",
       "<td> 0.001 sec</td>\n",
       "<td>2</td>\n",
       "<td>154.6406547</td>\n",
       "<td>0.5161740</td></tr>\n",
       "<tr><td></td>\n",
       "<td>2017-11-13 14:57:20</td>\n",
       "<td> 0.001 sec</td>\n",
       "<td>3</td>\n",
       "<td>154.4829029</td>\n",
       "<td>0.5157101</td></tr>\n",
       "<tr><td></td>\n",
       "<td>2017-11-13 14:57:20</td>\n",
       "<td> 0.002 sec</td>\n",
       "<td>4</td>\n",
       "<td>154.4815863</td>\n",
       "<td>0.5157088</td></tr></table></div>"
      ],
      "text/plain": [
       "    timestamp            duration    iterations    negative_log_likelihood    objective\n",
       "--  -------------------  ----------  ------------  -------------------------  -----------\n",
       "    2017-11-13 14:57:20  0.000 sec   0             202.687                    0.675622\n",
       "    2017-11-13 14:57:20  0.001 sec   1             158.232                    0.527917\n",
       "    2017-11-13 14:57:20  0.001 sec   2             154.641                    0.516174\n",
       "    2017-11-13 14:57:20  0.001 sec   3             154.483                    0.51571\n",
       "    2017-11-13 14:57:20  0.002 sec   4             154.482                    0.515709"
      ]
     },
     "metadata": {},
     "output_type": "display_data"
    },
    {
     "data": {
      "text/plain": []
     },
     "execution_count": 50,
     "metadata": {},
     "output_type": "execute_result"
    }
   ],
   "source": [
    "glm_model_with_training_and_validtion"
   ]
  },
  {
   "cell_type": "code",
   "execution_count": 51,
   "metadata": {
    "collapsed": true
   },
   "outputs": [],
   "source": [
    "#: Performing predictions with one of the above model"
   ]
  },
  {
   "cell_type": "code",
   "execution_count": 52,
   "metadata": {},
   "outputs": [
    {
     "name": "stdout",
     "output_type": "stream",
     "text": [
      "glm prediction progress: |████████████████████████████████████████████████| 100%\n"
     ]
    }
   ],
   "source": [
    "glm_predictions = glm_model_with_training_and_validtion.predict(df_prostate_test)"
   ]
  },
  {
   "cell_type": "code",
   "execution_count": 53,
   "metadata": {},
   "outputs": [
    {
     "data": {
      "text/html": [
       "<table>\n",
       "<thead>\n",
       "<tr><th style=\"text-align: right;\">  predict</th><th style=\"text-align: right;\">       p0</th><th style=\"text-align: right;\">       p1</th></tr>\n",
       "</thead>\n",
       "<tbody>\n",
       "<tr><td style=\"text-align: right;\">        1</td><td style=\"text-align: right;\">0.0268861</td><td style=\"text-align: right;\">0.973114 </td></tr>\n",
       "<tr><td style=\"text-align: right;\">        1</td><td style=\"text-align: right;\">0.110299 </td><td style=\"text-align: right;\">0.889701 </td></tr>\n",
       "<tr><td style=\"text-align: right;\">        0</td><td style=\"text-align: right;\">0.928056 </td><td style=\"text-align: right;\">0.0719438</td></tr>\n",
       "<tr><td style=\"text-align: right;\">        0</td><td style=\"text-align: right;\">0.916158 </td><td style=\"text-align: right;\">0.0838421</td></tr>\n",
       "<tr><td style=\"text-align: right;\">        0</td><td style=\"text-align: right;\">0.967759 </td><td style=\"text-align: right;\">0.0322409</td></tr>\n",
       "<tr><td style=\"text-align: right;\">        1</td><td style=\"text-align: right;\">0.0376887</td><td style=\"text-align: right;\">0.962311 </td></tr>\n",
       "<tr><td style=\"text-align: right;\">        0</td><td style=\"text-align: right;\">0.721361 </td><td style=\"text-align: right;\">0.278639 </td></tr>\n",
       "<tr><td style=\"text-align: right;\">        0</td><td style=\"text-align: right;\">0.81071  </td><td style=\"text-align: right;\">0.18929  </td></tr>\n",
       "<tr><td style=\"text-align: right;\">        0</td><td style=\"text-align: right;\">0.720737 </td><td style=\"text-align: right;\">0.279263 </td></tr>\n",
       "<tr><td style=\"text-align: right;\">        0</td><td style=\"text-align: right;\">0.624465 </td><td style=\"text-align: right;\">0.375535 </td></tr>\n",
       "</tbody>\n",
       "</table>"
      ]
     },
     "metadata": {},
     "output_type": "display_data"
    },
    {
     "data": {
      "text/plain": []
     },
     "execution_count": 53,
     "metadata": {},
     "output_type": "execute_result"
    }
   ],
   "source": [
    "glm_predictions"
   ]
  },
  {
   "cell_type": "code",
   "execution_count": 54,
   "metadata": {
    "collapsed": true
   },
   "outputs": [],
   "source": [
    "#: Understanding/Validating predictions based on prediction results historgram"
   ]
  },
  {
   "cell_type": "code",
   "execution_count": 55,
   "metadata": {},
   "outputs": [
    {
     "data": {
      "text/plain": [
       "h2o.frame.H2OFrame"
      ]
     },
     "execution_count": 55,
     "metadata": {},
     "output_type": "execute_result"
    }
   ],
   "source": [
    "type(glm_predictions)"
   ]
  },
  {
   "cell_type": "code",
   "execution_count": 56,
   "metadata": {},
   "outputs": [
    {
     "ename": "H2OResponseError",
     "evalue": "Server error java.lang.IllegalArgumentException:\n  Error: Hist only applies to single numeric columns.\n  Request: POST /99/Rapids\n    data: {u'session_id': '_sid_9e0f', u'ast': \"(tmp= py_16_sid_9e0f (hist predictions_a907_glm_model_with_training_and_validtion_python_on_py_15_sid_9e0f 'sturges'))\"}\n",
     "output_type": "error",
     "traceback": [
      "\u001b[0;31m---------------------------------------------------------------------------\u001b[0m",
      "\u001b[0;31mH2OResponseError\u001b[0m                          Traceback (most recent call last)",
      "\u001b[0;32m<ipython-input-56-a5c765ee08f2>\u001b[0m in \u001b[0;36m<module>\u001b[0;34m()\u001b[0m\n\u001b[0;32m----> 1\u001b[0;31m \u001b[0mglm_predictions\u001b[0m\u001b[0;34m.\u001b[0m\u001b[0mhist\u001b[0m\u001b[0;34m(\u001b[0m\u001b[0;34m)\u001b[0m\u001b[0;34m\u001b[0m\u001b[0m\n\u001b[0m",
      "\u001b[0;32m/Users/avkashchauhan/anaconda3/envs/python27/lib/python2.7/site-packages/h2o/frame.pyc\u001b[0m in \u001b[0;36mhist\u001b[0;34m(self, breaks, plot, **kwargs)\u001b[0m\n\u001b[1;32m   2447\u001b[0m         \u001b[0;32mif\u001b[0m \u001b[0mkwargs\u001b[0m\u001b[0;34m:\u001b[0m\u001b[0;34m\u001b[0m\u001b[0m\n\u001b[1;32m   2448\u001b[0m             \u001b[0;32mraise\u001b[0m \u001b[0mH2OValueError\u001b[0m\u001b[0;34m(\u001b[0m\u001b[0;34m\"Unknown parameters to hist(): %r\"\u001b[0m \u001b[0;34m%\u001b[0m \u001b[0mkwargs\u001b[0m\u001b[0;34m)\u001b[0m\u001b[0;34m\u001b[0m\u001b[0m\n\u001b[0;32m-> 2449\u001b[0;31m         \u001b[0mhist\u001b[0m \u001b[0;34m=\u001b[0m \u001b[0mH2OFrame\u001b[0m\u001b[0;34m.\u001b[0m\u001b[0m_expr\u001b[0m\u001b[0;34m(\u001b[0m\u001b[0mexpr\u001b[0m\u001b[0;34m=\u001b[0m\u001b[0mExprNode\u001b[0m\u001b[0;34m(\u001b[0m\u001b[0;34m\"hist\"\u001b[0m\u001b[0;34m,\u001b[0m \u001b[0mself\u001b[0m\u001b[0;34m,\u001b[0m \u001b[0mbreaks\u001b[0m\u001b[0;34m)\u001b[0m\u001b[0;34m)\u001b[0m\u001b[0;34m.\u001b[0m\u001b[0m_frame\u001b[0m\u001b[0;34m(\u001b[0m\u001b[0;34m)\u001b[0m\u001b[0;34m\u001b[0m\u001b[0m\n\u001b[0m\u001b[1;32m   2450\u001b[0m \u001b[0;34m\u001b[0m\u001b[0m\n\u001b[1;32m   2451\u001b[0m         \u001b[0;32mif\u001b[0m \u001b[0mplot\u001b[0m\u001b[0;34m:\u001b[0m\u001b[0;34m\u001b[0m\u001b[0m\n",
      "\u001b[0;32m/Users/avkashchauhan/anaconda3/envs/python27/lib/python2.7/site-packages/h2o/frame.pyc\u001b[0m in \u001b[0;36m_frame\u001b[0;34m(self, rows, fill_cache)\u001b[0m\n\u001b[1;32m    474\u001b[0m \u001b[0;34m\u001b[0m\u001b[0m\n\u001b[1;32m    475\u001b[0m     \u001b[0;32mdef\u001b[0m \u001b[0m_frame\u001b[0m\u001b[0;34m(\u001b[0m\u001b[0mself\u001b[0m\u001b[0;34m,\u001b[0m \u001b[0mrows\u001b[0m\u001b[0;34m=\u001b[0m\u001b[0;36m10\u001b[0m\u001b[0;34m,\u001b[0m \u001b[0mfill_cache\u001b[0m\u001b[0;34m=\u001b[0m\u001b[0mFalse\u001b[0m\u001b[0;34m)\u001b[0m\u001b[0;34m:\u001b[0m\u001b[0;34m\u001b[0m\u001b[0m\n\u001b[0;32m--> 476\u001b[0;31m         \u001b[0mself\u001b[0m\u001b[0;34m.\u001b[0m\u001b[0m_ex\u001b[0m\u001b[0;34m.\u001b[0m\u001b[0m_eager_frame\u001b[0m\u001b[0;34m(\u001b[0m\u001b[0;34m)\u001b[0m\u001b[0;34m\u001b[0m\u001b[0m\n\u001b[0m\u001b[1;32m    477\u001b[0m         \u001b[0;32mif\u001b[0m \u001b[0mfill_cache\u001b[0m\u001b[0;34m:\u001b[0m\u001b[0;34m\u001b[0m\u001b[0m\n\u001b[1;32m    478\u001b[0m             \u001b[0mself\u001b[0m\u001b[0;34m.\u001b[0m\u001b[0m_ex\u001b[0m\u001b[0;34m.\u001b[0m\u001b[0m_cache\u001b[0m\u001b[0;34m.\u001b[0m\u001b[0mfill\u001b[0m\u001b[0;34m(\u001b[0m\u001b[0mrows\u001b[0m\u001b[0;34m=\u001b[0m\u001b[0mrows\u001b[0m\u001b[0;34m)\u001b[0m\u001b[0;34m\u001b[0m\u001b[0m\n",
      "\u001b[0;32m/Users/avkashchauhan/anaconda3/envs/python27/lib/python2.7/site-packages/h2o/expr.pyc\u001b[0m in \u001b[0;36m_eager_frame\u001b[0;34m(self)\u001b[0m\n\u001b[1;32m     92\u001b[0m         \u001b[0;32mif\u001b[0m \u001b[0;32mnot\u001b[0m \u001b[0mself\u001b[0m\u001b[0;34m.\u001b[0m\u001b[0m_cache\u001b[0m\u001b[0;34m.\u001b[0m\u001b[0mis_empty\u001b[0m\u001b[0;34m(\u001b[0m\u001b[0;34m)\u001b[0m\u001b[0;34m:\u001b[0m \u001b[0;32mreturn\u001b[0m\u001b[0;34m\u001b[0m\u001b[0m\n\u001b[1;32m     93\u001b[0m         \u001b[0;32mif\u001b[0m \u001b[0mself\u001b[0m\u001b[0;34m.\u001b[0m\u001b[0m_cache\u001b[0m\u001b[0;34m.\u001b[0m\u001b[0m_id\u001b[0m \u001b[0;32mis\u001b[0m \u001b[0;32mnot\u001b[0m \u001b[0mNone\u001b[0m\u001b[0;34m:\u001b[0m \u001b[0;32mreturn\u001b[0m  \u001b[0;31m# Data already computed under ID, but not cached locally\u001b[0m\u001b[0;34m\u001b[0m\u001b[0m\n\u001b[0;32m---> 94\u001b[0;31m         \u001b[0mself\u001b[0m\u001b[0;34m.\u001b[0m\u001b[0m_eval_driver\u001b[0m\u001b[0;34m(\u001b[0m\u001b[0mTrue\u001b[0m\u001b[0;34m)\u001b[0m\u001b[0;34m\u001b[0m\u001b[0m\n\u001b[0m\u001b[1;32m     95\u001b[0m \u001b[0;34m\u001b[0m\u001b[0m\n\u001b[1;32m     96\u001b[0m     \u001b[0;32mdef\u001b[0m \u001b[0m_eager_scalar\u001b[0m\u001b[0;34m(\u001b[0m\u001b[0mself\u001b[0m\u001b[0;34m)\u001b[0m\u001b[0;34m:\u001b[0m  \u001b[0;31m# returns a scalar (or a list of scalars)\u001b[0m\u001b[0;34m\u001b[0m\u001b[0m\n",
      "\u001b[0;32m/Users/avkashchauhan/anaconda3/envs/python27/lib/python2.7/site-packages/h2o/expr.pyc\u001b[0m in \u001b[0;36m_eval_driver\u001b[0;34m(self, top)\u001b[0m\n\u001b[1;32m    106\u001b[0m     \u001b[0;32mdef\u001b[0m \u001b[0m_eval_driver\u001b[0m\u001b[0;34m(\u001b[0m\u001b[0mself\u001b[0m\u001b[0;34m,\u001b[0m \u001b[0mtop\u001b[0m\u001b[0;34m)\u001b[0m\u001b[0;34m:\u001b[0m\u001b[0;34m\u001b[0m\u001b[0m\n\u001b[1;32m    107\u001b[0m         \u001b[0mexec_str\u001b[0m \u001b[0;34m=\u001b[0m \u001b[0mself\u001b[0m\u001b[0;34m.\u001b[0m\u001b[0m_get_ast_str\u001b[0m\u001b[0;34m(\u001b[0m\u001b[0mtop\u001b[0m\u001b[0;34m)\u001b[0m\u001b[0;34m\u001b[0m\u001b[0m\n\u001b[0;32m--> 108\u001b[0;31m         \u001b[0mres\u001b[0m \u001b[0;34m=\u001b[0m \u001b[0mExprNode\u001b[0m\u001b[0;34m.\u001b[0m\u001b[0mrapids\u001b[0m\u001b[0;34m(\u001b[0m\u001b[0mexec_str\u001b[0m\u001b[0;34m)\u001b[0m\u001b[0;34m\u001b[0m\u001b[0m\n\u001b[0m\u001b[1;32m    109\u001b[0m         \u001b[0;32mif\u001b[0m \u001b[0;34m'scalar'\u001b[0m \u001b[0;32min\u001b[0m \u001b[0mres\u001b[0m\u001b[0;34m:\u001b[0m\u001b[0;34m\u001b[0m\u001b[0m\n\u001b[1;32m    110\u001b[0m             \u001b[0;32mif\u001b[0m \u001b[0misinstance\u001b[0m\u001b[0;34m(\u001b[0m\u001b[0mres\u001b[0m\u001b[0;34m[\u001b[0m\u001b[0;34m'scalar'\u001b[0m\u001b[0;34m]\u001b[0m\u001b[0;34m,\u001b[0m \u001b[0mlist\u001b[0m\u001b[0;34m)\u001b[0m\u001b[0;34m:\u001b[0m\u001b[0;34m\u001b[0m\u001b[0m\n",
      "\u001b[0;32m/Users/avkashchauhan/anaconda3/envs/python27/lib/python2.7/site-packages/h2o/expr.pyc\u001b[0m in \u001b[0;36mrapids\u001b[0;34m(expr)\u001b[0m\n\u001b[1;32m    228\u001b[0m         \u001b[0;34m:\u001b[0m\u001b[0mreturns\u001b[0m\u001b[0;34m:\u001b[0m \u001b[0mThe\u001b[0m \u001b[0mJSON\u001b[0m \u001b[0mresponse\u001b[0m \u001b[0;34m(\u001b[0m\u001b[0;32mas\u001b[0m \u001b[0ma\u001b[0m \u001b[0mpython\u001b[0m \u001b[0mdictionary\u001b[0m\u001b[0;34m)\u001b[0m \u001b[0mof\u001b[0m \u001b[0mthe\u001b[0m \u001b[0mRapids\u001b[0m \u001b[0mexecution\u001b[0m\u001b[0;34m\u001b[0m\u001b[0m\n\u001b[1;32m    229\u001b[0m         \"\"\"\n\u001b[0;32m--> 230\u001b[0;31m         \u001b[0;32mreturn\u001b[0m \u001b[0mh2o\u001b[0m\u001b[0;34m.\u001b[0m\u001b[0mapi\u001b[0m\u001b[0;34m(\u001b[0m\u001b[0;34m\"POST /99/Rapids\"\u001b[0m\u001b[0;34m,\u001b[0m \u001b[0mdata\u001b[0m\u001b[0;34m=\u001b[0m\u001b[0;34m{\u001b[0m\u001b[0;34m\"ast\"\u001b[0m\u001b[0;34m:\u001b[0m \u001b[0mexpr\u001b[0m\u001b[0;34m,\u001b[0m \u001b[0;34m\"session_id\"\u001b[0m\u001b[0;34m:\u001b[0m \u001b[0mh2o\u001b[0m\u001b[0;34m.\u001b[0m\u001b[0mconnection\u001b[0m\u001b[0;34m(\u001b[0m\u001b[0;34m)\u001b[0m\u001b[0;34m.\u001b[0m\u001b[0msession_id\u001b[0m\u001b[0;34m}\u001b[0m\u001b[0;34m)\u001b[0m\u001b[0;34m\u001b[0m\u001b[0m\n\u001b[0m\u001b[1;32m    231\u001b[0m \u001b[0;34m\u001b[0m\u001b[0m\n\u001b[1;32m    232\u001b[0m \u001b[0;34m\u001b[0m\u001b[0m\n",
      "\u001b[0;32m/Users/avkashchauhan/anaconda3/envs/python27/lib/python2.7/site-packages/h2o/h2o.pyc\u001b[0m in \u001b[0;36mapi\u001b[0;34m(endpoint, data, json, filename, save_to)\u001b[0m\n\u001b[1;32m    101\u001b[0m     \u001b[0;31m# type checks are performed in H2OConnection class\u001b[0m\u001b[0;34m\u001b[0m\u001b[0;34m\u001b[0m\u001b[0m\n\u001b[1;32m    102\u001b[0m     \u001b[0m_check_connection\u001b[0m\u001b[0;34m(\u001b[0m\u001b[0;34m)\u001b[0m\u001b[0;34m\u001b[0m\u001b[0m\n\u001b[0;32m--> 103\u001b[0;31m     \u001b[0;32mreturn\u001b[0m \u001b[0mh2oconn\u001b[0m\u001b[0;34m.\u001b[0m\u001b[0mrequest\u001b[0m\u001b[0;34m(\u001b[0m\u001b[0mendpoint\u001b[0m\u001b[0;34m,\u001b[0m \u001b[0mdata\u001b[0m\u001b[0;34m=\u001b[0m\u001b[0mdata\u001b[0m\u001b[0;34m,\u001b[0m \u001b[0mjson\u001b[0m\u001b[0;34m=\u001b[0m\u001b[0mjson\u001b[0m\u001b[0;34m,\u001b[0m \u001b[0mfilename\u001b[0m\u001b[0;34m=\u001b[0m\u001b[0mfilename\u001b[0m\u001b[0;34m,\u001b[0m \u001b[0msave_to\u001b[0m\u001b[0;34m=\u001b[0m\u001b[0msave_to\u001b[0m\u001b[0;34m)\u001b[0m\u001b[0;34m\u001b[0m\u001b[0m\n\u001b[0m\u001b[1;32m    104\u001b[0m \u001b[0;34m\u001b[0m\u001b[0m\n\u001b[1;32m    105\u001b[0m \u001b[0;34m\u001b[0m\u001b[0m\n",
      "\u001b[0;32m/Users/avkashchauhan/anaconda3/envs/python27/lib/python2.7/site-packages/h2o/backend/connection.pyc\u001b[0m in \u001b[0;36mrequest\u001b[0;34m(self, endpoint, data, json, filename, save_to)\u001b[0m\n\u001b[1;32m    400\u001b[0m                                     auth=self._auth, verify=self._verify_ssl_cert, proxies=self._proxies)\n\u001b[1;32m    401\u001b[0m             \u001b[0mself\u001b[0m\u001b[0;34m.\u001b[0m\u001b[0m_log_end_transaction\u001b[0m\u001b[0;34m(\u001b[0m\u001b[0mstart_time\u001b[0m\u001b[0;34m,\u001b[0m \u001b[0mresp\u001b[0m\u001b[0;34m)\u001b[0m\u001b[0;34m\u001b[0m\u001b[0m\n\u001b[0;32m--> 402\u001b[0;31m             \u001b[0;32mreturn\u001b[0m \u001b[0mself\u001b[0m\u001b[0;34m.\u001b[0m\u001b[0m_process_response\u001b[0m\u001b[0;34m(\u001b[0m\u001b[0mresp\u001b[0m\u001b[0;34m,\u001b[0m \u001b[0msave_to\u001b[0m\u001b[0;34m)\u001b[0m\u001b[0;34m\u001b[0m\u001b[0m\n\u001b[0m\u001b[1;32m    403\u001b[0m \u001b[0;34m\u001b[0m\u001b[0m\n\u001b[1;32m    404\u001b[0m         \u001b[0;32mexcept\u001b[0m \u001b[0;34m(\u001b[0m\u001b[0mrequests\u001b[0m\u001b[0;34m.\u001b[0m\u001b[0mexceptions\u001b[0m\u001b[0;34m.\u001b[0m\u001b[0mConnectionError\u001b[0m\u001b[0;34m,\u001b[0m \u001b[0mrequests\u001b[0m\u001b[0;34m.\u001b[0m\u001b[0mexceptions\u001b[0m\u001b[0;34m.\u001b[0m\u001b[0mHTTPError\u001b[0m\u001b[0;34m)\u001b[0m \u001b[0;32mas\u001b[0m \u001b[0me\u001b[0m\u001b[0;34m:\u001b[0m\u001b[0;34m\u001b[0m\u001b[0m\n",
      "\u001b[0;32m/Users/avkashchauhan/anaconda3/envs/python27/lib/python2.7/site-packages/h2o/backend/connection.pyc\u001b[0m in \u001b[0;36m_process_response\u001b[0;34m(response, save_to)\u001b[0m\n\u001b[1;32m    723\u001b[0m         \u001b[0;31m# Client errors (400 = \"Bad Request\", 404 = \"Not Found\", 412 = \"Precondition Failed\")\u001b[0m\u001b[0;34m\u001b[0m\u001b[0;34m\u001b[0m\u001b[0m\n\u001b[1;32m    724\u001b[0m         \u001b[0;32mif\u001b[0m \u001b[0mstatus_code\u001b[0m \u001b[0;32min\u001b[0m \u001b[0;34m{\u001b[0m\u001b[0;36m400\u001b[0m\u001b[0;34m,\u001b[0m \u001b[0;36m404\u001b[0m\u001b[0;34m,\u001b[0m \u001b[0;36m412\u001b[0m\u001b[0;34m}\u001b[0m \u001b[0;32mand\u001b[0m \u001b[0misinstance\u001b[0m\u001b[0;34m(\u001b[0m\u001b[0mdata\u001b[0m\u001b[0;34m,\u001b[0m \u001b[0;34m(\u001b[0m\u001b[0mH2OErrorV3\u001b[0m\u001b[0;34m,\u001b[0m \u001b[0mH2OModelBuilderErrorV3\u001b[0m\u001b[0;34m)\u001b[0m\u001b[0;34m)\u001b[0m\u001b[0;34m:\u001b[0m\u001b[0;34m\u001b[0m\u001b[0m\n\u001b[0;32m--> 725\u001b[0;31m             \u001b[0;32mraise\u001b[0m \u001b[0mH2OResponseError\u001b[0m\u001b[0;34m(\u001b[0m\u001b[0mdata\u001b[0m\u001b[0;34m)\u001b[0m\u001b[0;34m\u001b[0m\u001b[0m\n\u001b[0m\u001b[1;32m    726\u001b[0m \u001b[0;34m\u001b[0m\u001b[0m\n\u001b[1;32m    727\u001b[0m         \u001b[0;31m# Server errors (notably 500 = \"Server Error\")\u001b[0m\u001b[0;34m\u001b[0m\u001b[0;34m\u001b[0m\u001b[0m\n",
      "\u001b[0;31mH2OResponseError\u001b[0m: Server error java.lang.IllegalArgumentException:\n  Error: Hist only applies to single numeric columns.\n  Request: POST /99/Rapids\n    data: {u'session_id': '_sid_9e0f', u'ast': \"(tmp= py_16_sid_9e0f (hist predictions_a907_glm_model_with_training_and_validtion_python_on_py_15_sid_9e0f 'sturges'))\"}\n"
     ]
    }
   ],
   "source": [
    "glm_predictions.hist()"
   ]
  },
  {
   "cell_type": "code",
   "execution_count": null,
   "metadata": {
    "collapsed": true
   },
   "outputs": [],
   "source": [
    "#: Understanding/Validating predictions based on prediction results historgram"
   ]
  },
  {
   "cell_type": "code",
   "execution_count": 57,
   "metadata": {},
   "outputs": [
    {
     "data": {
      "image/png": "[encoded data removed]",
      "text/plain": [
       "<matplotlib.figure.Figure at 0x1123e26d0>"
      ]
     },
     "metadata": {},
     "output_type": "display_data"
    }
   ],
   "source": [
    "df_prostate_valid[response].hist()"
   ]
  },
  {
   "cell_type": "code",
   "execution_count": 58,
   "metadata": {
    "collapsed": true
   },
   "outputs": [],
   "source": [
    "#: Here we can select the best model based on accuracy among all of above models we have created"
   ]
  },
  {
   "cell_type": "code",
   "execution_count": 59,
   "metadata": {},
   "outputs": [
    {
     "name": "stdout",
     "output_type": "stream",
     "text": [
      "\n",
      "ModelMetricsBinomialGLM: glm\n",
      "** Reported on train data. **\n",
      "\n",
      "MSE: 0.165329175291\n",
      "RMSE: 0.40660690512\n",
      "LogLoss: 0.495921946388\n",
      "Null degrees of freedom: 379\n",
      "Residual degrees of freedom: 371\n",
      "Null deviance: 512.288840185\n",
      "Residual deviance: 376.900679255\n",
      "AIC: 394.900679255\n",
      "AUC: 0.827387636406\n",
      "Gini: 0.654775272811\n",
      "Confusion Matrix (Act/Pred) for max f1 @ threshold = 0.273868116441: \n"
     ]
    },
    {
     "data": {
      "text/html": [
       "<div style=\"overflow:auto\"><table style=\"width:50%\"><tr><td><b></b></td>\n",
       "<td><b>0</b></td>\n",
       "<td><b>1</b></td>\n",
       "<td><b>Error</b></td>\n",
       "<td><b>Rate</b></td></tr>\n",
       "<tr><td>0</td>\n",
       "<td>142.0</td>\n",
       "<td>85.0</td>\n",
       "<td>0.3744</td>\n",
       "<td> (85.0/227.0)</td></tr>\n",
       "<tr><td>1</td>\n",
       "<td>18.0</td>\n",
       "<td>135.0</td>\n",
       "<td>0.1176</td>\n",
       "<td> (18.0/153.0)</td></tr>\n",
       "<tr><td>Total</td>\n",
       "<td>160.0</td>\n",
       "<td>220.0</td>\n",
       "<td>0.2711</td>\n",
       "<td> (103.0/380.0)</td></tr></table></div>"
      ],
      "text/plain": [
       "       0    1    Error    Rate\n",
       "-----  ---  ---  -------  -------------\n",
       "0      142  85   0.3744   (85.0/227.0)\n",
       "1      18   135  0.1176   (18.0/153.0)\n",
       "Total  160  220  0.2711   (103.0/380.0)"
      ]
     },
     "metadata": {},
     "output_type": "display_data"
    },
    {
     "name": "stdout",
     "output_type": "stream",
     "text": [
      "Maximum Metrics: Maximum metrics at their respective thresholds\n",
      "\n"
     ]
    },
    {
     "data": {
      "text/html": [
       "<div style=\"overflow:auto\"><table style=\"width:50%\"><tr><td><b>metric</b></td>\n",
       "<td><b>threshold</b></td>\n",
       "<td><b>value</b></td>\n",
       "<td><b>idx</b></td></tr>\n",
       "<tr><td>max f1</td>\n",
       "<td>0.2738681</td>\n",
       "<td>0.7238606</td>\n",
       "<td>219.0</td></tr>\n",
       "<tr><td>max f2</td>\n",
       "<td>0.1476253</td>\n",
       "<td>0.8187773</td>\n",
       "<td>303.0</td></tr>\n",
       "<tr><td>max f0point5</td>\n",
       "<td>0.5807376</td>\n",
       "<td>0.7142857</td>\n",
       "<td>99.0</td></tr>\n",
       "<tr><td>max accuracy</td>\n",
       "<td>0.4560958</td>\n",
       "<td>0.7631579</td>\n",
       "<td>148.0</td></tr>\n",
       "<tr><td>max precision</td>\n",
       "<td>0.9986394</td>\n",
       "<td>1.0</td>\n",
       "<td>0.0</td></tr>\n",
       "<tr><td>max recall</td>\n",
       "<td>0.0623959</td>\n",
       "<td>1.0</td>\n",
       "<td>357.0</td></tr>\n",
       "<tr><td>max specificity</td>\n",
       "<td>0.9986394</td>\n",
       "<td>1.0</td>\n",
       "<td>0.0</td></tr>\n",
       "<tr><td>max absolute_mcc</td>\n",
       "<td>0.4560958</td>\n",
       "<td>0.5056595</td>\n",
       "<td>148.0</td></tr>\n",
       "<tr><td>max min_per_class_accuracy</td>\n",
       "<td>0.3817675</td>\n",
       "<td>0.7450980</td>\n",
       "<td>170.0</td></tr>\n",
       "<tr><td>max mean_per_class_accuracy</td>\n",
       "<td>0.2738681</td>\n",
       "<td>0.7539518</td>\n",
       "<td>219.0</td></tr></table></div>"
      ],
      "text/plain": [
       "metric                       threshold    value     idx\n",
       "---------------------------  -----------  --------  -----\n",
       "max f1                       0.273868     0.723861  219\n",
       "max f2                       0.147625     0.818777  303\n",
       "max f0point5                 0.580738     0.714286  99\n",
       "max accuracy                 0.456096     0.763158  148\n",
       "max precision                0.998639     1         0\n",
       "max recall                   0.0623959    1         357\n",
       "max specificity              0.998639     1         0\n",
       "max absolute_mcc             0.456096     0.50566   148\n",
       "max min_per_class_accuracy   0.381768     0.745098  170\n",
       "max mean_per_class_accuracy  0.273868     0.753952  219"
      ]
     },
     "metadata": {},
     "output_type": "display_data"
    },
    {
     "name": "stdout",
     "output_type": "stream",
     "text": [
      "Gains/Lift Table: Avg response rate: 40.26 %\n",
      "\n"
     ]
    },
    {
     "data": {
      "text/html": [
       "<div style=\"overflow:auto\"><table style=\"width:50%\"><tr><td><b></b></td>\n",
       "<td><b>group</b></td>\n",
       "<td><b>cumulative_data_fraction</b></td>\n",
       "<td><b>lower_threshold</b></td>\n",
       "<td><b>lift</b></td>\n",
       "<td><b>cumulative_lift</b></td>\n",
       "<td><b>response_rate</b></td>\n",
       "<td><b>cumulative_response_rate</b></td>\n",
       "<td><b>capture_rate</b></td>\n",
       "<td><b>cumulative_capture_rate</b></td>\n",
       "<td><b>gain</b></td>\n",
       "<td><b>cumulative_gain</b></td></tr>\n",
       "<tr><td></td>\n",
       "<td>1</td>\n",
       "<td>0.0105263</td>\n",
       "<td>0.9867979</td>\n",
       "<td>2.4836601</td>\n",
       "<td>2.4836601</td>\n",
       "<td>1.0</td>\n",
       "<td>1.0</td>\n",
       "<td>0.0261438</td>\n",
       "<td>0.0261438</td>\n",
       "<td>148.3660131</td>\n",
       "<td>148.3660131</td></tr>\n",
       "<tr><td></td>\n",
       "<td>2</td>\n",
       "<td>0.0210526</td>\n",
       "<td>0.9767913</td>\n",
       "<td>2.4836601</td>\n",
       "<td>2.4836601</td>\n",
       "<td>1.0</td>\n",
       "<td>1.0</td>\n",
       "<td>0.0261438</td>\n",
       "<td>0.0522876</td>\n",
       "<td>148.3660131</td>\n",
       "<td>148.3660131</td></tr>\n",
       "<tr><td></td>\n",
       "<td>3</td>\n",
       "<td>0.0315789</td>\n",
       "<td>0.9666501</td>\n",
       "<td>2.4836601</td>\n",
       "<td>2.4836601</td>\n",
       "<td>1.0</td>\n",
       "<td>1.0</td>\n",
       "<td>0.0261438</td>\n",
       "<td>0.0784314</td>\n",
       "<td>148.3660131</td>\n",
       "<td>148.3660131</td></tr>\n",
       "<tr><td></td>\n",
       "<td>4</td>\n",
       "<td>0.0421053</td>\n",
       "<td>0.9570197</td>\n",
       "<td>2.4836601</td>\n",
       "<td>2.4836601</td>\n",
       "<td>1.0</td>\n",
       "<td>1.0</td>\n",
       "<td>0.0261438</td>\n",
       "<td>0.1045752</td>\n",
       "<td>148.3660131</td>\n",
       "<td>148.3660131</td></tr>\n",
       "<tr><td></td>\n",
       "<td>5</td>\n",
       "<td>0.05</td>\n",
       "<td>0.9399771</td>\n",
       "<td>2.4836601</td>\n",
       "<td>2.4836601</td>\n",
       "<td>1.0</td>\n",
       "<td>1.0</td>\n",
       "<td>0.0196078</td>\n",
       "<td>0.1241830</td>\n",
       "<td>148.3660131</td>\n",
       "<td>148.3660131</td></tr>\n",
       "<tr><td></td>\n",
       "<td>6</td>\n",
       "<td>0.1</td>\n",
       "<td>0.8274993</td>\n",
       "<td>1.8300654</td>\n",
       "<td>2.1568627</td>\n",
       "<td>0.7368421</td>\n",
       "<td>0.8684211</td>\n",
       "<td>0.0915033</td>\n",
       "<td>0.2156863</td>\n",
       "<td>83.0065359</td>\n",
       "<td>115.6862745</td></tr>\n",
       "<tr><td></td>\n",
       "<td>7</td>\n",
       "<td>0.15</td>\n",
       "<td>0.7649272</td>\n",
       "<td>1.9607843</td>\n",
       "<td>2.0915033</td>\n",
       "<td>0.7894737</td>\n",
       "<td>0.8421053</td>\n",
       "<td>0.0980392</td>\n",
       "<td>0.3137255</td>\n",
       "<td>96.0784314</td>\n",
       "<td>109.1503268</td></tr>\n",
       "<tr><td></td>\n",
       "<td>8</td>\n",
       "<td>0.2</td>\n",
       "<td>0.6596141</td>\n",
       "<td>1.8300654</td>\n",
       "<td>2.0261438</td>\n",
       "<td>0.7368421</td>\n",
       "<td>0.8157895</td>\n",
       "<td>0.0915033</td>\n",
       "<td>0.4052288</td>\n",
       "<td>83.0065359</td>\n",
       "<td>102.6143791</td></tr>\n",
       "<tr><td></td>\n",
       "<td>9</td>\n",
       "<td>0.3</td>\n",
       "<td>0.5523884</td>\n",
       "<td>1.5032680</td>\n",
       "<td>1.8518519</td>\n",
       "<td>0.6052632</td>\n",
       "<td>0.7456140</td>\n",
       "<td>0.1503268</td>\n",
       "<td>0.5555556</td>\n",
       "<td>50.3267974</td>\n",
       "<td>85.1851852</td></tr>\n",
       "<tr><td></td>\n",
       "<td>10</td>\n",
       "<td>0.4</td>\n",
       "<td>0.4390252</td>\n",
       "<td>1.3725490</td>\n",
       "<td>1.7320261</td>\n",
       "<td>0.5526316</td>\n",
       "<td>0.6973684</td>\n",
       "<td>0.1372549</td>\n",
       "<td>0.6928105</td>\n",
       "<td>37.2549020</td>\n",
       "<td>73.2026144</td></tr>\n",
       "<tr><td></td>\n",
       "<td>11</td>\n",
       "<td>0.5</td>\n",
       "<td>0.3320543</td>\n",
       "<td>0.9803922</td>\n",
       "<td>1.5816993</td>\n",
       "<td>0.3947368</td>\n",
       "<td>0.6368421</td>\n",
       "<td>0.0980392</td>\n",
       "<td>0.7908497</td>\n",
       "<td>-1.9607843</td>\n",
       "<td>58.1699346</td></tr>\n",
       "<tr><td></td>\n",
       "<td>12</td>\n",
       "<td>0.6</td>\n",
       "<td>0.2519998</td>\n",
       "<td>0.9150327</td>\n",
       "<td>1.4705882</td>\n",
       "<td>0.3684211</td>\n",
       "<td>0.5921053</td>\n",
       "<td>0.0915033</td>\n",
       "<td>0.8823529</td>\n",
       "<td>-8.4967320</td>\n",
       "<td>47.0588235</td></tr>\n",
       "<tr><td></td>\n",
       "<td>13</td>\n",
       "<td>0.7</td>\n",
       "<td>0.2008203</td>\n",
       "<td>0.4575163</td>\n",
       "<td>1.3258637</td>\n",
       "<td>0.1842105</td>\n",
       "<td>0.5338346</td>\n",
       "<td>0.0457516</td>\n",
       "<td>0.9281046</td>\n",
       "<td>-54.2483660</td>\n",
       "<td>32.5863679</td></tr>\n",
       "<tr><td></td>\n",
       "<td>14</td>\n",
       "<td>0.8</td>\n",
       "<td>0.1469887</td>\n",
       "<td>0.5228758</td>\n",
       "<td>1.2254902</td>\n",
       "<td>0.2105263</td>\n",
       "<td>0.4934211</td>\n",
       "<td>0.0522876</td>\n",
       "<td>0.9803922</td>\n",
       "<td>-47.7124183</td>\n",
       "<td>22.5490196</td></tr>\n",
       "<tr><td></td>\n",
       "<td>15</td>\n",
       "<td>0.9</td>\n",
       "<td>0.0876284</td>\n",
       "<td>0.1307190</td>\n",
       "<td>1.1038489</td>\n",
       "<td>0.0526316</td>\n",
       "<td>0.4444444</td>\n",
       "<td>0.0130719</td>\n",
       "<td>0.9934641</td>\n",
       "<td>-86.9281046</td>\n",
       "<td>10.3848947</td></tr>\n",
       "<tr><td></td>\n",
       "<td>16</td>\n",
       "<td>1.0</td>\n",
       "<td>0.0005319</td>\n",
       "<td>0.0653595</td>\n",
       "<td>1.0</td>\n",
       "<td>0.0263158</td>\n",
       "<td>0.4026316</td>\n",
       "<td>0.0065359</td>\n",
       "<td>1.0</td>\n",
       "<td>-93.4640523</td>\n",
       "<td>0.0</td></tr></table></div>"
      ],
      "text/plain": [
       "    group    cumulative_data_fraction    lower_threshold    lift       cumulative_lift    response_rate    cumulative_response_rate    capture_rate    cumulative_capture_rate    gain      cumulative_gain\n",
       "--  -------  --------------------------  -----------------  ---------  -----------------  ---------------  --------------------------  --------------  -------------------------  --------  -----------------\n",
       "    1        0.0105263                   0.986798           2.48366    2.48366            1                1                           0.0261438       0.0261438                  148.366   148.366\n",
       "    2        0.0210526                   0.976791           2.48366    2.48366            1                1                           0.0261438       0.0522876                  148.366   148.366\n",
       "    3        0.0315789                   0.96665            2.48366    2.48366            1                1                           0.0261438       0.0784314                  148.366   148.366\n",
       "    4        0.0421053                   0.95702            2.48366    2.48366            1                1                           0.0261438       0.104575                   148.366   148.366\n",
       "    5        0.05                        0.939977           2.48366    2.48366            1                1                           0.0196078       0.124183                   148.366   148.366\n",
       "    6        0.1                         0.827499           1.83007    2.15686            0.736842         0.868421                    0.0915033       0.215686                   83.0065   115.686\n",
       "    7        0.15                        0.764927           1.96078    2.0915             0.789474         0.842105                    0.0980392       0.313725                   96.0784   109.15\n",
       "    8        0.2                         0.659614           1.83007    2.02614            0.736842         0.815789                    0.0915033       0.405229                   83.0065   102.614\n",
       "    9        0.3                         0.552388           1.50327    1.85185            0.605263         0.745614                    0.150327        0.555556                   50.3268   85.1852\n",
       "    10       0.4                         0.439025           1.37255    1.73203            0.552632         0.697368                    0.137255        0.69281                    37.2549   73.2026\n",
       "    11       0.5                         0.332054           0.980392   1.5817             0.394737         0.636842                    0.0980392       0.79085                    -1.96078  58.1699\n",
       "    12       0.6                         0.252              0.915033   1.47059            0.368421         0.592105                    0.0915033       0.882353                   -8.49673  47.0588\n",
       "    13       0.7                         0.20082            0.457516   1.32586            0.184211         0.533835                    0.0457516       0.928105                   -54.2484  32.5864\n",
       "    14       0.8                         0.146989           0.522876   1.22549            0.210526         0.493421                    0.0522876       0.980392                   -47.7124  22.549\n",
       "    15       0.9                         0.0876284          0.130719   1.10385            0.0526316        0.444444                    0.0130719       0.993464                   -86.9281  10.3849\n",
       "    16       1                           0.000531917        0.0653595  1                  0.0263158        0.402632                    0.00653595      1                          -93.4641  0"
      ]
     },
     "metadata": {},
     "output_type": "display_data"
    },
    {
     "name": "stdout",
     "output_type": "stream",
     "text": [
      "\n"
     ]
    },
    {
     "data": {
      "text/plain": []
     },
     "execution_count": 59,
     "metadata": {},
     "output_type": "execute_result"
    }
   ],
   "source": [
    "glm_model_with_training_and_cv.model_performance(train=True)"
   ]
  },
  {
   "cell_type": "code",
   "execution_count": 60,
   "metadata": {
    "collapsed": true
   },
   "outputs": [],
   "source": [
    "#: Here we can select the best model based on accuracy among all of above models we have created \n",
    "#: R^2 Error"
   ]
  },
  {
   "cell_type": "code",
   "execution_count": 61,
   "metadata": {},
   "outputs": [
    {
     "data": {
      "text/plain": [
       "0.31261602280248935"
      ]
     },
     "execution_count": 61,
     "metadata": {},
     "output_type": "execute_result"
    }
   ],
   "source": [
    "glm_model_with_training_and_cv.model_performance(train=True).r2()"
   ]
  },
  {
   "cell_type": "code",
   "execution_count": 62,
   "metadata": {
    "collapsed": true
   },
   "outputs": [],
   "source": [
    "#: RMSE (Root Mean Square) Error"
   ]
  },
  {
   "cell_type": "code",
   "execution_count": 63,
   "metadata": {},
   "outputs": [
    {
     "name": "stdout",
     "output_type": "stream",
     "text": [
      "0.40660690512\n",
      "0.417283682979\n"
     ]
    }
   ],
   "source": [
    "print(glm_model_with_training_and_cv.model_performance(train=True).rmse())\n",
    "print(glm_model_with_training_and_cv.model_performance(xval=True).rmse())"
   ]
  },
  {
   "cell_type": "code",
   "execution_count": 64,
   "metadata": {
    "collapsed": true
   },
   "outputs": [],
   "source": [
    "#: R^2 (R^2) Error"
   ]
  },
  {
   "cell_type": "code",
   "execution_count": 65,
   "metadata": {},
   "outputs": [
    {
     "name": "stdout",
     "output_type": "stream",
     "text": [
      "0.283508597444\n",
      "0.327109379747\n"
     ]
    }
   ],
   "source": [
    "print(glm_model_with_training_and_validtion.model_performance(train=True).r2())\n",
    "print(glm_model_with_training_and_validtion.model_performance(valid=True).r2())"
   ]
  },
  {
   "cell_type": "code",
   "execution_count": 66,
   "metadata": {
    "collapsed": true
   },
   "outputs": [],
   "source": [
    "#: Getting model ID from an H2O Model"
   ]
  },
  {
   "cell_type": "code",
   "execution_count": 67,
   "metadata": {},
   "outputs": [
    {
     "name": "stdout",
     "output_type": "stream",
     "text": [
      "GLM_model_python_1510608322538_29\n",
      "glm_model_with_training_and_validtion_python\n"
     ]
    }
   ],
   "source": [
    "print(glm_model_with_training_and_cv.model_id)\n",
    "print(glm_model_with_training_and_validtion.model_id)"
   ]
  },
  {
   "cell_type": "code",
   "execution_count": 68,
   "metadata": {
    "collapsed": true
   },
   "outputs": [],
   "source": [
    "#: Because we have built the GLM mode, getting coefficients from the model"
   ]
  },
  {
   "cell_type": "code",
   "execution_count": 69,
   "metadata": {},
   "outputs": [
    {
     "data": {
      "text/plain": [
       "{u'AGE': -0.007959389969014725,\n",
       " u'DCAPS': 0.5422518782813839,\n",
       " u'DPROS': 0.5503891749841721,\n",
       " u'GLEASON': 1.0053229809192141,\n",
       " u'ID': 0.001584456980571878,\n",
       " u'Intercept': -8.102861233026575,\n",
       " u'PSA': 0.027076170422619898,\n",
       " u'RACE': -0.606018934540387,\n",
       " u'VOL': -0.011441518403143272}"
      ]
     },
     "execution_count": 69,
     "metadata": {},
     "output_type": "execute_result"
    }
   ],
   "source": [
    "## Coefiecients\n",
    "glm_model_with_training_and_cv.coef()"
   ]
  },
  {
   "cell_type": "code",
   "execution_count": 70,
   "metadata": {
    "collapsed": true
   },
   "outputs": [],
   "source": [
    "#: Because we have built the GLM mode, getting coefficients from the model"
   ]
  },
  {
   "cell_type": "code",
   "execution_count": 71,
   "metadata": {},
   "outputs": [
    {
     "data": {
      "text/plain": [
       "{u'AGE': -0.05195150558690226,\n",
       " u'DCAPS': 0.16845404316107315,\n",
       " u'DPROS': 0.5504484068491214,\n",
       " u'GLEASON': 1.097765821402851,\n",
       " u'ID': 0.1740380126133622,\n",
       " u'Intercept': -0.4801057465314765,\n",
       " u'PSA': 0.5414576856126687,\n",
       " u'RACE': -0.18712244084304375,\n",
       " u'VOL': -0.2099246315094121}"
      ]
     },
     "execution_count": 71,
     "metadata": {},
     "output_type": "execute_result"
    }
   ],
   "source": [
    "# Normalized Coefiecients ? \n",
    "# multinomial? Shoule be used for logistics regression? \n",
    "glm_model_with_training_and_cv.coef_norm()"
   ]
  },
  {
   "cell_type": "code",
   "execution_count": 72,
   "metadata": {
    "collapsed": true
   },
   "outputs": [],
   "source": [
    "#: Getting cross validation prediction details from the model with cross-validation \n",
    "#: (If cross validation prediction save is not set to TRUE, you will get error message)"
   ]
  },
  {
   "cell_type": "code",
   "execution_count": 73,
   "metadata": {},
   "outputs": [
    {
     "name": "stdout",
     "output_type": "stream",
     "text": [
      "Cross-Validation Metrics Summary: \n"
     ]
    },
    {
     "data": {
      "text/html": [
       "<div style=\"overflow:auto\"><table style=\"width:50%\"><tr><td><b></b></td>\n",
       "<td><b>mean</b></td>\n",
       "<td><b>sd</b></td>\n",
       "<td><b>cv_1_valid</b></td>\n",
       "<td><b>cv_2_valid</b></td>\n",
       "<td><b>cv_3_valid</b></td>\n",
       "<td><b>cv_4_valid</b></td>\n",
       "<td><b>cv_5_valid</b></td></tr>\n",
       "<tr><td>accuracy</td>\n",
       "<td>0.741648</td>\n",
       "<td>0.0504372</td>\n",
       "<td>0.8289474</td>\n",
       "<td>0.7628866</td>\n",
       "<td>0.6315789</td>\n",
       "<td>0.7936508</td>\n",
       "<td>0.6911765</td></tr>\n",
       "<tr><td>auc</td>\n",
       "<td>0.8102137</td>\n",
       "<td>0.0204309</td>\n",
       "<td>0.8473011</td>\n",
       "<td>0.8134394</td>\n",
       "<td>0.7840909</td>\n",
       "<td>0.8347826</td>\n",
       "<td>0.7714544</td></tr>\n",
       "<tr><td>err</td>\n",
       "<td>0.2583519</td>\n",
       "<td>0.0504372</td>\n",
       "<td>0.1710526</td>\n",
       "<td>0.2371134</td>\n",
       "<td>0.3684211</td>\n",
       "<td>0.2063492</td>\n",
       "<td>0.3088235</td></tr>\n",
       "<tr><td>err_count</td>\n",
       "<td>19.6</td>\n",
       "<td>4.1376324</td>\n",
       "<td>13.0</td>\n",
       "<td>23.0</td>\n",
       "<td>28.0</td>\n",
       "<td>13.0</td>\n",
       "<td>21.0</td></tr>\n",
       "<tr><td>f0point5</td>\n",
       "<td>0.6842991</td>\n",
       "<td>0.0553671</td>\n",
       "<td>0.8108108</td>\n",
       "<td>0.6976744</td>\n",
       "<td>0.5882353</td>\n",
       "<td>0.7086614</td>\n",
       "<td>0.6161137</td></tr>\n",
       "<tr><td>---</td>\n",
       "<td>---</td>\n",
       "<td>---</td>\n",
       "<td>---</td>\n",
       "<td>---</td>\n",
       "<td>---</td>\n",
       "<td>---</td>\n",
       "<td>---</td></tr>\n",
       "<tr><td>r2</td>\n",
       "<td>0.2735834</td>\n",
       "<td>0.0420356</td>\n",
       "<td>0.3592168</td>\n",
       "<td>0.2781078</td>\n",
       "<td>0.2491044</td>\n",
       "<td>0.3022268</td>\n",
       "<td>0.1792613</td></tr>\n",
       "<tr><td>recall</td>\n",
       "<td>0.8529605</td>\n",
       "<td>0.0750214</td>\n",
       "<td>0.75</td>\n",
       "<td>0.7692308</td>\n",
       "<td>1.0</td>\n",
       "<td>0.7826087</td>\n",
       "<td>0.962963</td></tr>\n",
       "<tr><td>residual_deviance</td>\n",
       "<td>78.8813</td>\n",
       "<td>8.995062</td>\n",
       "<td>73.16009</td>\n",
       "<td>100.2491</td>\n",
       "<td>80.50242</td>\n",
       "<td>61.080074</td>\n",
       "<td>79.41481</td></tr>\n",
       "<tr><td>rmse</td>\n",
       "<td>0.4170183</td>\n",
       "<td>0.0122546</td>\n",
       "<td>0.3952240</td>\n",
       "<td>0.4165918</td>\n",
       "<td>0.4278362</td>\n",
       "<td>0.4021708</td>\n",
       "<td>0.443269</td></tr>\n",
       "<tr><td>specificity</td>\n",
       "<td>0.6641632</td>\n",
       "<td>0.1378976</td>\n",
       "<td>0.8863636</td>\n",
       "<td>0.7586207</td>\n",
       "<td>0.3636364</td>\n",
       "<td>0.8</td>\n",
       "<td>0.5121951</td></tr></table></div>"
      ],
      "text/plain": [
       "                   mean        sd           cv_1_valid    cv_2_valid    cv_3_valid    cv_4_valid    cv_5_valid\n",
       "-----------------  ----------  -----------  ------------  ------------  ------------  ------------  ------------\n",
       "accuracy           0.741648    0.05043721   0.82894737    0.7628866     0.6315789     0.7936508     0.6911765\n",
       "auc                0.8102137   0.020430857  0.8473011     0.8134394     0.78409094    0.8347826     0.7714544\n",
       "err                0.25835195  0.05043721   0.17105263    0.2371134     0.36842105    0.20634921    0.30882353\n",
       "err_count          19.6        4.1376324    13.0          23.0          28.0          13.0          21.0\n",
       "f0point5           0.6842991   0.05536708   0.8108108     0.6976744     0.5882353     0.70866144    0.6161137\n",
       "---                ---         ---          ---           ---           ---           ---           ---\n",
       "r2                 0.27358344  0.042035572  0.35921684    0.27810785    0.24910437    0.30222684    0.17926125\n",
       "recall             0.85296047  0.07502137   0.75          0.7692308     1.0           0.7826087     0.962963\n",
       "residual_deviance  78.8813     8.995062     73.16009      100.2491      80.50242      61.080074     79.41481\n",
       "rmse               0.41701835  0.012254592  0.39522398    0.4165918     0.4278362     0.40217078    0.443269\n",
       "specificity        0.6641632   0.13789763   0.8863636     0.7586207     0.36363637    0.8           0.5121951"
      ]
     },
     "metadata": {},
     "output_type": "display_data"
    },
    {
     "name": "stdout",
     "output_type": "stream",
     "text": [
      "\n",
      "See the whole table with table.as_data_frame()\n"
     ]
    },
    {
     "data": {
      "text/plain": []
     },
     "execution_count": 73,
     "metadata": {},
     "output_type": "execute_result"
    }
   ],
   "source": [
    "glm_model_with_training_and_cv.cross_validation_metrics_summary()"
   ]
  },
  {
   "cell_type": "code",
   "execution_count": 74,
   "metadata": {
    "collapsed": true
   },
   "outputs": [],
   "source": [
    "#: Getting variable importance from a GLM mode (It will plot the coefficient table)"
   ]
  },
  {
   "cell_type": "code",
   "execution_count": 75,
   "metadata": {},
   "outputs": [
    {
     "name": "stdout",
     "output_type": "stream",
     "text": [
      "Warning: This model doesn't have variable importances\n"
     ]
    }
   ],
   "source": [
    "glm_model_with_training_and_validtion.varimp()"
   ]
  },
  {
   "cell_type": "code",
   "execution_count": 76,
   "metadata": {
    "collapsed": true
   },
   "outputs": [],
   "source": [
    "#: Getting variable importance PLOT for GLM (Error)"
   ]
  },
  {
   "cell_type": "code",
   "execution_count": 77,
   "metadata": {},
   "outputs": [
    {
     "ename": "AttributeError",
     "evalue": "type object 'H2OGeneralizedLinearEstimator' has no attribute 'variable_importancesvarimp_plot'",
     "output_type": "error",
     "traceback": [
      "\u001b[0;31m---------------------------------------------------------------------------\u001b[0m",
      "\u001b[0;31mAttributeError\u001b[0m                            Traceback (most recent call last)",
      "\u001b[0;32m<ipython-input-77-286b75f14a38>\u001b[0m in \u001b[0;36m<module>\u001b[0;34m()\u001b[0m\n\u001b[1;32m      1\u001b[0m \u001b[0;31m# - Positive ?\u001b[0m\u001b[0;34m\u001b[0m\u001b[0;34m\u001b[0m\u001b[0m\n\u001b[1;32m      2\u001b[0m \u001b[0;31m# - Negative ?\u001b[0m\u001b[0;34m\u001b[0m\u001b[0;34m\u001b[0m\u001b[0m\n\u001b[0;32m----> 3\u001b[0;31m \u001b[0mglm_model_with_training_and_validtion\u001b[0m\u001b[0;34m.\u001b[0m\u001b[0mvariable_importancesvarimp_plot\u001b[0m\u001b[0;34m(\u001b[0m\u001b[0;34m)\u001b[0m\u001b[0;34m\u001b[0m\u001b[0m\n\u001b[0m",
      "\u001b[0;32m/Users/avkashchauhan/anaconda3/envs/python27/lib/python2.7/site-packages/h2o/utils/backward_compatibility.pyc\u001b[0m in \u001b[0;36m__getattr__\u001b[0;34m(self, item)\u001b[0m\n\u001b[1;32m     72\u001b[0m             \u001b[0;32mreturn\u001b[0m \u001b[0mself\u001b[0m\u001b[0;34m.\u001b[0m\u001b[0m_bcin\u001b[0m\u001b[0;34m[\u001b[0m\u001b[0mitem\u001b[0m\u001b[0;34m]\u001b[0m\u001b[0;34m\u001b[0m\u001b[0m\n\u001b[1;32m     73\u001b[0m         \u001b[0;31m# Make sure that we look up any names not found on the instance also in the class\u001b[0m\u001b[0;34m\u001b[0m\u001b[0;34m\u001b[0m\u001b[0m\n\u001b[0;32m---> 74\u001b[0;31m         \u001b[0;32mreturn\u001b[0m \u001b[0mgetattr\u001b[0m\u001b[0;34m(\u001b[0m\u001b[0mself\u001b[0m\u001b[0;34m.\u001b[0m\u001b[0m__class__\u001b[0m\u001b[0;34m,\u001b[0m \u001b[0mitem\u001b[0m\u001b[0;34m)\u001b[0m\u001b[0;34m\u001b[0m\u001b[0m\n\u001b[0m\u001b[1;32m     75\u001b[0m \u001b[0;34m\u001b[0m\u001b[0m\n\u001b[1;32m     76\u001b[0m \u001b[0;34m\u001b[0m\u001b[0m\n",
      "\u001b[0;32m/Users/avkashchauhan/anaconda3/envs/python27/lib/python2.7/site-packages/h2o/utils/backward_compatibility.pyc\u001b[0m in \u001b[0;36m__getattribute__\u001b[0;34m(cls, name)\u001b[0m\n\u001b[1;32m     47\u001b[0m                 \u001b[0;31m# print(\"Warning: Method %s in class %s is deprecated.\" % (name, cls.__name__))\u001b[0m\u001b[0;34m\u001b[0m\u001b[0;34m\u001b[0m\u001b[0m\n\u001b[1;32m     48\u001b[0m                 \u001b[0;32mreturn\u001b[0m \u001b[0mbc\u001b[0m\u001b[0;34m[\u001b[0m\u001b[0;34m\"sm\"\u001b[0m\u001b[0;34m]\u001b[0m\u001b[0;34m[\u001b[0m\u001b[0mname\u001b[0m\u001b[0;34m]\u001b[0m\u001b[0;34m\u001b[0m\u001b[0m\n\u001b[0;32m---> 49\u001b[0;31m         \u001b[0;32mreturn\u001b[0m \u001b[0mtype\u001b[0m\u001b[0;34m.\u001b[0m\u001b[0m__getattribute__\u001b[0m\u001b[0;34m(\u001b[0m\u001b[0mcls\u001b[0m\u001b[0;34m,\u001b[0m \u001b[0mname\u001b[0m\u001b[0;34m)\u001b[0m\u001b[0;34m\u001b[0m\u001b[0m\n\u001b[0m\u001b[1;32m     50\u001b[0m \u001b[0;34m\u001b[0m\u001b[0m\n\u001b[1;32m     51\u001b[0m     \u001b[0;32mdef\u001b[0m \u001b[0m__setattr__\u001b[0m\u001b[0;34m(\u001b[0m\u001b[0mcls\u001b[0m\u001b[0;34m,\u001b[0m \u001b[0mname\u001b[0m\u001b[0;34m,\u001b[0m \u001b[0mvalue\u001b[0m\u001b[0;34m)\u001b[0m\u001b[0;34m:\u001b[0m\u001b[0;34m\u001b[0m\u001b[0m\n",
      "\u001b[0;31mAttributeError\u001b[0m: type object 'H2OGeneralizedLinearEstimator' has no attribute 'variable_importancesvarimp_plot'"
     ]
    }
   ],
   "source": [
    "# - Positive ?\n",
    "# - Negative ?\n",
    "glm_model_with_training_and_validtion.variable_importancesvarimp_plot()"
   ]
  },
  {
   "cell_type": "code",
   "execution_count": 78,
   "metadata": {
    "collapsed": true
   },
   "outputs": [],
   "source": [
    "#: Building a GLM model with cross validation and saving cross validation predictions"
   ]
  },
  {
   "cell_type": "code",
   "execution_count": 79,
   "metadata": {},
   "outputs": [
    {
     "name": "stdout",
     "output_type": "stream",
     "text": [
      "glm Model Build progress: |███████████████████████████████████████████████| 100%\n"
     ]
    }
   ],
   "source": [
    "glm_model_with_training_and_cv = H2OGeneralizedLinearEstimator(keep_cross_validation_predictions = True, nfolds=5)\n",
    "glm_model_with_training_and_cv.train(x = features, y = response, training_frame= df_prostate_train)"
   ]
  },
  {
   "cell_type": "code",
   "execution_count": 80,
   "metadata": {
    "collapsed": true
   },
   "outputs": [],
   "source": [
    "#: Looking at cross validation predictions for all CV models"
   ]
  },
  {
   "cell_type": "code",
   "execution_count": 81,
   "metadata": {},
   "outputs": [
    {
     "data": {
      "text/plain": [
       "5"
      ]
     },
     "execution_count": 81,
     "metadata": {},
     "output_type": "execute_result"
    }
   ],
   "source": [
    "len(glm_model_with_training_and_cv.cross_validation_predictions())"
   ]
  },
  {
   "cell_type": "code",
   "execution_count": 82,
   "metadata": {},
   "outputs": [
    {
     "data": {
      "text/html": [
       "<table>\n",
       "<thead>\n",
       "<tr><th style=\"text-align: right;\">  predict</th></tr>\n",
       "</thead>\n",
       "<tbody>\n",
       "<tr><td style=\"text-align: right;\"> 0.283107</td></tr>\n",
       "<tr><td style=\"text-align: right;\"> 0       </td></tr>\n",
       "<tr><td style=\"text-align: right;\"> 0       </td></tr>\n",
       "<tr><td style=\"text-align: right;\"> 0       </td></tr>\n",
       "<tr><td style=\"text-align: right;\"> 0       </td></tr>\n",
       "<tr><td style=\"text-align: right;\"> 0       </td></tr>\n",
       "<tr><td style=\"text-align: right;\"> 0       </td></tr>\n",
       "<tr><td style=\"text-align: right;\"> 0       </td></tr>\n",
       "<tr><td style=\"text-align: right;\"> 0       </td></tr>\n",
       "<tr><td style=\"text-align: right;\"> 0       </td></tr>\n",
       "</tbody>\n",
       "</table>"
      ]
     },
     "metadata": {},
     "output_type": "display_data"
    },
    {
     "data": {
      "text/plain": []
     },
     "execution_count": 82,
     "metadata": {},
     "output_type": "execute_result"
    }
   ],
   "source": [
    "glm_model_with_training_and_cv.cross_validation_predictions()[0]\n",
    "glm_model_with_training_and_cv.cross_validation_predictions()[1]"
   ]
  },
  {
   "cell_type": "code",
   "execution_count": 83,
   "metadata": {
    "collapsed": true
   },
   "outputs": [],
   "source": [
    "#: Accessing H2O Model details from JSON"
   ]
  },
  {
   "cell_type": "code",
   "execution_count": 84,
   "metadata": {},
   "outputs": [
    {
     "name": "stdout",
     "output_type": "stream",
     "text": [
      "Coefficients: glm coefficients\n",
      "\n"
     ]
    },
    {
     "data": {
      "text/html": [
       "<div style=\"overflow:auto\"><table style=\"width:50%\"><tr><td><b>names</b></td>\n",
       "<td><b>coefficients</b></td>\n",
       "<td><b>standardized_coefficients</b></td></tr>\n",
       "<tr><td>Intercept</td>\n",
       "<td>-7.7385145</td>\n",
       "<td>-0.4394848</td></tr>\n",
       "<tr><td>ID</td>\n",
       "<td>0.0008976</td>\n",
       "<td>0.1009232</td></tr>\n",
       "<tr><td>AGE</td>\n",
       "<td>-0.0045180</td>\n",
       "<td>-0.0302450</td></tr>\n",
       "<tr><td>RACE</td>\n",
       "<td>-0.5926484</td>\n",
       "<td>-0.1843044</td></tr>\n",
       "<tr><td>DPROS</td>\n",
       "<td>0.4063556</td>\n",
       "<td>0.4003219</td></tr>\n",
       "<tr><td>DCAPS</td>\n",
       "<td>0.6955968</td>\n",
       "<td>0.2120891</td></tr>\n",
       "<tr><td>PSA</td>\n",
       "<td>0.0241052</td>\n",
       "<td>0.5234431</td></tr>\n",
       "<tr><td>VOL</td>\n",
       "<td>-0.0125058</td>\n",
       "<td>-0.2207843</td></tr>\n",
       "<tr><td>GLEASON</td>\n",
       "<td>0.9633195</td>\n",
       "<td>1.0153889</td></tr></table></div>"
      ],
      "text/plain": [
       "names      coefficients    standardized_coefficients\n",
       "---------  --------------  ---------------------------\n",
       "Intercept  -7.73851        -0.439485\n",
       "ID         0.000897621     0.100923\n",
       "AGE        -0.00451797     -0.030245\n",
       "RACE       -0.592648       -0.184304\n",
       "DPROS      0.406356        0.400322\n",
       "DCAPS      0.695597        0.212089\n",
       "PSA        0.0241052       0.523443\n",
       "VOL        -0.0125058      -0.220784\n",
       "GLEASON    0.96332         1.01539"
      ]
     },
     "metadata": {},
     "output_type": "display_data"
    },
    {
     "name": "stdout",
     "output_type": "stream",
     "text": [
      "GLM Model: summary\n",
      "\n"
     ]
    },
    {
     "data": {
      "text/html": [
       "<div style=\"overflow:auto\"><table style=\"width:50%\"><tr><td><b></b></td>\n",
       "<td><b>family</b></td>\n",
       "<td><b>link</b></td>\n",
       "<td><b>regularization</b></td>\n",
       "<td><b>number_of_predictors_total</b></td>\n",
       "<td><b>number_of_active_predictors</b></td>\n",
       "<td><b>number_of_iterations</b></td>\n",
       "<td><b>training_frame</b></td></tr>\n",
       "<tr><td></td>\n",
       "<td>binomial</td>\n",
       "<td>logit</td>\n",
       "<td>Elastic Net (alpha = 0.5, lambda = 4.414E-4 )</td>\n",
       "<td>8</td>\n",
       "<td>8</td>\n",
       "<td>4</td>\n",
       "<td>py_13_sid_9e0f</td></tr></table></div>"
      ],
      "text/plain": [
       "    family    link    regularization                                 number_of_predictors_total    number_of_active_predictors    number_of_iterations    training_frame\n",
       "--  --------  ------  ---------------------------------------------  ----------------------------  -----------------------------  ----------------------  ----------------\n",
       "    binomial  logit   Elastic Net (alpha = 0.5, lambda = 4.414E-4 )  8                             8                              4                       py_13_sid_9e0f"
      ]
     },
     "metadata": {},
     "output_type": "display_data"
    },
    {
     "name": "stdout",
     "output_type": "stream",
     "text": [
      "Scoring History: \n"
     ]
    },
    {
     "data": {
      "text/html": [
       "<div style=\"overflow:auto\"><table style=\"width:50%\"><tr><td><b></b></td>\n",
       "<td><b>timestamp</b></td>\n",
       "<td><b>duration</b></td>\n",
       "<td><b>iterations</b></td>\n",
       "<td><b>negative_log_likelihood</b></td>\n",
       "<td><b>objective</b></td></tr>\n",
       "<tr><td></td>\n",
       "<td>2017-11-13 14:57:20</td>\n",
       "<td> 0.000 sec</td>\n",
       "<td>0</td>\n",
       "<td>202.6867030</td>\n",
       "<td>0.6756223</td></tr>\n",
       "<tr><td></td>\n",
       "<td>2017-11-13 14:57:20</td>\n",
       "<td> 0.001 sec</td>\n",
       "<td>1</td>\n",
       "<td>158.2317004</td>\n",
       "<td>0.5279166</td></tr>\n",
       "<tr><td></td>\n",
       "<td>2017-11-13 14:57:20</td>\n",
       "<td> 0.001 sec</td>\n",
       "<td>2</td>\n",
       "<td>154.6406547</td>\n",
       "<td>0.5161740</td></tr>\n",
       "<tr><td></td>\n",
       "<td>2017-11-13 14:57:20</td>\n",
       "<td> 0.001 sec</td>\n",
       "<td>3</td>\n",
       "<td>154.4829029</td>\n",
       "<td>0.5157101</td></tr>\n",
       "<tr><td></td>\n",
       "<td>2017-11-13 14:57:20</td>\n",
       "<td> 0.002 sec</td>\n",
       "<td>4</td>\n",
       "<td>154.4815863</td>\n",
       "<td>0.5157088</td></tr></table></div>"
      ],
      "text/plain": [
       "    timestamp            duration    iterations    negative_log_likelihood    objective\n",
       "--  -------------------  ----------  ------------  -------------------------  -----------\n",
       "    2017-11-13 14:57:20  0.000 sec   0             202.687                    0.675622\n",
       "    2017-11-13 14:57:20  0.001 sec   1             158.232                    0.527917\n",
       "    2017-11-13 14:57:20  0.001 sec   2             154.641                    0.516174\n",
       "    2017-11-13 14:57:20  0.001 sec   3             154.483                    0.51571\n",
       "    2017-11-13 14:57:20  0.002 sec   4             154.482                    0.515709"
      ]
     },
     "metadata": {},
     "output_type": "display_data"
    },
    {
     "name": "stdout",
     "output_type": "stream",
     "text": [
      "Standardized Coefficient Magnitudes: standardized coefficient magnitudes\n",
      "\n"
     ]
    },
    {
     "data": {
      "text/html": [
       "<div style=\"overflow:auto\"><table style=\"width:50%\"><tr><td><b>names</b></td>\n",
       "<td><b>coefficients</b></td>\n",
       "<td><b>sign</b></td></tr>\n",
       "<tr><td>GLEASON</td>\n",
       "<td>1.0153889</td>\n",
       "<td>POS</td></tr>\n",
       "<tr><td>PSA</td>\n",
       "<td>0.5234431</td>\n",
       "<td>POS</td></tr>\n",
       "<tr><td>DPROS</td>\n",
       "<td>0.4003219</td>\n",
       "<td>POS</td></tr>\n",
       "<tr><td>VOL</td>\n",
       "<td>0.2207843</td>\n",
       "<td>NEG</td></tr>\n",
       "<tr><td>DCAPS</td>\n",
       "<td>0.2120891</td>\n",
       "<td>POS</td></tr>\n",
       "<tr><td>RACE</td>\n",
       "<td>0.1843044</td>\n",
       "<td>NEG</td></tr>\n",
       "<tr><td>ID</td>\n",
       "<td>0.1009232</td>\n",
       "<td>POS</td></tr>\n",
       "<tr><td>AGE</td>\n",
       "<td>0.0302450</td>\n",
       "<td>NEG</td></tr>\n",
       "<tr><td></td>\n",
       "<td></td>\n",
       "<td>None</td></tr></table></div>"
      ],
      "text/plain": [
       "names    coefficients    sign\n",
       "-------  --------------  ------\n",
       "GLEASON  1.01538889877   POS\n",
       "PSA      0.523443091442  POS\n",
       "DPROS    0.400321916228  POS\n",
       "VOL      0.220784296316  NEG\n",
       "DCAPS    0.21208908225   POS\n",
       "RACE     0.184304375722  NEG\n",
       "ID       0.100923225896  POS\n",
       "AGE      0.030244951457  NEG"
      ]
     },
     "metadata": {},
     "output_type": "display_data"
    },
    {
     "name": "stdout",
     "output_type": "stream",
     "text": [
      "\n",
      "ModelMetricsBinomialGLM: glm\n",
      "** Reported on train data. **\n",
      "\n",
      "MSE: 0.172881414421\n",
      "RMSE: 0.415790108614\n",
      "LogLoss: 0.514938620857\n",
      "Null degrees of freedom: 299\n",
      "Residual degrees of freedom: 291\n",
      "Null deviance: 405.373405975\n",
      "Residual deviance: 308.963172514\n",
      "AIC: 326.963172514\n",
      "AUC: 0.814975133542\n",
      "Gini: 0.629950267084\n",
      "Confusion Matrix (Act/Pred) for max f1 @ threshold = 0.287833399151: \n"
     ]
    },
    {
     "data": {
      "text/html": [
       "<div style=\"overflow:auto\"><table style=\"width:50%\"><tr><td><b></b></td>\n",
       "<td><b>0</b></td>\n",
       "<td><b>1</b></td>\n",
       "<td><b>Error</b></td>\n",
       "<td><b>Rate</b></td></tr>\n",
       "<tr><td>0</td>\n",
       "<td>111.0</td>\n",
       "<td>67.0</td>\n",
       "<td>0.3764</td>\n",
       "<td> (67.0/178.0)</td></tr>\n",
       "<tr><td>1</td>\n",
       "<td>15.0</td>\n",
       "<td>107.0</td>\n",
       "<td>0.123</td>\n",
       "<td> (15.0/122.0)</td></tr>\n",
       "<tr><td>Total</td>\n",
       "<td>126.0</td>\n",
       "<td>174.0</td>\n",
       "<td>0.2733</td>\n",
       "<td> (82.0/300.0)</td></tr></table></div>"
      ],
      "text/plain": [
       "       0    1    Error    Rate\n",
       "-----  ---  ---  -------  ------------\n",
       "0      111  67   0.3764   (67.0/178.0)\n",
       "1      15   107  0.123    (15.0/122.0)\n",
       "Total  126  174  0.2733   (82.0/300.0)"
      ]
     },
     "metadata": {},
     "output_type": "display_data"
    },
    {
     "name": "stdout",
     "output_type": "stream",
     "text": [
      "Maximum Metrics: Maximum metrics at their respective thresholds\n",
      "\n"
     ]
    },
    {
     "data": {
      "text/html": [
       "<div style=\"overflow:auto\"><table style=\"width:50%\"><tr><td><b>metric</b></td>\n",
       "<td><b>threshold</b></td>\n",
       "<td><b>value</b></td>\n",
       "<td><b>idx</b></td></tr>\n",
       "<tr><td>max f1</td>\n",
       "<td>0.2878334</td>\n",
       "<td>0.7229730</td>\n",
       "<td>173.0</td></tr>\n",
       "<tr><td>max f2</td>\n",
       "<td>0.1552152</td>\n",
       "<td>0.8196721</td>\n",
       "<td>243.0</td></tr>\n",
       "<tr><td>max f0point5</td>\n",
       "<td>0.4231571</td>\n",
       "<td>0.7073955</td>\n",
       "<td>124.0</td></tr>\n",
       "<tr><td>max accuracy</td>\n",
       "<td>0.4231571</td>\n",
       "<td>0.7633333</td>\n",
       "<td>124.0</td></tr>\n",
       "<tr><td>max precision</td>\n",
       "<td>0.9966497</td>\n",
       "<td>1.0</td>\n",
       "<td>0.0</td></tr>\n",
       "<tr><td>max recall</td>\n",
       "<td>0.0711054</td>\n",
       "<td>1.0</td>\n",
       "<td>283.0</td></tr>\n",
       "<tr><td>max specificity</td>\n",
       "<td>0.9966497</td>\n",
       "<td>1.0</td>\n",
       "<td>0.0</td></tr>\n",
       "<tr><td>max absolute_mcc</td>\n",
       "<td>0.4231571</td>\n",
       "<td>0.5115769</td>\n",
       "<td>124.0</td></tr>\n",
       "<tr><td>max min_per_class_accuracy</td>\n",
       "<td>0.4182599</td>\n",
       "<td>0.7295082</td>\n",
       "<td>127.0</td></tr>\n",
       "<tr><td>max mean_per_class_accuracy</td>\n",
       "<td>0.4231571</td>\n",
       "<td>0.7567232</td>\n",
       "<td>124.0</td></tr></table></div>"
      ],
      "text/plain": [
       "metric                       threshold    value     idx\n",
       "---------------------------  -----------  --------  -----\n",
       "max f1                       0.287833     0.722973  173\n",
       "max f2                       0.155215     0.819672  243\n",
       "max f0point5                 0.423157     0.707395  124\n",
       "max accuracy                 0.423157     0.763333  124\n",
       "max precision                0.99665      1         0\n",
       "max recall                   0.0711054    1         283\n",
       "max specificity              0.99665      1         0\n",
       "max absolute_mcc             0.423157     0.511577  124\n",
       "max min_per_class_accuracy   0.41826      0.729508  127\n",
       "max mean_per_class_accuracy  0.423157     0.756723  124"
      ]
     },
     "metadata": {},
     "output_type": "display_data"
    },
    {
     "name": "stdout",
     "output_type": "stream",
     "text": [
      "Gains/Lift Table: Avg response rate: 40.67 %\n",
      "\n"
     ]
    },
    {
     "data": {
      "text/html": [
       "<div style=\"overflow:auto\"><table style=\"width:50%\"><tr><td><b></b></td>\n",
       "<td><b>group</b></td>\n",
       "<td><b>cumulative_data_fraction</b></td>\n",
       "<td><b>lower_threshold</b></td>\n",
       "<td><b>lift</b></td>\n",
       "<td><b>cumulative_lift</b></td>\n",
       "<td><b>response_rate</b></td>\n",
       "<td><b>cumulative_response_rate</b></td>\n",
       "<td><b>capture_rate</b></td>\n",
       "<td><b>cumulative_capture_rate</b></td>\n",
       "<td><b>gain</b></td>\n",
       "<td><b>cumulative_gain</b></td></tr>\n",
       "<tr><td></td>\n",
       "<td>1</td>\n",
       "<td>0.01</td>\n",
       "<td>0.9788795</td>\n",
       "<td>2.4590164</td>\n",
       "<td>2.4590164</td>\n",
       "<td>1.0</td>\n",
       "<td>1.0</td>\n",
       "<td>0.0245902</td>\n",
       "<td>0.0245902</td>\n",
       "<td>145.9016393</td>\n",
       "<td>145.9016393</td></tr>\n",
       "<tr><td></td>\n",
       "<td>2</td>\n",
       "<td>0.02</td>\n",
       "<td>0.9723558</td>\n",
       "<td>2.4590164</td>\n",
       "<td>2.4590164</td>\n",
       "<td>1.0</td>\n",
       "<td>1.0</td>\n",
       "<td>0.0245902</td>\n",
       "<td>0.0491803</td>\n",
       "<td>145.9016393</td>\n",
       "<td>145.9016393</td></tr>\n",
       "<tr><td></td>\n",
       "<td>3</td>\n",
       "<td>0.03</td>\n",
       "<td>0.9603805</td>\n",
       "<td>2.4590164</td>\n",
       "<td>2.4590164</td>\n",
       "<td>1.0</td>\n",
       "<td>1.0</td>\n",
       "<td>0.0245902</td>\n",
       "<td>0.0737705</td>\n",
       "<td>145.9016393</td>\n",
       "<td>145.9016393</td></tr>\n",
       "<tr><td></td>\n",
       "<td>4</td>\n",
       "<td>0.04</td>\n",
       "<td>0.9468066</td>\n",
       "<td>2.4590164</td>\n",
       "<td>2.4590164</td>\n",
       "<td>1.0</td>\n",
       "<td>1.0</td>\n",
       "<td>0.0245902</td>\n",
       "<td>0.0983607</td>\n",
       "<td>145.9016393</td>\n",
       "<td>145.9016393</td></tr>\n",
       "<tr><td></td>\n",
       "<td>5</td>\n",
       "<td>0.05</td>\n",
       "<td>0.9251554</td>\n",
       "<td>2.4590164</td>\n",
       "<td>2.4590164</td>\n",
       "<td>1.0</td>\n",
       "<td>1.0</td>\n",
       "<td>0.0245902</td>\n",
       "<td>0.1229508</td>\n",
       "<td>145.9016393</td>\n",
       "<td>145.9016393</td></tr>\n",
       "<tr><td></td>\n",
       "<td>6</td>\n",
       "<td>0.1</td>\n",
       "<td>0.8207720</td>\n",
       "<td>1.6393443</td>\n",
       "<td>2.0491803</td>\n",
       "<td>0.6666667</td>\n",
       "<td>0.8333333</td>\n",
       "<td>0.0819672</td>\n",
       "<td>0.2049180</td>\n",
       "<td>63.9344262</td>\n",
       "<td>104.9180328</td></tr>\n",
       "<tr><td></td>\n",
       "<td>7</td>\n",
       "<td>0.15</td>\n",
       "<td>0.7335702</td>\n",
       "<td>1.9672131</td>\n",
       "<td>2.0218579</td>\n",
       "<td>0.8</td>\n",
       "<td>0.8222222</td>\n",
       "<td>0.0983607</td>\n",
       "<td>0.3032787</td>\n",
       "<td>96.7213115</td>\n",
       "<td>102.1857923</td></tr>\n",
       "<tr><td></td>\n",
       "<td>8</td>\n",
       "<td>0.2</td>\n",
       "<td>0.6510465</td>\n",
       "<td>1.6393443</td>\n",
       "<td>1.9262295</td>\n",
       "<td>0.6666667</td>\n",
       "<td>0.7833333</td>\n",
       "<td>0.0819672</td>\n",
       "<td>0.3852459</td>\n",
       "<td>63.9344262</td>\n",
       "<td>92.6229508</td></tr>\n",
       "<tr><td></td>\n",
       "<td>9</td>\n",
       "<td>0.3</td>\n",
       "<td>0.5325099</td>\n",
       "<td>1.3934426</td>\n",
       "<td>1.7486339</td>\n",
       "<td>0.5666667</td>\n",
       "<td>0.7111111</td>\n",
       "<td>0.1393443</td>\n",
       "<td>0.5245902</td>\n",
       "<td>39.3442623</td>\n",
       "<td>74.8633880</td></tr>\n",
       "<tr><td></td>\n",
       "<td>10</td>\n",
       "<td>0.4</td>\n",
       "<td>0.4456888</td>\n",
       "<td>1.7213115</td>\n",
       "<td>1.7418033</td>\n",
       "<td>0.7</td>\n",
       "<td>0.7083333</td>\n",
       "<td>0.1721311</td>\n",
       "<td>0.6967213</td>\n",
       "<td>72.1311475</td>\n",
       "<td>74.1803279</td></tr>\n",
       "<tr><td></td>\n",
       "<td>11</td>\n",
       "<td>0.5</td>\n",
       "<td>0.3502210</td>\n",
       "<td>0.8196721</td>\n",
       "<td>1.5573770</td>\n",
       "<td>0.3333333</td>\n",
       "<td>0.6333333</td>\n",
       "<td>0.0819672</td>\n",
       "<td>0.7786885</td>\n",
       "<td>-18.0327869</td>\n",
       "<td>55.7377049</td></tr>\n",
       "<tr><td></td>\n",
       "<td>12</td>\n",
       "<td>0.6</td>\n",
       "<td>0.2708692</td>\n",
       "<td>0.9836066</td>\n",
       "<td>1.4617486</td>\n",
       "<td>0.4</td>\n",
       "<td>0.5944444</td>\n",
       "<td>0.0983607</td>\n",
       "<td>0.8770492</td>\n",
       "<td>-1.6393443</td>\n",
       "<td>46.1748634</td></tr>\n",
       "<tr><td></td>\n",
       "<td>13</td>\n",
       "<td>0.7</td>\n",
       "<td>0.2229876</td>\n",
       "<td>0.4918033</td>\n",
       "<td>1.3231850</td>\n",
       "<td>0.2</td>\n",
       "<td>0.5380952</td>\n",
       "<td>0.0491803</td>\n",
       "<td>0.9262295</td>\n",
       "<td>-50.8196721</td>\n",
       "<td>32.3185012</td></tr>\n",
       "<tr><td></td>\n",
       "<td>14</td>\n",
       "<td>0.8</td>\n",
       "<td>0.1591679</td>\n",
       "<td>0.4918033</td>\n",
       "<td>1.2192623</td>\n",
       "<td>0.2</td>\n",
       "<td>0.4958333</td>\n",
       "<td>0.0491803</td>\n",
       "<td>0.9754098</td>\n",
       "<td>-50.8196721</td>\n",
       "<td>21.9262295</td></tr>\n",
       "<tr><td></td>\n",
       "<td>15</td>\n",
       "<td>0.9</td>\n",
       "<td>0.1048264</td>\n",
       "<td>0.1639344</td>\n",
       "<td>1.1020036</td>\n",
       "<td>0.0666667</td>\n",
       "<td>0.4481481</td>\n",
       "<td>0.0163934</td>\n",
       "<td>0.9918033</td>\n",
       "<td>-83.6065574</td>\n",
       "<td>10.2003643</td></tr>\n",
       "<tr><td></td>\n",
       "<td>16</td>\n",
       "<td>1.0</td>\n",
       "<td>0.0008296</td>\n",
       "<td>0.0819672</td>\n",
       "<td>1.0</td>\n",
       "<td>0.0333333</td>\n",
       "<td>0.4066667</td>\n",
       "<td>0.0081967</td>\n",
       "<td>1.0</td>\n",
       "<td>-91.8032787</td>\n",
       "<td>0.0</td></tr></table></div>"
      ],
      "text/plain": [
       "    group    cumulative_data_fraction    lower_threshold    lift       cumulative_lift    response_rate    cumulative_response_rate    capture_rate    cumulative_capture_rate    gain      cumulative_gain\n",
       "--  -------  --------------------------  -----------------  ---------  -----------------  ---------------  --------------------------  --------------  -------------------------  --------  -----------------\n",
       "    1        0.01                        0.97888            2.45902    2.45902            1                1                           0.0245902       0.0245902                  145.902   145.902\n",
       "    2        0.02                        0.972356           2.45902    2.45902            1                1                           0.0245902       0.0491803                  145.902   145.902\n",
       "    3        0.03                        0.96038            2.45902    2.45902            1                1                           0.0245902       0.0737705                  145.902   145.902\n",
       "    4        0.04                        0.946807           2.45902    2.45902            1                1                           0.0245902       0.0983607                  145.902   145.902\n",
       "    5        0.05                        0.925155           2.45902    2.45902            1                1                           0.0245902       0.122951                   145.902   145.902\n",
       "    6        0.1                         0.820772           1.63934    2.04918            0.666667         0.833333                    0.0819672       0.204918                   63.9344   104.918\n",
       "    7        0.15                        0.73357            1.96721    2.02186            0.8              0.822222                    0.0983607       0.303279                   96.7213   102.186\n",
       "    8        0.2                         0.651047           1.63934    1.92623            0.666667         0.783333                    0.0819672       0.385246                   63.9344   92.623\n",
       "    9        0.3                         0.53251            1.39344    1.74863            0.566667         0.711111                    0.139344        0.52459                    39.3443   74.8634\n",
       "    10       0.4                         0.445689           1.72131    1.7418             0.7              0.708333                    0.172131        0.696721                   72.1311   74.1803\n",
       "    11       0.5                         0.350221           0.819672   1.55738            0.333333         0.633333                    0.0819672       0.778689                   -18.0328  55.7377\n",
       "    12       0.6                         0.270869           0.983607   1.46175            0.4              0.594444                    0.0983607       0.877049                   -1.63934  46.1749\n",
       "    13       0.7                         0.222988           0.491803   1.32319            0.2              0.538095                    0.0491803       0.92623                    -50.8197  32.3185\n",
       "    14       0.8                         0.159168           0.491803   1.21926            0.2              0.495833                    0.0491803       0.97541                    -50.8197  21.9262\n",
       "    15       0.9                         0.104826           0.163934   1.102              0.0666667        0.448148                    0.0163934       0.991803                   -83.6066  10.2004\n",
       "    16       1                           0.000829563        0.0819672  1                  0.0333333        0.406667                    0.00819672      1                          -91.8033  0"
      ]
     },
     "metadata": {},
     "output_type": "display_data"
    },
    {
     "name": "stdout",
     "output_type": "stream",
     "text": [
      "\n",
      "\n",
      "ModelMetricsBinomialGLM: glm\n",
      "** Reported on validation data. **\n",
      "\n",
      "MSE: 0.156113826234\n",
      "RMSE: 0.395112422272\n",
      "LogLoss: 0.473325434714\n",
      "Null degrees of freedom: 40\n",
      "Residual degrees of freedom: 32\n",
      "Null deviance: 54.1367869646\n",
      "Residual deviance: 38.8126856465\n",
      "AIC: 56.8126856465\n",
      "AUC: 0.848717948718\n",
      "Gini: 0.697435897436\n",
      "Confusion Matrix (Act/Pred) for max f1 @ threshold = 0.474497214428: \n"
     ]
    },
    {
     "data": {
      "text/html": [
       "<div style=\"overflow:auto\"><table style=\"width:50%\"><tr><td><b></b></td>\n",
       "<td><b>0</b></td>\n",
       "<td><b>1</b></td>\n",
       "<td><b>Error</b></td>\n",
       "<td><b>Rate</b></td></tr>\n",
       "<tr><td>0</td>\n",
       "<td>24.0</td>\n",
       "<td>2.0</td>\n",
       "<td>0.0769</td>\n",
       "<td> (2.0/26.0)</td></tr>\n",
       "<tr><td>1</td>\n",
       "<td>5.0</td>\n",
       "<td>10.0</td>\n",
       "<td>0.3333</td>\n",
       "<td> (5.0/15.0)</td></tr>\n",
       "<tr><td>Total</td>\n",
       "<td>29.0</td>\n",
       "<td>12.0</td>\n",
       "<td>0.1707</td>\n",
       "<td> (7.0/41.0)</td></tr></table></div>"
      ],
      "text/plain": [
       "       0    1    Error    Rate\n",
       "-----  ---  ---  -------  ----------\n",
       "0      24   2    0.0769   (2.0/26.0)\n",
       "1      5    10   0.3333   (5.0/15.0)\n",
       "Total  29   12   0.1707   (7.0/41.0)"
      ]
     },
     "metadata": {},
     "output_type": "display_data"
    },
    {
     "name": "stdout",
     "output_type": "stream",
     "text": [
      "Maximum Metrics: Maximum metrics at their respective thresholds\n",
      "\n"
     ]
    },
    {
     "data": {
      "text/html": [
       "<div style=\"overflow:auto\"><table style=\"width:50%\"><tr><td><b>metric</b></td>\n",
       "<td><b>threshold</b></td>\n",
       "<td><b>value</b></td>\n",
       "<td><b>idx</b></td></tr>\n",
       "<tr><td>max f1</td>\n",
       "<td>0.4744972</td>\n",
       "<td>0.7407407</td>\n",
       "<td>11.0</td></tr>\n",
       "<tr><td>max f2</td>\n",
       "<td>0.1889904</td>\n",
       "<td>0.8241758</td>\n",
       "<td>30.0</td></tr>\n",
       "<tr><td>max f0point5</td>\n",
       "<td>0.4744972</td>\n",
       "<td>0.7936508</td>\n",
       "<td>11.0</td></tr>\n",
       "<tr><td>max accuracy</td>\n",
       "<td>0.4744972</td>\n",
       "<td>0.8292683</td>\n",
       "<td>11.0</td></tr>\n",
       "<tr><td>max precision</td>\n",
       "<td>0.9581874</td>\n",
       "<td>1.0</td>\n",
       "<td>0.0</td></tr>\n",
       "<tr><td>max recall</td>\n",
       "<td>0.1889904</td>\n",
       "<td>1.0</td>\n",
       "<td>30.0</td></tr>\n",
       "<tr><td>max specificity</td>\n",
       "<td>0.9581874</td>\n",
       "<td>1.0</td>\n",
       "<td>0.0</td></tr>\n",
       "<tr><td>max absolute_mcc</td>\n",
       "<td>0.4744972</td>\n",
       "<td>0.6243181</td>\n",
       "<td>11.0</td></tr>\n",
       "<tr><td>max min_per_class_accuracy</td>\n",
       "<td>0.3637427</td>\n",
       "<td>0.7692308</td>\n",
       "<td>17.0</td></tr>\n",
       "<tr><td>max mean_per_class_accuracy</td>\n",
       "<td>0.4744972</td>\n",
       "<td>0.7948718</td>\n",
       "<td>11.0</td></tr></table></div>"
      ],
      "text/plain": [
       "metric                       threshold    value     idx\n",
       "---------------------------  -----------  --------  -----\n",
       "max f1                       0.474497     0.740741  11\n",
       "max f2                       0.18899      0.824176  30\n",
       "max f0point5                 0.474497     0.793651  11\n",
       "max accuracy                 0.474497     0.829268  11\n",
       "max precision                0.958187     1         0\n",
       "max recall                   0.18899      1         30\n",
       "max specificity              0.958187     1         0\n",
       "max absolute_mcc             0.474497     0.624318  11\n",
       "max min_per_class_accuracy   0.363743     0.769231  17\n",
       "max mean_per_class_accuracy  0.474497     0.794872  11"
      ]
     },
     "metadata": {},
     "output_type": "display_data"
    },
    {
     "name": "stdout",
     "output_type": "stream",
     "text": [
      "Gains/Lift Table: Avg response rate: 36.59 %\n",
      "\n"
     ]
    },
    {
     "data": {
      "text/html": [
       "<div style=\"overflow:auto\"><table style=\"width:50%\"><tr><td><b></b></td>\n",
       "<td><b>group</b></td>\n",
       "<td><b>cumulative_data_fraction</b></td>\n",
       "<td><b>lower_threshold</b></td>\n",
       "<td><b>lift</b></td>\n",
       "<td><b>cumulative_lift</b></td>\n",
       "<td><b>response_rate</b></td>\n",
       "<td><b>cumulative_response_rate</b></td>\n",
       "<td><b>capture_rate</b></td>\n",
       "<td><b>cumulative_capture_rate</b></td>\n",
       "<td><b>gain</b></td>\n",
       "<td><b>cumulative_gain</b></td></tr>\n",
       "<tr><td></td>\n",
       "<td>1</td>\n",
       "<td>0.0243902</td>\n",
       "<td>0.8826142</td>\n",
       "<td>2.7333333</td>\n",
       "<td>2.7333333</td>\n",
       "<td>1.0</td>\n",
       "<td>1.0</td>\n",
       "<td>0.0666667</td>\n",
       "<td>0.0666667</td>\n",
       "<td>173.3333333</td>\n",
       "<td>173.3333333</td></tr>\n",
       "<tr><td></td>\n",
       "<td>2</td>\n",
       "<td>0.0243902</td>\n",
       "<td>0.8070411</td>\n",
       "<td>0.0</td>\n",
       "<td>2.7333333</td>\n",
       "<td>0.0</td>\n",
       "<td>1.0</td>\n",
       "<td>0.0</td>\n",
       "<td>0.0666667</td>\n",
       "<td>-100.0</td>\n",
       "<td>173.3333333</td></tr>\n",
       "<tr><td></td>\n",
       "<td>3</td>\n",
       "<td>0.0487805</td>\n",
       "<td>0.7662521</td>\n",
       "<td>2.7333333</td>\n",
       "<td>2.7333333</td>\n",
       "<td>1.0</td>\n",
       "<td>1.0</td>\n",
       "<td>0.0666667</td>\n",
       "<td>0.1333333</td>\n",
       "<td>173.3333333</td>\n",
       "<td>173.3333333</td></tr>\n",
       "<tr><td></td>\n",
       "<td>4</td>\n",
       "<td>0.0487805</td>\n",
       "<td>0.7602473</td>\n",
       "<td>0.0</td>\n",
       "<td>2.7333333</td>\n",
       "<td>0.0</td>\n",
       "<td>1.0</td>\n",
       "<td>0.0</td>\n",
       "<td>0.1333333</td>\n",
       "<td>-100.0</td>\n",
       "<td>173.3333333</td></tr>\n",
       "<tr><td></td>\n",
       "<td>5</td>\n",
       "<td>0.0731707</td>\n",
       "<td>0.7542425</td>\n",
       "<td>2.7333333</td>\n",
       "<td>2.7333333</td>\n",
       "<td>1.0</td>\n",
       "<td>1.0</td>\n",
       "<td>0.0666667</td>\n",
       "<td>0.2</td>\n",
       "<td>173.3333333</td>\n",
       "<td>173.3333333</td></tr>\n",
       "<tr><td></td>\n",
       "<td>6</td>\n",
       "<td>0.1219512</td>\n",
       "<td>0.5871963</td>\n",
       "<td>1.3666667</td>\n",
       "<td>2.1866667</td>\n",
       "<td>0.5</td>\n",
       "<td>0.8</td>\n",
       "<td>0.0666667</td>\n",
       "<td>0.2666667</td>\n",
       "<td>36.6666667</td>\n",
       "<td>118.6666667</td></tr>\n",
       "<tr><td></td>\n",
       "<td>7</td>\n",
       "<td>0.1707317</td>\n",
       "<td>0.5747403</td>\n",
       "<td>2.7333333</td>\n",
       "<td>2.3428571</td>\n",
       "<td>1.0</td>\n",
       "<td>0.8571429</td>\n",
       "<td>0.1333333</td>\n",
       "<td>0.4</td>\n",
       "<td>173.3333333</td>\n",
       "<td>134.2857143</td></tr>\n",
       "<tr><td></td>\n",
       "<td>8</td>\n",
       "<td>0.2195122</td>\n",
       "<td>0.5263861</td>\n",
       "<td>1.3666667</td>\n",
       "<td>2.1259259</td>\n",
       "<td>0.5</td>\n",
       "<td>0.7777778</td>\n",
       "<td>0.0666667</td>\n",
       "<td>0.4666667</td>\n",
       "<td>36.6666667</td>\n",
       "<td>112.5925926</td></tr>\n",
       "<tr><td></td>\n",
       "<td>9</td>\n",
       "<td>0.3170732</td>\n",
       "<td>0.4229667</td>\n",
       "<td>2.05</td>\n",
       "<td>2.1025641</td>\n",
       "<td>0.75</td>\n",
       "<td>0.7692308</td>\n",
       "<td>0.2</td>\n",
       "<td>0.6666667</td>\n",
       "<td>105.0</td>\n",
       "<td>110.2564103</td></tr>\n",
       "<tr><td></td>\n",
       "<td>10</td>\n",
       "<td>0.4146341</td>\n",
       "<td>0.3868156</td>\n",
       "<td>0.6833333</td>\n",
       "<td>1.7686275</td>\n",
       "<td>0.25</td>\n",
       "<td>0.6470588</td>\n",
       "<td>0.0666667</td>\n",
       "<td>0.7333333</td>\n",
       "<td>-31.6666667</td>\n",
       "<td>76.8627451</td></tr>\n",
       "<tr><td></td>\n",
       "<td>11</td>\n",
       "<td>0.5121951</td>\n",
       "<td>0.3131088</td>\n",
       "<td>0.6833333</td>\n",
       "<td>1.5619048</td>\n",
       "<td>0.25</td>\n",
       "<td>0.5714286</td>\n",
       "<td>0.0666667</td>\n",
       "<td>0.8</td>\n",
       "<td>-31.6666667</td>\n",
       "<td>56.1904762</td></tr>\n",
       "<tr><td></td>\n",
       "<td>12</td>\n",
       "<td>0.6097561</td>\n",
       "<td>0.2636448</td>\n",
       "<td>0.6833333</td>\n",
       "<td>1.4213333</td>\n",
       "<td>0.25</td>\n",
       "<td>0.52</td>\n",
       "<td>0.0666667</td>\n",
       "<td>0.8666667</td>\n",
       "<td>-31.6666667</td>\n",
       "<td>42.1333333</td></tr>\n",
       "<tr><td></td>\n",
       "<td>13</td>\n",
       "<td>0.7073171</td>\n",
       "<td>0.2089570</td>\n",
       "<td>0.6833333</td>\n",
       "<td>1.3195402</td>\n",
       "<td>0.25</td>\n",
       "<td>0.4827586</td>\n",
       "<td>0.0666667</td>\n",
       "<td>0.9333333</td>\n",
       "<td>-31.6666667</td>\n",
       "<td>31.9540230</td></tr>\n",
       "<tr><td></td>\n",
       "<td>14</td>\n",
       "<td>0.8048780</td>\n",
       "<td>0.1760137</td>\n",
       "<td>0.6833333</td>\n",
       "<td>1.2424242</td>\n",
       "<td>0.25</td>\n",
       "<td>0.4545455</td>\n",
       "<td>0.0666667</td>\n",
       "<td>1.0</td>\n",
       "<td>-31.6666667</td>\n",
       "<td>24.2424242</td></tr>\n",
       "<tr><td></td>\n",
       "<td>15</td>\n",
       "<td>0.9024390</td>\n",
       "<td>0.0945731</td>\n",
       "<td>0.0</td>\n",
       "<td>1.1081081</td>\n",
       "<td>0.0</td>\n",
       "<td>0.4054054</td>\n",
       "<td>0.0</td>\n",
       "<td>1.0</td>\n",
       "<td>-100.0</td>\n",
       "<td>10.8108108</td></tr>\n",
       "<tr><td></td>\n",
       "<td>16</td>\n",
       "<td>1.0</td>\n",
       "<td>0.0007601</td>\n",
       "<td>0.0</td>\n",
       "<td>1.0</td>\n",
       "<td>0.0</td>\n",
       "<td>0.3658537</td>\n",
       "<td>0.0</td>\n",
       "<td>1.0</td>\n",
       "<td>-100.0</td>\n",
       "<td>0.0</td></tr></table></div>"
      ],
      "text/plain": [
       "    group    cumulative_data_fraction    lower_threshold    lift      cumulative_lift    response_rate    cumulative_response_rate    capture_rate    cumulative_capture_rate    gain      cumulative_gain\n",
       "--  -------  --------------------------  -----------------  --------  -----------------  ---------------  --------------------------  --------------  -------------------------  --------  -----------------\n",
       "    1        0.0243902                   0.882614           2.73333   2.73333            1                1                           0.0666667       0.0666667                  173.333   173.333\n",
       "    2        0.0243902                   0.807041           0         2.73333            0                1                           0               0.0666667                  -100      173.333\n",
       "    3        0.0487805                   0.766252           2.73333   2.73333            1                1                           0.0666667       0.133333                   173.333   173.333\n",
       "    4        0.0487805                   0.760247           0         2.73333            0                1                           0               0.133333                   -100      173.333\n",
       "    5        0.0731707                   0.754242           2.73333   2.73333            1                1                           0.0666667       0.2                        173.333   173.333\n",
       "    6        0.121951                    0.587196           1.36667   2.18667            0.5              0.8                         0.0666667       0.266667                   36.6667   118.667\n",
       "    7        0.170732                    0.57474            2.73333   2.34286            1                0.857143                    0.133333        0.4                        173.333   134.286\n",
       "    8        0.219512                    0.526386           1.36667   2.12593            0.5              0.777778                    0.0666667       0.466667                   36.6667   112.593\n",
       "    9        0.317073                    0.422967           2.05      2.10256            0.75             0.769231                    0.2             0.666667                   105       110.256\n",
       "    10       0.414634                    0.386816           0.683333  1.76863            0.25             0.647059                    0.0666667       0.733333                   -31.6667  76.8627\n",
       "    11       0.512195                    0.313109           0.683333  1.5619             0.25             0.571429                    0.0666667       0.8                        -31.6667  56.1905\n",
       "    12       0.609756                    0.263645           0.683333  1.42133            0.25             0.52                        0.0666667       0.866667                   -31.6667  42.1333\n",
       "    13       0.707317                    0.208957           0.683333  1.31954            0.25             0.482759                    0.0666667       0.933333                   -31.6667  31.954\n",
       "    14       0.804878                    0.176014           0.683333  1.24242            0.25             0.454545                    0.0666667       1                          -31.6667  24.2424\n",
       "    15       0.902439                    0.0945731          0         1.10811            0                0.405405                    0               1                          -100      10.8108\n",
       "    16       1                           0.00076007         0         1                  0                0.365854                    0               1                          -100      0"
      ]
     },
     "metadata": {},
     "output_type": "display_data"
    },
    {
     "name": "stdout",
     "output_type": "stream",
     "text": [
      "\n"
     ]
    },
    {
     "data": {
      "text/plain": [
       "{u'__meta': {u'schema_name': u'GLMModelV3',\n",
       "  u'schema_type': u'GLMModel',\n",
       "  u'schema_version': 3},\n",
       " u'algo': u'glm',\n",
       " u'algo_full_name': u'Generalized Linear Modeling',\n",
       " u'compatible_frames': None,\n",
       " u'data_frame': {u'URL': u'/3/Frames/py_13_sid_9e0f',\n",
       "  u'__meta': {u'schema_name': u'FrameKeyV3',\n",
       "   u'schema_type': u'Key<Frame>',\n",
       "   u'schema_version': 3},\n",
       "  u'name': u'py_13_sid_9e0f',\n",
       "  u'type': u'Key<Frame>'},\n",
       " u'model_id': {u'URL': u'/3/Models/glm_model_with_training_and_validtion_python',\n",
       "  u'__meta': {u'schema_name': u'ModelKeyV3',\n",
       "   u'schema_type': u'Key<Model>',\n",
       "   u'schema_version': 3},\n",
       "  u'name': u'glm_model_with_training_and_validtion_python',\n",
       "  u'type': u'Key<Model>'},\n",
       " u'output': {u'__meta': {u'schema_name': u'GLMModelOutputV3',\n",
       "   u'schema_type': u'GLMOutput',\n",
       "   u'schema_version': 3},\n",
       "  u'coefficients_table': ,\n",
       "  u'cross_validation_fold_assignment_frame_id': None,\n",
       "  u'cross_validation_holdout_predictions_frame_id': None,\n",
       "  u'cross_validation_metrics': None,\n",
       "  u'cross_validation_metrics_summary': None,\n",
       "  u'cross_validation_models': None,\n",
       "  u'cross_validation_predictions': None,\n",
       "  u'domains': [None, None, None, None, None, None, None, None, None],\n",
       "  u'end_time': 1510613840879,\n",
       "  u'help': {u'__meta': u'Metadata on this schema instance, to make it self-describing.',\n",
       "   u'coefficients_table': u'Table of Coefficients',\n",
       "   u'cross_validation_fold_assignment_frame_id': u'Cross-validation fold assignment (each row is assigned to one holdout fold)',\n",
       "   u'cross_validation_holdout_predictions_frame_id': u'Cross-validation holdout predictions (full out-of-sample predictions on training data)',\n",
       "   u'cross_validation_metrics': u'Cross-validation model metrics',\n",
       "   u'cross_validation_metrics_summary': u'Cross-validation model metrics summary',\n",
       "   u'cross_validation_models': u'Cross-validation models (model ids)',\n",
       "   u'cross_validation_predictions': u'Cross-validation predictions, one per cv model (deprecated, use cross_validation_holdout_predictions_frame_id instead)',\n",
       "   u'domains': u'Domains for categorical columns',\n",
       "   u'end_time': u'End time in milliseconds',\n",
       "   u'help': u'Help information for output fields',\n",
       "   u'lambda_1se': u'Lambda best + 1 standard error. Only applicable with lambda search and cross-validation',\n",
       "   u'lambda_best': u'Lambda minimizing the objective value, only applicable with lambd search',\n",
       "   u'model_category': u'Category of the model (e.g., Binomial)',\n",
       "   u'model_summary': u'Model summary',\n",
       "   u'names': u'Column names',\n",
       "   u'run_time': u'Runtime in milliseconds',\n",
       "   u'scoring_history': u'Scoring history',\n",
       "   u'standardized_coefficient_magnitudes': u'Standardized Coefficient Magnitudes',\n",
       "   u'start_time': u'Start time in milliseconds',\n",
       "   u'status': u'Job status',\n",
       "   u'training_metrics': u'Training data model metrics',\n",
       "   u'validation_metrics': u'Validation data model metrics'},\n",
       "  u'lambda_1se': -1.0,\n",
       "  u'lambda_best': 0.00044142877601373055,\n",
       "  u'model_category': u'Binomial',\n",
       "  u'model_summary': ,\n",
       "  u'names': [u'ID',\n",
       "   u'AGE',\n",
       "   u'RACE',\n",
       "   u'DPROS',\n",
       "   u'DCAPS',\n",
       "   u'PSA',\n",
       "   u'VOL',\n",
       "   u'GLEASON',\n",
       "   u'CAPSULE'],\n",
       "  u'run_time': 9,\n",
       "  u'scoring_history': ,\n",
       "  u'standardized_coefficient_magnitudes': ,\n",
       "  u'start_time': 1510613840870,\n",
       "  u'status': None,\n",
       "  u'training_metrics': ,\n",
       "  u'validation_metrics': },\n",
       " u'parameters': [{u'__meta': {u'schema_name': u'ModelParameterSchemaV3',\n",
       "    u'schema_type': u'Iced',\n",
       "    u'schema_version': 3},\n",
       "   u'actual_value': {u'URL': u'/3/Models/glm_model_with_training_and_validtion_python',\n",
       "    u'__meta': {u'schema_name': u'ModelKeyV3',\n",
       "     u'schema_type': u'Key<Model>',\n",
       "     u'schema_version': 3},\n",
       "    u'name': u'glm_model_with_training_and_validtion_python',\n",
       "    u'type': u'Key<Model>'},\n",
       "   u'default_value': None,\n",
       "   u'gridable': False,\n",
       "   u'help': u'Destination id for this model; auto-generated if not specified.',\n",
       "   u'is_member_of_frames': [],\n",
       "   u'is_mutually_exclusive_with': [],\n",
       "   u'label': u'model_id',\n",
       "   u'level': u'critical',\n",
       "   u'name': u'model_id',\n",
       "   u'required': False,\n",
       "   u'type': u'Key<Model>',\n",
       "   u'values': []},\n",
       "  {u'__meta': {u'schema_name': u'ModelParameterSchemaV3',\n",
       "    u'schema_type': u'Iced',\n",
       "    u'schema_version': 3},\n",
       "   u'actual_value': {u'URL': u'/3/Frames/py_13_sid_9e0f',\n",
       "    u'__meta': {u'schema_name': u'FrameKeyV3',\n",
       "     u'schema_type': u'Key<Frame>',\n",
       "     u'schema_version': 3},\n",
       "    u'name': u'py_13_sid_9e0f',\n",
       "    u'type': u'Key<Frame>'},\n",
       "   u'default_value': None,\n",
       "   u'gridable': False,\n",
       "   u'help': u'Id of the training data frame (Not required, to allow initial validation of model parameters).',\n",
       "   u'is_member_of_frames': [],\n",
       "   u'is_mutually_exclusive_with': [],\n",
       "   u'label': u'training_frame',\n",
       "   u'level': u'critical',\n",
       "   u'name': u'training_frame',\n",
       "   u'required': False,\n",
       "   u'type': u'Key<Frame>',\n",
       "   u'values': []},\n",
       "  {u'__meta': {u'schema_name': u'ModelParameterSchemaV3',\n",
       "    u'schema_type': u'Iced',\n",
       "    u'schema_version': 3},\n",
       "   u'actual_value': {u'URL': u'/3/Frames/py_14_sid_9e0f',\n",
       "    u'__meta': {u'schema_name': u'FrameKeyV3',\n",
       "     u'schema_type': u'Key<Frame>',\n",
       "     u'schema_version': 3},\n",
       "    u'name': u'py_14_sid_9e0f',\n",
       "    u'type': u'Key<Frame>'},\n",
       "   u'default_value': None,\n",
       "   u'gridable': True,\n",
       "   u'help': u'Id of the validation data frame.',\n",
       "   u'is_member_of_frames': [],\n",
       "   u'is_mutually_exclusive_with': [],\n",
       "   u'label': u'validation_frame',\n",
       "   u'level': u'critical',\n",
       "   u'name': u'validation_frame',\n",
       "   u'required': False,\n",
       "   u'type': u'Key<Frame>',\n",
       "   u'values': []},\n",
       "  {u'__meta': {u'schema_name': u'ModelParameterSchemaV3',\n",
       "    u'schema_type': u'Iced',\n",
       "    u'schema_version': 3},\n",
       "   u'actual_value': 0,\n",
       "   u'default_value': 0,\n",
       "   u'gridable': False,\n",
       "   u'help': u'Number of folds for N-fold cross-validation (0 to disable or >= 2).',\n",
       "   u'is_member_of_frames': [],\n",
       "   u'is_mutually_exclusive_with': [],\n",
       "   u'label': u'nfolds',\n",
       "   u'level': u'critical',\n",
       "   u'name': u'nfolds',\n",
       "   u'required': False,\n",
       "   u'type': u'int',\n",
       "   u'values': []},\n",
       "  {u'__meta': {u'schema_name': u'ModelParameterSchemaV3',\n",
       "    u'schema_type': u'Iced',\n",
       "    u'schema_version': 3},\n",
       "   u'actual_value': -7483656011822379867,\n",
       "   u'default_value': -1,\n",
       "   u'gridable': True,\n",
       "   u'help': u'Seed for pseudo random number generator (if applicable)',\n",
       "   u'is_member_of_frames': [],\n",
       "   u'is_mutually_exclusive_with': [],\n",
       "   u'label': u'seed',\n",
       "   u'level': u'critical',\n",
       "   u'name': u'seed',\n",
       "   u'required': False,\n",
       "   u'type': u'long',\n",
       "   u'values': []},\n",
       "  {u'__meta': {u'schema_name': u'ModelParameterSchemaV3',\n",
       "    u'schema_type': u'Iced',\n",
       "    u'schema_version': 3},\n",
       "   u'actual_value': False,\n",
       "   u'default_value': False,\n",
       "   u'gridable': False,\n",
       "   u'help': u'Whether to keep the predictions of the cross-validation models.',\n",
       "   u'is_member_of_frames': [],\n",
       "   u'is_mutually_exclusive_with': [],\n",
       "   u'label': u'keep_cross_validation_predictions',\n",
       "   u'level': u'expert',\n",
       "   u'name': u'keep_cross_validation_predictions',\n",
       "   u'required': False,\n",
       "   u'type': u'boolean',\n",
       "   u'values': []},\n",
       "  {u'__meta': {u'schema_name': u'ModelParameterSchemaV3',\n",
       "    u'schema_type': u'Iced',\n",
       "    u'schema_version': 3},\n",
       "   u'actual_value': False,\n",
       "   u'default_value': False,\n",
       "   u'gridable': False,\n",
       "   u'help': u'Whether to keep the cross-validation fold assignment.',\n",
       "   u'is_member_of_frames': [],\n",
       "   u'is_mutually_exclusive_with': [],\n",
       "   u'label': u'keep_cross_validation_fold_assignment',\n",
       "   u'level': u'expert',\n",
       "   u'name': u'keep_cross_validation_fold_assignment',\n",
       "   u'required': False,\n",
       "   u'type': u'boolean',\n",
       "   u'values': []},\n",
       "  {u'__meta': {u'schema_name': u'ModelParameterSchemaV3',\n",
       "    u'schema_type': u'Iced',\n",
       "    u'schema_version': 3},\n",
       "   u'actual_value': u'AUTO',\n",
       "   u'default_value': u'AUTO',\n",
       "   u'gridable': True,\n",
       "   u'help': u\"Cross-validation fold assignment scheme, if fold_column is not specified. The 'Stratified' option will stratify the folds based on the response variable, for classification problems.\",\n",
       "   u'is_member_of_frames': [],\n",
       "   u'is_mutually_exclusive_with': [],\n",
       "   u'label': u'fold_assignment',\n",
       "   u'level': u'secondary',\n",
       "   u'name': u'fold_assignment',\n",
       "   u'required': False,\n",
       "   u'type': u'enum',\n",
       "   u'values': [u'AUTO', u'Random', u'Modulo', u'Stratified']},\n",
       "  {u'__meta': {u'schema_name': u'ModelParameterSchemaV3',\n",
       "    u'schema_type': u'Iced',\n",
       "    u'schema_version': 3},\n",
       "   u'actual_value': None,\n",
       "   u'default_value': None,\n",
       "   u'gridable': True,\n",
       "   u'help': u'Column with cross-validation fold index assignment per observation.',\n",
       "   u'is_member_of_frames': [u'training_frame'],\n",
       "   u'is_mutually_exclusive_with': [u'response_column',\n",
       "    u'weights_column',\n",
       "    u'ignored_columns',\n",
       "    u'offset_column'],\n",
       "   u'label': u'fold_column',\n",
       "   u'level': u'secondary',\n",
       "   u'name': u'fold_column',\n",
       "   u'required': False,\n",
       "   u'type': u'VecSpecifier',\n",
       "   u'values': []},\n",
       "  {u'__meta': {u'schema_name': u'ModelParameterSchemaV3',\n",
       "    u'schema_type': u'Iced',\n",
       "    u'schema_version': 3},\n",
       "   u'actual_value': {u'__meta': {u'schema_name': u'ColSpecifierV3',\n",
       "     u'schema_type': u'VecSpecifier',\n",
       "     u'schema_version': 3},\n",
       "    u'column_name': u'CAPSULE',\n",
       "    u'is_member_of_frames': None},\n",
       "   u'default_value': None,\n",
       "   u'gridable': True,\n",
       "   u'help': u'Response variable column.',\n",
       "   u'is_member_of_frames': [u'training_frame', u'validation_frame'],\n",
       "   u'is_mutually_exclusive_with': [u'weights_column',\n",
       "    u'ignored_columns',\n",
       "    u'offset_column',\n",
       "    u'fold_column'],\n",
       "   u'label': u'response_column',\n",
       "   u'level': u'critical',\n",
       "   u'name': u'response_column',\n",
       "   u'required': False,\n",
       "   u'type': u'VecSpecifier',\n",
       "   u'values': []},\n",
       "  {u'__meta': {u'schema_name': u'ModelParameterSchemaV3',\n",
       "    u'schema_type': u'Iced',\n",
       "    u'schema_version': 3},\n",
       "   u'actual_value': None,\n",
       "   u'default_value': None,\n",
       "   u'gridable': False,\n",
       "   u'help': u'Names of columns to ignore for training.',\n",
       "   u'is_member_of_frames': [u'training_frame', u'validation_frame'],\n",
       "   u'is_mutually_exclusive_with': [u'response_column',\n",
       "    u'weights_column',\n",
       "    u'offset_column',\n",
       "    u'fold_column'],\n",
       "   u'label': u'ignored_columns',\n",
       "   u'level': u'critical',\n",
       "   u'name': u'ignored_columns',\n",
       "   u'required': False,\n",
       "   u'type': u'string[]',\n",
       "   u'values': []},\n",
       "  {u'__meta': {u'schema_name': u'ModelParameterSchemaV3',\n",
       "    u'schema_type': u'Iced',\n",
       "    u'schema_version': 3},\n",
       "   u'actual_value': True,\n",
       "   u'default_value': True,\n",
       "   u'gridable': False,\n",
       "   u'help': u'Ignore constant columns.',\n",
       "   u'is_member_of_frames': [],\n",
       "   u'is_mutually_exclusive_with': [],\n",
       "   u'label': u'ignore_const_cols',\n",
       "   u'level': u'critical',\n",
       "   u'name': u'ignore_const_cols',\n",
       "   u'required': False,\n",
       "   u'type': u'boolean',\n",
       "   u'values': []},\n",
       "  {u'__meta': {u'schema_name': u'ModelParameterSchemaV3',\n",
       "    u'schema_type': u'Iced',\n",
       "    u'schema_version': 3},\n",
       "   u'actual_value': False,\n",
       "   u'default_value': False,\n",
       "   u'gridable': False,\n",
       "   u'help': u'Whether to score during each iteration of model training.',\n",
       "   u'is_member_of_frames': [],\n",
       "   u'is_mutually_exclusive_with': [],\n",
       "   u'label': u'score_each_iteration',\n",
       "   u'level': u'secondary',\n",
       "   u'name': u'score_each_iteration',\n",
       "   u'required': False,\n",
       "   u'type': u'boolean',\n",
       "   u'values': []},\n",
       "  {u'__meta': {u'schema_name': u'ModelParameterSchemaV3',\n",
       "    u'schema_type': u'Iced',\n",
       "    u'schema_version': 3},\n",
       "   u'actual_value': None,\n",
       "   u'default_value': None,\n",
       "   u'gridable': True,\n",
       "   u'help': u'Offset column. This will be added to the combination of columns before applying the link function.',\n",
       "   u'is_member_of_frames': [u'training_frame', u'validation_frame'],\n",
       "   u'is_mutually_exclusive_with': [u'response_column',\n",
       "    u'weights_column',\n",
       "    u'ignored_columns',\n",
       "    u'fold_column'],\n",
       "   u'label': u'offset_column',\n",
       "   u'level': u'secondary',\n",
       "   u'name': u'offset_column',\n",
       "   u'required': False,\n",
       "   u'type': u'VecSpecifier',\n",
       "   u'values': []},\n",
       "  {u'__meta': {u'schema_name': u'ModelParameterSchemaV3',\n",
       "    u'schema_type': u'Iced',\n",
       "    u'schema_version': 3},\n",
       "   u'actual_value': None,\n",
       "   u'default_value': None,\n",
       "   u'gridable': True,\n",
       "   u'help': u'Column with observation weights. Giving some observation a weight of zero is equivalent to excluding it from the dataset; giving an observation a relative weight of 2 is equivalent to repeating that row twice. Negative weights are not allowed.',\n",
       "   u'is_member_of_frames': [u'training_frame', u'validation_frame'],\n",
       "   u'is_mutually_exclusive_with': [u'response_column',\n",
       "    u'ignored_columns',\n",
       "    u'offset_column',\n",
       "    u'fold_column'],\n",
       "   u'label': u'weights_column',\n",
       "   u'level': u'secondary',\n",
       "   u'name': u'weights_column',\n",
       "   u'required': False,\n",
       "   u'type': u'VecSpecifier',\n",
       "   u'values': []},\n",
       "  {u'__meta': {u'schema_name': u'ModelParameterSchemaV3',\n",
       "    u'schema_type': u'Iced',\n",
       "    u'schema_version': 3},\n",
       "   u'actual_value': u'binomial',\n",
       "   u'default_value': u'gaussian',\n",
       "   u'gridable': False,\n",
       "   u'help': u'Family. Use binomial for classification with logistic regression, others are for regression problems.',\n",
       "   u'is_member_of_frames': [],\n",
       "   u'is_mutually_exclusive_with': [],\n",
       "   u'label': u'family',\n",
       "   u'level': u'critical',\n",
       "   u'name': u'family',\n",
       "   u'required': False,\n",
       "   u'type': u'enum',\n",
       "   u'values': [u'gaussian',\n",
       "    u'binomial',\n",
       "    u'quasibinomial',\n",
       "    u'multinomial',\n",
       "    u'poisson',\n",
       "    u'gamma',\n",
       "    u'tweedie']},\n",
       "  {u'__meta': {u'schema_name': u'ModelParameterSchemaV3',\n",
       "    u'schema_type': u'Iced',\n",
       "    u'schema_version': 3},\n",
       "   u'actual_value': 0.0,\n",
       "   u'default_value': 0.0,\n",
       "   u'gridable': True,\n",
       "   u'help': u'Tweedie variance power',\n",
       "   u'is_member_of_frames': [],\n",
       "   u'is_mutually_exclusive_with': [],\n",
       "   u'label': u'tweedie_variance_power',\n",
       "   u'level': u'critical',\n",
       "   u'name': u'tweedie_variance_power',\n",
       "   u'required': False,\n",
       "   u'type': u'double',\n",
       "   u'values': []},\n",
       "  {u'__meta': {u'schema_name': u'ModelParameterSchemaV3',\n",
       "    u'schema_type': u'Iced',\n",
       "    u'schema_version': 3},\n",
       "   u'actual_value': 1.0,\n",
       "   u'default_value': 1.0,\n",
       "   u'gridable': True,\n",
       "   u'help': u'Tweedie link power',\n",
       "   u'is_member_of_frames': [],\n",
       "   u'is_mutually_exclusive_with': [],\n",
       "   u'label': u'tweedie_link_power',\n",
       "   u'level': u'critical',\n",
       "   u'name': u'tweedie_link_power',\n",
       "   u'required': False,\n",
       "   u'type': u'double',\n",
       "   u'values': []},\n",
       "  {u'__meta': {u'schema_name': u'ModelParameterSchemaV3',\n",
       "    u'schema_type': u'Iced',\n",
       "    u'schema_version': 3},\n",
       "   u'actual_value': u'IRLSM',\n",
       "   u'default_value': u'AUTO',\n",
       "   u'gridable': False,\n",
       "   u'help': u'AUTO will set the solver based on given data and the other parameters. IRLSM is fast on on problems with small number of predictors and for lambda-search with L1 penalty, L_BFGS scales better for datasets with many columns. Coordinate descent is experimental (beta).',\n",
       "   u'is_member_of_frames': [],\n",
       "   u'is_mutually_exclusive_with': [],\n",
       "   u'label': u'solver',\n",
       "   u'level': u'critical',\n",
       "   u'name': u'solver',\n",
       "   u'required': False,\n",
       "   u'type': u'enum',\n",
       "   u'values': [u'AUTO',\n",
       "    u'IRLSM',\n",
       "    u'L_BFGS',\n",
       "    u'COORDINATE_DESCENT_NAIVE',\n",
       "    u'COORDINATE_DESCENT']},\n",
       "  {u'__meta': {u'schema_name': u'ModelParameterSchemaV3',\n",
       "    u'schema_type': u'Iced',\n",
       "    u'schema_version': 3},\n",
       "   u'actual_value': [0.5],\n",
       "   u'default_value': None,\n",
       "   u'gridable': True,\n",
       "   u'help': u\"Distribution of regularization between the L1 (Lasso) and L2 (Ridge) penalties. A value of 1 for alpha represents Lasso regression, a value of 0 produces Ridge regression, and anything in between specifies the amount of mixing between the two. Default value of alpha is 0 when SOLVER = 'L-BFGS'; 0.5 otherwise.\",\n",
       "   u'is_member_of_frames': [],\n",
       "   u'is_mutually_exclusive_with': [],\n",
       "   u'label': u'alpha',\n",
       "   u'level': u'critical',\n",
       "   u'name': u'alpha',\n",
       "   u'required': False,\n",
       "   u'type': u'double[]',\n",
       "   u'values': []},\n",
       "  {u'__meta': {u'schema_name': u'ModelParameterSchemaV3',\n",
       "    u'schema_type': u'Iced',\n",
       "    u'schema_version': 3},\n",
       "   u'actual_value': [0.00044142877601373055],\n",
       "   u'default_value': None,\n",
       "   u'gridable': True,\n",
       "   u'help': u'Regularization strength',\n",
       "   u'is_member_of_frames': [],\n",
       "   u'is_mutually_exclusive_with': [],\n",
       "   u'label': u'lambda',\n",
       "   u'level': u'critical',\n",
       "   u'name': u'lambda',\n",
       "   u'required': False,\n",
       "   u'type': u'double[]',\n",
       "   u'values': []},\n",
       "  {u'__meta': {u'schema_name': u'ModelParameterSchemaV3',\n",
       "    u'schema_type': u'Iced',\n",
       "    u'schema_version': 3},\n",
       "   u'actual_value': False,\n",
       "   u'default_value': False,\n",
       "   u'gridable': False,\n",
       "   u'help': u'Use lambda search starting at lambda max, given lambda is then interpreted as lambda min',\n",
       "   u'is_member_of_frames': [],\n",
       "   u'is_mutually_exclusive_with': [],\n",
       "   u'label': u'lambda_search',\n",
       "   u'level': u'critical',\n",
       "   u'name': u'lambda_search',\n",
       "   u'required': False,\n",
       "   u'type': u'boolean',\n",
       "   u'values': []},\n",
       "  {u'__meta': {u'schema_name': u'ModelParameterSchemaV3',\n",
       "    u'schema_type': u'Iced',\n",
       "    u'schema_version': 3},\n",
       "   u'actual_value': True,\n",
       "   u'default_value': True,\n",
       "   u'gridable': False,\n",
       "   u'help': u'Stop early when there is no more relative improvement on train or validation (if provided)',\n",
       "   u'is_member_of_frames': [],\n",
       "   u'is_mutually_exclusive_with': [],\n",
       "   u'label': u'early_stopping',\n",
       "   u'level': u'critical',\n",
       "   u'name': u'early_stopping',\n",
       "   u'required': False,\n",
       "   u'type': u'boolean',\n",
       "   u'values': []},\n",
       "  {u'__meta': {u'schema_name': u'ModelParameterSchemaV3',\n",
       "    u'schema_type': u'Iced',\n",
       "    u'schema_version': 3},\n",
       "   u'actual_value': -1,\n",
       "   u'default_value': -1,\n",
       "   u'gridable': False,\n",
       "   u'help': u'Number of lambdas to be used in a search. Default indicates: If alpha is zero, with lambda search set to True, the value of nlamdas is set to 30 (fewer lambdas are needed for ridge regression) otherwise it is set to 100.',\n",
       "   u'is_member_of_frames': [],\n",
       "   u'is_mutually_exclusive_with': [],\n",
       "   u'label': u'nlambdas',\n",
       "   u'level': u'critical',\n",
       "   u'name': u'nlambdas',\n",
       "   u'required': False,\n",
       "   u'type': u'int',\n",
       "   u'values': []},\n",
       "  {u'__meta': {u'schema_name': u'ModelParameterSchemaV3',\n",
       "    u'schema_type': u'Iced',\n",
       "    u'schema_version': 3},\n",
       "   u'actual_value': True,\n",
       "   u'default_value': True,\n",
       "   u'gridable': False,\n",
       "   u'help': u'Standardize numeric columns to have zero mean and unit variance',\n",
       "   u'is_member_of_frames': [],\n",
       "   u'is_mutually_exclusive_with': [],\n",
       "   u'label': u'standardize',\n",
       "   u'level': u'critical',\n",
       "   u'name': u'standardize',\n",
       "   u'required': False,\n",
       "   u'type': u'boolean',\n",
       "   u'values': []},\n",
       "  {u'__meta': {u'schema_name': u'ModelParameterSchemaV3',\n",
       "    u'schema_type': u'Iced',\n",
       "    u'schema_version': 3},\n",
       "   u'actual_value': u'MeanImputation',\n",
       "   u'default_value': u'MeanImputation',\n",
       "   u'gridable': True,\n",
       "   u'help': u'Handling of missing values. Either MeanImputation or Skip.',\n",
       "   u'is_member_of_frames': [],\n",
       "   u'is_mutually_exclusive_with': [],\n",
       "   u'label': u'missing_values_handling',\n",
       "   u'level': u'expert',\n",
       "   u'name': u'missing_values_handling',\n",
       "   u'required': False,\n",
       "   u'type': u'enum',\n",
       "   u'values': [u'MeanImputation', u'Skip']},\n",
       "  {u'__meta': {u'schema_name': u'ModelParameterSchemaV3',\n",
       "    u'schema_type': u'Iced',\n",
       "    u'schema_version': 3},\n",
       "   u'actual_value': False,\n",
       "   u'default_value': False,\n",
       "   u'gridable': False,\n",
       "   u'help': u'Request p-values computation, p-values work only with IRLSM solver and no regularization',\n",
       "   u'is_member_of_frames': [],\n",
       "   u'is_mutually_exclusive_with': [],\n",
       "   u'label': u'compute_p_values',\n",
       "   u'level': u'secondary',\n",
       "   u'name': u'compute_p_values',\n",
       "   u'required': False,\n",
       "   u'type': u'boolean',\n",
       "   u'values': []},\n",
       "  {u'__meta': {u'schema_name': u'ModelParameterSchemaV3',\n",
       "    u'schema_type': u'Iced',\n",
       "    u'schema_version': 3},\n",
       "   u'actual_value': False,\n",
       "   u'default_value': False,\n",
       "   u'gridable': False,\n",
       "   u'help': u'In case of linearly dependent columns, remove some of the dependent columns',\n",
       "   u'is_member_of_frames': [],\n",
       "   u'is_mutually_exclusive_with': [],\n",
       "   u'label': u'remove_collinear_columns',\n",
       "   u'level': u'secondary',\n",
       "   u'name': u'remove_collinear_columns',\n",
       "   u'required': False,\n",
       "   u'type': u'boolean',\n",
       "   u'values': []},\n",
       "  {u'__meta': {u'schema_name': u'ModelParameterSchemaV3',\n",
       "    u'schema_type': u'Iced',\n",
       "    u'schema_version': 3},\n",
       "   u'actual_value': True,\n",
       "   u'default_value': True,\n",
       "   u'gridable': False,\n",
       "   u'help': u'Include constant term in the model',\n",
       "   u'is_member_of_frames': [],\n",
       "   u'is_mutually_exclusive_with': [],\n",
       "   u'label': u'intercept',\n",
       "   u'level': u'expert',\n",
       "   u'name': u'intercept',\n",
       "   u'required': False,\n",
       "   u'type': u'boolean',\n",
       "   u'values': []},\n",
       "  {u'__meta': {u'schema_name': u'ModelParameterSchemaV3',\n",
       "    u'schema_type': u'Iced',\n",
       "    u'schema_version': 3},\n",
       "   u'actual_value': False,\n",
       "   u'default_value': False,\n",
       "   u'gridable': False,\n",
       "   u'help': u'Restrict coefficients (not intercept) to be non-negative',\n",
       "   u'is_member_of_frames': [],\n",
       "   u'is_mutually_exclusive_with': [],\n",
       "   u'label': u'non_negative',\n",
       "   u'level': u'critical',\n",
       "   u'name': u'non_negative',\n",
       "   u'required': False,\n",
       "   u'type': u'boolean',\n",
       "   u'values': []},\n",
       "  {u'__meta': {u'schema_name': u'ModelParameterSchemaV3',\n",
       "    u'schema_type': u'Iced',\n",
       "    u'schema_version': 3},\n",
       "   u'actual_value': 50,\n",
       "   u'default_value': -1,\n",
       "   u'gridable': False,\n",
       "   u'help': u'Maximum number of iterations',\n",
       "   u'is_member_of_frames': [],\n",
       "   u'is_mutually_exclusive_with': [],\n",
       "   u'label': u'max_iterations',\n",
       "   u'level': u'secondary',\n",
       "   u'name': u'max_iterations',\n",
       "   u'required': False,\n",
       "   u'type': u'int',\n",
       "   u'values': []},\n",
       "  {u'__meta': {u'schema_name': u'ModelParameterSchemaV3',\n",
       "    u'schema_type': u'Iced',\n",
       "    u'schema_version': 3},\n",
       "   u'actual_value': 0.0001,\n",
       "   u'default_value': -1.0,\n",
       "   u'gridable': False,\n",
       "   u'help': u'Converge if  objective value changes less than this. Default indicates: If lambda_search is set to True the value of objective_epsilon is set to .0001. If the lambda_search is set to False and lambda is equal to zero, the value of objective_epsilon is set to .000001, for any other value of lambda the default value of objective_epsilon is set to .0001.',\n",
       "   u'is_member_of_frames': [],\n",
       "   u'is_mutually_exclusive_with': [],\n",
       "   u'label': u'objective_epsilon',\n",
       "   u'level': u'expert',\n",
       "   u'name': u'objective_epsilon',\n",
       "   u'required': False,\n",
       "   u'type': u'double',\n",
       "   u'values': []},\n",
       "  {u'__meta': {u'schema_name': u'ModelParameterSchemaV3',\n",
       "    u'schema_type': u'Iced',\n",
       "    u'schema_version': 3},\n",
       "   u'actual_value': 0.0001,\n",
       "   u'default_value': 0.0001,\n",
       "   u'gridable': False,\n",
       "   u'help': u'Converge if  beta changes less (using L-infinity norm) than beta esilon, ONLY applies to IRLSM solver ',\n",
       "   u'is_member_of_frames': [],\n",
       "   u'is_mutually_exclusive_with': [],\n",
       "   u'label': u'beta_epsilon',\n",
       "   u'level': u'expert',\n",
       "   u'name': u'beta_epsilon',\n",
       "   u'required': False,\n",
       "   u'type': u'double',\n",
       "   u'values': []},\n",
       "  {u'__meta': {u'schema_name': u'ModelParameterSchemaV3',\n",
       "    u'schema_type': u'Iced',\n",
       "    u'schema_version': 3},\n",
       "   u'actual_value': 0.0001,\n",
       "   u'default_value': -1.0,\n",
       "   u'gridable': False,\n",
       "   u'help': u'Converge if  objective changes less (using L-infinity norm) than this, ONLY applies to L-BFGS solver. Default indicates: If lambda_search is set to False and lambda is equal to zero, the default value of gradient_epsilon is equal to .000001, otherwise the default value is .0001. If lambda_search is set to True, the conditional values above are 1E-8 and 1E-6 respectively.',\n",
       "   u'is_member_of_frames': [],\n",
       "   u'is_mutually_exclusive_with': [],\n",
       "   u'label': u'gradient_epsilon',\n",
       "   u'level': u'expert',\n",
       "   u'name': u'gradient_epsilon',\n",
       "   u'required': False,\n",
       "   u'type': u'double',\n",
       "   u'values': []},\n",
       "  {u'__meta': {u'schema_name': u'ModelParameterSchemaV3',\n",
       "    u'schema_type': u'Iced',\n",
       "    u'schema_version': 3},\n",
       "   u'actual_value': u'logit',\n",
       "   u'default_value': u'family_default',\n",
       "   u'gridable': False,\n",
       "   u'help': u'',\n",
       "   u'is_member_of_frames': [],\n",
       "   u'is_mutually_exclusive_with': [],\n",
       "   u'label': u'link',\n",
       "   u'level': u'secondary',\n",
       "   u'name': u'link',\n",
       "   u'required': False,\n",
       "   u'type': u'enum',\n",
       "   u'values': [u'family_default',\n",
       "    u'identity',\n",
       "    u'logit',\n",
       "    u'log',\n",
       "    u'inverse',\n",
       "    u'tweedie']},\n",
       "  {u'__meta': {u'schema_name': u'ModelParameterSchemaV3',\n",
       "    u'schema_type': u'Iced',\n",
       "    u'schema_version': 3},\n",
       "   u'actual_value': -1.0,\n",
       "   u'default_value': -1.0,\n",
       "   u'gridable': False,\n",
       "   u'help': u'Prior probability for y==1. To be used only for logistic regression iff the data has been sampled and the mean of response does not reflect reality.',\n",
       "   u'is_member_of_frames': [],\n",
       "   u'is_mutually_exclusive_with': [],\n",
       "   u'label': u'prior',\n",
       "   u'level': u'expert',\n",
       "   u'name': u'prior',\n",
       "   u'required': False,\n",
       "   u'type': u'double',\n",
       "   u'values': []},\n",
       "  {u'__meta': {u'schema_name': u'ModelParameterSchemaV3',\n",
       "    u'schema_type': u'Iced',\n",
       "    u'schema_version': 3},\n",
       "   u'actual_value': 0.0001,\n",
       "   u'default_value': -1.0,\n",
       "   u'gridable': False,\n",
       "   u'help': u'Minimum lambda used in lambda search, specified as a ratio of lambda_max. Default indicates: if the number of observations is greater than the number of variables then lambda_min_ratio is set to 0.0001; if the number of observations is less than the number of variables then lambda_min_ratio is set to 0.01.',\n",
       "   u'is_member_of_frames': [],\n",
       "   u'is_mutually_exclusive_with': [],\n",
       "   u'label': u'lambda_min_ratio',\n",
       "   u'level': u'expert',\n",
       "   u'name': u'lambda_min_ratio',\n",
       "   u'required': False,\n",
       "   u'type': u'double',\n",
       "   u'values': []},\n",
       "  {u'__meta': {u'schema_name': u'ModelParameterSchemaV3',\n",
       "    u'schema_type': u'Iced',\n",
       "    u'schema_version': 3},\n",
       "   u'actual_value': None,\n",
       "   u'default_value': None,\n",
       "   u'gridable': False,\n",
       "   u'help': u'Beta constraints',\n",
       "   u'is_member_of_frames': [],\n",
       "   u'is_mutually_exclusive_with': [],\n",
       "   u'label': u'beta_constraints',\n",
       "   u'level': u'critical',\n",
       "   u'name': u'beta_constraints',\n",
       "   u'required': False,\n",
       "   u'type': u'Key<Frame>',\n",
       "   u'values': []},\n",
       "  {u'__meta': {u'schema_name': u'ModelParameterSchemaV3',\n",
       "    u'schema_type': u'Iced',\n",
       "    u'schema_version': 3},\n",
       "   u'actual_value': 5000,\n",
       "   u'default_value': -1,\n",
       "   u'gridable': False,\n",
       "   u'help': u'Maximum number of active predictors during computation. Use as a stopping criterion to prevent expensive model building with many predictors. Default indicates: If the IRLSM solver is used, the value of max_active_predictors is set to 7000 otherwise it is set to 100000000.',\n",
       "   u'is_member_of_frames': [],\n",
       "   u'is_mutually_exclusive_with': [],\n",
       "   u'label': u'max_active_predictors',\n",
       "   u'level': u'expert',\n",
       "   u'name': u'max_active_predictors',\n",
       "   u'required': False,\n",
       "   u'type': u'int',\n",
       "   u'values': []},\n",
       "  {u'__meta': {u'schema_name': u'ModelParameterSchemaV3',\n",
       "    u'schema_type': u'Iced',\n",
       "    u'schema_version': 3},\n",
       "   u'actual_value': None,\n",
       "   u'default_value': None,\n",
       "   u'gridable': False,\n",
       "   u'help': u'A list of predictor column indices to interact. All pairwise combinations will be computed for the list.',\n",
       "   u'is_member_of_frames': [],\n",
       "   u'is_mutually_exclusive_with': [],\n",
       "   u'label': u'interactions',\n",
       "   u'level': u'expert',\n",
       "   u'name': u'interactions',\n",
       "   u'required': False,\n",
       "   u'type': u'string[]',\n",
       "   u'values': []},\n",
       "  {u'__meta': {u'schema_name': u'ModelParameterSchemaV3',\n",
       "    u'schema_type': u'Iced',\n",
       "    u'schema_version': 3},\n",
       "   u'actual_value': False,\n",
       "   u'default_value': False,\n",
       "   u'gridable': False,\n",
       "   u'help': u'Balance training data class counts via over/under-sampling (for imbalanced data).',\n",
       "   u'is_member_of_frames': [],\n",
       "   u'is_mutually_exclusive_with': [],\n",
       "   u'label': u'balance_classes',\n",
       "   u'level': u'secondary',\n",
       "   u'name': u'balance_classes',\n",
       "   u'required': False,\n",
       "   u'type': u'boolean',\n",
       "   u'values': []},\n",
       "  {u'__meta': {u'schema_name': u'ModelParameterSchemaV3',\n",
       "    u'schema_type': u'Iced',\n",
       "    u'schema_version': 3},\n",
       "   u'actual_value': None,\n",
       "   u'default_value': None,\n",
       "   u'gridable': False,\n",
       "   u'help': u'Desired over/under-sampling ratios per class (in lexicographic order). If not specified, sampling factors will be automatically computed to obtain class balance during training. Requires balance_classes.',\n",
       "   u'is_member_of_frames': [],\n",
       "   u'is_mutually_exclusive_with': [],\n",
       "   u'label': u'class_sampling_factors',\n",
       "   u'level': u'expert',\n",
       "   u'name': u'class_sampling_factors',\n",
       "   u'required': False,\n",
       "   u'type': u'float[]',\n",
       "   u'values': []},\n",
       "  {u'__meta': {u'schema_name': u'ModelParameterSchemaV3',\n",
       "    u'schema_type': u'Iced',\n",
       "    u'schema_version': 3},\n",
       "   u'actual_value': 5.0,\n",
       "   u'default_value': 5.0,\n",
       "   u'gridable': False,\n",
       "   u'help': u'Maximum relative size of the training data after balancing class counts (can be less than 1.0). Requires balance_classes.',\n",
       "   u'is_member_of_frames': [],\n",
       "   u'is_mutually_exclusive_with': [],\n",
       "   u'label': u'max_after_balance_size',\n",
       "   u'level': u'expert',\n",
       "   u'name': u'max_after_balance_size',\n",
       "   u'required': False,\n",
       "   u'type': u'float',\n",
       "   u'values': []},\n",
       "  {u'__meta': {u'schema_name': u'ModelParameterSchemaV3',\n",
       "    u'schema_type': u'Iced',\n",
       "    u'schema_version': 3},\n",
       "   u'actual_value': 20,\n",
       "   u'default_value': 20,\n",
       "   u'gridable': False,\n",
       "   u'help': u'[Deprecated] Maximum size (# classes) for confusion matrices to be printed in the Logs',\n",
       "   u'is_member_of_frames': [],\n",
       "   u'is_mutually_exclusive_with': [],\n",
       "   u'label': u'max_confusion_matrix_size',\n",
       "   u'level': u'secondary',\n",
       "   u'name': u'max_confusion_matrix_size',\n",
       "   u'required': False,\n",
       "   u'type': u'int',\n",
       "   u'values': []},\n",
       "  {u'__meta': {u'schema_name': u'ModelParameterSchemaV3',\n",
       "    u'schema_type': u'Iced',\n",
       "    u'schema_version': 3},\n",
       "   u'actual_value': 0,\n",
       "   u'default_value': 0,\n",
       "   u'gridable': False,\n",
       "   u'help': u'Maximum number (top K) of predictions to use for hit ratio computation (for multi-class only, 0 to disable)',\n",
       "   u'is_member_of_frames': [],\n",
       "   u'is_mutually_exclusive_with': [],\n",
       "   u'label': u'max_hit_ratio_k',\n",
       "   u'level': u'secondary',\n",
       "   u'name': u'max_hit_ratio_k',\n",
       "   u'required': False,\n",
       "   u'type': u'int',\n",
       "   u'values': []},\n",
       "  {u'__meta': {u'schema_name': u'ModelParameterSchemaV3',\n",
       "    u'schema_type': u'Iced',\n",
       "    u'schema_version': 3},\n",
       "   u'actual_value': 0.0,\n",
       "   u'default_value': 0.0,\n",
       "   u'gridable': True,\n",
       "   u'help': u'Maximum allowed runtime in seconds for model training. Use 0 to disable.',\n",
       "   u'is_member_of_frames': [],\n",
       "   u'is_mutually_exclusive_with': [],\n",
       "   u'label': u'max_runtime_secs',\n",
       "   u'level': u'secondary',\n",
       "   u'name': u'max_runtime_secs',\n",
       "   u'required': False,\n",
       "   u'type': u'double',\n",
       "   u'values': []}],\n",
       " u'response_column_name': u'CAPSULE',\n",
       " u'timestamp': 0}"
      ]
     },
     "execution_count": 84,
     "metadata": {},
     "output_type": "execute_result"
    }
   ],
   "source": [
    "glm_model_with_training_and_validtion._model_json"
   ]
  },
  {
   "cell_type": "code",
   "execution_count": 85,
   "metadata": {},
   "outputs": [
    {
     "name": "stdout",
     "output_type": "stream",
     "text": [
      "Coefficients: glm coefficients\n",
      "\n"
     ]
    },
    {
     "data": {
      "text/html": [
       "<div style=\"overflow:auto\"><table style=\"width:50%\"><tr><td><b>names</b></td>\n",
       "<td><b>coefficients</b></td>\n",
       "<td><b>standardized_coefficients</b></td></tr>\n",
       "<tr><td>Intercept</td>\n",
       "<td>-7.7385145</td>\n",
       "<td>-0.4394848</td></tr>\n",
       "<tr><td>ID</td>\n",
       "<td>0.0008976</td>\n",
       "<td>0.1009232</td></tr>\n",
       "<tr><td>AGE</td>\n",
       "<td>-0.0045180</td>\n",
       "<td>-0.0302450</td></tr>\n",
       "<tr><td>RACE</td>\n",
       "<td>-0.5926484</td>\n",
       "<td>-0.1843044</td></tr>\n",
       "<tr><td>DPROS</td>\n",
       "<td>0.4063556</td>\n",
       "<td>0.4003219</td></tr>\n",
       "<tr><td>DCAPS</td>\n",
       "<td>0.6955968</td>\n",
       "<td>0.2120891</td></tr>\n",
       "<tr><td>PSA</td>\n",
       "<td>0.0241052</td>\n",
       "<td>0.5234431</td></tr>\n",
       "<tr><td>VOL</td>\n",
       "<td>-0.0125058</td>\n",
       "<td>-0.2207843</td></tr>\n",
       "<tr><td>GLEASON</td>\n",
       "<td>0.9633195</td>\n",
       "<td>1.0153889</td></tr></table></div>"
      ],
      "text/plain": [
       "names      coefficients    standardized_coefficients\n",
       "---------  --------------  ---------------------------\n",
       "Intercept  -7.73851        -0.439485\n",
       "ID         0.000897621     0.100923\n",
       "AGE        -0.00451797     -0.030245\n",
       "RACE       -0.592648       -0.184304\n",
       "DPROS      0.406356        0.400322\n",
       "DCAPS      0.695597        0.212089\n",
       "PSA        0.0241052       0.523443\n",
       "VOL        -0.0125058      -0.220784\n",
       "GLEASON    0.96332         1.01539"
      ]
     },
     "metadata": {},
     "output_type": "display_data"
    },
    {
     "data": {
      "text/plain": []
     },
     "execution_count": 85,
     "metadata": {},
     "output_type": "execute_result"
    }
   ],
   "source": [
    "glm_model_with_training_and_validtion._model_json['output']['coefficients_table']"
   ]
  },
  {
   "cell_type": "code",
   "execution_count": 86,
   "metadata": {},
   "outputs": [
    {
     "data": {
      "text/plain": [
       "[u'ID',\n",
       " u'AGE',\n",
       " u'RACE',\n",
       " u'DPROS',\n",
       " u'DCAPS',\n",
       " u'PSA',\n",
       " u'VOL',\n",
       " u'GLEASON',\n",
       " u'CAPSULE']"
      ]
     },
     "execution_count": 86,
     "metadata": {},
     "output_type": "execute_result"
    }
   ],
   "source": [
    "glm_model_with_training_and_validtion._model_json['output']['names']"
   ]
  },
  {
   "cell_type": "code",
   "execution_count": 87,
   "metadata": {
    "collapsed": true
   },
   "outputs": [],
   "source": [
    "glm_model_with_training_and_validtion._model_json['output']['cross_validation_predictions']"
   ]
  },
  {
   "cell_type": "code",
   "execution_count": 88,
   "metadata": {},
   "outputs": [
    {
     "data": {
      "text/plain": [
       "[{u'URL': u'/3/Frames/prediction_GLM_model_python_1510608322538_50_cv_1',\n",
       "  u'__meta': {u'schema_name': u'FrameKeyV3',\n",
       "   u'schema_type': u'Key<Frame>',\n",
       "   u'schema_version': 3},\n",
       "  u'name': u'prediction_GLM_model_python_1510608322538_50_cv_1',\n",
       "  u'type': u'Key<Frame>'},\n",
       " {u'URL': u'/3/Frames/prediction_GLM_model_python_1510608322538_50_cv_2',\n",
       "  u'__meta': {u'schema_name': u'FrameKeyV3',\n",
       "   u'schema_type': u'Key<Frame>',\n",
       "   u'schema_version': 3},\n",
       "  u'name': u'prediction_GLM_model_python_1510608322538_50_cv_2',\n",
       "  u'type': u'Key<Frame>'},\n",
       " {u'URL': u'/3/Frames/prediction_GLM_model_python_1510608322538_50_cv_3',\n",
       "  u'__meta': {u'schema_name': u'FrameKeyV3',\n",
       "   u'schema_type': u'Key<Frame>',\n",
       "   u'schema_version': 3},\n",
       "  u'name': u'prediction_GLM_model_python_1510608322538_50_cv_3',\n",
       "  u'type': u'Key<Frame>'},\n",
       " {u'URL': u'/3/Frames/prediction_GLM_model_python_1510608322538_50_cv_4',\n",
       "  u'__meta': {u'schema_name': u'FrameKeyV3',\n",
       "   u'schema_type': u'Key<Frame>',\n",
       "   u'schema_version': 3},\n",
       "  u'name': u'prediction_GLM_model_python_1510608322538_50_cv_4',\n",
       "  u'type': u'Key<Frame>'},\n",
       " {u'URL': u'/3/Frames/prediction_GLM_model_python_1510608322538_50_cv_5',\n",
       "  u'__meta': {u'schema_name': u'FrameKeyV3',\n",
       "   u'schema_type': u'Key<Frame>',\n",
       "   u'schema_version': 3},\n",
       "  u'name': u'prediction_GLM_model_python_1510608322538_50_cv_5',\n",
       "  u'type': u'Key<Frame>'}]"
      ]
     },
     "execution_count": 88,
     "metadata": {},
     "output_type": "execute_result"
    }
   ],
   "source": [
    "glm_model_with_training_and_cv._model_json['output']['cross_validation_predictions']"
   ]
  },
  {
   "cell_type": "code",
   "execution_count": 89,
   "metadata": {},
   "outputs": [
    {
     "name": "stdout",
     "output_type": "stream",
     "text": [
      "\n",
      "ModelMetricsRegressionGLM: glm\n",
      "** Reported on train data. **\n",
      "\n",
      "MSE: 0.176689176272\n",
      "RMSE: 0.420344116495\n",
      "MAE: 0.367177961951\n",
      "RMSLE: 0.300945053922\n",
      "R^2: 0.267727672477\n",
      "Mean Residual Deviance: 0.176689176272\n",
      "Null degrees of freedom: 299\n",
      "Residual degrees of freedom: 291\n",
      "Null deviance: 72.3866666667\n",
      "Residual deviance: 53.0067528816\n",
      "AIC: 351.354173015\n"
     ]
    },
    {
     "data": {
      "text/plain": []
     },
     "execution_count": 89,
     "metadata": {},
     "output_type": "execute_result"
    }
   ],
   "source": [
    "glm_model_with_training_and_cv._model_json['output']['training_metrics']"
   ]
  },
  {
   "cell_type": "code",
   "execution_count": 90,
   "metadata": {},
   "outputs": [
    {
     "data": {
      "text/plain": [
       "0.17668917627209857"
      ]
     },
     "execution_count": 90,
     "metadata": {},
     "output_type": "execute_result"
    }
   ],
   "source": [
    "glm_model_with_training_and_cv._model_json['output']['training_metrics']['MSE']"
   ]
  },
  {
   "cell_type": "code",
   "execution_count": 91,
   "metadata": {
    "collapsed": true
   },
   "outputs": [],
   "source": [
    "glm_model_with_training_and_cv._model_json['output']['training_metrics']['R^2']"
   ]
  },
  {
   "cell_type": "code",
   "execution_count": null,
   "metadata": {
    "collapsed": true
   },
   "outputs": [],
   "source": []
  }
 ],
 "metadata": {
  "kernelspec": {
   "display_name": "Python 2",
   "language": "python",
   "name": "python2"
  },
  "language_info": {
   "codemirror_mode": {
    "name": "ipython",
    "version": 2
   },
   "file_extension": ".py",
   "mimetype": "text/x-python",
   "name": "python",
   "nbconvert_exporter": "python",
   "pygments_lexer": "ipython2",
   "version": "2.7.13"
  }
 },
 "nbformat": 4,
 "nbformat_minor": 2
}
