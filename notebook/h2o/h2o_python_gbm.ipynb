{
 "cells": [
  {
   "cell_type": "code",
   "execution_count": 1,
   "metadata": {
    "collapsed": false
   },
   "outputs": [],
   "source": [
    "import xgboost as xgb\n",
    "import numpy as np\n",
    "\n"
   ]
  },
  {
   "cell_type": "code",
   "execution_count": 2,
   "metadata": {
    "collapsed": false
   },
   "outputs": [
    {
     "name": "stdout",
     "output_type": "stream",
     "text": [
      "<module 'xgboost' from '/Library/Python/2.7/site-packages/xgboost-0.6-py2.7.egg/xgboost/__init__.pyc'>\n"
     ]
    }
   ],
   "source": [
    "print(xgb)\n",
    "\n"
   ]
  },
  {
   "cell_type": "code",
   "execution_count": 3,
   "metadata": {
    "collapsed": true
   },
   "outputs": [],
   "source": [
    "import h2o as h2o\n"
   ]
  },
  {
   "cell_type": "code",
   "execution_count": 4,
   "metadata": {
    "collapsed": false
   },
   "outputs": [
    {
     "name": "stdout",
     "output_type": "stream",
     "text": [
      "Help on function init in module h2o.h2o:\n",
      "\n",
      "init(url=None, ip=None, port=None, https=None, insecure=None, username=None, password=None, cluster_id=None, cookies=None, proxy=None, start_h2o=True, nthreads=-1, ice_root=None, enable_assertions=True, max_mem_size=None, min_mem_size=None, strict_version_check=None, **kwargs)\n",
      "    Attempt to connect to a local server, or if not successful start a new server and connect to it.\n",
      "    \n",
      "    :param url:\n",
      "    :param ip:\n",
      "    :param port:\n",
      "    :param https:\n",
      "    :param insecure:\n",
      "    :param username:\n",
      "    :param password:\n",
      "    :param cluster_id:\n",
      "    :param cookies:\n",
      "    :param proxy:\n",
      "    :param start_h2o:\n",
      "    :param nthreads:\n",
      "    :param ice_root:\n",
      "    :param enable_assertions:\n",
      "    :param max_mem_size:\n",
      "    :param min_mem_size:\n",
      "    :param strict_version_check:\n",
      "    :param kwargs: (all other deprecated attributes)\n",
      "    :returns: nothing\n",
      "\n"
     ]
    }
   ],
   "source": [
    "help(h2o.init)\n",
    "\n"
   ]
  },
  {
   "cell_type": "code",
   "execution_count": 5,
   "metadata": {
    "collapsed": false
   },
   "outputs": [
    {
     "name": "stderr",
     "output_type": "stream",
     "text": [
      "ERROR:h2opy:Key init.version_check is not a valid config key\n"
     ]
    },
    {
     "name": "stdout",
     "output_type": "stream",
     "text": [
      "Checking whether there is an H2O instance running at http://localhost:54321..... not found.\n",
      "Attempting to start a local H2O server...\n",
      "  Java Version: java version \"1.8.0_101\"; Java(TM) SE Runtime Environment (build 1.8.0_101-b13); Java HotSpot(TM) 64-Bit Server VM (build 25.101-b13, mixed mode)\n",
      "  Starting server from /Users/avkashchauhan/Library/Python/2.7/lib/python/site-packages/h2o/backend/bin/h2o.jar\n",
      "  Ice root: /var/folders/x7/331tvwcd6p17jj9zdmhnkpyc0000gn/T/tmpqry3Ka\n",
      "  JVM stdout: /var/folders/x7/331tvwcd6p17jj9zdmhnkpyc0000gn/T/tmpqry3Ka/h2o_avkashchauhan_started_from_python.out\n",
      "  JVM stderr: /var/folders/x7/331tvwcd6p17jj9zdmhnkpyc0000gn/T/tmpqry3Ka/h2o_avkashchauhan_started_from_python.err\n",
      "  Server is running at http://127.0.0.1:54321\n",
      "Connecting to H2O server at http://127.0.0.1:54321... successful.\n"
     ]
    },
    {
     "data": {
      "text/html": [
       "<div style=\"overflow:auto\"><table style=\"width:50%\"><tr><td>H2O cluster uptime:</td>\n",
       "<td>02 secs</td></tr>\n",
       "<tr><td>H2O cluster version:</td>\n",
       "<td>3.11.0.3665</td></tr>\n",
       "<tr><td>H2O cluster version age:</td>\n",
       "<td>15 days </td></tr>\n",
       "<tr><td>H2O cluster name:</td>\n",
       "<td>H2O_from_python_avkashchauhan_brvhfz</td></tr>\n",
       "<tr><td>H2O cluster total nodes:</td>\n",
       "<td>1</td></tr>\n",
       "<tr><td>H2O cluster free memory:</td>\n",
       "<td>3.556 Gb</td></tr>\n",
       "<tr><td>H2O cluster total cores:</td>\n",
       "<td>8</td></tr>\n",
       "<tr><td>H2O cluster allowed cores:</td>\n",
       "<td>8</td></tr>\n",
       "<tr><td>H2O cluster status:</td>\n",
       "<td>accepting new members, healthy</td></tr>\n",
       "<tr><td>H2O connection url:</td>\n",
       "<td>http://127.0.0.1:54321</td></tr>\n",
       "<tr><td>H2O connection proxy:</td>\n",
       "<td>None</td></tr>\n",
       "<tr><td>Python version:</td>\n",
       "<td>2.7.10 final</td></tr></table></div>"
      ],
      "text/plain": [
       "--------------------------  ------------------------------------\n",
       "H2O cluster uptime:         02 secs\n",
       "H2O cluster version:        3.11.0.3665\n",
       "H2O cluster version age:    15 days\n",
       "H2O cluster name:           H2O_from_python_avkashchauhan_brvhfz\n",
       "H2O cluster total nodes:    1\n",
       "H2O cluster free memory:    3.556 Gb\n",
       "H2O cluster total cores:    8\n",
       "H2O cluster allowed cores:  8\n",
       "H2O cluster status:         accepting new members, healthy\n",
       "H2O connection url:         http://127.0.0.1:54321\n",
       "H2O connection proxy:\n",
       "Python version:             2.7.10 final\n",
       "--------------------------  ------------------------------------"
      ]
     },
     "metadata": {},
     "output_type": "display_data"
    }
   ],
   "source": [
    "h2o.init(strict_version_check = False)"
   ]
  },
  {
   "cell_type": "code",
   "execution_count": 43,
   "metadata": {
    "collapsed": false
   },
   "outputs": [
    {
     "data": {
      "text/html": [
       "<div style=\"overflow:auto\"><table style=\"width:50%\"><tr><td>H2O cluster uptime:</td>\n",
       "<td>6 mins 50 secs</td></tr>\n",
       "<tr><td>H2O cluster version:</td>\n",
       "<td>3.11.0.3665</td></tr>\n",
       "<tr><td>H2O cluster version age:</td>\n",
       "<td>15 days </td></tr>\n",
       "<tr><td>H2O cluster name:</td>\n",
       "<td>H2O_from_python_avkashchauhan_brvhfz</td></tr>\n",
       "<tr><td>H2O cluster total nodes:</td>\n",
       "<td>1</td></tr>\n",
       "<tr><td>H2O cluster free memory:</td>\n",
       "<td>3.234 Gb</td></tr>\n",
       "<tr><td>H2O cluster total cores:</td>\n",
       "<td>8</td></tr>\n",
       "<tr><td>H2O cluster allowed cores:</td>\n",
       "<td>8</td></tr>\n",
       "<tr><td>H2O cluster status:</td>\n",
       "<td>locked, healthy</td></tr>\n",
       "<tr><td>H2O connection url:</td>\n",
       "<td>http://127.0.0.1:54321</td></tr>\n",
       "<tr><td>H2O connection proxy:</td>\n",
       "<td>None</td></tr>\n",
       "<tr><td>Python version:</td>\n",
       "<td>2.7.10 final</td></tr></table></div>"
      ],
      "text/plain": [
       "--------------------------  ------------------------------------\n",
       "H2O cluster uptime:         6 mins 50 secs\n",
       "H2O cluster version:        3.11.0.3665\n",
       "H2O cluster version age:    15 days\n",
       "H2O cluster name:           H2O_from_python_avkashchauhan_brvhfz\n",
       "H2O cluster total nodes:    1\n",
       "H2O cluster free memory:    3.234 Gb\n",
       "H2O cluster total cores:    8\n",
       "H2O cluster allowed cores:  8\n",
       "H2O cluster status:         locked, healthy\n",
       "H2O connection url:         http://127.0.0.1:54321\n",
       "H2O connection proxy:\n",
       "Python version:             2.7.10 final\n",
       "--------------------------  ------------------------------------"
      ]
     },
     "metadata": {},
     "output_type": "display_data"
    },
    {
     "data": {
      "text/html": [
       "<div style=\"overflow:auto\"><table style=\"width:50%\"><tr><td><b>Nodes info:</b></td>\n",
       "<td><b>Node 1</b></td></tr>\n",
       "<tr><td>h2o</td>\n",
       "<td>/127.0.0.1:54321</td></tr>\n",
       "<tr><td>healthy</td>\n",
       "<td>True</td></tr>\n",
       "<tr><td>last_ping</td>\n",
       "<td>1478656115106.0000000</td></tr>\n",
       "<tr><td>num_cpus</td>\n",
       "<td>8</td></tr>\n",
       "<tr><td>sys_load</td>\n",
       "<td>1.9375</td></tr>\n",
       "<tr><td>mem_value_size</td>\n",
       "<td>3848192</td></tr>\n",
       "<tr><td>free_mem</td>\n",
       "<td>3472178176.0000000</td></tr>\n",
       "<tr><td>pojo_mem</td>\n",
       "<td>341837824</td></tr>\n",
       "<tr><td>swap_mem</td>\n",
       "<td>0</td></tr>\n",
       "<tr><td>free_disk</td>\n",
       "<td>383109824512.0000000</td></tr>\n",
       "<tr><td>max_disk</td>\n",
       "<td>499987251200.0000000</td></tr>\n",
       "<tr><td>pid</td>\n",
       "<td>62942</td></tr>\n",
       "<tr><td>num_keys</td>\n",
       "<td>257</td></tr>\n",
       "<tr><td>tcps_active</td>\n",
       "<td>0</td></tr>\n",
       "<tr><td>open_fds</td>\n",
       "<td>-1</td></tr>\n",
       "<tr><td>rpcs_active</td>\n",
       "<td>0</td></tr></table></div>"
      ],
      "text/plain": [
       "Nodes info:     Node 1\n",
       "--------------  ----------------\n",
       "h2o             /127.0.0.1:54321\n",
       "healthy         True\n",
       "last_ping       1478656115106\n",
       "num_cpus        8\n",
       "sys_load        1.9375\n",
       "mem_value_size  3848192\n",
       "free_mem        3472178176\n",
       "pojo_mem        341837824\n",
       "swap_mem        0\n",
       "free_disk       383109824512\n",
       "max_disk        499987251200\n",
       "pid             62942\n",
       "num_keys        257\n",
       "tcps_active     0\n",
       "open_fds        -1\n",
       "rpcs_active     0"
      ]
     },
     "metadata": {},
     "output_type": "display_data"
    }
   ],
   "source": [
    "h2o.cluster_status()\n"
   ]
  },
  {
   "cell_type": "code",
   "execution_count": 31,
   "metadata": {
    "collapsed": true
   },
   "outputs": [],
   "source": [
    "from h2o.estimators.gbm import H2OGradientBoostingEstimator\n",
    "from h2o.estimators.glm import H2OGeneralizedLinearEstimator\n"
   ]
  },
  {
   "cell_type": "code",
   "execution_count": 32,
   "metadata": {
    "collapsed": false
   },
   "outputs": [],
   "source": [
    "estimator = H2OGradientBoostingEstimator(distribution=\"bernoulli\", stopping_metric=\"logloss\",\n",
    "                                                 stopping_rounds=5, stopping_tolerance=0.001)"
   ]
  },
  {
   "cell_type": "code",
   "execution_count": 33,
   "metadata": {
    "collapsed": false
   },
   "outputs": [
    {
     "name": "stdout",
     "output_type": "stream",
     "text": [
      "Parse progress: |█████████████████████████████████████████████████████████| 100%\n"
     ]
    }
   ],
   "source": [
    "airline = h2o.import_file(\"https://s3.amazonaws.com/h2o-airlines-unpacked/allyears2k.csv\")"
   ]
  },
  {
   "cell_type": "code",
   "execution_count": 34,
   "metadata": {
    "collapsed": false
   },
   "outputs": [
    {
     "name": "stdout",
     "output_type": "stream",
     "text": [
      "Rows:43978\n",
      "Cols:31\n",
      "\n",
      "\n"
     ]
    },
    {
     "data": {
      "text/html": [
       "<table>\n",
       "<tr><th>       </th><th>Year         </th><th>Month        </th><th>DayofMonth   </th><th>DayOfWeek    </th><th>DepTime      </th><th>CRSDepTime   </th><th>ArrTime      </th><th>CRSArrTime   </th><th>UniqueCarrier  </th><th>FlightNum    </th><th>TailNum  </th><th>ActualElapsedTime  </th><th>CRSElapsedTime  </th><th>AirTime      </th><th>ArrDelay     </th><th>DepDelay     </th><th>Origin  </th><th>Dest  </th><th>Distance     </th><th>TaxiIn       </th><th>TaxiOut      </th><th>Cancelled      </th><th>CancellationCode  </th><th>Diverted        </th><th>CarrierDelay  </th><th>WeatherDelay  </th><th>NASDelay     </th><th>SecurityDelay  </th><th>LateAircraftDelay  </th><th>IsArrDelayed  </th><th>IsDepDelayed  </th></tr>\n",
       "<tr><td>type   </td><td>int          </td><td>int          </td><td>int          </td><td>int          </td><td>int          </td><td>int          </td><td>int          </td><td>int          </td><td>enum           </td><td>int          </td><td>enum     </td><td>int                </td><td>int             </td><td>int          </td><td>int          </td><td>int          </td><td>enum    </td><td>enum  </td><td>int          </td><td>int          </td><td>int          </td><td>int            </td><td>enum              </td><td>int             </td><td>int           </td><td>int           </td><td>int          </td><td>int            </td><td>int                </td><td>enum          </td><td>enum          </td></tr>\n",
       "<tr><td>mins   </td><td>1987.0       </td><td>1.0          </td><td>1.0          </td><td>1.0          </td><td>1.0          </td><td>0.0          </td><td>1.0          </td><td>0.0          </td><td>0.0            </td><td>1.0          </td><td>0.0      </td><td>16.0               </td><td>17.0            </td><td>14.0         </td><td>-63.0        </td><td>-16.0        </td><td>0.0     </td><td>0.0   </td><td>11.0         </td><td>0.0          </td><td>0.0          </td><td>0.0            </td><td>0.0               </td><td>0.0             </td><td>0.0           </td><td>0.0           </td><td>0.0          </td><td>0.0            </td><td>0.0                </td><td>0.0           </td><td>0.0           </td></tr>\n",
       "<tr><td>mean   </td><td>1997.5       </td><td>1.40909090909</td><td>14.6010732639</td><td>3.82061485288</td><td>1345.84666138</td><td>1313.22286143</td><td>1504.63413038</td><td>1485.28916731</td><td>NaN            </td><td>818.842989677</td><td>NaN      </td><td>124.814529135      </td><td>125.021562607   </td><td>114.316111091</td><td>9.31711193698</td><td>10.0073906556</td><td>NaN     </td><td>NaN   </td><td>730.182190565</td><td>5.38136805953</td><td>14.1686341847</td><td>0.0246941652645</td><td>NaN               </td><td>0.00247851198326</td><td>4.04780029106 </td><td>0.289376469271</td><td>4.85503190418</td><td>0.0170155602821</td><td>7.62006045002      </td><td>0.555755150302</td><td>0.525057983537</td></tr>\n",
       "<tr><td>maxs   </td><td>2008.0       </td><td>10.0         </td><td>31.0         </td><td>7.0          </td><td>2400.0       </td><td>2359.0       </td><td>2400.0       </td><td>2359.0       </td><td>9.0            </td><td>3949.0       </td><td>3500.0   </td><td>475.0              </td><td>437.0           </td><td>402.0        </td><td>475.0        </td><td>473.0        </td><td>131.0   </td><td>133.0 </td><td>3365.0       </td><td>128.0        </td><td>254.0        </td><td>1.0            </td><td>3.0               </td><td>1.0             </td><td>369.0         </td><td>201.0         </td><td>323.0        </td><td>14.0           </td><td>373.0              </td><td>1.0           </td><td>1.0           </td></tr>\n",
       "<tr><td>sigma  </td><td>6.34436090171</td><td>1.87471137134</td><td>9.17579042586</td><td>1.90501311913</td><td>465.340899124</td><td>476.251139993</td><td>484.347487904</td><td>492.750434123</td><td>NaN            </td><td>777.404369164</td><td>NaN      </td><td>73.9744416606      </td><td>73.40159463     </td><td>69.6363295151</td><td>29.8402219624</td><td>26.4388090429</td><td>NaN     </td><td>NaN   </td><td>578.43800823 </td><td>4.20197993986</td><td>9.9050857472 </td><td>0.155193141358 </td><td>NaN               </td><td>0.0497234872189 </td><td>16.2057299045 </td><td>4.41677989873 </td><td>18.6197762215</td><td>0.403940182102 </td><td>23.4875658741      </td><td>0.496887288343</td><td>0.499377380318</td></tr>\n",
       "<tr><td>zeros  </td><td>0            </td><td>0            </td><td>0            </td><td>0            </td><td>0            </td><td>569          </td><td>0            </td><td>569          </td><td>724            </td><td>0            </td><td>2        </td><td>0                  </td><td>0               </td><td>0            </td><td>1514         </td><td>6393         </td><td>59      </td><td>172   </td><td>0            </td><td>623          </td><td>557          </td><td>42892          </td><td>81                </td><td>43869           </td><td>7344          </td><td>8840          </td><td>7388         </td><td>8914           </td><td>7140               </td><td>19537         </td><td>20887         </td></tr>\n",
       "<tr><td>missing</td><td>0            </td><td>0            </td><td>0            </td><td>0            </td><td>1086         </td><td>0            </td><td>1195         </td><td>0            </td><td>0              </td><td>0            </td><td>32       </td><td>1195               </td><td>13              </td><td>16649        </td><td>1195         </td><td>1086         </td><td>0       </td><td>0     </td><td>35           </td><td>16026        </td><td>16024        </td><td>0              </td><td>9774              </td><td>0               </td><td>35045         </td><td>35045         </td><td>35045        </td><td>35045          </td><td>35045              </td><td>0             </td><td>0             </td></tr>\n",
       "<tr><td>0      </td><td>1987.0       </td><td>10.0         </td><td>14.0         </td><td>3.0          </td><td>741.0        </td><td>730.0        </td><td>912.0        </td><td>849.0        </td><td>PS             </td><td>1451.0       </td><td>NA       </td><td>91.0               </td><td>79.0            </td><td>nan          </td><td>23.0         </td><td>11.0         </td><td>SAN     </td><td>SFO   </td><td>447.0        </td><td>nan          </td><td>nan          </td><td>0.0            </td><td>NA                </td><td>0.0             </td><td>nan           </td><td>nan           </td><td>nan          </td><td>nan            </td><td>nan                </td><td>YES           </td><td>YES           </td></tr>\n",
       "<tr><td>1      </td><td>1987.0       </td><td>10.0         </td><td>15.0         </td><td>4.0          </td><td>729.0        </td><td>730.0        </td><td>903.0        </td><td>849.0        </td><td>PS             </td><td>1451.0       </td><td>NA       </td><td>94.0               </td><td>79.0            </td><td>nan          </td><td>14.0         </td><td>-1.0         </td><td>SAN     </td><td>SFO   </td><td>447.0        </td><td>nan          </td><td>nan          </td><td>0.0            </td><td>NA                </td><td>0.0             </td><td>nan           </td><td>nan           </td><td>nan          </td><td>nan            </td><td>nan                </td><td>YES           </td><td>NO            </td></tr>\n",
       "<tr><td>2      </td><td>1987.0       </td><td>10.0         </td><td>17.0         </td><td>6.0          </td><td>741.0        </td><td>730.0        </td><td>918.0        </td><td>849.0        </td><td>PS             </td><td>1451.0       </td><td>NA       </td><td>97.0               </td><td>79.0            </td><td>nan          </td><td>29.0         </td><td>11.0         </td><td>SAN     </td><td>SFO   </td><td>447.0        </td><td>nan          </td><td>nan          </td><td>0.0            </td><td>NA                </td><td>0.0             </td><td>nan           </td><td>nan           </td><td>nan          </td><td>nan            </td><td>nan                </td><td>YES           </td><td>YES           </td></tr>\n",
       "<tr><td>3      </td><td>1987.0       </td><td>10.0         </td><td>18.0         </td><td>7.0          </td><td>729.0        </td><td>730.0        </td><td>847.0        </td><td>849.0        </td><td>PS             </td><td>1451.0       </td><td>NA       </td><td>78.0               </td><td>79.0            </td><td>nan          </td><td>-2.0         </td><td>-1.0         </td><td>SAN     </td><td>SFO   </td><td>447.0        </td><td>nan          </td><td>nan          </td><td>0.0            </td><td>NA                </td><td>0.0             </td><td>nan           </td><td>nan           </td><td>nan          </td><td>nan            </td><td>nan                </td><td>NO            </td><td>NO            </td></tr>\n",
       "<tr><td>4      </td><td>1987.0       </td><td>10.0         </td><td>19.0         </td><td>1.0          </td><td>749.0        </td><td>730.0        </td><td>922.0        </td><td>849.0        </td><td>PS             </td><td>1451.0       </td><td>NA       </td><td>93.0               </td><td>79.0            </td><td>nan          </td><td>33.0         </td><td>19.0         </td><td>SAN     </td><td>SFO   </td><td>447.0        </td><td>nan          </td><td>nan          </td><td>0.0            </td><td>NA                </td><td>0.0             </td><td>nan           </td><td>nan           </td><td>nan          </td><td>nan            </td><td>nan                </td><td>YES           </td><td>YES           </td></tr>\n",
       "<tr><td>5      </td><td>1987.0       </td><td>10.0         </td><td>21.0         </td><td>3.0          </td><td>728.0        </td><td>730.0        </td><td>848.0        </td><td>849.0        </td><td>PS             </td><td>1451.0       </td><td>NA       </td><td>80.0               </td><td>79.0            </td><td>nan          </td><td>-1.0         </td><td>-2.0         </td><td>SAN     </td><td>SFO   </td><td>447.0        </td><td>nan          </td><td>nan          </td><td>0.0            </td><td>NA                </td><td>0.0             </td><td>nan           </td><td>nan           </td><td>nan          </td><td>nan            </td><td>nan                </td><td>NO            </td><td>NO            </td></tr>\n",
       "<tr><td>6      </td><td>1987.0       </td><td>10.0         </td><td>22.0         </td><td>4.0          </td><td>728.0        </td><td>730.0        </td><td>852.0        </td><td>849.0        </td><td>PS             </td><td>1451.0       </td><td>NA       </td><td>84.0               </td><td>79.0            </td><td>nan          </td><td>3.0          </td><td>-2.0         </td><td>SAN     </td><td>SFO   </td><td>447.0        </td><td>nan          </td><td>nan          </td><td>0.0            </td><td>NA                </td><td>0.0             </td><td>nan           </td><td>nan           </td><td>nan          </td><td>nan            </td><td>nan                </td><td>YES           </td><td>NO            </td></tr>\n",
       "<tr><td>7      </td><td>1987.0       </td><td>10.0         </td><td>23.0         </td><td>5.0          </td><td>731.0        </td><td>730.0        </td><td>902.0        </td><td>849.0        </td><td>PS             </td><td>1451.0       </td><td>NA       </td><td>91.0               </td><td>79.0            </td><td>nan          </td><td>13.0         </td><td>1.0          </td><td>SAN     </td><td>SFO   </td><td>447.0        </td><td>nan          </td><td>nan          </td><td>0.0            </td><td>NA                </td><td>0.0             </td><td>nan           </td><td>nan           </td><td>nan          </td><td>nan            </td><td>nan                </td><td>YES           </td><td>YES           </td></tr>\n",
       "<tr><td>8      </td><td>1987.0       </td><td>10.0         </td><td>24.0         </td><td>6.0          </td><td>744.0        </td><td>730.0        </td><td>908.0        </td><td>849.0        </td><td>PS             </td><td>1451.0       </td><td>NA       </td><td>84.0               </td><td>79.0            </td><td>nan          </td><td>19.0         </td><td>14.0         </td><td>SAN     </td><td>SFO   </td><td>447.0        </td><td>nan          </td><td>nan          </td><td>0.0            </td><td>NA                </td><td>0.0             </td><td>nan           </td><td>nan           </td><td>nan          </td><td>nan            </td><td>nan                </td><td>YES           </td><td>YES           </td></tr>\n",
       "<tr><td>9      </td><td>1987.0       </td><td>10.0         </td><td>25.0         </td><td>7.0          </td><td>729.0        </td><td>730.0        </td><td>851.0        </td><td>849.0        </td><td>PS             </td><td>1451.0       </td><td>NA       </td><td>82.0               </td><td>79.0            </td><td>nan          </td><td>2.0          </td><td>-1.0         </td><td>SAN     </td><td>SFO   </td><td>447.0        </td><td>nan          </td><td>nan          </td><td>0.0            </td><td>NA                </td><td>0.0             </td><td>nan           </td><td>nan           </td><td>nan          </td><td>nan            </td><td>nan                </td><td>YES           </td><td>NO            </td></tr>\n",
       "</table>"
      ]
     },
     "metadata": {},
     "output_type": "display_data"
    }
   ],
   "source": [
    "airline.describe()\n"
   ]
  },
  {
   "cell_type": "code",
   "execution_count": 35,
   "metadata": {
    "collapsed": true
   },
   "outputs": [],
   "source": [
    "x_cols = [\"Month\", \"CRSDepTime\", \"UniqueCarrier\", \"Distance\"]\n",
    "target_col = \"IsDepDelayed\""
   ]
  },
  {
   "cell_type": "code",
   "execution_count": 36,
   "metadata": {
    "collapsed": false
   },
   "outputs": [],
   "source": [
    "s = airline[\"DepTime\"].runif()\n",
    "train = airline[s <= 0.80]\n",
    "test  = airline[s > 0.80]"
   ]
  },
  {
   "cell_type": "code",
   "execution_count": 37,
   "metadata": {
    "collapsed": true
   },
   "outputs": [],
   "source": [
    "def default_gbm_hyper_params():\n",
    "        ntrees_opt = [100] #[50, 100]\n",
    "        max_depth_opt = [6]\n",
    "        max_depth = range(1,30,2)\n",
    "        min_rows_opt = [150] #[30, 150]\n",
    "        sample_rate_opt = [0.25]  # (AKA row sample rate)\n",
    "        col_sample_rate_opt = [0.05]\n",
    "        learn_rate_opt = [0.1] #[0.01, 0.1]\n",
    "        return {\"ntrees\": ntrees_opt, \"max_depth\": max_depth_opt, \"learn_rate\": learn_rate_opt,\n",
    "                        \"min_rows\": min_rows_opt, \"sample_rate\": sample_rate_opt, \"col_sample_rate\": col_sample_rate_opt}"
   ]
  },
  {
   "cell_type": "code",
   "execution_count": 38,
   "metadata": {
    "collapsed": false
   },
   "outputs": [],
   "source": [
    "hyper_params=default_gbm_hyper_params()\n"
   ]
  },
  {
   "cell_type": "code",
   "execution_count": 39,
   "metadata": {
    "collapsed": false
   },
   "outputs": [
    {
     "name": "stdout",
     "output_type": "stream",
     "text": [
      "{'learn_rate': [0.1], 'col_sample_rate': [0.05], 'min_rows': [150], 'ntrees': [100], 'sample_rate': [0.25], 'max_depth': [6]}\n"
     ]
    }
   ],
   "source": [
    "print(hyper_params)"
   ]
  },
  {
   "cell_type": "code",
   "execution_count": 48,
   "metadata": {
    "collapsed": true
   },
   "outputs": [],
   "source": [
    "import time as time\n"
   ]
  },
  {
   "cell_type": "code",
   "execution_count": 46,
   "metadata": {
    "collapsed": true
   },
   "outputs": [],
   "source": [
    "from h2o.grid.grid_search import H2OGridSearch"
   ]
  },
  {
   "cell_type": "code",
   "execution_count": 51,
   "metadata": {
    "collapsed": false
   },
   "outputs": [],
   "source": [
    "# This is a problem reported by customer   PART 1\n",
    "# https://community.h2o.ai/questions/807/http-500-server-error-when-trying-grid-search-in-p.html\n",
    "# The Tree depth was 10000 which is way high to get the application working\n",
    "hyper_params = {'max_depth' : range(1,30,2)} \n",
    "gbm_grid = H2OGradientBoostingEstimator( ntrees=10, learn_rate=0.05, \n",
    "                                        learn_rate_annealing = 0.99, sample_rate_per_class = [0.02,0.8], \n",
    "                                        col_sample_rate = 0.8, seed = 1234, score_tree_interval = 10, \n",
    "                                        stopping_rounds = 5, stopping_metric = \"mean_per_class_error\", \n",
    "                                        stopping_tolerance = 1e-4) \n",
    "grid = H2OGridSearch(gbm_grid,hyper_params, grid_id = 'depth_grid', search_criteria = {'strategy': \"Cartesian\"})\n"
   ]
  },
  {
   "cell_type": "code",
   "execution_count": 52,
   "metadata": {
    "collapsed": false
   },
   "outputs": [
    {
     "name": "stdout",
     "output_type": "stream",
     "text": [
      "gbm Grid Build progress: |████████████████████████████████████████████████| 100%\n"
     ]
    }
   ],
   "source": [
    "# This is a problem reported by customer  PART 2\n",
    "# https://community.h2o.ai/questions/807/http-500-server-error-when-trying-grid-search-in-p.html\n",
    "# The following worked\n",
    "grid.train(x=x_cols, y=target_col, training_frame = train, validation_frame = test)"
   ]
  },
  {
   "cell_type": "code",
   "execution_count": 49,
   "metadata": {
    "collapsed": false
   },
   "outputs": [
    {
     "name": "stdout",
     "output_type": "stream",
     "text": [
      "gbm Grid Build progress: |████████████████████████████████████████████████| 100%\n",
      "it takes 1.41 mins\n",
      "Grid Search Results for H2OGradientBoostingEstimator: \n"
     ]
    },
    {
     "data": {
      "text/html": [
       "<div style=\"overflow:auto\"><table style=\"width:50%\"><tr><td><b>Model Id</b></td>\n",
       "<td><b>Hyperparameters: [max_depth]</b></td>\n",
       "<td><b>auc(valid=True)</b></td></tr>\n",
       "<tr><td>Grid_GBM_py_2_sid_97c8_model_python_1478655704112_106_model_13</td>\n",
       "<td>[27]</td>\n",
       "<td>0.7467692</td></tr>\n",
       "<tr><td>Grid_GBM_py_2_sid_97c8_model_python_1478655704112_106_model_10</td>\n",
       "<td>[21]</td>\n",
       "<td>0.7467115</td></tr>\n",
       "<tr><td>Grid_GBM_py_2_sid_97c8_model_python_1478655704112_106_model_12</td>\n",
       "<td>[25]</td>\n",
       "<td>0.7462914</td></tr>\n",
       "<tr><td>Grid_GBM_py_2_sid_97c8_model_python_1478655704112_106_model_7</td>\n",
       "<td>[15]</td>\n",
       "<td>0.7461826</td></tr>\n",
       "<tr><td>Grid_GBM_py_2_sid_97c8_model_python_1478655704112_106_model_11</td>\n",
       "<td>[23]</td>\n",
       "<td>0.7460482</td></tr>\n",
       "<tr><td>Grid_GBM_py_2_sid_97c8_model_python_1478655704112_106_model_9</td>\n",
       "<td>[19]</td>\n",
       "<td>0.7460470</td></tr>\n",
       "<tr><td>Grid_GBM_py_2_sid_97c8_model_python_1478655704112_106_model_8</td>\n",
       "<td>[17]</td>\n",
       "<td>0.7460009</td></tr>\n",
       "<tr><td>Grid_GBM_py_2_sid_97c8_model_python_1478655704112_106_model_14</td>\n",
       "<td>[29]</td>\n",
       "<td>0.7459545</td></tr>\n",
       "<tr><td>Grid_GBM_py_2_sid_97c8_model_python_1478655704112_106_model_6</td>\n",
       "<td>[13]</td>\n",
       "<td>0.7439668</td></tr>\n",
       "<tr><td>Grid_GBM_py_2_sid_97c8_model_python_1478655704112_106_model_5</td>\n",
       "<td>[11]</td>\n",
       "<td>0.7409353</td></tr>\n",
       "<tr><td>Grid_GBM_py_2_sid_97c8_model_python_1478655704112_106_model_4</td>\n",
       "<td>[9]</td>\n",
       "<td>0.7310954</td></tr>\n",
       "<tr><td>Grid_GBM_py_2_sid_97c8_model_python_1478655704112_106_model_3</td>\n",
       "<td>[7]</td>\n",
       "<td>0.7191823</td></tr>\n",
       "<tr><td>Grid_GBM_py_2_sid_97c8_model_python_1478655704112_106_model_2</td>\n",
       "<td>[5]</td>\n",
       "<td>0.6972283</td></tr>\n",
       "<tr><td>Grid_GBM_py_2_sid_97c8_model_python_1478655704112_106_model_1</td>\n",
       "<td>[3]</td>\n",
       "<td>0.6653598</td></tr>\n",
       "<tr><td>Grid_GBM_py_2_sid_97c8_model_python_1478655704112_106_model_0</td>\n",
       "<td>[1]</td>\n",
       "<td>0.6191634</td></tr></table></div>"
      ],
      "text/plain": [
       "Model Id                                                        Hyperparameters: [max_depth]    auc(valid=True)\n",
       "--------------------------------------------------------------  ------------------------------  -----------------\n",
       "Grid_GBM_py_2_sid_97c8_model_python_1478655704112_106_model_13  [27]                            0.746769\n",
       "Grid_GBM_py_2_sid_97c8_model_python_1478655704112_106_model_10  [21]                            0.746711\n",
       "Grid_GBM_py_2_sid_97c8_model_python_1478655704112_106_model_12  [25]                            0.746291\n",
       "Grid_GBM_py_2_sid_97c8_model_python_1478655704112_106_model_7   [15]                            0.746183\n",
       "Grid_GBM_py_2_sid_97c8_model_python_1478655704112_106_model_11  [23]                            0.746048\n",
       "Grid_GBM_py_2_sid_97c8_model_python_1478655704112_106_model_9   [19]                            0.746047\n",
       "Grid_GBM_py_2_sid_97c8_model_python_1478655704112_106_model_8   [17]                            0.746001\n",
       "Grid_GBM_py_2_sid_97c8_model_python_1478655704112_106_model_14  [29]                            0.745954\n",
       "Grid_GBM_py_2_sid_97c8_model_python_1478655704112_106_model_6   [13]                            0.743967\n",
       "Grid_GBM_py_2_sid_97c8_model_python_1478655704112_106_model_5   [11]                            0.740935\n",
       "Grid_GBM_py_2_sid_97c8_model_python_1478655704112_106_model_4   [9]                             0.731095\n",
       "Grid_GBM_py_2_sid_97c8_model_python_1478655704112_106_model_3   [7]                             0.719182\n",
       "Grid_GBM_py_2_sid_97c8_model_python_1478655704112_106_model_2   [5]                             0.697228\n",
       "Grid_GBM_py_2_sid_97c8_model_python_1478655704112_106_model_1   [3]                             0.66536\n",
       "Grid_GBM_py_2_sid_97c8_model_python_1478655704112_106_model_0   [1]                             0.619163"
      ]
     },
     "metadata": {},
     "output_type": "display_data"
    },
    {
     "name": "stdout",
     "output_type": "stream",
     "text": [
      "\n",
      "{u'train': 0.8165215584963811, u'valid': 0.7467691777599608}\n"
     ]
    }
   ],
   "source": [
    "## use grid_search to fit model\n",
    "start = time.time()\n",
    "gs = H2OGridSearch(model=estimator, hyper_params=hyper_params)\n",
    "gs.train(x=x_cols, y=target_col, training_frame=train, validation_frame=test)\n",
    "take = np.round((time.time() - start)*1.0/60,2)\n",
    "print 'it takes ' + str(take) +' mins'\n",
    " \n",
    "grid_search_results = gs.sort_by(metric=\"auc(valid=True)\", increasing=False)\n",
    "print grid_search_results\n",
    "best_model_id = grid_search_results['Model Id'][0]\n",
    "best_model = h2o.get_model(best_model_id)\n",
    "print best_model.auc(train=True, valid = True)\n",
    "gbm_cls = best_model"
   ]
  },
  {
   "cell_type": "code",
   "execution_count": 45,
   "metadata": {
    "collapsed": false
   },
   "outputs": [
    {
     "name": "stdout",
     "output_type": "stream",
     "text": [
      "gbm Model Build progress: |███████████████████████████████████████████████| 100%\n",
      "It takes 0.104632914066 mins\n",
      "{u'train': 0.6663656047036883, u'valid': 0.6557040757502468}\n"
     ]
    }
   ],
   "source": [
    "gbm_cls = H2OGradientBoostingEstimator(distribution=\"bernoulli\", stopping_metric=\"logloss\", \n",
    "                                       stopping_rounds=5, stopping_tolerance=0.001,ntrees=100, \n",
    "                                       max_depth=5, min_rows=150,  learn_rate=0.1, sample_rate=0.25, \n",
    "                                       col_sample_rate=0.05)\n",
    " \n",
    "start = time.time()\n",
    "gbm_cls.train(x=x_cols, y=target_col, training_frame=train, validation_frame=test)\n",
    "take =  (time.time() - start)*1.0/60\n",
    "print 'It takes ' + str(take) + ' mins'\n",
    "print gbm_cls.auc(train=True, valid = True)"
   ]
  },
  {
   "cell_type": "code",
   "execution_count": null,
   "metadata": {
    "collapsed": true
   },
   "outputs": [],
   "source": []
  }
 ],
 "metadata": {
  "kernelspec": {
   "display_name": "Python 2",
   "language": "python",
   "name": "python2"
  },
  "language_info": {
   "codemirror_mode": {
    "name": "ipython",
    "version": 2
   },
   "file_extension": ".py",
   "mimetype": "text/x-python",
   "name": "python",
   "nbconvert_exporter": "python",
   "pygments_lexer": "ipython2",
   "version": "2.7.10"
  }
 },
 "nbformat": 4,
 "nbformat_minor": 1
}
