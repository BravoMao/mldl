{
 "cells": [
  {
   "cell_type": "code",
   "execution_count": 1,
   "metadata": {
    "collapsed": true
   },
   "outputs": [],
   "source": [
    "###: Importing H2O Library"
   ]
  },
  {
   "cell_type": "code",
   "execution_count": 2,
   "metadata": {
    "collapsed": true
   },
   "outputs": [],
   "source": [
    "import h2o"
   ]
  },
  {
   "cell_type": "code",
   "execution_count": 3,
   "metadata": {
    "collapsed": true
   },
   "outputs": [],
   "source": [
    "### : Initializing h2O"
   ]
  },
  {
   "cell_type": "code",
   "execution_count": 4,
   "metadata": {},
   "outputs": [
    {
     "name": "stderr",
     "output_type": "stream",
     "text": [
      "ERROR:h2o:Key init.version_check is not a valid config key\n"
     ]
    },
    {
     "name": "stdout",
     "output_type": "stream",
     "text": [
      "Checking whether there is an H2O instance running at http://localhost:54321. connected.\n"
     ]
    },
    {
     "data": {
      "text/html": [
       "<div style=\"overflow:auto\"><table style=\"width:50%\"><tr><td>H2O cluster uptime:</td>\n",
       "<td>22 mins 02 secs</td></tr>\n",
       "<tr><td>H2O cluster version:</td>\n",
       "<td>3.14.0.7</td></tr>\n",
       "<tr><td>H2O cluster version age:</td>\n",
       "<td>27 days </td></tr>\n",
       "<tr><td>H2O cluster name:</td>\n",
       "<td>H2O_started_from_R_avkashchauhan_ggh839</td></tr>\n",
       "<tr><td>H2O cluster total nodes:</td>\n",
       "<td>1</td></tr>\n",
       "<tr><td>H2O cluster free memory:</td>\n",
       "<td>3.228 Gb</td></tr>\n",
       "<tr><td>H2O cluster total cores:</td>\n",
       "<td>8</td></tr>\n",
       "<tr><td>H2O cluster allowed cores:</td>\n",
       "<td>8</td></tr>\n",
       "<tr><td>H2O cluster status:</td>\n",
       "<td>locked, healthy</td></tr>\n",
       "<tr><td>H2O connection url:</td>\n",
       "<td>http://localhost:54321</td></tr>\n",
       "<tr><td>H2O connection proxy:</td>\n",
       "<td>None</td></tr>\n",
       "<tr><td>H2O internal security:</td>\n",
       "<td>False</td></tr>\n",
       "<tr><td>H2O API Extensions:</td>\n",
       "<td>XGBoost, Algos, AutoML, Core V3, Core V4</td></tr>\n",
       "<tr><td>Python version:</td>\n",
       "<td>2.7.13 final</td></tr></table></div>"
      ],
      "text/plain": [
       "--------------------------  ----------------------------------------\n",
       "H2O cluster uptime:         22 mins 02 secs\n",
       "H2O cluster version:        3.14.0.7\n",
       "H2O cluster version age:    27 days\n",
       "H2O cluster name:           H2O_started_from_R_avkashchauhan_ggh839\n",
       "H2O cluster total nodes:    1\n",
       "H2O cluster free memory:    3.228 Gb\n",
       "H2O cluster total cores:    8\n",
       "H2O cluster allowed cores:  8\n",
       "H2O cluster status:         locked, healthy\n",
       "H2O connection url:         http://localhost:54321\n",
       "H2O connection proxy:\n",
       "H2O internal security:      False\n",
       "H2O API Extensions:         XGBoost, Algos, AutoML, Core V3, Core V4\n",
       "Python version:             2.7.13 final\n",
       "--------------------------  ----------------------------------------"
      ]
     },
     "metadata": {},
     "output_type": "display_data"
    }
   ],
   "source": [
    "h2o.init()"
   ]
  },
  {
   "cell_type": "code",
   "execution_count": 5,
   "metadata": {
    "collapsed": true
   },
   "outputs": [],
   "source": [
    "### : Getting H2O Cluster status"
   ]
  },
  {
   "cell_type": "code",
   "execution_count": 6,
   "metadata": {},
   "outputs": [
    {
     "data": {
      "text/html": [
       "<div style=\"overflow:auto\"><table style=\"width:50%\"><tr><td>H2O cluster uptime:</td>\n",
       "<td>22 mins 02 secs</td></tr>\n",
       "<tr><td>H2O cluster version:</td>\n",
       "<td>3.14.0.7</td></tr>\n",
       "<tr><td>H2O cluster version age:</td>\n",
       "<td>27 days </td></tr>\n",
       "<tr><td>H2O cluster name:</td>\n",
       "<td>H2O_started_from_R_avkashchauhan_ggh839</td></tr>\n",
       "<tr><td>H2O cluster total nodes:</td>\n",
       "<td>1</td></tr>\n",
       "<tr><td>H2O cluster free memory:</td>\n",
       "<td>3.228 Gb</td></tr>\n",
       "<tr><td>H2O cluster total cores:</td>\n",
       "<td>8</td></tr>\n",
       "<tr><td>H2O cluster allowed cores:</td>\n",
       "<td>8</td></tr>\n",
       "<tr><td>H2O cluster status:</td>\n",
       "<td>locked, healthy</td></tr>\n",
       "<tr><td>H2O connection url:</td>\n",
       "<td>http://localhost:54321</td></tr>\n",
       "<tr><td>H2O connection proxy:</td>\n",
       "<td>None</td></tr>\n",
       "<tr><td>H2O internal security:</td>\n",
       "<td>False</td></tr>\n",
       "<tr><td>H2O API Extensions:</td>\n",
       "<td>XGBoost, Algos, AutoML, Core V3, Core V4</td></tr>\n",
       "<tr><td>Python version:</td>\n",
       "<td>2.7.13 final</td></tr></table></div>"
      ],
      "text/plain": [
       "--------------------------  ----------------------------------------\n",
       "H2O cluster uptime:         22 mins 02 secs\n",
       "H2O cluster version:        3.14.0.7\n",
       "H2O cluster version age:    27 days\n",
       "H2O cluster name:           H2O_started_from_R_avkashchauhan_ggh839\n",
       "H2O cluster total nodes:    1\n",
       "H2O cluster free memory:    3.228 Gb\n",
       "H2O cluster total cores:    8\n",
       "H2O cluster allowed cores:  8\n",
       "H2O cluster status:         locked, healthy\n",
       "H2O connection url:         http://localhost:54321\n",
       "H2O connection proxy:\n",
       "H2O internal security:      False\n",
       "H2O API Extensions:         XGBoost, Algos, AutoML, Core V3, Core V4\n",
       "Python version:             2.7.13 final\n",
       "--------------------------  ----------------------------------------"
      ]
     },
     "metadata": {},
     "output_type": "display_data"
    },
    {
     "data": {
      "text/html": [
       "<div style=\"overflow:auto\"><table style=\"width:50%\"><tr><td><b>Nodes info:</b></td>\n",
       "<td><b>Node 1</b></td></tr>\n",
       "<tr><td>h2o</td>\n",
       "<td>localhost/127.0.0.1:54321</td></tr>\n",
       "<tr><td>healthy</td>\n",
       "<td>True</td></tr>\n",
       "<tr><td>last_ping</td>\n",
       "<td>1510940188698.0000000</td></tr>\n",
       "<tr><td>num_cpus</td>\n",
       "<td>8</td></tr>\n",
       "<tr><td>sys_load</td>\n",
       "<td>1.6425781</td></tr>\n",
       "<tr><td>mem_value_size</td>\n",
       "<td>29662208</td></tr>\n",
       "<tr><td>free_mem</td>\n",
       "<td>3466219520.0000000</td></tr>\n",
       "<tr><td>pojo_mem</td>\n",
       "<td>321982464</td></tr>\n",
       "<tr><td>swap_mem</td>\n",
       "<td>0</td></tr>\n",
       "<tr><td>free_disk</td>\n",
       "<td>223606734848.0000000</td></tr>\n",
       "<tr><td>max_disk</td>\n",
       "<td>499987251200.0000000</td></tr>\n",
       "<tr><td>pid</td>\n",
       "<td>34229</td></tr>\n",
       "<tr><td>num_keys</td>\n",
       "<td>5749</td></tr>\n",
       "<tr><td>tcps_active</td>\n",
       "<td>0</td></tr>\n",
       "<tr><td>open_fds</td>\n",
       "<td>-1</td></tr>\n",
       "<tr><td>rpcs_active</td>\n",
       "<td>0</td></tr></table></div>"
      ],
      "text/plain": [
       "Nodes info:     Node 1\n",
       "--------------  -------------------------\n",
       "h2o             localhost/127.0.0.1:54321\n",
       "healthy         True\n",
       "last_ping       1510940188698\n",
       "num_cpus        8\n",
       "sys_load        1.6425781\n",
       "mem_value_size  29662208\n",
       "free_mem        3466219520\n",
       "pojo_mem        321982464\n",
       "swap_mem        0\n",
       "free_disk       223606734848\n",
       "max_disk        499987251200\n",
       "pid             34229\n",
       "num_keys        5749\n",
       "tcps_active     0\n",
       "open_fds        -1\n",
       "rpcs_active     0"
      ]
     },
     "metadata": {},
     "output_type": "display_data"
    }
   ],
   "source": [
    "h2o.cluster().show_status(True)"
   ]
  },
  {
   "cell_type": "code",
   "execution_count": 7,
   "metadata": {
    "collapsed": true
   },
   "outputs": [],
   "source": [
    "###: Importing Dataset"
   ]
  },
  {
   "cell_type": "code",
   "execution_count": 8,
   "metadata": {},
   "outputs": [
    {
     "name": "stdout",
     "output_type": "stream",
     "text": [
      "Parse progress: |█████████████████████████████████████████████████████████| 100%\n"
     ]
    }
   ],
   "source": [
    "df = h2o.import_file(\"/Users/avkashchauhan/src/github.com/avkash/mldl/data/auto_mpg.csv\")"
   ]
  },
  {
   "cell_type": "code",
   "execution_count": 9,
   "metadata": {
    "collapsed": true
   },
   "outputs": [],
   "source": [
    "###: Understanding Dataset"
   ]
  },
  {
   "cell_type": "code",
   "execution_count": 10,
   "metadata": {},
   "outputs": [
    {
     "name": "stdout",
     "output_type": "stream",
     "text": [
      "Rows:398\n",
      "Cols:8\n",
      "\n",
      "\n"
     ]
    },
    {
     "data": {
      "text/html": [
       "<table>\n",
       "<thead>\n",
       "<tr><th>       </th><th>cylinders    </th><th>displacement  </th><th>horsepower   </th><th>weight       </th><th>acceleration  </th><th>modelyear    </th><th>origin        </th><th>mpg          </th></tr>\n",
       "</thead>\n",
       "<tbody>\n",
       "<tr><td>type   </td><td>int          </td><td>real          </td><td>int          </td><td>int          </td><td>real          </td><td>int          </td><td>int           </td><td>real         </td></tr>\n",
       "<tr><td>mins   </td><td>3.0          </td><td>68.0          </td><td>46.0         </td><td>1613.0       </td><td>8.0           </td><td>70.0         </td><td>1.0           </td><td>9.0          </td></tr>\n",
       "<tr><td>mean   </td><td>5.45477386935</td><td>193.425879397 </td><td>104.469387755</td><td>2970.42462312</td><td>15.5680904523 </td><td>76.0100502513</td><td>1.57286432161 </td><td>23.5145728643</td></tr>\n",
       "<tr><td>maxs   </td><td>8.0          </td><td>455.0         </td><td>230.0        </td><td>5140.0       </td><td>24.8          </td><td>82.0         </td><td>3.0           </td><td>46.6         </td></tr>\n",
       "<tr><td>sigma  </td><td>1.70100424453</td><td>104.269838171 </td><td>38.4911599328</td><td>846.841774197</td><td>2.75768892981 </td><td>3.69762664673</td><td>0.802054877727</td><td>7.81598431257</td></tr>\n",
       "<tr><td>zeros  </td><td>0            </td><td>0             </td><td>0            </td><td>0            </td><td>0             </td><td>0            </td><td>0             </td><td>0            </td></tr>\n",
       "<tr><td>missing</td><td>0            </td><td>0             </td><td>6            </td><td>0            </td><td>0             </td><td>0            </td><td>0             </td><td>0            </td></tr>\n",
       "<tr><td>0      </td><td>8.0          </td><td>307.0         </td><td>130.0        </td><td>3504.0       </td><td>12.0          </td><td>70.0         </td><td>1.0           </td><td>18.0         </td></tr>\n",
       "<tr><td>1      </td><td>8.0          </td><td>350.0         </td><td>165.0        </td><td>3693.0       </td><td>11.5          </td><td>70.0         </td><td>1.0           </td><td>15.0         </td></tr>\n",
       "<tr><td>2      </td><td>8.0          </td><td>318.0         </td><td>150.0        </td><td>3436.0       </td><td>11.0          </td><td>70.0         </td><td>1.0           </td><td>18.0         </td></tr>\n",
       "<tr><td>3      </td><td>8.0          </td><td>304.0         </td><td>150.0        </td><td>3433.0       </td><td>12.0          </td><td>70.0         </td><td>1.0           </td><td>16.0         </td></tr>\n",
       "<tr><td>4      </td><td>8.0          </td><td>302.0         </td><td>140.0        </td><td>3449.0       </td><td>10.5          </td><td>70.0         </td><td>1.0           </td><td>17.0         </td></tr>\n",
       "<tr><td>5      </td><td>8.0          </td><td>429.0         </td><td>198.0        </td><td>4341.0       </td><td>10.0          </td><td>70.0         </td><td>1.0           </td><td>15.0         </td></tr>\n",
       "<tr><td>6      </td><td>8.0          </td><td>454.0         </td><td>220.0        </td><td>4354.0       </td><td>9.0           </td><td>70.0         </td><td>1.0           </td><td>14.0         </td></tr>\n",
       "<tr><td>7      </td><td>8.0          </td><td>440.0         </td><td>215.0        </td><td>4312.0       </td><td>8.5           </td><td>70.0         </td><td>1.0           </td><td>14.0         </td></tr>\n",
       "<tr><td>8      </td><td>8.0          </td><td>455.0         </td><td>225.0        </td><td>4425.0       </td><td>10.0          </td><td>70.0         </td><td>1.0           </td><td>14.0         </td></tr>\n",
       "<tr><td>9      </td><td>8.0          </td><td>390.0         </td><td>190.0        </td><td>3850.0       </td><td>8.5           </td><td>70.0         </td><td>1.0           </td><td>15.0         </td></tr>\n",
       "</tbody>\n",
       "</table>"
      ]
     },
     "metadata": {},
     "output_type": "display_data"
    }
   ],
   "source": [
    "df.describe()"
   ]
  },
  {
   "cell_type": "code",
   "execution_count": 11,
   "metadata": {
    "collapsed": true
   },
   "outputs": [],
   "source": [
    "###: Getting a list of columns in our dataset"
   ]
  },
  {
   "cell_type": "code",
   "execution_count": 12,
   "metadata": {},
   "outputs": [
    {
     "data": {
      "text/plain": [
       "[u'cylinders',\n",
       " u'displacement',\n",
       " u'horsepower',\n",
       " u'weight',\n",
       " u'acceleration',\n",
       " u'modelyear',\n",
       " u'origin',\n",
       " u'mpg']"
      ]
     },
     "execution_count": 12,
     "metadata": {},
     "output_type": "execute_result"
    }
   ],
   "source": [
    "df.col_names"
   ]
  },
  {
   "cell_type": "code",
   "execution_count": 13,
   "metadata": {
    "collapsed": true
   },
   "outputs": [],
   "source": [
    "###: Understanding Dataset with pylab library"
   ]
  },
  {
   "cell_type": "code",
   "execution_count": 14,
   "metadata": {},
   "outputs": [
    {
     "data": {
      "text/plain": [
       "<matplotlib.figure.Figure at 0x104242b50>"
      ]
     },
     "metadata": {},
     "output_type": "display_data"
    },
    {
     "data": {
      "image/png": "[encoded data removed]",
      "text/plain": [
       "<matplotlib.figure.Figure at 0x1066d3910>"
      ]
     },
     "metadata": {},
     "output_type": "display_data"
    }
   ],
   "source": [
    "import pylab as pl\n",
    "pl.figure(figsize=(20,10))\n",
    "df.as_data_frame().hist()\n",
    "pl.show()"
   ]
  },
  {
   "cell_type": "code",
   "execution_count": 15,
   "metadata": {
    "collapsed": true
   },
   "outputs": [],
   "source": [
    "###: Understanding Dataset with Seaborn python library using origin as color hue"
   ]
  },
  {
   "cell_type": "code",
   "execution_count": 16,
   "metadata": {},
   "outputs": [
    {
     "name": "stderr",
     "output_type": "stream",
     "text": [
      "/Users/avkashchauhan/anaconda3/envs/python27/lib/python2.7/site-packages/numpy/lib/function_base.py:748: RuntimeWarning: invalid value encountered in greater_equal\n",
      "  keep = (tmp_a >= mn)\n",
      "/Users/avkashchauhan/anaconda3/envs/python27/lib/python2.7/site-packages/numpy/lib/function_base.py:749: RuntimeWarning: invalid value encountered in less_equal\n",
      "  keep &= (tmp_a <= mx)\n"
     ]
    },
    {
     "data": {
      "image/png": "[encoded data removed]",
      "text/plain": [
       "<matplotlib.figure.Figure at 0x110104c10>"
      ]
     },
     "metadata": {},
     "output_type": "display_data"
    }
   ],
   "source": [
    "import matplotlib.pyplot as plt\n",
    "plt.rcParams['figure.figsize'] = (12, 12)\n",
    "\n",
    "import seaborn as sns\n",
    "sns.set_context(\"notebook\")\n",
    "\n",
    "sns.pairplot(df.as_data_frame(), vars=[\"horsepower\" , \"cylinders\", \"origin\", \"weight\"], hue=\"origin\");\n",
    "plt.show()"
   ]
  },
  {
   "cell_type": "code",
   "execution_count": 17,
   "metadata": {
    "collapsed": true
   },
   "outputs": [],
   "source": [
    "###: Getting the list of classes in the response column ()"
   ]
  },
  {
   "cell_type": "code",
   "execution_count": 18,
   "metadata": {},
   "outputs": [
    {
     "data": {
      "text/plain": [
       "[['3', '4', '5', '6', '8']]"
      ]
     },
     "execution_count": 18,
     "metadata": {},
     "output_type": "execute_result"
    }
   ],
   "source": [
    "df['cylinders'].asfactor().levels()"
   ]
  },
  {
   "cell_type": "code",
   "execution_count": 19,
   "metadata": {
    "collapsed": true
   },
   "outputs": [],
   "source": [
    "###: Understanding Dataset with Seaborn python library using cylinders as color hue"
   ]
  },
  {
   "cell_type": "code",
   "execution_count": 20,
   "metadata": {},
   "outputs": [
    {
     "data": {
      "image/png": "[encoded data removed]",
      "text/plain": [
       "<matplotlib.figure.Figure at 0x110b994d0>"
      ]
     },
     "metadata": {},
     "output_type": "display_data"
    }
   ],
   "source": [
    "sns.pairplot(df.as_data_frame(), vars=[\"horsepower\" , \"origin\", \"weight\"], hue=\"cylinders\");\n",
    "plt.show()"
   ]
  },
  {
   "cell_type": "code",
   "execution_count": 21,
   "metadata": {
    "collapsed": true
   },
   "outputs": [],
   "source": [
    "###: Setting Response column"
   ]
  },
  {
   "cell_type": "code",
   "execution_count": 22,
   "metadata": {
    "collapsed": true
   },
   "outputs": [],
   "source": [
    "response = \"mpg\""
   ]
  },
  {
   "cell_type": "code",
   "execution_count": 23,
   "metadata": {
    "collapsed": true
   },
   "outputs": [],
   "source": [
    "###: Setting all columns/features into a local variable"
   ]
  },
  {
   "cell_type": "code",
   "execution_count": 24,
   "metadata": {
    "collapsed": true
   },
   "outputs": [],
   "source": [
    "features = df.col_names"
   ]
  },
  {
   "cell_type": "code",
   "execution_count": 25,
   "metadata": {
    "collapsed": true
   },
   "outputs": [],
   "source": [
    "###: Settings all features for model building"
   ]
  },
  {
   "cell_type": "code",
   "execution_count": 26,
   "metadata": {},
   "outputs": [
    {
     "name": "stdout",
     "output_type": "stream",
     "text": [
      "[u'cylinders', u'displacement', u'horsepower', u'weight', u'acceleration', u'modelyear', u'origin']\n"
     ]
    }
   ],
   "source": [
    "features.remove(response)\n",
    "print(features)"
   ]
  },
  {
   "cell_type": "code",
   "execution_count": 27,
   "metadata": {
    "collapsed": true
   },
   "outputs": [],
   "source": [
    "###: Importing H2O Distributed Random Forest library"
   ]
  },
  {
   "cell_type": "code",
   "execution_count": 28,
   "metadata": {
    "collapsed": true
   },
   "outputs": [],
   "source": [
    "from h2o.estimators.random_forest import H2ORandomForestEstimator"
   ]
  },
  {
   "cell_type": "code",
   "execution_count": 29,
   "metadata": {
    "collapsed": true
   },
   "outputs": [],
   "source": [
    "###: Setting H2O Distributed Random Forest model configuration (default)"
   ]
  },
  {
   "cell_type": "code",
   "execution_count": 30,
   "metadata": {
    "collapsed": true
   },
   "outputs": [],
   "source": [
    "drf_auto_basic = H2ORandomForestEstimator()"
   ]
  },
  {
   "cell_type": "code",
   "execution_count": 31,
   "metadata": {
    "collapsed": true
   },
   "outputs": [],
   "source": [
    "###: Training H2O Distributed Random Forest Model "
   ]
  },
  {
   "cell_type": "code",
   "execution_count": 32,
   "metadata": {},
   "outputs": [
    {
     "name": "stdout",
     "output_type": "stream",
     "text": [
      "drf Model Build progress: |███████████████████████████████████████████████| 100%\n"
     ]
    }
   ],
   "source": [
    "drf_auto_basic.train(x = features, y = response, training_frame=df)"
   ]
  },
  {
   "cell_type": "code",
   "execution_count": 33,
   "metadata": {
    "collapsed": true
   },
   "outputs": [],
   "source": [
    "###: Understanding H2O Distributed Random Forest Model"
   ]
  },
  {
   "cell_type": "code",
   "execution_count": 34,
   "metadata": {},
   "outputs": [
    {
     "name": "stdout",
     "output_type": "stream",
     "text": [
      "Model Details\n",
      "=============\n",
      "H2ORandomForestEstimator :  Distributed Random Forest\n",
      "Model Key:  DRF_model_python_1510938866462_2945\n",
      "\n",
      "\n",
      "ModelMetricsRegression: drf\n",
      "** Reported on train data. **\n",
      "\n",
      "MSE: 7.94382146831\n",
      "RMSE: 2.81847857333\n",
      "MAE: 1.95930709571\n",
      "RMSLE: 0.107692073906\n",
      "Mean Residual Deviance: 7.94382146831\n",
      "Scoring History: \n"
     ]
    },
    {
     "data": {
      "text/html": [
       "<div style=\"overflow:auto\"><table style=\"width:50%\"><tr><td><b></b></td>\n",
       "<td><b>timestamp</b></td>\n",
       "<td><b>duration</b></td>\n",
       "<td><b>number_of_trees</b></td>\n",
       "<td><b>training_rmse</b></td>\n",
       "<td><b>training_mae</b></td>\n",
       "<td><b>training_deviance</b></td></tr>\n",
       "<tr><td></td>\n",
       "<td>2017-11-17 09:36:37</td>\n",
       "<td> 0.000 sec</td>\n",
       "<td>0.0</td>\n",
       "<td>nan</td>\n",
       "<td>nan</td>\n",
       "<td>nan</td></tr>\n",
       "<tr><td></td>\n",
       "<td>2017-11-17 09:36:37</td>\n",
       "<td> 0.017 sec</td>\n",
       "<td>1.0</td>\n",
       "<td>3.9404640</td>\n",
       "<td>2.7493055</td>\n",
       "<td>15.5272563</td></tr>\n",
       "<tr><td></td>\n",
       "<td>2017-11-17 09:36:37</td>\n",
       "<td> 0.019 sec</td>\n",
       "<td>2.0</td>\n",
       "<td>4.2933597</td>\n",
       "<td>2.8320436</td>\n",
       "<td>18.4329376</td></tr>\n",
       "<tr><td></td>\n",
       "<td>2017-11-17 09:36:37</td>\n",
       "<td> 0.022 sec</td>\n",
       "<td>3.0</td>\n",
       "<td>4.1052659</td>\n",
       "<td>2.6807650</td>\n",
       "<td>16.8532078</td></tr>\n",
       "<tr><td></td>\n",
       "<td>2017-11-17 09:36:37</td>\n",
       "<td> 0.025 sec</td>\n",
       "<td>4.0</td>\n",
       "<td>4.0015242</td>\n",
       "<td>2.6359140</td>\n",
       "<td>16.0121961</td></tr>\n",
       "<tr><td>---</td>\n",
       "<td>---</td>\n",
       "<td>---</td>\n",
       "<td>---</td>\n",
       "<td>---</td>\n",
       "<td>---</td>\n",
       "<td>---</td></tr>\n",
       "<tr><td></td>\n",
       "<td>2017-11-17 09:36:37</td>\n",
       "<td> 0.165 sec</td>\n",
       "<td>46.0</td>\n",
       "<td>2.8310031</td>\n",
       "<td>1.9726362</td>\n",
       "<td>8.0145786</td></tr>\n",
       "<tr><td></td>\n",
       "<td>2017-11-17 09:36:37</td>\n",
       "<td> 0.168 sec</td>\n",
       "<td>47.0</td>\n",
       "<td>2.8346121</td>\n",
       "<td>1.9747831</td>\n",
       "<td>8.0350259</td></tr>\n",
       "<tr><td></td>\n",
       "<td>2017-11-17 09:36:37</td>\n",
       "<td> 0.171 sec</td>\n",
       "<td>48.0</td>\n",
       "<td>2.8343802</td>\n",
       "<td>1.9720317</td>\n",
       "<td>8.0337111</td></tr>\n",
       "<tr><td></td>\n",
       "<td>2017-11-17 09:36:37</td>\n",
       "<td> 0.174 sec</td>\n",
       "<td>49.0</td>\n",
       "<td>2.8279683</td>\n",
       "<td>1.9686920</td>\n",
       "<td>7.9974047</td></tr>\n",
       "<tr><td></td>\n",
       "<td>2017-11-17 09:36:37</td>\n",
       "<td> 0.177 sec</td>\n",
       "<td>50.0</td>\n",
       "<td>2.8184786</td>\n",
       "<td>1.9593071</td>\n",
       "<td>7.9438215</td></tr></table></div>"
      ],
      "text/plain": [
       "     timestamp            duration    number_of_trees    training_rmse    training_mae    training_deviance\n",
       "---  -------------------  ----------  -----------------  ---------------  --------------  -------------------\n",
       "     2017-11-17 09:36:37  0.000 sec   0.0                nan              nan             nan\n",
       "     2017-11-17 09:36:37  0.017 sec   1.0                3.94046397091    2.74930552642   15.527256306\n",
       "     2017-11-17 09:36:37  0.019 sec   2.0                4.29335971115    2.83204357965   18.4329376094\n",
       "     2017-11-17 09:36:37  0.022 sec   3.0                4.10526586627    2.68076499981   16.8532078328\n",
       "     2017-11-17 09:36:37  0.025 sec   4.0                4.0015242246     2.63591396215   16.0121961201\n",
       "---  ---                  ---         ---                ---              ---             ---\n",
       "     2017-11-17 09:36:37  0.165 sec   46.0               2.83100310414    1.97263624227   8.01457857567\n",
       "     2017-11-17 09:36:37  0.168 sec   47.0               2.83461213085    1.97478310247   8.03502593234\n",
       "     2017-11-17 09:36:37  0.171 sec   48.0               2.83438019816    1.97203174397   8.03371110772\n",
       "     2017-11-17 09:36:37  0.174 sec   49.0               2.82796829486    1.9686920247    7.99740467672\n",
       "     2017-11-17 09:36:37  0.177 sec   50.0               2.81847857333    1.95930709571   7.94382146831"
      ]
     },
     "metadata": {},
     "output_type": "display_data"
    },
    {
     "name": "stdout",
     "output_type": "stream",
     "text": [
      "\n",
      "See the whole table with table.as_data_frame()\n",
      "Variable Importances: \n"
     ]
    },
    {
     "data": {
      "text/html": [
       "<div style=\"overflow:auto\"><table style=\"width:50%\"><tr><td><b>variable</b></td>\n",
       "<td><b>relative_importance</b></td>\n",
       "<td><b>scaled_importance</b></td>\n",
       "<td><b>percentage</b></td></tr>\n",
       "<tr><td>displacement</td>\n",
       "<td>254471.3281250</td>\n",
       "<td>1.0</td>\n",
       "<td>0.2531211</td></tr>\n",
       "<tr><td>cylinders</td>\n",
       "<td>232369.7031250</td>\n",
       "<td>0.9131469</td>\n",
       "<td>0.2311368</td></tr>\n",
       "<tr><td>weight</td>\n",
       "<td>214117.2031250</td>\n",
       "<td>0.8414198</td>\n",
       "<td>0.2129811</td></tr>\n",
       "<tr><td>modelyear</td>\n",
       "<td>123997.0156250</td>\n",
       "<td>0.4872730</td>\n",
       "<td>0.1233391</td></tr>\n",
       "<tr><td>horsepower</td>\n",
       "<td>120871.4609380</td>\n",
       "<td>0.4749905</td>\n",
       "<td>0.1202301</td></tr>\n",
       "<tr><td>acceleration</td>\n",
       "<td>33237.8789062</td>\n",
       "<td>0.1306154</td>\n",
       "<td>0.0330615</td></tr>\n",
       "<tr><td>origin</td>\n",
       "<td>26269.6152344</td>\n",
       "<td>0.1032321</td>\n",
       "<td>0.0261302</td></tr></table></div>"
      ],
      "text/plain": [
       "variable      relative_importance    scaled_importance    percentage\n",
       "------------  ---------------------  -------------------  ------------\n",
       "displacement  254471                 1                    0.253121\n",
       "cylinders     232370                 0.913147             0.231137\n",
       "weight        214117                 0.84142              0.212981\n",
       "modelyear     123997                 0.487273             0.123339\n",
       "horsepower    120871                 0.47499              0.12023\n",
       "acceleration  33237.9                0.130615             0.0330615\n",
       "origin        26269.6                0.103232             0.0261302"
      ]
     },
     "metadata": {},
     "output_type": "display_data"
    },
    {
     "data": {
      "text/plain": []
     },
     "execution_count": 34,
     "metadata": {},
     "output_type": "execute_result"
    }
   ],
   "source": [
    "drf_auto_basic"
   ]
  },
  {
   "cell_type": "code",
   "execution_count": 35,
   "metadata": {
    "collapsed": true
   },
   "outputs": [],
   "source": [
    "###: Understanding H2O Distributed Random Forest Model overall performance based on training data"
   ]
  },
  {
   "cell_type": "code",
   "execution_count": 36,
   "metadata": {},
   "outputs": [
    {
     "name": "stdout",
     "output_type": "stream",
     "text": [
      "\n",
      "ModelMetricsRegression: drf\n",
      "** Reported on train data. **\n",
      "\n",
      "MSE: 7.94382146831\n",
      "RMSE: 2.81847857333\n",
      "MAE: 1.95930709571\n",
      "RMSLE: 0.107692073906\n",
      "Mean Residual Deviance: 7.94382146831\n"
     ]
    },
    {
     "data": {
      "text/plain": []
     },
     "execution_count": 36,
     "metadata": {},
     "output_type": "execute_result"
    }
   ],
   "source": [
    "drf_auto_basic.model_performance(train=True)"
   ]
  },
  {
   "cell_type": "code",
   "execution_count": 37,
   "metadata": {
    "collapsed": true
   },
   "outputs": [],
   "source": [
    "###: Understanding H2O Distributed Random Forest Model - r2 Model metrics based on training data"
   ]
  },
  {
   "cell_type": "code",
   "execution_count": 38,
   "metadata": {},
   "outputs": [
    {
     "data": {
      "text/plain": [
       "0.8696368975136602"
      ]
     },
     "execution_count": 38,
     "metadata": {},
     "output_type": "execute_result"
    }
   ],
   "source": [
    "drf_auto_basic.model_performance(train=True).r2()"
   ]
  },
  {
   "cell_type": "code",
   "execution_count": 39,
   "metadata": {
    "collapsed": true
   },
   "outputs": [],
   "source": [
    "###: Setting H2O Distributed Random Forest model configuration to use cross validation with 5 folds"
   ]
  },
  {
   "cell_type": "code",
   "execution_count": 40,
   "metadata": {
    "collapsed": true
   },
   "outputs": [],
   "source": [
    "drf_auto_cv = H2ORandomForestEstimator(nfolds = 5)"
   ]
  },
  {
   "cell_type": "code",
   "execution_count": 41,
   "metadata": {
    "collapsed": true
   },
   "outputs": [],
   "source": [
    "###: Training H2O Distributed Random Forest Model "
   ]
  },
  {
   "cell_type": "code",
   "execution_count": 42,
   "metadata": {},
   "outputs": [
    {
     "name": "stdout",
     "output_type": "stream",
     "text": [
      "drf Model Build progress: |███████████████████████████████████████████████| 100%\n"
     ]
    }
   ],
   "source": [
    "drf_auto_cv.train(x = features, y = response, training_frame=df)"
   ]
  },
  {
   "cell_type": "code",
   "execution_count": 43,
   "metadata": {},
   "outputs": [
    {
     "name": "stdout",
     "output_type": "stream",
     "text": [
      "Model Details\n",
      "=============\n",
      "H2ORandomForestEstimator :  Distributed Random Forest\n",
      "Model Key:  DRF_model_python_1510938866462_2946\n",
      "\n",
      "\n",
      "ModelMetricsRegression: drf\n",
      "** Reported on train data. **\n",
      "\n",
      "MSE: 8.11608679755\n",
      "RMSE: 2.84887465459\n",
      "MAE: 2.00881205659\n",
      "RMSLE: 0.108418945751\n",
      "Mean Residual Deviance: 8.11608679755\n",
      "\n",
      "ModelMetricsRegression: drf\n",
      "** Reported on cross-validation data. **\n",
      "\n",
      "MSE: 7.21456378497\n",
      "RMSE: 2.68599400315\n",
      "MAE: 1.87661373215\n",
      "RMSLE: 0.10311882912\n",
      "Mean Residual Deviance: 7.21456378497\n",
      "Cross-Validation Metrics Summary: \n"
     ]
    },
    {
     "data": {
      "text/html": [
       "<div style=\"overflow:auto\"><table style=\"width:50%\"><tr><td><b></b></td>\n",
       "<td><b>mean</b></td>\n",
       "<td><b>sd</b></td>\n",
       "<td><b>cv_1_valid</b></td>\n",
       "<td><b>cv_2_valid</b></td>\n",
       "<td><b>cv_3_valid</b></td>\n",
       "<td><b>cv_4_valid</b></td>\n",
       "<td><b>cv_5_valid</b></td></tr>\n",
       "<tr><td>mae</td>\n",
       "<td>1.8823913</td>\n",
       "<td>0.0975172</td>\n",
       "<td>2.1086888</td>\n",
       "<td>1.7855054</td>\n",
       "<td>1.8851272</td>\n",
       "<td>1.9298064</td>\n",
       "<td>1.7028285</td></tr>\n",
       "<tr><td>mean_residual_deviance</td>\n",
       "<td>7.229416</td>\n",
       "<td>0.8418353</td>\n",
       "<td>8.297349</td>\n",
       "<td>8.269222</td>\n",
       "<td>7.4222226</td>\n",
       "<td>7.123596</td>\n",
       "<td>5.034691</td></tr>\n",
       "<tr><td>mse</td>\n",
       "<td>7.229416</td>\n",
       "<td>0.8418353</td>\n",
       "<td>8.297349</td>\n",
       "<td>8.269222</td>\n",
       "<td>7.4222226</td>\n",
       "<td>7.123596</td>\n",
       "<td>5.034691</td></tr>\n",
       "<tr><td>r2</td>\n",
       "<td>0.8799374</td>\n",
       "<td>0.0166533</td>\n",
       "<td>0.8661203</td>\n",
       "<td>0.8510977</td>\n",
       "<td>0.8743213</td>\n",
       "<td>0.8874303</td>\n",
       "<td>0.9207175</td></tr>\n",
       "<tr><td>residual_deviance</td>\n",
       "<td>7.229416</td>\n",
       "<td>0.8418353</td>\n",
       "<td>8.297349</td>\n",
       "<td>8.269222</td>\n",
       "<td>7.4222226</td>\n",
       "<td>7.123596</td>\n",
       "<td>5.034691</td></tr>\n",
       "<tr><td>rmse</td>\n",
       "<td>2.6786664</td>\n",
       "<td>0.1645648</td>\n",
       "<td>2.8805118</td>\n",
       "<td>2.8756256</td>\n",
       "<td>2.7243757</td>\n",
       "<td>2.6690066</td>\n",
       "<td>2.2438116</td></tr>\n",
       "<tr><td>rmsle</td>\n",
       "<td>0.1030379</td>\n",
       "<td>0.0064223</td>\n",
       "<td>0.1159096</td>\n",
       "<td>0.1019539</td>\n",
       "<td>0.1089966</td>\n",
       "<td>0.0992945</td>\n",
       "<td>0.0890347</td></tr></table></div>"
      ],
      "text/plain": [
       "                        mean      sd          cv_1_valid    cv_2_valid    cv_3_valid    cv_4_valid    cv_5_valid\n",
       "----------------------  --------  ----------  ------------  ------------  ------------  ------------  ------------\n",
       "mae                     1.88239   0.0975172   2.10869       1.78551       1.88513       1.92981       1.70283\n",
       "mean_residual_deviance  7.22942   0.841835    8.29735       8.26922       7.42222       7.1236        5.03469\n",
       "mse                     7.22942   0.841835    8.29735       8.26922       7.42222       7.1236        5.03469\n",
       "r2                      0.879937  0.0166533   0.86612       0.851098      0.874321      0.88743       0.920717\n",
       "residual_deviance       7.22942   0.841835    8.29735       8.26922       7.42222       7.1236        5.03469\n",
       "rmse                    2.67867   0.164565    2.88051       2.87563       2.72438       2.66901       2.24381\n",
       "rmsle                   0.103038  0.00642234  0.11591       0.101954      0.108997      0.0992945     0.0890347"
      ]
     },
     "metadata": {},
     "output_type": "display_data"
    },
    {
     "name": "stdout",
     "output_type": "stream",
     "text": [
      "Scoring History: \n"
     ]
    },
    {
     "data": {
      "text/html": [
       "<div style=\"overflow:auto\"><table style=\"width:50%\"><tr><td><b></b></td>\n",
       "<td><b>timestamp</b></td>\n",
       "<td><b>duration</b></td>\n",
       "<td><b>number_of_trees</b></td>\n",
       "<td><b>training_rmse</b></td>\n",
       "<td><b>training_mae</b></td>\n",
       "<td><b>training_deviance</b></td></tr>\n",
       "<tr><td></td>\n",
       "<td>2017-11-17 09:36:43</td>\n",
       "<td> 0.263 sec</td>\n",
       "<td>0.0</td>\n",
       "<td>nan</td>\n",
       "<td>nan</td>\n",
       "<td>nan</td></tr>\n",
       "<tr><td></td>\n",
       "<td>2017-11-17 09:36:43</td>\n",
       "<td> 0.265 sec</td>\n",
       "<td>1.0</td>\n",
       "<td>4.1252799</td>\n",
       "<td>2.7948387</td>\n",
       "<td>17.0179345</td></tr>\n",
       "<tr><td></td>\n",
       "<td>2017-11-17 09:36:43</td>\n",
       "<td> 0.267 sec</td>\n",
       "<td>2.0</td>\n",
       "<td>4.2812197</td>\n",
       "<td>2.8687243</td>\n",
       "<td>18.3288417</td></tr>\n",
       "<tr><td></td>\n",
       "<td>2017-11-17 09:36:43</td>\n",
       "<td> 0.270 sec</td>\n",
       "<td>3.0</td>\n",
       "<td>4.0743863</td>\n",
       "<td>2.6550798</td>\n",
       "<td>16.6006237</td></tr>\n",
       "<tr><td></td>\n",
       "<td>2017-11-17 09:36:43</td>\n",
       "<td> 0.272 sec</td>\n",
       "<td>4.0</td>\n",
       "<td>3.9750544</td>\n",
       "<td>2.6270914</td>\n",
       "<td>15.8010574</td></tr>\n",
       "<tr><td>---</td>\n",
       "<td>---</td>\n",
       "<td>---</td>\n",
       "<td>---</td>\n",
       "<td>---</td>\n",
       "<td>---</td>\n",
       "<td>---</td></tr>\n",
       "<tr><td></td>\n",
       "<td>2017-11-17 09:36:44</td>\n",
       "<td> 0.385 sec</td>\n",
       "<td>46.0</td>\n",
       "<td>2.8878042</td>\n",
       "<td>2.0295902</td>\n",
       "<td>8.3394133</td></tr>\n",
       "<tr><td></td>\n",
       "<td>2017-11-17 09:36:44</td>\n",
       "<td> 0.387 sec</td>\n",
       "<td>47.0</td>\n",
       "<td>2.8662435</td>\n",
       "<td>2.0219617</td>\n",
       "<td>8.2153518</td></tr>\n",
       "<tr><td></td>\n",
       "<td>2017-11-17 09:36:44</td>\n",
       "<td> 0.390 sec</td>\n",
       "<td>48.0</td>\n",
       "<td>2.8649470</td>\n",
       "<td>2.0217015</td>\n",
       "<td>8.2079216</td></tr>\n",
       "<tr><td></td>\n",
       "<td>2017-11-17 09:36:44</td>\n",
       "<td> 0.393 sec</td>\n",
       "<td>49.0</td>\n",
       "<td>2.8627101</td>\n",
       "<td>2.0159832</td>\n",
       "<td>8.1951092</td></tr>\n",
       "<tr><td></td>\n",
       "<td>2017-11-17 09:36:44</td>\n",
       "<td> 0.396 sec</td>\n",
       "<td>50.0</td>\n",
       "<td>2.8488747</td>\n",
       "<td>2.0088121</td>\n",
       "<td>8.1160868</td></tr></table></div>"
      ],
      "text/plain": [
       "     timestamp            duration    number_of_trees    training_rmse    training_mae    training_deviance\n",
       "---  -------------------  ----------  -----------------  ---------------  --------------  -------------------\n",
       "     2017-11-17 09:36:43  0.263 sec   0.0                nan              nan             nan\n",
       "     2017-11-17 09:36:43  0.265 sec   1.0                4.12527992762    2.79483867768   17.0179344812\n",
       "     2017-11-17 09:36:43  0.267 sec   2.0                4.28121965385    2.86872425393   18.3288417246\n",
       "     2017-11-17 09:36:43  0.270 sec   3.0                4.07438629907    2.65507984815   16.600623714\n",
       "     2017-11-17 09:36:43  0.272 sec   4.0                3.97505439127    2.62709138745   15.8010574136\n",
       "---  ---                  ---         ---                ---              ---             ---\n",
       "     2017-11-17 09:36:44  0.385 sec   46.0               2.8878042411     2.02959022631   8.33941333491\n",
       "     2017-11-17 09:36:44  0.387 sec   47.0               2.86624349146    2.02196170701   8.21535175237\n",
       "     2017-11-17 09:36:44  0.390 sec   48.0               2.86494704194    2.02170145948   8.20792155313\n",
       "     2017-11-17 09:36:44  0.393 sec   49.0               2.86271012065    2.01598315189   8.1951092349\n",
       "     2017-11-17 09:36:44  0.396 sec   50.0               2.84887465459    2.00881205659   8.11608679755"
      ]
     },
     "metadata": {},
     "output_type": "display_data"
    },
    {
     "name": "stdout",
     "output_type": "stream",
     "text": [
      "\n",
      "See the whole table with table.as_data_frame()\n",
      "Variable Importances: \n"
     ]
    },
    {
     "data": {
      "text/html": [
       "<div style=\"overflow:auto\"><table style=\"width:50%\"><tr><td><b>variable</b></td>\n",
       "<td><b>relative_importance</b></td>\n",
       "<td><b>scaled_importance</b></td>\n",
       "<td><b>percentage</b></td></tr>\n",
       "<tr><td>displacement</td>\n",
       "<td>277565.7187500</td>\n",
       "<td>1.0</td>\n",
       "<td>0.2805568</td></tr>\n",
       "<tr><td>weight</td>\n",
       "<td>183121.8281250</td>\n",
       "<td>0.6597422</td>\n",
       "<td>0.1850951</td></tr>\n",
       "<tr><td>horsepower</td>\n",
       "<td>174312.9218750</td>\n",
       "<td>0.6280059</td>\n",
       "<td>0.1761913</td></tr>\n",
       "<tr><td>cylinders</td>\n",
       "<td>150173.4843750</td>\n",
       "<td>0.5410376</td>\n",
       "<td>0.1517917</td></tr>\n",
       "<tr><td>modelyear</td>\n",
       "<td>149632.5</td>\n",
       "<td>0.5390885</td>\n",
       "<td>0.1512449</td></tr>\n",
       "<tr><td>acceleration</td>\n",
       "<td>33425.8085938</td>\n",
       "<td>0.1204248</td>\n",
       "<td>0.0337860</td></tr>\n",
       "<tr><td>origin</td>\n",
       "<td>21106.6660156</td>\n",
       "<td>0.0760420</td>\n",
       "<td>0.0213341</td></tr></table></div>"
      ],
      "text/plain": [
       "variable      relative_importance    scaled_importance    percentage\n",
       "------------  ---------------------  -------------------  ------------\n",
       "displacement  277566                 1                    0.280557\n",
       "weight        183122                 0.659742             0.185095\n",
       "horsepower    174313                 0.628006             0.176191\n",
       "cylinders     150173                 0.541038             0.151792\n",
       "modelyear     149632                 0.539089             0.151245\n",
       "acceleration  33425.8                0.120425             0.033786\n",
       "origin        21106.7                0.076042             0.0213341"
      ]
     },
     "metadata": {},
     "output_type": "display_data"
    },
    {
     "data": {
      "text/plain": []
     },
     "execution_count": 43,
     "metadata": {},
     "output_type": "execute_result"
    }
   ],
   "source": [
    "drf_auto_cv"
   ]
  },
  {
   "cell_type": "code",
   "execution_count": 44,
   "metadata": {
    "collapsed": true
   },
   "outputs": [],
   "source": [
    "###: Understanding H2O Distributed Random Forest Model overall performance based on training data (r2 only)"
   ]
  },
  {
   "cell_type": "code",
   "execution_count": 45,
   "metadata": {},
   "outputs": [
    {
     "data": {
      "text/plain": [
       "0.8668099152028861"
      ]
     },
     "execution_count": 45,
     "metadata": {},
     "output_type": "execute_result"
    }
   ],
   "source": [
    "drf_auto_cv.model_performance(train=True).r2()"
   ]
  },
  {
   "cell_type": "code",
   "execution_count": 46,
   "metadata": {
    "collapsed": true
   },
   "outputs": [],
   "source": [
    "###: Understanding H2O Distributed Random Forest Model overall performance based on cross validation data (r2 only)"
   ]
  },
  {
   "cell_type": "code",
   "execution_count": 47,
   "metadata": {},
   "outputs": [
    {
     "data": {
      "text/plain": [
       "0.8816044743897974"
      ]
     },
     "execution_count": 47,
     "metadata": {},
     "output_type": "execute_result"
    }
   ],
   "source": [
    "drf_auto_cv.model_performance(xval=True).r2()"
   ]
  },
  {
   "cell_type": "code",
   "execution_count": 48,
   "metadata": {
    "collapsed": true
   },
   "outputs": [],
   "source": [
    "###: Understanding H2O Distributed Random Forest Model scoring History"
   ]
  },
  {
   "cell_type": "code",
   "execution_count": 49,
   "metadata": {},
   "outputs": [
    {
     "data": {
      "text/html": [
       "<div>\n",
       "<style>\n",
       "    .dataframe thead tr:only-child th {\n",
       "        text-align: right;\n",
       "    }\n",
       "\n",
       "    .dataframe thead th {\n",
       "        text-align: left;\n",
       "    }\n",
       "\n",
       "    .dataframe tbody tr th {\n",
       "        vertical-align: top;\n",
       "    }\n",
       "</style>\n",
       "<table border=\"1\" class=\"dataframe\">\n",
       "  <thead>\n",
       "    <tr style=\"text-align: right;\">\n",
       "      <th></th>\n",
       "      <th></th>\n",
       "      <th>timestamp</th>\n",
       "      <th>duration</th>\n",
       "      <th>number_of_trees</th>\n",
       "      <th>training_rmse</th>\n",
       "      <th>training_mae</th>\n",
       "      <th>training_deviance</th>\n",
       "    </tr>\n",
       "  </thead>\n",
       "  <tbody>\n",
       "    <tr>\n",
       "      <th>0</th>\n",
       "      <td></td>\n",
       "      <td>2017-11-17 09:36:43</td>\n",
       "      <td>0.263 sec</td>\n",
       "      <td>0.0</td>\n",
       "      <td>NaN</td>\n",
       "      <td>NaN</td>\n",
       "      <td>NaN</td>\n",
       "    </tr>\n",
       "    <tr>\n",
       "      <th>1</th>\n",
       "      <td></td>\n",
       "      <td>2017-11-17 09:36:43</td>\n",
       "      <td>0.265 sec</td>\n",
       "      <td>1.0</td>\n",
       "      <td>4.125280</td>\n",
       "      <td>2.794839</td>\n",
       "      <td>17.017934</td>\n",
       "    </tr>\n",
       "    <tr>\n",
       "      <th>2</th>\n",
       "      <td></td>\n",
       "      <td>2017-11-17 09:36:43</td>\n",
       "      <td>0.267 sec</td>\n",
       "      <td>2.0</td>\n",
       "      <td>4.281220</td>\n",
       "      <td>2.868724</td>\n",
       "      <td>18.328842</td>\n",
       "    </tr>\n",
       "    <tr>\n",
       "      <th>3</th>\n",
       "      <td></td>\n",
       "      <td>2017-11-17 09:36:43</td>\n",
       "      <td>0.270 sec</td>\n",
       "      <td>3.0</td>\n",
       "      <td>4.074386</td>\n",
       "      <td>2.655080</td>\n",
       "      <td>16.600624</td>\n",
       "    </tr>\n",
       "    <tr>\n",
       "      <th>4</th>\n",
       "      <td></td>\n",
       "      <td>2017-11-17 09:36:43</td>\n",
       "      <td>0.272 sec</td>\n",
       "      <td>4.0</td>\n",
       "      <td>3.975054</td>\n",
       "      <td>2.627091</td>\n",
       "      <td>15.801057</td>\n",
       "    </tr>\n",
       "    <tr>\n",
       "      <th>5</th>\n",
       "      <td></td>\n",
       "      <td>2017-11-17 09:36:43</td>\n",
       "      <td>0.275 sec</td>\n",
       "      <td>5.0</td>\n",
       "      <td>3.931932</td>\n",
       "      <td>2.664318</td>\n",
       "      <td>15.460088</td>\n",
       "    </tr>\n",
       "    <tr>\n",
       "      <th>6</th>\n",
       "      <td></td>\n",
       "      <td>2017-11-17 09:36:43</td>\n",
       "      <td>0.278 sec</td>\n",
       "      <td>6.0</td>\n",
       "      <td>3.769625</td>\n",
       "      <td>2.597292</td>\n",
       "      <td>14.210070</td>\n",
       "    </tr>\n",
       "    <tr>\n",
       "      <th>7</th>\n",
       "      <td></td>\n",
       "      <td>2017-11-17 09:36:43</td>\n",
       "      <td>0.281 sec</td>\n",
       "      <td>7.0</td>\n",
       "      <td>3.771280</td>\n",
       "      <td>2.567033</td>\n",
       "      <td>14.222551</td>\n",
       "    </tr>\n",
       "    <tr>\n",
       "      <th>8</th>\n",
       "      <td></td>\n",
       "      <td>2017-11-17 09:36:43</td>\n",
       "      <td>0.283 sec</td>\n",
       "      <td>8.0</td>\n",
       "      <td>3.599448</td>\n",
       "      <td>2.449148</td>\n",
       "      <td>12.956025</td>\n",
       "    </tr>\n",
       "    <tr>\n",
       "      <th>9</th>\n",
       "      <td></td>\n",
       "      <td>2017-11-17 09:36:43</td>\n",
       "      <td>0.286 sec</td>\n",
       "      <td>9.0</td>\n",
       "      <td>3.547222</td>\n",
       "      <td>2.425793</td>\n",
       "      <td>12.582782</td>\n",
       "    </tr>\n",
       "    <tr>\n",
       "      <th>10</th>\n",
       "      <td></td>\n",
       "      <td>2017-11-17 09:36:43</td>\n",
       "      <td>0.289 sec</td>\n",
       "      <td>10.0</td>\n",
       "      <td>3.401205</td>\n",
       "      <td>2.323078</td>\n",
       "      <td>11.568195</td>\n",
       "    </tr>\n",
       "    <tr>\n",
       "      <th>11</th>\n",
       "      <td></td>\n",
       "      <td>2017-11-17 09:36:43</td>\n",
       "      <td>0.292 sec</td>\n",
       "      <td>11.0</td>\n",
       "      <td>3.310693</td>\n",
       "      <td>2.260448</td>\n",
       "      <td>10.960686</td>\n",
       "    </tr>\n",
       "    <tr>\n",
       "      <th>12</th>\n",
       "      <td></td>\n",
       "      <td>2017-11-17 09:36:43</td>\n",
       "      <td>0.295 sec</td>\n",
       "      <td>12.0</td>\n",
       "      <td>3.218975</td>\n",
       "      <td>2.195852</td>\n",
       "      <td>10.361798</td>\n",
       "    </tr>\n",
       "    <tr>\n",
       "      <th>13</th>\n",
       "      <td></td>\n",
       "      <td>2017-11-17 09:36:43</td>\n",
       "      <td>0.298 sec</td>\n",
       "      <td>13.0</td>\n",
       "      <td>3.141566</td>\n",
       "      <td>2.147607</td>\n",
       "      <td>9.869437</td>\n",
       "    </tr>\n",
       "    <tr>\n",
       "      <th>14</th>\n",
       "      <td></td>\n",
       "      <td>2017-11-17 09:36:43</td>\n",
       "      <td>0.300 sec</td>\n",
       "      <td>14.0</td>\n",
       "      <td>3.142508</td>\n",
       "      <td>2.155933</td>\n",
       "      <td>9.875355</td>\n",
       "    </tr>\n",
       "    <tr>\n",
       "      <th>15</th>\n",
       "      <td></td>\n",
       "      <td>2017-11-17 09:36:43</td>\n",
       "      <td>0.303 sec</td>\n",
       "      <td>15.0</td>\n",
       "      <td>3.078231</td>\n",
       "      <td>2.127054</td>\n",
       "      <td>9.475504</td>\n",
       "    </tr>\n",
       "    <tr>\n",
       "      <th>16</th>\n",
       "      <td></td>\n",
       "      <td>2017-11-17 09:36:43</td>\n",
       "      <td>0.306 sec</td>\n",
       "      <td>16.0</td>\n",
       "      <td>3.085225</td>\n",
       "      <td>2.125226</td>\n",
       "      <td>9.518612</td>\n",
       "    </tr>\n",
       "    <tr>\n",
       "      <th>17</th>\n",
       "      <td></td>\n",
       "      <td>2017-11-17 09:36:43</td>\n",
       "      <td>0.309 sec</td>\n",
       "      <td>17.0</td>\n",
       "      <td>3.047002</td>\n",
       "      <td>2.104103</td>\n",
       "      <td>9.284224</td>\n",
       "    </tr>\n",
       "    <tr>\n",
       "      <th>18</th>\n",
       "      <td></td>\n",
       "      <td>2017-11-17 09:36:43</td>\n",
       "      <td>0.312 sec</td>\n",
       "      <td>18.0</td>\n",
       "      <td>3.011359</td>\n",
       "      <td>2.085568</td>\n",
       "      <td>9.068284</td>\n",
       "    </tr>\n",
       "    <tr>\n",
       "      <th>19</th>\n",
       "      <td></td>\n",
       "      <td>2017-11-17 09:36:43</td>\n",
       "      <td>0.315 sec</td>\n",
       "      <td>19.0</td>\n",
       "      <td>3.035185</td>\n",
       "      <td>2.100468</td>\n",
       "      <td>9.212350</td>\n",
       "    </tr>\n",
       "    <tr>\n",
       "      <th>20</th>\n",
       "      <td></td>\n",
       "      <td>2017-11-17 09:36:43</td>\n",
       "      <td>0.318 sec</td>\n",
       "      <td>20.0</td>\n",
       "      <td>3.006447</td>\n",
       "      <td>2.074475</td>\n",
       "      <td>9.038722</td>\n",
       "    </tr>\n",
       "    <tr>\n",
       "      <th>21</th>\n",
       "      <td></td>\n",
       "      <td>2017-11-17 09:36:43</td>\n",
       "      <td>0.320 sec</td>\n",
       "      <td>21.0</td>\n",
       "      <td>2.974830</td>\n",
       "      <td>2.061119</td>\n",
       "      <td>8.849616</td>\n",
       "    </tr>\n",
       "    <tr>\n",
       "      <th>22</th>\n",
       "      <td></td>\n",
       "      <td>2017-11-17 09:36:43</td>\n",
       "      <td>0.323 sec</td>\n",
       "      <td>22.0</td>\n",
       "      <td>2.964941</td>\n",
       "      <td>2.067528</td>\n",
       "      <td>8.790878</td>\n",
       "    </tr>\n",
       "    <tr>\n",
       "      <th>23</th>\n",
       "      <td></td>\n",
       "      <td>2017-11-17 09:36:43</td>\n",
       "      <td>0.325 sec</td>\n",
       "      <td>23.0</td>\n",
       "      <td>2.957258</td>\n",
       "      <td>2.057848</td>\n",
       "      <td>8.745375</td>\n",
       "    </tr>\n",
       "    <tr>\n",
       "      <th>24</th>\n",
       "      <td></td>\n",
       "      <td>2017-11-17 09:36:43</td>\n",
       "      <td>0.328 sec</td>\n",
       "      <td>24.0</td>\n",
       "      <td>2.942347</td>\n",
       "      <td>2.054864</td>\n",
       "      <td>8.657407</td>\n",
       "    </tr>\n",
       "    <tr>\n",
       "      <th>25</th>\n",
       "      <td></td>\n",
       "      <td>2017-11-17 09:36:43</td>\n",
       "      <td>0.331 sec</td>\n",
       "      <td>25.0</td>\n",
       "      <td>2.936911</td>\n",
       "      <td>2.048976</td>\n",
       "      <td>8.625447</td>\n",
       "    </tr>\n",
       "    <tr>\n",
       "      <th>26</th>\n",
       "      <td></td>\n",
       "      <td>2017-11-17 09:36:43</td>\n",
       "      <td>0.333 sec</td>\n",
       "      <td>26.0</td>\n",
       "      <td>2.923693</td>\n",
       "      <td>2.049964</td>\n",
       "      <td>8.547981</td>\n",
       "    </tr>\n",
       "    <tr>\n",
       "      <th>27</th>\n",
       "      <td></td>\n",
       "      <td>2017-11-17 09:36:43</td>\n",
       "      <td>0.336 sec</td>\n",
       "      <td>27.0</td>\n",
       "      <td>2.917553</td>\n",
       "      <td>2.047969</td>\n",
       "      <td>8.512116</td>\n",
       "    </tr>\n",
       "    <tr>\n",
       "      <th>28</th>\n",
       "      <td></td>\n",
       "      <td>2017-11-17 09:36:43</td>\n",
       "      <td>0.339 sec</td>\n",
       "      <td>28.0</td>\n",
       "      <td>2.921062</td>\n",
       "      <td>2.044477</td>\n",
       "      <td>8.532604</td>\n",
       "    </tr>\n",
       "    <tr>\n",
       "      <th>29</th>\n",
       "      <td></td>\n",
       "      <td>2017-11-17 09:36:43</td>\n",
       "      <td>0.342 sec</td>\n",
       "      <td>29.0</td>\n",
       "      <td>2.908629</td>\n",
       "      <td>2.039289</td>\n",
       "      <td>8.460120</td>\n",
       "    </tr>\n",
       "    <tr>\n",
       "      <th>30</th>\n",
       "      <td></td>\n",
       "      <td>2017-11-17 09:36:43</td>\n",
       "      <td>0.344 sec</td>\n",
       "      <td>30.0</td>\n",
       "      <td>2.888924</td>\n",
       "      <td>2.023035</td>\n",
       "      <td>8.345882</td>\n",
       "    </tr>\n",
       "    <tr>\n",
       "      <th>31</th>\n",
       "      <td></td>\n",
       "      <td>2017-11-17 09:36:43</td>\n",
       "      <td>0.347 sec</td>\n",
       "      <td>31.0</td>\n",
       "      <td>2.888150</td>\n",
       "      <td>2.019607</td>\n",
       "      <td>8.341408</td>\n",
       "    </tr>\n",
       "    <tr>\n",
       "      <th>32</th>\n",
       "      <td></td>\n",
       "      <td>2017-11-17 09:36:43</td>\n",
       "      <td>0.350 sec</td>\n",
       "      <td>32.0</td>\n",
       "      <td>2.865718</td>\n",
       "      <td>2.008584</td>\n",
       "      <td>8.212340</td>\n",
       "    </tr>\n",
       "    <tr>\n",
       "      <th>33</th>\n",
       "      <td></td>\n",
       "      <td>2017-11-17 09:36:43</td>\n",
       "      <td>0.352 sec</td>\n",
       "      <td>33.0</td>\n",
       "      <td>2.871715</td>\n",
       "      <td>2.013731</td>\n",
       "      <td>8.246748</td>\n",
       "    </tr>\n",
       "    <tr>\n",
       "      <th>34</th>\n",
       "      <td></td>\n",
       "      <td>2017-11-17 09:36:43</td>\n",
       "      <td>0.354 sec</td>\n",
       "      <td>34.0</td>\n",
       "      <td>2.862255</td>\n",
       "      <td>2.015364</td>\n",
       "      <td>8.192504</td>\n",
       "    </tr>\n",
       "    <tr>\n",
       "      <th>35</th>\n",
       "      <td></td>\n",
       "      <td>2017-11-17 09:36:43</td>\n",
       "      <td>0.357 sec</td>\n",
       "      <td>35.0</td>\n",
       "      <td>2.854151</td>\n",
       "      <td>2.000915</td>\n",
       "      <td>8.146176</td>\n",
       "    </tr>\n",
       "    <tr>\n",
       "      <th>36</th>\n",
       "      <td></td>\n",
       "      <td>2017-11-17 09:36:43</td>\n",
       "      <td>0.360 sec</td>\n",
       "      <td>36.0</td>\n",
       "      <td>2.836755</td>\n",
       "      <td>1.995597</td>\n",
       "      <td>8.047176</td>\n",
       "    </tr>\n",
       "    <tr>\n",
       "      <th>37</th>\n",
       "      <td></td>\n",
       "      <td>2017-11-17 09:36:43</td>\n",
       "      <td>0.363 sec</td>\n",
       "      <td>37.0</td>\n",
       "      <td>2.844483</td>\n",
       "      <td>1.998881</td>\n",
       "      <td>8.091082</td>\n",
       "    </tr>\n",
       "    <tr>\n",
       "      <th>38</th>\n",
       "      <td></td>\n",
       "      <td>2017-11-17 09:36:43</td>\n",
       "      <td>0.366 sec</td>\n",
       "      <td>38.0</td>\n",
       "      <td>2.857991</td>\n",
       "      <td>2.016766</td>\n",
       "      <td>8.168110</td>\n",
       "    </tr>\n",
       "    <tr>\n",
       "      <th>39</th>\n",
       "      <td></td>\n",
       "      <td>2017-11-17 09:36:43</td>\n",
       "      <td>0.369 sec</td>\n",
       "      <td>39.0</td>\n",
       "      <td>2.875330</td>\n",
       "      <td>2.032546</td>\n",
       "      <td>8.267520</td>\n",
       "    </tr>\n",
       "    <tr>\n",
       "      <th>40</th>\n",
       "      <td></td>\n",
       "      <td>2017-11-17 09:36:43</td>\n",
       "      <td>0.371 sec</td>\n",
       "      <td>40.0</td>\n",
       "      <td>2.856563</td>\n",
       "      <td>2.019736</td>\n",
       "      <td>8.159951</td>\n",
       "    </tr>\n",
       "    <tr>\n",
       "      <th>41</th>\n",
       "      <td></td>\n",
       "      <td>2017-11-17 09:36:43</td>\n",
       "      <td>0.373 sec</td>\n",
       "      <td>41.0</td>\n",
       "      <td>2.853439</td>\n",
       "      <td>2.014283</td>\n",
       "      <td>8.142114</td>\n",
       "    </tr>\n",
       "    <tr>\n",
       "      <th>42</th>\n",
       "      <td></td>\n",
       "      <td>2017-11-17 09:36:43</td>\n",
       "      <td>0.375 sec</td>\n",
       "      <td>42.0</td>\n",
       "      <td>2.871255</td>\n",
       "      <td>2.026464</td>\n",
       "      <td>8.244108</td>\n",
       "    </tr>\n",
       "    <tr>\n",
       "      <th>43</th>\n",
       "      <td></td>\n",
       "      <td>2017-11-17 09:36:44</td>\n",
       "      <td>0.378 sec</td>\n",
       "      <td>43.0</td>\n",
       "      <td>2.876189</td>\n",
       "      <td>2.032370</td>\n",
       "      <td>8.272464</td>\n",
       "    </tr>\n",
       "    <tr>\n",
       "      <th>44</th>\n",
       "      <td></td>\n",
       "      <td>2017-11-17 09:36:44</td>\n",
       "      <td>0.380 sec</td>\n",
       "      <td>44.0</td>\n",
       "      <td>2.887609</td>\n",
       "      <td>2.028396</td>\n",
       "      <td>8.338283</td>\n",
       "    </tr>\n",
       "    <tr>\n",
       "      <th>45</th>\n",
       "      <td></td>\n",
       "      <td>2017-11-17 09:36:44</td>\n",
       "      <td>0.383 sec</td>\n",
       "      <td>45.0</td>\n",
       "      <td>2.880942</td>\n",
       "      <td>2.030917</td>\n",
       "      <td>8.299830</td>\n",
       "    </tr>\n",
       "    <tr>\n",
       "      <th>46</th>\n",
       "      <td></td>\n",
       "      <td>2017-11-17 09:36:44</td>\n",
       "      <td>0.385 sec</td>\n",
       "      <td>46.0</td>\n",
       "      <td>2.887804</td>\n",
       "      <td>2.029590</td>\n",
       "      <td>8.339413</td>\n",
       "    </tr>\n",
       "    <tr>\n",
       "      <th>47</th>\n",
       "      <td></td>\n",
       "      <td>2017-11-17 09:36:44</td>\n",
       "      <td>0.387 sec</td>\n",
       "      <td>47.0</td>\n",
       "      <td>2.866243</td>\n",
       "      <td>2.021962</td>\n",
       "      <td>8.215352</td>\n",
       "    </tr>\n",
       "    <tr>\n",
       "      <th>48</th>\n",
       "      <td></td>\n",
       "      <td>2017-11-17 09:36:44</td>\n",
       "      <td>0.390 sec</td>\n",
       "      <td>48.0</td>\n",
       "      <td>2.864947</td>\n",
       "      <td>2.021701</td>\n",
       "      <td>8.207922</td>\n",
       "    </tr>\n",
       "    <tr>\n",
       "      <th>49</th>\n",
       "      <td></td>\n",
       "      <td>2017-11-17 09:36:44</td>\n",
       "      <td>0.393 sec</td>\n",
       "      <td>49.0</td>\n",
       "      <td>2.862710</td>\n",
       "      <td>2.015983</td>\n",
       "      <td>8.195109</td>\n",
       "    </tr>\n",
       "    <tr>\n",
       "      <th>50</th>\n",
       "      <td></td>\n",
       "      <td>2017-11-17 09:36:44</td>\n",
       "      <td>0.396 sec</td>\n",
       "      <td>50.0</td>\n",
       "      <td>2.848875</td>\n",
       "      <td>2.008812</td>\n",
       "      <td>8.116087</td>\n",
       "    </tr>\n",
       "  </tbody>\n",
       "</table>\n",
       "</div>"
      ],
      "text/plain": [
       "                timestamp    duration  number_of_trees  training_rmse  \\\n",
       "0     2017-11-17 09:36:43   0.263 sec              0.0            NaN   \n",
       "1     2017-11-17 09:36:43   0.265 sec              1.0       4.125280   \n",
       "2     2017-11-17 09:36:43   0.267 sec              2.0       4.281220   \n",
       "3     2017-11-17 09:36:43   0.270 sec              3.0       4.074386   \n",
       "4     2017-11-17 09:36:43   0.272 sec              4.0       3.975054   \n",
       "5     2017-11-17 09:36:43   0.275 sec              5.0       3.931932   \n",
       "6     2017-11-17 09:36:43   0.278 sec              6.0       3.769625   \n",
       "7     2017-11-17 09:36:43   0.281 sec              7.0       3.771280   \n",
       "8     2017-11-17 09:36:43   0.283 sec              8.0       3.599448   \n",
       "9     2017-11-17 09:36:43   0.286 sec              9.0       3.547222   \n",
       "10    2017-11-17 09:36:43   0.289 sec             10.0       3.401205   \n",
       "11    2017-11-17 09:36:43   0.292 sec             11.0       3.310693   \n",
       "12    2017-11-17 09:36:43   0.295 sec             12.0       3.218975   \n",
       "13    2017-11-17 09:36:43   0.298 sec             13.0       3.141566   \n",
       "14    2017-11-17 09:36:43   0.300 sec             14.0       3.142508   \n",
       "15    2017-11-17 09:36:43   0.303 sec             15.0       3.078231   \n",
       "16    2017-11-17 09:36:43   0.306 sec             16.0       3.085225   \n",
       "17    2017-11-17 09:36:43   0.309 sec             17.0       3.047002   \n",
       "18    2017-11-17 09:36:43   0.312 sec             18.0       3.011359   \n",
       "19    2017-11-17 09:36:43   0.315 sec             19.0       3.035185   \n",
       "20    2017-11-17 09:36:43   0.318 sec             20.0       3.006447   \n",
       "21    2017-11-17 09:36:43   0.320 sec             21.0       2.974830   \n",
       "22    2017-11-17 09:36:43   0.323 sec             22.0       2.964941   \n",
       "23    2017-11-17 09:36:43   0.325 sec             23.0       2.957258   \n",
       "24    2017-11-17 09:36:43   0.328 sec             24.0       2.942347   \n",
       "25    2017-11-17 09:36:43   0.331 sec             25.0       2.936911   \n",
       "26    2017-11-17 09:36:43   0.333 sec             26.0       2.923693   \n",
       "27    2017-11-17 09:36:43   0.336 sec             27.0       2.917553   \n",
       "28    2017-11-17 09:36:43   0.339 sec             28.0       2.921062   \n",
       "29    2017-11-17 09:36:43   0.342 sec             29.0       2.908629   \n",
       "30    2017-11-17 09:36:43   0.344 sec             30.0       2.888924   \n",
       "31    2017-11-17 09:36:43   0.347 sec             31.0       2.888150   \n",
       "32    2017-11-17 09:36:43   0.350 sec             32.0       2.865718   \n",
       "33    2017-11-17 09:36:43   0.352 sec             33.0       2.871715   \n",
       "34    2017-11-17 09:36:43   0.354 sec             34.0       2.862255   \n",
       "35    2017-11-17 09:36:43   0.357 sec             35.0       2.854151   \n",
       "36    2017-11-17 09:36:43   0.360 sec             36.0       2.836755   \n",
       "37    2017-11-17 09:36:43   0.363 sec             37.0       2.844483   \n",
       "38    2017-11-17 09:36:43   0.366 sec             38.0       2.857991   \n",
       "39    2017-11-17 09:36:43   0.369 sec             39.0       2.875330   \n",
       "40    2017-11-17 09:36:43   0.371 sec             40.0       2.856563   \n",
       "41    2017-11-17 09:36:43   0.373 sec             41.0       2.853439   \n",
       "42    2017-11-17 09:36:43   0.375 sec             42.0       2.871255   \n",
       "43    2017-11-17 09:36:44   0.378 sec             43.0       2.876189   \n",
       "44    2017-11-17 09:36:44   0.380 sec             44.0       2.887609   \n",
       "45    2017-11-17 09:36:44   0.383 sec             45.0       2.880942   \n",
       "46    2017-11-17 09:36:44   0.385 sec             46.0       2.887804   \n",
       "47    2017-11-17 09:36:44   0.387 sec             47.0       2.866243   \n",
       "48    2017-11-17 09:36:44   0.390 sec             48.0       2.864947   \n",
       "49    2017-11-17 09:36:44   0.393 sec             49.0       2.862710   \n",
       "50    2017-11-17 09:36:44   0.396 sec             50.0       2.848875   \n",
       "\n",
       "    training_mae  training_deviance  \n",
       "0            NaN                NaN  \n",
       "1       2.794839          17.017934  \n",
       "2       2.868724          18.328842  \n",
       "3       2.655080          16.600624  \n",
       "4       2.627091          15.801057  \n",
       "5       2.664318          15.460088  \n",
       "6       2.597292          14.210070  \n",
       "7       2.567033          14.222551  \n",
       "8       2.449148          12.956025  \n",
       "9       2.425793          12.582782  \n",
       "10      2.323078          11.568195  \n",
       "11      2.260448          10.960686  \n",
       "12      2.195852          10.361798  \n",
       "13      2.147607           9.869437  \n",
       "14      2.155933           9.875355  \n",
       "15      2.127054           9.475504  \n",
       "16      2.125226           9.518612  \n",
       "17      2.104103           9.284224  \n",
       "18      2.085568           9.068284  \n",
       "19      2.100468           9.212350  \n",
       "20      2.074475           9.038722  \n",
       "21      2.061119           8.849616  \n",
       "22      2.067528           8.790878  \n",
       "23      2.057848           8.745375  \n",
       "24      2.054864           8.657407  \n",
       "25      2.048976           8.625447  \n",
       "26      2.049964           8.547981  \n",
       "27      2.047969           8.512116  \n",
       "28      2.044477           8.532604  \n",
       "29      2.039289           8.460120  \n",
       "30      2.023035           8.345882  \n",
       "31      2.019607           8.341408  \n",
       "32      2.008584           8.212340  \n",
       "33      2.013731           8.246748  \n",
       "34      2.015364           8.192504  \n",
       "35      2.000915           8.146176  \n",
       "36      1.995597           8.047176  \n",
       "37      1.998881           8.091082  \n",
       "38      2.016766           8.168110  \n",
       "39      2.032546           8.267520  \n",
       "40      2.019736           8.159951  \n",
       "41      2.014283           8.142114  \n",
       "42      2.026464           8.244108  \n",
       "43      2.032370           8.272464  \n",
       "44      2.028396           8.338283  \n",
       "45      2.030917           8.299830  \n",
       "46      2.029590           8.339413  \n",
       "47      2.021962           8.215352  \n",
       "48      2.021701           8.207922  \n",
       "49      2.015983           8.195109  \n",
       "50      2.008812           8.116087  "
      ]
     },
     "execution_count": 49,
     "metadata": {},
     "output_type": "execute_result"
    }
   ],
   "source": [
    "drf_auto_cv.score_history()"
   ]
  },
  {
   "cell_type": "code",
   "execution_count": 50,
   "metadata": {
    "collapsed": true
   },
   "outputs": [],
   "source": [
    "###: Understanding H2O Distributed Random Forest Model variable importance"
   ]
  },
  {
   "cell_type": "code",
   "execution_count": 51,
   "metadata": {},
   "outputs": [
    {
     "data": {
      "text/plain": [
       "[(u'displacement', 277565.71875, 1.0, 0.2805567545852425),\n",
       " (u'weight', 183121.828125, 0.6597422367202902, 0.18509514079705341),\n",
       " (u'horsepower', 174312.921875, 0.6280059463395099, 0.17619131016524683),\n",
       " (u'cylinders', 150173.484375, 0.5410375786004733, 0.15179174716080684),\n",
       " (u'modelyear', 149632.5, 0.5390885469353373, 0.1512449331622524),\n",
       " (u'acceleration', 33425.80859375, 0.12042484476930745, 0.033786003619908515),\n",
       " (u'origin', 21106.666015625, 0.07604204910706394, 0.021334110509489496)]"
      ]
     },
     "execution_count": 51,
     "metadata": {},
     "output_type": "execute_result"
    }
   ],
   "source": [
    "drf_auto_cv.varimp()"
   ]
  },
  {
   "cell_type": "code",
   "execution_count": 52,
   "metadata": {
    "collapsed": true
   },
   "outputs": [],
   "source": [
    "###: Generating H2O Distributed Random Forest Model variable importance plot"
   ]
  },
  {
   "cell_type": "code",
   "execution_count": 53,
   "metadata": {},
   "outputs": [
    {
     "data": {
      "image/png": "[encoded data removed]",
      "text/plain": [
       "<matplotlib.figure.Figure at 0x1118b8cd0>"
      ]
     },
     "metadata": {},
     "output_type": "display_data"
    }
   ],
   "source": [
    "drf_auto_cv.varimp_plot()"
   ]
  },
  {
   "cell_type": "code",
   "execution_count": 54,
   "metadata": {
    "collapsed": true
   },
   "outputs": [],
   "source": [
    "###: Setting H2O Distributed Random Forest model configuration to use cross validation with 5 folds and various other parameters\n",
    "###: for tuning the performance and accuracy"
   ]
  },
  {
   "cell_type": "code",
   "execution_count": 55,
   "metadata": {},
   "outputs": [],
   "source": [
    "drf_auto_cv_tuned = H2ORandomForestEstimator(nfolds = 5,\n",
    "                                    ntrees=10,\n",
    "                                    max_depth=3,\n",
    "                                    min_rows=2,\n",
    "                                    keep_cross_validation_predictions=True,\n",
    "                                    seed=1234)"
   ]
  },
  {
   "cell_type": "code",
   "execution_count": 56,
   "metadata": {
    "collapsed": true
   },
   "outputs": [],
   "source": [
    "###: Training H2O Distributed Random Forest Model "
   ]
  },
  {
   "cell_type": "code",
   "execution_count": 57,
   "metadata": {},
   "outputs": [
    {
     "name": "stdout",
     "output_type": "stream",
     "text": [
      "drf Model Build progress: |███████████████████████████████████████████████| 100%\n"
     ]
    }
   ],
   "source": [
    "drf_auto_cv_tuned.train(x = features , y = response, training_frame=df)"
   ]
  },
  {
   "cell_type": "code",
   "execution_count": 58,
   "metadata": {
    "collapsed": true
   },
   "outputs": [],
   "source": [
    "###: Understanding H2O Distributed Random Forest Model overall performance based on cross validation data (r2 only)"
   ]
  },
  {
   "cell_type": "code",
   "execution_count": 59,
   "metadata": {},
   "outputs": [
    {
     "data": {
      "text/plain": [
       "0.8083680407605734"
      ]
     },
     "execution_count": 59,
     "metadata": {},
     "output_type": "execute_result"
    }
   ],
   "source": [
    "drf_auto_cv_tuned.model_performance(xval=True).r2()"
   ]
  },
  {
   "cell_type": "code",
   "execution_count": 60,
   "metadata": {
    "collapsed": true
   },
   "outputs": [],
   "source": [
    "###: Plotting H2O Distributed Random Forest Model performance based on mae metric"
   ]
  },
  {
   "cell_type": "code",
   "execution_count": 61,
   "metadata": {},
   "outputs": [
    {
     "data": {
      "image/png": "[encoded data removed]",
      "text/plain": [
       "<matplotlib.figure.Figure at 0x10e29f790>"
      ]
     },
     "metadata": {},
     "output_type": "display_data"
    }
   ],
   "source": [
    "drf_auto_cv_tuned.plot(metric=\"mae\")"
   ]
  },
  {
   "cell_type": "code",
   "execution_count": 62,
   "metadata": {
    "collapsed": true
   },
   "outputs": [],
   "source": [
    "###: Plotting H2O Distributed Random Forest Model performance based on rmse metric"
   ]
  },
  {
   "cell_type": "code",
   "execution_count": 63,
   "metadata": {},
   "outputs": [
    {
     "data": {
      "image/png": "[encoded data removed]",
      "text/plain": [
       "<matplotlib.figure.Figure at 0x110c32d90>"
      ]
     },
     "metadata": {},
     "output_type": "display_data"
    }
   ],
   "source": [
    "drf_auto_cv.plot(metric='rmse')"
   ]
  },
  {
   "cell_type": "code",
   "execution_count": 64,
   "metadata": {
    "collapsed": true
   },
   "outputs": [],
   "source": [
    "###: Plotting H2O Distributed Random Forest Model variable importance plot"
   ]
  },
  {
   "cell_type": "code",
   "execution_count": 65,
   "metadata": {},
   "outputs": [
    {
     "data": {
      "image/png": "[encoded data removed]",
      "text/plain": [
       "<matplotlib.figure.Figure at 0x110bda290>"
      ]
     },
     "metadata": {},
     "output_type": "display_data"
    }
   ],
   "source": [
    "drf_auto_cv_tuned.varimp_plot()"
   ]
  },
  {
   "cell_type": "code",
   "execution_count": 66,
   "metadata": {
    "collapsed": true
   },
   "outputs": [],
   "source": [
    "###: Comparing H2O Distributed Random Forest Model performance based on tuned and default cross validation model"
   ]
  },
  {
   "cell_type": "code",
   "execution_count": 67,
   "metadata": {},
   "outputs": [
    {
     "name": "stdout",
     "output_type": "stream",
     "text": [
      "0.808368040761\n",
      "0.77555688188\n"
     ]
    }
   ],
   "source": [
    "print(drf_auto_cv_tuned.model_performance(xval=True).r2())\n",
    "print(drf_auto_cv_tuned.model_performance(train=True).r2())"
   ]
  },
  {
   "cell_type": "code",
   "execution_count": 68,
   "metadata": {
    "collapsed": true
   },
   "outputs": [],
   "source": [
    "### PERFORMING PREDICTIONS USING a TEST DATA SET"
   ]
  },
  {
   "cell_type": "code",
   "execution_count": 69,
   "metadata": {
    "collapsed": true
   },
   "outputs": [],
   "source": [
    "###: listing first 3 rows from the original data set"
   ]
  },
  {
   "cell_type": "code",
   "execution_count": 70,
   "metadata": {},
   "outputs": [
    {
     "data": {
      "text/html": [
       "<table>\n",
       "<thead>\n",
       "<tr><th style=\"text-align: right;\">  cylinders</th><th style=\"text-align: right;\">  displacement</th><th style=\"text-align: right;\">  horsepower</th><th style=\"text-align: right;\">  weight</th><th style=\"text-align: right;\">  acceleration</th><th style=\"text-align: right;\">  modelyear</th><th style=\"text-align: right;\">  origin</th><th style=\"text-align: right;\">  mpg</th></tr>\n",
       "</thead>\n",
       "<tbody>\n",
       "<tr><td style=\"text-align: right;\">          8</td><td style=\"text-align: right;\">           307</td><td style=\"text-align: right;\">         130</td><td style=\"text-align: right;\">    3504</td><td style=\"text-align: right;\">          12  </td><td style=\"text-align: right;\">         70</td><td style=\"text-align: right;\">       1</td><td style=\"text-align: right;\">   18</td></tr>\n",
       "<tr><td style=\"text-align: right;\">          8</td><td style=\"text-align: right;\">           350</td><td style=\"text-align: right;\">         165</td><td style=\"text-align: right;\">    3693</td><td style=\"text-align: right;\">          11.5</td><td style=\"text-align: right;\">         70</td><td style=\"text-align: right;\">       1</td><td style=\"text-align: right;\">   15</td></tr>\n",
       "<tr><td style=\"text-align: right;\">          8</td><td style=\"text-align: right;\">           318</td><td style=\"text-align: right;\">         150</td><td style=\"text-align: right;\">    3436</td><td style=\"text-align: right;\">          11  </td><td style=\"text-align: right;\">         70</td><td style=\"text-align: right;\">       1</td><td style=\"text-align: right;\">   18</td></tr>\n",
       "</tbody>\n",
       "</table>"
      ]
     },
     "metadata": {},
     "output_type": "display_data"
    },
    {
     "data": {
      "text/plain": []
     },
     "execution_count": 70,
     "metadata": {},
     "output_type": "execute_result"
    }
   ],
   "source": [
    "df.head(3)"
   ]
  },
  {
   "cell_type": "code",
   "execution_count": 71,
   "metadata": {
    "collapsed": true
   },
   "outputs": [],
   "source": [
    "###: listing original data set columns"
   ]
  },
  {
   "cell_type": "code",
   "execution_count": 72,
   "metadata": {},
   "outputs": [
    {
     "data": {
      "text/plain": [
       "[0.0, 1.0, 2.0, 3.0, 4.0, 5.0, 6.0, 7.0]"
      ]
     },
     "execution_count": 72,
     "metadata": {},
     "output_type": "execute_result"
    }
   ],
   "source": [
    "df.columns_by_type()"
   ]
  },
  {
   "cell_type": "code",
   "execution_count": 73,
   "metadata": {
    "collapsed": true
   },
   "outputs": [],
   "source": [
    "###: creating test data set based on features used for building model"
   ]
  },
  {
   "cell_type": "code",
   "execution_count": 74,
   "metadata": {},
   "outputs": [
    {
     "name": "stdout",
     "output_type": "stream",
     "text": [
      "Parse progress: |█████████████████████████████████████████████████████████| 100%\n"
     ]
    }
   ],
   "source": [
    "df_test = h2o.H2OFrame.from_python({\"cylinders\":11, \"displacement\" : 400, \"horsepower\" : 400, \n",
    "                                    \"weight\" : 2000, \"acceleration\" : 14, \"modelyear\" : 90,\n",
    "                                   \"origin\" : 2})"
   ]
  },
  {
   "cell_type": "code",
   "execution_count": 75,
   "metadata": {
    "collapsed": true
   },
   "outputs": [],
   "source": [
    "###: Performing prediction using one of the best Distributed Random Forest model we built earlier"
   ]
  },
  {
   "cell_type": "code",
   "execution_count": 76,
   "metadata": {},
   "outputs": [
    {
     "name": "stdout",
     "output_type": "stream",
     "text": [
      "drf prediction progress: |████████████████████████████████████████████████| 100%\n"
     ]
    },
    {
     "data": {
      "text/html": [
       "<table>\n",
       "<thead>\n",
       "<tr><th style=\"text-align: right;\">  predict</th></tr>\n",
       "</thead>\n",
       "<tbody>\n",
       "<tr><td style=\"text-align: right;\">  23.9658</td></tr>\n",
       "</tbody>\n",
       "</table>"
      ]
     },
     "metadata": {},
     "output_type": "display_data"
    },
    {
     "data": {
      "text/plain": []
     },
     "execution_count": 76,
     "metadata": {},
     "output_type": "execute_result"
    }
   ],
   "source": [
    "drf_auto_cv_tuned.predict(df_test)"
   ]
  },
  {
   "cell_type": "code",
   "execution_count": null,
   "metadata": {
    "collapsed": true
   },
   "outputs": [],
   "source": []
  },
  {
   "cell_type": "code",
   "execution_count": null,
   "metadata": {
    "collapsed": true
   },
   "outputs": [],
   "source": []
  }
 ],
 "metadata": {
  "kernelspec": {
   "display_name": "Python 2",
   "language": "python",
   "name": "python2"
  },
  "language_info": {
   "codemirror_mode": {
    "name": "ipython",
    "version": 2
   },
   "file_extension": ".py",
   "mimetype": "text/x-python",
   "name": "python",
   "nbconvert_exporter": "python",
   "pygments_lexer": "ipython2",
   "version": "2.7.13"
  }
 },
 "nbformat": 4,
 "nbformat_minor": 2
}
