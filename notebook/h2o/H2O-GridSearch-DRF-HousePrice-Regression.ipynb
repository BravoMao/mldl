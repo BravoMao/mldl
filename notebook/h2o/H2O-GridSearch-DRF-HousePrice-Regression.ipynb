{
 "cells": [
  {
   "cell_type": "code",
   "execution_count": 1,
   "metadata": {
    "collapsed": true
   },
   "outputs": [],
   "source": [
    "###: Loading H2O Library"
   ]
  },
  {
   "cell_type": "code",
   "execution_count": 2,
   "metadata": {
    "collapsed": true
   },
   "outputs": [],
   "source": [
    "import h2o"
   ]
  },
  {
   "cell_type": "code",
   "execution_count": 3,
   "metadata": {
    "collapsed": true
   },
   "outputs": [],
   "source": [
    "###: Get H2O Version"
   ]
  },
  {
   "cell_type": "code",
   "execution_count": 4,
   "metadata": {},
   "outputs": [
    {
     "data": {
      "text/plain": [
       "u'3.14.0.7'"
      ]
     },
     "execution_count": 4,
     "metadata": {},
     "output_type": "execute_result"
    }
   ],
   "source": [
    "h2o.__version__"
   ]
  },
  {
   "cell_type": "code",
   "execution_count": 5,
   "metadata": {
    "collapsed": true
   },
   "outputs": [],
   "source": [
    "###: Initalizing H2O cluster"
   ]
  },
  {
   "cell_type": "code",
   "execution_count": 6,
   "metadata": {},
   "outputs": [
    {
     "name": "stderr",
     "output_type": "stream",
     "text": [
      "ERROR:h2o:Key init.version_check is not a valid config key\n"
     ]
    },
    {
     "name": "stdout",
     "output_type": "stream",
     "text": [
      "Checking whether there is an H2O instance running at http://localhost:54321. connected.\n"
     ]
    },
    {
     "data": {
      "text/html": [
       "<div style=\"overflow:auto\"><table style=\"width:50%\"><tr><td>H2O cluster uptime:</td>\n",
       "<td>2 days 3 hours 38 mins</td></tr>\n",
       "<tr><td>H2O cluster version:</td>\n",
       "<td>3.14.0.7</td></tr>\n",
       "<tr><td>H2O cluster version age:</td>\n",
       "<td>1 month and 2 days </td></tr>\n",
       "<tr><td>H2O cluster name:</td>\n",
       "<td>H2O_from_python_avkashchauhan_d7ekmq</td></tr>\n",
       "<tr><td>H2O cluster total nodes:</td>\n",
       "<td>1</td></tr>\n",
       "<tr><td>H2O cluster free memory:</td>\n",
       "<td>2.733 Gb</td></tr>\n",
       "<tr><td>H2O cluster total cores:</td>\n",
       "<td>8</td></tr>\n",
       "<tr><td>H2O cluster allowed cores:</td>\n",
       "<td>8</td></tr>\n",
       "<tr><td>H2O cluster status:</td>\n",
       "<td>locked, healthy</td></tr>\n",
       "<tr><td>H2O connection url:</td>\n",
       "<td>http://localhost:54321</td></tr>\n",
       "<tr><td>H2O connection proxy:</td>\n",
       "<td>None</td></tr>\n",
       "<tr><td>H2O internal security:</td>\n",
       "<td>False</td></tr>\n",
       "<tr><td>H2O API Extensions:</td>\n",
       "<td>XGBoost, Algos, AutoML, Core V3, Core V4</td></tr>\n",
       "<tr><td>Python version:</td>\n",
       "<td>2.7.13 final</td></tr></table></div>"
      ],
      "text/plain": [
       "--------------------------  ----------------------------------------\n",
       "H2O cluster uptime:         2 days 3 hours 38 mins\n",
       "H2O cluster version:        3.14.0.7\n",
       "H2O cluster version age:    1 month and 2 days\n",
       "H2O cluster name:           H2O_from_python_avkashchauhan_d7ekmq\n",
       "H2O cluster total nodes:    1\n",
       "H2O cluster free memory:    2.733 Gb\n",
       "H2O cluster total cores:    8\n",
       "H2O cluster allowed cores:  8\n",
       "H2O cluster status:         locked, healthy\n",
       "H2O connection url:         http://localhost:54321\n",
       "H2O connection proxy:\n",
       "H2O internal security:      False\n",
       "H2O API Extensions:         XGBoost, Algos, AutoML, Core V3, Core V4\n",
       "Python version:             2.7.13 final\n",
       "--------------------------  ----------------------------------------"
      ]
     },
     "metadata": {},
     "output_type": "display_data"
    }
   ],
   "source": [
    "h2o.init()"
   ]
  },
  {
   "cell_type": "code",
   "execution_count": 7,
   "metadata": {
    "collapsed": true
   },
   "outputs": [],
   "source": [
    "###: Importing both training and test dataset into H2O cluster memory"
   ]
  },
  {
   "cell_type": "code",
   "execution_count": 8,
   "metadata": {},
   "outputs": [
    {
     "name": "stdout",
     "output_type": "stream",
     "text": [
      "Parse progress: |█████████████████████████████████████████████████████████| 100%\n",
      "Parse progress: |█████████████████████████████████████████████████████████| 100%\n"
     ]
    }
   ],
   "source": [
    "#train_df = h2o.import_file(\"/Users/avkashchauhan/examples/regression/house_price_train.csv\")\n",
    "#test_df = h2o.import_file(\"/Users/avkashchauhan/examples/regression/house_price_test.csv\")\n",
    "\n",
    "train_df = h2o.import_file(\"https://raw.githubusercontent.com/Avkash/mldl/master/data/house_price_train.csv\")\n",
    "test_df = h2o.import_file(\"https://raw.githubusercontent.com/Avkash/mldl/master/data/house_price_test.csv\")"
   ]
  },
  {
   "cell_type": "code",
   "execution_count": 9,
   "metadata": {
    "collapsed": true
   },
   "outputs": [],
   "source": [
    "###: Understanding Training dataset"
   ]
  },
  {
   "cell_type": "code",
   "execution_count": 10,
   "metadata": {},
   "outputs": [
    {
     "name": "stdout",
     "output_type": "stream",
     "text": [
      "Rows:407\n",
      "Cols:14\n",
      "\n",
      "\n"
     ]
    },
    {
     "data": {
      "text/html": [
       "<table>\n",
       "<thead>\n",
       "<tr><th>       </th><th>crim         </th><th>zn           </th><th>indus        </th><th>chas           </th><th>nox           </th><th>rm            </th><th>age          </th><th>dis          </th><th>rad          </th><th>tax          </th><th>ptratio      </th><th>b            </th><th>lstat        </th><th>medv         </th></tr>\n",
       "</thead>\n",
       "<tbody>\n",
       "<tr><td>type   </td><td>real         </td><td>real         </td><td>real         </td><td>int            </td><td>real          </td><td>real          </td><td>real         </td><td>real         </td><td>int          </td><td>int          </td><td>real         </td><td>real         </td><td>real         </td><td>real         </td></tr>\n",
       "<tr><td>mins   </td><td>0.00906      </td><td>0.0          </td><td>0.46         </td><td>0.0            </td><td>0.385         </td><td>3.863         </td><td>2.9          </td><td>1.1296       </td><td>1.0          </td><td>188.0        </td><td>12.6         </td><td>0.32         </td><td>1.73         </td><td>5.0          </td></tr>\n",
       "<tr><td>mean   </td><td>3.56736771499</td><td>10.5872235872</td><td>11.4092628993</td><td>0.0687960687961</td><td>0.556763882064</td><td>6.28658230958 </td><td>69.3889434889</td><td>3.71767051597</td><td>9.83783783784</td><td>412.378378378</td><td>18.4474201474</td><td>354.403218673</td><td>12.792039312 </td><td>22.6248157248</td></tr>\n",
       "<tr><td>maxs   </td><td>73.5341      </td><td>100.0        </td><td>27.74        </td><td>1.0            </td><td>0.871         </td><td>8.725         </td><td>100.0        </td><td>10.7103      </td><td>24.0         </td><td>711.0        </td><td>22.0         </td><td>396.9        </td><td>37.97        </td><td>50.0         </td></tr>\n",
       "<tr><td>sigma  </td><td>7.94798961655</td><td>22.2597824603</td><td>6.8144822924 </td><td>0.253418548596 </td><td>0.115557348898</td><td>0.690897322921</td><td>27.8179045475</td><td>2.01524090631</td><td>8.78440418525</td><td>170.44740987 </td><td>2.16176742548</td><td>94.175205015 </td><td>7.09869539936</td><td>9.18501930903</td></tr>\n",
       "<tr><td>zeros  </td><td>0            </td><td>301          </td><td>0            </td><td>379            </td><td>0             </td><td>0             </td><td>0            </td><td>0            </td><td>0            </td><td>0            </td><td>0            </td><td>0            </td><td>0            </td><td>0            </td></tr>\n",
       "<tr><td>missing</td><td>0            </td><td>0            </td><td>0            </td><td>0              </td><td>0             </td><td>0             </td><td>0            </td><td>0            </td><td>0            </td><td>0            </td><td>0            </td><td>0            </td><td>0            </td><td>0            </td></tr>\n",
       "<tr><td>0      </td><td>0.02731      </td><td>0.0          </td><td>7.07         </td><td>0.0            </td><td>0.469         </td><td>6.421         </td><td>78.9         </td><td>4.9671       </td><td>2.0          </td><td>242.0        </td><td>17.8         </td><td>396.9        </td><td>9.14         </td><td>21.6         </td></tr>\n",
       "<tr><td>1      </td><td>0.02729      </td><td>0.0          </td><td>7.07         </td><td>0.0            </td><td>0.469         </td><td>7.185         </td><td>61.1         </td><td>4.9671       </td><td>2.0          </td><td>242.0        </td><td>17.8         </td><td>392.83       </td><td>4.03         </td><td>34.7         </td></tr>\n",
       "<tr><td>2      </td><td>0.03237      </td><td>0.0          </td><td>2.18         </td><td>0.0            </td><td>0.458         </td><td>6.998         </td><td>45.8         </td><td>6.0622       </td><td>3.0          </td><td>222.0        </td><td>18.7         </td><td>394.63       </td><td>2.94         </td><td>33.4         </td></tr>\n",
       "<tr><td>3      </td><td>0.06905      </td><td>0.0          </td><td>2.18         </td><td>0.0            </td><td>0.458         </td><td>7.147         </td><td>54.2         </td><td>6.0622       </td><td>3.0          </td><td>222.0        </td><td>18.7         </td><td>396.9        </td><td>5.33         </td><td>36.2         </td></tr>\n",
       "<tr><td>4      </td><td>0.08829      </td><td>12.5         </td><td>7.87         </td><td>0.0            </td><td>0.524         </td><td>6.012         </td><td>66.6         </td><td>5.5605       </td><td>5.0          </td><td>311.0        </td><td>15.2         </td><td>395.6        </td><td>12.43        </td><td>22.9         </td></tr>\n",
       "<tr><td>5      </td><td>0.14455      </td><td>12.5         </td><td>7.87         </td><td>0.0            </td><td>0.524         </td><td>6.172         </td><td>96.1         </td><td>5.9505       </td><td>5.0          </td><td>311.0        </td><td>15.2         </td><td>396.9        </td><td>19.15        </td><td>27.1         </td></tr>\n",
       "<tr><td>6      </td><td>0.21124      </td><td>12.5         </td><td>7.87         </td><td>0.0            </td><td>0.524         </td><td>5.631         </td><td>100.0        </td><td>6.0821       </td><td>5.0          </td><td>311.0        </td><td>15.2         </td><td>386.63       </td><td>29.93        </td><td>16.5         </td></tr>\n",
       "<tr><td>7      </td><td>0.17004      </td><td>12.5         </td><td>7.87         </td><td>0.0            </td><td>0.524         </td><td>6.004         </td><td>85.9         </td><td>6.5921       </td><td>5.0          </td><td>311.0        </td><td>15.2         </td><td>386.71       </td><td>17.1         </td><td>18.9         </td></tr>\n",
       "<tr><td>8      </td><td>0.22489      </td><td>12.5         </td><td>7.87         </td><td>0.0            </td><td>0.524         </td><td>6.377         </td><td>94.3         </td><td>6.3467       </td><td>5.0          </td><td>311.0        </td><td>15.2         </td><td>392.52       </td><td>20.45        </td><td>15.0         </td></tr>\n",
       "<tr><td>9      </td><td>0.11747      </td><td>12.5         </td><td>7.87         </td><td>0.0            </td><td>0.524         </td><td>6.009         </td><td>82.9         </td><td>6.2267       </td><td>5.0          </td><td>311.0        </td><td>15.2         </td><td>396.9        </td><td>13.27        </td><td>18.9         </td></tr>\n",
       "</tbody>\n",
       "</table>"
      ]
     },
     "metadata": {},
     "output_type": "display_data"
    }
   ],
   "source": [
    "train_df.describe()"
   ]
  },
  {
   "cell_type": "code",
   "execution_count": 11,
   "metadata": {
    "collapsed": true
   },
   "outputs": [],
   "source": [
    "###: Understanding Test dataset"
   ]
  },
  {
   "cell_type": "code",
   "execution_count": 12,
   "metadata": {},
   "outputs": [
    {
     "name": "stdout",
     "output_type": "stream",
     "text": [
      "Rows:99\n",
      "Cols:14\n",
      "\n",
      "\n"
     ]
    },
    {
     "data": {
      "text/html": [
       "<table>\n",
       "<thead>\n",
       "<tr><th>       </th><th>crim         </th><th>zn           </th><th>indus        </th><th>chas           </th><th>nox          </th><th>rm            </th><th>age          </th><th>dis          </th><th>rad          </th><th>tax          </th><th>ptratio      </th><th>b            </th><th>lstat        </th><th>medv         </th></tr>\n",
       "</thead>\n",
       "<tbody>\n",
       "<tr><td>type   </td><td>real         </td><td>real         </td><td>real         </td><td>int            </td><td>real         </td><td>real          </td><td>real         </td><td>real         </td><td>int          </td><td>int          </td><td>real         </td><td>real         </td><td>real         </td><td>real         </td></tr>\n",
       "<tr><td>mins   </td><td>0.00632      </td><td>0.0          </td><td>0.74         </td><td>0.0            </td><td>0.389        </td><td>3.561         </td><td>9.9          </td><td>1.1781       </td><td>1.0          </td><td>187.0        </td><td>12.6         </td><td>6.68         </td><td>2.88         </td><td>5.6          </td></tr>\n",
       "<tr><td>mean   </td><td>3.80327535354</td><td>14.5555555556</td><td>10.0165656566</td><td>0.0707070707071</td><td>0.54618989899</td><td>6.27662626263 </td><td>65.2282828283</td><td>4.11312828283</td><td>8.36363636364</td><td>391.212121212</td><td>18.4888888889</td><td>366.00959596 </td><td>12.0817171717</td><td>22.1545454545</td></tr>\n",
       "<tr><td>maxs   </td><td>88.9762      </td><td>95.0         </td><td>27.74        </td><td>1.0            </td><td>0.871        </td><td>8.78          </td><td>100.0        </td><td>12.1265      </td><td>24.0         </td><td>711.0        </td><td>22.0         </td><td>396.9        </td><td>34.41        </td><td>50.0         </td></tr>\n",
       "<tr><td>sigma  </td><td>10.9318629744</td><td>27.154498339 </td><td>6.96902859181</td><td>0.257639411539 </td><td>0.11739221152</td><td>0.752520981955</td><td>29.378799938 </td><td>2.42831711324</td><td>8.3206830389 </td><td>160.149373687</td><td>2.18869492793</td><td>78.0843033028</td><td>7.32150592857</td><td>9.28388193709</td></tr>\n",
       "<tr><td>zeros  </td><td>0            </td><td>71           </td><td>0            </td><td>92             </td><td>0            </td><td>0             </td><td>0            </td><td>0            </td><td>0            </td><td>0            </td><td>0            </td><td>0            </td><td>0            </td><td>0            </td></tr>\n",
       "<tr><td>missing</td><td>0            </td><td>0            </td><td>0            </td><td>0              </td><td>0            </td><td>0             </td><td>0            </td><td>0            </td><td>0            </td><td>0            </td><td>0            </td><td>0            </td><td>0            </td><td>0            </td></tr>\n",
       "<tr><td>0      </td><td>0.00632      </td><td>18.0         </td><td>2.31         </td><td>0.0            </td><td>0.538        </td><td>6.575         </td><td>65.2         </td><td>4.09         </td><td>1.0          </td><td>296.0        </td><td>15.3         </td><td>396.9        </td><td>4.98         </td><td>24.0         </td></tr>\n",
       "<tr><td>1      </td><td>0.02985      </td><td>0.0          </td><td>2.18         </td><td>0.0            </td><td>0.458        </td><td>6.43          </td><td>58.7         </td><td>6.0622       </td><td>3.0          </td><td>222.0        </td><td>18.7         </td><td>394.12       </td><td>5.21         </td><td>28.7         </td></tr>\n",
       "<tr><td>2      </td><td>1.23247      </td><td>0.0          </td><td>8.14         </td><td>0.0            </td><td>0.538        </td><td>6.142         </td><td>91.7         </td><td>3.9769       </td><td>4.0          </td><td>307.0        </td><td>21.0         </td><td>396.9        </td><td>18.72        </td><td>15.2         </td></tr>\n",
       "<tr><td>3      </td><td>0.98843      </td><td>0.0          </td><td>8.14         </td><td>0.0            </td><td>0.538        </td><td>5.813         </td><td>100.0        </td><td>4.0952       </td><td>4.0          </td><td>307.0        </td><td>21.0         </td><td>394.54       </td><td>19.88        </td><td>14.5         </td></tr>\n",
       "<tr><td>4      </td><td>1.13081      </td><td>0.0          </td><td>8.14         </td><td>0.0            </td><td>0.538        </td><td>5.713         </td><td>94.1         </td><td>4.233        </td><td>4.0          </td><td>307.0        </td><td>21.0         </td><td>360.17       </td><td>22.6         </td><td>12.7         </td></tr>\n",
       "<tr><td>5      </td><td>1.15172      </td><td>0.0          </td><td>8.14         </td><td>0.0            </td><td>0.538        </td><td>5.701         </td><td>95.0         </td><td>3.7872       </td><td>4.0          </td><td>307.0        </td><td>21.0         </td><td>358.77       </td><td>18.35        </td><td>13.1         </td></tr>\n",
       "<tr><td>6      </td><td>0.08014      </td><td>0.0          </td><td>5.96         </td><td>0.0            </td><td>0.499        </td><td>5.85          </td><td>41.5         </td><td>3.9342       </td><td>5.0          </td><td>279.0        </td><td>19.2         </td><td>396.9        </td><td>8.77         </td><td>21.0         </td></tr>\n",
       "<tr><td>7      </td><td>0.17505      </td><td>0.0          </td><td>5.96         </td><td>0.0            </td><td>0.499        </td><td>5.966         </td><td>30.2         </td><td>3.8473       </td><td>5.0          </td><td>279.0        </td><td>19.2         </td><td>393.43       </td><td>10.13        </td><td>24.7         </td></tr>\n",
       "<tr><td>8      </td><td>0.02763      </td><td>75.0         </td><td>2.95         </td><td>0.0            </td><td>0.428        </td><td>6.595         </td><td>21.8         </td><td>5.4011       </td><td>3.0          </td><td>252.0        </td><td>18.3         </td><td>395.63       </td><td>4.32         </td><td>30.8         </td></tr>\n",
       "<tr><td>9      </td><td>0.08873      </td><td>21.0         </td><td>5.64         </td><td>0.0            </td><td>0.439        </td><td>5.963         </td><td>45.7         </td><td>6.8147       </td><td>4.0          </td><td>243.0        </td><td>16.8         </td><td>395.56       </td><td>13.45        </td><td>19.7         </td></tr>\n",
       "</tbody>\n",
       "</table>"
      ]
     },
     "metadata": {},
     "output_type": "display_data"
    }
   ],
   "source": [
    "test_df.describe()"
   ]
  },
  {
   "cell_type": "code",
   "execution_count": 13,
   "metadata": {
    "collapsed": true
   },
   "outputs": [],
   "source": [
    "###: Training and test dataset - columns and rows details"
   ]
  },
  {
   "cell_type": "code",
   "execution_count": 14,
   "metadata": {},
   "outputs": [
    {
     "name": "stdout",
     "output_type": "stream",
     "text": [
      "(407, 14)\n",
      "(99, 14)\n"
     ]
    }
   ],
   "source": [
    "print(train_df.shape)\n",
    "print(test_df.shape)"
   ]
  },
  {
   "cell_type": "code",
   "execution_count": 15,
   "metadata": {
    "collapsed": true
   },
   "outputs": [],
   "source": [
    "###: Training and Test Dataframes - columns names"
   ]
  },
  {
   "cell_type": "code",
   "execution_count": 16,
   "metadata": {},
   "outputs": [
    {
     "name": "stdout",
     "output_type": "stream",
     "text": [
      "[u'crim', u'zn', u'indus', u'chas', u'nox', u'rm', u'age', u'dis', u'rad', u'tax', u'ptratio', u'b', u'lstat', u'medv']\n",
      "[u'crim', u'zn', u'indus', u'chas', u'nox', u'rm', u'age', u'dis', u'rad', u'tax', u'ptratio', u'b', u'lstat', u'medv']\n"
     ]
    }
   ],
   "source": [
    "print(train_df.col_names)\n",
    "print(test_df.col_names)"
   ]
  },
  {
   "cell_type": "code",
   "execution_count": 17,
   "metadata": {
    "collapsed": true
   },
   "outputs": [],
   "source": [
    "###: Settings response or target variable for supervised machine learning"
   ]
  },
  {
   "cell_type": "code",
   "execution_count": 18,
   "metadata": {},
   "outputs": [
    {
     "name": "stdout",
     "output_type": "stream",
     "text": [
      "[u'crim', u'zn', u'indus', u'chas', u'nox', u'rm', u'age', u'dis', u'rad', u'tax', u'ptratio', u'b', u'lstat', u'medv']\n"
     ]
    }
   ],
   "source": [
    "response = \"medv\"\n",
    "features = train_df.col_names\n",
    "print(features)"
   ]
  },
  {
   "cell_type": "code",
   "execution_count": 19,
   "metadata": {
    "collapsed": true
   },
   "outputs": [],
   "source": [
    "###: Creating a list of all features we will use for machine learning"
   ]
  },
  {
   "cell_type": "code",
   "execution_count": 20,
   "metadata": {},
   "outputs": [
    {
     "name": "stdout",
     "output_type": "stream",
     "text": [
      "[u'crim', u'zn', u'indus', u'chas', u'nox', u'rm', u'age', u'dis', u'rad', u'tax', u'ptratio', u'b', u'lstat']\n"
     ]
    }
   ],
   "source": [
    "features.remove(response)\n",
    "print(features)"
   ]
  },
  {
   "cell_type": "code",
   "execution_count": 21,
   "metadata": {
    "collapsed": true
   },
   "outputs": [],
   "source": [
    "###: Understanding response variable values as historgram in Training data"
   ]
  },
  {
   "cell_type": "code",
   "execution_count": 22,
   "metadata": {},
   "outputs": [
    {
     "data": {
      "image/png": "[encoded data removed]",
      "text/plain": [
       "<matplotlib.figure.Figure at 0x10e8b9d50>"
      ]
     },
     "metadata": {},
     "output_type": "display_data"
    }
   ],
   "source": [
    "train_df['medv'].hist()"
   ]
  },
  {
   "cell_type": "code",
   "execution_count": 23,
   "metadata": {
    "collapsed": true
   },
   "outputs": [],
   "source": [
    "###: Importing H2O Estimator to build Random Forest Model"
   ]
  },
  {
   "cell_type": "code",
   "execution_count": 24,
   "metadata": {
    "collapsed": true
   },
   "outputs": [],
   "source": [
    "from h2o.estimators.random_forest import H2ORandomForestEstimator"
   ]
  },
  {
   "cell_type": "code",
   "execution_count": 25,
   "metadata": {
    "collapsed": true
   },
   "outputs": [],
   "source": [
    "###:Building Random Forest (RF) -  Regression model with cross validation"
   ]
  },
  {
   "cell_type": "code",
   "execution_count": 26,
   "metadata": {},
   "outputs": [
    {
     "name": "stdout",
     "output_type": "stream",
     "text": [
      "drf Model Build progress: |███████████████████████████████████████████████| 100%\n"
     ]
    }
   ],
   "source": [
    "drf_model_with_cv = H2ORandomForestEstimator(nfolds=5)\n",
    "drf_model_with_cv.train(x = features, y = response, training_frame=train_df)"
   ]
  },
  {
   "cell_type": "code",
   "execution_count": 27,
   "metadata": {},
   "outputs": [
    {
     "data": {
      "text/plain": [
       "0.8592999890363583"
      ]
     },
     "execution_count": 27,
     "metadata": {},
     "output_type": "execute_result"
    }
   ],
   "source": [
    "drf_model_with_cv.model_performance(valid=True,test_data=test_df).r2()"
   ]
  },
  {
   "cell_type": "code",
   "execution_count": 28,
   "metadata": {
    "collapsed": true
   },
   "outputs": [],
   "source": [
    "#:Building Random Forest -  Regression model with training and validation data now\n",
    "#  Setting key GBM parameters"
   ]
  },
  {
   "cell_type": "code",
   "execution_count": 32,
   "metadata": {},
   "outputs": [],
   "source": [
    "drf_model_cv_config = H2ORandomForestEstimator(\n",
    "                                      ntrees=10,\n",
    "                                      max_depth=3,\n",
    "                                      min_rows=2,\n",
    "                                      nfolds=5,\n",
    "                                      keep_cross_validation_predictions=True,\n",
    "                                      seed=1)"
   ]
  },
  {
   "cell_type": "code",
   "execution_count": 33,
   "metadata": {
    "collapsed": true
   },
   "outputs": [],
   "source": [
    "###: Training the DRF model"
   ]
  },
  {
   "cell_type": "code",
   "execution_count": 35,
   "metadata": {},
   "outputs": [
    {
     "name": "stdout",
     "output_type": "stream",
     "text": [
      "drf Model Build progress: |███████████████████████████████████████████████| 100%\n"
     ]
    }
   ],
   "source": [
    "drf_model_cv_config.train(x = features, y = response, \n",
    "                                            training_frame=train_df, \n",
    "                                           model_id = \"drf_model_with_training_and_validtion_python\")"
   ]
  },
  {
   "cell_type": "code",
   "execution_count": 36,
   "metadata": {
    "collapsed": true
   },
   "outputs": [],
   "source": [
    "###: Getting model performance based on test data"
   ]
  },
  {
   "cell_type": "code",
   "execution_count": 37,
   "metadata": {},
   "outputs": [
    {
     "data": {
      "text/plain": [
       "0.7442147699530761"
      ]
     },
     "execution_count": 37,
     "metadata": {},
     "output_type": "execute_result"
    }
   ],
   "source": [
    "drf_model_cv_config.model_performance(valid=True,test_data=test_df).r2()"
   ]
  },
  {
   "cell_type": "code",
   "execution_count": 38,
   "metadata": {
    "collapsed": true
   },
   "outputs": [],
   "source": [
    "###: Importing H2O Grid Search Library"
   ]
  },
  {
   "cell_type": "code",
   "execution_count": 39,
   "metadata": {
    "collapsed": true
   },
   "outputs": [],
   "source": [
    "from h2o.grid import H2OGridSearch"
   ]
  },
  {
   "cell_type": "code",
   "execution_count": 40,
   "metadata": {
    "collapsed": true
   },
   "outputs": [],
   "source": [
    "###: Setting GBM specific Parameters"
   ]
  },
  {
   "cell_type": "code",
   "execution_count": 96,
   "metadata": {
    "collapsed": true
   },
   "outputs": [],
   "source": [
    "drf_hyper_params = {\n",
    "                \"ntrees\" : [10,25,50],\n",
    "                \"max_depth\": [ 5, 7, 10],\n",
    "                \"sample_rate\": [0.5, 0.75, 1.0]}"
   ]
  },
  {
   "cell_type": "code",
   "execution_count": 97,
   "metadata": {
    "collapsed": true
   },
   "outputs": [],
   "source": [
    "###: Setting GBM hyperparameter search criteria"
   ]
  },
  {
   "cell_type": "code",
   "execution_count": 98,
   "metadata": {
    "collapsed": true
   },
   "outputs": [],
   "source": [
    "grid_search_criteria = {\"strategy\": \"RandomDiscrete\", \n",
    "                        \"max_models\": 100, \n",
    "                        \"seed\": 12345}"
   ]
  },
  {
   "cell_type": "code",
   "execution_count": 99,
   "metadata": {
    "collapsed": true
   },
   "outputs": [],
   "source": [
    "###: Finalizing the settings for GBM grid search"
   ]
  },
  {
   "cell_type": "code",
   "execution_count": 100,
   "metadata": {},
   "outputs": [],
   "source": [
    "house_price_drf_grid = H2OGridSearch(model=H2ORandomForestEstimator(\n",
    "                                                        seed=1,\n",
    "                                                        nfolds=5,\n",
    "                                                        fold_assignment=\"Modulo\",\n",
    "                                                        keep_cross_validation_predictions=True),\n",
    "                     hyper_params=drf_hyper_params,\n",
    "                     search_criteria=grid_search_criteria,\n",
    "                     grid_id=\"house_price_drf_grid\")"
   ]
  },
  {
   "cell_type": "code",
   "execution_count": 101,
   "metadata": {
    "collapsed": true
   },
   "outputs": [],
   "source": [
    "###: Finally traning the GBM grid Search Model"
   ]
  },
  {
   "cell_type": "code",
   "execution_count": 102,
   "metadata": {},
   "outputs": [
    {
     "name": "stdout",
     "output_type": "stream",
     "text": [
      "drf Grid Build progress: |████████████████████████████████████████████████| 100%\n"
     ]
    }
   ],
   "source": [
    "house_price_drf_grid.train(x=features, y=response, training_frame=train_df)"
   ]
  },
  {
   "cell_type": "code",
   "execution_count": 103,
   "metadata": {
    "collapsed": true
   },
   "outputs": [],
   "source": [
    "###: Getting the tital number of models built into H2O GBM Grid"
   ]
  },
  {
   "cell_type": "code",
   "execution_count": 108,
   "metadata": {},
   "outputs": [
    {
     "data": {
      "text/plain": [
       "27"
      ]
     },
     "execution_count": 108,
     "metadata": {},
     "output_type": "execute_result"
    }
   ],
   "source": [
    "len(house_price_drf_grid)"
   ]
  },
  {
   "cell_type": "code",
   "execution_count": 109,
   "metadata": {
    "collapsed": true
   },
   "outputs": [],
   "source": [
    "###: Defining a function to find the best model from the grid based on r2 or auc"
   ]
  },
  {
   "cell_type": "code",
   "execution_count": 141,
   "metadata": {},
   "outputs": [],
   "source": [
    "def find_best_model_from_grid(h2o_grid, test_parameter):    \n",
    "    model_list = []\n",
    "    for grid_item in h2o_grid:\n",
    "        if test_parameter is \"r2\":\n",
    "            if not (grid_item.r2() == \"NaN\"):\n",
    "                model_list.append(grid_item.r2())\n",
    "            else:\n",
    "                model_list.append(0.0)            \n",
    "        elif test_parameter is \"auc\":\n",
    "            if not (grid_item.auc() == \"NaN\"):\n",
    "                model_list.append(grid_item.auc())\n",
    "            else:\n",
    "                model_list.append(0.0)            \n",
    "    #print(model_list)        \n",
    "    max_index = model_list.index(max(model_list))\n",
    "    #print(max_index)\n",
    "    best_model = h2o_grid[max_index]\n",
    "    print(\"Model ID with best R2: \" +  best_model.model_id)\n",
    "    if test_parameter is \"r2\":\n",
    "        print(\"Best R2: \" +  str(best_model.r2()))\n",
    "    elif test_parameter is \"auc\":\n",
    "        print(\"Best AUC: \" +  str(best_model.auc()))\n",
    "    return best_model"
   ]
  },
  {
   "cell_type": "code",
   "execution_count": 142,
   "metadata": {
    "collapsed": true
   },
   "outputs": [],
   "source": [
    "###: Applying the function to get the best model from the grid"
   ]
  },
  {
   "cell_type": "code",
   "execution_count": 140,
   "metadata": {},
   "outputs": [
    {
     "name": "stdout",
     "output_type": "stream",
     "text": [
      "[0.0, 0.0, 0.0, 0.0, 0.8802574695553543, 0.8762712340556501, 0.0, 0.8697356046404314, 0.0, 0.7600572223041284, 0.8637521515058844, 0.754685679436707, 0.0, 0.0, 0.8612283417764732, 0.8766456005407139, 0.0, 0.8725641254101766, 0.872201157181079, 0.8424710111932898, 0.7554097981045245, 0.8601392969596601, 0.8684530317620577, 0.8519327605857256, 0.8502528122903086, 0.8532964347432449, 0.8310186450721682]\n",
      "4\n",
      "Model ID with best R2: house_price_drf_grid_model_5\n",
      "Best R2: 0.880257469555\n"
     ]
    }
   ],
   "source": [
    "best_drf_model = find_best_model_from_grid(house_price_drf_grid, \"r2\")"
   ]
  },
  {
   "cell_type": "code",
   "execution_count": 143,
   "metadata": {
    "collapsed": true
   },
   "outputs": [],
   "source": [
    "###: Getting the best model ID"
   ]
  },
  {
   "cell_type": "code",
   "execution_count": 144,
   "metadata": {},
   "outputs": [
    {
     "data": {
      "text/plain": [
       "u'house_price_drf_grid_model_5'"
      ]
     },
     "execution_count": 144,
     "metadata": {},
     "output_type": "execute_result"
    }
   ],
   "source": [
    "best_drf_model.model_id"
   ]
  },
  {
   "cell_type": "code",
   "execution_count": 145,
   "metadata": {
    "collapsed": true
   },
   "outputs": [],
   "source": [
    "#: Performing predictions with one of the above model"
   ]
  },
  {
   "cell_type": "code",
   "execution_count": 146,
   "metadata": {},
   "outputs": [
    {
     "name": "stdout",
     "output_type": "stream",
     "text": [
      "drf prediction progress: |████████████████████████████████████████████████| 100%\n"
     ]
    }
   ],
   "source": [
    "drf_predictions = best_drf_model.predict(test_data=test_df)"
   ]
  },
  {
   "cell_type": "code",
   "execution_count": 147,
   "metadata": {
    "collapsed": true
   },
   "outputs": [],
   "source": [
    "#: Understanding/Validating predictions based on prediction results historgram"
   ]
  },
  {
   "cell_type": "code",
   "execution_count": 148,
   "metadata": {},
   "outputs": [
    {
     "data": {
      "image/png": "[encoded data removed]",
      "text/plain": [
       "<matplotlib.figure.Figure at 0x10fdc5ad0>"
      ]
     },
     "metadata": {},
     "output_type": "display_data"
    }
   ],
   "source": [
    "drf_predictions.hist()"
   ]
  },
  {
   "cell_type": "code",
   "execution_count": 149,
   "metadata": {
    "collapsed": true
   },
   "outputs": [],
   "source": [
    "#: Getting Scorring History"
   ]
  },
  {
   "cell_type": "code",
   "execution_count": 150,
   "metadata": {},
   "outputs": [
    {
     "data": {
      "text/html": [
       "<div>\n",
       "<style>\n",
       "    .dataframe thead tr:only-child th {\n",
       "        text-align: right;\n",
       "    }\n",
       "\n",
       "    .dataframe thead th {\n",
       "        text-align: left;\n",
       "    }\n",
       "\n",
       "    .dataframe tbody tr th {\n",
       "        vertical-align: top;\n",
       "    }\n",
       "</style>\n",
       "<table border=\"1\" class=\"dataframe\">\n",
       "  <thead>\n",
       "    <tr style=\"text-align: right;\">\n",
       "      <th></th>\n",
       "      <th></th>\n",
       "      <th>timestamp</th>\n",
       "      <th>duration</th>\n",
       "      <th>number_of_trees</th>\n",
       "      <th>training_rmse</th>\n",
       "      <th>training_mae</th>\n",
       "      <th>training_deviance</th>\n",
       "    </tr>\n",
       "  </thead>\n",
       "  <tbody>\n",
       "    <tr>\n",
       "      <th>0</th>\n",
       "      <td></td>\n",
       "      <td>2017-11-22 23:04:22</td>\n",
       "      <td>3.050 sec</td>\n",
       "      <td>0.0</td>\n",
       "      <td>NaN</td>\n",
       "      <td>NaN</td>\n",
       "      <td>NaN</td>\n",
       "    </tr>\n",
       "    <tr>\n",
       "      <th>1</th>\n",
       "      <td></td>\n",
       "      <td>2017-11-22 23:04:22</td>\n",
       "      <td>3.053 sec</td>\n",
       "      <td>1.0</td>\n",
       "      <td>6.112398</td>\n",
       "      <td>3.829956</td>\n",
       "      <td>37.361412</td>\n",
       "    </tr>\n",
       "    <tr>\n",
       "      <th>2</th>\n",
       "      <td></td>\n",
       "      <td>2017-11-22 23:04:22</td>\n",
       "      <td>3.056 sec</td>\n",
       "      <td>2.0</td>\n",
       "      <td>5.130557</td>\n",
       "      <td>3.253997</td>\n",
       "      <td>26.322617</td>\n",
       "    </tr>\n",
       "    <tr>\n",
       "      <th>3</th>\n",
       "      <td></td>\n",
       "      <td>2017-11-22 23:04:22</td>\n",
       "      <td>3.058 sec</td>\n",
       "      <td>3.0</td>\n",
       "      <td>4.981025</td>\n",
       "      <td>3.129697</td>\n",
       "      <td>24.810612</td>\n",
       "    </tr>\n",
       "    <tr>\n",
       "      <th>4</th>\n",
       "      <td></td>\n",
       "      <td>2017-11-22 23:04:22</td>\n",
       "      <td>3.061 sec</td>\n",
       "      <td>4.0</td>\n",
       "      <td>5.209064</td>\n",
       "      <td>3.132939</td>\n",
       "      <td>27.134349</td>\n",
       "    </tr>\n",
       "    <tr>\n",
       "      <th>5</th>\n",
       "      <td></td>\n",
       "      <td>2017-11-22 23:04:22</td>\n",
       "      <td>3.063 sec</td>\n",
       "      <td>5.0</td>\n",
       "      <td>4.985408</td>\n",
       "      <td>3.038066</td>\n",
       "      <td>24.854290</td>\n",
       "    </tr>\n",
       "    <tr>\n",
       "      <th>6</th>\n",
       "      <td></td>\n",
       "      <td>2017-11-22 23:04:22</td>\n",
       "      <td>3.066 sec</td>\n",
       "      <td>6.0</td>\n",
       "      <td>5.086538</td>\n",
       "      <td>3.150961</td>\n",
       "      <td>25.872873</td>\n",
       "    </tr>\n",
       "    <tr>\n",
       "      <th>7</th>\n",
       "      <td></td>\n",
       "      <td>2017-11-22 23:04:22</td>\n",
       "      <td>3.069 sec</td>\n",
       "      <td>7.0</td>\n",
       "      <td>4.947115</td>\n",
       "      <td>3.104096</td>\n",
       "      <td>24.473943</td>\n",
       "    </tr>\n",
       "    <tr>\n",
       "      <th>8</th>\n",
       "      <td></td>\n",
       "      <td>2017-11-22 23:04:22</td>\n",
       "      <td>3.071 sec</td>\n",
       "      <td>8.0</td>\n",
       "      <td>4.601810</td>\n",
       "      <td>3.066275</td>\n",
       "      <td>21.176658</td>\n",
       "    </tr>\n",
       "    <tr>\n",
       "      <th>9</th>\n",
       "      <td></td>\n",
       "      <td>2017-11-22 23:04:22</td>\n",
       "      <td>3.073 sec</td>\n",
       "      <td>9.0</td>\n",
       "      <td>4.518787</td>\n",
       "      <td>3.034084</td>\n",
       "      <td>20.419439</td>\n",
       "    </tr>\n",
       "    <tr>\n",
       "      <th>10</th>\n",
       "      <td></td>\n",
       "      <td>2017-11-22 23:04:22</td>\n",
       "      <td>3.076 sec</td>\n",
       "      <td>10.0</td>\n",
       "      <td>4.456272</td>\n",
       "      <td>3.013956</td>\n",
       "      <td>19.858356</td>\n",
       "    </tr>\n",
       "    <tr>\n",
       "      <th>11</th>\n",
       "      <td></td>\n",
       "      <td>2017-11-22 23:04:22</td>\n",
       "      <td>3.078 sec</td>\n",
       "      <td>11.0</td>\n",
       "      <td>4.367992</td>\n",
       "      <td>2.950230</td>\n",
       "      <td>19.079357</td>\n",
       "    </tr>\n",
       "    <tr>\n",
       "      <th>12</th>\n",
       "      <td></td>\n",
       "      <td>2017-11-22 23:04:22</td>\n",
       "      <td>3.081 sec</td>\n",
       "      <td>12.0</td>\n",
       "      <td>4.189881</td>\n",
       "      <td>2.835023</td>\n",
       "      <td>17.555101</td>\n",
       "    </tr>\n",
       "    <tr>\n",
       "      <th>13</th>\n",
       "      <td></td>\n",
       "      <td>2017-11-22 23:04:22</td>\n",
       "      <td>3.084 sec</td>\n",
       "      <td>13.0</td>\n",
       "      <td>4.094062</td>\n",
       "      <td>2.796797</td>\n",
       "      <td>16.761347</td>\n",
       "    </tr>\n",
       "    <tr>\n",
       "      <th>14</th>\n",
       "      <td></td>\n",
       "      <td>2017-11-22 23:04:22</td>\n",
       "      <td>3.086 sec</td>\n",
       "      <td>14.0</td>\n",
       "      <td>4.032824</td>\n",
       "      <td>2.750086</td>\n",
       "      <td>16.263671</td>\n",
       "    </tr>\n",
       "    <tr>\n",
       "      <th>15</th>\n",
       "      <td></td>\n",
       "      <td>2017-11-22 23:04:22</td>\n",
       "      <td>3.089 sec</td>\n",
       "      <td>15.0</td>\n",
       "      <td>4.018508</td>\n",
       "      <td>2.713988</td>\n",
       "      <td>16.148406</td>\n",
       "    </tr>\n",
       "    <tr>\n",
       "      <th>16</th>\n",
       "      <td></td>\n",
       "      <td>2017-11-22 23:04:22</td>\n",
       "      <td>3.091 sec</td>\n",
       "      <td>16.0</td>\n",
       "      <td>3.919056</td>\n",
       "      <td>2.668497</td>\n",
       "      <td>15.359003</td>\n",
       "    </tr>\n",
       "    <tr>\n",
       "      <th>17</th>\n",
       "      <td></td>\n",
       "      <td>2017-11-22 23:04:22</td>\n",
       "      <td>3.094 sec</td>\n",
       "      <td>17.0</td>\n",
       "      <td>3.668929</td>\n",
       "      <td>2.603012</td>\n",
       "      <td>13.461040</td>\n",
       "    </tr>\n",
       "    <tr>\n",
       "      <th>18</th>\n",
       "      <td></td>\n",
       "      <td>2017-11-22 23:04:22</td>\n",
       "      <td>3.096 sec</td>\n",
       "      <td>18.0</td>\n",
       "      <td>3.624382</td>\n",
       "      <td>2.565668</td>\n",
       "      <td>13.136143</td>\n",
       "    </tr>\n",
       "    <tr>\n",
       "      <th>19</th>\n",
       "      <td></td>\n",
       "      <td>2017-11-22 23:04:22</td>\n",
       "      <td>3.099 sec</td>\n",
       "      <td>19.0</td>\n",
       "      <td>3.577188</td>\n",
       "      <td>2.528643</td>\n",
       "      <td>12.796271</td>\n",
       "    </tr>\n",
       "    <tr>\n",
       "      <th>20</th>\n",
       "      <td></td>\n",
       "      <td>2017-11-22 23:04:22</td>\n",
       "      <td>3.101 sec</td>\n",
       "      <td>20.0</td>\n",
       "      <td>3.512991</td>\n",
       "      <td>2.511707</td>\n",
       "      <td>12.341104</td>\n",
       "    </tr>\n",
       "    <tr>\n",
       "      <th>21</th>\n",
       "      <td></td>\n",
       "      <td>2017-11-22 23:04:22</td>\n",
       "      <td>3.104 sec</td>\n",
       "      <td>21.0</td>\n",
       "      <td>3.481370</td>\n",
       "      <td>2.497549</td>\n",
       "      <td>12.119935</td>\n",
       "    </tr>\n",
       "    <tr>\n",
       "      <th>22</th>\n",
       "      <td></td>\n",
       "      <td>2017-11-22 23:04:22</td>\n",
       "      <td>3.106 sec</td>\n",
       "      <td>22.0</td>\n",
       "      <td>3.432356</td>\n",
       "      <td>2.470168</td>\n",
       "      <td>11.781068</td>\n",
       "    </tr>\n",
       "    <tr>\n",
       "      <th>23</th>\n",
       "      <td></td>\n",
       "      <td>2017-11-22 23:04:22</td>\n",
       "      <td>3.109 sec</td>\n",
       "      <td>23.0</td>\n",
       "      <td>3.344811</td>\n",
       "      <td>2.423749</td>\n",
       "      <td>11.187762</td>\n",
       "    </tr>\n",
       "    <tr>\n",
       "      <th>24</th>\n",
       "      <td></td>\n",
       "      <td>2017-11-22 23:04:22</td>\n",
       "      <td>3.111 sec</td>\n",
       "      <td>24.0</td>\n",
       "      <td>3.308390</td>\n",
       "      <td>2.376163</td>\n",
       "      <td>10.945442</td>\n",
       "    </tr>\n",
       "    <tr>\n",
       "      <th>25</th>\n",
       "      <td></td>\n",
       "      <td>2017-11-22 23:04:22</td>\n",
       "      <td>3.114 sec</td>\n",
       "      <td>25.0</td>\n",
       "      <td>3.310997</td>\n",
       "      <td>2.351101</td>\n",
       "      <td>10.962699</td>\n",
       "    </tr>\n",
       "    <tr>\n",
       "      <th>26</th>\n",
       "      <td></td>\n",
       "      <td>2017-11-22 23:04:22</td>\n",
       "      <td>3.117 sec</td>\n",
       "      <td>26.0</td>\n",
       "      <td>3.276145</td>\n",
       "      <td>2.342843</td>\n",
       "      <td>10.733126</td>\n",
       "    </tr>\n",
       "    <tr>\n",
       "      <th>27</th>\n",
       "      <td></td>\n",
       "      <td>2017-11-22 23:04:22</td>\n",
       "      <td>3.119 sec</td>\n",
       "      <td>27.0</td>\n",
       "      <td>3.284373</td>\n",
       "      <td>2.328023</td>\n",
       "      <td>10.787105</td>\n",
       "    </tr>\n",
       "    <tr>\n",
       "      <th>28</th>\n",
       "      <td></td>\n",
       "      <td>2017-11-22 23:04:22</td>\n",
       "      <td>3.122 sec</td>\n",
       "      <td>28.0</td>\n",
       "      <td>3.256511</td>\n",
       "      <td>2.306917</td>\n",
       "      <td>10.604865</td>\n",
       "    </tr>\n",
       "    <tr>\n",
       "      <th>29</th>\n",
       "      <td></td>\n",
       "      <td>2017-11-22 23:04:22</td>\n",
       "      <td>3.125 sec</td>\n",
       "      <td>29.0</td>\n",
       "      <td>3.248168</td>\n",
       "      <td>2.314446</td>\n",
       "      <td>10.550592</td>\n",
       "    </tr>\n",
       "    <tr>\n",
       "      <th>30</th>\n",
       "      <td></td>\n",
       "      <td>2017-11-22 23:04:22</td>\n",
       "      <td>3.127 sec</td>\n",
       "      <td>30.0</td>\n",
       "      <td>3.241679</td>\n",
       "      <td>2.302572</td>\n",
       "      <td>10.508482</td>\n",
       "    </tr>\n",
       "    <tr>\n",
       "      <th>31</th>\n",
       "      <td></td>\n",
       "      <td>2017-11-22 23:04:22</td>\n",
       "      <td>3.129 sec</td>\n",
       "      <td>31.0</td>\n",
       "      <td>3.198266</td>\n",
       "      <td>2.305231</td>\n",
       "      <td>10.228906</td>\n",
       "    </tr>\n",
       "    <tr>\n",
       "      <th>32</th>\n",
       "      <td></td>\n",
       "      <td>2017-11-22 23:04:22</td>\n",
       "      <td>3.132 sec</td>\n",
       "      <td>32.0</td>\n",
       "      <td>3.152424</td>\n",
       "      <td>2.283512</td>\n",
       "      <td>9.937780</td>\n",
       "    </tr>\n",
       "    <tr>\n",
       "      <th>33</th>\n",
       "      <td></td>\n",
       "      <td>2017-11-22 23:04:22</td>\n",
       "      <td>3.134 sec</td>\n",
       "      <td>33.0</td>\n",
       "      <td>3.167709</td>\n",
       "      <td>2.304485</td>\n",
       "      <td>10.034379</td>\n",
       "    </tr>\n",
       "    <tr>\n",
       "      <th>34</th>\n",
       "      <td></td>\n",
       "      <td>2017-11-22 23:04:22</td>\n",
       "      <td>3.137 sec</td>\n",
       "      <td>34.0</td>\n",
       "      <td>3.195528</td>\n",
       "      <td>2.318439</td>\n",
       "      <td>10.211398</td>\n",
       "    </tr>\n",
       "    <tr>\n",
       "      <th>35</th>\n",
       "      <td></td>\n",
       "      <td>2017-11-22 23:04:22</td>\n",
       "      <td>3.140 sec</td>\n",
       "      <td>35.0</td>\n",
       "      <td>3.245485</td>\n",
       "      <td>2.339501</td>\n",
       "      <td>10.533171</td>\n",
       "    </tr>\n",
       "    <tr>\n",
       "      <th>36</th>\n",
       "      <td></td>\n",
       "      <td>2017-11-22 23:04:22</td>\n",
       "      <td>3.142 sec</td>\n",
       "      <td>36.0</td>\n",
       "      <td>3.265239</td>\n",
       "      <td>2.351277</td>\n",
       "      <td>10.661785</td>\n",
       "    </tr>\n",
       "    <tr>\n",
       "      <th>37</th>\n",
       "      <td></td>\n",
       "      <td>2017-11-22 23:04:22</td>\n",
       "      <td>3.146 sec</td>\n",
       "      <td>37.0</td>\n",
       "      <td>3.266101</td>\n",
       "      <td>2.355978</td>\n",
       "      <td>10.667416</td>\n",
       "    </tr>\n",
       "    <tr>\n",
       "      <th>38</th>\n",
       "      <td></td>\n",
       "      <td>2017-11-22 23:04:22</td>\n",
       "      <td>3.149 sec</td>\n",
       "      <td>38.0</td>\n",
       "      <td>3.256525</td>\n",
       "      <td>2.348995</td>\n",
       "      <td>10.604955</td>\n",
       "    </tr>\n",
       "    <tr>\n",
       "      <th>39</th>\n",
       "      <td></td>\n",
       "      <td>2017-11-22 23:04:22</td>\n",
       "      <td>3.151 sec</td>\n",
       "      <td>39.0</td>\n",
       "      <td>3.256216</td>\n",
       "      <td>2.342351</td>\n",
       "      <td>10.602945</td>\n",
       "    </tr>\n",
       "    <tr>\n",
       "      <th>40</th>\n",
       "      <td></td>\n",
       "      <td>2017-11-22 23:04:22</td>\n",
       "      <td>3.154 sec</td>\n",
       "      <td>40.0</td>\n",
       "      <td>3.231888</td>\n",
       "      <td>2.323714</td>\n",
       "      <td>10.445103</td>\n",
       "    </tr>\n",
       "    <tr>\n",
       "      <th>41</th>\n",
       "      <td></td>\n",
       "      <td>2017-11-22 23:04:22</td>\n",
       "      <td>3.157 sec</td>\n",
       "      <td>41.0</td>\n",
       "      <td>3.223501</td>\n",
       "      <td>2.308900</td>\n",
       "      <td>10.390956</td>\n",
       "    </tr>\n",
       "    <tr>\n",
       "      <th>42</th>\n",
       "      <td></td>\n",
       "      <td>2017-11-22 23:04:22</td>\n",
       "      <td>3.159 sec</td>\n",
       "      <td>42.0</td>\n",
       "      <td>3.218306</td>\n",
       "      <td>2.304846</td>\n",
       "      <td>10.357496</td>\n",
       "    </tr>\n",
       "    <tr>\n",
       "      <th>43</th>\n",
       "      <td></td>\n",
       "      <td>2017-11-22 23:04:22</td>\n",
       "      <td>3.162 sec</td>\n",
       "      <td>43.0</td>\n",
       "      <td>3.205893</td>\n",
       "      <td>2.285572</td>\n",
       "      <td>10.277753</td>\n",
       "    </tr>\n",
       "    <tr>\n",
       "      <th>44</th>\n",
       "      <td></td>\n",
       "      <td>2017-11-22 23:04:22</td>\n",
       "      <td>3.165 sec</td>\n",
       "      <td>44.0</td>\n",
       "      <td>3.195301</td>\n",
       "      <td>2.272115</td>\n",
       "      <td>10.209950</td>\n",
       "    </tr>\n",
       "    <tr>\n",
       "      <th>45</th>\n",
       "      <td></td>\n",
       "      <td>2017-11-22 23:04:22</td>\n",
       "      <td>3.168 sec</td>\n",
       "      <td>45.0</td>\n",
       "      <td>3.181843</td>\n",
       "      <td>2.274044</td>\n",
       "      <td>10.124128</td>\n",
       "    </tr>\n",
       "    <tr>\n",
       "      <th>46</th>\n",
       "      <td></td>\n",
       "      <td>2017-11-22 23:04:22</td>\n",
       "      <td>3.171 sec</td>\n",
       "      <td>46.0</td>\n",
       "      <td>3.172097</td>\n",
       "      <td>2.278295</td>\n",
       "      <td>10.062196</td>\n",
       "    </tr>\n",
       "    <tr>\n",
       "      <th>47</th>\n",
       "      <td></td>\n",
       "      <td>2017-11-22 23:04:22</td>\n",
       "      <td>3.175 sec</td>\n",
       "      <td>47.0</td>\n",
       "      <td>3.172199</td>\n",
       "      <td>2.273750</td>\n",
       "      <td>10.062845</td>\n",
       "    </tr>\n",
       "    <tr>\n",
       "      <th>48</th>\n",
       "      <td></td>\n",
       "      <td>2017-11-22 23:04:22</td>\n",
       "      <td>3.178 sec</td>\n",
       "      <td>48.0</td>\n",
       "      <td>3.162476</td>\n",
       "      <td>2.269168</td>\n",
       "      <td>10.001255</td>\n",
       "    </tr>\n",
       "    <tr>\n",
       "      <th>49</th>\n",
       "      <td></td>\n",
       "      <td>2017-11-22 23:04:22</td>\n",
       "      <td>3.180 sec</td>\n",
       "      <td>49.0</td>\n",
       "      <td>3.171902</td>\n",
       "      <td>2.268152</td>\n",
       "      <td>10.060962</td>\n",
       "    </tr>\n",
       "    <tr>\n",
       "      <th>50</th>\n",
       "      <td></td>\n",
       "      <td>2017-11-22 23:04:22</td>\n",
       "      <td>3.183 sec</td>\n",
       "      <td>50.0</td>\n",
       "      <td>3.174462</td>\n",
       "      <td>2.259289</td>\n",
       "      <td>10.077208</td>\n",
       "    </tr>\n",
       "  </tbody>\n",
       "</table>\n",
       "</div>"
      ],
      "text/plain": [
       "                timestamp    duration  number_of_trees  training_rmse  \\\n",
       "0     2017-11-22 23:04:22   3.050 sec              0.0            NaN   \n",
       "1     2017-11-22 23:04:22   3.053 sec              1.0       6.112398   \n",
       "2     2017-11-22 23:04:22   3.056 sec              2.0       5.130557   \n",
       "3     2017-11-22 23:04:22   3.058 sec              3.0       4.981025   \n",
       "4     2017-11-22 23:04:22   3.061 sec              4.0       5.209064   \n",
       "5     2017-11-22 23:04:22   3.063 sec              5.0       4.985408   \n",
       "6     2017-11-22 23:04:22   3.066 sec              6.0       5.086538   \n",
       "7     2017-11-22 23:04:22   3.069 sec              7.0       4.947115   \n",
       "8     2017-11-22 23:04:22   3.071 sec              8.0       4.601810   \n",
       "9     2017-11-22 23:04:22   3.073 sec              9.0       4.518787   \n",
       "10    2017-11-22 23:04:22   3.076 sec             10.0       4.456272   \n",
       "11    2017-11-22 23:04:22   3.078 sec             11.0       4.367992   \n",
       "12    2017-11-22 23:04:22   3.081 sec             12.0       4.189881   \n",
       "13    2017-11-22 23:04:22   3.084 sec             13.0       4.094062   \n",
       "14    2017-11-22 23:04:22   3.086 sec             14.0       4.032824   \n",
       "15    2017-11-22 23:04:22   3.089 sec             15.0       4.018508   \n",
       "16    2017-11-22 23:04:22   3.091 sec             16.0       3.919056   \n",
       "17    2017-11-22 23:04:22   3.094 sec             17.0       3.668929   \n",
       "18    2017-11-22 23:04:22   3.096 sec             18.0       3.624382   \n",
       "19    2017-11-22 23:04:22   3.099 sec             19.0       3.577188   \n",
       "20    2017-11-22 23:04:22   3.101 sec             20.0       3.512991   \n",
       "21    2017-11-22 23:04:22   3.104 sec             21.0       3.481370   \n",
       "22    2017-11-22 23:04:22   3.106 sec             22.0       3.432356   \n",
       "23    2017-11-22 23:04:22   3.109 sec             23.0       3.344811   \n",
       "24    2017-11-22 23:04:22   3.111 sec             24.0       3.308390   \n",
       "25    2017-11-22 23:04:22   3.114 sec             25.0       3.310997   \n",
       "26    2017-11-22 23:04:22   3.117 sec             26.0       3.276145   \n",
       "27    2017-11-22 23:04:22   3.119 sec             27.0       3.284373   \n",
       "28    2017-11-22 23:04:22   3.122 sec             28.0       3.256511   \n",
       "29    2017-11-22 23:04:22   3.125 sec             29.0       3.248168   \n",
       "30    2017-11-22 23:04:22   3.127 sec             30.0       3.241679   \n",
       "31    2017-11-22 23:04:22   3.129 sec             31.0       3.198266   \n",
       "32    2017-11-22 23:04:22   3.132 sec             32.0       3.152424   \n",
       "33    2017-11-22 23:04:22   3.134 sec             33.0       3.167709   \n",
       "34    2017-11-22 23:04:22   3.137 sec             34.0       3.195528   \n",
       "35    2017-11-22 23:04:22   3.140 sec             35.0       3.245485   \n",
       "36    2017-11-22 23:04:22   3.142 sec             36.0       3.265239   \n",
       "37    2017-11-22 23:04:22   3.146 sec             37.0       3.266101   \n",
       "38    2017-11-22 23:04:22   3.149 sec             38.0       3.256525   \n",
       "39    2017-11-22 23:04:22   3.151 sec             39.0       3.256216   \n",
       "40    2017-11-22 23:04:22   3.154 sec             40.0       3.231888   \n",
       "41    2017-11-22 23:04:22   3.157 sec             41.0       3.223501   \n",
       "42    2017-11-22 23:04:22   3.159 sec             42.0       3.218306   \n",
       "43    2017-11-22 23:04:22   3.162 sec             43.0       3.205893   \n",
       "44    2017-11-22 23:04:22   3.165 sec             44.0       3.195301   \n",
       "45    2017-11-22 23:04:22   3.168 sec             45.0       3.181843   \n",
       "46    2017-11-22 23:04:22   3.171 sec             46.0       3.172097   \n",
       "47    2017-11-22 23:04:22   3.175 sec             47.0       3.172199   \n",
       "48    2017-11-22 23:04:22   3.178 sec             48.0       3.162476   \n",
       "49    2017-11-22 23:04:22   3.180 sec             49.0       3.171902   \n",
       "50    2017-11-22 23:04:22   3.183 sec             50.0       3.174462   \n",
       "\n",
       "    training_mae  training_deviance  \n",
       "0            NaN                NaN  \n",
       "1       3.829956          37.361412  \n",
       "2       3.253997          26.322617  \n",
       "3       3.129697          24.810612  \n",
       "4       3.132939          27.134349  \n",
       "5       3.038066          24.854290  \n",
       "6       3.150961          25.872873  \n",
       "7       3.104096          24.473943  \n",
       "8       3.066275          21.176658  \n",
       "9       3.034084          20.419439  \n",
       "10      3.013956          19.858356  \n",
       "11      2.950230          19.079357  \n",
       "12      2.835023          17.555101  \n",
       "13      2.796797          16.761347  \n",
       "14      2.750086          16.263671  \n",
       "15      2.713988          16.148406  \n",
       "16      2.668497          15.359003  \n",
       "17      2.603012          13.461040  \n",
       "18      2.565668          13.136143  \n",
       "19      2.528643          12.796271  \n",
       "20      2.511707          12.341104  \n",
       "21      2.497549          12.119935  \n",
       "22      2.470168          11.781068  \n",
       "23      2.423749          11.187762  \n",
       "24      2.376163          10.945442  \n",
       "25      2.351101          10.962699  \n",
       "26      2.342843          10.733126  \n",
       "27      2.328023          10.787105  \n",
       "28      2.306917          10.604865  \n",
       "29      2.314446          10.550592  \n",
       "30      2.302572          10.508482  \n",
       "31      2.305231          10.228906  \n",
       "32      2.283512           9.937780  \n",
       "33      2.304485          10.034379  \n",
       "34      2.318439          10.211398  \n",
       "35      2.339501          10.533171  \n",
       "36      2.351277          10.661785  \n",
       "37      2.355978          10.667416  \n",
       "38      2.348995          10.604955  \n",
       "39      2.342351          10.602945  \n",
       "40      2.323714          10.445103  \n",
       "41      2.308900          10.390956  \n",
       "42      2.304846          10.357496  \n",
       "43      2.285572          10.277753  \n",
       "44      2.272115          10.209950  \n",
       "45      2.274044          10.124128  \n",
       "46      2.278295          10.062196  \n",
       "47      2.273750          10.062845  \n",
       "48      2.269168          10.001255  \n",
       "49      2.268152          10.060962  \n",
       "50      2.259289          10.077208  "
      ]
     },
     "execution_count": 150,
     "metadata": {},
     "output_type": "execute_result"
    }
   ],
   "source": [
    "best_drf_model.score_history()"
   ]
  },
  {
   "cell_type": "code",
   "execution_count": 151,
   "metadata": {
    "collapsed": true
   },
   "outputs": [],
   "source": [
    "#: Getting DRF model variable importance "
   ]
  },
  {
   "cell_type": "code",
   "execution_count": 152,
   "metadata": {},
   "outputs": [
    {
     "data": {
      "text/plain": [
       "[(u'lstat', 516211.6875, 1.0, 0.36297148917684763),\n",
       " (u'rm', 351581.875, 0.6810808114452077, 0.2472129163800428),\n",
       " (u'indus', 108481.90625, 0.2101500389798904, 0.07627847259910339),\n",
       " (u'ptratio', 101566.109375, 0.1967528280246464, 0.07141566698786209),\n",
       " (u'nox', 100654.671875, 0.19498720062396882, 0.07077479458090671),\n",
       " (u'dis', 77902.625, 0.15091216817906705, 0.05477681441886284),\n",
       " (u'tax', 51638.5625, 0.10003369499455589, 0.03630937924003652),\n",
       " (u'crim', 40370.9296875, 0.07820615198198123, 0.0283866034476906),\n",
       " (u'age', 33435.48046875, 0.06477087070747502, 0.023509979395973265),\n",
       " (u'b', 22409.646484375, 0.04341173791105805, 0.015757223157331753),\n",
       " (u'rad', 6670.453125, 0.01292193355269586, 0.004690293464666289),\n",
       " (u'zn', 6272.51318359375, 0.012151048369267599, 0.004410484121652966),\n",
       " (u'chas', 4986.00537109375, 0.009658838596314714, 0.003505883029023164)]"
      ]
     },
     "execution_count": 152,
     "metadata": {},
     "output_type": "execute_result"
    }
   ],
   "source": [
    "best_drf_model.varimp()"
   ]
  },
  {
   "cell_type": "code",
   "execution_count": 153,
   "metadata": {
    "collapsed": true
   },
   "outputs": [],
   "source": [
    "#: Getting DRF model variable importance PLOT"
   ]
  },
  {
   "cell_type": "code",
   "execution_count": 154,
   "metadata": {},
   "outputs": [
    {
     "data": {
      "image/png": "[encoded data removed]",
      "text/plain": [
       "<matplotlib.figure.Figure at 0x10f350990>"
      ]
     },
     "metadata": {},
     "output_type": "display_data"
    }
   ],
   "source": [
    "best_drf_model.varimp_plot()"
   ]
  },
  {
   "cell_type": "code",
   "execution_count": null,
   "metadata": {
    "collapsed": true
   },
   "outputs": [],
   "source": [
    "###: Plotting the model based on rmse"
   ]
  },
  {
   "cell_type": "code",
   "execution_count": 155,
   "metadata": {},
   "outputs": [
    {
     "data": {
      "image/png": "[encoded data removed]",
      "text/plain": [
       "<matplotlib.figure.Figure at 0x10f3b73d0>"
      ]
     },
     "metadata": {},
     "output_type": "display_data"
    }
   ],
   "source": [
    "best_drf_model.plot(metric=\"rmse\")"
   ]
  },
  {
   "cell_type": "code",
   "execution_count": null,
   "metadata": {
    "collapsed": true
   },
   "outputs": [],
   "source": []
  }
 ],
 "metadata": {
  "kernelspec": {
   "display_name": "Python 2",
   "language": "python",
   "name": "python2"
  },
  "language_info": {
   "codemirror_mode": {
    "name": "ipython",
    "version": 2
   },
   "file_extension": ".py",
   "mimetype": "text/x-python",
   "name": "python",
   "nbconvert_exporter": "python",
   "pygments_lexer": "ipython2",
   "version": "2.7.13"
  }
 },
 "nbformat": 4,
 "nbformat_minor": 2
}
