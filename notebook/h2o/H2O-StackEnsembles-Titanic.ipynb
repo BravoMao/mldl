{
 "cells": [
  {
   "cell_type": "code",
   "execution_count": 1,
   "metadata": {
    "collapsed": true
   },
   "outputs": [],
   "source": [
    "###: Loading important libraries "
   ]
  },
  {
   "cell_type": "code",
   "execution_count": 2,
   "metadata": {
    "collapsed": true
   },
   "outputs": [],
   "source": [
    "import h2o\n",
    "from __future__ import print_function"
   ]
  },
  {
   "cell_type": "code",
   "execution_count": 3,
   "metadata": {
    "collapsed": true
   },
   "outputs": [],
   "source": [
    "###: Loading H2O Ensemble, Gird Search, GBM, Random Forest and Deep Learning specific libraries"
   ]
  },
  {
   "cell_type": "code",
   "execution_count": 4,
   "metadata": {
    "collapsed": true
   },
   "outputs": [],
   "source": [
    "from h2o.estimators.random_forest import H2ORandomForestEstimator\n",
    "from h2o.estimators.gbm import H2OGradientBoostingEstimator\n",
    "from h2o.estimators.stackedensemble import H2OStackedEnsembleEstimator\n",
    "from h2o.estimators.deeplearning import H2ODeepLearningEstimator\n",
    "from h2o.grid.grid_search import H2OGridSearch"
   ]
  },
  {
   "cell_type": "code",
   "execution_count": 5,
   "metadata": {
    "collapsed": true
   },
   "outputs": [],
   "source": [
    "###: Initializing H2O"
   ]
  },
  {
   "cell_type": "code",
   "execution_count": 6,
   "metadata": {},
   "outputs": [
    {
     "name": "stderr",
     "output_type": "stream",
     "text": [
      "ERROR:h2o:Key init.version_check is not a valid config key\n"
     ]
    },
    {
     "name": "stdout",
     "output_type": "stream",
     "text": [
      "Checking whether there is an H2O instance running at http://localhost:54321..... not found.\n",
      "Attempting to start a local H2O server...\n",
      "  Java Version: java version \"1.8.0_101\"; Java(TM) SE Runtime Environment (build 1.8.0_101-b13); Java HotSpot(TM) 64-Bit Server VM (build 25.101-b13, mixed mode)\n",
      "  Starting server from /Users/avkashchauhan/anaconda3/envs/python27/lib/python2.7/site-packages/h2o/backend/bin/h2o.jar\n",
      "  Ice root: /var/folders/x7/331tvwcd6p17jj9zdmhnkpyc0000gn/T/tmpCi_ruF\n",
      "  JVM stdout: /var/folders/x7/331tvwcd6p17jj9zdmhnkpyc0000gn/T/tmpCi_ruF/h2o_avkashchauhan_started_from_python.out\n",
      "  JVM stderr: /var/folders/x7/331tvwcd6p17jj9zdmhnkpyc0000gn/T/tmpCi_ruF/h2o_avkashchauhan_started_from_python.err\n",
      "  Server is running at http://127.0.0.1:54321\n",
      "Connecting to H2O server at http://127.0.0.1:54321... successful.\n"
     ]
    },
    {
     "data": {
      "text/html": [
       "<div style=\"overflow:auto\"><table style=\"width:50%\"><tr><td>H2O cluster uptime:</td>\n",
       "<td>01 secs</td></tr>\n",
       "<tr><td>H2O cluster version:</td>\n",
       "<td>3.14.0.7</td></tr>\n",
       "<tr><td>H2O cluster version age:</td>\n",
       "<td>29 days </td></tr>\n",
       "<tr><td>H2O cluster name:</td>\n",
       "<td>H2O_from_python_avkashchauhan_q7n20e</td></tr>\n",
       "<tr><td>H2O cluster total nodes:</td>\n",
       "<td>1</td></tr>\n",
       "<tr><td>H2O cluster free memory:</td>\n",
       "<td>3.556 Gb</td></tr>\n",
       "<tr><td>H2O cluster total cores:</td>\n",
       "<td>8</td></tr>\n",
       "<tr><td>H2O cluster allowed cores:</td>\n",
       "<td>8</td></tr>\n",
       "<tr><td>H2O cluster status:</td>\n",
       "<td>accepting new members, healthy</td></tr>\n",
       "<tr><td>H2O connection url:</td>\n",
       "<td>http://127.0.0.1:54321</td></tr>\n",
       "<tr><td>H2O connection proxy:</td>\n",
       "<td>None</td></tr>\n",
       "<tr><td>H2O internal security:</td>\n",
       "<td>False</td></tr>\n",
       "<tr><td>H2O API Extensions:</td>\n",
       "<td>XGBoost, Algos, AutoML, Core V3, Core V4</td></tr>\n",
       "<tr><td>Python version:</td>\n",
       "<td>2.7.13 final</td></tr></table></div>"
      ],
      "text/plain": [
       "--------------------------  ----------------------------------------\n",
       "H2O cluster uptime:         01 secs\n",
       "H2O cluster version:        3.14.0.7\n",
       "H2O cluster version age:    29 days\n",
       "H2O cluster name:           H2O_from_python_avkashchauhan_q7n20e\n",
       "H2O cluster total nodes:    1\n",
       "H2O cluster free memory:    3.556 Gb\n",
       "H2O cluster total cores:    8\n",
       "H2O cluster allowed cores:  8\n",
       "H2O cluster status:         accepting new members, healthy\n",
       "H2O connection url:         http://127.0.0.1:54321\n",
       "H2O connection proxy:\n",
       "H2O internal security:      False\n",
       "H2O API Extensions:         XGBoost, Algos, AutoML, Core V3, Core V4\n",
       "Python version:             2.7.13 final\n",
       "--------------------------  ----------------------------------------"
      ]
     },
     "metadata": {},
     "output_type": "display_data"
    }
   ],
   "source": [
    "h2o.init()"
   ]
  },
  {
   "cell_type": "code",
   "execution_count": 7,
   "metadata": {},
   "outputs": [
    {
     "name": "stdout",
     "output_type": "stream",
     "text": [
      "Parse progress: |█████████████████████████████████████████████████████████| 100%\n"
     ]
    }
   ],
   "source": [
    "###:Importing training and test data\n",
    "###: Local\n",
    "df = h2o.import_file(\"/Users/avkashchauhan/src/github.com/avkash/mldl/data/titanic_list.csv\")\n",
    "#test = h2o.import_file(\"/Users/avkashchauhan/src/github.com/avkash/mldl/data/house_price_test.csv\")\n",
    "\n",
    "###: From HTTP\n",
    "#train = h2o.import_file(\"__\")\n",
    "#test = h2o.import_file(\"__\")"
   ]
  },
  {
   "cell_type": "code",
   "execution_count": 8,
   "metadata": {
    "collapsed": true
   },
   "outputs": [],
   "source": [
    "###: Understanding the size of training dataset"
   ]
  },
  {
   "cell_type": "code",
   "execution_count": 9,
   "metadata": {},
   "outputs": [
    {
     "name": "stdout",
     "output_type": "stream",
     "text": [
      "(1309, 14)\n"
     ]
    }
   ],
   "source": [
    "print(df.shape)"
   ]
  },
  {
   "cell_type": "code",
   "execution_count": 10,
   "metadata": {
    "collapsed": true
   },
   "outputs": [],
   "source": [
    "###: Understanding the training dataset"
   ]
  },
  {
   "cell_type": "code",
   "execution_count": 11,
   "metadata": {},
   "outputs": [
    {
     "name": "stdout",
     "output_type": "stream",
     "text": [
      "Rows:1309\n",
      "Cols:14\n",
      "\n",
      "\n"
     ]
    },
    {
     "data": {
      "text/html": [
       "<table>\n",
       "<thead>\n",
       "<tr><th>       </th><th>pclass       </th><th>survived      </th><th>name                                           </th><th>sex   </th><th>age          </th><th>sibsp         </th><th>parch         </th><th>ticket       </th><th>fare         </th><th>cabin  </th><th>embarked  </th><th>boat         </th><th>body         </th><th>home.dest                      </th></tr>\n",
       "</thead>\n",
       "<tbody>\n",
       "<tr><td>type   </td><td>int          </td><td>int           </td><td>string                                         </td><td>enum  </td><td>real         </td><td>int           </td><td>int           </td><td>int          </td><td>real         </td><td>enum   </td><td>enum      </td><td>int          </td><td>int          </td><td>enum                           </td></tr>\n",
       "<tr><td>mins   </td><td>1.0          </td><td>0.0           </td><td>NaN                                            </td><td>      </td><td>0.1667       </td><td>0.0           </td><td>0.0           </td><td>680.0        </td><td>0.0          </td><td>       </td><td>          </td><td>1.0          </td><td>1.0          </td><td>                               </td></tr>\n",
       "<tr><td>mean   </td><td>2.294881589  </td><td>0.381970970206</td><td>NaN                                            </td><td>      </td><td>29.8811345124</td><td>0.498854087089</td><td>0.385026737968</td><td>249039.136886</td><td>33.2954792813</td><td>       </td><td>          </td><td>9.40452261307</td><td>160.809917355</td><td>                               </td></tr>\n",
       "<tr><td>maxs   </td><td>3.0          </td><td>1.0           </td><td>NaN                                            </td><td>      </td><td>80.0         </td><td>8.0           </td><td>9.0           </td><td>3101298.0    </td><td>512.3292     </td><td>       </td><td>          </td><td>16.0         </td><td>328.0        </td><td>                               </td></tr>\n",
       "<tr><td>sigma  </td><td>0.83783601897</td><td>0.486055170866</td><td>NaN                                            </td><td>      </td><td>14.4134996999</td><td>1.0416583906  </td><td>0.86556027535 </td><td>442685.317677</td><td>51.7586682392</td><td>       </td><td>          </td><td>4.3574169836 </td><td>97.696921996 </td><td>                               </td></tr>\n",
       "<tr><td>zeros  </td><td>0            </td><td>809           </td><td>0                                              </td><td>      </td><td>0            </td><td>891           </td><td>1002          </td><td>0            </td><td>17           </td><td>       </td><td>          </td><td>0            </td><td>0            </td><td>                               </td></tr>\n",
       "<tr><td>missing</td><td>0            </td><td>0             </td><td>0                                              </td><td>0     </td><td>263          </td><td>0             </td><td>0             </td><td>352          </td><td>1            </td><td>1014   </td><td>2         </td><td>911          </td><td>1188         </td><td>564                            </td></tr>\n",
       "<tr><td>0      </td><td>1.0          </td><td>1.0           </td><td>Allen, Miss. Elisabeth Walton                  </td><td>female</td><td>29.0         </td><td>0.0           </td><td>0.0           </td><td>24160.0      </td><td>211.3375     </td><td>B5     </td><td>S         </td><td>2.0          </td><td>nan          </td><td>St Louis, MO                   </td></tr>\n",
       "<tr><td>1      </td><td>1.0          </td><td>1.0           </td><td>Allison, Master. Hudson Trevor                 </td><td>male  </td><td>0.9167       </td><td>1.0           </td><td>2.0           </td><td>113781.0     </td><td>151.55       </td><td>C22 C26</td><td>S         </td><td>11.0         </td><td>nan          </td><td>Montreal, PQ / Chesterville, ON</td></tr>\n",
       "<tr><td>2      </td><td>1.0          </td><td>0.0           </td><td>Allison, Miss. Helen Loraine                   </td><td>female</td><td>2.0          </td><td>1.0           </td><td>2.0           </td><td>113781.0     </td><td>151.55       </td><td>C22 C26</td><td>S         </td><td>nan          </td><td>nan          </td><td>Montreal, PQ / Chesterville, ON</td></tr>\n",
       "<tr><td>3      </td><td>1.0          </td><td>0.0           </td><td>Allison, Mr. Hudson Joshua Creighton           </td><td>male  </td><td>30.0         </td><td>1.0           </td><td>2.0           </td><td>113781.0     </td><td>151.55       </td><td>C22 C26</td><td>S         </td><td>nan          </td><td>135.0        </td><td>Montreal, PQ / Chesterville, ON</td></tr>\n",
       "<tr><td>4      </td><td>1.0          </td><td>0.0           </td><td>Allison, Mrs. Hudson J C (Bessie Waldo Daniels)</td><td>female</td><td>25.0         </td><td>1.0           </td><td>2.0           </td><td>113781.0     </td><td>151.55       </td><td>C22 C26</td><td>S         </td><td>nan          </td><td>nan          </td><td>Montreal, PQ / Chesterville, ON</td></tr>\n",
       "<tr><td>5      </td><td>1.0          </td><td>1.0           </td><td>Anderson, Mr. Harry                            </td><td>male  </td><td>48.0         </td><td>0.0           </td><td>0.0           </td><td>19952.0      </td><td>26.55        </td><td>E12    </td><td>S         </td><td>3.0          </td><td>nan          </td><td>New York, NY                   </td></tr>\n",
       "<tr><td>6      </td><td>1.0          </td><td>1.0           </td><td>Andrews, Miss. Kornelia Theodosia              </td><td>female</td><td>63.0         </td><td>1.0           </td><td>0.0           </td><td>13502.0      </td><td>77.9583      </td><td>D7     </td><td>S         </td><td>10.0         </td><td>nan          </td><td>Hudson, NY                     </td></tr>\n",
       "<tr><td>7      </td><td>1.0          </td><td>0.0           </td><td>Andrews, Mr. Thomas Jr                         </td><td>male  </td><td>39.0         </td><td>0.0           </td><td>0.0           </td><td>112050.0     </td><td>0.0          </td><td>A36    </td><td>S         </td><td>nan          </td><td>nan          </td><td>Belfast, NI                    </td></tr>\n",
       "<tr><td>8      </td><td>1.0          </td><td>1.0           </td><td>Appleton, Mrs. Edward Dale (Charlotte Lamson)  </td><td>female</td><td>53.0         </td><td>2.0           </td><td>0.0           </td><td>11769.0      </td><td>51.4792      </td><td>C101   </td><td>S         </td><td>nan          </td><td>nan          </td><td>Bayside, Queens, NY            </td></tr>\n",
       "<tr><td>9      </td><td>1.0          </td><td>0.0           </td><td>Artagaveytia, Mr. Ramon                        </td><td>male  </td><td>71.0         </td><td>0.0           </td><td>0.0           </td><td>nan          </td><td>49.5042      </td><td>       </td><td>C         </td><td>nan          </td><td>22.0         </td><td>Montevideo, Uruguay            </td></tr>\n",
       "</tbody>\n",
       "</table>"
      ]
     },
     "metadata": {},
     "output_type": "display_data"
    }
   ],
   "source": [
    "df.describe()"
   ]
  },
  {
   "cell_type": "code",
   "execution_count": 12,
   "metadata": {
    "collapsed": true
   },
   "outputs": [],
   "source": [
    "###: Listing columns in training dataset"
   ]
  },
  {
   "cell_type": "code",
   "execution_count": 13,
   "metadata": {
    "scrolled": true
   },
   "outputs": [
    {
     "data": {
      "text/plain": [
       "[u'pclass',\n",
       " u'survived',\n",
       " u'name',\n",
       " u'sex',\n",
       " u'age',\n",
       " u'sibsp',\n",
       " u'parch',\n",
       " u'ticket',\n",
       " u'fare',\n",
       " u'cabin',\n",
       " u'embarked',\n",
       " u'boat',\n",
       " u'body',\n",
       " u'home.dest']"
      ]
     },
     "execution_count": 13,
     "metadata": {},
     "output_type": "execute_result"
    }
   ],
   "source": [
    "df.col_names"
   ]
  },
  {
   "cell_type": "code",
   "execution_count": 14,
   "metadata": {
    "collapsed": true
   },
   "outputs": [],
   "source": [
    "###: Setting response column to \"medv\" <- Median house value"
   ]
  },
  {
   "cell_type": "code",
   "execution_count": 15,
   "metadata": {
    "collapsed": true
   },
   "outputs": [],
   "source": [
    "response = \"survived\""
   ]
  },
  {
   "cell_type": "code",
   "execution_count": 16,
   "metadata": {
    "collapsed": true
   },
   "outputs": [],
   "source": [
    "###: Setting response column as factore to generate classification model (Binomial exactly)"
   ]
  },
  {
   "cell_type": "code",
   "execution_count": 17,
   "metadata": {},
   "outputs": [],
   "source": [
    "df[response] = df[response].asfactor()"
   ]
  },
  {
   "cell_type": "code",
   "execution_count": 18,
   "metadata": {
    "collapsed": true
   },
   "outputs": [],
   "source": [
    "###: Spliting dataset into 2 sets for training and test dataset"
   ]
  },
  {
   "cell_type": "code",
   "execution_count": 19,
   "metadata": {},
   "outputs": [],
   "source": [
    "train, test = df.split_frame(ratios = [0.9])"
   ]
  },
  {
   "cell_type": "code",
   "execution_count": 20,
   "metadata": {
    "collapsed": true
   },
   "outputs": [],
   "source": [
    "###: Cecking the size of traning and test dataset"
   ]
  },
  {
   "cell_type": "code",
   "execution_count": 21,
   "metadata": {},
   "outputs": [
    {
     "name": "stdout",
     "output_type": "stream",
     "text": [
      "(1309, 14)\n",
      "(1193, 14)\n",
      "(116, 14)\n"
     ]
    }
   ],
   "source": [
    "print(df.shape)\n",
    "print(train.shape)\n",
    "print(test.shape)"
   ]
  },
  {
   "cell_type": "code",
   "execution_count": 22,
   "metadata": {
    "collapsed": true
   },
   "outputs": [],
   "source": [
    "###: Setting all the columns as features which will be used in training"
   ]
  },
  {
   "cell_type": "code",
   "execution_count": 23,
   "metadata": {},
   "outputs": [
    {
     "name": "stdout",
     "output_type": "stream",
     "text": [
      "[u'pclass', u'name', u'sex', u'age', u'sibsp', u'parch', u'ticket', u'fare', u'cabin', u'embarked', u'boat', u'body', u'home.dest']\n"
     ]
    }
   ],
   "source": [
    "features = train.columns\n",
    "features.remove(response)\n",
    "print(features)"
   ]
  },
  {
   "cell_type": "code",
   "execution_count": 24,
   "metadata": {
    "collapsed": true
   },
   "outputs": [],
   "source": [
    "###: Ignoring columns not to be used in traning"
   ]
  },
  {
   "cell_type": "code",
   "execution_count": 25,
   "metadata": {},
   "outputs": [
    {
     "name": "stdout",
     "output_type": "stream",
     "text": [
      "[u'pclass', u'sex', u'age', u'sibsp', u'parch', u'fare', u'cabin', u'embarked', u'boat', u'body']\n"
     ]
    }
   ],
   "source": [
    "ignore_list = ['name', 'ticket', 'home.dest']\n",
    "for each_name in ignore_list:\n",
    "    features.remove(each_name)\n",
    "print(features)    "
   ]
  },
  {
   "cell_type": "code",
   "execution_count": 26,
   "metadata": {
    "collapsed": true
   },
   "outputs": [],
   "source": [
    "###: We will be using cross validation in traning so setting Number of CV folds "
   ]
  },
  {
   "cell_type": "code",
   "execution_count": 27,
   "metadata": {
    "collapsed": true
   },
   "outputs": [],
   "source": [
    "nfolds = 5"
   ]
  },
  {
   "cell_type": "code",
   "execution_count": 28,
   "metadata": {
    "collapsed": true
   },
   "outputs": [],
   "source": [
    "###: You can create ensemble models in few given ways:\n",
    "###: 1. First Train individual models and pass as list to ensemble\n",
    "###: 2. Train a grid of models\n",
    "###: 3. Train several grids of models\n",
    "\n",
    "###: Note: All base models must have the same cross-validation folds and\n",
    "###: the cross-validated predicted values must be kept using keep_cross_validation_predictions set to TRUE."
   ]
  },
  {
   "cell_type": "code",
   "execution_count": 29,
   "metadata": {
    "collapsed": true
   },
   "outputs": [],
   "source": [
    "###: Ensemble 1. \n",
    "###: First Train individual models and pass as list to ensemble\n",
    "###: We will generate a 3-model ensemble using GBM + RF + Deep Learning model types"
   ]
  },
  {
   "cell_type": "code",
   "execution_count": 30,
   "metadata": {
    "collapsed": true
   },
   "outputs": [],
   "source": [
    "###: Training and cross-validating a GBM Regression Model and R2 metrics will be used as main metric"
   ]
  },
  {
   "cell_type": "code",
   "execution_count": 31,
   "metadata": {},
   "outputs": [
    {
     "name": "stdout",
     "output_type": "stream",
     "text": [
      "gbm Model Build progress: |███████████████████████████████████████████████| 100%\n"
     ]
    }
   ],
   "source": [
    "titanic_gbm = H2OGradientBoostingEstimator(distribution=\"AUTO\",\n",
    "                                      ntrees=10,\n",
    "                                      max_depth=3,\n",
    "                                      min_rows=2,\n",
    "                                      learn_rate=0.2,\n",
    "                                      nfolds=nfolds,\n",
    "                                      fold_assignment=\"Modulo\",\n",
    "                                      keep_cross_validation_predictions=True,\n",
    "                                      seed=1,\n",
    "                                      model_id =\"Titanic_GBM_Classification_Model\")\n",
    "titanic_gbm.train(x=features, y=response, training_frame=train)"
   ]
  },
  {
   "cell_type": "code",
   "execution_count": 32,
   "metadata": {
    "collapsed": true
   },
   "outputs": [],
   "source": [
    "###: Training and cross-validating a Random Forest Regression Model and R2 metrics will be used as main metric"
   ]
  },
  {
   "cell_type": "code",
   "execution_count": 33,
   "metadata": {},
   "outputs": [
    {
     "name": "stdout",
     "output_type": "stream",
     "text": [
      "drf Model Build progress: |███████████████████████████████████████████████| 100%\n"
     ]
    }
   ],
   "source": [
    "titanic_rf = H2ORandomForestEstimator(ntrees=10,\n",
    "                                 nfolds=nfolds,\n",
    "                                 fold_assignment=\"Modulo\",\n",
    "                                 keep_cross_validation_predictions=True,\n",
    "                                 seed=1,\n",
    "                                 model_id = \"Titanic_RF_Clssification_Model\")\n",
    "titanic_rf.train(x=features, y=response, training_frame=train)"
   ]
  },
  {
   "cell_type": "code",
   "execution_count": 34,
   "metadata": {
    "collapsed": true
   },
   "outputs": [],
   "source": [
    "###: Training and cross-validating a Deep Learning Regression Model and AUC metrics will be used as main metric"
   ]
  },
  {
   "cell_type": "code",
   "execution_count": 35,
   "metadata": {},
   "outputs": [
    {
     "name": "stdout",
     "output_type": "stream",
     "text": [
      "deeplearning Model Build progress: |██████████████████████████████████████| 100%\n"
     ]
    }
   ],
   "source": [
    "titanic_dl = H2ODeepLearningEstimator(\n",
    "                                 nfolds=nfolds,\n",
    "                                 fold_assignment=\"Modulo\",\n",
    "                                 keep_cross_validation_predictions=True,\n",
    "                                 hidden = [10,10],\n",
    "                                 epochs = 25,\n",
    "                                 train_samples_per_iteration=10,\n",
    "                                 score_training_samples=20,\n",
    "                                 activation=\"Rectifier\",\n",
    "                                 adaptive_rate = False,\n",
    "                                 seed=1,\n",
    "                                 model_id = \"Titanic_DL_Classification_Model\")\n",
    "titanic_dl.train(x=features, y=response, training_frame=train)"
   ]
  },
  {
   "cell_type": "code",
   "execution_count": 36,
   "metadata": {
    "collapsed": true
   },
   "outputs": [],
   "source": [
    "###: Getting Model ID of each model we have built"
   ]
  },
  {
   "cell_type": "code",
   "execution_count": 37,
   "metadata": {},
   "outputs": [
    {
     "name": "stdout",
     "output_type": "stream",
     "text": [
      "Titanic_GBM_Classification_Model\n",
      "Titanic_RF_Clssification_Model\n",
      "Titanic_DL_Classification_Model\n"
     ]
    }
   ],
   "source": [
    "print(titanic_gbm.model_id)\n",
    "print(titanic_rf.model_id)\n",
    "print(titanic_dl.model_id)"
   ]
  },
  {
   "cell_type": "code",
   "execution_count": 38,
   "metadata": {
    "collapsed": true
   },
   "outputs": [],
   "source": [
    "###: Getting Model performance based cross validation using R2 metric for each model"
   ]
  },
  {
   "cell_type": "code",
   "execution_count": 39,
   "metadata": {},
   "outputs": [
    {
     "name": "stdout",
     "output_type": "stream",
     "text": [
      "0.949318895951\n",
      "0.966603882501\n",
      "0.941697017306\n"
     ]
    }
   ],
   "source": [
    "print(titanic_gbm.model_performance(xval=True).auc())\n",
    "print(titanic_rf.model_performance(xval=True).auc())\n",
    "print(titanic_dl.model_performance(xval=True).auc())"
   ]
  },
  {
   "cell_type": "code",
   "execution_count": 40,
   "metadata": {
    "collapsed": true
   },
   "outputs": [],
   "source": [
    "###: Generating an ensemble model using all 3 previously created GBM, RD and DL models"
   ]
  },
  {
   "cell_type": "code",
   "execution_count": 41,
   "metadata": {},
   "outputs": [
    {
     "name": "stdout",
     "output_type": "stream",
     "text": [
      "stackedensemble Model Build progress: |███████████████████████████████████| 100%\n"
     ]
    }
   ],
   "source": [
    "# Train a stacked ensemble using the GBM and GLM above\n",
    "ensemble = H2OStackedEnsembleEstimator(model_id=\"Titanic_ensemble_model\",\n",
    "                                       base_models=[titanic_gbm.model_id, \n",
    "                                                    titanic_rf.model_id,\n",
    "                                                    titanic_dl.model_id ])\n",
    "ensemble.train(x=features, y=response, training_frame=train)"
   ]
  },
  {
   "cell_type": "code",
   "execution_count": 42,
   "metadata": {
    "collapsed": true
   },
   "outputs": [],
   "source": [
    "###: Evaluating ensemble performance using test data"
   ]
  },
  {
   "cell_type": "code",
   "execution_count": 43,
   "metadata": {
    "collapsed": true
   },
   "outputs": [],
   "source": [
    "perf_stack_test = ensemble.model_performance(test)"
   ]
  },
  {
   "cell_type": "code",
   "execution_count": 44,
   "metadata": {
    "collapsed": true
   },
   "outputs": [],
   "source": [
    "###: Comparing Base Learner performance using test set for GBM, RF and Deep Learning Model:"
   ]
  },
  {
   "cell_type": "code",
   "execution_count": 45,
   "metadata": {},
   "outputs": [
    {
     "name": "stdout",
     "output_type": "stream",
     "text": [
      "Best Base-learner Test AUC :  0.947758838384\n"
     ]
    }
   ],
   "source": [
    "perf_gbm_test = titanic_gbm.model_performance(test)\n",
    "perf_rf_test = titanic_rf.model_performance(test)\n",
    "perf_dl_test = titanic_dl.model_performance(test)\n",
    "baselearner_best_auc_test = max(perf_gbm_test.auc(), perf_rf_test.auc(), perf_dl_test.auc())\n",
    "print(\"Best Base-learner Test AUC :  {0}\".format(baselearner_best_auc_test))"
   ]
  },
  {
   "cell_type": "code",
   "execution_count": 46,
   "metadata": {
    "collapsed": true
   },
   "outputs": [],
   "source": [
    "###: Getting Stack Ensemble Models performance using test set:"
   ]
  },
  {
   "cell_type": "code",
   "execution_count": 47,
   "metadata": {},
   "outputs": [
    {
     "name": "stdout",
     "output_type": "stream",
     "text": [
      "Ensemble Test AUC:  0.949810606061\n"
     ]
    }
   ],
   "source": [
    "stack_auc_test = perf_stack_test.auc()\n",
    "print(\"Ensemble Test AUC:  {0}\".format(stack_auc_test))"
   ]
  },
  {
   "cell_type": "code",
   "execution_count": 48,
   "metadata": {
    "collapsed": true
   },
   "outputs": [],
   "source": [
    "###: Printing Original Modelperformance using test data for comparision"
   ]
  },
  {
   "cell_type": "code",
   "execution_count": 49,
   "metadata": {},
   "outputs": [
    {
     "name": "stdout",
     "output_type": "stream",
     "text": [
      "Original GBM Model Test AUC :  0.931818181818\n",
      "Original RF Model Test AUC : 0.947758838384\n",
      "Original Deep Learning Model Test AUC :  0.9375\n"
     ]
    }
   ],
   "source": [
    "print(\"Original GBM Model Test AUC : \", perf_gbm_test.auc())\n",
    "print(\"Original RF Model Test AUC :\", perf_rf_test.auc())\n",
    "print(\"Original Deep Learning Model Test AUC : \", perf_dl_test.auc())"
   ]
  },
  {
   "cell_type": "code",
   "execution_count": 50,
   "metadata": {
    "collapsed": true
   },
   "outputs": [],
   "source": [
    "###: Stack Ensemble model is like any other model in H2O \n",
    "###: So you sure can perform predictions using test set as needed"
   ]
  },
  {
   "cell_type": "code",
   "execution_count": 51,
   "metadata": {},
   "outputs": [
    {
     "name": "stdout",
     "output_type": "stream",
     "text": [
      "stackedensemble prediction progress: |████████████████████████████████████| 100%\n"
     ]
    }
   ],
   "source": [
    "pred = ensemble.predict(test)"
   ]
  },
  {
   "cell_type": "code",
   "execution_count": 52,
   "metadata": {
    "collapsed": true
   },
   "outputs": [],
   "source": [
    "###: Ensemble 2. \n",
    "###: First We will generate a random Grid of model selecting GBM as main algorithm\n",
    "###: Secondany we will stack all of grid model together"
   ]
  },
  {
   "cell_type": "code",
   "execution_count": 53,
   "metadata": {
    "collapsed": true
   },
   "outputs": [],
   "source": [
    "###: Let's specify GBM hyperparameters for the grid search"
   ]
  },
  {
   "cell_type": "code",
   "execution_count": 54,
   "metadata": {
    "collapsed": true
   },
   "outputs": [],
   "source": [
    "gbm_hyper_params = {\"learn_rate\": [0.01, 0.05, 0.1, 0.2, 0.5, 1.0],\n",
    "                \"max_depth\": [ 5, 7, 10],\n",
    "                \"sample_rate\": [0.5, 0.75, 1.0],\n",
    "                \"col_sample_rate\": [0.5, 0.6, 0.7, 0.8]}"
   ]
  },
  {
   "cell_type": "code",
   "execution_count": 55,
   "metadata": {
    "collapsed": true
   },
   "outputs": [],
   "source": [
    "###: Now we will setup the Grid Search criteria and other parameter to fine tune it:"
   ]
  },
  {
   "cell_type": "code",
   "execution_count": 56,
   "metadata": {
    "collapsed": true
   },
   "outputs": [],
   "source": [
    "grid_search_criteria = {\"strategy\": \"RandomDiscrete\", \n",
    "                   \"max_models\": 50, \n",
    "                   \"seed\": 12345}"
   ]
  },
  {
   "cell_type": "code",
   "execution_count": 57,
   "metadata": {
    "collapsed": true
   },
   "outputs": [],
   "source": [
    "###: Now we will build the H2O GBM model based on Gird Search criteria and GBM hyperparameters setting:"
   ]
  },
  {
   "cell_type": "code",
   "execution_count": 58,
   "metadata": {},
   "outputs": [
    {
     "name": "stdout",
     "output_type": "stream",
     "text": [
      "gbm Grid Build progress: |████████████████████████████████████████████████| 100%\n"
     ]
    }
   ],
   "source": [
    "titanic_gbm_grid = H2OGridSearch(model=H2OGradientBoostingEstimator(ntrees=10,\n",
    "                                                        seed=1,\n",
    "                                                        nfolds=nfolds,\n",
    "                                                        fold_assignment=\"Modulo\",\n",
    "                                                        keep_cross_validation_predictions=True),\n",
    "                     hyper_params=gbm_hyper_params,\n",
    "                     search_criteria=grid_search_criteria,\n",
    "                     grid_id=\"Titanic_gbm_grid\")\n",
    "\n",
    "titanic_gbm_grid.train(x=features, y=response, training_frame=train)"
   ]
  },
  {
   "cell_type": "code",
   "execution_count": 59,
   "metadata": {
    "collapsed": true
   },
   "outputs": [],
   "source": [
    "###: Lets see the count of all models we built during grid search"
   ]
  },
  {
   "cell_type": "code",
   "execution_count": 60,
   "metadata": {},
   "outputs": [
    {
     "data": {
      "text/plain": [
       "50"
      ]
     },
     "execution_count": 60,
     "metadata": {},
     "output_type": "execute_result"
    }
   ],
   "source": [
    "len(titanic_gbm_grid.model_ids)"
   ]
  },
  {
   "cell_type": "code",
   "execution_count": 61,
   "metadata": {
    "collapsed": true
   },
   "outputs": [],
   "source": [
    "###: Now we will train a stacked ensemble model by passing the GBM grid models"
   ]
  },
  {
   "cell_type": "code",
   "execution_count": 62,
   "metadata": {},
   "outputs": [
    {
     "name": "stdout",
     "output_type": "stream",
     "text": [
      "stackedensemble Model Build progress: |███████████████████████████████████| 100%\n"
     ]
    }
   ],
   "source": [
    "titanic_grid_ensemble = H2OStackedEnsembleEstimator(model_id=\"titanic_gbm_grid_ensemble\",\n",
    "                                       base_models=titanic_gbm_grid.model_ids)\n",
    "titanic_grid_ensemble.train(x=features, y=response, training_frame=train)"
   ]
  },
  {
   "cell_type": "code",
   "execution_count": 63,
   "metadata": {
    "collapsed": true
   },
   "outputs": [],
   "source": [
    "###: Let's evaluate the stacked ensemble model performance based on test data"
   ]
  },
  {
   "cell_type": "code",
   "execution_count": 64,
   "metadata": {
    "collapsed": true
   },
   "outputs": [],
   "source": [
    "perf_stack_test = titanic_grid_ensemble.model_performance(test)"
   ]
  },
  {
   "cell_type": "code",
   "execution_count": 65,
   "metadata": {
    "collapsed": true
   },
   "outputs": [],
   "source": [
    "###: Now we can compare base learner performance with stacked ensemble model using test data"
   ]
  },
  {
   "cell_type": "code",
   "execution_count": 66,
   "metadata": {},
   "outputs": [
    {
     "name": "stdout",
     "output_type": "stream",
     "text": [
      "Best Base-learner model AUC:  0.96764520202\n",
      "Ensemble Model AUC:  0.951704545455\n"
     ]
    }
   ],
   "source": [
    "baselearner_best_auc_test = max([h2o.get_model(model).model_performance(test_data=test).auc() for model in titanic_gbm_grid.model_ids])\n",
    "\n",
    "stack_auc_test = perf_stack_test.auc()\n",
    "print(\"Best Base-learner model AUC:  {0}\".format(baselearner_best_auc_test))\n",
    "print(\"Ensemble Model AUC:  {0}\".format(stack_auc_test))"
   ]
  },
  {
   "cell_type": "code",
   "execution_count": 67,
   "metadata": {
    "collapsed": true
   },
   "outputs": [],
   "source": [
    "###:  Stack Ensemble model is like any other model in H2O \n",
    "###: So you sure can perform predictions using test set as needed"
   ]
  },
  {
   "cell_type": "code",
   "execution_count": 68,
   "metadata": {},
   "outputs": [
    {
     "name": "stdout",
     "output_type": "stream",
     "text": [
      "stackedensemble prediction progress: |████████████████████████████████████| 100%\n"
     ]
    }
   ],
   "source": [
    "pred = titanic_grid_ensemble.predict(test)"
   ]
  },
  {
   "cell_type": "code",
   "execution_count": 69,
   "metadata": {
    "collapsed": true
   },
   "outputs": [],
   "source": [
    "###: Ensemble 3. \n",
    "###: First We will generate a random Grid of model selecting Deep Learning as main algorithm\n",
    "###: Secondany we will stack Previously created GBM and recently created Deep Learning model together"
   ]
  },
  {
   "cell_type": "code",
   "execution_count": 70,
   "metadata": {
    "collapsed": true
   },
   "outputs": [],
   "source": [
    "###: Let's specify Deep Learning hyperparameters for the grid search"
   ]
  },
  {
   "cell_type": "code",
   "execution_count": 71,
   "metadata": {
    "collapsed": true
   },
   "outputs": [],
   "source": [
    "dl_hyper_params = { \"hidden\" : [1, 5,10],\n",
    "                     \"train_samples_per_iteration\" : [5, 10],\n",
    "                     \"score_training_samples\" : [10, 20]}"
   ]
  },
  {
   "cell_type": "code",
   "execution_count": 72,
   "metadata": {
    "collapsed": true
   },
   "outputs": [],
   "source": [
    "###: Now we will setup the Grid Search criteria and other parameter to fine tune it:"
   ]
  },
  {
   "cell_type": "code",
   "execution_count": 73,
   "metadata": {
    "collapsed": true
   },
   "outputs": [],
   "source": [
    "grid_search_criteria = {\"strategy\": \"RandomDiscrete\", \n",
    "                   \"max_models\": 50, \n",
    "                   \"seed\": 12345}"
   ]
  },
  {
   "cell_type": "code",
   "execution_count": 74,
   "metadata": {
    "collapsed": true
   },
   "outputs": [],
   "source": [
    "###: Now we will build H2O Deep Learning models based on Gird Search criteria and GBM hyperparameters setting:"
   ]
  },
  {
   "cell_type": "code",
   "execution_count": 75,
   "metadata": {},
   "outputs": [
    {
     "name": "stdout",
     "output_type": "stream",
     "text": [
      "deeplearning Grid Build progress: |███████████████████████████████████████| 100%\n"
     ]
    }
   ],
   "source": [
    "titanic_dl_grid = H2OGridSearch(model=H2ODeepLearningEstimator(epochs=20,\n",
    "                                                        seed=1,\n",
    "                                                        nfolds=nfolds,\n",
    "                                                        fold_assignment=\"Modulo\",\n",
    "                                                        keep_cross_validation_predictions=True),\n",
    "                     hyper_params=dl_hyper_params,\n",
    "                     search_criteria=grid_search_criteria,\n",
    "                     grid_id=\"Titanic_dl_grid\")\n",
    "\n",
    "titanic_dl_grid.train(x=features, y=response, training_frame=train)"
   ]
  },
  {
   "cell_type": "code",
   "execution_count": 76,
   "metadata": {
    "collapsed": true
   },
   "outputs": [],
   "source": [
    "###: Lets see the count of all models we built during grid search"
   ]
  },
  {
   "cell_type": "code",
   "execution_count": 77,
   "metadata": {},
   "outputs": [
    {
     "data": {
      "text/plain": [
       "12"
      ]
     },
     "execution_count": 77,
     "metadata": {},
     "output_type": "execute_result"
    }
   ],
   "source": [
    "len(titanic_dl_grid.model_ids)"
   ]
  },
  {
   "cell_type": "code",
   "execution_count": 78,
   "metadata": {
    "collapsed": true
   },
   "outputs": [],
   "source": [
    "###: Now we will train a stacked ensemble model by passing the GBM and Deep Learning grid models"
   ]
  },
  {
   "cell_type": "code",
   "execution_count": 79,
   "metadata": {
    "collapsed": true
   },
   "outputs": [],
   "source": [
    "all_ids = []"
   ]
  },
  {
   "cell_type": "code",
   "execution_count": 80,
   "metadata": {},
   "outputs": [
    {
     "name": "stdout",
     "output_type": "stream",
     "text": [
      "62\n"
     ]
    }
   ],
   "source": [
    "for mid in titanic_dl_grid.model_ids:\n",
    "    all_ids.append(mid)\n",
    "for mid in titanic_gbm_grid.model_ids:\n",
    "    all_ids.append(mid)\n",
    "print(len(all_ids))    "
   ]
  },
  {
   "cell_type": "code",
   "execution_count": 81,
   "metadata": {
    "collapsed": true
   },
   "outputs": [],
   "source": [
    "titanic_gbm_dl_grid_ensemble = H2OStackedEnsembleEstimator(model_id=\"titanic_gbm_dl_grid_ensemble_3\",\n",
    "                                       base_models=all_ids)"
   ]
  },
  {
   "cell_type": "code",
   "execution_count": 82,
   "metadata": {},
   "outputs": [
    {
     "name": "stdout",
     "output_type": "stream",
     "text": [
      "stackedensemble Model Build progress: |███████████████████████████████████| 100%\n"
     ]
    }
   ],
   "source": [
    "titanic_gbm_dl_grid_ensemble.train(x=features, y=response, training_frame=train)"
   ]
  },
  {
   "cell_type": "code",
   "execution_count": 83,
   "metadata": {
    "collapsed": true
   },
   "outputs": [],
   "source": [
    "###: Let's evaluate the stacked ensemble model performance based on test data"
   ]
  },
  {
   "cell_type": "code",
   "execution_count": 84,
   "metadata": {
    "collapsed": true
   },
   "outputs": [],
   "source": [
    "perf_gbm_dl_stack_test = titanic_gbm_dl_grid_ensemble.model_performance(test)"
   ]
  },
  {
   "cell_type": "code",
   "execution_count": 85,
   "metadata": {
    "collapsed": true
   },
   "outputs": [],
   "source": [
    "###: Now we can compare base learner performance with stacked ensemble model using test data"
   ]
  },
  {
   "cell_type": "code",
   "execution_count": 86,
   "metadata": {},
   "outputs": [
    {
     "name": "stdout",
     "output_type": "stream",
     "text": [
      "Best Base-learner model AUC:  0.96764520202\n",
      "Ensemble Model AUC:  0.956755050505\n"
     ]
    }
   ],
   "source": [
    "baselearner_gbm_dl_best_auc_test = max([h2o.get_model(model).model_performance(test_data=test).auc() for model in all_ids])\n",
    "\n",
    "stack_gbm_dl_auc_test = perf_gbm_dl_stack_test.auc()\n",
    "print(\"Best Base-learner model AUC:  {0}\".format(baselearner_gbm_dl_best_auc_test))\n",
    "print(\"Ensemble Model AUC:  {0}\".format(stack_gbm_dl_auc_test))"
   ]
  },
  {
   "cell_type": "code",
   "execution_count": null,
   "metadata": {
    "collapsed": true
   },
   "outputs": [],
   "source": []
  },
  {
   "cell_type": "code",
   "execution_count": null,
   "metadata": {
    "collapsed": true
   },
   "outputs": [],
   "source": []
  }
 ],
 "metadata": {
  "kernelspec": {
   "display_name": "Python 2",
   "language": "python",
   "name": "python2"
  },
  "language_info": {
   "codemirror_mode": {
    "name": "ipython",
    "version": 2
   },
   "file_extension": ".py",
   "mimetype": "text/x-python",
   "name": "python",
   "nbconvert_exporter": "python",
   "pygments_lexer": "ipython2",
   "version": "2.7.13"
  }
 },
 "nbformat": 4,
 "nbformat_minor": 2
}
