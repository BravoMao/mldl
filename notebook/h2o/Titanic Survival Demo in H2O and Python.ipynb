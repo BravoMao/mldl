{
 "cells": [
  {
   "cell_type": "code",
   "execution_count": 1,
   "metadata": {
    "collapsed": false
   },
   "outputs": [
    {
     "name": "stdout",
     "output_type": "stream",
     "text": [
      "Connecting to H2O server at http://localhost:54321... successful.\n"
     ]
    },
    {
     "data": {
      "text/html": [
       "<div style=\"overflow:auto\"><table style=\"width:50%\"><tr><td>H2O cluster uptime:</td>\n",
       "<td>37 mins 43 secs</td></tr>\n",
       "<tr><td>H2O cluster version:</td>\n",
       "<td>3.11.0.99999</td></tr>\n",
       "<tr><td>H2O cluster version age:</td>\n",
       "<td>1 day </td></tr>\n",
       "<tr><td>H2O cluster name:</td>\n",
       "<td>avkashchauhan</td></tr>\n",
       "<tr><td>H2O cluster total nodes:</td>\n",
       "<td>1</td></tr>\n",
       "<tr><td>H2O cluster free memory:</td>\n",
       "<td>3.271 Gb</td></tr>\n",
       "<tr><td>H2O cluster total cores:</td>\n",
       "<td>8</td></tr>\n",
       "<tr><td>H2O cluster allowed cores:</td>\n",
       "<td>8</td></tr>\n",
       "<tr><td>H2O cluster status:</td>\n",
       "<td>locked, healthy</td></tr>\n",
       "<tr><td>H2O connection url:</td>\n",
       "<td>http://localhost:54321</td></tr>\n",
       "<tr><td>H2O connection proxy:</td>\n",
       "<td>None</td></tr>\n",
       "<tr><td>Python version:</td>\n",
       "<td>2.7.10 final</td></tr></table></div>"
      ],
      "text/plain": [
       "--------------------------  ----------------------\n",
       "H2O cluster uptime:         37 mins 43 secs\n",
       "H2O cluster version:        3.11.0.99999\n",
       "H2O cluster version age:    1 day\n",
       "H2O cluster name:           avkashchauhan\n",
       "H2O cluster total nodes:    1\n",
       "H2O cluster free memory:    3.271 Gb\n",
       "H2O cluster total cores:    8\n",
       "H2O cluster allowed cores:  8\n",
       "H2O cluster status:         locked, healthy\n",
       "H2O connection url:         http://localhost:54321\n",
       "H2O connection proxy:\n",
       "Python version:             2.7.10 final\n",
       "--------------------------  ----------------------"
      ]
     },
     "metadata": {},
     "output_type": "display_data"
    },
    {
     "data": {
      "text/plain": [
       "<H2OConnection to http://localhost:54321, no session>"
      ]
     },
     "execution_count": 1,
     "metadata": {},
     "output_type": "execute_result"
    }
   ],
   "source": [
    "import h2o\n",
    "h2o.connect()"
   ]
  },
  {
   "cell_type": "code",
   "execution_count": 2,
   "metadata": {
    "collapsed": true
   },
   "outputs": [],
   "source": [
    "import pandas as pd"
   ]
  },
  {
   "cell_type": "code",
   "execution_count": 3,
   "metadata": {
    "collapsed": false
   },
   "outputs": [],
   "source": [
    "titanic_df = pd.read_csv('/Users/avkashchauhan/learn/seattle-workshop/titanic_list.csv')"
   ]
  },
  {
   "cell_type": "code",
   "execution_count": 4,
   "metadata": {
    "collapsed": false
   },
   "outputs": [
    {
     "data": {
      "text/plain": [
       "(1310, 14)"
      ]
     },
     "execution_count": 4,
     "metadata": {},
     "output_type": "execute_result"
    }
   ],
   "source": [
    "titanic_df.shape"
   ]
  },
  {
   "cell_type": "code",
   "execution_count": 6,
   "metadata": {
    "collapsed": false
   },
   "outputs": [
    {
     "data": {
      "text/plain": [
       "pclass       1309\n",
       "survived     1309\n",
       "name         1309\n",
       "sex          1309\n",
       "age          1046\n",
       "sibsp        1309\n",
       "parch        1309\n",
       "ticket       1309\n",
       "fare         1308\n",
       "cabin         295\n",
       "embarked     1307\n",
       "boat          486\n",
       "body          121\n",
       "home.dest     745\n",
       "dtype: int64"
      ]
     },
     "execution_count": 6,
     "metadata": {},
     "output_type": "execute_result"
    }
   ],
   "source": [
    "titanic_df.count()"
   ]
  },
  {
   "cell_type": "code",
   "execution_count": 7,
   "metadata": {
    "collapsed": false
   },
   "outputs": [
    {
     "name": "stdout",
     "output_type": "stream",
     "text": [
      "Parse progress: |█████████████████████████████████████████████████████████| 100%\n"
     ]
    }
   ],
   "source": [
    "# Converting Pandas Frame to H2O Frame\n",
    "titanic = h2o.H2OFrame(titanic_df)"
   ]
  },
  {
   "cell_type": "code",
   "execution_count": 8,
   "metadata": {
    "collapsed": false
   },
   "outputs": [
    {
     "data": {
      "text/html": [
       "<table>\n",
       "<tr><th style=\"text-align: right;\">  pclass</th><th style=\"text-align: right;\">  survived</th><th>name                                           </th><th>sex   </th><th style=\"text-align: right;\">    age</th><th style=\"text-align: right;\">  sibsp</th><th style=\"text-align: right;\">  parch</th><th style=\"text-align: right;\">  ticket</th><th style=\"text-align: right;\">    fare</th><th>cabin  </th><th>embarked  </th><th>boat  </th><th style=\"text-align: right;\">  body</th><th>home.dest                      </th></tr>\n",
       "<tr><td style=\"text-align: right;\">       1</td><td style=\"text-align: right;\">         1</td><td>Allen, Miss. Elisabeth Walton                  </td><td>female</td><td style=\"text-align: right;\">29     </td><td style=\"text-align: right;\">      0</td><td style=\"text-align: right;\">      0</td><td style=\"text-align: right;\">   24160</td><td style=\"text-align: right;\">211.338 </td><td>B5     </td><td>S         </td><td>2     </td><td style=\"text-align: right;\">   nan</td><td>St Louis, MO                   </td></tr>\n",
       "<tr><td style=\"text-align: right;\">       1</td><td style=\"text-align: right;\">         1</td><td>Allison, Master. Hudson Trevor                 </td><td>male  </td><td style=\"text-align: right;\"> 0.9167</td><td style=\"text-align: right;\">      1</td><td style=\"text-align: right;\">      2</td><td style=\"text-align: right;\">  113781</td><td style=\"text-align: right;\">151.55  </td><td>C22 C26</td><td>S         </td><td>11    </td><td style=\"text-align: right;\">   nan</td><td>Montreal, PQ / Chesterville, ON</td></tr>\n",
       "<tr><td style=\"text-align: right;\">       1</td><td style=\"text-align: right;\">         0</td><td>Allison, Miss. Helen Loraine                   </td><td>female</td><td style=\"text-align: right;\"> 2     </td><td style=\"text-align: right;\">      1</td><td style=\"text-align: right;\">      2</td><td style=\"text-align: right;\">  113781</td><td style=\"text-align: right;\">151.55  </td><td>C22 C26</td><td>S         </td><td>nan   </td><td style=\"text-align: right;\">   nan</td><td>Montreal, PQ / Chesterville, ON</td></tr>\n",
       "<tr><td style=\"text-align: right;\">       1</td><td style=\"text-align: right;\">         0</td><td>Allison, Mr. Hudson Joshua Creighton           </td><td>male  </td><td style=\"text-align: right;\">30     </td><td style=\"text-align: right;\">      1</td><td style=\"text-align: right;\">      2</td><td style=\"text-align: right;\">  113781</td><td style=\"text-align: right;\">151.55  </td><td>C22 C26</td><td>S         </td><td>nan   </td><td style=\"text-align: right;\">   135</td><td>Montreal, PQ / Chesterville, ON</td></tr>\n",
       "<tr><td style=\"text-align: right;\">       1</td><td style=\"text-align: right;\">         0</td><td>Allison, Mrs. Hudson J C (Bessie Waldo Daniels)</td><td>female</td><td style=\"text-align: right;\">25     </td><td style=\"text-align: right;\">      1</td><td style=\"text-align: right;\">      2</td><td style=\"text-align: right;\">  113781</td><td style=\"text-align: right;\">151.55  </td><td>C22 C26</td><td>S         </td><td>nan   </td><td style=\"text-align: right;\">   nan</td><td>Montreal, PQ / Chesterville, ON</td></tr>\n",
       "<tr><td style=\"text-align: right;\">       1</td><td style=\"text-align: right;\">         1</td><td>Anderson, Mr. Harry                            </td><td>male  </td><td style=\"text-align: right;\">48     </td><td style=\"text-align: right;\">      0</td><td style=\"text-align: right;\">      0</td><td style=\"text-align: right;\">   19952</td><td style=\"text-align: right;\"> 26.55  </td><td>E12    </td><td>S         </td><td>3     </td><td style=\"text-align: right;\">   nan</td><td>New York, NY                   </td></tr>\n",
       "<tr><td style=\"text-align: right;\">       1</td><td style=\"text-align: right;\">         1</td><td>Andrews, Miss. Kornelia Theodosia              </td><td>female</td><td style=\"text-align: right;\">63     </td><td style=\"text-align: right;\">      1</td><td style=\"text-align: right;\">      0</td><td style=\"text-align: right;\">   13502</td><td style=\"text-align: right;\"> 77.9583</td><td>D7     </td><td>S         </td><td>10    </td><td style=\"text-align: right;\">   nan</td><td>Hudson, NY                     </td></tr>\n",
       "<tr><td style=\"text-align: right;\">       1</td><td style=\"text-align: right;\">         0</td><td>Andrews, Mr. Thomas Jr                         </td><td>male  </td><td style=\"text-align: right;\">39     </td><td style=\"text-align: right;\">      0</td><td style=\"text-align: right;\">      0</td><td style=\"text-align: right;\">  112050</td><td style=\"text-align: right;\">  0     </td><td>A36    </td><td>S         </td><td>nan   </td><td style=\"text-align: right;\">   nan</td><td>Belfast, NI                    </td></tr>\n",
       "<tr><td style=\"text-align: right;\">       1</td><td style=\"text-align: right;\">         1</td><td>Appleton, Mrs. Edward Dale (Charlotte Lamson)  </td><td>female</td><td style=\"text-align: right;\">53     </td><td style=\"text-align: right;\">      2</td><td style=\"text-align: right;\">      0</td><td style=\"text-align: right;\">   11769</td><td style=\"text-align: right;\"> 51.4792</td><td>C101   </td><td>S         </td><td>D     </td><td style=\"text-align: right;\">   nan</td><td>Bayside, Queens, NY            </td></tr>\n",
       "<tr><td style=\"text-align: right;\">       1</td><td style=\"text-align: right;\">         0</td><td>Artagaveytia, Mr. Ramon                        </td><td>male  </td><td style=\"text-align: right;\">71     </td><td style=\"text-align: right;\">      0</td><td style=\"text-align: right;\">      0</td><td style=\"text-align: right;\">     nan</td><td style=\"text-align: right;\"> 49.5042</td><td>nan    </td><td>C         </td><td>nan   </td><td style=\"text-align: right;\">    22</td><td>Montevideo, Uruguay            </td></tr>\n",
       "</table>"
      ]
     },
     "metadata": {},
     "output_type": "display_data"
    },
    {
     "data": {
      "text/plain": []
     },
     "execution_count": 8,
     "metadata": {},
     "output_type": "execute_result"
    }
   ],
   "source": [
    "titanic"
   ]
  },
  {
   "cell_type": "code",
   "execution_count": 9,
   "metadata": {
    "collapsed": false
   },
   "outputs": [
    {
     "ename": "AttributeError",
     "evalue": "'H2OFrame' object has no attribute 'count'",
     "output_type": "error",
     "traceback": [
      "\u001b[0;31m---------------------------------------------------------------------------\u001b[0m",
      "\u001b[0;31mAttributeError\u001b[0m                            Traceback (most recent call last)",
      "\u001b[0;32m<ipython-input-9-b3230007d3af>\u001b[0m in \u001b[0;36m<module>\u001b[0;34m()\u001b[0m\n\u001b[1;32m      1\u001b[0m \u001b[0;31m# Note: You will see that the following command will not work\u001b[0m\u001b[0;34m\u001b[0m\u001b[0;34m\u001b[0m\u001b[0m\n\u001b[1;32m      2\u001b[0m \u001b[0;31m# Because it is a H2OFrame\u001b[0m\u001b[0;34m\u001b[0m\u001b[0;34m\u001b[0m\u001b[0m\n\u001b[0;32m----> 3\u001b[0;31m \u001b[0mtitanic\u001b[0m\u001b[0;34m.\u001b[0m\u001b[0mcount\u001b[0m\u001b[0;34m(\u001b[0m\u001b[0;34m)\u001b[0m\u001b[0;34m\u001b[0m\u001b[0m\n\u001b[0m",
      "\u001b[0;31mAttributeError\u001b[0m: 'H2OFrame' object has no attribute 'count'"
     ]
    }
   ],
   "source": [
    "# Note: You will see that the following command will not work\n",
    "# Because it is a H2OFrame\n",
    "titanic.count()"
   ]
  },
  {
   "cell_type": "code",
   "execution_count": 10,
   "metadata": {
    "collapsed": false
   },
   "outputs": [
    {
     "name": "stdout",
     "output_type": "stream",
     "text": [
      "Parse progress: |█████████████████████████████████████████████████████████| 100%\n"
     ]
    }
   ],
   "source": [
    "# The Other option to import data directly is to use H2O.\n",
    "titanic_data = h2o.import_file('/Users/avkashchauhan/learn/seattle-workshop/titanic_list.csv')"
   ]
  },
  {
   "cell_type": "code",
   "execution_count": 11,
   "metadata": {
    "collapsed": false
   },
   "outputs": [
    {
     "data": {
      "text/plain": [
       "(1310, 14)"
      ]
     },
     "execution_count": 11,
     "metadata": {},
     "output_type": "execute_result"
    }
   ],
   "source": [
    "titanic_data.shape"
   ]
  },
  {
   "cell_type": "code",
   "execution_count": 13,
   "metadata": {
    "collapsed": true
   },
   "outputs": [],
   "source": [
    "# Loading Estimators\n",
    "from h2o.estimators.glm import H2OGeneralizedLinearEstimator"
   ]
  },
  {
   "cell_type": "code",
   "execution_count": 14,
   "metadata": {
    "collapsed": false
   },
   "outputs": [],
   "source": [
    "# set this to True if interactive (matplotlib) plots are desired\n",
    "import matplotlib\n",
    "interactive = False\n",
    "if not interactive: matplotlib.use('Agg', warn=False)\n",
    "import matplotlib.pyplot as plt"
   ]
  },
  {
   "cell_type": "code",
   "execution_count": 15,
   "metadata": {
    "collapsed": false
   },
   "outputs": [
    {
     "name": "stdout",
     "output_type": "stream",
     "text": [
      "Rows:1310\n",
      "Cols:14\n",
      "\n",
      "\n"
     ]
    },
    {
     "data": {
      "text/html": [
       "<table>\n",
       "<tr><th>       </th><th>pclass       </th><th>survived      </th><th>name                                           </th><th>sex   </th><th>age          </th><th>sibsp         </th><th>parch         </th><th>ticket       </th><th>fare         </th><th>cabin  </th><th>embarked  </th><th>boat         </th><th>body         </th><th>home.dest                      </th></tr>\n",
       "<tr><td>type   </td><td>int          </td><td>int           </td><td>string                                         </td><td>enum  </td><td>real         </td><td>int           </td><td>int           </td><td>int          </td><td>real         </td><td>enum   </td><td>enum      </td><td>int          </td><td>int          </td><td>enum                           </td></tr>\n",
       "<tr><td>mins   </td><td>1.0          </td><td>0.0           </td><td>NaN                                            </td><td>      </td><td>0.1667       </td><td>0.0           </td><td>0.0           </td><td>680.0        </td><td>0.0          </td><td>       </td><td>          </td><td>1.0          </td><td>1.0          </td><td>                               </td></tr>\n",
       "<tr><td>mean   </td><td>2.294881589  </td><td>0.381970970206</td><td>NaN                                            </td><td>      </td><td>29.8811345124</td><td>0.498854087089</td><td>0.385026737968</td><td>249039.136886</td><td>33.2954792813</td><td>       </td><td>          </td><td>9.40452261307</td><td>160.809917355</td><td>                               </td></tr>\n",
       "<tr><td>maxs   </td><td>3.0          </td><td>1.0           </td><td>NaN                                            </td><td>      </td><td>80.0         </td><td>8.0           </td><td>9.0           </td><td>3101298.0    </td><td>512.3292     </td><td>       </td><td>          </td><td>16.0         </td><td>328.0        </td><td>                               </td></tr>\n",
       "<tr><td>sigma  </td><td>0.83783601897</td><td>0.486055170866</td><td>NaN                                            </td><td>      </td><td>14.4134996999</td><td>1.0416583906  </td><td>0.86556027535 </td><td>442685.317677</td><td>51.7586682392</td><td>       </td><td>          </td><td>4.3574169836 </td><td>97.696921996 </td><td>                               </td></tr>\n",
       "<tr><td>zeros  </td><td>0            </td><td>809           </td><td>0                                              </td><td>      </td><td>0            </td><td>891           </td><td>1002          </td><td>0            </td><td>17           </td><td>       </td><td>          </td><td>0            </td><td>0            </td><td>                               </td></tr>\n",
       "<tr><td>missing</td><td>1            </td><td>1             </td><td>1                                              </td><td>1     </td><td>264          </td><td>1             </td><td>1             </td><td>353          </td><td>2            </td><td>1015   </td><td>3         </td><td>912          </td><td>1189         </td><td>565                            </td></tr>\n",
       "<tr><td>0      </td><td>1.0          </td><td>1.0           </td><td>Allen, Miss. Elisabeth Walton                  </td><td>female</td><td>29.0         </td><td>0.0           </td><td>0.0           </td><td>24160.0      </td><td>211.3375     </td><td>B5     </td><td>S         </td><td>2.0          </td><td>nan          </td><td>St Louis, MO                   </td></tr>\n",
       "<tr><td>1      </td><td>1.0          </td><td>1.0           </td><td>Allison, Master. Hudson Trevor                 </td><td>male  </td><td>0.9167       </td><td>1.0           </td><td>2.0           </td><td>113781.0     </td><td>151.55       </td><td>C22 C26</td><td>S         </td><td>11.0         </td><td>nan          </td><td>Montreal, PQ / Chesterville, ON</td></tr>\n",
       "<tr><td>2      </td><td>1.0          </td><td>0.0           </td><td>Allison, Miss. Helen Loraine                   </td><td>female</td><td>2.0          </td><td>1.0           </td><td>2.0           </td><td>113781.0     </td><td>151.55       </td><td>C22 C26</td><td>S         </td><td>nan          </td><td>nan          </td><td>Montreal, PQ / Chesterville, ON</td></tr>\n",
       "<tr><td>3      </td><td>1.0          </td><td>0.0           </td><td>Allison, Mr. Hudson Joshua Creighton           </td><td>male  </td><td>30.0         </td><td>1.0           </td><td>2.0           </td><td>113781.0     </td><td>151.55       </td><td>C22 C26</td><td>S         </td><td>nan          </td><td>135.0        </td><td>Montreal, PQ / Chesterville, ON</td></tr>\n",
       "<tr><td>4      </td><td>1.0          </td><td>0.0           </td><td>Allison, Mrs. Hudson J C (Bessie Waldo Daniels)</td><td>female</td><td>25.0         </td><td>1.0           </td><td>2.0           </td><td>113781.0     </td><td>151.55       </td><td>C22 C26</td><td>S         </td><td>nan          </td><td>nan          </td><td>Montreal, PQ / Chesterville, ON</td></tr>\n",
       "<tr><td>5      </td><td>1.0          </td><td>1.0           </td><td>Anderson, Mr. Harry                            </td><td>male  </td><td>48.0         </td><td>0.0           </td><td>0.0           </td><td>19952.0      </td><td>26.55        </td><td>E12    </td><td>S         </td><td>3.0          </td><td>nan          </td><td>New York, NY                   </td></tr>\n",
       "<tr><td>6      </td><td>1.0          </td><td>1.0           </td><td>Andrews, Miss. Kornelia Theodosia              </td><td>female</td><td>63.0         </td><td>1.0           </td><td>0.0           </td><td>13502.0      </td><td>77.9583      </td><td>D7     </td><td>S         </td><td>10.0         </td><td>nan          </td><td>Hudson, NY                     </td></tr>\n",
       "<tr><td>7      </td><td>1.0          </td><td>0.0           </td><td>Andrews, Mr. Thomas Jr                         </td><td>male  </td><td>39.0         </td><td>0.0           </td><td>0.0           </td><td>112050.0     </td><td>0.0          </td><td>A36    </td><td>S         </td><td>nan          </td><td>nan          </td><td>Belfast, NI                    </td></tr>\n",
       "<tr><td>8      </td><td>1.0          </td><td>1.0           </td><td>Appleton, Mrs. Edward Dale (Charlotte Lamson)  </td><td>female</td><td>53.0         </td><td>2.0           </td><td>0.0           </td><td>11769.0      </td><td>51.4792      </td><td>C101   </td><td>S         </td><td>nan          </td><td>nan          </td><td>Bayside, Queens, NY            </td></tr>\n",
       "<tr><td>9      </td><td>1.0          </td><td>0.0           </td><td>Artagaveytia, Mr. Ramon                        </td><td>male  </td><td>71.0         </td><td>0.0           </td><td>0.0           </td><td>nan          </td><td>49.5042      </td><td>       </td><td>C         </td><td>nan          </td><td>22.0         </td><td>Montevideo, Uruguay            </td></tr>\n",
       "</table>"
      ]
     },
     "metadata": {},
     "output_type": "display_data"
    }
   ],
   "source": [
    "titanic_data.describe()"
   ]
  },
  {
   "cell_type": "code",
   "execution_count": 16,
   "metadata": {
    "collapsed": false
   },
   "outputs": [
    {
     "data": {
      "text/plain": [
       "[u'pclass',\n",
       " u'survived',\n",
       " u'name',\n",
       " u'sex',\n",
       " u'age',\n",
       " u'sibsp',\n",
       " u'parch',\n",
       " u'ticket',\n",
       " u'fare',\n",
       " u'cabin',\n",
       " u'embarked',\n",
       " u'boat',\n",
       " u'body',\n",
       " u'home.dest']"
      ]
     },
     "execution_count": 16,
     "metadata": {},
     "output_type": "execute_result"
    }
   ],
   "source": [
    "titanic_data.col_names"
   ]
  },
  {
   "cell_type": "code",
   "execution_count": 17,
   "metadata": {
    "collapsed": true
   },
   "outputs": [],
   "source": [
    "response = \"survived\""
   ]
  },
  {
   "cell_type": "code",
   "execution_count": 18,
   "metadata": {
    "collapsed": false
   },
   "outputs": [],
   "source": [
    "# Selected Columns\n",
    "# pclass, survived, sex, age, sibsp, parch, fare, embarked \n",
    "#\n",
    "\n",
    "predictors = [\"pclass\", \"sex\", \"age\", \"sibsp\", \"parch\", \"fare\", \"embarked\"]\n",
    "# predictors = titanic_data.columns[:-1]"
   ]
  },
  {
   "cell_type": "code",
   "execution_count": 19,
   "metadata": {
    "collapsed": false
   },
   "outputs": [
    {
     "data": {
      "text/plain": [
       "['pclass', 'sex', 'age', 'sibsp', 'parch', 'fare', 'embarked']"
      ]
     },
     "execution_count": 19,
     "metadata": {},
     "output_type": "execute_result"
    }
   ],
   "source": [
    "predictors"
   ]
  },
  {
   "cell_type": "code",
   "execution_count": 20,
   "metadata": {
    "collapsed": true
   },
   "outputs": [],
   "source": [
    "#Now setting factors to specific columns\n",
    "titanic_data[\"pclass\"] = titanic_data[\"pclass\"].asfactor()\n",
    "titanic_data[\"sex\"] = titanic_data[\"sex\"].asfactor()\n",
    "titanic_data[\"embarked\"] = titanic_data[\"embarked\"].asfactor()\n"
   ]
  },
  {
   "cell_type": "code",
   "execution_count": 21,
   "metadata": {
    "collapsed": false
   },
   "outputs": [
    {
     "name": "stdout",
     "output_type": "stream",
     "text": [
      "Rows:1310\n",
      "Cols:14\n",
      "\n",
      "\n"
     ]
    },
    {
     "data": {
      "text/html": [
       "<table>\n",
       "<tr><th>       </th><th>pclass  </th><th>survived      </th><th>name                                           </th><th>sex   </th><th>age          </th><th>sibsp         </th><th>parch         </th><th>ticket       </th><th>fare         </th><th>cabin  </th><th>embarked  </th><th>boat         </th><th>body         </th><th>home.dest                      </th></tr>\n",
       "<tr><td>type   </td><td>enum    </td><td>int           </td><td>string                                         </td><td>enum  </td><td>real         </td><td>int           </td><td>int           </td><td>int          </td><td>real         </td><td>enum   </td><td>enum      </td><td>int          </td><td>int          </td><td>enum                           </td></tr>\n",
       "<tr><td>mins   </td><td>        </td><td>0.0           </td><td>NaN                                            </td><td>      </td><td>0.1667       </td><td>0.0           </td><td>0.0           </td><td>680.0        </td><td>0.0          </td><td>       </td><td>          </td><td>1.0          </td><td>1.0          </td><td>                               </td></tr>\n",
       "<tr><td>mean   </td><td>        </td><td>0.381970970206</td><td>NaN                                            </td><td>      </td><td>29.8811345124</td><td>0.498854087089</td><td>0.385026737968</td><td>249039.136886</td><td>33.2954792813</td><td>       </td><td>          </td><td>9.40452261307</td><td>160.809917355</td><td>                               </td></tr>\n",
       "<tr><td>maxs   </td><td>        </td><td>1.0           </td><td>NaN                                            </td><td>      </td><td>80.0         </td><td>8.0           </td><td>9.0           </td><td>3101298.0    </td><td>512.3292     </td><td>       </td><td>          </td><td>16.0         </td><td>328.0        </td><td>                               </td></tr>\n",
       "<tr><td>sigma  </td><td>        </td><td>0.486055170866</td><td>NaN                                            </td><td>      </td><td>14.4134996999</td><td>1.0416583906  </td><td>0.86556027535 </td><td>442685.317677</td><td>51.7586682392</td><td>       </td><td>          </td><td>4.3574169836 </td><td>97.696921996 </td><td>                               </td></tr>\n",
       "<tr><td>zeros  </td><td>        </td><td>809           </td><td>0                                              </td><td>      </td><td>0            </td><td>891           </td><td>1002          </td><td>0            </td><td>17           </td><td>       </td><td>          </td><td>0            </td><td>0            </td><td>                               </td></tr>\n",
       "<tr><td>missing</td><td>1       </td><td>1             </td><td>1                                              </td><td>1     </td><td>264          </td><td>1             </td><td>1             </td><td>353          </td><td>2            </td><td>1015   </td><td>3         </td><td>912          </td><td>1189         </td><td>565                            </td></tr>\n",
       "<tr><td>0      </td><td>1       </td><td>1.0           </td><td>Allen, Miss. Elisabeth Walton                  </td><td>female</td><td>29.0         </td><td>0.0           </td><td>0.0           </td><td>24160.0      </td><td>211.3375     </td><td>B5     </td><td>S         </td><td>2.0          </td><td>nan          </td><td>St Louis, MO                   </td></tr>\n",
       "<tr><td>1      </td><td>1       </td><td>1.0           </td><td>Allison, Master. Hudson Trevor                 </td><td>male  </td><td>0.9167       </td><td>1.0           </td><td>2.0           </td><td>113781.0     </td><td>151.55       </td><td>C22 C26</td><td>S         </td><td>11.0         </td><td>nan          </td><td>Montreal, PQ / Chesterville, ON</td></tr>\n",
       "<tr><td>2      </td><td>1       </td><td>0.0           </td><td>Allison, Miss. Helen Loraine                   </td><td>female</td><td>2.0          </td><td>1.0           </td><td>2.0           </td><td>113781.0     </td><td>151.55       </td><td>C22 C26</td><td>S         </td><td>nan          </td><td>nan          </td><td>Montreal, PQ / Chesterville, ON</td></tr>\n",
       "<tr><td>3      </td><td>1       </td><td>0.0           </td><td>Allison, Mr. Hudson Joshua Creighton           </td><td>male  </td><td>30.0         </td><td>1.0           </td><td>2.0           </td><td>113781.0     </td><td>151.55       </td><td>C22 C26</td><td>S         </td><td>nan          </td><td>135.0        </td><td>Montreal, PQ / Chesterville, ON</td></tr>\n",
       "<tr><td>4      </td><td>1       </td><td>0.0           </td><td>Allison, Mrs. Hudson J C (Bessie Waldo Daniels)</td><td>female</td><td>25.0         </td><td>1.0           </td><td>2.0           </td><td>113781.0     </td><td>151.55       </td><td>C22 C26</td><td>S         </td><td>nan          </td><td>nan          </td><td>Montreal, PQ / Chesterville, ON</td></tr>\n",
       "<tr><td>5      </td><td>1       </td><td>1.0           </td><td>Anderson, Mr. Harry                            </td><td>male  </td><td>48.0         </td><td>0.0           </td><td>0.0           </td><td>19952.0      </td><td>26.55        </td><td>E12    </td><td>S         </td><td>3.0          </td><td>nan          </td><td>New York, NY                   </td></tr>\n",
       "<tr><td>6      </td><td>1       </td><td>1.0           </td><td>Andrews, Miss. Kornelia Theodosia              </td><td>female</td><td>63.0         </td><td>1.0           </td><td>0.0           </td><td>13502.0      </td><td>77.9583      </td><td>D7     </td><td>S         </td><td>10.0         </td><td>nan          </td><td>Hudson, NY                     </td></tr>\n",
       "<tr><td>7      </td><td>1       </td><td>0.0           </td><td>Andrews, Mr. Thomas Jr                         </td><td>male  </td><td>39.0         </td><td>0.0           </td><td>0.0           </td><td>112050.0     </td><td>0.0          </td><td>A36    </td><td>S         </td><td>nan          </td><td>nan          </td><td>Belfast, NI                    </td></tr>\n",
       "<tr><td>8      </td><td>1       </td><td>1.0           </td><td>Appleton, Mrs. Edward Dale (Charlotte Lamson)  </td><td>female</td><td>53.0         </td><td>2.0           </td><td>0.0           </td><td>11769.0      </td><td>51.4792      </td><td>C101   </td><td>S         </td><td>nan          </td><td>nan          </td><td>Bayside, Queens, NY            </td></tr>\n",
       "<tr><td>9      </td><td>1       </td><td>0.0           </td><td>Artagaveytia, Mr. Ramon                        </td><td>male  </td><td>71.0         </td><td>0.0           </td><td>0.0           </td><td>nan          </td><td>49.5042      </td><td>       </td><td>C         </td><td>nan          </td><td>22.0         </td><td>Montevideo, Uruguay            </td></tr>\n",
       "</table>"
      ]
     },
     "metadata": {},
     "output_type": "display_data"
    }
   ],
   "source": [
    "titanic_data.describe()"
   ]
  },
  {
   "cell_type": "code",
   "execution_count": 22,
   "metadata": {
    "collapsed": true
   },
   "outputs": [],
   "source": [
    "# Spliting the data set for training and validation\n",
    "titanic_train, titanic_valid = titanic_data.split_frame(ratios=[0.9])"
   ]
  },
  {
   "cell_type": "code",
   "execution_count": 23,
   "metadata": {
    "collapsed": false
   },
   "outputs": [
    {
     "name": "stdout",
     "output_type": "stream",
     "text": [
      "(1156, 14)\n",
      "(154, 14)\n"
     ]
    }
   ],
   "source": [
    "print(titanic_train.shape)\n",
    "print(titanic_valid.shape)"
   ]
  },
  {
   "cell_type": "markdown",
   "metadata": {},
   "source": [
    "# Creating GLM Model"
   ]
  },
  {
   "cell_type": "code",
   "execution_count": 24,
   "metadata": {
    "collapsed": true
   },
   "outputs": [],
   "source": [
    "titanic_glm = H2OGeneralizedLinearEstimator(alpha = .25)"
   ]
  },
  {
   "cell_type": "code",
   "execution_count": 25,
   "metadata": {
    "collapsed": false
   },
   "outputs": [
    {
     "name": "stdout",
     "output_type": "stream",
     "text": [
      "glm Model Build progress: |███████████████████████████████████████████████| 100%\n"
     ]
    }
   ],
   "source": [
    "titanic_glm.train(x = predictors, y = response, training_frame = titanic_train, validation_frame = titanic_valid)"
   ]
  },
  {
   "cell_type": "code",
   "execution_count": 26,
   "metadata": {
    "collapsed": false
   },
   "outputs": [
    {
     "name": "stdout",
     "output_type": "stream",
     "text": [
      "mse:  0.149942946231\n",
      "r2 :  0.346915167529\n",
      "rmse: 0.387224671516\n"
     ]
    }
   ],
   "source": [
    "# print the mse for the validation data\n",
    "print \"mse: \", titanic_glm.mse(valid=True)\n",
    "print \"r2 : \", titanic_glm.r2(valid=True)\n",
    "print \"rmse:\", titanic_glm.rmse(valid=True)\n",
    "\n",
    "# Note: Look for titanic_glm.[TAB] for the values you are interested into"
   ]
  },
  {
   "cell_type": "markdown",
   "metadata": {},
   "source": [
    "# Adding Grid Search now"
   ]
  },
  {
   "cell_type": "code",
   "execution_count": 27,
   "metadata": {
    "collapsed": true
   },
   "outputs": [],
   "source": [
    "# grid over `alpha`\n",
    "# import Grid Search\n",
    "from h2o.grid.grid_search import H2OGridSearch\n"
   ]
  },
  {
   "cell_type": "code",
   "execution_count": 28,
   "metadata": {
    "collapsed": true
   },
   "outputs": [],
   "source": [
    "# select the values for `alpha` to grid over\n",
    "hyper_params = {'alpha': [0, .25, .5, .75, .1]}"
   ]
  },
  {
   "cell_type": "code",
   "execution_count": 29,
   "metadata": {
    "collapsed": true
   },
   "outputs": [],
   "source": [
    "# this example uses cartesian grid search because the search space is small\n",
    "# and we want to see the performance of all models. For a larger search space use\n",
    "# random grid search instead: {'strategy': \"RandomDiscrete\"}\n",
    "# initialize the GLM estimator\n",
    "titanic_glm_hype = H2OGeneralizedLinearEstimator()\n"
   ]
  },
  {
   "cell_type": "code",
   "execution_count": 31,
   "metadata": {
    "collapsed": true
   },
   "outputs": [],
   "source": [
    "# build grid search with previously made GLM and hyperparameters\n",
    "titanitc_grid = H2OGridSearch(model = titanic_glm_hype, hyper_params = hyper_params,\n",
    "                     search_criteria = {'strategy': \"Cartesian\"})\n"
   ]
  },
  {
   "cell_type": "code",
   "execution_count": 32,
   "metadata": {
    "collapsed": false
   },
   "outputs": [
    {
     "name": "stdout",
     "output_type": "stream",
     "text": [
      "glm Grid Build progress: |████████████████████████████████████████████████| 100%\n"
     ]
    }
   ],
   "source": [
    "# train using the grid\n",
    "titanitc_grid.train(x = predictors, y = response, training_frame = titanic_train, validation_frame = titanic_valid)\n"
   ]
  },
  {
   "cell_type": "code",
   "execution_count": 33,
   "metadata": {
    "collapsed": false
   },
   "outputs": [
    {
     "name": "stdout",
     "output_type": "stream",
     "text": [
      "      alpha                                                       model_ids  \\\n",
      "0     [0.1]  Grid_GLM_py_6_sid_b902_model_python_1487818417976_1088_model_4   \n",
      "1    [0.25]  Grid_GLM_py_6_sid_b902_model_python_1487818417976_1088_model_1   \n",
      "2     [0.5]  Grid_GLM_py_6_sid_b902_model_python_1487818417976_1088_model_2   \n",
      "3    [0.75]  Grid_GLM_py_6_sid_b902_model_python_1487818417976_1088_model_3   \n",
      "4     [0.0]  Grid_GLM_py_6_sid_b902_model_python_1487818417976_1088_model_0   \n",
      "\n",
      "                   mse  \n",
      "0  0.14993836274486108  \n",
      "1  0.14994294623059257  \n",
      "2  0.14994549052889863  \n",
      "3  0.14995052526518768  \n",
      "4  0.14995613421393472  \n",
      "\n"
     ]
    }
   ],
   "source": [
    "# sort the grid models by mse\n",
    "titanic_sorted_grid = titanitc_grid.get_grid(sort_by='mse', decreasing=False)\n",
    "print(titanic_sorted_grid)"
   ]
  },
  {
   "cell_type": "code",
   "execution_count": null,
   "metadata": {
    "collapsed": false
   },
   "outputs": [],
   "source": []
  },
  {
   "cell_type": "code",
   "execution_count": 34,
   "metadata": {
    "collapsed": false
   },
   "outputs": [
    {
     "name": "stdout",
     "output_type": "stream",
     "text": [
      "      alpha                                                       model_ids  \\\n",
      "0     [0.0]  Grid_GLM_py_6_sid_b902_model_python_1487818417976_1088_model_0   \n",
      "1    [0.75]  Grid_GLM_py_6_sid_b902_model_python_1487818417976_1088_model_3   \n",
      "2     [0.5]  Grid_GLM_py_6_sid_b902_model_python_1487818417976_1088_model_2   \n",
      "3    [0.25]  Grid_GLM_py_6_sid_b902_model_python_1487818417976_1088_model_1   \n",
      "4     [0.1]  Grid_GLM_py_6_sid_b902_model_python_1487818417976_1088_model_4   \n",
      "\n",
      "                    r2  \n",
      "0  0.34685772653486224  \n",
      "1  0.34688215662273825  \n",
      "2  0.34690408569635267  \n",
      "3  0.34691516752897467  \n",
      "4   0.3469351311557163  \n",
      "\n"
     ]
    }
   ],
   "source": [
    "# If you want to sort by r2 then try this\n",
    "titanic_sorted_grid = titanitc_grid.get_grid(sort_by='r2', decreasing=False)\n",
    "print(titanic_sorted_grid)"
   ]
  },
  {
   "cell_type": "markdown",
   "metadata": {},
   "source": [
    "# Adding multiple hyperparameters"
   ]
  },
  {
   "cell_type": "code",
   "execution_count": 35,
   "metadata": {
    "collapsed": true
   },
   "outputs": [],
   "source": [
    "# Now adding alpha and lambda together\n",
    "hyper_params = {'alpha': [0, .25, .5, .75, .1], 'lambda': [0, .1, .01, .001, .0001]}"
   ]
  },
  {
   "cell_type": "code",
   "execution_count": 36,
   "metadata": {
    "collapsed": false
   },
   "outputs": [
    {
     "name": "stdout",
     "output_type": "stream",
     "text": [
      "glm Grid Build progress: |████████████████████████████████████████████████| 100%\n"
     ]
    }
   ],
   "source": [
    "titanic_glm_hype = H2OGeneralizedLinearEstimator()\n",
    "titanitc_grid = H2OGridSearch(model = titanic_glm_hype, hyper_params = hyper_params,\n",
    "                     search_criteria = {'strategy': \"Cartesian\"})\n",
    "titanitc_grid.train(x = predictors, y = response, training_frame = titanic_train, validation_frame = titanic_valid)\n"
   ]
  },
  {
   "cell_type": "code",
   "execution_count": 37,
   "metadata": {
    "collapsed": false
   },
   "outputs": [
    {
     "name": "stdout",
     "output_type": "stream",
     "text": [
      "       alpha    lambda  \\\n",
      "0     [0.75]     [0.1]   \n",
      "1      [0.5]     [0.1]   \n",
      "2     [0.25]     [0.1]   \n",
      "3      [0.1]     [0.1]   \n",
      "4      [0.0]     [0.1]   \n",
      "5     [0.75]    [0.01]   \n",
      "6      [0.5]    [0.01]   \n",
      "7     [0.25]    [0.01]   \n",
      "8      [0.0]    [0.01]   \n",
      "9      [0.1]  [1.0E-4]   \n",
      "10     [0.0]     [0.0]   \n",
      "11    [0.75]     [0.0]   \n",
      "12     [0.5]     [0.0]   \n",
      "13    [0.25]     [0.0]   \n",
      "14     [0.1]     [0.0]   \n",
      "15     [0.0]  [1.0E-4]   \n",
      "16     [0.0]   [0.001]   \n",
      "17    [0.25]  [1.0E-4]   \n",
      "18     [0.5]  [1.0E-4]   \n",
      "19    [0.75]  [1.0E-4]   \n",
      "20     [0.1]   [0.001]   \n",
      "21    [0.25]   [0.001]   \n",
      "22     [0.1]    [0.01]   \n",
      "23     [0.5]   [0.001]   \n",
      "24    [0.75]   [0.001]   \n",
      "\n",
      "                                                          model_ids  \\\n",
      "0    Grid_GLM_py_6_sid_b902_model_python_1487818417976_1089_model_8   \n",
      "1    Grid_GLM_py_6_sid_b902_model_python_1487818417976_1089_model_7   \n",
      "2    Grid_GLM_py_6_sid_b902_model_python_1487818417976_1089_model_6   \n",
      "3    Grid_GLM_py_6_sid_b902_model_python_1487818417976_1089_model_9   \n",
      "4    Grid_GLM_py_6_sid_b902_model_python_1487818417976_1089_model_5   \n",
      "5   Grid_GLM_py_6_sid_b902_model_python_1487818417976_1089_model_13   \n",
      "6   Grid_GLM_py_6_sid_b902_model_python_1487818417976_1089_model_12   \n",
      "7   Grid_GLM_py_6_sid_b902_model_python_1487818417976_1089_model_11   \n",
      "8   Grid_GLM_py_6_sid_b902_model_python_1487818417976_1089_model_10   \n",
      "9   Grid_GLM_py_6_sid_b902_model_python_1487818417976_1089_model_24   \n",
      "10   Grid_GLM_py_6_sid_b902_model_python_1487818417976_1089_model_0   \n",
      "11   Grid_GLM_py_6_sid_b902_model_python_1487818417976_1089_model_3   \n",
      "12   Grid_GLM_py_6_sid_b902_model_python_1487818417976_1089_model_2   \n",
      "13   Grid_GLM_py_6_sid_b902_model_python_1487818417976_1089_model_1   \n",
      "14   Grid_GLM_py_6_sid_b902_model_python_1487818417976_1089_model_4   \n",
      "15  Grid_GLM_py_6_sid_b902_model_python_1487818417976_1089_model_20   \n",
      "16  Grid_GLM_py_6_sid_b902_model_python_1487818417976_1089_model_15   \n",
      "17  Grid_GLM_py_6_sid_b902_model_python_1487818417976_1089_model_21   \n",
      "18  Grid_GLM_py_6_sid_b902_model_python_1487818417976_1089_model_22   \n",
      "19  Grid_GLM_py_6_sid_b902_model_python_1487818417976_1089_model_23   \n",
      "20  Grid_GLM_py_6_sid_b902_model_python_1487818417976_1089_model_19   \n",
      "21  Grid_GLM_py_6_sid_b902_model_python_1487818417976_1089_model_16   \n",
      "22  Grid_GLM_py_6_sid_b902_model_python_1487818417976_1089_model_14   \n",
      "23  Grid_GLM_py_6_sid_b902_model_python_1487818417976_1089_model_17   \n",
      "24  Grid_GLM_py_6_sid_b902_model_python_1487818417976_1089_model_18   \n",
      "\n",
      "                     r2  \n",
      "0   0.17340060750552666  \n",
      "1   0.21947495214189106  \n",
      "2   0.27826184745200233  \n",
      "3   0.31612263374008776  \n",
      "4    0.3362100548223934  \n",
      "5   0.33873650399821076  \n",
      "6   0.34309888569621594  \n",
      "7    0.3455853800112235  \n",
      "8    0.3467672925804436  \n",
      "9    0.3468451959241814  \n",
      "10  0.34685627909689654  \n",
      "11  0.34685627909689654  \n",
      "12  0.34685627909689654  \n",
      "13  0.34685627909689654  \n",
      "14  0.34685627909689654  \n",
      "15  0.34685744882255787  \n",
      "16   0.3468659523065314  \n",
      "17  0.34687135489289345  \n",
      "18   0.3468849816781836  \n",
      "19  0.34691413715767005  \n",
      "20  0.34691698782398883  \n",
      "21   0.3469358316603045  \n",
      "22   0.3469396157625466  \n",
      "23   0.3469760952258367  \n",
      "24   0.3470052586525091  \n",
      "\n"
     ]
    }
   ],
   "source": [
    "# If you want to sort by r2 then try this\n",
    "titanic_sorted_grid = titanitc_grid.get_grid(sort_by='r2', decreasing=False)\n",
    "print(titanic_sorted_grid)"
   ]
  },
  {
   "cell_type": "code",
   "execution_count": null,
   "metadata": {
    "collapsed": true
   },
   "outputs": [],
   "source": []
  }
 ],
 "metadata": {
  "kernelspec": {
   "display_name": "Python 2",
   "language": "python",
   "name": "python2"
  },
  "language_info": {
   "codemirror_mode": {
    "name": "ipython",
    "version": 2
   },
   "file_extension": ".py",
   "mimetype": "text/x-python",
   "name": "python",
   "nbconvert_exporter": "python",
   "pygments_lexer": "ipython2",
   "version": "2.7.10"
  }
 },
 "nbformat": 4,
 "nbformat_minor": 1
}
