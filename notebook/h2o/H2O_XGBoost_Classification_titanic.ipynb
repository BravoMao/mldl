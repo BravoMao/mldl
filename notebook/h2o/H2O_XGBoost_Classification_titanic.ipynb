{
 "cells": [
  {
   "cell_type": "code",
   "execution_count": 1,
   "metadata": {
    "collapsed": true
   },
   "outputs": [],
   "source": [
    "###: Importing H2O Library"
   ]
  },
  {
   "cell_type": "code",
   "execution_count": 2,
   "metadata": {
    "collapsed": true
   },
   "outputs": [],
   "source": [
    "import h2o"
   ]
  },
  {
   "cell_type": "code",
   "execution_count": 3,
   "metadata": {
    "collapsed": true
   },
   "outputs": [],
   "source": [
    "###: Initializing h2O"
   ]
  },
  {
   "cell_type": "code",
   "execution_count": 4,
   "metadata": {},
   "outputs": [
    {
     "name": "stderr",
     "output_type": "stream",
     "text": [
      "ERROR:h2o:Key init.version_check is not a valid config key\n"
     ]
    },
    {
     "name": "stdout",
     "output_type": "stream",
     "text": [
      "Checking whether there is an H2O instance running at http://localhost:54321. connected.\n"
     ]
    },
    {
     "data": {
      "text/html": [
       "<div style=\"overflow:auto\"><table style=\"width:50%\"><tr><td>H2O cluster uptime:</td>\n",
       "<td>1 day 3 hours 19 mins</td></tr>\n",
       "<tr><td>H2O cluster version:</td>\n",
       "<td>3.14.0.7</td></tr>\n",
       "<tr><td>H2O cluster version age:</td>\n",
       "<td>1 month and 1 day </td></tr>\n",
       "<tr><td>H2O cluster name:</td>\n",
       "<td>H2O_from_python_avkashchauhan_d7ekmq</td></tr>\n",
       "<tr><td>H2O cluster total nodes:</td>\n",
       "<td>1</td></tr>\n",
       "<tr><td>H2O cluster free memory:</td>\n",
       "<td>2.843 Gb</td></tr>\n",
       "<tr><td>H2O cluster total cores:</td>\n",
       "<td>8</td></tr>\n",
       "<tr><td>H2O cluster allowed cores:</td>\n",
       "<td>8</td></tr>\n",
       "<tr><td>H2O cluster status:</td>\n",
       "<td>locked, healthy</td></tr>\n",
       "<tr><td>H2O connection url:</td>\n",
       "<td>http://localhost:54321</td></tr>\n",
       "<tr><td>H2O connection proxy:</td>\n",
       "<td>None</td></tr>\n",
       "<tr><td>H2O internal security:</td>\n",
       "<td>False</td></tr>\n",
       "<tr><td>H2O API Extensions:</td>\n",
       "<td>XGBoost, Algos, AutoML, Core V3, Core V4</td></tr>\n",
       "<tr><td>Python version:</td>\n",
       "<td>2.7.13 final</td></tr></table></div>"
      ],
      "text/plain": [
       "--------------------------  ----------------------------------------\n",
       "H2O cluster uptime:         1 day 3 hours 19 mins\n",
       "H2O cluster version:        3.14.0.7\n",
       "H2O cluster version age:    1 month and 1 day\n",
       "H2O cluster name:           H2O_from_python_avkashchauhan_d7ekmq\n",
       "H2O cluster total nodes:    1\n",
       "H2O cluster free memory:    2.843 Gb\n",
       "H2O cluster total cores:    8\n",
       "H2O cluster allowed cores:  8\n",
       "H2O cluster status:         locked, healthy\n",
       "H2O connection url:         http://localhost:54321\n",
       "H2O connection proxy:\n",
       "H2O internal security:      False\n",
       "H2O API Extensions:         XGBoost, Algos, AutoML, Core V3, Core V4\n",
       "Python version:             2.7.13 final\n",
       "--------------------------  ----------------------------------------"
      ]
     },
     "metadata": {},
     "output_type": "display_data"
    }
   ],
   "source": [
    "h2o.init()"
   ]
  },
  {
   "cell_type": "code",
   "execution_count": 5,
   "metadata": {
    "collapsed": true
   },
   "outputs": [],
   "source": [
    "### : Getting H2O Cluster status"
   ]
  },
  {
   "cell_type": "code",
   "execution_count": 6,
   "metadata": {},
   "outputs": [
    {
     "data": {
      "text/html": [
       "<div style=\"overflow:auto\"><table style=\"width:50%\"><tr><td>H2O cluster uptime:</td>\n",
       "<td>1 day 3 hours 19 mins</td></tr>\n",
       "<tr><td>H2O cluster version:</td>\n",
       "<td>3.14.0.7</td></tr>\n",
       "<tr><td>H2O cluster version age:</td>\n",
       "<td>1 month and 1 day </td></tr>\n",
       "<tr><td>H2O cluster name:</td>\n",
       "<td>H2O_from_python_avkashchauhan_d7ekmq</td></tr>\n",
       "<tr><td>H2O cluster total nodes:</td>\n",
       "<td>1</td></tr>\n",
       "<tr><td>H2O cluster free memory:</td>\n",
       "<td>2.843 Gb</td></tr>\n",
       "<tr><td>H2O cluster total cores:</td>\n",
       "<td>8</td></tr>\n",
       "<tr><td>H2O cluster allowed cores:</td>\n",
       "<td>8</td></tr>\n",
       "<tr><td>H2O cluster status:</td>\n",
       "<td>locked, healthy</td></tr>\n",
       "<tr><td>H2O connection url:</td>\n",
       "<td>http://localhost:54321</td></tr>\n",
       "<tr><td>H2O connection proxy:</td>\n",
       "<td>None</td></tr>\n",
       "<tr><td>H2O internal security:</td>\n",
       "<td>False</td></tr>\n",
       "<tr><td>H2O API Extensions:</td>\n",
       "<td>XGBoost, Algos, AutoML, Core V3, Core V4</td></tr>\n",
       "<tr><td>Python version:</td>\n",
       "<td>2.7.13 final</td></tr></table></div>"
      ],
      "text/plain": [
       "--------------------------  ----------------------------------------\n",
       "H2O cluster uptime:         1 day 3 hours 19 mins\n",
       "H2O cluster version:        3.14.0.7\n",
       "H2O cluster version age:    1 month and 1 day\n",
       "H2O cluster name:           H2O_from_python_avkashchauhan_d7ekmq\n",
       "H2O cluster total nodes:    1\n",
       "H2O cluster free memory:    2.843 Gb\n",
       "H2O cluster total cores:    8\n",
       "H2O cluster allowed cores:  8\n",
       "H2O cluster status:         locked, healthy\n",
       "H2O connection url:         http://localhost:54321\n",
       "H2O connection proxy:\n",
       "H2O internal security:      False\n",
       "H2O API Extensions:         XGBoost, Algos, AutoML, Core V3, Core V4\n",
       "Python version:             2.7.13 final\n",
       "--------------------------  ----------------------------------------"
      ]
     },
     "metadata": {},
     "output_type": "display_data"
    }
   ],
   "source": [
    "h2o.cluster().show_status()"
   ]
  },
  {
   "cell_type": "code",
   "execution_count": 7,
   "metadata": {
    "collapsed": true
   },
   "outputs": [],
   "source": [
    "###: Importing Dataset"
   ]
  },
  {
   "cell_type": "code",
   "execution_count": 8,
   "metadata": {},
   "outputs": [
    {
     "name": "stdout",
     "output_type": "stream",
     "text": [
      "Parse progress: |█████████████████████████████████████████████████████████| 100%\n"
     ]
    }
   ],
   "source": [
    "df = h2o.import_file(\"https://raw.githubusercontent.com/Avkash/mldl/master/data/titanic_list.csv\")"
   ]
  },
  {
   "cell_type": "code",
   "execution_count": 9,
   "metadata": {
    "collapsed": true
   },
   "outputs": [],
   "source": [
    "###: Understanding Dataset"
   ]
  },
  {
   "cell_type": "code",
   "execution_count": 10,
   "metadata": {},
   "outputs": [
    {
     "name": "stdout",
     "output_type": "stream",
     "text": [
      "Rows:1309\n",
      "Cols:14\n",
      "\n",
      "\n"
     ]
    },
    {
     "data": {
      "text/html": [
       "<table>\n",
       "<thead>\n",
       "<tr><th>       </th><th>pclass       </th><th>survived      </th><th>name                                           </th><th>sex   </th><th>age          </th><th>sibsp         </th><th>parch         </th><th>ticket       </th><th>fare         </th><th>cabin  </th><th>embarked  </th><th>boat         </th><th>body         </th><th>home.dest                      </th></tr>\n",
       "</thead>\n",
       "<tbody>\n",
       "<tr><td>type   </td><td>int          </td><td>int           </td><td>string                                         </td><td>enum  </td><td>real         </td><td>int           </td><td>int           </td><td>int          </td><td>real         </td><td>enum   </td><td>enum      </td><td>int          </td><td>int          </td><td>enum                           </td></tr>\n",
       "<tr><td>mins   </td><td>1.0          </td><td>0.0           </td><td>NaN                                            </td><td>      </td><td>0.1667       </td><td>0.0           </td><td>0.0           </td><td>680.0        </td><td>0.0          </td><td>       </td><td>          </td><td>1.0          </td><td>1.0          </td><td>                               </td></tr>\n",
       "<tr><td>mean   </td><td>2.294881589  </td><td>0.381970970206</td><td>NaN                                            </td><td>      </td><td>29.8811345124</td><td>0.498854087089</td><td>0.385026737968</td><td>249039.136886</td><td>33.2954792813</td><td>       </td><td>          </td><td>9.40452261307</td><td>160.809917355</td><td>                               </td></tr>\n",
       "<tr><td>maxs   </td><td>3.0          </td><td>1.0           </td><td>NaN                                            </td><td>      </td><td>80.0         </td><td>8.0           </td><td>9.0           </td><td>3101298.0    </td><td>512.3292     </td><td>       </td><td>          </td><td>16.0         </td><td>328.0        </td><td>                               </td></tr>\n",
       "<tr><td>sigma  </td><td>0.83783601897</td><td>0.486055170866</td><td>NaN                                            </td><td>      </td><td>14.4134996999</td><td>1.0416583906  </td><td>0.86556027535 </td><td>442685.317677</td><td>51.7586682392</td><td>       </td><td>          </td><td>4.3574169836 </td><td>97.696921996 </td><td>                               </td></tr>\n",
       "<tr><td>zeros  </td><td>0            </td><td>809           </td><td>0                                              </td><td>      </td><td>0            </td><td>891           </td><td>1002          </td><td>0            </td><td>17           </td><td>       </td><td>          </td><td>0            </td><td>0            </td><td>                               </td></tr>\n",
       "<tr><td>missing</td><td>0            </td><td>0             </td><td>0                                              </td><td>0     </td><td>263          </td><td>0             </td><td>0             </td><td>352          </td><td>1            </td><td>1014   </td><td>2         </td><td>911          </td><td>1188         </td><td>564                            </td></tr>\n",
       "<tr><td>0      </td><td>1.0          </td><td>1.0           </td><td>Allen, Miss. Elisabeth Walton                  </td><td>female</td><td>29.0         </td><td>0.0           </td><td>0.0           </td><td>24160.0      </td><td>211.3375     </td><td>B5     </td><td>S         </td><td>2.0          </td><td>nan          </td><td>St Louis, MO                   </td></tr>\n",
       "<tr><td>1      </td><td>1.0          </td><td>1.0           </td><td>Allison, Master. Hudson Trevor                 </td><td>male  </td><td>0.9167       </td><td>1.0           </td><td>2.0           </td><td>113781.0     </td><td>151.55       </td><td>C22 C26</td><td>S         </td><td>11.0         </td><td>nan          </td><td>Montreal, PQ / Chesterville, ON</td></tr>\n",
       "<tr><td>2      </td><td>1.0          </td><td>0.0           </td><td>Allison, Miss. Helen Loraine                   </td><td>female</td><td>2.0          </td><td>1.0           </td><td>2.0           </td><td>113781.0     </td><td>151.55       </td><td>C22 C26</td><td>S         </td><td>nan          </td><td>nan          </td><td>Montreal, PQ / Chesterville, ON</td></tr>\n",
       "<tr><td>3      </td><td>1.0          </td><td>0.0           </td><td>Allison, Mr. Hudson Joshua Creighton           </td><td>male  </td><td>30.0         </td><td>1.0           </td><td>2.0           </td><td>113781.0     </td><td>151.55       </td><td>C22 C26</td><td>S         </td><td>nan          </td><td>135.0        </td><td>Montreal, PQ / Chesterville, ON</td></tr>\n",
       "<tr><td>4      </td><td>1.0          </td><td>0.0           </td><td>Allison, Mrs. Hudson J C (Bessie Waldo Daniels)</td><td>female</td><td>25.0         </td><td>1.0           </td><td>2.0           </td><td>113781.0     </td><td>151.55       </td><td>C22 C26</td><td>S         </td><td>nan          </td><td>nan          </td><td>Montreal, PQ / Chesterville, ON</td></tr>\n",
       "<tr><td>5      </td><td>1.0          </td><td>1.0           </td><td>Anderson, Mr. Harry                            </td><td>male  </td><td>48.0         </td><td>0.0           </td><td>0.0           </td><td>19952.0      </td><td>26.55        </td><td>E12    </td><td>S         </td><td>3.0          </td><td>nan          </td><td>New York, NY                   </td></tr>\n",
       "<tr><td>6      </td><td>1.0          </td><td>1.0           </td><td>Andrews, Miss. Kornelia Theodosia              </td><td>female</td><td>63.0         </td><td>1.0           </td><td>0.0           </td><td>13502.0      </td><td>77.9583      </td><td>D7     </td><td>S         </td><td>10.0         </td><td>nan          </td><td>Hudson, NY                     </td></tr>\n",
       "<tr><td>7      </td><td>1.0          </td><td>0.0           </td><td>Andrews, Mr. Thomas Jr                         </td><td>male  </td><td>39.0         </td><td>0.0           </td><td>0.0           </td><td>112050.0     </td><td>0.0          </td><td>A36    </td><td>S         </td><td>nan          </td><td>nan          </td><td>Belfast, NI                    </td></tr>\n",
       "<tr><td>8      </td><td>1.0          </td><td>1.0           </td><td>Appleton, Mrs. Edward Dale (Charlotte Lamson)  </td><td>female</td><td>53.0         </td><td>2.0           </td><td>0.0           </td><td>11769.0      </td><td>51.4792      </td><td>C101   </td><td>S         </td><td>nan          </td><td>nan          </td><td>Bayside, Queens, NY            </td></tr>\n",
       "<tr><td>9      </td><td>1.0          </td><td>0.0           </td><td>Artagaveytia, Mr. Ramon                        </td><td>male  </td><td>71.0         </td><td>0.0           </td><td>0.0           </td><td>nan          </td><td>49.5042      </td><td>       </td><td>C         </td><td>nan          </td><td>22.0         </td><td>Montevideo, Uruguay            </td></tr>\n",
       "</tbody>\n",
       "</table>"
      ]
     },
     "metadata": {},
     "output_type": "display_data"
    }
   ],
   "source": [
    "df.describe()"
   ]
  },
  {
   "cell_type": "code",
   "execution_count": 11,
   "metadata": {
    "collapsed": true
   },
   "outputs": [],
   "source": [
    "###: Understanding Dataset with pylab library"
   ]
  },
  {
   "cell_type": "code",
   "execution_count": 12,
   "metadata": {},
   "outputs": [
    {
     "data": {
      "text/plain": [
       "<matplotlib.figure.Figure at 0x104c96550>"
      ]
     },
     "metadata": {},
     "output_type": "display_data"
    },
    {
     "data": {
      "image/png": "[encoded data removed]",
      "text/plain": [
       "<matplotlib.figure.Figure at 0x10e4bef50>"
      ]
     },
     "metadata": {},
     "output_type": "display_data"
    }
   ],
   "source": [
    "import pylab as pl\n",
    "pl.figure(figsize=(20,10))\n",
    "df.as_data_frame().hist()\n",
    "pl.show()"
   ]
  },
  {
   "cell_type": "code",
   "execution_count": 13,
   "metadata": {
    "collapsed": true
   },
   "outputs": [],
   "source": [
    "###: Getting a list of columns in our dataset"
   ]
  },
  {
   "cell_type": "code",
   "execution_count": 14,
   "metadata": {},
   "outputs": [
    {
     "data": {
      "text/plain": [
       "[u'pclass',\n",
       " u'survived',\n",
       " u'name',\n",
       " u'sex',\n",
       " u'age',\n",
       " u'sibsp',\n",
       " u'parch',\n",
       " u'ticket',\n",
       " u'fare',\n",
       " u'cabin',\n",
       " u'embarked',\n",
       " u'boat',\n",
       " u'body',\n",
       " u'home.dest']"
      ]
     },
     "execution_count": 14,
     "metadata": {},
     "output_type": "execute_result"
    }
   ],
   "source": [
    "df.col_names"
   ]
  },
  {
   "cell_type": "code",
   "execution_count": 15,
   "metadata": {
    "collapsed": true
   },
   "outputs": [],
   "source": [
    "###: Setting Response column"
   ]
  },
  {
   "cell_type": "code",
   "execution_count": 16,
   "metadata": {
    "collapsed": true
   },
   "outputs": [],
   "source": [
    "response = \"survived\""
   ]
  },
  {
   "cell_type": "code",
   "execution_count": 17,
   "metadata": {
    "collapsed": true
   },
   "outputs": [],
   "source": [
    "###: Setting Response column to factor so we can get unique values in it"
   ]
  },
  {
   "cell_type": "code",
   "execution_count": 18,
   "metadata": {},
   "outputs": [
    {
     "data": {
      "text/plain": [
       "[['0', '1']]"
      ]
     },
     "execution_count": 18,
     "metadata": {},
     "output_type": "execute_result"
    }
   ],
   "source": [
    "df['survived'].asfactor().levels()"
   ]
  },
  {
   "cell_type": "code",
   "execution_count": 19,
   "metadata": {
    "collapsed": true
   },
   "outputs": [],
   "source": [
    "###: Setting Response column to factor so we can build classification model"
   ]
  },
  {
   "cell_type": "code",
   "execution_count": 20,
   "metadata": {
    "collapsed": true
   },
   "outputs": [],
   "source": [
    "df[response] = df[response].asfactor()"
   ]
  },
  {
   "cell_type": "code",
   "execution_count": 21,
   "metadata": {
    "collapsed": true
   },
   "outputs": [],
   "source": [
    "###: Verifying Response column as factor "
   ]
  },
  {
   "cell_type": "code",
   "execution_count": 22,
   "metadata": {},
   "outputs": [
    {
     "name": "stdout",
     "output_type": "stream",
     "text": [
      "Rows:1309\n",
      "Cols:1\n",
      "\n",
      "\n"
     ]
    },
    {
     "data": {
      "text/html": [
       "<table>\n",
       "<thead>\n",
       "<tr><th>       </th><th>survived  </th></tr>\n",
       "</thead>\n",
       "<tbody>\n",
       "<tr><td>type   </td><td>enum      </td></tr>\n",
       "<tr><td>mins   </td><td>          </td></tr>\n",
       "<tr><td>mean   </td><td>          </td></tr>\n",
       "<tr><td>maxs   </td><td>          </td></tr>\n",
       "<tr><td>sigma  </td><td>          </td></tr>\n",
       "<tr><td>zeros  </td><td>          </td></tr>\n",
       "<tr><td>missing</td><td>0         </td></tr>\n",
       "<tr><td>0      </td><td>1         </td></tr>\n",
       "<tr><td>1      </td><td>1         </td></tr>\n",
       "<tr><td>2      </td><td>0         </td></tr>\n",
       "<tr><td>3      </td><td>0         </td></tr>\n",
       "<tr><td>4      </td><td>0         </td></tr>\n",
       "<tr><td>5      </td><td>1         </td></tr>\n",
       "<tr><td>6      </td><td>1         </td></tr>\n",
       "<tr><td>7      </td><td>0         </td></tr>\n",
       "<tr><td>8      </td><td>1         </td></tr>\n",
       "<tr><td>9      </td><td>0         </td></tr>\n",
       "</tbody>\n",
       "</table>"
      ]
     },
     "metadata": {},
     "output_type": "display_data"
    }
   ],
   "source": [
    "df[response].describe()"
   ]
  },
  {
   "cell_type": "code",
   "execution_count": 23,
   "metadata": {
    "collapsed": true
   },
   "outputs": [],
   "source": [
    "###: spliting the dataset into train, test and validation  "
   ]
  },
  {
   "cell_type": "code",
   "execution_count": 24,
   "metadata": {},
   "outputs": [
    {
     "name": "stdout",
     "output_type": "stream",
     "text": [
      "(1055, 14)\n",
      "(123, 14)\n",
      "(131, 14)\n"
     ]
    }
   ],
   "source": [
    "train, valid, test = df.split_frame(ratios=[0.8,0.1])\n",
    "print(train.shape)\n",
    "print(valid.shape)\n",
    "print(test.shape)"
   ]
  },
  {
   "cell_type": "code",
   "execution_count": 25,
   "metadata": {
    "collapsed": true
   },
   "outputs": [],
   "source": [
    "###: Setting all columns/features into a local variable"
   ]
  },
  {
   "cell_type": "code",
   "execution_count": 26,
   "metadata": {
    "collapsed": true
   },
   "outputs": [],
   "source": [
    "features = df.col_names"
   ]
  },
  {
   "cell_type": "code",
   "execution_count": 27,
   "metadata": {
    "collapsed": true
   },
   "outputs": [],
   "source": [
    "###: Settings all features for model building"
   ]
  },
  {
   "cell_type": "code",
   "execution_count": 28,
   "metadata": {},
   "outputs": [
    {
     "name": "stdout",
     "output_type": "stream",
     "text": [
      "[u'pclass', u'name', u'sex', u'age', u'sibsp', u'parch', u'ticket', u'fare', u'cabin', u'embarked', u'boat', u'body', u'home.dest']\n"
     ]
    }
   ],
   "source": [
    "features.remove(response)\n",
    "print(features)"
   ]
  },
  {
   "cell_type": "code",
   "execution_count": 29,
   "metadata": {
    "collapsed": true
   },
   "outputs": [],
   "source": [
    "###: Ignoring list of features which are not required for model building"
   ]
  },
  {
   "cell_type": "code",
   "execution_count": 30,
   "metadata": {},
   "outputs": [
    {
     "name": "stdout",
     "output_type": "stream",
     "text": [
      "[u'pclass', u'sex', u'age', u'sibsp', u'parch', u'fare', u'cabin', u'embarked', u'boat', u'body']\n"
     ]
    }
   ],
   "source": [
    "ignore_list = ['name', 'ticket', 'home.dest']\n",
    "for x in ignore_list:\n",
    "    features.remove(x)\n",
    "print(features)    "
   ]
  },
  {
   "cell_type": "code",
   "execution_count": 31,
   "metadata": {
    "collapsed": true
   },
   "outputs": [],
   "source": [
    "###: Importing H2O XGBoost Library"
   ]
  },
  {
   "cell_type": "code",
   "execution_count": 32,
   "metadata": {
    "collapsed": true
   },
   "outputs": [],
   "source": [
    "from h2o.estimators.xgboost import H2OXGBoostEstimator"
   ]
  },
  {
   "cell_type": "code",
   "execution_count": 33,
   "metadata": {
    "collapsed": true
   },
   "outputs": [],
   "source": [
    "###: Setting XGBooost Parameters"
   ]
  },
  {
   "cell_type": "code",
   "execution_count": 34,
   "metadata": {
    "collapsed": true
   },
   "outputs": [],
   "source": [
    "param = {\n",
    "      \"ntrees\" : 100\n",
    "    , \"max_depth\" : 10\n",
    "    , \"learn_rate\" : 0.02\n",
    "    , \"sample_rate\" : 0.7\n",
    "    , \"col_sample_rate_per_tree\" : 0.9\n",
    "    , \"min_rows\" : 5\n",
    "    , \"seed\": 4241\n",
    "    , \"score_tree_interval\": 100\n",
    "}"
   ]
  },
  {
   "cell_type": "code",
   "execution_count": 35,
   "metadata": {
    "collapsed": true
   },
   "outputs": [],
   "source": [
    "###: Setting H2O XGBoost model configuration (default)"
   ]
  },
  {
   "cell_type": "code",
   "execution_count": 36,
   "metadata": {
    "collapsed": true
   },
   "outputs": [],
   "source": [
    "titanic_xgb = H2OXGBoostEstimator(**param)"
   ]
  },
  {
   "cell_type": "code",
   "execution_count": 37,
   "metadata": {
    "collapsed": true
   },
   "outputs": [],
   "source": [
    "###: Training H2O XGBoost model "
   ]
  },
  {
   "cell_type": "code",
   "execution_count": 38,
   "metadata": {},
   "outputs": [
    {
     "name": "stdout",
     "output_type": "stream",
     "text": [
      "xgboost Model Build progress: |███████████████████████████████████████████| 100%\n"
     ]
    }
   ],
   "source": [
    "titanic_xgb.train(x = features, y = response, training_frame = train, validation_frame = valid)"
   ]
  },
  {
   "cell_type": "code",
   "execution_count": 39,
   "metadata": {
    "collapsed": true
   },
   "outputs": [],
   "source": [
    "###: understanding the model metrics and various detials"
   ]
  },
  {
   "cell_type": "code",
   "execution_count": 40,
   "metadata": {},
   "outputs": [
    {
     "name": "stdout",
     "output_type": "stream",
     "text": [
      "Model Details\n",
      "=============\n",
      "H2OXGBoostEstimator :  XGBoost\n",
      "Model Key:  XGBoost_model_python_1511234431789_17142\n",
      "\n",
      "\n",
      "ModelMetricsBinomial: xgboost\n",
      "** Reported on train data. **\n",
      "\n",
      "MSE: 0.0550302541431\n",
      "RMSE: 0.234585281173\n",
      "LogLoss: 0.218139439376\n",
      "Mean Per-Class Error: 0.071959553052\n",
      "AUC: 0.98279696494\n",
      "Gini: 0.96559392988\n",
      "Confusion Matrix (Act/Pred) for max f1 @ threshold = 0.376370042562: \n"
     ]
    },
    {
     "data": {
      "text/html": [
       "<div style=\"overflow:auto\"><table style=\"width:50%\"><tr><td><b></b></td>\n",
       "<td><b>0</b></td>\n",
       "<td><b>1</b></td>\n",
       "<td><b>Error</b></td>\n",
       "<td><b>Rate</b></td></tr>\n",
       "<tr><td>0</td>\n",
       "<td>648.0</td>\n",
       "<td>15.0</td>\n",
       "<td>0.0226</td>\n",
       "<td> (15.0/663.0)</td></tr>\n",
       "<tr><td>1</td>\n",
       "<td>49.0</td>\n",
       "<td>343.0</td>\n",
       "<td>0.125</td>\n",
       "<td> (49.0/392.0)</td></tr>\n",
       "<tr><td>Total</td>\n",
       "<td>697.0</td>\n",
       "<td>358.0</td>\n",
       "<td>0.0607</td>\n",
       "<td> (64.0/1055.0)</td></tr></table></div>"
      ],
      "text/plain": [
       "       0    1    Error    Rate\n",
       "-----  ---  ---  -------  -------------\n",
       "0      648  15   0.0226   (15.0/663.0)\n",
       "1      49   343  0.125    (49.0/392.0)\n",
       "Total  697  358  0.0607   (64.0/1055.0)"
      ]
     },
     "metadata": {},
     "output_type": "display_data"
    },
    {
     "name": "stdout",
     "output_type": "stream",
     "text": [
      "Maximum Metrics: Maximum metrics at their respective thresholds\n",
      "\n"
     ]
    },
    {
     "data": {
      "text/html": [
       "<div style=\"overflow:auto\"><table style=\"width:50%\"><tr><td><b>metric</b></td>\n",
       "<td><b>threshold</b></td>\n",
       "<td><b>value</b></td>\n",
       "<td><b>idx</b></td></tr>\n",
       "<tr><td>max f1</td>\n",
       "<td>0.3763700</td>\n",
       "<td>0.9146667</td>\n",
       "<td>124.0</td></tr>\n",
       "<tr><td>max f2</td>\n",
       "<td>0.2160099</td>\n",
       "<td>0.9304603</td>\n",
       "<td>198.0</td></tr>\n",
       "<tr><td>max f0point5</td>\n",
       "<td>0.4508513</td>\n",
       "<td>0.9526559</td>\n",
       "<td>105.0</td></tr>\n",
       "<tr><td>max accuracy</td>\n",
       "<td>0.4117788</td>\n",
       "<td>0.9393365</td>\n",
       "<td>113.0</td></tr>\n",
       "<tr><td>max precision</td>\n",
       "<td>0.9352538</td>\n",
       "<td>1.0</td>\n",
       "<td>0.0</td></tr>\n",
       "<tr><td>max recall</td>\n",
       "<td>0.1441573</td>\n",
       "<td>1.0</td>\n",
       "<td>271.0</td></tr>\n",
       "<tr><td>max specificity</td>\n",
       "<td>0.9352538</td>\n",
       "<td>1.0</td>\n",
       "<td>0.0</td></tr>\n",
       "<tr><td>max absolute_mcc</td>\n",
       "<td>0.4117788</td>\n",
       "<td>0.8711276</td>\n",
       "<td>113.0</td></tr>\n",
       "<tr><td>max min_per_class_accuracy</td>\n",
       "<td>0.2933851</td>\n",
       "<td>0.9158163</td>\n",
       "<td>157.0</td></tr>\n",
       "<tr><td>max mean_per_class_accuracy</td>\n",
       "<td>0.3572063</td>\n",
       "<td>0.9280404</td>\n",
       "<td>128.0</td></tr></table></div>"
      ],
      "text/plain": [
       "metric                       threshold    value     idx\n",
       "---------------------------  -----------  --------  -----\n",
       "max f1                       0.37637      0.914667  124\n",
       "max f2                       0.21601      0.93046   198\n",
       "max f0point5                 0.450851     0.952656  105\n",
       "max accuracy                 0.411779     0.939336  113\n",
       "max precision                0.935254     1         0\n",
       "max recall                   0.144157     1         271\n",
       "max specificity              0.935254     1         0\n",
       "max absolute_mcc             0.411779     0.871128  113\n",
       "max min_per_class_accuracy   0.293385     0.915816  157\n",
       "max mean_per_class_accuracy  0.357206     0.92804   128"
      ]
     },
     "metadata": {},
     "output_type": "display_data"
    },
    {
     "name": "stdout",
     "output_type": "stream",
     "text": [
      "Gains/Lift Table: Avg response rate: 37.16 %\n",
      "\n"
     ]
    },
    {
     "data": {
      "text/html": [
       "<div style=\"overflow:auto\"><table style=\"width:50%\"><tr><td><b></b></td>\n",
       "<td><b>group</b></td>\n",
       "<td><b>cumulative_data_fraction</b></td>\n",
       "<td><b>lower_threshold</b></td>\n",
       "<td><b>lift</b></td>\n",
       "<td><b>cumulative_lift</b></td>\n",
       "<td><b>response_rate</b></td>\n",
       "<td><b>cumulative_response_rate</b></td>\n",
       "<td><b>capture_rate</b></td>\n",
       "<td><b>cumulative_capture_rate</b></td>\n",
       "<td><b>gain</b></td>\n",
       "<td><b>cumulative_gain</b></td></tr>\n",
       "<tr><td></td>\n",
       "<td>1</td>\n",
       "<td>0.0104265</td>\n",
       "<td>0.9339859</td>\n",
       "<td>2.6913265</td>\n",
       "<td>2.6913265</td>\n",
       "<td>1.0</td>\n",
       "<td>1.0</td>\n",
       "<td>0.0280612</td>\n",
       "<td>0.0280612</td>\n",
       "<td>169.1326531</td>\n",
       "<td>169.1326531</td></tr>\n",
       "<tr><td></td>\n",
       "<td>2</td>\n",
       "<td>0.0208531</td>\n",
       "<td>0.9334347</td>\n",
       "<td>2.6913265</td>\n",
       "<td>2.6913265</td>\n",
       "<td>1.0</td>\n",
       "<td>1.0</td>\n",
       "<td>0.0280612</td>\n",
       "<td>0.0561224</td>\n",
       "<td>169.1326531</td>\n",
       "<td>169.1326531</td></tr>\n",
       "<tr><td></td>\n",
       "<td>3</td>\n",
       "<td>0.0303318</td>\n",
       "<td>0.9330706</td>\n",
       "<td>2.6913265</td>\n",
       "<td>2.6913265</td>\n",
       "<td>1.0</td>\n",
       "<td>1.0</td>\n",
       "<td>0.0255102</td>\n",
       "<td>0.0816327</td>\n",
       "<td>169.1326531</td>\n",
       "<td>169.1326531</td></tr>\n",
       "<tr><td></td>\n",
       "<td>4</td>\n",
       "<td>0.0407583</td>\n",
       "<td>0.9325710</td>\n",
       "<td>2.6913265</td>\n",
       "<td>2.6913265</td>\n",
       "<td>1.0</td>\n",
       "<td>1.0</td>\n",
       "<td>0.0280612</td>\n",
       "<td>0.1096939</td>\n",
       "<td>169.1326531</td>\n",
       "<td>169.1326531</td></tr>\n",
       "<tr><td></td>\n",
       "<td>5</td>\n",
       "<td>0.0502370</td>\n",
       "<td>0.9321241</td>\n",
       "<td>2.6913265</td>\n",
       "<td>2.6913265</td>\n",
       "<td>1.0</td>\n",
       "<td>1.0</td>\n",
       "<td>0.0255102</td>\n",
       "<td>0.1352041</td>\n",
       "<td>169.1326531</td>\n",
       "<td>169.1326531</td></tr>\n",
       "<tr><td></td>\n",
       "<td>6</td>\n",
       "<td>0.1004739</td>\n",
       "<td>0.9290313</td>\n",
       "<td>2.6913265</td>\n",
       "<td>2.6913265</td>\n",
       "<td>1.0</td>\n",
       "<td>1.0</td>\n",
       "<td>0.1352041</td>\n",
       "<td>0.2704082</td>\n",
       "<td>169.1326531</td>\n",
       "<td>169.1326531</td></tr>\n",
       "<tr><td></td>\n",
       "<td>7</td>\n",
       "<td>0.1507109</td>\n",
       "<td>0.9174753</td>\n",
       "<td>2.6913265</td>\n",
       "<td>2.6913265</td>\n",
       "<td>1.0</td>\n",
       "<td>1.0</td>\n",
       "<td>0.1352041</td>\n",
       "<td>0.4056122</td>\n",
       "<td>169.1326531</td>\n",
       "<td>169.1326531</td></tr>\n",
       "<tr><td></td>\n",
       "<td>8</td>\n",
       "<td>0.2</td>\n",
       "<td>0.9108918</td>\n",
       "<td>2.6913265</td>\n",
       "<td>2.6913265</td>\n",
       "<td>1.0</td>\n",
       "<td>1.0</td>\n",
       "<td>0.1326531</td>\n",
       "<td>0.5382653</td>\n",
       "<td>169.1326531</td>\n",
       "<td>169.1326531</td></tr>\n",
       "<tr><td></td>\n",
       "<td>9</td>\n",
       "<td>0.3004739</td>\n",
       "<td>0.5649419</td>\n",
       "<td>2.6405468</td>\n",
       "<td>2.6743466</td>\n",
       "<td>0.9811321</td>\n",
       "<td>0.9936909</td>\n",
       "<td>0.2653061</td>\n",
       "<td>0.8035714</td>\n",
       "<td>164.0546785</td>\n",
       "<td>167.4346552</td></tr>\n",
       "<tr><td></td>\n",
       "<td>10</td>\n",
       "<td>0.4</td>\n",
       "<td>0.2704226</td>\n",
       "<td>1.2046890</td>\n",
       "<td>2.3086735</td>\n",
       "<td>0.4476190</td>\n",
       "<td>0.8578199</td>\n",
       "<td>0.1198980</td>\n",
       "<td>0.9234694</td>\n",
       "<td>20.4689018</td>\n",
       "<td>130.8673469</td></tr>\n",
       "<tr><td></td>\n",
       "<td>11</td>\n",
       "<td>0.5042654</td>\n",
       "<td>0.1888691</td>\n",
       "<td>0.5627319</td>\n",
       "<td>1.9476705</td>\n",
       "<td>0.2090909</td>\n",
       "<td>0.7236842</td>\n",
       "<td>0.0586735</td>\n",
       "<td>0.9821429</td>\n",
       "<td>-43.7268089</td>\n",
       "<td>94.7670516</td></tr>\n",
       "<tr><td></td>\n",
       "<td>12</td>\n",
       "<td>0.6</td>\n",
       "<td>0.1429597</td>\n",
       "<td>0.1865276</td>\n",
       "<td>1.6666667</td>\n",
       "<td>0.0693069</td>\n",
       "<td>0.6192733</td>\n",
       "<td>0.0178571</td>\n",
       "<td>1.0</td>\n",
       "<td>-81.3472419</td>\n",
       "<td>66.6666667</td></tr>\n",
       "<tr><td></td>\n",
       "<td>13</td>\n",
       "<td>0.6995261</td>\n",
       "<td>0.1140712</td>\n",
       "<td>0.0</td>\n",
       "<td>1.4295393</td>\n",
       "<td>0.0</td>\n",
       "<td>0.5311653</td>\n",
       "<td>0.0</td>\n",
       "<td>1.0</td>\n",
       "<td>-100.0</td>\n",
       "<td>42.9539295</td></tr>\n",
       "<tr><td></td>\n",
       "<td>14</td>\n",
       "<td>0.8</td>\n",
       "<td>0.0911923</td>\n",
       "<td>0.0</td>\n",
       "<td>1.25</td>\n",
       "<td>0.0</td>\n",
       "<td>0.4644550</td>\n",
       "<td>0.0</td>\n",
       "<td>1.0</td>\n",
       "<td>-100.0</td>\n",
       "<td>25.0</td></tr>\n",
       "<tr><td></td>\n",
       "<td>15</td>\n",
       "<td>0.9004739</td>\n",
       "<td>0.0824183</td>\n",
       "<td>0.0</td>\n",
       "<td>1.1105263</td>\n",
       "<td>0.0</td>\n",
       "<td>0.4126316</td>\n",
       "<td>0.0</td>\n",
       "<td>1.0</td>\n",
       "<td>-100.0</td>\n",
       "<td>11.0526316</td></tr>\n",
       "<tr><td></td>\n",
       "<td>16</td>\n",
       "<td>1.0</td>\n",
       "<td>0.0641825</td>\n",
       "<td>0.0</td>\n",
       "<td>1.0</td>\n",
       "<td>0.0</td>\n",
       "<td>0.3715640</td>\n",
       "<td>0.0</td>\n",
       "<td>1.0</td>\n",
       "<td>-100.0</td>\n",
       "<td>0.0</td></tr></table></div>"
      ],
      "text/plain": [
       "    group    cumulative_data_fraction    lower_threshold    lift      cumulative_lift    response_rate    cumulative_response_rate    capture_rate    cumulative_capture_rate    gain      cumulative_gain\n",
       "--  -------  --------------------------  -----------------  --------  -----------------  ---------------  --------------------------  --------------  -------------------------  --------  -----------------\n",
       "    1        0.0104265                   0.933986           2.69133   2.69133            1                1                           0.0280612       0.0280612                  169.133   169.133\n",
       "    2        0.0208531                   0.933435           2.69133   2.69133            1                1                           0.0280612       0.0561224                  169.133   169.133\n",
       "    3        0.0303318                   0.933071           2.69133   2.69133            1                1                           0.0255102       0.0816327                  169.133   169.133\n",
       "    4        0.0407583                   0.932571           2.69133   2.69133            1                1                           0.0280612       0.109694                   169.133   169.133\n",
       "    5        0.050237                    0.932124           2.69133   2.69133            1                1                           0.0255102       0.135204                   169.133   169.133\n",
       "    6        0.100474                    0.929031           2.69133   2.69133            1                1                           0.135204        0.270408                   169.133   169.133\n",
       "    7        0.150711                    0.917475           2.69133   2.69133            1                1                           0.135204        0.405612                   169.133   169.133\n",
       "    8        0.2                         0.910892           2.69133   2.69133            1                1                           0.132653        0.538265                   169.133   169.133\n",
       "    9        0.300474                    0.564942           2.64055   2.67435            0.981132         0.993691                    0.265306        0.803571                   164.055   167.435\n",
       "    10       0.4                         0.270423           1.20469   2.30867            0.447619         0.85782                     0.119898        0.923469                   20.4689   130.867\n",
       "    11       0.504265                    0.188869           0.562732  1.94767            0.209091         0.723684                    0.0586735       0.982143                   -43.7268  94.7671\n",
       "    12       0.6                         0.14296            0.186528  1.66667            0.0693069        0.619273                    0.0178571       1                          -81.3472  66.6667\n",
       "    13       0.699526                    0.114071           0         1.42954            0                0.531165                    0               1                          -100      42.9539\n",
       "    14       0.8                         0.0911923          0         1.25               0                0.464455                    0               1                          -100      25\n",
       "    15       0.900474                    0.0824183          0         1.11053            0                0.412632                    0               1                          -100      11.0526\n",
       "    16       1                           0.0641825          0         1                  0                0.371564                    0               1                          -100      0"
      ]
     },
     "metadata": {},
     "output_type": "display_data"
    },
    {
     "name": "stdout",
     "output_type": "stream",
     "text": [
      "\n",
      "\n",
      "ModelMetricsBinomial: xgboost\n",
      "** Reported on validation data. **\n",
      "\n",
      "MSE: 0.058269534452\n",
      "RMSE: 0.241390833405\n",
      "LogLoss: 0.228185908405\n",
      "Mean Per-Class Error: 0.0678433535576\n",
      "AUC: 0.977109762824\n",
      "Gini: 0.954219525648\n",
      "Confusion Matrix (Act/Pred) for max f1 @ threshold = 0.35921356082: \n"
     ]
    },
    {
     "data": {
      "text/html": [
       "<div style=\"overflow:auto\"><table style=\"width:50%\"><tr><td><b></b></td>\n",
       "<td><b>0</b></td>\n",
       "<td><b>1</b></td>\n",
       "<td><b>Error</b></td>\n",
       "<td><b>Rate</b></td></tr>\n",
       "<tr><td>0</td>\n",
       "<td>73.0</td>\n",
       "<td>1.0</td>\n",
       "<td>0.0135</td>\n",
       "<td> (1.0/74.0)</td></tr>\n",
       "<tr><td>1</td>\n",
       "<td>6.0</td>\n",
       "<td>43.0</td>\n",
       "<td>0.1224</td>\n",
       "<td> (6.0/49.0)</td></tr>\n",
       "<tr><td>Total</td>\n",
       "<td>79.0</td>\n",
       "<td>44.0</td>\n",
       "<td>0.0569</td>\n",
       "<td> (7.0/123.0)</td></tr></table></div>"
      ],
      "text/plain": [
       "       0    1    Error    Rate\n",
       "-----  ---  ---  -------  -----------\n",
       "0      73   1    0.0135   (1.0/74.0)\n",
       "1      6    43   0.1224   (6.0/49.0)\n",
       "Total  79   44   0.0569   (7.0/123.0)"
      ]
     },
     "metadata": {},
     "output_type": "display_data"
    },
    {
     "name": "stdout",
     "output_type": "stream",
     "text": [
      "Maximum Metrics: Maximum metrics at their respective thresholds\n",
      "\n"
     ]
    },
    {
     "data": {
      "text/html": [
       "<div style=\"overflow:auto\"><table style=\"width:50%\"><tr><td><b>metric</b></td>\n",
       "<td><b>threshold</b></td>\n",
       "<td><b>value</b></td>\n",
       "<td><b>idx</b></td></tr>\n",
       "<tr><td>max f1</td>\n",
       "<td>0.3592136</td>\n",
       "<td>0.9247312</td>\n",
       "<td>41.0</td></tr>\n",
       "<tr><td>max f2</td>\n",
       "<td>0.2771192</td>\n",
       "<td>0.9288538</td>\n",
       "<td>54.0</td></tr>\n",
       "<tr><td>max f0point5</td>\n",
       "<td>0.5732223</td>\n",
       "<td>0.9569378</td>\n",
       "<td>37.0</td></tr>\n",
       "<tr><td>max accuracy</td>\n",
       "<td>0.3592136</td>\n",
       "<td>0.9430894</td>\n",
       "<td>41.0</td></tr>\n",
       "<tr><td>max precision</td>\n",
       "<td>0.9337968</td>\n",
       "<td>1.0</td>\n",
       "<td>0.0</td></tr>\n",
       "<tr><td>max recall</td>\n",
       "<td>0.1338609</td>\n",
       "<td>1.0</td>\n",
       "<td>81.0</td></tr>\n",
       "<tr><td>max specificity</td>\n",
       "<td>0.9337968</td>\n",
       "<td>1.0</td>\n",
       "<td>0.0</td></tr>\n",
       "<tr><td>max absolute_mcc</td>\n",
       "<td>0.3592136</td>\n",
       "<td>0.8824835</td>\n",
       "<td>41.0</td></tr>\n",
       "<tr><td>max min_per_class_accuracy</td>\n",
       "<td>0.3180600</td>\n",
       "<td>0.9183673</td>\n",
       "<td>46.0</td></tr>\n",
       "<tr><td>max mean_per_class_accuracy</td>\n",
       "<td>0.3180600</td>\n",
       "<td>0.9321566</td>\n",
       "<td>46.0</td></tr></table></div>"
      ],
      "text/plain": [
       "metric                       threshold    value     idx\n",
       "---------------------------  -----------  --------  -----\n",
       "max f1                       0.359214     0.924731  41\n",
       "max f2                       0.277119     0.928854  54\n",
       "max f0point5                 0.573222     0.956938  37\n",
       "max accuracy                 0.359214     0.943089  41\n",
       "max precision                0.933797     1         0\n",
       "max recall                   0.133861     1         81\n",
       "max specificity              0.933797     1         0\n",
       "max absolute_mcc             0.359214     0.882484  41\n",
       "max min_per_class_accuracy   0.31806      0.918367  46\n",
       "max mean_per_class_accuracy  0.31806      0.932157  46"
      ]
     },
     "metadata": {},
     "output_type": "display_data"
    },
    {
     "name": "stdout",
     "output_type": "stream",
     "text": [
      "Gains/Lift Table: Avg response rate: 39.84 %\n",
      "\n"
     ]
    },
    {
     "data": {
      "text/html": [
       "<div style=\"overflow:auto\"><table style=\"width:50%\"><tr><td><b></b></td>\n",
       "<td><b>group</b></td>\n",
       "<td><b>cumulative_data_fraction</b></td>\n",
       "<td><b>lower_threshold</b></td>\n",
       "<td><b>lift</b></td>\n",
       "<td><b>cumulative_lift</b></td>\n",
       "<td><b>response_rate</b></td>\n",
       "<td><b>cumulative_response_rate</b></td>\n",
       "<td><b>capture_rate</b></td>\n",
       "<td><b>cumulative_capture_rate</b></td>\n",
       "<td><b>gain</b></td>\n",
       "<td><b>cumulative_gain</b></td></tr>\n",
       "<tr><td></td>\n",
       "<td>1</td>\n",
       "<td>0.0162602</td>\n",
       "<td>0.9333446</td>\n",
       "<td>2.5102041</td>\n",
       "<td>2.5102041</td>\n",
       "<td>1.0</td>\n",
       "<td>1.0</td>\n",
       "<td>0.0408163</td>\n",
       "<td>0.0408163</td>\n",
       "<td>151.0204082</td>\n",
       "<td>151.0204082</td></tr>\n",
       "<tr><td></td>\n",
       "<td>2</td>\n",
       "<td>0.0243902</td>\n",
       "<td>0.9328335</td>\n",
       "<td>2.5102041</td>\n",
       "<td>2.5102041</td>\n",
       "<td>1.0</td>\n",
       "<td>1.0</td>\n",
       "<td>0.0204082</td>\n",
       "<td>0.0612245</td>\n",
       "<td>151.0204082</td>\n",
       "<td>151.0204082</td></tr>\n",
       "<tr><td></td>\n",
       "<td>3</td>\n",
       "<td>0.0325203</td>\n",
       "<td>0.9326635</td>\n",
       "<td>2.5102041</td>\n",
       "<td>2.5102041</td>\n",
       "<td>1.0</td>\n",
       "<td>1.0</td>\n",
       "<td>0.0204082</td>\n",
       "<td>0.0816327</td>\n",
       "<td>151.0204082</td>\n",
       "<td>151.0204082</td></tr>\n",
       "<tr><td></td>\n",
       "<td>4</td>\n",
       "<td>0.0406504</td>\n",
       "<td>0.9324100</td>\n",
       "<td>2.5102041</td>\n",
       "<td>2.5102041</td>\n",
       "<td>1.0</td>\n",
       "<td>1.0</td>\n",
       "<td>0.0204082</td>\n",
       "<td>0.1020408</td>\n",
       "<td>151.0204082</td>\n",
       "<td>151.0204082</td></tr>\n",
       "<tr><td></td>\n",
       "<td>5</td>\n",
       "<td>0.0569106</td>\n",
       "<td>0.9321803</td>\n",
       "<td>2.5102041</td>\n",
       "<td>2.5102041</td>\n",
       "<td>1.0</td>\n",
       "<td>1.0</td>\n",
       "<td>0.0408163</td>\n",
       "<td>0.1428571</td>\n",
       "<td>151.0204082</td>\n",
       "<td>151.0204082</td></tr>\n",
       "<tr><td></td>\n",
       "<td>6</td>\n",
       "<td>0.1056911</td>\n",
       "<td>0.9301516</td>\n",
       "<td>2.5102041</td>\n",
       "<td>2.5102041</td>\n",
       "<td>1.0</td>\n",
       "<td>1.0</td>\n",
       "<td>0.1224490</td>\n",
       "<td>0.2653061</td>\n",
       "<td>151.0204082</td>\n",
       "<td>151.0204082</td></tr>\n",
       "<tr><td></td>\n",
       "<td>7</td>\n",
       "<td>0.1544715</td>\n",
       "<td>0.9246670</td>\n",
       "<td>2.5102041</td>\n",
       "<td>2.5102041</td>\n",
       "<td>1.0</td>\n",
       "<td>1.0</td>\n",
       "<td>0.1224490</td>\n",
       "<td>0.3877551</td>\n",
       "<td>151.0204082</td>\n",
       "<td>151.0204082</td></tr>\n",
       "<tr><td></td>\n",
       "<td>8</td>\n",
       "<td>0.2032520</td>\n",
       "<td>0.9146419</td>\n",
       "<td>2.5102041</td>\n",
       "<td>2.5102041</td>\n",
       "<td>1.0</td>\n",
       "<td>1.0</td>\n",
       "<td>0.1224490</td>\n",
       "<td>0.5102041</td>\n",
       "<td>151.0204082</td>\n",
       "<td>151.0204082</td></tr>\n",
       "<tr><td></td>\n",
       "<td>9</td>\n",
       "<td>0.3008130</td>\n",
       "<td>0.8874592</td>\n",
       "<td>2.5102041</td>\n",
       "<td>2.5102041</td>\n",
       "<td>1.0</td>\n",
       "<td>1.0</td>\n",
       "<td>0.2448980</td>\n",
       "<td>0.7551020</td>\n",
       "<td>151.0204082</td>\n",
       "<td>151.0204082</td></tr>\n",
       "<tr><td></td>\n",
       "<td>10</td>\n",
       "<td>0.3983740</td>\n",
       "<td>0.3169402</td>\n",
       "<td>1.6734694</td>\n",
       "<td>2.3052895</td>\n",
       "<td>0.6666667</td>\n",
       "<td>0.9183673</td>\n",
       "<td>0.1632653</td>\n",
       "<td>0.9183673</td>\n",
       "<td>67.3469388</td>\n",
       "<td>130.5289463</td></tr>\n",
       "<tr><td></td>\n",
       "<td>11</td>\n",
       "<td>0.5040650</td>\n",
       "<td>0.2283070</td>\n",
       "<td>0.3861852</td>\n",
       "<td>1.9028966</td>\n",
       "<td>0.1538462</td>\n",
       "<td>0.7580645</td>\n",
       "<td>0.0408163</td>\n",
       "<td>0.9591837</td>\n",
       "<td>-61.3814757</td>\n",
       "<td>90.2896643</td></tr>\n",
       "<tr><td></td>\n",
       "<td>12</td>\n",
       "<td>0.6016260</td>\n",
       "<td>0.1568027</td>\n",
       "<td>0.2091837</td>\n",
       "<td>1.6282405</td>\n",
       "<td>0.0833333</td>\n",
       "<td>0.6486486</td>\n",
       "<td>0.0204082</td>\n",
       "<td>0.9795918</td>\n",
       "<td>-79.0816327</td>\n",
       "<td>62.8240485</td></tr>\n",
       "<tr><td></td>\n",
       "<td>13</td>\n",
       "<td>0.6991870</td>\n",
       "<td>0.1296108</td>\n",
       "<td>0.2091837</td>\n",
       "<td>1.4302326</td>\n",
       "<td>0.0833333</td>\n",
       "<td>0.5697674</td>\n",
       "<td>0.0204082</td>\n",
       "<td>1.0</td>\n",
       "<td>-79.0816327</td>\n",
       "<td>43.0232558</td></tr>\n",
       "<tr><td></td>\n",
       "<td>14</td>\n",
       "<td>0.7967480</td>\n",
       "<td>0.1034678</td>\n",
       "<td>0.0</td>\n",
       "<td>1.2551020</td>\n",
       "<td>0.0</td>\n",
       "<td>0.5</td>\n",
       "<td>0.0</td>\n",
       "<td>1.0</td>\n",
       "<td>-100.0</td>\n",
       "<td>25.5102041</td></tr>\n",
       "<tr><td></td>\n",
       "<td>15</td>\n",
       "<td>0.9105691</td>\n",
       "<td>0.0869073</td>\n",
       "<td>0.0</td>\n",
       "<td>1.0982143</td>\n",
       "<td>0.0</td>\n",
       "<td>0.4375</td>\n",
       "<td>0.0</td>\n",
       "<td>1.0</td>\n",
       "<td>-100.0</td>\n",
       "<td>9.8214286</td></tr>\n",
       "<tr><td></td>\n",
       "<td>16</td>\n",
       "<td>1.0</td>\n",
       "<td>0.0655728</td>\n",
       "<td>0.0</td>\n",
       "<td>1.0</td>\n",
       "<td>0.0</td>\n",
       "<td>0.3983740</td>\n",
       "<td>0.0</td>\n",
       "<td>1.0</td>\n",
       "<td>-100.0</td>\n",
       "<td>0.0</td></tr></table></div>"
      ],
      "text/plain": [
       "    group    cumulative_data_fraction    lower_threshold    lift      cumulative_lift    response_rate    cumulative_response_rate    capture_rate    cumulative_capture_rate    gain      cumulative_gain\n",
       "--  -------  --------------------------  -----------------  --------  -----------------  ---------------  --------------------------  --------------  -------------------------  --------  -----------------\n",
       "    1        0.0162602                   0.933345           2.5102    2.5102             1                1                           0.0408163       0.0408163                  151.02    151.02\n",
       "    2        0.0243902                   0.932833           2.5102    2.5102             1                1                           0.0204082       0.0612245                  151.02    151.02\n",
       "    3        0.0325203                   0.932663           2.5102    2.5102             1                1                           0.0204082       0.0816327                  151.02    151.02\n",
       "    4        0.0406504                   0.93241            2.5102    2.5102             1                1                           0.0204082       0.102041                   151.02    151.02\n",
       "    5        0.0569106                   0.93218            2.5102    2.5102             1                1                           0.0408163       0.142857                   151.02    151.02\n",
       "    6        0.105691                    0.930152           2.5102    2.5102             1                1                           0.122449        0.265306                   151.02    151.02\n",
       "    7        0.154472                    0.924667           2.5102    2.5102             1                1                           0.122449        0.387755                   151.02    151.02\n",
       "    8        0.203252                    0.914642           2.5102    2.5102             1                1                           0.122449        0.510204                   151.02    151.02\n",
       "    9        0.300813                    0.887459           2.5102    2.5102             1                1                           0.244898        0.755102                   151.02    151.02\n",
       "    10       0.398374                    0.31694            1.67347   2.30529            0.666667         0.918367                    0.163265        0.918367                   67.3469   130.529\n",
       "    11       0.504065                    0.228307           0.386185  1.9029             0.153846         0.758065                    0.0408163       0.959184                   -61.3815  90.2897\n",
       "    12       0.601626                    0.156803           0.209184  1.62824            0.0833333        0.648649                    0.0204082       0.979592                   -79.0816  62.824\n",
       "    13       0.699187                    0.129611           0.209184  1.43023            0.0833333        0.569767                    0.0204082       1                          -79.0816  43.0233\n",
       "    14       0.796748                    0.103468           0         1.2551             0                0.5                         0               1                          -100      25.5102\n",
       "    15       0.910569                    0.0869073          0         1.09821            0                0.4375                      0               1                          -100      9.82143\n",
       "    16       1                           0.0655728          0         1                  0                0.398374                    0               1                          -100      0"
      ]
     },
     "metadata": {},
     "output_type": "display_data"
    },
    {
     "name": "stdout",
     "output_type": "stream",
     "text": [
      "\n",
      "Scoring History: \n"
     ]
    },
    {
     "data": {
      "text/html": [
       "<div style=\"overflow:auto\"><table style=\"width:50%\"><tr><td><b></b></td>\n",
       "<td><b>timestamp</b></td>\n",
       "<td><b>duration</b></td>\n",
       "<td><b>number_of_trees</b></td>\n",
       "<td><b>training_rmse</b></td>\n",
       "<td><b>training_logloss</b></td>\n",
       "<td><b>training_auc</b></td>\n",
       "<td><b>training_lift</b></td>\n",
       "<td><b>training_classification_error</b></td>\n",
       "<td><b>validation_rmse</b></td>\n",
       "<td><b>validation_logloss</b></td>\n",
       "<td><b>validation_auc</b></td>\n",
       "<td><b>validation_lift</b></td>\n",
       "<td><b>validation_classification_error</b></td></tr>\n",
       "<tr><td></td>\n",
       "<td>2017-11-21 22:39:53</td>\n",
       "<td> 0.003 sec</td>\n",
       "<td>0.0</td>\n",
       "<td>0.5</td>\n",
       "<td>0.6931472</td>\n",
       "<td>0.5</td>\n",
       "<td>1.0</td>\n",
       "<td>0.6284360</td>\n",
       "<td>0.5</td>\n",
       "<td>0.6931472</td>\n",
       "<td>0.5</td>\n",
       "<td>1.0</td>\n",
       "<td>0.6016260</td></tr>\n",
       "<tr><td></td>\n",
       "<td>2017-11-21 22:39:53</td>\n",
       "<td> 0.109 sec</td>\n",
       "<td>100.0</td>\n",
       "<td>0.2345853</td>\n",
       "<td>0.2181394</td>\n",
       "<td>0.9827970</td>\n",
       "<td>2.6913265</td>\n",
       "<td>0.0606635</td>\n",
       "<td>0.2413908</td>\n",
       "<td>0.2281859</td>\n",
       "<td>0.9771098</td>\n",
       "<td>2.5102041</td>\n",
       "<td>0.0569106</td></tr></table></div>"
      ],
      "text/plain": [
       "    timestamp            duration    number_of_trees    training_rmse    training_logloss    training_auc    training_lift    training_classification_error    validation_rmse    validation_logloss    validation_auc    validation_lift    validation_classification_error\n",
       "--  -------------------  ----------  -----------------  ---------------  ------------------  --------------  ---------------  -------------------------------  -----------------  --------------------  ----------------  -----------------  ---------------------------------\n",
       "    2017-11-21 22:39:53  0.003 sec   0                  0.5              0.693147            0.5             1                0.628436                         0.5                0.693147              0.5               1                  0.601626\n",
       "    2017-11-21 22:39:53  0.109 sec   100                0.234585         0.218139            0.982797        2.69133          0.0606635                        0.241391           0.228186              0.97711           2.5102             0.0569106"
      ]
     },
     "metadata": {},
     "output_type": "display_data"
    },
    {
     "name": "stdout",
     "output_type": "stream",
     "text": [
      "Variable Importances: \n"
     ]
    },
    {
     "data": {
      "text/html": [
       "<div style=\"overflow:auto\"><table style=\"width:50%\"><tr><td><b>variable</b></td>\n",
       "<td><b>relative_importance</b></td>\n",
       "<td><b>scaled_importance</b></td>\n",
       "<td><b>percentage</b></td></tr>\n",
       "<tr><td>fare</td>\n",
       "<td>653.0</td>\n",
       "<td>1.0</td>\n",
       "<td>0.3572210</td></tr>\n",
       "<tr><td>age</td>\n",
       "<td>440.0</td>\n",
       "<td>0.6738132</td>\n",
       "<td>0.2407002</td></tr>\n",
       "<tr><td>boat</td>\n",
       "<td>168.0</td>\n",
       "<td>0.2572741</td>\n",
       "<td>0.0919037</td></tr>\n",
       "<tr><td>sex</td>\n",
       "<td>151.0</td>\n",
       "<td>0.2312404</td>\n",
       "<td>0.0826039</td></tr>\n",
       "<tr><td>embarked</td>\n",
       "<td>103.0</td>\n",
       "<td>0.1577335</td>\n",
       "<td>0.0563457</td></tr>\n",
       "<tr><td>cabin</td>\n",
       "<td>99.0</td>\n",
       "<td>0.1516080</td>\n",
       "<td>0.0541575</td></tr>\n",
       "<tr><td>sibsp</td>\n",
       "<td>72.0</td>\n",
       "<td>0.1102603</td>\n",
       "<td>0.0393873</td></tr>\n",
       "<tr><td>pclass</td>\n",
       "<td>62.0</td>\n",
       "<td>0.0949464</td>\n",
       "<td>0.0339168</td></tr>\n",
       "<tr><td>parch</td>\n",
       "<td>49.0</td>\n",
       "<td>0.0750383</td>\n",
       "<td>0.0268053</td></tr>\n",
       "<tr><td>body</td>\n",
       "<td>31.0</td>\n",
       "<td>0.0474732</td>\n",
       "<td>0.0169584</td></tr></table></div>"
      ],
      "text/plain": [
       "variable    relative_importance    scaled_importance    percentage\n",
       "----------  ---------------------  -------------------  ------------\n",
       "fare        653                    1                    0.357221\n",
       "age         440                    0.673813             0.2407\n",
       "boat        168                    0.257274             0.0919037\n",
       "sex         151                    0.23124              0.0826039\n",
       "embarked    103                    0.157734             0.0563457\n",
       "cabin       99                     0.151608             0.0541575\n",
       "sibsp       72                     0.11026              0.0393873\n",
       "pclass      62                     0.0949464            0.0339168\n",
       "parch       49                     0.0750383            0.0268053\n",
       "body        31                     0.0474732            0.0169584"
      ]
     },
     "metadata": {},
     "output_type": "display_data"
    },
    {
     "data": {
      "text/plain": []
     },
     "execution_count": 40,
     "metadata": {},
     "output_type": "execute_result"
    }
   ],
   "source": [
    "titanic_xgb"
   ]
  },
  {
   "cell_type": "code",
   "execution_count": 41,
   "metadata": {
    "collapsed": true
   },
   "outputs": [],
   "source": [
    "###: XGBoost model performance on validation data"
   ]
  },
  {
   "cell_type": "code",
   "execution_count": 42,
   "metadata": {},
   "outputs": [
    {
     "name": "stdout",
     "output_type": "stream",
     "text": [
      "\n",
      "ModelMetricsBinomial: xgboost\n",
      "** Reported on validation data. **\n",
      "\n",
      "MSE: 0.058269534452\n",
      "RMSE: 0.241390833405\n",
      "LogLoss: 0.228185908405\n",
      "Mean Per-Class Error: 0.0678433535576\n",
      "AUC: 0.977109762824\n",
      "Gini: 0.954219525648\n",
      "Confusion Matrix (Act/Pred) for max f1 @ threshold = 0.35921356082: \n"
     ]
    },
    {
     "data": {
      "text/html": [
       "<div style=\"overflow:auto\"><table style=\"width:50%\"><tr><td><b></b></td>\n",
       "<td><b>0</b></td>\n",
       "<td><b>1</b></td>\n",
       "<td><b>Error</b></td>\n",
       "<td><b>Rate</b></td></tr>\n",
       "<tr><td>0</td>\n",
       "<td>73.0</td>\n",
       "<td>1.0</td>\n",
       "<td>0.0135</td>\n",
       "<td> (1.0/74.0)</td></tr>\n",
       "<tr><td>1</td>\n",
       "<td>6.0</td>\n",
       "<td>43.0</td>\n",
       "<td>0.1224</td>\n",
       "<td> (6.0/49.0)</td></tr>\n",
       "<tr><td>Total</td>\n",
       "<td>79.0</td>\n",
       "<td>44.0</td>\n",
       "<td>0.0569</td>\n",
       "<td> (7.0/123.0)</td></tr></table></div>"
      ],
      "text/plain": [
       "       0    1    Error    Rate\n",
       "-----  ---  ---  -------  -----------\n",
       "0      73   1    0.0135   (1.0/74.0)\n",
       "1      6    43   0.1224   (6.0/49.0)\n",
       "Total  79   44   0.0569   (7.0/123.0)"
      ]
     },
     "metadata": {},
     "output_type": "display_data"
    },
    {
     "name": "stdout",
     "output_type": "stream",
     "text": [
      "Maximum Metrics: Maximum metrics at their respective thresholds\n",
      "\n"
     ]
    },
    {
     "data": {
      "text/html": [
       "<div style=\"overflow:auto\"><table style=\"width:50%\"><tr><td><b>metric</b></td>\n",
       "<td><b>threshold</b></td>\n",
       "<td><b>value</b></td>\n",
       "<td><b>idx</b></td></tr>\n",
       "<tr><td>max f1</td>\n",
       "<td>0.3592136</td>\n",
       "<td>0.9247312</td>\n",
       "<td>41.0</td></tr>\n",
       "<tr><td>max f2</td>\n",
       "<td>0.2771192</td>\n",
       "<td>0.9288538</td>\n",
       "<td>54.0</td></tr>\n",
       "<tr><td>max f0point5</td>\n",
       "<td>0.5732223</td>\n",
       "<td>0.9569378</td>\n",
       "<td>37.0</td></tr>\n",
       "<tr><td>max accuracy</td>\n",
       "<td>0.3592136</td>\n",
       "<td>0.9430894</td>\n",
       "<td>41.0</td></tr>\n",
       "<tr><td>max precision</td>\n",
       "<td>0.9337968</td>\n",
       "<td>1.0</td>\n",
       "<td>0.0</td></tr>\n",
       "<tr><td>max recall</td>\n",
       "<td>0.1338609</td>\n",
       "<td>1.0</td>\n",
       "<td>81.0</td></tr>\n",
       "<tr><td>max specificity</td>\n",
       "<td>0.9337968</td>\n",
       "<td>1.0</td>\n",
       "<td>0.0</td></tr>\n",
       "<tr><td>max absolute_mcc</td>\n",
       "<td>0.3592136</td>\n",
       "<td>0.8824835</td>\n",
       "<td>41.0</td></tr>\n",
       "<tr><td>max min_per_class_accuracy</td>\n",
       "<td>0.3180600</td>\n",
       "<td>0.9183673</td>\n",
       "<td>46.0</td></tr>\n",
       "<tr><td>max mean_per_class_accuracy</td>\n",
       "<td>0.3180600</td>\n",
       "<td>0.9321566</td>\n",
       "<td>46.0</td></tr></table></div>"
      ],
      "text/plain": [
       "metric                       threshold    value     idx\n",
       "---------------------------  -----------  --------  -----\n",
       "max f1                       0.359214     0.924731  41\n",
       "max f2                       0.277119     0.928854  54\n",
       "max f0point5                 0.573222     0.956938  37\n",
       "max accuracy                 0.359214     0.943089  41\n",
       "max precision                0.933797     1         0\n",
       "max recall                   0.133861     1         81\n",
       "max specificity              0.933797     1         0\n",
       "max absolute_mcc             0.359214     0.882484  41\n",
       "max min_per_class_accuracy   0.31806      0.918367  46\n",
       "max mean_per_class_accuracy  0.31806      0.932157  46"
      ]
     },
     "metadata": {},
     "output_type": "display_data"
    },
    {
     "name": "stdout",
     "output_type": "stream",
     "text": [
      "Gains/Lift Table: Avg response rate: 39.84 %\n",
      "\n"
     ]
    },
    {
     "data": {
      "text/html": [
       "<div style=\"overflow:auto\"><table style=\"width:50%\"><tr><td><b></b></td>\n",
       "<td><b>group</b></td>\n",
       "<td><b>cumulative_data_fraction</b></td>\n",
       "<td><b>lower_threshold</b></td>\n",
       "<td><b>lift</b></td>\n",
       "<td><b>cumulative_lift</b></td>\n",
       "<td><b>response_rate</b></td>\n",
       "<td><b>cumulative_response_rate</b></td>\n",
       "<td><b>capture_rate</b></td>\n",
       "<td><b>cumulative_capture_rate</b></td>\n",
       "<td><b>gain</b></td>\n",
       "<td><b>cumulative_gain</b></td></tr>\n",
       "<tr><td></td>\n",
       "<td>1</td>\n",
       "<td>0.0162602</td>\n",
       "<td>0.9333446</td>\n",
       "<td>2.5102041</td>\n",
       "<td>2.5102041</td>\n",
       "<td>1.0</td>\n",
       "<td>1.0</td>\n",
       "<td>0.0408163</td>\n",
       "<td>0.0408163</td>\n",
       "<td>151.0204082</td>\n",
       "<td>151.0204082</td></tr>\n",
       "<tr><td></td>\n",
       "<td>2</td>\n",
       "<td>0.0243902</td>\n",
       "<td>0.9328335</td>\n",
       "<td>2.5102041</td>\n",
       "<td>2.5102041</td>\n",
       "<td>1.0</td>\n",
       "<td>1.0</td>\n",
       "<td>0.0204082</td>\n",
       "<td>0.0612245</td>\n",
       "<td>151.0204082</td>\n",
       "<td>151.0204082</td></tr>\n",
       "<tr><td></td>\n",
       "<td>3</td>\n",
       "<td>0.0325203</td>\n",
       "<td>0.9326635</td>\n",
       "<td>2.5102041</td>\n",
       "<td>2.5102041</td>\n",
       "<td>1.0</td>\n",
       "<td>1.0</td>\n",
       "<td>0.0204082</td>\n",
       "<td>0.0816327</td>\n",
       "<td>151.0204082</td>\n",
       "<td>151.0204082</td></tr>\n",
       "<tr><td></td>\n",
       "<td>4</td>\n",
       "<td>0.0406504</td>\n",
       "<td>0.9324100</td>\n",
       "<td>2.5102041</td>\n",
       "<td>2.5102041</td>\n",
       "<td>1.0</td>\n",
       "<td>1.0</td>\n",
       "<td>0.0204082</td>\n",
       "<td>0.1020408</td>\n",
       "<td>151.0204082</td>\n",
       "<td>151.0204082</td></tr>\n",
       "<tr><td></td>\n",
       "<td>5</td>\n",
       "<td>0.0569106</td>\n",
       "<td>0.9321803</td>\n",
       "<td>2.5102041</td>\n",
       "<td>2.5102041</td>\n",
       "<td>1.0</td>\n",
       "<td>1.0</td>\n",
       "<td>0.0408163</td>\n",
       "<td>0.1428571</td>\n",
       "<td>151.0204082</td>\n",
       "<td>151.0204082</td></tr>\n",
       "<tr><td></td>\n",
       "<td>6</td>\n",
       "<td>0.1056911</td>\n",
       "<td>0.9301516</td>\n",
       "<td>2.5102041</td>\n",
       "<td>2.5102041</td>\n",
       "<td>1.0</td>\n",
       "<td>1.0</td>\n",
       "<td>0.1224490</td>\n",
       "<td>0.2653061</td>\n",
       "<td>151.0204082</td>\n",
       "<td>151.0204082</td></tr>\n",
       "<tr><td></td>\n",
       "<td>7</td>\n",
       "<td>0.1544715</td>\n",
       "<td>0.9246670</td>\n",
       "<td>2.5102041</td>\n",
       "<td>2.5102041</td>\n",
       "<td>1.0</td>\n",
       "<td>1.0</td>\n",
       "<td>0.1224490</td>\n",
       "<td>0.3877551</td>\n",
       "<td>151.0204082</td>\n",
       "<td>151.0204082</td></tr>\n",
       "<tr><td></td>\n",
       "<td>8</td>\n",
       "<td>0.2032520</td>\n",
       "<td>0.9146419</td>\n",
       "<td>2.5102041</td>\n",
       "<td>2.5102041</td>\n",
       "<td>1.0</td>\n",
       "<td>1.0</td>\n",
       "<td>0.1224490</td>\n",
       "<td>0.5102041</td>\n",
       "<td>151.0204082</td>\n",
       "<td>151.0204082</td></tr>\n",
       "<tr><td></td>\n",
       "<td>9</td>\n",
       "<td>0.3008130</td>\n",
       "<td>0.8874592</td>\n",
       "<td>2.5102041</td>\n",
       "<td>2.5102041</td>\n",
       "<td>1.0</td>\n",
       "<td>1.0</td>\n",
       "<td>0.2448980</td>\n",
       "<td>0.7551020</td>\n",
       "<td>151.0204082</td>\n",
       "<td>151.0204082</td></tr>\n",
       "<tr><td></td>\n",
       "<td>10</td>\n",
       "<td>0.3983740</td>\n",
       "<td>0.3169402</td>\n",
       "<td>1.6734694</td>\n",
       "<td>2.3052895</td>\n",
       "<td>0.6666667</td>\n",
       "<td>0.9183673</td>\n",
       "<td>0.1632653</td>\n",
       "<td>0.9183673</td>\n",
       "<td>67.3469388</td>\n",
       "<td>130.5289463</td></tr>\n",
       "<tr><td></td>\n",
       "<td>11</td>\n",
       "<td>0.5040650</td>\n",
       "<td>0.2283070</td>\n",
       "<td>0.3861852</td>\n",
       "<td>1.9028966</td>\n",
       "<td>0.1538462</td>\n",
       "<td>0.7580645</td>\n",
       "<td>0.0408163</td>\n",
       "<td>0.9591837</td>\n",
       "<td>-61.3814757</td>\n",
       "<td>90.2896643</td></tr>\n",
       "<tr><td></td>\n",
       "<td>12</td>\n",
       "<td>0.6016260</td>\n",
       "<td>0.1568027</td>\n",
       "<td>0.2091837</td>\n",
       "<td>1.6282405</td>\n",
       "<td>0.0833333</td>\n",
       "<td>0.6486486</td>\n",
       "<td>0.0204082</td>\n",
       "<td>0.9795918</td>\n",
       "<td>-79.0816327</td>\n",
       "<td>62.8240485</td></tr>\n",
       "<tr><td></td>\n",
       "<td>13</td>\n",
       "<td>0.6991870</td>\n",
       "<td>0.1296108</td>\n",
       "<td>0.2091837</td>\n",
       "<td>1.4302326</td>\n",
       "<td>0.0833333</td>\n",
       "<td>0.5697674</td>\n",
       "<td>0.0204082</td>\n",
       "<td>1.0</td>\n",
       "<td>-79.0816327</td>\n",
       "<td>43.0232558</td></tr>\n",
       "<tr><td></td>\n",
       "<td>14</td>\n",
       "<td>0.7967480</td>\n",
       "<td>0.1034678</td>\n",
       "<td>0.0</td>\n",
       "<td>1.2551020</td>\n",
       "<td>0.0</td>\n",
       "<td>0.5</td>\n",
       "<td>0.0</td>\n",
       "<td>1.0</td>\n",
       "<td>-100.0</td>\n",
       "<td>25.5102041</td></tr>\n",
       "<tr><td></td>\n",
       "<td>15</td>\n",
       "<td>0.9105691</td>\n",
       "<td>0.0869073</td>\n",
       "<td>0.0</td>\n",
       "<td>1.0982143</td>\n",
       "<td>0.0</td>\n",
       "<td>0.4375</td>\n",
       "<td>0.0</td>\n",
       "<td>1.0</td>\n",
       "<td>-100.0</td>\n",
       "<td>9.8214286</td></tr>\n",
       "<tr><td></td>\n",
       "<td>16</td>\n",
       "<td>1.0</td>\n",
       "<td>0.0655728</td>\n",
       "<td>0.0</td>\n",
       "<td>1.0</td>\n",
       "<td>0.0</td>\n",
       "<td>0.3983740</td>\n",
       "<td>0.0</td>\n",
       "<td>1.0</td>\n",
       "<td>-100.0</td>\n",
       "<td>0.0</td></tr></table></div>"
      ],
      "text/plain": [
       "    group    cumulative_data_fraction    lower_threshold    lift      cumulative_lift    response_rate    cumulative_response_rate    capture_rate    cumulative_capture_rate    gain      cumulative_gain\n",
       "--  -------  --------------------------  -----------------  --------  -----------------  ---------------  --------------------------  --------------  -------------------------  --------  -----------------\n",
       "    1        0.0162602                   0.933345           2.5102    2.5102             1                1                           0.0408163       0.0408163                  151.02    151.02\n",
       "    2        0.0243902                   0.932833           2.5102    2.5102             1                1                           0.0204082       0.0612245                  151.02    151.02\n",
       "    3        0.0325203                   0.932663           2.5102    2.5102             1                1                           0.0204082       0.0816327                  151.02    151.02\n",
       "    4        0.0406504                   0.93241            2.5102    2.5102             1                1                           0.0204082       0.102041                   151.02    151.02\n",
       "    5        0.0569106                   0.93218            2.5102    2.5102             1                1                           0.0408163       0.142857                   151.02    151.02\n",
       "    6        0.105691                    0.930152           2.5102    2.5102             1                1                           0.122449        0.265306                   151.02    151.02\n",
       "    7        0.154472                    0.924667           2.5102    2.5102             1                1                           0.122449        0.387755                   151.02    151.02\n",
       "    8        0.203252                    0.914642           2.5102    2.5102             1                1                           0.122449        0.510204                   151.02    151.02\n",
       "    9        0.300813                    0.887459           2.5102    2.5102             1                1                           0.244898        0.755102                   151.02    151.02\n",
       "    10       0.398374                    0.31694            1.67347   2.30529            0.666667         0.918367                    0.163265        0.918367                   67.3469   130.529\n",
       "    11       0.504065                    0.228307           0.386185  1.9029             0.153846         0.758065                    0.0408163       0.959184                   -61.3815  90.2897\n",
       "    12       0.601626                    0.156803           0.209184  1.62824            0.0833333        0.648649                    0.0204082       0.979592                   -79.0816  62.824\n",
       "    13       0.699187                    0.129611           0.209184  1.43023            0.0833333        0.569767                    0.0204082       1                          -79.0816  43.0233\n",
       "    14       0.796748                    0.103468           0         1.2551             0                0.5                         0               1                          -100      25.5102\n",
       "    15       0.910569                    0.0869073          0         1.09821            0                0.4375                      0               1                          -100      9.82143\n",
       "    16       1                           0.0655728          0         1                  0                0.398374                    0               1                          -100      0"
      ]
     },
     "metadata": {},
     "output_type": "display_data"
    },
    {
     "name": "stdout",
     "output_type": "stream",
     "text": [
      "\n"
     ]
    },
    {
     "data": {
      "text/plain": []
     },
     "execution_count": 42,
     "metadata": {},
     "output_type": "execute_result"
    }
   ],
   "source": [
    "titanic_xgb.model_performance(valid=True)"
   ]
  },
  {
   "cell_type": "code",
   "execution_count": 43,
   "metadata": {},
   "outputs": [
    {
     "data": {
      "text/plain": [
       "0.9771097628240486"
      ]
     },
     "execution_count": 43,
     "metadata": {},
     "output_type": "execute_result"
    }
   ],
   "source": [
    "titanic_xgb.model_performance(valid=True).auc()"
   ]
  },
  {
   "cell_type": "code",
   "execution_count": 44,
   "metadata": {
    "collapsed": true
   },
   "outputs": [],
   "source": [
    "###: Plotting XGBoost  Model for its AUC metric "
   ]
  },
  {
   "cell_type": "code",
   "execution_count": 45,
   "metadata": {},
   "outputs": [
    {
     "data": {
      "image/png": "[encoded data removed]",
      "text/plain": [
       "<matplotlib.figure.Figure at 0x10ee2da90>"
      ]
     },
     "metadata": {},
     "output_type": "display_data"
    }
   ],
   "source": [
    "titanic_xgb.plot(metric='auc')"
   ]
  },
  {
   "cell_type": "code",
   "execution_count": 46,
   "metadata": {
    "collapsed": true
   },
   "outputs": [],
   "source": [
    "###: Generating Variable Importance Plot for the XGBoost Model"
   ]
  },
  {
   "cell_type": "code",
   "execution_count": 47,
   "metadata": {},
   "outputs": [
    {
     "data": {
      "image/png": "[encoded data removed]",
      "text/plain": [
       "<matplotlib.figure.Figure at 0x10ef0c110>"
      ]
     },
     "metadata": {},
     "output_type": "display_data"
    }
   ],
   "source": [
    "titanic_xgb.varimp_plot()"
   ]
  },
  {
   "cell_type": "code",
   "execution_count": 48,
   "metadata": {
    "collapsed": true
   },
   "outputs": [],
   "source": [
    "###:  H2O XGBoost Scoring History"
   ]
  },
  {
   "cell_type": "code",
   "execution_count": 49,
   "metadata": {},
   "outputs": [
    {
     "data": {
      "text/html": [
       "<div>\n",
       "<style>\n",
       "    .dataframe thead tr:only-child th {\n",
       "        text-align: right;\n",
       "    }\n",
       "\n",
       "    .dataframe thead th {\n",
       "        text-align: left;\n",
       "    }\n",
       "\n",
       "    .dataframe tbody tr th {\n",
       "        vertical-align: top;\n",
       "    }\n",
       "</style>\n",
       "<table border=\"1\" class=\"dataframe\">\n",
       "  <thead>\n",
       "    <tr style=\"text-align: right;\">\n",
       "      <th></th>\n",
       "      <th></th>\n",
       "      <th>timestamp</th>\n",
       "      <th>duration</th>\n",
       "      <th>number_of_trees</th>\n",
       "      <th>training_rmse</th>\n",
       "      <th>training_logloss</th>\n",
       "      <th>training_auc</th>\n",
       "      <th>training_lift</th>\n",
       "      <th>training_classification_error</th>\n",
       "      <th>validation_rmse</th>\n",
       "      <th>validation_logloss</th>\n",
       "      <th>validation_auc</th>\n",
       "      <th>validation_lift</th>\n",
       "      <th>validation_classification_error</th>\n",
       "    </tr>\n",
       "  </thead>\n",
       "  <tbody>\n",
       "    <tr>\n",
       "      <th>0</th>\n",
       "      <td></td>\n",
       "      <td>2017-11-21 22:39:53</td>\n",
       "      <td>0.003 sec</td>\n",
       "      <td>0.0</td>\n",
       "      <td>0.500000</td>\n",
       "      <td>0.693147</td>\n",
       "      <td>0.500000</td>\n",
       "      <td>1.000000</td>\n",
       "      <td>0.628436</td>\n",
       "      <td>0.500000</td>\n",
       "      <td>0.693147</td>\n",
       "      <td>0.50000</td>\n",
       "      <td>1.000000</td>\n",
       "      <td>0.601626</td>\n",
       "    </tr>\n",
       "    <tr>\n",
       "      <th>1</th>\n",
       "      <td></td>\n",
       "      <td>2017-11-21 22:39:53</td>\n",
       "      <td>0.109 sec</td>\n",
       "      <td>100.0</td>\n",
       "      <td>0.234585</td>\n",
       "      <td>0.218139</td>\n",
       "      <td>0.982797</td>\n",
       "      <td>2.691327</td>\n",
       "      <td>0.060664</td>\n",
       "      <td>0.241391</td>\n",
       "      <td>0.228186</td>\n",
       "      <td>0.97711</td>\n",
       "      <td>2.510204</td>\n",
       "      <td>0.056911</td>\n",
       "    </tr>\n",
       "  </tbody>\n",
       "</table>\n",
       "</div>"
      ],
      "text/plain": [
       "               timestamp    duration  number_of_trees  training_rmse  \\\n",
       "0    2017-11-21 22:39:53   0.003 sec              0.0       0.500000   \n",
       "1    2017-11-21 22:39:53   0.109 sec            100.0       0.234585   \n",
       "\n",
       "   training_logloss  training_auc  training_lift  \\\n",
       "0          0.693147      0.500000       1.000000   \n",
       "1          0.218139      0.982797       2.691327   \n",
       "\n",
       "   training_classification_error  validation_rmse  validation_logloss  \\\n",
       "0                       0.628436         0.500000            0.693147   \n",
       "1                       0.060664         0.241391            0.228186   \n",
       "\n",
       "   validation_auc  validation_lift  validation_classification_error  \n",
       "0         0.50000         1.000000                         0.601626  \n",
       "1         0.97711         2.510204                         0.056911  "
      ]
     },
     "execution_count": 49,
     "metadata": {},
     "output_type": "execute_result"
    }
   ],
   "source": [
    "titanic_xgb.score_history()"
   ]
  },
  {
   "cell_type": "code",
   "execution_count": 50,
   "metadata": {
    "collapsed": true
   },
   "outputs": [],
   "source": [
    "### PERFORMING PREDICTIONS USING a TEST DATA SET with Auto ML Leader model"
   ]
  },
  {
   "cell_type": "code",
   "execution_count": 51,
   "metadata": {},
   "outputs": [
    {
     "name": "stdout",
     "output_type": "stream",
     "text": [
      "xgboost prediction progress: |████████████████████████████████████████████| 100%\n"
     ]
    },
    {
     "data": {
      "text/html": [
       "<table>\n",
       "<thead>\n",
       "<tr><th>C1  </th><th style=\"text-align: right;\">       C2</th><th style=\"text-align: right;\">      C3</th></tr>\n",
       "</thead>\n",
       "<tbody>\n",
       "<tr><td>Y   </td><td style=\"text-align: right;\">0.0651911</td><td style=\"text-align: right;\">0.934809</td></tr>\n",
       "<tr><td>Y   </td><td style=\"text-align: right;\">0.0682997</td><td style=\"text-align: right;\">0.9317  </td></tr>\n",
       "<tr><td>Y   </td><td style=\"text-align: right;\">0.0805899</td><td style=\"text-align: right;\">0.91941 </td></tr>\n",
       "<tr><td>Y   </td><td style=\"text-align: right;\">0.0694779</td><td style=\"text-align: right;\">0.930522</td></tr>\n",
       "<tr><td>Y   </td><td style=\"text-align: right;\">0.0682817</td><td style=\"text-align: right;\">0.931718</td></tr>\n",
       "<tr><td>N   </td><td style=\"text-align: right;\">0.801989 </td><td style=\"text-align: right;\">0.198011</td></tr>\n",
       "<tr><td>Y   </td><td style=\"text-align: right;\">0.0692173</td><td style=\"text-align: right;\">0.930783</td></tr>\n",
       "<tr><td>Y   </td><td style=\"text-align: right;\">0.0686461</td><td style=\"text-align: right;\">0.931354</td></tr>\n",
       "<tr><td>Y   </td><td style=\"text-align: right;\">0.0691801</td><td style=\"text-align: right;\">0.93082 </td></tr>\n",
       "<tr><td>Y   </td><td style=\"text-align: right;\">0.0677248</td><td style=\"text-align: right;\">0.932275</td></tr>\n",
       "</tbody>\n",
       "</table>"
      ]
     },
     "metadata": {},
     "output_type": "display_data"
    },
    {
     "data": {
      "text/plain": []
     },
     "execution_count": 51,
     "metadata": {},
     "output_type": "execute_result"
    }
   ],
   "source": [
    "titanic_xgb.predict(test)"
   ]
  },
  {
   "cell_type": "code",
   "execution_count": 52,
   "metadata": {
    "collapsed": true
   },
   "outputs": [],
   "source": [
    "###: Getting AUC metrics from the test data using XGBoost Leader Model"
   ]
  },
  {
   "cell_type": "code",
   "execution_count": 53,
   "metadata": {},
   "outputs": [
    {
     "data": {
      "text/plain": [
       "0.9646892655367232"
      ]
     },
     "execution_count": 53,
     "metadata": {},
     "output_type": "execute_result"
    }
   ],
   "source": [
    "titanic_xgb.model_performance(test_data=test).auc()"
   ]
  },
  {
   "cell_type": "code",
   "execution_count": null,
   "metadata": {
    "collapsed": true
   },
   "outputs": [],
   "source": []
  }
 ],
 "metadata": {
  "kernelspec": {
   "display_name": "Python 2",
   "language": "python",
   "name": "python2"
  },
  "language_info": {
   "codemirror_mode": {
    "name": "ipython",
    "version": 2
   },
   "file_extension": ".py",
   "mimetype": "text/x-python",
   "name": "python",
   "nbconvert_exporter": "python",
   "pygments_lexer": "ipython2",
   "version": "2.7.13"
  }
 },
 "nbformat": 4,
 "nbformat_minor": 2
}
