{
 "cells": [
  {
   "cell_type": "code",
   "execution_count": 1,
   "metadata": {
    "collapsed": true
   },
   "outputs": [],
   "source": [
    "#: Loading H2O Library"
   ]
  },
  {
   "cell_type": "code",
   "execution_count": 2,
   "metadata": {
    "collapsed": true
   },
   "outputs": [],
   "source": [
    "import h2o"
   ]
  },
  {
   "cell_type": "code",
   "execution_count": 3,
   "metadata": {
    "collapsed": true
   },
   "outputs": [],
   "source": [
    "#: Get H2O Version"
   ]
  },
  {
   "cell_type": "code",
   "execution_count": 4,
   "metadata": {},
   "outputs": [
    {
     "data": {
      "text/plain": [
       "u'3.14.0.7'"
      ]
     },
     "execution_count": 4,
     "metadata": {},
     "output_type": "execute_result"
    }
   ],
   "source": [
    "h2o.__version__"
   ]
  },
  {
   "cell_type": "code",
   "execution_count": 5,
   "metadata": {
    "collapsed": true
   },
   "outputs": [],
   "source": [
    "#: Initalizing H2O cluster"
   ]
  },
  {
   "cell_type": "code",
   "execution_count": 6,
   "metadata": {},
   "outputs": [
    {
     "name": "stderr",
     "output_type": "stream",
     "text": [
      "ERROR:h2o:Key init.version_check is not a valid config key\n"
     ]
    },
    {
     "name": "stdout",
     "output_type": "stream",
     "text": [
      "Checking whether there is an H2O instance running at http://localhost:54321. connected.\n"
     ]
    },
    {
     "data": {
      "text/html": [
       "<div style=\"overflow:auto\"><table style=\"width:50%\"><tr><td>H2O cluster uptime:</td>\n",
       "<td>8 hours 11 mins</td></tr>\n",
       "<tr><td>H2O cluster version:</td>\n",
       "<td>3.14.0.7</td></tr>\n",
       "<tr><td>H2O cluster version age:</td>\n",
       "<td>24 days </td></tr>\n",
       "<tr><td>H2O cluster name:</td>\n",
       "<td>H2O_from_python_avkashchauhan_1ocjkz</td></tr>\n",
       "<tr><td>H2O cluster total nodes:</td>\n",
       "<td>1</td></tr>\n",
       "<tr><td>H2O cluster free memory:</td>\n",
       "<td>3.275 Gb</td></tr>\n",
       "<tr><td>H2O cluster total cores:</td>\n",
       "<td>8</td></tr>\n",
       "<tr><td>H2O cluster allowed cores:</td>\n",
       "<td>8</td></tr>\n",
       "<tr><td>H2O cluster status:</td>\n",
       "<td>locked, healthy</td></tr>\n",
       "<tr><td>H2O connection url:</td>\n",
       "<td>http://localhost:54321</td></tr>\n",
       "<tr><td>H2O connection proxy:</td>\n",
       "<td>None</td></tr>\n",
       "<tr><td>H2O internal security:</td>\n",
       "<td>False</td></tr>\n",
       "<tr><td>H2O API Extensions:</td>\n",
       "<td>XGBoost, Algos, AutoML, Core V3, Core V4</td></tr>\n",
       "<tr><td>Python version:</td>\n",
       "<td>2.7.13 final</td></tr></table></div>"
      ],
      "text/plain": [
       "--------------------------  ----------------------------------------\n",
       "H2O cluster uptime:         8 hours 11 mins\n",
       "H2O cluster version:        3.14.0.7\n",
       "H2O cluster version age:    24 days\n",
       "H2O cluster name:           H2O_from_python_avkashchauhan_1ocjkz\n",
       "H2O cluster total nodes:    1\n",
       "H2O cluster free memory:    3.275 Gb\n",
       "H2O cluster total cores:    8\n",
       "H2O cluster allowed cores:  8\n",
       "H2O cluster status:         locked, healthy\n",
       "H2O connection url:         http://localhost:54321\n",
       "H2O connection proxy:\n",
       "H2O internal security:      False\n",
       "H2O API Extensions:         XGBoost, Algos, AutoML, Core V3, Core V4\n",
       "Python version:             2.7.13 final\n",
       "--------------------------  ----------------------------------------"
      ]
     },
     "metadata": {},
     "output_type": "display_data"
    }
   ],
   "source": [
    "h2o.init()"
   ]
  },
  {
   "cell_type": "code",
   "execution_count": 7,
   "metadata": {
    "collapsed": true
   },
   "outputs": [],
   "source": [
    "#: Importing both training and test dataset into H2O cluster memory"
   ]
  },
  {
   "cell_type": "code",
   "execution_count": 8,
   "metadata": {},
   "outputs": [
    {
     "name": "stdout",
     "output_type": "stream",
     "text": [
      "Parse progress: |█████████████████████████████████████████████████████████| 100%\n",
      "Parse progress: |█████████████████████████████████████████████████████████| 100%\n"
     ]
    }
   ],
   "source": [
    "#train_df = h2o.import_file(\"/Users/avkashchauhan/examples/regression/house_price_train.csv\")\n",
    "#test_df = h2o.import_file(\"/Users/avkashchauhan/examples/regression/house_price_test.csv\")\n",
    "\n",
    "train_df = h2o.import_file(\"https://raw.githubusercontent.com/Avkash/mldl/master/data/house_price_train.csv\")\n",
    "test_df = h2o.import_file(\"https://raw.githubusercontent.com/Avkash/mldl/master/data/house_price_test.csv\")"
   ]
  },
  {
   "cell_type": "code",
   "execution_count": 9,
   "metadata": {
    "collapsed": true
   },
   "outputs": [],
   "source": [
    "#: Understanding Training dataset"
   ]
  },
  {
   "cell_type": "code",
   "execution_count": 10,
   "metadata": {},
   "outputs": [
    {
     "name": "stdout",
     "output_type": "stream",
     "text": [
      "Rows:407\n",
      "Cols:14\n",
      "\n",
      "\n"
     ]
    },
    {
     "data": {
      "text/html": [
       "<table>\n",
       "<thead>\n",
       "<tr><th>       </th><th>crim         </th><th>zn           </th><th>indus        </th><th>chas           </th><th>nox           </th><th>rm            </th><th>age          </th><th>dis          </th><th>rad          </th><th>tax          </th><th>ptratio      </th><th>b            </th><th>lstat        </th><th>medv         </th></tr>\n",
       "</thead>\n",
       "<tbody>\n",
       "<tr><td>type   </td><td>real         </td><td>real         </td><td>real         </td><td>int            </td><td>real          </td><td>real          </td><td>real         </td><td>real         </td><td>int          </td><td>int          </td><td>real         </td><td>real         </td><td>real         </td><td>real         </td></tr>\n",
       "<tr><td>mins   </td><td>0.00906      </td><td>0.0          </td><td>0.46         </td><td>0.0            </td><td>0.385         </td><td>3.863         </td><td>2.9          </td><td>1.1296       </td><td>1.0          </td><td>188.0        </td><td>12.6         </td><td>0.32         </td><td>1.73         </td><td>5.0          </td></tr>\n",
       "<tr><td>mean   </td><td>3.56736771499</td><td>10.5872235872</td><td>11.4092628993</td><td>0.0687960687961</td><td>0.556763882064</td><td>6.28658230958 </td><td>69.3889434889</td><td>3.71767051597</td><td>9.83783783784</td><td>412.378378378</td><td>18.4474201474</td><td>354.403218673</td><td>12.792039312 </td><td>22.6248157248</td></tr>\n",
       "<tr><td>maxs   </td><td>73.5341      </td><td>100.0        </td><td>27.74        </td><td>1.0            </td><td>0.871         </td><td>8.725         </td><td>100.0        </td><td>10.7103      </td><td>24.0         </td><td>711.0        </td><td>22.0         </td><td>396.9        </td><td>37.97        </td><td>50.0         </td></tr>\n",
       "<tr><td>sigma  </td><td>7.94798961655</td><td>22.2597824603</td><td>6.8144822924 </td><td>0.253418548596 </td><td>0.115557348898</td><td>0.690897322921</td><td>27.8179045475</td><td>2.01524090631</td><td>8.78440418525</td><td>170.44740987 </td><td>2.16176742548</td><td>94.175205015 </td><td>7.09869539936</td><td>9.18501930903</td></tr>\n",
       "<tr><td>zeros  </td><td>0            </td><td>301          </td><td>0            </td><td>379            </td><td>0             </td><td>0             </td><td>0            </td><td>0            </td><td>0            </td><td>0            </td><td>0            </td><td>0            </td><td>0            </td><td>0            </td></tr>\n",
       "<tr><td>missing</td><td>0            </td><td>0            </td><td>0            </td><td>0              </td><td>0             </td><td>0             </td><td>0            </td><td>0            </td><td>0            </td><td>0            </td><td>0            </td><td>0            </td><td>0            </td><td>0            </td></tr>\n",
       "<tr><td>0      </td><td>0.02731      </td><td>0.0          </td><td>7.07         </td><td>0.0            </td><td>0.469         </td><td>6.421         </td><td>78.9         </td><td>4.9671       </td><td>2.0          </td><td>242.0        </td><td>17.8         </td><td>396.9        </td><td>9.14         </td><td>21.6         </td></tr>\n",
       "<tr><td>1      </td><td>0.02729      </td><td>0.0          </td><td>7.07         </td><td>0.0            </td><td>0.469         </td><td>7.185         </td><td>61.1         </td><td>4.9671       </td><td>2.0          </td><td>242.0        </td><td>17.8         </td><td>392.83       </td><td>4.03         </td><td>34.7         </td></tr>\n",
       "<tr><td>2      </td><td>0.03237      </td><td>0.0          </td><td>2.18         </td><td>0.0            </td><td>0.458         </td><td>6.998         </td><td>45.8         </td><td>6.0622       </td><td>3.0          </td><td>222.0        </td><td>18.7         </td><td>394.63       </td><td>2.94         </td><td>33.4         </td></tr>\n",
       "<tr><td>3      </td><td>0.06905      </td><td>0.0          </td><td>2.18         </td><td>0.0            </td><td>0.458         </td><td>7.147         </td><td>54.2         </td><td>6.0622       </td><td>3.0          </td><td>222.0        </td><td>18.7         </td><td>396.9        </td><td>5.33         </td><td>36.2         </td></tr>\n",
       "<tr><td>4      </td><td>0.08829      </td><td>12.5         </td><td>7.87         </td><td>0.0            </td><td>0.524         </td><td>6.012         </td><td>66.6         </td><td>5.5605       </td><td>5.0          </td><td>311.0        </td><td>15.2         </td><td>395.6        </td><td>12.43        </td><td>22.9         </td></tr>\n",
       "<tr><td>5      </td><td>0.14455      </td><td>12.5         </td><td>7.87         </td><td>0.0            </td><td>0.524         </td><td>6.172         </td><td>96.1         </td><td>5.9505       </td><td>5.0          </td><td>311.0        </td><td>15.2         </td><td>396.9        </td><td>19.15        </td><td>27.1         </td></tr>\n",
       "<tr><td>6      </td><td>0.21124      </td><td>12.5         </td><td>7.87         </td><td>0.0            </td><td>0.524         </td><td>5.631         </td><td>100.0        </td><td>6.0821       </td><td>5.0          </td><td>311.0        </td><td>15.2         </td><td>386.63       </td><td>29.93        </td><td>16.5         </td></tr>\n",
       "<tr><td>7      </td><td>0.17004      </td><td>12.5         </td><td>7.87         </td><td>0.0            </td><td>0.524         </td><td>6.004         </td><td>85.9         </td><td>6.5921       </td><td>5.0          </td><td>311.0        </td><td>15.2         </td><td>386.71       </td><td>17.1         </td><td>18.9         </td></tr>\n",
       "<tr><td>8      </td><td>0.22489      </td><td>12.5         </td><td>7.87         </td><td>0.0            </td><td>0.524         </td><td>6.377         </td><td>94.3         </td><td>6.3467       </td><td>5.0          </td><td>311.0        </td><td>15.2         </td><td>392.52       </td><td>20.45        </td><td>15.0         </td></tr>\n",
       "<tr><td>9      </td><td>0.11747      </td><td>12.5         </td><td>7.87         </td><td>0.0            </td><td>0.524         </td><td>6.009         </td><td>82.9         </td><td>6.2267       </td><td>5.0          </td><td>311.0        </td><td>15.2         </td><td>396.9        </td><td>13.27        </td><td>18.9         </td></tr>\n",
       "</tbody>\n",
       "</table>"
      ]
     },
     "metadata": {},
     "output_type": "display_data"
    }
   ],
   "source": [
    "train_df.describe()"
   ]
  },
  {
   "cell_type": "code",
   "execution_count": 11,
   "metadata": {
    "collapsed": true
   },
   "outputs": [],
   "source": [
    "#: Understanding Test dataset"
   ]
  },
  {
   "cell_type": "code",
   "execution_count": 12,
   "metadata": {},
   "outputs": [
    {
     "name": "stdout",
     "output_type": "stream",
     "text": [
      "Rows:99\n",
      "Cols:14\n",
      "\n",
      "\n"
     ]
    },
    {
     "data": {
      "text/html": [
       "<table>\n",
       "<thead>\n",
       "<tr><th>       </th><th>crim         </th><th>zn           </th><th>indus        </th><th>chas           </th><th>nox          </th><th>rm            </th><th>age          </th><th>dis          </th><th>rad          </th><th>tax          </th><th>ptratio      </th><th>b            </th><th>lstat        </th><th>medv         </th></tr>\n",
       "</thead>\n",
       "<tbody>\n",
       "<tr><td>type   </td><td>real         </td><td>real         </td><td>real         </td><td>int            </td><td>real         </td><td>real          </td><td>real         </td><td>real         </td><td>int          </td><td>int          </td><td>real         </td><td>real         </td><td>real         </td><td>real         </td></tr>\n",
       "<tr><td>mins   </td><td>0.00632      </td><td>0.0          </td><td>0.74         </td><td>0.0            </td><td>0.389        </td><td>3.561         </td><td>9.9          </td><td>1.1781       </td><td>1.0          </td><td>187.0        </td><td>12.6         </td><td>6.68         </td><td>2.88         </td><td>5.6          </td></tr>\n",
       "<tr><td>mean   </td><td>3.80327535354</td><td>14.5555555556</td><td>10.0165656566</td><td>0.0707070707071</td><td>0.54618989899</td><td>6.27662626263 </td><td>65.2282828283</td><td>4.11312828283</td><td>8.36363636364</td><td>391.212121212</td><td>18.4888888889</td><td>366.00959596 </td><td>12.0817171717</td><td>22.1545454545</td></tr>\n",
       "<tr><td>maxs   </td><td>88.9762      </td><td>95.0         </td><td>27.74        </td><td>1.0            </td><td>0.871        </td><td>8.78          </td><td>100.0        </td><td>12.1265      </td><td>24.0         </td><td>711.0        </td><td>22.0         </td><td>396.9        </td><td>34.41        </td><td>50.0         </td></tr>\n",
       "<tr><td>sigma  </td><td>10.9318629744</td><td>27.154498339 </td><td>6.96902859181</td><td>0.257639411539 </td><td>0.11739221152</td><td>0.752520981955</td><td>29.378799938 </td><td>2.42831711324</td><td>8.3206830389 </td><td>160.149373687</td><td>2.18869492793</td><td>78.0843033028</td><td>7.32150592857</td><td>9.28388193709</td></tr>\n",
       "<tr><td>zeros  </td><td>0            </td><td>71           </td><td>0            </td><td>92             </td><td>0            </td><td>0             </td><td>0            </td><td>0            </td><td>0            </td><td>0            </td><td>0            </td><td>0            </td><td>0            </td><td>0            </td></tr>\n",
       "<tr><td>missing</td><td>0            </td><td>0            </td><td>0            </td><td>0              </td><td>0            </td><td>0             </td><td>0            </td><td>0            </td><td>0            </td><td>0            </td><td>0            </td><td>0            </td><td>0            </td><td>0            </td></tr>\n",
       "<tr><td>0      </td><td>0.00632      </td><td>18.0         </td><td>2.31         </td><td>0.0            </td><td>0.538        </td><td>6.575         </td><td>65.2         </td><td>4.09         </td><td>1.0          </td><td>296.0        </td><td>15.3         </td><td>396.9        </td><td>4.98         </td><td>24.0         </td></tr>\n",
       "<tr><td>1      </td><td>0.02985      </td><td>0.0          </td><td>2.18         </td><td>0.0            </td><td>0.458        </td><td>6.43          </td><td>58.7         </td><td>6.0622       </td><td>3.0          </td><td>222.0        </td><td>18.7         </td><td>394.12       </td><td>5.21         </td><td>28.7         </td></tr>\n",
       "<tr><td>2      </td><td>1.23247      </td><td>0.0          </td><td>8.14         </td><td>0.0            </td><td>0.538        </td><td>6.142         </td><td>91.7         </td><td>3.9769       </td><td>4.0          </td><td>307.0        </td><td>21.0         </td><td>396.9        </td><td>18.72        </td><td>15.2         </td></tr>\n",
       "<tr><td>3      </td><td>0.98843      </td><td>0.0          </td><td>8.14         </td><td>0.0            </td><td>0.538        </td><td>5.813         </td><td>100.0        </td><td>4.0952       </td><td>4.0          </td><td>307.0        </td><td>21.0         </td><td>394.54       </td><td>19.88        </td><td>14.5         </td></tr>\n",
       "<tr><td>4      </td><td>1.13081      </td><td>0.0          </td><td>8.14         </td><td>0.0            </td><td>0.538        </td><td>5.713         </td><td>94.1         </td><td>4.233        </td><td>4.0          </td><td>307.0        </td><td>21.0         </td><td>360.17       </td><td>22.6         </td><td>12.7         </td></tr>\n",
       "<tr><td>5      </td><td>1.15172      </td><td>0.0          </td><td>8.14         </td><td>0.0            </td><td>0.538        </td><td>5.701         </td><td>95.0         </td><td>3.7872       </td><td>4.0          </td><td>307.0        </td><td>21.0         </td><td>358.77       </td><td>18.35        </td><td>13.1         </td></tr>\n",
       "<tr><td>6      </td><td>0.08014      </td><td>0.0          </td><td>5.96         </td><td>0.0            </td><td>0.499        </td><td>5.85          </td><td>41.5         </td><td>3.9342       </td><td>5.0          </td><td>279.0        </td><td>19.2         </td><td>396.9        </td><td>8.77         </td><td>21.0         </td></tr>\n",
       "<tr><td>7      </td><td>0.17505      </td><td>0.0          </td><td>5.96         </td><td>0.0            </td><td>0.499        </td><td>5.966         </td><td>30.2         </td><td>3.8473       </td><td>5.0          </td><td>279.0        </td><td>19.2         </td><td>393.43       </td><td>10.13        </td><td>24.7         </td></tr>\n",
       "<tr><td>8      </td><td>0.02763      </td><td>75.0         </td><td>2.95         </td><td>0.0            </td><td>0.428        </td><td>6.595         </td><td>21.8         </td><td>5.4011       </td><td>3.0          </td><td>252.0        </td><td>18.3         </td><td>395.63       </td><td>4.32         </td><td>30.8         </td></tr>\n",
       "<tr><td>9      </td><td>0.08873      </td><td>21.0         </td><td>5.64         </td><td>0.0            </td><td>0.439        </td><td>5.963         </td><td>45.7         </td><td>6.8147       </td><td>4.0          </td><td>243.0        </td><td>16.8         </td><td>395.56       </td><td>13.45        </td><td>19.7         </td></tr>\n",
       "</tbody>\n",
       "</table>"
      ]
     },
     "metadata": {},
     "output_type": "display_data"
    }
   ],
   "source": [
    "test_df.describe()"
   ]
  },
  {
   "cell_type": "code",
   "execution_count": 13,
   "metadata": {
    "collapsed": true
   },
   "outputs": [],
   "source": [
    "#: Training and test dataset - columns and rows details"
   ]
  },
  {
   "cell_type": "code",
   "execution_count": 14,
   "metadata": {},
   "outputs": [
    {
     "name": "stdout",
     "output_type": "stream",
     "text": [
      "(407, 14)\n",
      "(99, 14)\n"
     ]
    }
   ],
   "source": [
    "print(train_df.shape)\n",
    "print(test_df.shape)"
   ]
  },
  {
   "cell_type": "code",
   "execution_count": 15,
   "metadata": {
    "collapsed": true
   },
   "outputs": [],
   "source": [
    "#: Training and Test Dataframes - columns names"
   ]
  },
  {
   "cell_type": "code",
   "execution_count": 16,
   "metadata": {},
   "outputs": [
    {
     "name": "stdout",
     "output_type": "stream",
     "text": [
      "[u'crim', u'zn', u'indus', u'chas', u'nox', u'rm', u'age', u'dis', u'rad', u'tax', u'ptratio', u'b', u'lstat', u'medv']\n",
      "[u'crim', u'zn', u'indus', u'chas', u'nox', u'rm', u'age', u'dis', u'rad', u'tax', u'ptratio', u'b', u'lstat', u'medv']\n"
     ]
    }
   ],
   "source": [
    "print(train_df.col_names)\n",
    "print(test_df.col_names)"
   ]
  },
  {
   "cell_type": "code",
   "execution_count": 17,
   "metadata": {
    "collapsed": true
   },
   "outputs": [],
   "source": [
    "#: Training and Test Dataframes - columns names"
   ]
  },
  {
   "cell_type": "code",
   "execution_count": 18,
   "metadata": {},
   "outputs": [
    {
     "name": "stdout",
     "output_type": "stream",
     "text": [
      "[u'crim', u'zn', u'indus', u'chas', u'nox', u'rm', u'age', u'dis', u'rad', u'tax', u'ptratio', u'b', u'lstat', u'medv']\n",
      "[u'crim', u'zn', u'indus', u'chas', u'nox', u'rm', u'age', u'dis', u'rad', u'tax', u'ptratio', u'b', u'lstat', u'medv']\n"
     ]
    }
   ],
   "source": [
    "print(train_df.columns)\n",
    "print(test_df.columns)"
   ]
  },
  {
   "cell_type": "code",
   "execution_count": 19,
   "metadata": {
    "collapsed": true
   },
   "outputs": [],
   "source": [
    "#: Training and Test dataframes - columns by their type i.e. numeric, string, categorical(enum)"
   ]
  },
  {
   "cell_type": "code",
   "execution_count": 20,
   "metadata": {},
   "outputs": [
    {
     "name": "stdout",
     "output_type": "stream",
     "text": [
      "[0.0, 1.0, 2.0, 3.0, 4.0, 5.0, 6.0, 7.0, 8.0, 9.0, 10.0, 11.0, 12.0, 13.0]\n",
      "[0.0, 1.0, 2.0, 3.0, 4.0, 5.0, 6.0, 7.0, 8.0, 9.0, 10.0, 11.0, 12.0, 13.0]\n"
     ]
    }
   ],
   "source": [
    "print(train_df.columns_by_type())\n",
    "print(test_df.columns_by_type())"
   ]
  },
  {
   "cell_type": "code",
   "execution_count": 21,
   "metadata": {
    "collapsed": true
   },
   "outputs": [],
   "source": [
    "#: Training and Test dataframes - columns type as strings"
   ]
  },
  {
   "cell_type": "code",
   "execution_count": 22,
   "metadata": {},
   "outputs": [
    {
     "name": "stdout",
     "output_type": "stream",
     "text": [
      "[]\n",
      "[]\n"
     ]
    }
   ],
   "source": [
    "print(train_df.columns_by_type(\"string\"))\n",
    "print(test_df.columns_by_type(\"string\"))"
   ]
  },
  {
   "cell_type": "code",
   "execution_count": 23,
   "metadata": {
    "collapsed": true
   },
   "outputs": [],
   "source": [
    "#: Training and Test dataframes - columns type as numeric"
   ]
  },
  {
   "cell_type": "code",
   "execution_count": 24,
   "metadata": {},
   "outputs": [
    {
     "name": "stdout",
     "output_type": "stream",
     "text": [
      "[0.0, 1.0, 2.0, 3.0, 4.0, 5.0, 6.0, 7.0, 8.0, 9.0, 10.0, 11.0, 12.0, 13.0]\n",
      "[0.0, 1.0, 2.0, 3.0, 4.0, 5.0, 6.0, 7.0, 8.0, 9.0, 10.0, 11.0, 12.0, 13.0]\n"
     ]
    }
   ],
   "source": [
    "print(train_df.columns_by_type(\"numeric\"))\n",
    "print(test_df.columns_by_type(\"numeric\"))"
   ]
  },
  {
   "cell_type": "code",
   "execution_count": 25,
   "metadata": {
    "collapsed": true
   },
   "outputs": [],
   "source": [
    "#: Training and Test dataframes - columns type as categorical or enum"
   ]
  },
  {
   "cell_type": "code",
   "execution_count": 26,
   "metadata": {},
   "outputs": [
    {
     "name": "stdout",
     "output_type": "stream",
     "text": [
      "[]\n",
      "[]\n"
     ]
    }
   ],
   "source": [
    "print(train_df.columns_by_type(\"categorical\"))\n",
    "print(test_df.columns_by_type(\"categorical\"))"
   ]
  },
  {
   "cell_type": "code",
   "execution_count": 27,
   "metadata": {
    "collapsed": true
   },
   "outputs": [],
   "source": [
    "#: Settings response or target variable for supervised machine learning"
   ]
  },
  {
   "cell_type": "code",
   "execution_count": 28,
   "metadata": {},
   "outputs": [
    {
     "name": "stdout",
     "output_type": "stream",
     "text": [
      "[u'crim', u'zn', u'indus', u'chas', u'nox', u'rm', u'age', u'dis', u'rad', u'tax', u'ptratio', u'b', u'lstat', u'medv']\n"
     ]
    }
   ],
   "source": [
    "response = \"medv\"\n",
    "features = train_df.col_names\n",
    "print(features)"
   ]
  },
  {
   "cell_type": "code",
   "execution_count": 29,
   "metadata": {
    "collapsed": true
   },
   "outputs": [],
   "source": [
    "#: Creating a list of all features we will use for machine learning"
   ]
  },
  {
   "cell_type": "code",
   "execution_count": 30,
   "metadata": {},
   "outputs": [
    {
     "name": "stdout",
     "output_type": "stream",
     "text": [
      "[u'crim', u'zn', u'indus', u'chas', u'nox', u'rm', u'age', u'dis', u'rad', u'tax', u'ptratio', u'b', u'lstat']\n"
     ]
    }
   ],
   "source": [
    "features.remove(response)\n",
    "print(features)"
   ]
  },
  {
   "cell_type": "code",
   "execution_count": 31,
   "metadata": {
    "collapsed": true
   },
   "outputs": [],
   "source": [
    "#: Understanding response variable values as historgram in Training data"
   ]
  },
  {
   "cell_type": "code",
   "execution_count": 32,
   "metadata": {},
   "outputs": [
    {
     "data": {
      "image/png": "[encoded data removed]",
      "text/plain": [
       "<matplotlib.figure.Figure at 0x1086075d0>"
      ]
     },
     "metadata": {},
     "output_type": "display_data"
    }
   ],
   "source": [
    "train_df['medv'].hist()"
   ]
  },
  {
   "cell_type": "code",
   "execution_count": 33,
   "metadata": {
    "collapsed": true
   },
   "outputs": [],
   "source": [
    "#: Understanding response variable values as historgram in Test data"
   ]
  },
  {
   "cell_type": "code",
   "execution_count": 34,
   "metadata": {},
   "outputs": [
    {
     "data": {
      "image/png": "[encoded data removed]",
      "text/plain": [
       "<matplotlib.figure.Figure at 0x10ace0690>"
      ]
     },
     "metadata": {},
     "output_type": "display_data"
    }
   ],
   "source": [
    "test_df['medv'].hist()"
   ]
  },
  {
   "cell_type": "code",
   "execution_count": 35,
   "metadata": {
    "collapsed": true
   },
   "outputs": [],
   "source": [
    "#: Understanding response variable values "
   ]
  },
  {
   "cell_type": "code",
   "execution_count": 36,
   "metadata": {},
   "outputs": [
    {
     "data": {
      "text/plain": [
       "[]"
      ]
     },
     "execution_count": 36,
     "metadata": {},
     "output_type": "execute_result"
    }
   ],
   "source": [
    "train_df['medv'].levels()"
   ]
  },
  {
   "cell_type": "code",
   "execution_count": 37,
   "metadata": {
    "collapsed": true
   },
   "outputs": [],
   "source": [
    "#: Understanding response column as dataframe"
   ]
  },
  {
   "cell_type": "code",
   "execution_count": 38,
   "metadata": {},
   "outputs": [
    {
     "data": {
      "text/plain": [
       "h2o.frame.H2OFrame"
      ]
     },
     "execution_count": 38,
     "metadata": {},
     "output_type": "execute_result"
    }
   ],
   "source": [
    "type(train_df['medv'])"
   ]
  },
  {
   "cell_type": "code",
   "execution_count": 39,
   "metadata": {
    "collapsed": true
   },
   "outputs": [],
   "source": [
    "#: Importing H2O H2OGeneralizedLinearEstimator to build GLM Model"
   ]
  },
  {
   "cell_type": "code",
   "execution_count": 41,
   "metadata": {
    "collapsed": true
   },
   "outputs": [],
   "source": [
    "from h2o.estimators.gbm import H2OGradientBoostingEstimator"
   ]
  },
  {
   "cell_type": "code",
   "execution_count": 45,
   "metadata": {
    "collapsed": true
   },
   "outputs": [],
   "source": [
    "#: Building Gradient Boosting (GBM) - Regression model only with training dataframe"
   ]
  },
  {
   "cell_type": "code",
   "execution_count": 43,
   "metadata": {},
   "outputs": [
    {
     "name": "stdout",
     "output_type": "stream",
     "text": [
      "gbm Model Build progress: |███████████████████████████████████████████████| 100%\n"
     ]
    }
   ],
   "source": [
    "gbm_model_with_training_only = H2OGradientBoostingEstimator()\n",
    "gbm_model_with_training_only.train(x= features, y = response, training_frame= train_df)"
   ]
  },
  {
   "cell_type": "code",
   "execution_count": 44,
   "metadata": {},
   "outputs": [
    {
     "name": "stdout",
     "output_type": "stream",
     "text": [
      "Model Details\n",
      "=============\n",
      "H2OGradientBoostingEstimator :  Gradient Boosting Machine\n",
      "Model Key:  GBM_model_python_1510608322538_108\n",
      "\n",
      "\n",
      "ModelMetricsRegression: gbm\n",
      "** Reported on train data. **\n",
      "\n",
      "MSE: 2.43245942278\n",
      "RMSE: 1.55963438753\n",
      "MAE: 1.14724929561\n",
      "RMSLE: 0.0729168703898\n",
      "Mean Residual Deviance: 2.43245942278\n",
      "Scoring History: \n"
     ]
    },
    {
     "data": {
      "text/html": [
       "<div style=\"overflow:auto\"><table style=\"width:50%\"><tr><td><b></b></td>\n",
       "<td><b>timestamp</b></td>\n",
       "<td><b>duration</b></td>\n",
       "<td><b>number_of_trees</b></td>\n",
       "<td><b>training_rmse</b></td>\n",
       "<td><b>training_mae</b></td>\n",
       "<td><b>training_deviance</b></td></tr>\n",
       "<tr><td></td>\n",
       "<td>2017-11-13 21:37:15</td>\n",
       "<td> 0.007 sec</td>\n",
       "<td>0.0</td>\n",
       "<td>9.1737286</td>\n",
       "<td>6.6624344</td>\n",
       "<td>84.1572961</td></tr>\n",
       "<tr><td></td>\n",
       "<td>2017-11-13 21:37:15</td>\n",
       "<td> 0.103 sec</td>\n",
       "<td>1.0</td>\n",
       "<td>8.3616677</td>\n",
       "<td>6.0641476</td>\n",
       "<td>69.9174865</td></tr>\n",
       "<tr><td></td>\n",
       "<td>2017-11-13 21:37:15</td>\n",
       "<td> 0.122 sec</td>\n",
       "<td>2.0</td>\n",
       "<td>7.6387843</td>\n",
       "<td>5.5427168</td>\n",
       "<td>58.3510263</td></tr>\n",
       "<tr><td></td>\n",
       "<td>2017-11-13 21:37:15</td>\n",
       "<td> 0.131 sec</td>\n",
       "<td>3.0</td>\n",
       "<td>6.9973531</td>\n",
       "<td>5.0740232</td>\n",
       "<td>48.9629497</td></tr>\n",
       "<tr><td></td>\n",
       "<td>2017-11-13 21:37:15</td>\n",
       "<td> 0.139 sec</td>\n",
       "<td>4.0</td>\n",
       "<td>6.4257623</td>\n",
       "<td>4.6618307</td>\n",
       "<td>41.2904211</td></tr>\n",
       "<tr><td>---</td>\n",
       "<td>---</td>\n",
       "<td>---</td>\n",
       "<td>---</td>\n",
       "<td>---</td>\n",
       "<td>---</td>\n",
       "<td>---</td></tr>\n",
       "<tr><td></td>\n",
       "<td>2017-11-13 21:37:15</td>\n",
       "<td> 0.382 sec</td>\n",
       "<td>46.0</td>\n",
       "<td>1.6384591</td>\n",
       "<td>1.2007742</td>\n",
       "<td>2.6845481</td></tr>\n",
       "<tr><td></td>\n",
       "<td>2017-11-13 21:37:15</td>\n",
       "<td> 0.387 sec</td>\n",
       "<td>47.0</td>\n",
       "<td>1.6120397</td>\n",
       "<td>1.1841363</td>\n",
       "<td>2.5986719</td></tr>\n",
       "<tr><td></td>\n",
       "<td>2017-11-13 21:37:15</td>\n",
       "<td> 0.392 sec</td>\n",
       "<td>48.0</td>\n",
       "<td>1.5931563</td>\n",
       "<td>1.1706599</td>\n",
       "<td>2.5381470</td></tr>\n",
       "<tr><td></td>\n",
       "<td>2017-11-13 21:37:15</td>\n",
       "<td> 0.397 sec</td>\n",
       "<td>49.0</td>\n",
       "<td>1.5725820</td>\n",
       "<td>1.1565654</td>\n",
       "<td>2.4730140</td></tr>\n",
       "<tr><td></td>\n",
       "<td>2017-11-13 21:37:15</td>\n",
       "<td> 0.402 sec</td>\n",
       "<td>50.0</td>\n",
       "<td>1.5596344</td>\n",
       "<td>1.1472493</td>\n",
       "<td>2.4324594</td></tr></table></div>"
      ],
      "text/plain": [
       "     timestamp            duration    number_of_trees    training_rmse    training_mae    training_deviance\n",
       "---  -------------------  ----------  -----------------  ---------------  --------------  -------------------\n",
       "     2017-11-13 21:37:15  0.007 sec   0.0                9.17372858008    6.66243444217   84.1572960611\n",
       "     2017-11-13 21:37:15  0.103 sec   1.0                8.36166768763    6.06414763875   69.9174865183\n",
       "     2017-11-13 21:37:15  0.122 sec   2.0                7.63878434727    5.54271676792   58.3510263041\n",
       "     2017-11-13 21:37:15  0.131 sec   3.0                6.99735305172    5.07402316358   48.9629497305\n",
       "     2017-11-13 21:37:15  0.139 sec   4.0                6.42576229393    4.66183067598   41.2904210581\n",
       "---  ---                  ---         ---                ---              ---             ---\n",
       "     2017-11-13 21:37:15  0.382 sec   46.0               1.63845905798    1.2007742385    2.68454808467\n",
       "     2017-11-13 21:37:15  0.387 sec   47.0               1.6120396836     1.18413631453   2.59867194151\n",
       "     2017-11-13 21:37:15  0.392 sec   48.0               1.59315629212    1.17065993925   2.53814697112\n",
       "     2017-11-13 21:37:15  0.397 sec   49.0               1.57258195204    1.15656542251   2.47301399589\n",
       "     2017-11-13 21:37:15  0.402 sec   50.0               1.55963438753    1.14724929561   2.43245942278"
      ]
     },
     "metadata": {},
     "output_type": "display_data"
    },
    {
     "name": "stdout",
     "output_type": "stream",
     "text": [
      "\n",
      "See the whole table with table.as_data_frame()\n",
      "Variable Importances: \n"
     ]
    },
    {
     "data": {
      "text/html": [
       "<div style=\"overflow:auto\"><table style=\"width:50%\"><tr><td><b>variable</b></td>\n",
       "<td><b>relative_importance</b></td>\n",
       "<td><b>scaled_importance</b></td>\n",
       "<td><b>percentage</b></td></tr>\n",
       "<tr><td>lstat</td>\n",
       "<td>105866.8125000</td>\n",
       "<td>1.0</td>\n",
       "<td>0.6047349</td></tr>\n",
       "<tr><td>rm</td>\n",
       "<td>39758.8984375</td>\n",
       "<td>0.3755558</td>\n",
       "<td>0.2271117</td></tr>\n",
       "<tr><td>dis</td>\n",
       "<td>11466.9921875</td>\n",
       "<td>0.1083153</td>\n",
       "<td>0.0655020</td></tr>\n",
       "<tr><td>nox</td>\n",
       "<td>6184.4399414</td>\n",
       "<td>0.0584172</td>\n",
       "<td>0.0353269</td></tr>\n",
       "<tr><td>crim</td>\n",
       "<td>3648.9958496</td>\n",
       "<td>0.0344678</td>\n",
       "<td>0.0208439</td></tr>\n",
       "<tr><td>ptratio</td>\n",
       "<td>2454.0090332</td>\n",
       "<td>0.0231802</td>\n",
       "<td>0.0140178</td></tr>\n",
       "<tr><td>tax</td>\n",
       "<td>2219.0605469</td>\n",
       "<td>0.0209609</td>\n",
       "<td>0.0126758</td></tr>\n",
       "<tr><td>age</td>\n",
       "<td>1424.7196045</td>\n",
       "<td>0.0134577</td>\n",
       "<td>0.0081383</td></tr>\n",
       "<tr><td>b</td>\n",
       "<td>1419.9967041</td>\n",
       "<td>0.0134130</td>\n",
       "<td>0.0081113</td></tr>\n",
       "<tr><td>indus</td>\n",
       "<td>331.3314514</td>\n",
       "<td>0.0031297</td>\n",
       "<td>0.0018926</td></tr>\n",
       "<tr><td>rad</td>\n",
       "<td>159.5205688</td>\n",
       "<td>0.0015068</td>\n",
       "<td>0.0009112</td></tr>\n",
       "<tr><td>zn</td>\n",
       "<td>107.5565872</td>\n",
       "<td>0.0010160</td>\n",
       "<td>0.0006144</td></tr>\n",
       "<tr><td>chas</td>\n",
       "<td>20.8481140</td>\n",
       "<td>0.0001969</td>\n",
       "<td>0.0001191</td></tr></table></div>"
      ],
      "text/plain": [
       "variable    relative_importance    scaled_importance    percentage\n",
       "----------  ---------------------  -------------------  ------------\n",
       "lstat       105867                 1                    0.604735\n",
       "rm          39758.9                0.375556             0.227112\n",
       "dis         11467                  0.108315             0.065502\n",
       "nox         6184.44                0.0584172            0.0353269\n",
       "crim        3649                   0.0344678            0.0208439\n",
       "ptratio     2454.01                0.0231802            0.0140178\n",
       "tax         2219.06                0.0209609            0.0126758\n",
       "age         1424.72                0.0134577            0.00813832\n",
       "b           1420                   0.013413             0.00811134\n",
       "indus       331.331                0.0031297            0.00189264\n",
       "rad         159.521                0.0015068            0.000911217\n",
       "zn          107.557                0.00101596           0.000614387\n",
       "chas        20.8481                0.000196928          0.000119089"
      ]
     },
     "metadata": {},
     "output_type": "display_data"
    },
    {
     "data": {
      "text/plain": []
     },
     "execution_count": 44,
     "metadata": {},
     "output_type": "execute_result"
    }
   ],
   "source": [
    "gbm_model_with_training_only"
   ]
  },
  {
   "cell_type": "code",
   "execution_count": 46,
   "metadata": {
    "collapsed": true
   },
   "outputs": [],
   "source": [
    "#:Building Gradient Boosting (GBM) -  Regression model with cross validation"
   ]
  },
  {
   "cell_type": "code",
   "execution_count": 47,
   "metadata": {},
   "outputs": [
    {
     "name": "stdout",
     "output_type": "stream",
     "text": [
      "gbm Model Build progress: |███████████████████████████████████████████████| 100%\n"
     ]
    }
   ],
   "source": [
    "gbm_model_with_training_and_cv = H2OGradientBoostingEstimator(nfolds=5)\n",
    "gbm_model_with_training_and_cv.train(x = features, y = response, training_frame=train_df)"
   ]
  },
  {
   "cell_type": "code",
   "execution_count": 48,
   "metadata": {},
   "outputs": [
    {
     "name": "stdout",
     "output_type": "stream",
     "text": [
      "Model Details\n",
      "=============\n",
      "H2OGradientBoostingEstimator :  Gradient Boosting Machine\n",
      "Model Key:  GBM_model_python_1510608322538_109\n",
      "\n",
      "\n",
      "ModelMetricsRegression: gbm\n",
      "** Reported on train data. **\n",
      "\n",
      "MSE: 2.43245942278\n",
      "RMSE: 1.55963438753\n",
      "MAE: 1.14724929561\n",
      "RMSLE: 0.0729168703898\n",
      "Mean Residual Deviance: 2.43245942278\n",
      "\n",
      "ModelMetricsRegression: gbm\n",
      "** Reported on cross-validation data. **\n",
      "\n",
      "MSE: 13.1576416685\n",
      "RMSE: 3.62734636733\n",
      "MAE: 2.32606559808\n",
      "RMSLE: 0.151485625426\n",
      "Mean Residual Deviance: 13.1576416685\n",
      "Cross-Validation Metrics Summary: \n"
     ]
    },
    {
     "data": {
      "text/html": [
       "<div style=\"overflow:auto\"><table style=\"width:50%\"><tr><td><b></b></td>\n",
       "<td><b>mean</b></td>\n",
       "<td><b>sd</b></td>\n",
       "<td><b>cv_1_valid</b></td>\n",
       "<td><b>cv_2_valid</b></td>\n",
       "<td><b>cv_3_valid</b></td>\n",
       "<td><b>cv_4_valid</b></td>\n",
       "<td><b>cv_5_valid</b></td></tr>\n",
       "<tr><td>mae</td>\n",
       "<td>2.3286123</td>\n",
       "<td>0.1878655</td>\n",
       "<td>1.9392658</td>\n",
       "<td>2.2965672</td>\n",
       "<td>2.216043</td>\n",
       "<td>2.7457395</td>\n",
       "<td>2.4454458</td></tr>\n",
       "<tr><td>mean_residual_deviance</td>\n",
       "<td>13.04055</td>\n",
       "<td>5.228491</td>\n",
       "<td>6.686803</td>\n",
       "<td>9.377713</td>\n",
       "<td>10.016728</td>\n",
       "<td>27.479563</td>\n",
       "<td>11.641943</td></tr>\n",
       "<tr><td>mse</td>\n",
       "<td>13.04055</td>\n",
       "<td>5.228491</td>\n",
       "<td>6.686803</td>\n",
       "<td>9.377713</td>\n",
       "<td>10.016728</td>\n",
       "<td>27.479563</td>\n",
       "<td>11.641943</td></tr>\n",
       "<tr><td>r2</td>\n",
       "<td>0.8497763</td>\n",
       "<td>0.0387310</td>\n",
       "<td>0.8601611</td>\n",
       "<td>0.9067502</td>\n",
       "<td>0.8836416</td>\n",
       "<td>0.7473133</td>\n",
       "<td>0.8510155</td></tr>\n",
       "<tr><td>residual_deviance</td>\n",
       "<td>13.04055</td>\n",
       "<td>5.228491</td>\n",
       "<td>6.686803</td>\n",
       "<td>9.377713</td>\n",
       "<td>10.016728</td>\n",
       "<td>27.479563</td>\n",
       "<td>11.641943</td></tr>\n",
       "<tr><td>rmse</td>\n",
       "<td>3.4934473</td>\n",
       "<td>0.6466746</td>\n",
       "<td>2.5858853</td>\n",
       "<td>3.0623052</td>\n",
       "<td>3.1649215</td>\n",
       "<td>5.2420955</td>\n",
       "<td>3.4120293</td></tr>\n",
       "<tr><td>rmsle</td>\n",
       "<td>0.1511169</td>\n",
       "<td>0.0142300</td>\n",
       "<td>0.1353346</td>\n",
       "<td>0.1726253</td>\n",
       "<td>0.1374982</td>\n",
       "<td>0.1784795</td>\n",
       "<td>0.1316472</td></tr></table></div>"
      ],
      "text/plain": [
       "                        mean      sd        cv_1_valid    cv_2_valid    cv_3_valid    cv_4_valid    cv_5_valid\n",
       "----------------------  --------  --------  ------------  ------------  ------------  ------------  ------------\n",
       "mae                     2.32861   0.187865  1.93927       2.29657       2.21604       2.74574       2.44545\n",
       "mean_residual_deviance  13.0405   5.22849   6.6868        9.37771       10.0167       27.4796       11.6419\n",
       "mse                     13.0405   5.22849   6.6868        9.37771       10.0167       27.4796       11.6419\n",
       "r2                      0.849776  0.038731  0.860161      0.90675       0.883642      0.747313      0.851015\n",
       "residual_deviance       13.0405   5.22849   6.6868        9.37771       10.0167       27.4796       11.6419\n",
       "rmse                    3.49345   0.646675  2.58589       3.06231       3.16492       5.2421        3.41203\n",
       "rmsle                   0.151117  0.01423   0.135335      0.172625      0.137498      0.178479      0.131647"
      ]
     },
     "metadata": {},
     "output_type": "display_data"
    },
    {
     "name": "stdout",
     "output_type": "stream",
     "text": [
      "Scoring History: \n"
     ]
    },
    {
     "data": {
      "text/html": [
       "<div style=\"overflow:auto\"><table style=\"width:50%\"><tr><td><b></b></td>\n",
       "<td><b>timestamp</b></td>\n",
       "<td><b>duration</b></td>\n",
       "<td><b>number_of_trees</b></td>\n",
       "<td><b>training_rmse</b></td>\n",
       "<td><b>training_mae</b></td>\n",
       "<td><b>training_deviance</b></td></tr>\n",
       "<tr><td></td>\n",
       "<td>2017-11-13 21:38:27</td>\n",
       "<td> 0.378 sec</td>\n",
       "<td>0.0</td>\n",
       "<td>9.1737286</td>\n",
       "<td>6.6624344</td>\n",
       "<td>84.1572961</td></tr>\n",
       "<tr><td></td>\n",
       "<td>2017-11-13 21:38:27</td>\n",
       "<td> 0.382 sec</td>\n",
       "<td>1.0</td>\n",
       "<td>8.3616677</td>\n",
       "<td>6.0641476</td>\n",
       "<td>69.9174865</td></tr>\n",
       "<tr><td></td>\n",
       "<td>2017-11-13 21:38:27</td>\n",
       "<td> 0.385 sec</td>\n",
       "<td>2.0</td>\n",
       "<td>7.6387843</td>\n",
       "<td>5.5427168</td>\n",
       "<td>58.3510263</td></tr>\n",
       "<tr><td></td>\n",
       "<td>2017-11-13 21:38:27</td>\n",
       "<td> 0.387 sec</td>\n",
       "<td>3.0</td>\n",
       "<td>6.9973531</td>\n",
       "<td>5.0740232</td>\n",
       "<td>48.9629497</td></tr>\n",
       "<tr><td></td>\n",
       "<td>2017-11-13 21:38:27</td>\n",
       "<td> 0.389 sec</td>\n",
       "<td>4.0</td>\n",
       "<td>6.4257623</td>\n",
       "<td>4.6618307</td>\n",
       "<td>41.2904211</td></tr>\n",
       "<tr><td>---</td>\n",
       "<td>---</td>\n",
       "<td>---</td>\n",
       "<td>---</td>\n",
       "<td>---</td>\n",
       "<td>---</td>\n",
       "<td>---</td></tr>\n",
       "<tr><td></td>\n",
       "<td>2017-11-13 21:38:27</td>\n",
       "<td> 0.488 sec</td>\n",
       "<td>46.0</td>\n",
       "<td>1.6384591</td>\n",
       "<td>1.2007742</td>\n",
       "<td>2.6845481</td></tr>\n",
       "<tr><td></td>\n",
       "<td>2017-11-13 21:38:27</td>\n",
       "<td> 0.490 sec</td>\n",
       "<td>47.0</td>\n",
       "<td>1.6120397</td>\n",
       "<td>1.1841363</td>\n",
       "<td>2.5986719</td></tr>\n",
       "<tr><td></td>\n",
       "<td>2017-11-13 21:38:27</td>\n",
       "<td> 0.492 sec</td>\n",
       "<td>48.0</td>\n",
       "<td>1.5931563</td>\n",
       "<td>1.1706599</td>\n",
       "<td>2.5381470</td></tr>\n",
       "<tr><td></td>\n",
       "<td>2017-11-13 21:38:27</td>\n",
       "<td> 0.494 sec</td>\n",
       "<td>49.0</td>\n",
       "<td>1.5725820</td>\n",
       "<td>1.1565654</td>\n",
       "<td>2.4730140</td></tr>\n",
       "<tr><td></td>\n",
       "<td>2017-11-13 21:38:27</td>\n",
       "<td> 0.496 sec</td>\n",
       "<td>50.0</td>\n",
       "<td>1.5596344</td>\n",
       "<td>1.1472493</td>\n",
       "<td>2.4324594</td></tr></table></div>"
      ],
      "text/plain": [
       "     timestamp            duration    number_of_trees    training_rmse    training_mae    training_deviance\n",
       "---  -------------------  ----------  -----------------  ---------------  --------------  -------------------\n",
       "     2017-11-13 21:38:27  0.378 sec   0.0                9.17372858008    6.66243444217   84.1572960611\n",
       "     2017-11-13 21:38:27  0.382 sec   1.0                8.36166768763    6.06414763875   69.9174865183\n",
       "     2017-11-13 21:38:27  0.385 sec   2.0                7.63878434727    5.54271676792   58.3510263041\n",
       "     2017-11-13 21:38:27  0.387 sec   3.0                6.99735305172    5.07402316358   48.9629497305\n",
       "     2017-11-13 21:38:27  0.389 sec   4.0                6.42576229393    4.66183067598   41.2904210581\n",
       "---  ---                  ---         ---                ---              ---             ---\n",
       "     2017-11-13 21:38:27  0.488 sec   46.0               1.63845905798    1.2007742385    2.68454808467\n",
       "     2017-11-13 21:38:27  0.490 sec   47.0               1.6120396836     1.18413631453   2.59867194151\n",
       "     2017-11-13 21:38:27  0.492 sec   48.0               1.59315629212    1.17065993925   2.53814697112\n",
       "     2017-11-13 21:38:27  0.494 sec   49.0               1.57258195204    1.15656542251   2.47301399589\n",
       "     2017-11-13 21:38:27  0.496 sec   50.0               1.55963438753    1.14724929561   2.43245942278"
      ]
     },
     "metadata": {},
     "output_type": "display_data"
    },
    {
     "name": "stdout",
     "output_type": "stream",
     "text": [
      "\n",
      "See the whole table with table.as_data_frame()\n",
      "Variable Importances: \n"
     ]
    },
    {
     "data": {
      "text/html": [
       "<div style=\"overflow:auto\"><table style=\"width:50%\"><tr><td><b>variable</b></td>\n",
       "<td><b>relative_importance</b></td>\n",
       "<td><b>scaled_importance</b></td>\n",
       "<td><b>percentage</b></td></tr>\n",
       "<tr><td>lstat</td>\n",
       "<td>105866.8125000</td>\n",
       "<td>1.0</td>\n",
       "<td>0.6047349</td></tr>\n",
       "<tr><td>rm</td>\n",
       "<td>39758.8984375</td>\n",
       "<td>0.3755558</td>\n",
       "<td>0.2271117</td></tr>\n",
       "<tr><td>dis</td>\n",
       "<td>11466.9921875</td>\n",
       "<td>0.1083153</td>\n",
       "<td>0.0655020</td></tr>\n",
       "<tr><td>nox</td>\n",
       "<td>6184.4399414</td>\n",
       "<td>0.0584172</td>\n",
       "<td>0.0353269</td></tr>\n",
       "<tr><td>crim</td>\n",
       "<td>3648.9958496</td>\n",
       "<td>0.0344678</td>\n",
       "<td>0.0208439</td></tr>\n",
       "<tr><td>ptratio</td>\n",
       "<td>2454.0090332</td>\n",
       "<td>0.0231802</td>\n",
       "<td>0.0140178</td></tr>\n",
       "<tr><td>tax</td>\n",
       "<td>2219.0605469</td>\n",
       "<td>0.0209609</td>\n",
       "<td>0.0126758</td></tr>\n",
       "<tr><td>age</td>\n",
       "<td>1424.7196045</td>\n",
       "<td>0.0134577</td>\n",
       "<td>0.0081383</td></tr>\n",
       "<tr><td>b</td>\n",
       "<td>1419.9967041</td>\n",
       "<td>0.0134130</td>\n",
       "<td>0.0081113</td></tr>\n",
       "<tr><td>indus</td>\n",
       "<td>331.3314514</td>\n",
       "<td>0.0031297</td>\n",
       "<td>0.0018926</td></tr>\n",
       "<tr><td>rad</td>\n",
       "<td>159.5205688</td>\n",
       "<td>0.0015068</td>\n",
       "<td>0.0009112</td></tr>\n",
       "<tr><td>zn</td>\n",
       "<td>107.5565872</td>\n",
       "<td>0.0010160</td>\n",
       "<td>0.0006144</td></tr>\n",
       "<tr><td>chas</td>\n",
       "<td>20.8481140</td>\n",
       "<td>0.0001969</td>\n",
       "<td>0.0001191</td></tr></table></div>"
      ],
      "text/plain": [
       "variable    relative_importance    scaled_importance    percentage\n",
       "----------  ---------------------  -------------------  ------------\n",
       "lstat       105867                 1                    0.604735\n",
       "rm          39758.9                0.375556             0.227112\n",
       "dis         11467                  0.108315             0.065502\n",
       "nox         6184.44                0.0584172            0.0353269\n",
       "crim        3649                   0.0344678            0.0208439\n",
       "ptratio     2454.01                0.0231802            0.0140178\n",
       "tax         2219.06                0.0209609            0.0126758\n",
       "age         1424.72                0.0134577            0.00813832\n",
       "b           1420                   0.013413             0.00811134\n",
       "indus       331.331                0.0031297            0.00189264\n",
       "rad         159.521                0.0015068            0.000911217\n",
       "zn          107.557                0.00101596           0.000614387\n",
       "chas        20.8481                0.000196928          0.000119089"
      ]
     },
     "metadata": {},
     "output_type": "display_data"
    },
    {
     "data": {
      "text/plain": []
     },
     "execution_count": 48,
     "metadata": {},
     "output_type": "execute_result"
    }
   ],
   "source": [
    "gbm_model_with_training_and_cv"
   ]
  },
  {
   "cell_type": "code",
   "execution_count": 49,
   "metadata": {
    "collapsed": true
   },
   "outputs": [],
   "source": [
    "#: Building Gradient Boosting (GBM) -  Regression model with training and \n",
    "#  validation data and for that reason we need to split training dataset"
   ]
  },
  {
   "cell_type": "code",
   "execution_count": 50,
   "metadata": {
    "collapsed": true
   },
   "outputs": [],
   "source": [
    "df_house_train, df_house_valid = train_df.split_frame(ratios=[0.9])"
   ]
  },
  {
   "cell_type": "code",
   "execution_count": 51,
   "metadata": {
    "collapsed": true
   },
   "outputs": [],
   "source": [
    "#: understanding the row count into original andsplit object"
   ]
  },
  {
   "cell_type": "code",
   "execution_count": 52,
   "metadata": {},
   "outputs": [
    {
     "name": "stdout",
     "output_type": "stream",
     "text": [
      "(407, 14)\n",
      "(368, 14)\n",
      "(39, 14)\n"
     ]
    }
   ],
   "source": [
    "print(train_df.shape)\n",
    "print(df_house_train.shape)\n",
    "print(df_house_valid.shape)"
   ]
  },
  {
   "cell_type": "code",
   "execution_count": 53,
   "metadata": {
    "collapsed": true
   },
   "outputs": [],
   "source": [
    "#:Building Gradient Boosting (GBM) -  Regression model with training and validation data now"
   ]
  },
  {
   "cell_type": "code",
   "execution_count": 93,
   "metadata": {},
   "outputs": [
    {
     "name": "stdout",
     "output_type": "stream",
     "text": [
      "gbm Model Build progress: |███████████████████████████████████████████████| 100%\n"
     ]
    }
   ],
   "source": [
    "gbm_model_with_training_and_validtion = H2OGradientBoostingEstimator()\n",
    "gbm_model_with_training_and_validtion.train(x = features, y = response, \n",
    "                                            training_frame=df_house_train, \n",
    "                                            validation_frame=df_house_valid,\n",
    "                                           model_id = \"glm_model_with_training_and_validtion_python\")"
   ]
  },
  {
   "cell_type": "code",
   "execution_count": 94,
   "metadata": {},
   "outputs": [
    {
     "name": "stdout",
     "output_type": "stream",
     "text": [
      "Model Details\n",
      "=============\n",
      "H2OGradientBoostingEstimator :  Gradient Boosting Machine\n",
      "Model Key:  glm_model_with_training_and_validtion_python\n",
      "\n",
      "\n",
      "ModelMetricsRegression: gbm\n",
      "** Reported on train data. **\n",
      "\n",
      "MSE: 2.88056026286\n",
      "RMSE: 1.69722133585\n",
      "MAE: 1.21605675894\n",
      "RMSLE: 0.0774234020717\n",
      "Mean Residual Deviance: 2.88056026286\n",
      "\n",
      "ModelMetricsRegression: gbm\n",
      "** Reported on validation data. **\n",
      "\n",
      "MSE: 6.68923704087\n",
      "RMSE: 2.58635593855\n",
      "MAE: 2.02121580951\n",
      "RMSLE: 0.142586248492\n",
      "Mean Residual Deviance: 6.68923704087\n",
      "Scoring History: \n"
     ]
    },
    {
     "data": {
      "text/html": [
       "<div style=\"overflow:auto\"><table style=\"width:50%\"><tr><td><b></b></td>\n",
       "<td><b>timestamp</b></td>\n",
       "<td><b>duration</b></td>\n",
       "<td><b>number_of_trees</b></td>\n",
       "<td><b>training_rmse</b></td>\n",
       "<td><b>training_mae</b></td>\n",
       "<td><b>training_deviance</b></td>\n",
       "<td><b>validation_rmse</b></td>\n",
       "<td><b>validation_mae</b></td>\n",
       "<td><b>validation_deviance</b></td></tr>\n",
       "<tr><td></td>\n",
       "<td>2017-11-13 21:46:09</td>\n",
       "<td> 0.001 sec</td>\n",
       "<td>0.0</td>\n",
       "<td>9.0214236</td>\n",
       "<td>6.5323163</td>\n",
       "<td>81.3860844</td>\n",
       "<td>10.5053617</td>\n",
       "<td>8.0354377</td>\n",
       "<td>110.3626254</td></tr>\n",
       "<tr><td></td>\n",
       "<td>2017-11-13 21:46:09</td>\n",
       "<td> 0.004 sec</td>\n",
       "<td>1.0</td>\n",
       "<td>8.2378724</td>\n",
       "<td>5.9683502</td>\n",
       "<td>67.8625417</td>\n",
       "<td>9.6466729</td>\n",
       "<td>7.3452957</td>\n",
       "<td>93.0582979</td></tr>\n",
       "<tr><td></td>\n",
       "<td>2017-11-13 21:46:09</td>\n",
       "<td> 0.006 sec</td>\n",
       "<td>2.0</td>\n",
       "<td>7.5487244</td>\n",
       "<td>5.4743254</td>\n",
       "<td>56.9832393</td>\n",
       "<td>8.8693574</td>\n",
       "<td>6.6978579</td>\n",
       "<td>78.6655001</td></tr>\n",
       "<tr><td></td>\n",
       "<td>2017-11-13 21:46:09</td>\n",
       "<td> 0.009 sec</td>\n",
       "<td>3.0</td>\n",
       "<td>6.9301201</td>\n",
       "<td>5.0208529</td>\n",
       "<td>48.0265644</td>\n",
       "<td>8.1983883</td>\n",
       "<td>6.1176649</td>\n",
       "<td>67.2135715</td></tr>\n",
       "<tr><td></td>\n",
       "<td>2017-11-13 21:46:09</td>\n",
       "<td> 0.011 sec</td>\n",
       "<td>4.0</td>\n",
       "<td>6.3664987</td>\n",
       "<td>4.6170981</td>\n",
       "<td>40.5323055</td>\n",
       "<td>7.5714339</td>\n",
       "<td>5.6292806</td>\n",
       "<td>57.3266111</td></tr>\n",
       "<tr><td>---</td>\n",
       "<td>---</td>\n",
       "<td>---</td>\n",
       "<td>---</td>\n",
       "<td>---</td>\n",
       "<td>---</td>\n",
       "<td>---</td>\n",
       "<td>---</td>\n",
       "<td>---</td>\n",
       "<td>---</td></tr>\n",
       "<tr><td></td>\n",
       "<td>2017-11-13 21:46:09</td>\n",
       "<td> 0.097 sec</td>\n",
       "<td>46.0</td>\n",
       "<td>1.7494733</td>\n",
       "<td>1.2532421</td>\n",
       "<td>3.0606567</td>\n",
       "<td>2.6069146</td>\n",
       "<td>2.0387504</td>\n",
       "<td>6.7960039</td></tr>\n",
       "<tr><td></td>\n",
       "<td>2017-11-13 21:46:09</td>\n",
       "<td> 0.101 sec</td>\n",
       "<td>47.0</td>\n",
       "<td>1.7345561</td>\n",
       "<td>1.2416255</td>\n",
       "<td>3.0086847</td>\n",
       "<td>2.6110173</td>\n",
       "<td>2.0321656</td>\n",
       "<td>6.8174114</td></tr>\n",
       "<tr><td></td>\n",
       "<td>2017-11-13 21:46:09</td>\n",
       "<td> 0.103 sec</td>\n",
       "<td>48.0</td>\n",
       "<td>1.7240909</td>\n",
       "<td>1.2345456</td>\n",
       "<td>2.9724895</td>\n",
       "<td>2.6068574</td>\n",
       "<td>2.0287245</td>\n",
       "<td>6.7957053</td></tr>\n",
       "<tr><td></td>\n",
       "<td>2017-11-13 21:46:09</td>\n",
       "<td> 0.105 sec</td>\n",
       "<td>49.0</td>\n",
       "<td>1.7107562</td>\n",
       "<td>1.2261311</td>\n",
       "<td>2.9266868</td>\n",
       "<td>2.5965716</td>\n",
       "<td>2.0209033</td>\n",
       "<td>6.7421841</td></tr>\n",
       "<tr><td></td>\n",
       "<td>2017-11-13 21:46:09</td>\n",
       "<td> 0.108 sec</td>\n",
       "<td>50.0</td>\n",
       "<td>1.6972213</td>\n",
       "<td>1.2160568</td>\n",
       "<td>2.8805603</td>\n",
       "<td>2.5863559</td>\n",
       "<td>2.0212158</td>\n",
       "<td>6.6892370</td></tr></table></div>"
      ],
      "text/plain": [
       "     timestamp            duration    number_of_trees    training_rmse    training_mae    training_deviance    validation_rmse    validation_mae    validation_deviance\n",
       "---  -------------------  ----------  -----------------  ---------------  --------------  -------------------  -----------------  ----------------  ---------------------\n",
       "     2017-11-13 21:46:09  0.001 sec   0.0                9.02142363215    6.53231629031   81.3860843506        10.5053617467      8.0354376626      110.36262543\n",
       "     2017-11-13 21:46:09  0.004 sec   1.0                8.23787240052    5.96835021999   67.8625416872        9.64667289475      7.34529567545     93.0582979383\n",
       "     2017-11-13 21:46:09  0.006 sec   2.0                7.5487243514     5.47432538349   56.9832393334        8.86935736516      6.69785792798     78.665500071\n",
       "     2017-11-13 21:46:09  0.009 sec   3.0                6.93012008199    5.02085286768   48.0265643508        8.19838834773      6.11766488064     67.2135715002\n",
       "     2017-11-13 21:46:09  0.011 sec   4.0                6.36649868345    4.61709810988   40.5323054863        7.57143388486      5.62928055376     57.3266110728\n",
       "---  ---                  ---         ---                ---              ---             ---                  ---                ---               ---\n",
       "     2017-11-13 21:46:09  0.097 sec   46.0               1.74947327695    1.2532420586    3.06065674675        2.60691463838      2.03875035332     6.79600393178\n",
       "     2017-11-13 21:46:09  0.101 sec   47.0               1.73455605305    1.24162546189   3.00868470119        2.61101730768      2.03216557659     6.817411381\n",
       "     2017-11-13 21:46:09  0.103 sec   48.0               1.72409090542    1.2345455872    2.97248945015        2.60685736819      2.02872449412     6.79570533809\n",
       "     2017-11-13 21:46:09  0.105 sec   49.0               1.71075619519    1.22613106733   2.92668675937        2.59657160235      2.02090325691     6.7421840861\n",
       "     2017-11-13 21:46:09  0.108 sec   50.0               1.69722133585    1.21605675894   2.88056026286        2.58635593855      2.02121580951     6.68923704087"
      ]
     },
     "metadata": {},
     "output_type": "display_data"
    },
    {
     "name": "stdout",
     "output_type": "stream",
     "text": [
      "\n",
      "See the whole table with table.as_data_frame()\n",
      "Variable Importances: \n"
     ]
    },
    {
     "data": {
      "text/html": [
       "<div style=\"overflow:auto\"><table style=\"width:50%\"><tr><td><b>variable</b></td>\n",
       "<td><b>relative_importance</b></td>\n",
       "<td><b>scaled_importance</b></td>\n",
       "<td><b>percentage</b></td></tr>\n",
       "<tr><td>lstat</td>\n",
       "<td>78612.9609375</td>\n",
       "<td>1.0</td>\n",
       "<td>0.5170109</td></tr>\n",
       "<tr><td>rm</td>\n",
       "<td>48477.125</td>\n",
       "<td>0.6166556</td>\n",
       "<td>0.3188177</td></tr>\n",
       "<tr><td>nox</td>\n",
       "<td>6748.4257812</td>\n",
       "<td>0.0858437</td>\n",
       "<td>0.0443821</td></tr>\n",
       "<tr><td>dis</td>\n",
       "<td>6396.3041992</td>\n",
       "<td>0.0813645</td>\n",
       "<td>0.0420663</td></tr>\n",
       "<tr><td>crim</td>\n",
       "<td>3415.4191894</td>\n",
       "<td>0.0434460</td>\n",
       "<td>0.0224621</td></tr>\n",
       "<tr><td>age</td>\n",
       "<td>2679.9108887</td>\n",
       "<td>0.0340899</td>\n",
       "<td>0.0176249</td></tr>\n",
       "<tr><td>ptratio</td>\n",
       "<td>2339.2175293</td>\n",
       "<td>0.0297561</td>\n",
       "<td>0.0153842</td></tr>\n",
       "<tr><td>tax</td>\n",
       "<td>1475.7596435</td>\n",
       "<td>0.0187725</td>\n",
       "<td>0.0097056</td></tr>\n",
       "<tr><td>b</td>\n",
       "<td>1166.6232910</td>\n",
       "<td>0.0148401</td>\n",
       "<td>0.0076725</td></tr>\n",
       "<tr><td>indus</td>\n",
       "<td>344.2544250</td>\n",
       "<td>0.0043791</td>\n",
       "<td>0.0022640</td></tr>\n",
       "<tr><td>rad</td>\n",
       "<td>333.5917664</td>\n",
       "<td>0.0042435</td>\n",
       "<td>0.0021939</td></tr>\n",
       "<tr><td>zn</td>\n",
       "<td>48.1435661</td>\n",
       "<td>0.0006124</td>\n",
       "<td>0.0003166</td></tr>\n",
       "<tr><td>chas</td>\n",
       "<td>15.0871210</td>\n",
       "<td>0.0001919</td>\n",
       "<td>0.0000992</td></tr></table></div>"
      ],
      "text/plain": [
       "variable    relative_importance    scaled_importance    percentage\n",
       "----------  ---------------------  -------------------  ------------\n",
       "lstat       78613                  1                    0.517011\n",
       "rm          48477.1                0.616656             0.318818\n",
       "nox         6748.43                0.0858437            0.0443821\n",
       "dis         6396.3                 0.0813645            0.0420663\n",
       "crim        3415.42                0.043446             0.0224621\n",
       "age         2679.91                0.0340899            0.0176249\n",
       "ptratio     2339.22                0.0297561            0.0153842\n",
       "tax         1475.76                0.0187725            0.00970557\n",
       "b           1166.62                0.0148401            0.00767249\n",
       "indus       344.254                0.00437911           0.00226404\n",
       "rad         333.592                0.00424347           0.00219392\n",
       "zn          48.1436                0.000612413          0.000316624\n",
       "chas        15.0871                0.000191916          9.92229e-05"
      ]
     },
     "metadata": {},
     "output_type": "display_data"
    },
    {
     "data": {
      "text/plain": []
     },
     "execution_count": 94,
     "metadata": {},
     "output_type": "execute_result"
    }
   ],
   "source": [
    "gbm_model_with_training_and_validtion"
   ]
  },
  {
   "cell_type": "code",
   "execution_count": 59,
   "metadata": {
    "collapsed": true
   },
   "outputs": [],
   "source": [
    "#:Building Gradient Boosting (GBM) -  Regression model with training and validation data now\n",
    "#  Setting key GBM parameters"
   ]
  },
  {
   "cell_type": "code",
   "execution_count": 71,
   "metadata": {},
   "outputs": [],
   "source": [
    "gbm_model_with_training_cv_config = H2OGradientBoostingEstimator(distribution=\"AUTO\",\n",
    "                                      ntrees=10,\n",
    "                                      max_depth=3,\n",
    "                                      min_rows=2,\n",
    "                                      learn_rate=0.2,\n",
    "                                      nfolds=5,\n",
    "                                      keep_cross_validation_predictions=True,\n",
    "                                      seed=1)"
   ]
  },
  {
   "cell_type": "code",
   "execution_count": 72,
   "metadata": {},
   "outputs": [
    {
     "name": "stdout",
     "output_type": "stream",
     "text": [
      "gbm Model Build progress: |███████████████████████████████████████████████| 100%\n"
     ]
    }
   ],
   "source": [
    "gbm_model_with_training_cv_config.train(x = features, y = response, \n",
    "                                            training_frame=df_house_train, \n",
    "                                           model_id = \"glm_model_with_training_and_validtion_python\")"
   ]
  },
  {
   "cell_type": "code",
   "execution_count": 73,
   "metadata": {},
   "outputs": [
    {
     "name": "stdout",
     "output_type": "stream",
     "text": [
      "Model Details\n",
      "=============\n",
      "H2OGradientBoostingEstimator :  Gradient Boosting Machine\n",
      "Model Key:  glm_model_with_training_and_validtion_python\n",
      "\n",
      "\n",
      "ModelMetricsRegression: gbm\n",
      "** Reported on train data. **\n",
      "\n",
      "MSE: 7.11171181706\n",
      "RMSE: 2.66677929665\n",
      "MAE: 2.07674210616\n",
      "RMSLE: 0.138489775617\n",
      "Mean Residual Deviance: 7.11171181706\n",
      "\n",
      "ModelMetricsRegression: gbm\n",
      "** Reported on cross-validation data. **\n",
      "\n",
      "MSE: 13.9557638372\n",
      "RMSE: 3.73574140396\n",
      "MAE: 2.66556713199\n",
      "RMSLE: 0.173420469639\n",
      "Mean Residual Deviance: 13.9557638372\n",
      "Cross-Validation Metrics Summary: \n"
     ]
    },
    {
     "data": {
      "text/html": [
       "<div style=\"overflow:auto\"><table style=\"width:50%\"><tr><td><b></b></td>\n",
       "<td><b>mean</b></td>\n",
       "<td><b>sd</b></td>\n",
       "<td><b>cv_1_valid</b></td>\n",
       "<td><b>cv_2_valid</b></td>\n",
       "<td><b>cv_3_valid</b></td>\n",
       "<td><b>cv_4_valid</b></td>\n",
       "<td><b>cv_5_valid</b></td></tr>\n",
       "<tr><td>mae</td>\n",
       "<td>2.6803577</td>\n",
       "<td>0.2138530</td>\n",
       "<td>2.5204084</td>\n",
       "<td>2.3174818</td>\n",
       "<td>2.492029</td>\n",
       "<td>2.9593496</td>\n",
       "<td>3.1125195</td></tr>\n",
       "<tr><td>mean_residual_deviance</td>\n",
       "<td>14.094207</td>\n",
       "<td>2.9515212</td>\n",
       "<td>14.148179</td>\n",
       "<td>9.05112</td>\n",
       "<td>10.369685</td>\n",
       "<td>16.23254</td>\n",
       "<td>20.66951</td></tr>\n",
       "<tr><td>mse</td>\n",
       "<td>14.094207</td>\n",
       "<td>2.9515212</td>\n",
       "<td>14.148179</td>\n",
       "<td>9.05112</td>\n",
       "<td>10.369685</td>\n",
       "<td>16.23254</td>\n",
       "<td>20.66951</td></tr>\n",
       "<tr><td>r2</td>\n",
       "<td>0.8136706</td>\n",
       "<td>0.0521258</td>\n",
       "<td>0.8218292</td>\n",
       "<td>0.8353588</td>\n",
       "<td>0.8956386</td>\n",
       "<td>0.8404192</td>\n",
       "<td>0.6751072</td></tr>\n",
       "<tr><td>residual_deviance</td>\n",
       "<td>14.094207</td>\n",
       "<td>2.9515212</td>\n",
       "<td>14.148179</td>\n",
       "<td>9.05112</td>\n",
       "<td>10.369685</td>\n",
       "<td>16.23254</td>\n",
       "<td>20.66951</td></tr>\n",
       "<tr><td>rmse</td>\n",
       "<td>3.71309</td>\n",
       "<td>0.3918990</td>\n",
       "<td>3.7614067</td>\n",
       "<td>3.008508</td>\n",
       "<td>3.2201996</td>\n",
       "<td>4.0289626</td>\n",
       "<td>4.5463734</td></tr>\n",
       "<tr><td>rmsle</td>\n",
       "<td>0.1703835</td>\n",
       "<td>0.0252869</td>\n",
       "<td>0.1644431</td>\n",
       "<td>0.1229773</td>\n",
       "<td>0.1602757</td>\n",
       "<td>0.1705176</td>\n",
       "<td>0.2337037</td></tr></table></div>"
      ],
      "text/plain": [
       "                        mean      sd         cv_1_valid    cv_2_valid    cv_3_valid    cv_4_valid    cv_5_valid\n",
       "----------------------  --------  ---------  ------------  ------------  ------------  ------------  ------------\n",
       "mae                     2.68036   0.213853   2.52041       2.31748       2.49203       2.95935       3.11252\n",
       "mean_residual_deviance  14.0942   2.95152    14.1482       9.05112       10.3697       16.2325       20.6695\n",
       "mse                     14.0942   2.95152    14.1482       9.05112       10.3697       16.2325       20.6695\n",
       "r2                      0.813671  0.0521258  0.821829      0.835359      0.895639      0.840419      0.675107\n",
       "residual_deviance       14.0942   2.95152    14.1482       9.05112       10.3697       16.2325       20.6695\n",
       "rmse                    3.71309   0.391899   3.76141       3.00851       3.2202        4.02896       4.54637\n",
       "rmsle                   0.170383  0.0252869  0.164443      0.122977      0.160276      0.170518      0.233704"
      ]
     },
     "metadata": {},
     "output_type": "display_data"
    },
    {
     "name": "stdout",
     "output_type": "stream",
     "text": [
      "Scoring History: \n"
     ]
    },
    {
     "data": {
      "text/html": [
       "<div style=\"overflow:auto\"><table style=\"width:50%\"><tr><td><b></b></td>\n",
       "<td><b>timestamp</b></td>\n",
       "<td><b>duration</b></td>\n",
       "<td><b>number_of_trees</b></td>\n",
       "<td><b>training_rmse</b></td>\n",
       "<td><b>training_mae</b></td>\n",
       "<td><b>training_deviance</b></td></tr>\n",
       "<tr><td></td>\n",
       "<td>2017-11-13 21:44:32</td>\n",
       "<td> 0.123 sec</td>\n",
       "<td>0.0</td>\n",
       "<td>9.0214236</td>\n",
       "<td>6.5323163</td>\n",
       "<td>81.3860844</td></tr>\n",
       "<tr><td></td>\n",
       "<td>2017-11-13 21:44:32</td>\n",
       "<td> 0.126 sec</td>\n",
       "<td>1.0</td>\n",
       "<td>7.5807724</td>\n",
       "<td>5.5345748</td>\n",
       "<td>57.4681096</td></tr>\n",
       "<tr><td></td>\n",
       "<td>2017-11-13 21:44:32</td>\n",
       "<td> 0.127 sec</td>\n",
       "<td>2.0</td>\n",
       "<td>6.3862971</td>\n",
       "<td>4.7285212</td>\n",
       "<td>40.7847912</td></tr>\n",
       "<tr><td></td>\n",
       "<td>2017-11-13 21:44:32</td>\n",
       "<td> 0.129 sec</td>\n",
       "<td>3.0</td>\n",
       "<td>5.4506999</td>\n",
       "<td>4.0695520</td>\n",
       "<td>29.7101298</td></tr>\n",
       "<tr><td></td>\n",
       "<td>2017-11-13 21:44:32</td>\n",
       "<td> 0.131 sec</td>\n",
       "<td>4.0</td>\n",
       "<td>4.7023458</td>\n",
       "<td>3.5160174</td>\n",
       "<td>22.1120558</td></tr>\n",
       "<tr><td></td>\n",
       "<td>2017-11-13 21:44:32</td>\n",
       "<td> 0.133 sec</td>\n",
       "<td>5.0</td>\n",
       "<td>4.1558427</td>\n",
       "<td>3.1337179</td>\n",
       "<td>17.2710283</td></tr>\n",
       "<tr><td></td>\n",
       "<td>2017-11-13 21:44:32</td>\n",
       "<td> 0.134 sec</td>\n",
       "<td>6.0</td>\n",
       "<td>3.7119798</td>\n",
       "<td>2.8099987</td>\n",
       "<td>13.7787943</td></tr>\n",
       "<tr><td></td>\n",
       "<td>2017-11-13 21:44:32</td>\n",
       "<td> 0.135 sec</td>\n",
       "<td>7.0</td>\n",
       "<td>3.3535796</td>\n",
       "<td>2.5676793</td>\n",
       "<td>11.2464962</td></tr>\n",
       "<tr><td></td>\n",
       "<td>2017-11-13 21:44:32</td>\n",
       "<td> 0.137 sec</td>\n",
       "<td>8.0</td>\n",
       "<td>3.0747721</td>\n",
       "<td>2.3641834</td>\n",
       "<td>9.4542234</td></tr>\n",
       "<tr><td></td>\n",
       "<td>2017-11-13 21:44:32</td>\n",
       "<td> 0.138 sec</td>\n",
       "<td>9.0</td>\n",
       "<td>2.8439842</td>\n",
       "<td>2.2179213</td>\n",
       "<td>8.0882460</td></tr>\n",
       "<tr><td></td>\n",
       "<td>2017-11-13 21:44:32</td>\n",
       "<td> 0.140 sec</td>\n",
       "<td>10.0</td>\n",
       "<td>2.6667793</td>\n",
       "<td>2.0767421</td>\n",
       "<td>7.1117118</td></tr></table></div>"
      ],
      "text/plain": [
       "    timestamp            duration    number_of_trees    training_rmse    training_mae    training_deviance\n",
       "--  -------------------  ----------  -----------------  ---------------  --------------  -------------------\n",
       "    2017-11-13 21:44:32  0.123 sec   0                  9.02142          6.53232         81.3861\n",
       "    2017-11-13 21:44:32  0.126 sec   1                  7.58077          5.53457         57.4681\n",
       "    2017-11-13 21:44:32  0.127 sec   2                  6.3863           4.72852         40.7848\n",
       "    2017-11-13 21:44:32  0.129 sec   3                  5.4507           4.06955         29.7101\n",
       "    2017-11-13 21:44:32  0.131 sec   4                  4.70235          3.51602         22.1121\n",
       "    2017-11-13 21:44:32  0.133 sec   5                  4.15584          3.13372         17.271\n",
       "    2017-11-13 21:44:32  0.134 sec   6                  3.71198          2.81            13.7788\n",
       "    2017-11-13 21:44:32  0.135 sec   7                  3.35358          2.56768         11.2465\n",
       "    2017-11-13 21:44:32  0.137 sec   8                  3.07477          2.36418         9.45422\n",
       "    2017-11-13 21:44:32  0.138 sec   9                  2.84398          2.21792         8.08825\n",
       "    2017-11-13 21:44:32  0.140 sec   10                 2.66678          2.07674         7.11171"
      ]
     },
     "metadata": {},
     "output_type": "display_data"
    },
    {
     "name": "stdout",
     "output_type": "stream",
     "text": [
      "Variable Importances: \n"
     ]
    },
    {
     "data": {
      "text/html": [
       "<div style=\"overflow:auto\"><table style=\"width:50%\"><tr><td><b>variable</b></td>\n",
       "<td><b>relative_importance</b></td>\n",
       "<td><b>scaled_importance</b></td>\n",
       "<td><b>percentage</b></td></tr>\n",
       "<tr><td>rm</td>\n",
       "<td>36017.3164062</td>\n",
       "<td>1.0</td>\n",
       "<td>0.4743808</td></tr>\n",
       "<tr><td>lstat</td>\n",
       "<td>28022.1464844</td>\n",
       "<td>0.7780187</td>\n",
       "<td>0.3690771</td></tr>\n",
       "<tr><td>dis</td>\n",
       "<td>5598.6972656</td>\n",
       "<td>0.1554446</td>\n",
       "<td>0.0737399</td></tr>\n",
       "<tr><td>nox</td>\n",
       "<td>2135.4477539</td>\n",
       "<td>0.0592895</td>\n",
       "<td>0.0281258</td></tr>\n",
       "<tr><td>ptratio</td>\n",
       "<td>2087.7563477</td>\n",
       "<td>0.0579653</td>\n",
       "<td>0.0274976</td></tr>\n",
       "<tr><td>crim</td>\n",
       "<td>1626.9602051</td>\n",
       "<td>0.0451716</td>\n",
       "<td>0.0214285</td></tr>\n",
       "<tr><td>tax</td>\n",
       "<td>359.4153137</td>\n",
       "<td>0.0099790</td>\n",
       "<td>0.0047338</td></tr>\n",
       "<tr><td>rad</td>\n",
       "<td>39.9138908</td>\n",
       "<td>0.0011082</td>\n",
       "<td>0.0005257</td></tr>\n",
       "<tr><td>age</td>\n",
       "<td>37.2540436</td>\n",
       "<td>0.0010343</td>\n",
       "<td>0.0004907</td></tr>\n",
       "<tr><td>zn</td>\n",
       "<td>0.0</td>\n",
       "<td>0.0</td>\n",
       "<td>0.0</td></tr>\n",
       "<tr><td>indus</td>\n",
       "<td>0.0</td>\n",
       "<td>0.0</td>\n",
       "<td>0.0</td></tr>\n",
       "<tr><td>chas</td>\n",
       "<td>0.0</td>\n",
       "<td>0.0</td>\n",
       "<td>0.0</td></tr>\n",
       "<tr><td>b</td>\n",
       "<td>0.0</td>\n",
       "<td>0.0</td>\n",
       "<td>0.0</td></tr></table></div>"
      ],
      "text/plain": [
       "variable    relative_importance    scaled_importance    percentage\n",
       "----------  ---------------------  -------------------  ------------\n",
       "rm          36017.3                1                    0.474381\n",
       "lstat       28022.1                0.778019             0.369077\n",
       "dis         5598.7                 0.155445             0.0737399\n",
       "nox         2135.45                0.0592895            0.0281258\n",
       "ptratio     2087.76                0.0579653            0.0274976\n",
       "crim        1626.96                0.0451716            0.0214285\n",
       "tax         359.415                0.00997896           0.00473383\n",
       "rad         39.9139                0.00110819           0.000525702\n",
       "age         37.254                 0.00103434           0.00049067\n",
       "zn          0                      0                    0\n",
       "indus       0                      0                    0\n",
       "chas        0                      0                    0\n",
       "b           0                      0                    0"
      ]
     },
     "metadata": {},
     "output_type": "display_data"
    },
    {
     "data": {
      "text/plain": []
     },
     "execution_count": 73,
     "metadata": {},
     "output_type": "execute_result"
    }
   ],
   "source": [
    "gbm_model_with_training_cv_config"
   ]
  },
  {
   "cell_type": "code",
   "execution_count": null,
   "metadata": {
    "collapsed": true
   },
   "outputs": [],
   "source": [
    "#: Performing predictions with one of the above model"
   ]
  },
  {
   "cell_type": "code",
   "execution_count": 74,
   "metadata": {},
   "outputs": [
    {
     "name": "stdout",
     "output_type": "stream",
     "text": [
      "gbm prediction progress: |████████████████████████████████████████████████| 100%\n"
     ]
    }
   ],
   "source": [
    "gbm_predictions = gbm_model_with_training_cv_config.predict(test_df)"
   ]
  },
  {
   "cell_type": "code",
   "execution_count": 75,
   "metadata": {},
   "outputs": [
    {
     "data": {
      "text/html": [
       "<table>\n",
       "<thead>\n",
       "<tr><th style=\"text-align: right;\">  predict</th></tr>\n",
       "</thead>\n",
       "<tbody>\n",
       "<tr><td style=\"text-align: right;\">  26.1239</td></tr>\n",
       "<tr><td style=\"text-align: right;\">  24.3819</td></tr>\n",
       "<tr><td style=\"text-align: right;\">  17.8637</td></tr>\n",
       "<tr><td style=\"text-align: right;\">  16.9427</td></tr>\n",
       "<tr><td style=\"text-align: right;\">  16.9427</td></tr>\n",
       "<tr><td style=\"text-align: right;\">  17.8637</td></tr>\n",
       "<tr><td style=\"text-align: right;\">  23.083 </td></tr>\n",
       "<tr><td style=\"text-align: right;\">  20.9039</td></tr>\n",
       "<tr><td style=\"text-align: right;\">  28.8818</td></tr>\n",
       "<tr><td style=\"text-align: right;\">  21.236 </td></tr>\n",
       "</tbody>\n",
       "</table>"
      ]
     },
     "metadata": {},
     "output_type": "display_data"
    },
    {
     "data": {
      "text/plain": []
     },
     "execution_count": 75,
     "metadata": {},
     "output_type": "execute_result"
    }
   ],
   "source": [
    "gbm_predictions"
   ]
  },
  {
   "cell_type": "code",
   "execution_count": 78,
   "metadata": {
    "collapsed": true
   },
   "outputs": [],
   "source": [
    "#: Understanding/Validating predictions based on prediction results historgram"
   ]
  },
  {
   "cell_type": "code",
   "execution_count": 80,
   "metadata": {},
   "outputs": [
    {
     "data": {
      "text/plain": [
       "h2o.frame.H2OFrame"
      ]
     },
     "execution_count": 80,
     "metadata": {},
     "output_type": "execute_result"
    }
   ],
   "source": [
    "type(gbm_predictions)"
   ]
  },
  {
   "cell_type": "code",
   "execution_count": 81,
   "metadata": {},
   "outputs": [
    {
     "data": {
      "image/png": "[encoded data removed]",
      "text/plain": [
       "<matplotlib.figure.Figure at 0x10ad26650>"
      ]
     },
     "metadata": {},
     "output_type": "display_data"
    }
   ],
   "source": [
    "gbm_predictions.hist()"
   ]
  },
  {
   "cell_type": "code",
   "execution_count": 82,
   "metadata": {
    "collapsed": true
   },
   "outputs": [],
   "source": [
    "#: Understanding/Validating predictions based on prediction results historgram"
   ]
  },
  {
   "cell_type": "code",
   "execution_count": 83,
   "metadata": {},
   "outputs": [
    {
     "data": {
      "image/png": "[encoded data removed]",
      "text/plain": [
       "<matplotlib.figure.Figure at 0x1123dd890>"
      ]
     },
     "metadata": {},
     "output_type": "display_data"
    }
   ],
   "source": [
    "test_df['medv'].hist()"
   ]
  },
  {
   "cell_type": "code",
   "execution_count": 84,
   "metadata": {
    "collapsed": true
   },
   "outputs": [],
   "source": [
    "#: Here we can select the best model based on accuracy among all of above models we have created"
   ]
  },
  {
   "cell_type": "code",
   "execution_count": 85,
   "metadata": {},
   "outputs": [
    {
     "name": "stdout",
     "output_type": "stream",
     "text": [
      "\n",
      "ModelMetricsRegression: gbm\n",
      "** Reported on train data. **\n",
      "\n",
      "MSE: 2.43245942278\n",
      "RMSE: 1.55963438753\n",
      "MAE: 1.14724929561\n",
      "RMSLE: 0.0729168703898\n",
      "Mean Residual Deviance: 2.43245942278\n"
     ]
    },
    {
     "data": {
      "text/plain": []
     },
     "execution_count": 85,
     "metadata": {},
     "output_type": "execute_result"
    }
   ],
   "source": [
    "gbm_model_with_training_and_cv.model_performance(train=True)"
   ]
  },
  {
   "cell_type": "code",
   "execution_count": 86,
   "metadata": {
    "collapsed": true
   },
   "outputs": [],
   "source": [
    "#: Here we can select the best model based on accuracy among all of above models we have created \n",
    "#: R^2 Error"
   ]
  },
  {
   "cell_type": "code",
   "execution_count": 87,
   "metadata": {},
   "outputs": [
    {
     "data": {
      "text/plain": [
       "0.9710962740412776"
      ]
     },
     "execution_count": 87,
     "metadata": {},
     "output_type": "execute_result"
    }
   ],
   "source": [
    "gbm_model_with_training_and_cv.model_performance(train=True).r2()"
   ]
  },
  {
   "cell_type": "code",
   "execution_count": 88,
   "metadata": {
    "collapsed": true
   },
   "outputs": [],
   "source": [
    "#: RMSE (Root Mean Square) Error"
   ]
  },
  {
   "cell_type": "code",
   "execution_count": 90,
   "metadata": {},
   "outputs": [
    {
     "name": "stdout",
     "output_type": "stream",
     "text": [
      "1.55963438753\n",
      "3.62734636733\n"
     ]
    }
   ],
   "source": [
    "print(gbm_model_with_training_and_cv.model_performance(train=True).rmse())\n",
    "print(gbm_model_with_training_and_cv.model_performance(xval=True).rmse())"
   ]
  },
  {
   "cell_type": "code",
   "execution_count": 101,
   "metadata": {
    "collapsed": true
   },
   "outputs": [],
   "source": [
    "#: R^2 (R^2) Error"
   ]
  },
  {
   "cell_type": "code",
   "execution_count": 102,
   "metadata": {},
   "outputs": [
    {
     "name": "stdout",
     "output_type": "stream",
     "text": [
      "0.964606231079\n",
      "0.939063232834\n"
     ]
    }
   ],
   "source": [
    "print(gbm_model_with_training_and_validtion.model_performance(train=True).r2())\n",
    "print(gbm_model_with_training_and_validtion.model_performance(valid=True).r2())"
   ]
  },
  {
   "cell_type": "code",
   "execution_count": 103,
   "metadata": {
    "collapsed": true
   },
   "outputs": [],
   "source": [
    "#: Getting model ID from an H2O Model"
   ]
  },
  {
   "cell_type": "code",
   "execution_count": 104,
   "metadata": {},
   "outputs": [
    {
     "name": "stdout",
     "output_type": "stream",
     "text": [
      "GBM_model_python_1510608322538_109\n",
      "glm_model_with_training_and_validtion_python\n"
     ]
    }
   ],
   "source": [
    "print(gbm_model_with_training_and_cv.model_id)\n",
    "print(gbm_model_with_training_and_validtion.model_id)"
   ]
  },
  {
   "cell_type": "code",
   "execution_count": 105,
   "metadata": {
    "collapsed": true
   },
   "outputs": [],
   "source": [
    "#: Because we have built the GBM model, getting coefficients from the model will give error"
   ]
  },
  {
   "cell_type": "code",
   "execution_count": 119,
   "metadata": {},
   "outputs": [
    {
     "ename": "KeyError",
     "evalue": "u'coefficients_table'",
     "output_type": "error",
     "traceback": [
      "\u001b[0;31m---------------------------------------------------------------------------\u001b[0m",
      "\u001b[0;31mKeyError\u001b[0m                                  Traceback (most recent call last)",
      "\u001b[0;32m<ipython-input-119-b797f65637f7>\u001b[0m in \u001b[0;36m<module>\u001b[0;34m()\u001b[0m\n\u001b[1;32m      1\u001b[0m \u001b[0;31m## Coeffiecients >>> GBM model does not have Coefficents to display\u001b[0m\u001b[0;34m\u001b[0m\u001b[0;34m\u001b[0m\u001b[0m\n\u001b[0;32m----> 2\u001b[0;31m \u001b[0mgbm_model_with_training_and_validtion\u001b[0m\u001b[0;34m.\u001b[0m\u001b[0mcoef\u001b[0m\u001b[0;34m(\u001b[0m\u001b[0;34m)\u001b[0m\u001b[0;34m\u001b[0m\u001b[0m\n\u001b[0m",
      "\u001b[0;32m/Users/avkashchauhan/anaconda3/envs/python27/lib/python2.7/site-packages/h2o/model/model_base.pyc\u001b[0m in \u001b[0;36mcoef\u001b[0;34m(self)\u001b[0m\n\u001b[1;32m    454\u001b[0m         \u001b[0mNote\u001b[0m\u001b[0;34m:\u001b[0m \u001b[0mstandardize\u001b[0m \u001b[0;34m=\u001b[0m \u001b[0mTrue\u001b[0m \u001b[0mby\u001b[0m \u001b[0mdefault\u001b[0m\u001b[0;34m,\u001b[0m \u001b[0;32mif\u001b[0m \u001b[0mset\u001b[0m \u001b[0mto\u001b[0m \u001b[0mFalse\u001b[0m \u001b[0mthen\u001b[0m \u001b[0mcoef\u001b[0m\u001b[0;34m(\u001b[0m\u001b[0;34m)\u001b[0m \u001b[0;32mreturn\u001b[0m \u001b[0mthe\u001b[0m \u001b[0mcoefficients\u001b[0m \u001b[0mwhich\u001b[0m \u001b[0mare\u001b[0m \u001b[0mfit\u001b[0m \u001b[0mdirectly\u001b[0m\u001b[0;34m.\u001b[0m\u001b[0;34m\u001b[0m\u001b[0m\n\u001b[1;32m    455\u001b[0m         \"\"\"\n\u001b[0;32m--> 456\u001b[0;31m         \u001b[0mtbl\u001b[0m \u001b[0;34m=\u001b[0m \u001b[0mself\u001b[0m\u001b[0;34m.\u001b[0m\u001b[0m_model_json\u001b[0m\u001b[0;34m[\u001b[0m\u001b[0;34m\"output\"\u001b[0m\u001b[0;34m]\u001b[0m\u001b[0;34m[\u001b[0m\u001b[0;34m\"coefficients_table\"\u001b[0m\u001b[0;34m]\u001b[0m\u001b[0;34m\u001b[0m\u001b[0m\n\u001b[0m\u001b[1;32m    457\u001b[0m         \u001b[0;32mif\u001b[0m \u001b[0mtbl\u001b[0m \u001b[0;32mis\u001b[0m \u001b[0mNone\u001b[0m\u001b[0;34m:\u001b[0m\u001b[0;34m\u001b[0m\u001b[0m\n\u001b[1;32m    458\u001b[0m             \u001b[0;32mreturn\u001b[0m \u001b[0mNone\u001b[0m\u001b[0;34m\u001b[0m\u001b[0m\n",
      "\u001b[0;31mKeyError\u001b[0m: u'coefficients_table'"
     ]
    }
   ],
   "source": [
    "## coefficients >>> GBM model does not have coefficients to display\n",
    "gbm_model_with_training_and_validtion.coef()"
   ]
  },
  {
   "cell_type": "code",
   "execution_count": 114,
   "metadata": {
    "collapsed": true
   },
   "outputs": [],
   "source": [
    "#: Because we have built the GBM model, getting coefficients from the model will give error"
   ]
  },
  {
   "cell_type": "code",
   "execution_count": 121,
   "metadata": {},
   "outputs": [
    {
     "ename": "KeyError",
     "evalue": "u'coefficients_table'",
     "output_type": "error",
     "traceback": [
      "\u001b[0;31m---------------------------------------------------------------------------\u001b[0m",
      "\u001b[0;31mKeyError\u001b[0m                                  Traceback (most recent call last)",
      "\u001b[0;32m<ipython-input-121-62405970672a>\u001b[0m in \u001b[0;36m<module>\u001b[0;34m()\u001b[0m\n\u001b[0;32m----> 1\u001b[0;31m \u001b[0mgbm_model_with_training_and_cv\u001b[0m\u001b[0;34m.\u001b[0m\u001b[0mcoef_norm\u001b[0m\u001b[0;34m(\u001b[0m\u001b[0;34m)\u001b[0m \u001b[0;31m## >>> GBM models does not have coeffiecients\u001b[0m\u001b[0;34m\u001b[0m\u001b[0m\n\u001b[0m",
      "\u001b[0;32m/Users/avkashchauhan/anaconda3/envs/python27/lib/python2.7/site-packages/h2o/model/model_base.pyc\u001b[0m in \u001b[0;36mcoef_norm\u001b[0;34m(self)\u001b[0m\n\u001b[1;32m    466\u001b[0m         \u001b[0mThese\u001b[0m \u001b[0mcoefficients\u001b[0m \u001b[0mcan\u001b[0m \u001b[0mbe\u001b[0m \u001b[0mused\u001b[0m \u001b[0mto\u001b[0m \u001b[0mevaluate\u001b[0m \u001b[0mvariable\u001b[0m \u001b[0mimportance\u001b[0m\u001b[0;34m.\u001b[0m\u001b[0;34m\u001b[0m\u001b[0m\n\u001b[1;32m    467\u001b[0m         \"\"\"\n\u001b[0;32m--> 468\u001b[0;31m         \u001b[0mtbl\u001b[0m \u001b[0;34m=\u001b[0m \u001b[0mself\u001b[0m\u001b[0;34m.\u001b[0m\u001b[0m_model_json\u001b[0m\u001b[0;34m[\u001b[0m\u001b[0;34m\"output\"\u001b[0m\u001b[0;34m]\u001b[0m\u001b[0;34m[\u001b[0m\u001b[0;34m\"coefficients_table\"\u001b[0m\u001b[0;34m]\u001b[0m\u001b[0;34m\u001b[0m\u001b[0m\n\u001b[0m\u001b[1;32m    469\u001b[0m         \u001b[0;32mif\u001b[0m \u001b[0mtbl\u001b[0m \u001b[0;32mis\u001b[0m \u001b[0mNone\u001b[0m\u001b[0;34m:\u001b[0m\u001b[0;34m\u001b[0m\u001b[0m\n\u001b[1;32m    470\u001b[0m             \u001b[0;32mreturn\u001b[0m \u001b[0mNone\u001b[0m\u001b[0;34m\u001b[0m\u001b[0m\n",
      "\u001b[0;31mKeyError\u001b[0m: u'coefficients_table'"
     ]
    }
   ],
   "source": [
    "gbm_model_with_training_and_cv.coef_norm() ## >>> GBM models does not have coeffiecients"
   ]
  },
  {
   "cell_type": "code",
   "execution_count": 122,
   "metadata": {
    "collapsed": true
   },
   "outputs": [],
   "source": [
    "#: Getting Scorring History"
   ]
  },
  {
   "cell_type": "code",
   "execution_count": 118,
   "metadata": {},
   "outputs": [
    {
     "data": {
      "text/html": [
       "<div>\n",
       "<style>\n",
       "    .dataframe thead tr:only-child th {\n",
       "        text-align: right;\n",
       "    }\n",
       "\n",
       "    .dataframe thead th {\n",
       "        text-align: left;\n",
       "    }\n",
       "\n",
       "    .dataframe tbody tr th {\n",
       "        vertical-align: top;\n",
       "    }\n",
       "</style>\n",
       "<table border=\"1\" class=\"dataframe\">\n",
       "  <thead>\n",
       "    <tr style=\"text-align: right;\">\n",
       "      <th></th>\n",
       "      <th></th>\n",
       "      <th>timestamp</th>\n",
       "      <th>duration</th>\n",
       "      <th>number_of_trees</th>\n",
       "      <th>training_rmse</th>\n",
       "      <th>training_mae</th>\n",
       "      <th>training_deviance</th>\n",
       "    </tr>\n",
       "  </thead>\n",
       "  <tbody>\n",
       "    <tr>\n",
       "      <th>0</th>\n",
       "      <td></td>\n",
       "      <td>2017-11-13 21:38:27</td>\n",
       "      <td>0.378 sec</td>\n",
       "      <td>0.0</td>\n",
       "      <td>9.173729</td>\n",
       "      <td>6.662434</td>\n",
       "      <td>84.157296</td>\n",
       "    </tr>\n",
       "    <tr>\n",
       "      <th>1</th>\n",
       "      <td></td>\n",
       "      <td>2017-11-13 21:38:27</td>\n",
       "      <td>0.382 sec</td>\n",
       "      <td>1.0</td>\n",
       "      <td>8.361668</td>\n",
       "      <td>6.064148</td>\n",
       "      <td>69.917487</td>\n",
       "    </tr>\n",
       "    <tr>\n",
       "      <th>2</th>\n",
       "      <td></td>\n",
       "      <td>2017-11-13 21:38:27</td>\n",
       "      <td>0.385 sec</td>\n",
       "      <td>2.0</td>\n",
       "      <td>7.638784</td>\n",
       "      <td>5.542717</td>\n",
       "      <td>58.351026</td>\n",
       "    </tr>\n",
       "    <tr>\n",
       "      <th>3</th>\n",
       "      <td></td>\n",
       "      <td>2017-11-13 21:38:27</td>\n",
       "      <td>0.387 sec</td>\n",
       "      <td>3.0</td>\n",
       "      <td>6.997353</td>\n",
       "      <td>5.074023</td>\n",
       "      <td>48.962950</td>\n",
       "    </tr>\n",
       "    <tr>\n",
       "      <th>4</th>\n",
       "      <td></td>\n",
       "      <td>2017-11-13 21:38:27</td>\n",
       "      <td>0.389 sec</td>\n",
       "      <td>4.0</td>\n",
       "      <td>6.425762</td>\n",
       "      <td>4.661831</td>\n",
       "      <td>41.290421</td>\n",
       "    </tr>\n",
       "    <tr>\n",
       "      <th>5</th>\n",
       "      <td></td>\n",
       "      <td>2017-11-13 21:38:27</td>\n",
       "      <td>0.392 sec</td>\n",
       "      <td>5.0</td>\n",
       "      <td>5.921118</td>\n",
       "      <td>4.299241</td>\n",
       "      <td>35.059635</td>\n",
       "    </tr>\n",
       "    <tr>\n",
       "      <th>6</th>\n",
       "      <td></td>\n",
       "      <td>2017-11-13 21:38:27</td>\n",
       "      <td>0.394 sec</td>\n",
       "      <td>6.0</td>\n",
       "      <td>5.471653</td>\n",
       "      <td>3.970074</td>\n",
       "      <td>29.938982</td>\n",
       "    </tr>\n",
       "    <tr>\n",
       "      <th>7</th>\n",
       "      <td></td>\n",
       "      <td>2017-11-13 21:38:27</td>\n",
       "      <td>0.396 sec</td>\n",
       "      <td>7.0</td>\n",
       "      <td>5.076344</td>\n",
       "      <td>3.685588</td>\n",
       "      <td>25.769265</td>\n",
       "    </tr>\n",
       "    <tr>\n",
       "      <th>8</th>\n",
       "      <td></td>\n",
       "      <td>2017-11-13 21:38:27</td>\n",
       "      <td>0.399 sec</td>\n",
       "      <td>8.0</td>\n",
       "      <td>4.718492</td>\n",
       "      <td>3.432053</td>\n",
       "      <td>22.264165</td>\n",
       "    </tr>\n",
       "    <tr>\n",
       "      <th>9</th>\n",
       "      <td></td>\n",
       "      <td>2017-11-13 21:38:27</td>\n",
       "      <td>0.401 sec</td>\n",
       "      <td>9.0</td>\n",
       "      <td>4.398797</td>\n",
       "      <td>3.198106</td>\n",
       "      <td>19.349414</td>\n",
       "    </tr>\n",
       "    <tr>\n",
       "      <th>10</th>\n",
       "      <td></td>\n",
       "      <td>2017-11-13 21:38:27</td>\n",
       "      <td>0.404 sec</td>\n",
       "      <td>10.0</td>\n",
       "      <td>4.121895</td>\n",
       "      <td>2.993922</td>\n",
       "      <td>16.990018</td>\n",
       "    </tr>\n",
       "    <tr>\n",
       "      <th>11</th>\n",
       "      <td></td>\n",
       "      <td>2017-11-13 21:38:27</td>\n",
       "      <td>0.406 sec</td>\n",
       "      <td>11.0</td>\n",
       "      <td>3.850483</td>\n",
       "      <td>2.797455</td>\n",
       "      <td>14.826217</td>\n",
       "    </tr>\n",
       "    <tr>\n",
       "      <th>12</th>\n",
       "      <td></td>\n",
       "      <td>2017-11-13 21:38:27</td>\n",
       "      <td>0.408 sec</td>\n",
       "      <td>12.0</td>\n",
       "      <td>3.615571</td>\n",
       "      <td>2.631724</td>\n",
       "      <td>13.072354</td>\n",
       "    </tr>\n",
       "    <tr>\n",
       "      <th>13</th>\n",
       "      <td></td>\n",
       "      <td>2017-11-13 21:38:27</td>\n",
       "      <td>0.410 sec</td>\n",
       "      <td>13.0</td>\n",
       "      <td>3.419046</td>\n",
       "      <td>2.485528</td>\n",
       "      <td>11.689872</td>\n",
       "    </tr>\n",
       "    <tr>\n",
       "      <th>14</th>\n",
       "      <td></td>\n",
       "      <td>2017-11-13 21:38:27</td>\n",
       "      <td>0.412 sec</td>\n",
       "      <td>14.0</td>\n",
       "      <td>3.249967</td>\n",
       "      <td>2.355943</td>\n",
       "      <td>10.562283</td>\n",
       "    </tr>\n",
       "    <tr>\n",
       "      <th>15</th>\n",
       "      <td></td>\n",
       "      <td>2017-11-13 21:38:27</td>\n",
       "      <td>0.414 sec</td>\n",
       "      <td>15.0</td>\n",
       "      <td>3.094844</td>\n",
       "      <td>2.245083</td>\n",
       "      <td>9.578060</td>\n",
       "    </tr>\n",
       "    <tr>\n",
       "      <th>16</th>\n",
       "      <td></td>\n",
       "      <td>2017-11-13 21:38:27</td>\n",
       "      <td>0.417 sec</td>\n",
       "      <td>16.0</td>\n",
       "      <td>2.958748</td>\n",
       "      <td>2.140570</td>\n",
       "      <td>8.754193</td>\n",
       "    </tr>\n",
       "    <tr>\n",
       "      <th>17</th>\n",
       "      <td></td>\n",
       "      <td>2017-11-13 21:38:27</td>\n",
       "      <td>0.419 sec</td>\n",
       "      <td>17.0</td>\n",
       "      <td>2.821864</td>\n",
       "      <td>2.045228</td>\n",
       "      <td>7.962918</td>\n",
       "    </tr>\n",
       "    <tr>\n",
       "      <th>18</th>\n",
       "      <td></td>\n",
       "      <td>2017-11-13 21:38:27</td>\n",
       "      <td>0.421 sec</td>\n",
       "      <td>18.0</td>\n",
       "      <td>2.723893</td>\n",
       "      <td>1.970451</td>\n",
       "      <td>7.419595</td>\n",
       "    </tr>\n",
       "    <tr>\n",
       "      <th>19</th>\n",
       "      <td></td>\n",
       "      <td>2017-11-13 21:38:27</td>\n",
       "      <td>0.424 sec</td>\n",
       "      <td>19.0</td>\n",
       "      <td>2.619758</td>\n",
       "      <td>1.899644</td>\n",
       "      <td>6.863130</td>\n",
       "    </tr>\n",
       "    <tr>\n",
       "      <th>20</th>\n",
       "      <td></td>\n",
       "      <td>2017-11-13 21:38:27</td>\n",
       "      <td>0.426 sec</td>\n",
       "      <td>20.0</td>\n",
       "      <td>2.527424</td>\n",
       "      <td>1.837538</td>\n",
       "      <td>6.387874</td>\n",
       "    </tr>\n",
       "    <tr>\n",
       "      <th>21</th>\n",
       "      <td></td>\n",
       "      <td>2017-11-13 21:38:27</td>\n",
       "      <td>0.428 sec</td>\n",
       "      <td>21.0</td>\n",
       "      <td>2.457046</td>\n",
       "      <td>1.782916</td>\n",
       "      <td>6.037074</td>\n",
       "    </tr>\n",
       "    <tr>\n",
       "      <th>22</th>\n",
       "      <td></td>\n",
       "      <td>2017-11-13 21:38:27</td>\n",
       "      <td>0.431 sec</td>\n",
       "      <td>22.0</td>\n",
       "      <td>2.387651</td>\n",
       "      <td>1.731535</td>\n",
       "      <td>5.700875</td>\n",
       "    </tr>\n",
       "    <tr>\n",
       "      <th>23</th>\n",
       "      <td></td>\n",
       "      <td>2017-11-13 21:38:27</td>\n",
       "      <td>0.434 sec</td>\n",
       "      <td>23.0</td>\n",
       "      <td>2.323885</td>\n",
       "      <td>1.685570</td>\n",
       "      <td>5.400442</td>\n",
       "    </tr>\n",
       "    <tr>\n",
       "      <th>24</th>\n",
       "      <td></td>\n",
       "      <td>2017-11-13 21:38:27</td>\n",
       "      <td>0.437 sec</td>\n",
       "      <td>24.0</td>\n",
       "      <td>2.264052</td>\n",
       "      <td>1.646892</td>\n",
       "      <td>5.125932</td>\n",
       "    </tr>\n",
       "    <tr>\n",
       "      <th>25</th>\n",
       "      <td></td>\n",
       "      <td>2017-11-13 21:38:27</td>\n",
       "      <td>0.439 sec</td>\n",
       "      <td>25.0</td>\n",
       "      <td>2.216826</td>\n",
       "      <td>1.605472</td>\n",
       "      <td>4.914319</td>\n",
       "    </tr>\n",
       "    <tr>\n",
       "      <th>26</th>\n",
       "      <td></td>\n",
       "      <td>2017-11-13 21:38:27</td>\n",
       "      <td>0.443 sec</td>\n",
       "      <td>26.0</td>\n",
       "      <td>2.167954</td>\n",
       "      <td>1.570190</td>\n",
       "      <td>4.700026</td>\n",
       "    </tr>\n",
       "    <tr>\n",
       "      <th>27</th>\n",
       "      <td></td>\n",
       "      <td>2017-11-13 21:38:27</td>\n",
       "      <td>0.446 sec</td>\n",
       "      <td>27.0</td>\n",
       "      <td>2.122351</td>\n",
       "      <td>1.535202</td>\n",
       "      <td>4.504372</td>\n",
       "    </tr>\n",
       "    <tr>\n",
       "      <th>28</th>\n",
       "      <td></td>\n",
       "      <td>2017-11-13 21:38:27</td>\n",
       "      <td>0.449 sec</td>\n",
       "      <td>28.0</td>\n",
       "      <td>2.086241</td>\n",
       "      <td>1.509567</td>\n",
       "      <td>4.352399</td>\n",
       "    </tr>\n",
       "    <tr>\n",
       "      <th>29</th>\n",
       "      <td></td>\n",
       "      <td>2017-11-13 21:38:27</td>\n",
       "      <td>0.451 sec</td>\n",
       "      <td>29.0</td>\n",
       "      <td>2.057216</td>\n",
       "      <td>1.485614</td>\n",
       "      <td>4.232137</td>\n",
       "    </tr>\n",
       "    <tr>\n",
       "      <th>30</th>\n",
       "      <td></td>\n",
       "      <td>2017-11-13 21:38:27</td>\n",
       "      <td>0.454 sec</td>\n",
       "      <td>30.0</td>\n",
       "      <td>2.014716</td>\n",
       "      <td>1.452622</td>\n",
       "      <td>4.059080</td>\n",
       "    </tr>\n",
       "    <tr>\n",
       "      <th>31</th>\n",
       "      <td></td>\n",
       "      <td>2017-11-13 21:38:27</td>\n",
       "      <td>0.456 sec</td>\n",
       "      <td>31.0</td>\n",
       "      <td>1.980264</td>\n",
       "      <td>1.428178</td>\n",
       "      <td>3.921444</td>\n",
       "    </tr>\n",
       "    <tr>\n",
       "      <th>32</th>\n",
       "      <td></td>\n",
       "      <td>2017-11-13 21:38:27</td>\n",
       "      <td>0.458 sec</td>\n",
       "      <td>32.0</td>\n",
       "      <td>1.957911</td>\n",
       "      <td>1.411403</td>\n",
       "      <td>3.833415</td>\n",
       "    </tr>\n",
       "    <tr>\n",
       "      <th>33</th>\n",
       "      <td></td>\n",
       "      <td>2017-11-13 21:38:27</td>\n",
       "      <td>0.461 sec</td>\n",
       "      <td>33.0</td>\n",
       "      <td>1.930937</td>\n",
       "      <td>1.390901</td>\n",
       "      <td>3.728520</td>\n",
       "    </tr>\n",
       "    <tr>\n",
       "      <th>34</th>\n",
       "      <td></td>\n",
       "      <td>2017-11-13 21:38:27</td>\n",
       "      <td>0.463 sec</td>\n",
       "      <td>34.0</td>\n",
       "      <td>1.901003</td>\n",
       "      <td>1.365835</td>\n",
       "      <td>3.613812</td>\n",
       "    </tr>\n",
       "    <tr>\n",
       "      <th>35</th>\n",
       "      <td></td>\n",
       "      <td>2017-11-13 21:38:27</td>\n",
       "      <td>0.465 sec</td>\n",
       "      <td>35.0</td>\n",
       "      <td>1.861039</td>\n",
       "      <td>1.341009</td>\n",
       "      <td>3.463465</td>\n",
       "    </tr>\n",
       "    <tr>\n",
       "      <th>36</th>\n",
       "      <td></td>\n",
       "      <td>2017-11-13 21:38:27</td>\n",
       "      <td>0.467 sec</td>\n",
       "      <td>36.0</td>\n",
       "      <td>1.831554</td>\n",
       "      <td>1.324874</td>\n",
       "      <td>3.354589</td>\n",
       "    </tr>\n",
       "    <tr>\n",
       "      <th>37</th>\n",
       "      <td></td>\n",
       "      <td>2017-11-13 21:38:27</td>\n",
       "      <td>0.469 sec</td>\n",
       "      <td>37.0</td>\n",
       "      <td>1.808813</td>\n",
       "      <td>1.312231</td>\n",
       "      <td>3.271805</td>\n",
       "    </tr>\n",
       "    <tr>\n",
       "      <th>38</th>\n",
       "      <td></td>\n",
       "      <td>2017-11-13 21:38:27</td>\n",
       "      <td>0.471 sec</td>\n",
       "      <td>38.0</td>\n",
       "      <td>1.786990</td>\n",
       "      <td>1.296497</td>\n",
       "      <td>3.193331</td>\n",
       "    </tr>\n",
       "    <tr>\n",
       "      <th>39</th>\n",
       "      <td></td>\n",
       "      <td>2017-11-13 21:38:27</td>\n",
       "      <td>0.473 sec</td>\n",
       "      <td>39.0</td>\n",
       "      <td>1.767776</td>\n",
       "      <td>1.283686</td>\n",
       "      <td>3.125030</td>\n",
       "    </tr>\n",
       "    <tr>\n",
       "      <th>40</th>\n",
       "      <td></td>\n",
       "      <td>2017-11-13 21:38:27</td>\n",
       "      <td>0.475 sec</td>\n",
       "      <td>40.0</td>\n",
       "      <td>1.751634</td>\n",
       "      <td>1.272662</td>\n",
       "      <td>3.068223</td>\n",
       "    </tr>\n",
       "    <tr>\n",
       "      <th>41</th>\n",
       "      <td></td>\n",
       "      <td>2017-11-13 21:38:27</td>\n",
       "      <td>0.477 sec</td>\n",
       "      <td>41.0</td>\n",
       "      <td>1.737532</td>\n",
       "      <td>1.264835</td>\n",
       "      <td>3.019018</td>\n",
       "    </tr>\n",
       "    <tr>\n",
       "      <th>42</th>\n",
       "      <td></td>\n",
       "      <td>2017-11-13 21:38:27</td>\n",
       "      <td>0.479 sec</td>\n",
       "      <td>42.0</td>\n",
       "      <td>1.713856</td>\n",
       "      <td>1.244856</td>\n",
       "      <td>2.937301</td>\n",
       "    </tr>\n",
       "    <tr>\n",
       "      <th>43</th>\n",
       "      <td></td>\n",
       "      <td>2017-11-13 21:38:27</td>\n",
       "      <td>0.482 sec</td>\n",
       "      <td>43.0</td>\n",
       "      <td>1.699589</td>\n",
       "      <td>1.234902</td>\n",
       "      <td>2.888602</td>\n",
       "    </tr>\n",
       "    <tr>\n",
       "      <th>44</th>\n",
       "      <td></td>\n",
       "      <td>2017-11-13 21:38:27</td>\n",
       "      <td>0.484 sec</td>\n",
       "      <td>44.0</td>\n",
       "      <td>1.677853</td>\n",
       "      <td>1.223924</td>\n",
       "      <td>2.815192</td>\n",
       "    </tr>\n",
       "    <tr>\n",
       "      <th>45</th>\n",
       "      <td></td>\n",
       "      <td>2017-11-13 21:38:27</td>\n",
       "      <td>0.486 sec</td>\n",
       "      <td>45.0</td>\n",
       "      <td>1.660483</td>\n",
       "      <td>1.212346</td>\n",
       "      <td>2.757204</td>\n",
       "    </tr>\n",
       "    <tr>\n",
       "      <th>46</th>\n",
       "      <td></td>\n",
       "      <td>2017-11-13 21:38:27</td>\n",
       "      <td>0.488 sec</td>\n",
       "      <td>46.0</td>\n",
       "      <td>1.638459</td>\n",
       "      <td>1.200774</td>\n",
       "      <td>2.684548</td>\n",
       "    </tr>\n",
       "    <tr>\n",
       "      <th>47</th>\n",
       "      <td></td>\n",
       "      <td>2017-11-13 21:38:27</td>\n",
       "      <td>0.490 sec</td>\n",
       "      <td>47.0</td>\n",
       "      <td>1.612040</td>\n",
       "      <td>1.184136</td>\n",
       "      <td>2.598672</td>\n",
       "    </tr>\n",
       "    <tr>\n",
       "      <th>48</th>\n",
       "      <td></td>\n",
       "      <td>2017-11-13 21:38:27</td>\n",
       "      <td>0.492 sec</td>\n",
       "      <td>48.0</td>\n",
       "      <td>1.593156</td>\n",
       "      <td>1.170660</td>\n",
       "      <td>2.538147</td>\n",
       "    </tr>\n",
       "    <tr>\n",
       "      <th>49</th>\n",
       "      <td></td>\n",
       "      <td>2017-11-13 21:38:27</td>\n",
       "      <td>0.494 sec</td>\n",
       "      <td>49.0</td>\n",
       "      <td>1.572582</td>\n",
       "      <td>1.156565</td>\n",
       "      <td>2.473014</td>\n",
       "    </tr>\n",
       "    <tr>\n",
       "      <th>50</th>\n",
       "      <td></td>\n",
       "      <td>2017-11-13 21:38:27</td>\n",
       "      <td>0.496 sec</td>\n",
       "      <td>50.0</td>\n",
       "      <td>1.559634</td>\n",
       "      <td>1.147249</td>\n",
       "      <td>2.432459</td>\n",
       "    </tr>\n",
       "  </tbody>\n",
       "</table>\n",
       "</div>"
      ],
      "text/plain": [
       "                timestamp    duration  number_of_trees  training_rmse  \\\n",
       "0     2017-11-13 21:38:27   0.378 sec              0.0       9.173729   \n",
       "1     2017-11-13 21:38:27   0.382 sec              1.0       8.361668   \n",
       "2     2017-11-13 21:38:27   0.385 sec              2.0       7.638784   \n",
       "3     2017-11-13 21:38:27   0.387 sec              3.0       6.997353   \n",
       "4     2017-11-13 21:38:27   0.389 sec              4.0       6.425762   \n",
       "5     2017-11-13 21:38:27   0.392 sec              5.0       5.921118   \n",
       "6     2017-11-13 21:38:27   0.394 sec              6.0       5.471653   \n",
       "7     2017-11-13 21:38:27   0.396 sec              7.0       5.076344   \n",
       "8     2017-11-13 21:38:27   0.399 sec              8.0       4.718492   \n",
       "9     2017-11-13 21:38:27   0.401 sec              9.0       4.398797   \n",
       "10    2017-11-13 21:38:27   0.404 sec             10.0       4.121895   \n",
       "11    2017-11-13 21:38:27   0.406 sec             11.0       3.850483   \n",
       "12    2017-11-13 21:38:27   0.408 sec             12.0       3.615571   \n",
       "13    2017-11-13 21:38:27   0.410 sec             13.0       3.419046   \n",
       "14    2017-11-13 21:38:27   0.412 sec             14.0       3.249967   \n",
       "15    2017-11-13 21:38:27   0.414 sec             15.0       3.094844   \n",
       "16    2017-11-13 21:38:27   0.417 sec             16.0       2.958748   \n",
       "17    2017-11-13 21:38:27   0.419 sec             17.0       2.821864   \n",
       "18    2017-11-13 21:38:27   0.421 sec             18.0       2.723893   \n",
       "19    2017-11-13 21:38:27   0.424 sec             19.0       2.619758   \n",
       "20    2017-11-13 21:38:27   0.426 sec             20.0       2.527424   \n",
       "21    2017-11-13 21:38:27   0.428 sec             21.0       2.457046   \n",
       "22    2017-11-13 21:38:27   0.431 sec             22.0       2.387651   \n",
       "23    2017-11-13 21:38:27   0.434 sec             23.0       2.323885   \n",
       "24    2017-11-13 21:38:27   0.437 sec             24.0       2.264052   \n",
       "25    2017-11-13 21:38:27   0.439 sec             25.0       2.216826   \n",
       "26    2017-11-13 21:38:27   0.443 sec             26.0       2.167954   \n",
       "27    2017-11-13 21:38:27   0.446 sec             27.0       2.122351   \n",
       "28    2017-11-13 21:38:27   0.449 sec             28.0       2.086241   \n",
       "29    2017-11-13 21:38:27   0.451 sec             29.0       2.057216   \n",
       "30    2017-11-13 21:38:27   0.454 sec             30.0       2.014716   \n",
       "31    2017-11-13 21:38:27   0.456 sec             31.0       1.980264   \n",
       "32    2017-11-13 21:38:27   0.458 sec             32.0       1.957911   \n",
       "33    2017-11-13 21:38:27   0.461 sec             33.0       1.930937   \n",
       "34    2017-11-13 21:38:27   0.463 sec             34.0       1.901003   \n",
       "35    2017-11-13 21:38:27   0.465 sec             35.0       1.861039   \n",
       "36    2017-11-13 21:38:27   0.467 sec             36.0       1.831554   \n",
       "37    2017-11-13 21:38:27   0.469 sec             37.0       1.808813   \n",
       "38    2017-11-13 21:38:27   0.471 sec             38.0       1.786990   \n",
       "39    2017-11-13 21:38:27   0.473 sec             39.0       1.767776   \n",
       "40    2017-11-13 21:38:27   0.475 sec             40.0       1.751634   \n",
       "41    2017-11-13 21:38:27   0.477 sec             41.0       1.737532   \n",
       "42    2017-11-13 21:38:27   0.479 sec             42.0       1.713856   \n",
       "43    2017-11-13 21:38:27   0.482 sec             43.0       1.699589   \n",
       "44    2017-11-13 21:38:27   0.484 sec             44.0       1.677853   \n",
       "45    2017-11-13 21:38:27   0.486 sec             45.0       1.660483   \n",
       "46    2017-11-13 21:38:27   0.488 sec             46.0       1.638459   \n",
       "47    2017-11-13 21:38:27   0.490 sec             47.0       1.612040   \n",
       "48    2017-11-13 21:38:27   0.492 sec             48.0       1.593156   \n",
       "49    2017-11-13 21:38:27   0.494 sec             49.0       1.572582   \n",
       "50    2017-11-13 21:38:27   0.496 sec             50.0       1.559634   \n",
       "\n",
       "    training_mae  training_deviance  \n",
       "0       6.662434          84.157296  \n",
       "1       6.064148          69.917487  \n",
       "2       5.542717          58.351026  \n",
       "3       5.074023          48.962950  \n",
       "4       4.661831          41.290421  \n",
       "5       4.299241          35.059635  \n",
       "6       3.970074          29.938982  \n",
       "7       3.685588          25.769265  \n",
       "8       3.432053          22.264165  \n",
       "9       3.198106          19.349414  \n",
       "10      2.993922          16.990018  \n",
       "11      2.797455          14.826217  \n",
       "12      2.631724          13.072354  \n",
       "13      2.485528          11.689872  \n",
       "14      2.355943          10.562283  \n",
       "15      2.245083           9.578060  \n",
       "16      2.140570           8.754193  \n",
       "17      2.045228           7.962918  \n",
       "18      1.970451           7.419595  \n",
       "19      1.899644           6.863130  \n",
       "20      1.837538           6.387874  \n",
       "21      1.782916           6.037074  \n",
       "22      1.731535           5.700875  \n",
       "23      1.685570           5.400442  \n",
       "24      1.646892           5.125932  \n",
       "25      1.605472           4.914319  \n",
       "26      1.570190           4.700026  \n",
       "27      1.535202           4.504372  \n",
       "28      1.509567           4.352399  \n",
       "29      1.485614           4.232137  \n",
       "30      1.452622           4.059080  \n",
       "31      1.428178           3.921444  \n",
       "32      1.411403           3.833415  \n",
       "33      1.390901           3.728520  \n",
       "34      1.365835           3.613812  \n",
       "35      1.341009           3.463465  \n",
       "36      1.324874           3.354589  \n",
       "37      1.312231           3.271805  \n",
       "38      1.296497           3.193331  \n",
       "39      1.283686           3.125030  \n",
       "40      1.272662           3.068223  \n",
       "41      1.264835           3.019018  \n",
       "42      1.244856           2.937301  \n",
       "43      1.234902           2.888602  \n",
       "44      1.223924           2.815192  \n",
       "45      1.212346           2.757204  \n",
       "46      1.200774           2.684548  \n",
       "47      1.184136           2.598672  \n",
       "48      1.170660           2.538147  \n",
       "49      1.156565           2.473014  \n",
       "50      1.147249           2.432459  "
      ]
     },
     "execution_count": 118,
     "metadata": {},
     "output_type": "execute_result"
    }
   ],
   "source": [
    "gbm_model_with_training_and_cv.score_history()"
   ]
  },
  {
   "cell_type": "code",
   "execution_count": null,
   "metadata": {
    "collapsed": true
   },
   "outputs": [],
   "source": [
    "#: Getting GBM model variable importance "
   ]
  },
  {
   "cell_type": "code",
   "execution_count": 123,
   "metadata": {},
   "outputs": [
    {
     "data": {
      "text/plain": [
       "[(u'lstat', 105866.8125, 1.0, 0.6047348824410893),\n",
       " (u'rm', 39758.8984375, 0.37555582810713223, 0.22711170956043256),\n",
       " (u'dis', 11466.9921875, 0.108315268181896, 0.06550202097055394),\n",
       " (u'nox', 6184.43994140625, 0.05841717338383311, 0.035326902478813045),\n",
       " (u'crim', 3648.995849609375, 0.03446779744699856, 0.02084387943711395),\n",
       " (u'ptratio', 2454.009033203125, 0.023180154150793244, 0.014017847795346278),\n",
       " (u'tax', 2219.060546875, 0.020960870498249864, 0.012675769556622028),\n",
       " (u'age', 1424.7196044921875, 0.013457660345560962, 0.008138316647004916),\n",
       " (u'b', 1419.9967041015625, 0.013413048627506023, 0.008111338384931468),\n",
       " (u'indus', 331.3314514160156, 0.0031297008343952513, 0.0018926392661637913),\n",
       " (u'rad', 159.52056884765625, 0.0015068043051514018, 0.0009112171243374602),\n",
       " (u'zn', 107.55658721923828, 0.0010159613261166078, 0.00061438725311382),\n",
       " (u'chas', 20.848114013671875, 0.0001969277578246901, 0.00011908908447750126)]"
      ]
     },
     "execution_count": 123,
     "metadata": {},
     "output_type": "execute_result"
    }
   ],
   "source": [
    "gbm_model_with_training_and_cv.varimp()"
   ]
  },
  {
   "cell_type": "code",
   "execution_count": 125,
   "metadata": {
    "collapsed": true
   },
   "outputs": [],
   "source": [
    "#: Getting GBM model variable importance PLOT"
   ]
  },
  {
   "cell_type": "code",
   "execution_count": 126,
   "metadata": {},
   "outputs": [
    {
     "data": {
      "image/png": "[encoded data removed]",
      "text/plain": [
       "<matplotlib.figure.Figure at 0x112779290>"
      ]
     },
     "metadata": {},
     "output_type": "display_data"
    }
   ],
   "source": [
    "gbm_model_with_training_and_cv.varimp_plot()"
   ]
  },
  {
   "cell_type": "code",
   "execution_count": 127,
   "metadata": {
    "collapsed": true
   },
   "outputs": [],
   "source": [
    "#: Getting cross validation prediction details from the model with cross-validation \n",
    "#: (If cross validation prediction save is not set to TRUE, you will get error message)"
   ]
  },
  {
   "cell_type": "code",
   "execution_count": 128,
   "metadata": {},
   "outputs": [
    {
     "name": "stdout",
     "output_type": "stream",
     "text": [
      "Cross-Validation Metrics Summary: \n"
     ]
    },
    {
     "data": {
      "text/html": [
       "<div style=\"overflow:auto\"><table style=\"width:50%\"><tr><td><b></b></td>\n",
       "<td><b>mean</b></td>\n",
       "<td><b>sd</b></td>\n",
       "<td><b>cv_1_valid</b></td>\n",
       "<td><b>cv_2_valid</b></td>\n",
       "<td><b>cv_3_valid</b></td>\n",
       "<td><b>cv_4_valid</b></td>\n",
       "<td><b>cv_5_valid</b></td></tr>\n",
       "<tr><td>mae</td>\n",
       "<td>2.3286123</td>\n",
       "<td>0.1878655</td>\n",
       "<td>1.9392658</td>\n",
       "<td>2.2965672</td>\n",
       "<td>2.216043</td>\n",
       "<td>2.7457395</td>\n",
       "<td>2.4454458</td></tr>\n",
       "<tr><td>mean_residual_deviance</td>\n",
       "<td>13.04055</td>\n",
       "<td>5.228491</td>\n",
       "<td>6.686803</td>\n",
       "<td>9.377713</td>\n",
       "<td>10.016728</td>\n",
       "<td>27.479563</td>\n",
       "<td>11.641943</td></tr>\n",
       "<tr><td>mse</td>\n",
       "<td>13.04055</td>\n",
       "<td>5.228491</td>\n",
       "<td>6.686803</td>\n",
       "<td>9.377713</td>\n",
       "<td>10.016728</td>\n",
       "<td>27.479563</td>\n",
       "<td>11.641943</td></tr>\n",
       "<tr><td>r2</td>\n",
       "<td>0.8497763</td>\n",
       "<td>0.0387310</td>\n",
       "<td>0.8601611</td>\n",
       "<td>0.9067502</td>\n",
       "<td>0.8836416</td>\n",
       "<td>0.7473133</td>\n",
       "<td>0.8510155</td></tr>\n",
       "<tr><td>residual_deviance</td>\n",
       "<td>13.04055</td>\n",
       "<td>5.228491</td>\n",
       "<td>6.686803</td>\n",
       "<td>9.377713</td>\n",
       "<td>10.016728</td>\n",
       "<td>27.479563</td>\n",
       "<td>11.641943</td></tr>\n",
       "<tr><td>rmse</td>\n",
       "<td>3.4934473</td>\n",
       "<td>0.6466746</td>\n",
       "<td>2.5858853</td>\n",
       "<td>3.0623052</td>\n",
       "<td>3.1649215</td>\n",
       "<td>5.2420955</td>\n",
       "<td>3.4120293</td></tr>\n",
       "<tr><td>rmsle</td>\n",
       "<td>0.1511169</td>\n",
       "<td>0.0142300</td>\n",
       "<td>0.1353346</td>\n",
       "<td>0.1726253</td>\n",
       "<td>0.1374982</td>\n",
       "<td>0.1784795</td>\n",
       "<td>0.1316472</td></tr></table></div>"
      ],
      "text/plain": [
       "                        mean      sd        cv_1_valid    cv_2_valid    cv_3_valid    cv_4_valid    cv_5_valid\n",
       "----------------------  --------  --------  ------------  ------------  ------------  ------------  ------------\n",
       "mae                     2.32861   0.187865  1.93927       2.29657       2.21604       2.74574       2.44545\n",
       "mean_residual_deviance  13.0405   5.22849   6.6868        9.37771       10.0167       27.4796       11.6419\n",
       "mse                     13.0405   5.22849   6.6868        9.37771       10.0167       27.4796       11.6419\n",
       "r2                      0.849776  0.038731  0.860161      0.90675       0.883642      0.747313      0.851015\n",
       "residual_deviance       13.0405   5.22849   6.6868        9.37771       10.0167       27.4796       11.6419\n",
       "rmse                    3.49345   0.646675  2.58589       3.06231       3.16492       5.2421        3.41203\n",
       "rmsle                   0.151117  0.01423   0.135335      0.172625      0.137498      0.178479      0.131647"
      ]
     },
     "metadata": {},
     "output_type": "display_data"
    },
    {
     "data": {
      "text/plain": []
     },
     "execution_count": 128,
     "metadata": {},
     "output_type": "execute_result"
    }
   ],
   "source": [
    "gbm_model_with_training_and_cv.cross_validation_metrics_summary()"
   ]
  },
  {
   "cell_type": "code",
   "execution_count": 129,
   "metadata": {
    "collapsed": true
   },
   "outputs": [],
   "source": [
    "#: Getting variable importance from a GBM mode (It will plot the coefficient table)"
   ]
  },
  {
   "cell_type": "code",
   "execution_count": 131,
   "metadata": {},
   "outputs": [
    {
     "data": {
      "text/plain": [
       "[(u'lstat', 78612.9609375, 1.0, 0.5170108598541927),\n",
       " (u'rm', 48477.125, 0.6166556305968551, 0.3188176578088095),\n",
       " (u'nox', 6748.42578125, 0.08584367896554908, 0.04438211427502581),\n",
       " (u'dis', 6396.30419921875, 0.08136449922429498, 0.04206632970555854),\n",
       " (u'crim', 3415.419189453125, 0.04344600621478309, 0.022462057030335606),\n",
       " (u'age', 2679.910888671875, 0.03408993703725898, 0.01762486766000856),\n",
       " (u'ptratio', 2339.217529296875, 0.029756130559140663, 0.015384242646314935),\n",
       " (u'tax', 1475.7596435546875, 0.01877247245181322, 0.009705572123901099),\n",
       " (u'b', 1166.623291015625, 0.014840088416757772, 0.007672486872660182),\n",
       " (u'indus', 344.2544250488281, 0.00437910518753418, 0.0022640449383990024),\n",
       " (u'rad', 333.5917663574219, 0.004243470318115085, 0.002193920237934425),\n",
       " (u'zn', 48.1435661315918, 0.000612412578758706, 0.0003166239539295621),\n",
       " (u'chas', 15.08712100982666, 0.0001919164579212509, 9.922289293003694e-05)]"
      ]
     },
     "execution_count": 131,
     "metadata": {},
     "output_type": "execute_result"
    }
   ],
   "source": [
    "gbm_model_with_training_and_validtion.varimp()"
   ]
  },
  {
   "cell_type": "code",
   "execution_count": null,
   "metadata": {
    "collapsed": true
   },
   "outputs": [],
   "source": [
    "#: Getting variable importance PLOT for GLM (Error)"
   ]
  },
  {
   "cell_type": "code",
   "execution_count": 134,
   "metadata": {},
   "outputs": [
    {
     "data": {
      "image/png": "[encoded data removed]",
      "text/plain": [
       "<matplotlib.figure.Figure at 0x112c9b150>"
      ]
     },
     "metadata": {},
     "output_type": "display_data"
    }
   ],
   "source": [
    "# - Positive ?\n",
    "# - Negative ?\n",
    "gbm_model_with_training_and_validtion.varimp_plot()"
   ]
  },
  {
   "cell_type": "code",
   "execution_count": 135,
   "metadata": {
    "collapsed": true
   },
   "outputs": [],
   "source": [
    "#: Building a GBM model with cross validation and saving cross validation predictions"
   ]
  },
  {
   "cell_type": "code",
   "execution_count": 136,
   "metadata": {},
   "outputs": [
    {
     "name": "stdout",
     "output_type": "stream",
     "text": [
      "gbm Model Build progress: |███████████████████████████████████████████████| 100%\n"
     ]
    }
   ],
   "source": [
    "gbm_model_with_training_and_cv = H2OGradientBoostingEstimator(keep_cross_validation_predictions = True, nfolds=5)\n",
    "gbm_model_with_training_and_cv.train(x = features, y = response, training_frame= train_df)"
   ]
  },
  {
   "cell_type": "code",
   "execution_count": 137,
   "metadata": {
    "collapsed": true
   },
   "outputs": [],
   "source": [
    "#: Looking at cross validation predictions for all CV models"
   ]
  },
  {
   "cell_type": "code",
   "execution_count": 138,
   "metadata": {},
   "outputs": [
    {
     "data": {
      "text/plain": [
       "5"
      ]
     },
     "execution_count": 138,
     "metadata": {},
     "output_type": "execute_result"
    }
   ],
   "source": [
    "len(gbm_model_with_training_and_cv.cross_validation_predictions())"
   ]
  },
  {
   "cell_type": "code",
   "execution_count": 139,
   "metadata": {},
   "outputs": [
    {
     "data": {
      "text/html": [
       "<table>\n",
       "<thead>\n",
       "<tr><th style=\"text-align: right;\">  predict</th></tr>\n",
       "</thead>\n",
       "<tbody>\n",
       "<tr><td style=\"text-align: right;\">    0    </td></tr>\n",
       "<tr><td style=\"text-align: right;\">    0    </td></tr>\n",
       "<tr><td style=\"text-align: right;\">    0    </td></tr>\n",
       "<tr><td style=\"text-align: right;\">    0    </td></tr>\n",
       "<tr><td style=\"text-align: right;\">    0    </td></tr>\n",
       "<tr><td style=\"text-align: right;\">    0    </td></tr>\n",
       "<tr><td style=\"text-align: right;\">    0    </td></tr>\n",
       "<tr><td style=\"text-align: right;\">    0    </td></tr>\n",
       "<tr><td style=\"text-align: right;\">    0    </td></tr>\n",
       "<tr><td style=\"text-align: right;\">   18.836</td></tr>\n",
       "</tbody>\n",
       "</table>"
      ]
     },
     "metadata": {},
     "output_type": "display_data"
    },
    {
     "data": {
      "text/plain": []
     },
     "execution_count": 139,
     "metadata": {},
     "output_type": "execute_result"
    }
   ],
   "source": [
    "gbm_model_with_training_and_cv.cross_validation_predictions()[0]\n",
    "gbm_model_with_training_and_cv.cross_validation_predictions()[1]"
   ]
  },
  {
   "cell_type": "code",
   "execution_count": 141,
   "metadata": {
    "collapsed": true
   },
   "outputs": [],
   "source": [
    "#: Accessing H2O Model details from JSON"
   ]
  },
  {
   "cell_type": "code",
   "execution_count": 140,
   "metadata": {},
   "outputs": [
    {
     "name": "stdout",
     "output_type": "stream",
     "text": [
      "Model Summary: \n"
     ]
    },
    {
     "data": {
      "text/html": [
       "<div style=\"overflow:auto\"><table style=\"width:50%\"><tr><td><b></b></td>\n",
       "<td><b>number_of_trees</b></td>\n",
       "<td><b>number_of_internal_trees</b></td>\n",
       "<td><b>model_size_in_bytes</b></td>\n",
       "<td><b>min_depth</b></td>\n",
       "<td><b>max_depth</b></td>\n",
       "<td><b>mean_depth</b></td>\n",
       "<td><b>min_leaves</b></td>\n",
       "<td><b>max_leaves</b></td>\n",
       "<td><b>mean_leaves</b></td></tr>\n",
       "<tr><td></td>\n",
       "<td>50.0</td>\n",
       "<td>50.0</td>\n",
       "<td>11471.0</td>\n",
       "<td>5.0</td>\n",
       "<td>5.0</td>\n",
       "<td>5.0</td>\n",
       "<td>7.0</td>\n",
       "<td>21.0</td>\n",
       "<td>13.36</td></tr></table></div>"
      ],
      "text/plain": [
       "    number_of_trees    number_of_internal_trees    model_size_in_bytes    min_depth    max_depth    mean_depth    min_leaves    max_leaves    mean_leaves\n",
       "--  -----------------  --------------------------  ---------------------  -----------  -----------  ------------  ------------  ------------  -------------\n",
       "    50                 50                          11471                  5            5            5             7             21            13.36"
      ]
     },
     "metadata": {},
     "output_type": "display_data"
    },
    {
     "name": "stdout",
     "output_type": "stream",
     "text": [
      "Scoring History: \n"
     ]
    },
    {
     "data": {
      "text/html": [
       "<div style=\"overflow:auto\"><table style=\"width:50%\"><tr><td><b></b></td>\n",
       "<td><b>timestamp</b></td>\n",
       "<td><b>duration</b></td>\n",
       "<td><b>number_of_trees</b></td>\n",
       "<td><b>training_rmse</b></td>\n",
       "<td><b>training_mae</b></td>\n",
       "<td><b>training_deviance</b></td>\n",
       "<td><b>validation_rmse</b></td>\n",
       "<td><b>validation_mae</b></td>\n",
       "<td><b>validation_deviance</b></td></tr>\n",
       "<tr><td></td>\n",
       "<td>2017-11-13 21:46:09</td>\n",
       "<td> 0.001 sec</td>\n",
       "<td>0.0</td>\n",
       "<td>9.0214236</td>\n",
       "<td>6.5323163</td>\n",
       "<td>81.3860844</td>\n",
       "<td>10.5053617</td>\n",
       "<td>8.0354377</td>\n",
       "<td>110.3626254</td></tr>\n",
       "<tr><td></td>\n",
       "<td>2017-11-13 21:46:09</td>\n",
       "<td> 0.004 sec</td>\n",
       "<td>1.0</td>\n",
       "<td>8.2378724</td>\n",
       "<td>5.9683502</td>\n",
       "<td>67.8625417</td>\n",
       "<td>9.6466729</td>\n",
       "<td>7.3452957</td>\n",
       "<td>93.0582979</td></tr>\n",
       "<tr><td></td>\n",
       "<td>2017-11-13 21:46:09</td>\n",
       "<td> 0.006 sec</td>\n",
       "<td>2.0</td>\n",
       "<td>7.5487244</td>\n",
       "<td>5.4743254</td>\n",
       "<td>56.9832393</td>\n",
       "<td>8.8693574</td>\n",
       "<td>6.6978579</td>\n",
       "<td>78.6655001</td></tr>\n",
       "<tr><td></td>\n",
       "<td>2017-11-13 21:46:09</td>\n",
       "<td> 0.009 sec</td>\n",
       "<td>3.0</td>\n",
       "<td>6.9301201</td>\n",
       "<td>5.0208529</td>\n",
       "<td>48.0265644</td>\n",
       "<td>8.1983883</td>\n",
       "<td>6.1176649</td>\n",
       "<td>67.2135715</td></tr>\n",
       "<tr><td></td>\n",
       "<td>2017-11-13 21:46:09</td>\n",
       "<td> 0.011 sec</td>\n",
       "<td>4.0</td>\n",
       "<td>6.3664987</td>\n",
       "<td>4.6170981</td>\n",
       "<td>40.5323055</td>\n",
       "<td>7.5714339</td>\n",
       "<td>5.6292806</td>\n",
       "<td>57.3266111</td></tr>\n",
       "<tr><td>---</td>\n",
       "<td>---</td>\n",
       "<td>---</td>\n",
       "<td>---</td>\n",
       "<td>---</td>\n",
       "<td>---</td>\n",
       "<td>---</td>\n",
       "<td>---</td>\n",
       "<td>---</td>\n",
       "<td>---</td></tr>\n",
       "<tr><td></td>\n",
       "<td>2017-11-13 21:46:09</td>\n",
       "<td> 0.097 sec</td>\n",
       "<td>46.0</td>\n",
       "<td>1.7494733</td>\n",
       "<td>1.2532421</td>\n",
       "<td>3.0606567</td>\n",
       "<td>2.6069146</td>\n",
       "<td>2.0387504</td>\n",
       "<td>6.7960039</td></tr>\n",
       "<tr><td></td>\n",
       "<td>2017-11-13 21:46:09</td>\n",
       "<td> 0.101 sec</td>\n",
       "<td>47.0</td>\n",
       "<td>1.7345561</td>\n",
       "<td>1.2416255</td>\n",
       "<td>3.0086847</td>\n",
       "<td>2.6110173</td>\n",
       "<td>2.0321656</td>\n",
       "<td>6.8174114</td></tr>\n",
       "<tr><td></td>\n",
       "<td>2017-11-13 21:46:09</td>\n",
       "<td> 0.103 sec</td>\n",
       "<td>48.0</td>\n",
       "<td>1.7240909</td>\n",
       "<td>1.2345456</td>\n",
       "<td>2.9724895</td>\n",
       "<td>2.6068574</td>\n",
       "<td>2.0287245</td>\n",
       "<td>6.7957053</td></tr>\n",
       "<tr><td></td>\n",
       "<td>2017-11-13 21:46:09</td>\n",
       "<td> 0.105 sec</td>\n",
       "<td>49.0</td>\n",
       "<td>1.7107562</td>\n",
       "<td>1.2261311</td>\n",
       "<td>2.9266868</td>\n",
       "<td>2.5965716</td>\n",
       "<td>2.0209033</td>\n",
       "<td>6.7421841</td></tr>\n",
       "<tr><td></td>\n",
       "<td>2017-11-13 21:46:09</td>\n",
       "<td> 0.108 sec</td>\n",
       "<td>50.0</td>\n",
       "<td>1.6972213</td>\n",
       "<td>1.2160568</td>\n",
       "<td>2.8805603</td>\n",
       "<td>2.5863559</td>\n",
       "<td>2.0212158</td>\n",
       "<td>6.6892370</td></tr></table></div>"
      ],
      "text/plain": [
       "     timestamp            duration    number_of_trees    training_rmse    training_mae    training_deviance    validation_rmse    validation_mae    validation_deviance\n",
       "---  -------------------  ----------  -----------------  ---------------  --------------  -------------------  -----------------  ----------------  ---------------------\n",
       "     2017-11-13 21:46:09  0.001 sec   0.0                9.02142363215    6.53231629031   81.3860843506        10.5053617467      8.0354376626      110.36262543\n",
       "     2017-11-13 21:46:09  0.004 sec   1.0                8.23787240052    5.96835021999   67.8625416872        9.64667289475      7.34529567545     93.0582979383\n",
       "     2017-11-13 21:46:09  0.006 sec   2.0                7.5487243514     5.47432538349   56.9832393334        8.86935736516      6.69785792798     78.665500071\n",
       "     2017-11-13 21:46:09  0.009 sec   3.0                6.93012008199    5.02085286768   48.0265643508        8.19838834773      6.11766488064     67.2135715002\n",
       "     2017-11-13 21:46:09  0.011 sec   4.0                6.36649868345    4.61709810988   40.5323054863        7.57143388486      5.62928055376     57.3266110728\n",
       "---  ---                  ---         ---                ---              ---             ---                  ---                ---               ---\n",
       "     2017-11-13 21:46:09  0.097 sec   46.0               1.74947327695    1.2532420586    3.06065674675        2.60691463838      2.03875035332     6.79600393178\n",
       "     2017-11-13 21:46:09  0.101 sec   47.0               1.73455605305    1.24162546189   3.00868470119        2.61101730768      2.03216557659     6.817411381\n",
       "     2017-11-13 21:46:09  0.103 sec   48.0               1.72409090542    1.2345455872    2.97248945015        2.60685736819      2.02872449412     6.79570533809\n",
       "     2017-11-13 21:46:09  0.105 sec   49.0               1.71075619519    1.22613106733   2.92668675937        2.59657160235      2.02090325691     6.7421840861\n",
       "     2017-11-13 21:46:09  0.108 sec   50.0               1.69722133585    1.21605675894   2.88056026286        2.58635593855      2.02121580951     6.68923704087"
      ]
     },
     "metadata": {},
     "output_type": "display_data"
    },
    {
     "name": "stdout",
     "output_type": "stream",
     "text": [
      "\n",
      "See the whole table with table.as_data_frame()\n",
      "\n",
      "ModelMetricsRegression: gbm\n",
      "** Reported on train data. **\n",
      "\n",
      "MSE: 2.88056026286\n",
      "RMSE: 1.69722133585\n",
      "MAE: 1.21605675894\n",
      "RMSLE: 0.0774234020717\n",
      "Mean Residual Deviance: 2.88056026286\n",
      "\n",
      "ModelMetricsRegression: gbm\n",
      "** Reported on validation data. **\n",
      "\n",
      "MSE: 6.68923704087\n",
      "RMSE: 2.58635593855\n",
      "MAE: 2.02121580951\n",
      "RMSLE: 0.142586248492\n",
      "Mean Residual Deviance: 6.68923704087\n",
      "Variable Importances: \n"
     ]
    },
    {
     "data": {
      "text/html": [
       "<div style=\"overflow:auto\"><table style=\"width:50%\"><tr><td><b>variable</b></td>\n",
       "<td><b>relative_importance</b></td>\n",
       "<td><b>scaled_importance</b></td>\n",
       "<td><b>percentage</b></td></tr>\n",
       "<tr><td>lstat</td>\n",
       "<td>78612.9609375</td>\n",
       "<td>1.0</td>\n",
       "<td>0.5170109</td></tr>\n",
       "<tr><td>rm</td>\n",
       "<td>48477.125</td>\n",
       "<td>0.6166556</td>\n",
       "<td>0.3188177</td></tr>\n",
       "<tr><td>nox</td>\n",
       "<td>6748.4257812</td>\n",
       "<td>0.0858437</td>\n",
       "<td>0.0443821</td></tr>\n",
       "<tr><td>dis</td>\n",
       "<td>6396.3041992</td>\n",
       "<td>0.0813645</td>\n",
       "<td>0.0420663</td></tr>\n",
       "<tr><td>crim</td>\n",
       "<td>3415.4191894</td>\n",
       "<td>0.0434460</td>\n",
       "<td>0.0224621</td></tr>\n",
       "<tr><td>age</td>\n",
       "<td>2679.9108887</td>\n",
       "<td>0.0340899</td>\n",
       "<td>0.0176249</td></tr>\n",
       "<tr><td>ptratio</td>\n",
       "<td>2339.2175293</td>\n",
       "<td>0.0297561</td>\n",
       "<td>0.0153842</td></tr>\n",
       "<tr><td>tax</td>\n",
       "<td>1475.7596435</td>\n",
       "<td>0.0187725</td>\n",
       "<td>0.0097056</td></tr>\n",
       "<tr><td>b</td>\n",
       "<td>1166.6232910</td>\n",
       "<td>0.0148401</td>\n",
       "<td>0.0076725</td></tr>\n",
       "<tr><td>indus</td>\n",
       "<td>344.2544250</td>\n",
       "<td>0.0043791</td>\n",
       "<td>0.0022640</td></tr>\n",
       "<tr><td>rad</td>\n",
       "<td>333.5917664</td>\n",
       "<td>0.0042435</td>\n",
       "<td>0.0021939</td></tr>\n",
       "<tr><td>zn</td>\n",
       "<td>48.1435661</td>\n",
       "<td>0.0006124</td>\n",
       "<td>0.0003166</td></tr>\n",
       "<tr><td>chas</td>\n",
       "<td>15.0871210</td>\n",
       "<td>0.0001919</td>\n",
       "<td>0.0000992</td></tr></table></div>"
      ],
      "text/plain": [
       "variable    relative_importance    scaled_importance    percentage\n",
       "----------  ---------------------  -------------------  ------------\n",
       "lstat       78613                  1                    0.517011\n",
       "rm          48477.1                0.616656             0.318818\n",
       "nox         6748.43                0.0858437            0.0443821\n",
       "dis         6396.3                 0.0813645            0.0420663\n",
       "crim        3415.42                0.043446             0.0224621\n",
       "age         2679.91                0.0340899            0.0176249\n",
       "ptratio     2339.22                0.0297561            0.0153842\n",
       "tax         1475.76                0.0187725            0.00970557\n",
       "b           1166.62                0.0148401            0.00767249\n",
       "indus       344.254                0.00437911           0.00226404\n",
       "rad         333.592                0.00424347           0.00219392\n",
       "zn          48.1436                0.000612413          0.000316624\n",
       "chas        15.0871                0.000191916          9.92229e-05"
      ]
     },
     "metadata": {},
     "output_type": "display_data"
    },
    {
     "data": {
      "text/plain": [
       "{u'__meta': {u'schema_name': u'GBMModelV3',\n",
       "  u'schema_type': u'GBMModel',\n",
       "  u'schema_version': 3},\n",
       " u'algo': u'gbm',\n",
       " u'algo_full_name': u'Gradient Boosting Machine',\n",
       " u'compatible_frames': None,\n",
       " u'data_frame': {u'URL': u'/3/Frames/py_17_sid_9c9b',\n",
       "  u'__meta': {u'schema_name': u'FrameKeyV3',\n",
       "   u'schema_type': u'Key<Frame>',\n",
       "   u'schema_version': 3},\n",
       "  u'name': u'py_17_sid_9c9b',\n",
       "  u'type': u'Key<Frame>'},\n",
       " u'model_id': {u'URL': u'/3/Models/glm_model_with_training_and_validtion_python',\n",
       "  u'__meta': {u'schema_name': u'ModelKeyV3',\n",
       "   u'schema_type': u'Key<Model>',\n",
       "   u'schema_version': 3},\n",
       "  u'name': u'glm_model_with_training_and_validtion_python',\n",
       "  u'type': u'Key<Model>'},\n",
       " u'output': {u'__meta': {u'schema_name': u'GBMModelOutputV3',\n",
       "   u'schema_type': u'GBMOutput',\n",
       "   u'schema_version': 3},\n",
       "  u'cross_validation_fold_assignment_frame_id': None,\n",
       "  u'cross_validation_holdout_predictions_frame_id': None,\n",
       "  u'cross_validation_metrics': None,\n",
       "  u'cross_validation_metrics_summary': None,\n",
       "  u'cross_validation_models': None,\n",
       "  u'cross_validation_predictions': None,\n",
       "  u'domains': [None,\n",
       "   None,\n",
       "   None,\n",
       "   None,\n",
       "   None,\n",
       "   None,\n",
       "   None,\n",
       "   None,\n",
       "   None,\n",
       "   None,\n",
       "   None,\n",
       "   None,\n",
       "   None,\n",
       "   None],\n",
       "  u'end_time': 1510638369758,\n",
       "  u'help': {u'__meta': u'Metadata on this schema instance, to make it self-describing.',\n",
       "   u'cross_validation_fold_assignment_frame_id': u'Cross-validation fold assignment (each row is assigned to one holdout fold)',\n",
       "   u'cross_validation_holdout_predictions_frame_id': u'Cross-validation holdout predictions (full out-of-sample predictions on training data)',\n",
       "   u'cross_validation_metrics': u'Cross-validation model metrics',\n",
       "   u'cross_validation_metrics_summary': u'Cross-validation model metrics summary',\n",
       "   u'cross_validation_models': u'Cross-validation models (model ids)',\n",
       "   u'cross_validation_predictions': u'Cross-validation predictions, one per cv model (deprecated, use cross_validation_holdout_predictions_frame_id instead)',\n",
       "   u'domains': u'Domains for categorical columns',\n",
       "   u'end_time': u'End time in milliseconds',\n",
       "   u'help': u'Help information for output fields',\n",
       "   u'init_f': u'The Intercept term, the initial model function value to which trees make adjustments',\n",
       "   u'model_category': u'Category of the model (e.g., Binomial)',\n",
       "   u'model_summary': u'Model summary',\n",
       "   u'names': u'Column names',\n",
       "   u'run_time': u'Runtime in milliseconds',\n",
       "   u'scoring_history': u'Scoring history',\n",
       "   u'start_time': u'Start time in milliseconds',\n",
       "   u'status': u'Job status',\n",
       "   u'training_metrics': u'Training data model metrics',\n",
       "   u'validation_metrics': u'Validation data model metrics',\n",
       "   u'variable_importances': u'Variable Importances'},\n",
       "  u'init_f': 22.698369565217405,\n",
       "  u'model_category': u'Regression',\n",
       "  u'model_summary': ,\n",
       "  u'names': [u'crim',\n",
       "   u'zn',\n",
       "   u'indus',\n",
       "   u'chas',\n",
       "   u'nox',\n",
       "   u'rm',\n",
       "   u'age',\n",
       "   u'dis',\n",
       "   u'rad',\n",
       "   u'tax',\n",
       "   u'ptratio',\n",
       "   u'b',\n",
       "   u'lstat',\n",
       "   u'medv'],\n",
       "  u'run_time': 109,\n",
       "  u'scoring_history': ,\n",
       "  u'start_time': 1510638369649,\n",
       "  u'status': None,\n",
       "  u'training_metrics': ,\n",
       "  u'validation_metrics': ,\n",
       "  u'variable_importances': },\n",
       " u'parameters': [{u'__meta': {u'schema_name': u'ModelParameterSchemaV3',\n",
       "    u'schema_type': u'Iced',\n",
       "    u'schema_version': 3},\n",
       "   u'actual_value': {u'URL': u'/3/Models/glm_model_with_training_and_validtion_python',\n",
       "    u'__meta': {u'schema_name': u'ModelKeyV3',\n",
       "     u'schema_type': u'Key<Model>',\n",
       "     u'schema_version': 3},\n",
       "    u'name': u'glm_model_with_training_and_validtion_python',\n",
       "    u'type': u'Key<Model>'},\n",
       "   u'default_value': None,\n",
       "   u'gridable': False,\n",
       "   u'help': u'Destination id for this model; auto-generated if not specified.',\n",
       "   u'is_member_of_frames': [],\n",
       "   u'is_mutually_exclusive_with': [],\n",
       "   u'label': u'model_id',\n",
       "   u'level': u'critical',\n",
       "   u'name': u'model_id',\n",
       "   u'required': False,\n",
       "   u'type': u'Key<Model>',\n",
       "   u'values': []},\n",
       "  {u'__meta': {u'schema_name': u'ModelParameterSchemaV3',\n",
       "    u'schema_type': u'Iced',\n",
       "    u'schema_version': 3},\n",
       "   u'actual_value': {u'URL': u'/3/Frames/py_17_sid_9c9b',\n",
       "    u'__meta': {u'schema_name': u'FrameKeyV3',\n",
       "     u'schema_type': u'Key<Frame>',\n",
       "     u'schema_version': 3},\n",
       "    u'name': u'py_17_sid_9c9b',\n",
       "    u'type': u'Key<Frame>'},\n",
       "   u'default_value': None,\n",
       "   u'gridable': False,\n",
       "   u'help': u'Id of the training data frame (Not required, to allow initial validation of model parameters).',\n",
       "   u'is_member_of_frames': [],\n",
       "   u'is_mutually_exclusive_with': [],\n",
       "   u'label': u'training_frame',\n",
       "   u'level': u'critical',\n",
       "   u'name': u'training_frame',\n",
       "   u'required': False,\n",
       "   u'type': u'Key<Frame>',\n",
       "   u'values': []},\n",
       "  {u'__meta': {u'schema_name': u'ModelParameterSchemaV3',\n",
       "    u'schema_type': u'Iced',\n",
       "    u'schema_version': 3},\n",
       "   u'actual_value': {u'URL': u'/3/Frames/py_18_sid_9c9b',\n",
       "    u'__meta': {u'schema_name': u'FrameKeyV3',\n",
       "     u'schema_type': u'Key<Frame>',\n",
       "     u'schema_version': 3},\n",
       "    u'name': u'py_18_sid_9c9b',\n",
       "    u'type': u'Key<Frame>'},\n",
       "   u'default_value': None,\n",
       "   u'gridable': True,\n",
       "   u'help': u'Id of the validation data frame.',\n",
       "   u'is_member_of_frames': [],\n",
       "   u'is_mutually_exclusive_with': [],\n",
       "   u'label': u'validation_frame',\n",
       "   u'level': u'critical',\n",
       "   u'name': u'validation_frame',\n",
       "   u'required': False,\n",
       "   u'type': u'Key<Frame>',\n",
       "   u'values': []},\n",
       "  {u'__meta': {u'schema_name': u'ModelParameterSchemaV3',\n",
       "    u'schema_type': u'Iced',\n",
       "    u'schema_version': 3},\n",
       "   u'actual_value': 0,\n",
       "   u'default_value': 0,\n",
       "   u'gridable': False,\n",
       "   u'help': u'Number of folds for N-fold cross-validation (0 to disable or >= 2).',\n",
       "   u'is_member_of_frames': [],\n",
       "   u'is_mutually_exclusive_with': [],\n",
       "   u'label': u'nfolds',\n",
       "   u'level': u'critical',\n",
       "   u'name': u'nfolds',\n",
       "   u'required': False,\n",
       "   u'type': u'int',\n",
       "   u'values': []},\n",
       "  {u'__meta': {u'schema_name': u'ModelParameterSchemaV3',\n",
       "    u'schema_type': u'Iced',\n",
       "    u'schema_version': 3},\n",
       "   u'actual_value': False,\n",
       "   u'default_value': False,\n",
       "   u'gridable': False,\n",
       "   u'help': u'Whether to keep the predictions of the cross-validation models.',\n",
       "   u'is_member_of_frames': [],\n",
       "   u'is_mutually_exclusive_with': [],\n",
       "   u'label': u'keep_cross_validation_predictions',\n",
       "   u'level': u'expert',\n",
       "   u'name': u'keep_cross_validation_predictions',\n",
       "   u'required': False,\n",
       "   u'type': u'boolean',\n",
       "   u'values': []},\n",
       "  {u'__meta': {u'schema_name': u'ModelParameterSchemaV3',\n",
       "    u'schema_type': u'Iced',\n",
       "    u'schema_version': 3},\n",
       "   u'actual_value': False,\n",
       "   u'default_value': False,\n",
       "   u'gridable': False,\n",
       "   u'help': u'Whether to keep the cross-validation fold assignment.',\n",
       "   u'is_member_of_frames': [],\n",
       "   u'is_mutually_exclusive_with': [],\n",
       "   u'label': u'keep_cross_validation_fold_assignment',\n",
       "   u'level': u'expert',\n",
       "   u'name': u'keep_cross_validation_fold_assignment',\n",
       "   u'required': False,\n",
       "   u'type': u'boolean',\n",
       "   u'values': []},\n",
       "  {u'__meta': {u'schema_name': u'ModelParameterSchemaV3',\n",
       "    u'schema_type': u'Iced',\n",
       "    u'schema_version': 3},\n",
       "   u'actual_value': False,\n",
       "   u'default_value': False,\n",
       "   u'gridable': False,\n",
       "   u'help': u'Whether to score during each iteration of model training.',\n",
       "   u'is_member_of_frames': [],\n",
       "   u'is_mutually_exclusive_with': [],\n",
       "   u'label': u'score_each_iteration',\n",
       "   u'level': u'secondary',\n",
       "   u'name': u'score_each_iteration',\n",
       "   u'required': False,\n",
       "   u'type': u'boolean',\n",
       "   u'values': []},\n",
       "  {u'__meta': {u'schema_name': u'ModelParameterSchemaV3',\n",
       "    u'schema_type': u'Iced',\n",
       "    u'schema_version': 3},\n",
       "   u'actual_value': 0,\n",
       "   u'default_value': 0,\n",
       "   u'gridable': False,\n",
       "   u'help': u'Score the model after every so many trees. Disabled if set to 0.',\n",
       "   u'is_member_of_frames': [],\n",
       "   u'is_mutually_exclusive_with': [],\n",
       "   u'label': u'score_tree_interval',\n",
       "   u'level': u'secondary',\n",
       "   u'name': u'score_tree_interval',\n",
       "   u'required': False,\n",
       "   u'type': u'int',\n",
       "   u'values': []},\n",
       "  {u'__meta': {u'schema_name': u'ModelParameterSchemaV3',\n",
       "    u'schema_type': u'Iced',\n",
       "    u'schema_version': 3},\n",
       "   u'actual_value': u'AUTO',\n",
       "   u'default_value': u'AUTO',\n",
       "   u'gridable': True,\n",
       "   u'help': u\"Cross-validation fold assignment scheme, if fold_column is not specified. The 'Stratified' option will stratify the folds based on the response variable, for classification problems.\",\n",
       "   u'is_member_of_frames': [],\n",
       "   u'is_mutually_exclusive_with': [],\n",
       "   u'label': u'fold_assignment',\n",
       "   u'level': u'secondary',\n",
       "   u'name': u'fold_assignment',\n",
       "   u'required': False,\n",
       "   u'type': u'enum',\n",
       "   u'values': [u'AUTO', u'Random', u'Modulo', u'Stratified']},\n",
       "  {u'__meta': {u'schema_name': u'ModelParameterSchemaV3',\n",
       "    u'schema_type': u'Iced',\n",
       "    u'schema_version': 3},\n",
       "   u'actual_value': None,\n",
       "   u'default_value': None,\n",
       "   u'gridable': True,\n",
       "   u'help': u'Column with cross-validation fold index assignment per observation.',\n",
       "   u'is_member_of_frames': [u'training_frame'],\n",
       "   u'is_mutually_exclusive_with': [u'response_column',\n",
       "    u'weights_column',\n",
       "    u'ignored_columns',\n",
       "    u'offset_column'],\n",
       "   u'label': u'fold_column',\n",
       "   u'level': u'secondary',\n",
       "   u'name': u'fold_column',\n",
       "   u'required': False,\n",
       "   u'type': u'VecSpecifier',\n",
       "   u'values': []},\n",
       "  {u'__meta': {u'schema_name': u'ModelParameterSchemaV3',\n",
       "    u'schema_type': u'Iced',\n",
       "    u'schema_version': 3},\n",
       "   u'actual_value': {u'__meta': {u'schema_name': u'ColSpecifierV3',\n",
       "     u'schema_type': u'VecSpecifier',\n",
       "     u'schema_version': 3},\n",
       "    u'column_name': u'medv',\n",
       "    u'is_member_of_frames': None},\n",
       "   u'default_value': None,\n",
       "   u'gridable': True,\n",
       "   u'help': u'Response variable column.',\n",
       "   u'is_member_of_frames': [u'training_frame', u'validation_frame'],\n",
       "   u'is_mutually_exclusive_with': [u'weights_column',\n",
       "    u'ignored_columns',\n",
       "    u'offset_column',\n",
       "    u'fold_column'],\n",
       "   u'label': u'response_column',\n",
       "   u'level': u'critical',\n",
       "   u'name': u'response_column',\n",
       "   u'required': False,\n",
       "   u'type': u'VecSpecifier',\n",
       "   u'values': []},\n",
       "  {u'__meta': {u'schema_name': u'ModelParameterSchemaV3',\n",
       "    u'schema_type': u'Iced',\n",
       "    u'schema_version': 3},\n",
       "   u'actual_value': None,\n",
       "   u'default_value': None,\n",
       "   u'gridable': False,\n",
       "   u'help': u'Names of columns to ignore for training.',\n",
       "   u'is_member_of_frames': [u'training_frame', u'validation_frame'],\n",
       "   u'is_mutually_exclusive_with': [u'response_column',\n",
       "    u'weights_column',\n",
       "    u'offset_column',\n",
       "    u'fold_column'],\n",
       "   u'label': u'ignored_columns',\n",
       "   u'level': u'critical',\n",
       "   u'name': u'ignored_columns',\n",
       "   u'required': False,\n",
       "   u'type': u'string[]',\n",
       "   u'values': []},\n",
       "  {u'__meta': {u'schema_name': u'ModelParameterSchemaV3',\n",
       "    u'schema_type': u'Iced',\n",
       "    u'schema_version': 3},\n",
       "   u'actual_value': True,\n",
       "   u'default_value': True,\n",
       "   u'gridable': False,\n",
       "   u'help': u'Ignore constant columns.',\n",
       "   u'is_member_of_frames': [],\n",
       "   u'is_mutually_exclusive_with': [],\n",
       "   u'label': u'ignore_const_cols',\n",
       "   u'level': u'critical',\n",
       "   u'name': u'ignore_const_cols',\n",
       "   u'required': False,\n",
       "   u'type': u'boolean',\n",
       "   u'values': []},\n",
       "  {u'__meta': {u'schema_name': u'ModelParameterSchemaV3',\n",
       "    u'schema_type': u'Iced',\n",
       "    u'schema_version': 3},\n",
       "   u'actual_value': None,\n",
       "   u'default_value': None,\n",
       "   u'gridable': True,\n",
       "   u'help': u'Offset column. This will be added to the combination of columns before applying the link function.',\n",
       "   u'is_member_of_frames': [u'training_frame', u'validation_frame'],\n",
       "   u'is_mutually_exclusive_with': [u'response_column',\n",
       "    u'weights_column',\n",
       "    u'ignored_columns',\n",
       "    u'fold_column'],\n",
       "   u'label': u'offset_column',\n",
       "   u'level': u'secondary',\n",
       "   u'name': u'offset_column',\n",
       "   u'required': False,\n",
       "   u'type': u'VecSpecifier',\n",
       "   u'values': []},\n",
       "  {u'__meta': {u'schema_name': u'ModelParameterSchemaV3',\n",
       "    u'schema_type': u'Iced',\n",
       "    u'schema_version': 3},\n",
       "   u'actual_value': None,\n",
       "   u'default_value': None,\n",
       "   u'gridable': True,\n",
       "   u'help': u'Column with observation weights. Giving some observation a weight of zero is equivalent to excluding it from the dataset; giving an observation a relative weight of 2 is equivalent to repeating that row twice. Negative weights are not allowed.',\n",
       "   u'is_member_of_frames': [u'training_frame', u'validation_frame'],\n",
       "   u'is_mutually_exclusive_with': [u'response_column',\n",
       "    u'ignored_columns',\n",
       "    u'offset_column',\n",
       "    u'fold_column'],\n",
       "   u'label': u'weights_column',\n",
       "   u'level': u'secondary',\n",
       "   u'name': u'weights_column',\n",
       "   u'required': False,\n",
       "   u'type': u'VecSpecifier',\n",
       "   u'values': []},\n",
       "  {u'__meta': {u'schema_name': u'ModelParameterSchemaV3',\n",
       "    u'schema_type': u'Iced',\n",
       "    u'schema_version': 3},\n",
       "   u'actual_value': False,\n",
       "   u'default_value': False,\n",
       "   u'gridable': True,\n",
       "   u'help': u'Balance training data class counts via over/under-sampling (for imbalanced data).',\n",
       "   u'is_member_of_frames': [],\n",
       "   u'is_mutually_exclusive_with': [],\n",
       "   u'label': u'balance_classes',\n",
       "   u'level': u'secondary',\n",
       "   u'name': u'balance_classes',\n",
       "   u'required': False,\n",
       "   u'type': u'boolean',\n",
       "   u'values': []},\n",
       "  {u'__meta': {u'schema_name': u'ModelParameterSchemaV3',\n",
       "    u'schema_type': u'Iced',\n",
       "    u'schema_version': 3},\n",
       "   u'actual_value': None,\n",
       "   u'default_value': None,\n",
       "   u'gridable': True,\n",
       "   u'help': u'Desired over/under-sampling ratios per class (in lexicographic order). If not specified, sampling factors will be automatically computed to obtain class balance during training. Requires balance_classes.',\n",
       "   u'is_member_of_frames': [],\n",
       "   u'is_mutually_exclusive_with': [],\n",
       "   u'label': u'class_sampling_factors',\n",
       "   u'level': u'expert',\n",
       "   u'name': u'class_sampling_factors',\n",
       "   u'required': False,\n",
       "   u'type': u'float[]',\n",
       "   u'values': []},\n",
       "  {u'__meta': {u'schema_name': u'ModelParameterSchemaV3',\n",
       "    u'schema_type': u'Iced',\n",
       "    u'schema_version': 3},\n",
       "   u'actual_value': 5.0,\n",
       "   u'default_value': 5.0,\n",
       "   u'gridable': True,\n",
       "   u'help': u'Maximum relative size of the training data after balancing class counts (can be less than 1.0). Requires balance_classes.',\n",
       "   u'is_member_of_frames': [],\n",
       "   u'is_mutually_exclusive_with': [],\n",
       "   u'label': u'max_after_balance_size',\n",
       "   u'level': u'expert',\n",
       "   u'name': u'max_after_balance_size',\n",
       "   u'required': False,\n",
       "   u'type': u'float',\n",
       "   u'values': []},\n",
       "  {u'__meta': {u'schema_name': u'ModelParameterSchemaV3',\n",
       "    u'schema_type': u'Iced',\n",
       "    u'schema_version': 3},\n",
       "   u'actual_value': 20,\n",
       "   u'default_value': 20,\n",
       "   u'gridable': False,\n",
       "   u'help': u'[Deprecated] Maximum size (# classes) for confusion matrices to be printed in the Logs',\n",
       "   u'is_member_of_frames': [],\n",
       "   u'is_mutually_exclusive_with': [],\n",
       "   u'label': u'max_confusion_matrix_size',\n",
       "   u'level': u'secondary',\n",
       "   u'name': u'max_confusion_matrix_size',\n",
       "   u'required': False,\n",
       "   u'type': u'int',\n",
       "   u'values': []},\n",
       "  {u'__meta': {u'schema_name': u'ModelParameterSchemaV3',\n",
       "    u'schema_type': u'Iced',\n",
       "    u'schema_version': 3},\n",
       "   u'actual_value': 0,\n",
       "   u'default_value': 0,\n",
       "   u'gridable': False,\n",
       "   u'help': u'Max. number (top K) of predictions to use for hit ratio computation (for multi-class only, 0 to disable)',\n",
       "   u'is_member_of_frames': [],\n",
       "   u'is_mutually_exclusive_with': [],\n",
       "   u'label': u'max_hit_ratio_k',\n",
       "   u'level': u'secondary',\n",
       "   u'name': u'max_hit_ratio_k',\n",
       "   u'required': False,\n",
       "   u'type': u'int',\n",
       "   u'values': []},\n",
       "  {u'__meta': {u'schema_name': u'ModelParameterSchemaV3',\n",
       "    u'schema_type': u'Iced',\n",
       "    u'schema_version': 3},\n",
       "   u'actual_value': 50,\n",
       "   u'default_value': 50,\n",
       "   u'gridable': True,\n",
       "   u'help': u'Number of trees.',\n",
       "   u'is_member_of_frames': [],\n",
       "   u'is_mutually_exclusive_with': [],\n",
       "   u'label': u'ntrees',\n",
       "   u'level': u'critical',\n",
       "   u'name': u'ntrees',\n",
       "   u'required': False,\n",
       "   u'type': u'int',\n",
       "   u'values': []},\n",
       "  {u'__meta': {u'schema_name': u'ModelParameterSchemaV3',\n",
       "    u'schema_type': u'Iced',\n",
       "    u'schema_version': 3},\n",
       "   u'actual_value': 5,\n",
       "   u'default_value': 5,\n",
       "   u'gridable': True,\n",
       "   u'help': u'Maximum tree depth.',\n",
       "   u'is_member_of_frames': [],\n",
       "   u'is_mutually_exclusive_with': [],\n",
       "   u'label': u'max_depth',\n",
       "   u'level': u'critical',\n",
       "   u'name': u'max_depth',\n",
       "   u'required': False,\n",
       "   u'type': u'int',\n",
       "   u'values': []},\n",
       "  {u'__meta': {u'schema_name': u'ModelParameterSchemaV3',\n",
       "    u'schema_type': u'Iced',\n",
       "    u'schema_version': 3},\n",
       "   u'actual_value': 10.0,\n",
       "   u'default_value': 10.0,\n",
       "   u'gridable': True,\n",
       "   u'help': u'Fewest allowed (weighted) observations in a leaf.',\n",
       "   u'is_member_of_frames': [],\n",
       "   u'is_mutually_exclusive_with': [],\n",
       "   u'label': u'min_rows',\n",
       "   u'level': u'critical',\n",
       "   u'name': u'min_rows',\n",
       "   u'required': False,\n",
       "   u'type': u'double',\n",
       "   u'values': []},\n",
       "  {u'__meta': {u'schema_name': u'ModelParameterSchemaV3',\n",
       "    u'schema_type': u'Iced',\n",
       "    u'schema_version': 3},\n",
       "   u'actual_value': 20,\n",
       "   u'default_value': 20,\n",
       "   u'gridable': True,\n",
       "   u'help': u'For numerical columns (real/int), build a histogram of (at least) this many bins, then split at the best point',\n",
       "   u'is_member_of_frames': [],\n",
       "   u'is_mutually_exclusive_with': [],\n",
       "   u'label': u'nbins',\n",
       "   u'level': u'critical',\n",
       "   u'name': u'nbins',\n",
       "   u'required': False,\n",
       "   u'type': u'int',\n",
       "   u'values': []},\n",
       "  {u'__meta': {u'schema_name': u'ModelParameterSchemaV3',\n",
       "    u'schema_type': u'Iced',\n",
       "    u'schema_version': 3},\n",
       "   u'actual_value': 1024,\n",
       "   u'default_value': 1024,\n",
       "   u'gridable': True,\n",
       "   u'help': u'For numerical columns (real/int), build a histogram of (at most) this many bins at the root level, then decrease by factor of two per level',\n",
       "   u'is_member_of_frames': [],\n",
       "   u'is_mutually_exclusive_with': [],\n",
       "   u'label': u'nbins_top_level',\n",
       "   u'level': u'secondary',\n",
       "   u'name': u'nbins_top_level',\n",
       "   u'required': False,\n",
       "   u'type': u'int',\n",
       "   u'values': []},\n",
       "  {u'__meta': {u'schema_name': u'ModelParameterSchemaV3',\n",
       "    u'schema_type': u'Iced',\n",
       "    u'schema_version': 3},\n",
       "   u'actual_value': 1024,\n",
       "   u'default_value': 1024,\n",
       "   u'gridable': True,\n",
       "   u'help': u'For categorical columns (factors), build a histogram of this many bins, then split at the best point. Higher values can lead to more overfitting.',\n",
       "   u'is_member_of_frames': [],\n",
       "   u'is_mutually_exclusive_with': [],\n",
       "   u'label': u'nbins_cats',\n",
       "   u'level': u'secondary',\n",
       "   u'name': u'nbins_cats',\n",
       "   u'required': False,\n",
       "   u'type': u'int',\n",
       "   u'values': []},\n",
       "  {u'__meta': {u'schema_name': u'ModelParameterSchemaV3',\n",
       "    u'schema_type': u'Iced',\n",
       "    u'schema_version': 3},\n",
       "   u'actual_value': 1.7976931348623157e+308,\n",
       "   u'default_value': 1.7976931348623157e+308,\n",
       "   u'gridable': True,\n",
       "   u'help': u'r2_stopping is no longer supported and will be ignored if set - please use stopping_rounds, stopping_metric and stopping_tolerance instead. Previous version of H2O would stop making trees when the R^2 metric equals or exceeds this',\n",
       "   u'is_member_of_frames': [],\n",
       "   u'is_mutually_exclusive_with': [],\n",
       "   u'label': u'r2_stopping',\n",
       "   u'level': u'secondary',\n",
       "   u'name': u'r2_stopping',\n",
       "   u'required': False,\n",
       "   u'type': u'double',\n",
       "   u'values': []},\n",
       "  {u'__meta': {u'schema_name': u'ModelParameterSchemaV3',\n",
       "    u'schema_type': u'Iced',\n",
       "    u'schema_version': 3},\n",
       "   u'actual_value': 0,\n",
       "   u'default_value': 0,\n",
       "   u'gridable': True,\n",
       "   u'help': u'Early stopping based on convergence of stopping_metric. Stop if simple moving average of length k of the stopping_metric does not improve for k:=stopping_rounds scoring events (0 to disable)',\n",
       "   u'is_member_of_frames': [],\n",
       "   u'is_mutually_exclusive_with': [],\n",
       "   u'label': u'stopping_rounds',\n",
       "   u'level': u'secondary',\n",
       "   u'name': u'stopping_rounds',\n",
       "   u'required': False,\n",
       "   u'type': u'int',\n",
       "   u'values': []},\n",
       "  {u'__meta': {u'schema_name': u'ModelParameterSchemaV3',\n",
       "    u'schema_type': u'Iced',\n",
       "    u'schema_version': 3},\n",
       "   u'actual_value': u'AUTO',\n",
       "   u'default_value': u'AUTO',\n",
       "   u'gridable': True,\n",
       "   u'help': u'Metric to use for early stopping (AUTO: logloss for classification, deviance for regression)',\n",
       "   u'is_member_of_frames': [],\n",
       "   u'is_mutually_exclusive_with': [],\n",
       "   u'label': u'stopping_metric',\n",
       "   u'level': u'secondary',\n",
       "   u'name': u'stopping_metric',\n",
       "   u'required': False,\n",
       "   u'type': u'enum',\n",
       "   u'values': [u'AUTO',\n",
       "    u'deviance',\n",
       "    u'logloss',\n",
       "    u'MSE',\n",
       "    u'RMSE',\n",
       "    u'MAE',\n",
       "    u'RMSLE',\n",
       "    u'AUC',\n",
       "    u'lift_top_group',\n",
       "    u'misclassification',\n",
       "    u'mean_per_class_error']},\n",
       "  {u'__meta': {u'schema_name': u'ModelParameterSchemaV3',\n",
       "    u'schema_type': u'Iced',\n",
       "    u'schema_version': 3},\n",
       "   u'actual_value': 0.001,\n",
       "   u'default_value': 0.001,\n",
       "   u'gridable': True,\n",
       "   u'help': u'Relative tolerance for metric-based stopping criterion (stop if relative improvement is not at least this much)',\n",
       "   u'is_member_of_frames': [],\n",
       "   u'is_mutually_exclusive_with': [],\n",
       "   u'label': u'stopping_tolerance',\n",
       "   u'level': u'secondary',\n",
       "   u'name': u'stopping_tolerance',\n",
       "   u'required': False,\n",
       "   u'type': u'double',\n",
       "   u'values': []},\n",
       "  {u'__meta': {u'schema_name': u'ModelParameterSchemaV3',\n",
       "    u'schema_type': u'Iced',\n",
       "    u'schema_version': 3},\n",
       "   u'actual_value': 0.0,\n",
       "   u'default_value': 0.0,\n",
       "   u'gridable': True,\n",
       "   u'help': u'Maximum allowed runtime in seconds for model training. Use 0 to disable.',\n",
       "   u'is_member_of_frames': [],\n",
       "   u'is_mutually_exclusive_with': [],\n",
       "   u'label': u'max_runtime_secs',\n",
       "   u'level': u'secondary',\n",
       "   u'name': u'max_runtime_secs',\n",
       "   u'required': False,\n",
       "   u'type': u'double',\n",
       "   u'values': []},\n",
       "  {u'__meta': {u'schema_name': u'ModelParameterSchemaV3',\n",
       "    u'schema_type': u'Iced',\n",
       "    u'schema_version': 3},\n",
       "   u'actual_value': -3833290750749486932,\n",
       "   u'default_value': -1,\n",
       "   u'gridable': True,\n",
       "   u'help': u'Seed for pseudo random number generator (if applicable)',\n",
       "   u'is_member_of_frames': [],\n",
       "   u'is_mutually_exclusive_with': [],\n",
       "   u'label': u'seed',\n",
       "   u'level': u'critical',\n",
       "   u'name': u'seed',\n",
       "   u'required': False,\n",
       "   u'type': u'long',\n",
       "   u'values': []},\n",
       "  {u'__meta': {u'schema_name': u'ModelParameterSchemaV3',\n",
       "    u'schema_type': u'Iced',\n",
       "    u'schema_version': 3},\n",
       "   u'actual_value': False,\n",
       "   u'default_value': False,\n",
       "   u'gridable': False,\n",
       "   u'help': u'Run on one node only; no network overhead but fewer cpus used.  Suitable for small datasets.',\n",
       "   u'is_member_of_frames': [],\n",
       "   u'is_mutually_exclusive_with': [],\n",
       "   u'label': u'build_tree_one_node',\n",
       "   u'level': u'expert',\n",
       "   u'name': u'build_tree_one_node',\n",
       "   u'required': False,\n",
       "   u'type': u'boolean',\n",
       "   u'values': []},\n",
       "  {u'__meta': {u'schema_name': u'ModelParameterSchemaV3',\n",
       "    u'schema_type': u'Iced',\n",
       "    u'schema_version': 3},\n",
       "   u'actual_value': 0.1,\n",
       "   u'default_value': 0.1,\n",
       "   u'gridable': True,\n",
       "   u'help': u'Learning rate (from 0.0 to 1.0)',\n",
       "   u'is_member_of_frames': [],\n",
       "   u'is_mutually_exclusive_with': [],\n",
       "   u'label': u'learn_rate',\n",
       "   u'level': u'critical',\n",
       "   u'name': u'learn_rate',\n",
       "   u'required': False,\n",
       "   u'type': u'double',\n",
       "   u'values': []},\n",
       "  {u'__meta': {u'schema_name': u'ModelParameterSchemaV3',\n",
       "    u'schema_type': u'Iced',\n",
       "    u'schema_version': 3},\n",
       "   u'actual_value': 1.0,\n",
       "   u'default_value': 1.0,\n",
       "   u'gridable': True,\n",
       "   u'help': u'Scale the learning rate by this factor after each tree (e.g., 0.99 or 0.999) ',\n",
       "   u'is_member_of_frames': [],\n",
       "   u'is_mutually_exclusive_with': [],\n",
       "   u'label': u'learn_rate_annealing',\n",
       "   u'level': u'secondary',\n",
       "   u'name': u'learn_rate_annealing',\n",
       "   u'required': False,\n",
       "   u'type': u'double',\n",
       "   u'values': []},\n",
       "  {u'__meta': {u'schema_name': u'ModelParameterSchemaV3',\n",
       "    u'schema_type': u'Iced',\n",
       "    u'schema_version': 3},\n",
       "   u'actual_value': u'gaussian',\n",
       "   u'default_value': u'AUTO',\n",
       "   u'gridable': True,\n",
       "   u'help': u'Distribution function',\n",
       "   u'is_member_of_frames': [],\n",
       "   u'is_mutually_exclusive_with': [],\n",
       "   u'label': u'distribution',\n",
       "   u'level': u'secondary',\n",
       "   u'name': u'distribution',\n",
       "   u'required': False,\n",
       "   u'type': u'enum',\n",
       "   u'values': [u'AUTO',\n",
       "    u'bernoulli',\n",
       "    u'multinomial',\n",
       "    u'gaussian',\n",
       "    u'poisson',\n",
       "    u'gamma',\n",
       "    u'tweedie',\n",
       "    u'laplace',\n",
       "    u'quantile',\n",
       "    u'huber']},\n",
       "  {u'__meta': {u'schema_name': u'ModelParameterSchemaV3',\n",
       "    u'schema_type': u'Iced',\n",
       "    u'schema_version': 3},\n",
       "   u'actual_value': 0.5,\n",
       "   u'default_value': 0.5,\n",
       "   u'gridable': True,\n",
       "   u'help': u'Desired quantile for Quantile regression, must be between 0 and 1.',\n",
       "   u'is_member_of_frames': [],\n",
       "   u'is_mutually_exclusive_with': [],\n",
       "   u'label': u'quantile_alpha',\n",
       "   u'level': u'secondary',\n",
       "   u'name': u'quantile_alpha',\n",
       "   u'required': False,\n",
       "   u'type': u'double',\n",
       "   u'values': []},\n",
       "  {u'__meta': {u'schema_name': u'ModelParameterSchemaV3',\n",
       "    u'schema_type': u'Iced',\n",
       "    u'schema_version': 3},\n",
       "   u'actual_value': 1.5,\n",
       "   u'default_value': 1.5,\n",
       "   u'gridable': True,\n",
       "   u'help': u'Tweedie power for Tweedie regression, must be between 1 and 2.',\n",
       "   u'is_member_of_frames': [],\n",
       "   u'is_mutually_exclusive_with': [],\n",
       "   u'label': u'tweedie_power',\n",
       "   u'level': u'secondary',\n",
       "   u'name': u'tweedie_power',\n",
       "   u'required': False,\n",
       "   u'type': u'double',\n",
       "   u'values': []},\n",
       "  {u'__meta': {u'schema_name': u'ModelParameterSchemaV3',\n",
       "    u'schema_type': u'Iced',\n",
       "    u'schema_version': 3},\n",
       "   u'actual_value': 0.9,\n",
       "   u'default_value': 0.9,\n",
       "   u'gridable': True,\n",
       "   u'help': u'Desired quantile for Huber/M-regression (threshold between quadratic and linear loss, must be between 0 and 1).',\n",
       "   u'is_member_of_frames': [],\n",
       "   u'is_mutually_exclusive_with': [],\n",
       "   u'label': u'huber_alpha',\n",
       "   u'level': u'secondary',\n",
       "   u'name': u'huber_alpha',\n",
       "   u'required': False,\n",
       "   u'type': u'double',\n",
       "   u'values': []},\n",
       "  {u'__meta': {u'schema_name': u'ModelParameterSchemaV3',\n",
       "    u'schema_type': u'Iced',\n",
       "    u'schema_version': 3},\n",
       "   u'actual_value': None,\n",
       "   u'default_value': None,\n",
       "   u'gridable': False,\n",
       "   u'help': u'Model checkpoint to resume training with.',\n",
       "   u'is_member_of_frames': [],\n",
       "   u'is_mutually_exclusive_with': [],\n",
       "   u'label': u'checkpoint',\n",
       "   u'level': u'secondary',\n",
       "   u'name': u'checkpoint',\n",
       "   u'required': False,\n",
       "   u'type': u'Key<Model>',\n",
       "   u'values': []},\n",
       "  {u'__meta': {u'schema_name': u'ModelParameterSchemaV3',\n",
       "    u'schema_type': u'Iced',\n",
       "    u'schema_version': 3},\n",
       "   u'actual_value': 1.0,\n",
       "   u'default_value': 1.0,\n",
       "   u'gridable': True,\n",
       "   u'help': u'Row sample rate per tree (from 0.0 to 1.0)',\n",
       "   u'is_member_of_frames': [],\n",
       "   u'is_mutually_exclusive_with': [],\n",
       "   u'label': u'sample_rate',\n",
       "   u'level': u'critical',\n",
       "   u'name': u'sample_rate',\n",
       "   u'required': False,\n",
       "   u'type': u'double',\n",
       "   u'values': []},\n",
       "  {u'__meta': {u'schema_name': u'ModelParameterSchemaV3',\n",
       "    u'schema_type': u'Iced',\n",
       "    u'schema_version': 3},\n",
       "   u'actual_value': None,\n",
       "   u'default_value': None,\n",
       "   u'gridable': True,\n",
       "   u'help': u'A list of row sample rates per class (relative fraction for each class, from 0.0 to 1.0), for each tree',\n",
       "   u'is_member_of_frames': [],\n",
       "   u'is_mutually_exclusive_with': [],\n",
       "   u'label': u'sample_rate_per_class',\n",
       "   u'level': u'expert',\n",
       "   u'name': u'sample_rate_per_class',\n",
       "   u'required': False,\n",
       "   u'type': u'double[]',\n",
       "   u'values': []},\n",
       "  {u'__meta': {u'schema_name': u'ModelParameterSchemaV3',\n",
       "    u'schema_type': u'Iced',\n",
       "    u'schema_version': 3},\n",
       "   u'actual_value': 1.0,\n",
       "   u'default_value': 1.0,\n",
       "   u'gridable': True,\n",
       "   u'help': u'Column sample rate (from 0.0 to 1.0)',\n",
       "   u'is_member_of_frames': [],\n",
       "   u'is_mutually_exclusive_with': [],\n",
       "   u'label': u'col_sample_rate',\n",
       "   u'level': u'critical',\n",
       "   u'name': u'col_sample_rate',\n",
       "   u'required': False,\n",
       "   u'type': u'double',\n",
       "   u'values': []},\n",
       "  {u'__meta': {u'schema_name': u'ModelParameterSchemaV3',\n",
       "    u'schema_type': u'Iced',\n",
       "    u'schema_version': 3},\n",
       "   u'actual_value': 1.0,\n",
       "   u'default_value': 1.0,\n",
       "   u'gridable': True,\n",
       "   u'help': u'Relative change of the column sampling rate for every level (from 0.0 to 2.0)',\n",
       "   u'is_member_of_frames': [],\n",
       "   u'is_mutually_exclusive_with': [],\n",
       "   u'label': u'col_sample_rate_change_per_level',\n",
       "   u'level': u'expert',\n",
       "   u'name': u'col_sample_rate_change_per_level',\n",
       "   u'required': False,\n",
       "   u'type': u'double',\n",
       "   u'values': []},\n",
       "  {u'__meta': {u'schema_name': u'ModelParameterSchemaV3',\n",
       "    u'schema_type': u'Iced',\n",
       "    u'schema_version': 3},\n",
       "   u'actual_value': 1.0,\n",
       "   u'default_value': 1.0,\n",
       "   u'gridable': True,\n",
       "   u'help': u'Column sample rate per tree (from 0.0 to 1.0)',\n",
       "   u'is_member_of_frames': [],\n",
       "   u'is_mutually_exclusive_with': [],\n",
       "   u'label': u'col_sample_rate_per_tree',\n",
       "   u'level': u'secondary',\n",
       "   u'name': u'col_sample_rate_per_tree',\n",
       "   u'required': False,\n",
       "   u'type': u'double',\n",
       "   u'values': []},\n",
       "  {u'__meta': {u'schema_name': u'ModelParameterSchemaV3',\n",
       "    u'schema_type': u'Iced',\n",
       "    u'schema_version': 3},\n",
       "   u'actual_value': 1e-05,\n",
       "   u'default_value': 1e-05,\n",
       "   u'gridable': True,\n",
       "   u'help': u'Minimum relative improvement in squared error reduction for a split to happen',\n",
       "   u'is_member_of_frames': [],\n",
       "   u'is_mutually_exclusive_with': [],\n",
       "   u'label': u'min_split_improvement',\n",
       "   u'level': u'secondary',\n",
       "   u'name': u'min_split_improvement',\n",
       "   u'required': False,\n",
       "   u'type': u'double',\n",
       "   u'values': []},\n",
       "  {u'__meta': {u'schema_name': u'ModelParameterSchemaV3',\n",
       "    u'schema_type': u'Iced',\n",
       "    u'schema_version': 3},\n",
       "   u'actual_value': u'AUTO',\n",
       "   u'default_value': u'AUTO',\n",
       "   u'gridable': True,\n",
       "   u'help': u'What type of histogram to use for finding optimal split points',\n",
       "   u'is_member_of_frames': [],\n",
       "   u'is_mutually_exclusive_with': [],\n",
       "   u'label': u'histogram_type',\n",
       "   u'level': u'secondary',\n",
       "   u'name': u'histogram_type',\n",
       "   u'required': False,\n",
       "   u'type': u'enum',\n",
       "   u'values': [u'AUTO',\n",
       "    u'UniformAdaptive',\n",
       "    u'Random',\n",
       "    u'QuantilesGlobal',\n",
       "    u'RoundRobin']},\n",
       "  {u'__meta': {u'schema_name': u'ModelParameterSchemaV3',\n",
       "    u'schema_type': u'Iced',\n",
       "    u'schema_version': 3},\n",
       "   u'actual_value': 1.7976931348623157e+308,\n",
       "   u'default_value': 1.7976931348623157e+308,\n",
       "   u'gridable': True,\n",
       "   u'help': u'Maximum absolute value of a leaf node prediction',\n",
       "   u'is_member_of_frames': [],\n",
       "   u'is_mutually_exclusive_with': [],\n",
       "   u'label': u'max_abs_leafnode_pred',\n",
       "   u'level': u'expert',\n",
       "   u'name': u'max_abs_leafnode_pred',\n",
       "   u'required': False,\n",
       "   u'type': u'double',\n",
       "   u'values': []},\n",
       "  {u'__meta': {u'schema_name': u'ModelParameterSchemaV3',\n",
       "    u'schema_type': u'Iced',\n",
       "    u'schema_version': 3},\n",
       "   u'actual_value': 0.0,\n",
       "   u'default_value': 0.0,\n",
       "   u'gridable': True,\n",
       "   u'help': u'Bandwidth (sigma) of Gaussian multiplicative noise ~N(1,sigma) for tree node predictions',\n",
       "   u'is_member_of_frames': [],\n",
       "   u'is_mutually_exclusive_with': [],\n",
       "   u'label': u'pred_noise_bandwidth',\n",
       "   u'level': u'expert',\n",
       "   u'name': u'pred_noise_bandwidth',\n",
       "   u'required': False,\n",
       "   u'type': u'double',\n",
       "   u'values': []},\n",
       "  {u'__meta': {u'schema_name': u'ModelParameterSchemaV3',\n",
       "    u'schema_type': u'Iced',\n",
       "    u'schema_version': 3},\n",
       "   u'actual_value': u'AUTO',\n",
       "   u'default_value': u'AUTO',\n",
       "   u'gridable': True,\n",
       "   u'help': u'Encoding scheme for categorical features',\n",
       "   u'is_member_of_frames': [],\n",
       "   u'is_mutually_exclusive_with': [],\n",
       "   u'label': u'categorical_encoding',\n",
       "   u'level': u'secondary',\n",
       "   u'name': u'categorical_encoding',\n",
       "   u'required': False,\n",
       "   u'type': u'enum',\n",
       "   u'values': [u'AUTO',\n",
       "    u'Enum',\n",
       "    u'OneHotInternal',\n",
       "    u'OneHotExplicit',\n",
       "    u'Binary',\n",
       "    u'Eigen',\n",
       "    u'LabelEncoder',\n",
       "    u'SortByResponse',\n",
       "    u'EnumLimited']},\n",
       "  {u'__meta': {u'schema_name': u'ModelParameterSchemaV3',\n",
       "    u'schema_type': u'Iced',\n",
       "    u'schema_version': 3},\n",
       "   u'actual_value': False,\n",
       "   u'default_value': False,\n",
       "   u'gridable': False,\n",
       "   u'help': u'Use Platt Scaling to calculate calibrated class probabilities. Calibration can provide more accurate estimates of class probabilities.',\n",
       "   u'is_member_of_frames': [],\n",
       "   u'is_mutually_exclusive_with': [],\n",
       "   u'label': u'calibrate_model',\n",
       "   u'level': u'expert',\n",
       "   u'name': u'calibrate_model',\n",
       "   u'required': False,\n",
       "   u'type': u'boolean',\n",
       "   u'values': []},\n",
       "  {u'__meta': {u'schema_name': u'ModelParameterSchemaV3',\n",
       "    u'schema_type': u'Iced',\n",
       "    u'schema_version': 3},\n",
       "   u'actual_value': None,\n",
       "   u'default_value': None,\n",
       "   u'gridable': False,\n",
       "   u'help': u'Calibration frame for Platt Scaling',\n",
       "   u'is_member_of_frames': [],\n",
       "   u'is_mutually_exclusive_with': [],\n",
       "   u'label': u'calibration_frame',\n",
       "   u'level': u'expert',\n",
       "   u'name': u'calibration_frame',\n",
       "   u'required': False,\n",
       "   u'type': u'Key<Frame>',\n",
       "   u'values': []}],\n",
       " u'response_column_name': u'medv',\n",
       " u'timestamp': 0}"
      ]
     },
     "execution_count": 140,
     "metadata": {},
     "output_type": "execute_result"
    }
   ],
   "source": [
    "gbm_model_with_training_and_validtion._model_json"
   ]
  },
  {
   "cell_type": "code",
   "execution_count": 144,
   "metadata": {},
   "outputs": [
    {
     "ename": "KeyError",
     "evalue": "'coefficients_table'",
     "output_type": "error",
     "traceback": [
      "\u001b[0;31m---------------------------------------------------------------------------\u001b[0m",
      "\u001b[0;31mKeyError\u001b[0m                                  Traceback (most recent call last)",
      "\u001b[0;32m<ipython-input-144-55d32239c3bd>\u001b[0m in \u001b[0;36m<module>\u001b[0;34m()\u001b[0m\n\u001b[0;32m----> 1\u001b[0;31m \u001b[0mgbm_model_with_training_and_validtion\u001b[0m\u001b[0;34m.\u001b[0m\u001b[0m_model_json\u001b[0m\u001b[0;34m[\u001b[0m\u001b[0;34m'output'\u001b[0m\u001b[0;34m]\u001b[0m\u001b[0;34m[\u001b[0m\u001b[0;34m'coefficients_table'\u001b[0m\u001b[0;34m]\u001b[0m\u001b[0;34m\u001b[0m\u001b[0m\n\u001b[0m\u001b[1;32m      2\u001b[0m \u001b[0;31m## GBM model does not have coefficients table\u001b[0m\u001b[0;34m\u001b[0m\u001b[0;34m\u001b[0m\u001b[0m\n",
      "\u001b[0;31mKeyError\u001b[0m: 'coefficients_table'"
     ]
    }
   ],
   "source": [
    "gbm_model_with_training_and_validtion._model_json['output']['coefficients_table']\n",
    "## GBM model does not have coefficients table"
   ]
  },
  {
   "cell_type": "code",
   "execution_count": 145,
   "metadata": {},
   "outputs": [
    {
     "data": {
      "text/plain": [
       "[u'crim',\n",
       " u'zn',\n",
       " u'indus',\n",
       " u'chas',\n",
       " u'nox',\n",
       " u'rm',\n",
       " u'age',\n",
       " u'dis',\n",
       " u'rad',\n",
       " u'tax',\n",
       " u'ptratio',\n",
       " u'b',\n",
       " u'lstat',\n",
       " u'medv']"
      ]
     },
     "execution_count": 145,
     "metadata": {},
     "output_type": "execute_result"
    }
   ],
   "source": [
    "gbm_model_with_training_and_validtion._model_json['output']['names']"
   ]
  },
  {
   "cell_type": "code",
   "execution_count": 146,
   "metadata": {
    "collapsed": true
   },
   "outputs": [],
   "source": [
    "gbm_model_with_training_and_validtion._model_json['output']['cross_validation_predictions']"
   ]
  },
  {
   "cell_type": "code",
   "execution_count": 147,
   "metadata": {},
   "outputs": [
    {
     "data": {
      "text/plain": [
       "[{u'URL': u'/3/Frames/prediction_GBM_model_python_1510608322538_110_cv_1',\n",
       "  u'__meta': {u'schema_name': u'FrameKeyV3',\n",
       "   u'schema_type': u'Key<Frame>',\n",
       "   u'schema_version': 3},\n",
       "  u'name': u'prediction_GBM_model_python_1510608322538_110_cv_1',\n",
       "  u'type': u'Key<Frame>'},\n",
       " {u'URL': u'/3/Frames/prediction_GBM_model_python_1510608322538_110_cv_2',\n",
       "  u'__meta': {u'schema_name': u'FrameKeyV3',\n",
       "   u'schema_type': u'Key<Frame>',\n",
       "   u'schema_version': 3},\n",
       "  u'name': u'prediction_GBM_model_python_1510608322538_110_cv_2',\n",
       "  u'type': u'Key<Frame>'},\n",
       " {u'URL': u'/3/Frames/prediction_GBM_model_python_1510608322538_110_cv_3',\n",
       "  u'__meta': {u'schema_name': u'FrameKeyV3',\n",
       "   u'schema_type': u'Key<Frame>',\n",
       "   u'schema_version': 3},\n",
       "  u'name': u'prediction_GBM_model_python_1510608322538_110_cv_3',\n",
       "  u'type': u'Key<Frame>'},\n",
       " {u'URL': u'/3/Frames/prediction_GBM_model_python_1510608322538_110_cv_4',\n",
       "  u'__meta': {u'schema_name': u'FrameKeyV3',\n",
       "   u'schema_type': u'Key<Frame>',\n",
       "   u'schema_version': 3},\n",
       "  u'name': u'prediction_GBM_model_python_1510608322538_110_cv_4',\n",
       "  u'type': u'Key<Frame>'},\n",
       " {u'URL': u'/3/Frames/prediction_GBM_model_python_1510608322538_110_cv_5',\n",
       "  u'__meta': {u'schema_name': u'FrameKeyV3',\n",
       "   u'schema_type': u'Key<Frame>',\n",
       "   u'schema_version': 3},\n",
       "  u'name': u'prediction_GBM_model_python_1510608322538_110_cv_5',\n",
       "  u'type': u'Key<Frame>'}]"
      ]
     },
     "execution_count": 147,
     "metadata": {},
     "output_type": "execute_result"
    }
   ],
   "source": [
    "gbm_model_with_training_and_cv._model_json['output']['cross_validation_predictions']"
   ]
  },
  {
   "cell_type": "code",
   "execution_count": 148,
   "metadata": {},
   "outputs": [
    {
     "name": "stdout",
     "output_type": "stream",
     "text": [
      "\n",
      "ModelMetricsRegression: gbm\n",
      "** Reported on train data. **\n",
      "\n",
      "MSE: 2.43245942278\n",
      "RMSE: 1.55963438753\n",
      "MAE: 1.14724929561\n",
      "RMSLE: 0.0729168703898\n",
      "Mean Residual Deviance: 2.43245942278\n"
     ]
    },
    {
     "data": {
      "text/plain": []
     },
     "execution_count": 148,
     "metadata": {},
     "output_type": "execute_result"
    }
   ],
   "source": [
    "gbm_model_with_training_and_cv._model_json['output']['training_metrics']"
   ]
  },
  {
   "cell_type": "code",
   "execution_count": 149,
   "metadata": {},
   "outputs": [
    {
     "data": {
      "text/plain": [
       "2.432459422775773"
      ]
     },
     "execution_count": 149,
     "metadata": {},
     "output_type": "execute_result"
    }
   ],
   "source": [
    "gbm_model_with_training_and_cv._model_json['output']['training_metrics']['MSE']"
   ]
  },
  {
   "cell_type": "code",
   "execution_count": 150,
   "metadata": {
    "collapsed": true
   },
   "outputs": [],
   "source": [
    "gbm_model_with_training_and_cv._model_json['output']['training_metrics']['R^2']"
   ]
  }
 ],
 "metadata": {
  "kernelspec": {
   "display_name": "Python 2",
   "language": "python",
   "name": "python2"
  },
  "language_info": {
   "codemirror_mode": {
    "name": "ipython",
    "version": 2
   },
   "file_extension": ".py",
   "mimetype": "text/x-python",
   "name": "python",
   "nbconvert_exporter": "python",
   "pygments_lexer": "ipython2",
   "version": "2.7.13"
  }
 },
 "nbformat": 4,
 "nbformat_minor": 2
}
