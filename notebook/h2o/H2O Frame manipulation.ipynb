{
 "cells": [
  {
   "cell_type": "code",
   "execution_count": 1,
   "metadata": {
    "collapsed": true
   },
   "outputs": [],
   "source": [
    "import h2o"
   ]
  },
  {
   "cell_type": "code",
   "execution_count": 106,
   "metadata": {
    "collapsed": false
   },
   "outputs": [
    {
     "name": "stdout",
     "output_type": "stream",
     "text": [
      "Connecting to H2O server at http://localhost:54321... successful.\n"
     ]
    },
    {
     "data": {
      "text/html": [
       "<div style=\"overflow:auto\"><table style=\"width:50%\"><tr><td>H2O cluster uptime:</td>\n",
       "<td>2 days 6 hours 32 mins</td></tr>\n",
       "<tr><td>H2O cluster version:</td>\n",
       "<td>3.10.3.2</td></tr>\n",
       "<tr><td>H2O cluster version age:</td>\n",
       "<td>4 days </td></tr>\n",
       "<tr><td>H2O cluster name:</td>\n",
       "<td>avkashchauhan</td></tr>\n",
       "<tr><td>H2O cluster total nodes:</td>\n",
       "<td>1</td></tr>\n",
       "<tr><td>H2O cluster free memory:</td>\n",
       "<td>3.115 Gb</td></tr>\n",
       "<tr><td>H2O cluster total cores:</td>\n",
       "<td>8</td></tr>\n",
       "<tr><td>H2O cluster allowed cores:</td>\n",
       "<td>8</td></tr>\n",
       "<tr><td>H2O cluster status:</td>\n",
       "<td>locked, healthy</td></tr>\n",
       "<tr><td>H2O connection url:</td>\n",
       "<td>http://localhost:54321</td></tr>\n",
       "<tr><td>H2O connection proxy:</td>\n",
       "<td>None</td></tr>\n",
       "<tr><td>Python version:</td>\n",
       "<td>2.7.10 final</td></tr></table></div>"
      ],
      "text/plain": [
       "--------------------------  ----------------------\n",
       "H2O cluster uptime:         2 days 6 hours 32 mins\n",
       "H2O cluster version:        3.10.3.2\n",
       "H2O cluster version age:    4 days\n",
       "H2O cluster name:           avkashchauhan\n",
       "H2O cluster total nodes:    1\n",
       "H2O cluster free memory:    3.115 Gb\n",
       "H2O cluster total cores:    8\n",
       "H2O cluster allowed cores:  8\n",
       "H2O cluster status:         locked, healthy\n",
       "H2O connection url:         http://localhost:54321\n",
       "H2O connection proxy:\n",
       "Python version:             2.7.10 final\n",
       "--------------------------  ----------------------"
      ]
     },
     "metadata": {},
     "output_type": "display_data"
    },
    {
     "data": {
      "text/plain": [
       "<H2OConnection to http://localhost:54321, no session>"
      ]
     },
     "execution_count": 106,
     "metadata": {},
     "output_type": "execute_result"
    }
   ],
   "source": [
    "h2o.connect()"
   ]
  },
  {
   "cell_type": "code",
   "execution_count": 37,
   "metadata": {
    "collapsed": false
   },
   "outputs": [
    {
     "data": {
      "text/html": [
       "<div>\n",
       "<table border=\"1\" class=\"dataframe\">\n",
       "  <thead>\n",
       "    <tr style=\"text-align: right;\">\n",
       "      <th></th>\n",
       "      <th>key</th>\n",
       "    </tr>\n",
       "  </thead>\n",
       "  <tbody>\n",
       "    <tr>\n",
       "      <th>0</th>\n",
       "      <td>Test_9999.hex</td>\n",
       "    </tr>\n",
       "    <tr>\n",
       "      <th>1</th>\n",
       "      <td>Test_u94Q5KV.hex</td>\n",
       "    </tr>\n",
       "    <tr>\n",
       "      <th>2</th>\n",
       "      <td>Train_UWu5bXk.hex</td>\n",
       "    </tr>\n",
       "    <tr>\n",
       "      <th>3</th>\n",
       "      <td>file94e250bb64_sid_a062_3</td>\n",
       "    </tr>\n",
       "    <tr>\n",
       "      <th>4</th>\n",
       "      <td>gbm-2a97c28f-5ac5-4a4b-b6fc-fc05b7a73cca</td>\n",
       "    </tr>\n",
       "    <tr>\n",
       "      <th>5</th>\n",
       "      <td>gbm-2a97c28f-5ac5-4a4b-b6fc-fc05b7a73cca_cv_1</td>\n",
       "    </tr>\n",
       "    <tr>\n",
       "      <th>6</th>\n",
       "      <td>gbm-2a97c28f-5ac5-4a4b-b6fc-fc05b7a73cca_cv_10</td>\n",
       "    </tr>\n",
       "    <tr>\n",
       "      <th>7</th>\n",
       "      <td>gbm-2a97c28f-5ac5-4a4b-b6fc-fc05b7a73cca_cv_2</td>\n",
       "    </tr>\n",
       "    <tr>\n",
       "      <th>8</th>\n",
       "      <td>gbm-2a97c28f-5ac5-4a4b-b6fc-fc05b7a73cca_cv_3</td>\n",
       "    </tr>\n",
       "    <tr>\n",
       "      <th>9</th>\n",
       "      <td>gbm-2a97c28f-5ac5-4a4b-b6fc-fc05b7a73cca_cv_4</td>\n",
       "    </tr>\n",
       "    <tr>\n",
       "      <th>10</th>\n",
       "      <td>gbm-2a97c28f-5ac5-4a4b-b6fc-fc05b7a73cca_cv_5</td>\n",
       "    </tr>\n",
       "    <tr>\n",
       "      <th>11</th>\n",
       "      <td>gbm-2a97c28f-5ac5-4a4b-b6fc-fc05b7a73cca_cv_6</td>\n",
       "    </tr>\n",
       "    <tr>\n",
       "      <th>12</th>\n",
       "      <td>gbm-2a97c28f-5ac5-4a4b-b6fc-fc05b7a73cca_cv_7</td>\n",
       "    </tr>\n",
       "    <tr>\n",
       "      <th>13</th>\n",
       "      <td>gbm-2a97c28f-5ac5-4a4b-b6fc-fc05b7a73cca_cv_8</td>\n",
       "    </tr>\n",
       "    <tr>\n",
       "      <th>14</th>\n",
       "      <td>gbm-2a97c28f-5ac5-4a4b-b6fc-fc05b7a73cca_cv_9</td>\n",
       "    </tr>\n",
       "    <tr>\n",
       "      <th>15</th>\n",
       "      <td>gbm-b6b21a1d-2950-4523-8147-dae565ce7f4f</td>\n",
       "    </tr>\n",
       "    <tr>\n",
       "      <th>16</th>\n",
       "      <td>modelmetrics_gbm-2a97c28f-5ac5-4a4b-b6fc-fc05b...</td>\n",
       "    </tr>\n",
       "    <tr>\n",
       "      <th>17</th>\n",
       "      <td>modelmetrics_gbm-2a97c28f-5ac5-4a4b-b6fc-fc05b...</td>\n",
       "    </tr>\n",
       "    <tr>\n",
       "      <th>18</th>\n",
       "      <td>modelmetrics_gbm-2a97c28f-5ac5-4a4b-b6fc-fc05b...</td>\n",
       "    </tr>\n",
       "    <tr>\n",
       "      <th>19</th>\n",
       "      <td>modelmetrics_gbm-2a97c28f-5ac5-4a4b-b6fc-fc05b...</td>\n",
       "    </tr>\n",
       "    <tr>\n",
       "      <th>20</th>\n",
       "      <td>modelmetrics_gbm-2a97c28f-5ac5-4a4b-b6fc-fc05b...</td>\n",
       "    </tr>\n",
       "    <tr>\n",
       "      <th>21</th>\n",
       "      <td>modelmetrics_gbm-2a97c28f-5ac5-4a4b-b6fc-fc05b...</td>\n",
       "    </tr>\n",
       "    <tr>\n",
       "      <th>22</th>\n",
       "      <td>modelmetrics_gbm-2a97c28f-5ac5-4a4b-b6fc-fc05b...</td>\n",
       "    </tr>\n",
       "    <tr>\n",
       "      <th>23</th>\n",
       "      <td>modelmetrics_gbm-2a97c28f-5ac5-4a4b-b6fc-fc05b...</td>\n",
       "    </tr>\n",
       "    <tr>\n",
       "      <th>24</th>\n",
       "      <td>modelmetrics_gbm-2a97c28f-5ac5-4a4b-b6fc-fc05b...</td>\n",
       "    </tr>\n",
       "    <tr>\n",
       "      <th>25</th>\n",
       "      <td>modelmetrics_gbm-2a97c28f-5ac5-4a4b-b6fc-fc05b...</td>\n",
       "    </tr>\n",
       "    <tr>\n",
       "      <th>26</th>\n",
       "      <td>modelmetrics_gbm-2a97c28f-5ac5-4a4b-b6fc-fc05b...</td>\n",
       "    </tr>\n",
       "    <tr>\n",
       "      <th>27</th>\n",
       "      <td>modelmetrics_gbm-2a97c28f-5ac5-4a4b-b6fc-fc05b...</td>\n",
       "    </tr>\n",
       "    <tr>\n",
       "      <th>28</th>\n",
       "      <td>modelmetrics_gbm-2a97c28f-5ac5-4a4b-b6fc-fc05b...</td>\n",
       "    </tr>\n",
       "    <tr>\n",
       "      <th>29</th>\n",
       "      <td>modelmetrics_gbm-2a97c28f-5ac5-4a4b-b6fc-fc05b...</td>\n",
       "    </tr>\n",
       "    <tr>\n",
       "      <th>30</th>\n",
       "      <td>modelmetrics_gbm-2a97c28f-5ac5-4a4b-b6fc-fc05b...</td>\n",
       "    </tr>\n",
       "    <tr>\n",
       "      <th>31</th>\n",
       "      <td>modelmetrics_gbm-2a97c28f-5ac5-4a4b-b6fc-fc05b...</td>\n",
       "    </tr>\n",
       "    <tr>\n",
       "      <th>32</th>\n",
       "      <td>modelmetrics_gbm-2a97c28f-5ac5-4a4b-b6fc-fc05b...</td>\n",
       "    </tr>\n",
       "    <tr>\n",
       "      <th>33</th>\n",
       "      <td>modelmetrics_gbm-2a97c28f-5ac5-4a4b-b6fc-fc05b...</td>\n",
       "    </tr>\n",
       "    <tr>\n",
       "      <th>34</th>\n",
       "      <td>modelmetrics_gbm-2a97c28f-5ac5-4a4b-b6fc-fc05b...</td>\n",
       "    </tr>\n",
       "    <tr>\n",
       "      <th>35</th>\n",
       "      <td>modelmetrics_gbm-2a97c28f-5ac5-4a4b-b6fc-fc05b...</td>\n",
       "    </tr>\n",
       "    <tr>\n",
       "      <th>36</th>\n",
       "      <td>modelmetrics_gbm-2a97c28f-5ac5-4a4b-b6fc-fc05b...</td>\n",
       "    </tr>\n",
       "    <tr>\n",
       "      <th>37</th>\n",
       "      <td>modelmetrics_gbm-b6b21a1d-2950-4523-8147-dae56...</td>\n",
       "    </tr>\n",
       "    <tr>\n",
       "      <th>38</th>\n",
       "      <td>prediction-4b0b2d7c-d362-4763-bfb8-c8982296f332</td>\n",
       "    </tr>\n",
       "    <tr>\n",
       "      <th>39</th>\n",
       "      <td>prediction-a2bab15a-3283-4d48-90a7-4bd92a343e16</td>\n",
       "    </tr>\n",
       "  </tbody>\n",
       "</table>\n",
       "</div>"
      ],
      "text/plain": [
       "                                                  key\n",
       "0                                       Test_9999.hex\n",
       "1                                    Test_u94Q5KV.hex\n",
       "2                                   Train_UWu5bXk.hex\n",
       "3                           file94e250bb64_sid_a062_3\n",
       "4            gbm-2a97c28f-5ac5-4a4b-b6fc-fc05b7a73cca\n",
       "5       gbm-2a97c28f-5ac5-4a4b-b6fc-fc05b7a73cca_cv_1\n",
       "6      gbm-2a97c28f-5ac5-4a4b-b6fc-fc05b7a73cca_cv_10\n",
       "7       gbm-2a97c28f-5ac5-4a4b-b6fc-fc05b7a73cca_cv_2\n",
       "8       gbm-2a97c28f-5ac5-4a4b-b6fc-fc05b7a73cca_cv_3\n",
       "9       gbm-2a97c28f-5ac5-4a4b-b6fc-fc05b7a73cca_cv_4\n",
       "10      gbm-2a97c28f-5ac5-4a4b-b6fc-fc05b7a73cca_cv_5\n",
       "11      gbm-2a97c28f-5ac5-4a4b-b6fc-fc05b7a73cca_cv_6\n",
       "12      gbm-2a97c28f-5ac5-4a4b-b6fc-fc05b7a73cca_cv_7\n",
       "13      gbm-2a97c28f-5ac5-4a4b-b6fc-fc05b7a73cca_cv_8\n",
       "14      gbm-2a97c28f-5ac5-4a4b-b6fc-fc05b7a73cca_cv_9\n",
       "15           gbm-b6b21a1d-2950-4523-8147-dae565ce7f4f\n",
       "16  modelmetrics_gbm-2a97c28f-5ac5-4a4b-b6fc-fc05b...\n",
       "17  modelmetrics_gbm-2a97c28f-5ac5-4a4b-b6fc-fc05b...\n",
       "18  modelmetrics_gbm-2a97c28f-5ac5-4a4b-b6fc-fc05b...\n",
       "19  modelmetrics_gbm-2a97c28f-5ac5-4a4b-b6fc-fc05b...\n",
       "20  modelmetrics_gbm-2a97c28f-5ac5-4a4b-b6fc-fc05b...\n",
       "21  modelmetrics_gbm-2a97c28f-5ac5-4a4b-b6fc-fc05b...\n",
       "22  modelmetrics_gbm-2a97c28f-5ac5-4a4b-b6fc-fc05b...\n",
       "23  modelmetrics_gbm-2a97c28f-5ac5-4a4b-b6fc-fc05b...\n",
       "24  modelmetrics_gbm-2a97c28f-5ac5-4a4b-b6fc-fc05b...\n",
       "25  modelmetrics_gbm-2a97c28f-5ac5-4a4b-b6fc-fc05b...\n",
       "26  modelmetrics_gbm-2a97c28f-5ac5-4a4b-b6fc-fc05b...\n",
       "27  modelmetrics_gbm-2a97c28f-5ac5-4a4b-b6fc-fc05b...\n",
       "28  modelmetrics_gbm-2a97c28f-5ac5-4a4b-b6fc-fc05b...\n",
       "29  modelmetrics_gbm-2a97c28f-5ac5-4a4b-b6fc-fc05b...\n",
       "30  modelmetrics_gbm-2a97c28f-5ac5-4a4b-b6fc-fc05b...\n",
       "31  modelmetrics_gbm-2a97c28f-5ac5-4a4b-b6fc-fc05b...\n",
       "32  modelmetrics_gbm-2a97c28f-5ac5-4a4b-b6fc-fc05b...\n",
       "33  modelmetrics_gbm-2a97c28f-5ac5-4a4b-b6fc-fc05b...\n",
       "34  modelmetrics_gbm-2a97c28f-5ac5-4a4b-b6fc-fc05b...\n",
       "35  modelmetrics_gbm-2a97c28f-5ac5-4a4b-b6fc-fc05b...\n",
       "36  modelmetrics_gbm-2a97c28f-5ac5-4a4b-b6fc-fc05b...\n",
       "37  modelmetrics_gbm-b6b21a1d-2950-4523-8147-dae56...\n",
       "38    prediction-4b0b2d7c-d362-4763-bfb8-c8982296f332\n",
       "39    prediction-a2bab15a-3283-4d48-90a7-4bd92a343e16"
      ]
     },
     "execution_count": 37,
     "metadata": {},
     "output_type": "execute_result"
    }
   ],
   "source": [
    "h2o.ls()"
   ]
  },
  {
   "cell_type": "code",
   "execution_count": 107,
   "metadata": {
    "collapsed": true
   },
   "outputs": [],
   "source": [
    "import numpy as np"
   ]
  },
  {
   "cell_type": "code",
   "execution_count": 108,
   "metadata": {
    "collapsed": false
   },
   "outputs": [],
   "source": [
    "aa22 =h2o.get_frame(\"Test_u94Q5KV.hex\")\n",
    "aa21 =h2o.get_frame(\"prediction-XYZ\")"
   ]
  },
  {
   "cell_type": "code",
   "execution_count": 109,
   "metadata": {
    "collapsed": false
   },
   "outputs": [],
   "source": [
    "aaFinal = aa22.cbind(aa21)"
   ]
  },
  {
   "cell_type": "code",
   "execution_count": 110,
   "metadata": {
    "collapsed": false
   },
   "outputs": [],
   "source": [
    "aaF = aaFinal[:, [\"Item_Identifier\", \"Outlet_Identifier\", \"predict\"]]"
   ]
  },
  {
   "cell_type": "code",
   "execution_count": 111,
   "metadata": {
    "collapsed": false
   },
   "outputs": [
    {
     "data": {
      "text/plain": [
       "['Item_Identifier', 'Outlet_Identifier', 'predict']"
      ]
     },
     "execution_count": 111,
     "metadata": {},
     "output_type": "execute_result"
    }
   ],
   "source": [
    "aaF.columns"
   ]
  },
  {
   "cell_type": "code",
   "execution_count": 112,
   "metadata": {
    "collapsed": false
   },
   "outputs": [],
   "source": [
    "aaF1 = aaF.as_data_frame()"
   ]
  },
  {
   "cell_type": "code",
   "execution_count": 113,
   "metadata": {
    "collapsed": false
   },
   "outputs": [
    {
     "data": {
      "text/plain": [
       "Index([u'Item_Identifier', u'Outlet_Identifier', u'predict'], dtype='object')"
      ]
     },
     "execution_count": 113,
     "metadata": {},
     "output_type": "execute_result"
    }
   ],
   "source": [
    "aaF1.columns"
   ]
  },
  {
   "cell_type": "code",
   "execution_count": 114,
   "metadata": {
    "collapsed": true
   },
   "outputs": [],
   "source": [
    "aaF1.rename(columns={'Item_Identifier': 'Item_Identifier', 'Outlet_Identifier': 'Outlet_Identifier', 'predict' : 'Item_Outlet_Sales'}, inplace=True)"
   ]
  },
  {
   "cell_type": "code",
   "execution_count": 115,
   "metadata": {
    "collapsed": false
   },
   "outputs": [
    {
     "data": {
      "text/plain": [
       "Index([u'Item_Identifier', u'Outlet_Identifier', u'Item_Outlet_Sales'], dtype='object')"
      ]
     },
     "execution_count": 115,
     "metadata": {},
     "output_type": "execute_result"
    }
   ],
   "source": [
    "aaF1.columns"
   ]
  },
  {
   "cell_type": "code",
   "execution_count": 116,
   "metadata": {
    "collapsed": false
   },
   "outputs": [],
   "source": [
    "aaF1.to_csv(\"/Users/avkashchauhan/Downloads/myresult.csv\", index = False)"
   ]
  },
  {
   "cell_type": "code",
   "execution_count": null,
   "metadata": {
    "collapsed": true
   },
   "outputs": [],
   "source": []
  }
 ],
 "metadata": {
  "kernelspec": {
   "display_name": "Python 2",
   "language": "python",
   "name": "python2"
  },
  "language_info": {
   "codemirror_mode": {
    "name": "ipython",
    "version": 2
   },
   "file_extension": ".py",
   "mimetype": "text/x-python",
   "name": "python",
   "nbconvert_exporter": "python",
   "pygments_lexer": "ipython2",
   "version": "2.7.10"
  }
 },
 "nbformat": 4,
 "nbformat_minor": 1
}
