{
 "cells": [
  {
   "cell_type": "code",
   "execution_count": 1,
   "metadata": {
    "collapsed": true
   },
   "outputs": [],
   "source": [
    "###: Importing H2O Library"
   ]
  },
  {
   "cell_type": "code",
   "execution_count": 2,
   "metadata": {
    "collapsed": true
   },
   "outputs": [],
   "source": [
    "import h2o"
   ]
  },
  {
   "cell_type": "code",
   "execution_count": 3,
   "metadata": {
    "collapsed": true
   },
   "outputs": [],
   "source": [
    "###: Initializing h2O"
   ]
  },
  {
   "cell_type": "code",
   "execution_count": 4,
   "metadata": {},
   "outputs": [
    {
     "name": "stderr",
     "output_type": "stream",
     "text": [
      "ERROR:h2o:Key init.version_check is not a valid config key\n"
     ]
    },
    {
     "name": "stdout",
     "output_type": "stream",
     "text": [
      "Checking whether there is an H2O instance running at http://localhost:54321. connected.\n"
     ]
    },
    {
     "data": {
      "text/html": [
       "<div style=\"overflow:auto\"><table style=\"width:50%\"><tr><td>H2O cluster uptime:</td>\n",
       "<td>1 day 3 hours 19 mins</td></tr>\n",
       "<tr><td>H2O cluster version:</td>\n",
       "<td>3.14.0.7</td></tr>\n",
       "<tr><td>H2O cluster version age:</td>\n",
       "<td>1 month and 1 day </td></tr>\n",
       "<tr><td>H2O cluster name:</td>\n",
       "<td>H2O_from_python_avkashchauhan_d7ekmq</td></tr>\n",
       "<tr><td>H2O cluster total nodes:</td>\n",
       "<td>1</td></tr>\n",
       "<tr><td>H2O cluster free memory:</td>\n",
       "<td>2.843 Gb</td></tr>\n",
       "<tr><td>H2O cluster total cores:</td>\n",
       "<td>8</td></tr>\n",
       "<tr><td>H2O cluster allowed cores:</td>\n",
       "<td>8</td></tr>\n",
       "<tr><td>H2O cluster status:</td>\n",
       "<td>locked, healthy</td></tr>\n",
       "<tr><td>H2O connection url:</td>\n",
       "<td>http://localhost:54321</td></tr>\n",
       "<tr><td>H2O connection proxy:</td>\n",
       "<td>None</td></tr>\n",
       "<tr><td>H2O internal security:</td>\n",
       "<td>False</td></tr>\n",
       "<tr><td>H2O API Extensions:</td>\n",
       "<td>XGBoost, Algos, AutoML, Core V3, Core V4</td></tr>\n",
       "<tr><td>Python version:</td>\n",
       "<td>2.7.13 final</td></tr></table></div>"
      ],
      "text/plain": [
       "--------------------------  ----------------------------------------\n",
       "H2O cluster uptime:         1 day 3 hours 19 mins\n",
       "H2O cluster version:        3.14.0.7\n",
       "H2O cluster version age:    1 month and 1 day\n",
       "H2O cluster name:           H2O_from_python_avkashchauhan_d7ekmq\n",
       "H2O cluster total nodes:    1\n",
       "H2O cluster free memory:    2.843 Gb\n",
       "H2O cluster total cores:    8\n",
       "H2O cluster allowed cores:  8\n",
       "H2O cluster status:         locked, healthy\n",
       "H2O connection url:         http://localhost:54321\n",
       "H2O connection proxy:\n",
       "H2O internal security:      False\n",
       "H2O API Extensions:         XGBoost, Algos, AutoML, Core V3, Core V4\n",
       "Python version:             2.7.13 final\n",
       "--------------------------  ----------------------------------------"
      ]
     },
     "metadata": {},
     "output_type": "display_data"
    }
   ],
   "source": [
    "h2o.init()"
   ]
  },
  {
   "cell_type": "code",
   "execution_count": 5,
   "metadata": {
    "collapsed": true
   },
   "outputs": [],
   "source": [
    "### : Getting H2O Cluster status"
   ]
  },
  {
   "cell_type": "code",
   "execution_count": 6,
   "metadata": {},
   "outputs": [
    {
     "data": {
      "text/html": [
       "<div style=\"overflow:auto\"><table style=\"width:50%\"><tr><td>H2O cluster uptime:</td>\n",
       "<td>1 day 3 hours 19 mins</td></tr>\n",
       "<tr><td>H2O cluster version:</td>\n",
       "<td>3.14.0.7</td></tr>\n",
       "<tr><td>H2O cluster version age:</td>\n",
       "<td>1 month and 1 day </td></tr>\n",
       "<tr><td>H2O cluster name:</td>\n",
       "<td>H2O_from_python_avkashchauhan_d7ekmq</td></tr>\n",
       "<tr><td>H2O cluster total nodes:</td>\n",
       "<td>1</td></tr>\n",
       "<tr><td>H2O cluster free memory:</td>\n",
       "<td>2.843 Gb</td></tr>\n",
       "<tr><td>H2O cluster total cores:</td>\n",
       "<td>8</td></tr>\n",
       "<tr><td>H2O cluster allowed cores:</td>\n",
       "<td>8</td></tr>\n",
       "<tr><td>H2O cluster status:</td>\n",
       "<td>locked, healthy</td></tr>\n",
       "<tr><td>H2O connection url:</td>\n",
       "<td>http://localhost:54321</td></tr>\n",
       "<tr><td>H2O connection proxy:</td>\n",
       "<td>None</td></tr>\n",
       "<tr><td>H2O internal security:</td>\n",
       "<td>False</td></tr>\n",
       "<tr><td>H2O API Extensions:</td>\n",
       "<td>XGBoost, Algos, AutoML, Core V3, Core V4</td></tr>\n",
       "<tr><td>Python version:</td>\n",
       "<td>2.7.13 final</td></tr></table></div>"
      ],
      "text/plain": [
       "--------------------------  ----------------------------------------\n",
       "H2O cluster uptime:         1 day 3 hours 19 mins\n",
       "H2O cluster version:        3.14.0.7\n",
       "H2O cluster version age:    1 month and 1 day\n",
       "H2O cluster name:           H2O_from_python_avkashchauhan_d7ekmq\n",
       "H2O cluster total nodes:    1\n",
       "H2O cluster free memory:    2.843 Gb\n",
       "H2O cluster total cores:    8\n",
       "H2O cluster allowed cores:  8\n",
       "H2O cluster status:         locked, healthy\n",
       "H2O connection url:         http://localhost:54321\n",
       "H2O connection proxy:\n",
       "H2O internal security:      False\n",
       "H2O API Extensions:         XGBoost, Algos, AutoML, Core V3, Core V4\n",
       "Python version:             2.7.13 final\n",
       "--------------------------  ----------------------------------------"
      ]
     },
     "metadata": {},
     "output_type": "display_data"
    }
   ],
   "source": [
    "h2o.cluster().show_status()"
   ]
  },
  {
   "cell_type": "code",
   "execution_count": 7,
   "metadata": {
    "collapsed": true
   },
   "outputs": [],
   "source": [
    "###: Importing Dataset"
   ]
  },
  {
   "cell_type": "code",
   "execution_count": 8,
   "metadata": {},
   "outputs": [
    {
     "name": "stdout",
     "output_type": "stream",
     "text": [
      "Parse progress: |█████████████████████████████████████████████████████████| 100%\n"
     ]
    }
   ],
   "source": [
    "df = h2o.import_file(\"https://raw.githubusercontent.com/Avkash/mldl/master/data/prostate.csv\")"
   ]
  },
  {
   "cell_type": "code",
   "execution_count": 9,
   "metadata": {
    "collapsed": true
   },
   "outputs": [],
   "source": [
    "###: Understanding Dataset"
   ]
  },
  {
   "cell_type": "code",
   "execution_count": 10,
   "metadata": {},
   "outputs": [
    {
     "name": "stdout",
     "output_type": "stream",
     "text": [
      "Rows:380\n",
      "Cols:9\n",
      "\n",
      "\n"
     ]
    },
    {
     "data": {
      "text/html": [
       "<table>\n",
       "<thead>\n",
       "<tr><th>       </th><th>ID           </th><th>CAPSULE       </th><th>AGE          </th><th>RACE          </th><th>DPROS        </th><th>DCAPS         </th><th>PSA          </th><th>VOL          </th><th>GLEASON      </th></tr>\n",
       "</thead>\n",
       "<tbody>\n",
       "<tr><td>type   </td><td>int          </td><td>int           </td><td>int          </td><td>int           </td><td>int          </td><td>int           </td><td>real         </td><td>real         </td><td>int          </td></tr>\n",
       "<tr><td>mins   </td><td>1.0          </td><td>0.0           </td><td>43.0         </td><td>0.0           </td><td>1.0          </td><td>1.0           </td><td>0.3          </td><td>0.0          </td><td>0.0          </td></tr>\n",
       "<tr><td>mean   </td><td>190.5        </td><td>0.402631578947</td><td>66.0394736842</td><td>1.08684210526 </td><td>2.27105263158</td><td>1.10789473684 </td><td>15.4086315789</td><td>15.8129210526</td><td>6.38421052632</td></tr>\n",
       "<tr><td>maxs   </td><td>380.0        </td><td>1.0           </td><td>79.0         </td><td>2.0           </td><td>4.0          </td><td>2.0           </td><td>139.7        </td><td>97.6         </td><td>9.0          </td></tr>\n",
       "<tr><td>sigma  </td><td>109.840793879</td><td>0.491074338963</td><td>6.52707126917</td><td>0.308773258025</td><td>1.00010761815</td><td>0.310656449351</td><td>19.9975726686</td><td>18.3476199673</td><td>1.09195337443</td></tr>\n",
       "<tr><td>zeros  </td><td>0            </td><td>227           </td><td>0            </td><td>3             </td><td>0            </td><td>0             </td><td>0            </td><td>167          </td><td>2            </td></tr>\n",
       "<tr><td>missing</td><td>0            </td><td>0             </td><td>0            </td><td>0             </td><td>0            </td><td>0             </td><td>0            </td><td>0            </td><td>0            </td></tr>\n",
       "<tr><td>0      </td><td>1.0          </td><td>0.0           </td><td>65.0         </td><td>1.0           </td><td>2.0          </td><td>1.0           </td><td>1.4          </td><td>0.0          </td><td>6.0          </td></tr>\n",
       "<tr><td>1      </td><td>2.0          </td><td>0.0           </td><td>72.0         </td><td>1.0           </td><td>3.0          </td><td>2.0           </td><td>6.7          </td><td>0.0          </td><td>7.0          </td></tr>\n",
       "<tr><td>2      </td><td>3.0          </td><td>0.0           </td><td>70.0         </td><td>1.0           </td><td>1.0          </td><td>2.0           </td><td>4.9          </td><td>0.0          </td><td>6.0          </td></tr>\n",
       "<tr><td>3      </td><td>4.0          </td><td>0.0           </td><td>76.0         </td><td>2.0           </td><td>2.0          </td><td>1.0           </td><td>51.2         </td><td>20.0         </td><td>7.0          </td></tr>\n",
       "<tr><td>4      </td><td>5.0          </td><td>0.0           </td><td>69.0         </td><td>1.0           </td><td>1.0          </td><td>1.0           </td><td>12.3         </td><td>55.9         </td><td>6.0          </td></tr>\n",
       "<tr><td>5      </td><td>6.0          </td><td>1.0           </td><td>71.0         </td><td>1.0           </td><td>3.0          </td><td>2.0           </td><td>3.3          </td><td>0.0          </td><td>8.0          </td></tr>\n",
       "<tr><td>6      </td><td>7.0          </td><td>0.0           </td><td>68.0         </td><td>2.0           </td><td>4.0          </td><td>2.0           </td><td>31.9         </td><td>0.0          </td><td>7.0          </td></tr>\n",
       "<tr><td>7      </td><td>8.0          </td><td>0.0           </td><td>61.0         </td><td>2.0           </td><td>4.0          </td><td>2.0           </td><td>66.7         </td><td>27.2         </td><td>7.0          </td></tr>\n",
       "<tr><td>8      </td><td>9.0          </td><td>0.0           </td><td>69.0         </td><td>1.0           </td><td>1.0          </td><td>1.0           </td><td>3.9          </td><td>24.0         </td><td>7.0          </td></tr>\n",
       "<tr><td>9      </td><td>10.0         </td><td>0.0           </td><td>68.0         </td><td>2.0           </td><td>1.0          </td><td>2.0           </td><td>13.0         </td><td>0.0          </td><td>6.0          </td></tr>\n",
       "</tbody>\n",
       "</table>"
      ]
     },
     "metadata": {},
     "output_type": "display_data"
    }
   ],
   "source": [
    "df.describe()"
   ]
  },
  {
   "cell_type": "code",
   "execution_count": 11,
   "metadata": {
    "collapsed": true
   },
   "outputs": [],
   "source": [
    "###: Understanding Dataset with pylab library"
   ]
  },
  {
   "cell_type": "code",
   "execution_count": 12,
   "metadata": {},
   "outputs": [
    {
     "data": {
      "text/plain": [
       "<matplotlib.figure.Figure at 0x111a666d0>"
      ]
     },
     "metadata": {},
     "output_type": "display_data"
    },
    {
     "data": {
      "image/png": "[encoded data removed]",
      "text/plain": [
       "<matplotlib.figure.Figure at 0x113f838d0>"
      ]
     },
     "metadata": {},
     "output_type": "display_data"
    }
   ],
   "source": [
    "import pylab as pl\n",
    "pl.figure(figsize=(20,10))\n",
    "df.as_data_frame().hist()\n",
    "pl.show()"
   ]
  },
  {
   "cell_type": "code",
   "execution_count": 13,
   "metadata": {
    "collapsed": true
   },
   "outputs": [],
   "source": [
    "###: Getting a list of columns in our dataset"
   ]
  },
  {
   "cell_type": "code",
   "execution_count": 14,
   "metadata": {},
   "outputs": [
    {
     "data": {
      "text/plain": [
       "[u'ID',\n",
       " u'CAPSULE',\n",
       " u'AGE',\n",
       " u'RACE',\n",
       " u'DPROS',\n",
       " u'DCAPS',\n",
       " u'PSA',\n",
       " u'VOL',\n",
       " u'GLEASON']"
      ]
     },
     "execution_count": 14,
     "metadata": {},
     "output_type": "execute_result"
    }
   ],
   "source": [
    "df.col_names"
   ]
  },
  {
   "cell_type": "code",
   "execution_count": 15,
   "metadata": {
    "collapsed": true
   },
   "outputs": [],
   "source": [
    "###: Setting Response column"
   ]
  },
  {
   "cell_type": "code",
   "execution_count": 16,
   "metadata": {
    "collapsed": true
   },
   "outputs": [],
   "source": [
    "response = \"CAPSULE\""
   ]
  },
  {
   "cell_type": "code",
   "execution_count": 17,
   "metadata": {
    "collapsed": true
   },
   "outputs": [],
   "source": [
    "###: Setting Response column to factor so we can get unique values in it"
   ]
  },
  {
   "cell_type": "code",
   "execution_count": 18,
   "metadata": {},
   "outputs": [
    {
     "data": {
      "text/plain": [
       "[['0', '1']]"
      ]
     },
     "execution_count": 18,
     "metadata": {},
     "output_type": "execute_result"
    }
   ],
   "source": [
    "df[response].asfactor().levels()"
   ]
  },
  {
   "cell_type": "code",
   "execution_count": 19,
   "metadata": {
    "collapsed": true
   },
   "outputs": [],
   "source": [
    "###: Setting Response column to factor so we can build classification model"
   ]
  },
  {
   "cell_type": "code",
   "execution_count": 20,
   "metadata": {
    "collapsed": true
   },
   "outputs": [],
   "source": [
    "df[response] = df[response].asfactor()"
   ]
  },
  {
   "cell_type": "code",
   "execution_count": 21,
   "metadata": {
    "collapsed": true
   },
   "outputs": [],
   "source": [
    "###: Verifying Response column as factor "
   ]
  },
  {
   "cell_type": "code",
   "execution_count": 22,
   "metadata": {},
   "outputs": [
    {
     "name": "stdout",
     "output_type": "stream",
     "text": [
      "Rows:380\n",
      "Cols:1\n",
      "\n",
      "\n"
     ]
    },
    {
     "data": {
      "text/html": [
       "<table>\n",
       "<thead>\n",
       "<tr><th>       </th><th>CAPSULE  </th></tr>\n",
       "</thead>\n",
       "<tbody>\n",
       "<tr><td>type   </td><td>enum     </td></tr>\n",
       "<tr><td>mins   </td><td>         </td></tr>\n",
       "<tr><td>mean   </td><td>         </td></tr>\n",
       "<tr><td>maxs   </td><td>         </td></tr>\n",
       "<tr><td>sigma  </td><td>         </td></tr>\n",
       "<tr><td>zeros  </td><td>         </td></tr>\n",
       "<tr><td>missing</td><td>0        </td></tr>\n",
       "<tr><td>0      </td><td>0        </td></tr>\n",
       "<tr><td>1      </td><td>0        </td></tr>\n",
       "<tr><td>2      </td><td>0        </td></tr>\n",
       "<tr><td>3      </td><td>0        </td></tr>\n",
       "<tr><td>4      </td><td>0        </td></tr>\n",
       "<tr><td>5      </td><td>1        </td></tr>\n",
       "<tr><td>6      </td><td>0        </td></tr>\n",
       "<tr><td>7      </td><td>0        </td></tr>\n",
       "<tr><td>8      </td><td>0        </td></tr>\n",
       "<tr><td>9      </td><td>0        </td></tr>\n",
       "</tbody>\n",
       "</table>"
      ]
     },
     "metadata": {},
     "output_type": "display_data"
    }
   ],
   "source": [
    "df[response].describe()"
   ]
  },
  {
   "cell_type": "code",
   "execution_count": 23,
   "metadata": {
    "collapsed": true
   },
   "outputs": [],
   "source": [
    "###: spliting the dataset into train, test and validation  "
   ]
  },
  {
   "cell_type": "code",
   "execution_count": 24,
   "metadata": {},
   "outputs": [
    {
     "name": "stdout",
     "output_type": "stream",
     "text": [
      "(304, 9)\n",
      "(31, 9)\n",
      "(45, 9)\n"
     ]
    }
   ],
   "source": [
    "train, valid, test = df.split_frame(ratios=[0.8,0.1])\n",
    "print(train.shape)\n",
    "print(valid.shape)\n",
    "print(test.shape)"
   ]
  },
  {
   "cell_type": "code",
   "execution_count": 25,
   "metadata": {
    "collapsed": true
   },
   "outputs": [],
   "source": [
    "###: Setting all columns/features into a local variable"
   ]
  },
  {
   "cell_type": "code",
   "execution_count": 26,
   "metadata": {
    "collapsed": true
   },
   "outputs": [],
   "source": [
    "features = df.col_names"
   ]
  },
  {
   "cell_type": "code",
   "execution_count": 27,
   "metadata": {
    "collapsed": true
   },
   "outputs": [],
   "source": [
    "###: Settings all features for model building"
   ]
  },
  {
   "cell_type": "code",
   "execution_count": 28,
   "metadata": {},
   "outputs": [
    {
     "name": "stdout",
     "output_type": "stream",
     "text": [
      "[u'ID', u'AGE', u'RACE', u'DPROS', u'DCAPS', u'PSA', u'VOL', u'GLEASON']\n"
     ]
    }
   ],
   "source": [
    "features.remove(response)\n",
    "print(features)"
   ]
  },
  {
   "cell_type": "code",
   "execution_count": 29,
   "metadata": {
    "collapsed": true
   },
   "outputs": [],
   "source": [
    "###: Ignoring list of features which are not required for model building"
   ]
  },
  {
   "cell_type": "code",
   "execution_count": 30,
   "metadata": {},
   "outputs": [
    {
     "name": "stdout",
     "output_type": "stream",
     "text": [
      "[u'AGE', u'RACE', u'DPROS', u'DCAPS', u'PSA', u'VOL', u'GLEASON']\n"
     ]
    }
   ],
   "source": [
    "ignore_list = ['ID']\n",
    "for x in ignore_list:\n",
    "    features.remove(x)\n",
    "print(features)    "
   ]
  },
  {
   "cell_type": "code",
   "execution_count": 31,
   "metadata": {
    "collapsed": true
   },
   "outputs": [],
   "source": [
    "###: Importing H2O XGBoost Library"
   ]
  },
  {
   "cell_type": "code",
   "execution_count": 32,
   "metadata": {
    "collapsed": true
   },
   "outputs": [],
   "source": [
    "from h2o.estimators.xgboost import H2OXGBoostEstimator"
   ]
  },
  {
   "cell_type": "code",
   "execution_count": 33,
   "metadata": {
    "collapsed": true
   },
   "outputs": [],
   "source": [
    "###: Setting XGBooost Parameters"
   ]
  },
  {
   "cell_type": "code",
   "execution_count": 34,
   "metadata": {
    "collapsed": true
   },
   "outputs": [],
   "source": [
    "param = {\n",
    "      \"ntrees\" : 200\n",
    "    , \"max_depth\" : 10\n",
    "    , \"learn_rate\" : 0.01\n",
    "    , \"sample_rate\" : 0.9\n",
    "    , \"col_sample_rate_per_tree\" : 0.9\n",
    "    , \"min_rows\" : 5\n",
    "    , \"seed\": 4241\n",
    "    , \"score_tree_interval\": 10\n",
    "}"
   ]
  },
  {
   "cell_type": "code",
   "execution_count": 35,
   "metadata": {
    "collapsed": true
   },
   "outputs": [],
   "source": [
    "###: Setting H2O XGBoost model configuration (default)"
   ]
  },
  {
   "cell_type": "code",
   "execution_count": 36,
   "metadata": {
    "collapsed": true
   },
   "outputs": [],
   "source": [
    "prostate_xgb = H2OXGBoostEstimator(**param)"
   ]
  },
  {
   "cell_type": "code",
   "execution_count": 37,
   "metadata": {
    "collapsed": true
   },
   "outputs": [],
   "source": [
    "###: Training H2O XGBoost model "
   ]
  },
  {
   "cell_type": "code",
   "execution_count": 38,
   "metadata": {},
   "outputs": [
    {
     "name": "stdout",
     "output_type": "stream",
     "text": [
      "xgboost Model Build progress: |███████████████████████████████████████████| 100%\n"
     ]
    }
   ],
   "source": [
    "prostate_xgb.train(x = features, y = response, training_frame = train, validation_frame = valid)"
   ]
  },
  {
   "cell_type": "code",
   "execution_count": 39,
   "metadata": {
    "collapsed": true
   },
   "outputs": [],
   "source": [
    "###: understanding the model metrics and various detials"
   ]
  },
  {
   "cell_type": "code",
   "execution_count": 40,
   "metadata": {},
   "outputs": [
    {
     "name": "stdout",
     "output_type": "stream",
     "text": [
      "Model Details\n",
      "=============\n",
      "H2OXGBoostEstimator :  XGBoost\n",
      "Model Key:  XGBoost_model_python_1511234431789_17095\n",
      "\n",
      "\n",
      "ModelMetricsBinomial: xgboost\n",
      "** Reported on train data. **\n",
      "\n",
      "MSE: 0.143038520285\n",
      "RMSE: 0.378204336682\n",
      "LogLoss: 0.457192434748\n",
      "Mean Per-Class Error: 0.173651635721\n",
      "AUC: 0.894186560566\n",
      "Gini: 0.788373121132\n",
      "Confusion Matrix (Act/Pred) for max f1 @ threshold = 0.425960719585: \n"
     ]
    },
    {
     "data": {
      "text/html": [
       "<div style=\"overflow:auto\"><table style=\"width:50%\"><tr><td><b></b></td>\n",
       "<td><b>0</b></td>\n",
       "<td><b>1</b></td>\n",
       "<td><b>Error</b></td>\n",
       "<td><b>Rate</b></td></tr>\n",
       "<tr><td>0</td>\n",
       "<td>139.0</td>\n",
       "<td>35.0</td>\n",
       "<td>0.2011</td>\n",
       "<td> (35.0/174.0)</td></tr>\n",
       "<tr><td>1</td>\n",
       "<td>19.0</td>\n",
       "<td>111.0</td>\n",
       "<td>0.1462</td>\n",
       "<td> (19.0/130.0)</td></tr>\n",
       "<tr><td>Total</td>\n",
       "<td>158.0</td>\n",
       "<td>146.0</td>\n",
       "<td>0.1776</td>\n",
       "<td> (54.0/304.0)</td></tr></table></div>"
      ],
      "text/plain": [
       "       0    1    Error    Rate\n",
       "-----  ---  ---  -------  ------------\n",
       "0      139  35   0.2011   (35.0/174.0)\n",
       "1      19   111  0.1462   (19.0/130.0)\n",
       "Total  158  146  0.1776   (54.0/304.0)"
      ]
     },
     "metadata": {},
     "output_type": "display_data"
    },
    {
     "name": "stdout",
     "output_type": "stream",
     "text": [
      "Maximum Metrics: Maximum metrics at their respective thresholds\n",
      "\n"
     ]
    },
    {
     "data": {
      "text/html": [
       "<div style=\"overflow:auto\"><table style=\"width:50%\"><tr><td><b>metric</b></td>\n",
       "<td><b>threshold</b></td>\n",
       "<td><b>value</b></td>\n",
       "<td><b>idx</b></td></tr>\n",
       "<tr><td>max f1</td>\n",
       "<td>0.4259607</td>\n",
       "<td>0.8043478</td>\n",
       "<td>143.0</td></tr>\n",
       "<tr><td>max f2</td>\n",
       "<td>0.2769774</td>\n",
       "<td>0.8741259</td>\n",
       "<td>192.0</td></tr>\n",
       "<tr><td>max f0point5</td>\n",
       "<td>0.5015144</td>\n",
       "<td>0.8095238</td>\n",
       "<td>122.0</td></tr>\n",
       "<tr><td>max accuracy</td>\n",
       "<td>0.5015144</td>\n",
       "<td>0.8322368</td>\n",
       "<td>122.0</td></tr>\n",
       "<tr><td>max precision</td>\n",
       "<td>0.8430613</td>\n",
       "<td>1.0</td>\n",
       "<td>0.0</td></tr>\n",
       "<tr><td>max recall</td>\n",
       "<td>0.1747101</td>\n",
       "<td>1.0</td>\n",
       "<td>267.0</td></tr>\n",
       "<tr><td>max specificity</td>\n",
       "<td>0.8430613</td>\n",
       "<td>1.0</td>\n",
       "<td>0.0</td></tr>\n",
       "<tr><td>max absolute_mcc</td>\n",
       "<td>0.5015144</td>\n",
       "<td>0.6559937</td>\n",
       "<td>122.0</td></tr>\n",
       "<tr><td>max min_per_class_accuracy</td>\n",
       "<td>0.4584549</td>\n",
       "<td>0.8218391</td>\n",
       "<td>135.0</td></tr>\n",
       "<tr><td>max mean_per_class_accuracy</td>\n",
       "<td>0.4259607</td>\n",
       "<td>0.8263484</td>\n",
       "<td>143.0</td></tr></table></div>"
      ],
      "text/plain": [
       "metric                       threshold    value     idx\n",
       "---------------------------  -----------  --------  -----\n",
       "max f1                       0.425961     0.804348  143\n",
       "max f2                       0.276977     0.874126  192\n",
       "max f0point5                 0.501514     0.809524  122\n",
       "max accuracy                 0.501514     0.832237  122\n",
       "max precision                0.843061     1         0\n",
       "max recall                   0.17471      1         267\n",
       "max specificity              0.843061     1         0\n",
       "max absolute_mcc             0.501514     0.655994  122\n",
       "max min_per_class_accuracy   0.458455     0.821839  135\n",
       "max mean_per_class_accuracy  0.425961     0.826348  143"
      ]
     },
     "metadata": {},
     "output_type": "display_data"
    },
    {
     "name": "stdout",
     "output_type": "stream",
     "text": [
      "Gains/Lift Table: Avg response rate: 42.76 %\n",
      "\n"
     ]
    },
    {
     "data": {
      "text/html": [
       "<div style=\"overflow:auto\"><table style=\"width:50%\"><tr><td><b></b></td>\n",
       "<td><b>group</b></td>\n",
       "<td><b>cumulative_data_fraction</b></td>\n",
       "<td><b>lower_threshold</b></td>\n",
       "<td><b>lift</b></td>\n",
       "<td><b>cumulative_lift</b></td>\n",
       "<td><b>response_rate</b></td>\n",
       "<td><b>cumulative_response_rate</b></td>\n",
       "<td><b>capture_rate</b></td>\n",
       "<td><b>cumulative_capture_rate</b></td>\n",
       "<td><b>gain</b></td>\n",
       "<td><b>cumulative_gain</b></td></tr>\n",
       "<tr><td></td>\n",
       "<td>1</td>\n",
       "<td>0.0131579</td>\n",
       "<td>0.8186577</td>\n",
       "<td>2.3384615</td>\n",
       "<td>2.3384615</td>\n",
       "<td>1.0</td>\n",
       "<td>1.0</td>\n",
       "<td>0.0307692</td>\n",
       "<td>0.0307692</td>\n",
       "<td>133.8461538</td>\n",
       "<td>133.8461538</td></tr>\n",
       "<tr><td></td>\n",
       "<td>2</td>\n",
       "<td>0.0230263</td>\n",
       "<td>0.8142352</td>\n",
       "<td>2.3384615</td>\n",
       "<td>2.3384615</td>\n",
       "<td>1.0</td>\n",
       "<td>1.0</td>\n",
       "<td>0.0230769</td>\n",
       "<td>0.0538462</td>\n",
       "<td>133.8461538</td>\n",
       "<td>133.8461538</td></tr>\n",
       "<tr><td></td>\n",
       "<td>3</td>\n",
       "<td>0.0328947</td>\n",
       "<td>0.8074847</td>\n",
       "<td>2.3384615</td>\n",
       "<td>2.3384615</td>\n",
       "<td>1.0</td>\n",
       "<td>1.0</td>\n",
       "<td>0.0230769</td>\n",
       "<td>0.0769231</td>\n",
       "<td>133.8461538</td>\n",
       "<td>133.8461538</td></tr>\n",
       "<tr><td></td>\n",
       "<td>4</td>\n",
       "<td>0.0427632</td>\n",
       "<td>0.7960228</td>\n",
       "<td>2.3384615</td>\n",
       "<td>2.3384615</td>\n",
       "<td>1.0</td>\n",
       "<td>1.0</td>\n",
       "<td>0.0230769</td>\n",
       "<td>0.1</td>\n",
       "<td>133.8461538</td>\n",
       "<td>133.8461538</td></tr>\n",
       "<tr><td></td>\n",
       "<td>5</td>\n",
       "<td>0.0526316</td>\n",
       "<td>0.7701518</td>\n",
       "<td>2.3384615</td>\n",
       "<td>2.3384615</td>\n",
       "<td>1.0</td>\n",
       "<td>1.0</td>\n",
       "<td>0.0230769</td>\n",
       "<td>0.1230769</td>\n",
       "<td>133.8461538</td>\n",
       "<td>133.8461538</td></tr>\n",
       "<tr><td></td>\n",
       "<td>6</td>\n",
       "<td>0.1019737</td>\n",
       "<td>0.7461309</td>\n",
       "<td>2.0266667</td>\n",
       "<td>2.1875931</td>\n",
       "<td>0.8666667</td>\n",
       "<td>0.9354839</td>\n",
       "<td>0.1</td>\n",
       "<td>0.2230769</td>\n",
       "<td>102.6666667</td>\n",
       "<td>118.7593052</td></tr>\n",
       "<tr><td></td>\n",
       "<td>7</td>\n",
       "<td>0.1513158</td>\n",
       "<td>0.7195308</td>\n",
       "<td>1.8707692</td>\n",
       "<td>2.0842809</td>\n",
       "<td>0.8</td>\n",
       "<td>0.8913043</td>\n",
       "<td>0.0923077</td>\n",
       "<td>0.3153846</td>\n",
       "<td>87.0769231</td>\n",
       "<td>108.4280936</td></tr>\n",
       "<tr><td></td>\n",
       "<td>8</td>\n",
       "<td>0.2006579</td>\n",
       "<td>0.6913740</td>\n",
       "<td>2.1825641</td>\n",
       "<td>2.1084489</td>\n",
       "<td>0.9333333</td>\n",
       "<td>0.9016393</td>\n",
       "<td>0.1076923</td>\n",
       "<td>0.4230769</td>\n",
       "<td>118.2564103</td>\n",
       "<td>110.8448928</td></tr>\n",
       "<tr><td></td>\n",
       "<td>9</td>\n",
       "<td>0.2993421</td>\n",
       "<td>0.6219141</td>\n",
       "<td>1.6369231</td>\n",
       "<td>1.9530008</td>\n",
       "<td>0.7</td>\n",
       "<td>0.8351648</td>\n",
       "<td>0.1615385</td>\n",
       "<td>0.5846154</td>\n",
       "<td>63.6923077</td>\n",
       "<td>95.3000845</td></tr>\n",
       "<tr><td></td>\n",
       "<td>10</td>\n",
       "<td>0.4013158</td>\n",
       "<td>0.5115768</td>\n",
       "<td>1.7349876</td>\n",
       "<td>1.8976040</td>\n",
       "<td>0.7419355</td>\n",
       "<td>0.8114754</td>\n",
       "<td>0.1769231</td>\n",
       "<td>0.7615385</td>\n",
       "<td>73.4987593</td>\n",
       "<td>89.7604035</td></tr>\n",
       "<tr><td></td>\n",
       "<td>11</td>\n",
       "<td>0.5</td>\n",
       "<td>0.4063065</td>\n",
       "<td>1.0912821</td>\n",
       "<td>1.7384615</td>\n",
       "<td>0.4666667</td>\n",
       "<td>0.7434211</td>\n",
       "<td>0.1076923</td>\n",
       "<td>0.8692308</td>\n",
       "<td>9.1282051</td>\n",
       "<td>73.8461538</td></tr>\n",
       "<tr><td></td>\n",
       "<td>12</td>\n",
       "<td>0.5986842</td>\n",
       "<td>0.3073972</td>\n",
       "<td>0.4676923</td>\n",
       "<td>1.5289941</td>\n",
       "<td>0.2</td>\n",
       "<td>0.6538462</td>\n",
       "<td>0.0461538</td>\n",
       "<td>0.9153846</td>\n",
       "<td>-53.2307692</td>\n",
       "<td>52.8994083</td></tr>\n",
       "<tr><td></td>\n",
       "<td>13</td>\n",
       "<td>0.7006579</td>\n",
       "<td>0.2492086</td>\n",
       "<td>0.6034739</td>\n",
       "<td>1.3942940</td>\n",
       "<td>0.2580645</td>\n",
       "<td>0.5962441</td>\n",
       "<td>0.0615385</td>\n",
       "<td>0.9769231</td>\n",
       "<td>-39.6526055</td>\n",
       "<td>39.4293969</td></tr>\n",
       "<tr><td></td>\n",
       "<td>14</td>\n",
       "<td>0.7993421</td>\n",
       "<td>0.2059611</td>\n",
       "<td>0.1558974</td>\n",
       "<td>1.2414055</td>\n",
       "<td>0.0666667</td>\n",
       "<td>0.5308642</td>\n",
       "<td>0.0153846</td>\n",
       "<td>0.9923077</td>\n",
       "<td>-84.4102564</td>\n",
       "<td>24.1405508</td></tr>\n",
       "<tr><td></td>\n",
       "<td>15</td>\n",
       "<td>0.8980263</td>\n",
       "<td>0.1696771</td>\n",
       "<td>0.0779487</td>\n",
       "<td>1.1135531</td>\n",
       "<td>0.0333333</td>\n",
       "<td>0.4761905</td>\n",
       "<td>0.0076923</td>\n",
       "<td>1.0</td>\n",
       "<td>-92.2051282</td>\n",
       "<td>11.3553114</td></tr>\n",
       "<tr><td></td>\n",
       "<td>16</td>\n",
       "<td>1.0</td>\n",
       "<td>0.1173546</td>\n",
       "<td>0.0</td>\n",
       "<td>1.0</td>\n",
       "<td>0.0</td>\n",
       "<td>0.4276316</td>\n",
       "<td>0.0</td>\n",
       "<td>1.0</td>\n",
       "<td>-100.0</td>\n",
       "<td>0.0</td></tr></table></div>"
      ],
      "text/plain": [
       "    group    cumulative_data_fraction    lower_threshold    lift       cumulative_lift    response_rate    cumulative_response_rate    capture_rate    cumulative_capture_rate    gain      cumulative_gain\n",
       "--  -------  --------------------------  -----------------  ---------  -----------------  ---------------  --------------------------  --------------  -------------------------  --------  -----------------\n",
       "    1        0.0131579                   0.818658           2.33846    2.33846            1                1                           0.0307692       0.0307692                  133.846   133.846\n",
       "    2        0.0230263                   0.814235           2.33846    2.33846            1                1                           0.0230769       0.0538462                  133.846   133.846\n",
       "    3        0.0328947                   0.807485           2.33846    2.33846            1                1                           0.0230769       0.0769231                  133.846   133.846\n",
       "    4        0.0427632                   0.796023           2.33846    2.33846            1                1                           0.0230769       0.1                        133.846   133.846\n",
       "    5        0.0526316                   0.770152           2.33846    2.33846            1                1                           0.0230769       0.123077                   133.846   133.846\n",
       "    6        0.101974                    0.746131           2.02667    2.18759            0.866667         0.935484                    0.1             0.223077                   102.667   118.759\n",
       "    7        0.151316                    0.719531           1.87077    2.08428            0.8              0.891304                    0.0923077       0.315385                   87.0769   108.428\n",
       "    8        0.200658                    0.691374           2.18256    2.10845            0.933333         0.901639                    0.107692        0.423077                   118.256   110.845\n",
       "    9        0.299342                    0.621914           1.63692    1.953              0.7              0.835165                    0.161538        0.584615                   63.6923   95.3001\n",
       "    10       0.401316                    0.511577           1.73499    1.8976             0.741935         0.811475                    0.176923        0.761538                   73.4988   89.7604\n",
       "    11       0.5                         0.406306           1.09128    1.73846            0.466667         0.743421                    0.107692        0.869231                   9.12821   73.8462\n",
       "    12       0.598684                    0.307397           0.467692   1.52899            0.2              0.653846                    0.0461538       0.915385                   -53.2308  52.8994\n",
       "    13       0.700658                    0.249209           0.603474   1.39429            0.258065         0.596244                    0.0615385       0.976923                   -39.6526  39.4294\n",
       "    14       0.799342                    0.205961           0.155897   1.24141            0.0666667        0.530864                    0.0153846       0.992308                   -84.4103  24.1406\n",
       "    15       0.898026                    0.169677           0.0779487  1.11355            0.0333333        0.47619                     0.00769231      1                          -92.2051  11.3553\n",
       "    16       1                           0.117355           0          1                  0                0.427632                    0               1                          -100      0"
      ]
     },
     "metadata": {},
     "output_type": "display_data"
    },
    {
     "name": "stdout",
     "output_type": "stream",
     "text": [
      "\n",
      "\n",
      "ModelMetricsBinomial: xgboost\n",
      "** Reported on validation data. **\n",
      "\n",
      "MSE: 0.201518924577\n",
      "RMSE: 0.448908592674\n",
      "LogLoss: 0.587236574585\n",
      "Mean Per-Class Error: 0.290404040404\n",
      "AUC: 0.752525252525\n",
      "Gini: 0.505050505051\n",
      "Confusion Matrix (Act/Pred) for max f1 @ threshold = 0.650715053082: \n"
     ]
    },
    {
     "data": {
      "text/html": [
       "<div style=\"overflow:auto\"><table style=\"width:50%\"><tr><td><b></b></td>\n",
       "<td><b>0</b></td>\n",
       "<td><b>1</b></td>\n",
       "<td><b>Error</b></td>\n",
       "<td><b>Rate</b></td></tr>\n",
       "<tr><td>0</td>\n",
       "<td>19.0</td>\n",
       "<td>3.0</td>\n",
       "<td>0.1364</td>\n",
       "<td> (3.0/22.0)</td></tr>\n",
       "<tr><td>1</td>\n",
       "<td>4.0</td>\n",
       "<td>5.0</td>\n",
       "<td>0.4444</td>\n",
       "<td> (4.0/9.0)</td></tr>\n",
       "<tr><td>Total</td>\n",
       "<td>23.0</td>\n",
       "<td>8.0</td>\n",
       "<td>0.2258</td>\n",
       "<td> (7.0/31.0)</td></tr></table></div>"
      ],
      "text/plain": [
       "       0    1    Error    Rate\n",
       "-----  ---  ---  -------  ----------\n",
       "0      19   3    0.1364   (3.0/22.0)\n",
       "1      4    5    0.4444   (4.0/9.0)\n",
       "Total  23   8    0.2258   (7.0/31.0)"
      ]
     },
     "metadata": {},
     "output_type": "display_data"
    },
    {
     "name": "stdout",
     "output_type": "stream",
     "text": [
      "Maximum Metrics: Maximum metrics at their respective thresholds\n",
      "\n"
     ]
    },
    {
     "data": {
      "text/html": [
       "<div style=\"overflow:auto\"><table style=\"width:50%\"><tr><td><b>metric</b></td>\n",
       "<td><b>threshold</b></td>\n",
       "<td><b>value</b></td>\n",
       "<td><b>idx</b></td></tr>\n",
       "<tr><td>max f1</td>\n",
       "<td>0.6507151</td>\n",
       "<td>0.5882353</td>\n",
       "<td>7.0</td></tr>\n",
       "<tr><td>max f2</td>\n",
       "<td>0.2519993</td>\n",
       "<td>0.7377049</td>\n",
       "<td>24.0</td></tr>\n",
       "<tr><td>max f0point5</td>\n",
       "<td>0.6507151</td>\n",
       "<td>0.6097561</td>\n",
       "<td>7.0</td></tr>\n",
       "<tr><td>max accuracy</td>\n",
       "<td>0.7726602</td>\n",
       "<td>0.7741935</td>\n",
       "<td>1.0</td></tr>\n",
       "<tr><td>max precision</td>\n",
       "<td>0.7931542</td>\n",
       "<td>1.0</td>\n",
       "<td>0.0</td></tr>\n",
       "<tr><td>max recall</td>\n",
       "<td>0.2519993</td>\n",
       "<td>1.0</td>\n",
       "<td>24.0</td></tr>\n",
       "<tr><td>max specificity</td>\n",
       "<td>0.7931542</td>\n",
       "<td>1.0</td>\n",
       "<td>0.0</td></tr>\n",
       "<tr><td>max absolute_mcc</td>\n",
       "<td>0.6507151</td>\n",
       "<td>0.4348471</td>\n",
       "<td>7.0</td></tr>\n",
       "<tr><td>max min_per_class_accuracy</td>\n",
       "<td>0.4686884</td>\n",
       "<td>0.6666667</td>\n",
       "<td>11.0</td></tr>\n",
       "<tr><td>max mean_per_class_accuracy</td>\n",
       "<td>0.6507151</td>\n",
       "<td>0.7095960</td>\n",
       "<td>7.0</td></tr></table></div>"
      ],
      "text/plain": [
       "metric                       threshold    value     idx\n",
       "---------------------------  -----------  --------  -----\n",
       "max f1                       0.650715     0.588235  7\n",
       "max f2                       0.251999     0.737705  24\n",
       "max f0point5                 0.650715     0.609756  7\n",
       "max accuracy                 0.77266      0.774194  1\n",
       "max precision                0.793154     1         0\n",
       "max recall                   0.251999     1         24\n",
       "max specificity              0.793154     1         0\n",
       "max absolute_mcc             0.650715     0.434847  7\n",
       "max min_per_class_accuracy   0.468688     0.666667  11\n",
       "max mean_per_class_accuracy  0.650715     0.709596  7"
      ]
     },
     "metadata": {},
     "output_type": "display_data"
    },
    {
     "name": "stdout",
     "output_type": "stream",
     "text": [
      "Gains/Lift Table: Avg response rate: 29.03 %\n",
      "\n"
     ]
    },
    {
     "data": {
      "text/html": [
       "<div style=\"overflow:auto\"><table style=\"width:50%\"><tr><td><b></b></td>\n",
       "<td><b>group</b></td>\n",
       "<td><b>cumulative_data_fraction</b></td>\n",
       "<td><b>lower_threshold</b></td>\n",
       "<td><b>lift</b></td>\n",
       "<td><b>cumulative_lift</b></td>\n",
       "<td><b>response_rate</b></td>\n",
       "<td><b>cumulative_response_rate</b></td>\n",
       "<td><b>capture_rate</b></td>\n",
       "<td><b>cumulative_capture_rate</b></td>\n",
       "<td><b>gain</b></td>\n",
       "<td><b>cumulative_gain</b></td></tr>\n",
       "<tr><td></td>\n",
       "<td>1</td>\n",
       "<td>0.0322581</td>\n",
       "<td>0.7870060</td>\n",
       "<td>3.4444444</td>\n",
       "<td>3.4444444</td>\n",
       "<td>1.0</td>\n",
       "<td>1.0</td>\n",
       "<td>0.1111111</td>\n",
       "<td>0.1111111</td>\n",
       "<td>244.4444444</td>\n",
       "<td>244.4444444</td></tr>\n",
       "<tr><td></td>\n",
       "<td>2</td>\n",
       "<td>0.0322581</td>\n",
       "<td>0.7808578</td>\n",
       "<td>0.0</td>\n",
       "<td>3.4444444</td>\n",
       "<td>0.0</td>\n",
       "<td>1.0</td>\n",
       "<td>0.0</td>\n",
       "<td>0.1111111</td>\n",
       "<td>-100.0</td>\n",
       "<td>244.4444444</td></tr>\n",
       "<tr><td></td>\n",
       "<td>3</td>\n",
       "<td>0.0322581</td>\n",
       "<td>0.7747096</td>\n",
       "<td>0.0</td>\n",
       "<td>3.4444444</td>\n",
       "<td>0.0</td>\n",
       "<td>1.0</td>\n",
       "<td>0.0</td>\n",
       "<td>0.1111111</td>\n",
       "<td>-100.0</td>\n",
       "<td>244.4444444</td></tr>\n",
       "<tr><td></td>\n",
       "<td>4</td>\n",
       "<td>0.0645161</td>\n",
       "<td>0.7725460</td>\n",
       "<td>3.4444444</td>\n",
       "<td>3.4444444</td>\n",
       "<td>1.0</td>\n",
       "<td>1.0</td>\n",
       "<td>0.1111111</td>\n",
       "<td>0.2222222</td>\n",
       "<td>244.4444444</td>\n",
       "<td>244.4444444</td></tr>\n",
       "<tr><td></td>\n",
       "<td>5</td>\n",
       "<td>0.0645161</td>\n",
       "<td>0.7723747</td>\n",
       "<td>0.0</td>\n",
       "<td>3.4444444</td>\n",
       "<td>0.0</td>\n",
       "<td>1.0</td>\n",
       "<td>0.0</td>\n",
       "<td>0.2222222</td>\n",
       "<td>-100.0</td>\n",
       "<td>244.4444444</td></tr>\n",
       "<tr><td></td>\n",
       "<td>6</td>\n",
       "<td>0.1290323</td>\n",
       "<td>0.7526100</td>\n",
       "<td>1.7222222</td>\n",
       "<td>2.5833333</td>\n",
       "<td>0.5</td>\n",
       "<td>0.75</td>\n",
       "<td>0.1111111</td>\n",
       "<td>0.3333333</td>\n",
       "<td>72.2222222</td>\n",
       "<td>158.3333333</td></tr>\n",
       "<tr><td></td>\n",
       "<td>7</td>\n",
       "<td>0.1612903</td>\n",
       "<td>0.7290545</td>\n",
       "<td>0.0</td>\n",
       "<td>2.0666667</td>\n",
       "<td>0.0</td>\n",
       "<td>0.6</td>\n",
       "<td>0.0</td>\n",
       "<td>0.3333333</td>\n",
       "<td>-100.0</td>\n",
       "<td>106.6666667</td></tr>\n",
       "<tr><td></td>\n",
       "<td>8</td>\n",
       "<td>0.2258065</td>\n",
       "<td>0.6766967</td>\n",
       "<td>1.7222222</td>\n",
       "<td>1.9682540</td>\n",
       "<td>0.5</td>\n",
       "<td>0.5714286</td>\n",
       "<td>0.1111111</td>\n",
       "<td>0.4444444</td>\n",
       "<td>72.2222222</td>\n",
       "<td>96.8253968</td></tr>\n",
       "<tr><td></td>\n",
       "<td>9</td>\n",
       "<td>0.3225806</td>\n",
       "<td>0.6107125</td>\n",
       "<td>1.1481481</td>\n",
       "<td>1.7222222</td>\n",
       "<td>0.3333333</td>\n",
       "<td>0.5</td>\n",
       "<td>0.1111111</td>\n",
       "<td>0.5555556</td>\n",
       "<td>14.8148148</td>\n",
       "<td>72.2222222</td></tr>\n",
       "<tr><td></td>\n",
       "<td>10</td>\n",
       "<td>0.4193548</td>\n",
       "<td>0.4613148</td>\n",
       "<td>1.1481481</td>\n",
       "<td>1.5897436</td>\n",
       "<td>0.3333333</td>\n",
       "<td>0.4615385</td>\n",
       "<td>0.1111111</td>\n",
       "<td>0.6666667</td>\n",
       "<td>14.8148148</td>\n",
       "<td>58.9743590</td></tr>\n",
       "<tr><td></td>\n",
       "<td>11</td>\n",
       "<td>0.5161290</td>\n",
       "<td>0.3878251</td>\n",
       "<td>1.1481481</td>\n",
       "<td>1.5069444</td>\n",
       "<td>0.3333333</td>\n",
       "<td>0.4375</td>\n",
       "<td>0.1111111</td>\n",
       "<td>0.7777778</td>\n",
       "<td>14.8148148</td>\n",
       "<td>50.6944444</td></tr>\n",
       "<tr><td></td>\n",
       "<td>12</td>\n",
       "<td>0.6129032</td>\n",
       "<td>0.3008558</td>\n",
       "<td>0.0</td>\n",
       "<td>1.2690058</td>\n",
       "<td>0.0</td>\n",
       "<td>0.3684211</td>\n",
       "<td>0.0</td>\n",
       "<td>0.7777778</td>\n",
       "<td>-100.0</td>\n",
       "<td>26.9005848</td></tr>\n",
       "<tr><td></td>\n",
       "<td>13</td>\n",
       "<td>0.7096774</td>\n",
       "<td>0.2741387</td>\n",
       "<td>1.1481481</td>\n",
       "<td>1.2525253</td>\n",
       "<td>0.3333333</td>\n",
       "<td>0.3636364</td>\n",
       "<td>0.1111111</td>\n",
       "<td>0.8888889</td>\n",
       "<td>14.8148148</td>\n",
       "<td>25.2525253</td></tr>\n",
       "<tr><td></td>\n",
       "<td>14</td>\n",
       "<td>0.8064516</td>\n",
       "<td>0.2519993</td>\n",
       "<td>1.1481481</td>\n",
       "<td>1.24</td>\n",
       "<td>0.3333333</td>\n",
       "<td>0.36</td>\n",
       "<td>0.1111111</td>\n",
       "<td>1.0</td>\n",
       "<td>14.8148148</td>\n",
       "<td>24.0</td></tr>\n",
       "<tr><td></td>\n",
       "<td>15</td>\n",
       "<td>0.9032258</td>\n",
       "<td>0.2111558</td>\n",
       "<td>0.0</td>\n",
       "<td>1.1071429</td>\n",
       "<td>0.0</td>\n",
       "<td>0.3214286</td>\n",
       "<td>0.0</td>\n",
       "<td>1.0</td>\n",
       "<td>-100.0</td>\n",
       "<td>10.7142857</td></tr>\n",
       "<tr><td></td>\n",
       "<td>16</td>\n",
       "<td>1.0</td>\n",
       "<td>0.1482575</td>\n",
       "<td>0.0</td>\n",
       "<td>1.0</td>\n",
       "<td>0.0</td>\n",
       "<td>0.2903226</td>\n",
       "<td>0.0</td>\n",
       "<td>1.0</td>\n",
       "<td>-100.0</td>\n",
       "<td>0.0</td></tr></table></div>"
      ],
      "text/plain": [
       "    group    cumulative_data_fraction    lower_threshold    lift     cumulative_lift    response_rate    cumulative_response_rate    capture_rate    cumulative_capture_rate    gain     cumulative_gain\n",
       "--  -------  --------------------------  -----------------  -------  -----------------  ---------------  --------------------------  --------------  -------------------------  -------  -----------------\n",
       "    1        0.0322581                   0.787006           3.44444  3.44444            1                1                           0.111111        0.111111                   244.444  244.444\n",
       "    2        0.0322581                   0.780858           0        3.44444            0                1                           0               0.111111                   -100     244.444\n",
       "    3        0.0322581                   0.77471            0        3.44444            0                1                           0               0.111111                   -100     244.444\n",
       "    4        0.0645161                   0.772546           3.44444  3.44444            1                1                           0.111111        0.222222                   244.444  244.444\n",
       "    5        0.0645161                   0.772375           0        3.44444            0                1                           0               0.222222                   -100     244.444\n",
       "    6        0.129032                    0.75261            1.72222  2.58333            0.5              0.75                        0.111111        0.333333                   72.2222  158.333\n",
       "    7        0.16129                     0.729054           0        2.06667            0                0.6                         0               0.333333                   -100     106.667\n",
       "    8        0.225806                    0.676697           1.72222  1.96825            0.5              0.571429                    0.111111        0.444444                   72.2222  96.8254\n",
       "    9        0.322581                    0.610713           1.14815  1.72222            0.333333         0.5                         0.111111        0.555556                   14.8148  72.2222\n",
       "    10       0.419355                    0.461315           1.14815  1.58974            0.333333         0.461538                    0.111111        0.666667                   14.8148  58.9744\n",
       "    11       0.516129                    0.387825           1.14815  1.50694            0.333333         0.4375                      0.111111        0.777778                   14.8148  50.6944\n",
       "    12       0.612903                    0.300856           0        1.26901            0                0.368421                    0               0.777778                   -100     26.9006\n",
       "    13       0.709677                    0.274139           1.14815  1.25253            0.333333         0.363636                    0.111111        0.888889                   14.8148  25.2525\n",
       "    14       0.806452                    0.251999           1.14815  1.24               0.333333         0.36                        0.111111        1                          14.8148  24\n",
       "    15       0.903226                    0.211156           0        1.10714            0                0.321429                    0               1                          -100     10.7143\n",
       "    16       1                           0.148258           0        1                  0                0.290323                    0               1                          -100     0"
      ]
     },
     "metadata": {},
     "output_type": "display_data"
    },
    {
     "name": "stdout",
     "output_type": "stream",
     "text": [
      "\n",
      "Scoring History: \n"
     ]
    },
    {
     "data": {
      "text/html": [
       "<div style=\"overflow:auto\"><table style=\"width:50%\"><tr><td><b></b></td>\n",
       "<td><b>timestamp</b></td>\n",
       "<td><b>duration</b></td>\n",
       "<td><b>number_of_trees</b></td>\n",
       "<td><b>training_rmse</b></td>\n",
       "<td><b>training_logloss</b></td>\n",
       "<td><b>training_auc</b></td>\n",
       "<td><b>training_lift</b></td>\n",
       "<td><b>training_classification_error</b></td>\n",
       "<td><b>validation_rmse</b></td>\n",
       "<td><b>validation_logloss</b></td>\n",
       "<td><b>validation_auc</b></td>\n",
       "<td><b>validation_lift</b></td>\n",
       "<td><b>validation_classification_error</b></td></tr>\n",
       "<tr><td></td>\n",
       "<td>2017-11-21 22:39:38</td>\n",
       "<td> 0.001 sec</td>\n",
       "<td>0.0</td>\n",
       "<td>0.5</td>\n",
       "<td>0.6931472</td>\n",
       "<td>0.5</td>\n",
       "<td>1.0</td>\n",
       "<td>0.5723684</td>\n",
       "<td>0.5</td>\n",
       "<td>0.6931472</td>\n",
       "<td>0.5</td>\n",
       "<td>1.0</td>\n",
       "<td>0.7096774</td></tr>\n",
       "<tr><td></td>\n",
       "<td>2017-11-21 22:39:38</td>\n",
       "<td> 0.009 sec</td>\n",
       "<td>10.0</td>\n",
       "<td>0.4851005</td>\n",
       "<td>0.6637536</td>\n",
       "<td>0.8469496</td>\n",
       "<td>2.3384615</td>\n",
       "<td>0.2302632</td>\n",
       "<td>0.4916691</td>\n",
       "<td>0.6766008</td>\n",
       "<td>0.6414141</td>\n",
       "<td>3.4444444</td>\n",
       "<td>0.2903226</td></tr>\n",
       "<tr><td></td>\n",
       "<td>2017-11-21 22:39:38</td>\n",
       "<td> 0.014 sec</td>\n",
       "<td>20.0</td>\n",
       "<td>0.4718291</td>\n",
       "<td>0.6381406</td>\n",
       "<td>0.8579355</td>\n",
       "<td>2.3384615</td>\n",
       "<td>0.1973684</td>\n",
       "<td>0.4841767</td>\n",
       "<td>0.6618506</td>\n",
       "<td>0.6616162</td>\n",
       "<td>0.0</td>\n",
       "<td>0.3225806</td></tr>\n",
       "<tr><td></td>\n",
       "<td>2017-11-21 22:39:38</td>\n",
       "<td> 0.020 sec</td>\n",
       "<td>30.0</td>\n",
       "<td>0.4606048</td>\n",
       "<td>0.6167885</td>\n",
       "<td>0.8648099</td>\n",
       "<td>2.3384615</td>\n",
       "<td>0.2006579</td>\n",
       "<td>0.4780667</td>\n",
       "<td>0.6498563</td>\n",
       "<td>0.6919192</td>\n",
       "<td>0.0</td>\n",
       "<td>0.4193548</td></tr>\n",
       "<tr><td></td>\n",
       "<td>2017-11-21 22:39:38</td>\n",
       "<td> 0.026 sec</td>\n",
       "<td>40.0</td>\n",
       "<td>0.4505913</td>\n",
       "<td>0.5978741</td>\n",
       "<td>0.8681477</td>\n",
       "<td>2.3384615</td>\n",
       "<td>0.1907895</td>\n",
       "<td>0.4737152</td>\n",
       "<td>0.6412425</td>\n",
       "<td>0.6994949</td>\n",
       "<td>0.0</td>\n",
       "<td>0.3225806</td></tr>\n",
       "<tr><td>---</td>\n",
       "<td>---</td>\n",
       "<td>---</td>\n",
       "<td>---</td>\n",
       "<td>---</td>\n",
       "<td>---</td>\n",
       "<td>---</td>\n",
       "<td>---</td>\n",
       "<td>---</td>\n",
       "<td>---</td>\n",
       "<td>---</td>\n",
       "<td>---</td>\n",
       "<td>---</td>\n",
       "<td>---</td></tr>\n",
       "<tr><td></td>\n",
       "<td>2017-11-21 22:39:38</td>\n",
       "<td> 0.119 sec</td>\n",
       "<td>160.0</td>\n",
       "<td>0.3883211</td>\n",
       "<td>0.4776820</td>\n",
       "<td>0.8886605</td>\n",
       "<td>2.3384615</td>\n",
       "<td>0.1776316</td>\n",
       "<td>0.4522312</td>\n",
       "<td>0.5947059</td>\n",
       "<td>0.7323232</td>\n",
       "<td>3.4444444</td>\n",
       "<td>0.3225806</td></tr>\n",
       "<tr><td></td>\n",
       "<td>2017-11-21 22:39:38</td>\n",
       "<td> 0.129 sec</td>\n",
       "<td>170.0</td>\n",
       "<td>0.3856022</td>\n",
       "<td>0.4722125</td>\n",
       "<td>0.8906499</td>\n",
       "<td>2.3384615</td>\n",
       "<td>0.1842105</td>\n",
       "<td>0.4515395</td>\n",
       "<td>0.5931250</td>\n",
       "<td>0.7323232</td>\n",
       "<td>3.4444444</td>\n",
       "<td>0.3225806</td></tr>\n",
       "<tr><td></td>\n",
       "<td>2017-11-21 22:39:38</td>\n",
       "<td> 0.138 sec</td>\n",
       "<td>180.0</td>\n",
       "<td>0.3831266</td>\n",
       "<td>0.4670772</td>\n",
       "<td>0.8915340</td>\n",
       "<td>2.3384615</td>\n",
       "<td>0.1842105</td>\n",
       "<td>0.4500336</td>\n",
       "<td>0.5899593</td>\n",
       "<td>0.7424242</td>\n",
       "<td>3.4444444</td>\n",
       "<td>0.2258065</td></tr>\n",
       "<tr><td></td>\n",
       "<td>2017-11-21 22:39:38</td>\n",
       "<td> 0.148 sec</td>\n",
       "<td>190.0</td>\n",
       "<td>0.3806922</td>\n",
       "<td>0.4621172</td>\n",
       "<td>0.8928161</td>\n",
       "<td>2.3384615</td>\n",
       "<td>0.1776316</td>\n",
       "<td>0.4491302</td>\n",
       "<td>0.5878479</td>\n",
       "<td>0.7474747</td>\n",
       "<td>3.4444444</td>\n",
       "<td>0.2258065</td></tr>\n",
       "<tr><td></td>\n",
       "<td>2017-11-21 22:39:38</td>\n",
       "<td> 0.158 sec</td>\n",
       "<td>200.0</td>\n",
       "<td>0.3782043</td>\n",
       "<td>0.4571924</td>\n",
       "<td>0.8941866</td>\n",
       "<td>2.3384615</td>\n",
       "<td>0.1776316</td>\n",
       "<td>0.4489086</td>\n",
       "<td>0.5872366</td>\n",
       "<td>0.7525253</td>\n",
       "<td>3.4444444</td>\n",
       "<td>0.2258065</td></tr></table></div>"
      ],
      "text/plain": [
       "     timestamp            duration    number_of_trees    training_rmse    training_logloss    training_auc    training_lift    training_classification_error    validation_rmse    validation_logloss    validation_auc    validation_lift    validation_classification_error\n",
       "---  -------------------  ----------  -----------------  ---------------  ------------------  --------------  ---------------  -------------------------------  -----------------  --------------------  ----------------  -----------------  ---------------------------------\n",
       "     2017-11-21 22:39:38  0.001 sec   0.0                0.5              0.69314718056       0.5             1.0              0.572368421053                   0.5                0.69314718056         0.5               1.0                0.709677419355\n",
       "     2017-11-21 22:39:38  0.009 sec   10.0               0.485100549665   0.663753648298      0.846949602122  2.33846153846    0.230263157895                   0.491669061854     0.676600814852        0.641414141414    3.44444444444      0.290322580645\n",
       "     2017-11-21 22:39:38  0.014 sec   20.0               0.471829123978   0.638140594215      0.857935455349  2.33846153846    0.197368421053                   0.484176662112     0.661850635012        0.661616161616    0.0                0.322580645161\n",
       "     2017-11-21 22:39:38  0.020 sec   30.0               0.460604825155   0.61678846034       0.864809902741  2.33846153846    0.200657894737                   0.478066743138     0.649856268972        0.691919191919    0.0                0.41935483871\n",
       "     2017-11-21 22:39:38  0.026 sec   40.0               0.450591314141   0.597874068596      0.868147656941  2.33846153846    0.190789473684                   0.473715174495     0.641242506124        0.699494949495    0.0                0.322580645161\n",
       "---  ---                  ---         ---                ---              ---                 ---             ---              ---                              ---                ---                   ---               ---                ---\n",
       "     2017-11-21 22:39:38  0.119 sec   160.0              0.38832111846    0.477682043982      0.888660477454  2.33846153846    0.177631578947                   0.452231163254     0.594705901291        0.732323232323    3.44444444444      0.322580645161\n",
       "     2017-11-21 22:39:38  0.129 sec   170.0              0.385602211868   0.472212496786      0.890649867374  2.33846153846    0.184210526316                   0.451539453183     0.593125045668        0.732323232323    3.44444444444      0.322580645161\n",
       "     2017-11-21 22:39:38  0.138 sec   180.0              0.383126634031   0.467077178076      0.891534040672  2.33846153846    0.184210526316                   0.450033615001     0.589959318578        0.742424242424    3.44444444444      0.225806451613\n",
       "     2017-11-21 22:39:38  0.148 sec   190.0              0.380692160843   0.462117160661      0.892816091954  2.33846153846    0.177631578947                   0.449130170172     0.58784791418         0.747474747475    3.44444444444      0.225806451613\n",
       "     2017-11-21 22:39:38  0.158 sec   200.0              0.378204336682   0.457192434748      0.894186560566  2.33846153846    0.177631578947                   0.448908592674     0.587236574585        0.752525252525    3.44444444444      0.225806451613"
      ]
     },
     "metadata": {},
     "output_type": "display_data"
    },
    {
     "name": "stdout",
     "output_type": "stream",
     "text": [
      "\n",
      "See the whole table with table.as_data_frame()\n",
      "Variable Importances: \n"
     ]
    },
    {
     "data": {
      "text/html": [
       "<div style=\"overflow:auto\"><table style=\"width:50%\"><tr><td><b>variable</b></td>\n",
       "<td><b>relative_importance</b></td>\n",
       "<td><b>scaled_importance</b></td>\n",
       "<td><b>percentage</b></td></tr>\n",
       "<tr><td>PSA</td>\n",
       "<td>581.0</td>\n",
       "<td>1.0</td>\n",
       "<td>0.3647207</td></tr>\n",
       "<tr><td>AGE</td>\n",
       "<td>268.0</td>\n",
       "<td>0.4612737</td>\n",
       "<td>0.1682360</td></tr>\n",
       "<tr><td>VOL</td>\n",
       "<td>267.0</td>\n",
       "<td>0.4595525</td>\n",
       "<td>0.1676083</td></tr>\n",
       "<tr><td>GLEASON</td>\n",
       "<td>239.0</td>\n",
       "<td>0.4113597</td>\n",
       "<td>0.1500314</td></tr>\n",
       "<tr><td>DPROS</td>\n",
       "<td>207.0</td>\n",
       "<td>0.3562823</td>\n",
       "<td>0.1299435</td></tr>\n",
       "<tr><td>DCAPS</td>\n",
       "<td>26.0</td>\n",
       "<td>0.0447504</td>\n",
       "<td>0.0163214</td></tr>\n",
       "<tr><td>RACE</td>\n",
       "<td>5.0</td>\n",
       "<td>0.0086059</td>\n",
       "<td>0.0031387</td></tr></table></div>"
      ],
      "text/plain": [
       "variable    relative_importance    scaled_importance    percentage\n",
       "----------  ---------------------  -------------------  ------------\n",
       "PSA         581                    1                    0.364721\n",
       "AGE         268                    0.461274             0.168236\n",
       "VOL         267                    0.459552             0.167608\n",
       "GLEASON     239                    0.41136              0.150031\n",
       "DPROS       207                    0.356282             0.129944\n",
       "DCAPS       26                     0.0447504            0.0163214\n",
       "RACE        5                      0.00860585           0.00313873"
      ]
     },
     "metadata": {},
     "output_type": "display_data"
    },
    {
     "data": {
      "text/plain": []
     },
     "execution_count": 40,
     "metadata": {},
     "output_type": "execute_result"
    }
   ],
   "source": [
    "prostate_xgb"
   ]
  },
  {
   "cell_type": "code",
   "execution_count": 41,
   "metadata": {},
   "outputs": [
    {
     "data": {
      "text/plain": [
       "0.7525252525252526"
      ]
     },
     "execution_count": 41,
     "metadata": {},
     "output_type": "execute_result"
    }
   ],
   "source": [
    "prostate_xgb.model_performance(valid=True).auc()"
   ]
  },
  {
   "cell_type": "code",
   "execution_count": 42,
   "metadata": {
    "collapsed": true
   },
   "outputs": [],
   "source": [
    "###: Plotting XGBoost  Model for its AUC metric "
   ]
  },
  {
   "cell_type": "code",
   "execution_count": 43,
   "metadata": {},
   "outputs": [
    {
     "data": {
      "image/png": "[encoded data removed]",
      "text/plain": [
       "<matplotlib.figure.Figure at 0x11bac1210>"
      ]
     },
     "metadata": {},
     "output_type": "display_data"
    }
   ],
   "source": [
    "prostate_xgb.plot(metric='auc')"
   ]
  },
  {
   "cell_type": "code",
   "execution_count": 44,
   "metadata": {
    "collapsed": true
   },
   "outputs": [],
   "source": [
    "###: Generating Variable Importance Plot for the XGBoost Model"
   ]
  },
  {
   "cell_type": "code",
   "execution_count": 45,
   "metadata": {},
   "outputs": [
    {
     "data": {
      "image/png": "[encoded data removed]",
      "text/plain": [
       "<matplotlib.figure.Figure at 0x11bce8dd0>"
      ]
     },
     "metadata": {},
     "output_type": "display_data"
    }
   ],
   "source": [
    "prostate_xgb.varimp_plot()"
   ]
  },
  {
   "cell_type": "code",
   "execution_count": 46,
   "metadata": {
    "collapsed": true
   },
   "outputs": [],
   "source": [
    "###:  H2O XGBoost Scoring History"
   ]
  },
  {
   "cell_type": "code",
   "execution_count": 47,
   "metadata": {},
   "outputs": [
    {
     "data": {
      "text/html": [
       "<div>\n",
       "<style>\n",
       "    .dataframe thead tr:only-child th {\n",
       "        text-align: right;\n",
       "    }\n",
       "\n",
       "    .dataframe thead th {\n",
       "        text-align: left;\n",
       "    }\n",
       "\n",
       "    .dataframe tbody tr th {\n",
       "        vertical-align: top;\n",
       "    }\n",
       "</style>\n",
       "<table border=\"1\" class=\"dataframe\">\n",
       "  <thead>\n",
       "    <tr style=\"text-align: right;\">\n",
       "      <th></th>\n",
       "      <th></th>\n",
       "      <th>timestamp</th>\n",
       "      <th>duration</th>\n",
       "      <th>number_of_trees</th>\n",
       "      <th>training_rmse</th>\n",
       "      <th>training_logloss</th>\n",
       "      <th>training_auc</th>\n",
       "      <th>training_lift</th>\n",
       "      <th>training_classification_error</th>\n",
       "      <th>validation_rmse</th>\n",
       "      <th>validation_logloss</th>\n",
       "      <th>validation_auc</th>\n",
       "      <th>validation_lift</th>\n",
       "      <th>validation_classification_error</th>\n",
       "    </tr>\n",
       "  </thead>\n",
       "  <tbody>\n",
       "    <tr>\n",
       "      <th>0</th>\n",
       "      <td></td>\n",
       "      <td>2017-11-21 22:39:38</td>\n",
       "      <td>0.001 sec</td>\n",
       "      <td>0.0</td>\n",
       "      <td>0.500000</td>\n",
       "      <td>0.693147</td>\n",
       "      <td>0.500000</td>\n",
       "      <td>1.000000</td>\n",
       "      <td>0.572368</td>\n",
       "      <td>0.500000</td>\n",
       "      <td>0.693147</td>\n",
       "      <td>0.500000</td>\n",
       "      <td>1.000000</td>\n",
       "      <td>0.709677</td>\n",
       "    </tr>\n",
       "    <tr>\n",
       "      <th>1</th>\n",
       "      <td></td>\n",
       "      <td>2017-11-21 22:39:38</td>\n",
       "      <td>0.009 sec</td>\n",
       "      <td>10.0</td>\n",
       "      <td>0.485101</td>\n",
       "      <td>0.663754</td>\n",
       "      <td>0.846950</td>\n",
       "      <td>2.338462</td>\n",
       "      <td>0.230263</td>\n",
       "      <td>0.491669</td>\n",
       "      <td>0.676601</td>\n",
       "      <td>0.641414</td>\n",
       "      <td>3.444444</td>\n",
       "      <td>0.290323</td>\n",
       "    </tr>\n",
       "    <tr>\n",
       "      <th>2</th>\n",
       "      <td></td>\n",
       "      <td>2017-11-21 22:39:38</td>\n",
       "      <td>0.014 sec</td>\n",
       "      <td>20.0</td>\n",
       "      <td>0.471829</td>\n",
       "      <td>0.638141</td>\n",
       "      <td>0.857935</td>\n",
       "      <td>2.338462</td>\n",
       "      <td>0.197368</td>\n",
       "      <td>0.484177</td>\n",
       "      <td>0.661851</td>\n",
       "      <td>0.661616</td>\n",
       "      <td>0.000000</td>\n",
       "      <td>0.322581</td>\n",
       "    </tr>\n",
       "    <tr>\n",
       "      <th>3</th>\n",
       "      <td></td>\n",
       "      <td>2017-11-21 22:39:38</td>\n",
       "      <td>0.020 sec</td>\n",
       "      <td>30.0</td>\n",
       "      <td>0.460605</td>\n",
       "      <td>0.616788</td>\n",
       "      <td>0.864810</td>\n",
       "      <td>2.338462</td>\n",
       "      <td>0.200658</td>\n",
       "      <td>0.478067</td>\n",
       "      <td>0.649856</td>\n",
       "      <td>0.691919</td>\n",
       "      <td>0.000000</td>\n",
       "      <td>0.419355</td>\n",
       "    </tr>\n",
       "    <tr>\n",
       "      <th>4</th>\n",
       "      <td></td>\n",
       "      <td>2017-11-21 22:39:38</td>\n",
       "      <td>0.026 sec</td>\n",
       "      <td>40.0</td>\n",
       "      <td>0.450591</td>\n",
       "      <td>0.597874</td>\n",
       "      <td>0.868148</td>\n",
       "      <td>2.338462</td>\n",
       "      <td>0.190789</td>\n",
       "      <td>0.473715</td>\n",
       "      <td>0.641243</td>\n",
       "      <td>0.699495</td>\n",
       "      <td>0.000000</td>\n",
       "      <td>0.322581</td>\n",
       "    </tr>\n",
       "    <tr>\n",
       "      <th>5</th>\n",
       "      <td></td>\n",
       "      <td>2017-11-21 22:39:38</td>\n",
       "      <td>0.033 sec</td>\n",
       "      <td>50.0</td>\n",
       "      <td>0.441220</td>\n",
       "      <td>0.580250</td>\n",
       "      <td>0.871021</td>\n",
       "      <td>2.338462</td>\n",
       "      <td>0.174342</td>\n",
       "      <td>0.470031</td>\n",
       "      <td>0.633818</td>\n",
       "      <td>0.674242</td>\n",
       "      <td>0.000000</td>\n",
       "      <td>0.354839</td>\n",
       "    </tr>\n",
       "    <tr>\n",
       "      <th>6</th>\n",
       "      <td></td>\n",
       "      <td>2017-11-21 22:39:38</td>\n",
       "      <td>0.040 sec</td>\n",
       "      <td>60.0</td>\n",
       "      <td>0.433821</td>\n",
       "      <td>0.566257</td>\n",
       "      <td>0.870933</td>\n",
       "      <td>2.338462</td>\n",
       "      <td>0.184211</td>\n",
       "      <td>0.466452</td>\n",
       "      <td>0.626582</td>\n",
       "      <td>0.674242</td>\n",
       "      <td>0.000000</td>\n",
       "      <td>0.354839</td>\n",
       "    </tr>\n",
       "    <tr>\n",
       "      <th>7</th>\n",
       "      <td></td>\n",
       "      <td>2017-11-21 22:39:38</td>\n",
       "      <td>0.047 sec</td>\n",
       "      <td>70.0</td>\n",
       "      <td>0.426543</td>\n",
       "      <td>0.552565</td>\n",
       "      <td>0.874735</td>\n",
       "      <td>2.338462</td>\n",
       "      <td>0.180921</td>\n",
       "      <td>0.464110</td>\n",
       "      <td>0.621670</td>\n",
       "      <td>0.679293</td>\n",
       "      <td>0.000000</td>\n",
       "      <td>0.354839</td>\n",
       "    </tr>\n",
       "    <tr>\n",
       "      <th>8</th>\n",
       "      <td></td>\n",
       "      <td>2017-11-21 22:39:38</td>\n",
       "      <td>0.054 sec</td>\n",
       "      <td>80.0</td>\n",
       "      <td>0.420158</td>\n",
       "      <td>0.540409</td>\n",
       "      <td>0.876127</td>\n",
       "      <td>2.338462</td>\n",
       "      <td>0.190789</td>\n",
       "      <td>0.462228</td>\n",
       "      <td>0.617579</td>\n",
       "      <td>0.679293</td>\n",
       "      <td>0.000000</td>\n",
       "      <td>0.354839</td>\n",
       "    </tr>\n",
       "    <tr>\n",
       "      <th>9</th>\n",
       "      <td></td>\n",
       "      <td>2017-11-21 22:39:38</td>\n",
       "      <td>0.062 sec</td>\n",
       "      <td>90.0</td>\n",
       "      <td>0.414791</td>\n",
       "      <td>0.530121</td>\n",
       "      <td>0.878470</td>\n",
       "      <td>2.338462</td>\n",
       "      <td>0.180921</td>\n",
       "      <td>0.460419</td>\n",
       "      <td>0.613591</td>\n",
       "      <td>0.702020</td>\n",
       "      <td>3.444444</td>\n",
       "      <td>0.354839</td>\n",
       "    </tr>\n",
       "    <tr>\n",
       "      <th>10</th>\n",
       "      <td></td>\n",
       "      <td>2017-11-21 22:39:38</td>\n",
       "      <td>0.069 sec</td>\n",
       "      <td>100.0</td>\n",
       "      <td>0.409935</td>\n",
       "      <td>0.520668</td>\n",
       "      <td>0.879686</td>\n",
       "      <td>2.338462</td>\n",
       "      <td>0.194079</td>\n",
       "      <td>0.458634</td>\n",
       "      <td>0.609638</td>\n",
       "      <td>0.702020</td>\n",
       "      <td>3.444444</td>\n",
       "      <td>0.354839</td>\n",
       "    </tr>\n",
       "    <tr>\n",
       "      <th>11</th>\n",
       "      <td></td>\n",
       "      <td>2017-11-21 22:39:38</td>\n",
       "      <td>0.077 sec</td>\n",
       "      <td>110.0</td>\n",
       "      <td>0.405437</td>\n",
       "      <td>0.511817</td>\n",
       "      <td>0.880880</td>\n",
       "      <td>2.338462</td>\n",
       "      <td>0.190789</td>\n",
       "      <td>0.457724</td>\n",
       "      <td>0.607287</td>\n",
       "      <td>0.702020</td>\n",
       "      <td>3.444444</td>\n",
       "      <td>0.354839</td>\n",
       "    </tr>\n",
       "    <tr>\n",
       "      <th>12</th>\n",
       "      <td></td>\n",
       "      <td>2017-11-21 22:39:38</td>\n",
       "      <td>0.085 sec</td>\n",
       "      <td>120.0</td>\n",
       "      <td>0.401430</td>\n",
       "      <td>0.503863</td>\n",
       "      <td>0.882228</td>\n",
       "      <td>2.338462</td>\n",
       "      <td>0.180921</td>\n",
       "      <td>0.457814</td>\n",
       "      <td>0.606919</td>\n",
       "      <td>0.712121</td>\n",
       "      <td>3.444444</td>\n",
       "      <td>0.354839</td>\n",
       "    </tr>\n",
       "    <tr>\n",
       "      <th>13</th>\n",
       "      <td></td>\n",
       "      <td>2017-11-21 22:39:38</td>\n",
       "      <td>0.093 sec</td>\n",
       "      <td>130.0</td>\n",
       "      <td>0.397645</td>\n",
       "      <td>0.496339</td>\n",
       "      <td>0.883289</td>\n",
       "      <td>2.338462</td>\n",
       "      <td>0.184211</td>\n",
       "      <td>0.455721</td>\n",
       "      <td>0.602399</td>\n",
       "      <td>0.717172</td>\n",
       "      <td>3.444444</td>\n",
       "      <td>0.354839</td>\n",
       "    </tr>\n",
       "    <tr>\n",
       "      <th>14</th>\n",
       "      <td></td>\n",
       "      <td>2017-11-21 22:39:38</td>\n",
       "      <td>0.102 sec</td>\n",
       "      <td>140.0</td>\n",
       "      <td>0.394382</td>\n",
       "      <td>0.489792</td>\n",
       "      <td>0.884925</td>\n",
       "      <td>2.338462</td>\n",
       "      <td>0.184211</td>\n",
       "      <td>0.454259</td>\n",
       "      <td>0.599098</td>\n",
       "      <td>0.732323</td>\n",
       "      <td>3.444444</td>\n",
       "      <td>0.354839</td>\n",
       "    </tr>\n",
       "    <tr>\n",
       "      <th>15</th>\n",
       "      <td></td>\n",
       "      <td>2017-11-21 22:39:38</td>\n",
       "      <td>0.110 sec</td>\n",
       "      <td>150.0</td>\n",
       "      <td>0.391432</td>\n",
       "      <td>0.483834</td>\n",
       "      <td>0.886008</td>\n",
       "      <td>2.338462</td>\n",
       "      <td>0.184211</td>\n",
       "      <td>0.452406</td>\n",
       "      <td>0.595380</td>\n",
       "      <td>0.732323</td>\n",
       "      <td>3.444444</td>\n",
       "      <td>0.322581</td>\n",
       "    </tr>\n",
       "    <tr>\n",
       "      <th>16</th>\n",
       "      <td></td>\n",
       "      <td>2017-11-21 22:39:38</td>\n",
       "      <td>0.119 sec</td>\n",
       "      <td>160.0</td>\n",
       "      <td>0.388321</td>\n",
       "      <td>0.477682</td>\n",
       "      <td>0.888660</td>\n",
       "      <td>2.338462</td>\n",
       "      <td>0.177632</td>\n",
       "      <td>0.452231</td>\n",
       "      <td>0.594706</td>\n",
       "      <td>0.732323</td>\n",
       "      <td>3.444444</td>\n",
       "      <td>0.322581</td>\n",
       "    </tr>\n",
       "    <tr>\n",
       "      <th>17</th>\n",
       "      <td></td>\n",
       "      <td>2017-11-21 22:39:38</td>\n",
       "      <td>0.129 sec</td>\n",
       "      <td>170.0</td>\n",
       "      <td>0.385602</td>\n",
       "      <td>0.472212</td>\n",
       "      <td>0.890650</td>\n",
       "      <td>2.338462</td>\n",
       "      <td>0.184211</td>\n",
       "      <td>0.451539</td>\n",
       "      <td>0.593125</td>\n",
       "      <td>0.732323</td>\n",
       "      <td>3.444444</td>\n",
       "      <td>0.322581</td>\n",
       "    </tr>\n",
       "    <tr>\n",
       "      <th>18</th>\n",
       "      <td></td>\n",
       "      <td>2017-11-21 22:39:38</td>\n",
       "      <td>0.138 sec</td>\n",
       "      <td>180.0</td>\n",
       "      <td>0.383127</td>\n",
       "      <td>0.467077</td>\n",
       "      <td>0.891534</td>\n",
       "      <td>2.338462</td>\n",
       "      <td>0.184211</td>\n",
       "      <td>0.450034</td>\n",
       "      <td>0.589959</td>\n",
       "      <td>0.742424</td>\n",
       "      <td>3.444444</td>\n",
       "      <td>0.225806</td>\n",
       "    </tr>\n",
       "    <tr>\n",
       "      <th>19</th>\n",
       "      <td></td>\n",
       "      <td>2017-11-21 22:39:38</td>\n",
       "      <td>0.148 sec</td>\n",
       "      <td>190.0</td>\n",
       "      <td>0.380692</td>\n",
       "      <td>0.462117</td>\n",
       "      <td>0.892816</td>\n",
       "      <td>2.338462</td>\n",
       "      <td>0.177632</td>\n",
       "      <td>0.449130</td>\n",
       "      <td>0.587848</td>\n",
       "      <td>0.747475</td>\n",
       "      <td>3.444444</td>\n",
       "      <td>0.225806</td>\n",
       "    </tr>\n",
       "    <tr>\n",
       "      <th>20</th>\n",
       "      <td></td>\n",
       "      <td>2017-11-21 22:39:38</td>\n",
       "      <td>0.158 sec</td>\n",
       "      <td>200.0</td>\n",
       "      <td>0.378204</td>\n",
       "      <td>0.457192</td>\n",
       "      <td>0.894187</td>\n",
       "      <td>2.338462</td>\n",
       "      <td>0.177632</td>\n",
       "      <td>0.448909</td>\n",
       "      <td>0.587237</td>\n",
       "      <td>0.752525</td>\n",
       "      <td>3.444444</td>\n",
       "      <td>0.225806</td>\n",
       "    </tr>\n",
       "  </tbody>\n",
       "</table>\n",
       "</div>"
      ],
      "text/plain": [
       "                timestamp    duration  number_of_trees  training_rmse  \\\n",
       "0     2017-11-21 22:39:38   0.001 sec              0.0       0.500000   \n",
       "1     2017-11-21 22:39:38   0.009 sec             10.0       0.485101   \n",
       "2     2017-11-21 22:39:38   0.014 sec             20.0       0.471829   \n",
       "3     2017-11-21 22:39:38   0.020 sec             30.0       0.460605   \n",
       "4     2017-11-21 22:39:38   0.026 sec             40.0       0.450591   \n",
       "5     2017-11-21 22:39:38   0.033 sec             50.0       0.441220   \n",
       "6     2017-11-21 22:39:38   0.040 sec             60.0       0.433821   \n",
       "7     2017-11-21 22:39:38   0.047 sec             70.0       0.426543   \n",
       "8     2017-11-21 22:39:38   0.054 sec             80.0       0.420158   \n",
       "9     2017-11-21 22:39:38   0.062 sec             90.0       0.414791   \n",
       "10    2017-11-21 22:39:38   0.069 sec            100.0       0.409935   \n",
       "11    2017-11-21 22:39:38   0.077 sec            110.0       0.405437   \n",
       "12    2017-11-21 22:39:38   0.085 sec            120.0       0.401430   \n",
       "13    2017-11-21 22:39:38   0.093 sec            130.0       0.397645   \n",
       "14    2017-11-21 22:39:38   0.102 sec            140.0       0.394382   \n",
       "15    2017-11-21 22:39:38   0.110 sec            150.0       0.391432   \n",
       "16    2017-11-21 22:39:38   0.119 sec            160.0       0.388321   \n",
       "17    2017-11-21 22:39:38   0.129 sec            170.0       0.385602   \n",
       "18    2017-11-21 22:39:38   0.138 sec            180.0       0.383127   \n",
       "19    2017-11-21 22:39:38   0.148 sec            190.0       0.380692   \n",
       "20    2017-11-21 22:39:38   0.158 sec            200.0       0.378204   \n",
       "\n",
       "    training_logloss  training_auc  training_lift  \\\n",
       "0           0.693147      0.500000       1.000000   \n",
       "1           0.663754      0.846950       2.338462   \n",
       "2           0.638141      0.857935       2.338462   \n",
       "3           0.616788      0.864810       2.338462   \n",
       "4           0.597874      0.868148       2.338462   \n",
       "5           0.580250      0.871021       2.338462   \n",
       "6           0.566257      0.870933       2.338462   \n",
       "7           0.552565      0.874735       2.338462   \n",
       "8           0.540409      0.876127       2.338462   \n",
       "9           0.530121      0.878470       2.338462   \n",
       "10          0.520668      0.879686       2.338462   \n",
       "11          0.511817      0.880880       2.338462   \n",
       "12          0.503863      0.882228       2.338462   \n",
       "13          0.496339      0.883289       2.338462   \n",
       "14          0.489792      0.884925       2.338462   \n",
       "15          0.483834      0.886008       2.338462   \n",
       "16          0.477682      0.888660       2.338462   \n",
       "17          0.472212      0.890650       2.338462   \n",
       "18          0.467077      0.891534       2.338462   \n",
       "19          0.462117      0.892816       2.338462   \n",
       "20          0.457192      0.894187       2.338462   \n",
       "\n",
       "    training_classification_error  validation_rmse  validation_logloss  \\\n",
       "0                        0.572368         0.500000            0.693147   \n",
       "1                        0.230263         0.491669            0.676601   \n",
       "2                        0.197368         0.484177            0.661851   \n",
       "3                        0.200658         0.478067            0.649856   \n",
       "4                        0.190789         0.473715            0.641243   \n",
       "5                        0.174342         0.470031            0.633818   \n",
       "6                        0.184211         0.466452            0.626582   \n",
       "7                        0.180921         0.464110            0.621670   \n",
       "8                        0.190789         0.462228            0.617579   \n",
       "9                        0.180921         0.460419            0.613591   \n",
       "10                       0.194079         0.458634            0.609638   \n",
       "11                       0.190789         0.457724            0.607287   \n",
       "12                       0.180921         0.457814            0.606919   \n",
       "13                       0.184211         0.455721            0.602399   \n",
       "14                       0.184211         0.454259            0.599098   \n",
       "15                       0.184211         0.452406            0.595380   \n",
       "16                       0.177632         0.452231            0.594706   \n",
       "17                       0.184211         0.451539            0.593125   \n",
       "18                       0.184211         0.450034            0.589959   \n",
       "19                       0.177632         0.449130            0.587848   \n",
       "20                       0.177632         0.448909            0.587237   \n",
       "\n",
       "    validation_auc  validation_lift  validation_classification_error  \n",
       "0         0.500000         1.000000                         0.709677  \n",
       "1         0.641414         3.444444                         0.290323  \n",
       "2         0.661616         0.000000                         0.322581  \n",
       "3         0.691919         0.000000                         0.419355  \n",
       "4         0.699495         0.000000                         0.322581  \n",
       "5         0.674242         0.000000                         0.354839  \n",
       "6         0.674242         0.000000                         0.354839  \n",
       "7         0.679293         0.000000                         0.354839  \n",
       "8         0.679293         0.000000                         0.354839  \n",
       "9         0.702020         3.444444                         0.354839  \n",
       "10        0.702020         3.444444                         0.354839  \n",
       "11        0.702020         3.444444                         0.354839  \n",
       "12        0.712121         3.444444                         0.354839  \n",
       "13        0.717172         3.444444                         0.354839  \n",
       "14        0.732323         3.444444                         0.354839  \n",
       "15        0.732323         3.444444                         0.322581  \n",
       "16        0.732323         3.444444                         0.322581  \n",
       "17        0.732323         3.444444                         0.322581  \n",
       "18        0.742424         3.444444                         0.225806  \n",
       "19        0.747475         3.444444                         0.225806  \n",
       "20        0.752525         3.444444                         0.225806  "
      ]
     },
     "execution_count": 47,
     "metadata": {},
     "output_type": "execute_result"
    }
   ],
   "source": [
    "prostate_xgb.score_history()"
   ]
  },
  {
   "cell_type": "code",
   "execution_count": 48,
   "metadata": {
    "collapsed": true
   },
   "outputs": [],
   "source": [
    "### PERFORMING PREDICTIONS USING a TEST DATA SET with Auto ML Leader model"
   ]
  },
  {
   "cell_type": "code",
   "execution_count": 49,
   "metadata": {},
   "outputs": [
    {
     "name": "stdout",
     "output_type": "stream",
     "text": [
      "xgboost prediction progress: |████████████████████████████████████████████| 100%\n"
     ]
    },
    {
     "data": {
      "text/html": [
       "<table>\n",
       "<thead>\n",
       "<tr><th>C1  </th><th style=\"text-align: right;\">      C2</th><th style=\"text-align: right;\">      C3</th></tr>\n",
       "</thead>\n",
       "<tbody>\n",
       "<tr><td>Y   </td><td style=\"text-align: right;\">0.198792</td><td style=\"text-align: right;\">0.801208</td></tr>\n",
       "<tr><td>N   </td><td style=\"text-align: right;\">0.512819</td><td style=\"text-align: right;\">0.487181</td></tr>\n",
       "<tr><td>Y   </td><td style=\"text-align: right;\">0.251143</td><td style=\"text-align: right;\">0.748857</td></tr>\n",
       "<tr><td>N   </td><td style=\"text-align: right;\">0.774559</td><td style=\"text-align: right;\">0.225441</td></tr>\n",
       "<tr><td>N   </td><td style=\"text-align: right;\">0.844376</td><td style=\"text-align: right;\">0.155624</td></tr>\n",
       "<tr><td>Y   </td><td style=\"text-align: right;\">0.242776</td><td style=\"text-align: right;\">0.757224</td></tr>\n",
       "<tr><td>N   </td><td style=\"text-align: right;\">0.507461</td><td style=\"text-align: right;\">0.492539</td></tr>\n",
       "<tr><td>Y   </td><td style=\"text-align: right;\">0.282053</td><td style=\"text-align: right;\">0.717947</td></tr>\n",
       "<tr><td>Y   </td><td style=\"text-align: right;\">0.212303</td><td style=\"text-align: right;\">0.787697</td></tr>\n",
       "<tr><td>Y   </td><td style=\"text-align: right;\">0.201554</td><td style=\"text-align: right;\">0.798446</td></tr>\n",
       "</tbody>\n",
       "</table>"
      ]
     },
     "metadata": {},
     "output_type": "display_data"
    },
    {
     "data": {
      "text/plain": []
     },
     "execution_count": 49,
     "metadata": {},
     "output_type": "execute_result"
    }
   ],
   "source": [
    "prostate_xgb.predict(test)"
   ]
  },
  {
   "cell_type": "code",
   "execution_count": 50,
   "metadata": {
    "collapsed": true
   },
   "outputs": [],
   "source": [
    "###: Getting AUC metrics from the test data using XGBoost Leader Model"
   ]
  },
  {
   "cell_type": "code",
   "execution_count": 51,
   "metadata": {},
   "outputs": [
    {
     "data": {
      "text/plain": [
       "0.9285714285714285"
      ]
     },
     "execution_count": 51,
     "metadata": {},
     "output_type": "execute_result"
    }
   ],
   "source": [
    "prostate_xgb.model_performance(test_data=test).auc()"
   ]
  },
  {
   "cell_type": "code",
   "execution_count": 52,
   "metadata": {},
   "outputs": [
    {
     "data": {
      "text/plain": [
       "'/Users/avkashchauhan/Downloads/prostate_xgb.zip/XGBoost_model_python_1511234431789_17095.zip'"
      ]
     },
     "execution_count": 52,
     "metadata": {},
     "output_type": "execute_result"
    }
   ],
   "source": [
    "prostate_xgb.download_mojo(\"/Users/avkashchauhan/Downloads/prostate_xgb.zip\", get_genmodel_jar=True)"
   ]
  },
  {
   "cell_type": "code",
   "execution_count": null,
   "metadata": {
    "collapsed": true
   },
   "outputs": [],
   "source": []
  }
 ],
 "metadata": {
  "kernelspec": {
   "display_name": "Python 2",
   "language": "python",
   "name": "python2"
  },
  "language_info": {
   "codemirror_mode": {
    "name": "ipython",
    "version": 2
   },
   "file_extension": ".py",
   "mimetype": "text/x-python",
   "name": "python",
   "nbconvert_exporter": "python",
   "pygments_lexer": "ipython2",
   "version": "2.7.13"
  }
 },
 "nbformat": 4,
 "nbformat_minor": 2
}
