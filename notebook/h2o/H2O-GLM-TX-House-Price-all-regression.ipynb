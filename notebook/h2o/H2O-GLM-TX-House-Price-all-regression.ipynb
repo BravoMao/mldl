{
 "cells": [
  {
   "cell_type": "code",
   "execution_count": 1,
   "metadata": {
    "collapsed": true
   },
   "outputs": [],
   "source": [
    "#: Loading H2O Library"
   ]
  },
  {
   "cell_type": "code",
   "execution_count": 2,
   "metadata": {
    "collapsed": true
   },
   "outputs": [],
   "source": [
    "import h2o"
   ]
  },
  {
   "cell_type": "code",
   "execution_count": 3,
   "metadata": {
    "collapsed": true
   },
   "outputs": [],
   "source": [
    "#: Get H2O Version"
   ]
  },
  {
   "cell_type": "code",
   "execution_count": 4,
   "metadata": {},
   "outputs": [
    {
     "data": {
      "text/plain": [
       "u'3.14.0.7'"
      ]
     },
     "execution_count": 4,
     "metadata": {},
     "output_type": "execute_result"
    }
   ],
   "source": [
    "h2o.__version__"
   ]
  },
  {
   "cell_type": "code",
   "execution_count": 5,
   "metadata": {
    "collapsed": true
   },
   "outputs": [],
   "source": [
    "#: Initalizing H2O cluster"
   ]
  },
  {
   "cell_type": "code",
   "execution_count": 6,
   "metadata": {},
   "outputs": [
    {
     "name": "stderr",
     "output_type": "stream",
     "text": [
      "ERROR:h2o:Key init.version_check is not a valid config key\n"
     ]
    },
    {
     "name": "stdout",
     "output_type": "stream",
     "text": [
      "Checking whether there is an H2O instance running at http://localhost:54321..... not found.\n",
      "Attempting to start a local H2O server...\n",
      "  Java Version: java version \"1.8.0_101\"; Java(TM) SE Runtime Environment (build 1.8.0_101-b13); Java HotSpot(TM) 64-Bit Server VM (build 25.101-b13, mixed mode)\n",
      "  Starting server from /Users/avkashchauhan/anaconda3/envs/python27/lib/python2.7/site-packages/h2o/backend/bin/h2o.jar\n",
      "  Ice root: /var/folders/x7/331tvwcd6p17jj9zdmhnkpyc0000gn/T/tmpaxN1Fu\n",
      "  JVM stdout: /var/folders/x7/331tvwcd6p17jj9zdmhnkpyc0000gn/T/tmpaxN1Fu/h2o_avkashchauhan_started_from_python.out\n",
      "  JVM stderr: /var/folders/x7/331tvwcd6p17jj9zdmhnkpyc0000gn/T/tmpaxN1Fu/h2o_avkashchauhan_started_from_python.err\n",
      "  Server is running at http://127.0.0.1:54321\n",
      "Connecting to H2O server at http://127.0.0.1:54321... successful.\n"
     ]
    },
    {
     "data": {
      "text/html": [
       "<div style=\"overflow:auto\"><table style=\"width:50%\"><tr><td>H2O cluster uptime:</td>\n",
       "<td>01 secs</td></tr>\n",
       "<tr><td>H2O cluster version:</td>\n",
       "<td>3.14.0.7</td></tr>\n",
       "<tr><td>H2O cluster version age:</td>\n",
       "<td>23 days </td></tr>\n",
       "<tr><td>H2O cluster name:</td>\n",
       "<td>H2O_from_python_avkashchauhan_1ocjkz</td></tr>\n",
       "<tr><td>H2O cluster total nodes:</td>\n",
       "<td>1</td></tr>\n",
       "<tr><td>H2O cluster free memory:</td>\n",
       "<td>3.556 Gb</td></tr>\n",
       "<tr><td>H2O cluster total cores:</td>\n",
       "<td>8</td></tr>\n",
       "<tr><td>H2O cluster allowed cores:</td>\n",
       "<td>8</td></tr>\n",
       "<tr><td>H2O cluster status:</td>\n",
       "<td>accepting new members, healthy</td></tr>\n",
       "<tr><td>H2O connection url:</td>\n",
       "<td>http://127.0.0.1:54321</td></tr>\n",
       "<tr><td>H2O connection proxy:</td>\n",
       "<td>None</td></tr>\n",
       "<tr><td>H2O internal security:</td>\n",
       "<td>False</td></tr>\n",
       "<tr><td>H2O API Extensions:</td>\n",
       "<td>XGBoost, Algos, AutoML, Core V3, Core V4</td></tr>\n",
       "<tr><td>Python version:</td>\n",
       "<td>2.7.13 final</td></tr></table></div>"
      ],
      "text/plain": [
       "--------------------------  ----------------------------------------\n",
       "H2O cluster uptime:         01 secs\n",
       "H2O cluster version:        3.14.0.7\n",
       "H2O cluster version age:    23 days\n",
       "H2O cluster name:           H2O_from_python_avkashchauhan_1ocjkz\n",
       "H2O cluster total nodes:    1\n",
       "H2O cluster free memory:    3.556 Gb\n",
       "H2O cluster total cores:    8\n",
       "H2O cluster allowed cores:  8\n",
       "H2O cluster status:         accepting new members, healthy\n",
       "H2O connection url:         http://127.0.0.1:54321\n",
       "H2O connection proxy:\n",
       "H2O internal security:      False\n",
       "H2O API Extensions:         XGBoost, Algos, AutoML, Core V3, Core V4\n",
       "Python version:             2.7.13 final\n",
       "--------------------------  ----------------------------------------"
      ]
     },
     "metadata": {},
     "output_type": "display_data"
    }
   ],
   "source": [
    "h2o.init()"
   ]
  },
  {
   "cell_type": "code",
   "execution_count": 7,
   "metadata": {
    "collapsed": true
   },
   "outputs": [],
   "source": [
    "#: Importing both training and test dataset into H2O cluster memory"
   ]
  },
  {
   "cell_type": "code",
   "execution_count": 8,
   "metadata": {},
   "outputs": [
    {
     "name": "stdout",
     "output_type": "stream",
     "text": [
      "Parse progress: |█████████████████████████████████████████████████████████| 100%\n",
      "Parse progress: |█████████████████████████████████████████████████████████| 100%\n"
     ]
    }
   ],
   "source": [
    "#train_df = h2o.import_file(\"/Users/avkashchauhan/examples/regression/house_price_train.csv\")\n",
    "#test_df = h2o.import_file(\"/Users/avkashchauhan/examples/regression/house_price_test.csv\")\n",
    "\n",
    "train_df = h2o.import_file(\"https://raw.githubusercontent.com/Avkash/mldl/master/data/house_price_train.csv\")\n",
    "test_df = h2o.import_file(\"https://raw.githubusercontent.com/Avkash/mldl/master/data/house_price_test.csv\")"
   ]
  },
  {
   "cell_type": "code",
   "execution_count": 9,
   "metadata": {
    "collapsed": true
   },
   "outputs": [],
   "source": [
    "#: Understanding Training dataset"
   ]
  },
  {
   "cell_type": "code",
   "execution_count": 10,
   "metadata": {},
   "outputs": [
    {
     "name": "stdout",
     "output_type": "stream",
     "text": [
      "Rows:407\n",
      "Cols:14\n",
      "\n",
      "\n"
     ]
    },
    {
     "data": {
      "text/html": [
       "<table>\n",
       "<thead>\n",
       "<tr><th>       </th><th>crim         </th><th>zn           </th><th>indus        </th><th>chas           </th><th>nox           </th><th>rm            </th><th>age          </th><th>dis          </th><th>rad          </th><th>tax          </th><th>ptratio      </th><th>b            </th><th>lstat        </th><th>medv         </th></tr>\n",
       "</thead>\n",
       "<tbody>\n",
       "<tr><td>type   </td><td>real         </td><td>real         </td><td>real         </td><td>int            </td><td>real          </td><td>real          </td><td>real         </td><td>real         </td><td>int          </td><td>int          </td><td>real         </td><td>real         </td><td>real         </td><td>real         </td></tr>\n",
       "<tr><td>mins   </td><td>0.00906      </td><td>0.0          </td><td>0.46         </td><td>0.0            </td><td>0.385         </td><td>3.863         </td><td>2.9          </td><td>1.1296       </td><td>1.0          </td><td>188.0        </td><td>12.6         </td><td>0.32         </td><td>1.73         </td><td>5.0          </td></tr>\n",
       "<tr><td>mean   </td><td>3.56736771499</td><td>10.5872235872</td><td>11.4092628993</td><td>0.0687960687961</td><td>0.556763882064</td><td>6.28658230958 </td><td>69.3889434889</td><td>3.71767051597</td><td>9.83783783784</td><td>412.378378378</td><td>18.4474201474</td><td>354.403218673</td><td>12.792039312 </td><td>22.6248157248</td></tr>\n",
       "<tr><td>maxs   </td><td>73.5341      </td><td>100.0        </td><td>27.74        </td><td>1.0            </td><td>0.871         </td><td>8.725         </td><td>100.0        </td><td>10.7103      </td><td>24.0         </td><td>711.0        </td><td>22.0         </td><td>396.9        </td><td>37.97        </td><td>50.0         </td></tr>\n",
       "<tr><td>sigma  </td><td>7.94798961655</td><td>22.2597824603</td><td>6.8144822924 </td><td>0.253418548596 </td><td>0.115557348898</td><td>0.690897322921</td><td>27.8179045475</td><td>2.01524090631</td><td>8.78440418525</td><td>170.44740987 </td><td>2.16176742548</td><td>94.175205015 </td><td>7.09869539936</td><td>9.18501930903</td></tr>\n",
       "<tr><td>zeros  </td><td>0            </td><td>301          </td><td>0            </td><td>379            </td><td>0             </td><td>0             </td><td>0            </td><td>0            </td><td>0            </td><td>0            </td><td>0            </td><td>0            </td><td>0            </td><td>0            </td></tr>\n",
       "<tr><td>missing</td><td>0            </td><td>0            </td><td>0            </td><td>0              </td><td>0             </td><td>0             </td><td>0            </td><td>0            </td><td>0            </td><td>0            </td><td>0            </td><td>0            </td><td>0            </td><td>0            </td></tr>\n",
       "<tr><td>0      </td><td>0.02731      </td><td>0.0          </td><td>7.07         </td><td>0.0            </td><td>0.469         </td><td>6.421         </td><td>78.9         </td><td>4.9671       </td><td>2.0          </td><td>242.0        </td><td>17.8         </td><td>396.9        </td><td>9.14         </td><td>21.6         </td></tr>\n",
       "<tr><td>1      </td><td>0.02729      </td><td>0.0          </td><td>7.07         </td><td>0.0            </td><td>0.469         </td><td>7.185         </td><td>61.1         </td><td>4.9671       </td><td>2.0          </td><td>242.0        </td><td>17.8         </td><td>392.83       </td><td>4.03         </td><td>34.7         </td></tr>\n",
       "<tr><td>2      </td><td>0.03237      </td><td>0.0          </td><td>2.18         </td><td>0.0            </td><td>0.458         </td><td>6.998         </td><td>45.8         </td><td>6.0622       </td><td>3.0          </td><td>222.0        </td><td>18.7         </td><td>394.63       </td><td>2.94         </td><td>33.4         </td></tr>\n",
       "<tr><td>3      </td><td>0.06905      </td><td>0.0          </td><td>2.18         </td><td>0.0            </td><td>0.458         </td><td>7.147         </td><td>54.2         </td><td>6.0622       </td><td>3.0          </td><td>222.0        </td><td>18.7         </td><td>396.9        </td><td>5.33         </td><td>36.2         </td></tr>\n",
       "<tr><td>4      </td><td>0.08829      </td><td>12.5         </td><td>7.87         </td><td>0.0            </td><td>0.524         </td><td>6.012         </td><td>66.6         </td><td>5.5605       </td><td>5.0          </td><td>311.0        </td><td>15.2         </td><td>395.6        </td><td>12.43        </td><td>22.9         </td></tr>\n",
       "<tr><td>5      </td><td>0.14455      </td><td>12.5         </td><td>7.87         </td><td>0.0            </td><td>0.524         </td><td>6.172         </td><td>96.1         </td><td>5.9505       </td><td>5.0          </td><td>311.0        </td><td>15.2         </td><td>396.9        </td><td>19.15        </td><td>27.1         </td></tr>\n",
       "<tr><td>6      </td><td>0.21124      </td><td>12.5         </td><td>7.87         </td><td>0.0            </td><td>0.524         </td><td>5.631         </td><td>100.0        </td><td>6.0821       </td><td>5.0          </td><td>311.0        </td><td>15.2         </td><td>386.63       </td><td>29.93        </td><td>16.5         </td></tr>\n",
       "<tr><td>7      </td><td>0.17004      </td><td>12.5         </td><td>7.87         </td><td>0.0            </td><td>0.524         </td><td>6.004         </td><td>85.9         </td><td>6.5921       </td><td>5.0          </td><td>311.0        </td><td>15.2         </td><td>386.71       </td><td>17.1         </td><td>18.9         </td></tr>\n",
       "<tr><td>8      </td><td>0.22489      </td><td>12.5         </td><td>7.87         </td><td>0.0            </td><td>0.524         </td><td>6.377         </td><td>94.3         </td><td>6.3467       </td><td>5.0          </td><td>311.0        </td><td>15.2         </td><td>392.52       </td><td>20.45        </td><td>15.0         </td></tr>\n",
       "<tr><td>9      </td><td>0.11747      </td><td>12.5         </td><td>7.87         </td><td>0.0            </td><td>0.524         </td><td>6.009         </td><td>82.9         </td><td>6.2267       </td><td>5.0          </td><td>311.0        </td><td>15.2         </td><td>396.9        </td><td>13.27        </td><td>18.9         </td></tr>\n",
       "</tbody>\n",
       "</table>"
      ]
     },
     "metadata": {},
     "output_type": "display_data"
    }
   ],
   "source": [
    "train_df.describe()"
   ]
  },
  {
   "cell_type": "code",
   "execution_count": 11,
   "metadata": {
    "collapsed": true
   },
   "outputs": [],
   "source": [
    "#: Understanding Test dataset"
   ]
  },
  {
   "cell_type": "code",
   "execution_count": 12,
   "metadata": {},
   "outputs": [
    {
     "name": "stdout",
     "output_type": "stream",
     "text": [
      "Rows:99\n",
      "Cols:14\n",
      "\n",
      "\n"
     ]
    },
    {
     "data": {
      "text/html": [
       "<table>\n",
       "<thead>\n",
       "<tr><th>       </th><th>crim         </th><th>zn           </th><th>indus        </th><th>chas           </th><th>nox          </th><th>rm            </th><th>age          </th><th>dis          </th><th>rad          </th><th>tax          </th><th>ptratio      </th><th>b            </th><th>lstat        </th><th>medv         </th></tr>\n",
       "</thead>\n",
       "<tbody>\n",
       "<tr><td>type   </td><td>real         </td><td>real         </td><td>real         </td><td>int            </td><td>real         </td><td>real          </td><td>real         </td><td>real         </td><td>int          </td><td>int          </td><td>real         </td><td>real         </td><td>real         </td><td>real         </td></tr>\n",
       "<tr><td>mins   </td><td>0.00632      </td><td>0.0          </td><td>0.74         </td><td>0.0            </td><td>0.389        </td><td>3.561         </td><td>9.9          </td><td>1.1781       </td><td>1.0          </td><td>187.0        </td><td>12.6         </td><td>6.68         </td><td>2.88         </td><td>5.6          </td></tr>\n",
       "<tr><td>mean   </td><td>3.80327535354</td><td>14.5555555556</td><td>10.0165656566</td><td>0.0707070707071</td><td>0.54618989899</td><td>6.27662626263 </td><td>65.2282828283</td><td>4.11312828283</td><td>8.36363636364</td><td>391.212121212</td><td>18.4888888889</td><td>366.00959596 </td><td>12.0817171717</td><td>22.1545454545</td></tr>\n",
       "<tr><td>maxs   </td><td>88.9762      </td><td>95.0         </td><td>27.74        </td><td>1.0            </td><td>0.871        </td><td>8.78          </td><td>100.0        </td><td>12.1265      </td><td>24.0         </td><td>711.0        </td><td>22.0         </td><td>396.9        </td><td>34.41        </td><td>50.0         </td></tr>\n",
       "<tr><td>sigma  </td><td>10.9318629744</td><td>27.154498339 </td><td>6.96902859181</td><td>0.257639411539 </td><td>0.11739221152</td><td>0.752520981955</td><td>29.378799938 </td><td>2.42831711324</td><td>8.3206830389 </td><td>160.149373687</td><td>2.18869492793</td><td>78.0843033028</td><td>7.32150592857</td><td>9.28388193709</td></tr>\n",
       "<tr><td>zeros  </td><td>0            </td><td>71           </td><td>0            </td><td>92             </td><td>0            </td><td>0             </td><td>0            </td><td>0            </td><td>0            </td><td>0            </td><td>0            </td><td>0            </td><td>0            </td><td>0            </td></tr>\n",
       "<tr><td>missing</td><td>0            </td><td>0            </td><td>0            </td><td>0              </td><td>0            </td><td>0             </td><td>0            </td><td>0            </td><td>0            </td><td>0            </td><td>0            </td><td>0            </td><td>0            </td><td>0            </td></tr>\n",
       "<tr><td>0      </td><td>0.00632      </td><td>18.0         </td><td>2.31         </td><td>0.0            </td><td>0.538        </td><td>6.575         </td><td>65.2         </td><td>4.09         </td><td>1.0          </td><td>296.0        </td><td>15.3         </td><td>396.9        </td><td>4.98         </td><td>24.0         </td></tr>\n",
       "<tr><td>1      </td><td>0.02985      </td><td>0.0          </td><td>2.18         </td><td>0.0            </td><td>0.458        </td><td>6.43          </td><td>58.7         </td><td>6.0622       </td><td>3.0          </td><td>222.0        </td><td>18.7         </td><td>394.12       </td><td>5.21         </td><td>28.7         </td></tr>\n",
       "<tr><td>2      </td><td>1.23247      </td><td>0.0          </td><td>8.14         </td><td>0.0            </td><td>0.538        </td><td>6.142         </td><td>91.7         </td><td>3.9769       </td><td>4.0          </td><td>307.0        </td><td>21.0         </td><td>396.9        </td><td>18.72        </td><td>15.2         </td></tr>\n",
       "<tr><td>3      </td><td>0.98843      </td><td>0.0          </td><td>8.14         </td><td>0.0            </td><td>0.538        </td><td>5.813         </td><td>100.0        </td><td>4.0952       </td><td>4.0          </td><td>307.0        </td><td>21.0         </td><td>394.54       </td><td>19.88        </td><td>14.5         </td></tr>\n",
       "<tr><td>4      </td><td>1.13081      </td><td>0.0          </td><td>8.14         </td><td>0.0            </td><td>0.538        </td><td>5.713         </td><td>94.1         </td><td>4.233        </td><td>4.0          </td><td>307.0        </td><td>21.0         </td><td>360.17       </td><td>22.6         </td><td>12.7         </td></tr>\n",
       "<tr><td>5      </td><td>1.15172      </td><td>0.0          </td><td>8.14         </td><td>0.0            </td><td>0.538        </td><td>5.701         </td><td>95.0         </td><td>3.7872       </td><td>4.0          </td><td>307.0        </td><td>21.0         </td><td>358.77       </td><td>18.35        </td><td>13.1         </td></tr>\n",
       "<tr><td>6      </td><td>0.08014      </td><td>0.0          </td><td>5.96         </td><td>0.0            </td><td>0.499        </td><td>5.85          </td><td>41.5         </td><td>3.9342       </td><td>5.0          </td><td>279.0        </td><td>19.2         </td><td>396.9        </td><td>8.77         </td><td>21.0         </td></tr>\n",
       "<tr><td>7      </td><td>0.17505      </td><td>0.0          </td><td>5.96         </td><td>0.0            </td><td>0.499        </td><td>5.966         </td><td>30.2         </td><td>3.8473       </td><td>5.0          </td><td>279.0        </td><td>19.2         </td><td>393.43       </td><td>10.13        </td><td>24.7         </td></tr>\n",
       "<tr><td>8      </td><td>0.02763      </td><td>75.0         </td><td>2.95         </td><td>0.0            </td><td>0.428        </td><td>6.595         </td><td>21.8         </td><td>5.4011       </td><td>3.0          </td><td>252.0        </td><td>18.3         </td><td>395.63       </td><td>4.32         </td><td>30.8         </td></tr>\n",
       "<tr><td>9      </td><td>0.08873      </td><td>21.0         </td><td>5.64         </td><td>0.0            </td><td>0.439        </td><td>5.963         </td><td>45.7         </td><td>6.8147       </td><td>4.0          </td><td>243.0        </td><td>16.8         </td><td>395.56       </td><td>13.45        </td><td>19.7         </td></tr>\n",
       "</tbody>\n",
       "</table>"
      ]
     },
     "metadata": {},
     "output_type": "display_data"
    }
   ],
   "source": [
    "test_df.describe()"
   ]
  },
  {
   "cell_type": "code",
   "execution_count": 13,
   "metadata": {
    "collapsed": true
   },
   "outputs": [],
   "source": [
    "#: Training and test dataset - columns and rows details"
   ]
  },
  {
   "cell_type": "code",
   "execution_count": 14,
   "metadata": {},
   "outputs": [
    {
     "name": "stdout",
     "output_type": "stream",
     "text": [
      "(407, 14)\n",
      "(99, 14)\n"
     ]
    }
   ],
   "source": [
    "print(train_df.shape)\n",
    "print(test_df.shape)"
   ]
  },
  {
   "cell_type": "code",
   "execution_count": 15,
   "metadata": {
    "collapsed": true
   },
   "outputs": [],
   "source": [
    "#: Training and Test Dataframes - columns names"
   ]
  },
  {
   "cell_type": "code",
   "execution_count": 16,
   "metadata": {},
   "outputs": [
    {
     "name": "stdout",
     "output_type": "stream",
     "text": [
      "[u'crim', u'zn', u'indus', u'chas', u'nox', u'rm', u'age', u'dis', u'rad', u'tax', u'ptratio', u'b', u'lstat', u'medv']\n",
      "[u'crim', u'zn', u'indus', u'chas', u'nox', u'rm', u'age', u'dis', u'rad', u'tax', u'ptratio', u'b', u'lstat', u'medv']\n"
     ]
    }
   ],
   "source": [
    "print(train_df.col_names)\n",
    "print(test_df.col_names)"
   ]
  },
  {
   "cell_type": "code",
   "execution_count": 17,
   "metadata": {
    "collapsed": true
   },
   "outputs": [],
   "source": [
    "#: Training and Test Dataframes - columns names"
   ]
  },
  {
   "cell_type": "code",
   "execution_count": 18,
   "metadata": {},
   "outputs": [
    {
     "name": "stdout",
     "output_type": "stream",
     "text": [
      "[u'crim', u'zn', u'indus', u'chas', u'nox', u'rm', u'age', u'dis', u'rad', u'tax', u'ptratio', u'b', u'lstat', u'medv']\n",
      "[u'crim', u'zn', u'indus', u'chas', u'nox', u'rm', u'age', u'dis', u'rad', u'tax', u'ptratio', u'b', u'lstat', u'medv']\n"
     ]
    }
   ],
   "source": [
    "print(train_df.columns)\n",
    "print(test_df.columns)"
   ]
  },
  {
   "cell_type": "code",
   "execution_count": 19,
   "metadata": {
    "collapsed": true
   },
   "outputs": [],
   "source": [
    "#: Training and Test dataframes - columns by their type i.e. numeric, string, categorical(enum)"
   ]
  },
  {
   "cell_type": "code",
   "execution_count": 20,
   "metadata": {},
   "outputs": [
    {
     "name": "stdout",
     "output_type": "stream",
     "text": [
      "[0.0, 1.0, 2.0, 3.0, 4.0, 5.0, 6.0, 7.0, 8.0, 9.0, 10.0, 11.0, 12.0, 13.0]\n",
      "[0.0, 1.0, 2.0, 3.0, 4.0, 5.0, 6.0, 7.0, 8.0, 9.0, 10.0, 11.0, 12.0, 13.0]\n"
     ]
    }
   ],
   "source": [
    "print(train_df.columns_by_type())\n",
    "print(test_df.columns_by_type())"
   ]
  },
  {
   "cell_type": "code",
   "execution_count": 21,
   "metadata": {
    "collapsed": true
   },
   "outputs": [],
   "source": [
    "#: Training and Test dataframes - columns type as strings"
   ]
  },
  {
   "cell_type": "code",
   "execution_count": 22,
   "metadata": {},
   "outputs": [
    {
     "name": "stdout",
     "output_type": "stream",
     "text": [
      "[]\n",
      "[]\n"
     ]
    }
   ],
   "source": [
    "print(train_df.columns_by_type(\"string\"))\n",
    "print(test_df.columns_by_type(\"string\"))"
   ]
  },
  {
   "cell_type": "code",
   "execution_count": 23,
   "metadata": {
    "collapsed": true
   },
   "outputs": [],
   "source": [
    "#: Training and Test dataframes - columns type as numeric"
   ]
  },
  {
   "cell_type": "code",
   "execution_count": 24,
   "metadata": {},
   "outputs": [
    {
     "name": "stdout",
     "output_type": "stream",
     "text": [
      "[0.0, 1.0, 2.0, 3.0, 4.0, 5.0, 6.0, 7.0, 8.0, 9.0, 10.0, 11.0, 12.0, 13.0]\n",
      "[0.0, 1.0, 2.0, 3.0, 4.0, 5.0, 6.0, 7.0, 8.0, 9.0, 10.0, 11.0, 12.0, 13.0]\n"
     ]
    }
   ],
   "source": [
    "print(train_df.columns_by_type(\"numeric\"))\n",
    "print(test_df.columns_by_type(\"numeric\"))"
   ]
  },
  {
   "cell_type": "code",
   "execution_count": 25,
   "metadata": {
    "collapsed": true
   },
   "outputs": [],
   "source": [
    "#: Training and Test dataframes - columns type as categorical or enum"
   ]
  },
  {
   "cell_type": "code",
   "execution_count": 26,
   "metadata": {},
   "outputs": [
    {
     "name": "stdout",
     "output_type": "stream",
     "text": [
      "[]\n",
      "[]\n"
     ]
    }
   ],
   "source": [
    "print(train_df.columns_by_type(\"categorical\"))\n",
    "print(test_df.columns_by_type(\"categorical\"))"
   ]
  },
  {
   "cell_type": "code",
   "execution_count": 27,
   "metadata": {
    "collapsed": true
   },
   "outputs": [],
   "source": [
    "#: Settings response or target variable for supervised machine learning"
   ]
  },
  {
   "cell_type": "code",
   "execution_count": 28,
   "metadata": {},
   "outputs": [
    {
     "name": "stdout",
     "output_type": "stream",
     "text": [
      "[u'crim', u'zn', u'indus', u'chas', u'nox', u'rm', u'age', u'dis', u'rad', u'tax', u'ptratio', u'b', u'lstat', u'medv']\n"
     ]
    }
   ],
   "source": [
    "response = \"medv\"\n",
    "features = train_df.col_names\n",
    "print(features)"
   ]
  },
  {
   "cell_type": "code",
   "execution_count": 29,
   "metadata": {
    "collapsed": true
   },
   "outputs": [],
   "source": [
    "#: Creating a list of all features we will use for machine learning"
   ]
  },
  {
   "cell_type": "code",
   "execution_count": 30,
   "metadata": {},
   "outputs": [
    {
     "name": "stdout",
     "output_type": "stream",
     "text": [
      "[u'crim', u'zn', u'indus', u'chas', u'nox', u'rm', u'age', u'dis', u'rad', u'tax', u'ptratio', u'b', u'lstat']\n"
     ]
    }
   ],
   "source": [
    "features.remove(response)\n",
    "print(features)"
   ]
  },
  {
   "cell_type": "code",
   "execution_count": 31,
   "metadata": {
    "collapsed": true
   },
   "outputs": [],
   "source": [
    "#: Understanding response variable values as historgram in Training data"
   ]
  },
  {
   "cell_type": "code",
   "execution_count": 32,
   "metadata": {},
   "outputs": [
    {
     "data": {
      "image/png": "[encoded data removed]",
      "text/plain": [
       "<matplotlib.figure.Figure at 0x11304dd50>"
      ]
     },
     "metadata": {},
     "output_type": "display_data"
    }
   ],
   "source": [
    "train_df['medv'].hist()"
   ]
  },
  {
   "cell_type": "code",
   "execution_count": 33,
   "metadata": {
    "collapsed": true
   },
   "outputs": [],
   "source": [
    "#: Understanding response variable values as historgram in Test data"
   ]
  },
  {
   "cell_type": "code",
   "execution_count": 34,
   "metadata": {},
   "outputs": [
    {
     "data": {
      "image/png": "[encoded data removed]",
      "text/plain": [
       "<matplotlib.figure.Figure at 0x110afabd0>"
      ]
     },
     "metadata": {},
     "output_type": "display_data"
    }
   ],
   "source": [
    "test_df['medv'].hist()"
   ]
  },
  {
   "cell_type": "code",
   "execution_count": 35,
   "metadata": {
    "collapsed": true
   },
   "outputs": [],
   "source": [
    "#: Understanding response variable values "
   ]
  },
  {
   "cell_type": "code",
   "execution_count": 36,
   "metadata": {},
   "outputs": [
    {
     "data": {
      "text/plain": [
       "[]"
      ]
     },
     "execution_count": 36,
     "metadata": {},
     "output_type": "execute_result"
    }
   ],
   "source": [
    "train_df['medv'].levels()"
   ]
  },
  {
   "cell_type": "code",
   "execution_count": 37,
   "metadata": {
    "collapsed": true
   },
   "outputs": [],
   "source": [
    "#: Understanding response column as dataframe"
   ]
  },
  {
   "cell_type": "code",
   "execution_count": 38,
   "metadata": {},
   "outputs": [
    {
     "data": {
      "text/plain": [
       "h2o.frame.H2OFrame"
      ]
     },
     "execution_count": 38,
     "metadata": {},
     "output_type": "execute_result"
    }
   ],
   "source": [
    "type(train_df['medv'])"
   ]
  },
  {
   "cell_type": "code",
   "execution_count": 39,
   "metadata": {
    "collapsed": true
   },
   "outputs": [],
   "source": [
    "#: Importing H2O H2OGeneralizedLinearEstimator to build GLM Model"
   ]
  },
  {
   "cell_type": "code",
   "execution_count": 40,
   "metadata": {
    "collapsed": true
   },
   "outputs": [],
   "source": [
    "from h2o.estimators.glm import H2OGeneralizedLinearEstimator"
   ]
  },
  {
   "cell_type": "code",
   "execution_count": 41,
   "metadata": {
    "collapsed": true
   },
   "outputs": [],
   "source": [
    "#: Building linear regression model (GLM) only with training dataframe"
   ]
  },
  {
   "cell_type": "code",
   "execution_count": 42,
   "metadata": {},
   "outputs": [
    {
     "name": "stdout",
     "output_type": "stream",
     "text": [
      "glm Model Build progress: |███████████████████████████████████████████████| 100%\n"
     ]
    }
   ],
   "source": [
    "glm_model_with_training_only = H2OGeneralizedLinearEstimator()\n",
    "glm_model_with_training_only.train(x= features, y = response, training_frame= train_df)"
   ]
  },
  {
   "cell_type": "code",
   "execution_count": 43,
   "metadata": {},
   "outputs": [
    {
     "name": "stdout",
     "output_type": "stream",
     "text": [
      "Model Details\n",
      "=============\n",
      "H2OGeneralizedLinearEstimator :  Generalized Linear Modeling\n",
      "Model Key:  GLM_model_python_1510608322538_1\n",
      "\n",
      "\n",
      "ModelMetricsRegressionGLM: glm\n",
      "** Reported on train data. **\n",
      "\n",
      "MSE: 21.4904862593\n",
      "RMSE: 4.63578324119\n",
      "MAE: 3.17657880157\n",
      "RMSLE: NaN\n",
      "R^2: 0.744639059652\n",
      "Mean Residual Deviance: 21.4904862593\n",
      "Null degrees of freedom: 406\n",
      "Residual degrees of freedom: 393\n",
      "Null deviance: 34252.0194968\n",
      "Residual deviance: 8746.62790752\n",
      "AIC: 2433.53337345\n",
      "Scoring History: \n"
     ]
    },
    {
     "data": {
      "text/html": [
       "<div style=\"overflow:auto\"><table style=\"width:50%\"><tr><td><b></b></td>\n",
       "<td><b>timestamp</b></td>\n",
       "<td><b>duration</b></td>\n",
       "<td><b>iterations</b></td>\n",
       "<td><b>negative_log_likelihood</b></td>\n",
       "<td><b>objective</b></td></tr>\n",
       "<tr><td></td>\n",
       "<td>2017-11-13 13:25:42</td>\n",
       "<td> 0.000 sec</td>\n",
       "<td>0</td>\n",
       "<td>34252.0193612</td>\n",
       "<td>84.1572957</td></tr></table></div>"
      ],
      "text/plain": [
       "    timestamp            duration    iterations    negative_log_likelihood    objective\n",
       "--  -------------------  ----------  ------------  -------------------------  -----------\n",
       "    2017-11-13 13:25:42  0.000 sec   0             34252                      84.1573"
      ]
     },
     "metadata": {},
     "output_type": "display_data"
    },
    {
     "data": {
      "text/plain": []
     },
     "execution_count": 43,
     "metadata": {},
     "output_type": "execute_result"
    }
   ],
   "source": [
    "glm_model_with_training_only"
   ]
  },
  {
   "cell_type": "code",
   "execution_count": 44,
   "metadata": {
    "collapsed": true
   },
   "outputs": [],
   "source": [
    "#: Building linear regression model (GLM) with cross validation"
   ]
  },
  {
   "cell_type": "code",
   "execution_count": 45,
   "metadata": {},
   "outputs": [
    {
     "name": "stdout",
     "output_type": "stream",
     "text": [
      "glm Model Build progress: |███████████████████████████████████████████████| 100%\n"
     ]
    }
   ],
   "source": [
    "glm_model_with_training_and_cv = H2OGeneralizedLinearEstimator(nfolds=5)\n",
    "glm_model_with_training_and_cv.train(x = features, y = response, training_frame=train_df)"
   ]
  },
  {
   "cell_type": "code",
   "execution_count": 46,
   "metadata": {},
   "outputs": [
    {
     "name": "stdout",
     "output_type": "stream",
     "text": [
      "Model Details\n",
      "=============\n",
      "H2OGeneralizedLinearEstimator :  Generalized Linear Modeling\n",
      "Model Key:  GLM_model_python_1510608322538_2\n",
      "\n",
      "\n",
      "ModelMetricsRegressionGLM: glm\n",
      "** Reported on train data. **\n",
      "\n",
      "MSE: 21.4904862593\n",
      "RMSE: 4.63578324119\n",
      "MAE: 3.17657880157\n",
      "RMSLE: NaN\n",
      "R^2: 0.744639059652\n",
      "Mean Residual Deviance: 21.4904862593\n",
      "Null degrees of freedom: 406\n",
      "Residual degrees of freedom: 393\n",
      "Null deviance: 34252.0194968\n",
      "Residual deviance: 8746.62790752\n",
      "AIC: 2433.53337345\n",
      "\n",
      "ModelMetricsRegressionGLM: glm\n",
      "** Reported on cross-validation data. **\n",
      "\n",
      "MSE: 24.1896965253\n",
      "RMSE: 4.91830219947\n",
      "MAE: 3.32514566624\n",
      "RMSLE: NaN\n",
      "R^2: 0.712565663852\n",
      "Mean Residual Deviance: 24.1896965253\n",
      "Null degrees of freedom: 406\n",
      "Residual degrees of freedom: 393\n",
      "Null deviance: 34524.8323657\n",
      "Residual deviance: 9845.20648581\n",
      "AIC: 2481.68816512\n",
      "Cross-Validation Metrics Summary: \n"
     ]
    },
    {
     "data": {
      "text/html": [
       "<div style=\"overflow:auto\"><table style=\"width:50%\"><tr><td><b></b></td>\n",
       "<td><b>mean</b></td>\n",
       "<td><b>sd</b></td>\n",
       "<td><b>cv_1_valid</b></td>\n",
       "<td><b>cv_2_valid</b></td>\n",
       "<td><b>cv_3_valid</b></td>\n",
       "<td><b>cv_4_valid</b></td>\n",
       "<td><b>cv_5_valid</b></td></tr>\n",
       "<tr><td>mae</td>\n",
       "<td>3.3278604</td>\n",
       "<td>0.1967828</td>\n",
       "<td>3.4553337</td>\n",
       "<td>2.97561</td>\n",
       "<td>3.354668</td>\n",
       "<td>3.0902514</td>\n",
       "<td>3.7634382</td></tr>\n",
       "<tr><td>mean_residual_deviance</td>\n",
       "<td>24.02628</td>\n",
       "<td>3.4479377</td>\n",
       "<td>32.349747</td>\n",
       "<td>21.059847</td>\n",
       "<td>22.988823</td>\n",
       "<td>17.967949</td>\n",
       "<td>25.765028</td></tr>\n",
       "<tr><td>mse</td>\n",
       "<td>24.02628</td>\n",
       "<td>3.4479377</td>\n",
       "<td>32.349747</td>\n",
       "<td>21.059847</td>\n",
       "<td>22.988823</td>\n",
       "<td>17.967949</td>\n",
       "<td>25.765028</td></tr>\n",
       "<tr><td>null_deviance</td>\n",
       "<td>6904.9663</td>\n",
       "<td>776.46246</td>\n",
       "<td>8934.819</td>\n",
       "<td>6446.707</td>\n",
       "<td>6284.555</td>\n",
       "<td>7085.6343</td>\n",
       "<td>5773.1167</td></tr>\n",
       "<tr><td>r2</td>\n",
       "<td>0.7084448</td>\n",
       "<td>0.0427384</td>\n",
       "<td>0.6675274</td>\n",
       "<td>0.7219146</td>\n",
       "<td>0.7641042</td>\n",
       "<td>0.7746946</td>\n",
       "<td>0.6139831</td></tr>\n",
       "<tr><td>residual_deviance</td>\n",
       "<td>1969.0413</td>\n",
       "<td>380.2364</td>\n",
       "<td>2943.827</td>\n",
       "<td>1790.087</td>\n",
       "<td>1471.2847</td>\n",
       "<td>1527.2756</td>\n",
       "<td>2112.7322</td></tr>\n",
       "<tr><td>rmse</td>\n",
       "<td>4.877248</td>\n",
       "<td>0.3454945</td>\n",
       "<td>5.6876836</td>\n",
       "<td>4.589101</td>\n",
       "<td>4.7946663</td>\n",
       "<td>4.2388616</td>\n",
       "<td>5.0759263</td></tr>\n",
       "<tr><td>rmsle</td>\n",
       "<td>0.2389418</td>\n",
       "<td>0.0435073</td>\n",
       "<td>0.2213929</td>\n",
       "<td>0.2430418</td>\n",
       "<td>0.3196328</td>\n",
       "<td>0.1716996</td>\n",
       "<td>NaN</td></tr></table></div>"
      ],
      "text/plain": [
       "                        mean      sd         cv_1_valid    cv_2_valid    cv_3_valid    cv_4_valid    cv_5_valid\n",
       "----------------------  --------  ---------  ------------  ------------  ------------  ------------  ------------\n",
       "mae                     3.32786   0.196783   3.45533       2.97561       3.35467       3.09025       3.76344\n",
       "mean_residual_deviance  24.0263   3.44794    32.3497       21.0598       22.9888       17.9679       25.765\n",
       "mse                     24.0263   3.44794    32.3497       21.0598       22.9888       17.9679       25.765\n",
       "null_deviance           6904.97   776.462    8934.82       6446.71       6284.56       7085.63       5773.12\n",
       "r2                      0.708445  0.0427384  0.667527      0.721915      0.764104      0.774695      0.613983\n",
       "residual_deviance       1969.04   380.236    2943.83       1790.09       1471.28       1527.28       2112.73\n",
       "rmse                    4.87725   0.345494   5.68768       4.5891        4.79467       4.23886       5.07593\n",
       "rmsle                   0.238942  0.0435073  0.221393      0.243042      0.319633      0.1717        nan"
      ]
     },
     "metadata": {},
     "output_type": "display_data"
    },
    {
     "name": "stdout",
     "output_type": "stream",
     "text": [
      "Scoring History: \n"
     ]
    },
    {
     "data": {
      "text/html": [
       "<div style=\"overflow:auto\"><table style=\"width:50%\"><tr><td><b></b></td>\n",
       "<td><b>timestamp</b></td>\n",
       "<td><b>duration</b></td>\n",
       "<td><b>iterations</b></td>\n",
       "<td><b>negative_log_likelihood</b></td>\n",
       "<td><b>objective</b></td></tr>\n",
       "<tr><td></td>\n",
       "<td>2017-11-13 13:25:43</td>\n",
       "<td> 0.000 sec</td>\n",
       "<td>0</td>\n",
       "<td>34252.0193612</td>\n",
       "<td>84.1572957</td></tr></table></div>"
      ],
      "text/plain": [
       "    timestamp            duration    iterations    negative_log_likelihood    objective\n",
       "--  -------------------  ----------  ------------  -------------------------  -----------\n",
       "    2017-11-13 13:25:43  0.000 sec   0             34252                      84.1573"
      ]
     },
     "metadata": {},
     "output_type": "display_data"
    },
    {
     "data": {
      "text/plain": []
     },
     "execution_count": 46,
     "metadata": {},
     "output_type": "execute_result"
    }
   ],
   "source": [
    "glm_model_with_training_and_cv"
   ]
  },
  {
   "cell_type": "code",
   "execution_count": 47,
   "metadata": {
    "collapsed": true
   },
   "outputs": [],
   "source": [
    "#: Building linear regression model (GLM) with training and \n",
    "#  validation data and for that reason we need to split training dataset"
   ]
  },
  {
   "cell_type": "code",
   "execution_count": 48,
   "metadata": {
    "collapsed": true
   },
   "outputs": [],
   "source": [
    "df_house_train, df_house_valid = train_df.split_frame(ratios=[0.9])"
   ]
  },
  {
   "cell_type": "code",
   "execution_count": 49,
   "metadata": {
    "collapsed": true
   },
   "outputs": [],
   "source": [
    "#: understanding the row count into original andsplit object"
   ]
  },
  {
   "cell_type": "code",
   "execution_count": 50,
   "metadata": {},
   "outputs": [
    {
     "name": "stdout",
     "output_type": "stream",
     "text": [
      "(407, 14)\n",
      "(360, 14)\n",
      "(47, 14)\n"
     ]
    }
   ],
   "source": [
    "print(train_df.shape)\n",
    "print(df_house_train.shape)\n",
    "print(df_house_valid.shape)"
   ]
  },
  {
   "cell_type": "code",
   "execution_count": 51,
   "metadata": {
    "collapsed": true
   },
   "outputs": [],
   "source": [
    "#: Building linear regression model (GLM) with training and validation data now"
   ]
  },
  {
   "cell_type": "code",
   "execution_count": 52,
   "metadata": {},
   "outputs": [
    {
     "name": "stdout",
     "output_type": "stream",
     "text": [
      "glm Model Build progress: |███████████████████████████████████████████████| 100%\n"
     ]
    }
   ],
   "source": [
    "glm_model_with_training_and_validtion = H2OGeneralizedLinearEstimator()\n",
    "glm_model_with_training_and_validtion.train(x = features, y = response, \n",
    "                                            training_frame=df_house_train, \n",
    "                                            validation_frame=df_house_valid,\n",
    "                                           model_id = \"glm_model_with_training_and_validtion_python\")"
   ]
  },
  {
   "cell_type": "code",
   "execution_count": 53,
   "metadata": {},
   "outputs": [
    {
     "name": "stdout",
     "output_type": "stream",
     "text": [
      "Model Details\n",
      "=============\n",
      "H2OGeneralizedLinearEstimator :  Generalized Linear Modeling\n",
      "Model Key:  glm_model_with_training_and_validtion_python\n",
      "\n",
      "\n",
      "ModelMetricsRegressionGLM: glm\n",
      "** Reported on train data. **\n",
      "\n",
      "MSE: 22.6019522379\n",
      "RMSE: 4.75415105334\n",
      "MAE: 3.28351898357\n",
      "RMSLE: NaN\n",
      "R^2: 0.740130181146\n",
      "Mean Residual Deviance: 22.6019522379\n",
      "Null degrees of freedom: 359\n",
      "Residual degrees of freedom: 346\n",
      "Null deviance: 31310.6879496\n",
      "Residual deviance: 8136.70280566\n",
      "AIC: 2174.12880642\n",
      "\n",
      "ModelMetricsRegressionGLM: glm\n",
      "** Reported on validation data. **\n",
      "\n",
      "MSE: 13.4457132926\n",
      "RMSE: 3.66683968734\n",
      "MAE: 2.75045922323\n",
      "RMSLE: 0.174745884194\n",
      "R^2: 0.785121184372\n",
      "Mean Residual Deviance: 13.4457132926\n",
      "Null degrees of freedom: 46\n",
      "Residual degrees of freedom: 33\n",
      "Null deviance: 2941.38095168\n",
      "Residual deviance: 631.948524754\n",
      "AIC: 285.517258146\n",
      "Scoring History: \n"
     ]
    },
    {
     "data": {
      "text/html": [
       "<div style=\"overflow:auto\"><table style=\"width:50%\"><tr><td><b></b></td>\n",
       "<td><b>timestamp</b></td>\n",
       "<td><b>duration</b></td>\n",
       "<td><b>iterations</b></td>\n",
       "<td><b>negative_log_likelihood</b></td>\n",
       "<td><b>objective</b></td></tr>\n",
       "<tr><td></td>\n",
       "<td>2017-11-13 13:25:45</td>\n",
       "<td> 0.000 sec</td>\n",
       "<td>0</td>\n",
       "<td>31310.6877500</td>\n",
       "<td>86.9741326</td></tr></table></div>"
      ],
      "text/plain": [
       "    timestamp            duration    iterations    negative_log_likelihood    objective\n",
       "--  -------------------  ----------  ------------  -------------------------  -----------\n",
       "    2017-11-13 13:25:45  0.000 sec   0             31310.7                    86.9741"
      ]
     },
     "metadata": {},
     "output_type": "display_data"
    },
    {
     "data": {
      "text/plain": []
     },
     "execution_count": 53,
     "metadata": {},
     "output_type": "execute_result"
    }
   ],
   "source": [
    "glm_model_with_training_and_validtion"
   ]
  },
  {
   "cell_type": "code",
   "execution_count": 54,
   "metadata": {
    "collapsed": true
   },
   "outputs": [],
   "source": [
    "#: Performing predictions with one of the above model"
   ]
  },
  {
   "cell_type": "code",
   "execution_count": 55,
   "metadata": {},
   "outputs": [
    {
     "name": "stdout",
     "output_type": "stream",
     "text": [
      "glm prediction progress: |████████████████████████████████████████████████| 100%\n"
     ]
    }
   ],
   "source": [
    "glm_predictions = glm_model_with_training_and_validtion.predict(test_df)"
   ]
  },
  {
   "cell_type": "code",
   "execution_count": 56,
   "metadata": {},
   "outputs": [
    {
     "data": {
      "text/html": [
       "<table>\n",
       "<thead>\n",
       "<tr><th style=\"text-align: right;\">  predict</th></tr>\n",
       "</thead>\n",
       "<tbody>\n",
       "<tr><td style=\"text-align: right;\">  30.2041</td></tr>\n",
       "<tr><td style=\"text-align: right;\">  25.8809</td></tr>\n",
       "<tr><td style=\"text-align: right;\">  16.3724</td></tr>\n",
       "<tr><td style=\"text-align: right;\">  14.3409</td></tr>\n",
       "<tr><td style=\"text-align: right;\">  11.8526</td></tr>\n",
       "<tr><td style=\"text-align: right;\">  14.8081</td></tr>\n",
       "<tr><td style=\"text-align: right;\">  23.1262</td></tr>\n",
       "<tr><td style=\"text-align: right;\">  22.7758</td></tr>\n",
       "<tr><td style=\"text-align: right;\">  30.9504</td></tr>\n",
       "<tr><td style=\"text-align: right;\">  21.0986</td></tr>\n",
       "</tbody>\n",
       "</table>"
      ]
     },
     "metadata": {},
     "output_type": "display_data"
    },
    {
     "data": {
      "text/plain": []
     },
     "execution_count": 56,
     "metadata": {},
     "output_type": "execute_result"
    }
   ],
   "source": [
    "glm_predictions"
   ]
  },
  {
   "cell_type": "code",
   "execution_count": 57,
   "metadata": {
    "collapsed": true
   },
   "outputs": [],
   "source": [
    "#: Understanding/Validating predictions based on prediction results historgram"
   ]
  },
  {
   "cell_type": "code",
   "execution_count": 58,
   "metadata": {},
   "outputs": [
    {
     "data": {
      "text/plain": [
       "h2o.frame.H2OFrame"
      ]
     },
     "execution_count": 58,
     "metadata": {},
     "output_type": "execute_result"
    }
   ],
   "source": [
    "type(glm_predictions)"
   ]
  },
  {
   "cell_type": "code",
   "execution_count": 59,
   "metadata": {},
   "outputs": [
    {
     "data": {
      "image/png": "[encoded data removed]",
      "text/plain": [
       "<matplotlib.figure.Figure at 0x113197ed0>"
      ]
     },
     "metadata": {},
     "output_type": "display_data"
    }
   ],
   "source": [
    "glm_predictions.hist()"
   ]
  },
  {
   "cell_type": "code",
   "execution_count": 60,
   "metadata": {
    "collapsed": true
   },
   "outputs": [],
   "source": [
    "#: Understanding/Validating predictions based on prediction results historgram"
   ]
  },
  {
   "cell_type": "code",
   "execution_count": 61,
   "metadata": {},
   "outputs": [
    {
     "data": {
      "image/png": "[encoded data removed]",
      "text/plain": [
       "<matplotlib.figure.Figure at 0x11326d690>"
      ]
     },
     "metadata": {},
     "output_type": "display_data"
    }
   ],
   "source": [
    "test_df['medv'].hist()"
   ]
  },
  {
   "cell_type": "code",
   "execution_count": 62,
   "metadata": {
    "collapsed": true
   },
   "outputs": [],
   "source": [
    "#: Here we can select the best model based on accuracy among all of above models we have created"
   ]
  },
  {
   "cell_type": "code",
   "execution_count": 63,
   "metadata": {},
   "outputs": [
    {
     "name": "stdout",
     "output_type": "stream",
     "text": [
      "\n",
      "ModelMetricsRegressionGLM: glm\n",
      "** Reported on train data. **\n",
      "\n",
      "MSE: 21.4904862593\n",
      "RMSE: 4.63578324119\n",
      "MAE: 3.17657880157\n",
      "RMSLE: NaN\n",
      "R^2: 0.744639059652\n",
      "Mean Residual Deviance: 21.4904862593\n",
      "Null degrees of freedom: 406\n",
      "Residual degrees of freedom: 393\n",
      "Null deviance: 34252.0194968\n",
      "Residual deviance: 8746.62790752\n",
      "AIC: 2433.53337345\n"
     ]
    },
    {
     "data": {
      "text/plain": []
     },
     "execution_count": 63,
     "metadata": {},
     "output_type": "execute_result"
    }
   ],
   "source": [
    "glm_model_with_training_and_cv.model_performance(train=True)"
   ]
  },
  {
   "cell_type": "code",
   "execution_count": 64,
   "metadata": {
    "collapsed": true
   },
   "outputs": [],
   "source": [
    "#: Here we can select the best model based on accuracy among all of above models we have created \n",
    "#: R^2 Error"
   ]
  },
  {
   "cell_type": "code",
   "execution_count": 65,
   "metadata": {},
   "outputs": [
    {
     "data": {
      "text/plain": [
       "0.7446390596522644"
      ]
     },
     "execution_count": 65,
     "metadata": {},
     "output_type": "execute_result"
    }
   ],
   "source": [
    "glm_model_with_training_and_cv.model_performance(train=True).r2()"
   ]
  },
  {
   "cell_type": "code",
   "execution_count": 66,
   "metadata": {
    "collapsed": true
   },
   "outputs": [],
   "source": [
    "#: RMSE (Root Mean Square) Error"
   ]
  },
  {
   "cell_type": "code",
   "execution_count": 67,
   "metadata": {},
   "outputs": [
    {
     "name": "stdout",
     "output_type": "stream",
     "text": [
      "4.63578324119\n",
      "4.91830219947\n"
     ]
    }
   ],
   "source": [
    "print(glm_model_with_training_and_cv.model_performance(train=True).rmse())\n",
    "print(glm_model_with_training_and_cv.model_performance(xval=True).rmse())"
   ]
  },
  {
   "cell_type": "code",
   "execution_count": 68,
   "metadata": {
    "collapsed": true
   },
   "outputs": [],
   "source": [
    "#: R^2 (R^2) Error"
   ]
  },
  {
   "cell_type": "code",
   "execution_count": 69,
   "metadata": {},
   "outputs": [
    {
     "name": "stdout",
     "output_type": "stream",
     "text": [
      "0.740130181146\n",
      "0.785121184372\n"
     ]
    }
   ],
   "source": [
    "print(glm_model_with_training_and_validtion.model_performance(train=True).r2())\n",
    "print(glm_model_with_training_and_validtion.model_performance(valid=True).r2())"
   ]
  },
  {
   "cell_type": "code",
   "execution_count": 70,
   "metadata": {
    "collapsed": true
   },
   "outputs": [],
   "source": [
    "#: Getting model ID from an H2O Model"
   ]
  },
  {
   "cell_type": "code",
   "execution_count": 71,
   "metadata": {},
   "outputs": [
    {
     "name": "stdout",
     "output_type": "stream",
     "text": [
      "GLM_model_python_1510608322538_2\n",
      "glm_model_with_training_and_validtion_python\n"
     ]
    }
   ],
   "source": [
    "print(glm_model_with_training_and_cv.model_id)\n",
    "print(glm_model_with_training_and_validtion.model_id)"
   ]
  },
  {
   "cell_type": "code",
   "execution_count": 72,
   "metadata": {
    "collapsed": true
   },
   "outputs": [],
   "source": [
    "#: Because we have built the GLM mode, getting coefficients from the model"
   ]
  },
  {
   "cell_type": "code",
   "execution_count": 73,
   "metadata": {},
   "outputs": [
    {
     "data": {
      "text/plain": [
       "{u'Intercept': 31.528774231266553,\n",
       " u'age': 0.005107208303136503,\n",
       " u'b': 0.008718851592563063,\n",
       " u'chas': 3.3815813840582285,\n",
       " u'crim': -0.06513622027532852,\n",
       " u'dis': -1.289191443293416,\n",
       " u'indus': 0.030629518793200836,\n",
       " u'lstat': -0.5401944413590716,\n",
       " u'nox': -16.378772176815218,\n",
       " u'ptratio': -0.9065228645475741,\n",
       " u'rad': 0.22532820259966216,\n",
       " u'rm': 4.200463242668189,\n",
       " u'tax': -0.009918674651036737,\n",
       " u'zn': 0.029656025318839863}"
      ]
     },
     "execution_count": 73,
     "metadata": {},
     "output_type": "execute_result"
    }
   ],
   "source": [
    "## Coefiecients\n",
    "glm_model_with_training_and_cv.coef()"
   ]
  },
  {
   "cell_type": "code",
   "execution_count": 74,
   "metadata": {
    "collapsed": true
   },
   "outputs": [],
   "source": [
    "#: Because we have built the GLM mode, getting coefficients from the model"
   ]
  },
  {
   "cell_type": "code",
   "execution_count": 75,
   "metadata": {},
   "outputs": [
    {
     "data": {
      "text/plain": [
       "{u'Intercept': 22.624815724815765,\n",
       " u'age': 0.14207183308078042,\n",
       " u'b': 0.8210996362248626,\n",
       " u'chas': 0.8569554463085014,\n",
       " u'crim': -0.5177020024096166,\n",
       " u'dis': -2.598031332587627,\n",
       " u'indus': 0.20872431344108822,\n",
       " u'lstat': -3.8346757956332094,\n",
       " u'nox': -1.8926874909617486,\n",
       " u'ptratio': -1.9596915990302253,\n",
       " u'rad': 1.9793740059720644,\n",
       " u'rm': 2.9020888093871466,\n",
       " u'tax': -1.6906124036113404,\n",
       " u'zn': 0.6601366722339048}"
      ]
     },
     "execution_count": 75,
     "metadata": {},
     "output_type": "execute_result"
    }
   ],
   "source": [
    "# Normalized Coefiecients ? \n",
    "# multinomial? Shoule be used for logistics regression? \n",
    "glm_model_with_training_and_cv.coef_norm()"
   ]
  },
  {
   "cell_type": "code",
   "execution_count": 76,
   "metadata": {
    "collapsed": true
   },
   "outputs": [],
   "source": [
    "#: Getting cross validation prediction details from the model with cross-validation \n",
    "#: (If cross validation prediction save is not set to TRUE, you will get error message)"
   ]
  },
  {
   "cell_type": "code",
   "execution_count": 77,
   "metadata": {},
   "outputs": [
    {
     "name": "stdout",
     "output_type": "stream",
     "text": [
      "Cross-Validation Metrics Summary: \n"
     ]
    },
    {
     "data": {
      "text/html": [
       "<div style=\"overflow:auto\"><table style=\"width:50%\"><tr><td><b></b></td>\n",
       "<td><b>mean</b></td>\n",
       "<td><b>sd</b></td>\n",
       "<td><b>cv_1_valid</b></td>\n",
       "<td><b>cv_2_valid</b></td>\n",
       "<td><b>cv_3_valid</b></td>\n",
       "<td><b>cv_4_valid</b></td>\n",
       "<td><b>cv_5_valid</b></td></tr>\n",
       "<tr><td>mae</td>\n",
       "<td>3.3278604</td>\n",
       "<td>0.1967828</td>\n",
       "<td>3.4553337</td>\n",
       "<td>2.97561</td>\n",
       "<td>3.354668</td>\n",
       "<td>3.0902514</td>\n",
       "<td>3.7634382</td></tr>\n",
       "<tr><td>mean_residual_deviance</td>\n",
       "<td>24.02628</td>\n",
       "<td>3.4479377</td>\n",
       "<td>32.349747</td>\n",
       "<td>21.059847</td>\n",
       "<td>22.988823</td>\n",
       "<td>17.967949</td>\n",
       "<td>25.765028</td></tr>\n",
       "<tr><td>mse</td>\n",
       "<td>24.02628</td>\n",
       "<td>3.4479377</td>\n",
       "<td>32.349747</td>\n",
       "<td>21.059847</td>\n",
       "<td>22.988823</td>\n",
       "<td>17.967949</td>\n",
       "<td>25.765028</td></tr>\n",
       "<tr><td>null_deviance</td>\n",
       "<td>6904.9663</td>\n",
       "<td>776.46246</td>\n",
       "<td>8934.819</td>\n",
       "<td>6446.707</td>\n",
       "<td>6284.555</td>\n",
       "<td>7085.6343</td>\n",
       "<td>5773.1167</td></tr>\n",
       "<tr><td>r2</td>\n",
       "<td>0.7084448</td>\n",
       "<td>0.0427384</td>\n",
       "<td>0.6675274</td>\n",
       "<td>0.7219146</td>\n",
       "<td>0.7641042</td>\n",
       "<td>0.7746946</td>\n",
       "<td>0.6139831</td></tr>\n",
       "<tr><td>residual_deviance</td>\n",
       "<td>1969.0413</td>\n",
       "<td>380.2364</td>\n",
       "<td>2943.827</td>\n",
       "<td>1790.087</td>\n",
       "<td>1471.2847</td>\n",
       "<td>1527.2756</td>\n",
       "<td>2112.7322</td></tr>\n",
       "<tr><td>rmse</td>\n",
       "<td>4.877248</td>\n",
       "<td>0.3454945</td>\n",
       "<td>5.6876836</td>\n",
       "<td>4.589101</td>\n",
       "<td>4.7946663</td>\n",
       "<td>4.2388616</td>\n",
       "<td>5.0759263</td></tr>\n",
       "<tr><td>rmsle</td>\n",
       "<td>0.2389418</td>\n",
       "<td>0.0435073</td>\n",
       "<td>0.2213929</td>\n",
       "<td>0.2430418</td>\n",
       "<td>0.3196328</td>\n",
       "<td>0.1716996</td>\n",
       "<td>NaN</td></tr></table></div>"
      ],
      "text/plain": [
       "                        mean      sd         cv_1_valid    cv_2_valid    cv_3_valid    cv_4_valid    cv_5_valid\n",
       "----------------------  --------  ---------  ------------  ------------  ------------  ------------  ------------\n",
       "mae                     3.32786   0.196783   3.45533       2.97561       3.35467       3.09025       3.76344\n",
       "mean_residual_deviance  24.0263   3.44794    32.3497       21.0598       22.9888       17.9679       25.765\n",
       "mse                     24.0263   3.44794    32.3497       21.0598       22.9888       17.9679       25.765\n",
       "null_deviance           6904.97   776.462    8934.82       6446.71       6284.56       7085.63       5773.12\n",
       "r2                      0.708445  0.0427384  0.667527      0.721915      0.764104      0.774695      0.613983\n",
       "residual_deviance       1969.04   380.236    2943.83       1790.09       1471.28       1527.28       2112.73\n",
       "rmse                    4.87725   0.345494   5.68768       4.5891        4.79467       4.23886       5.07593\n",
       "rmsle                   0.238942  0.0435073  0.221393      0.243042      0.319633      0.1717        nan"
      ]
     },
     "metadata": {},
     "output_type": "display_data"
    },
    {
     "data": {
      "text/plain": []
     },
     "execution_count": 77,
     "metadata": {},
     "output_type": "execute_result"
    }
   ],
   "source": [
    "glm_model_with_training_and_cv.cross_validation_metrics_summary()"
   ]
  },
  {
   "cell_type": "code",
   "execution_count": 78,
   "metadata": {
    "collapsed": true
   },
   "outputs": [],
   "source": [
    "#: Getting variable importance from a GLM mode (It will plot the coefficient table)"
   ]
  },
  {
   "cell_type": "code",
   "execution_count": 79,
   "metadata": {},
   "outputs": [
    {
     "name": "stdout",
     "output_type": "stream",
     "text": [
      "Warning: This model doesn't have variable importances\n"
     ]
    }
   ],
   "source": [
    "glm_model_with_training_and_validtion.varimp()"
   ]
  },
  {
   "cell_type": "code",
   "execution_count": 80,
   "metadata": {
    "collapsed": true
   },
   "outputs": [],
   "source": [
    "#: Getting variable importance PLOT for GLM (Error)"
   ]
  },
  {
   "cell_type": "code",
   "execution_count": 81,
   "metadata": {},
   "outputs": [
    {
     "ename": "AttributeError",
     "evalue": "type object 'H2OGeneralizedLinearEstimator' has no attribute 'variable_importancesvarimp_plot'",
     "output_type": "error",
     "traceback": [
      "\u001b[0;31m---------------------------------------------------------------------------\u001b[0m",
      "\u001b[0;31mAttributeError\u001b[0m                            Traceback (most recent call last)",
      "\u001b[0;32m<ipython-input-81-286b75f14a38>\u001b[0m in \u001b[0;36m<module>\u001b[0;34m()\u001b[0m\n\u001b[1;32m      1\u001b[0m \u001b[0;31m# - Positive ?\u001b[0m\u001b[0;34m\u001b[0m\u001b[0;34m\u001b[0m\u001b[0m\n\u001b[1;32m      2\u001b[0m \u001b[0;31m# - Negative ?\u001b[0m\u001b[0;34m\u001b[0m\u001b[0;34m\u001b[0m\u001b[0m\n\u001b[0;32m----> 3\u001b[0;31m \u001b[0mglm_model_with_training_and_validtion\u001b[0m\u001b[0;34m.\u001b[0m\u001b[0mvariable_importancesvarimp_plot\u001b[0m\u001b[0;34m(\u001b[0m\u001b[0;34m)\u001b[0m\u001b[0;34m\u001b[0m\u001b[0m\n\u001b[0m",
      "\u001b[0;32m/Users/avkashchauhan/anaconda3/envs/python27/lib/python2.7/site-packages/h2o/utils/backward_compatibility.pyc\u001b[0m in \u001b[0;36m__getattr__\u001b[0;34m(self, item)\u001b[0m\n\u001b[1;32m     72\u001b[0m             \u001b[0;32mreturn\u001b[0m \u001b[0mself\u001b[0m\u001b[0;34m.\u001b[0m\u001b[0m_bcin\u001b[0m\u001b[0;34m[\u001b[0m\u001b[0mitem\u001b[0m\u001b[0;34m]\u001b[0m\u001b[0;34m\u001b[0m\u001b[0m\n\u001b[1;32m     73\u001b[0m         \u001b[0;31m# Make sure that we look up any names not found on the instance also in the class\u001b[0m\u001b[0;34m\u001b[0m\u001b[0;34m\u001b[0m\u001b[0m\n\u001b[0;32m---> 74\u001b[0;31m         \u001b[0;32mreturn\u001b[0m \u001b[0mgetattr\u001b[0m\u001b[0;34m(\u001b[0m\u001b[0mself\u001b[0m\u001b[0;34m.\u001b[0m\u001b[0m__class__\u001b[0m\u001b[0;34m,\u001b[0m \u001b[0mitem\u001b[0m\u001b[0;34m)\u001b[0m\u001b[0;34m\u001b[0m\u001b[0m\n\u001b[0m\u001b[1;32m     75\u001b[0m \u001b[0;34m\u001b[0m\u001b[0m\n\u001b[1;32m     76\u001b[0m \u001b[0;34m\u001b[0m\u001b[0m\n",
      "\u001b[0;32m/Users/avkashchauhan/anaconda3/envs/python27/lib/python2.7/site-packages/h2o/utils/backward_compatibility.pyc\u001b[0m in \u001b[0;36m__getattribute__\u001b[0;34m(cls, name)\u001b[0m\n\u001b[1;32m     47\u001b[0m                 \u001b[0;31m# print(\"Warning: Method %s in class %s is deprecated.\" % (name, cls.__name__))\u001b[0m\u001b[0;34m\u001b[0m\u001b[0;34m\u001b[0m\u001b[0m\n\u001b[1;32m     48\u001b[0m                 \u001b[0;32mreturn\u001b[0m \u001b[0mbc\u001b[0m\u001b[0;34m[\u001b[0m\u001b[0;34m\"sm\"\u001b[0m\u001b[0;34m]\u001b[0m\u001b[0;34m[\u001b[0m\u001b[0mname\u001b[0m\u001b[0;34m]\u001b[0m\u001b[0;34m\u001b[0m\u001b[0m\n\u001b[0;32m---> 49\u001b[0;31m         \u001b[0;32mreturn\u001b[0m \u001b[0mtype\u001b[0m\u001b[0;34m.\u001b[0m\u001b[0m__getattribute__\u001b[0m\u001b[0;34m(\u001b[0m\u001b[0mcls\u001b[0m\u001b[0;34m,\u001b[0m \u001b[0mname\u001b[0m\u001b[0;34m)\u001b[0m\u001b[0;34m\u001b[0m\u001b[0m\n\u001b[0m\u001b[1;32m     50\u001b[0m \u001b[0;34m\u001b[0m\u001b[0m\n\u001b[1;32m     51\u001b[0m     \u001b[0;32mdef\u001b[0m \u001b[0m__setattr__\u001b[0m\u001b[0;34m(\u001b[0m\u001b[0mcls\u001b[0m\u001b[0;34m,\u001b[0m \u001b[0mname\u001b[0m\u001b[0;34m,\u001b[0m \u001b[0mvalue\u001b[0m\u001b[0;34m)\u001b[0m\u001b[0;34m:\u001b[0m\u001b[0;34m\u001b[0m\u001b[0m\n",
      "\u001b[0;31mAttributeError\u001b[0m: type object 'H2OGeneralizedLinearEstimator' has no attribute 'variable_importancesvarimp_plot'"
     ]
    }
   ],
   "source": [
    "# - Positive ?\n",
    "# - Negative ?\n",
    "glm_model_with_training_and_validtion.variable_importancesvarimp_plot()"
   ]
  },
  {
   "cell_type": "code",
   "execution_count": 82,
   "metadata": {
    "collapsed": true
   },
   "outputs": [],
   "source": [
    "#: Building a GLM model with cross validation and saving cross validation predictions"
   ]
  },
  {
   "cell_type": "code",
   "execution_count": 83,
   "metadata": {},
   "outputs": [
    {
     "name": "stdout",
     "output_type": "stream",
     "text": [
      "glm Model Build progress: |███████████████████████████████████████████████| 100%\n"
     ]
    }
   ],
   "source": [
    "glm_model_with_training_and_cv = H2OGeneralizedLinearEstimator(keep_cross_validation_predictions = True, nfolds=5)\n",
    "glm_model_with_training_and_cv.train(x = features, y = response, training_frame= train_df)"
   ]
  },
  {
   "cell_type": "code",
   "execution_count": 84,
   "metadata": {
    "collapsed": true
   },
   "outputs": [],
   "source": [
    "#: Looking at cross validation predictions for all CV models"
   ]
  },
  {
   "cell_type": "code",
   "execution_count": 85,
   "metadata": {},
   "outputs": [
    {
     "data": {
      "text/plain": [
       "5"
      ]
     },
     "execution_count": 85,
     "metadata": {},
     "output_type": "execute_result"
    }
   ],
   "source": [
    "len(glm_model_with_training_and_cv.cross_validation_predictions())"
   ]
  },
  {
   "cell_type": "code",
   "execution_count": 86,
   "metadata": {},
   "outputs": [
    {
     "data": {
      "text/html": [
       "<table>\n",
       "<thead>\n",
       "<tr><th style=\"text-align: right;\">  predict</th></tr>\n",
       "</thead>\n",
       "<tbody>\n",
       "<tr><td style=\"text-align: right;\">  25.9432</td></tr>\n",
       "<tr><td style=\"text-align: right;\">   0     </td></tr>\n",
       "<tr><td style=\"text-align: right;\">   0     </td></tr>\n",
       "<tr><td style=\"text-align: right;\">  28.7104</td></tr>\n",
       "<tr><td style=\"text-align: right;\">   0     </td></tr>\n",
       "<tr><td style=\"text-align: right;\">   0     </td></tr>\n",
       "<tr><td style=\"text-align: right;\">   0     </td></tr>\n",
       "<tr><td style=\"text-align: right;\">   0     </td></tr>\n",
       "<tr><td style=\"text-align: right;\">  19.7854</td></tr>\n",
       "<tr><td style=\"text-align: right;\">   0     </td></tr>\n",
       "</tbody>\n",
       "</table>"
      ]
     },
     "metadata": {},
     "output_type": "display_data"
    },
    {
     "data": {
      "text/plain": []
     },
     "execution_count": 86,
     "metadata": {},
     "output_type": "execute_result"
    }
   ],
   "source": [
    "glm_model_with_training_and_cv.cross_validation_predictions()[0]\n",
    "glm_model_with_training_and_cv.cross_validation_predictions()[1]"
   ]
  },
  {
   "cell_type": "code",
   "execution_count": 87,
   "metadata": {
    "collapsed": true
   },
   "outputs": [],
   "source": [
    "#: Accessing H2O Model details from JSON"
   ]
  },
  {
   "cell_type": "code",
   "execution_count": 88,
   "metadata": {},
   "outputs": [
    {
     "name": "stdout",
     "output_type": "stream",
     "text": [
      "Coefficients: glm coefficients\n",
      "\n"
     ]
    },
    {
     "data": {
      "text/html": [
       "<div style=\"overflow:auto\"><table style=\"width:50%\"><tr><td><b>names</b></td>\n",
       "<td><b>coefficients</b></td>\n",
       "<td><b>standardized_coefficients</b></td></tr>\n",
       "<tr><td>Intercept</td>\n",
       "<td>34.1756448</td>\n",
       "<td>22.6358333</td></tr>\n",
       "<tr><td>crim</td>\n",
       "<td>-0.0776533</td>\n",
       "<td>-0.6431659</td></tr>\n",
       "<tr><td>zn</td>\n",
       "<td>0.0372262</td>\n",
       "<td>0.8327128</td></tr>\n",
       "<tr><td>indus</td>\n",
       "<td>0.0246784</td>\n",
       "<td>0.1677198</td></tr>\n",
       "<tr><td>chas</td>\n",
       "<td>3.0631472</td>\n",
       "<td>0.8079294</td></tr>\n",
       "<tr><td>nox</td>\n",
       "<td>-19.5370912</td>\n",
       "<td>-2.2726183</td></tr>\n",
       "<tr><td>rm</td>\n",
       "<td>4.0019148</td>\n",
       "<td>2.7806073</td></tr>\n",
       "<tr><td>age</td>\n",
       "<td>0.0122496</td>\n",
       "<td>0.3394261</td></tr>\n",
       "<tr><td>dis</td>\n",
       "<td>-1.4033012</td>\n",
       "<td>-2.8524106</td></tr>\n",
       "<tr><td>rad</td>\n",
       "<td>0.2560373</td>\n",
       "<td>2.2732963</td></tr>\n",
       "<tr><td>tax</td>\n",
       "<td>-0.0106619</td>\n",
       "<td>-1.8333956</td></tr>\n",
       "<tr><td>ptratio</td>\n",
       "<td>-0.8625054</td>\n",
       "<td>-1.8722114</td></tr>\n",
       "<tr><td>b</td>\n",
       "<td>0.0083810</td>\n",
       "<td>0.8224249</td></tr>\n",
       "<tr><td>lstat</td>\n",
       "<td>-0.5600685</td>\n",
       "<td>-3.9971237</td></tr></table></div>"
      ],
      "text/plain": [
       "names      coefficients    standardized_coefficients\n",
       "---------  --------------  ---------------------------\n",
       "Intercept  34.1756         22.6358\n",
       "crim       -0.0776533      -0.643166\n",
       "zn         0.0372262       0.832713\n",
       "indus      0.0246784       0.16772\n",
       "chas       3.06315         0.807929\n",
       "nox        -19.5371        -2.27262\n",
       "rm         4.00191         2.78061\n",
       "age        0.0122496       0.339426\n",
       "dis        -1.4033         -2.85241\n",
       "rad        0.256037        2.2733\n",
       "tax        -0.0106619      -1.8334\n",
       "ptratio    -0.862505       -1.87221\n",
       "b          0.00838103      0.822425\n",
       "lstat      -0.560068       -3.99712"
      ]
     },
     "metadata": {},
     "output_type": "display_data"
    },
    {
     "name": "stdout",
     "output_type": "stream",
     "text": [
      "GLM Model: summary\n",
      "\n"
     ]
    },
    {
     "data": {
      "text/html": [
       "<div style=\"overflow:auto\"><table style=\"width:50%\"><tr><td><b></b></td>\n",
       "<td><b>family</b></td>\n",
       "<td><b>link</b></td>\n",
       "<td><b>regularization</b></td>\n",
       "<td><b>number_of_predictors_total</b></td>\n",
       "<td><b>number_of_active_predictors</b></td>\n",
       "<td><b>number_of_iterations</b></td>\n",
       "<td><b>training_frame</b></td></tr>\n",
       "<tr><td></td>\n",
       "<td>gaussian</td>\n",
       "<td>identity</td>\n",
       "<td>Elastic Net (alpha = 0.5, lambda = 0.01383 )</td>\n",
       "<td>13</td>\n",
       "<td>13</td>\n",
       "<td>1</td>\n",
       "<td>py_17_sid_9612</td></tr></table></div>"
      ],
      "text/plain": [
       "    family    link      regularization                                number_of_predictors_total    number_of_active_predictors    number_of_iterations    training_frame\n",
       "--  --------  --------  --------------------------------------------  ----------------------------  -----------------------------  ----------------------  ----------------\n",
       "    gaussian  identity  Elastic Net (alpha = 0.5, lambda = 0.01383 )  13                            13                             1                       py_17_sid_9612"
      ]
     },
     "metadata": {},
     "output_type": "display_data"
    },
    {
     "name": "stdout",
     "output_type": "stream",
     "text": [
      "Scoring History: \n"
     ]
    },
    {
     "data": {
      "text/html": [
       "<div style=\"overflow:auto\"><table style=\"width:50%\"><tr><td><b></b></td>\n",
       "<td><b>timestamp</b></td>\n",
       "<td><b>duration</b></td>\n",
       "<td><b>iterations</b></td>\n",
       "<td><b>negative_log_likelihood</b></td>\n",
       "<td><b>objective</b></td></tr>\n",
       "<tr><td></td>\n",
       "<td>2017-11-13 13:25:45</td>\n",
       "<td> 0.000 sec</td>\n",
       "<td>0</td>\n",
       "<td>31310.6877500</td>\n",
       "<td>86.9741326</td></tr></table></div>"
      ],
      "text/plain": [
       "    timestamp            duration    iterations    negative_log_likelihood    objective\n",
       "--  -------------------  ----------  ------------  -------------------------  -----------\n",
       "    2017-11-13 13:25:45  0.000 sec   0             31310.7                    86.9741"
      ]
     },
     "metadata": {},
     "output_type": "display_data"
    },
    {
     "name": "stdout",
     "output_type": "stream",
     "text": [
      "Standardized Coefficient Magnitudes: standardized coefficient magnitudes\n",
      "\n"
     ]
    },
    {
     "data": {
      "text/html": [
       "<div style=\"overflow:auto\"><table style=\"width:50%\"><tr><td><b>names</b></td>\n",
       "<td><b>coefficients</b></td>\n",
       "<td><b>sign</b></td></tr>\n",
       "<tr><td>lstat</td>\n",
       "<td>3.9971237</td>\n",
       "<td>NEG</td></tr>\n",
       "<tr><td>dis</td>\n",
       "<td>2.8524106</td>\n",
       "<td>NEG</td></tr>\n",
       "<tr><td>rm</td>\n",
       "<td>2.7806073</td>\n",
       "<td>POS</td></tr>\n",
       "<tr><td>rad</td>\n",
       "<td>2.2732963</td>\n",
       "<td>POS</td></tr>\n",
       "<tr><td>nox</td>\n",
       "<td>2.2726183</td>\n",
       "<td>NEG</td></tr>\n",
       "<tr><td>ptratio</td>\n",
       "<td>1.8722114</td>\n",
       "<td>NEG</td></tr>\n",
       "<tr><td>tax</td>\n",
       "<td>1.8333956</td>\n",
       "<td>NEG</td></tr>\n",
       "<tr><td>zn</td>\n",
       "<td>0.8327128</td>\n",
       "<td>POS</td></tr>\n",
       "<tr><td>b</td>\n",
       "<td>0.8224249</td>\n",
       "<td>POS</td></tr>\n",
       "<tr><td>chas</td>\n",
       "<td>0.8079294</td>\n",
       "<td>POS</td></tr>\n",
       "<tr><td>crim</td>\n",
       "<td>0.6431659</td>\n",
       "<td>NEG</td></tr>\n",
       "<tr><td>age</td>\n",
       "<td>0.3394261</td>\n",
       "<td>POS</td></tr>\n",
       "<tr><td>indus</td>\n",
       "<td>0.1677198</td>\n",
       "<td>POS</td></tr>\n",
       "<tr><td></td>\n",
       "<td></td>\n",
       "<td>None</td></tr></table></div>"
      ],
      "text/plain": [
       "names    coefficients    sign\n",
       "-------  --------------  ------\n",
       "lstat    3.99712368804   NEG\n",
       "dis      2.85241063234   NEG\n",
       "rm       2.78060730618   POS\n",
       "rad      2.27329634897   POS\n",
       "nox      2.27261834712   NEG\n",
       "ptratio  1.87221135631   NEG\n",
       "tax      1.83339564917   NEG\n",
       "zn       0.832712790527  POS\n",
       "b        0.822424887482  POS\n",
       "chas     0.807929367269  POS\n",
       "crim     0.643165887027  NEG\n",
       "age      0.339426054942  POS\n",
       "indus    0.16771983973   POS"
      ]
     },
     "metadata": {},
     "output_type": "display_data"
    },
    {
     "name": "stdout",
     "output_type": "stream",
     "text": [
      "\n",
      "ModelMetricsRegressionGLM: glm\n",
      "** Reported on train data. **\n",
      "\n",
      "MSE: 22.6019522379\n",
      "RMSE: 4.75415105334\n",
      "MAE: 3.28351898357\n",
      "RMSLE: NaN\n",
      "R^2: 0.740130181146\n",
      "Mean Residual Deviance: 22.6019522379\n",
      "Null degrees of freedom: 359\n",
      "Residual degrees of freedom: 346\n",
      "Null deviance: 31310.6879496\n",
      "Residual deviance: 8136.70280566\n",
      "AIC: 2174.12880642\n",
      "\n",
      "ModelMetricsRegressionGLM: glm\n",
      "** Reported on validation data. **\n",
      "\n",
      "MSE: 13.4457132926\n",
      "RMSE: 3.66683968734\n",
      "MAE: 2.75045922323\n",
      "RMSLE: 0.174745884194\n",
      "R^2: 0.785121184372\n",
      "Mean Residual Deviance: 13.4457132926\n",
      "Null degrees of freedom: 46\n",
      "Residual degrees of freedom: 33\n",
      "Null deviance: 2941.38095168\n",
      "Residual deviance: 631.948524754\n",
      "AIC: 285.517258146\n"
     ]
    },
    {
     "data": {
      "text/plain": [
       "{u'__meta': {u'schema_name': u'GLMModelV3',\n",
       "  u'schema_type': u'GLMModel',\n",
       "  u'schema_version': 3},\n",
       " u'algo': u'glm',\n",
       " u'algo_full_name': u'Generalized Linear Modeling',\n",
       " u'compatible_frames': None,\n",
       " u'data_frame': {u'URL': u'/3/Frames/py_17_sid_9612',\n",
       "  u'__meta': {u'schema_name': u'FrameKeyV3',\n",
       "   u'schema_type': u'Key<Frame>',\n",
       "   u'schema_version': 3},\n",
       "  u'name': u'py_17_sid_9612',\n",
       "  u'type': u'Key<Frame>'},\n",
       " u'model_id': {u'URL': u'/3/Models/glm_model_with_training_and_validtion_python',\n",
       "  u'__meta': {u'schema_name': u'ModelKeyV3',\n",
       "   u'schema_type': u'Key<Model>',\n",
       "   u'schema_version': 3},\n",
       "  u'name': u'glm_model_with_training_and_validtion_python',\n",
       "  u'type': u'Key<Model>'},\n",
       " u'output': {u'__meta': {u'schema_name': u'GLMModelOutputV3',\n",
       "   u'schema_type': u'GLMOutput',\n",
       "   u'schema_version': 3},\n",
       "  u'coefficients_table': ,\n",
       "  u'cross_validation_fold_assignment_frame_id': None,\n",
       "  u'cross_validation_holdout_predictions_frame_id': None,\n",
       "  u'cross_validation_metrics': None,\n",
       "  u'cross_validation_metrics_summary': None,\n",
       "  u'cross_validation_models': None,\n",
       "  u'cross_validation_predictions': None,\n",
       "  u'domains': [None,\n",
       "   None,\n",
       "   None,\n",
       "   None,\n",
       "   None,\n",
       "   None,\n",
       "   None,\n",
       "   None,\n",
       "   None,\n",
       "   None,\n",
       "   None,\n",
       "   None,\n",
       "   None,\n",
       "   None],\n",
       "  u'end_time': 1510608345614,\n",
       "  u'help': {u'__meta': u'Metadata on this schema instance, to make it self-describing.',\n",
       "   u'coefficients_table': u'Table of Coefficients',\n",
       "   u'cross_validation_fold_assignment_frame_id': u'Cross-validation fold assignment (each row is assigned to one holdout fold)',\n",
       "   u'cross_validation_holdout_predictions_frame_id': u'Cross-validation holdout predictions (full out-of-sample predictions on training data)',\n",
       "   u'cross_validation_metrics': u'Cross-validation model metrics',\n",
       "   u'cross_validation_metrics_summary': u'Cross-validation model metrics summary',\n",
       "   u'cross_validation_models': u'Cross-validation models (model ids)',\n",
       "   u'cross_validation_predictions': u'Cross-validation predictions, one per cv model (deprecated, use cross_validation_holdout_predictions_frame_id instead)',\n",
       "   u'domains': u'Domains for categorical columns',\n",
       "   u'end_time': u'End time in milliseconds',\n",
       "   u'help': u'Help information for output fields',\n",
       "   u'lambda_1se': u'Lambda best + 1 standard error. Only applicable with lambda search and cross-validation',\n",
       "   u'lambda_best': u'Lambda minimizing the objective value, only applicable with lambd search',\n",
       "   u'model_category': u'Category of the model (e.g., Binomial)',\n",
       "   u'model_summary': u'Model summary',\n",
       "   u'names': u'Column names',\n",
       "   u'run_time': u'Runtime in milliseconds',\n",
       "   u'scoring_history': u'Scoring history',\n",
       "   u'standardized_coefficient_magnitudes': u'Standardized Coefficient Magnitudes',\n",
       "   u'start_time': u'Start time in milliseconds',\n",
       "   u'status': u'Job status',\n",
       "   u'training_metrics': u'Training data model metrics',\n",
       "   u'validation_metrics': u'Validation data model metrics'},\n",
       "  u'lambda_1se': -1.0,\n",
       "  u'lambda_best': 0.013833624395244137,\n",
       "  u'model_category': u'Regression',\n",
       "  u'model_summary': ,\n",
       "  u'names': [u'crim',\n",
       "   u'zn',\n",
       "   u'indus',\n",
       "   u'chas',\n",
       "   u'nox',\n",
       "   u'rm',\n",
       "   u'age',\n",
       "   u'dis',\n",
       "   u'rad',\n",
       "   u'tax',\n",
       "   u'ptratio',\n",
       "   u'b',\n",
       "   u'lstat',\n",
       "   u'medv'],\n",
       "  u'run_time': 7,\n",
       "  u'scoring_history': ,\n",
       "  u'standardized_coefficient_magnitudes': ,\n",
       "  u'start_time': 1510608345607,\n",
       "  u'status': None,\n",
       "  u'training_metrics': ,\n",
       "  u'validation_metrics': },\n",
       " u'parameters': [{u'__meta': {u'schema_name': u'ModelParameterSchemaV3',\n",
       "    u'schema_type': u'Iced',\n",
       "    u'schema_version': 3},\n",
       "   u'actual_value': {u'URL': u'/3/Models/glm_model_with_training_and_validtion_python',\n",
       "    u'__meta': {u'schema_name': u'ModelKeyV3',\n",
       "     u'schema_type': u'Key<Model>',\n",
       "     u'schema_version': 3},\n",
       "    u'name': u'glm_model_with_training_and_validtion_python',\n",
       "    u'type': u'Key<Model>'},\n",
       "   u'default_value': None,\n",
       "   u'gridable': False,\n",
       "   u'help': u'Destination id for this model; auto-generated if not specified.',\n",
       "   u'is_member_of_frames': [],\n",
       "   u'is_mutually_exclusive_with': [],\n",
       "   u'label': u'model_id',\n",
       "   u'level': u'critical',\n",
       "   u'name': u'model_id',\n",
       "   u'required': False,\n",
       "   u'type': u'Key<Model>',\n",
       "   u'values': []},\n",
       "  {u'__meta': {u'schema_name': u'ModelParameterSchemaV3',\n",
       "    u'schema_type': u'Iced',\n",
       "    u'schema_version': 3},\n",
       "   u'actual_value': {u'URL': u'/3/Frames/py_17_sid_9612',\n",
       "    u'__meta': {u'schema_name': u'FrameKeyV3',\n",
       "     u'schema_type': u'Key<Frame>',\n",
       "     u'schema_version': 3},\n",
       "    u'name': u'py_17_sid_9612',\n",
       "    u'type': u'Key<Frame>'},\n",
       "   u'default_value': None,\n",
       "   u'gridable': False,\n",
       "   u'help': u'Id of the training data frame (Not required, to allow initial validation of model parameters).',\n",
       "   u'is_member_of_frames': [],\n",
       "   u'is_mutually_exclusive_with': [],\n",
       "   u'label': u'training_frame',\n",
       "   u'level': u'critical',\n",
       "   u'name': u'training_frame',\n",
       "   u'required': False,\n",
       "   u'type': u'Key<Frame>',\n",
       "   u'values': []},\n",
       "  {u'__meta': {u'schema_name': u'ModelParameterSchemaV3',\n",
       "    u'schema_type': u'Iced',\n",
       "    u'schema_version': 3},\n",
       "   u'actual_value': {u'URL': u'/3/Frames/py_18_sid_9612',\n",
       "    u'__meta': {u'schema_name': u'FrameKeyV3',\n",
       "     u'schema_type': u'Key<Frame>',\n",
       "     u'schema_version': 3},\n",
       "    u'name': u'py_18_sid_9612',\n",
       "    u'type': u'Key<Frame>'},\n",
       "   u'default_value': None,\n",
       "   u'gridable': True,\n",
       "   u'help': u'Id of the validation data frame.',\n",
       "   u'is_member_of_frames': [],\n",
       "   u'is_mutually_exclusive_with': [],\n",
       "   u'label': u'validation_frame',\n",
       "   u'level': u'critical',\n",
       "   u'name': u'validation_frame',\n",
       "   u'required': False,\n",
       "   u'type': u'Key<Frame>',\n",
       "   u'values': []},\n",
       "  {u'__meta': {u'schema_name': u'ModelParameterSchemaV3',\n",
       "    u'schema_type': u'Iced',\n",
       "    u'schema_version': 3},\n",
       "   u'actual_value': 0,\n",
       "   u'default_value': 0,\n",
       "   u'gridable': False,\n",
       "   u'help': u'Number of folds for N-fold cross-validation (0 to disable or >= 2).',\n",
       "   u'is_member_of_frames': [],\n",
       "   u'is_mutually_exclusive_with': [],\n",
       "   u'label': u'nfolds',\n",
       "   u'level': u'critical',\n",
       "   u'name': u'nfolds',\n",
       "   u'required': False,\n",
       "   u'type': u'int',\n",
       "   u'values': []},\n",
       "  {u'__meta': {u'schema_name': u'ModelParameterSchemaV3',\n",
       "    u'schema_type': u'Iced',\n",
       "    u'schema_version': 3},\n",
       "   u'actual_value': -7285024506430054133,\n",
       "   u'default_value': -1,\n",
       "   u'gridable': True,\n",
       "   u'help': u'Seed for pseudo random number generator (if applicable)',\n",
       "   u'is_member_of_frames': [],\n",
       "   u'is_mutually_exclusive_with': [],\n",
       "   u'label': u'seed',\n",
       "   u'level': u'critical',\n",
       "   u'name': u'seed',\n",
       "   u'required': False,\n",
       "   u'type': u'long',\n",
       "   u'values': []},\n",
       "  {u'__meta': {u'schema_name': u'ModelParameterSchemaV3',\n",
       "    u'schema_type': u'Iced',\n",
       "    u'schema_version': 3},\n",
       "   u'actual_value': False,\n",
       "   u'default_value': False,\n",
       "   u'gridable': False,\n",
       "   u'help': u'Whether to keep the predictions of the cross-validation models.',\n",
       "   u'is_member_of_frames': [],\n",
       "   u'is_mutually_exclusive_with': [],\n",
       "   u'label': u'keep_cross_validation_predictions',\n",
       "   u'level': u'expert',\n",
       "   u'name': u'keep_cross_validation_predictions',\n",
       "   u'required': False,\n",
       "   u'type': u'boolean',\n",
       "   u'values': []},\n",
       "  {u'__meta': {u'schema_name': u'ModelParameterSchemaV3',\n",
       "    u'schema_type': u'Iced',\n",
       "    u'schema_version': 3},\n",
       "   u'actual_value': False,\n",
       "   u'default_value': False,\n",
       "   u'gridable': False,\n",
       "   u'help': u'Whether to keep the cross-validation fold assignment.',\n",
       "   u'is_member_of_frames': [],\n",
       "   u'is_mutually_exclusive_with': [],\n",
       "   u'label': u'keep_cross_validation_fold_assignment',\n",
       "   u'level': u'expert',\n",
       "   u'name': u'keep_cross_validation_fold_assignment',\n",
       "   u'required': False,\n",
       "   u'type': u'boolean',\n",
       "   u'values': []},\n",
       "  {u'__meta': {u'schema_name': u'ModelParameterSchemaV3',\n",
       "    u'schema_type': u'Iced',\n",
       "    u'schema_version': 3},\n",
       "   u'actual_value': u'AUTO',\n",
       "   u'default_value': u'AUTO',\n",
       "   u'gridable': True,\n",
       "   u'help': u\"Cross-validation fold assignment scheme, if fold_column is not specified. The 'Stratified' option will stratify the folds based on the response variable, for classification problems.\",\n",
       "   u'is_member_of_frames': [],\n",
       "   u'is_mutually_exclusive_with': [],\n",
       "   u'label': u'fold_assignment',\n",
       "   u'level': u'secondary',\n",
       "   u'name': u'fold_assignment',\n",
       "   u'required': False,\n",
       "   u'type': u'enum',\n",
       "   u'values': [u'AUTO', u'Random', u'Modulo', u'Stratified']},\n",
       "  {u'__meta': {u'schema_name': u'ModelParameterSchemaV3',\n",
       "    u'schema_type': u'Iced',\n",
       "    u'schema_version': 3},\n",
       "   u'actual_value': None,\n",
       "   u'default_value': None,\n",
       "   u'gridable': True,\n",
       "   u'help': u'Column with cross-validation fold index assignment per observation.',\n",
       "   u'is_member_of_frames': [u'training_frame'],\n",
       "   u'is_mutually_exclusive_with': [u'response_column',\n",
       "    u'weights_column',\n",
       "    u'ignored_columns',\n",
       "    u'offset_column'],\n",
       "   u'label': u'fold_column',\n",
       "   u'level': u'secondary',\n",
       "   u'name': u'fold_column',\n",
       "   u'required': False,\n",
       "   u'type': u'VecSpecifier',\n",
       "   u'values': []},\n",
       "  {u'__meta': {u'schema_name': u'ModelParameterSchemaV3',\n",
       "    u'schema_type': u'Iced',\n",
       "    u'schema_version': 3},\n",
       "   u'actual_value': {u'__meta': {u'schema_name': u'ColSpecifierV3',\n",
       "     u'schema_type': u'VecSpecifier',\n",
       "     u'schema_version': 3},\n",
       "    u'column_name': u'medv',\n",
       "    u'is_member_of_frames': None},\n",
       "   u'default_value': None,\n",
       "   u'gridable': True,\n",
       "   u'help': u'Response variable column.',\n",
       "   u'is_member_of_frames': [u'training_frame', u'validation_frame'],\n",
       "   u'is_mutually_exclusive_with': [u'weights_column',\n",
       "    u'ignored_columns',\n",
       "    u'offset_column',\n",
       "    u'fold_column'],\n",
       "   u'label': u'response_column',\n",
       "   u'level': u'critical',\n",
       "   u'name': u'response_column',\n",
       "   u'required': False,\n",
       "   u'type': u'VecSpecifier',\n",
       "   u'values': []},\n",
       "  {u'__meta': {u'schema_name': u'ModelParameterSchemaV3',\n",
       "    u'schema_type': u'Iced',\n",
       "    u'schema_version': 3},\n",
       "   u'actual_value': None,\n",
       "   u'default_value': None,\n",
       "   u'gridable': False,\n",
       "   u'help': u'Names of columns to ignore for training.',\n",
       "   u'is_member_of_frames': [u'training_frame', u'validation_frame'],\n",
       "   u'is_mutually_exclusive_with': [u'response_column',\n",
       "    u'weights_column',\n",
       "    u'offset_column',\n",
       "    u'fold_column'],\n",
       "   u'label': u'ignored_columns',\n",
       "   u'level': u'critical',\n",
       "   u'name': u'ignored_columns',\n",
       "   u'required': False,\n",
       "   u'type': u'string[]',\n",
       "   u'values': []},\n",
       "  {u'__meta': {u'schema_name': u'ModelParameterSchemaV3',\n",
       "    u'schema_type': u'Iced',\n",
       "    u'schema_version': 3},\n",
       "   u'actual_value': True,\n",
       "   u'default_value': True,\n",
       "   u'gridable': False,\n",
       "   u'help': u'Ignore constant columns.',\n",
       "   u'is_member_of_frames': [],\n",
       "   u'is_mutually_exclusive_with': [],\n",
       "   u'label': u'ignore_const_cols',\n",
       "   u'level': u'critical',\n",
       "   u'name': u'ignore_const_cols',\n",
       "   u'required': False,\n",
       "   u'type': u'boolean',\n",
       "   u'values': []},\n",
       "  {u'__meta': {u'schema_name': u'ModelParameterSchemaV3',\n",
       "    u'schema_type': u'Iced',\n",
       "    u'schema_version': 3},\n",
       "   u'actual_value': False,\n",
       "   u'default_value': False,\n",
       "   u'gridable': False,\n",
       "   u'help': u'Whether to score during each iteration of model training.',\n",
       "   u'is_member_of_frames': [],\n",
       "   u'is_mutually_exclusive_with': [],\n",
       "   u'label': u'score_each_iteration',\n",
       "   u'level': u'secondary',\n",
       "   u'name': u'score_each_iteration',\n",
       "   u'required': False,\n",
       "   u'type': u'boolean',\n",
       "   u'values': []},\n",
       "  {u'__meta': {u'schema_name': u'ModelParameterSchemaV3',\n",
       "    u'schema_type': u'Iced',\n",
       "    u'schema_version': 3},\n",
       "   u'actual_value': None,\n",
       "   u'default_value': None,\n",
       "   u'gridable': True,\n",
       "   u'help': u'Offset column. This will be added to the combination of columns before applying the link function.',\n",
       "   u'is_member_of_frames': [u'training_frame', u'validation_frame'],\n",
       "   u'is_mutually_exclusive_with': [u'response_column',\n",
       "    u'weights_column',\n",
       "    u'ignored_columns',\n",
       "    u'fold_column'],\n",
       "   u'label': u'offset_column',\n",
       "   u'level': u'secondary',\n",
       "   u'name': u'offset_column',\n",
       "   u'required': False,\n",
       "   u'type': u'VecSpecifier',\n",
       "   u'values': []},\n",
       "  {u'__meta': {u'schema_name': u'ModelParameterSchemaV3',\n",
       "    u'schema_type': u'Iced',\n",
       "    u'schema_version': 3},\n",
       "   u'actual_value': None,\n",
       "   u'default_value': None,\n",
       "   u'gridable': True,\n",
       "   u'help': u'Column with observation weights. Giving some observation a weight of zero is equivalent to excluding it from the dataset; giving an observation a relative weight of 2 is equivalent to repeating that row twice. Negative weights are not allowed.',\n",
       "   u'is_member_of_frames': [u'training_frame', u'validation_frame'],\n",
       "   u'is_mutually_exclusive_with': [u'response_column',\n",
       "    u'ignored_columns',\n",
       "    u'offset_column',\n",
       "    u'fold_column'],\n",
       "   u'label': u'weights_column',\n",
       "   u'level': u'secondary',\n",
       "   u'name': u'weights_column',\n",
       "   u'required': False,\n",
       "   u'type': u'VecSpecifier',\n",
       "   u'values': []},\n",
       "  {u'__meta': {u'schema_name': u'ModelParameterSchemaV3',\n",
       "    u'schema_type': u'Iced',\n",
       "    u'schema_version': 3},\n",
       "   u'actual_value': u'gaussian',\n",
       "   u'default_value': u'gaussian',\n",
       "   u'gridable': False,\n",
       "   u'help': u'Family. Use binomial for classification with logistic regression, others are for regression problems.',\n",
       "   u'is_member_of_frames': [],\n",
       "   u'is_mutually_exclusive_with': [],\n",
       "   u'label': u'family',\n",
       "   u'level': u'critical',\n",
       "   u'name': u'family',\n",
       "   u'required': False,\n",
       "   u'type': u'enum',\n",
       "   u'values': [u'gaussian',\n",
       "    u'binomial',\n",
       "    u'quasibinomial',\n",
       "    u'multinomial',\n",
       "    u'poisson',\n",
       "    u'gamma',\n",
       "    u'tweedie']},\n",
       "  {u'__meta': {u'schema_name': u'ModelParameterSchemaV3',\n",
       "    u'schema_type': u'Iced',\n",
       "    u'schema_version': 3},\n",
       "   u'actual_value': 0.0,\n",
       "   u'default_value': 0.0,\n",
       "   u'gridable': True,\n",
       "   u'help': u'Tweedie variance power',\n",
       "   u'is_member_of_frames': [],\n",
       "   u'is_mutually_exclusive_with': [],\n",
       "   u'label': u'tweedie_variance_power',\n",
       "   u'level': u'critical',\n",
       "   u'name': u'tweedie_variance_power',\n",
       "   u'required': False,\n",
       "   u'type': u'double',\n",
       "   u'values': []},\n",
       "  {u'__meta': {u'schema_name': u'ModelParameterSchemaV3',\n",
       "    u'schema_type': u'Iced',\n",
       "    u'schema_version': 3},\n",
       "   u'actual_value': 1.0,\n",
       "   u'default_value': 1.0,\n",
       "   u'gridable': True,\n",
       "   u'help': u'Tweedie link power',\n",
       "   u'is_member_of_frames': [],\n",
       "   u'is_mutually_exclusive_with': [],\n",
       "   u'label': u'tweedie_link_power',\n",
       "   u'level': u'critical',\n",
       "   u'name': u'tweedie_link_power',\n",
       "   u'required': False,\n",
       "   u'type': u'double',\n",
       "   u'values': []},\n",
       "  {u'__meta': {u'schema_name': u'ModelParameterSchemaV3',\n",
       "    u'schema_type': u'Iced',\n",
       "    u'schema_version': 3},\n",
       "   u'actual_value': u'IRLSM',\n",
       "   u'default_value': u'AUTO',\n",
       "   u'gridable': False,\n",
       "   u'help': u'AUTO will set the solver based on given data and the other parameters. IRLSM is fast on on problems with small number of predictors and for lambda-search with L1 penalty, L_BFGS scales better for datasets with many columns. Coordinate descent is experimental (beta).',\n",
       "   u'is_member_of_frames': [],\n",
       "   u'is_mutually_exclusive_with': [],\n",
       "   u'label': u'solver',\n",
       "   u'level': u'critical',\n",
       "   u'name': u'solver',\n",
       "   u'required': False,\n",
       "   u'type': u'enum',\n",
       "   u'values': [u'AUTO',\n",
       "    u'IRLSM',\n",
       "    u'L_BFGS',\n",
       "    u'COORDINATE_DESCENT_NAIVE',\n",
       "    u'COORDINATE_DESCENT']},\n",
       "  {u'__meta': {u'schema_name': u'ModelParameterSchemaV3',\n",
       "    u'schema_type': u'Iced',\n",
       "    u'schema_version': 3},\n",
       "   u'actual_value': [0.5],\n",
       "   u'default_value': None,\n",
       "   u'gridable': True,\n",
       "   u'help': u\"Distribution of regularization between the L1 (Lasso) and L2 (Ridge) penalties. A value of 1 for alpha represents Lasso regression, a value of 0 produces Ridge regression, and anything in between specifies the amount of mixing between the two. Default value of alpha is 0 when SOLVER = 'L-BFGS'; 0.5 otherwise.\",\n",
       "   u'is_member_of_frames': [],\n",
       "   u'is_mutually_exclusive_with': [],\n",
       "   u'label': u'alpha',\n",
       "   u'level': u'critical',\n",
       "   u'name': u'alpha',\n",
       "   u'required': False,\n",
       "   u'type': u'double[]',\n",
       "   u'values': []},\n",
       "  {u'__meta': {u'schema_name': u'ModelParameterSchemaV3',\n",
       "    u'schema_type': u'Iced',\n",
       "    u'schema_version': 3},\n",
       "   u'actual_value': [0.013833624395244137],\n",
       "   u'default_value': None,\n",
       "   u'gridable': True,\n",
       "   u'help': u'Regularization strength',\n",
       "   u'is_member_of_frames': [],\n",
       "   u'is_mutually_exclusive_with': [],\n",
       "   u'label': u'lambda',\n",
       "   u'level': u'critical',\n",
       "   u'name': u'lambda',\n",
       "   u'required': False,\n",
       "   u'type': u'double[]',\n",
       "   u'values': []},\n",
       "  {u'__meta': {u'schema_name': u'ModelParameterSchemaV3',\n",
       "    u'schema_type': u'Iced',\n",
       "    u'schema_version': 3},\n",
       "   u'actual_value': False,\n",
       "   u'default_value': False,\n",
       "   u'gridable': False,\n",
       "   u'help': u'Use lambda search starting at lambda max, given lambda is then interpreted as lambda min',\n",
       "   u'is_member_of_frames': [],\n",
       "   u'is_mutually_exclusive_with': [],\n",
       "   u'label': u'lambda_search',\n",
       "   u'level': u'critical',\n",
       "   u'name': u'lambda_search',\n",
       "   u'required': False,\n",
       "   u'type': u'boolean',\n",
       "   u'values': []},\n",
       "  {u'__meta': {u'schema_name': u'ModelParameterSchemaV3',\n",
       "    u'schema_type': u'Iced',\n",
       "    u'schema_version': 3},\n",
       "   u'actual_value': True,\n",
       "   u'default_value': True,\n",
       "   u'gridable': False,\n",
       "   u'help': u'Stop early when there is no more relative improvement on train or validation (if provided)',\n",
       "   u'is_member_of_frames': [],\n",
       "   u'is_mutually_exclusive_with': [],\n",
       "   u'label': u'early_stopping',\n",
       "   u'level': u'critical',\n",
       "   u'name': u'early_stopping',\n",
       "   u'required': False,\n",
       "   u'type': u'boolean',\n",
       "   u'values': []},\n",
       "  {u'__meta': {u'schema_name': u'ModelParameterSchemaV3',\n",
       "    u'schema_type': u'Iced',\n",
       "    u'schema_version': 3},\n",
       "   u'actual_value': -1,\n",
       "   u'default_value': -1,\n",
       "   u'gridable': False,\n",
       "   u'help': u'Number of lambdas to be used in a search. Default indicates: If alpha is zero, with lambda search set to True, the value of nlamdas is set to 30 (fewer lambdas are needed for ridge regression) otherwise it is set to 100.',\n",
       "   u'is_member_of_frames': [],\n",
       "   u'is_mutually_exclusive_with': [],\n",
       "   u'label': u'nlambdas',\n",
       "   u'level': u'critical',\n",
       "   u'name': u'nlambdas',\n",
       "   u'required': False,\n",
       "   u'type': u'int',\n",
       "   u'values': []},\n",
       "  {u'__meta': {u'schema_name': u'ModelParameterSchemaV3',\n",
       "    u'schema_type': u'Iced',\n",
       "    u'schema_version': 3},\n",
       "   u'actual_value': True,\n",
       "   u'default_value': True,\n",
       "   u'gridable': False,\n",
       "   u'help': u'Standardize numeric columns to have zero mean and unit variance',\n",
       "   u'is_member_of_frames': [],\n",
       "   u'is_mutually_exclusive_with': [],\n",
       "   u'label': u'standardize',\n",
       "   u'level': u'critical',\n",
       "   u'name': u'standardize',\n",
       "   u'required': False,\n",
       "   u'type': u'boolean',\n",
       "   u'values': []},\n",
       "  {u'__meta': {u'schema_name': u'ModelParameterSchemaV3',\n",
       "    u'schema_type': u'Iced',\n",
       "    u'schema_version': 3},\n",
       "   u'actual_value': u'MeanImputation',\n",
       "   u'default_value': u'MeanImputation',\n",
       "   u'gridable': True,\n",
       "   u'help': u'Handling of missing values. Either MeanImputation or Skip.',\n",
       "   u'is_member_of_frames': [],\n",
       "   u'is_mutually_exclusive_with': [],\n",
       "   u'label': u'missing_values_handling',\n",
       "   u'level': u'expert',\n",
       "   u'name': u'missing_values_handling',\n",
       "   u'required': False,\n",
       "   u'type': u'enum',\n",
       "   u'values': [u'MeanImputation', u'Skip']},\n",
       "  {u'__meta': {u'schema_name': u'ModelParameterSchemaV3',\n",
       "    u'schema_type': u'Iced',\n",
       "    u'schema_version': 3},\n",
       "   u'actual_value': False,\n",
       "   u'default_value': False,\n",
       "   u'gridable': False,\n",
       "   u'help': u'Request p-values computation, p-values work only with IRLSM solver and no regularization',\n",
       "   u'is_member_of_frames': [],\n",
       "   u'is_mutually_exclusive_with': [],\n",
       "   u'label': u'compute_p_values',\n",
       "   u'level': u'secondary',\n",
       "   u'name': u'compute_p_values',\n",
       "   u'required': False,\n",
       "   u'type': u'boolean',\n",
       "   u'values': []},\n",
       "  {u'__meta': {u'schema_name': u'ModelParameterSchemaV3',\n",
       "    u'schema_type': u'Iced',\n",
       "    u'schema_version': 3},\n",
       "   u'actual_value': False,\n",
       "   u'default_value': False,\n",
       "   u'gridable': False,\n",
       "   u'help': u'In case of linearly dependent columns, remove some of the dependent columns',\n",
       "   u'is_member_of_frames': [],\n",
       "   u'is_mutually_exclusive_with': [],\n",
       "   u'label': u'remove_collinear_columns',\n",
       "   u'level': u'secondary',\n",
       "   u'name': u'remove_collinear_columns',\n",
       "   u'required': False,\n",
       "   u'type': u'boolean',\n",
       "   u'values': []},\n",
       "  {u'__meta': {u'schema_name': u'ModelParameterSchemaV3',\n",
       "    u'schema_type': u'Iced',\n",
       "    u'schema_version': 3},\n",
       "   u'actual_value': True,\n",
       "   u'default_value': True,\n",
       "   u'gridable': False,\n",
       "   u'help': u'Include constant term in the model',\n",
       "   u'is_member_of_frames': [],\n",
       "   u'is_mutually_exclusive_with': [],\n",
       "   u'label': u'intercept',\n",
       "   u'level': u'expert',\n",
       "   u'name': u'intercept',\n",
       "   u'required': False,\n",
       "   u'type': u'boolean',\n",
       "   u'values': []},\n",
       "  {u'__meta': {u'schema_name': u'ModelParameterSchemaV3',\n",
       "    u'schema_type': u'Iced',\n",
       "    u'schema_version': 3},\n",
       "   u'actual_value': False,\n",
       "   u'default_value': False,\n",
       "   u'gridable': False,\n",
       "   u'help': u'Restrict coefficients (not intercept) to be non-negative',\n",
       "   u'is_member_of_frames': [],\n",
       "   u'is_mutually_exclusive_with': [],\n",
       "   u'label': u'non_negative',\n",
       "   u'level': u'critical',\n",
       "   u'name': u'non_negative',\n",
       "   u'required': False,\n",
       "   u'type': u'boolean',\n",
       "   u'values': []},\n",
       "  {u'__meta': {u'schema_name': u'ModelParameterSchemaV3',\n",
       "    u'schema_type': u'Iced',\n",
       "    u'schema_version': 3},\n",
       "   u'actual_value': 50,\n",
       "   u'default_value': -1,\n",
       "   u'gridable': False,\n",
       "   u'help': u'Maximum number of iterations',\n",
       "   u'is_member_of_frames': [],\n",
       "   u'is_mutually_exclusive_with': [],\n",
       "   u'label': u'max_iterations',\n",
       "   u'level': u'secondary',\n",
       "   u'name': u'max_iterations',\n",
       "   u'required': False,\n",
       "   u'type': u'int',\n",
       "   u'values': []},\n",
       "  {u'__meta': {u'schema_name': u'ModelParameterSchemaV3',\n",
       "    u'schema_type': u'Iced',\n",
       "    u'schema_version': 3},\n",
       "   u'actual_value': 0.0001,\n",
       "   u'default_value': -1.0,\n",
       "   u'gridable': False,\n",
       "   u'help': u'Converge if  objective value changes less than this. Default indicates: If lambda_search is set to True the value of objective_epsilon is set to .0001. If the lambda_search is set to False and lambda is equal to zero, the value of objective_epsilon is set to .000001, for any other value of lambda the default value of objective_epsilon is set to .0001.',\n",
       "   u'is_member_of_frames': [],\n",
       "   u'is_mutually_exclusive_with': [],\n",
       "   u'label': u'objective_epsilon',\n",
       "   u'level': u'expert',\n",
       "   u'name': u'objective_epsilon',\n",
       "   u'required': False,\n",
       "   u'type': u'double',\n",
       "   u'values': []},\n",
       "  {u'__meta': {u'schema_name': u'ModelParameterSchemaV3',\n",
       "    u'schema_type': u'Iced',\n",
       "    u'schema_version': 3},\n",
       "   u'actual_value': 0.0001,\n",
       "   u'default_value': 0.0001,\n",
       "   u'gridable': False,\n",
       "   u'help': u'Converge if  beta changes less (using L-infinity norm) than beta esilon, ONLY applies to IRLSM solver ',\n",
       "   u'is_member_of_frames': [],\n",
       "   u'is_mutually_exclusive_with': [],\n",
       "   u'label': u'beta_epsilon',\n",
       "   u'level': u'expert',\n",
       "   u'name': u'beta_epsilon',\n",
       "   u'required': False,\n",
       "   u'type': u'double',\n",
       "   u'values': []},\n",
       "  {u'__meta': {u'schema_name': u'ModelParameterSchemaV3',\n",
       "    u'schema_type': u'Iced',\n",
       "    u'schema_version': 3},\n",
       "   u'actual_value': 0.0001,\n",
       "   u'default_value': -1.0,\n",
       "   u'gridable': False,\n",
       "   u'help': u'Converge if  objective changes less (using L-infinity norm) than this, ONLY applies to L-BFGS solver. Default indicates: If lambda_search is set to False and lambda is equal to zero, the default value of gradient_epsilon is equal to .000001, otherwise the default value is .0001. If lambda_search is set to True, the conditional values above are 1E-8 and 1E-6 respectively.',\n",
       "   u'is_member_of_frames': [],\n",
       "   u'is_mutually_exclusive_with': [],\n",
       "   u'label': u'gradient_epsilon',\n",
       "   u'level': u'expert',\n",
       "   u'name': u'gradient_epsilon',\n",
       "   u'required': False,\n",
       "   u'type': u'double',\n",
       "   u'values': []},\n",
       "  {u'__meta': {u'schema_name': u'ModelParameterSchemaV3',\n",
       "    u'schema_type': u'Iced',\n",
       "    u'schema_version': 3},\n",
       "   u'actual_value': u'identity',\n",
       "   u'default_value': u'family_default',\n",
       "   u'gridable': False,\n",
       "   u'help': u'',\n",
       "   u'is_member_of_frames': [],\n",
       "   u'is_mutually_exclusive_with': [],\n",
       "   u'label': u'link',\n",
       "   u'level': u'secondary',\n",
       "   u'name': u'link',\n",
       "   u'required': False,\n",
       "   u'type': u'enum',\n",
       "   u'values': [u'family_default',\n",
       "    u'identity',\n",
       "    u'logit',\n",
       "    u'log',\n",
       "    u'inverse',\n",
       "    u'tweedie']},\n",
       "  {u'__meta': {u'schema_name': u'ModelParameterSchemaV3',\n",
       "    u'schema_type': u'Iced',\n",
       "    u'schema_version': 3},\n",
       "   u'actual_value': -1.0,\n",
       "   u'default_value': -1.0,\n",
       "   u'gridable': False,\n",
       "   u'help': u'Prior probability for y==1. To be used only for logistic regression iff the data has been sampled and the mean of response does not reflect reality.',\n",
       "   u'is_member_of_frames': [],\n",
       "   u'is_mutually_exclusive_with': [],\n",
       "   u'label': u'prior',\n",
       "   u'level': u'expert',\n",
       "   u'name': u'prior',\n",
       "   u'required': False,\n",
       "   u'type': u'double',\n",
       "   u'values': []},\n",
       "  {u'__meta': {u'schema_name': u'ModelParameterSchemaV3',\n",
       "    u'schema_type': u'Iced',\n",
       "    u'schema_version': 3},\n",
       "   u'actual_value': 0.0001,\n",
       "   u'default_value': -1.0,\n",
       "   u'gridable': False,\n",
       "   u'help': u'Minimum lambda used in lambda search, specified as a ratio of lambda_max. Default indicates: if the number of observations is greater than the number of variables then lambda_min_ratio is set to 0.0001; if the number of observations is less than the number of variables then lambda_min_ratio is set to 0.01.',\n",
       "   u'is_member_of_frames': [],\n",
       "   u'is_mutually_exclusive_with': [],\n",
       "   u'label': u'lambda_min_ratio',\n",
       "   u'level': u'expert',\n",
       "   u'name': u'lambda_min_ratio',\n",
       "   u'required': False,\n",
       "   u'type': u'double',\n",
       "   u'values': []},\n",
       "  {u'__meta': {u'schema_name': u'ModelParameterSchemaV3',\n",
       "    u'schema_type': u'Iced',\n",
       "    u'schema_version': 3},\n",
       "   u'actual_value': None,\n",
       "   u'default_value': None,\n",
       "   u'gridable': False,\n",
       "   u'help': u'Beta constraints',\n",
       "   u'is_member_of_frames': [],\n",
       "   u'is_mutually_exclusive_with': [],\n",
       "   u'label': u'beta_constraints',\n",
       "   u'level': u'critical',\n",
       "   u'name': u'beta_constraints',\n",
       "   u'required': False,\n",
       "   u'type': u'Key<Frame>',\n",
       "   u'values': []},\n",
       "  {u'__meta': {u'schema_name': u'ModelParameterSchemaV3',\n",
       "    u'schema_type': u'Iced',\n",
       "    u'schema_version': 3},\n",
       "   u'actual_value': 5000,\n",
       "   u'default_value': -1,\n",
       "   u'gridable': False,\n",
       "   u'help': u'Maximum number of active predictors during computation. Use as a stopping criterion to prevent expensive model building with many predictors. Default indicates: If the IRLSM solver is used, the value of max_active_predictors is set to 7000 otherwise it is set to 100000000.',\n",
       "   u'is_member_of_frames': [],\n",
       "   u'is_mutually_exclusive_with': [],\n",
       "   u'label': u'max_active_predictors',\n",
       "   u'level': u'expert',\n",
       "   u'name': u'max_active_predictors',\n",
       "   u'required': False,\n",
       "   u'type': u'int',\n",
       "   u'values': []},\n",
       "  {u'__meta': {u'schema_name': u'ModelParameterSchemaV3',\n",
       "    u'schema_type': u'Iced',\n",
       "    u'schema_version': 3},\n",
       "   u'actual_value': None,\n",
       "   u'default_value': None,\n",
       "   u'gridable': False,\n",
       "   u'help': u'A list of predictor column indices to interact. All pairwise combinations will be computed for the list.',\n",
       "   u'is_member_of_frames': [],\n",
       "   u'is_mutually_exclusive_with': [],\n",
       "   u'label': u'interactions',\n",
       "   u'level': u'expert',\n",
       "   u'name': u'interactions',\n",
       "   u'required': False,\n",
       "   u'type': u'string[]',\n",
       "   u'values': []},\n",
       "  {u'__meta': {u'schema_name': u'ModelParameterSchemaV3',\n",
       "    u'schema_type': u'Iced',\n",
       "    u'schema_version': 3},\n",
       "   u'actual_value': False,\n",
       "   u'default_value': False,\n",
       "   u'gridable': False,\n",
       "   u'help': u'Balance training data class counts via over/under-sampling (for imbalanced data).',\n",
       "   u'is_member_of_frames': [],\n",
       "   u'is_mutually_exclusive_with': [],\n",
       "   u'label': u'balance_classes',\n",
       "   u'level': u'secondary',\n",
       "   u'name': u'balance_classes',\n",
       "   u'required': False,\n",
       "   u'type': u'boolean',\n",
       "   u'values': []},\n",
       "  {u'__meta': {u'schema_name': u'ModelParameterSchemaV3',\n",
       "    u'schema_type': u'Iced',\n",
       "    u'schema_version': 3},\n",
       "   u'actual_value': None,\n",
       "   u'default_value': None,\n",
       "   u'gridable': False,\n",
       "   u'help': u'Desired over/under-sampling ratios per class (in lexicographic order). If not specified, sampling factors will be automatically computed to obtain class balance during training. Requires balance_classes.',\n",
       "   u'is_member_of_frames': [],\n",
       "   u'is_mutually_exclusive_with': [],\n",
       "   u'label': u'class_sampling_factors',\n",
       "   u'level': u'expert',\n",
       "   u'name': u'class_sampling_factors',\n",
       "   u'required': False,\n",
       "   u'type': u'float[]',\n",
       "   u'values': []},\n",
       "  {u'__meta': {u'schema_name': u'ModelParameterSchemaV3',\n",
       "    u'schema_type': u'Iced',\n",
       "    u'schema_version': 3},\n",
       "   u'actual_value': 5.0,\n",
       "   u'default_value': 5.0,\n",
       "   u'gridable': False,\n",
       "   u'help': u'Maximum relative size of the training data after balancing class counts (can be less than 1.0). Requires balance_classes.',\n",
       "   u'is_member_of_frames': [],\n",
       "   u'is_mutually_exclusive_with': [],\n",
       "   u'label': u'max_after_balance_size',\n",
       "   u'level': u'expert',\n",
       "   u'name': u'max_after_balance_size',\n",
       "   u'required': False,\n",
       "   u'type': u'float',\n",
       "   u'values': []},\n",
       "  {u'__meta': {u'schema_name': u'ModelParameterSchemaV3',\n",
       "    u'schema_type': u'Iced',\n",
       "    u'schema_version': 3},\n",
       "   u'actual_value': 20,\n",
       "   u'default_value': 20,\n",
       "   u'gridable': False,\n",
       "   u'help': u'[Deprecated] Maximum size (# classes) for confusion matrices to be printed in the Logs',\n",
       "   u'is_member_of_frames': [],\n",
       "   u'is_mutually_exclusive_with': [],\n",
       "   u'label': u'max_confusion_matrix_size',\n",
       "   u'level': u'secondary',\n",
       "   u'name': u'max_confusion_matrix_size',\n",
       "   u'required': False,\n",
       "   u'type': u'int',\n",
       "   u'values': []},\n",
       "  {u'__meta': {u'schema_name': u'ModelParameterSchemaV3',\n",
       "    u'schema_type': u'Iced',\n",
       "    u'schema_version': 3},\n",
       "   u'actual_value': 0,\n",
       "   u'default_value': 0,\n",
       "   u'gridable': False,\n",
       "   u'help': u'Maximum number (top K) of predictions to use for hit ratio computation (for multi-class only, 0 to disable)',\n",
       "   u'is_member_of_frames': [],\n",
       "   u'is_mutually_exclusive_with': [],\n",
       "   u'label': u'max_hit_ratio_k',\n",
       "   u'level': u'secondary',\n",
       "   u'name': u'max_hit_ratio_k',\n",
       "   u'required': False,\n",
       "   u'type': u'int',\n",
       "   u'values': []},\n",
       "  {u'__meta': {u'schema_name': u'ModelParameterSchemaV3',\n",
       "    u'schema_type': u'Iced',\n",
       "    u'schema_version': 3},\n",
       "   u'actual_value': 0.0,\n",
       "   u'default_value': 0.0,\n",
       "   u'gridable': True,\n",
       "   u'help': u'Maximum allowed runtime in seconds for model training. Use 0 to disable.',\n",
       "   u'is_member_of_frames': [],\n",
       "   u'is_mutually_exclusive_with': [],\n",
       "   u'label': u'max_runtime_secs',\n",
       "   u'level': u'secondary',\n",
       "   u'name': u'max_runtime_secs',\n",
       "   u'required': False,\n",
       "   u'type': u'double',\n",
       "   u'values': []}],\n",
       " u'response_column_name': u'medv',\n",
       " u'timestamp': 0}"
      ]
     },
     "execution_count": 88,
     "metadata": {},
     "output_type": "execute_result"
    }
   ],
   "source": [
    "glm_model_with_training_and_validtion._model_json"
   ]
  },
  {
   "cell_type": "code",
   "execution_count": 89,
   "metadata": {},
   "outputs": [
    {
     "name": "stdout",
     "output_type": "stream",
     "text": [
      "Coefficients: glm coefficients\n",
      "\n"
     ]
    },
    {
     "data": {
      "text/html": [
       "<div style=\"overflow:auto\"><table style=\"width:50%\"><tr><td><b>names</b></td>\n",
       "<td><b>coefficients</b></td>\n",
       "<td><b>standardized_coefficients</b></td></tr>\n",
       "<tr><td>Intercept</td>\n",
       "<td>34.1756448</td>\n",
       "<td>22.6358333</td></tr>\n",
       "<tr><td>crim</td>\n",
       "<td>-0.0776533</td>\n",
       "<td>-0.6431659</td></tr>\n",
       "<tr><td>zn</td>\n",
       "<td>0.0372262</td>\n",
       "<td>0.8327128</td></tr>\n",
       "<tr><td>indus</td>\n",
       "<td>0.0246784</td>\n",
       "<td>0.1677198</td></tr>\n",
       "<tr><td>chas</td>\n",
       "<td>3.0631472</td>\n",
       "<td>0.8079294</td></tr>\n",
       "<tr><td>nox</td>\n",
       "<td>-19.5370912</td>\n",
       "<td>-2.2726183</td></tr>\n",
       "<tr><td>rm</td>\n",
       "<td>4.0019148</td>\n",
       "<td>2.7806073</td></tr>\n",
       "<tr><td>age</td>\n",
       "<td>0.0122496</td>\n",
       "<td>0.3394261</td></tr>\n",
       "<tr><td>dis</td>\n",
       "<td>-1.4033012</td>\n",
       "<td>-2.8524106</td></tr>\n",
       "<tr><td>rad</td>\n",
       "<td>0.2560373</td>\n",
       "<td>2.2732963</td></tr>\n",
       "<tr><td>tax</td>\n",
       "<td>-0.0106619</td>\n",
       "<td>-1.8333956</td></tr>\n",
       "<tr><td>ptratio</td>\n",
       "<td>-0.8625054</td>\n",
       "<td>-1.8722114</td></tr>\n",
       "<tr><td>b</td>\n",
       "<td>0.0083810</td>\n",
       "<td>0.8224249</td></tr>\n",
       "<tr><td>lstat</td>\n",
       "<td>-0.5600685</td>\n",
       "<td>-3.9971237</td></tr></table></div>"
      ],
      "text/plain": [
       "names      coefficients    standardized_coefficients\n",
       "---------  --------------  ---------------------------\n",
       "Intercept  34.1756         22.6358\n",
       "crim       -0.0776533      -0.643166\n",
       "zn         0.0372262       0.832713\n",
       "indus      0.0246784       0.16772\n",
       "chas       3.06315         0.807929\n",
       "nox        -19.5371        -2.27262\n",
       "rm         4.00191         2.78061\n",
       "age        0.0122496       0.339426\n",
       "dis        -1.4033         -2.85241\n",
       "rad        0.256037        2.2733\n",
       "tax        -0.0106619      -1.8334\n",
       "ptratio    -0.862505       -1.87221\n",
       "b          0.00838103      0.822425\n",
       "lstat      -0.560068       -3.99712"
      ]
     },
     "metadata": {},
     "output_type": "display_data"
    },
    {
     "data": {
      "text/plain": []
     },
     "execution_count": 89,
     "metadata": {},
     "output_type": "execute_result"
    }
   ],
   "source": [
    "glm_model_with_training_and_validtion._model_json['output']['coefficients_table']"
   ]
  },
  {
   "cell_type": "code",
   "execution_count": 90,
   "metadata": {},
   "outputs": [
    {
     "data": {
      "text/plain": [
       "[u'crim',\n",
       " u'zn',\n",
       " u'indus',\n",
       " u'chas',\n",
       " u'nox',\n",
       " u'rm',\n",
       " u'age',\n",
       " u'dis',\n",
       " u'rad',\n",
       " u'tax',\n",
       " u'ptratio',\n",
       " u'b',\n",
       " u'lstat',\n",
       " u'medv']"
      ]
     },
     "execution_count": 90,
     "metadata": {},
     "output_type": "execute_result"
    }
   ],
   "source": [
    "glm_model_with_training_and_validtion._model_json['output']['names']"
   ]
  },
  {
   "cell_type": "code",
   "execution_count": 91,
   "metadata": {
    "collapsed": true
   },
   "outputs": [],
   "source": [
    "glm_model_with_training_and_validtion._model_json['output']['cross_validation_predictions']"
   ]
  },
  {
   "cell_type": "code",
   "execution_count": 92,
   "metadata": {},
   "outputs": [
    {
     "data": {
      "text/plain": [
       "[{u'URL': u'/3/Frames/prediction_GLM_model_python_1510608322538_3_cv_1',\n",
       "  u'__meta': {u'schema_name': u'FrameKeyV3',\n",
       "   u'schema_type': u'Key<Frame>',\n",
       "   u'schema_version': 3},\n",
       "  u'name': u'prediction_GLM_model_python_1510608322538_3_cv_1',\n",
       "  u'type': u'Key<Frame>'},\n",
       " {u'URL': u'/3/Frames/prediction_GLM_model_python_1510608322538_3_cv_2',\n",
       "  u'__meta': {u'schema_name': u'FrameKeyV3',\n",
       "   u'schema_type': u'Key<Frame>',\n",
       "   u'schema_version': 3},\n",
       "  u'name': u'prediction_GLM_model_python_1510608322538_3_cv_2',\n",
       "  u'type': u'Key<Frame>'},\n",
       " {u'URL': u'/3/Frames/prediction_GLM_model_python_1510608322538_3_cv_3',\n",
       "  u'__meta': {u'schema_name': u'FrameKeyV3',\n",
       "   u'schema_type': u'Key<Frame>',\n",
       "   u'schema_version': 3},\n",
       "  u'name': u'prediction_GLM_model_python_1510608322538_3_cv_3',\n",
       "  u'type': u'Key<Frame>'},\n",
       " {u'URL': u'/3/Frames/prediction_GLM_model_python_1510608322538_3_cv_4',\n",
       "  u'__meta': {u'schema_name': u'FrameKeyV3',\n",
       "   u'schema_type': u'Key<Frame>',\n",
       "   u'schema_version': 3},\n",
       "  u'name': u'prediction_GLM_model_python_1510608322538_3_cv_4',\n",
       "  u'type': u'Key<Frame>'},\n",
       " {u'URL': u'/3/Frames/prediction_GLM_model_python_1510608322538_3_cv_5',\n",
       "  u'__meta': {u'schema_name': u'FrameKeyV3',\n",
       "   u'schema_type': u'Key<Frame>',\n",
       "   u'schema_version': 3},\n",
       "  u'name': u'prediction_GLM_model_python_1510608322538_3_cv_5',\n",
       "  u'type': u'Key<Frame>'}]"
      ]
     },
     "execution_count": 92,
     "metadata": {},
     "output_type": "execute_result"
    }
   ],
   "source": [
    "glm_model_with_training_and_cv._model_json['output']['cross_validation_predictions']"
   ]
  },
  {
   "cell_type": "code",
   "execution_count": 93,
   "metadata": {},
   "outputs": [
    {
     "name": "stdout",
     "output_type": "stream",
     "text": [
      "\n",
      "ModelMetricsRegressionGLM: glm\n",
      "** Reported on train data. **\n",
      "\n",
      "MSE: 21.4904862593\n",
      "RMSE: 4.63578324119\n",
      "MAE: 3.17657880157\n",
      "RMSLE: NaN\n",
      "R^2: 0.744639059652\n",
      "Mean Residual Deviance: 21.4904862593\n",
      "Null degrees of freedom: 406\n",
      "Residual degrees of freedom: 393\n",
      "Null deviance: 34252.0194968\n",
      "Residual deviance: 8746.62790752\n",
      "AIC: 2433.53337345\n"
     ]
    },
    {
     "data": {
      "text/plain": []
     },
     "execution_count": 93,
     "metadata": {},
     "output_type": "execute_result"
    }
   ],
   "source": [
    "glm_model_with_training_and_cv._model_json['output']['training_metrics']"
   ]
  },
  {
   "cell_type": "code",
   "execution_count": 94,
   "metadata": {},
   "outputs": [
    {
     "data": {
      "text/plain": [
       "21.490486259273535"
      ]
     },
     "execution_count": 94,
     "metadata": {},
     "output_type": "execute_result"
    }
   ],
   "source": [
    "glm_model_with_training_and_cv._model_json['output']['training_metrics']['MSE']"
   ]
  },
  {
   "cell_type": "code",
   "execution_count": 95,
   "metadata": {
    "collapsed": true
   },
   "outputs": [],
   "source": [
    "glm_model_with_training_and_cv._model_json['output']['training_metrics']['R^2']"
   ]
  },
  {
   "cell_type": "code",
   "execution_count": 96,
   "metadata": {
    "collapsed": true
   },
   "outputs": [],
   "source": [
    "#: List of H2O objects (all in memory)"
   ]
  },
  {
   "cell_type": "code",
   "execution_count": 97,
   "metadata": {},
   "outputs": [
    {
     "data": {
      "text/html": [
       "<div>\n",
       "<style>\n",
       "    .dataframe thead tr:only-child th {\n",
       "        text-align: right;\n",
       "    }\n",
       "\n",
       "    .dataframe thead th {\n",
       "        text-align: left;\n",
       "    }\n",
       "\n",
       "    .dataframe tbody tr th {\n",
       "        vertical-align: top;\n",
       "    }\n",
       "</style>\n",
       "<table border=\"1\" class=\"dataframe\">\n",
       "  <thead>\n",
       "    <tr style=\"text-align: right;\">\n",
       "      <th></th>\n",
       "      <th>key</th>\n",
       "    </tr>\n",
       "  </thead>\n",
       "  <tbody>\n",
       "    <tr>\n",
       "      <th>0</th>\n",
       "      <td>GLM_model_python_1510608322538_1</td>\n",
       "    </tr>\n",
       "    <tr>\n",
       "      <th>1</th>\n",
       "      <td>GLM_model_python_1510608322538_2</td>\n",
       "    </tr>\n",
       "    <tr>\n",
       "      <th>2</th>\n",
       "      <td>GLM_model_python_1510608322538_2_cv_1</td>\n",
       "    </tr>\n",
       "    <tr>\n",
       "      <th>3</th>\n",
       "      <td>GLM_model_python_1510608322538_2_cv_2</td>\n",
       "    </tr>\n",
       "    <tr>\n",
       "      <th>4</th>\n",
       "      <td>GLM_model_python_1510608322538_2_cv_3</td>\n",
       "    </tr>\n",
       "    <tr>\n",
       "      <th>5</th>\n",
       "      <td>GLM_model_python_1510608322538_2_cv_4</td>\n",
       "    </tr>\n",
       "    <tr>\n",
       "      <th>6</th>\n",
       "      <td>GLM_model_python_1510608322538_2_cv_5</td>\n",
       "    </tr>\n",
       "    <tr>\n",
       "      <th>7</th>\n",
       "      <td>GLM_model_python_1510608322538_3</td>\n",
       "    </tr>\n",
       "    <tr>\n",
       "      <th>8</th>\n",
       "      <td>GLM_model_python_1510608322538_3_cv_1</td>\n",
       "    </tr>\n",
       "    <tr>\n",
       "      <th>9</th>\n",
       "      <td>GLM_model_python_1510608322538_3_cv_2</td>\n",
       "    </tr>\n",
       "    <tr>\n",
       "      <th>10</th>\n",
       "      <td>GLM_model_python_1510608322538_3_cv_3</td>\n",
       "    </tr>\n",
       "    <tr>\n",
       "      <th>11</th>\n",
       "      <td>GLM_model_python_1510608322538_3_cv_4</td>\n",
       "    </tr>\n",
       "    <tr>\n",
       "      <th>12</th>\n",
       "      <td>GLM_model_python_1510608322538_3_cv_5</td>\n",
       "    </tr>\n",
       "    <tr>\n",
       "      <th>13</th>\n",
       "      <td>cv_holdout_prediction_GLM_model_python_1510608...</td>\n",
       "    </tr>\n",
       "    <tr>\n",
       "      <th>14</th>\n",
       "      <td>glm_model_with_training_and_validtion_python</td>\n",
       "    </tr>\n",
       "    <tr>\n",
       "      <th>15</th>\n",
       "      <td>house_price_test.hex</td>\n",
       "    </tr>\n",
       "    <tr>\n",
       "      <th>16</th>\n",
       "      <td>house_price_train.hex</td>\n",
       "    </tr>\n",
       "    <tr>\n",
       "      <th>17</th>\n",
       "      <td>modelmetrics_GLM_model_python_1510608322538_1@...</td>\n",
       "    </tr>\n",
       "    <tr>\n",
       "      <th>18</th>\n",
       "      <td>modelmetrics_GLM_model_python_1510608322538_2@...</td>\n",
       "    </tr>\n",
       "    <tr>\n",
       "      <th>19</th>\n",
       "      <td>modelmetrics_GLM_model_python_1510608322538_2_...</td>\n",
       "    </tr>\n",
       "    <tr>\n",
       "      <th>20</th>\n",
       "      <td>modelmetrics_GLM_model_python_1510608322538_2_...</td>\n",
       "    </tr>\n",
       "    <tr>\n",
       "      <th>21</th>\n",
       "      <td>modelmetrics_GLM_model_python_1510608322538_2_...</td>\n",
       "    </tr>\n",
       "    <tr>\n",
       "      <th>22</th>\n",
       "      <td>modelmetrics_GLM_model_python_1510608322538_2_...</td>\n",
       "    </tr>\n",
       "    <tr>\n",
       "      <th>23</th>\n",
       "      <td>modelmetrics_GLM_model_python_1510608322538_2_...</td>\n",
       "    </tr>\n",
       "    <tr>\n",
       "      <th>24</th>\n",
       "      <td>modelmetrics_GLM_model_python_1510608322538_2_...</td>\n",
       "    </tr>\n",
       "    <tr>\n",
       "      <th>25</th>\n",
       "      <td>modelmetrics_GLM_model_python_1510608322538_2_...</td>\n",
       "    </tr>\n",
       "    <tr>\n",
       "      <th>26</th>\n",
       "      <td>modelmetrics_GLM_model_python_1510608322538_2_...</td>\n",
       "    </tr>\n",
       "    <tr>\n",
       "      <th>27</th>\n",
       "      <td>modelmetrics_GLM_model_python_1510608322538_2_...</td>\n",
       "    </tr>\n",
       "    <tr>\n",
       "      <th>28</th>\n",
       "      <td>modelmetrics_GLM_model_python_1510608322538_2_...</td>\n",
       "    </tr>\n",
       "    <tr>\n",
       "      <th>29</th>\n",
       "      <td>modelmetrics_GLM_model_python_1510608322538_3@...</td>\n",
       "    </tr>\n",
       "    <tr>\n",
       "      <th>30</th>\n",
       "      <td>modelmetrics_GLM_model_python_1510608322538_3_...</td>\n",
       "    </tr>\n",
       "    <tr>\n",
       "      <th>31</th>\n",
       "      <td>modelmetrics_GLM_model_python_1510608322538_3_...</td>\n",
       "    </tr>\n",
       "    <tr>\n",
       "      <th>32</th>\n",
       "      <td>modelmetrics_GLM_model_python_1510608322538_3_...</td>\n",
       "    </tr>\n",
       "    <tr>\n",
       "      <th>33</th>\n",
       "      <td>modelmetrics_GLM_model_python_1510608322538_3_...</td>\n",
       "    </tr>\n",
       "    <tr>\n",
       "      <th>34</th>\n",
       "      <td>modelmetrics_GLM_model_python_1510608322538_3_...</td>\n",
       "    </tr>\n",
       "    <tr>\n",
       "      <th>35</th>\n",
       "      <td>modelmetrics_GLM_model_python_1510608322538_3_...</td>\n",
       "    </tr>\n",
       "    <tr>\n",
       "      <th>36</th>\n",
       "      <td>modelmetrics_GLM_model_python_1510608322538_3_...</td>\n",
       "    </tr>\n",
       "    <tr>\n",
       "      <th>37</th>\n",
       "      <td>modelmetrics_GLM_model_python_1510608322538_3_...</td>\n",
       "    </tr>\n",
       "    <tr>\n",
       "      <th>38</th>\n",
       "      <td>modelmetrics_GLM_model_python_1510608322538_3_...</td>\n",
       "    </tr>\n",
       "    <tr>\n",
       "      <th>39</th>\n",
       "      <td>modelmetrics_GLM_model_python_1510608322538_3_...</td>\n",
       "    </tr>\n",
       "    <tr>\n",
       "      <th>40</th>\n",
       "      <td>modelmetrics_GLM_model_python_1510608322538_3_...</td>\n",
       "    </tr>\n",
       "    <tr>\n",
       "      <th>41</th>\n",
       "      <td>modelmetrics_GLM_model_python_1510608322538_3_...</td>\n",
       "    </tr>\n",
       "    <tr>\n",
       "      <th>42</th>\n",
       "      <td>modelmetrics_GLM_model_python_1510608322538_3_...</td>\n",
       "    </tr>\n",
       "    <tr>\n",
       "      <th>43</th>\n",
       "      <td>modelmetrics_GLM_model_python_1510608322538_3_...</td>\n",
       "    </tr>\n",
       "    <tr>\n",
       "      <th>44</th>\n",
       "      <td>modelmetrics_GLM_model_python_1510608322538_3_...</td>\n",
       "    </tr>\n",
       "    <tr>\n",
       "      <th>45</th>\n",
       "      <td>modelmetrics_glm_model_with_training_and_valid...</td>\n",
       "    </tr>\n",
       "    <tr>\n",
       "      <th>46</th>\n",
       "      <td>modelmetrics_glm_model_with_training_and_valid...</td>\n",
       "    </tr>\n",
       "    <tr>\n",
       "      <th>47</th>\n",
       "      <td>modelmetrics_glm_model_with_training_and_valid...</td>\n",
       "    </tr>\n",
       "    <tr>\n",
       "      <th>48</th>\n",
       "      <td>prediction_GLM_model_python_1510608322538_3_cv_1</td>\n",
       "    </tr>\n",
       "    <tr>\n",
       "      <th>49</th>\n",
       "      <td>prediction_GLM_model_python_1510608322538_3_cv_2</td>\n",
       "    </tr>\n",
       "    <tr>\n",
       "      <th>50</th>\n",
       "      <td>prediction_GLM_model_python_1510608322538_3_cv_3</td>\n",
       "    </tr>\n",
       "    <tr>\n",
       "      <th>51</th>\n",
       "      <td>prediction_GLM_model_python_1510608322538_3_cv_4</td>\n",
       "    </tr>\n",
       "    <tr>\n",
       "      <th>52</th>\n",
       "      <td>prediction_GLM_model_python_1510608322538_3_cv_5</td>\n",
       "    </tr>\n",
       "    <tr>\n",
       "      <th>53</th>\n",
       "      <td>predictions_b1e2_glm_model_with_training_and_v...</td>\n",
       "    </tr>\n",
       "    <tr>\n",
       "      <th>54</th>\n",
       "      <td>py_15_sid_9612_splitter</td>\n",
       "    </tr>\n",
       "    <tr>\n",
       "      <th>55</th>\n",
       "      <td>py_17_sid_9612</td>\n",
       "    </tr>\n",
       "    <tr>\n",
       "      <th>56</th>\n",
       "      <td>py_18_sid_9612</td>\n",
       "    </tr>\n",
       "  </tbody>\n",
       "</table>\n",
       "</div>"
      ],
      "text/plain": [
       "                                                  key\n",
       "0                    GLM_model_python_1510608322538_1\n",
       "1                    GLM_model_python_1510608322538_2\n",
       "2               GLM_model_python_1510608322538_2_cv_1\n",
       "3               GLM_model_python_1510608322538_2_cv_2\n",
       "4               GLM_model_python_1510608322538_2_cv_3\n",
       "5               GLM_model_python_1510608322538_2_cv_4\n",
       "6               GLM_model_python_1510608322538_2_cv_5\n",
       "7                    GLM_model_python_1510608322538_3\n",
       "8               GLM_model_python_1510608322538_3_cv_1\n",
       "9               GLM_model_python_1510608322538_3_cv_2\n",
       "10              GLM_model_python_1510608322538_3_cv_3\n",
       "11              GLM_model_python_1510608322538_3_cv_4\n",
       "12              GLM_model_python_1510608322538_3_cv_5\n",
       "13  cv_holdout_prediction_GLM_model_python_1510608...\n",
       "14       glm_model_with_training_and_validtion_python\n",
       "15                               house_price_test.hex\n",
       "16                              house_price_train.hex\n",
       "17  modelmetrics_GLM_model_python_1510608322538_1@...\n",
       "18  modelmetrics_GLM_model_python_1510608322538_2@...\n",
       "19  modelmetrics_GLM_model_python_1510608322538_2_...\n",
       "20  modelmetrics_GLM_model_python_1510608322538_2_...\n",
       "21  modelmetrics_GLM_model_python_1510608322538_2_...\n",
       "22  modelmetrics_GLM_model_python_1510608322538_2_...\n",
       "23  modelmetrics_GLM_model_python_1510608322538_2_...\n",
       "24  modelmetrics_GLM_model_python_1510608322538_2_...\n",
       "25  modelmetrics_GLM_model_python_1510608322538_2_...\n",
       "26  modelmetrics_GLM_model_python_1510608322538_2_...\n",
       "27  modelmetrics_GLM_model_python_1510608322538_2_...\n",
       "28  modelmetrics_GLM_model_python_1510608322538_2_...\n",
       "29  modelmetrics_GLM_model_python_1510608322538_3@...\n",
       "30  modelmetrics_GLM_model_python_1510608322538_3_...\n",
       "31  modelmetrics_GLM_model_python_1510608322538_3_...\n",
       "32  modelmetrics_GLM_model_python_1510608322538_3_...\n",
       "33  modelmetrics_GLM_model_python_1510608322538_3_...\n",
       "34  modelmetrics_GLM_model_python_1510608322538_3_...\n",
       "35  modelmetrics_GLM_model_python_1510608322538_3_...\n",
       "36  modelmetrics_GLM_model_python_1510608322538_3_...\n",
       "37  modelmetrics_GLM_model_python_1510608322538_3_...\n",
       "38  modelmetrics_GLM_model_python_1510608322538_3_...\n",
       "39  modelmetrics_GLM_model_python_1510608322538_3_...\n",
       "40  modelmetrics_GLM_model_python_1510608322538_3_...\n",
       "41  modelmetrics_GLM_model_python_1510608322538_3_...\n",
       "42  modelmetrics_GLM_model_python_1510608322538_3_...\n",
       "43  modelmetrics_GLM_model_python_1510608322538_3_...\n",
       "44  modelmetrics_GLM_model_python_1510608322538_3_...\n",
       "45  modelmetrics_glm_model_with_training_and_valid...\n",
       "46  modelmetrics_glm_model_with_training_and_valid...\n",
       "47  modelmetrics_glm_model_with_training_and_valid...\n",
       "48   prediction_GLM_model_python_1510608322538_3_cv_1\n",
       "49   prediction_GLM_model_python_1510608322538_3_cv_2\n",
       "50   prediction_GLM_model_python_1510608322538_3_cv_3\n",
       "51   prediction_GLM_model_python_1510608322538_3_cv_4\n",
       "52   prediction_GLM_model_python_1510608322538_3_cv_5\n",
       "53  predictions_b1e2_glm_model_with_training_and_v...\n",
       "54                            py_15_sid_9612_splitter\n",
       "55                                     py_17_sid_9612\n",
       "56                                     py_18_sid_9612"
      ]
     },
     "execution_count": 97,
     "metadata": {},
     "output_type": "execute_result"
    }
   ],
   "source": [
    "h2o.ls()"
   ]
  },
  {
   "cell_type": "code",
   "execution_count": 101,
   "metadata": {
    "collapsed": true
   },
   "outputs": [],
   "source": [
    "#: Getting the model object in Python,by passing the H2O model ID"
   ]
  },
  {
   "cell_type": "code",
   "execution_count": 98,
   "metadata": {
    "collapsed": true
   },
   "outputs": [],
   "source": [
    "## Try below after the exercise from R\n",
    "glm_model_from_R = h2o.get_model(\"glm_model_with_training_and_validtion_in_R\")\n",
    "glm_model_from_R\n",
    "print(glm_model_from_R.r2())"
   ]
  },
  {
   "cell_type": "code",
   "execution_count": 103,
   "metadata": {
    "collapsed": true
   },
   "outputs": [],
   "source": [
    "#: Getting the model object in Python,by passing the H2O model ID"
   ]
  },
  {
   "cell_type": "code",
   "execution_count": 104,
   "metadata": {},
   "outputs": [
    {
     "data": {
      "text/plain": [
       "u'glm_model_with_training_and_validtion_python'"
      ]
     },
     "execution_count": 104,
     "metadata": {},
     "output_type": "execute_result"
    }
   ],
   "source": [
    "glm_model_with_training_and_validtion.model_id"
   ]
  },
  {
   "cell_type": "code",
   "execution_count": 105,
   "metadata": {
    "collapsed": true
   },
   "outputs": [],
   "source": [
    "#: Finding the type of an H2O Object"
   ]
  },
  {
   "cell_type": "code",
   "execution_count": 106,
   "metadata": {},
   "outputs": [
    {
     "data": {
      "text/plain": [
       "h2o.estimators.glm.H2OGeneralizedLinearEstimator"
      ]
     },
     "execution_count": 106,
     "metadata": {},
     "output_type": "execute_result"
    }
   ],
   "source": [
    "type(glm_model_with_training_and_cv)"
   ]
  },
  {
   "cell_type": "code",
   "execution_count": null,
   "metadata": {
    "collapsed": true
   },
   "outputs": [],
   "source": []
  }
 ],
 "metadata": {
  "kernelspec": {
   "display_name": "Python 2",
   "language": "python",
   "name": "python2"
  },
  "language_info": {
   "codemirror_mode": {
    "name": "ipython",
    "version": 2
   },
   "file_extension": ".py",
   "mimetype": "text/x-python",
   "name": "python",
   "nbconvert_exporter": "python",
   "pygments_lexer": "ipython2",
   "version": "2.7.13"
  }
 },
 "nbformat": 4,
 "nbformat_minor": 2
}
