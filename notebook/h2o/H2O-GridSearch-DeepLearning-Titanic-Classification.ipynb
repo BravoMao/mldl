{
 "cells": [
  {
   "cell_type": "code",
   "execution_count": 1,
   "metadata": {
    "collapsed": true
   },
   "outputs": [],
   "source": [
    "###: Loading H2O Library"
   ]
  },
  {
   "cell_type": "code",
   "execution_count": 2,
   "metadata": {
    "collapsed": true
   },
   "outputs": [],
   "source": [
    "import h2o"
   ]
  },
  {
   "cell_type": "code",
   "execution_count": 3,
   "metadata": {
    "collapsed": true
   },
   "outputs": [],
   "source": [
    "###: Get H2O Version"
   ]
  },
  {
   "cell_type": "code",
   "execution_count": 4,
   "metadata": {},
   "outputs": [
    {
     "data": {
      "text/plain": [
       "u'3.14.0.7'"
      ]
     },
     "execution_count": 4,
     "metadata": {},
     "output_type": "execute_result"
    }
   ],
   "source": [
    "h2o.__version__"
   ]
  },
  {
   "cell_type": "code",
   "execution_count": 5,
   "metadata": {
    "collapsed": true
   },
   "outputs": [],
   "source": [
    "###: Initalizing H2O cluster"
   ]
  },
  {
   "cell_type": "code",
   "execution_count": 6,
   "metadata": {},
   "outputs": [
    {
     "name": "stderr",
     "output_type": "stream",
     "text": [
      "ERROR:h2o:Key init.version_check is not a valid config key\n"
     ]
    },
    {
     "name": "stdout",
     "output_type": "stream",
     "text": [
      "Checking whether there is an H2O instance running at http://localhost:54321. connected.\n"
     ]
    },
    {
     "data": {
      "text/html": [
       "<div style=\"overflow:auto\"><table style=\"width:50%\"><tr><td>H2O cluster uptime:</td>\n",
       "<td>2 days 4 hours 56 mins</td></tr>\n",
       "<tr><td>H2O cluster version:</td>\n",
       "<td>3.14.0.7</td></tr>\n",
       "<tr><td>H2O cluster version age:</td>\n",
       "<td>1 month and 2 days </td></tr>\n",
       "<tr><td>H2O cluster name:</td>\n",
       "<td>H2O_from_python_avkashchauhan_d7ekmq</td></tr>\n",
       "<tr><td>H2O cluster total nodes:</td>\n",
       "<td>1</td></tr>\n",
       "<tr><td>H2O cluster free memory:</td>\n",
       "<td>2.605 Gb</td></tr>\n",
       "<tr><td>H2O cluster total cores:</td>\n",
       "<td>8</td></tr>\n",
       "<tr><td>H2O cluster allowed cores:</td>\n",
       "<td>8</td></tr>\n",
       "<tr><td>H2O cluster status:</td>\n",
       "<td>locked, healthy</td></tr>\n",
       "<tr><td>H2O connection url:</td>\n",
       "<td>http://localhost:54321</td></tr>\n",
       "<tr><td>H2O connection proxy:</td>\n",
       "<td>None</td></tr>\n",
       "<tr><td>H2O internal security:</td>\n",
       "<td>False</td></tr>\n",
       "<tr><td>H2O API Extensions:</td>\n",
       "<td>XGBoost, Algos, AutoML, Core V3, Core V4</td></tr>\n",
       "<tr><td>Python version:</td>\n",
       "<td>2.7.13 final</td></tr></table></div>"
      ],
      "text/plain": [
       "--------------------------  ----------------------------------------\n",
       "H2O cluster uptime:         2 days 4 hours 56 mins\n",
       "H2O cluster version:        3.14.0.7\n",
       "H2O cluster version age:    1 month and 2 days\n",
       "H2O cluster name:           H2O_from_python_avkashchauhan_d7ekmq\n",
       "H2O cluster total nodes:    1\n",
       "H2O cluster free memory:    2.605 Gb\n",
       "H2O cluster total cores:    8\n",
       "H2O cluster allowed cores:  8\n",
       "H2O cluster status:         locked, healthy\n",
       "H2O connection url:         http://localhost:54321\n",
       "H2O connection proxy:\n",
       "H2O internal security:      False\n",
       "H2O API Extensions:         XGBoost, Algos, AutoML, Core V3, Core V4\n",
       "Python version:             2.7.13 final\n",
       "--------------------------  ----------------------------------------"
      ]
     },
     "metadata": {},
     "output_type": "display_data"
    }
   ],
   "source": [
    "h2o.init()"
   ]
  },
  {
   "cell_type": "code",
   "execution_count": 7,
   "metadata": {
    "collapsed": true
   },
   "outputs": [],
   "source": [
    "###: Importing both training and test dataset into H2O cluster memory"
   ]
  },
  {
   "cell_type": "code",
   "execution_count": 8,
   "metadata": {},
   "outputs": [
    {
     "name": "stdout",
     "output_type": "stream",
     "text": [
      "Parse progress: |█████████████████████████████████████████████████████████| 100%\n"
     ]
    }
   ],
   "source": [
    "df = h2o.import_file(\"https://raw.githubusercontent.com/Avkash/mldl/master/data/titanic_list.csv\")"
   ]
  },
  {
   "cell_type": "code",
   "execution_count": 9,
   "metadata": {
    "collapsed": true
   },
   "outputs": [],
   "source": [
    "### Understanding the dataset"
   ]
  },
  {
   "cell_type": "code",
   "execution_count": 10,
   "metadata": {},
   "outputs": [
    {
     "name": "stdout",
     "output_type": "stream",
     "text": [
      "Rows:1309\n",
      "Cols:14\n",
      "\n",
      "\n"
     ]
    },
    {
     "data": {
      "text/html": [
       "<table>\n",
       "<thead>\n",
       "<tr><th>       </th><th>pclass       </th><th>survived      </th><th>name                                           </th><th>sex   </th><th>age          </th><th>sibsp         </th><th>parch         </th><th>ticket       </th><th>fare         </th><th>cabin  </th><th>embarked  </th><th>boat         </th><th>body         </th><th>home.dest                      </th></tr>\n",
       "</thead>\n",
       "<tbody>\n",
       "<tr><td>type   </td><td>int          </td><td>int           </td><td>string                                         </td><td>enum  </td><td>real         </td><td>int           </td><td>int           </td><td>int          </td><td>real         </td><td>enum   </td><td>enum      </td><td>int          </td><td>int          </td><td>enum                           </td></tr>\n",
       "<tr><td>mins   </td><td>1.0          </td><td>0.0           </td><td>NaN                                            </td><td>      </td><td>0.1667       </td><td>0.0           </td><td>0.0           </td><td>680.0        </td><td>0.0          </td><td>       </td><td>          </td><td>1.0          </td><td>1.0          </td><td>                               </td></tr>\n",
       "<tr><td>mean   </td><td>2.294881589  </td><td>0.381970970206</td><td>NaN                                            </td><td>      </td><td>29.8811345124</td><td>0.498854087089</td><td>0.385026737968</td><td>249039.136886</td><td>33.2954792813</td><td>       </td><td>          </td><td>9.40452261307</td><td>160.809917355</td><td>                               </td></tr>\n",
       "<tr><td>maxs   </td><td>3.0          </td><td>1.0           </td><td>NaN                                            </td><td>      </td><td>80.0         </td><td>8.0           </td><td>9.0           </td><td>3101298.0    </td><td>512.3292     </td><td>       </td><td>          </td><td>16.0         </td><td>328.0        </td><td>                               </td></tr>\n",
       "<tr><td>sigma  </td><td>0.83783601897</td><td>0.486055170866</td><td>NaN                                            </td><td>      </td><td>14.4134996999</td><td>1.0416583906  </td><td>0.86556027535 </td><td>442685.317677</td><td>51.7586682392</td><td>       </td><td>          </td><td>4.3574169836 </td><td>97.696921996 </td><td>                               </td></tr>\n",
       "<tr><td>zeros  </td><td>0            </td><td>809           </td><td>0                                              </td><td>      </td><td>0            </td><td>891           </td><td>1002          </td><td>0            </td><td>17           </td><td>       </td><td>          </td><td>0            </td><td>0            </td><td>                               </td></tr>\n",
       "<tr><td>missing</td><td>0            </td><td>0             </td><td>0                                              </td><td>0     </td><td>263          </td><td>0             </td><td>0             </td><td>352          </td><td>1            </td><td>1014   </td><td>2         </td><td>911          </td><td>1188         </td><td>564                            </td></tr>\n",
       "<tr><td>0      </td><td>1.0          </td><td>1.0           </td><td>Allen, Miss. Elisabeth Walton                  </td><td>female</td><td>29.0         </td><td>0.0           </td><td>0.0           </td><td>24160.0      </td><td>211.3375     </td><td>B5     </td><td>S         </td><td>2.0          </td><td>nan          </td><td>St Louis, MO                   </td></tr>\n",
       "<tr><td>1      </td><td>1.0          </td><td>1.0           </td><td>Allison, Master. Hudson Trevor                 </td><td>male  </td><td>0.9167       </td><td>1.0           </td><td>2.0           </td><td>113781.0     </td><td>151.55       </td><td>C22 C26</td><td>S         </td><td>11.0         </td><td>nan          </td><td>Montreal, PQ / Chesterville, ON</td></tr>\n",
       "<tr><td>2      </td><td>1.0          </td><td>0.0           </td><td>Allison, Miss. Helen Loraine                   </td><td>female</td><td>2.0          </td><td>1.0           </td><td>2.0           </td><td>113781.0     </td><td>151.55       </td><td>C22 C26</td><td>S         </td><td>nan          </td><td>nan          </td><td>Montreal, PQ / Chesterville, ON</td></tr>\n",
       "<tr><td>3      </td><td>1.0          </td><td>0.0           </td><td>Allison, Mr. Hudson Joshua Creighton           </td><td>male  </td><td>30.0         </td><td>1.0           </td><td>2.0           </td><td>113781.0     </td><td>151.55       </td><td>C22 C26</td><td>S         </td><td>nan          </td><td>135.0        </td><td>Montreal, PQ / Chesterville, ON</td></tr>\n",
       "<tr><td>4      </td><td>1.0          </td><td>0.0           </td><td>Allison, Mrs. Hudson J C (Bessie Waldo Daniels)</td><td>female</td><td>25.0         </td><td>1.0           </td><td>2.0           </td><td>113781.0     </td><td>151.55       </td><td>C22 C26</td><td>S         </td><td>nan          </td><td>nan          </td><td>Montreal, PQ / Chesterville, ON</td></tr>\n",
       "<tr><td>5      </td><td>1.0          </td><td>1.0           </td><td>Anderson, Mr. Harry                            </td><td>male  </td><td>48.0         </td><td>0.0           </td><td>0.0           </td><td>19952.0      </td><td>26.55        </td><td>E12    </td><td>S         </td><td>3.0          </td><td>nan          </td><td>New York, NY                   </td></tr>\n",
       "<tr><td>6      </td><td>1.0          </td><td>1.0           </td><td>Andrews, Miss. Kornelia Theodosia              </td><td>female</td><td>63.0         </td><td>1.0           </td><td>0.0           </td><td>13502.0      </td><td>77.9583      </td><td>D7     </td><td>S         </td><td>10.0         </td><td>nan          </td><td>Hudson, NY                     </td></tr>\n",
       "<tr><td>7      </td><td>1.0          </td><td>0.0           </td><td>Andrews, Mr. Thomas Jr                         </td><td>male  </td><td>39.0         </td><td>0.0           </td><td>0.0           </td><td>112050.0     </td><td>0.0          </td><td>A36    </td><td>S         </td><td>nan          </td><td>nan          </td><td>Belfast, NI                    </td></tr>\n",
       "<tr><td>8      </td><td>1.0          </td><td>1.0           </td><td>Appleton, Mrs. Edward Dale (Charlotte Lamson)  </td><td>female</td><td>53.0         </td><td>2.0           </td><td>0.0           </td><td>11769.0      </td><td>51.4792      </td><td>C101   </td><td>S         </td><td>nan          </td><td>nan          </td><td>Bayside, Queens, NY            </td></tr>\n",
       "<tr><td>9      </td><td>1.0          </td><td>0.0           </td><td>Artagaveytia, Mr. Ramon                        </td><td>male  </td><td>71.0         </td><td>0.0           </td><td>0.0           </td><td>nan          </td><td>49.5042      </td><td>       </td><td>C         </td><td>nan          </td><td>22.0         </td><td>Montevideo, Uruguay            </td></tr>\n",
       "</tbody>\n",
       "</table>"
      ]
     },
     "metadata": {},
     "output_type": "display_data"
    }
   ],
   "source": [
    "df.describe()"
   ]
  },
  {
   "cell_type": "code",
   "execution_count": 11,
   "metadata": {
    "collapsed": true
   },
   "outputs": [],
   "source": [
    "###: Listing all columns"
   ]
  },
  {
   "cell_type": "code",
   "execution_count": 12,
   "metadata": {},
   "outputs": [
    {
     "data": {
      "text/plain": [
       "[u'pclass',\n",
       " u'survived',\n",
       " u'name',\n",
       " u'sex',\n",
       " u'age',\n",
       " u'sibsp',\n",
       " u'parch',\n",
       " u'ticket',\n",
       " u'fare',\n",
       " u'cabin',\n",
       " u'embarked',\n",
       " u'boat',\n",
       " u'body',\n",
       " u'home.dest']"
      ]
     },
     "execution_count": 12,
     "metadata": {},
     "output_type": "execute_result"
    }
   ],
   "source": [
    "df.col_names"
   ]
  },
  {
   "cell_type": "code",
   "execution_count": 13,
   "metadata": {
    "collapsed": true
   },
   "outputs": [],
   "source": [
    "###: Setting response variable"
   ]
  },
  {
   "cell_type": "code",
   "execution_count": 14,
   "metadata": {
    "collapsed": true
   },
   "outputs": [],
   "source": [
    "response = \"survived\""
   ]
  },
  {
   "cell_type": "code",
   "execution_count": 15,
   "metadata": {
    "collapsed": true
   },
   "outputs": [],
   "source": [
    "###: Setting response variable to enum or categorical so we can build a classification model"
   ]
  },
  {
   "cell_type": "code",
   "execution_count": 16,
   "metadata": {
    "collapsed": true
   },
   "outputs": [],
   "source": [
    "df[response] = df[response].asfactor()"
   ]
  },
  {
   "cell_type": "code",
   "execution_count": 17,
   "metadata": {
    "collapsed": true
   },
   "outputs": [],
   "source": [
    "###: Spliting the dataset into train and test "
   ]
  },
  {
   "cell_type": "code",
   "execution_count": 18,
   "metadata": {
    "collapsed": true
   },
   "outputs": [],
   "source": [
    "train_df, test_df = df.split_frame(ratios=[0.9])"
   ]
  },
  {
   "cell_type": "code",
   "execution_count": 19,
   "metadata": {},
   "outputs": [
    {
     "name": "stdout",
     "output_type": "stream",
     "text": [
      "(1167, 14)\n",
      "(142, 14)\n"
     ]
    }
   ],
   "source": [
    "print(train_df.shape)\n",
    "print(test_df.shape)"
   ]
  },
  {
   "cell_type": "code",
   "execution_count": 20,
   "metadata": {
    "collapsed": true
   },
   "outputs": [],
   "source": [
    "###: Understanding Training dataset"
   ]
  },
  {
   "cell_type": "code",
   "execution_count": 21,
   "metadata": {},
   "outputs": [
    {
     "name": "stdout",
     "output_type": "stream",
     "text": [
      "Rows:1167\n",
      "Cols:14\n",
      "\n",
      "\n"
     ]
    },
    {
     "data": {
      "text/html": [
       "<table>\n",
       "<thead>\n",
       "<tr><th>       </th><th>pclass        </th><th>survived  </th><th>name                                           </th><th>sex   </th><th>age          </th><th>sibsp         </th><th>parch         </th><th>ticket       </th><th>fare         </th><th>cabin  </th><th>embarked  </th><th>boat         </th><th>body         </th><th>home.dest                      </th></tr>\n",
       "</thead>\n",
       "<tbody>\n",
       "<tr><td>type   </td><td>int           </td><td>enum      </td><td>string                                         </td><td>enum  </td><td>real         </td><td>int           </td><td>int           </td><td>int          </td><td>real         </td><td>enum   </td><td>enum      </td><td>int          </td><td>int          </td><td>enum                           </td></tr>\n",
       "<tr><td>mins   </td><td>1.0           </td><td>          </td><td>NaN                                            </td><td>      </td><td>0.1667       </td><td>0.0           </td><td>0.0           </td><td>680.0        </td><td>0.0          </td><td>       </td><td>          </td><td>1.0          </td><td>4.0          </td><td>                               </td></tr>\n",
       "<tr><td>mean   </td><td>2.29648671808 </td><td>          </td><td>NaN                                            </td><td>      </td><td>29.9981382979</td><td>0.489288774636</td><td>0.384747215081</td><td>252612.167637</td><td>32.904380446 </td><td>       </td><td>          </td><td>9.40909090909</td><td>162.769911504</td><td>                               </td></tr>\n",
       "<tr><td>maxs   </td><td>3.0           </td><td>          </td><td>NaN                                            </td><td>      </td><td>80.0         </td><td>8.0           </td><td>9.0           </td><td>3101298.0    </td><td>512.3292     </td><td>       </td><td>          </td><td>16.0         </td><td>328.0        </td><td>                               </td></tr>\n",
       "<tr><td>sigma  </td><td>0.834204253869</td><td>          </td><td>NaN                                            </td><td>      </td><td>14.4055360562</td><td>1.02775217665 </td><td>0.876728139284</td><td>453655.743615</td><td>50.7146162286</td><td>       </td><td>          </td><td>4.34386980344</td><td>98.9141952157</td><td>                               </td></tr>\n",
       "<tr><td>zeros  </td><td>0             </td><td>          </td><td>0                                              </td><td>      </td><td>0            </td><td>796           </td><td>894           </td><td>0            </td><td>14           </td><td>       </td><td>          </td><td>0            </td><td>0            </td><td>                               </td></tr>\n",
       "<tr><td>missing</td><td>0             </td><td>0         </td><td>0                                              </td><td>0     </td><td>227          </td><td>0             </td><td>0             </td><td>308          </td><td>1            </td><td>902    </td><td>2         </td><td>815          </td><td>1054         </td><td>500                            </td></tr>\n",
       "<tr><td>0      </td><td>1.0           </td><td>1         </td><td>Allen, Miss. Elisabeth Walton                  </td><td>female</td><td>29.0         </td><td>0.0           </td><td>0.0           </td><td>24160.0      </td><td>211.3375     </td><td>B5     </td><td>S         </td><td>2.0          </td><td>nan          </td><td>St Louis, MO                   </td></tr>\n",
       "<tr><td>1      </td><td>1.0           </td><td>1         </td><td>Allison, Master. Hudson Trevor                 </td><td>male  </td><td>0.9167       </td><td>1.0           </td><td>2.0           </td><td>113781.0     </td><td>151.55       </td><td>C22 C26</td><td>S         </td><td>11.0         </td><td>nan          </td><td>Montreal, PQ / Chesterville, ON</td></tr>\n",
       "<tr><td>2      </td><td>1.0           </td><td>0         </td><td>Allison, Miss. Helen Loraine                   </td><td>female</td><td>2.0          </td><td>1.0           </td><td>2.0           </td><td>113781.0     </td><td>151.55       </td><td>C22 C26</td><td>S         </td><td>nan          </td><td>nan          </td><td>Montreal, PQ / Chesterville, ON</td></tr>\n",
       "<tr><td>3      </td><td>1.0           </td><td>0         </td><td>Allison, Mr. Hudson Joshua Creighton           </td><td>male  </td><td>30.0         </td><td>1.0           </td><td>2.0           </td><td>113781.0     </td><td>151.55       </td><td>C22 C26</td><td>S         </td><td>nan          </td><td>135.0        </td><td>Montreal, PQ / Chesterville, ON</td></tr>\n",
       "<tr><td>4      </td><td>1.0           </td><td>0         </td><td>Allison, Mrs. Hudson J C (Bessie Waldo Daniels)</td><td>female</td><td>25.0         </td><td>1.0           </td><td>2.0           </td><td>113781.0     </td><td>151.55       </td><td>C22 C26</td><td>S         </td><td>nan          </td><td>nan          </td><td>Montreal, PQ / Chesterville, ON</td></tr>\n",
       "<tr><td>5      </td><td>1.0           </td><td>1         </td><td>Anderson, Mr. Harry                            </td><td>male  </td><td>48.0         </td><td>0.0           </td><td>0.0           </td><td>19952.0      </td><td>26.55        </td><td>E12    </td><td>S         </td><td>3.0          </td><td>nan          </td><td>New York, NY                   </td></tr>\n",
       "<tr><td>6      </td><td>1.0           </td><td>1         </td><td>Andrews, Miss. Kornelia Theodosia              </td><td>female</td><td>63.0         </td><td>1.0           </td><td>0.0           </td><td>13502.0      </td><td>77.9583      </td><td>D7     </td><td>S         </td><td>10.0         </td><td>nan          </td><td>Hudson, NY                     </td></tr>\n",
       "<tr><td>7      </td><td>1.0           </td><td>0         </td><td>Andrews, Mr. Thomas Jr                         </td><td>male  </td><td>39.0         </td><td>0.0           </td><td>0.0           </td><td>112050.0     </td><td>0.0          </td><td>A36    </td><td>S         </td><td>nan          </td><td>nan          </td><td>Belfast, NI                    </td></tr>\n",
       "<tr><td>8      </td><td>1.0           </td><td>1         </td><td>Appleton, Mrs. Edward Dale (Charlotte Lamson)  </td><td>female</td><td>53.0         </td><td>2.0           </td><td>0.0           </td><td>11769.0      </td><td>51.4792      </td><td>C101   </td><td>S         </td><td>nan          </td><td>nan          </td><td>Bayside, Queens, NY            </td></tr>\n",
       "<tr><td>9      </td><td>1.0           </td><td>0         </td><td>Artagaveytia, Mr. Ramon                        </td><td>male  </td><td>71.0         </td><td>0.0           </td><td>0.0           </td><td>nan          </td><td>49.5042      </td><td>       </td><td>C         </td><td>nan          </td><td>22.0         </td><td>Montevideo, Uruguay            </td></tr>\n",
       "</tbody>\n",
       "</table>"
      ]
     },
     "metadata": {},
     "output_type": "display_data"
    }
   ],
   "source": [
    "train_df.describe()"
   ]
  },
  {
   "cell_type": "code",
   "execution_count": 22,
   "metadata": {
    "collapsed": true
   },
   "outputs": [],
   "source": [
    "###: Understanding Test dataset"
   ]
  },
  {
   "cell_type": "code",
   "execution_count": 23,
   "metadata": {},
   "outputs": [
    {
     "name": "stdout",
     "output_type": "stream",
     "text": [
      "Rows:142\n",
      "Cols:14\n",
      "\n",
      "\n"
     ]
    },
    {
     "data": {
      "text/html": [
       "<table>\n",
       "<thead>\n",
       "<tr><th>       </th><th>pclass       </th><th>survived  </th><th>name                                     </th><th>sex   </th><th>age          </th><th>sibsp         </th><th>parch         </th><th>ticket       </th><th>fare         </th><th>cabin  </th><th>embarked  </th><th>boat         </th><th>body         </th><th>home.dest                         </th></tr>\n",
       "</thead>\n",
       "<tbody>\n",
       "<tr><td>type   </td><td>int          </td><td>enum      </td><td>string                                   </td><td>enum  </td><td>real         </td><td>int           </td><td>int           </td><td>int          </td><td>real         </td><td>enum   </td><td>enum      </td><td>int          </td><td>int          </td><td>enum                              </td></tr>\n",
       "<tr><td>mins   </td><td>1.0          </td><td>          </td><td>NaN                                      </td><td>      </td><td>0.4167       </td><td>0.0           </td><td>0.0           </td><td>1601.0       </td><td>0.0          </td><td>       </td><td>          </td><td>1.0          </td><td>1.0          </td><td>                                  </td></tr>\n",
       "<tr><td>mean   </td><td>2.28169014085</td><td>          </td><td>NaN                                      </td><td>      </td><td>28.8435537736</td><td>0.577464788732</td><td>0.387323943662</td><td>217720.428571</td><td>36.5068964789</td><td>       </td><td>          </td><td>9.36956521739</td><td>133.125      </td><td>                                  </td></tr>\n",
       "<tr><td>maxs   </td><td>3.0          </td><td>          </td><td>NaN                                      </td><td>      </td><td>74.0         </td><td>8.0           </td><td>4.0           </td><td>3101281.0    </td><td>512.3292     </td><td>       </td><td>          </td><td>16.0         </td><td>209.0        </td><td>                                  </td></tr>\n",
       "<tr><td>sigma  </td><td>0.87003869795</td><td>          </td><td>NaN                                      </td><td>      </td><td>14.5110501882</td><td>1.15054069104 </td><td>0.770452492534</td><td>331523.737485</td><td>59.751840531 </td><td>       </td><td>          </td><td>4.50855333118</td><td>78.3644188574</td><td>                                  </td></tr>\n",
       "<tr><td>zeros  </td><td>0            </td><td>          </td><td>0                                        </td><td>      </td><td>0            </td><td>95            </td><td>108           </td><td>0            </td><td>3            </td><td>       </td><td>          </td><td>0            </td><td>0            </td><td>                                  </td></tr>\n",
       "<tr><td>missing</td><td>0            </td><td>0         </td><td>0                                        </td><td>0     </td><td>36           </td><td>0             </td><td>0             </td><td>44           </td><td>0            </td><td>112    </td><td>0         </td><td>96           </td><td>134          </td><td>64                                </td></tr>\n",
       "<tr><td>0      </td><td>1.0          </td><td>0         </td><td>Beattie, Mr. Thomson                     </td><td>male  </td><td>36.0         </td><td>0.0           </td><td>0.0           </td><td>13050.0      </td><td>75.2417      </td><td>C6     </td><td>C         </td><td>nan          </td><td>nan          </td><td>Winnipeg, MN                      </td></tr>\n",
       "<tr><td>1      </td><td>1.0          </td><td>1         </td><td>Behr, Mr. Karl Howell                    </td><td>male  </td><td>26.0         </td><td>0.0           </td><td>0.0           </td><td>111369.0     </td><td>30.0         </td><td>C148   </td><td>C         </td><td>5.0          </td><td>nan          </td><td>New York, NY                      </td></tr>\n",
       "<tr><td>2      </td><td>1.0          </td><td>1         </td><td>Bishop, Mr. Dickinson H                  </td><td>male  </td><td>25.0         </td><td>1.0           </td><td>0.0           </td><td>11967.0      </td><td>91.0792      </td><td>B49    </td><td>C         </td><td>7.0          </td><td>nan          </td><td>Dowagiac, MI                      </td></tr>\n",
       "<tr><td>3      </td><td>1.0          </td><td>1         </td><td>Bjornstrom-Steffansson, Mr. Mauritz Hakan</td><td>male  </td><td>28.0         </td><td>0.0           </td><td>0.0           </td><td>110564.0     </td><td>26.55        </td><td>C52    </td><td>S         </td><td>nan          </td><td>nan          </td><td>Stockholm, Sweden / Washington, DC</td></tr>\n",
       "<tr><td>4      </td><td>1.0          </td><td>0         </td><td>Brandeis, Mr. Emil                       </td><td>male  </td><td>48.0         </td><td>0.0           </td><td>0.0           </td><td>nan          </td><td>50.4958      </td><td>B10    </td><td>C         </td><td>nan          </td><td>208.0        </td><td>Omaha, NE                         </td></tr>\n",
       "<tr><td>5      </td><td>1.0          </td><td>1         </td><td>Brown, Mrs. James Joseph (Margaret Tobin)</td><td>female</td><td>44.0         </td><td>0.0           </td><td>0.0           </td><td>nan          </td><td>27.7208      </td><td>B4     </td><td>C         </td><td>6.0          </td><td>nan          </td><td>Denver, CO                        </td></tr>\n",
       "<tr><td>6      </td><td>1.0          </td><td>0         </td><td>Carrau, Mr. Francisco M                  </td><td>male  </td><td>28.0         </td><td>0.0           </td><td>0.0           </td><td>113059.0     </td><td>47.1         </td><td>       </td><td>S         </td><td>nan          </td><td>nan          </td><td>Montevideo, Uruguay               </td></tr>\n",
       "<tr><td>7      </td><td>1.0          </td><td>0         </td><td>Carrau, Mr. Jose Pedro                   </td><td>male  </td><td>17.0         </td><td>0.0           </td><td>0.0           </td><td>113059.0     </td><td>47.1         </td><td>       </td><td>S         </td><td>nan          </td><td>nan          </td><td>Montevideo, Uruguay               </td></tr>\n",
       "<tr><td>8      </td><td>1.0          </td><td>1         </td><td>Carter, Mr. William Ernest               </td><td>male  </td><td>36.0         </td><td>1.0           </td><td>2.0           </td><td>113760.0     </td><td>120.0        </td><td>B96 B98</td><td>S         </td><td>nan          </td><td>nan          </td><td>Bryn Mawr, PA                     </td></tr>\n",
       "<tr><td>9      </td><td>1.0          </td><td>0         </td><td>Case, Mr. Howard Brown                   </td><td>male  </td><td>49.0         </td><td>0.0           </td><td>0.0           </td><td>19924.0      </td><td>26.0         </td><td>       </td><td>S         </td><td>nan          </td><td>nan          </td><td>Ascot, Berkshire / Rochester, NY  </td></tr>\n",
       "</tbody>\n",
       "</table>"
      ]
     },
     "metadata": {},
     "output_type": "display_data"
    }
   ],
   "source": [
    "test_df.describe()"
   ]
  },
  {
   "cell_type": "code",
   "execution_count": 24,
   "metadata": {
    "collapsed": true
   },
   "outputs": [],
   "source": [
    "###: Training and test dataset - columns and rows details"
   ]
  },
  {
   "cell_type": "code",
   "execution_count": 25,
   "metadata": {},
   "outputs": [
    {
     "name": "stdout",
     "output_type": "stream",
     "text": [
      "(1167, 14)\n",
      "(142, 14)\n"
     ]
    }
   ],
   "source": [
    "print(train_df.shape)\n",
    "print(test_df.shape)"
   ]
  },
  {
   "cell_type": "code",
   "execution_count": 26,
   "metadata": {
    "collapsed": true
   },
   "outputs": [],
   "source": [
    "###: Training and Test Dataframes - columns names"
   ]
  },
  {
   "cell_type": "code",
   "execution_count": 27,
   "metadata": {},
   "outputs": [
    {
     "name": "stdout",
     "output_type": "stream",
     "text": [
      "[u'pclass', u'survived', u'name', u'sex', u'age', u'sibsp', u'parch', u'ticket', u'fare', u'cabin', u'embarked', u'boat', u'body', u'home.dest']\n",
      "[u'pclass', u'survived', u'name', u'sex', u'age', u'sibsp', u'parch', u'ticket', u'fare', u'cabin', u'embarked', u'boat', u'body', u'home.dest']\n"
     ]
    }
   ],
   "source": [
    "print(train_df.col_names)\n",
    "print(test_df.col_names)"
   ]
  },
  {
   "cell_type": "code",
   "execution_count": 28,
   "metadata": {
    "collapsed": true
   },
   "outputs": [],
   "source": [
    "###: Settings all features for supervised machine learning"
   ]
  },
  {
   "cell_type": "code",
   "execution_count": 29,
   "metadata": {},
   "outputs": [
    {
     "name": "stdout",
     "output_type": "stream",
     "text": [
      "[u'pclass', u'survived', u'name', u'sex', u'age', u'sibsp', u'parch', u'ticket', u'fare', u'cabin', u'embarked', u'boat', u'body', u'home.dest']\n"
     ]
    }
   ],
   "source": [
    "features = train_df.col_names\n",
    "print(features)"
   ]
  },
  {
   "cell_type": "code",
   "execution_count": 30,
   "metadata": {
    "collapsed": true
   },
   "outputs": [],
   "source": [
    "###: Creating a list of all features we will use for machine learning"
   ]
  },
  {
   "cell_type": "code",
   "execution_count": 31,
   "metadata": {},
   "outputs": [
    {
     "name": "stdout",
     "output_type": "stream",
     "text": [
      "[u'pclass', u'name', u'sex', u'age', u'sibsp', u'parch', u'ticket', u'fare', u'cabin', u'embarked', u'boat', u'body', u'home.dest']\n"
     ]
    }
   ],
   "source": [
    "features.remove(response)\n",
    "print(features)"
   ]
  },
  {
   "cell_type": "code",
   "execution_count": 32,
   "metadata": {
    "collapsed": true
   },
   "outputs": [],
   "source": [
    "###: Ignoring other features which are not needed for training"
   ]
  },
  {
   "cell_type": "code",
   "execution_count": 33,
   "metadata": {},
   "outputs": [
    {
     "name": "stdout",
     "output_type": "stream",
     "text": [
      "[u'pclass', u'sex', u'age', u'sibsp', u'parch', u'fare', u'cabin', u'embarked', u'boat', u'body']\n"
     ]
    }
   ],
   "source": [
    "for feature_name in ['name', 'ticket', 'home.dest']:\n",
    "    features.remove(feature_name)\n",
    "print(features)    "
   ]
  },
  {
   "cell_type": "code",
   "execution_count": 34,
   "metadata": {
    "collapsed": true
   },
   "outputs": [],
   "source": [
    "###: Understanding response variable values as historgram in Training data"
   ]
  },
  {
   "cell_type": "code",
   "execution_count": 35,
   "metadata": {},
   "outputs": [
    {
     "data": {
      "image/png": "[encoded data removed]",
      "text/plain": [
       "<matplotlib.figure.Figure at 0x116ad0810>"
      ]
     },
     "metadata": {},
     "output_type": "display_data"
    }
   ],
   "source": [
    "train_df[response].asnumeric().hist()"
   ]
  },
  {
   "cell_type": "code",
   "execution_count": 37,
   "metadata": {
    "collapsed": true
   },
   "outputs": [],
   "source": [
    "###: Importing H2O H2ODeepLearningEstimator to build Deep Learning Model"
   ]
  },
  {
   "cell_type": "code",
   "execution_count": 38,
   "metadata": {
    "collapsed": true
   },
   "outputs": [],
   "source": [
    "from h2o.estimators.deeplearning import H2ODeepLearningEstimator"
   ]
  },
  {
   "cell_type": "code",
   "execution_count": 39,
   "metadata": {
    "collapsed": true
   },
   "outputs": [],
   "source": [
    "###:Building Deep Learning -  Classification model with cross validation"
   ]
  },
  {
   "cell_type": "code",
   "execution_count": 40,
   "metadata": {
    "collapsed": true
   },
   "outputs": [],
   "source": [
    "dl_model_with_cv = H2ODeepLearningEstimator(nfolds=5)"
   ]
  },
  {
   "cell_type": "code",
   "execution_count": 41,
   "metadata": {
    "collapsed": true
   },
   "outputs": [],
   "source": [
    "###: Training the model"
   ]
  },
  {
   "cell_type": "code",
   "execution_count": 42,
   "metadata": {},
   "outputs": [
    {
     "name": "stdout",
     "output_type": "stream",
     "text": [
      "deeplearning Model Build progress: |██████████████████████████████████████| 100%\n"
     ]
    }
   ],
   "source": [
    "dl_model_with_cv.train(x = features, y = response, training_frame=train_df)"
   ]
  },
  {
   "cell_type": "code",
   "execution_count": 43,
   "metadata": {
    "collapsed": true
   },
   "outputs": [],
   "source": [
    "###: Getting model performance"
   ]
  },
  {
   "cell_type": "code",
   "execution_count": 45,
   "metadata": {},
   "outputs": [
    {
     "data": {
      "text/plain": [
       "0.8923387096774194"
      ]
     },
     "execution_count": 45,
     "metadata": {},
     "output_type": "execute_result"
    }
   ],
   "source": [
    "dl_model_with_cv.model_performance(valid=True,test_data=test_df).auc()"
   ]
  },
  {
   "cell_type": "code",
   "execution_count": 46,
   "metadata": {
    "collapsed": true
   },
   "outputs": [],
   "source": [
    "###:Building Deep Learning Classification model with cross validation and key Deep Learning parameters configuration"
   ]
  },
  {
   "cell_type": "code",
   "execution_count": 50,
   "metadata": {
    "collapsed": true
   },
   "outputs": [],
   "source": [
    "dl_model_cv_config = H2ODeepLearningEstimator(nfolds=5,\n",
    "                                                    keep_cross_validation_predictions=True,\n",
    "                                                    fold_assignment=\"auto\",\n",
    "                                                    seed=12345)"
   ]
  },
  {
   "cell_type": "code",
   "execution_count": 51,
   "metadata": {
    "collapsed": true
   },
   "outputs": [],
   "source": [
    "###: Training Deep Learning Model"
   ]
  },
  {
   "cell_type": "code",
   "execution_count": 52,
   "metadata": {},
   "outputs": [
    {
     "name": "stdout",
     "output_type": "stream",
     "text": [
      "deeplearning Model Build progress: |██████████████████████████████████████| 100%\n"
     ]
    }
   ],
   "source": [
    "dl_model_cv_config.train(x = features, y = response, \n",
    "                                            training_frame=train_df, \n",
    "                                           model_id = \"dl_model_with_training_and_validtion_python\")"
   ]
  },
  {
   "cell_type": "code",
   "execution_count": 53,
   "metadata": {
    "collapsed": true
   },
   "outputs": [],
   "source": [
    "###: Getting Deep Learning model performance on test data"
   ]
  },
  {
   "cell_type": "code",
   "execution_count": 54,
   "metadata": {},
   "outputs": [
    {
     "data": {
      "text/plain": [
       "0.8997983870967742"
      ]
     },
     "execution_count": 54,
     "metadata": {},
     "output_type": "execute_result"
    }
   ],
   "source": [
    "dl_model_cv_config.model_performance(valid=True,test_data=test_df).auc()"
   ]
  },
  {
   "cell_type": "code",
   "execution_count": 55,
   "metadata": {
    "collapsed": true
   },
   "outputs": [],
   "source": [
    "###: Importing H2O Grid Library"
   ]
  },
  {
   "cell_type": "code",
   "execution_count": 56,
   "metadata": {
    "collapsed": true
   },
   "outputs": [],
   "source": [
    "from h2o.grid import H2OGridSearch"
   ]
  },
  {
   "cell_type": "code",
   "execution_count": 58,
   "metadata": {
    "collapsed": true
   },
   "outputs": [],
   "source": [
    "###: Settings Deep Learning grid parameters"
   ]
  },
  {
   "cell_type": "code",
   "execution_count": 59,
   "metadata": {
    "collapsed": true
   },
   "outputs": [],
   "source": [
    "dl_hyper_params = {\"hidden\": [10,20,30],\n",
    "                \"epochs\": [ 10, 15, 20],\n",
    "                \"score_training_samples\": [10, 20, 30],\n",
    "                \"train_samples_per_iteration\": [5,10,20]}"
   ]
  },
  {
   "cell_type": "code",
   "execution_count": 60,
   "metadata": {
    "collapsed": true
   },
   "outputs": [],
   "source": [
    "###: Setting H2O Grid Search Criteria"
   ]
  },
  {
   "cell_type": "code",
   "execution_count": 61,
   "metadata": {
    "collapsed": true
   },
   "outputs": [],
   "source": [
    "grid_search_criteria = { 'strategy': \"RandomDiscrete\", \n",
    "                    'seed': 123,\n",
    "                    'stopping_metric': \"AUTO\", \n",
    "                    'stopping_tolerance': 0.01,\n",
    "                    'stopping_rounds': 5 }"
   ]
  },
  {
   "cell_type": "code",
   "execution_count": 62,
   "metadata": {
    "collapsed": true
   },
   "outputs": [],
   "source": [
    "###: Finalzing the H2O Grid searching settings"
   ]
  },
  {
   "cell_type": "code",
   "execution_count": 67,
   "metadata": {},
   "outputs": [],
   "source": [
    "dl_grid = H2OGridSearch(model=H2ODeepLearningEstimator(\n",
    "                                                    nfolds=5,\n",
    "                                                    keep_cross_validation_predictions=True,\n",
    "                                                    fold_assignment=\"auto\",\n",
    "                                                    seed=12345),\n",
    "                     hyper_params=dl_hyper_params,\n",
    "                     search_criteria=grid_search_criteria,\n",
    "                     grid_id=\"titnaic_dl_grid\")"
   ]
  },
  {
   "cell_type": "code",
   "execution_count": 68,
   "metadata": {
    "collapsed": true
   },
   "outputs": [],
   "source": [
    "###: Finally training H2O Grid with data "
   ]
  },
  {
   "cell_type": "code",
   "execution_count": 69,
   "metadata": {},
   "outputs": [
    {
     "name": "stdout",
     "output_type": "stream",
     "text": [
      "deeplearning Grid Build progress: |███████████████████████████████████████| 100%\n"
     ]
    }
   ],
   "source": [
    "dl_grid.train(x=features, y=response, training_frame=train_df)"
   ]
  },
  {
   "cell_type": "code",
   "execution_count": 70,
   "metadata": {
    "collapsed": true
   },
   "outputs": [],
   "source": [
    "###: Finally getting total count of DL models"
   ]
  },
  {
   "cell_type": "code",
   "execution_count": 71,
   "metadata": {},
   "outputs": [
    {
     "data": {
      "text/plain": [
       "81"
      ]
     },
     "execution_count": 71,
     "metadata": {},
     "output_type": "execute_result"
    }
   ],
   "source": [
    "len(dl_grid)"
   ]
  },
  {
   "cell_type": "code",
   "execution_count": 72,
   "metadata": {
    "collapsed": true
   },
   "outputs": [],
   "source": [
    "###: Defining a function to find the best model from the grid based on r2 or auc"
   ]
  },
  {
   "cell_type": "code",
   "execution_count": 73,
   "metadata": {
    "collapsed": true
   },
   "outputs": [],
   "source": [
    "def find_best_model_from_grid(h2o_grid, test_parameter):    \n",
    "    model_list = []\n",
    "    for grid_item in h2o_grid:\n",
    "        if test_parameter is \"r2\":\n",
    "            if not (grid_item.r2() == \"NaN\"):\n",
    "                model_list.append(grid_item.r2())\n",
    "            else:\n",
    "                model_list.append(0.0)            \n",
    "        elif test_parameter is \"auc\":\n",
    "            if not (grid_item.auc() == \"NaN\"):\n",
    "                model_list.append(grid_item.auc())\n",
    "            else:\n",
    "                model_list.append(0.0)            \n",
    "    #print(model_list)        \n",
    "    max_index = model_list.index(max(model_list))\n",
    "    #print(max_index)\n",
    "    best_model = h2o_grid[max_index]\n",
    "    print(\"Model ID with best R2: \" +  best_model.model_id)\n",
    "    if test_parameter is \"r2\":\n",
    "        print(\"Best R2: \" +  str(best_model.r2()))\n",
    "    elif test_parameter is \"auc\":\n",
    "        print(\"Best AUC: \" +  str(best_model.auc()))\n",
    "    return best_model"
   ]
  },
  {
   "cell_type": "code",
   "execution_count": 74,
   "metadata": {
    "collapsed": true
   },
   "outputs": [],
   "source": [
    "###: Applying the function to get the best model from the grid"
   ]
  },
  {
   "cell_type": "code",
   "execution_count": 75,
   "metadata": {},
   "outputs": [
    {
     "name": "stdout",
     "output_type": "stream",
     "text": [
      "Model ID with best R2: titnaic_dl_grid_model_45\n",
      "Best AUC: 1.0\n"
     ]
    }
   ],
   "source": [
    "best_model = find_best_model_from_grid(dl_grid, \"auc\")"
   ]
  },
  {
   "cell_type": "code",
   "execution_count": 76,
   "metadata": {
    "collapsed": true
   },
   "outputs": [],
   "source": [
    "###: Getting the best model performance on test data"
   ]
  },
  {
   "cell_type": "code",
   "execution_count": 77,
   "metadata": {},
   "outputs": [
    {
     "data": {
      "text/plain": [
       "0.9151209677419354"
      ]
     },
     "execution_count": 77,
     "metadata": {},
     "output_type": "execute_result"
    }
   ],
   "source": [
    "best_model.model_performance(valid=True,test_data=test_df).auc()"
   ]
  },
  {
   "cell_type": "code",
   "execution_count": 78,
   "metadata": {
    "collapsed": true
   },
   "outputs": [],
   "source": [
    "###: Performing predictions with one of the above model"
   ]
  },
  {
   "cell_type": "code",
   "execution_count": 80,
   "metadata": {},
   "outputs": [
    {
     "name": "stdout",
     "output_type": "stream",
     "text": [
      "deeplearning prediction progress: |███████████████████████████████████████| 100%\n"
     ]
    }
   ],
   "source": [
    "dl_predictions = best_model.predict(test_df)"
   ]
  },
  {
   "cell_type": "code",
   "execution_count": 82,
   "metadata": {},
   "outputs": [
    {
     "data": {
      "text/html": [
       "<table>\n",
       "<thead>\n",
       "<tr><th style=\"text-align: right;\">  predict</th><th style=\"text-align: right;\">        p0</th><th style=\"text-align: right;\">       p1</th></tr>\n",
       "</thead>\n",
       "<tbody>\n",
       "<tr><td style=\"text-align: right;\">        0</td><td style=\"text-align: right;\">0.888815  </td><td style=\"text-align: right;\">0.111185 </td></tr>\n",
       "<tr><td style=\"text-align: right;\">        1</td><td style=\"text-align: right;\">0.0134752 </td><td style=\"text-align: right;\">0.986525 </td></tr>\n",
       "<tr><td style=\"text-align: right;\">        1</td><td style=\"text-align: right;\">0.261938  </td><td style=\"text-align: right;\">0.738062 </td></tr>\n",
       "<tr><td style=\"text-align: right;\">        0</td><td style=\"text-align: right;\">0.630362  </td><td style=\"text-align: right;\">0.369638 </td></tr>\n",
       "<tr><td style=\"text-align: right;\">        0</td><td style=\"text-align: right;\">0.872941  </td><td style=\"text-align: right;\">0.127059 </td></tr>\n",
       "<tr><td style=\"text-align: right;\">        1</td><td style=\"text-align: right;\">0.00071294</td><td style=\"text-align: right;\">0.999287 </td></tr>\n",
       "<tr><td style=\"text-align: right;\">        0</td><td style=\"text-align: right;\">0.944677  </td><td style=\"text-align: right;\">0.055323 </td></tr>\n",
       "<tr><td style=\"text-align: right;\">        0</td><td style=\"text-align: right;\">0.916538  </td><td style=\"text-align: right;\">0.0834623</td></tr>\n",
       "<tr><td style=\"text-align: right;\">        0</td><td style=\"text-align: right;\">0.756722  </td><td style=\"text-align: right;\">0.243278 </td></tr>\n",
       "<tr><td style=\"text-align: right;\">        0</td><td style=\"text-align: right;\">0.95486   </td><td style=\"text-align: right;\">0.0451404</td></tr>\n",
       "</tbody>\n",
       "</table>"
      ]
     },
     "metadata": {},
     "output_type": "display_data"
    },
    {
     "data": {
      "text/plain": []
     },
     "execution_count": 82,
     "metadata": {},
     "output_type": "execute_result"
    }
   ],
   "source": [
    "dl_predictions"
   ]
  },
  {
   "cell_type": "code",
   "execution_count": 83,
   "metadata": {
    "collapsed": true
   },
   "outputs": [],
   "source": [
    "###: Understanding/Validating predictions based on prediction results historgram"
   ]
  },
  {
   "cell_type": "code",
   "execution_count": 84,
   "metadata": {},
   "outputs": [
    {
     "data": {
      "image/png": "[encoded data removed]",
      "text/plain": [
       "<matplotlib.figure.Figure at 0x11c58b290>"
      ]
     },
     "metadata": {},
     "output_type": "display_data"
    }
   ],
   "source": [
    "dl_predictions['predict'].asnumeric().hist()"
   ]
  },
  {
   "cell_type": "code",
   "execution_count": 85,
   "metadata": {
    "collapsed": true
   },
   "outputs": [],
   "source": [
    "###: Getting Scoring History"
   ]
  },
  {
   "cell_type": "code",
   "execution_count": 86,
   "metadata": {},
   "outputs": [
    {
     "data": {
      "text/html": [
       "<div>\n",
       "<style>\n",
       "    .dataframe thead tr:only-child th {\n",
       "        text-align: right;\n",
       "    }\n",
       "\n",
       "    .dataframe thead th {\n",
       "        text-align: left;\n",
       "    }\n",
       "\n",
       "    .dataframe tbody tr th {\n",
       "        vertical-align: top;\n",
       "    }\n",
       "</style>\n",
       "<table border=\"1\" class=\"dataframe\">\n",
       "  <thead>\n",
       "    <tr style=\"text-align: right;\">\n",
       "      <th></th>\n",
       "      <th></th>\n",
       "      <th>timestamp</th>\n",
       "      <th>duration</th>\n",
       "      <th>training_speed</th>\n",
       "      <th>epochs</th>\n",
       "      <th>iterations</th>\n",
       "      <th>samples</th>\n",
       "      <th>training_rmse</th>\n",
       "      <th>training_logloss</th>\n",
       "      <th>training_auc</th>\n",
       "      <th>training_lift</th>\n",
       "      <th>training_classification_error</th>\n",
       "    </tr>\n",
       "  </thead>\n",
       "  <tbody>\n",
       "    <tr>\n",
       "      <th>0</th>\n",
       "      <td></td>\n",
       "      <td>2017-11-23 00:23:51</td>\n",
       "      <td>0.000 sec</td>\n",
       "      <td>None</td>\n",
       "      <td>0.000000</td>\n",
       "      <td>0</td>\n",
       "      <td>0.0</td>\n",
       "      <td>NaN</td>\n",
       "      <td>NaN</td>\n",
       "      <td>NaN</td>\n",
       "      <td>NaN</td>\n",
       "      <td>NaN</td>\n",
       "    </tr>\n",
       "    <tr>\n",
       "      <th>1</th>\n",
       "      <td></td>\n",
       "      <td>2017-11-23 00:23:51</td>\n",
       "      <td>3 min  5.972 sec</td>\n",
       "      <td>9000 obs/sec</td>\n",
       "      <td>0.007712</td>\n",
       "      <td>1</td>\n",
       "      <td>9.0</td>\n",
       "      <td>0.786347</td>\n",
       "      <td>2.255278</td>\n",
       "      <td>0.885942</td>\n",
       "      <td>3.230769</td>\n",
       "      <td>0.142857</td>\n",
       "    </tr>\n",
       "    <tr>\n",
       "      <th>2</th>\n",
       "      <td></td>\n",
       "      <td>2017-11-23 00:23:52</td>\n",
       "      <td>3 min  7.585 sec</td>\n",
       "      <td>14494 obs/sec</td>\n",
       "      <td>20.009426</td>\n",
       "      <td>2344</td>\n",
       "      <td>23351.0</td>\n",
       "      <td>0.172085</td>\n",
       "      <td>0.119072</td>\n",
       "      <td>1.000000</td>\n",
       "      <td>3.230769</td>\n",
       "      <td>0.000000</td>\n",
       "    </tr>\n",
       "  </tbody>\n",
       "</table>\n",
       "</div>"
      ],
      "text/plain": [
       "               timestamp           duration training_speed     epochs  \\\n",
       "0    2017-11-23 00:23:51          0.000 sec           None   0.000000   \n",
       "1    2017-11-23 00:23:51   3 min  5.972 sec   9000 obs/sec   0.007712   \n",
       "2    2017-11-23 00:23:52   3 min  7.585 sec  14494 obs/sec  20.009426   \n",
       "\n",
       "   iterations  samples  training_rmse  training_logloss  training_auc  \\\n",
       "0           0      0.0            NaN               NaN           NaN   \n",
       "1           1      9.0       0.786347          2.255278      0.885942   \n",
       "2        2344  23351.0       0.172085          0.119072      1.000000   \n",
       "\n",
       "   training_lift  training_classification_error  \n",
       "0            NaN                            NaN  \n",
       "1       3.230769                       0.142857  \n",
       "2       3.230769                       0.000000  "
      ]
     },
     "execution_count": 86,
     "metadata": {},
     "output_type": "execute_result"
    }
   ],
   "source": [
    "best_model.scoring_history()"
   ]
  },
  {
   "cell_type": "code",
   "execution_count": 87,
   "metadata": {
    "collapsed": true
   },
   "outputs": [],
   "source": [
    "###: Getting GBM model variable importance "
   ]
  },
  {
   "cell_type": "code",
   "execution_count": 88,
   "metadata": {},
   "outputs": [
    {
     "data": {
      "text/plain": [
       "[(u'boat', 1.0, 1.0, 0.019625083188030055),\n",
       " (u'cabin.C93', 0.351115882396698, 0.351115882396698, 0.006890678400673775),\n",
       " (u'embarked.C',\n",
       "  0.32677406072616577,\n",
       "  0.32677406072616577,\n",
       "  0.006412968125441388),\n",
       " (u'cabin.E60', 0.32279011607170105, 0.32279011607170105, 0.00633478288018101),\n",
       " (u'parch', 0.32213109731674194, 0.32213109731674194, 0.006321849582292466),\n",
       " (u'cabin.C123', 0.3115446865558624, 0.3115446865558624, 0.006114090390447548),\n",
       " (u'cabin.C87', 0.3065374493598938, 0.3065374493598938, 0.006015822943934466),\n",
       " (u'cabin.B78',\n",
       "  0.30583781003952026,\n",
       "  0.30583781003952026,\n",
       "  0.006002092464070519),\n",
       " (u'sex.male', 0.30451783537864685, 0.30451783537864685, 0.005976187851544786),\n",
       " (u'cabin.A5', 0.3044489324092865, 0.3044489324092865, 0.005974835625039187),\n",
       " (u'cabin.B19', 0.3044120967388153, 0.3044120967388153, 0.005974112721941903),\n",
       " (u'cabin.C126', 0.3019355535507202, 0.3019355535507202, 0.005925510355856788),\n",
       " (u'cabin.B28',\n",
       "  0.30192098021507263,\n",
       "  0.30192098021507263,\n",
       "  0.005925224352932377),\n",
       " (u'cabin.F33',\n",
       "  0.30178189277648926,\n",
       "  0.30178189277648926,\n",
       "  0.005922494750379768),\n",
       " (u'cabin.A24', 0.3013128638267517, 0.3013128638267517, 0.005913290018223574),\n",
       " (u'cabin.C51',\n",
       "  0.29645827412605286,\n",
       "  0.29645827412605286,\n",
       "  0.005818018291503605),\n",
       " (u'cabin.F2', 0.29547634720802307, 0.29547634720802307, 0.005798747894052705),\n",
       " (u'cabin.E50', 0.2954329550266266, 0.2954329550266266, 0.005797896318883089),\n",
       " (u'cabin.A29',\n",
       "  0.29420021176338196,\n",
       "  0.29420021176338196,\n",
       "  0.005773703629792429),\n",
       " (u'cabin.C52', 0.292290061712265, 0.292290061712265, 0.005736216776137639),\n",
       " (u'cabin.B3', 0.2919807732105255, 0.2919807732105255, 0.005730146963561901),\n",
       " (u'cabin.E121', 0.291320264339447, 0.291320264339447, 0.005717184422020553),\n",
       " (u'cabin.D40',\n",
       "  0.29089441895484924,\n",
       "  0.29089441895484924,\n",
       "  0.005708827170922583),\n",
       " (u'cabin.D7', 0.28997689485549927, 0.28997689485549927, 0.005690820684145817),\n",
       " (u'cabin.C99',\n",
       "  0.28967228531837463,\n",
       "  0.28967228531837463,\n",
       "  0.005684842696639879),\n",
       " (u'cabin.F E57',\n",
       "  0.2896631956100464,\n",
       "  0.2896631956100464,\n",
       "  0.005684664310357783),\n",
       " (u'cabin.C22 C26',\n",
       "  0.2864002585411072,\n",
       "  0.2864002585411072,\n",
       "  0.005620628898942544),\n",
       " (u'cabin.C55 C57',\n",
       "  0.28547388315200806,\n",
       "  0.28547388315200806,\n",
       "  0.0056024487048681295),\n",
       " (u'cabin.C83', 0.2846832275390625, 0.2846832275390625, 0.00558693202269099),\n",
       " (u'age', 0.28436294198036194, 0.28436294198036194, 0.005580646391957567),\n",
       " (u'cabin.C86',\n",
       "  0.28265494108200073,\n",
       "  0.28265494108200073,\n",
       "  0.005547126732241998),\n",
       " (u'cabin.A36', 0.2821688950061798, 0.2821688950061798, 0.005537588037570797),\n",
       " (u'cabin.D35',\n",
       "  0.28061002492904663,\n",
       "  0.28061002492904663,\n",
       "  0.005506995082627727),\n",
       " (u'cabin.E10', 0.2800936698913574, 0.2800936698913574, 0.005496861572058518),\n",
       " (u'cabin.C101', 0.2794141173362732, 0.2794141173362732, 0.005483525296634352),\n",
       " (u'cabin.C106', 0.2785586416721344, 0.2785586416721344, 0.005466736515560293),\n",
       " (u'embarked.missing(NA)',\n",
       "  0.27833986282348633,\n",
       "  0.27833986282348633,\n",
       "  0.0054624429624557935),\n",
       " (u'cabin.A23', 0.2782706916332245, 0.2782706916332245, 0.00546108547209269),\n",
       " (u'cabin.D47', 0.2780873477458954, 0.2780873477458954, 0.005457487333051839),\n",
       " (u'cabin.B71',\n",
       "  0.27699217200279236,\n",
       "  0.27699217200279236,\n",
       "  0.005435994417987929),\n",
       " (u'cabin.C62 C64', 0.274391770362854, 0.274391770362854, 0.00538496131948185),\n",
       " (u'pclass', 0.27432525157928467, 0.27432525157928467, 0.005383655882820734),\n",
       " (u'cabin.C82', 0.2742167115211487, 0.2742167115211487, 0.0053815257751505825),\n",
       " (u'cabin.A16', 0.2740315794944763, 0.2740315794944763, 0.005377892543726368),\n",
       " (u'cabin.B4', 0.27353987097740173, 0.27353987097740173, 0.005368242723174517),\n",
       " (u'cabin.A18',\n",
       "  0.27310019731521606,\n",
       "  0.27310019731521606,\n",
       "  0.005359614090978538),\n",
       " (u'cabin.B45', 0.2728075385093689, 0.2728075385093689, 0.0053538706375680775),\n",
       " (u'cabin.B42',\n",
       "  0.27264782786369324,\n",
       "  0.27264782786369324,\n",
       "  0.005350736302860678),\n",
       " (u'cabin.D34', 0.27208417654037476, 0.27208417654037476, 0.00533967459875151),\n",
       " (u'cabin.B24',\n",
       "  0.27195775508880615,\n",
       "  0.27195775508880615,\n",
       "  0.005337193567247725),\n",
       " (u'cabin.C85', 0.2712361812591553, 0.2712361812591553, 0.0053230326208145206),\n",
       " (u'cabin.D43',\n",
       "  0.27037733793258667,\n",
       "  0.27037733793258667,\n",
       "  0.005306177749085128),\n",
       " (u'cabin.C47', 0.2695543169975281, 0.2695543169975281, 0.005290025894769112),\n",
       " (u'cabin.C68',\n",
       "  0.26864954829216003,\n",
       "  0.26864954829216003,\n",
       "  0.005272269733660338),\n",
       " (u'cabin.A7', 0.26762479543685913, 0.26762479543685913, 0.005252158873627887),\n",
       " (u'cabin.C80',\n",
       "  0.26754704117774963,\n",
       "  0.26754704117774963,\n",
       "  0.005250632939824639),\n",
       " (u'cabin.B5',\n",
       "  0.26739880442619324,\n",
       "  0.26739880442619324,\n",
       "  0.0052477237812438215),\n",
       " (u'cabin.D26',\n",
       "  0.26733121275901794,\n",
       "  0.26733121275901794,\n",
       "  0.005246397289152689),\n",
       " (u'cabin.B94', 0.2670668959617615, 0.2670668959617615, 0.005241210050018537),\n",
       " (u'cabin.A9', 0.2668462097644806, 0.2668462097644806, 0.005236879065038449),\n",
       " (u'cabin.B80',\n",
       "  0.26657944917678833,\n",
       "  0.26657944917678833,\n",
       "  0.005231643866313701),\n",
       " (u'cabin.C111',\n",
       "  0.26609906554222107,\n",
       "  0.26609906554222107,\n",
       "  0.00522221629752315),\n",
       " (u'cabin.C92', 0.2658229172229767, 0.2658229172229767, 0.005216796863785744),\n",
       " (u'cabin.E25',\n",
       "  0.26566949486732483,\n",
       "  0.26566949486732483,\n",
       "  0.005213785937293173),\n",
       " (u'cabin.D50', 0.2655157148838043, 0.2655157148838043, 0.0052107679923239295),\n",
       " (u'cabin.D19', 0.26537927985191345, 0.26537927985191345, 0.00520809044347331),\n",
       " (u'cabin.C53', 0.2645474374294281, 0.2645474374294281, 0.005191765466732702),\n",
       " (u'cabin.B20', 0.264279842376709, 0.264279842376709, 0.005186513891562384),\n",
       " (u'cabin.D49',\n",
       "  0.26387453079223633,\n",
       "  0.26387453079223633,\n",
       "  0.005178559618000036),\n",
       " (u'cabin.E31',\n",
       "  0.26352232694625854,\n",
       "  0.26352232694625854,\n",
       "  0.005171647588223578),\n",
       " (u'cabin.F38',\n",
       "  0.26337772607803345,\n",
       "  0.26337772607803345,\n",
       "  0.005168809784155599),\n",
       " (u'cabin.F E69',\n",
       "  0.2631774842739105,\n",
       "  0.2631774842739105,\n",
       "  0.005164880022091966),\n",
       " (u'cabin.C124',\n",
       "  0.26245826482772827,\n",
       "  0.26245826482772827,\n",
       "  0.00515076528063019),\n",
       " (u'cabin.C6', 0.26222920417785645, 0.26222920417785645, 0.005146269946321351),\n",
       " (u'cabin.C32', 0.2621735632419586, 0.2621735632419586, 0.005145177988325696),\n",
       " (u'cabin.E63', 0.2616908848285675, 0.2616908848285675, 0.00513570538430983),\n",
       " (u'sex.female', 0.2616811990737915, 0.2616811990737915, 0.005135515300566612),\n",
       " (u'cabin.T', 0.2614639401435852, 0.2614639401435852, 0.005131251575987971),\n",
       " (u'cabin.E33', 0.2606961727142334, 0.2606961727142334, 0.005116184076317881),\n",
       " (u'cabin.B38',\n",
       "  0.26057130098342896,\n",
       "  0.26057130098342896,\n",
       "  0.005113733458213011),\n",
       " (u'cabin.C132', 0.2597080171108246, 0.2597080171108246, 0.005096791440398265),\n",
       " (u'cabin.C2', 0.25921082496643066, 0.25921082496643066, 0.005087034003204099),\n",
       " (u'cabin.B57 B59 B63 B66',\n",
       "  0.25867530703544617,\n",
       "  0.25867530703544617,\n",
       "  0.005076524419259847),\n",
       " (u'cabin.E34', 0.258005291223526, 0.258005291223526, 0.0050633753032136184),\n",
       " (u'cabin.A21', 0.2575017809867859, 0.2575017809867859, 0.005053493872931569),\n",
       " (u'cabin.F E46',\n",
       "  0.2569320797920227,\n",
       "  0.2569320797920227,\n",
       "  0.005042313439592021),\n",
       " (u'cabin.C54',\n",
       "  0.25597846508026123,\n",
       "  0.25597846508026123,\n",
       "  0.005023598671544373),\n",
       " (u'cabin.D21',\n",
       "  0.25596508383750916,\n",
       "  0.25596508383750916,\n",
       "  0.005023336063542204),\n",
       " (u'cabin.C7', 0.25557756423950195, 0.25557756423950195, 0.005015730959194321),\n",
       " (u'cabin.C128',\n",
       "  0.25556689500808716,\n",
       "  0.25556689500808716,\n",
       "  0.005015521574640253),\n",
       " (u'cabin.A20', 0.2546195387840271, 0.2546195387840271, 0.004996929629934377),\n",
       " (u'embarked.S',\n",
       "  0.25370460748672485,\n",
       "  0.25370460748672485,\n",
       "  0.004978974027113487),\n",
       " (u'cabin.B30',\n",
       "  0.25312551856040955,\n",
       "  0.25312551856040955,\n",
       "  0.004967609358761283),\n",
       " (u'cabin.F G63',\n",
       "  0.25293803215026855,\n",
       "  0.25293803215026855,\n",
       "  0.004963929922365641),\n",
       " (u'cabin.E101', 0.2522810399532318, 0.2522810399532318, 0.004951036395844908),\n",
       " (u'cabin.C49',\n",
       "  0.25223982334136963,\n",
       "  0.25223982334136963,\n",
       "  0.004950227516408384),\n",
       " (u'cabin.C105', 0.2518365681171417, 0.2518365681171417, 0.004942313599086904),\n",
       " (u'cabin.B77',\n",
       "  0.25172653794288635,\n",
       "  0.25172653794288635,\n",
       "  0.004940154247763949),\n",
       " (u'embarked.Q',\n",
       "  0.25070786476135254,\n",
       "  0.25070786476135254,\n",
       "  0.004920162701834932),\n",
       " (u'cabin.C78', 0.2505277395248413, 0.2505277395248413, 0.004916627729084136),\n",
       " (u'cabin.A34', 0.2504923343658447, 0.2504923343658447, 0.004915932899893542),\n",
       " (u'cabin.B58 B60',\n",
       "  0.2503003776073456,\n",
       "  0.2503003776073456,\n",
       "  0.004912165732539492),\n",
       " (u'cabin.C103',\n",
       "  0.24994514882564545,\n",
       "  0.24994514882564545,\n",
       "  0.004905194338147845),\n",
       " (u'cabin.C97', 0.2498464286327362, 0.2498464286327362, 0.004903256946149662),\n",
       " (u'cabin.A32',\n",
       "  0.24847038090229034,\n",
       "  0.24847038090229034,\n",
       "  0.0048762518949689625),\n",
       " (u'cabin.D38', 0.2484211027622223, 0.2484211027622223, 0.004875284807370775),\n",
       " (u'cabin.C30',\n",
       "  0.24818985164165497,\n",
       "  0.24818985164165497,\n",
       "  0.004870746484892316),\n",
       " (u'cabin.D6', 0.2479325234889984, 0.2479325234889984, 0.004865696398489809),\n",
       " (u'cabin.B18',\n",
       "  0.24788863956928253,\n",
       "  0.24788863956928253,\n",
       "  0.004864835172914768),\n",
       " (u'cabin.C89',\n",
       "  0.24751023948192596,\n",
       "  0.24751023948192596,\n",
       "  0.004857409039722038),\n",
       " (u'cabin.B82 B84',\n",
       "  0.24716301262378693,\n",
       "  0.24716301262378693,\n",
       "  0.004850594683745941),\n",
       " (u'cabin.E45', 0.2467634081840515, 0.2467634081840515, 0.004842752413373827),\n",
       " (u'cabin.D37',\n",
       "  0.24558740854263306,\n",
       "  0.24558740854263306,\n",
       "  0.004819673322581897),\n",
       " (u'cabin.C46',\n",
       "  0.24469898641109467,\n",
       "  0.24469898641109467,\n",
       "  0.004802237964344368),\n",
       " (u'cabin.D56',\n",
       "  0.24469488859176636,\n",
       "  0.24469488859176636,\n",
       "  0.004802157544299161),\n",
       " (u'cabin.C28', 0.24448730051517487, 0.24448730051517487, 0.00479808361102721),\n",
       " (u'cabin.C104',\n",
       "  0.24411249160766602,\n",
       "  0.24411249160766602,\n",
       "  0.0047907279550377345),\n",
       " (u'cabin.A11',\n",
       "  0.24406960606575012,\n",
       "  0.24406960606575012,\n",
       "  0.004789886322710071),\n",
       " (u'cabin.C118',\n",
       "  0.24397337436676025,\n",
       "  0.24397337436676025,\n",
       "  0.004787997767612069),\n",
       " (u'cabin.C45',\n",
       "  0.24394620954990387,\n",
       "  0.24394620954990387,\n",
       "  0.004787464655821475),\n",
       " (u'cabin.C90', 0.2428559511899948, 0.2428559511899948, 0.004766068244811815),\n",
       " (u'cabin.B73',\n",
       "  0.24231162667274475,\n",
       "  0.24231162667274475,\n",
       "  0.004755385830879498),\n",
       " (u'cabin.C50',\n",
       "  0.24224063754081726,\n",
       "  0.24224063754081726,\n",
       "  0.004753992663259975),\n",
       " (u'cabin.E77',\n",
       "  0.24189241230487823,\n",
       "  0.24189241230487823,\n",
       "  0.0047471587140365005),\n",
       " (u'cabin.C23 C25 C27',\n",
       "  0.24074874818325043,\n",
       "  0.24074874818325043,\n",
       "  0.004724714210510389),\n",
       " (u'cabin.C125',\n",
       "  0.24066674709320068,\n",
       "  0.24066674709320068,\n",
       "  0.004723104932296654),\n",
       " (u'cabin.E52', 0.2404167354106903, 0.2404167354106903, 0.004718198432229408),\n",
       " (u'cabin.B49', 0.24028126895427704, 0.24028126895427704, 0.00471553989175311),\n",
       " (u'cabin.B79',\n",
       "  0.23893620073795319,\n",
       "  0.23893620073795319,\n",
       "  0.004689142816114179),\n",
       " (u'cabin.B50', 0.2388361096382141, 0.2388361096382141, 0.004687178519955418),\n",
       " (u'cabin.D30',\n",
       "  0.23872804641723633,\n",
       "  0.23872804641723633,\n",
       "  0.004685057770254163),\n",
       " (u'cabin.E12',\n",
       "  0.23840361833572388,\n",
       "  0.23840361833572388,\n",
       "  0.004678690842165948),\n",
       " (u'cabin.B22',\n",
       "  0.23784050345420837,\n",
       "  0.23784050345420837,\n",
       "  0.004667639665771789),\n",
       " (u'cabin.D9',\n",
       "  0.23763687908649445,\n",
       "  0.23763687908649445,\n",
       "  0.0046636435206162926),\n",
       " (u'cabin.B41',\n",
       "  0.23740465939044952,\n",
       "  0.23740465939044952,\n",
       "  0.004659086189763512),\n",
       " (u'cabin.B101',\n",
       "  0.23716476559638977,\n",
       "  0.23716476559638977,\n",
       "  0.004654378254098797),\n",
       " (u'cabin.B11',\n",
       "  0.23698490858078003,\n",
       "  0.23698490858078003,\n",
       "  0.004650848545205506),\n",
       " (u'cabin.B51 B53 B55',\n",
       "  0.23657460510730743,\n",
       "  0.23657460510730743,\n",
       "  0.004642796305406268),\n",
       " (u'cabin.A6', 0.23610743880271912, 0.23610743880271912, 0.004633628127816078),\n",
       " (u'body', 0.23591654002666473, 0.23591654002666473, 0.0046298817234555175),\n",
       " (u'cabin.E44',\n",
       "  0.23558995127677917,\n",
       "  0.23558995127677917,\n",
       "  0.004623472392070739),\n",
       " (u'cabin.E49', 0.23541414737701416, 0.23541414737701416, 0.00462002222591307),\n",
       " (u'cabin.G6',\n",
       "  0.23433683812618256,\n",
       "  0.23433683812618256,\n",
       "  0.0045988799422462655),\n",
       " (u'cabin.F G73',\n",
       "  0.23384496569633484,\n",
       "  0.23384496569633484,\n",
       "  0.004589226904892605),\n",
       " (u'cabin.D20',\n",
       "  0.23264209926128387,\n",
       "  0.23264209926128387,\n",
       "  0.004565620551040641),\n",
       " (u'cabin.D36', 0.2320789396762848, 0.2320789396762848, 0.0045545684973368975),\n",
       " (u'cabin.E67', 0.23095330595970154, 0.23095330595970154, 0.0045324778420097),\n",
       " (u'cabin.E39 E41',\n",
       "  0.23079133033752441,\n",
       "  0.23079133033752441,\n",
       "  0.004529299056950041),\n",
       " (u'cabin.A10',\n",
       "  0.22844821214675903,\n",
       "  0.22844821214675903,\n",
       "  0.004483315167536884),\n",
       " (u'cabin.B37',\n",
       "  0.22751261293888092,\n",
       "  0.22751261293888092,\n",
       "  0.004464953955251621),\n",
       " (u'cabin.E38', 0.2273900955915451, 0.2273900955915451, 0.004462549542118179),\n",
       " (u'cabin.A26',\n",
       "  0.22705864906311035,\n",
       "  0.22705864906311035,\n",
       "  0.004456044876425263),\n",
       " (u'cabin.B96 B98',\n",
       "  0.22692140936851501,\n",
       "  0.22692140936851501,\n",
       "  0.004453351536002129),\n",
       " (u'cabin.B36',\n",
       "  0.22663937509059906,\n",
       "  0.22663937509059906,\n",
       "  0.004447816589836153),\n",
       " (u'cabin.C31',\n",
       "  0.22659806907176971,\n",
       "  0.22659806907176971,\n",
       "  0.004447005955780461),\n",
       " (u'cabin.E24',\n",
       "  0.22617825865745544,\n",
       "  0.22617825865745544,\n",
       "  0.004438767141476342),\n",
       " (u'cabin.D15',\n",
       "  0.22595202922821045,\n",
       "  0.22595202922821045,\n",
       "  0.004434327370107828),\n",
       " (u'cabin.D48',\n",
       "  0.22514501214027405,\n",
       "  0.22514501214027405,\n",
       "  0.0044184895926229146),\n",
       " (u'cabin.A14', 0.22493669390678406, 0.22493669390678406, 0.00441440132996109),\n",
       " (u'cabin.C130',\n",
       "  0.22450150549411774,\n",
       "  0.22450150549411774,\n",
       "  0.004405860721160047),\n",
       " (u'cabin.B86',\n",
       "  0.22262175381183624,\n",
       "  0.22262175381183624,\n",
       "  0.004368970438022433),\n",
       " (u'cabin.A19',\n",
       "  0.22194422781467438,\n",
       "  0.22194422781467438,\n",
       "  0.004355673933966078),\n",
       " (u'cabin.D10 D12',\n",
       "  0.22146084904670715,\n",
       "  0.22146084904670715,\n",
       "  0.004346187585433394),\n",
       " (u'cabin.A31', 0.22090698778629303, 0.22090698778629303, 0.00433531801212314),\n",
       " (u'cabin.E46', 0.2208012044429779, 0.2208012044429779, 0.004333242005210672),\n",
       " (u'cabin.E40',\n",
       "  0.22063075006008148,\n",
       "  0.22063075006008148,\n",
       "  0.004329896823766566),\n",
       " (u'cabin.B39',\n",
       "  0.22038966417312622,\n",
       "  0.22038966417312622,\n",
       "  0.004325165493179609),\n",
       " (u'cabin.B10',\n",
       "  0.22038422524929047,\n",
       "  0.22038422524929047,\n",
       "  0.004325058753846879),\n",
       " (u'cabin.D33',\n",
       "  0.21987678110599518,\n",
       "  0.21987678110599518,\n",
       "  0.0043151001203214304),\n",
       " (u'cabin.C116',\n",
       "  0.21978388726711273,\n",
       "  0.21978388726711273,\n",
       "  0.004313277071005706),\n",
       " (u'cabin.D22', 0.21976830065250397, 0.21976830065250397, 0.00431297118239739),\n",
       " (u'cabin.E68',\n",
       "  0.21863651275634766,\n",
       "  0.21863651275634766,\n",
       "  0.004290759750784117),\n",
       " (u'cabin.E8', 0.21851994097232819, 0.21851994097232819, 0.004288472019825358),\n",
       " (u'cabin.B102',\n",
       "  0.21843861043453217,\n",
       "  0.21843861043453217,\n",
       "  0.004286875901255384),\n",
       " (u'cabin.B52 B54 B56',\n",
       "  0.2181330919265747,\n",
       "  0.2181330919265747,\n",
       "  0.0042808800751212355),\n",
       " (u'cabin.D46',\n",
       "  0.21771052479743958,\n",
       "  0.21771052479743958,\n",
       "  0.004272587160059431),\n",
       " (u'cabin.B69',\n",
       "  0.21683558821678162,\n",
       "  0.21683558821678162,\n",
       "  0.004255416456879769),\n",
       " (u'cabin.B61',\n",
       "  0.21446114778518677,\n",
       "  0.21446114778518677,\n",
       "  0.004208817865884697),\n",
       " (u'cabin.C39',\n",
       "  0.21384696662425995,\n",
       "  0.21384696662425995,\n",
       "  0.004196764509508988),\n",
       " (u'cabin.C110',\n",
       "  0.21291255950927734,\n",
       "  0.21291255950927734,\n",
       "  0.004178426692145967),\n",
       " (u'cabin.E36',\n",
       "  0.21290230751037598,\n",
       "  0.21290230751037598,\n",
       "  0.004178225495814684),\n",
       " (u'cabin.D17', 0.2125512659549713, 0.2125512659549713, 0.004171336276087413),\n",
       " (u'cabin.missing(NA)',\n",
       "  0.211390882730484,\n",
       "  0.211390882730484,\n",
       "  0.004148563658776854),\n",
       " (u'cabin.B26', 0.2112269252538681, 0.2112269252538681, 0.004145345979658968),\n",
       " (u'cabin.C65',\n",
       "  0.21088963747024536,\n",
       "  0.21088963747024536,\n",
       "  0.004138726678847065),\n",
       " (u'fare', 0.2087380588054657, 0.2087380588054657, 0.004096501768565174),\n",
       " (u'cabin.E17', 0.2072456032037735, 0.2072456032037735, 0.004067212203227523),\n",
       " (u'cabin.F', 0.20667746663093567, 0.20667746663093567, 0.004056062475723418),\n",
       " (u'cabin.E58',\n",
       "  0.20335032045841217,\n",
       "  0.20335032045841217,\n",
       "  0.003990766955308909),\n",
       " (u'cabin.C148',\n",
       "  0.20156174898147583,\n",
       "  0.20156174898147583,\n",
       "  0.003955666091286295),\n",
       " (u'cabin.C95',\n",
       "  0.19786977767944336,\n",
       "  0.19786977767944336,\n",
       "  0.0038832108473560883),\n",
       " (u'cabin.B35',\n",
       "  0.19547855854034424,\n",
       "  0.19547855854034424,\n",
       "  0.0038362829728304584),\n",
       " (u'cabin.D11',\n",
       "  0.19142727553844452,\n",
       "  0.19142727553844452,\n",
       "  0.0037567762068999246),\n",
       " (u'cabin.D45',\n",
       "  0.18938539922237396,\n",
       "  0.18938539922237396,\n",
       "  0.0037167042143373716),\n",
       " (u'cabin.C91',\n",
       "  0.18801569938659668,\n",
       "  0.18801569938659668,\n",
       "  0.003689823741117611),\n",
       " (u'cabin.C70', 0.18557938933372498, 0.18557938933372498, 0.00364201095365817),\n",
       " (u'sibsp', 0.18514105677604675, 0.18514105677604675, 0.003633408640749713),\n",
       " (u'cabin.D', 0.18463408946990967, 0.18463408946990967, 0.003623459365193161),\n",
       " (u'cabin.D28',\n",
       "  0.18288500607013702,\n",
       "  0.18288500607013702,\n",
       "  0.0035891334579698205),\n",
       " (u'cabin.F4', 0.1818973422050476, 0.1818973422050476, 0.0035697504724556293),\n",
       " (u'sex.missing(NA)', 0.0, 0.0, 0.0)]"
      ]
     },
     "execution_count": 88,
     "metadata": {},
     "output_type": "execute_result"
    }
   ],
   "source": [
    "best_model.varimp()"
   ]
  },
  {
   "cell_type": "code",
   "execution_count": 89,
   "metadata": {
    "collapsed": true
   },
   "outputs": [],
   "source": [
    "###: Getting model variable importance PLOT"
   ]
  },
  {
   "cell_type": "code",
   "execution_count": 90,
   "metadata": {},
   "outputs": [
    {
     "data": {
      "image/png": "[encoded data removed]",
      "text/plain": [
       "<matplotlib.figure.Figure at 0x11c42ad90>"
      ]
     },
     "metadata": {},
     "output_type": "display_data"
    }
   ],
   "source": [
    "best_model.varimp_plot()"
   ]
  },
  {
   "cell_type": "code",
   "execution_count": null,
   "metadata": {
    "collapsed": true
   },
   "outputs": [],
   "source": []
  },
  {
   "cell_type": "code",
   "execution_count": null,
   "metadata": {
    "collapsed": true
   },
   "outputs": [],
   "source": []
  }
 ],
 "metadata": {
  "kernelspec": {
   "display_name": "Python 2",
   "language": "python",
   "name": "python2"
  },
  "language_info": {
   "codemirror_mode": {
    "name": "ipython",
    "version": 2
   },
   "file_extension": ".py",
   "mimetype": "text/x-python",
   "name": "python",
   "nbconvert_exporter": "python",
   "pygments_lexer": "ipython2",
   "version": "2.7.13"
  }
 },
 "nbformat": 4,
 "nbformat_minor": 2
}
