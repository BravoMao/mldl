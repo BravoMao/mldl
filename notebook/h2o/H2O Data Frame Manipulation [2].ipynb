{
 "cells": [
  {
   "cell_type": "code",
   "execution_count": 2,
   "metadata": {
    "collapsed": false
   },
   "outputs": [
    {
     "name": "stdout",
     "output_type": "stream",
     "text": [
      "Connecting to H2O server at http://localhost:54321... successful.\n"
     ]
    },
    {
     "data": {
      "text/html": [
       "<div style=\"overflow:auto\"><table style=\"width:50%\"><tr><td>H2O cluster uptime:</td>\n",
       "<td>06 secs</td></tr>\n",
       "<tr><td>H2O cluster version:</td>\n",
       "<td>3.11.0.99999</td></tr>\n",
       "<tr><td>H2O cluster version age:</td>\n",
       "<td>11 minutes </td></tr>\n",
       "<tr><td>H2O cluster name:</td>\n",
       "<td>avkashchauhan</td></tr>\n",
       "<tr><td>H2O cluster total nodes:</td>\n",
       "<td>1</td></tr>\n",
       "<tr><td>H2O cluster free memory:</td>\n",
       "<td>3.556 Gb</td></tr>\n",
       "<tr><td>H2O cluster total cores:</td>\n",
       "<td>8</td></tr>\n",
       "<tr><td>H2O cluster allowed cores:</td>\n",
       "<td>8</td></tr>\n",
       "<tr><td>H2O cluster status:</td>\n",
       "<td>accepting new members, healthy</td></tr>\n",
       "<tr><td>H2O connection url:</td>\n",
       "<td>http://localhost:54321</td></tr>\n",
       "<tr><td>H2O connection proxy:</td>\n",
       "<td>None</td></tr>\n",
       "<tr><td>Python version:</td>\n",
       "<td>2.7.10 final</td></tr></table></div>"
      ],
      "text/plain": [
       "--------------------------  ------------------------------\n",
       "H2O cluster uptime:         06 secs\n",
       "H2O cluster version:        3.11.0.99999\n",
       "H2O cluster version age:    11 minutes\n",
       "H2O cluster name:           avkashchauhan\n",
       "H2O cluster total nodes:    1\n",
       "H2O cluster free memory:    3.556 Gb\n",
       "H2O cluster total cores:    8\n",
       "H2O cluster allowed cores:  8\n",
       "H2O cluster status:         accepting new members, healthy\n",
       "H2O connection url:         http://localhost:54321\n",
       "H2O connection proxy:\n",
       "Python version:             2.7.10 final\n",
       "--------------------------  ------------------------------"
      ]
     },
     "metadata": {},
     "output_type": "display_data"
    },
    {
     "data": {
      "text/plain": [
       "<H2OConnection to http://localhost:54321, no session>"
      ]
     },
     "execution_count": 2,
     "metadata": {},
     "output_type": "execute_result"
    }
   ],
   "source": [
    "import h2o\n",
    "h2o.connect()"
   ]
  },
  {
   "cell_type": "code",
   "execution_count": 3,
   "metadata": {
    "collapsed": true
   },
   "outputs": [],
   "source": [
    "airline = \"/Users/avkashchauhan/src/github.com/h2oai/h2o-3/smalldata/airlines/allyears2k.csv\""
   ]
  },
  {
   "cell_type": "code",
   "execution_count": 4,
   "metadata": {
    "collapsed": false
   },
   "outputs": [
    {
     "name": "stdout",
     "output_type": "stream",
     "text": [
      "Parse progress: |█████████████████████████████████████████████████████████| 100%\n"
     ]
    }
   ],
   "source": [
    "airline_df = h2o.import_file(airline)"
   ]
  },
  {
   "cell_type": "code",
   "execution_count": 5,
   "metadata": {
    "collapsed": false
   },
   "outputs": [
    {
     "data": {
      "text/html": [
       "<table>\n",
       "<tr><th style=\"text-align: right;\">  C1</th><th style=\"text-align: right;\">  C2</th><th style=\"text-align: right;\">  C3</th><th style=\"text-align: right;\">  C4</th><th style=\"text-align: right;\">  C5</th><th style=\"text-align: right;\">  C6</th><th style=\"text-align: right;\">  C7</th><th style=\"text-align: right;\">  C8</th><th>C9  </th><th style=\"text-align: right;\">  C10</th><th>C11  </th><th style=\"text-align: right;\">  C12</th><th style=\"text-align: right;\">  C13</th><th style=\"text-align: right;\">  C14</th><th style=\"text-align: right;\">  C15</th><th style=\"text-align: right;\">  C16</th><th>C17  </th><th>C18  </th><th style=\"text-align: right;\">  C19</th><th style=\"text-align: right;\">  C20</th><th style=\"text-align: right;\">  C21</th><th style=\"text-align: right;\">  C22</th><th>C23  </th><th style=\"text-align: right;\">  C24</th><th style=\"text-align: right;\">  C25</th><th style=\"text-align: right;\">  C26</th><th style=\"text-align: right;\">  C27</th><th style=\"text-align: right;\">  C28</th><th style=\"text-align: right;\">  C29</th><th>C30  </th><th>C31  </th></tr>\n",
       "<tr><td style=\"text-align: right;\">1987</td><td style=\"text-align: right;\">  10</td><td style=\"text-align: right;\">  14</td><td style=\"text-align: right;\">   3</td><td style=\"text-align: right;\"> 741</td><td style=\"text-align: right;\"> 730</td><td style=\"text-align: right;\"> 912</td><td style=\"text-align: right;\"> 849</td><td>PS  </td><td style=\"text-align: right;\"> 1451</td><td>NA   </td><td style=\"text-align: right;\">   91</td><td style=\"text-align: right;\">   79</td><td style=\"text-align: right;\">  nan</td><td style=\"text-align: right;\">   23</td><td style=\"text-align: right;\">   11</td><td>SAN  </td><td>SFO  </td><td style=\"text-align: right;\">  447</td><td style=\"text-align: right;\">  nan</td><td style=\"text-align: right;\">  nan</td><td style=\"text-align: right;\">    0</td><td>NA   </td><td style=\"text-align: right;\">    0</td><td style=\"text-align: right;\">  nan</td><td style=\"text-align: right;\">  nan</td><td style=\"text-align: right;\">  nan</td><td style=\"text-align: right;\">  nan</td><td style=\"text-align: right;\">  nan</td><td>YES  </td><td>YES  </td></tr>\n",
       "<tr><td style=\"text-align: right;\">1987</td><td style=\"text-align: right;\">  10</td><td style=\"text-align: right;\">  15</td><td style=\"text-align: right;\">   4</td><td style=\"text-align: right;\"> 729</td><td style=\"text-align: right;\"> 730</td><td style=\"text-align: right;\"> 903</td><td style=\"text-align: right;\"> 849</td><td>PS  </td><td style=\"text-align: right;\"> 1451</td><td>NA   </td><td style=\"text-align: right;\">   94</td><td style=\"text-align: right;\">   79</td><td style=\"text-align: right;\">  nan</td><td style=\"text-align: right;\">   14</td><td style=\"text-align: right;\">   -1</td><td>SAN  </td><td>SFO  </td><td style=\"text-align: right;\">  447</td><td style=\"text-align: right;\">  nan</td><td style=\"text-align: right;\">  nan</td><td style=\"text-align: right;\">    0</td><td>NA   </td><td style=\"text-align: right;\">    0</td><td style=\"text-align: right;\">  nan</td><td style=\"text-align: right;\">  nan</td><td style=\"text-align: right;\">  nan</td><td style=\"text-align: right;\">  nan</td><td style=\"text-align: right;\">  nan</td><td>YES  </td><td>NO   </td></tr>\n",
       "<tr><td style=\"text-align: right;\">1987</td><td style=\"text-align: right;\">  10</td><td style=\"text-align: right;\">  17</td><td style=\"text-align: right;\">   6</td><td style=\"text-align: right;\"> 741</td><td style=\"text-align: right;\"> 730</td><td style=\"text-align: right;\"> 918</td><td style=\"text-align: right;\"> 849</td><td>PS  </td><td style=\"text-align: right;\"> 1451</td><td>NA   </td><td style=\"text-align: right;\">   97</td><td style=\"text-align: right;\">   79</td><td style=\"text-align: right;\">  nan</td><td style=\"text-align: right;\">   29</td><td style=\"text-align: right;\">   11</td><td>SAN  </td><td>SFO  </td><td style=\"text-align: right;\">  447</td><td style=\"text-align: right;\">  nan</td><td style=\"text-align: right;\">  nan</td><td style=\"text-align: right;\">    0</td><td>NA   </td><td style=\"text-align: right;\">    0</td><td style=\"text-align: right;\">  nan</td><td style=\"text-align: right;\">  nan</td><td style=\"text-align: right;\">  nan</td><td style=\"text-align: right;\">  nan</td><td style=\"text-align: right;\">  nan</td><td>YES  </td><td>YES  </td></tr>\n",
       "<tr><td style=\"text-align: right;\">1987</td><td style=\"text-align: right;\">  10</td><td style=\"text-align: right;\">  18</td><td style=\"text-align: right;\">   7</td><td style=\"text-align: right;\"> 729</td><td style=\"text-align: right;\"> 730</td><td style=\"text-align: right;\"> 847</td><td style=\"text-align: right;\"> 849</td><td>PS  </td><td style=\"text-align: right;\"> 1451</td><td>NA   </td><td style=\"text-align: right;\">   78</td><td style=\"text-align: right;\">   79</td><td style=\"text-align: right;\">  nan</td><td style=\"text-align: right;\">   -2</td><td style=\"text-align: right;\">   -1</td><td>SAN  </td><td>SFO  </td><td style=\"text-align: right;\">  447</td><td style=\"text-align: right;\">  nan</td><td style=\"text-align: right;\">  nan</td><td style=\"text-align: right;\">    0</td><td>NA   </td><td style=\"text-align: right;\">    0</td><td style=\"text-align: right;\">  nan</td><td style=\"text-align: right;\">  nan</td><td style=\"text-align: right;\">  nan</td><td style=\"text-align: right;\">  nan</td><td style=\"text-align: right;\">  nan</td><td>NO   </td><td>NO   </td></tr>\n",
       "<tr><td style=\"text-align: right;\">1987</td><td style=\"text-align: right;\">  10</td><td style=\"text-align: right;\">  19</td><td style=\"text-align: right;\">   1</td><td style=\"text-align: right;\"> 749</td><td style=\"text-align: right;\"> 730</td><td style=\"text-align: right;\"> 922</td><td style=\"text-align: right;\"> 849</td><td>PS  </td><td style=\"text-align: right;\"> 1451</td><td>NA   </td><td style=\"text-align: right;\">   93</td><td style=\"text-align: right;\">   79</td><td style=\"text-align: right;\">  nan</td><td style=\"text-align: right;\">   33</td><td style=\"text-align: right;\">   19</td><td>SAN  </td><td>SFO  </td><td style=\"text-align: right;\">  447</td><td style=\"text-align: right;\">  nan</td><td style=\"text-align: right;\">  nan</td><td style=\"text-align: right;\">    0</td><td>NA   </td><td style=\"text-align: right;\">    0</td><td style=\"text-align: right;\">  nan</td><td style=\"text-align: right;\">  nan</td><td style=\"text-align: right;\">  nan</td><td style=\"text-align: right;\">  nan</td><td style=\"text-align: right;\">  nan</td><td>YES  </td><td>YES  </td></tr>\n",
       "<tr><td style=\"text-align: right;\">1987</td><td style=\"text-align: right;\">  10</td><td style=\"text-align: right;\">  21</td><td style=\"text-align: right;\">   3</td><td style=\"text-align: right;\"> 728</td><td style=\"text-align: right;\"> 730</td><td style=\"text-align: right;\"> 848</td><td style=\"text-align: right;\"> 849</td><td>PS  </td><td style=\"text-align: right;\"> 1451</td><td>NA   </td><td style=\"text-align: right;\">   80</td><td style=\"text-align: right;\">   79</td><td style=\"text-align: right;\">  nan</td><td style=\"text-align: right;\">   -1</td><td style=\"text-align: right;\">   -2</td><td>SAN  </td><td>SFO  </td><td style=\"text-align: right;\">  447</td><td style=\"text-align: right;\">  nan</td><td style=\"text-align: right;\">  nan</td><td style=\"text-align: right;\">    0</td><td>NA   </td><td style=\"text-align: right;\">    0</td><td style=\"text-align: right;\">  nan</td><td style=\"text-align: right;\">  nan</td><td style=\"text-align: right;\">  nan</td><td style=\"text-align: right;\">  nan</td><td style=\"text-align: right;\">  nan</td><td>NO   </td><td>NO   </td></tr>\n",
       "<tr><td style=\"text-align: right;\">1987</td><td style=\"text-align: right;\">  10</td><td style=\"text-align: right;\">  22</td><td style=\"text-align: right;\">   4</td><td style=\"text-align: right;\"> 728</td><td style=\"text-align: right;\"> 730</td><td style=\"text-align: right;\"> 852</td><td style=\"text-align: right;\"> 849</td><td>PS  </td><td style=\"text-align: right;\"> 1451</td><td>NA   </td><td style=\"text-align: right;\">   84</td><td style=\"text-align: right;\">   79</td><td style=\"text-align: right;\">  nan</td><td style=\"text-align: right;\">    3</td><td style=\"text-align: right;\">   -2</td><td>SAN  </td><td>SFO  </td><td style=\"text-align: right;\">  447</td><td style=\"text-align: right;\">  nan</td><td style=\"text-align: right;\">  nan</td><td style=\"text-align: right;\">    0</td><td>NA   </td><td style=\"text-align: right;\">    0</td><td style=\"text-align: right;\">  nan</td><td style=\"text-align: right;\">  nan</td><td style=\"text-align: right;\">  nan</td><td style=\"text-align: right;\">  nan</td><td style=\"text-align: right;\">  nan</td><td>YES  </td><td>NO   </td></tr>\n",
       "<tr><td style=\"text-align: right;\">1987</td><td style=\"text-align: right;\">  10</td><td style=\"text-align: right;\">  23</td><td style=\"text-align: right;\">   5</td><td style=\"text-align: right;\"> 731</td><td style=\"text-align: right;\"> 730</td><td style=\"text-align: right;\"> 902</td><td style=\"text-align: right;\"> 849</td><td>PS  </td><td style=\"text-align: right;\"> 1451</td><td>NA   </td><td style=\"text-align: right;\">   91</td><td style=\"text-align: right;\">   79</td><td style=\"text-align: right;\">  nan</td><td style=\"text-align: right;\">   13</td><td style=\"text-align: right;\">    1</td><td>SAN  </td><td>SFO  </td><td style=\"text-align: right;\">  447</td><td style=\"text-align: right;\">  nan</td><td style=\"text-align: right;\">  nan</td><td style=\"text-align: right;\">    0</td><td>NA   </td><td style=\"text-align: right;\">    0</td><td style=\"text-align: right;\">  nan</td><td style=\"text-align: right;\">  nan</td><td style=\"text-align: right;\">  nan</td><td style=\"text-align: right;\">  nan</td><td style=\"text-align: right;\">  nan</td><td>YES  </td><td>YES  </td></tr>\n",
       "<tr><td style=\"text-align: right;\">1987</td><td style=\"text-align: right;\">  10</td><td style=\"text-align: right;\">  24</td><td style=\"text-align: right;\">   6</td><td style=\"text-align: right;\"> 744</td><td style=\"text-align: right;\"> 730</td><td style=\"text-align: right;\"> 908</td><td style=\"text-align: right;\"> 849</td><td>PS  </td><td style=\"text-align: right;\"> 1451</td><td>NA   </td><td style=\"text-align: right;\">   84</td><td style=\"text-align: right;\">   79</td><td style=\"text-align: right;\">  nan</td><td style=\"text-align: right;\">   19</td><td style=\"text-align: right;\">   14</td><td>SAN  </td><td>SFO  </td><td style=\"text-align: right;\">  447</td><td style=\"text-align: right;\">  nan</td><td style=\"text-align: right;\">  nan</td><td style=\"text-align: right;\">    0</td><td>NA   </td><td style=\"text-align: right;\">    0</td><td style=\"text-align: right;\">  nan</td><td style=\"text-align: right;\">  nan</td><td style=\"text-align: right;\">  nan</td><td style=\"text-align: right;\">  nan</td><td style=\"text-align: right;\">  nan</td><td>YES  </td><td>YES  </td></tr>\n",
       "<tr><td style=\"text-align: right;\">1987</td><td style=\"text-align: right;\">  10</td><td style=\"text-align: right;\">  25</td><td style=\"text-align: right;\">   7</td><td style=\"text-align: right;\"> 729</td><td style=\"text-align: right;\"> 730</td><td style=\"text-align: right;\"> 851</td><td style=\"text-align: right;\"> 849</td><td>PS  </td><td style=\"text-align: right;\"> 1451</td><td>NA   </td><td style=\"text-align: right;\">   82</td><td style=\"text-align: right;\">   79</td><td style=\"text-align: right;\">  nan</td><td style=\"text-align: right;\">    2</td><td style=\"text-align: right;\">   -1</td><td>SAN  </td><td>SFO  </td><td style=\"text-align: right;\">  447</td><td style=\"text-align: right;\">  nan</td><td style=\"text-align: right;\">  nan</td><td style=\"text-align: right;\">    0</td><td>NA   </td><td style=\"text-align: right;\">    0</td><td style=\"text-align: right;\">  nan</td><td style=\"text-align: right;\">  nan</td><td style=\"text-align: right;\">  nan</td><td style=\"text-align: right;\">  nan</td><td style=\"text-align: right;\">  nan</td><td>YES  </td><td>NO   </td></tr>\n",
       "</table>"
      ]
     },
     "metadata": {},
     "output_type": "display_data"
    },
    {
     "data": {
      "text/plain": []
     },
     "execution_count": 5,
     "metadata": {},
     "output_type": "execute_result"
    }
   ],
   "source": [
    "airline_df"
   ]
  },
  {
   "cell_type": "code",
   "execution_count": 8,
   "metadata": {
    "collapsed": false
   },
   "outputs": [
    {
     "data": {
      "text/plain": [
       "31"
      ]
     },
     "execution_count": 8,
     "metadata": {},
     "output_type": "execute_result"
    }
   ],
   "source": [
    "airline_df.ncol"
   ]
  },
  {
   "cell_type": "code",
   "execution_count": 9,
   "metadata": {
    "collapsed": false
   },
   "outputs": [
    {
     "data": {
      "text/plain": [
       "43978"
      ]
     },
     "execution_count": 9,
     "metadata": {},
     "output_type": "execute_result"
    }
   ],
   "source": [
    "airline_df.nrows"
   ]
  },
  {
   "cell_type": "code",
   "execution_count": 10,
   "metadata": {
    "collapsed": false
   },
   "outputs": [
    {
     "data": {
      "text/plain": [
       "(43978, 31)"
      ]
     },
     "execution_count": 10,
     "metadata": {},
     "output_type": "execute_result"
    }
   ],
   "source": [
    "airline_df.shape"
   ]
  },
  {
   "cell_type": "code",
   "execution_count": 11,
   "metadata": {
    "collapsed": false
   },
   "outputs": [
    {
     "data": {
      "text/html": [
       "<table>\n",
       "<tr><th style=\"text-align: right;\">  C1</th><th style=\"text-align: right;\">  C2</th><th style=\"text-align: right;\">  C3</th><th style=\"text-align: right;\">  C4</th><th style=\"text-align: right;\">  C5</th><th style=\"text-align: right;\">  C6</th><th style=\"text-align: right;\">  C7</th><th style=\"text-align: right;\">  C8</th><th>C9  </th><th style=\"text-align: right;\">  C10</th><th>C11  </th><th style=\"text-align: right;\">  C12</th><th style=\"text-align: right;\">  C13</th><th style=\"text-align: right;\">  C14</th><th style=\"text-align: right;\">  C15</th><th style=\"text-align: right;\">  C16</th><th>C17  </th><th>C18  </th><th style=\"text-align: right;\">  C19</th><th style=\"text-align: right;\">  C20</th><th style=\"text-align: right;\">  C21</th><th style=\"text-align: right;\">  C22</th><th>C23  </th><th style=\"text-align: right;\">  C24</th><th style=\"text-align: right;\">  C25</th><th style=\"text-align: right;\">  C26</th><th style=\"text-align: right;\">  C27</th><th style=\"text-align: right;\">  C28</th><th style=\"text-align: right;\">  C29</th><th>C30  </th><th>C31  </th></tr>\n",
       "<tr><td style=\"text-align: right;\">1987</td><td style=\"text-align: right;\">  10</td><td style=\"text-align: right;\">  14</td><td style=\"text-align: right;\">   3</td><td style=\"text-align: right;\"> 741</td><td style=\"text-align: right;\"> 730</td><td style=\"text-align: right;\"> 912</td><td style=\"text-align: right;\"> 849</td><td>PS  </td><td style=\"text-align: right;\"> 1451</td><td>NA   </td><td style=\"text-align: right;\">   91</td><td style=\"text-align: right;\">   79</td><td style=\"text-align: right;\">  nan</td><td style=\"text-align: right;\">   23</td><td style=\"text-align: right;\">   11</td><td>SAN  </td><td>SFO  </td><td style=\"text-align: right;\">  447</td><td style=\"text-align: right;\">  nan</td><td style=\"text-align: right;\">  nan</td><td style=\"text-align: right;\">    0</td><td>NA   </td><td style=\"text-align: right;\">    0</td><td style=\"text-align: right;\">  nan</td><td style=\"text-align: right;\">  nan</td><td style=\"text-align: right;\">  nan</td><td style=\"text-align: right;\">  nan</td><td style=\"text-align: right;\">  nan</td><td>YES  </td><td>YES  </td></tr>\n",
       "<tr><td style=\"text-align: right;\">1987</td><td style=\"text-align: right;\">  10</td><td style=\"text-align: right;\">  15</td><td style=\"text-align: right;\">   4</td><td style=\"text-align: right;\"> 729</td><td style=\"text-align: right;\"> 730</td><td style=\"text-align: right;\"> 903</td><td style=\"text-align: right;\"> 849</td><td>PS  </td><td style=\"text-align: right;\"> 1451</td><td>NA   </td><td style=\"text-align: right;\">   94</td><td style=\"text-align: right;\">   79</td><td style=\"text-align: right;\">  nan</td><td style=\"text-align: right;\">   14</td><td style=\"text-align: right;\">   -1</td><td>SAN  </td><td>SFO  </td><td style=\"text-align: right;\">  447</td><td style=\"text-align: right;\">  nan</td><td style=\"text-align: right;\">  nan</td><td style=\"text-align: right;\">    0</td><td>NA   </td><td style=\"text-align: right;\">    0</td><td style=\"text-align: right;\">  nan</td><td style=\"text-align: right;\">  nan</td><td style=\"text-align: right;\">  nan</td><td style=\"text-align: right;\">  nan</td><td style=\"text-align: right;\">  nan</td><td>YES  </td><td>NO   </td></tr>\n",
       "<tr><td style=\"text-align: right;\">1987</td><td style=\"text-align: right;\">  10</td><td style=\"text-align: right;\">  17</td><td style=\"text-align: right;\">   6</td><td style=\"text-align: right;\"> 741</td><td style=\"text-align: right;\"> 730</td><td style=\"text-align: right;\"> 918</td><td style=\"text-align: right;\"> 849</td><td>PS  </td><td style=\"text-align: right;\"> 1451</td><td>NA   </td><td style=\"text-align: right;\">   97</td><td style=\"text-align: right;\">   79</td><td style=\"text-align: right;\">  nan</td><td style=\"text-align: right;\">   29</td><td style=\"text-align: right;\">   11</td><td>SAN  </td><td>SFO  </td><td style=\"text-align: right;\">  447</td><td style=\"text-align: right;\">  nan</td><td style=\"text-align: right;\">  nan</td><td style=\"text-align: right;\">    0</td><td>NA   </td><td style=\"text-align: right;\">    0</td><td style=\"text-align: right;\">  nan</td><td style=\"text-align: right;\">  nan</td><td style=\"text-align: right;\">  nan</td><td style=\"text-align: right;\">  nan</td><td style=\"text-align: right;\">  nan</td><td>YES  </td><td>YES  </td></tr>\n",
       "<tr><td style=\"text-align: right;\">1987</td><td style=\"text-align: right;\">  10</td><td style=\"text-align: right;\">  18</td><td style=\"text-align: right;\">   7</td><td style=\"text-align: right;\"> 729</td><td style=\"text-align: right;\"> 730</td><td style=\"text-align: right;\"> 847</td><td style=\"text-align: right;\"> 849</td><td>PS  </td><td style=\"text-align: right;\"> 1451</td><td>NA   </td><td style=\"text-align: right;\">   78</td><td style=\"text-align: right;\">   79</td><td style=\"text-align: right;\">  nan</td><td style=\"text-align: right;\">   -2</td><td style=\"text-align: right;\">   -1</td><td>SAN  </td><td>SFO  </td><td style=\"text-align: right;\">  447</td><td style=\"text-align: right;\">  nan</td><td style=\"text-align: right;\">  nan</td><td style=\"text-align: right;\">    0</td><td>NA   </td><td style=\"text-align: right;\">    0</td><td style=\"text-align: right;\">  nan</td><td style=\"text-align: right;\">  nan</td><td style=\"text-align: right;\">  nan</td><td style=\"text-align: right;\">  nan</td><td style=\"text-align: right;\">  nan</td><td>NO   </td><td>NO   </td></tr>\n",
       "<tr><td style=\"text-align: right;\">1987</td><td style=\"text-align: right;\">  10</td><td style=\"text-align: right;\">  19</td><td style=\"text-align: right;\">   1</td><td style=\"text-align: right;\"> 749</td><td style=\"text-align: right;\"> 730</td><td style=\"text-align: right;\"> 922</td><td style=\"text-align: right;\"> 849</td><td>PS  </td><td style=\"text-align: right;\"> 1451</td><td>NA   </td><td style=\"text-align: right;\">   93</td><td style=\"text-align: right;\">   79</td><td style=\"text-align: right;\">  nan</td><td style=\"text-align: right;\">   33</td><td style=\"text-align: right;\">   19</td><td>SAN  </td><td>SFO  </td><td style=\"text-align: right;\">  447</td><td style=\"text-align: right;\">  nan</td><td style=\"text-align: right;\">  nan</td><td style=\"text-align: right;\">    0</td><td>NA   </td><td style=\"text-align: right;\">    0</td><td style=\"text-align: right;\">  nan</td><td style=\"text-align: right;\">  nan</td><td style=\"text-align: right;\">  nan</td><td style=\"text-align: right;\">  nan</td><td style=\"text-align: right;\">  nan</td><td>YES  </td><td>YES  </td></tr>\n",
       "<tr><td style=\"text-align: right;\">1987</td><td style=\"text-align: right;\">  10</td><td style=\"text-align: right;\">  21</td><td style=\"text-align: right;\">   3</td><td style=\"text-align: right;\"> 728</td><td style=\"text-align: right;\"> 730</td><td style=\"text-align: right;\"> 848</td><td style=\"text-align: right;\"> 849</td><td>PS  </td><td style=\"text-align: right;\"> 1451</td><td>NA   </td><td style=\"text-align: right;\">   80</td><td style=\"text-align: right;\">   79</td><td style=\"text-align: right;\">  nan</td><td style=\"text-align: right;\">   -1</td><td style=\"text-align: right;\">   -2</td><td>SAN  </td><td>SFO  </td><td style=\"text-align: right;\">  447</td><td style=\"text-align: right;\">  nan</td><td style=\"text-align: right;\">  nan</td><td style=\"text-align: right;\">    0</td><td>NA   </td><td style=\"text-align: right;\">    0</td><td style=\"text-align: right;\">  nan</td><td style=\"text-align: right;\">  nan</td><td style=\"text-align: right;\">  nan</td><td style=\"text-align: right;\">  nan</td><td style=\"text-align: right;\">  nan</td><td>NO   </td><td>NO   </td></tr>\n",
       "<tr><td style=\"text-align: right;\">1987</td><td style=\"text-align: right;\">  10</td><td style=\"text-align: right;\">  22</td><td style=\"text-align: right;\">   4</td><td style=\"text-align: right;\"> 728</td><td style=\"text-align: right;\"> 730</td><td style=\"text-align: right;\"> 852</td><td style=\"text-align: right;\"> 849</td><td>PS  </td><td style=\"text-align: right;\"> 1451</td><td>NA   </td><td style=\"text-align: right;\">   84</td><td style=\"text-align: right;\">   79</td><td style=\"text-align: right;\">  nan</td><td style=\"text-align: right;\">    3</td><td style=\"text-align: right;\">   -2</td><td>SAN  </td><td>SFO  </td><td style=\"text-align: right;\">  447</td><td style=\"text-align: right;\">  nan</td><td style=\"text-align: right;\">  nan</td><td style=\"text-align: right;\">    0</td><td>NA   </td><td style=\"text-align: right;\">    0</td><td style=\"text-align: right;\">  nan</td><td style=\"text-align: right;\">  nan</td><td style=\"text-align: right;\">  nan</td><td style=\"text-align: right;\">  nan</td><td style=\"text-align: right;\">  nan</td><td>YES  </td><td>NO   </td></tr>\n",
       "<tr><td style=\"text-align: right;\">1987</td><td style=\"text-align: right;\">  10</td><td style=\"text-align: right;\">  23</td><td style=\"text-align: right;\">   5</td><td style=\"text-align: right;\"> 731</td><td style=\"text-align: right;\"> 730</td><td style=\"text-align: right;\"> 902</td><td style=\"text-align: right;\"> 849</td><td>PS  </td><td style=\"text-align: right;\"> 1451</td><td>NA   </td><td style=\"text-align: right;\">   91</td><td style=\"text-align: right;\">   79</td><td style=\"text-align: right;\">  nan</td><td style=\"text-align: right;\">   13</td><td style=\"text-align: right;\">    1</td><td>SAN  </td><td>SFO  </td><td style=\"text-align: right;\">  447</td><td style=\"text-align: right;\">  nan</td><td style=\"text-align: right;\">  nan</td><td style=\"text-align: right;\">    0</td><td>NA   </td><td style=\"text-align: right;\">    0</td><td style=\"text-align: right;\">  nan</td><td style=\"text-align: right;\">  nan</td><td style=\"text-align: right;\">  nan</td><td style=\"text-align: right;\">  nan</td><td style=\"text-align: right;\">  nan</td><td>YES  </td><td>YES  </td></tr>\n",
       "<tr><td style=\"text-align: right;\">1987</td><td style=\"text-align: right;\">  10</td><td style=\"text-align: right;\">  24</td><td style=\"text-align: right;\">   6</td><td style=\"text-align: right;\"> 744</td><td style=\"text-align: right;\"> 730</td><td style=\"text-align: right;\"> 908</td><td style=\"text-align: right;\"> 849</td><td>PS  </td><td style=\"text-align: right;\"> 1451</td><td>NA   </td><td style=\"text-align: right;\">   84</td><td style=\"text-align: right;\">   79</td><td style=\"text-align: right;\">  nan</td><td style=\"text-align: right;\">   19</td><td style=\"text-align: right;\">   14</td><td>SAN  </td><td>SFO  </td><td style=\"text-align: right;\">  447</td><td style=\"text-align: right;\">  nan</td><td style=\"text-align: right;\">  nan</td><td style=\"text-align: right;\">    0</td><td>NA   </td><td style=\"text-align: right;\">    0</td><td style=\"text-align: right;\">  nan</td><td style=\"text-align: right;\">  nan</td><td style=\"text-align: right;\">  nan</td><td style=\"text-align: right;\">  nan</td><td style=\"text-align: right;\">  nan</td><td>YES  </td><td>YES  </td></tr>\n",
       "<tr><td style=\"text-align: right;\">1987</td><td style=\"text-align: right;\">  10</td><td style=\"text-align: right;\">  25</td><td style=\"text-align: right;\">   7</td><td style=\"text-align: right;\"> 729</td><td style=\"text-align: right;\"> 730</td><td style=\"text-align: right;\"> 851</td><td style=\"text-align: right;\"> 849</td><td>PS  </td><td style=\"text-align: right;\"> 1451</td><td>NA   </td><td style=\"text-align: right;\">   82</td><td style=\"text-align: right;\">   79</td><td style=\"text-align: right;\">  nan</td><td style=\"text-align: right;\">    2</td><td style=\"text-align: right;\">   -1</td><td>SAN  </td><td>SFO  </td><td style=\"text-align: right;\">  447</td><td style=\"text-align: right;\">  nan</td><td style=\"text-align: right;\">  nan</td><td style=\"text-align: right;\">    0</td><td>NA   </td><td style=\"text-align: right;\">    0</td><td style=\"text-align: right;\">  nan</td><td style=\"text-align: right;\">  nan</td><td style=\"text-align: right;\">  nan</td><td style=\"text-align: right;\">  nan</td><td style=\"text-align: right;\">  nan</td><td>YES  </td><td>NO   </td></tr>\n",
       "</table>"
      ]
     },
     "metadata": {},
     "output_type": "display_data"
    },
    {
     "data": {
      "text/plain": [
       "<bound method H2OFrame.show of >"
      ]
     },
     "execution_count": 11,
     "metadata": {},
     "output_type": "execute_result"
    }
   ],
   "source": [
    "airline_df.show"
   ]
  },
  {
   "cell_type": "code",
   "execution_count": 18,
   "metadata": {
    "collapsed": false
   },
   "outputs": [
    {
     "data": {
      "text/html": [
       "<table>\n",
       "<tr><th style=\"text-align: right;\">  C1</th><th style=\"text-align: right;\">  C2</th><th style=\"text-align: right;\">  C3</th><th style=\"text-align: right;\">  C4</th><th style=\"text-align: right;\">  C5</th><th style=\"text-align: right;\">  C6</th><th style=\"text-align: right;\">  C7</th><th style=\"text-align: right;\">  C8</th><th>C9  </th><th style=\"text-align: right;\">  C10</th><th>C11  </th><th style=\"text-align: right;\">  C12</th><th style=\"text-align: right;\">  C13</th><th style=\"text-align: right;\">  C14</th><th style=\"text-align: right;\">  C15</th><th style=\"text-align: right;\">  C16</th><th>C17  </th><th>C18  </th><th style=\"text-align: right;\">  C19</th><th style=\"text-align: right;\">  C20</th></tr>\n",
       "<tr><td style=\"text-align: right;\">1987</td><td style=\"text-align: right;\">  10</td><td style=\"text-align: right;\">  14</td><td style=\"text-align: right;\">   3</td><td style=\"text-align: right;\"> 741</td><td style=\"text-align: right;\"> 730</td><td style=\"text-align: right;\"> 912</td><td style=\"text-align: right;\"> 849</td><td>PS  </td><td style=\"text-align: right;\"> 1451</td><td>NA   </td><td style=\"text-align: right;\">   91</td><td style=\"text-align: right;\">   79</td><td style=\"text-align: right;\">  nan</td><td style=\"text-align: right;\">   23</td><td style=\"text-align: right;\">   11</td><td>SAN  </td><td>SFO  </td><td style=\"text-align: right;\">  447</td><td style=\"text-align: right;\">  nan</td></tr>\n",
       "<tr><td style=\"text-align: right;\">1987</td><td style=\"text-align: right;\">  10</td><td style=\"text-align: right;\">  15</td><td style=\"text-align: right;\">   4</td><td style=\"text-align: right;\"> 729</td><td style=\"text-align: right;\"> 730</td><td style=\"text-align: right;\"> 903</td><td style=\"text-align: right;\"> 849</td><td>PS  </td><td style=\"text-align: right;\"> 1451</td><td>NA   </td><td style=\"text-align: right;\">   94</td><td style=\"text-align: right;\">   79</td><td style=\"text-align: right;\">  nan</td><td style=\"text-align: right;\">   14</td><td style=\"text-align: right;\">   -1</td><td>SAN  </td><td>SFO  </td><td style=\"text-align: right;\">  447</td><td style=\"text-align: right;\">  nan</td></tr>\n",
       "<tr><td style=\"text-align: right;\">1987</td><td style=\"text-align: right;\">  10</td><td style=\"text-align: right;\">  17</td><td style=\"text-align: right;\">   6</td><td style=\"text-align: right;\"> 741</td><td style=\"text-align: right;\"> 730</td><td style=\"text-align: right;\"> 918</td><td style=\"text-align: right;\"> 849</td><td>PS  </td><td style=\"text-align: right;\"> 1451</td><td>NA   </td><td style=\"text-align: right;\">   97</td><td style=\"text-align: right;\">   79</td><td style=\"text-align: right;\">  nan</td><td style=\"text-align: right;\">   29</td><td style=\"text-align: right;\">   11</td><td>SAN  </td><td>SFO  </td><td style=\"text-align: right;\">  447</td><td style=\"text-align: right;\">  nan</td></tr>\n",
       "<tr><td style=\"text-align: right;\">1987</td><td style=\"text-align: right;\">  10</td><td style=\"text-align: right;\">  18</td><td style=\"text-align: right;\">   7</td><td style=\"text-align: right;\"> 729</td><td style=\"text-align: right;\"> 730</td><td style=\"text-align: right;\"> 847</td><td style=\"text-align: right;\"> 849</td><td>PS  </td><td style=\"text-align: right;\"> 1451</td><td>NA   </td><td style=\"text-align: right;\">   78</td><td style=\"text-align: right;\">   79</td><td style=\"text-align: right;\">  nan</td><td style=\"text-align: right;\">   -2</td><td style=\"text-align: right;\">   -1</td><td>SAN  </td><td>SFO  </td><td style=\"text-align: right;\">  447</td><td style=\"text-align: right;\">  nan</td></tr>\n",
       "<tr><td style=\"text-align: right;\">1987</td><td style=\"text-align: right;\">  10</td><td style=\"text-align: right;\">  19</td><td style=\"text-align: right;\">   1</td><td style=\"text-align: right;\"> 749</td><td style=\"text-align: right;\"> 730</td><td style=\"text-align: right;\"> 922</td><td style=\"text-align: right;\"> 849</td><td>PS  </td><td style=\"text-align: right;\"> 1451</td><td>NA   </td><td style=\"text-align: right;\">   93</td><td style=\"text-align: right;\">   79</td><td style=\"text-align: right;\">  nan</td><td style=\"text-align: right;\">   33</td><td style=\"text-align: right;\">   19</td><td>SAN  </td><td>SFO  </td><td style=\"text-align: right;\">  447</td><td style=\"text-align: right;\">  nan</td></tr>\n",
       "</table>"
      ]
     },
     "metadata": {},
     "output_type": "display_data"
    },
    {
     "data": {
      "text/plain": []
     },
     "execution_count": 18,
     "metadata": {},
     "output_type": "execute_result"
    }
   ],
   "source": [
    "airline_df.head(5,20) # 1,1 | 1,10 | 5,10 | 5, airline_df.ncol | "
   ]
  },
  {
   "cell_type": "code",
   "execution_count": null,
   "metadata": {
    "collapsed": true
   },
   "outputs": [],
   "source": []
  }
 ],
 "metadata": {
  "kernelspec": {
   "display_name": "Python 2",
   "language": "python",
   "name": "python2"
  },
  "language_info": {
   "codemirror_mode": {
    "name": "ipython",
    "version": 2
   },
   "file_extension": ".py",
   "mimetype": "text/x-python",
   "name": "python",
   "nbconvert_exporter": "python",
   "pygments_lexer": "ipython2",
   "version": "2.7.10"
  }
 },
 "nbformat": 4,
 "nbformat_minor": 1
}
