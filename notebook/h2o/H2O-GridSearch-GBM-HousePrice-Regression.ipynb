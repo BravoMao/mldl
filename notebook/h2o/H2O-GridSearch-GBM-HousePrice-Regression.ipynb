{
 "cells": [
  {
   "cell_type": "code",
   "execution_count": 1,
   "metadata": {
    "collapsed": true
   },
   "outputs": [],
   "source": [
    "###: Loading H2O Library"
   ]
  },
  {
   "cell_type": "code",
   "execution_count": 2,
   "metadata": {
    "collapsed": true
   },
   "outputs": [],
   "source": [
    "import h2o"
   ]
  },
  {
   "cell_type": "code",
   "execution_count": 3,
   "metadata": {
    "collapsed": true
   },
   "outputs": [],
   "source": [
    "###: Get H2O Version"
   ]
  },
  {
   "cell_type": "code",
   "execution_count": 4,
   "metadata": {},
   "outputs": [
    {
     "data": {
      "text/plain": [
       "u'3.14.0.7'"
      ]
     },
     "execution_count": 4,
     "metadata": {},
     "output_type": "execute_result"
    }
   ],
   "source": [
    "h2o.__version__"
   ]
  },
  {
   "cell_type": "code",
   "execution_count": 5,
   "metadata": {
    "collapsed": true
   },
   "outputs": [],
   "source": [
    "###: Initalizing H2O cluster"
   ]
  },
  {
   "cell_type": "code",
   "execution_count": 6,
   "metadata": {},
   "outputs": [
    {
     "name": "stderr",
     "output_type": "stream",
     "text": [
      "ERROR:h2o:Key init.version_check is not a valid config key\n"
     ]
    },
    {
     "name": "stdout",
     "output_type": "stream",
     "text": [
      "Checking whether there is an H2O instance running at http://localhost:54321. connected.\n"
     ]
    },
    {
     "data": {
      "text/html": [
       "<div style=\"overflow:auto\"><table style=\"width:50%\"><tr><td>H2O cluster uptime:</td>\n",
       "<td>1 day 21 hours 14 mins</td></tr>\n",
       "<tr><td>H2O cluster version:</td>\n",
       "<td>3.14.0.7</td></tr>\n",
       "<tr><td>H2O cluster version age:</td>\n",
       "<td>1 month and 1 day </td></tr>\n",
       "<tr><td>H2O cluster name:</td>\n",
       "<td>H2O_from_python_avkashchauhan_d7ekmq</td></tr>\n",
       "<tr><td>H2O cluster total nodes:</td>\n",
       "<td>1</td></tr>\n",
       "<tr><td>H2O cluster free memory:</td>\n",
       "<td>2.834 Gb</td></tr>\n",
       "<tr><td>H2O cluster total cores:</td>\n",
       "<td>8</td></tr>\n",
       "<tr><td>H2O cluster allowed cores:</td>\n",
       "<td>8</td></tr>\n",
       "<tr><td>H2O cluster status:</td>\n",
       "<td>locked, healthy</td></tr>\n",
       "<tr><td>H2O connection url:</td>\n",
       "<td>http://localhost:54321</td></tr>\n",
       "<tr><td>H2O connection proxy:</td>\n",
       "<td>None</td></tr>\n",
       "<tr><td>H2O internal security:</td>\n",
       "<td>False</td></tr>\n",
       "<tr><td>H2O API Extensions:</td>\n",
       "<td>XGBoost, Algos, AutoML, Core V3, Core V4</td></tr>\n",
       "<tr><td>Python version:</td>\n",
       "<td>2.7.13 final</td></tr></table></div>"
      ],
      "text/plain": [
       "--------------------------  ----------------------------------------\n",
       "H2O cluster uptime:         1 day 21 hours 14 mins\n",
       "H2O cluster version:        3.14.0.7\n",
       "H2O cluster version age:    1 month and 1 day\n",
       "H2O cluster name:           H2O_from_python_avkashchauhan_d7ekmq\n",
       "H2O cluster total nodes:    1\n",
       "H2O cluster free memory:    2.834 Gb\n",
       "H2O cluster total cores:    8\n",
       "H2O cluster allowed cores:  8\n",
       "H2O cluster status:         locked, healthy\n",
       "H2O connection url:         http://localhost:54321\n",
       "H2O connection proxy:\n",
       "H2O internal security:      False\n",
       "H2O API Extensions:         XGBoost, Algos, AutoML, Core V3, Core V4\n",
       "Python version:             2.7.13 final\n",
       "--------------------------  ----------------------------------------"
      ]
     },
     "metadata": {},
     "output_type": "display_data"
    }
   ],
   "source": [
    "h2o.init()"
   ]
  },
  {
   "cell_type": "code",
   "execution_count": 7,
   "metadata": {
    "collapsed": true
   },
   "outputs": [],
   "source": [
    "###: Importing both training and test dataset into H2O cluster memory"
   ]
  },
  {
   "cell_type": "code",
   "execution_count": 8,
   "metadata": {},
   "outputs": [
    {
     "name": "stdout",
     "output_type": "stream",
     "text": [
      "Parse progress: |█████████████████████████████████████████████████████████| 100%\n",
      "Parse progress: |█████████████████████████████████████████████████████████| 100%\n"
     ]
    }
   ],
   "source": [
    "#train_df = h2o.import_file(\"/Users/avkashchauhan/examples/regression/house_price_train.csv\")\n",
    "#test_df = h2o.import_file(\"/Users/avkashchauhan/examples/regression/house_price_test.csv\")\n",
    "\n",
    "train_df = h2o.import_file(\"https://raw.githubusercontent.com/Avkash/mldl/master/data/house_price_train.csv\")\n",
    "test_df = h2o.import_file(\"https://raw.githubusercontent.com/Avkash/mldl/master/data/house_price_test.csv\")"
   ]
  },
  {
   "cell_type": "code",
   "execution_count": 9,
   "metadata": {
    "collapsed": true
   },
   "outputs": [],
   "source": [
    "###: Understanding Training dataset"
   ]
  },
  {
   "cell_type": "code",
   "execution_count": 10,
   "metadata": {},
   "outputs": [
    {
     "name": "stdout",
     "output_type": "stream",
     "text": [
      "Rows:407\n",
      "Cols:14\n",
      "\n",
      "\n"
     ]
    },
    {
     "data": {
      "text/html": [
       "<table>\n",
       "<thead>\n",
       "<tr><th>       </th><th>crim         </th><th>zn           </th><th>indus        </th><th>chas           </th><th>nox           </th><th>rm            </th><th>age          </th><th>dis          </th><th>rad          </th><th>tax          </th><th>ptratio      </th><th>b            </th><th>lstat        </th><th>medv         </th></tr>\n",
       "</thead>\n",
       "<tbody>\n",
       "<tr><td>type   </td><td>real         </td><td>real         </td><td>real         </td><td>int            </td><td>real          </td><td>real          </td><td>real         </td><td>real         </td><td>int          </td><td>int          </td><td>real         </td><td>real         </td><td>real         </td><td>real         </td></tr>\n",
       "<tr><td>mins   </td><td>0.00906      </td><td>0.0          </td><td>0.46         </td><td>0.0            </td><td>0.385         </td><td>3.863         </td><td>2.9          </td><td>1.1296       </td><td>1.0          </td><td>188.0        </td><td>12.6         </td><td>0.32         </td><td>1.73         </td><td>5.0          </td></tr>\n",
       "<tr><td>mean   </td><td>3.56736771499</td><td>10.5872235872</td><td>11.4092628993</td><td>0.0687960687961</td><td>0.556763882064</td><td>6.28658230958 </td><td>69.3889434889</td><td>3.71767051597</td><td>9.83783783784</td><td>412.378378378</td><td>18.4474201474</td><td>354.403218673</td><td>12.792039312 </td><td>22.6248157248</td></tr>\n",
       "<tr><td>maxs   </td><td>73.5341      </td><td>100.0        </td><td>27.74        </td><td>1.0            </td><td>0.871         </td><td>8.725         </td><td>100.0        </td><td>10.7103      </td><td>24.0         </td><td>711.0        </td><td>22.0         </td><td>396.9        </td><td>37.97        </td><td>50.0         </td></tr>\n",
       "<tr><td>sigma  </td><td>7.94798961655</td><td>22.2597824603</td><td>6.8144822924 </td><td>0.253418548596 </td><td>0.115557348898</td><td>0.690897322921</td><td>27.8179045475</td><td>2.01524090631</td><td>8.78440418525</td><td>170.44740987 </td><td>2.16176742548</td><td>94.175205015 </td><td>7.09869539936</td><td>9.18501930903</td></tr>\n",
       "<tr><td>zeros  </td><td>0            </td><td>301          </td><td>0            </td><td>379            </td><td>0             </td><td>0             </td><td>0            </td><td>0            </td><td>0            </td><td>0            </td><td>0            </td><td>0            </td><td>0            </td><td>0            </td></tr>\n",
       "<tr><td>missing</td><td>0            </td><td>0            </td><td>0            </td><td>0              </td><td>0             </td><td>0             </td><td>0            </td><td>0            </td><td>0            </td><td>0            </td><td>0            </td><td>0            </td><td>0            </td><td>0            </td></tr>\n",
       "<tr><td>0      </td><td>0.02731      </td><td>0.0          </td><td>7.07         </td><td>0.0            </td><td>0.469         </td><td>6.421         </td><td>78.9         </td><td>4.9671       </td><td>2.0          </td><td>242.0        </td><td>17.8         </td><td>396.9        </td><td>9.14         </td><td>21.6         </td></tr>\n",
       "<tr><td>1      </td><td>0.02729      </td><td>0.0          </td><td>7.07         </td><td>0.0            </td><td>0.469         </td><td>7.185         </td><td>61.1         </td><td>4.9671       </td><td>2.0          </td><td>242.0        </td><td>17.8         </td><td>392.83       </td><td>4.03         </td><td>34.7         </td></tr>\n",
       "<tr><td>2      </td><td>0.03237      </td><td>0.0          </td><td>2.18         </td><td>0.0            </td><td>0.458         </td><td>6.998         </td><td>45.8         </td><td>6.0622       </td><td>3.0          </td><td>222.0        </td><td>18.7         </td><td>394.63       </td><td>2.94         </td><td>33.4         </td></tr>\n",
       "<tr><td>3      </td><td>0.06905      </td><td>0.0          </td><td>2.18         </td><td>0.0            </td><td>0.458         </td><td>7.147         </td><td>54.2         </td><td>6.0622       </td><td>3.0          </td><td>222.0        </td><td>18.7         </td><td>396.9        </td><td>5.33         </td><td>36.2         </td></tr>\n",
       "<tr><td>4      </td><td>0.08829      </td><td>12.5         </td><td>7.87         </td><td>0.0            </td><td>0.524         </td><td>6.012         </td><td>66.6         </td><td>5.5605       </td><td>5.0          </td><td>311.0        </td><td>15.2         </td><td>395.6        </td><td>12.43        </td><td>22.9         </td></tr>\n",
       "<tr><td>5      </td><td>0.14455      </td><td>12.5         </td><td>7.87         </td><td>0.0            </td><td>0.524         </td><td>6.172         </td><td>96.1         </td><td>5.9505       </td><td>5.0          </td><td>311.0        </td><td>15.2         </td><td>396.9        </td><td>19.15        </td><td>27.1         </td></tr>\n",
       "<tr><td>6      </td><td>0.21124      </td><td>12.5         </td><td>7.87         </td><td>0.0            </td><td>0.524         </td><td>5.631         </td><td>100.0        </td><td>6.0821       </td><td>5.0          </td><td>311.0        </td><td>15.2         </td><td>386.63       </td><td>29.93        </td><td>16.5         </td></tr>\n",
       "<tr><td>7      </td><td>0.17004      </td><td>12.5         </td><td>7.87         </td><td>0.0            </td><td>0.524         </td><td>6.004         </td><td>85.9         </td><td>6.5921       </td><td>5.0          </td><td>311.0        </td><td>15.2         </td><td>386.71       </td><td>17.1         </td><td>18.9         </td></tr>\n",
       "<tr><td>8      </td><td>0.22489      </td><td>12.5         </td><td>7.87         </td><td>0.0            </td><td>0.524         </td><td>6.377         </td><td>94.3         </td><td>6.3467       </td><td>5.0          </td><td>311.0        </td><td>15.2         </td><td>392.52       </td><td>20.45        </td><td>15.0         </td></tr>\n",
       "<tr><td>9      </td><td>0.11747      </td><td>12.5         </td><td>7.87         </td><td>0.0            </td><td>0.524         </td><td>6.009         </td><td>82.9         </td><td>6.2267       </td><td>5.0          </td><td>311.0        </td><td>15.2         </td><td>396.9        </td><td>13.27        </td><td>18.9         </td></tr>\n",
       "</tbody>\n",
       "</table>"
      ]
     },
     "metadata": {},
     "output_type": "display_data"
    }
   ],
   "source": [
    "train_df.describe()"
   ]
  },
  {
   "cell_type": "code",
   "execution_count": 11,
   "metadata": {
    "collapsed": true
   },
   "outputs": [],
   "source": [
    "###: Understanding Test dataset"
   ]
  },
  {
   "cell_type": "code",
   "execution_count": 12,
   "metadata": {},
   "outputs": [
    {
     "name": "stdout",
     "output_type": "stream",
     "text": [
      "Rows:99\n",
      "Cols:14\n",
      "\n",
      "\n"
     ]
    },
    {
     "data": {
      "text/html": [
       "<table>\n",
       "<thead>\n",
       "<tr><th>       </th><th>crim         </th><th>zn           </th><th>indus        </th><th>chas           </th><th>nox          </th><th>rm            </th><th>age          </th><th>dis          </th><th>rad          </th><th>tax          </th><th>ptratio      </th><th>b            </th><th>lstat        </th><th>medv         </th></tr>\n",
       "</thead>\n",
       "<tbody>\n",
       "<tr><td>type   </td><td>real         </td><td>real         </td><td>real         </td><td>int            </td><td>real         </td><td>real          </td><td>real         </td><td>real         </td><td>int          </td><td>int          </td><td>real         </td><td>real         </td><td>real         </td><td>real         </td></tr>\n",
       "<tr><td>mins   </td><td>0.00632      </td><td>0.0          </td><td>0.74         </td><td>0.0            </td><td>0.389        </td><td>3.561         </td><td>9.9          </td><td>1.1781       </td><td>1.0          </td><td>187.0        </td><td>12.6         </td><td>6.68         </td><td>2.88         </td><td>5.6          </td></tr>\n",
       "<tr><td>mean   </td><td>3.80327535354</td><td>14.5555555556</td><td>10.0165656566</td><td>0.0707070707071</td><td>0.54618989899</td><td>6.27662626263 </td><td>65.2282828283</td><td>4.11312828283</td><td>8.36363636364</td><td>391.212121212</td><td>18.4888888889</td><td>366.00959596 </td><td>12.0817171717</td><td>22.1545454545</td></tr>\n",
       "<tr><td>maxs   </td><td>88.9762      </td><td>95.0         </td><td>27.74        </td><td>1.0            </td><td>0.871        </td><td>8.78          </td><td>100.0        </td><td>12.1265      </td><td>24.0         </td><td>711.0        </td><td>22.0         </td><td>396.9        </td><td>34.41        </td><td>50.0         </td></tr>\n",
       "<tr><td>sigma  </td><td>10.9318629744</td><td>27.154498339 </td><td>6.96902859181</td><td>0.257639411539 </td><td>0.11739221152</td><td>0.752520981955</td><td>29.378799938 </td><td>2.42831711324</td><td>8.3206830389 </td><td>160.149373687</td><td>2.18869492793</td><td>78.0843033028</td><td>7.32150592857</td><td>9.28388193709</td></tr>\n",
       "<tr><td>zeros  </td><td>0            </td><td>71           </td><td>0            </td><td>92             </td><td>0            </td><td>0             </td><td>0            </td><td>0            </td><td>0            </td><td>0            </td><td>0            </td><td>0            </td><td>0            </td><td>0            </td></tr>\n",
       "<tr><td>missing</td><td>0            </td><td>0            </td><td>0            </td><td>0              </td><td>0            </td><td>0             </td><td>0            </td><td>0            </td><td>0            </td><td>0            </td><td>0            </td><td>0            </td><td>0            </td><td>0            </td></tr>\n",
       "<tr><td>0      </td><td>0.00632      </td><td>18.0         </td><td>2.31         </td><td>0.0            </td><td>0.538        </td><td>6.575         </td><td>65.2         </td><td>4.09         </td><td>1.0          </td><td>296.0        </td><td>15.3         </td><td>396.9        </td><td>4.98         </td><td>24.0         </td></tr>\n",
       "<tr><td>1      </td><td>0.02985      </td><td>0.0          </td><td>2.18         </td><td>0.0            </td><td>0.458        </td><td>6.43          </td><td>58.7         </td><td>6.0622       </td><td>3.0          </td><td>222.0        </td><td>18.7         </td><td>394.12       </td><td>5.21         </td><td>28.7         </td></tr>\n",
       "<tr><td>2      </td><td>1.23247      </td><td>0.0          </td><td>8.14         </td><td>0.0            </td><td>0.538        </td><td>6.142         </td><td>91.7         </td><td>3.9769       </td><td>4.0          </td><td>307.0        </td><td>21.0         </td><td>396.9        </td><td>18.72        </td><td>15.2         </td></tr>\n",
       "<tr><td>3      </td><td>0.98843      </td><td>0.0          </td><td>8.14         </td><td>0.0            </td><td>0.538        </td><td>5.813         </td><td>100.0        </td><td>4.0952       </td><td>4.0          </td><td>307.0        </td><td>21.0         </td><td>394.54       </td><td>19.88        </td><td>14.5         </td></tr>\n",
       "<tr><td>4      </td><td>1.13081      </td><td>0.0          </td><td>8.14         </td><td>0.0            </td><td>0.538        </td><td>5.713         </td><td>94.1         </td><td>4.233        </td><td>4.0          </td><td>307.0        </td><td>21.0         </td><td>360.17       </td><td>22.6         </td><td>12.7         </td></tr>\n",
       "<tr><td>5      </td><td>1.15172      </td><td>0.0          </td><td>8.14         </td><td>0.0            </td><td>0.538        </td><td>5.701         </td><td>95.0         </td><td>3.7872       </td><td>4.0          </td><td>307.0        </td><td>21.0         </td><td>358.77       </td><td>18.35        </td><td>13.1         </td></tr>\n",
       "<tr><td>6      </td><td>0.08014      </td><td>0.0          </td><td>5.96         </td><td>0.0            </td><td>0.499        </td><td>5.85          </td><td>41.5         </td><td>3.9342       </td><td>5.0          </td><td>279.0        </td><td>19.2         </td><td>396.9        </td><td>8.77         </td><td>21.0         </td></tr>\n",
       "<tr><td>7      </td><td>0.17505      </td><td>0.0          </td><td>5.96         </td><td>0.0            </td><td>0.499        </td><td>5.966         </td><td>30.2         </td><td>3.8473       </td><td>5.0          </td><td>279.0        </td><td>19.2         </td><td>393.43       </td><td>10.13        </td><td>24.7         </td></tr>\n",
       "<tr><td>8      </td><td>0.02763      </td><td>75.0         </td><td>2.95         </td><td>0.0            </td><td>0.428        </td><td>6.595         </td><td>21.8         </td><td>5.4011       </td><td>3.0          </td><td>252.0        </td><td>18.3         </td><td>395.63       </td><td>4.32         </td><td>30.8         </td></tr>\n",
       "<tr><td>9      </td><td>0.08873      </td><td>21.0         </td><td>5.64         </td><td>0.0            </td><td>0.439        </td><td>5.963         </td><td>45.7         </td><td>6.8147       </td><td>4.0          </td><td>243.0        </td><td>16.8         </td><td>395.56       </td><td>13.45        </td><td>19.7         </td></tr>\n",
       "</tbody>\n",
       "</table>"
      ]
     },
     "metadata": {},
     "output_type": "display_data"
    }
   ],
   "source": [
    "test_df.describe()"
   ]
  },
  {
   "cell_type": "code",
   "execution_count": 13,
   "metadata": {
    "collapsed": true
   },
   "outputs": [],
   "source": [
    "###: Training and test dataset - columns and rows details"
   ]
  },
  {
   "cell_type": "code",
   "execution_count": 14,
   "metadata": {},
   "outputs": [
    {
     "name": "stdout",
     "output_type": "stream",
     "text": [
      "(407, 14)\n",
      "(99, 14)\n"
     ]
    }
   ],
   "source": [
    "print(train_df.shape)\n",
    "print(test_df.shape)"
   ]
  },
  {
   "cell_type": "code",
   "execution_count": 15,
   "metadata": {
    "collapsed": true
   },
   "outputs": [],
   "source": [
    "###: Training and Test Dataframes - columns names"
   ]
  },
  {
   "cell_type": "code",
   "execution_count": 16,
   "metadata": {},
   "outputs": [
    {
     "name": "stdout",
     "output_type": "stream",
     "text": [
      "[u'crim', u'zn', u'indus', u'chas', u'nox', u'rm', u'age', u'dis', u'rad', u'tax', u'ptratio', u'b', u'lstat', u'medv']\n",
      "[u'crim', u'zn', u'indus', u'chas', u'nox', u'rm', u'age', u'dis', u'rad', u'tax', u'ptratio', u'b', u'lstat', u'medv']\n"
     ]
    }
   ],
   "source": [
    "print(train_df.col_names)\n",
    "print(test_df.col_names)"
   ]
  },
  {
   "cell_type": "code",
   "execution_count": 17,
   "metadata": {
    "collapsed": true
   },
   "outputs": [],
   "source": [
    "###: Settings response or target variable for supervised machine learning"
   ]
  },
  {
   "cell_type": "code",
   "execution_count": 18,
   "metadata": {},
   "outputs": [
    {
     "name": "stdout",
     "output_type": "stream",
     "text": [
      "[u'crim', u'zn', u'indus', u'chas', u'nox', u'rm', u'age', u'dis', u'rad', u'tax', u'ptratio', u'b', u'lstat', u'medv']\n"
     ]
    }
   ],
   "source": [
    "response = \"medv\"\n",
    "features = train_df.col_names\n",
    "print(features)"
   ]
  },
  {
   "cell_type": "code",
   "execution_count": 19,
   "metadata": {
    "collapsed": true
   },
   "outputs": [],
   "source": [
    "###: Creating a list of all features we will use for machine learning"
   ]
  },
  {
   "cell_type": "code",
   "execution_count": 20,
   "metadata": {},
   "outputs": [
    {
     "name": "stdout",
     "output_type": "stream",
     "text": [
      "[u'crim', u'zn', u'indus', u'chas', u'nox', u'rm', u'age', u'dis', u'rad', u'tax', u'ptratio', u'b', u'lstat']\n"
     ]
    }
   ],
   "source": [
    "features.remove(response)\n",
    "print(features)"
   ]
  },
  {
   "cell_type": "code",
   "execution_count": 21,
   "metadata": {
    "collapsed": true
   },
   "outputs": [],
   "source": [
    "###: Understanding response variable values as historgram in Training data"
   ]
  },
  {
   "cell_type": "code",
   "execution_count": 22,
   "metadata": {},
   "outputs": [
    {
     "data": {
      "image/png": "[encoded data removed]",
      "text/plain": [
       "<matplotlib.figure.Figure at 0x10ea72d90>"
      ]
     },
     "metadata": {},
     "output_type": "display_data"
    }
   ],
   "source": [
    "train_df['medv'].hist()"
   ]
  },
  {
   "cell_type": "code",
   "execution_count": 23,
   "metadata": {
    "collapsed": true
   },
   "outputs": [],
   "source": [
    "###: Importing H2O H2OGeneralizedLinearEstimator to build GLM Model"
   ]
  },
  {
   "cell_type": "code",
   "execution_count": 24,
   "metadata": {
    "collapsed": true
   },
   "outputs": [],
   "source": [
    "from h2o.estimators.gbm import H2OGradientBoostingEstimator"
   ]
  },
  {
   "cell_type": "code",
   "execution_count": 25,
   "metadata": {
    "collapsed": true
   },
   "outputs": [],
   "source": [
    "###:Building Gradient Boosting (GBM) -  Regression model with cross validation"
   ]
  },
  {
   "cell_type": "code",
   "execution_count": 26,
   "metadata": {},
   "outputs": [
    {
     "name": "stdout",
     "output_type": "stream",
     "text": [
      "gbm Model Build progress: |███████████████████████████████████████████████| 100%\n"
     ]
    }
   ],
   "source": [
    "gbm_model_with_cv = H2OGradientBoostingEstimator(nfolds=5)\n",
    "gbm_model_with_cv.train(x = features, y = response, training_frame=train_df)"
   ]
  },
  {
   "cell_type": "code",
   "execution_count": 27,
   "metadata": {},
   "outputs": [
    {
     "data": {
      "text/plain": [
       "0.8132922698656587"
      ]
     },
     "execution_count": 27,
     "metadata": {},
     "output_type": "execute_result"
    }
   ],
   "source": [
    "gbm_model_with_cv.model_performance(valid=True,test_data=test_df).r2()"
   ]
  },
  {
   "cell_type": "code",
   "execution_count": 28,
   "metadata": {
    "collapsed": true
   },
   "outputs": [],
   "source": [
    "###:Building Gradient Boosting (GBM) -  Regression model with training and validation data now\n",
    "###:  Setting key GBM parameters"
   ]
  },
  {
   "cell_type": "code",
   "execution_count": 29,
   "metadata": {
    "collapsed": true
   },
   "outputs": [],
   "source": [
    "gbm_model_cv_config = H2OGradientBoostingEstimator(distribution=\"AUTO\",\n",
    "                                      ntrees=10,\n",
    "                                      max_depth=3,\n",
    "                                      min_rows=2,\n",
    "                                      learn_rate=0.2,\n",
    "                                      nfolds=5,\n",
    "                                      keep_cross_validation_predictions=True,\n",
    "                                      seed=1)"
   ]
  },
  {
   "cell_type": "code",
   "execution_count": 72,
   "metadata": {
    "collapsed": true
   },
   "outputs": [],
   "source": [
    "###: Training the GBM model"
   ]
  },
  {
   "cell_type": "code",
   "execution_count": 73,
   "metadata": {},
   "outputs": [
    {
     "name": "stdout",
     "output_type": "stream",
     "text": [
      "gbm Model Build progress: |███████████████████████████████████████████████| 100%\n"
     ]
    }
   ],
   "source": [
    "gbm_model_cv_config.train(x = features, y = response, \n",
    "                                            training_frame=train_df, \n",
    "                                           model_id = \"glm_model_with_training_and_validtion_python\")"
   ]
  },
  {
   "cell_type": "code",
   "execution_count": 75,
   "metadata": {
    "collapsed": true
   },
   "outputs": [],
   "source": [
    "###: Getting model performance based on test data"
   ]
  },
  {
   "cell_type": "code",
   "execution_count": 76,
   "metadata": {},
   "outputs": [
    {
     "data": {
      "text/plain": [
       "0.7846159076427028"
      ]
     },
     "execution_count": 76,
     "metadata": {},
     "output_type": "execute_result"
    }
   ],
   "source": [
    "gbm_model_cv_config.model_performance(valid=True,test_data=test_df).r2()"
   ]
  },
  {
   "cell_type": "code",
   "execution_count": 77,
   "metadata": {
    "collapsed": true
   },
   "outputs": [],
   "source": [
    "###: Importing H2O Grid Search Library"
   ]
  },
  {
   "cell_type": "code",
   "execution_count": 78,
   "metadata": {
    "collapsed": true
   },
   "outputs": [],
   "source": [
    "from h2o.grid import H2OGridSearch"
   ]
  },
  {
   "cell_type": "code",
   "execution_count": 79,
   "metadata": {
    "collapsed": true
   },
   "outputs": [],
   "source": [
    "###: Setting GBM specific Parameters"
   ]
  },
  {
   "cell_type": "code",
   "execution_count": 80,
   "metadata": {
    "collapsed": true
   },
   "outputs": [],
   "source": [
    "gbm_hyper_params = {\"learn_rate\": [0.01, 0.05, 0.1, 0.2, 0.5, 1.0],\n",
    "                \"max_depth\": [ 5, 7, 10],\n",
    "                \"sample_rate\": [0.5, 0.75, 1.0],\n",
    "                \"col_sample_rate\": [0.5, 0.6, 0.7, 0.8]}"
   ]
  },
  {
   "cell_type": "code",
   "execution_count": 81,
   "metadata": {
    "collapsed": true
   },
   "outputs": [],
   "source": [
    "###: Setting GBM hyperparameter search criteria"
   ]
  },
  {
   "cell_type": "code",
   "execution_count": 42,
   "metadata": {
    "collapsed": true
   },
   "outputs": [],
   "source": [
    "grid_search_criteria = {\"strategy\": \"RandomDiscrete\", \n",
    "                        \"max_models\": 100, \n",
    "                        \"seed\": 12345}"
   ]
  },
  {
   "cell_type": "code",
   "execution_count": 82,
   "metadata": {
    "collapsed": true
   },
   "outputs": [],
   "source": [
    "###: Finalizing the settings for GBM grid search"
   ]
  },
  {
   "cell_type": "code",
   "execution_count": 83,
   "metadata": {},
   "outputs": [],
   "source": [
    "house_price_gbm_grid = H2OGridSearch(model=H2OGradientBoostingEstimator(ntrees=50,\n",
    "                                                        seed=1,\n",
    "                                                        nfolds=5,\n",
    "                                                        fold_assignment=\"Modulo\",\n",
    "                                                        keep_cross_validation_predictions=True),\n",
    "                     hyper_params=gbm_hyper_params,\n",
    "                     search_criteria=grid_search_criteria,\n",
    "                     grid_id=\"house_price_gbm_grid\")"
   ]
  },
  {
   "cell_type": "code",
   "execution_count": 85,
   "metadata": {
    "collapsed": true
   },
   "outputs": [],
   "source": [
    "###: Finally traning the GBM grid Search Model"
   ]
  },
  {
   "cell_type": "code",
   "execution_count": 84,
   "metadata": {},
   "outputs": [
    {
     "name": "stdout",
     "output_type": "stream",
     "text": [
      "gbm Grid Build progress: |████████████████████████████████████████████████| 100%\n"
     ]
    }
   ],
   "source": [
    "house_price_gbm_grid.train(x=features, y=response, training_frame=train_df)"
   ]
  },
  {
   "cell_type": "code",
   "execution_count": 87,
   "metadata": {
    "collapsed": true
   },
   "outputs": [],
   "source": [
    "###: Getting the tital number of models built into H2O GBM Grid"
   ]
  },
  {
   "cell_type": "code",
   "execution_count": 88,
   "metadata": {},
   "outputs": [
    {
     "data": {
      "text/plain": [
       "100"
      ]
     },
     "execution_count": 88,
     "metadata": {},
     "output_type": "execute_result"
    }
   ],
   "source": [
    "len(house_price_gbm_grid)"
   ]
  },
  {
   "cell_type": "code",
   "execution_count": 89,
   "metadata": {
    "collapsed": true
   },
   "outputs": [],
   "source": [
    "###: Definiting a function to find the best model from the grid based on r2 or auc"
   ]
  },
  {
   "cell_type": "code",
   "execution_count": 109,
   "metadata": {
    "collapsed": true
   },
   "outputs": [],
   "source": [
    "def find_best_model_from_grid(h2o_grid, test_parameter):    \n",
    "    model_list = []\n",
    "    for grid_item in h2o_grid:\n",
    "        if test_parameter is \"r2\":\n",
    "            if not (grid_item.r2() == \"NaN\"):\n",
    "                model_list.append(grid_item.r2())\n",
    "            else:\n",
    "                model_list.append(0.0)            \n",
    "        elif test_parameter is \"auc\":\n",
    "            if not (grid_item.auc() == \"NaN\"):\n",
    "                model_list.append(grid_item.auc())\n",
    "            else:\n",
    "                model_list.append(0.0)            \n",
    "    #print(model_list)        \n",
    "    max_index = model_list.index(max(model_list))\n",
    "    #print(max_index)\n",
    "    best_model = h2o_grid[max_index]\n",
    "    print(\"Model ID with best R2: \" +  best_model.model_id)\n",
    "    if test_parameter is \"r2\":\n",
    "        print(\"Best R2: \" +  str(best_model.r2()))\n",
    "    elif test_parameter is \"auc\":\n",
    "        print(\"Best AUC: \" +  str(best_model.auc()))\n",
    "    return best_model"
   ]
  },
  {
   "cell_type": "code",
   "execution_count": 110,
   "metadata": {
    "collapsed": true
   },
   "outputs": [],
   "source": [
    "###: Applying the function to get the best model from the grid"
   ]
  },
  {
   "cell_type": "code",
   "execution_count": 91,
   "metadata": {},
   "outputs": [
    {
     "name": "stdout",
     "output_type": "stream",
     "text": [
      "Model ID with best R2: house_price_gbm_grid_model_95\n",
      "Best R2: 0.999984569386\n"
     ]
    }
   ],
   "source": [
    "best_gbm_model = find_best_model_from_grid(house_price_gbm_grid, \"r2\")"
   ]
  },
  {
   "cell_type": "code",
   "execution_count": null,
   "metadata": {
    "collapsed": true
   },
   "outputs": [],
   "source": [
    "###: Performing predictions with one of the above model"
   ]
  },
  {
   "cell_type": "code",
   "execution_count": 97,
   "metadata": {},
   "outputs": [
    {
     "name": "stdout",
     "output_type": "stream",
     "text": [
      "gbm prediction progress: |████████████████████████████████████████████████| 100%\n"
     ]
    }
   ],
   "source": [
    "gbm_predictions = best_gbm_model.predict(test_data=test_df)"
   ]
  },
  {
   "cell_type": "code",
   "execution_count": 98,
   "metadata": {
    "collapsed": true
   },
   "outputs": [],
   "source": [
    "###: Understanding/Validating predictions based on prediction results historgram"
   ]
  },
  {
   "cell_type": "code",
   "execution_count": 99,
   "metadata": {},
   "outputs": [
    {
     "data": {
      "image/png": "[encoded data removed]",
      "text/plain": [
       "<matplotlib.figure.Figure at 0x10fc955d0>"
      ]
     },
     "metadata": {},
     "output_type": "display_data"
    }
   ],
   "source": [
    "gbm_predictions.hist()"
   ]
  },
  {
   "cell_type": "code",
   "execution_count": null,
   "metadata": {
    "collapsed": true
   },
   "outputs": [],
   "source": [
    "#: Getting Scorring History"
   ]
  },
  {
   "cell_type": "code",
   "execution_count": 101,
   "metadata": {},
   "outputs": [
    {
     "data": {
      "text/html": [
       "<div>\n",
       "<style>\n",
       "    .dataframe thead tr:only-child th {\n",
       "        text-align: right;\n",
       "    }\n",
       "\n",
       "    .dataframe thead th {\n",
       "        text-align: left;\n",
       "    }\n",
       "\n",
       "    .dataframe tbody tr th {\n",
       "        vertical-align: top;\n",
       "    }\n",
       "</style>\n",
       "<table border=\"1\" class=\"dataframe\">\n",
       "  <thead>\n",
       "    <tr style=\"text-align: right;\">\n",
       "      <th></th>\n",
       "      <th></th>\n",
       "      <th>timestamp</th>\n",
       "      <th>duration</th>\n",
       "      <th>number_of_trees</th>\n",
       "      <th>training_rmse</th>\n",
       "      <th>training_mae</th>\n",
       "      <th>training_deviance</th>\n",
       "    </tr>\n",
       "  </thead>\n",
       "  <tbody>\n",
       "    <tr>\n",
       "      <th>0</th>\n",
       "      <td></td>\n",
       "      <td>2017-11-22 16:37:22</td>\n",
       "      <td>37.343 sec</td>\n",
       "      <td>0.0</td>\n",
       "      <td>9.173729</td>\n",
       "      <td>6.662434</td>\n",
       "      <td>84.157296</td>\n",
       "    </tr>\n",
       "    <tr>\n",
       "      <th>1</th>\n",
       "      <td></td>\n",
       "      <td>2017-11-22 16:37:22</td>\n",
       "      <td>37.346 sec</td>\n",
       "      <td>1.0</td>\n",
       "      <td>3.271914</td>\n",
       "      <td>2.139589</td>\n",
       "      <td>10.705422</td>\n",
       "    </tr>\n",
       "    <tr>\n",
       "      <th>2</th>\n",
       "      <td></td>\n",
       "      <td>2017-11-22 16:37:22</td>\n",
       "      <td>37.348 sec</td>\n",
       "      <td>2.0</td>\n",
       "      <td>2.682784</td>\n",
       "      <td>1.814275</td>\n",
       "      <td>7.197329</td>\n",
       "    </tr>\n",
       "    <tr>\n",
       "      <th>3</th>\n",
       "      <td></td>\n",
       "      <td>2017-11-22 16:37:22</td>\n",
       "      <td>37.350 sec</td>\n",
       "      <td>3.0</td>\n",
       "      <td>2.173591</td>\n",
       "      <td>1.531212</td>\n",
       "      <td>4.724497</td>\n",
       "    </tr>\n",
       "    <tr>\n",
       "      <th>4</th>\n",
       "      <td></td>\n",
       "      <td>2017-11-22 16:37:22</td>\n",
       "      <td>37.352 sec</td>\n",
       "      <td>4.0</td>\n",
       "      <td>1.882826</td>\n",
       "      <td>1.340570</td>\n",
       "      <td>3.545035</td>\n",
       "    </tr>\n",
       "    <tr>\n",
       "      <th>5</th>\n",
       "      <td></td>\n",
       "      <td>2017-11-22 16:37:22</td>\n",
       "      <td>37.354 sec</td>\n",
       "      <td>5.0</td>\n",
       "      <td>1.659908</td>\n",
       "      <td>1.192878</td>\n",
       "      <td>2.755293</td>\n",
       "    </tr>\n",
       "    <tr>\n",
       "      <th>6</th>\n",
       "      <td></td>\n",
       "      <td>2017-11-22 16:37:22</td>\n",
       "      <td>37.357 sec</td>\n",
       "      <td>6.0</td>\n",
       "      <td>1.439769</td>\n",
       "      <td>1.078829</td>\n",
       "      <td>2.072936</td>\n",
       "    </tr>\n",
       "    <tr>\n",
       "      <th>7</th>\n",
       "      <td></td>\n",
       "      <td>2017-11-22 16:37:22</td>\n",
       "      <td>37.359 sec</td>\n",
       "      <td>7.0</td>\n",
       "      <td>1.301605</td>\n",
       "      <td>0.984973</td>\n",
       "      <td>1.694175</td>\n",
       "    </tr>\n",
       "    <tr>\n",
       "      <th>8</th>\n",
       "      <td></td>\n",
       "      <td>2017-11-22 16:37:22</td>\n",
       "      <td>37.361 sec</td>\n",
       "      <td>8.0</td>\n",
       "      <td>1.161976</td>\n",
       "      <td>0.889768</td>\n",
       "      <td>1.350188</td>\n",
       "    </tr>\n",
       "    <tr>\n",
       "      <th>9</th>\n",
       "      <td></td>\n",
       "      <td>2017-11-22 16:37:22</td>\n",
       "      <td>37.372 sec</td>\n",
       "      <td>9.0</td>\n",
       "      <td>1.074837</td>\n",
       "      <td>0.824060</td>\n",
       "      <td>1.155275</td>\n",
       "    </tr>\n",
       "    <tr>\n",
       "      <th>10</th>\n",
       "      <td></td>\n",
       "      <td>2017-11-22 16:37:22</td>\n",
       "      <td>37.374 sec</td>\n",
       "      <td>10.0</td>\n",
       "      <td>0.977877</td>\n",
       "      <td>0.752875</td>\n",
       "      <td>0.956244</td>\n",
       "    </tr>\n",
       "    <tr>\n",
       "      <th>11</th>\n",
       "      <td></td>\n",
       "      <td>2017-11-22 16:37:22</td>\n",
       "      <td>37.376 sec</td>\n",
       "      <td>11.0</td>\n",
       "      <td>0.902370</td>\n",
       "      <td>0.690651</td>\n",
       "      <td>0.814272</td>\n",
       "    </tr>\n",
       "    <tr>\n",
       "      <th>12</th>\n",
       "      <td></td>\n",
       "      <td>2017-11-22 16:37:22</td>\n",
       "      <td>37.378 sec</td>\n",
       "      <td>12.0</td>\n",
       "      <td>0.790677</td>\n",
       "      <td>0.594986</td>\n",
       "      <td>0.625171</td>\n",
       "    </tr>\n",
       "    <tr>\n",
       "      <th>13</th>\n",
       "      <td></td>\n",
       "      <td>2017-11-22 16:37:22</td>\n",
       "      <td>37.381 sec</td>\n",
       "      <td>13.0</td>\n",
       "      <td>0.713855</td>\n",
       "      <td>0.539048</td>\n",
       "      <td>0.509589</td>\n",
       "    </tr>\n",
       "    <tr>\n",
       "      <th>14</th>\n",
       "      <td></td>\n",
       "      <td>2017-11-22 16:37:22</td>\n",
       "      <td>37.383 sec</td>\n",
       "      <td>14.0</td>\n",
       "      <td>0.646215</td>\n",
       "      <td>0.488426</td>\n",
       "      <td>0.417594</td>\n",
       "    </tr>\n",
       "    <tr>\n",
       "      <th>15</th>\n",
       "      <td></td>\n",
       "      <td>2017-11-22 16:37:22</td>\n",
       "      <td>37.385 sec</td>\n",
       "      <td>15.0</td>\n",
       "      <td>0.585555</td>\n",
       "      <td>0.449435</td>\n",
       "      <td>0.342875</td>\n",
       "    </tr>\n",
       "    <tr>\n",
       "      <th>16</th>\n",
       "      <td></td>\n",
       "      <td>2017-11-22 16:37:22</td>\n",
       "      <td>37.387 sec</td>\n",
       "      <td>16.0</td>\n",
       "      <td>0.523096</td>\n",
       "      <td>0.403395</td>\n",
       "      <td>0.273629</td>\n",
       "    </tr>\n",
       "    <tr>\n",
       "      <th>17</th>\n",
       "      <td></td>\n",
       "      <td>2017-11-22 16:37:22</td>\n",
       "      <td>37.389 sec</td>\n",
       "      <td>17.0</td>\n",
       "      <td>0.474101</td>\n",
       "      <td>0.373196</td>\n",
       "      <td>0.224771</td>\n",
       "    </tr>\n",
       "    <tr>\n",
       "      <th>18</th>\n",
       "      <td></td>\n",
       "      <td>2017-11-22 16:37:22</td>\n",
       "      <td>37.391 sec</td>\n",
       "      <td>18.0</td>\n",
       "      <td>0.428373</td>\n",
       "      <td>0.333216</td>\n",
       "      <td>0.183503</td>\n",
       "    </tr>\n",
       "    <tr>\n",
       "      <th>19</th>\n",
       "      <td></td>\n",
       "      <td>2017-11-22 16:37:22</td>\n",
       "      <td>37.393 sec</td>\n",
       "      <td>19.0</td>\n",
       "      <td>0.392176</td>\n",
       "      <td>0.302581</td>\n",
       "      <td>0.153802</td>\n",
       "    </tr>\n",
       "    <tr>\n",
       "      <th>20</th>\n",
       "      <td></td>\n",
       "      <td>2017-11-22 16:37:22</td>\n",
       "      <td>37.396 sec</td>\n",
       "      <td>20.0</td>\n",
       "      <td>0.365352</td>\n",
       "      <td>0.288712</td>\n",
       "      <td>0.133482</td>\n",
       "    </tr>\n",
       "    <tr>\n",
       "      <th>21</th>\n",
       "      <td></td>\n",
       "      <td>2017-11-22 16:37:22</td>\n",
       "      <td>37.398 sec</td>\n",
       "      <td>21.0</td>\n",
       "      <td>0.340152</td>\n",
       "      <td>0.269466</td>\n",
       "      <td>0.115703</td>\n",
       "    </tr>\n",
       "    <tr>\n",
       "      <th>22</th>\n",
       "      <td></td>\n",
       "      <td>2017-11-22 16:37:22</td>\n",
       "      <td>37.401 sec</td>\n",
       "      <td>22.0</td>\n",
       "      <td>0.315626</td>\n",
       "      <td>0.243844</td>\n",
       "      <td>0.099620</td>\n",
       "    </tr>\n",
       "    <tr>\n",
       "      <th>23</th>\n",
       "      <td></td>\n",
       "      <td>2017-11-22 16:37:22</td>\n",
       "      <td>37.403 sec</td>\n",
       "      <td>23.0</td>\n",
       "      <td>0.281743</td>\n",
       "      <td>0.218460</td>\n",
       "      <td>0.079379</td>\n",
       "    </tr>\n",
       "    <tr>\n",
       "      <th>24</th>\n",
       "      <td></td>\n",
       "      <td>2017-11-22 16:37:22</td>\n",
       "      <td>37.405 sec</td>\n",
       "      <td>24.0</td>\n",
       "      <td>0.256453</td>\n",
       "      <td>0.198242</td>\n",
       "      <td>0.065768</td>\n",
       "    </tr>\n",
       "    <tr>\n",
       "      <th>25</th>\n",
       "      <td></td>\n",
       "      <td>2017-11-22 16:37:22</td>\n",
       "      <td>37.408 sec</td>\n",
       "      <td>25.0</td>\n",
       "      <td>0.242049</td>\n",
       "      <td>0.187328</td>\n",
       "      <td>0.058588</td>\n",
       "    </tr>\n",
       "    <tr>\n",
       "      <th>26</th>\n",
       "      <td></td>\n",
       "      <td>2017-11-22 16:37:22</td>\n",
       "      <td>37.410 sec</td>\n",
       "      <td>26.0</td>\n",
       "      <td>0.220263</td>\n",
       "      <td>0.175945</td>\n",
       "      <td>0.048516</td>\n",
       "    </tr>\n",
       "    <tr>\n",
       "      <th>27</th>\n",
       "      <td></td>\n",
       "      <td>2017-11-22 16:37:22</td>\n",
       "      <td>37.412 sec</td>\n",
       "      <td>27.0</td>\n",
       "      <td>0.203497</td>\n",
       "      <td>0.158809</td>\n",
       "      <td>0.041411</td>\n",
       "    </tr>\n",
       "    <tr>\n",
       "      <th>28</th>\n",
       "      <td></td>\n",
       "      <td>2017-11-22 16:37:22</td>\n",
       "      <td>37.415 sec</td>\n",
       "      <td>28.0</td>\n",
       "      <td>0.180756</td>\n",
       "      <td>0.140836</td>\n",
       "      <td>0.032673</td>\n",
       "    </tr>\n",
       "    <tr>\n",
       "      <th>29</th>\n",
       "      <td></td>\n",
       "      <td>2017-11-22 16:37:22</td>\n",
       "      <td>37.417 sec</td>\n",
       "      <td>29.0</td>\n",
       "      <td>0.165308</td>\n",
       "      <td>0.128265</td>\n",
       "      <td>0.027327</td>\n",
       "    </tr>\n",
       "    <tr>\n",
       "      <th>30</th>\n",
       "      <td></td>\n",
       "      <td>2017-11-22 16:37:22</td>\n",
       "      <td>37.419 sec</td>\n",
       "      <td>30.0</td>\n",
       "      <td>0.155017</td>\n",
       "      <td>0.120963</td>\n",
       "      <td>0.024030</td>\n",
       "    </tr>\n",
       "    <tr>\n",
       "      <th>31</th>\n",
       "      <td></td>\n",
       "      <td>2017-11-22 16:37:22</td>\n",
       "      <td>37.421 sec</td>\n",
       "      <td>31.0</td>\n",
       "      <td>0.141826</td>\n",
       "      <td>0.110281</td>\n",
       "      <td>0.020115</td>\n",
       "    </tr>\n",
       "    <tr>\n",
       "      <th>32</th>\n",
       "      <td></td>\n",
       "      <td>2017-11-22 16:37:22</td>\n",
       "      <td>37.424 sec</td>\n",
       "      <td>32.0</td>\n",
       "      <td>0.128456</td>\n",
       "      <td>0.100951</td>\n",
       "      <td>0.016501</td>\n",
       "    </tr>\n",
       "    <tr>\n",
       "      <th>33</th>\n",
       "      <td></td>\n",
       "      <td>2017-11-22 16:37:22</td>\n",
       "      <td>37.426 sec</td>\n",
       "      <td>33.0</td>\n",
       "      <td>0.115509</td>\n",
       "      <td>0.090945</td>\n",
       "      <td>0.013342</td>\n",
       "    </tr>\n",
       "    <tr>\n",
       "      <th>34</th>\n",
       "      <td></td>\n",
       "      <td>2017-11-22 16:37:22</td>\n",
       "      <td>37.428 sec</td>\n",
       "      <td>34.0</td>\n",
       "      <td>0.109419</td>\n",
       "      <td>0.086500</td>\n",
       "      <td>0.011972</td>\n",
       "    </tr>\n",
       "    <tr>\n",
       "      <th>35</th>\n",
       "      <td></td>\n",
       "      <td>2017-11-22 16:37:22</td>\n",
       "      <td>37.431 sec</td>\n",
       "      <td>35.0</td>\n",
       "      <td>0.102014</td>\n",
       "      <td>0.081253</td>\n",
       "      <td>0.010407</td>\n",
       "    </tr>\n",
       "    <tr>\n",
       "      <th>36</th>\n",
       "      <td></td>\n",
       "      <td>2017-11-22 16:37:22</td>\n",
       "      <td>37.433 sec</td>\n",
       "      <td>36.0</td>\n",
       "      <td>0.097165</td>\n",
       "      <td>0.078007</td>\n",
       "      <td>0.009441</td>\n",
       "    </tr>\n",
       "    <tr>\n",
       "      <th>37</th>\n",
       "      <td></td>\n",
       "      <td>2017-11-22 16:37:22</td>\n",
       "      <td>37.435 sec</td>\n",
       "      <td>37.0</td>\n",
       "      <td>0.092237</td>\n",
       "      <td>0.073805</td>\n",
       "      <td>0.008508</td>\n",
       "    </tr>\n",
       "    <tr>\n",
       "      <th>38</th>\n",
       "      <td></td>\n",
       "      <td>2017-11-22 16:37:22</td>\n",
       "      <td>37.437 sec</td>\n",
       "      <td>38.0</td>\n",
       "      <td>0.088988</td>\n",
       "      <td>0.071878</td>\n",
       "      <td>0.007919</td>\n",
       "    </tr>\n",
       "    <tr>\n",
       "      <th>39</th>\n",
       "      <td></td>\n",
       "      <td>2017-11-22 16:37:22</td>\n",
       "      <td>37.439 sec</td>\n",
       "      <td>39.0</td>\n",
       "      <td>0.086286</td>\n",
       "      <td>0.068869</td>\n",
       "      <td>0.007445</td>\n",
       "    </tr>\n",
       "    <tr>\n",
       "      <th>40</th>\n",
       "      <td></td>\n",
       "      <td>2017-11-22 16:37:22</td>\n",
       "      <td>37.442 sec</td>\n",
       "      <td>40.0</td>\n",
       "      <td>0.079046</td>\n",
       "      <td>0.062295</td>\n",
       "      <td>0.006248</td>\n",
       "    </tr>\n",
       "    <tr>\n",
       "      <th>41</th>\n",
       "      <td></td>\n",
       "      <td>2017-11-22 16:37:22</td>\n",
       "      <td>37.444 sec</td>\n",
       "      <td>41.0</td>\n",
       "      <td>0.074342</td>\n",
       "      <td>0.058625</td>\n",
       "      <td>0.005527</td>\n",
       "    </tr>\n",
       "    <tr>\n",
       "      <th>42</th>\n",
       "      <td></td>\n",
       "      <td>2017-11-22 16:37:22</td>\n",
       "      <td>37.446 sec</td>\n",
       "      <td>42.0</td>\n",
       "      <td>0.069334</td>\n",
       "      <td>0.054435</td>\n",
       "      <td>0.004807</td>\n",
       "    </tr>\n",
       "    <tr>\n",
       "      <th>43</th>\n",
       "      <td></td>\n",
       "      <td>2017-11-22 16:37:22</td>\n",
       "      <td>37.449 sec</td>\n",
       "      <td>43.0</td>\n",
       "      <td>0.063117</td>\n",
       "      <td>0.048211</td>\n",
       "      <td>0.003984</td>\n",
       "    </tr>\n",
       "    <tr>\n",
       "      <th>44</th>\n",
       "      <td></td>\n",
       "      <td>2017-11-22 16:37:22</td>\n",
       "      <td>37.452 sec</td>\n",
       "      <td>44.0</td>\n",
       "      <td>0.058475</td>\n",
       "      <td>0.044914</td>\n",
       "      <td>0.003419</td>\n",
       "    </tr>\n",
       "    <tr>\n",
       "      <th>45</th>\n",
       "      <td></td>\n",
       "      <td>2017-11-22 16:37:22</td>\n",
       "      <td>37.454 sec</td>\n",
       "      <td>45.0</td>\n",
       "      <td>0.053428</td>\n",
       "      <td>0.041222</td>\n",
       "      <td>0.002855</td>\n",
       "    </tr>\n",
       "    <tr>\n",
       "      <th>46</th>\n",
       "      <td></td>\n",
       "      <td>2017-11-22 16:37:22</td>\n",
       "      <td>37.457 sec</td>\n",
       "      <td>46.0</td>\n",
       "      <td>0.051180</td>\n",
       "      <td>0.038825</td>\n",
       "      <td>0.002619</td>\n",
       "    </tr>\n",
       "    <tr>\n",
       "      <th>47</th>\n",
       "      <td></td>\n",
       "      <td>2017-11-22 16:37:22</td>\n",
       "      <td>37.459 sec</td>\n",
       "      <td>47.0</td>\n",
       "      <td>0.047704</td>\n",
       "      <td>0.037234</td>\n",
       "      <td>0.002276</td>\n",
       "    </tr>\n",
       "    <tr>\n",
       "      <th>48</th>\n",
       "      <td></td>\n",
       "      <td>2017-11-22 16:37:22</td>\n",
       "      <td>37.462 sec</td>\n",
       "      <td>48.0</td>\n",
       "      <td>0.044821</td>\n",
       "      <td>0.034238</td>\n",
       "      <td>0.002009</td>\n",
       "    </tr>\n",
       "    <tr>\n",
       "      <th>49</th>\n",
       "      <td></td>\n",
       "      <td>2017-11-22 16:37:22</td>\n",
       "      <td>37.465 sec</td>\n",
       "      <td>49.0</td>\n",
       "      <td>0.039889</td>\n",
       "      <td>0.030879</td>\n",
       "      <td>0.001591</td>\n",
       "    </tr>\n",
       "    <tr>\n",
       "      <th>50</th>\n",
       "      <td></td>\n",
       "      <td>2017-11-22 16:37:22</td>\n",
       "      <td>37.468 sec</td>\n",
       "      <td>50.0</td>\n",
       "      <td>0.036036</td>\n",
       "      <td>0.028210</td>\n",
       "      <td>0.001299</td>\n",
       "    </tr>\n",
       "  </tbody>\n",
       "</table>\n",
       "</div>"
      ],
      "text/plain": [
       "                timestamp    duration  number_of_trees  training_rmse  \\\n",
       "0     2017-11-22 16:37:22  37.343 sec              0.0       9.173729   \n",
       "1     2017-11-22 16:37:22  37.346 sec              1.0       3.271914   \n",
       "2     2017-11-22 16:37:22  37.348 sec              2.0       2.682784   \n",
       "3     2017-11-22 16:37:22  37.350 sec              3.0       2.173591   \n",
       "4     2017-11-22 16:37:22  37.352 sec              4.0       1.882826   \n",
       "5     2017-11-22 16:37:22  37.354 sec              5.0       1.659908   \n",
       "6     2017-11-22 16:37:22  37.357 sec              6.0       1.439769   \n",
       "7     2017-11-22 16:37:22  37.359 sec              7.0       1.301605   \n",
       "8     2017-11-22 16:37:22  37.361 sec              8.0       1.161976   \n",
       "9     2017-11-22 16:37:22  37.372 sec              9.0       1.074837   \n",
       "10    2017-11-22 16:37:22  37.374 sec             10.0       0.977877   \n",
       "11    2017-11-22 16:37:22  37.376 sec             11.0       0.902370   \n",
       "12    2017-11-22 16:37:22  37.378 sec             12.0       0.790677   \n",
       "13    2017-11-22 16:37:22  37.381 sec             13.0       0.713855   \n",
       "14    2017-11-22 16:37:22  37.383 sec             14.0       0.646215   \n",
       "15    2017-11-22 16:37:22  37.385 sec             15.0       0.585555   \n",
       "16    2017-11-22 16:37:22  37.387 sec             16.0       0.523096   \n",
       "17    2017-11-22 16:37:22  37.389 sec             17.0       0.474101   \n",
       "18    2017-11-22 16:37:22  37.391 sec             18.0       0.428373   \n",
       "19    2017-11-22 16:37:22  37.393 sec             19.0       0.392176   \n",
       "20    2017-11-22 16:37:22  37.396 sec             20.0       0.365352   \n",
       "21    2017-11-22 16:37:22  37.398 sec             21.0       0.340152   \n",
       "22    2017-11-22 16:37:22  37.401 sec             22.0       0.315626   \n",
       "23    2017-11-22 16:37:22  37.403 sec             23.0       0.281743   \n",
       "24    2017-11-22 16:37:22  37.405 sec             24.0       0.256453   \n",
       "25    2017-11-22 16:37:22  37.408 sec             25.0       0.242049   \n",
       "26    2017-11-22 16:37:22  37.410 sec             26.0       0.220263   \n",
       "27    2017-11-22 16:37:22  37.412 sec             27.0       0.203497   \n",
       "28    2017-11-22 16:37:22  37.415 sec             28.0       0.180756   \n",
       "29    2017-11-22 16:37:22  37.417 sec             29.0       0.165308   \n",
       "30    2017-11-22 16:37:22  37.419 sec             30.0       0.155017   \n",
       "31    2017-11-22 16:37:22  37.421 sec             31.0       0.141826   \n",
       "32    2017-11-22 16:37:22  37.424 sec             32.0       0.128456   \n",
       "33    2017-11-22 16:37:22  37.426 sec             33.0       0.115509   \n",
       "34    2017-11-22 16:37:22  37.428 sec             34.0       0.109419   \n",
       "35    2017-11-22 16:37:22  37.431 sec             35.0       0.102014   \n",
       "36    2017-11-22 16:37:22  37.433 sec             36.0       0.097165   \n",
       "37    2017-11-22 16:37:22  37.435 sec             37.0       0.092237   \n",
       "38    2017-11-22 16:37:22  37.437 sec             38.0       0.088988   \n",
       "39    2017-11-22 16:37:22  37.439 sec             39.0       0.086286   \n",
       "40    2017-11-22 16:37:22  37.442 sec             40.0       0.079046   \n",
       "41    2017-11-22 16:37:22  37.444 sec             41.0       0.074342   \n",
       "42    2017-11-22 16:37:22  37.446 sec             42.0       0.069334   \n",
       "43    2017-11-22 16:37:22  37.449 sec             43.0       0.063117   \n",
       "44    2017-11-22 16:37:22  37.452 sec             44.0       0.058475   \n",
       "45    2017-11-22 16:37:22  37.454 sec             45.0       0.053428   \n",
       "46    2017-11-22 16:37:22  37.457 sec             46.0       0.051180   \n",
       "47    2017-11-22 16:37:22  37.459 sec             47.0       0.047704   \n",
       "48    2017-11-22 16:37:22  37.462 sec             48.0       0.044821   \n",
       "49    2017-11-22 16:37:22  37.465 sec             49.0       0.039889   \n",
       "50    2017-11-22 16:37:22  37.468 sec             50.0       0.036036   \n",
       "\n",
       "    training_mae  training_deviance  \n",
       "0       6.662434          84.157296  \n",
       "1       2.139589          10.705422  \n",
       "2       1.814275           7.197329  \n",
       "3       1.531212           4.724497  \n",
       "4       1.340570           3.545035  \n",
       "5       1.192878           2.755293  \n",
       "6       1.078829           2.072936  \n",
       "7       0.984973           1.694175  \n",
       "8       0.889768           1.350188  \n",
       "9       0.824060           1.155275  \n",
       "10      0.752875           0.956244  \n",
       "11      0.690651           0.814272  \n",
       "12      0.594986           0.625171  \n",
       "13      0.539048           0.509589  \n",
       "14      0.488426           0.417594  \n",
       "15      0.449435           0.342875  \n",
       "16      0.403395           0.273629  \n",
       "17      0.373196           0.224771  \n",
       "18      0.333216           0.183503  \n",
       "19      0.302581           0.153802  \n",
       "20      0.288712           0.133482  \n",
       "21      0.269466           0.115703  \n",
       "22      0.243844           0.099620  \n",
       "23      0.218460           0.079379  \n",
       "24      0.198242           0.065768  \n",
       "25      0.187328           0.058588  \n",
       "26      0.175945           0.048516  \n",
       "27      0.158809           0.041411  \n",
       "28      0.140836           0.032673  \n",
       "29      0.128265           0.027327  \n",
       "30      0.120963           0.024030  \n",
       "31      0.110281           0.020115  \n",
       "32      0.100951           0.016501  \n",
       "33      0.090945           0.013342  \n",
       "34      0.086500           0.011972  \n",
       "35      0.081253           0.010407  \n",
       "36      0.078007           0.009441  \n",
       "37      0.073805           0.008508  \n",
       "38      0.071878           0.007919  \n",
       "39      0.068869           0.007445  \n",
       "40      0.062295           0.006248  \n",
       "41      0.058625           0.005527  \n",
       "42      0.054435           0.004807  \n",
       "43      0.048211           0.003984  \n",
       "44      0.044914           0.003419  \n",
       "45      0.041222           0.002855  \n",
       "46      0.038825           0.002619  \n",
       "47      0.037234           0.002276  \n",
       "48      0.034238           0.002009  \n",
       "49      0.030879           0.001591  \n",
       "50      0.028210           0.001299  "
      ]
     },
     "execution_count": 101,
     "metadata": {},
     "output_type": "execute_result"
    }
   ],
   "source": [
    "best_gbm_model.score_history()"
   ]
  },
  {
   "cell_type": "code",
   "execution_count": null,
   "metadata": {
    "collapsed": true
   },
   "outputs": [],
   "source": [
    "#: Getting GBM model variable importance "
   ]
  },
  {
   "cell_type": "code",
   "execution_count": 102,
   "metadata": {},
   "outputs": [
    {
     "data": {
      "text/plain": [
       "[(u'rm', 18156.662109375, 1.0, 0.5300492745520524),\n",
       " (u'lstat', 9181.12890625, 0.5056617152945431, 0.2680256253606191),\n",
       " (u'dis', 2218.64697265625, 0.12219465005688877, 0.0647691856167958),\n",
       " (u'nox', 1821.20068359375, 0.10030481773703286, 0.05316649587559011),\n",
       " (u'ptratio', 1000.8920288085938, 0.05512533211111495, 0.02921914229493744),\n",
       " (u'age', 727.6627197265625, 0.0400768993410326, 0.02124273142200996),\n",
       " (u'b', 423.8000793457031, 0.02334129901150049, 0.012372038608148374),\n",
       " (u'crim', 343.65740966796875, 0.01892734510328993, 0.01003242554119517),\n",
       " (u'indus', 125.0502700805664, 0.006887294004110922, 0.003650605190505695),\n",
       " (u'rad', 121.13451385498047, 0.006671629021087194, 0.003536292122707687),\n",
       " (u'tax', 109.11882019042969, 0.006009850243018366, 0.0031855167614783606),\n",
       " (u'zn', 25.658967971801758, 0.0014131985172843539, 0.0007490648488846079),\n",
       " (u'chas', 0.05486930161714554, 3.021992769740114e-06, 1.6018050753022952e-06)]"
      ]
     },
     "execution_count": 102,
     "metadata": {},
     "output_type": "execute_result"
    }
   ],
   "source": [
    "best_gbm_model.varimp()"
   ]
  },
  {
   "cell_type": "code",
   "execution_count": null,
   "metadata": {
    "collapsed": true
   },
   "outputs": [],
   "source": [
    "#: Getting GBM model variable importance PLOT"
   ]
  },
  {
   "cell_type": "code",
   "execution_count": 103,
   "metadata": {},
   "outputs": [
    {
     "data": {
      "image/png": "[encoded data removed]",
      "text/plain": [
       "<matplotlib.figure.Figure at 0x10ecd8150>"
      ]
     },
     "metadata": {},
     "output_type": "display_data"
    }
   ],
   "source": [
    "best_gbm_model.varimp_plot()"
   ]
  },
  {
   "cell_type": "code",
   "execution_count": 108,
   "metadata": {
    "collapsed": true
   },
   "outputs": [],
   "source": [
    "###: Plotting the model based on rmse"
   ]
  },
  {
   "cell_type": "code",
   "execution_count": 107,
   "metadata": {},
   "outputs": [
    {
     "data": {
      "image/png": "[encoded data removed]",
      "text/plain": [
       "<matplotlib.figure.Figure at 0x110b1aed0>"
      ]
     },
     "metadata": {},
     "output_type": "display_data"
    }
   ],
   "source": [
    "best_gbm_model.plot(metric=\"rmse\")"
   ]
  },
  {
   "cell_type": "code",
   "execution_count": null,
   "metadata": {
    "collapsed": true
   },
   "outputs": [],
   "source": []
  }
 ],
 "metadata": {
  "kernelspec": {
   "display_name": "Python 2",
   "language": "python",
   "name": "python2"
  },
  "language_info": {
   "codemirror_mode": {
    "name": "ipython",
    "version": 2
   },
   "file_extension": ".py",
   "mimetype": "text/x-python",
   "name": "python",
   "nbconvert_exporter": "python",
   "pygments_lexer": "ipython2",
   "version": "2.7.13"
  }
 },
 "nbformat": 4,
 "nbformat_minor": 2
}
