{
 "cells": [
  {
   "cell_type": "code",
   "execution_count": 1,
   "metadata": {
    "collapsed": true
   },
   "outputs": [],
   "source": [
    "###: Importing H2O "
   ]
  },
  {
   "cell_type": "code",
   "execution_count": 2,
   "metadata": {
    "collapsed": true
   },
   "outputs": [],
   "source": [
    "import h2o"
   ]
  },
  {
   "cell_type": "code",
   "execution_count": 3,
   "metadata": {
    "collapsed": true
   },
   "outputs": [],
   "source": [
    "###: Initalizing H2O cluster"
   ]
  },
  {
   "cell_type": "code",
   "execution_count": 4,
   "metadata": {},
   "outputs": [
    {
     "name": "stderr",
     "output_type": "stream",
     "text": [
      "ERROR:h2o:Key init.version_check is not a valid config key\n"
     ]
    },
    {
     "name": "stdout",
     "output_type": "stream",
     "text": [
      "Checking whether there is an H2O instance running at http://localhost:54321. connected.\n"
     ]
    },
    {
     "data": {
      "text/html": [
       "<div style=\"overflow:auto\"><table style=\"width:50%\"><tr><td>H2O cluster uptime:</td>\n",
       "<td>2 days 10 hours 17 mins</td></tr>\n",
       "<tr><td>H2O cluster version:</td>\n",
       "<td>3.14.0.7</td></tr>\n",
       "<tr><td>H2O cluster version age:</td>\n",
       "<td>1 month and 6 days </td></tr>\n",
       "<tr><td>H2O cluster name:</td>\n",
       "<td>H2O_started_from_R_avkashchauhan_ppg732</td></tr>\n",
       "<tr><td>H2O cluster total nodes:</td>\n",
       "<td>1</td></tr>\n",
       "<tr><td>H2O cluster free memory:</td>\n",
       "<td>2.974 Gb</td></tr>\n",
       "<tr><td>H2O cluster total cores:</td>\n",
       "<td>8</td></tr>\n",
       "<tr><td>H2O cluster allowed cores:</td>\n",
       "<td>8</td></tr>\n",
       "<tr><td>H2O cluster status:</td>\n",
       "<td>locked, healthy</td></tr>\n",
       "<tr><td>H2O connection url:</td>\n",
       "<td>http://localhost:54321</td></tr>\n",
       "<tr><td>H2O connection proxy:</td>\n",
       "<td>None</td></tr>\n",
       "<tr><td>H2O internal security:</td>\n",
       "<td>False</td></tr>\n",
       "<tr><td>H2O API Extensions:</td>\n",
       "<td>XGBoost, Algos, AutoML, Core V3, Core V4</td></tr>\n",
       "<tr><td>Python version:</td>\n",
       "<td>2.7.13 final</td></tr></table></div>"
      ],
      "text/plain": [
       "--------------------------  ----------------------------------------\n",
       "H2O cluster uptime:         2 days 10 hours 17 mins\n",
       "H2O cluster version:        3.14.0.7\n",
       "H2O cluster version age:    1 month and 6 days\n",
       "H2O cluster name:           H2O_started_from_R_avkashchauhan_ppg732\n",
       "H2O cluster total nodes:    1\n",
       "H2O cluster free memory:    2.974 Gb\n",
       "H2O cluster total cores:    8\n",
       "H2O cluster allowed cores:  8\n",
       "H2O cluster status:         locked, healthy\n",
       "H2O connection url:         http://localhost:54321\n",
       "H2O connection proxy:\n",
       "H2O internal security:      False\n",
       "H2O API Extensions:         XGBoost, Algos, AutoML, Core V3, Core V4\n",
       "Python version:             2.7.13 final\n",
       "--------------------------  ----------------------------------------"
      ]
     },
     "metadata": {},
     "output_type": "display_data"
    }
   ],
   "source": [
    "h2o.init()"
   ]
  },
  {
   "cell_type": "code",
   "execution_count": 5,
   "metadata": {
    "collapsed": true
   },
   "outputs": [],
   "source": [
    "###: Importing craigslist jobs title and description dataset into H2O cluster memory"
   ]
  },
  {
   "cell_type": "code",
   "execution_count": 6,
   "metadata": {},
   "outputs": [
    {
     "name": "stdout",
     "output_type": "stream",
     "text": [
      "Parse progress: |█████████████████████████████████████████████████████████| 100%\n"
     ]
    }
   ],
   "source": [
    "jobs_data= h2o.import_file(col_names=['category', 'jobtitle'], header=1, col_types = [\"enum\", \"string\"],\n",
    "                        path=\"https://raw.githubusercontent.com/h2oai/sparkling-water/rel-1.6/examples/smalldata/craigslistJobTitles.csv\")"
   ]
  },
  {
   "cell_type": "code",
   "execution_count": 7,
   "metadata": {
    "collapsed": true
   },
   "outputs": [],
   "source": [
    "###: Understanding the dataset"
   ]
  },
  {
   "cell_type": "code",
   "execution_count": 8,
   "metadata": {},
   "outputs": [
    {
     "data": {
      "text/html": [
       "<table>\n",
       "<thead>\n",
       "<tr><th>       </th><th>category  </th><th>jobtitle                                            </th></tr>\n",
       "</thead>\n",
       "<tbody>\n",
       "<tr><td>type   </td><td>enum      </td><td>string                                              </td></tr>\n",
       "<tr><td>mins   </td><td>          </td><td>NaN                                                 </td></tr>\n",
       "<tr><td>mean   </td><td>          </td><td>NaN                                                 </td></tr>\n",
       "<tr><td>maxs   </td><td>          </td><td>NaN                                                 </td></tr>\n",
       "<tr><td>sigma  </td><td>          </td><td>NaN                                                 </td></tr>\n",
       "<tr><td>zeros  </td><td>          </td><td>0                                                   </td></tr>\n",
       "<tr><td>missing</td><td>0         </td><td>0                                                   </td></tr>\n",
       "<tr><td>0      </td><td>education </td><td>After School Supervisor                             </td></tr>\n",
       "<tr><td>1      </td><td>education </td><td>*****TUTORS NEEDED - FOR ALL SUBJECTS, ALL AGES*****</td></tr>\n",
       "<tr><td>2      </td><td>education </td><td>Bay Area Family Recruiter                           </td></tr>\n",
       "<tr><td>3      </td><td>education </td><td>Adult Day Programs/Community Access/Job Coaches     </td></tr>\n",
       "<tr><td>4      </td><td>education </td><td>General Counselor - Non Tenure track                </td></tr>\n",
       "<tr><td>5      </td><td>education </td><td>Part-Time Summer Math Teachers/Tutors               </td></tr>\n",
       "<tr><td>6      </td><td>education </td><td>Preschool Teacher (temp-to-hire)                    </td></tr>\n",
       "<tr><td>7      </td><td>education </td><td>*****TUTORS NEEDED - FOR ALL SUBJECTS, ALL AGES*****</td></tr>\n",
       "<tr><td>8      </td><td>education </td><td>Private Teachers and Tutors Needed in the South Bay </td></tr>\n",
       "<tr><td>9      </td><td>education </td><td>Art Therapist at Esther B. Clark School             </td></tr>\n",
       "</tbody>\n",
       "</table>"
      ]
     },
     "metadata": {},
     "output_type": "display_data"
    }
   ],
   "source": [
    "jobs_data.summary()"
   ]
  },
  {
   "cell_type": "code",
   "execution_count": 9,
   "metadata": {
    "collapsed": true
   },
   "outputs": [],
   "source": [
    "###: Definition of stop words which will be removed from the list of words in out job details"
   ]
  },
  {
   "cell_type": "code",
   "execution_count": 10,
   "metadata": {
    "collapsed": true
   },
   "outputs": [],
   "source": [
    "STOP_WORDS = [\"ax\",\"i\",\"you\",\"edu\",\"s\",\"t\",\"m\",\"subject\",\"can\",\"lines\",\"re\",\"what\",\n",
    "               \"there\",\"all\",\"we\",\"one\",\"the\",\"a\",\"an\",\"of\",\"or\",\"in\",\"for\",\"by\",\"on\",\n",
    "               \"but\",\"is\",\"in\",\"a\",\"not\",\"with\",\"as\",\"was\",\"if\",\"they\",\"are\",\"this\",\"and\",\"it\",\"have\",\n",
    "               \"from\",\"at\",\"my\",\"be\",\"by\",\"not\",\"that\",\"to\",\"from\",\"com\",\"org\",\"like\",\"likes\",\"so\"]"
   ]
  },
  {
   "cell_type": "code",
   "execution_count": 11,
   "metadata": {
    "collapsed": true
   },
   "outputs": [],
   "source": [
    "###: Local Tokenize function to tokenize all the words in a list"
   ]
  },
  {
   "cell_type": "code",
   "execution_count": 12,
   "metadata": {
    "collapsed": true
   },
   "outputs": [],
   "source": [
    "def tokenize(sentences, stop_word = STOP_WORDS):\n",
    "    tokenized = sentences.tokenize(\"\\\\W+\")\n",
    "    tokenized_lower = tokenized.tolower()\n",
    "    tokenized_filtered = tokenized_lower[(tokenized_lower.nchar() >= 2) | (tokenized_lower.isna()),:]\n",
    "    tokenized_words = tokenized_filtered[tokenized_filtered.grep(\"[0-9]\",invert=True,output_logical=True),:]\n",
    "    tokenized_words = tokenized_words[(tokenized_words.isna()) | (~ tokenized_words.isin(STOP_WORDS)),:]\n",
    "    return tokenized_words"
   ]
  },
  {
   "cell_type": "code",
   "execution_count": 13,
   "metadata": {
    "collapsed": true
   },
   "outputs": [],
   "source": [
    "###: Calling the tokenize function to tokenize all the words in the job details "
   ]
  },
  {
   "cell_type": "code",
   "execution_count": 14,
   "metadata": {},
   "outputs": [],
   "source": [
    "##words_token = local_tokenize(all_sentences)\n",
    "words_token = tokenize(jobs_data['jobtitle'])"
   ]
  },
  {
   "cell_type": "code",
   "execution_count": 15,
   "metadata": {
    "collapsed": true
   },
   "outputs": [],
   "source": [
    "###: Getting total number of tokens"
   ]
  },
  {
   "cell_type": "code",
   "execution_count": 16,
   "metadata": {},
   "outputs": [
    {
     "name": "stdout",
     "output_type": "stream",
     "text": [
      "78924\n"
     ]
    }
   ],
   "source": [
    "print(len(words_token))"
   ]
  },
  {
   "cell_type": "code",
   "execution_count": 17,
   "metadata": {
    "collapsed": true
   },
   "outputs": [],
   "source": [
    "###: The tokens type"
   ]
  },
  {
   "cell_type": "code",
   "execution_count": 18,
   "metadata": {},
   "outputs": [
    {
     "data": {
      "text/plain": [
       "h2o.frame.H2OFrame"
      ]
     },
     "execution_count": 18,
     "metadata": {},
     "output_type": "execute_result"
    }
   ],
   "source": [
    "type(words_token)"
   ]
  },
  {
   "cell_type": "code",
   "execution_count": 19,
   "metadata": {
    "collapsed": true
   },
   "outputs": [],
   "source": [
    "###: Understanding Words Token Data as H2O Dataframe"
   ]
  },
  {
   "cell_type": "code",
   "execution_count": 20,
   "metadata": {},
   "outputs": [
    {
     "name": "stdout",
     "output_type": "stream",
     "text": [
      "Rows:78924\n",
      "Cols:1\n",
      "\n",
      "\n"
     ]
    },
    {
     "data": {
      "text/html": [
       "<table>\n",
       "<thead>\n",
       "<tr><th>       </th><th>C1        </th></tr>\n",
       "</thead>\n",
       "<tbody>\n",
       "<tr><td>type   </td><td>string    </td></tr>\n",
       "<tr><td>mins   </td><td>NaN       </td></tr>\n",
       "<tr><td>mean   </td><td>NaN       </td></tr>\n",
       "<tr><td>maxs   </td><td>NaN       </td></tr>\n",
       "<tr><td>sigma  </td><td>NaN       </td></tr>\n",
       "<tr><td>zeros  </td><td>0         </td></tr>\n",
       "<tr><td>missing</td><td>13845     </td></tr>\n",
       "<tr><td>0      </td><td>after     </td></tr>\n",
       "<tr><td>1      </td><td>school    </td></tr>\n",
       "<tr><td>2      </td><td>supervisor</td></tr>\n",
       "<tr><td>3      </td><td>          </td></tr>\n",
       "<tr><td>4      </td><td>tutors    </td></tr>\n",
       "<tr><td>5      </td><td>needed    </td></tr>\n",
       "<tr><td>6      </td><td>subjects  </td></tr>\n",
       "<tr><td>7      </td><td>ages      </td></tr>\n",
       "<tr><td>8      </td><td>          </td></tr>\n",
       "<tr><td>9      </td><td>bay       </td></tr>\n",
       "</tbody>\n",
       "</table>"
      ]
     },
     "metadata": {},
     "output_type": "display_data"
    }
   ],
   "source": [
    "words_token.describe()"
   ]
  },
  {
   "cell_type": "code",
   "execution_count": 21,
   "metadata": {
    "collapsed": true
   },
   "outputs": [],
   "source": [
    "###: Importing H2O Word2VEC Estimator"
   ]
  },
  {
   "cell_type": "code",
   "execution_count": 22,
   "metadata": {
    "collapsed": true
   },
   "outputs": [],
   "source": [
    "from h2o.estimators.word2vec import H2OWord2vecEstimator"
   ]
  },
  {
   "cell_type": "code",
   "execution_count": 23,
   "metadata": {
    "collapsed": true
   },
   "outputs": [],
   "source": [
    "###: Setting Word2Vec estimator configuration"
   ]
  },
  {
   "cell_type": "code",
   "execution_count": 24,
   "metadata": {
    "collapsed": true
   },
   "outputs": [],
   "source": [
    "h2o_w2v_model =  H2OWord2vecEstimator(sent_sample_rate = .9, epochs = 10, model_id = \"h2o_w2v_model_python\")"
   ]
  },
  {
   "cell_type": "code",
   "execution_count": 25,
   "metadata": {
    "collapsed": true
   },
   "outputs": [],
   "source": [
    "###: Training Word2Vec Model"
   ]
  },
  {
   "cell_type": "code",
   "execution_count": 26,
   "metadata": {},
   "outputs": [
    {
     "name": "stdout",
     "output_type": "stream",
     "text": [
      "word2vec Model Build progress: |██████████████████████████████████████████| 100%\n"
     ]
    }
   ],
   "source": [
    "h2o_w2v_model.train(training_frame = words_token)"
   ]
  },
  {
   "cell_type": "code",
   "execution_count": 27,
   "metadata": {
    "collapsed": true
   },
   "outputs": [],
   "source": [
    "###: Understanding Word2Vec Model"
   ]
  },
  {
   "cell_type": "code",
   "execution_count": 28,
   "metadata": {},
   "outputs": [
    {
     "name": "stdout",
     "output_type": "stream",
     "text": [
      "Model Details\n",
      "=============\n",
      "H2OWord2vecEstimator :  Word2Vec\n",
      "Model Key:  h2o_w2v_model_python\n",
      "No model summary for this model\n",
      "\n"
     ]
    },
    {
     "data": {
      "text/plain": []
     },
     "execution_count": 28,
     "metadata": {},
     "output_type": "execute_result"
    }
   ],
   "source": [
    "h2o_w2v_model"
   ]
  },
  {
   "cell_type": "code",
   "execution_count": 29,
   "metadata": {
    "collapsed": true
   },
   "outputs": [],
   "source": [
    "###: Testing simlar word Experiment from the model with the word \"money\""
   ]
  },
  {
   "cell_type": "code",
   "execution_count": 30,
   "metadata": {},
   "outputs": [
    {
     "data": {
      "text/plain": [
       "OrderedDict([(u'rides', 0.7279952764511108),\n",
       "             (u'fares', 0.7047621011734009),\n",
       "             (u'more', 0.6669892072677612),\n",
       "             (u'enjoy', 0.5241783857345581),\n",
       "             (u'judgment', 0.4911399185657501)])"
      ]
     },
     "execution_count": 30,
     "metadata": {},
     "output_type": "execute_result"
    }
   ],
   "source": [
    "h2o_w2v_model.find_synonyms( \"money\", count = 5)"
   ]
  },
  {
   "cell_type": "code",
   "execution_count": 31,
   "metadata": {
    "collapsed": true
   },
   "outputs": [],
   "source": [
    "###: Testing simlar word Experiment from the model with the word \"account\""
   ]
  },
  {
   "cell_type": "code",
   "execution_count": 32,
   "metadata": {},
   "outputs": [
    {
     "data": {
      "text/plain": [
       "OrderedDict([(u'liaison', 0.5699155330657959),\n",
       "             (u'rockstar', 0.5654222369194031),\n",
       "             (u'dispatch', 0.565384566783905),\n",
       "             (u'emergency', 0.5629708170890808),\n",
       "             (u'relations', 0.5588938593864441)])"
      ]
     },
     "execution_count": 32,
     "metadata": {},
     "output_type": "execute_result"
    }
   ],
   "source": [
    "h2o_w2v_model.find_synonyms( \"account\", count = 5)"
   ]
  },
  {
   "cell_type": "code",
   "execution_count": 33,
   "metadata": {
    "collapsed": true
   },
   "outputs": [],
   "source": [
    "###: Calculating vector for every job title by passing original job title category data "
   ]
  },
  {
   "cell_type": "code",
   "execution_count": 34,
   "metadata": {},
   "outputs": [],
   "source": [
    "job_title_vecs = h2o_w2v_model.transform(words_token, aggregate_method = \"AVERAGE\")"
   ]
  },
  {
   "cell_type": "code",
   "execution_count": 35,
   "metadata": {},
   "outputs": [
    {
     "data": {
      "text/plain": [
       "(13845, 100)"
      ]
     },
     "execution_count": 35,
     "metadata": {},
     "output_type": "execute_result"
    }
   ],
   "source": [
    "job_title_vecs.shape"
   ]
  },
  {
   "cell_type": "code",
   "execution_count": 36,
   "metadata": {},
   "outputs": [
    {
     "data": {
      "text/html": [
       "<table>\n",
       "<thead>\n",
       "<tr><th style=\"text-align: right;\">        C1</th><th style=\"text-align: right;\">         C2</th><th style=\"text-align: right;\">        C3</th><th style=\"text-align: right;\">      C4</th><th style=\"text-align: right;\">        C5</th><th style=\"text-align: right;\">        C6</th><th style=\"text-align: right;\">         C7</th><th style=\"text-align: right;\">        C8</th><th style=\"text-align: right;\">        C9</th><th style=\"text-align: right;\">       C10</th><th style=\"text-align: right;\">        C11</th><th style=\"text-align: right;\">       C12</th><th style=\"text-align: right;\">       C13</th><th style=\"text-align: right;\">        C14</th><th style=\"text-align: right;\">       C15</th><th style=\"text-align: right;\">        C16</th><th style=\"text-align: right;\">       C17</th><th style=\"text-align: right;\">       C18</th><th style=\"text-align: right;\">        C19</th><th style=\"text-align: right;\">       C20</th><th style=\"text-align: right;\">       C21</th><th style=\"text-align: right;\">       C22</th><th style=\"text-align: right;\">       C23</th><th style=\"text-align: right;\">       C24</th><th style=\"text-align: right;\">        C25</th><th style=\"text-align: right;\">        C26</th><th style=\"text-align: right;\">         C27</th><th style=\"text-align: right;\">       C28</th><th style=\"text-align: right;\">       C29</th><th style=\"text-align: right;\">        C30</th><th style=\"text-align: right;\">      C31</th><th style=\"text-align: right;\">       C32</th><th style=\"text-align: right;\">       C33</th><th style=\"text-align: right;\">       C34</th><th style=\"text-align: right;\">       C35</th><th style=\"text-align: right;\">       C36</th><th style=\"text-align: right;\">       C37</th><th style=\"text-align: right;\">       C38</th><th style=\"text-align: right;\">       C39</th><th style=\"text-align: right;\">       C40</th><th style=\"text-align: right;\">       C41</th><th style=\"text-align: right;\">      C42</th><th style=\"text-align: right;\">       C43</th><th style=\"text-align: right;\">       C44</th><th style=\"text-align: right;\">       C45</th><th style=\"text-align: right;\">       C46</th><th style=\"text-align: right;\">        C47</th><th style=\"text-align: right;\">       C48</th><th style=\"text-align: right;\">      C49</th><th style=\"text-align: right;\">       C50</th><th style=\"text-align: right;\">       C51</th><th style=\"text-align: right;\">       C52</th><th style=\"text-align: right;\">       C53</th><th style=\"text-align: right;\">        C54</th><th style=\"text-align: right;\">       C55</th><th style=\"text-align: right;\">       C56</th><th style=\"text-align: right;\">       C57</th><th style=\"text-align: right;\">      C58</th><th style=\"text-align: right;\">       C59</th><th style=\"text-align: right;\">       C60</th><th style=\"text-align: right;\">       C61</th><th style=\"text-align: right;\">      C62</th><th style=\"text-align: right;\">       C63</th><th style=\"text-align: right;\">       C64</th><th style=\"text-align: right;\">        C65</th><th style=\"text-align: right;\">        C66</th><th style=\"text-align: right;\">        C67</th><th style=\"text-align: right;\">        C68</th><th style=\"text-align: right;\">        C69</th><th style=\"text-align: right;\">       C70</th><th style=\"text-align: right;\">       C71</th><th style=\"text-align: right;\">       C72</th><th style=\"text-align: right;\">      C73</th><th style=\"text-align: right;\">       C74</th><th style=\"text-align: right;\">       C75</th><th style=\"text-align: right;\">       C76</th><th style=\"text-align: right;\">        C77</th><th style=\"text-align: right;\">       C78</th><th style=\"text-align: right;\">      C79</th><th style=\"text-align: right;\">        C80</th><th style=\"text-align: right;\">       C81</th><th style=\"text-align: right;\">       C82</th><th style=\"text-align: right;\">        C83</th><th style=\"text-align: right;\">      C84</th><th style=\"text-align: right;\">       C85</th><th style=\"text-align: right;\">       C86</th><th style=\"text-align: right;\">       C87</th><th style=\"text-align: right;\">       C88</th><th style=\"text-align: right;\">       C89</th><th style=\"text-align: right;\">      C90</th><th style=\"text-align: right;\">       C91</th><th style=\"text-align: right;\">       C92</th><th style=\"text-align: right;\">      C93</th><th style=\"text-align: right;\">      C94</th><th style=\"text-align: right;\">      C95</th><th style=\"text-align: right;\">       C96</th><th style=\"text-align: right;\">        C97</th><th style=\"text-align: right;\">       C98</th><th style=\"text-align: right;\">        C99</th><th style=\"text-align: right;\">      C100</th></tr>\n",
       "</thead>\n",
       "<tbody>\n",
       "<tr><td style=\"text-align: right;\"> 0.0179551</td><td style=\"text-align: right;\">-0.00797802</td><td style=\"text-align: right;\"> 0.0815321</td><td style=\"text-align: right;\">0.349933</td><td style=\"text-align: right;\">-0.0178768</td><td style=\"text-align: right;\"> 0.0500604</td><td style=\"text-align: right;\"> 0.318329  </td><td style=\"text-align: right;\">-0.159813 </td><td style=\"text-align: right;\"> 0.277998 </td><td style=\"text-align: right;\">-0.219391 </td><td style=\"text-align: right;\"> 0.192949  </td><td style=\"text-align: right;\">0.297739  </td><td style=\"text-align: right;\"> 0.0722817</td><td style=\"text-align: right;\">-0.0560711 </td><td style=\"text-align: right;\"> 0.153139 </td><td style=\"text-align: right;\">-0.112632  </td><td style=\"text-align: right;\"> 0.192903 </td><td style=\"text-align: right;\"> 0.253662 </td><td style=\"text-align: right;\"> 0.103432  </td><td style=\"text-align: right;\"> 0.212026 </td><td style=\"text-align: right;\">-0.175511 </td><td style=\"text-align: right;\"> 0.192271 </td><td style=\"text-align: right;\">-0.172411 </td><td style=\"text-align: right;\"> 0.0183183</td><td style=\"text-align: right;\"> 0.186244  </td><td style=\"text-align: right;\">-0.29612   </td><td style=\"text-align: right;\"> 0.307857   </td><td style=\"text-align: right;\"> 0.0347665</td><td style=\"text-align: right;\"> 0.110348 </td><td style=\"text-align: right;\">-0.0591083 </td><td style=\"text-align: right;\">-0.296392</td><td style=\"text-align: right;\"> 0.309013 </td><td style=\"text-align: right;\">-0.290719 </td><td style=\"text-align: right;\">-0.146808 </td><td style=\"text-align: right;\">-0.0632934</td><td style=\"text-align: right;\">-0.19099  </td><td style=\"text-align: right;\"> 0.126214 </td><td style=\"text-align: right;\">-0.0523888</td><td style=\"text-align: right;\"> 0.0522938</td><td style=\"text-align: right;\"> 0.0643614</td><td style=\"text-align: right;\"> 0.0384917</td><td style=\"text-align: right;\">0.34891  </td><td style=\"text-align: right;\">-0.134788 </td><td style=\"text-align: right;\">-0.0729285</td><td style=\"text-align: right;\">-0.314501 </td><td style=\"text-align: right;\">-0.0133686</td><td style=\"text-align: right;\">-0.0478583 </td><td style=\"text-align: right;\">-0.20319  </td><td style=\"text-align: right;\">-0.413155</td><td style=\"text-align: right;\"> 0.258811 </td><td style=\"text-align: right;\">-0.0735133</td><td style=\"text-align: right;\">-0.0568653</td><td style=\"text-align: right;\">-0.241278 </td><td style=\"text-align: right;\"> 0.314083  </td><td style=\"text-align: right;\"> 0.328764 </td><td style=\"text-align: right;\">-0.223345 </td><td style=\"text-align: right;\"> 0.257641 </td><td style=\"text-align: right;\">-0.247055</td><td style=\"text-align: right;\">-0.0732505</td><td style=\"text-align: right;\">-0.217212 </td><td style=\"text-align: right;\"> 0.496074 </td><td style=\"text-align: right;\">0.0379671</td><td style=\"text-align: right;\">-0.0622384</td><td style=\"text-align: right;\"> 0.150624 </td><td style=\"text-align: right;\"> 0.40383   </td><td style=\"text-align: right;\">-0.212764  </td><td style=\"text-align: right;\"> 0.00386726</td><td style=\"text-align: right;\">-0.226638  </td><td style=\"text-align: right;\"> 0.175959  </td><td style=\"text-align: right;\"> 0.409737 </td><td style=\"text-align: right;\"> 0.0130717</td><td style=\"text-align: right;\"> 0.105451 </td><td style=\"text-align: right;\">0.375842 </td><td style=\"text-align: right;\"> 0.078988 </td><td style=\"text-align: right;\">-0.0604978</td><td style=\"text-align: right;\"> 0.0613854</td><td style=\"text-align: right;\"> 0.285663  </td><td style=\"text-align: right;\">-0.21703  </td><td style=\"text-align: right;\">0.317409 </td><td style=\"text-align: right;\"> 0.257375  </td><td style=\"text-align: right;\">-0.158201 </td><td style=\"text-align: right;\"> 0.256061 </td><td style=\"text-align: right;\">-0.19042   </td><td style=\"text-align: right;\"> 0.137072</td><td style=\"text-align: right;\">-0.213676 </td><td style=\"text-align: right;\"> 0.184386 </td><td style=\"text-align: right;\"> 0.177599 </td><td style=\"text-align: right;\">-0.463842 </td><td style=\"text-align: right;\">-0.270951 </td><td style=\"text-align: right;\">-0.201231</td><td style=\"text-align: right;\">-0.282052 </td><td style=\"text-align: right;\"> 0.0816493</td><td style=\"text-align: right;\"> 0.305745</td><td style=\"text-align: right;\">-0.164701</td><td style=\"text-align: right;\">0.0476012</td><td style=\"text-align: right;\"> 0.128511 </td><td style=\"text-align: right;\">-0.19867   </td><td style=\"text-align: right;\"> 0.270144 </td><td style=\"text-align: right;\">-0.158304  </td><td style=\"text-align: right;\">-0.191211 </td></tr>\n",
       "<tr><td style=\"text-align: right;\"> 0.198496 </td><td style=\"text-align: right;\"> 0.245932  </td><td style=\"text-align: right;\"> 0.182466 </td><td style=\"text-align: right;\">0.590663</td><td style=\"text-align: right;\"> 0.530774 </td><td style=\"text-align: right;\">-0.389897 </td><td style=\"text-align: right;\">-0.00173687</td><td style=\"text-align: right;\">-0.272299 </td><td style=\"text-align: right;\">-0.0296782</td><td style=\"text-align: right;\">-0.131025 </td><td style=\"text-align: right;\">-0.140057  </td><td style=\"text-align: right;\">0.300605  </td><td style=\"text-align: right;\">-0.562641 </td><td style=\"text-align: right;\">-0.139242  </td><td style=\"text-align: right;\">-0.0978478</td><td style=\"text-align: right;\"> 0.195237  </td><td style=\"text-align: right;\"> 0.249979 </td><td style=\"text-align: right;\">-0.147094 </td><td style=\"text-align: right;\">-0.141088  </td><td style=\"text-align: right;\"> 0.0572662</td><td style=\"text-align: right;\">-0.0697324</td><td style=\"text-align: right;\">-0.414618 </td><td style=\"text-align: right;\"> 0.0451773</td><td style=\"text-align: right;\"> 0.0123859</td><td style=\"text-align: right;\">-0.136952  </td><td style=\"text-align: right;\">-0.0700904 </td><td style=\"text-align: right;\"> 0.250318   </td><td style=\"text-align: right;\"> 0.191079 </td><td style=\"text-align: right;\"> 0.180666 </td><td style=\"text-align: right;\"> 0.0583874 </td><td style=\"text-align: right;\">-0.376978</td><td style=\"text-align: right;\"> 0.0461544</td><td style=\"text-align: right;\">-0.699312 </td><td style=\"text-align: right;\"> 0.173983 </td><td style=\"text-align: right;\"> 0.0955267</td><td style=\"text-align: right;\"> 0.0935854</td><td style=\"text-align: right;\"> 0.167072 </td><td style=\"text-align: right;\">-0.101795 </td><td style=\"text-align: right;\"> 0.116582 </td><td style=\"text-align: right;\"> 0.291421 </td><td style=\"text-align: right;\"> 0.204701 </td><td style=\"text-align: right;\">0.126056 </td><td style=\"text-align: right;\"> 0.400053 </td><td style=\"text-align: right;\">-0.0490436</td><td style=\"text-align: right;\">-0.174219 </td><td style=\"text-align: right;\"> 0.448838 </td><td style=\"text-align: right;\"> 0.261596  </td><td style=\"text-align: right;\"> 0.0429197</td><td style=\"text-align: right;\">-0.551901</td><td style=\"text-align: right;\">-0.326154 </td><td style=\"text-align: right;\">-0.106464 </td><td style=\"text-align: right;\">-0.144055 </td><td style=\"text-align: right;\"> 0.0895844</td><td style=\"text-align: right;\"> 0.395096  </td><td style=\"text-align: right;\">-0.248494 </td><td style=\"text-align: right;\">-0.207155 </td><td style=\"text-align: right;\">-0.0530967</td><td style=\"text-align: right;\">-0.396468</td><td style=\"text-align: right;\"> 0.289681 </td><td style=\"text-align: right;\">-0.164359 </td><td style=\"text-align: right;\"> 0.462974 </td><td style=\"text-align: right;\">0.13167  </td><td style=\"text-align: right;\">-0.45906  </td><td style=\"text-align: right;\">-0.322112 </td><td style=\"text-align: right;\">-0.0669346 </td><td style=\"text-align: right;\">-0.0275884 </td><td style=\"text-align: right;\">-0.00550211</td><td style=\"text-align: right;\">-0.00746805</td><td style=\"text-align: right;\">-0.102739  </td><td style=\"text-align: right;\"> 0.505109 </td><td style=\"text-align: right;\"> 0.0656397</td><td style=\"text-align: right;\"> 0.295207 </td><td style=\"text-align: right;\">0.541028 </td><td style=\"text-align: right;\">-0.552472 </td><td style=\"text-align: right;\"> 0.239445 </td><td style=\"text-align: right;\"> 0.204306 </td><td style=\"text-align: right;\"> 0.0301934 </td><td style=\"text-align: right;\">-0.456681 </td><td style=\"text-align: right;\">0.322662 </td><td style=\"text-align: right;\">-0.00547394</td><td style=\"text-align: right;\"> 0.321132 </td><td style=\"text-align: right;\">-0.265258 </td><td style=\"text-align: right;\">-0.335424  </td><td style=\"text-align: right;\"> 0.366437</td><td style=\"text-align: right;\">-0.0687196</td><td style=\"text-align: right;\"> 0.143206 </td><td style=\"text-align: right;\">-0.299311 </td><td style=\"text-align: right;\"> 0.0606533</td><td style=\"text-align: right;\">-0.096279 </td><td style=\"text-align: right;\">-0.22924 </td><td style=\"text-align: right;\">-0.0533951</td><td style=\"text-align: right;\">-0.108387 </td><td style=\"text-align: right;\"> 0.248719</td><td style=\"text-align: right;\"> 0.114425</td><td style=\"text-align: right;\">0.670337 </td><td style=\"text-align: right;\">-0.462584 </td><td style=\"text-align: right;\">-0.108296  </td><td style=\"text-align: right;\">-0.0541149</td><td style=\"text-align: right;\"> 0.533516  </td><td style=\"text-align: right;\"> 0.135194 </td></tr>\n",
       "<tr><td style=\"text-align: right;\">-0.279512 </td><td style=\"text-align: right;\">-0.0311573 </td><td style=\"text-align: right;\"> 0.0299129</td><td style=\"text-align: right;\">0.139332</td><td style=\"text-align: right;\">-0.188786 </td><td style=\"text-align: right;\">-0.162513 </td><td style=\"text-align: right;\"> 0.138589  </td><td style=\"text-align: right;\"> 0.0292393</td><td style=\"text-align: right;\"> 0.210391 </td><td style=\"text-align: right;\">-0.0854794</td><td style=\"text-align: right;\">-0.151968  </td><td style=\"text-align: right;\">0.352379  </td><td style=\"text-align: right;\">-0.0874313</td><td style=\"text-align: right;\">-0.238089  </td><td style=\"text-align: right;\">-0.0754317</td><td style=\"text-align: right;\"> 0.280004  </td><td style=\"text-align: right;\">-0.135037 </td><td style=\"text-align: right;\">-0.0122419</td><td style=\"text-align: right;\"> 0.224876  </td><td style=\"text-align: right;\">-0.101882 </td><td style=\"text-align: right;\">-0.184141 </td><td style=\"text-align: right;\">-0.187821 </td><td style=\"text-align: right;\"> 0.167805 </td><td style=\"text-align: right;\">-0.0573033</td><td style=\"text-align: right;\">-0.0675215 </td><td style=\"text-align: right;\">-0.115679  </td><td style=\"text-align: right;\">-0.000559647</td><td style=\"text-align: right;\"> 0.221218 </td><td style=\"text-align: right;\">-0.0624837</td><td style=\"text-align: right;\"> 0.367284  </td><td style=\"text-align: right;\">-0.288968</td><td style=\"text-align: right;\"> 0.0154089</td><td style=\"text-align: right;\">-0.0160931</td><td style=\"text-align: right;\"> 0.054836 </td><td style=\"text-align: right;\">-0.156388 </td><td style=\"text-align: right;\"> 0.0201588</td><td style=\"text-align: right;\">-0.122521 </td><td style=\"text-align: right;\">-0.116863 </td><td style=\"text-align: right;\">-0.198888 </td><td style=\"text-align: right;\"> 0.210559 </td><td style=\"text-align: right;\"> 0.114788 </td><td style=\"text-align: right;\">0.0229043</td><td style=\"text-align: right;\"> 0.0972436</td><td style=\"text-align: right;\">-0.170387 </td><td style=\"text-align: right;\"> 0.0957396</td><td style=\"text-align: right;\"> 0.154114 </td><td style=\"text-align: right;\">-0.00425321</td><td style=\"text-align: right;\"> 0.0699815</td><td style=\"text-align: right;\">-0.177799</td><td style=\"text-align: right;\">-0.121043 </td><td style=\"text-align: right;\"> 0.132781 </td><td style=\"text-align: right;\">-0.182174 </td><td style=\"text-align: right;\">-0.139764 </td><td style=\"text-align: right;\"> 0.00117804</td><td style=\"text-align: right;\">-0.0180625</td><td style=\"text-align: right;\">-0.121897 </td><td style=\"text-align: right;\">-0.218152 </td><td style=\"text-align: right;\">-0.373024</td><td style=\"text-align: right;\"> 0.370585 </td><td style=\"text-align: right;\">-0.0274652</td><td style=\"text-align: right;\">-0.154936 </td><td style=\"text-align: right;\">0.248075 </td><td style=\"text-align: right;\"> 0.0508673</td><td style=\"text-align: right;\">-0.114537 </td><td style=\"text-align: right;\"> 0.00839755</td><td style=\"text-align: right;\">-0.0361308 </td><td style=\"text-align: right;\"> 0.180554  </td><td style=\"text-align: right;\"> 0.21724   </td><td style=\"text-align: right;\">-0.0615257 </td><td style=\"text-align: right;\">-0.19364  </td><td style=\"text-align: right;\"> 0.0877388</td><td style=\"text-align: right;\">-0.164708 </td><td style=\"text-align: right;\">0.155988 </td><td style=\"text-align: right;\">-0.220329 </td><td style=\"text-align: right;\"> 0.168677 </td><td style=\"text-align: right;\"> 0.0529324</td><td style=\"text-align: right;\"> 0.163873  </td><td style=\"text-align: right;\">-0.135629 </td><td style=\"text-align: right;\">0.214686 </td><td style=\"text-align: right;\"> 0.0698141 </td><td style=\"text-align: right;\">-0.0667781</td><td style=\"text-align: right;\"> 0.076631 </td><td style=\"text-align: right;\"> 0.0362696 </td><td style=\"text-align: right;\"> 0.383407</td><td style=\"text-align: right;\">-0.0370228</td><td style=\"text-align: right;\">-0.0298729</td><td style=\"text-align: right;\"> 0.116152 </td><td style=\"text-align: right;\"> 0.056563 </td><td style=\"text-align: right;\">-0.0529871</td><td style=\"text-align: right;\">-0.101769</td><td style=\"text-align: right;\"> 0.0833967</td><td style=\"text-align: right;\">-0.0436793</td><td style=\"text-align: right;\">-0.176527</td><td style=\"text-align: right;\"> 0.140998</td><td style=\"text-align: right;\">0.141348 </td><td style=\"text-align: right;\"> 0.127693 </td><td style=\"text-align: right;\">-0.0852296 </td><td style=\"text-align: right;\"> 0.216663 </td><td style=\"text-align: right;\">-0.0940938 </td><td style=\"text-align: right;\">-0.130074 </td></tr>\n",
       "<tr><td style=\"text-align: right;\">-0.18584  </td><td style=\"text-align: right;\"> 0.0589173 </td><td style=\"text-align: right;\">-0.0209236</td><td style=\"text-align: right;\">0.32223 </td><td style=\"text-align: right;\">-0.328547 </td><td style=\"text-align: right;\">-0.0292025</td><td style=\"text-align: right;\"> 0.141208  </td><td style=\"text-align: right;\">-0.113125 </td><td style=\"text-align: right;\"> 0.42417  </td><td style=\"text-align: right;\"> 0.123439 </td><td style=\"text-align: right;\"> 0.00357873</td><td style=\"text-align: right;\">0.0485908 </td><td style=\"text-align: right;\">-0.169337 </td><td style=\"text-align: right;\">-0.160606  </td><td style=\"text-align: right;\">-0.0947159</td><td style=\"text-align: right;\">-0.00983132</td><td style=\"text-align: right;\">-0.224349 </td><td style=\"text-align: right;\"> 0.105742 </td><td style=\"text-align: right;\">-0.2903    </td><td style=\"text-align: right;\"> 0.158163 </td><td style=\"text-align: right;\"> 0.173661 </td><td style=\"text-align: right;\"> 0.115932 </td><td style=\"text-align: right;\"> 0.0255834</td><td style=\"text-align: right;\">-0.0720259</td><td style=\"text-align: right;\"> 0.0558388 </td><td style=\"text-align: right;\">-0.126619  </td><td style=\"text-align: right;\"> 0.122635   </td><td style=\"text-align: right;\"> 0.0349655</td><td style=\"text-align: right;\">-0.156523 </td><td style=\"text-align: right;\"> 0.0614013 </td><td style=\"text-align: right;\">-0.267123</td><td style=\"text-align: right;\"> 0.0665683</td><td style=\"text-align: right;\">-0.0753392</td><td style=\"text-align: right;\">-0.187512 </td><td style=\"text-align: right;\">-0.210097 </td><td style=\"text-align: right;\">-0.236664 </td><td style=\"text-align: right;\">-0.0322936</td><td style=\"text-align: right;\"> 0.0496863</td><td style=\"text-align: right;\"> 0.169302 </td><td style=\"text-align: right;\">-0.0962571</td><td style=\"text-align: right;\"> 0.232475 </td><td style=\"text-align: right;\">0.180473 </td><td style=\"text-align: right;\"> 0.0783525</td><td style=\"text-align: right;\"> 0.0707957</td><td style=\"text-align: right;\">-0.118951 </td><td style=\"text-align: right;\"> 0.122508 </td><td style=\"text-align: right;\"> 0.0507294 </td><td style=\"text-align: right;\"> 0.19402  </td><td style=\"text-align: right;\">-0.179745</td><td style=\"text-align: right;\"> 0.0475672</td><td style=\"text-align: right;\">-0.0552222</td><td style=\"text-align: right;\">-0.142431 </td><td style=\"text-align: right;\">-0.0151779</td><td style=\"text-align: right;\">-0.104452  </td><td style=\"text-align: right;\">-0.0661279</td><td style=\"text-align: right;\"> 0.0224244</td><td style=\"text-align: right;\"> 0.0312314</td><td style=\"text-align: right;\">-0.375251</td><td style=\"text-align: right;\"> 0.245219 </td><td style=\"text-align: right;\">-0.142491 </td><td style=\"text-align: right;\"> 0.0860295</td><td style=\"text-align: right;\">0.0130573</td><td style=\"text-align: right;\"> 0.165486 </td><td style=\"text-align: right;\"> 0.0456134</td><td style=\"text-align: right;\"> 0.0480496 </td><td style=\"text-align: right;\"> 0.00788409</td><td style=\"text-align: right;\"> 0.248232  </td><td style=\"text-align: right;\"> 0.0814388 </td><td style=\"text-align: right;\"> 0.118093  </td><td style=\"text-align: right;\"> 0.0560418</td><td style=\"text-align: right;\">-0.0970279</td><td style=\"text-align: right;\"> 0.232667 </td><td style=\"text-align: right;\">0.0923072</td><td style=\"text-align: right;\"> 0.0270373</td><td style=\"text-align: right;\">-0.0979416</td><td style=\"text-align: right;\">-0.0652559</td><td style=\"text-align: right;\"> 0.24502   </td><td style=\"text-align: right;\">-0.0761419</td><td style=\"text-align: right;\">0.377078 </td><td style=\"text-align: right;\"> 0.0946181 </td><td style=\"text-align: right;\"> 0.154758 </td><td style=\"text-align: right;\"> 0.32353  </td><td style=\"text-align: right;\">-0.0764646 </td><td style=\"text-align: right;\"> 0.195065</td><td style=\"text-align: right;\">-0.152544 </td><td style=\"text-align: right;\"> 0.162256 </td><td style=\"text-align: right;\"> 0.127673 </td><td style=\"text-align: right;\">-0.276349 </td><td style=\"text-align: right;\">-0.227517 </td><td style=\"text-align: right;\">-0.207073</td><td style=\"text-align: right;\">-0.190367 </td><td style=\"text-align: right;\"> 0.217468 </td><td style=\"text-align: right;\"> 0.223551</td><td style=\"text-align: right;\"> 0.11492 </td><td style=\"text-align: right;\">0.184903 </td><td style=\"text-align: right;\">-0.0880004</td><td style=\"text-align: right;\">-0.219669  </td><td style=\"text-align: right;\"> 0.0458589</td><td style=\"text-align: right;\">-0.110105  </td><td style=\"text-align: right;\">-0.102114 </td></tr>\n",
       "<tr><td style=\"text-align: right;\">-0.277419 </td><td style=\"text-align: right;\">-0.188838  </td><td style=\"text-align: right;\">-0.120025 </td><td style=\"text-align: right;\">0.436367</td><td style=\"text-align: right;\">-0.203508 </td><td style=\"text-align: right;\">-0.0127781</td><td style=\"text-align: right;\"> 0.0372628 </td><td style=\"text-align: right;\">-0.0647706</td><td style=\"text-align: right;\">-0.0353567</td><td style=\"text-align: right;\"> 0.0639184</td><td style=\"text-align: right;\">-0.0988843 </td><td style=\"text-align: right;\">0.105484  </td><td style=\"text-align: right;\"> 0.0708833</td><td style=\"text-align: right;\">-0.0285482 </td><td style=\"text-align: right;\">-0.0324635</td><td style=\"text-align: right;\"> 0.126827  </td><td style=\"text-align: right;\">-0.3059   </td><td style=\"text-align: right;\"> 0.222194 </td><td style=\"text-align: right;\"> 0.00157749</td><td style=\"text-align: right;\"> 0.109845 </td><td style=\"text-align: right;\">-0.110494 </td><td style=\"text-align: right;\"> 0.326039 </td><td style=\"text-align: right;\">-0.0237437</td><td style=\"text-align: right;\">-0.088954 </td><td style=\"text-align: right;\"> 0.0761097 </td><td style=\"text-align: right;\"> 0.00970035</td><td style=\"text-align: right;\"> 0.0827787  </td><td style=\"text-align: right;\">-0.20139  </td><td style=\"text-align: right;\">-0.112345 </td><td style=\"text-align: right;\">-0.0860417 </td><td style=\"text-align: right;\">-0.420042</td><td style=\"text-align: right;\"> 0.351167 </td><td style=\"text-align: right;\"> 0.253074 </td><td style=\"text-align: right;\"> 0.235557 </td><td style=\"text-align: right;\">-0.448511 </td><td style=\"text-align: right;\">-0.0476538</td><td style=\"text-align: right;\">-0.273188 </td><td style=\"text-align: right;\"> 0.106895 </td><td style=\"text-align: right;\">-0.0351234</td><td style=\"text-align: right;\"> 0.106686 </td><td style=\"text-align: right;\"> 0.306161 </td><td style=\"text-align: right;\">0.201133 </td><td style=\"text-align: right;\"> 0.0164421</td><td style=\"text-align: right;\">-0.373106 </td><td style=\"text-align: right;\">-0.233002 </td><td style=\"text-align: right;\">-0.227771 </td><td style=\"text-align: right;\">-0.010907  </td><td style=\"text-align: right;\">-0.14317  </td><td style=\"text-align: right;\">-0.277223</td><td style=\"text-align: right;\"> 0.0389231</td><td style=\"text-align: right;\"> 0.142493 </td><td style=\"text-align: right;\">-0.36876  </td><td style=\"text-align: right;\">-0.023672 </td><td style=\"text-align: right;\"> 0.0699159 </td><td style=\"text-align: right;\"> 0.228254 </td><td style=\"text-align: right;\">-0.139418 </td><td style=\"text-align: right;\"> 0.183171 </td><td style=\"text-align: right;\">-0.41104 </td><td style=\"text-align: right;\"> 0.031216 </td><td style=\"text-align: right;\">-0.015824 </td><td style=\"text-align: right;\"> 0.130081 </td><td style=\"text-align: right;\">0.164182 </td><td style=\"text-align: right;\"> 0.0984419</td><td style=\"text-align: right;\">-0.114311 </td><td style=\"text-align: right;\">-0.0103982 </td><td style=\"text-align: right;\">-0.0850711 </td><td style=\"text-align: right;\"> 0.0845731 </td><td style=\"text-align: right;\"> 0.29402   </td><td style=\"text-align: right;\"> 0.151418  </td><td style=\"text-align: right;\"> 0.193019 </td><td style=\"text-align: right;\">-0.180165 </td><td style=\"text-align: right;\">-0.0385596</td><td style=\"text-align: right;\">0.293083 </td><td style=\"text-align: right;\">-0.287285 </td><td style=\"text-align: right;\">-0.0978478</td><td style=\"text-align: right;\">-0.0506869</td><td style=\"text-align: right;\">-0.00784257</td><td style=\"text-align: right;\">-0.116928 </td><td style=\"text-align: right;\">0.0141002</td><td style=\"text-align: right;\">-0.135356  </td><td style=\"text-align: right;\">-0.0679999</td><td style=\"text-align: right;\"> 0.0573933</td><td style=\"text-align: right;\">-0.00119584</td><td style=\"text-align: right;\">-0.103944</td><td style=\"text-align: right;\">-0.180585 </td><td style=\"text-align: right;\">-0.0567569</td><td style=\"text-align: right;\"> 0.0101651</td><td style=\"text-align: right;\">-0.035179 </td><td style=\"text-align: right;\"> 0.183764 </td><td style=\"text-align: right;\">-0.38203 </td><td style=\"text-align: right;\">-0.0687278</td><td style=\"text-align: right;\"> 0.0302355</td><td style=\"text-align: right;\"> 0.156293</td><td style=\"text-align: right;\"> 0.214381</td><td style=\"text-align: right;\">0.0213643</td><td style=\"text-align: right;\"> 0.274187 </td><td style=\"text-align: right;\">-0.346777  </td><td style=\"text-align: right;\"> 0.152309 </td><td style=\"text-align: right;\">-0.165817  </td><td style=\"text-align: right;\">-0.21063  </td></tr>\n",
       "<tr><td style=\"text-align: right;\">-0.0968212</td><td style=\"text-align: right;\"> 0.294803  </td><td style=\"text-align: right;\"> 0.108441 </td><td style=\"text-align: right;\">0.24607 </td><td style=\"text-align: right;\"> 0.320892 </td><td style=\"text-align: right;\">-0.199162 </td><td style=\"text-align: right;\"> 0.0234883 </td><td style=\"text-align: right;\">-0.0825039</td><td style=\"text-align: right;\"> 0.38038  </td><td style=\"text-align: right;\">-0.199475 </td><td style=\"text-align: right;\"> 0.0980913 </td><td style=\"text-align: right;\">0.0933711 </td><td style=\"text-align: right;\">-0.421758 </td><td style=\"text-align: right;\">-0.227256  </td><td style=\"text-align: right;\">-0.0483002</td><td style=\"text-align: right;\"> 0.138216  </td><td style=\"text-align: right;\">-0.0442202</td><td style=\"text-align: right;\"> 0.235719 </td><td style=\"text-align: right;\"> 0.0267283 </td><td style=\"text-align: right;\"> 0.223356 </td><td style=\"text-align: right;\">-0.147654 </td><td style=\"text-align: right;\"> 0.0544773</td><td style=\"text-align: right;\">-0.05055  </td><td style=\"text-align: right;\">-0.196758 </td><td style=\"text-align: right;\">-0.00339076</td><td style=\"text-align: right;\">-0.209793  </td><td style=\"text-align: right;\"> 0.161366   </td><td style=\"text-align: right;\">-0.041358 </td><td style=\"text-align: right;\">-0.0114659</td><td style=\"text-align: right;\"> 0.00848143</td><td style=\"text-align: right;\">-0.248748</td><td style=\"text-align: right;\">-0.103031 </td><td style=\"text-align: right;\">-0.391771 </td><td style=\"text-align: right;\">-0.185089 </td><td style=\"text-align: right;\">-0.245407 </td><td style=\"text-align: right;\">-0.0849143</td><td style=\"text-align: right;\">-0.178004 </td><td style=\"text-align: right;\">-0.0888006</td><td style=\"text-align: right;\">-0.222098 </td><td style=\"text-align: right;\">-0.0222894</td><td style=\"text-align: right;\"> 0.0506169</td><td style=\"text-align: right;\">0.186504 </td><td style=\"text-align: right;\"> 0.133255 </td><td style=\"text-align: right;\">-0.0352811</td><td style=\"text-align: right;\">-0.0442291</td><td style=\"text-align: right;\"> 0.13697  </td><td style=\"text-align: right;\"> 0.121009  </td><td style=\"text-align: right;\"> 0.0356257</td><td style=\"text-align: right;\">-0.412744</td><td style=\"text-align: right;\">-0.108332 </td><td style=\"text-align: right;\"> 0.0520442</td><td style=\"text-align: right;\">-0.190164 </td><td style=\"text-align: right;\">-0.0769488</td><td style=\"text-align: right;\"> 0.0573796 </td><td style=\"text-align: right;\">-0.0659482</td><td style=\"text-align: right;\">-0.160153 </td><td style=\"text-align: right;\">-0.0426574</td><td style=\"text-align: right;\">-0.284972</td><td style=\"text-align: right;\"> 0.293634 </td><td style=\"text-align: right;\">-0.166734 </td><td style=\"text-align: right;\"> 0.178156 </td><td style=\"text-align: right;\">0.140884 </td><td style=\"text-align: right;\">-0.395717 </td><td style=\"text-align: right;\">-0.121784 </td><td style=\"text-align: right;\">-0.027836  </td><td style=\"text-align: right;\">-0.157678  </td><td style=\"text-align: right;\"> 0.0819995 </td><td style=\"text-align: right;\">-0.0874873 </td><td style=\"text-align: right;\">-0.114391  </td><td style=\"text-align: right;\"> 0.138773 </td><td style=\"text-align: right;\"> 0.131223 </td><td style=\"text-align: right;\"> 0.304295 </td><td style=\"text-align: right;\">0.125378 </td><td style=\"text-align: right;\">-0.0588897</td><td style=\"text-align: right;\">-0.0537653</td><td style=\"text-align: right;\"> 0.24083  </td><td style=\"text-align: right;\"> 0.229498  </td><td style=\"text-align: right;\">-0.0479279</td><td style=\"text-align: right;\">0.315786 </td><td style=\"text-align: right;\">-0.0639527 </td><td style=\"text-align: right;\"> 0.133163 </td><td style=\"text-align: right;\"> 0.0952082</td><td style=\"text-align: right;\">-0.088019  </td><td style=\"text-align: right;\"> 0.27418 </td><td style=\"text-align: right;\"> 0.0653943</td><td style=\"text-align: right;\"> 0.172416 </td><td style=\"text-align: right;\"> 0.011494 </td><td style=\"text-align: right;\">-0.075446 </td><td style=\"text-align: right;\">-0.203255 </td><td style=\"text-align: right;\">-0.162569</td><td style=\"text-align: right;\">-0.0842942</td><td style=\"text-align: right;\"> 0.157566 </td><td style=\"text-align: right;\"> 0.272782</td><td style=\"text-align: right;\"> 0.148342</td><td style=\"text-align: right;\">0.147276 </td><td style=\"text-align: right;\">-0.172726 </td><td style=\"text-align: right;\">-0.176766  </td><td style=\"text-align: right;\"> 0.0312758</td><td style=\"text-align: right;\">-0.130015  </td><td style=\"text-align: right;\">-0.128402 </td></tr>\n",
       "<tr><td style=\"text-align: right;\">-0.256394 </td><td style=\"text-align: right;\"> 0.187985  </td><td style=\"text-align: right;\">-0.152656 </td><td style=\"text-align: right;\">0.241329</td><td style=\"text-align: right;\"> 0.0926101</td><td style=\"text-align: right;\"> 0.0552791</td><td style=\"text-align: right;\">-0.134375  </td><td style=\"text-align: right;\">-0.302937 </td><td style=\"text-align: right;\"> 0.238359 </td><td style=\"text-align: right;\">-0.224368 </td><td style=\"text-align: right;\">-0.078545  </td><td style=\"text-align: right;\">0.00287616</td><td style=\"text-align: right;\">-0.211201 </td><td style=\"text-align: right;\"> 0.00483979</td><td style=\"text-align: right;\">-0.0427184</td><td style=\"text-align: right;\"> 0.0852081 </td><td style=\"text-align: right;\">-0.0259122</td><td style=\"text-align: right;\"> 0.341753 </td><td style=\"text-align: right;\"> 0.175156  </td><td style=\"text-align: right;\"> 0.130609 </td><td style=\"text-align: right;\">-0.193145 </td><td style=\"text-align: right;\"> 0.0737868</td><td style=\"text-align: right;\"> 0.129889 </td><td style=\"text-align: right;\"> 0.105964 </td><td style=\"text-align: right;\"> 0.22039   </td><td style=\"text-align: right;\">-0.396624  </td><td style=\"text-align: right;\"> 0.122866   </td><td style=\"text-align: right;\">-0.130831 </td><td style=\"text-align: right;\">-0.0147741</td><td style=\"text-align: right;\"> 0.257713  </td><td style=\"text-align: right;\">-0.237331</td><td style=\"text-align: right;\">-0.19485  </td><td style=\"text-align: right;\">-0.153565 </td><td style=\"text-align: right;\">-0.175024 </td><td style=\"text-align: right;\">-0.0845617</td><td style=\"text-align: right;\">-0.0766987</td><td style=\"text-align: right;\">-0.442221 </td><td style=\"text-align: right;\">-0.265412 </td><td style=\"text-align: right;\">-0.202735 </td><td style=\"text-align: right;\">-0.22755  </td><td style=\"text-align: right;\">-0.281462 </td><td style=\"text-align: right;\">0.130195 </td><td style=\"text-align: right;\"> 0.106494 </td><td style=\"text-align: right;\"> 0.0529705</td><td style=\"text-align: right;\"> 0.0291641</td><td style=\"text-align: right;\"> 0.330571 </td><td style=\"text-align: right;\">-0.226512  </td><td style=\"text-align: right;\">-0.18096  </td><td style=\"text-align: right;\">-0.225939</td><td style=\"text-align: right;\"> 0.277189 </td><td style=\"text-align: right;\"> 0.415133 </td><td style=\"text-align: right;\">-0.427556 </td><td style=\"text-align: right;\">-0.31146  </td><td style=\"text-align: right;\"> 0.374276  </td><td style=\"text-align: right;\">-0.0605311</td><td style=\"text-align: right;\"> 0.207564 </td><td style=\"text-align: right;\"> 0.139683 </td><td style=\"text-align: right;\">-0.109739</td><td style=\"text-align: right;\"> 0.299998 </td><td style=\"text-align: right;\"> 0.279649 </td><td style=\"text-align: right;\"> 0.201389 </td><td style=\"text-align: right;\">0.296182 </td><td style=\"text-align: right;\">-0.262822 </td><td style=\"text-align: right;\"> 0.112562 </td><td style=\"text-align: right;\"> 0.216622  </td><td style=\"text-align: right;\">-0.188039  </td><td style=\"text-align: right;\"> 0.133852  </td><td style=\"text-align: right;\"> 0.0230622 </td><td style=\"text-align: right;\"> 0.145121  </td><td style=\"text-align: right;\"> 0.236297 </td><td style=\"text-align: right;\"> 0.0979985</td><td style=\"text-align: right;\">-0.166176 </td><td style=\"text-align: right;\">0.105591 </td><td style=\"text-align: right;\">-0.300431 </td><td style=\"text-align: right;\">-0.10962  </td><td style=\"text-align: right;\"> 0.34708  </td><td style=\"text-align: right;\"> 0.255217  </td><td style=\"text-align: right;\"> 0.16908  </td><td style=\"text-align: right;\">0.480311 </td><td style=\"text-align: right;\">-0.123604  </td><td style=\"text-align: right;\">-0.368489 </td><td style=\"text-align: right;\"> 0.20797  </td><td style=\"text-align: right;\"> 0.249493  </td><td style=\"text-align: right;\"> 0.35134 </td><td style=\"text-align: right;\"> 0.12131  </td><td style=\"text-align: right;\">-0.0655702</td><td style=\"text-align: right;\"> 0.158266 </td><td style=\"text-align: right;\">-0.165378 </td><td style=\"text-align: right;\">-0.0649255</td><td style=\"text-align: right;\">-0.103817</td><td style=\"text-align: right;\">-0.091383 </td><td style=\"text-align: right;\">-0.198516 </td><td style=\"text-align: right;\"> 0.198022</td><td style=\"text-align: right;\"> 0.108721</td><td style=\"text-align: right;\">0.0588654</td><td style=\"text-align: right;\"> 0.198717 </td><td style=\"text-align: right;\"> 0.00447548</td><td style=\"text-align: right;\"> 0.0587266</td><td style=\"text-align: right;\"> 0.151778  </td><td style=\"text-align: right;\"> 0.0765489</td></tr>\n",
       "<tr><td style=\"text-align: right;\"> 0.198496 </td><td style=\"text-align: right;\"> 0.245932  </td><td style=\"text-align: right;\"> 0.182466 </td><td style=\"text-align: right;\">0.590663</td><td style=\"text-align: right;\"> 0.530774 </td><td style=\"text-align: right;\">-0.389897 </td><td style=\"text-align: right;\">-0.00173687</td><td style=\"text-align: right;\">-0.272299 </td><td style=\"text-align: right;\">-0.0296782</td><td style=\"text-align: right;\">-0.131025 </td><td style=\"text-align: right;\">-0.140057  </td><td style=\"text-align: right;\">0.300605  </td><td style=\"text-align: right;\">-0.562641 </td><td style=\"text-align: right;\">-0.139242  </td><td style=\"text-align: right;\">-0.0978478</td><td style=\"text-align: right;\"> 0.195237  </td><td style=\"text-align: right;\"> 0.249979 </td><td style=\"text-align: right;\">-0.147094 </td><td style=\"text-align: right;\">-0.141088  </td><td style=\"text-align: right;\"> 0.0572662</td><td style=\"text-align: right;\">-0.0697324</td><td style=\"text-align: right;\">-0.414618 </td><td style=\"text-align: right;\"> 0.0451773</td><td style=\"text-align: right;\"> 0.0123859</td><td style=\"text-align: right;\">-0.136952  </td><td style=\"text-align: right;\">-0.0700904 </td><td style=\"text-align: right;\"> 0.250318   </td><td style=\"text-align: right;\"> 0.191079 </td><td style=\"text-align: right;\"> 0.180666 </td><td style=\"text-align: right;\"> 0.0583874 </td><td style=\"text-align: right;\">-0.376978</td><td style=\"text-align: right;\"> 0.0461544</td><td style=\"text-align: right;\">-0.699312 </td><td style=\"text-align: right;\"> 0.173983 </td><td style=\"text-align: right;\"> 0.0955267</td><td style=\"text-align: right;\"> 0.0935854</td><td style=\"text-align: right;\"> 0.167072 </td><td style=\"text-align: right;\">-0.101795 </td><td style=\"text-align: right;\"> 0.116582 </td><td style=\"text-align: right;\"> 0.291421 </td><td style=\"text-align: right;\"> 0.204701 </td><td style=\"text-align: right;\">0.126056 </td><td style=\"text-align: right;\"> 0.400053 </td><td style=\"text-align: right;\">-0.0490436</td><td style=\"text-align: right;\">-0.174219 </td><td style=\"text-align: right;\"> 0.448838 </td><td style=\"text-align: right;\"> 0.261596  </td><td style=\"text-align: right;\"> 0.0429197</td><td style=\"text-align: right;\">-0.551901</td><td style=\"text-align: right;\">-0.326154 </td><td style=\"text-align: right;\">-0.106464 </td><td style=\"text-align: right;\">-0.144055 </td><td style=\"text-align: right;\"> 0.0895844</td><td style=\"text-align: right;\"> 0.395096  </td><td style=\"text-align: right;\">-0.248494 </td><td style=\"text-align: right;\">-0.207155 </td><td style=\"text-align: right;\">-0.0530967</td><td style=\"text-align: right;\">-0.396468</td><td style=\"text-align: right;\"> 0.289681 </td><td style=\"text-align: right;\">-0.164359 </td><td style=\"text-align: right;\"> 0.462974 </td><td style=\"text-align: right;\">0.13167  </td><td style=\"text-align: right;\">-0.45906  </td><td style=\"text-align: right;\">-0.322112 </td><td style=\"text-align: right;\">-0.0669346 </td><td style=\"text-align: right;\">-0.0275884 </td><td style=\"text-align: right;\">-0.00550211</td><td style=\"text-align: right;\">-0.00746805</td><td style=\"text-align: right;\">-0.102739  </td><td style=\"text-align: right;\"> 0.505109 </td><td style=\"text-align: right;\"> 0.0656397</td><td style=\"text-align: right;\"> 0.295207 </td><td style=\"text-align: right;\">0.541028 </td><td style=\"text-align: right;\">-0.552472 </td><td style=\"text-align: right;\"> 0.239445 </td><td style=\"text-align: right;\"> 0.204306 </td><td style=\"text-align: right;\"> 0.0301934 </td><td style=\"text-align: right;\">-0.456681 </td><td style=\"text-align: right;\">0.322662 </td><td style=\"text-align: right;\">-0.00547394</td><td style=\"text-align: right;\"> 0.321132 </td><td style=\"text-align: right;\">-0.265258 </td><td style=\"text-align: right;\">-0.335424  </td><td style=\"text-align: right;\"> 0.366437</td><td style=\"text-align: right;\">-0.0687196</td><td style=\"text-align: right;\"> 0.143206 </td><td style=\"text-align: right;\">-0.299311 </td><td style=\"text-align: right;\"> 0.0606533</td><td style=\"text-align: right;\">-0.096279 </td><td style=\"text-align: right;\">-0.22924 </td><td style=\"text-align: right;\">-0.0533951</td><td style=\"text-align: right;\">-0.108387 </td><td style=\"text-align: right;\"> 0.248719</td><td style=\"text-align: right;\"> 0.114425</td><td style=\"text-align: right;\">0.670337 </td><td style=\"text-align: right;\">-0.462584 </td><td style=\"text-align: right;\">-0.108296  </td><td style=\"text-align: right;\">-0.0541149</td><td style=\"text-align: right;\"> 0.533516  </td><td style=\"text-align: right;\"> 0.135194 </td></tr>\n",
       "<tr><td style=\"text-align: right;\">-0.255606 </td><td style=\"text-align: right;\"> 0.146987  </td><td style=\"text-align: right;\"> 0.0875801</td><td style=\"text-align: right;\">0.174245</td><td style=\"text-align: right;\"> 0.206106 </td><td style=\"text-align: right;\">-0.311875 </td><td style=\"text-align: right;\"> 0.182975  </td><td style=\"text-align: right;\">-0.0984452</td><td style=\"text-align: right;\"> 0.332283 </td><td style=\"text-align: right;\">-0.159374 </td><td style=\"text-align: right;\">-0.183113  </td><td style=\"text-align: right;\">0.272893  </td><td style=\"text-align: right;\">-0.304552 </td><td style=\"text-align: right;\">-0.379293  </td><td style=\"text-align: right;\">-0.134616 </td><td style=\"text-align: right;\"> 0.293861  </td><td style=\"text-align: right;\"> 0.184369 </td><td style=\"text-align: right;\"> 0.121031 </td><td style=\"text-align: right;\"> 0.135055  </td><td style=\"text-align: right;\">-0.092751 </td><td style=\"text-align: right;\">-0.314573 </td><td style=\"text-align: right;\">-0.170899 </td><td style=\"text-align: right;\"> 0.289209 </td><td style=\"text-align: right;\">-0.0648469</td><td style=\"text-align: right;\">-0.119034  </td><td style=\"text-align: right;\">-0.0990818 </td><td style=\"text-align: right;\"> 0.145423   </td><td style=\"text-align: right;\"> 0.153085 </td><td style=\"text-align: right;\">-0.0289218</td><td style=\"text-align: right;\"> 0.262371  </td><td style=\"text-align: right;\">-0.26442 </td><td style=\"text-align: right;\">-0.097153 </td><td style=\"text-align: right;\">-0.296988 </td><td style=\"text-align: right;\"> 0.0390756</td><td style=\"text-align: right;\">-0.0858309</td><td style=\"text-align: right;\"> 0.113852 </td><td style=\"text-align: right;\">-0.178196 </td><td style=\"text-align: right;\">-0.0761537</td><td style=\"text-align: right;\">-0.15718  </td><td style=\"text-align: right;\"> 0.15832  </td><td style=\"text-align: right;\">-0.0649857</td><td style=\"text-align: right;\">0.201172 </td><td style=\"text-align: right;\"> 0.17167  </td><td style=\"text-align: right;\">-0.104951 </td><td style=\"text-align: right;\"> 0.0848249</td><td style=\"text-align: right;\"> 0.333333 </td><td style=\"text-align: right;\"> 0.0707429 </td><td style=\"text-align: right;\"> 0.0203472</td><td style=\"text-align: right;\">-0.46256 </td><td style=\"text-align: right;\">-0.139642 </td><td style=\"text-align: right;\">-0.0392542</td><td style=\"text-align: right;\">-0.113784 </td><td style=\"text-align: right;\">-0.127358 </td><td style=\"text-align: right;\"> 0.345009  </td><td style=\"text-align: right;\">-0.181097 </td><td style=\"text-align: right;\">-0.220222 </td><td style=\"text-align: right;\">-0.11546  </td><td style=\"text-align: right;\">-0.233171</td><td style=\"text-align: right;\"> 0.450943 </td><td style=\"text-align: right;\">-0.0394981</td><td style=\"text-align: right;\"> 0.194819 </td><td style=\"text-align: right;\">0.290414 </td><td style=\"text-align: right;\"> 0.0225167</td><td style=\"text-align: right;\">-0.322798 </td><td style=\"text-align: right;\">-0.041635  </td><td style=\"text-align: right;\">-0.0131174 </td><td style=\"text-align: right;\"> 0.165315  </td><td style=\"text-align: right;\"> 0.0839527 </td><td style=\"text-align: right;\">-0.00356718</td><td style=\"text-align: right;\"> 0.09596  </td><td style=\"text-align: right;\"> 0.159932 </td><td style=\"text-align: right;\"> 0.158423 </td><td style=\"text-align: right;\">0.280063 </td><td style=\"text-align: right;\">-0.292947 </td><td style=\"text-align: right;\">-0.0253924</td><td style=\"text-align: right;\"> 0.113567 </td><td style=\"text-align: right;\"> 0.23039   </td><td style=\"text-align: right;\">-0.0894585</td><td style=\"text-align: right;\">0.298345 </td><td style=\"text-align: right;\">-0.0426372 </td><td style=\"text-align: right;\"> 0.0639109</td><td style=\"text-align: right;\"> 0.0565473</td><td style=\"text-align: right;\">-0.0204912 </td><td style=\"text-align: right;\"> 0.320419</td><td style=\"text-align: right;\"> 0.18378  </td><td style=\"text-align: right;\"> 0.0823786</td><td style=\"text-align: right;\">-0.001967 </td><td style=\"text-align: right;\"> 0.0307857</td><td style=\"text-align: right;\">-0.0947001</td><td style=\"text-align: right;\">-0.148871</td><td style=\"text-align: right;\">-0.0619269</td><td style=\"text-align: right;\">-0.0397579</td><td style=\"text-align: right;\"> 0.189115</td><td style=\"text-align: right;\"> 0.140936</td><td style=\"text-align: right;\">0.389256 </td><td style=\"text-align: right;\">-0.037986 </td><td style=\"text-align: right;\">-0.11576   </td><td style=\"text-align: right;\"> 0.0440138</td><td style=\"text-align: right;\"> 0.21192   </td><td style=\"text-align: right;\">-0.0729424</td></tr>\n",
       "<tr><td style=\"text-align: right;\">-0.227742 </td><td style=\"text-align: right;\">-0.0551087 </td><td style=\"text-align: right;\"> 0.166079 </td><td style=\"text-align: right;\">0.392908</td><td style=\"text-align: right;\"> 0.0124986</td><td style=\"text-align: right;\">-0.119152 </td><td style=\"text-align: right;\"> 0.357413  </td><td style=\"text-align: right;\">-0.350363 </td><td style=\"text-align: right;\"> 0.267591 </td><td style=\"text-align: right;\">-0.320641 </td><td style=\"text-align: right;\"> 0.0485993 </td><td style=\"text-align: right;\">0.319865  </td><td style=\"text-align: right;\">-0.132096 </td><td style=\"text-align: right;\"> 0.0206106 </td><td style=\"text-align: right;\"> 0.0810479</td><td style=\"text-align: right;\"> 0.0391307 </td><td style=\"text-align: right;\">-0.208353 </td><td style=\"text-align: right;\"> 0.301979 </td><td style=\"text-align: right;\"> 0.044181  </td><td style=\"text-align: right;\"> 0.232225 </td><td style=\"text-align: right;\">-0.0484336</td><td style=\"text-align: right;\"> 0.122579 </td><td style=\"text-align: right;\">-0.214312 </td><td style=\"text-align: right;\"> 0.025111 </td><td style=\"text-align: right;\">-0.0895493 </td><td style=\"text-align: right;\">-0.275654  </td><td style=\"text-align: right;\"> 0.352035   </td><td style=\"text-align: right;\">-0.102453 </td><td style=\"text-align: right;\">-0.0212924</td><td style=\"text-align: right;\">-0.0648532 </td><td style=\"text-align: right;\">-0.345202</td><td style=\"text-align: right;\"> 0.251677 </td><td style=\"text-align: right;\">-0.0843749</td><td style=\"text-align: right;\"> 0.105292 </td><td style=\"text-align: right;\">-0.374871 </td><td style=\"text-align: right;\">-0.446384 </td><td style=\"text-align: right;\"> 0.238704 </td><td style=\"text-align: right;\">-0.188066 </td><td style=\"text-align: right;\"> 0.0425713</td><td style=\"text-align: right;\">-0.124362 </td><td style=\"text-align: right;\"> 0.0604407</td><td style=\"text-align: right;\">0.102252 </td><td style=\"text-align: right;\">-0.0620847</td><td style=\"text-align: right;\">-0.071188 </td><td style=\"text-align: right;\">-0.0213661</td><td style=\"text-align: right;\"> 0.166173 </td><td style=\"text-align: right;\"> 0.169893  </td><td style=\"text-align: right;\">-0.187628 </td><td style=\"text-align: right;\">-0.638503</td><td style=\"text-align: right;\"> 0.19506  </td><td style=\"text-align: right;\"> 0.0866197</td><td style=\"text-align: right;\">-0.0958519</td><td style=\"text-align: right;\">-0.0439426</td><td style=\"text-align: right;\"> 0.0900624 </td><td style=\"text-align: right;\"> 0.347886 </td><td style=\"text-align: right;\">-0.291771 </td><td style=\"text-align: right;\"> 0.181137 </td><td style=\"text-align: right;\">-0.343609</td><td style=\"text-align: right;\"> 0.414301 </td><td style=\"text-align: right;\"> 0.116237 </td><td style=\"text-align: right;\"> 0.399837 </td><td style=\"text-align: right;\">0.0945345</td><td style=\"text-align: right;\"> 0.0569895</td><td style=\"text-align: right;\"> 0.0594818</td><td style=\"text-align: right;\"> 0.314078  </td><td style=\"text-align: right;\"> 0.0183588 </td><td style=\"text-align: right;\">-0.0471618 </td><td style=\"text-align: right;\"> 0.216848  </td><td style=\"text-align: right;\"> 0.146062  </td><td style=\"text-align: right;\">-0.0876198</td><td style=\"text-align: right;\"> 0.134697 </td><td style=\"text-align: right;\"> 0.227044 </td><td style=\"text-align: right;\">0.154305 </td><td style=\"text-align: right;\">-0.0832328</td><td style=\"text-align: right;\"> 0.0689596</td><td style=\"text-align: right;\">-0.0272637</td><td style=\"text-align: right;\"> 0.0524815 </td><td style=\"text-align: right;\">-0.0668715</td><td style=\"text-align: right;\">0.216497 </td><td style=\"text-align: right;\"> 0.277281  </td><td style=\"text-align: right;\"> 0.318314 </td><td style=\"text-align: right;\"> 0.415891 </td><td style=\"text-align: right;\">-0.303443  </td><td style=\"text-align: right;\"> 0.241663</td><td style=\"text-align: right;\"> 0.0582422</td><td style=\"text-align: right;\"> 0.257931 </td><td style=\"text-align: right;\"> 0.0709711</td><td style=\"text-align: right;\">-0.0529635</td><td style=\"text-align: right;\">-0.27733  </td><td style=\"text-align: right;\">-0.152813</td><td style=\"text-align: right;\">-0.0290373</td><td style=\"text-align: right;\">-0.0792733</td><td style=\"text-align: right;\"> 0.243187</td><td style=\"text-align: right;\"> 0.228959</td><td style=\"text-align: right;\">0.415549 </td><td style=\"text-align: right;\"> 0.11022  </td><td style=\"text-align: right;\">-0.303159  </td><td style=\"text-align: right;\"> 0.272885 </td><td style=\"text-align: right;\"> 0.00821701</td><td style=\"text-align: right;\">-0.146179 </td></tr>\n",
       "</tbody>\n",
       "</table>"
      ]
     },
     "metadata": {},
     "output_type": "display_data"
    },
    {
     "data": {
      "text/plain": []
     },
     "execution_count": 36,
     "metadata": {},
     "output_type": "execute_result"
    }
   ],
   "source": [
    "job_title_vecs"
   ]
  },
  {
   "cell_type": "code",
   "execution_count": 37,
   "metadata": {},
   "outputs": [
    {
     "data": {
      "text/plain": [
       "(13845, 2)"
      ]
     },
     "execution_count": 37,
     "metadata": {},
     "output_type": "execute_result"
    }
   ],
   "source": [
    "jobs_data.shape"
   ]
  },
  {
   "cell_type": "code",
   "execution_count": 38,
   "metadata": {},
   "outputs": [
    {
     "data": {
      "text/plain": [
       "(13845, 1)"
      ]
     },
     "execution_count": 38,
     "metadata": {},
     "output_type": "execute_result"
    }
   ],
   "source": [
    "jobs_data['category'].shape"
   ]
  },
  {
   "cell_type": "code",
   "execution_count": 39,
   "metadata": {
    "collapsed": true
   },
   "outputs": [],
   "source": [
    "###: Checking if any of the job title vectors are empty or NAs"
   ]
  },
  {
   "cell_type": "code",
   "execution_count": 40,
   "metadata": {},
   "outputs": [
    {
     "data": {
      "text/html": [
       "<table>\n",
       "<thead>\n",
       "<tr><th style=\"text-align: right;\">  not(isNA(C1))</th></tr>\n",
       "</thead>\n",
       "<tbody>\n",
       "<tr><td style=\"text-align: right;\">              1</td></tr>\n",
       "<tr><td style=\"text-align: right;\">              1</td></tr>\n",
       "<tr><td style=\"text-align: right;\">              1</td></tr>\n",
       "<tr><td style=\"text-align: right;\">              1</td></tr>\n",
       "<tr><td style=\"text-align: right;\">              1</td></tr>\n",
       "<tr><td style=\"text-align: right;\">              1</td></tr>\n",
       "<tr><td style=\"text-align: right;\">              1</td></tr>\n",
       "<tr><td style=\"text-align: right;\">              1</td></tr>\n",
       "<tr><td style=\"text-align: right;\">              1</td></tr>\n",
       "<tr><td style=\"text-align: right;\">              1</td></tr>\n",
       "</tbody>\n",
       "</table>"
      ]
     },
     "metadata": {},
     "output_type": "display_data"
    },
    {
     "data": {
      "text/plain": []
     },
     "execution_count": 40,
     "metadata": {},
     "output_type": "execute_result"
    }
   ],
   "source": [
    "valid_job_titles = ~ job_title_vecs[\"C1\"].isna()\n",
    "valid_job_titles"
   ]
  },
  {
   "cell_type": "code",
   "execution_count": 41,
   "metadata": {
    "collapsed": true
   },
   "outputs": [],
   "source": [
    "###: Combining categories with valid job data to generate the final data set which will be used to build H2O GBM Model"
   ]
  },
  {
   "cell_type": "code",
   "execution_count": 42,
   "metadata": {},
   "outputs": [],
   "source": [
    "#final_words_data = jobs_data['category'].cbind(job_title_vecs)\n",
    "final_words_data = jobs_data[valid_job_titles,:].cbind(job_title_vecs[valid_job_titles,:])"
   ]
  },
  {
   "cell_type": "code",
   "execution_count": 43,
   "metadata": {
    "collapsed": true
   },
   "outputs": [],
   "source": [
    "###: Creating training, validation & test dataset from the source dataset"
   ]
  },
  {
   "cell_type": "code",
   "execution_count": 44,
   "metadata": {
    "collapsed": true
   },
   "outputs": [],
   "source": [
    "train, valid, test = final_words_data.split_frame(ratios=[0.8, 0.1])"
   ]
  },
  {
   "cell_type": "code",
   "execution_count": 45,
   "metadata": {
    "collapsed": true
   },
   "outputs": [],
   "source": [
    "###: Setting the response column"
   ]
  },
  {
   "cell_type": "code",
   "execution_count": 46,
   "metadata": {
    "collapsed": true
   },
   "outputs": [],
   "source": [
    "response = \"category\""
   ]
  },
  {
   "cell_type": "code",
   "execution_count": 47,
   "metadata": {
    "collapsed": true
   },
   "outputs": [],
   "source": [
    "###: Setting the response column as enum/categorical in all train, valid and test dataset"
   ]
  },
  {
   "cell_type": "code",
   "execution_count": 48,
   "metadata": {
    "collapsed": true
   },
   "outputs": [],
   "source": [
    "train[response] = train[response].asfactor()\n",
    "valid[response] = valid[response].asfactor()\n",
    "test[response] = test[response].asfactor()"
   ]
  },
  {
   "cell_type": "code",
   "execution_count": 49,
   "metadata": {
    "collapsed": true
   },
   "outputs": [],
   "source": [
    "###: Setting features columns list for training"
   ]
  },
  {
   "cell_type": "code",
   "execution_count": 50,
   "metadata": {
    "collapsed": true
   },
   "outputs": [],
   "source": [
    "features = train.col_names\n",
    "features.remove(response)"
   ]
  },
  {
   "cell_type": "code",
   "execution_count": 51,
   "metadata": {
    "collapsed": true
   },
   "outputs": [],
   "source": [
    "###: Importing H2O GBM Estimator"
   ]
  },
  {
   "cell_type": "code",
   "execution_count": 52,
   "metadata": {
    "collapsed": true
   },
   "outputs": [],
   "source": [
    "from h2o.estimators.gbm import H2OGradientBoostingEstimator"
   ]
  },
  {
   "cell_type": "code",
   "execution_count": 53,
   "metadata": {
    "collapsed": true
   },
   "outputs": [],
   "source": [
    "###: Setting H2O GBM configuration"
   ]
  },
  {
   "cell_type": "code",
   "execution_count": 54,
   "metadata": {
    "collapsed": true
   },
   "outputs": [],
   "source": [
    "h2o_gbm = H2OGradientBoostingEstimator(nfolds = 5)"
   ]
  },
  {
   "cell_type": "code",
   "execution_count": 55,
   "metadata": {
    "collapsed": true
   },
   "outputs": [],
   "source": [
    "###: Traning the H2O GBM model based on jobs data"
   ]
  },
  {
   "cell_type": "code",
   "execution_count": 56,
   "metadata": {},
   "outputs": [
    {
     "name": "stdout",
     "output_type": "stream",
     "text": [
      "gbm Model Build progress: |███████████████████████████████████████████████| 100%\n"
     ]
    }
   ],
   "source": [
    "h2o_gbm.train(x = features, y = response, training_frame= train)"
   ]
  },
  {
   "cell_type": "code",
   "execution_count": 57,
   "metadata": {
    "collapsed": true
   },
   "outputs": [],
   "source": [
    "###: H2O GBM Model performance"
   ]
  },
  {
   "cell_type": "code",
   "execution_count": 58,
   "metadata": {},
   "outputs": [
    {
     "name": "stdout",
     "output_type": "stream",
     "text": [
      "\n",
      "ModelMetricsMultinomial: gbm\n",
      "** Reported on cross-validation data. **\n",
      "\n",
      "MSE: 0.182693711286\n",
      "RMSE: 0.427426849046\n",
      "LogLoss: 0.577215565131\n",
      "Mean Per-Class Error: 0.204715957269\n",
      "Confusion Matrix: Row labels: Actual class; Column labels: Predicted class\n",
      "\n"
     ]
    },
    {
     "data": {
      "text/html": [
       "<div style=\"overflow:auto\"><table style=\"width:50%\"><tr><td><b>accounting</b></td>\n",
       "<td><b>administrative</b></td>\n",
       "<td><b>customerservice</b></td>\n",
       "<td><b>education</b></td>\n",
       "<td><b>foodbeverage</b></td>\n",
       "<td><b>labor</b></td>\n",
       "<td><b>Error</b></td>\n",
       "<td><b>Rate</b></td></tr>\n",
       "<tr><td>1005.0</td>\n",
       "<td>167.0</td>\n",
       "<td>52.0</td>\n",
       "<td>10.0</td>\n",
       "<td>9.0</td>\n",
       "<td>14.0</td>\n",
       "<td>0.2004773</td>\n",
       "<td>252 / 1,257</td></tr>\n",
       "<tr><td>96.0</td>\n",
       "<td>1568.0</td>\n",
       "<td>202.0</td>\n",
       "<td>45.0</td>\n",
       "<td>31.0</td>\n",
       "<td>40.0</td>\n",
       "<td>0.2088799</td>\n",
       "<td>414 / 1,982</td></tr>\n",
       "<tr><td>38.0</td>\n",
       "<td>202.0</td>\n",
       "<td>1253.0</td>\n",
       "<td>50.0</td>\n",
       "<td>121.0</td>\n",
       "<td>185.0</td>\n",
       "<td>0.3223364</td>\n",
       "<td>596 / 1,849</td></tr>\n",
       "<tr><td>11.0</td>\n",
       "<td>65.0</td>\n",
       "<td>45.0</td>\n",
       "<td>1797.0</td>\n",
       "<td>18.0</td>\n",
       "<td>15.0</td>\n",
       "<td>0.0789339</td>\n",
       "<td>154 / 1,951</td></tr>\n",
       "<tr><td>6.0</td>\n",
       "<td>55.0</td>\n",
       "<td>119.0</td>\n",
       "<td>18.0</td>\n",
       "<td>1598.0</td>\n",
       "<td>199.0</td>\n",
       "<td>0.1989975</td>\n",
       "<td>397 / 1,995</td></tr>\n",
       "<tr><td>15.0</td>\n",
       "<td>49.0</td>\n",
       "<td>162.0</td>\n",
       "<td>33.0</td>\n",
       "<td>172.0</td>\n",
       "<td>1540.0</td>\n",
       "<td>0.2186707</td>\n",
       "<td>431 / 1,971</td></tr>\n",
       "<tr><td>1171.0</td>\n",
       "<td>2106.0</td>\n",
       "<td>1833.0</td>\n",
       "<td>1953.0</td>\n",
       "<td>1949.0</td>\n",
       "<td>1993.0</td>\n",
       "<td>0.2039073</td>\n",
       "<td>2,244 / 11,005</td></tr></table></div>"
      ],
      "text/plain": [
       "accounting    administrative    customerservice    education    foodbeverage    labor    Error      Rate\n",
       "------------  ----------------  -----------------  -----------  --------------  -------  ---------  --------------\n",
       "1005          167               52                 10           9               14       0.200477   252 / 1,257\n",
       "96            1568              202                45           31              40       0.20888    414 / 1,982\n",
       "38            202               1253               50           121             185      0.322336   596 / 1,849\n",
       "11            65                45                 1797         18              15       0.0789339  154 / 1,951\n",
       "6             55                119                18           1598            199      0.198997   397 / 1,995\n",
       "15            49                162                33           172             1540     0.218671   431 / 1,971\n",
       "1171          2106              1833               1953         1949            1993     0.203907   2,244 / 11,005"
      ]
     },
     "metadata": {},
     "output_type": "display_data"
    },
    {
     "name": "stdout",
     "output_type": "stream",
     "text": [
      "Top-6 Hit Ratios: \n"
     ]
    },
    {
     "data": {
      "text/html": [
       "<div style=\"overflow:auto\"><table style=\"width:50%\"><tr><td><b>k</b></td>\n",
       "<td><b>hit_ratio</b></td></tr>\n",
       "<tr><td>1</td>\n",
       "<td>0.7960927</td></tr>\n",
       "<tr><td>2</td>\n",
       "<td>0.9186733</td></tr>\n",
       "<tr><td>3</td>\n",
       "<td>0.9664698</td></tr>\n",
       "<tr><td>4</td>\n",
       "<td>0.9868242</td></tr>\n",
       "<tr><td>5</td>\n",
       "<td>0.9963652</td></tr>\n",
       "<tr><td>6</td>\n",
       "<td>0.9999999</td></tr></table></div>"
      ],
      "text/plain": [
       "k    hit_ratio\n",
       "---  -----------\n",
       "1    0.796093\n",
       "2    0.918673\n",
       "3    0.96647\n",
       "4    0.986824\n",
       "5    0.996365\n",
       "6    1"
      ]
     },
     "metadata": {},
     "output_type": "display_data"
    },
    {
     "data": {
      "text/plain": []
     },
     "execution_count": 58,
     "metadata": {},
     "output_type": "execute_result"
    }
   ],
   "source": [
    "h2o_gbm.model_performance(xval=True)"
   ]
  },
  {
   "cell_type": "code",
   "execution_count": 59,
   "metadata": {
    "collapsed": true
   },
   "outputs": [],
   "source": [
    "###: Performing the prediction with the test dataset"
   ]
  },
  {
   "cell_type": "code",
   "execution_count": 60,
   "metadata": {},
   "outputs": [
    {
     "name": "stdout",
     "output_type": "stream",
     "text": [
      "gbm prediction progress: |████████████████████████████████████████████████| 100%\n"
     ]
    }
   ],
   "source": [
    "pred_result = h2o_gbm.predict(test_data=test)"
   ]
  },
  {
   "cell_type": "code",
   "execution_count": 61,
   "metadata": {
    "collapsed": true
   },
   "outputs": [],
   "source": [
    "###: Checking the prediction results"
   ]
  },
  {
   "cell_type": "code",
   "execution_count": 62,
   "metadata": {},
   "outputs": [
    {
     "data": {
      "text/html": [
       "<table>\n",
       "<thead>\n",
       "<tr><th>predict       </th><th style=\"text-align: right;\">  accounting</th><th style=\"text-align: right;\">  administrative</th><th style=\"text-align: right;\">  customerservice</th><th style=\"text-align: right;\">  education</th><th style=\"text-align: right;\">  foodbeverage</th><th style=\"text-align: right;\">     labor</th></tr>\n",
       "</thead>\n",
       "<tbody>\n",
       "<tr><td>education     </td><td style=\"text-align: right;\">  0.0278986 </td><td style=\"text-align: right;\">      0.124369  </td><td style=\"text-align: right;\">       0.108486  </td><td style=\"text-align: right;\">   0.662066</td><td style=\"text-align: right;\">    0.0291289 </td><td style=\"text-align: right;\">0.048052  </td></tr>\n",
       "<tr><td>education     </td><td style=\"text-align: right;\">  0.00716205</td><td style=\"text-align: right;\">      0.00435998</td><td style=\"text-align: right;\">       0.00652709</td><td style=\"text-align: right;\">   0.971401</td><td style=\"text-align: right;\">    0.00413316</td><td style=\"text-align: right;\">0.00641719</td></tr>\n",
       "<tr><td>education     </td><td style=\"text-align: right;\">  0.00201005</td><td style=\"text-align: right;\">      0.0112444 </td><td style=\"text-align: right;\">       0.0104305 </td><td style=\"text-align: right;\">   0.960422</td><td style=\"text-align: right;\">    0.0044671 </td><td style=\"text-align: right;\">0.0114257 </td></tr>\n",
       "<tr><td>education     </td><td style=\"text-align: right;\">  0.00078977</td><td style=\"text-align: right;\">      0.00271799</td><td style=\"text-align: right;\">       0.00356573</td><td style=\"text-align: right;\">   0.989237</td><td style=\"text-align: right;\">    0.00164318</td><td style=\"text-align: right;\">0.00204605</td></tr>\n",
       "<tr><td>education     </td><td style=\"text-align: right;\">  0.0127883 </td><td style=\"text-align: right;\">      0.0398004 </td><td style=\"text-align: right;\">       0.164989  </td><td style=\"text-align: right;\">   0.647013</td><td style=\"text-align: right;\">    0.0677446 </td><td style=\"text-align: right;\">0.0676651 </td></tr>\n",
       "<tr><td>education     </td><td style=\"text-align: right;\">  0.00138501</td><td style=\"text-align: right;\">      0.00279026</td><td style=\"text-align: right;\">       0.00863425</td><td style=\"text-align: right;\">   0.979759</td><td style=\"text-align: right;\">    0.00318674</td><td style=\"text-align: right;\">0.00424458</td></tr>\n",
       "<tr><td>education     </td><td style=\"text-align: right;\">  0.00863156</td><td style=\"text-align: right;\">      0.017872  </td><td style=\"text-align: right;\">       0.0480161 </td><td style=\"text-align: right;\">   0.8976  </td><td style=\"text-align: right;\">    0.0138661 </td><td style=\"text-align: right;\">0.0140138 </td></tr>\n",
       "<tr><td>education     </td><td style=\"text-align: right;\">  0.00102662</td><td style=\"text-align: right;\">      0.00178066</td><td style=\"text-align: right;\">       0.00468632</td><td style=\"text-align: right;\">   0.98468 </td><td style=\"text-align: right;\">    0.00400643</td><td style=\"text-align: right;\">0.00381952</td></tr>\n",
       "<tr><td>education     </td><td style=\"text-align: right;\">  0.00143848</td><td style=\"text-align: right;\">      0.0041389 </td><td style=\"text-align: right;\">       0.00559884</td><td style=\"text-align: right;\">   0.981511</td><td style=\"text-align: right;\">    0.00244877</td><td style=\"text-align: right;\">0.00486394</td></tr>\n",
       "<tr><td>administrative</td><td style=\"text-align: right;\">  0.100777  </td><td style=\"text-align: right;\">      0.546673  </td><td style=\"text-align: right;\">       0.143615  </td><td style=\"text-align: right;\">   0.144304</td><td style=\"text-align: right;\">    0.0306575 </td><td style=\"text-align: right;\">0.0339735 </td></tr>\n",
       "</tbody>\n",
       "</table>"
      ]
     },
     "metadata": {},
     "output_type": "display_data"
    },
    {
     "data": {
      "text/plain": []
     },
     "execution_count": 62,
     "metadata": {},
     "output_type": "execute_result"
    }
   ],
   "source": [
    "pred_result"
   ]
  },
  {
   "cell_type": "code",
   "execution_count": 63,
   "metadata": {
    "collapsed": true
   },
   "outputs": [],
   "source": [
    "###: H2O GBM Model performance on test data"
   ]
  },
  {
   "cell_type": "code",
   "execution_count": 64,
   "metadata": {},
   "outputs": [
    {
     "name": "stdout",
     "output_type": "stream",
     "text": [
      "\n",
      "ModelMetricsMultinomial: gbm\n",
      "** Reported on test data. **\n",
      "\n",
      "MSE: 0.175580515861\n",
      "RMSE: 0.419023287969\n",
      "LogLoss: 0.551114140641\n",
      "Mean Per-Class Error: 0.199863730921\n",
      "Confusion Matrix: Row labels: Actual class; Column labels: Predicted class\n",
      "\n"
     ]
    },
    {
     "data": {
      "text/html": [
       "<div style=\"overflow:auto\"><table style=\"width:50%\"><tr><td><b>accounting</b></td>\n",
       "<td><b>administrative</b></td>\n",
       "<td><b>customerservice</b></td>\n",
       "<td><b>education</b></td>\n",
       "<td><b>foodbeverage</b></td>\n",
       "<td><b>labor</b></td>\n",
       "<td><b>Error</b></td>\n",
       "<td><b>Rate</b></td></tr>\n",
       "<tr><td>126.0</td>\n",
       "<td>20.0</td>\n",
       "<td>8.0</td>\n",
       "<td>2.0</td>\n",
       "<td>2.0</td>\n",
       "<td>1.0</td>\n",
       "<td>0.2075472</td>\n",
       "<td>33 / 159</td></tr>\n",
       "<tr><td>16.0</td>\n",
       "<td>194.0</td>\n",
       "<td>32.0</td>\n",
       "<td>8.0</td>\n",
       "<td>2.0</td>\n",
       "<td>6.0</td>\n",
       "<td>0.2480620</td>\n",
       "<td>64 / 258</td></tr>\n",
       "<tr><td>4.0</td>\n",
       "<td>27.0</td>\n",
       "<td>147.0</td>\n",
       "<td>4.0</td>\n",
       "<td>16.0</td>\n",
       "<td>21.0</td>\n",
       "<td>0.3287671</td>\n",
       "<td>72 / 219</td></tr>\n",
       "<tr><td>2.0</td>\n",
       "<td>4.0</td>\n",
       "<td>6.0</td>\n",
       "<td>233.0</td>\n",
       "<td>4.0</td>\n",
       "<td>2.0</td>\n",
       "<td>0.0717131</td>\n",
       "<td>18 / 251</td></tr>\n",
       "<tr><td>0.0</td>\n",
       "<td>6.0</td>\n",
       "<td>14.0</td>\n",
       "<td>4.0</td>\n",
       "<td>226.0</td>\n",
       "<td>24.0</td>\n",
       "<td>0.1751825</td>\n",
       "<td>48 / 274</td></tr>\n",
       "<tr><td>2.0</td>\n",
       "<td>6.0</td>\n",
       "<td>19.0</td>\n",
       "<td>2.0</td>\n",
       "<td>16.0</td>\n",
       "<td>223.0</td>\n",
       "<td>0.1679104</td>\n",
       "<td>45 / 268</td></tr>\n",
       "<tr><td>150.0</td>\n",
       "<td>257.0</td>\n",
       "<td>226.0</td>\n",
       "<td>253.0</td>\n",
       "<td>266.0</td>\n",
       "<td>277.0</td>\n",
       "<td>0.1959412</td>\n",
       "<td>280 / 1,429</td></tr></table></div>"
      ],
      "text/plain": [
       "accounting    administrative    customerservice    education    foodbeverage    labor    Error      Rate\n",
       "------------  ----------------  -----------------  -----------  --------------  -------  ---------  -----------\n",
       "126           20                8                  2            2               1        0.207547   33 / 159\n",
       "16            194               32                 8            2               6        0.248062   64 / 258\n",
       "4             27                147                4            16              21       0.328767   72 / 219\n",
       "2             4                 6                  233          4               2        0.0717131  18 / 251\n",
       "0             6                 14                 4            226             24       0.175182   48 / 274\n",
       "2             6                 19                 2            16              223      0.16791    45 / 268\n",
       "150           257               226                253          266             277      0.195941   280 / 1,429"
      ]
     },
     "metadata": {},
     "output_type": "display_data"
    },
    {
     "name": "stdout",
     "output_type": "stream",
     "text": [
      "Top-6 Hit Ratios: \n"
     ]
    },
    {
     "data": {
      "text/html": [
       "<div style=\"overflow:auto\"><table style=\"width:50%\"><tr><td><b>k</b></td>\n",
       "<td><b>hit_ratio</b></td></tr>\n",
       "<tr><td>1</td>\n",
       "<td>0.8040588</td></tr>\n",
       "<tr><td>2</td>\n",
       "<td>0.9251225</td></tr>\n",
       "<tr><td>3</td>\n",
       "<td>0.9678097</td></tr>\n",
       "<tr><td>4</td>\n",
       "<td>0.9846047</td></tr>\n",
       "<tr><td>5</td>\n",
       "<td>0.9958013</td></tr>\n",
       "<tr><td>6</td>\n",
       "<td>1.0</td></tr></table></div>"
      ],
      "text/plain": [
       "k    hit_ratio\n",
       "---  -----------\n",
       "1    0.804059\n",
       "2    0.925122\n",
       "3    0.96781\n",
       "4    0.984605\n",
       "5    0.995801\n",
       "6    1"
      ]
     },
     "metadata": {},
     "output_type": "display_data"
    },
    {
     "data": {
      "text/plain": []
     },
     "execution_count": 64,
     "metadata": {},
     "output_type": "execute_result"
    }
   ],
   "source": [
    "h2o_gbm.model_performance(test_data=test)"
   ]
  },
  {
   "cell_type": "code",
   "execution_count": 65,
   "metadata": {
    "collapsed": true
   },
   "outputs": [],
   "source": [
    "###: Creating a local function to perform prediction by passing a custom job description"
   ]
  },
  {
   "cell_type": "code",
   "execution_count": 66,
   "metadata": {
    "collapsed": true
   },
   "outputs": [],
   "source": [
    "def predict_with_h2o_w2v(job_title,w2v, gbm):\n",
    "    words = tokenize(h2o.H2OFrame(job_title).ascharacter())\n",
    "    job_title_vec = w2v.transform(words, aggregate_method=\"AVERAGE\")\n",
    "    print(gbm.predict(test_data=job_title_vec))"
   ]
  },
  {
   "cell_type": "code",
   "execution_count": 67,
   "metadata": {
    "collapsed": true
   },
   "outputs": [],
   "source": [
    "###: Calling the local prediction function to predict category of given job details"
   ]
  },
  {
   "cell_type": "code",
   "execution_count": 68,
   "metadata": {},
   "outputs": [
    {
     "name": "stdout",
     "output_type": "stream",
     "text": [
      "Parse progress: |█████████████████████████████████████████████████████████| 100%\n",
      "gbm prediction progress: |████████████████████████████████████████████████| 100%\n"
     ]
    },
    {
     "data": {
      "text/html": [
       "<table>\n",
       "<thead>\n",
       "<tr><th>predict     </th><th style=\"text-align: right;\">  accounting</th><th style=\"text-align: right;\">  administrative</th><th style=\"text-align: right;\">  customerservice</th><th style=\"text-align: right;\">  education</th><th style=\"text-align: right;\">  foodbeverage</th><th style=\"text-align: right;\">     labor</th></tr>\n",
       "</thead>\n",
       "<tbody>\n",
       "<tr><td>foodbeverage</td><td style=\"text-align: right;\"> 0.000780452</td><td style=\"text-align: right;\">        0.001684</td><td style=\"text-align: right;\">       0.00915411</td><td style=\"text-align: right;\">0.000943528</td><td style=\"text-align: right;\">      0.982074</td><td style=\"text-align: right;\">0.00536387</td></tr>\n",
       "</tbody>\n",
       "</table>"
      ]
     },
     "metadata": {},
     "output_type": "display_data"
    },
    {
     "name": "stdout",
     "output_type": "stream",
     "text": [
      "\n",
      "None\n"
     ]
    }
   ],
   "source": [
    "predict_local = predict_with_h2o_w2v([\"food kitchen sandwich\"], h2o_w2v_model, h2o_gbm)\n",
    "print(predict_local)"
   ]
  },
  {
   "cell_type": "code",
   "execution_count": 69,
   "metadata": {},
   "outputs": [
    {
     "name": "stdout",
     "output_type": "stream",
     "text": [
      "Parse progress: |█████████████████████████████████████████████████████████| 100%\n",
      "gbm prediction progress: |████████████████████████████████████████████████| 100%\n"
     ]
    },
    {
     "data": {
      "text/html": [
       "<table>\n",
       "<thead>\n",
       "<tr><th>predict  </th><th style=\"text-align: right;\">  accounting</th><th style=\"text-align: right;\">  administrative</th><th style=\"text-align: right;\">  customerservice</th><th style=\"text-align: right;\">  education</th><th style=\"text-align: right;\">  foodbeverage</th><th style=\"text-align: right;\">   labor</th></tr>\n",
       "</thead>\n",
       "<tbody>\n",
       "<tr><td>labor    </td><td style=\"text-align: right;\">  0.00116283</td><td style=\"text-align: right;\">      0.00235045</td><td style=\"text-align: right;\">        0.0210939</td><td style=\"text-align: right;\"> 0.00188025</td><td style=\"text-align: right;\">     0.0093569</td><td style=\"text-align: right;\">0.964156</td></tr>\n",
       "</tbody>\n",
       "</table>"
      ]
     },
     "metadata": {},
     "output_type": "display_data"
    },
    {
     "name": "stdout",
     "output_type": "stream",
     "text": [
      "\n",
      "None\n"
     ]
    }
   ],
   "source": [
    "predict_local = predict_with_h2o_w2v([\"swimming pool digging in the backyard\"], h2o_w2v_model, h2o_gbm)\n",
    "print(predict_local)"
   ]
  },
  {
   "cell_type": "code",
   "execution_count": 71,
   "metadata": {},
   "outputs": [
    {
     "name": "stdout",
     "output_type": "stream",
     "text": [
      "Parse progress: |█████████████████████████████████████████████████████████| 100%\n",
      "gbm prediction progress: |████████████████████████████████████████████████| 100%\n"
     ]
    },
    {
     "data": {
      "text/html": [
       "<table>\n",
       "<thead>\n",
       "<tr><th>predict       </th><th style=\"text-align: right;\">  accounting</th><th style=\"text-align: right;\">  administrative</th><th style=\"text-align: right;\">  customerservice</th><th style=\"text-align: right;\">  education</th><th style=\"text-align: right;\">  foodbeverage</th><th style=\"text-align: right;\">    labor</th></tr>\n",
       "</thead>\n",
       "<tbody>\n",
       "<tr><td>education     </td><td style=\"text-align: right;\">   0.0592295</td><td style=\"text-align: right;\">        0.121967</td><td style=\"text-align: right;\">         0.157455</td><td style=\"text-align: right;\"> 0.539883  </td><td style=\"text-align: right;\">     0.0467595</td><td style=\"text-align: right;\">0.0747068</td></tr>\n",
       "<tr><td>administrative</td><td style=\"text-align: right;\">   0.0451113</td><td style=\"text-align: right;\">        0.835459</td><td style=\"text-align: right;\">         0.077937</td><td style=\"text-align: right;\"> 0.00478149</td><td style=\"text-align: right;\">     0.0151103</td><td style=\"text-align: right;\">0.0216009</td></tr>\n",
       "</tbody>\n",
       "</table>"
      ]
     },
     "metadata": {},
     "output_type": "display_data"
    },
    {
     "name": "stdout",
     "output_type": "stream",
     "text": [
      "\n",
      "None\n"
     ]
    }
   ],
   "source": [
    "predict_local = predict_with_h2o_w2v([\"programming in Javascript and web\", \"personal assistance to the doctor\"], h2o_w2v_model, h2o_gbm)\n",
    "print(predict_local)"
   ]
  },
  {
   "cell_type": "code",
   "execution_count": null,
   "metadata": {
    "collapsed": true
   },
   "outputs": [],
   "source": []
  }
 ],
 "metadata": {
  "kernelspec": {
   "display_name": "Python 2",
   "language": "python",
   "name": "python2"
  },
  "language_info": {
   "codemirror_mode": {
    "name": "ipython",
    "version": 2
   },
   "file_extension": ".py",
   "mimetype": "text/x-python",
   "name": "python",
   "nbconvert_exporter": "python",
   "pygments_lexer": "ipython2",
   "version": "2.7.13"
  }
 },
 "nbformat": 4,
 "nbformat_minor": 2
}
