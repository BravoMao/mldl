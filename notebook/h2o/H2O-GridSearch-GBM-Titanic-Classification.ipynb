{
 "cells": [
  {
   "cell_type": "code",
   "execution_count": 1,
   "metadata": {
    "collapsed": true
   },
   "outputs": [],
   "source": [
    "###: Loading H2O Library"
   ]
  },
  {
   "cell_type": "code",
   "execution_count": 2,
   "metadata": {
    "collapsed": true
   },
   "outputs": [],
   "source": [
    "import h2o"
   ]
  },
  {
   "cell_type": "code",
   "execution_count": 3,
   "metadata": {
    "collapsed": true
   },
   "outputs": [],
   "source": [
    "###: Get H2O Version"
   ]
  },
  {
   "cell_type": "code",
   "execution_count": 4,
   "metadata": {},
   "outputs": [
    {
     "data": {
      "text/plain": [
       "u'3.14.0.7'"
      ]
     },
     "execution_count": 4,
     "metadata": {},
     "output_type": "execute_result"
    }
   ],
   "source": [
    "h2o.__version__"
   ]
  },
  {
   "cell_type": "code",
   "execution_count": 5,
   "metadata": {
    "collapsed": true
   },
   "outputs": [],
   "source": [
    "###: Initalizing H2O cluster"
   ]
  },
  {
   "cell_type": "code",
   "execution_count": 6,
   "metadata": {},
   "outputs": [
    {
     "name": "stderr",
     "output_type": "stream",
     "text": [
      "ERROR:h2o:Key init.version_check is not a valid config key\n"
     ]
    },
    {
     "name": "stdout",
     "output_type": "stream",
     "text": [
      "Checking whether there is an H2O instance running at http://localhost:54321. connected.\n"
     ]
    },
    {
     "data": {
      "text/html": [
       "<div style=\"overflow:auto\"><table style=\"width:50%\"><tr><td>H2O cluster uptime:</td>\n",
       "<td>22 hours 27 mins</td></tr>\n",
       "<tr><td>H2O cluster version:</td>\n",
       "<td>3.14.0.7</td></tr>\n",
       "<tr><td>H2O cluster version age:</td>\n",
       "<td>1 month and 3 days </td></tr>\n",
       "<tr><td>H2O cluster name:</td>\n",
       "<td>H2O_started_from_R_avkashchauhan_ppg732</td></tr>\n",
       "<tr><td>H2O cluster total nodes:</td>\n",
       "<td>1</td></tr>\n",
       "<tr><td>H2O cluster free memory:</td>\n",
       "<td>2.006 Gb</td></tr>\n",
       "<tr><td>H2O cluster total cores:</td>\n",
       "<td>8</td></tr>\n",
       "<tr><td>H2O cluster allowed cores:</td>\n",
       "<td>8</td></tr>\n",
       "<tr><td>H2O cluster status:</td>\n",
       "<td>locked, healthy</td></tr>\n",
       "<tr><td>H2O connection url:</td>\n",
       "<td>http://localhost:54321</td></tr>\n",
       "<tr><td>H2O connection proxy:</td>\n",
       "<td>None</td></tr>\n",
       "<tr><td>H2O internal security:</td>\n",
       "<td>False</td></tr>\n",
       "<tr><td>H2O API Extensions:</td>\n",
       "<td>XGBoost, Algos, AutoML, Core V3, Core V4</td></tr>\n",
       "<tr><td>Python version:</td>\n",
       "<td>2.7.13 final</td></tr></table></div>"
      ],
      "text/plain": [
       "--------------------------  ----------------------------------------\n",
       "H2O cluster uptime:         22 hours 27 mins\n",
       "H2O cluster version:        3.14.0.7\n",
       "H2O cluster version age:    1 month and 3 days\n",
       "H2O cluster name:           H2O_started_from_R_avkashchauhan_ppg732\n",
       "H2O cluster total nodes:    1\n",
       "H2O cluster free memory:    2.006 Gb\n",
       "H2O cluster total cores:    8\n",
       "H2O cluster allowed cores:  8\n",
       "H2O cluster status:         locked, healthy\n",
       "H2O connection url:         http://localhost:54321\n",
       "H2O connection proxy:\n",
       "H2O internal security:      False\n",
       "H2O API Extensions:         XGBoost, Algos, AutoML, Core V3, Core V4\n",
       "Python version:             2.7.13 final\n",
       "--------------------------  ----------------------------------------"
      ]
     },
     "metadata": {},
     "output_type": "display_data"
    }
   ],
   "source": [
    "h2o.init()"
   ]
  },
  {
   "cell_type": "code",
   "execution_count": 7,
   "metadata": {
    "collapsed": true
   },
   "outputs": [],
   "source": [
    "###: Importing both training and test dataset into H2O cluster memory"
   ]
  },
  {
   "cell_type": "code",
   "execution_count": 8,
   "metadata": {},
   "outputs": [
    {
     "name": "stdout",
     "output_type": "stream",
     "text": [
      "Parse progress: |█████████████████████████████████████████████████████████| 100%\n"
     ]
    }
   ],
   "source": [
    "df = h2o.import_file(\"https://raw.githubusercontent.com/Avkash/mldl/master/data/titanic_list.csv\")"
   ]
  },
  {
   "cell_type": "code",
   "execution_count": 9,
   "metadata": {
    "collapsed": true
   },
   "outputs": [],
   "source": [
    "### Understanding the dataset"
   ]
  },
  {
   "cell_type": "code",
   "execution_count": 10,
   "metadata": {},
   "outputs": [
    {
     "name": "stdout",
     "output_type": "stream",
     "text": [
      "Rows:1309\n",
      "Cols:14\n",
      "\n",
      "\n"
     ]
    },
    {
     "data": {
      "text/html": [
       "<table>\n",
       "<thead>\n",
       "<tr><th>       </th><th>pclass       </th><th>survived      </th><th>name                                           </th><th>sex   </th><th>age          </th><th>sibsp         </th><th>parch         </th><th>ticket       </th><th>fare         </th><th>cabin  </th><th>embarked  </th><th>boat         </th><th>body         </th><th>home.dest                      </th></tr>\n",
       "</thead>\n",
       "<tbody>\n",
       "<tr><td>type   </td><td>int          </td><td>int           </td><td>string                                         </td><td>enum  </td><td>real         </td><td>int           </td><td>int           </td><td>int          </td><td>real         </td><td>enum   </td><td>enum      </td><td>int          </td><td>int          </td><td>enum                           </td></tr>\n",
       "<tr><td>mins   </td><td>1.0          </td><td>0.0           </td><td>NaN                                            </td><td>      </td><td>0.1667       </td><td>0.0           </td><td>0.0           </td><td>680.0        </td><td>0.0          </td><td>       </td><td>          </td><td>1.0          </td><td>1.0          </td><td>                               </td></tr>\n",
       "<tr><td>mean   </td><td>2.294881589  </td><td>0.381970970206</td><td>NaN                                            </td><td>      </td><td>29.8811345124</td><td>0.498854087089</td><td>0.385026737968</td><td>249039.136886</td><td>33.2954792813</td><td>       </td><td>          </td><td>9.40452261307</td><td>160.809917355</td><td>                               </td></tr>\n",
       "<tr><td>maxs   </td><td>3.0          </td><td>1.0           </td><td>NaN                                            </td><td>      </td><td>80.0         </td><td>8.0           </td><td>9.0           </td><td>3101298.0    </td><td>512.3292     </td><td>       </td><td>          </td><td>16.0         </td><td>328.0        </td><td>                               </td></tr>\n",
       "<tr><td>sigma  </td><td>0.83783601897</td><td>0.486055170866</td><td>NaN                                            </td><td>      </td><td>14.4134996999</td><td>1.0416583906  </td><td>0.86556027535 </td><td>442685.317677</td><td>51.7586682392</td><td>       </td><td>          </td><td>4.3574169836 </td><td>97.696921996 </td><td>                               </td></tr>\n",
       "<tr><td>zeros  </td><td>0            </td><td>809           </td><td>0                                              </td><td>      </td><td>0            </td><td>891           </td><td>1002          </td><td>0            </td><td>17           </td><td>       </td><td>          </td><td>0            </td><td>0            </td><td>                               </td></tr>\n",
       "<tr><td>missing</td><td>0            </td><td>0             </td><td>0                                              </td><td>0     </td><td>263          </td><td>0             </td><td>0             </td><td>352          </td><td>1            </td><td>1014   </td><td>2         </td><td>911          </td><td>1188         </td><td>564                            </td></tr>\n",
       "<tr><td>0      </td><td>1.0          </td><td>1.0           </td><td>Allen, Miss. Elisabeth Walton                  </td><td>female</td><td>29.0         </td><td>0.0           </td><td>0.0           </td><td>24160.0      </td><td>211.3375     </td><td>B5     </td><td>S         </td><td>2.0          </td><td>nan          </td><td>St Louis, MO                   </td></tr>\n",
       "<tr><td>1      </td><td>1.0          </td><td>1.0           </td><td>Allison, Master. Hudson Trevor                 </td><td>male  </td><td>0.9167       </td><td>1.0           </td><td>2.0           </td><td>113781.0     </td><td>151.55       </td><td>C22 C26</td><td>S         </td><td>11.0         </td><td>nan          </td><td>Montreal, PQ / Chesterville, ON</td></tr>\n",
       "<tr><td>2      </td><td>1.0          </td><td>0.0           </td><td>Allison, Miss. Helen Loraine                   </td><td>female</td><td>2.0          </td><td>1.0           </td><td>2.0           </td><td>113781.0     </td><td>151.55       </td><td>C22 C26</td><td>S         </td><td>nan          </td><td>nan          </td><td>Montreal, PQ / Chesterville, ON</td></tr>\n",
       "<tr><td>3      </td><td>1.0          </td><td>0.0           </td><td>Allison, Mr. Hudson Joshua Creighton           </td><td>male  </td><td>30.0         </td><td>1.0           </td><td>2.0           </td><td>113781.0     </td><td>151.55       </td><td>C22 C26</td><td>S         </td><td>nan          </td><td>135.0        </td><td>Montreal, PQ / Chesterville, ON</td></tr>\n",
       "<tr><td>4      </td><td>1.0          </td><td>0.0           </td><td>Allison, Mrs. Hudson J C (Bessie Waldo Daniels)</td><td>female</td><td>25.0         </td><td>1.0           </td><td>2.0           </td><td>113781.0     </td><td>151.55       </td><td>C22 C26</td><td>S         </td><td>nan          </td><td>nan          </td><td>Montreal, PQ / Chesterville, ON</td></tr>\n",
       "<tr><td>5      </td><td>1.0          </td><td>1.0           </td><td>Anderson, Mr. Harry                            </td><td>male  </td><td>48.0         </td><td>0.0           </td><td>0.0           </td><td>19952.0      </td><td>26.55        </td><td>E12    </td><td>S         </td><td>3.0          </td><td>nan          </td><td>New York, NY                   </td></tr>\n",
       "<tr><td>6      </td><td>1.0          </td><td>1.0           </td><td>Andrews, Miss. Kornelia Theodosia              </td><td>female</td><td>63.0         </td><td>1.0           </td><td>0.0           </td><td>13502.0      </td><td>77.9583      </td><td>D7     </td><td>S         </td><td>10.0         </td><td>nan          </td><td>Hudson, NY                     </td></tr>\n",
       "<tr><td>7      </td><td>1.0          </td><td>0.0           </td><td>Andrews, Mr. Thomas Jr                         </td><td>male  </td><td>39.0         </td><td>0.0           </td><td>0.0           </td><td>112050.0     </td><td>0.0          </td><td>A36    </td><td>S         </td><td>nan          </td><td>nan          </td><td>Belfast, NI                    </td></tr>\n",
       "<tr><td>8      </td><td>1.0          </td><td>1.0           </td><td>Appleton, Mrs. Edward Dale (Charlotte Lamson)  </td><td>female</td><td>53.0         </td><td>2.0           </td><td>0.0           </td><td>11769.0      </td><td>51.4792      </td><td>C101   </td><td>S         </td><td>nan          </td><td>nan          </td><td>Bayside, Queens, NY            </td></tr>\n",
       "<tr><td>9      </td><td>1.0          </td><td>0.0           </td><td>Artagaveytia, Mr. Ramon                        </td><td>male  </td><td>71.0         </td><td>0.0           </td><td>0.0           </td><td>nan          </td><td>49.5042      </td><td>       </td><td>C         </td><td>nan          </td><td>22.0         </td><td>Montevideo, Uruguay            </td></tr>\n",
       "</tbody>\n",
       "</table>"
      ]
     },
     "metadata": {},
     "output_type": "display_data"
    }
   ],
   "source": [
    "df.describe()"
   ]
  },
  {
   "cell_type": "code",
   "execution_count": 11,
   "metadata": {
    "collapsed": true
   },
   "outputs": [],
   "source": [
    "###: Listing all columns"
   ]
  },
  {
   "cell_type": "code",
   "execution_count": 12,
   "metadata": {},
   "outputs": [
    {
     "data": {
      "text/plain": [
       "[u'pclass',\n",
       " u'survived',\n",
       " u'name',\n",
       " u'sex',\n",
       " u'age',\n",
       " u'sibsp',\n",
       " u'parch',\n",
       " u'ticket',\n",
       " u'fare',\n",
       " u'cabin',\n",
       " u'embarked',\n",
       " u'boat',\n",
       " u'body',\n",
       " u'home.dest']"
      ]
     },
     "execution_count": 12,
     "metadata": {},
     "output_type": "execute_result"
    }
   ],
   "source": [
    "df.col_names"
   ]
  },
  {
   "cell_type": "code",
   "execution_count": 13,
   "metadata": {
    "collapsed": true
   },
   "outputs": [],
   "source": [
    "###: Setting response variable"
   ]
  },
  {
   "cell_type": "code",
   "execution_count": 14,
   "metadata": {
    "collapsed": true
   },
   "outputs": [],
   "source": [
    "response = \"survived\""
   ]
  },
  {
   "cell_type": "code",
   "execution_count": 15,
   "metadata": {
    "collapsed": true
   },
   "outputs": [],
   "source": [
    "###: Setting response variable to enum or categorical so we can build a classification model"
   ]
  },
  {
   "cell_type": "code",
   "execution_count": 16,
   "metadata": {
    "collapsed": true
   },
   "outputs": [],
   "source": [
    "df[response] = df[response].asfactor()"
   ]
  },
  {
   "cell_type": "code",
   "execution_count": 17,
   "metadata": {
    "collapsed": true
   },
   "outputs": [],
   "source": [
    "###: Spliting the dataset into train and test "
   ]
  },
  {
   "cell_type": "code",
   "execution_count": 18,
   "metadata": {
    "collapsed": true
   },
   "outputs": [],
   "source": [
    "train_df, test_df = df.split_frame(ratios=[0.9])"
   ]
  },
  {
   "cell_type": "code",
   "execution_count": 19,
   "metadata": {},
   "outputs": [
    {
     "name": "stdout",
     "output_type": "stream",
     "text": [
      "(1181, 14)\n",
      "(128, 14)\n"
     ]
    }
   ],
   "source": [
    "print(train_df.shape)\n",
    "print(test_df.shape)"
   ]
  },
  {
   "cell_type": "code",
   "execution_count": 20,
   "metadata": {
    "collapsed": true
   },
   "outputs": [],
   "source": [
    "###: Understanding Training dataset"
   ]
  },
  {
   "cell_type": "code",
   "execution_count": 21,
   "metadata": {},
   "outputs": [
    {
     "name": "stdout",
     "output_type": "stream",
     "text": [
      "Rows:1181\n",
      "Cols:14\n",
      "\n",
      "\n"
     ]
    },
    {
     "data": {
      "text/html": [
       "<table>\n",
       "<thead>\n",
       "<tr><th>       </th><th>pclass        </th><th>survived  </th><th>name                                             </th><th>sex   </th><th>age          </th><th>sibsp         </th><th>parch         </th><th>ticket       </th><th>fare         </th><th>cabin  </th><th>embarked  </th><th>boat         </th><th>body         </th><th>home.dest                      </th></tr>\n",
       "</thead>\n",
       "<tbody>\n",
       "<tr><td>type   </td><td>int           </td><td>enum      </td><td>string                                           </td><td>enum  </td><td>real         </td><td>int           </td><td>int           </td><td>int          </td><td>real         </td><td>enum   </td><td>enum      </td><td>int          </td><td>int          </td><td>enum                           </td></tr>\n",
       "<tr><td>mins   </td><td>1.0           </td><td>          </td><td>NaN                                              </td><td>      </td><td>0.3333       </td><td>0.0           </td><td>0.0           </td><td>680.0        </td><td>0.0          </td><td>       </td><td>          </td><td>1.0          </td><td>4.0          </td><td>                               </td></tr>\n",
       "<tr><td>mean   </td><td>2.29551227773 </td><td>          </td><td>NaN                                              </td><td>      </td><td>30.1659604873</td><td>0.490262489416</td><td>0.386113463167</td><td>248154.574566</td><td>33.3127326271</td><td>       </td><td>          </td><td>9.38309859155</td><td>163.785714286</td><td>                               </td></tr>\n",
       "<tr><td>maxs   </td><td>3.0           </td><td>          </td><td>NaN                                              </td><td>      </td><td>80.0         </td><td>8.0           </td><td>9.0           </td><td>3101298.0    </td><td>512.3292     </td><td>       </td><td>          </td><td>16.0         </td><td>328.0        </td><td>                               </td></tr>\n",
       "<tr><td>sigma  </td><td>0.839625731326</td><td>          </td><td>NaN                                              </td><td>      </td><td>14.5346236598</td><td>1.04684271827 </td><td>0.881991323988</td><td>430740.319342</td><td>52.1864077096</td><td>       </td><td>          </td><td>4.38535653665</td><td>98.3587319684</td><td>                               </td></tr>\n",
       "<tr><td>zeros  </td><td>0             </td><td>          </td><td>0                                                </td><td>      </td><td>0            </td><td>813           </td><td>907           </td><td>0            </td><td>14           </td><td>       </td><td>          </td><td>0            </td><td>0            </td><td>                               </td></tr>\n",
       "<tr><td>missing</td><td>0             </td><td>0         </td><td>0                                                </td><td>0     </td><td>237          </td><td>0             </td><td>0             </td><td>316          </td><td>1            </td><td>911    </td><td>2         </td><td>826          </td><td>1069         </td><td>512                            </td></tr>\n",
       "<tr><td>0      </td><td>1.0           </td><td>1         </td><td>Allen, Miss. Elisabeth Walton                    </td><td>female</td><td>29.0         </td><td>0.0           </td><td>0.0           </td><td>24160.0      </td><td>211.3375     </td><td>B5     </td><td>S         </td><td>2.0          </td><td>nan          </td><td>St Louis, MO                   </td></tr>\n",
       "<tr><td>1      </td><td>1.0           </td><td>1         </td><td>Allison, Master. Hudson Trevor                   </td><td>male  </td><td>0.9167       </td><td>1.0           </td><td>2.0           </td><td>113781.0     </td><td>151.55       </td><td>C22 C26</td><td>S         </td><td>11.0         </td><td>nan          </td><td>Montreal, PQ / Chesterville, ON</td></tr>\n",
       "<tr><td>2      </td><td>1.0           </td><td>0         </td><td>Allison, Miss. Helen Loraine                     </td><td>female</td><td>2.0          </td><td>1.0           </td><td>2.0           </td><td>113781.0     </td><td>151.55       </td><td>C22 C26</td><td>S         </td><td>nan          </td><td>nan          </td><td>Montreal, PQ / Chesterville, ON</td></tr>\n",
       "<tr><td>3      </td><td>1.0           </td><td>0         </td><td>Allison, Mrs. Hudson J C (Bessie Waldo Daniels)  </td><td>female</td><td>25.0         </td><td>1.0           </td><td>2.0           </td><td>113781.0     </td><td>151.55       </td><td>C22 C26</td><td>S         </td><td>nan          </td><td>nan          </td><td>Montreal, PQ / Chesterville, ON</td></tr>\n",
       "<tr><td>4      </td><td>1.0           </td><td>1         </td><td>Anderson, Mr. Harry                              </td><td>male  </td><td>48.0         </td><td>0.0           </td><td>0.0           </td><td>19952.0      </td><td>26.55        </td><td>E12    </td><td>S         </td><td>3.0          </td><td>nan          </td><td>New York, NY                   </td></tr>\n",
       "<tr><td>5      </td><td>1.0           </td><td>0         </td><td>Andrews, Mr. Thomas Jr                           </td><td>male  </td><td>39.0         </td><td>0.0           </td><td>0.0           </td><td>112050.0     </td><td>0.0          </td><td>A36    </td><td>S         </td><td>nan          </td><td>nan          </td><td>Belfast, NI                    </td></tr>\n",
       "<tr><td>6      </td><td>1.0           </td><td>1         </td><td>Appleton, Mrs. Edward Dale (Charlotte Lamson)    </td><td>female</td><td>53.0         </td><td>2.0           </td><td>0.0           </td><td>11769.0      </td><td>51.4792      </td><td>C101   </td><td>S         </td><td>nan          </td><td>nan          </td><td>Bayside, Queens, NY            </td></tr>\n",
       "<tr><td>7      </td><td>1.0           </td><td>0         </td><td>Artagaveytia, Mr. Ramon                          </td><td>male  </td><td>71.0         </td><td>0.0           </td><td>0.0           </td><td>nan          </td><td>49.5042      </td><td>       </td><td>C         </td><td>nan          </td><td>22.0         </td><td>Montevideo, Uruguay            </td></tr>\n",
       "<tr><td>8      </td><td>1.0           </td><td>0         </td><td>Astor, Col. John Jacob                           </td><td>male  </td><td>47.0         </td><td>1.0           </td><td>0.0           </td><td>nan          </td><td>227.525      </td><td>C62 C64</td><td>C         </td><td>nan          </td><td>124.0        </td><td>New York, NY                   </td></tr>\n",
       "<tr><td>9      </td><td>1.0           </td><td>1         </td><td>Astor, Mrs. John Jacob (Madeleine Talmadge Force)</td><td>female</td><td>18.0         </td><td>1.0           </td><td>0.0           </td><td>nan          </td><td>227.525      </td><td>C62 C64</td><td>C         </td><td>4.0          </td><td>nan          </td><td>New York, NY                   </td></tr>\n",
       "</tbody>\n",
       "</table>"
      ]
     },
     "metadata": {},
     "output_type": "display_data"
    }
   ],
   "source": [
    "train_df.describe()"
   ]
  },
  {
   "cell_type": "code",
   "execution_count": 22,
   "metadata": {
    "collapsed": true
   },
   "outputs": [],
   "source": [
    "###: Understanding Test dataset"
   ]
  },
  {
   "cell_type": "code",
   "execution_count": 23,
   "metadata": {},
   "outputs": [
    {
     "name": "stdout",
     "output_type": "stream",
     "text": [
      "Rows:128\n",
      "Cols:14\n",
      "\n",
      "\n"
     ]
    },
    {
     "data": {
      "text/html": [
       "<table>\n",
       "<thead>\n",
       "<tr><th>       </th><th>pclass        </th><th>survived  </th><th>name                                                   </th><th>sex   </th><th>age          </th><th>sibsp         </th><th>parch        </th><th>ticket       </th><th>fare         </th><th>cabin  </th><th>embarked  </th><th>boat         </th><th>body         </th><th>home.dest                      </th></tr>\n",
       "</thead>\n",
       "<tbody>\n",
       "<tr><td>type   </td><td>int           </td><td>enum      </td><td>string                                                 </td><td>enum  </td><td>real         </td><td>int           </td><td>int          </td><td>int          </td><td>real         </td><td>enum   </td><td>enum      </td><td>int          </td><td>int          </td><td>enum                           </td></tr>\n",
       "<tr><td>mins   </td><td>1.0           </td><td>          </td><td>NaN                                                    </td><td>      </td><td>0.1667       </td><td>0.0           </td><td>0.0          </td><td>2650.0       </td><td>0.0          </td><td>       </td><td>          </td><td>1.0          </td><td>1.0          </td><td>                               </td></tr>\n",
       "<tr><td>mean   </td><td>2.2890625     </td><td>          </td><td>NaN                                                    </td><td>      </td><td>27.2450980392</td><td>0.578125      </td><td>0.375        </td><td>257355.945652</td><td>33.136425    </td><td>       </td><td>          </td><td>9.58139534884</td><td>123.777777778</td><td>                               </td></tr>\n",
       "<tr><td>maxs   </td><td>3.0           </td><td>          </td><td>NaN                                                    </td><td>      </td><td>63.0         </td><td>5.0           </td><td>3.0          </td><td>3101295.0    </td><td>263.0        </td><td>       </td><td>          </td><td>16.0         </td><td>245.0        </td><td>                               </td></tr>\n",
       "<tr><td>sigma  </td><td>0.824357003066</td><td>          </td><td>NaN                                                    </td><td>      </td><td>13.0112650076</td><td>0.992962441107</td><td>0.69870521422</td><td>545071.795757</td><td>47.8254085738</td><td>       </td><td>          </td><td>4.16466175463</td><td>85.268367197 </td><td>                               </td></tr>\n",
       "<tr><td>zeros  </td><td>0             </td><td>          </td><td>0                                                      </td><td>      </td><td>0            </td><td>78            </td><td>95           </td><td>0            </td><td>3            </td><td>       </td><td>          </td><td>0            </td><td>0            </td><td>                               </td></tr>\n",
       "<tr><td>missing</td><td>0             </td><td>0         </td><td>0                                                      </td><td>0     </td><td>26           </td><td>0             </td><td>0            </td><td>36           </td><td>0            </td><td>103    </td><td>0         </td><td>85           </td><td>119          </td><td>52                             </td></tr>\n",
       "<tr><td>0      </td><td>1.0           </td><td>0         </td><td>Allison, Mr. Hudson Joshua Creighton                   </td><td>male  </td><td>30.0         </td><td>1.0           </td><td>2.0          </td><td>113781.0     </td><td>151.55       </td><td>C22 C26</td><td>S         </td><td>nan          </td><td>135.0        </td><td>Montreal, PQ / Chesterville, ON</td></tr>\n",
       "<tr><td>1      </td><td>1.0           </td><td>1         </td><td>Andrews, Miss. Kornelia Theodosia                      </td><td>female</td><td>63.0         </td><td>1.0           </td><td>0.0          </td><td>13502.0      </td><td>77.9583      </td><td>D7     </td><td>S         </td><td>10.0         </td><td>nan          </td><td>Hudson, NY                     </td></tr>\n",
       "<tr><td>2      </td><td>1.0           </td><td>1         </td><td>Bird, Miss. Ellen                                      </td><td>female</td><td>29.0         </td><td>0.0           </td><td>0.0          </td><td>nan          </td><td>221.7792     </td><td>C97    </td><td>S         </td><td>8.0          </td><td>nan          </td><td>                               </td></tr>\n",
       "<tr><td>3      </td><td>1.0           </td><td>0         </td><td>Butt, Major. Archibald Willingham                      </td><td>male  </td><td>45.0         </td><td>0.0           </td><td>0.0          </td><td>113050.0     </td><td>26.55        </td><td>B38    </td><td>S         </td><td>nan          </td><td>nan          </td><td>Washington, DC                 </td></tr>\n",
       "<tr><td>4      </td><td>1.0           </td><td>0         </td><td>Carrau, Mr. Jose Pedro                                 </td><td>male  </td><td>17.0         </td><td>0.0           </td><td>0.0          </td><td>113059.0     </td><td>47.1         </td><td>       </td><td>S         </td><td>nan          </td><td>nan          </td><td>Montevideo, Uruguay            </td></tr>\n",
       "<tr><td>5      </td><td>1.0           </td><td>1         </td><td>Carter, Miss. Lucile Polk                              </td><td>female</td><td>14.0         </td><td>1.0           </td><td>2.0          </td><td>113760.0     </td><td>120.0        </td><td>B96 B98</td><td>S         </td><td>4.0          </td><td>nan          </td><td>Bryn Mawr, PA                  </td></tr>\n",
       "<tr><td>6      </td><td>1.0           </td><td>0         </td><td>Cavendish, Mr. Tyrell William                          </td><td>male  </td><td>36.0         </td><td>1.0           </td><td>0.0          </td><td>19877.0      </td><td>78.85        </td><td>C46    </td><td>S         </td><td>nan          </td><td>172.0        </td><td>Little Onn Hall, Staffs        </td></tr>\n",
       "<tr><td>7      </td><td>1.0           </td><td>1         </td><td>Chaffee, Mrs. Herbert Fuller (Carrie Constance Toogood)</td><td>female</td><td>47.0         </td><td>1.0           </td><td>0.0          </td><td>nan          </td><td>61.175       </td><td>E31    </td><td>S         </td><td>4.0          </td><td>nan          </td><td>Amenia, ND                     </td></tr>\n",
       "<tr><td>8      </td><td>1.0           </td><td>1         </td><td>Chaudanson, Miss. Victorine                            </td><td>female</td><td>36.0         </td><td>0.0           </td><td>0.0          </td><td>nan          </td><td>262.375      </td><td>B61    </td><td>C         </td><td>4.0          </td><td>nan          </td><td>                               </td></tr>\n",
       "<tr><td>9      </td><td>1.0           </td><td>0         </td><td>Chisholm, Mr. Roderick Robert Crispin                  </td><td>male  </td><td>nan          </td><td>0.0           </td><td>0.0          </td><td>112051.0     </td><td>0.0          </td><td>       </td><td>S         </td><td>nan          </td><td>nan          </td><td>Liverpool, England / Belfast   </td></tr>\n",
       "</tbody>\n",
       "</table>"
      ]
     },
     "metadata": {},
     "output_type": "display_data"
    }
   ],
   "source": [
    "test_df.describe()"
   ]
  },
  {
   "cell_type": "code",
   "execution_count": 24,
   "metadata": {
    "collapsed": true
   },
   "outputs": [],
   "source": [
    "###: Training and test dataset - columns and rows details"
   ]
  },
  {
   "cell_type": "code",
   "execution_count": 25,
   "metadata": {},
   "outputs": [
    {
     "name": "stdout",
     "output_type": "stream",
     "text": [
      "(1181, 14)\n",
      "(128, 14)\n"
     ]
    }
   ],
   "source": [
    "print(train_df.shape)\n",
    "print(test_df.shape)"
   ]
  },
  {
   "cell_type": "code",
   "execution_count": 26,
   "metadata": {
    "collapsed": true
   },
   "outputs": [],
   "source": [
    "###: Training and Test Dataframes - columns names"
   ]
  },
  {
   "cell_type": "code",
   "execution_count": 27,
   "metadata": {},
   "outputs": [
    {
     "name": "stdout",
     "output_type": "stream",
     "text": [
      "[u'pclass', u'survived', u'name', u'sex', u'age', u'sibsp', u'parch', u'ticket', u'fare', u'cabin', u'embarked', u'boat', u'body', u'home.dest']\n",
      "[u'pclass', u'survived', u'name', u'sex', u'age', u'sibsp', u'parch', u'ticket', u'fare', u'cabin', u'embarked', u'boat', u'body', u'home.dest']\n"
     ]
    }
   ],
   "source": [
    "print(train_df.col_names)\n",
    "print(test_df.col_names)"
   ]
  },
  {
   "cell_type": "code",
   "execution_count": 28,
   "metadata": {
    "collapsed": true
   },
   "outputs": [],
   "source": [
    "###: Settings all features for supervised machine learning"
   ]
  },
  {
   "cell_type": "code",
   "execution_count": 29,
   "metadata": {},
   "outputs": [
    {
     "name": "stdout",
     "output_type": "stream",
     "text": [
      "[u'pclass', u'survived', u'name', u'sex', u'age', u'sibsp', u'parch', u'ticket', u'fare', u'cabin', u'embarked', u'boat', u'body', u'home.dest']\n"
     ]
    }
   ],
   "source": [
    "features = train_df.col_names\n",
    "print(features)"
   ]
  },
  {
   "cell_type": "code",
   "execution_count": 30,
   "metadata": {
    "collapsed": true
   },
   "outputs": [],
   "source": [
    "###: Creating a list of all features we will use for machine learning"
   ]
  },
  {
   "cell_type": "code",
   "execution_count": 31,
   "metadata": {},
   "outputs": [
    {
     "name": "stdout",
     "output_type": "stream",
     "text": [
      "[u'pclass', u'name', u'sex', u'age', u'sibsp', u'parch', u'ticket', u'fare', u'cabin', u'embarked', u'boat', u'body', u'home.dest']\n"
     ]
    }
   ],
   "source": [
    "features.remove(response)\n",
    "print(features)"
   ]
  },
  {
   "cell_type": "code",
   "execution_count": 32,
   "metadata": {
    "collapsed": true
   },
   "outputs": [],
   "source": [
    "###: Ignoring other features which are not needed for training"
   ]
  },
  {
   "cell_type": "code",
   "execution_count": 33,
   "metadata": {},
   "outputs": [
    {
     "name": "stdout",
     "output_type": "stream",
     "text": [
      "[u'pclass', u'sex', u'age', u'sibsp', u'parch', u'fare', u'cabin', u'embarked', u'boat', u'body']\n"
     ]
    }
   ],
   "source": [
    "for feature_name in ['name', 'ticket', 'home.dest']:\n",
    "    features.remove(feature_name)\n",
    "print(features)    "
   ]
  },
  {
   "cell_type": "code",
   "execution_count": 34,
   "metadata": {
    "collapsed": true
   },
   "outputs": [],
   "source": [
    "###: Understanding response variable values as historgram in Training data"
   ]
  },
  {
   "cell_type": "code",
   "execution_count": 35,
   "metadata": {},
   "outputs": [
    {
     "data": {
      "image/png": "[encoded data removed]",
      "text/plain": [
       "<matplotlib.figure.Figure at 0x10e192d50>"
      ]
     },
     "metadata": {},
     "output_type": "display_data"
    }
   ],
   "source": [
    "train_df[response].asnumeric().hist()"
   ]
  },
  {
   "cell_type": "code",
   "execution_count": 36,
   "metadata": {
    "collapsed": true
   },
   "outputs": [],
   "source": [
    "###: Importing H2O H2OGradientBoostingEstimator to build GBM Model"
   ]
  },
  {
   "cell_type": "code",
   "execution_count": 37,
   "metadata": {
    "collapsed": true
   },
   "outputs": [],
   "source": [
    "from h2o.estimators.gbm import H2OGradientBoostingEstimator"
   ]
  },
  {
   "cell_type": "code",
   "execution_count": 38,
   "metadata": {
    "collapsed": true
   },
   "outputs": [],
   "source": [
    "###:Building Gradient Boosting (GBM) -  Classification model with cross validation"
   ]
  },
  {
   "cell_type": "code",
   "execution_count": 39,
   "metadata": {
    "collapsed": true
   },
   "outputs": [],
   "source": [
    "gbm_model_with_cv = H2OGradientBoostingEstimator(nfolds=5)"
   ]
  },
  {
   "cell_type": "code",
   "execution_count": 40,
   "metadata": {
    "collapsed": true
   },
   "outputs": [],
   "source": [
    "###: Training the model"
   ]
  },
  {
   "cell_type": "code",
   "execution_count": 41,
   "metadata": {},
   "outputs": [
    {
     "name": "stdout",
     "output_type": "stream",
     "text": [
      "gbm Model Build progress: |███████████████████████████████████████████████| 100%\n"
     ]
    }
   ],
   "source": [
    "gbm_model_with_cv.train(x = features, y = response, training_frame=train_df)"
   ]
  },
  {
   "cell_type": "code",
   "execution_count": 42,
   "metadata": {
    "collapsed": true
   },
   "outputs": [],
   "source": [
    "###: Getting model performance"
   ]
  },
  {
   "cell_type": "code",
   "execution_count": 43,
   "metadata": {},
   "outputs": [
    {
     "data": {
      "text/plain": [
       "0.9679908906882592"
      ]
     },
     "execution_count": 43,
     "metadata": {},
     "output_type": "execute_result"
    }
   ],
   "source": [
    "gbm_model_with_cv.model_performance(valid=True,test_data=test_df).auc()"
   ]
  },
  {
   "cell_type": "code",
   "execution_count": 44,
   "metadata": {
    "collapsed": true
   },
   "outputs": [],
   "source": [
    "###:Building GBM classification model with cross validation and key GBM parameters configuration"
   ]
  },
  {
   "cell_type": "code",
   "execution_count": 45,
   "metadata": {
    "collapsed": true
   },
   "outputs": [],
   "source": [
    "gbm_model_cv_config = H2OGradientBoostingEstimator(nfolds=5,\n",
    "                                                    keep_cross_validation_predictions=True,\n",
    "                                                    fold_assignment=\"auto\",\n",
    "                                                    seed=12345)"
   ]
  },
  {
   "cell_type": "code",
   "execution_count": 46,
   "metadata": {
    "collapsed": true
   },
   "outputs": [],
   "source": [
    "###: Training GBM Model"
   ]
  },
  {
   "cell_type": "code",
   "execution_count": 47,
   "metadata": {},
   "outputs": [
    {
     "name": "stdout",
     "output_type": "stream",
     "text": [
      "gbm Model Build progress: |███████████████████████████████████████████████| 100%\n"
     ]
    }
   ],
   "source": [
    "gbm_model_cv_config.train(x = features, y = response, \n",
    "                                            training_frame=train_df, \n",
    "                                           model_id = \"gbm_model_with_training_and_validtion_python\")"
   ]
  },
  {
   "cell_type": "code",
   "execution_count": 48,
   "metadata": {
    "collapsed": true
   },
   "outputs": [],
   "source": [
    "###: Getting GBM model performance on test data"
   ]
  },
  {
   "cell_type": "code",
   "execution_count": 49,
   "metadata": {},
   "outputs": [
    {
     "data": {
      "text/plain": [
       "0.9679908906882592"
      ]
     },
     "execution_count": 49,
     "metadata": {},
     "output_type": "execute_result"
    }
   ],
   "source": [
    "gbm_model_cv_config.model_performance(valid=True,test_data=test_df).auc()"
   ]
  },
  {
   "cell_type": "code",
   "execution_count": 50,
   "metadata": {
    "collapsed": true
   },
   "outputs": [],
   "source": [
    "###: Importing H2O Grid Library"
   ]
  },
  {
   "cell_type": "code",
   "execution_count": 51,
   "metadata": {
    "collapsed": true
   },
   "outputs": [],
   "source": [
    "from h2o.grid import H2OGridSearch"
   ]
  },
  {
   "cell_type": "code",
   "execution_count": 52,
   "metadata": {
    "collapsed": true
   },
   "outputs": [],
   "source": [
    "###: Settings GBM grid parameters"
   ]
  },
  {
   "cell_type": "code",
   "execution_count": 53,
   "metadata": {
    "collapsed": true
   },
   "outputs": [],
   "source": [
    "gbm_hyper_params = {\"learn_rate\": [0.01, 0.05, 0.1, 0.2, 0.5, 1.0],\n",
    "                \"max_depth\": [ 5, 7, 10],\n",
    "                \"sample_rate\": [0.5, 0.75, 1.0],\n",
    "                \"col_sample_rate\": [0.5, 0.6, 0.7, 0.8]}"
   ]
  },
  {
   "cell_type": "code",
   "execution_count": 54,
   "metadata": {
    "collapsed": true
   },
   "outputs": [],
   "source": [
    "###: Setting H2O Grid Search Criteria"
   ]
  },
  {
   "cell_type": "code",
   "execution_count": 55,
   "metadata": {
    "collapsed": true
   },
   "outputs": [],
   "source": [
    "grid_search_criteria = { 'strategy': \"RandomDiscrete\", \n",
    "                    'seed': 123,\n",
    "                    'stopping_metric': \"AUTO\", \n",
    "                    'stopping_tolerance': 0.01,\n",
    "                    'stopping_rounds': 5 }"
   ]
  },
  {
   "cell_type": "code",
   "execution_count": 56,
   "metadata": {
    "collapsed": true
   },
   "outputs": [],
   "source": [
    "###: Finalzing the H2O Grid searching settings"
   ]
  },
  {
   "cell_type": "code",
   "execution_count": 60,
   "metadata": {
    "collapsed": true
   },
   "outputs": [],
   "source": [
    "gbm_grid = H2OGridSearch(model=H2OGradientBoostingEstimator(\n",
    "                                                    nfolds=5,\n",
    "                                                    keep_cross_validation_predictions=True,\n",
    "                                                    fold_assignment=\"auto\",\n",
    "                                                    seed=12345),\n",
    "                     hyper_params=gbm_hyper_params,\n",
    "                     search_criteria=grid_search_criteria,\n",
    "                     grid_id=\"titnaic_gbm_grid_python\")"
   ]
  },
  {
   "cell_type": "code",
   "execution_count": 61,
   "metadata": {
    "collapsed": true
   },
   "outputs": [],
   "source": [
    "###: Finally training H2O Grid with data "
   ]
  },
  {
   "cell_type": "code",
   "execution_count": 62,
   "metadata": {},
   "outputs": [
    {
     "name": "stdout",
     "output_type": "stream",
     "text": [
      "gbm Grid Build progress: |████████████████████████████████████████████████| 100%\n"
     ]
    }
   ],
   "source": [
    "gbm_grid.train(x=features, y=response, training_frame=train_df)"
   ]
  },
  {
   "cell_type": "code",
   "execution_count": null,
   "metadata": {
    "collapsed": true
   },
   "outputs": [],
   "source": [
    "###: Finally getting total count of GBM models"
   ]
  },
  {
   "cell_type": "code",
   "execution_count": null,
   "metadata": {},
   "outputs": [],
   "source": [
    "len(gbm_grid)"
   ]
  },
  {
   "cell_type": "code",
   "execution_count": null,
   "metadata": {
    "collapsed": true
   },
   "outputs": [],
   "source": [
    "###: Defining a function to find the best model from the grid based on r2 or auc"
   ]
  },
  {
   "cell_type": "code",
   "execution_count": null,
   "metadata": {
    "collapsed": true
   },
   "outputs": [],
   "source": [
    "def find_best_model_from_grid(h2o_grid, test_parameter):    \n",
    "    model_list = []\n",
    "    for grid_item in h2o_grid:\n",
    "        if test_parameter is \"r2\":\n",
    "            if not (grid_item.r2() == \"NaN\"):\n",
    "                model_list.append(grid_item.r2())\n",
    "            else:\n",
    "                model_list.append(0.0)            \n",
    "        elif test_parameter is \"auc\":\n",
    "            if not (grid_item.auc() == \"NaN\"):\n",
    "                model_list.append(grid_item.auc())\n",
    "            else:\n",
    "                model_list.append(0.0)            \n",
    "    #print(model_list)        \n",
    "    max_index = model_list.index(max(model_list))\n",
    "    #print(max_index)\n",
    "    best_model = h2o_grid[max_index]\n",
    "    print(\"Model ID with best R2: \" +  best_model.model_id)\n",
    "    if test_parameter is \"r2\":\n",
    "        print(\"Best R2: \" +  str(best_model.r2()))\n",
    "    elif test_parameter is \"auc\":\n",
    "        print(\"Best AUC: \" +  str(best_model.auc()))\n",
    "    return best_model"
   ]
  },
  {
   "cell_type": "code",
   "execution_count": null,
   "metadata": {
    "collapsed": true
   },
   "outputs": [],
   "source": [
    "###: Applying the function to get the best model from the grid"
   ]
  },
  {
   "cell_type": "code",
   "execution_count": null,
   "metadata": {},
   "outputs": [],
   "source": [
    "best_model = find_best_model_from_grid(gbm_grid, \"auc\")"
   ]
  },
  {
   "cell_type": "code",
   "execution_count": null,
   "metadata": {
    "collapsed": true
   },
   "outputs": [],
   "source": [
    "###: Getting the best model performance on test data"
   ]
  },
  {
   "cell_type": "code",
   "execution_count": null,
   "metadata": {},
   "outputs": [],
   "source": [
    "best_model.model_performance(valid=True,test_data=test_df).auc()"
   ]
  },
  {
   "cell_type": "code",
   "execution_count": null,
   "metadata": {
    "collapsed": true
   },
   "outputs": [],
   "source": [
    "###: Performing predictions with one of the above model"
   ]
  },
  {
   "cell_type": "code",
   "execution_count": null,
   "metadata": {},
   "outputs": [],
   "source": [
    "gbm_predictions = best_model.predict(test_df)"
   ]
  },
  {
   "cell_type": "code",
   "execution_count": null,
   "metadata": {},
   "outputs": [],
   "source": [
    "gbm_predictions"
   ]
  },
  {
   "cell_type": "code",
   "execution_count": null,
   "metadata": {
    "collapsed": true
   },
   "outputs": [],
   "source": [
    "###: Understanding/Validating predictions based on prediction results historgram"
   ]
  },
  {
   "cell_type": "code",
   "execution_count": null,
   "metadata": {},
   "outputs": [],
   "source": [
    "gbm_predictions['predict'].asnumeric().hist()"
   ]
  },
  {
   "cell_type": "code",
   "execution_count": null,
   "metadata": {
    "collapsed": true
   },
   "outputs": [],
   "source": [
    "###: Getting Scorring History"
   ]
  },
  {
   "cell_type": "code",
   "execution_count": null,
   "metadata": {},
   "outputs": [],
   "source": [
    "best_model.scoring_history()"
   ]
  },
  {
   "cell_type": "code",
   "execution_count": null,
   "metadata": {
    "collapsed": true
   },
   "outputs": [],
   "source": [
    "###: Getting GBM model variable importance "
   ]
  },
  {
   "cell_type": "code",
   "execution_count": null,
   "metadata": {},
   "outputs": [],
   "source": [
    "best_model.varimp()"
   ]
  },
  {
   "cell_type": "code",
   "execution_count": null,
   "metadata": {
    "collapsed": true
   },
   "outputs": [],
   "source": [
    "###: Getting model variable importance PLOT"
   ]
  },
  {
   "cell_type": "code",
   "execution_count": null,
   "metadata": {},
   "outputs": [],
   "source": [
    "best_model.varimp_plot()"
   ]
  },
  {
   "cell_type": "code",
   "execution_count": null,
   "metadata": {
    "collapsed": true
   },
   "outputs": [],
   "source": []
  }
 ],
 "metadata": {
  "kernelspec": {
   "display_name": "Python 2",
   "language": "python",
   "name": "python2"
  },
  "language_info": {
   "codemirror_mode": {
    "name": "ipython",
    "version": 2
   },
   "file_extension": ".py",
   "mimetype": "text/x-python",
   "name": "python",
   "nbconvert_exporter": "python",
   "pygments_lexer": "ipython2",
   "version": "2.7.13"
  }
 },
 "nbformat": 4,
 "nbformat_minor": 2
}
