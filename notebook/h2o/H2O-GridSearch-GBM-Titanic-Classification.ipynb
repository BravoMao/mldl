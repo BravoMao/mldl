{
 "cells": [
  {
   "cell_type": "code",
   "execution_count": 1,
   "metadata": {
    "collapsed": true
   },
   "outputs": [],
   "source": [
    "###: Loading H2O Library"
   ]
  },
  {
   "cell_type": "code",
   "execution_count": 2,
   "metadata": {
    "collapsed": true
   },
   "outputs": [],
   "source": [
    "import h2o"
   ]
  },
  {
   "cell_type": "code",
   "execution_count": 3,
   "metadata": {
    "collapsed": true
   },
   "outputs": [],
   "source": [
    "###: Get H2O Version"
   ]
  },
  {
   "cell_type": "code",
   "execution_count": 4,
   "metadata": {},
   "outputs": [
    {
     "data": {
      "text/plain": [
       "u'3.14.0.7'"
      ]
     },
     "execution_count": 4,
     "metadata": {},
     "output_type": "execute_result"
    }
   ],
   "source": [
    "h2o.__version__"
   ]
  },
  {
   "cell_type": "code",
   "execution_count": 5,
   "metadata": {
    "collapsed": true
   },
   "outputs": [],
   "source": [
    "###: Initalizing H2O cluster"
   ]
  },
  {
   "cell_type": "code",
   "execution_count": 6,
   "metadata": {},
   "outputs": [
    {
     "name": "stderr",
     "output_type": "stream",
     "text": [
      "ERROR:h2o:Key init.version_check is not a valid config key\n"
     ]
    },
    {
     "name": "stdout",
     "output_type": "stream",
     "text": [
      "Checking whether there is an H2O instance running at http://localhost:54321. connected.\n"
     ]
    },
    {
     "data": {
      "text/html": [
       "<div style=\"overflow:auto\"><table style=\"width:50%\"><tr><td>H2O cluster uptime:</td>\n",
       "<td>2 days 4 hours 41 mins</td></tr>\n",
       "<tr><td>H2O cluster version:</td>\n",
       "<td>3.14.0.7</td></tr>\n",
       "<tr><td>H2O cluster version age:</td>\n",
       "<td>1 month and 2 days </td></tr>\n",
       "<tr><td>H2O cluster name:</td>\n",
       "<td>H2O_from_python_avkashchauhan_d7ekmq</td></tr>\n",
       "<tr><td>H2O cluster total nodes:</td>\n",
       "<td>1</td></tr>\n",
       "<tr><td>H2O cluster free memory:</td>\n",
       "<td>2.578 Gb</td></tr>\n",
       "<tr><td>H2O cluster total cores:</td>\n",
       "<td>8</td></tr>\n",
       "<tr><td>H2O cluster allowed cores:</td>\n",
       "<td>8</td></tr>\n",
       "<tr><td>H2O cluster status:</td>\n",
       "<td>locked, healthy</td></tr>\n",
       "<tr><td>H2O connection url:</td>\n",
       "<td>http://localhost:54321</td></tr>\n",
       "<tr><td>H2O connection proxy:</td>\n",
       "<td>None</td></tr>\n",
       "<tr><td>H2O internal security:</td>\n",
       "<td>False</td></tr>\n",
       "<tr><td>H2O API Extensions:</td>\n",
       "<td>XGBoost, Algos, AutoML, Core V3, Core V4</td></tr>\n",
       "<tr><td>Python version:</td>\n",
       "<td>2.7.13 final</td></tr></table></div>"
      ],
      "text/plain": [
       "--------------------------  ----------------------------------------\n",
       "H2O cluster uptime:         2 days 4 hours 41 mins\n",
       "H2O cluster version:        3.14.0.7\n",
       "H2O cluster version age:    1 month and 2 days\n",
       "H2O cluster name:           H2O_from_python_avkashchauhan_d7ekmq\n",
       "H2O cluster total nodes:    1\n",
       "H2O cluster free memory:    2.578 Gb\n",
       "H2O cluster total cores:    8\n",
       "H2O cluster allowed cores:  8\n",
       "H2O cluster status:         locked, healthy\n",
       "H2O connection url:         http://localhost:54321\n",
       "H2O connection proxy:\n",
       "H2O internal security:      False\n",
       "H2O API Extensions:         XGBoost, Algos, AutoML, Core V3, Core V4\n",
       "Python version:             2.7.13 final\n",
       "--------------------------  ----------------------------------------"
      ]
     },
     "metadata": {},
     "output_type": "display_data"
    }
   ],
   "source": [
    "h2o.init()"
   ]
  },
  {
   "cell_type": "code",
   "execution_count": 7,
   "metadata": {
    "collapsed": true
   },
   "outputs": [],
   "source": [
    "###: Importing both training and test dataset into H2O cluster memory"
   ]
  },
  {
   "cell_type": "code",
   "execution_count": 8,
   "metadata": {},
   "outputs": [
    {
     "name": "stdout",
     "output_type": "stream",
     "text": [
      "Parse progress: |█████████████████████████████████████████████████████████| 100%\n"
     ]
    }
   ],
   "source": [
    "df = h2o.import_file(\"https://raw.githubusercontent.com/Avkash/mldl/master/data/titanic_list.csv\")"
   ]
  },
  {
   "cell_type": "code",
   "execution_count": 9,
   "metadata": {
    "collapsed": true
   },
   "outputs": [],
   "source": [
    "### Understanding the dataset"
   ]
  },
  {
   "cell_type": "code",
   "execution_count": 10,
   "metadata": {},
   "outputs": [
    {
     "name": "stdout",
     "output_type": "stream",
     "text": [
      "Rows:1309\n",
      "Cols:14\n",
      "\n",
      "\n"
     ]
    },
    {
     "data": {
      "text/html": [
       "<table>\n",
       "<thead>\n",
       "<tr><th>       </th><th>pclass       </th><th>survived      </th><th>name                                           </th><th>sex   </th><th>age          </th><th>sibsp         </th><th>parch         </th><th>ticket       </th><th>fare         </th><th>cabin  </th><th>embarked  </th><th>boat         </th><th>body         </th><th>home.dest                      </th></tr>\n",
       "</thead>\n",
       "<tbody>\n",
       "<tr><td>type   </td><td>int          </td><td>int           </td><td>string                                         </td><td>enum  </td><td>real         </td><td>int           </td><td>int           </td><td>int          </td><td>real         </td><td>enum   </td><td>enum      </td><td>int          </td><td>int          </td><td>enum                           </td></tr>\n",
       "<tr><td>mins   </td><td>1.0          </td><td>0.0           </td><td>NaN                                            </td><td>      </td><td>0.1667       </td><td>0.0           </td><td>0.0           </td><td>680.0        </td><td>0.0          </td><td>       </td><td>          </td><td>1.0          </td><td>1.0          </td><td>                               </td></tr>\n",
       "<tr><td>mean   </td><td>2.294881589  </td><td>0.381970970206</td><td>NaN                                            </td><td>      </td><td>29.8811345124</td><td>0.498854087089</td><td>0.385026737968</td><td>249039.136886</td><td>33.2954792813</td><td>       </td><td>          </td><td>9.40452261307</td><td>160.809917355</td><td>                               </td></tr>\n",
       "<tr><td>maxs   </td><td>3.0          </td><td>1.0           </td><td>NaN                                            </td><td>      </td><td>80.0         </td><td>8.0           </td><td>9.0           </td><td>3101298.0    </td><td>512.3292     </td><td>       </td><td>          </td><td>16.0         </td><td>328.0        </td><td>                               </td></tr>\n",
       "<tr><td>sigma  </td><td>0.83783601897</td><td>0.486055170866</td><td>NaN                                            </td><td>      </td><td>14.4134996999</td><td>1.0416583906  </td><td>0.86556027535 </td><td>442685.317677</td><td>51.7586682392</td><td>       </td><td>          </td><td>4.3574169836 </td><td>97.696921996 </td><td>                               </td></tr>\n",
       "<tr><td>zeros  </td><td>0            </td><td>809           </td><td>0                                              </td><td>      </td><td>0            </td><td>891           </td><td>1002          </td><td>0            </td><td>17           </td><td>       </td><td>          </td><td>0            </td><td>0            </td><td>                               </td></tr>\n",
       "<tr><td>missing</td><td>0            </td><td>0             </td><td>0                                              </td><td>0     </td><td>263          </td><td>0             </td><td>0             </td><td>352          </td><td>1            </td><td>1014   </td><td>2         </td><td>911          </td><td>1188         </td><td>564                            </td></tr>\n",
       "<tr><td>0      </td><td>1.0          </td><td>1.0           </td><td>Allen, Miss. Elisabeth Walton                  </td><td>female</td><td>29.0         </td><td>0.0           </td><td>0.0           </td><td>24160.0      </td><td>211.3375     </td><td>B5     </td><td>S         </td><td>2.0          </td><td>nan          </td><td>St Louis, MO                   </td></tr>\n",
       "<tr><td>1      </td><td>1.0          </td><td>1.0           </td><td>Allison, Master. Hudson Trevor                 </td><td>male  </td><td>0.9167       </td><td>1.0           </td><td>2.0           </td><td>113781.0     </td><td>151.55       </td><td>C22 C26</td><td>S         </td><td>11.0         </td><td>nan          </td><td>Montreal, PQ / Chesterville, ON</td></tr>\n",
       "<tr><td>2      </td><td>1.0          </td><td>0.0           </td><td>Allison, Miss. Helen Loraine                   </td><td>female</td><td>2.0          </td><td>1.0           </td><td>2.0           </td><td>113781.0     </td><td>151.55       </td><td>C22 C26</td><td>S         </td><td>nan          </td><td>nan          </td><td>Montreal, PQ / Chesterville, ON</td></tr>\n",
       "<tr><td>3      </td><td>1.0          </td><td>0.0           </td><td>Allison, Mr. Hudson Joshua Creighton           </td><td>male  </td><td>30.0         </td><td>1.0           </td><td>2.0           </td><td>113781.0     </td><td>151.55       </td><td>C22 C26</td><td>S         </td><td>nan          </td><td>135.0        </td><td>Montreal, PQ / Chesterville, ON</td></tr>\n",
       "<tr><td>4      </td><td>1.0          </td><td>0.0           </td><td>Allison, Mrs. Hudson J C (Bessie Waldo Daniels)</td><td>female</td><td>25.0         </td><td>1.0           </td><td>2.0           </td><td>113781.0     </td><td>151.55       </td><td>C22 C26</td><td>S         </td><td>nan          </td><td>nan          </td><td>Montreal, PQ / Chesterville, ON</td></tr>\n",
       "<tr><td>5      </td><td>1.0          </td><td>1.0           </td><td>Anderson, Mr. Harry                            </td><td>male  </td><td>48.0         </td><td>0.0           </td><td>0.0           </td><td>19952.0      </td><td>26.55        </td><td>E12    </td><td>S         </td><td>3.0          </td><td>nan          </td><td>New York, NY                   </td></tr>\n",
       "<tr><td>6      </td><td>1.0          </td><td>1.0           </td><td>Andrews, Miss. Kornelia Theodosia              </td><td>female</td><td>63.0         </td><td>1.0           </td><td>0.0           </td><td>13502.0      </td><td>77.9583      </td><td>D7     </td><td>S         </td><td>10.0         </td><td>nan          </td><td>Hudson, NY                     </td></tr>\n",
       "<tr><td>7      </td><td>1.0          </td><td>0.0           </td><td>Andrews, Mr. Thomas Jr                         </td><td>male  </td><td>39.0         </td><td>0.0           </td><td>0.0           </td><td>112050.0     </td><td>0.0          </td><td>A36    </td><td>S         </td><td>nan          </td><td>nan          </td><td>Belfast, NI                    </td></tr>\n",
       "<tr><td>8      </td><td>1.0          </td><td>1.0           </td><td>Appleton, Mrs. Edward Dale (Charlotte Lamson)  </td><td>female</td><td>53.0         </td><td>2.0           </td><td>0.0           </td><td>11769.0      </td><td>51.4792      </td><td>C101   </td><td>S         </td><td>nan          </td><td>nan          </td><td>Bayside, Queens, NY            </td></tr>\n",
       "<tr><td>9      </td><td>1.0          </td><td>0.0           </td><td>Artagaveytia, Mr. Ramon                        </td><td>male  </td><td>71.0         </td><td>0.0           </td><td>0.0           </td><td>nan          </td><td>49.5042      </td><td>       </td><td>C         </td><td>nan          </td><td>22.0         </td><td>Montevideo, Uruguay            </td></tr>\n",
       "</tbody>\n",
       "</table>"
      ]
     },
     "metadata": {},
     "output_type": "display_data"
    }
   ],
   "source": [
    "df.describe()"
   ]
  },
  {
   "cell_type": "code",
   "execution_count": 11,
   "metadata": {
    "collapsed": true
   },
   "outputs": [],
   "source": [
    "###: Listing all columns"
   ]
  },
  {
   "cell_type": "code",
   "execution_count": 12,
   "metadata": {},
   "outputs": [
    {
     "data": {
      "text/plain": [
       "[u'pclass',\n",
       " u'survived',\n",
       " u'name',\n",
       " u'sex',\n",
       " u'age',\n",
       " u'sibsp',\n",
       " u'parch',\n",
       " u'ticket',\n",
       " u'fare',\n",
       " u'cabin',\n",
       " u'embarked',\n",
       " u'boat',\n",
       " u'body',\n",
       " u'home.dest']"
      ]
     },
     "execution_count": 12,
     "metadata": {},
     "output_type": "execute_result"
    }
   ],
   "source": [
    "df.col_names"
   ]
  },
  {
   "cell_type": "code",
   "execution_count": 13,
   "metadata": {
    "collapsed": true
   },
   "outputs": [],
   "source": [
    "###: Setting response variable"
   ]
  },
  {
   "cell_type": "code",
   "execution_count": 14,
   "metadata": {
    "collapsed": true
   },
   "outputs": [],
   "source": [
    "response = \"survived\""
   ]
  },
  {
   "cell_type": "code",
   "execution_count": 15,
   "metadata": {
    "collapsed": true
   },
   "outputs": [],
   "source": [
    "###: Setting response variable to enum or categorical so we can build a classification model"
   ]
  },
  {
   "cell_type": "code",
   "execution_count": 16,
   "metadata": {
    "collapsed": true
   },
   "outputs": [],
   "source": [
    "df[response] = df[response].asfactor()"
   ]
  },
  {
   "cell_type": "code",
   "execution_count": 17,
   "metadata": {
    "collapsed": true
   },
   "outputs": [],
   "source": [
    "###: Spliting the dataset into train and test "
   ]
  },
  {
   "cell_type": "code",
   "execution_count": 18,
   "metadata": {
    "collapsed": true
   },
   "outputs": [],
   "source": [
    "train_df, test_df = df.split_frame(ratios=[0.9])"
   ]
  },
  {
   "cell_type": "code",
   "execution_count": 19,
   "metadata": {},
   "outputs": [
    {
     "name": "stdout",
     "output_type": "stream",
     "text": [
      "(1180, 14)\n",
      "(129, 14)\n"
     ]
    }
   ],
   "source": [
    "print(train_df.shape)\n",
    "print(test_df.shape)"
   ]
  },
  {
   "cell_type": "code",
   "execution_count": 20,
   "metadata": {
    "collapsed": true
   },
   "outputs": [],
   "source": [
    "###: Understanding Training dataset"
   ]
  },
  {
   "cell_type": "code",
   "execution_count": 21,
   "metadata": {},
   "outputs": [
    {
     "name": "stdout",
     "output_type": "stream",
     "text": [
      "Rows:1180\n",
      "Cols:14\n",
      "\n",
      "\n"
     ]
    },
    {
     "data": {
      "text/html": [
       "<table>\n",
       "<thead>\n",
       "<tr><th>       </th><th>pclass        </th><th>survived  </th><th>name                                           </th><th>sex   </th><th>age          </th><th>sibsp         </th><th>parch         </th><th>ticket       </th><th>fare         </th><th>cabin  </th><th>embarked  </th><th>boat         </th><th>body         </th><th>home.dest                      </th></tr>\n",
       "</thead>\n",
       "<tbody>\n",
       "<tr><td>type   </td><td>int           </td><td>enum      </td><td>string                                         </td><td>enum  </td><td>real         </td><td>int           </td><td>int           </td><td>int          </td><td>real         </td><td>enum   </td><td>enum      </td><td>int          </td><td>int          </td><td>enum                           </td></tr>\n",
       "<tr><td>mins   </td><td>1.0           </td><td>          </td><td>NaN                                            </td><td>      </td><td>0.1667       </td><td>0.0           </td><td>0.0           </td><td>680.0        </td><td>0.0          </td><td>       </td><td>          </td><td>1.0          </td><td>1.0          </td><td>                               </td></tr>\n",
       "<tr><td>mean   </td><td>2.29661016949 </td><td>          </td><td>NaN                                            </td><td>      </td><td>29.8622502629</td><td>0.490677966102</td><td>0.396610169492</td><td>253096.063232</td><td>33.480837659 </td><td>       </td><td>          </td><td>9.46260387812</td><td>160.6        </td><td>                               </td></tr>\n",
       "<tr><td>maxs   </td><td>3.0           </td><td>          </td><td>NaN                                            </td><td>      </td><td>80.0         </td><td>8.0           </td><td>9.0           </td><td>3101298.0    </td><td>512.3292     </td><td>       </td><td>          </td><td>16.0         </td><td>328.0        </td><td>                               </td></tr>\n",
       "<tr><td>sigma  </td><td>0.838121835369</td><td>          </td><td>NaN                                            </td><td>      </td><td>14.5459152756</td><td>1.0159447475  </td><td>0.888330929957</td><td>454937.541905</td><td>52.4386308346</td><td>       </td><td>          </td><td>4.34285657154</td><td>99.1880060817</td><td>                               </td></tr>\n",
       "<tr><td>zeros  </td><td>0             </td><td>          </td><td>0                                              </td><td>      </td><td>0            </td><td>803           </td><td>898           </td><td>0            </td><td>16           </td><td>       </td><td>          </td><td>0            </td><td>0            </td><td>                               </td></tr>\n",
       "<tr><td>missing</td><td>0             </td><td>0         </td><td>0                                              </td><td>0     </td><td>229          </td><td>0             </td><td>0             </td><td>326          </td><td>1            </td><td>911    </td><td>1         </td><td>819          </td><td>1070         </td><td>506                            </td></tr>\n",
       "<tr><td>0      </td><td>1.0           </td><td>1         </td><td>Allen, Miss. Elisabeth Walton                  </td><td>female</td><td>29.0         </td><td>0.0           </td><td>0.0           </td><td>24160.0      </td><td>211.3375     </td><td>B5     </td><td>S         </td><td>2.0          </td><td>nan          </td><td>St Louis, MO                   </td></tr>\n",
       "<tr><td>1      </td><td>1.0           </td><td>1         </td><td>Allison, Master. Hudson Trevor                 </td><td>male  </td><td>0.9167       </td><td>1.0           </td><td>2.0           </td><td>113781.0     </td><td>151.55       </td><td>C22 C26</td><td>S         </td><td>11.0         </td><td>nan          </td><td>Montreal, PQ / Chesterville, ON</td></tr>\n",
       "<tr><td>2      </td><td>1.0           </td><td>0         </td><td>Allison, Miss. Helen Loraine                   </td><td>female</td><td>2.0          </td><td>1.0           </td><td>2.0           </td><td>113781.0     </td><td>151.55       </td><td>C22 C26</td><td>S         </td><td>nan          </td><td>nan          </td><td>Montreal, PQ / Chesterville, ON</td></tr>\n",
       "<tr><td>3      </td><td>1.0           </td><td>0         </td><td>Allison, Mr. Hudson Joshua Creighton           </td><td>male  </td><td>30.0         </td><td>1.0           </td><td>2.0           </td><td>113781.0     </td><td>151.55       </td><td>C22 C26</td><td>S         </td><td>nan          </td><td>135.0        </td><td>Montreal, PQ / Chesterville, ON</td></tr>\n",
       "<tr><td>4      </td><td>1.0           </td><td>0         </td><td>Allison, Mrs. Hudson J C (Bessie Waldo Daniels)</td><td>female</td><td>25.0         </td><td>1.0           </td><td>2.0           </td><td>113781.0     </td><td>151.55       </td><td>C22 C26</td><td>S         </td><td>nan          </td><td>nan          </td><td>Montreal, PQ / Chesterville, ON</td></tr>\n",
       "<tr><td>5      </td><td>1.0           </td><td>1         </td><td>Anderson, Mr. Harry                            </td><td>male  </td><td>48.0         </td><td>0.0           </td><td>0.0           </td><td>19952.0      </td><td>26.55        </td><td>E12    </td><td>S         </td><td>3.0          </td><td>nan          </td><td>New York, NY                   </td></tr>\n",
       "<tr><td>6      </td><td>1.0           </td><td>1         </td><td>Andrews, Miss. Kornelia Theodosia              </td><td>female</td><td>63.0         </td><td>1.0           </td><td>0.0           </td><td>13502.0      </td><td>77.9583      </td><td>D7     </td><td>S         </td><td>10.0         </td><td>nan          </td><td>Hudson, NY                     </td></tr>\n",
       "<tr><td>7      </td><td>1.0           </td><td>1         </td><td>Appleton, Mrs. Edward Dale (Charlotte Lamson)  </td><td>female</td><td>53.0         </td><td>2.0           </td><td>0.0           </td><td>11769.0      </td><td>51.4792      </td><td>C101   </td><td>S         </td><td>nan          </td><td>nan          </td><td>Bayside, Queens, NY            </td></tr>\n",
       "<tr><td>8      </td><td>1.0           </td><td>0         </td><td>Artagaveytia, Mr. Ramon                        </td><td>male  </td><td>71.0         </td><td>0.0           </td><td>0.0           </td><td>nan          </td><td>49.5042      </td><td>       </td><td>C         </td><td>nan          </td><td>22.0         </td><td>Montevideo, Uruguay            </td></tr>\n",
       "<tr><td>9      </td><td>1.0           </td><td>0         </td><td>Astor, Col. John Jacob                         </td><td>male  </td><td>47.0         </td><td>1.0           </td><td>0.0           </td><td>nan          </td><td>227.525      </td><td>C62 C64</td><td>C         </td><td>nan          </td><td>124.0        </td><td>New York, NY                   </td></tr>\n",
       "</tbody>\n",
       "</table>"
      ]
     },
     "metadata": {},
     "output_type": "display_data"
    }
   ],
   "source": [
    "train_df.describe()"
   ]
  },
  {
   "cell_type": "code",
   "execution_count": 22,
   "metadata": {
    "collapsed": true
   },
   "outputs": [],
   "source": [
    "###: Understanding Test dataset"
   ]
  },
  {
   "cell_type": "code",
   "execution_count": 23,
   "metadata": {},
   "outputs": [
    {
     "name": "stdout",
     "output_type": "stream",
     "text": [
      "Rows:129\n",
      "Cols:14\n",
      "\n",
      "\n"
     ]
    },
    {
     "data": {
      "text/html": [
       "<table>\n",
       "<thead>\n",
       "<tr><th>       </th><th>pclass        </th><th>survived  </th><th>name                                                       </th><th>sex   </th><th>age          </th><th>sibsp         </th><th>parch         </th><th>ticket       </th><th>fare         </th><th>cabin  </th><th>embarked  </th><th>boat         </th><th>body         </th><th>home.dest       </th></tr>\n",
       "</thead>\n",
       "<tbody>\n",
       "<tr><td>type   </td><td>int           </td><td>enum      </td><td>string                                                     </td><td>enum  </td><td>real         </td><td>int           </td><td>int           </td><td>int          </td><td>real         </td><td>enum   </td><td>enum      </td><td>int          </td><td>int          </td><td>enum            </td></tr>\n",
       "<tr><td>mins   </td><td>1.0           </td><td>          </td><td>NaN                                                        </td><td>      </td><td>0.6667       </td><td>0.0           </td><td>0.0           </td><td>694.0        </td><td>0.0          </td><td>       </td><td>          </td><td>2.0          </td><td>43.0         </td><td>                </td></tr>\n",
       "<tr><td>mean   </td><td>2.27906976744 </td><td>          </td><td>NaN                                                        </td><td>      </td><td>30.0701757895</td><td>0.573643410853</td><td>0.279069767442</td><td>215402.097087</td><td>31.6013899225</td><td>       </td><td>          </td><td>8.83783783784</td><td>162.909090909</td><td>                </td></tr>\n",
       "<tr><td>maxs   </td><td>3.0           </td><td>          </td><td>NaN                                                        </td><td>      </td><td>74.0         </td><td>8.0           </td><td>2.0           </td><td>3101296.0    </td><td>263.0        </td><td>       </td><td>          </td><td>16.0         </td><td>299.0        </td><td>                </td></tr>\n",
       "<tr><td>sigma  </td><td>0.838308790308</td><td>          </td><td>NaN                                                        </td><td>      </td><td>13.0829898691</td><td>1.254835608   </td><td>0.612075671716</td><td>323479.18896 </td><td>45.2176561793</td><td>       </td><td>          </td><td>4.51856364539</td><td>85.40427922  </td><td>                </td></tr>\n",
       "<tr><td>zeros  </td><td>0             </td><td>          </td><td>0                                                          </td><td>      </td><td>0            </td><td>88            </td><td>104           </td><td>0            </td><td>1            </td><td>       </td><td>          </td><td>0            </td><td>0            </td><td>                </td></tr>\n",
       "<tr><td>missing</td><td>0             </td><td>0         </td><td>0                                                          </td><td>0     </td><td>34           </td><td>0             </td><td>0             </td><td>26           </td><td>0            </td><td>103    </td><td>1         </td><td>92           </td><td>118          </td><td>58              </td></tr>\n",
       "<tr><td>0      </td><td>1.0           </td><td>0         </td><td>Andrews, Mr. Thomas Jr                                     </td><td>male  </td><td>39.0         </td><td>0.0           </td><td>0.0           </td><td>112050.0     </td><td>0.0          </td><td>A36    </td><td>S         </td><td>nan          </td><td>nan          </td><td>Belfast, NI     </td></tr>\n",
       "<tr><td>1      </td><td>1.0           </td><td>1         </td><td>Beckwith, Mr. Richard Leonard                              </td><td>male  </td><td>37.0         </td><td>1.0           </td><td>1.0           </td><td>11751.0      </td><td>52.5542      </td><td>D35    </td><td>S         </td><td>5.0          </td><td>nan          </td><td>New York, NY    </td></tr>\n",
       "<tr><td>2      </td><td>1.0           </td><td>0         </td><td>Blackwell, Mr. Stephen Weart                               </td><td>male  </td><td>45.0         </td><td>0.0           </td><td>0.0           </td><td>113784.0     </td><td>35.5         </td><td>T      </td><td>S         </td><td>nan          </td><td>nan          </td><td>Trenton, NJ     </td></tr>\n",
       "<tr><td>3      </td><td>1.0           </td><td>1         </td><td>Brown, Mrs. James Joseph (Margaret Tobin)                  </td><td>female</td><td>44.0         </td><td>0.0           </td><td>0.0           </td><td>nan          </td><td>27.7208      </td><td>B4     </td><td>C         </td><td>6.0          </td><td>nan          </td><td>Denver, CO      </td></tr>\n",
       "<tr><td>4      </td><td>1.0           </td><td>1         </td><td>Candee, Mrs. Edward (Helen Churchill Hungerford)           </td><td>female</td><td>53.0         </td><td>0.0           </td><td>0.0           </td><td>nan          </td><td>27.4458      </td><td>       </td><td>C         </td><td>6.0          </td><td>nan          </td><td>Washington, DC  </td></tr>\n",
       "<tr><td>5      </td><td>1.0           </td><td>1         </td><td>Carter, Master. William Thornton II                        </td><td>male  </td><td>11.0         </td><td>1.0           </td><td>2.0           </td><td>113760.0     </td><td>120.0        </td><td>B96 B98</td><td>S         </td><td>4.0          </td><td>nan          </td><td>Bryn Mawr, PA   </td></tr>\n",
       "<tr><td>6      </td><td>1.0           </td><td>1         </td><td>Cassebeer, Mrs. Henry Arthur Jr (Eleanor Genevieve Fosdick)</td><td>female</td><td>nan          </td><td>0.0           </td><td>0.0           </td><td>17770.0      </td><td>27.7208      </td><td>       </td><td>C         </td><td>5.0          </td><td>nan          </td><td>New York, NY    </td></tr>\n",
       "<tr><td>7      </td><td>1.0           </td><td>0         </td><td>Crafton, Mr. John Bertram                                  </td><td>male  </td><td>nan          </td><td>0.0           </td><td>0.0           </td><td>113791.0     </td><td>26.55        </td><td>       </td><td>S         </td><td>nan          </td><td>nan          </td><td>Roachdale, IN   </td></tr>\n",
       "<tr><td>8      </td><td>1.0           </td><td>1         </td><td>Cumings, Mrs. John Bradley (Florence Briggs Thayer)        </td><td>female</td><td>38.0         </td><td>1.0           </td><td>0.0           </td><td>nan          </td><td>71.2833      </td><td>C85    </td><td>C         </td><td>4.0          </td><td>nan          </td><td>New York, NY    </td></tr>\n",
       "<tr><td>9      </td><td>1.0           </td><td>1         </td><td>Daniel, Mr. Robert Williams                                </td><td>male  </td><td>27.0         </td><td>0.0           </td><td>0.0           </td><td>113804.0     </td><td>30.5         </td><td>       </td><td>S         </td><td>3.0          </td><td>nan          </td><td>Philadelphia, PA</td></tr>\n",
       "</tbody>\n",
       "</table>"
      ]
     },
     "metadata": {},
     "output_type": "display_data"
    }
   ],
   "source": [
    "test_df.describe()"
   ]
  },
  {
   "cell_type": "code",
   "execution_count": 24,
   "metadata": {
    "collapsed": true
   },
   "outputs": [],
   "source": [
    "###: Training and test dataset - columns and rows details"
   ]
  },
  {
   "cell_type": "code",
   "execution_count": 25,
   "metadata": {},
   "outputs": [
    {
     "name": "stdout",
     "output_type": "stream",
     "text": [
      "(1180, 14)\n",
      "(129, 14)\n"
     ]
    }
   ],
   "source": [
    "print(train_df.shape)\n",
    "print(test_df.shape)"
   ]
  },
  {
   "cell_type": "code",
   "execution_count": 26,
   "metadata": {
    "collapsed": true
   },
   "outputs": [],
   "source": [
    "###: Training and Test Dataframes - columns names"
   ]
  },
  {
   "cell_type": "code",
   "execution_count": 27,
   "metadata": {},
   "outputs": [
    {
     "name": "stdout",
     "output_type": "stream",
     "text": [
      "[u'pclass', u'survived', u'name', u'sex', u'age', u'sibsp', u'parch', u'ticket', u'fare', u'cabin', u'embarked', u'boat', u'body', u'home.dest']\n",
      "[u'pclass', u'survived', u'name', u'sex', u'age', u'sibsp', u'parch', u'ticket', u'fare', u'cabin', u'embarked', u'boat', u'body', u'home.dest']\n"
     ]
    }
   ],
   "source": [
    "print(train_df.col_names)\n",
    "print(test_df.col_names)"
   ]
  },
  {
   "cell_type": "code",
   "execution_count": 28,
   "metadata": {
    "collapsed": true
   },
   "outputs": [],
   "source": [
    "###: Settings all features for supervised machine learning"
   ]
  },
  {
   "cell_type": "code",
   "execution_count": 29,
   "metadata": {},
   "outputs": [
    {
     "name": "stdout",
     "output_type": "stream",
     "text": [
      "[u'pclass', u'survived', u'name', u'sex', u'age', u'sibsp', u'parch', u'ticket', u'fare', u'cabin', u'embarked', u'boat', u'body', u'home.dest']\n"
     ]
    }
   ],
   "source": [
    "features = train_df.col_names\n",
    "print(features)"
   ]
  },
  {
   "cell_type": "code",
   "execution_count": 30,
   "metadata": {
    "collapsed": true
   },
   "outputs": [],
   "source": [
    "###: Creating a list of all features we will use for machine learning"
   ]
  },
  {
   "cell_type": "code",
   "execution_count": 31,
   "metadata": {},
   "outputs": [
    {
     "name": "stdout",
     "output_type": "stream",
     "text": [
      "[u'pclass', u'name', u'sex', u'age', u'sibsp', u'parch', u'ticket', u'fare', u'cabin', u'embarked', u'boat', u'body', u'home.dest']\n"
     ]
    }
   ],
   "source": [
    "features.remove(response)\n",
    "print(features)"
   ]
  },
  {
   "cell_type": "code",
   "execution_count": 32,
   "metadata": {
    "collapsed": true
   },
   "outputs": [],
   "source": [
    "###: Ignoring other features which are not needed for training"
   ]
  },
  {
   "cell_type": "code",
   "execution_count": 33,
   "metadata": {},
   "outputs": [
    {
     "name": "stdout",
     "output_type": "stream",
     "text": [
      "[u'pclass', u'sex', u'age', u'sibsp', u'parch', u'fare', u'cabin', u'embarked', u'boat', u'body']\n"
     ]
    }
   ],
   "source": [
    "for feature_name in ['name', 'ticket', 'home.dest']:\n",
    "    features.remove(feature_name)\n",
    "print(features)    "
   ]
  },
  {
   "cell_type": "code",
   "execution_count": 34,
   "metadata": {
    "collapsed": true
   },
   "outputs": [],
   "source": [
    "###: Understanding response variable values as historgram in Training data"
   ]
  },
  {
   "cell_type": "code",
   "execution_count": 35,
   "metadata": {},
   "outputs": [
    {
     "data": {
      "image/png": "[encoded data removed]",
      "text/plain": [
       "<matplotlib.figure.Figure at 0x11c08ab90>"
      ]
     },
     "metadata": {},
     "output_type": "display_data"
    }
   ],
   "source": [
    "train_df[response].asnumeric().hist()"
   ]
  },
  {
   "cell_type": "code",
   "execution_count": 38,
   "metadata": {
    "collapsed": true
   },
   "outputs": [],
   "source": [
    "###: Importing H2O H2OGradientBoostingEstimator to build GBM Model"
   ]
  },
  {
   "cell_type": "code",
   "execution_count": 37,
   "metadata": {
    "collapsed": true
   },
   "outputs": [],
   "source": [
    "from h2o.estimators.gbm import H2OGradientBoostingEstimator"
   ]
  },
  {
   "cell_type": "code",
   "execution_count": 51,
   "metadata": {
    "collapsed": true
   },
   "outputs": [],
   "source": [
    "###:Building Gradient Boosting (GBM) -  Classification model with cross validation"
   ]
  },
  {
   "cell_type": "code",
   "execution_count": 52,
   "metadata": {},
   "outputs": [],
   "source": [
    "gbm_model_with_cv = H2OGradientBoostingEstimator(nfolds=5)"
   ]
  },
  {
   "cell_type": "code",
   "execution_count": 53,
   "metadata": {
    "collapsed": true
   },
   "outputs": [],
   "source": [
    "###: Training the model"
   ]
  },
  {
   "cell_type": "code",
   "execution_count": 54,
   "metadata": {},
   "outputs": [
    {
     "name": "stdout",
     "output_type": "stream",
     "text": [
      "gbm Model Build progress: |███████████████████████████████████████████████| 100%\n"
     ]
    }
   ],
   "source": [
    "gbm_model_with_cv.train(x = features, y = response, training_frame=train_df)"
   ]
  },
  {
   "cell_type": "code",
   "execution_count": 55,
   "metadata": {
    "collapsed": true
   },
   "outputs": [],
   "source": [
    "###: Getting model performance"
   ]
  },
  {
   "cell_type": "code",
   "execution_count": 56,
   "metadata": {},
   "outputs": [
    {
     "data": {
      "text/plain": [
       "0.9878312601406165"
      ]
     },
     "execution_count": 56,
     "metadata": {},
     "output_type": "execute_result"
    }
   ],
   "source": [
    "gbm_model_with_cv.model_performance(valid=True,test_data=test_df).auc()"
   ]
  },
  {
   "cell_type": "code",
   "execution_count": 57,
   "metadata": {
    "collapsed": true
   },
   "outputs": [],
   "source": [
    "###:Building GBM classification model with cross validation and key GBM parameters configuration"
   ]
  },
  {
   "cell_type": "code",
   "execution_count": 58,
   "metadata": {},
   "outputs": [],
   "source": [
    "gbm_model_cv_config = H2OGradientBoostingEstimator(nfolds=5,\n",
    "                                                    keep_cross_validation_predictions=True,\n",
    "                                                    fold_assignment=\"auto\",\n",
    "                                                    seed=12345)"
   ]
  },
  {
   "cell_type": "code",
   "execution_count": 59,
   "metadata": {
    "collapsed": true
   },
   "outputs": [],
   "source": [
    "###: Training GBM Model"
   ]
  },
  {
   "cell_type": "code",
   "execution_count": 60,
   "metadata": {},
   "outputs": [
    {
     "name": "stdout",
     "output_type": "stream",
     "text": [
      "gbm Model Build progress: |███████████████████████████████████████████████| 100%\n"
     ]
    }
   ],
   "source": [
    "gbm_model_cv_config.train(x = features, y = response, \n",
    "                                            training_frame=train_df, \n",
    "                                           model_id = \"gbm_model_with_training_and_validtion_python\")"
   ]
  },
  {
   "cell_type": "code",
   "execution_count": 61,
   "metadata": {
    "collapsed": true
   },
   "outputs": [],
   "source": [
    "###: Getting GBM model performance on test data"
   ]
  },
  {
   "cell_type": "code",
   "execution_count": 62,
   "metadata": {},
   "outputs": [
    {
     "data": {
      "text/plain": [
       "0.9878312601406165"
      ]
     },
     "execution_count": 62,
     "metadata": {},
     "output_type": "execute_result"
    }
   ],
   "source": [
    "gbm_model_cv_config.model_performance(valid=True,test_data=test_df).auc()"
   ]
  },
  {
   "cell_type": "code",
   "execution_count": 63,
   "metadata": {
    "collapsed": true
   },
   "outputs": [],
   "source": [
    "###: Importing H2O Grid Library"
   ]
  },
  {
   "cell_type": "code",
   "execution_count": 64,
   "metadata": {
    "collapsed": true
   },
   "outputs": [],
   "source": [
    "from h2o.grid import H2OGridSearch"
   ]
  },
  {
   "cell_type": "code",
   "execution_count": 65,
   "metadata": {
    "collapsed": true
   },
   "outputs": [],
   "source": [
    "###: Settings GBM grid parameters"
   ]
  },
  {
   "cell_type": "code",
   "execution_count": 66,
   "metadata": {
    "collapsed": true
   },
   "outputs": [],
   "source": [
    "gbm_hyper_params = {\"learn_rate\": [0.01, 0.05, 0.1, 0.2, 0.5, 1.0],\n",
    "                \"max_depth\": [ 5, 7, 10],\n",
    "                \"sample_rate\": [0.5, 0.75, 1.0],\n",
    "                \"col_sample_rate\": [0.5, 0.6, 0.7, 0.8]}"
   ]
  },
  {
   "cell_type": "code",
   "execution_count": 67,
   "metadata": {
    "collapsed": true
   },
   "outputs": [],
   "source": [
    "###: Setting H2O Grid Search Criteria"
   ]
  },
  {
   "cell_type": "code",
   "execution_count": 68,
   "metadata": {
    "collapsed": true
   },
   "outputs": [],
   "source": [
    "grid_search_criteria = { 'strategy': \"RandomDiscrete\", \n",
    "                    'seed': 123,\n",
    "                    'stopping_metric': \"AUTO\", \n",
    "                    'stopping_tolerance': 0.01,\n",
    "                    'stopping_rounds': 5 }"
   ]
  },
  {
   "cell_type": "code",
   "execution_count": 69,
   "metadata": {
    "collapsed": true
   },
   "outputs": [],
   "source": [
    "###: Finalzing the H2O Grid searching settings"
   ]
  },
  {
   "cell_type": "code",
   "execution_count": 73,
   "metadata": {},
   "outputs": [],
   "source": [
    "gbm_grid = H2OGridSearch(model=H2OGradientBoostingEstimator(\n",
    "                                                    nfolds=5,\n",
    "                                                    keep_cross_validation_predictions=True,\n",
    "                                                    fold_assignment=\"auto\",\n",
    "                                                    seed=12345),\n",
    "                     hyper_params=gbm_hyper_params,\n",
    "                     search_criteria=grid_search_criteria,\n",
    "                     grid_id=\"titnaic_gbm_grid\")"
   ]
  },
  {
   "cell_type": "code",
   "execution_count": 74,
   "metadata": {
    "collapsed": true
   },
   "outputs": [],
   "source": [
    "###: Finally training H2O Grid with data "
   ]
  },
  {
   "cell_type": "code",
   "execution_count": 75,
   "metadata": {},
   "outputs": [
    {
     "name": "stdout",
     "output_type": "stream",
     "text": [
      "gbm Grid Build progress: |████████████████████████████████████████████████| 100%\n"
     ]
    }
   ],
   "source": [
    "gbm_grid.train(x=features, y=response, training_frame=train_df)"
   ]
  },
  {
   "cell_type": "code",
   "execution_count": 76,
   "metadata": {
    "collapsed": true
   },
   "outputs": [],
   "source": [
    "###: Finally getting total count of GBM models"
   ]
  },
  {
   "cell_type": "code",
   "execution_count": 77,
   "metadata": {},
   "outputs": [
    {
     "data": {
      "text/plain": [
       "90"
      ]
     },
     "execution_count": 77,
     "metadata": {},
     "output_type": "execute_result"
    }
   ],
   "source": [
    "len(gbm_grid)"
   ]
  },
  {
   "cell_type": "code",
   "execution_count": 78,
   "metadata": {
    "collapsed": true
   },
   "outputs": [],
   "source": [
    "###: Defining a function to find the best model from the grid based on r2 or auc"
   ]
  },
  {
   "cell_type": "code",
   "execution_count": 79,
   "metadata": {
    "collapsed": true
   },
   "outputs": [],
   "source": [
    "def find_best_model_from_grid(h2o_grid, test_parameter):    \n",
    "    model_list = []\n",
    "    for grid_item in h2o_grid:\n",
    "        if test_parameter is \"r2\":\n",
    "            if not (grid_item.r2() == \"NaN\"):\n",
    "                model_list.append(grid_item.r2())\n",
    "            else:\n",
    "                model_list.append(0.0)            \n",
    "        elif test_parameter is \"auc\":\n",
    "            if not (grid_item.auc() == \"NaN\"):\n",
    "                model_list.append(grid_item.auc())\n",
    "            else:\n",
    "                model_list.append(0.0)            \n",
    "    #print(model_list)        \n",
    "    max_index = model_list.index(max(model_list))\n",
    "    #print(max_index)\n",
    "    best_model = h2o_grid[max_index]\n",
    "    print(\"Model ID with best R2: \" +  best_model.model_id)\n",
    "    if test_parameter is \"r2\":\n",
    "        print(\"Best R2: \" +  str(best_model.r2()))\n",
    "    elif test_parameter is \"auc\":\n",
    "        print(\"Best AUC: \" +  str(best_model.auc()))\n",
    "    return best_model"
   ]
  },
  {
   "cell_type": "code",
   "execution_count": 80,
   "metadata": {
    "collapsed": true
   },
   "outputs": [],
   "source": [
    "###: Applying the function to get the best model from the grid"
   ]
  },
  {
   "cell_type": "code",
   "execution_count": 81,
   "metadata": {},
   "outputs": [
    {
     "name": "stdout",
     "output_type": "stream",
     "text": [
      "Model ID with best R2: titnaic_gbm_grid_model_38\n",
      "Best AUC: 0.999509701554\n"
     ]
    }
   ],
   "source": [
    "best_model = find_best_model_from_grid(gbm_grid, \"auc\")"
   ]
  },
  {
   "cell_type": "code",
   "execution_count": 82,
   "metadata": {
    "collapsed": true
   },
   "outputs": [],
   "source": [
    "###: Getting the best model performance on test data"
   ]
  },
  {
   "cell_type": "code",
   "execution_count": 83,
   "metadata": {},
   "outputs": [
    {
     "data": {
      "text/plain": [
       "0.9833693888588426"
      ]
     },
     "execution_count": 83,
     "metadata": {},
     "output_type": "execute_result"
    }
   ],
   "source": [
    "best_model.model_performance(valid=True,test_data=test_df).auc()"
   ]
  },
  {
   "cell_type": "code",
   "execution_count": 84,
   "metadata": {
    "collapsed": true
   },
   "outputs": [],
   "source": [
    "###: Performing predictions with one of the above model"
   ]
  },
  {
   "cell_type": "code",
   "execution_count": 85,
   "metadata": {},
   "outputs": [
    {
     "name": "stdout",
     "output_type": "stream",
     "text": [
      "gbm prediction progress: |████████████████████████████████████████████████| 100%\n"
     ]
    }
   ],
   "source": [
    "gbm_predictions = best_model.predict(test_df)"
   ]
  },
  {
   "cell_type": "code",
   "execution_count": 86,
   "metadata": {},
   "outputs": [
    {
     "data": {
      "text/html": [
       "<table>\n",
       "<thead>\n",
       "<tr><th style=\"text-align: right;\">  predict</th><th style=\"text-align: right;\">         p0</th><th style=\"text-align: right;\">         p1</th></tr>\n",
       "</thead>\n",
       "<tbody>\n",
       "<tr><td style=\"text-align: right;\">        0</td><td style=\"text-align: right;\">0.99998    </td><td style=\"text-align: right;\">2.0025e-05 </td></tr>\n",
       "<tr><td style=\"text-align: right;\">        1</td><td style=\"text-align: right;\">0.00563062 </td><td style=\"text-align: right;\">0.994369   </td></tr>\n",
       "<tr><td style=\"text-align: right;\">        0</td><td style=\"text-align: right;\">0.999918   </td><td style=\"text-align: right;\">8.22611e-05</td></tr>\n",
       "<tr><td style=\"text-align: right;\">        1</td><td style=\"text-align: right;\">1.43458e-08</td><td style=\"text-align: right;\">1          </td></tr>\n",
       "<tr><td style=\"text-align: right;\">        1</td><td style=\"text-align: right;\">7.20679e-08</td><td style=\"text-align: right;\">1          </td></tr>\n",
       "<tr><td style=\"text-align: right;\">        1</td><td style=\"text-align: right;\">0.00137741 </td><td style=\"text-align: right;\">0.998623   </td></tr>\n",
       "<tr><td style=\"text-align: right;\">        1</td><td style=\"text-align: right;\">8.10897e-07</td><td style=\"text-align: right;\">0.999999   </td></tr>\n",
       "<tr><td style=\"text-align: right;\">        0</td><td style=\"text-align: right;\">0.998955   </td><td style=\"text-align: right;\">0.00104463 </td></tr>\n",
       "<tr><td style=\"text-align: right;\">        1</td><td style=\"text-align: right;\">1.66344e-06</td><td style=\"text-align: right;\">0.999998   </td></tr>\n",
       "<tr><td style=\"text-align: right;\">        1</td><td style=\"text-align: right;\">2.68878e-06</td><td style=\"text-align: right;\">0.999997   </td></tr>\n",
       "</tbody>\n",
       "</table>"
      ]
     },
     "metadata": {},
     "output_type": "display_data"
    },
    {
     "data": {
      "text/plain": []
     },
     "execution_count": 86,
     "metadata": {},
     "output_type": "execute_result"
    }
   ],
   "source": [
    "gbm_predictions"
   ]
  },
  {
   "cell_type": "code",
   "execution_count": 87,
   "metadata": {
    "collapsed": true
   },
   "outputs": [],
   "source": [
    "###: Understanding/Validating predictions based on prediction results historgram"
   ]
  },
  {
   "cell_type": "code",
   "execution_count": 88,
   "metadata": {},
   "outputs": [
    {
     "data": {
      "image/png": "[encoded data removed]",
      "text/plain": [
       "<matplotlib.figure.Figure at 0x11c220e90>"
      ]
     },
     "metadata": {},
     "output_type": "display_data"
    }
   ],
   "source": [
    "gbm_predictions['predict'].asnumeric().hist()"
   ]
  },
  {
   "cell_type": "code",
   "execution_count": 89,
   "metadata": {
    "collapsed": true
   },
   "outputs": [],
   "source": [
    "###: Getting Scorring History"
   ]
  },
  {
   "cell_type": "code",
   "execution_count": 90,
   "metadata": {},
   "outputs": [
    {
     "data": {
      "text/html": [
       "<div>\n",
       "<style>\n",
       "    .dataframe thead tr:only-child th {\n",
       "        text-align: right;\n",
       "    }\n",
       "\n",
       "    .dataframe thead th {\n",
       "        text-align: left;\n",
       "    }\n",
       "\n",
       "    .dataframe tbody tr th {\n",
       "        vertical-align: top;\n",
       "    }\n",
       "</style>\n",
       "<table border=\"1\" class=\"dataframe\">\n",
       "  <thead>\n",
       "    <tr style=\"text-align: right;\">\n",
       "      <th></th>\n",
       "      <th></th>\n",
       "      <th>timestamp</th>\n",
       "      <th>duration</th>\n",
       "      <th>number_of_trees</th>\n",
       "      <th>training_rmse</th>\n",
       "      <th>training_logloss</th>\n",
       "      <th>training_auc</th>\n",
       "      <th>training_lift</th>\n",
       "      <th>training_classification_error</th>\n",
       "    </tr>\n",
       "  </thead>\n",
       "  <tbody>\n",
       "    <tr>\n",
       "      <th>0</th>\n",
       "      <td></td>\n",
       "      <td>2017-11-23 00:06:46</td>\n",
       "      <td>1 min 24.957 sec</td>\n",
       "      <td>0.0</td>\n",
       "      <td>0.487130</td>\n",
       "      <td>0.667520</td>\n",
       "      <td>0.500000</td>\n",
       "      <td>1.000000</td>\n",
       "      <td>0.612712</td>\n",
       "    </tr>\n",
       "    <tr>\n",
       "      <th>1</th>\n",
       "      <td></td>\n",
       "      <td>2017-11-23 00:06:46</td>\n",
       "      <td>1 min 24.961 sec</td>\n",
       "      <td>1.0</td>\n",
       "      <td>0.251840</td>\n",
       "      <td>0.252756</td>\n",
       "      <td>0.949902</td>\n",
       "      <td>2.582057</td>\n",
       "      <td>0.075424</td>\n",
       "    </tr>\n",
       "    <tr>\n",
       "      <th>2</th>\n",
       "      <td></td>\n",
       "      <td>2017-11-23 00:06:46</td>\n",
       "      <td>1 min 24.965 sec</td>\n",
       "      <td>2.0</td>\n",
       "      <td>0.221615</td>\n",
       "      <td>0.188886</td>\n",
       "      <td>0.965048</td>\n",
       "      <td>2.582057</td>\n",
       "      <td>0.061864</td>\n",
       "    </tr>\n",
       "    <tr>\n",
       "      <th>3</th>\n",
       "      <td></td>\n",
       "      <td>2017-11-23 00:06:46</td>\n",
       "      <td>1 min 24.971 sec</td>\n",
       "      <td>3.0</td>\n",
       "      <td>0.197886</td>\n",
       "      <td>0.139425</td>\n",
       "      <td>0.988156</td>\n",
       "      <td>2.582057</td>\n",
       "      <td>0.050847</td>\n",
       "    </tr>\n",
       "    <tr>\n",
       "      <th>4</th>\n",
       "      <td></td>\n",
       "      <td>2017-11-23 00:06:46</td>\n",
       "      <td>1 min 24.975 sec</td>\n",
       "      <td>4.0</td>\n",
       "      <td>0.190937</td>\n",
       "      <td>0.127495</td>\n",
       "      <td>0.988726</td>\n",
       "      <td>2.582057</td>\n",
       "      <td>0.050000</td>\n",
       "    </tr>\n",
       "    <tr>\n",
       "      <th>5</th>\n",
       "      <td></td>\n",
       "      <td>2017-11-23 00:06:46</td>\n",
       "      <td>1 min 24.982 sec</td>\n",
       "      <td>5.0</td>\n",
       "      <td>0.173597</td>\n",
       "      <td>0.106113</td>\n",
       "      <td>0.992794</td>\n",
       "      <td>2.582057</td>\n",
       "      <td>0.041525</td>\n",
       "    </tr>\n",
       "    <tr>\n",
       "      <th>6</th>\n",
       "      <td></td>\n",
       "      <td>2017-11-23 00:06:46</td>\n",
       "      <td>1 min 24.988 sec</td>\n",
       "      <td>6.0</td>\n",
       "      <td>0.172408</td>\n",
       "      <td>0.102205</td>\n",
       "      <td>0.992815</td>\n",
       "      <td>2.582057</td>\n",
       "      <td>0.041525</td>\n",
       "    </tr>\n",
       "    <tr>\n",
       "      <th>7</th>\n",
       "      <td></td>\n",
       "      <td>2017-11-23 00:06:46</td>\n",
       "      <td>1 min 24.995 sec</td>\n",
       "      <td>7.0</td>\n",
       "      <td>0.156834</td>\n",
       "      <td>0.086669</td>\n",
       "      <td>0.994990</td>\n",
       "      <td>2.582057</td>\n",
       "      <td>0.033051</td>\n",
       "    </tr>\n",
       "    <tr>\n",
       "      <th>8</th>\n",
       "      <td></td>\n",
       "      <td>2017-11-23 00:06:46</td>\n",
       "      <td>1 min 25.003 sec</td>\n",
       "      <td>8.0</td>\n",
       "      <td>0.152822</td>\n",
       "      <td>0.082590</td>\n",
       "      <td>0.995701</td>\n",
       "      <td>2.582057</td>\n",
       "      <td>0.030508</td>\n",
       "    </tr>\n",
       "    <tr>\n",
       "      <th>9</th>\n",
       "      <td></td>\n",
       "      <td>2017-11-23 00:06:46</td>\n",
       "      <td>1 min 25.012 sec</td>\n",
       "      <td>9.0</td>\n",
       "      <td>0.131985</td>\n",
       "      <td>0.064739</td>\n",
       "      <td>0.997898</td>\n",
       "      <td>2.582057</td>\n",
       "      <td>0.021186</td>\n",
       "    </tr>\n",
       "    <tr>\n",
       "      <th>10</th>\n",
       "      <td></td>\n",
       "      <td>2017-11-23 00:06:46</td>\n",
       "      <td>1 min 25.022 sec</td>\n",
       "      <td>10.0</td>\n",
       "      <td>0.132196</td>\n",
       "      <td>0.063152</td>\n",
       "      <td>0.997913</td>\n",
       "      <td>2.582057</td>\n",
       "      <td>0.021186</td>\n",
       "    </tr>\n",
       "    <tr>\n",
       "      <th>11</th>\n",
       "      <td></td>\n",
       "      <td>2017-11-23 00:06:46</td>\n",
       "      <td>1 min 25.034 sec</td>\n",
       "      <td>11.0</td>\n",
       "      <td>0.128286</td>\n",
       "      <td>0.058605</td>\n",
       "      <td>0.998013</td>\n",
       "      <td>2.582057</td>\n",
       "      <td>0.022034</td>\n",
       "    </tr>\n",
       "    <tr>\n",
       "      <th>12</th>\n",
       "      <td></td>\n",
       "      <td>2017-11-23 00:06:46</td>\n",
       "      <td>1 min 25.045 sec</td>\n",
       "      <td>12.0</td>\n",
       "      <td>0.147283</td>\n",
       "      <td>0.095435</td>\n",
       "      <td>0.995462</td>\n",
       "      <td>2.582057</td>\n",
       "      <td>0.026271</td>\n",
       "    </tr>\n",
       "    <tr>\n",
       "      <th>13</th>\n",
       "      <td></td>\n",
       "      <td>2017-11-23 00:06:46</td>\n",
       "      <td>1 min 25.056 sec</td>\n",
       "      <td>13.0</td>\n",
       "      <td>0.125570</td>\n",
       "      <td>0.135516</td>\n",
       "      <td>0.992400</td>\n",
       "      <td>2.582057</td>\n",
       "      <td>0.021186</td>\n",
       "    </tr>\n",
       "    <tr>\n",
       "      <th>14</th>\n",
       "      <td></td>\n",
       "      <td>2017-11-23 00:06:46</td>\n",
       "      <td>1 min 25.069 sec</td>\n",
       "      <td>14.0</td>\n",
       "      <td>0.115262</td>\n",
       "      <td>0.059719</td>\n",
       "      <td>0.995138</td>\n",
       "      <td>2.582057</td>\n",
       "      <td>0.016949</td>\n",
       "    </tr>\n",
       "    <tr>\n",
       "      <th>15</th>\n",
       "      <td></td>\n",
       "      <td>2017-11-23 00:06:46</td>\n",
       "      <td>1 min 25.082 sec</td>\n",
       "      <td>15.0</td>\n",
       "      <td>0.102247</td>\n",
       "      <td>0.037287</td>\n",
       "      <td>0.999387</td>\n",
       "      <td>2.582057</td>\n",
       "      <td>0.015254</td>\n",
       "    </tr>\n",
       "    <tr>\n",
       "      <th>16</th>\n",
       "      <td></td>\n",
       "      <td>2017-11-23 00:06:46</td>\n",
       "      <td>1 min 25.096 sec</td>\n",
       "      <td>16.0</td>\n",
       "      <td>0.098904</td>\n",
       "      <td>0.033794</td>\n",
       "      <td>0.999417</td>\n",
       "      <td>2.582057</td>\n",
       "      <td>0.015254</td>\n",
       "    </tr>\n",
       "    <tr>\n",
       "      <th>17</th>\n",
       "      <td></td>\n",
       "      <td>2017-11-23 00:06:46</td>\n",
       "      <td>1 min 25.111 sec</td>\n",
       "      <td>17.0</td>\n",
       "      <td>0.097631</td>\n",
       "      <td>0.032477</td>\n",
       "      <td>0.999408</td>\n",
       "      <td>2.582057</td>\n",
       "      <td>0.015254</td>\n",
       "    </tr>\n",
       "    <tr>\n",
       "      <th>18</th>\n",
       "      <td></td>\n",
       "      <td>2017-11-23 00:06:46</td>\n",
       "      <td>1 min 25.126 sec</td>\n",
       "      <td>18.0</td>\n",
       "      <td>0.096689</td>\n",
       "      <td>0.031361</td>\n",
       "      <td>0.999445</td>\n",
       "      <td>2.582057</td>\n",
       "      <td>0.015254</td>\n",
       "    </tr>\n",
       "    <tr>\n",
       "      <th>19</th>\n",
       "      <td></td>\n",
       "      <td>2017-11-23 00:06:46</td>\n",
       "      <td>1 min 25.141 sec</td>\n",
       "      <td>19.0</td>\n",
       "      <td>0.095796</td>\n",
       "      <td>0.030177</td>\n",
       "      <td>0.999445</td>\n",
       "      <td>2.582057</td>\n",
       "      <td>0.015254</td>\n",
       "    </tr>\n",
       "    <tr>\n",
       "      <th>20</th>\n",
       "      <td></td>\n",
       "      <td>2017-11-23 00:06:46</td>\n",
       "      <td>1 min 25.158 sec</td>\n",
       "      <td>20.0</td>\n",
       "      <td>0.095266</td>\n",
       "      <td>0.029318</td>\n",
       "      <td>0.999448</td>\n",
       "      <td>2.582057</td>\n",
       "      <td>0.015254</td>\n",
       "    </tr>\n",
       "    <tr>\n",
       "      <th>21</th>\n",
       "      <td></td>\n",
       "      <td>2017-11-23 00:06:46</td>\n",
       "      <td>1 min 25.174 sec</td>\n",
       "      <td>21.0</td>\n",
       "      <td>0.093256</td>\n",
       "      <td>0.027963</td>\n",
       "      <td>0.999498</td>\n",
       "      <td>2.582057</td>\n",
       "      <td>0.014407</td>\n",
       "    </tr>\n",
       "    <tr>\n",
       "      <th>22</th>\n",
       "      <td></td>\n",
       "      <td>2017-11-23 00:06:46</td>\n",
       "      <td>1 min 25.191 sec</td>\n",
       "      <td>22.0</td>\n",
       "      <td>0.092603</td>\n",
       "      <td>0.027418</td>\n",
       "      <td>0.999501</td>\n",
       "      <td>2.582057</td>\n",
       "      <td>0.014407</td>\n",
       "    </tr>\n",
       "    <tr>\n",
       "      <th>23</th>\n",
       "      <td></td>\n",
       "      <td>2017-11-23 00:06:46</td>\n",
       "      <td>1 min 25.208 sec</td>\n",
       "      <td>23.0</td>\n",
       "      <td>0.091958</td>\n",
       "      <td>0.026689</td>\n",
       "      <td>0.999510</td>\n",
       "      <td>2.582057</td>\n",
       "      <td>0.014407</td>\n",
       "    </tr>\n",
       "    <tr>\n",
       "      <th>24</th>\n",
       "      <td></td>\n",
       "      <td>2017-11-23 00:06:46</td>\n",
       "      <td>1 min 25.225 sec</td>\n",
       "      <td>24.0</td>\n",
       "      <td>0.091796</td>\n",
       "      <td>0.026287</td>\n",
       "      <td>0.999510</td>\n",
       "      <td>2.582057</td>\n",
       "      <td>0.014407</td>\n",
       "    </tr>\n",
       "    <tr>\n",
       "      <th>25</th>\n",
       "      <td></td>\n",
       "      <td>2017-11-23 00:06:46</td>\n",
       "      <td>1 min 25.241 sec</td>\n",
       "      <td>25.0</td>\n",
       "      <td>0.091796</td>\n",
       "      <td>0.026287</td>\n",
       "      <td>0.999510</td>\n",
       "      <td>2.582057</td>\n",
       "      <td>0.014407</td>\n",
       "    </tr>\n",
       "    <tr>\n",
       "      <th>26</th>\n",
       "      <td></td>\n",
       "      <td>2017-11-23 00:06:46</td>\n",
       "      <td>1 min 25.257 sec</td>\n",
       "      <td>26.0</td>\n",
       "      <td>0.091796</td>\n",
       "      <td>0.026287</td>\n",
       "      <td>0.999510</td>\n",
       "      <td>2.582057</td>\n",
       "      <td>0.014407</td>\n",
       "    </tr>\n",
       "    <tr>\n",
       "      <th>27</th>\n",
       "      <td></td>\n",
       "      <td>2017-11-23 00:06:46</td>\n",
       "      <td>1 min 25.273 sec</td>\n",
       "      <td>27.0</td>\n",
       "      <td>0.091796</td>\n",
       "      <td>0.026287</td>\n",
       "      <td>0.999510</td>\n",
       "      <td>2.582057</td>\n",
       "      <td>0.014407</td>\n",
       "    </tr>\n",
       "    <tr>\n",
       "      <th>28</th>\n",
       "      <td></td>\n",
       "      <td>2017-11-23 00:06:46</td>\n",
       "      <td>1 min 25.289 sec</td>\n",
       "      <td>28.0</td>\n",
       "      <td>0.091796</td>\n",
       "      <td>0.026287</td>\n",
       "      <td>0.999510</td>\n",
       "      <td>2.582057</td>\n",
       "      <td>0.014407</td>\n",
       "    </tr>\n",
       "    <tr>\n",
       "      <th>29</th>\n",
       "      <td></td>\n",
       "      <td>2017-11-23 00:06:46</td>\n",
       "      <td>1 min 25.305 sec</td>\n",
       "      <td>29.0</td>\n",
       "      <td>0.091796</td>\n",
       "      <td>0.026287</td>\n",
       "      <td>0.999510</td>\n",
       "      <td>2.582057</td>\n",
       "      <td>0.014407</td>\n",
       "    </tr>\n",
       "    <tr>\n",
       "      <th>30</th>\n",
       "      <td></td>\n",
       "      <td>2017-11-23 00:06:46</td>\n",
       "      <td>1 min 25.322 sec</td>\n",
       "      <td>30.0</td>\n",
       "      <td>0.091796</td>\n",
       "      <td>0.026287</td>\n",
       "      <td>0.999510</td>\n",
       "      <td>2.582057</td>\n",
       "      <td>0.014407</td>\n",
       "    </tr>\n",
       "    <tr>\n",
       "      <th>31</th>\n",
       "      <td></td>\n",
       "      <td>2017-11-23 00:06:46</td>\n",
       "      <td>1 min 25.338 sec</td>\n",
       "      <td>31.0</td>\n",
       "      <td>0.091796</td>\n",
       "      <td>0.026287</td>\n",
       "      <td>0.999510</td>\n",
       "      <td>2.582057</td>\n",
       "      <td>0.014407</td>\n",
       "    </tr>\n",
       "    <tr>\n",
       "      <th>32</th>\n",
       "      <td></td>\n",
       "      <td>2017-11-23 00:06:46</td>\n",
       "      <td>1 min 25.355 sec</td>\n",
       "      <td>32.0</td>\n",
       "      <td>0.091796</td>\n",
       "      <td>0.026287</td>\n",
       "      <td>0.999510</td>\n",
       "      <td>2.582057</td>\n",
       "      <td>0.014407</td>\n",
       "    </tr>\n",
       "    <tr>\n",
       "      <th>33</th>\n",
       "      <td></td>\n",
       "      <td>2017-11-23 00:06:46</td>\n",
       "      <td>1 min 25.372 sec</td>\n",
       "      <td>33.0</td>\n",
       "      <td>0.091796</td>\n",
       "      <td>0.026287</td>\n",
       "      <td>0.999510</td>\n",
       "      <td>2.582057</td>\n",
       "      <td>0.014407</td>\n",
       "    </tr>\n",
       "    <tr>\n",
       "      <th>34</th>\n",
       "      <td></td>\n",
       "      <td>2017-11-23 00:06:46</td>\n",
       "      <td>1 min 25.388 sec</td>\n",
       "      <td>34.0</td>\n",
       "      <td>0.091796</td>\n",
       "      <td>0.026287</td>\n",
       "      <td>0.999510</td>\n",
       "      <td>2.582057</td>\n",
       "      <td>0.014407</td>\n",
       "    </tr>\n",
       "    <tr>\n",
       "      <th>35</th>\n",
       "      <td></td>\n",
       "      <td>2017-11-23 00:06:47</td>\n",
       "      <td>1 min 25.406 sec</td>\n",
       "      <td>35.0</td>\n",
       "      <td>0.091796</td>\n",
       "      <td>0.026287</td>\n",
       "      <td>0.999510</td>\n",
       "      <td>2.582057</td>\n",
       "      <td>0.014407</td>\n",
       "    </tr>\n",
       "    <tr>\n",
       "      <th>36</th>\n",
       "      <td></td>\n",
       "      <td>2017-11-23 00:06:47</td>\n",
       "      <td>1 min 25.423 sec</td>\n",
       "      <td>36.0</td>\n",
       "      <td>0.091796</td>\n",
       "      <td>0.026287</td>\n",
       "      <td>0.999510</td>\n",
       "      <td>2.582057</td>\n",
       "      <td>0.014407</td>\n",
       "    </tr>\n",
       "    <tr>\n",
       "      <th>37</th>\n",
       "      <td></td>\n",
       "      <td>2017-11-23 00:06:47</td>\n",
       "      <td>1 min 25.440 sec</td>\n",
       "      <td>37.0</td>\n",
       "      <td>0.091796</td>\n",
       "      <td>0.026287</td>\n",
       "      <td>0.999510</td>\n",
       "      <td>2.582057</td>\n",
       "      <td>0.014407</td>\n",
       "    </tr>\n",
       "    <tr>\n",
       "      <th>38</th>\n",
       "      <td></td>\n",
       "      <td>2017-11-23 00:06:47</td>\n",
       "      <td>1 min 25.457 sec</td>\n",
       "      <td>38.0</td>\n",
       "      <td>0.091796</td>\n",
       "      <td>0.026287</td>\n",
       "      <td>0.999510</td>\n",
       "      <td>2.582057</td>\n",
       "      <td>0.014407</td>\n",
       "    </tr>\n",
       "    <tr>\n",
       "      <th>39</th>\n",
       "      <td></td>\n",
       "      <td>2017-11-23 00:06:47</td>\n",
       "      <td>1 min 25.475 sec</td>\n",
       "      <td>39.0</td>\n",
       "      <td>0.091796</td>\n",
       "      <td>0.026287</td>\n",
       "      <td>0.999510</td>\n",
       "      <td>2.582057</td>\n",
       "      <td>0.014407</td>\n",
       "    </tr>\n",
       "    <tr>\n",
       "      <th>40</th>\n",
       "      <td></td>\n",
       "      <td>2017-11-23 00:06:47</td>\n",
       "      <td>1 min 25.493 sec</td>\n",
       "      <td>40.0</td>\n",
       "      <td>0.091796</td>\n",
       "      <td>0.026287</td>\n",
       "      <td>0.999510</td>\n",
       "      <td>2.582057</td>\n",
       "      <td>0.014407</td>\n",
       "    </tr>\n",
       "    <tr>\n",
       "      <th>41</th>\n",
       "      <td></td>\n",
       "      <td>2017-11-23 00:06:47</td>\n",
       "      <td>1 min 25.510 sec</td>\n",
       "      <td>41.0</td>\n",
       "      <td>0.091796</td>\n",
       "      <td>0.026287</td>\n",
       "      <td>0.999510</td>\n",
       "      <td>2.582057</td>\n",
       "      <td>0.014407</td>\n",
       "    </tr>\n",
       "    <tr>\n",
       "      <th>42</th>\n",
       "      <td></td>\n",
       "      <td>2017-11-23 00:06:47</td>\n",
       "      <td>1 min 25.528 sec</td>\n",
       "      <td>42.0</td>\n",
       "      <td>0.091796</td>\n",
       "      <td>0.026287</td>\n",
       "      <td>0.999510</td>\n",
       "      <td>2.582057</td>\n",
       "      <td>0.014407</td>\n",
       "    </tr>\n",
       "    <tr>\n",
       "      <th>43</th>\n",
       "      <td></td>\n",
       "      <td>2017-11-23 00:06:47</td>\n",
       "      <td>1 min 25.546 sec</td>\n",
       "      <td>43.0</td>\n",
       "      <td>0.091796</td>\n",
       "      <td>0.026287</td>\n",
       "      <td>0.999510</td>\n",
       "      <td>2.582057</td>\n",
       "      <td>0.014407</td>\n",
       "    </tr>\n",
       "    <tr>\n",
       "      <th>44</th>\n",
       "      <td></td>\n",
       "      <td>2017-11-23 00:06:47</td>\n",
       "      <td>1 min 25.564 sec</td>\n",
       "      <td>44.0</td>\n",
       "      <td>0.091796</td>\n",
       "      <td>0.026287</td>\n",
       "      <td>0.999510</td>\n",
       "      <td>2.582057</td>\n",
       "      <td>0.014407</td>\n",
       "    </tr>\n",
       "    <tr>\n",
       "      <th>45</th>\n",
       "      <td></td>\n",
       "      <td>2017-11-23 00:06:47</td>\n",
       "      <td>1 min 25.583 sec</td>\n",
       "      <td>45.0</td>\n",
       "      <td>0.091796</td>\n",
       "      <td>0.026287</td>\n",
       "      <td>0.999510</td>\n",
       "      <td>2.582057</td>\n",
       "      <td>0.014407</td>\n",
       "    </tr>\n",
       "    <tr>\n",
       "      <th>46</th>\n",
       "      <td></td>\n",
       "      <td>2017-11-23 00:06:47</td>\n",
       "      <td>1 min 25.601 sec</td>\n",
       "      <td>46.0</td>\n",
       "      <td>0.091796</td>\n",
       "      <td>0.026287</td>\n",
       "      <td>0.999510</td>\n",
       "      <td>2.582057</td>\n",
       "      <td>0.014407</td>\n",
       "    </tr>\n",
       "    <tr>\n",
       "      <th>47</th>\n",
       "      <td></td>\n",
       "      <td>2017-11-23 00:06:47</td>\n",
       "      <td>1 min 25.620 sec</td>\n",
       "      <td>47.0</td>\n",
       "      <td>0.091796</td>\n",
       "      <td>0.026287</td>\n",
       "      <td>0.999510</td>\n",
       "      <td>2.582057</td>\n",
       "      <td>0.014407</td>\n",
       "    </tr>\n",
       "    <tr>\n",
       "      <th>48</th>\n",
       "      <td></td>\n",
       "      <td>2017-11-23 00:06:47</td>\n",
       "      <td>1 min 25.639 sec</td>\n",
       "      <td>48.0</td>\n",
       "      <td>0.091796</td>\n",
       "      <td>0.026287</td>\n",
       "      <td>0.999510</td>\n",
       "      <td>2.582057</td>\n",
       "      <td>0.014407</td>\n",
       "    </tr>\n",
       "    <tr>\n",
       "      <th>49</th>\n",
       "      <td></td>\n",
       "      <td>2017-11-23 00:06:47</td>\n",
       "      <td>1 min 25.657 sec</td>\n",
       "      <td>49.0</td>\n",
       "      <td>0.091796</td>\n",
       "      <td>0.026287</td>\n",
       "      <td>0.999510</td>\n",
       "      <td>2.582057</td>\n",
       "      <td>0.014407</td>\n",
       "    </tr>\n",
       "    <tr>\n",
       "      <th>50</th>\n",
       "      <td></td>\n",
       "      <td>2017-11-23 00:06:47</td>\n",
       "      <td>1 min 25.676 sec</td>\n",
       "      <td>50.0</td>\n",
       "      <td>0.091796</td>\n",
       "      <td>0.026287</td>\n",
       "      <td>0.999510</td>\n",
       "      <td>2.582057</td>\n",
       "      <td>0.014407</td>\n",
       "    </tr>\n",
       "  </tbody>\n",
       "</table>\n",
       "</div>"
      ],
      "text/plain": [
       "                timestamp           duration  number_of_trees  training_rmse  \\\n",
       "0     2017-11-23 00:06:46   1 min 24.957 sec              0.0       0.487130   \n",
       "1     2017-11-23 00:06:46   1 min 24.961 sec              1.0       0.251840   \n",
       "2     2017-11-23 00:06:46   1 min 24.965 sec              2.0       0.221615   \n",
       "3     2017-11-23 00:06:46   1 min 24.971 sec              3.0       0.197886   \n",
       "4     2017-11-23 00:06:46   1 min 24.975 sec              4.0       0.190937   \n",
       "5     2017-11-23 00:06:46   1 min 24.982 sec              5.0       0.173597   \n",
       "6     2017-11-23 00:06:46   1 min 24.988 sec              6.0       0.172408   \n",
       "7     2017-11-23 00:06:46   1 min 24.995 sec              7.0       0.156834   \n",
       "8     2017-11-23 00:06:46   1 min 25.003 sec              8.0       0.152822   \n",
       "9     2017-11-23 00:06:46   1 min 25.012 sec              9.0       0.131985   \n",
       "10    2017-11-23 00:06:46   1 min 25.022 sec             10.0       0.132196   \n",
       "11    2017-11-23 00:06:46   1 min 25.034 sec             11.0       0.128286   \n",
       "12    2017-11-23 00:06:46   1 min 25.045 sec             12.0       0.147283   \n",
       "13    2017-11-23 00:06:46   1 min 25.056 sec             13.0       0.125570   \n",
       "14    2017-11-23 00:06:46   1 min 25.069 sec             14.0       0.115262   \n",
       "15    2017-11-23 00:06:46   1 min 25.082 sec             15.0       0.102247   \n",
       "16    2017-11-23 00:06:46   1 min 25.096 sec             16.0       0.098904   \n",
       "17    2017-11-23 00:06:46   1 min 25.111 sec             17.0       0.097631   \n",
       "18    2017-11-23 00:06:46   1 min 25.126 sec             18.0       0.096689   \n",
       "19    2017-11-23 00:06:46   1 min 25.141 sec             19.0       0.095796   \n",
       "20    2017-11-23 00:06:46   1 min 25.158 sec             20.0       0.095266   \n",
       "21    2017-11-23 00:06:46   1 min 25.174 sec             21.0       0.093256   \n",
       "22    2017-11-23 00:06:46   1 min 25.191 sec             22.0       0.092603   \n",
       "23    2017-11-23 00:06:46   1 min 25.208 sec             23.0       0.091958   \n",
       "24    2017-11-23 00:06:46   1 min 25.225 sec             24.0       0.091796   \n",
       "25    2017-11-23 00:06:46   1 min 25.241 sec             25.0       0.091796   \n",
       "26    2017-11-23 00:06:46   1 min 25.257 sec             26.0       0.091796   \n",
       "27    2017-11-23 00:06:46   1 min 25.273 sec             27.0       0.091796   \n",
       "28    2017-11-23 00:06:46   1 min 25.289 sec             28.0       0.091796   \n",
       "29    2017-11-23 00:06:46   1 min 25.305 sec             29.0       0.091796   \n",
       "30    2017-11-23 00:06:46   1 min 25.322 sec             30.0       0.091796   \n",
       "31    2017-11-23 00:06:46   1 min 25.338 sec             31.0       0.091796   \n",
       "32    2017-11-23 00:06:46   1 min 25.355 sec             32.0       0.091796   \n",
       "33    2017-11-23 00:06:46   1 min 25.372 sec             33.0       0.091796   \n",
       "34    2017-11-23 00:06:46   1 min 25.388 sec             34.0       0.091796   \n",
       "35    2017-11-23 00:06:47   1 min 25.406 sec             35.0       0.091796   \n",
       "36    2017-11-23 00:06:47   1 min 25.423 sec             36.0       0.091796   \n",
       "37    2017-11-23 00:06:47   1 min 25.440 sec             37.0       0.091796   \n",
       "38    2017-11-23 00:06:47   1 min 25.457 sec             38.0       0.091796   \n",
       "39    2017-11-23 00:06:47   1 min 25.475 sec             39.0       0.091796   \n",
       "40    2017-11-23 00:06:47   1 min 25.493 sec             40.0       0.091796   \n",
       "41    2017-11-23 00:06:47   1 min 25.510 sec             41.0       0.091796   \n",
       "42    2017-11-23 00:06:47   1 min 25.528 sec             42.0       0.091796   \n",
       "43    2017-11-23 00:06:47   1 min 25.546 sec             43.0       0.091796   \n",
       "44    2017-11-23 00:06:47   1 min 25.564 sec             44.0       0.091796   \n",
       "45    2017-11-23 00:06:47   1 min 25.583 sec             45.0       0.091796   \n",
       "46    2017-11-23 00:06:47   1 min 25.601 sec             46.0       0.091796   \n",
       "47    2017-11-23 00:06:47   1 min 25.620 sec             47.0       0.091796   \n",
       "48    2017-11-23 00:06:47   1 min 25.639 sec             48.0       0.091796   \n",
       "49    2017-11-23 00:06:47   1 min 25.657 sec             49.0       0.091796   \n",
       "50    2017-11-23 00:06:47   1 min 25.676 sec             50.0       0.091796   \n",
       "\n",
       "    training_logloss  training_auc  training_lift  \\\n",
       "0           0.667520      0.500000       1.000000   \n",
       "1           0.252756      0.949902       2.582057   \n",
       "2           0.188886      0.965048       2.582057   \n",
       "3           0.139425      0.988156       2.582057   \n",
       "4           0.127495      0.988726       2.582057   \n",
       "5           0.106113      0.992794       2.582057   \n",
       "6           0.102205      0.992815       2.582057   \n",
       "7           0.086669      0.994990       2.582057   \n",
       "8           0.082590      0.995701       2.582057   \n",
       "9           0.064739      0.997898       2.582057   \n",
       "10          0.063152      0.997913       2.582057   \n",
       "11          0.058605      0.998013       2.582057   \n",
       "12          0.095435      0.995462       2.582057   \n",
       "13          0.135516      0.992400       2.582057   \n",
       "14          0.059719      0.995138       2.582057   \n",
       "15          0.037287      0.999387       2.582057   \n",
       "16          0.033794      0.999417       2.582057   \n",
       "17          0.032477      0.999408       2.582057   \n",
       "18          0.031361      0.999445       2.582057   \n",
       "19          0.030177      0.999445       2.582057   \n",
       "20          0.029318      0.999448       2.582057   \n",
       "21          0.027963      0.999498       2.582057   \n",
       "22          0.027418      0.999501       2.582057   \n",
       "23          0.026689      0.999510       2.582057   \n",
       "24          0.026287      0.999510       2.582057   \n",
       "25          0.026287      0.999510       2.582057   \n",
       "26          0.026287      0.999510       2.582057   \n",
       "27          0.026287      0.999510       2.582057   \n",
       "28          0.026287      0.999510       2.582057   \n",
       "29          0.026287      0.999510       2.582057   \n",
       "30          0.026287      0.999510       2.582057   \n",
       "31          0.026287      0.999510       2.582057   \n",
       "32          0.026287      0.999510       2.582057   \n",
       "33          0.026287      0.999510       2.582057   \n",
       "34          0.026287      0.999510       2.582057   \n",
       "35          0.026287      0.999510       2.582057   \n",
       "36          0.026287      0.999510       2.582057   \n",
       "37          0.026287      0.999510       2.582057   \n",
       "38          0.026287      0.999510       2.582057   \n",
       "39          0.026287      0.999510       2.582057   \n",
       "40          0.026287      0.999510       2.582057   \n",
       "41          0.026287      0.999510       2.582057   \n",
       "42          0.026287      0.999510       2.582057   \n",
       "43          0.026287      0.999510       2.582057   \n",
       "44          0.026287      0.999510       2.582057   \n",
       "45          0.026287      0.999510       2.582057   \n",
       "46          0.026287      0.999510       2.582057   \n",
       "47          0.026287      0.999510       2.582057   \n",
       "48          0.026287      0.999510       2.582057   \n",
       "49          0.026287      0.999510       2.582057   \n",
       "50          0.026287      0.999510       2.582057   \n",
       "\n",
       "    training_classification_error  \n",
       "0                        0.612712  \n",
       "1                        0.075424  \n",
       "2                        0.061864  \n",
       "3                        0.050847  \n",
       "4                        0.050000  \n",
       "5                        0.041525  \n",
       "6                        0.041525  \n",
       "7                        0.033051  \n",
       "8                        0.030508  \n",
       "9                        0.021186  \n",
       "10                       0.021186  \n",
       "11                       0.022034  \n",
       "12                       0.026271  \n",
       "13                       0.021186  \n",
       "14                       0.016949  \n",
       "15                       0.015254  \n",
       "16                       0.015254  \n",
       "17                       0.015254  \n",
       "18                       0.015254  \n",
       "19                       0.015254  \n",
       "20                       0.015254  \n",
       "21                       0.014407  \n",
       "22                       0.014407  \n",
       "23                       0.014407  \n",
       "24                       0.014407  \n",
       "25                       0.014407  \n",
       "26                       0.014407  \n",
       "27                       0.014407  \n",
       "28                       0.014407  \n",
       "29                       0.014407  \n",
       "30                       0.014407  \n",
       "31                       0.014407  \n",
       "32                       0.014407  \n",
       "33                       0.014407  \n",
       "34                       0.014407  \n",
       "35                       0.014407  \n",
       "36                       0.014407  \n",
       "37                       0.014407  \n",
       "38                       0.014407  \n",
       "39                       0.014407  \n",
       "40                       0.014407  \n",
       "41                       0.014407  \n",
       "42                       0.014407  \n",
       "43                       0.014407  \n",
       "44                       0.014407  \n",
       "45                       0.014407  \n",
       "46                       0.014407  \n",
       "47                       0.014407  \n",
       "48                       0.014407  \n",
       "49                       0.014407  \n",
       "50                       0.014407  "
      ]
     },
     "execution_count": 90,
     "metadata": {},
     "output_type": "execute_result"
    }
   ],
   "source": [
    "best_model.scoring_history()"
   ]
  },
  {
   "cell_type": "code",
   "execution_count": 91,
   "metadata": {
    "collapsed": true
   },
   "outputs": [],
   "source": [
    "###: Getting GBM model variable importance "
   ]
  },
  {
   "cell_type": "code",
   "execution_count": 92,
   "metadata": {},
   "outputs": [
    {
     "data": {
      "text/plain": [
       "[(u'boat', 116.53804779052734, 1.0, 0.43727160020308076),\n",
       " (u'sex', 82.8009033203125, 0.7105053232841513, 0.31068379966526805),\n",
       " (u'pclass', 19.236738204956055, 0.1650683066146204, 0.07217968257618784),\n",
       " (u'fare', 17.893985748291016, 0.15354629743287587, 0.06714143518373182),\n",
       " (u'cabin', 11.578004837036133, 0.09934956914541035, 0.0434427450797002),\n",
       " (u'age', 8.81291389465332, 0.07562263193643155, 0.033067629278412024),\n",
       " (u'embarked', 7.356020927429199, 0.06312119575446608, 0.027601106274287288),\n",
       " (u'parch', 1.3821443319320679, 0.011860026473211728, 0.005186052754392193),\n",
       " (u'sibsp', 0.8293404579162598, 0.007116478039918494, 0.0031118337403252434),\n",
       " (u'body', 0.08371542394161224, 0.000718352722812789, 0.00031411524461458836)]"
      ]
     },
     "execution_count": 92,
     "metadata": {},
     "output_type": "execute_result"
    }
   ],
   "source": [
    "best_model.varimp()"
   ]
  },
  {
   "cell_type": "code",
   "execution_count": 93,
   "metadata": {
    "collapsed": true
   },
   "outputs": [],
   "source": [
    "###: Getting model variable importance PLOT"
   ]
  },
  {
   "cell_type": "code",
   "execution_count": 94,
   "metadata": {},
   "outputs": [
    {
     "data": {
      "image/png": "[encoded data removed]",
      "text/plain": [
       "<matplotlib.figure.Figure at 0x1237f6a10>"
      ]
     },
     "metadata": {},
     "output_type": "display_data"
    }
   ],
   "source": [
    "best_model.varimp_plot()"
   ]
  },
  {
   "cell_type": "code",
   "execution_count": null,
   "metadata": {
    "collapsed": true
   },
   "outputs": [],
   "source": []
  }
 ],
 "metadata": {
  "kernelspec": {
   "display_name": "Python 2",
   "language": "python",
   "name": "python2"
  },
  "language_info": {
   "codemirror_mode": {
    "name": "ipython",
    "version": 2
   },
   "file_extension": ".py",
   "mimetype": "text/x-python",
   "name": "python",
   "nbconvert_exporter": "python",
   "pygments_lexer": "ipython2",
   "version": "2.7.13"
  }
 },
 "nbformat": 4,
 "nbformat_minor": 2
}
