{
 "cells": [
  {
   "cell_type": "code",
   "execution_count": 1,
   "metadata": {
    "collapsed": true
   },
   "outputs": [],
   "source": [
    "###: Importing H2O Library"
   ]
  },
  {
   "cell_type": "code",
   "execution_count": 2,
   "metadata": {
    "collapsed": true
   },
   "outputs": [],
   "source": [
    "import h2o"
   ]
  },
  {
   "cell_type": "code",
   "execution_count": 3,
   "metadata": {
    "collapsed": true
   },
   "outputs": [],
   "source": [
    "### : Initializing h2O"
   ]
  },
  {
   "cell_type": "code",
   "execution_count": 4,
   "metadata": {},
   "outputs": [
    {
     "name": "stderr",
     "output_type": "stream",
     "text": [
      "ERROR:h2o:Key init.version_check is not a valid config key\n"
     ]
    },
    {
     "name": "stdout",
     "output_type": "stream",
     "text": [
      "Checking whether there is an H2O instance running at http://localhost:54321. connected.\n"
     ]
    },
    {
     "data": {
      "text/html": [
       "<div style=\"overflow:auto\"><table style=\"width:50%\"><tr><td>H2O cluster uptime:</td>\n",
       "<td>1 day 3 hours 25 mins</td></tr>\n",
       "<tr><td>H2O cluster version:</td>\n",
       "<td>3.14.0.7</td></tr>\n",
       "<tr><td>H2O cluster version age:</td>\n",
       "<td>24 days </td></tr>\n",
       "<tr><td>H2O cluster name:</td>\n",
       "<td>H2O_from_python_avkashchauhan_1ocjkz</td></tr>\n",
       "<tr><td>H2O cluster total nodes:</td>\n",
       "<td>1</td></tr>\n",
       "<tr><td>H2O cluster free memory:</td>\n",
       "<td>3.263 Gb</td></tr>\n",
       "<tr><td>H2O cluster total cores:</td>\n",
       "<td>8</td></tr>\n",
       "<tr><td>H2O cluster allowed cores:</td>\n",
       "<td>8</td></tr>\n",
       "<tr><td>H2O cluster status:</td>\n",
       "<td>locked, healthy</td></tr>\n",
       "<tr><td>H2O connection url:</td>\n",
       "<td>http://localhost:54321</td></tr>\n",
       "<tr><td>H2O connection proxy:</td>\n",
       "<td>None</td></tr>\n",
       "<tr><td>H2O internal security:</td>\n",
       "<td>False</td></tr>\n",
       "<tr><td>H2O API Extensions:</td>\n",
       "<td>XGBoost, Algos, AutoML, Core V3, Core V4</td></tr>\n",
       "<tr><td>Python version:</td>\n",
       "<td>2.7.13 final</td></tr></table></div>"
      ],
      "text/plain": [
       "--------------------------  ----------------------------------------\n",
       "H2O cluster uptime:         1 day 3 hours 25 mins\n",
       "H2O cluster version:        3.14.0.7\n",
       "H2O cluster version age:    24 days\n",
       "H2O cluster name:           H2O_from_python_avkashchauhan_1ocjkz\n",
       "H2O cluster total nodes:    1\n",
       "H2O cluster free memory:    3.263 Gb\n",
       "H2O cluster total cores:    8\n",
       "H2O cluster allowed cores:  8\n",
       "H2O cluster status:         locked, healthy\n",
       "H2O connection url:         http://localhost:54321\n",
       "H2O connection proxy:\n",
       "H2O internal security:      False\n",
       "H2O API Extensions:         XGBoost, Algos, AutoML, Core V3, Core V4\n",
       "Python version:             2.7.13 final\n",
       "--------------------------  ----------------------------------------"
      ]
     },
     "metadata": {},
     "output_type": "display_data"
    }
   ],
   "source": [
    "h2o.init()"
   ]
  },
  {
   "cell_type": "code",
   "execution_count": 5,
   "metadata": {
    "collapsed": true
   },
   "outputs": [],
   "source": [
    "###: Importing Dataset"
   ]
  },
  {
   "cell_type": "code",
   "execution_count": 6,
   "metadata": {},
   "outputs": [
    {
     "name": "stdout",
     "output_type": "stream",
     "text": [
      "Parse progress: |█████████████████████████████████████████████████████████| 100%\n"
     ]
    }
   ],
   "source": [
    "iris_df = h2o.import_file(\"https://raw.githubusercontent.com/Avkash/mldl/master/data/iris.csv\", \n",
    "                          col_names=[\"sepal_length\", \"sepal_width\", \"petal_length\", \"petal_width\", \"iris_class\"])"
   ]
  },
  {
   "cell_type": "code",
   "execution_count": 7,
   "metadata": {
    "collapsed": true
   },
   "outputs": [],
   "source": [
    "###: Understanding Dataset"
   ]
  },
  {
   "cell_type": "code",
   "execution_count": 8,
   "metadata": {},
   "outputs": [
    {
     "name": "stdout",
     "output_type": "stream",
     "text": [
      "Rows:150\n",
      "Cols:5\n",
      "\n",
      "\n"
     ]
    },
    {
     "data": {
      "text/html": [
       "<table>\n",
       "<thead>\n",
       "<tr><th>       </th><th>sepal_length  </th><th>sepal_width   </th><th>petal_length  </th><th>petal_width   </th><th>iris_class  </th></tr>\n",
       "</thead>\n",
       "<tbody>\n",
       "<tr><td>type   </td><td>real          </td><td>real          </td><td>real          </td><td>real          </td><td>enum        </td></tr>\n",
       "<tr><td>mins   </td><td>4.3           </td><td>2.0           </td><td>1.0           </td><td>0.1           </td><td>            </td></tr>\n",
       "<tr><td>mean   </td><td>5.84333333333 </td><td>3.054         </td><td>3.75866666667 </td><td>1.19866666667 </td><td>            </td></tr>\n",
       "<tr><td>maxs   </td><td>7.9           </td><td>4.4           </td><td>6.9           </td><td>2.5           </td><td>            </td></tr>\n",
       "<tr><td>sigma  </td><td>0.828066127978</td><td>0.433594311362</td><td>1.76442041995 </td><td>0.763160741701</td><td>            </td></tr>\n",
       "<tr><td>zeros  </td><td>0             </td><td>0             </td><td>0             </td><td>0             </td><td>            </td></tr>\n",
       "<tr><td>missing</td><td>0             </td><td>0             </td><td>0             </td><td>0             </td><td>0           </td></tr>\n",
       "<tr><td>0      </td><td>5.1           </td><td>3.5           </td><td>1.4           </td><td>0.2           </td><td>Iris-setosa </td></tr>\n",
       "<tr><td>1      </td><td>4.9           </td><td>3.0           </td><td>1.4           </td><td>0.2           </td><td>Iris-setosa </td></tr>\n",
       "<tr><td>2      </td><td>4.7           </td><td>3.2           </td><td>1.3           </td><td>0.2           </td><td>Iris-setosa </td></tr>\n",
       "<tr><td>3      </td><td>4.6           </td><td>3.1           </td><td>1.5           </td><td>0.2           </td><td>Iris-setosa </td></tr>\n",
       "<tr><td>4      </td><td>5.0           </td><td>3.6           </td><td>1.4           </td><td>0.2           </td><td>Iris-setosa </td></tr>\n",
       "<tr><td>5      </td><td>5.4           </td><td>3.9           </td><td>1.7           </td><td>0.4           </td><td>Iris-setosa </td></tr>\n",
       "<tr><td>6      </td><td>4.6           </td><td>3.4           </td><td>1.4           </td><td>0.3           </td><td>Iris-setosa </td></tr>\n",
       "<tr><td>7      </td><td>5.0           </td><td>3.4           </td><td>1.5           </td><td>0.2           </td><td>Iris-setosa </td></tr>\n",
       "<tr><td>8      </td><td>4.4           </td><td>2.9           </td><td>1.4           </td><td>0.2           </td><td>Iris-setosa </td></tr>\n",
       "<tr><td>9      </td><td>4.9           </td><td>3.1           </td><td>1.5           </td><td>0.1           </td><td>Iris-setosa </td></tr>\n",
       "</tbody>\n",
       "</table>"
      ]
     },
     "metadata": {},
     "output_type": "display_data"
    }
   ],
   "source": [
    "iris_df.describe()"
   ]
  },
  {
   "cell_type": "code",
   "execution_count": 9,
   "metadata": {
    "collapsed": true
   },
   "outputs": [],
   "source": [
    "###: Visualizing Dataset"
   ]
  },
  {
   "cell_type": "code",
   "execution_count": 10,
   "metadata": {},
   "outputs": [
    {
     "data": {
      "text/html": [
       "<table>\n",
       "<thead>\n",
       "<tr><th style=\"text-align: right;\">  sepal_length</th><th style=\"text-align: right;\">  sepal_width</th><th style=\"text-align: right;\">  petal_length</th><th style=\"text-align: right;\">  petal_width</th><th>iris_class  </th></tr>\n",
       "</thead>\n",
       "<tbody>\n",
       "<tr><td style=\"text-align: right;\">           5.1</td><td style=\"text-align: right;\">          3.5</td><td style=\"text-align: right;\">           1.4</td><td style=\"text-align: right;\">          0.2</td><td>Iris-setosa </td></tr>\n",
       "<tr><td style=\"text-align: right;\">           4.9</td><td style=\"text-align: right;\">          3  </td><td style=\"text-align: right;\">           1.4</td><td style=\"text-align: right;\">          0.2</td><td>Iris-setosa </td></tr>\n",
       "<tr><td style=\"text-align: right;\">           4.7</td><td style=\"text-align: right;\">          3.2</td><td style=\"text-align: right;\">           1.3</td><td style=\"text-align: right;\">          0.2</td><td>Iris-setosa </td></tr>\n",
       "<tr><td style=\"text-align: right;\">           4.6</td><td style=\"text-align: right;\">          3.1</td><td style=\"text-align: right;\">           1.5</td><td style=\"text-align: right;\">          0.2</td><td>Iris-setosa </td></tr>\n",
       "<tr><td style=\"text-align: right;\">           5  </td><td style=\"text-align: right;\">          3.6</td><td style=\"text-align: right;\">           1.4</td><td style=\"text-align: right;\">          0.2</td><td>Iris-setosa </td></tr>\n",
       "<tr><td style=\"text-align: right;\">           5.4</td><td style=\"text-align: right;\">          3.9</td><td style=\"text-align: right;\">           1.7</td><td style=\"text-align: right;\">          0.4</td><td>Iris-setosa </td></tr>\n",
       "<tr><td style=\"text-align: right;\">           4.6</td><td style=\"text-align: right;\">          3.4</td><td style=\"text-align: right;\">           1.4</td><td style=\"text-align: right;\">          0.3</td><td>Iris-setosa </td></tr>\n",
       "<tr><td style=\"text-align: right;\">           5  </td><td style=\"text-align: right;\">          3.4</td><td style=\"text-align: right;\">           1.5</td><td style=\"text-align: right;\">          0.2</td><td>Iris-setosa </td></tr>\n",
       "<tr><td style=\"text-align: right;\">           4.4</td><td style=\"text-align: right;\">          2.9</td><td style=\"text-align: right;\">           1.4</td><td style=\"text-align: right;\">          0.2</td><td>Iris-setosa </td></tr>\n",
       "<tr><td style=\"text-align: right;\">           4.9</td><td style=\"text-align: right;\">          3.1</td><td style=\"text-align: right;\">           1.5</td><td style=\"text-align: right;\">          0.1</td><td>Iris-setosa </td></tr>\n",
       "</tbody>\n",
       "</table>"
      ]
     },
     "metadata": {},
     "output_type": "display_data"
    },
    {
     "data": {
      "text/plain": []
     },
     "execution_count": 10,
     "metadata": {},
     "output_type": "execute_result"
    }
   ],
   "source": [
    "iris_df"
   ]
  },
  {
   "cell_type": "code",
   "execution_count": 11,
   "metadata": {
    "collapsed": true
   },
   "outputs": [],
   "source": [
    "###: Setting response columns as factor"
   ]
  },
  {
   "cell_type": "code",
   "execution_count": 12,
   "metadata": {
    "collapsed": true
   },
   "outputs": [],
   "source": [
    "iris_df['iris_class'] = iris_df['iris_class'].asfactor()"
   ]
  },
  {
   "cell_type": "code",
   "execution_count": 13,
   "metadata": {
    "collapsed": true
   },
   "outputs": [],
   "source": [
    "###: Getting the list of classes in the response column"
   ]
  },
  {
   "cell_type": "code",
   "execution_count": 14,
   "metadata": {},
   "outputs": [
    {
     "data": {
      "text/plain": [
       "[['Iris-setosa', 'Iris-versicolor', 'Iris-virginica']]"
      ]
     },
     "execution_count": 14,
     "metadata": {},
     "output_type": "execute_result"
    }
   ],
   "source": [
    "iris_df['iris_class'].levels()"
   ]
  },
  {
   "cell_type": "code",
   "execution_count": 15,
   "metadata": {
    "collapsed": true
   },
   "outputs": [],
   "source": [
    "###: Setting Response column"
   ]
  },
  {
   "cell_type": "code",
   "execution_count": 16,
   "metadata": {
    "collapsed": true
   },
   "outputs": [],
   "source": [
    "response = \"iris_class\""
   ]
  },
  {
   "cell_type": "code",
   "execution_count": 17,
   "metadata": {
    "collapsed": true
   },
   "outputs": [],
   "source": [
    "###: Settings all features for model building"
   ]
  },
  {
   "cell_type": "code",
   "execution_count": 18,
   "metadata": {},
   "outputs": [
    {
     "name": "stdout",
     "output_type": "stream",
     "text": [
      "[u'sepal_length', u'sepal_width', u'petal_length', u'petal_width']\n"
     ]
    }
   ],
   "source": [
    "features= iris_df.col_names\n",
    "features.remove(response)\n",
    "print(features)"
   ]
  },
  {
   "cell_type": "code",
   "execution_count": 19,
   "metadata": {
    "collapsed": true
   },
   "outputs": [],
   "source": [
    "###: Importing H2O GBM library"
   ]
  },
  {
   "cell_type": "code",
   "execution_count": 20,
   "metadata": {
    "collapsed": true
   },
   "outputs": [],
   "source": [
    "from h2o.estimators.gbm import H2OGradientBoostingEstimator"
   ]
  },
  {
   "cell_type": "code",
   "execution_count": 21,
   "metadata": {
    "collapsed": true
   },
   "outputs": [],
   "source": [
    "###: Setting H2O GBM model configuration"
   ]
  },
  {
   "cell_type": "code",
   "execution_count": 22,
   "metadata": {},
   "outputs": [],
   "source": [
    "iris_gbm = H2OGradientBoostingEstimator(nfolds = 5,\n",
    "                  distribution=\"AUTO\",\n",
    "                   ntrees=10,\n",
    "                   max_depth=3,\n",
    "                   min_rows=2,\n",
    "                   learn_rate=0.2,\n",
    "                   keep_cross_validation_predictions=True,\n",
    "                   seed = 9090\n",
    ")"
   ]
  },
  {
   "cell_type": "code",
   "execution_count": 23,
   "metadata": {
    "collapsed": true
   },
   "outputs": [],
   "source": [
    "###: Training H2O GBM Model"
   ]
  },
  {
   "cell_type": "code",
   "execution_count": 24,
   "metadata": {},
   "outputs": [
    {
     "name": "stdout",
     "output_type": "stream",
     "text": [
      "gbm Model Build progress: |███████████████████████████████████████████████| 100%\n"
     ]
    }
   ],
   "source": [
    "iris_gbm.train(x = features, y = response, training_frame=iris_df)"
   ]
  },
  {
   "cell_type": "code",
   "execution_count": 25,
   "metadata": {
    "collapsed": true
   },
   "outputs": [],
   "source": [
    "###: Getting Model details"
   ]
  },
  {
   "cell_type": "code",
   "execution_count": 26,
   "metadata": {},
   "outputs": [
    {
     "name": "stdout",
     "output_type": "stream",
     "text": [
      "Model Details\n",
      "=============\n",
      "H2OGradientBoostingEstimator :  Gradient Boosting Machine\n",
      "Model Key:  GBM_model_python_1510608322538_7007\n",
      "\n",
      "\n",
      "ModelMetricsMultinomial: gbm\n",
      "** Reported on train data. **\n",
      "\n",
      "MSE: 0.00976685303214\n",
      "RMSE: 0.0988273900907\n",
      "LogLoss: 0.0782480973696\n",
      "Mean Per-Class Error: 0.00666666666667\n",
      "Confusion Matrix: Row labels: Actual class; Column labels: Predicted class\n",
      "\n"
     ]
    },
    {
     "data": {
      "text/html": [
       "<div style=\"overflow:auto\"><table style=\"width:50%\"><tr><td><b>Iris-setosa</b></td>\n",
       "<td><b>Iris-versicolor</b></td>\n",
       "<td><b>Iris-virginica</b></td>\n",
       "<td><b>Error</b></td>\n",
       "<td><b>Rate</b></td></tr>\n",
       "<tr><td>50.0</td>\n",
       "<td>0.0</td>\n",
       "<td>0.0</td>\n",
       "<td>0.0</td>\n",
       "<td>0 / 50</td></tr>\n",
       "<tr><td>0.0</td>\n",
       "<td>49.0</td>\n",
       "<td>1.0</td>\n",
       "<td>0.02</td>\n",
       "<td>1 / 50</td></tr>\n",
       "<tr><td>0.0</td>\n",
       "<td>0.0</td>\n",
       "<td>50.0</td>\n",
       "<td>0.0</td>\n",
       "<td>0 / 50</td></tr>\n",
       "<tr><td>50.0</td>\n",
       "<td>49.0</td>\n",
       "<td>51.0</td>\n",
       "<td>0.0066667</td>\n",
       "<td>1 / 150</td></tr></table></div>"
      ],
      "text/plain": [
       "Iris-setosa    Iris-versicolor    Iris-virginica    Error       Rate\n",
       "-------------  -----------------  ----------------  ----------  -------\n",
       "50             0                  0                 0           0 / 50\n",
       "0              49                 1                 0.02        1 / 50\n",
       "0              0                  50                0           0 / 50\n",
       "50             49                 51                0.00666667  1 / 150"
      ]
     },
     "metadata": {},
     "output_type": "display_data"
    },
    {
     "name": "stdout",
     "output_type": "stream",
     "text": [
      "Top-3 Hit Ratios: \n"
     ]
    },
    {
     "data": {
      "text/html": [
       "<div style=\"overflow:auto\"><table style=\"width:50%\"><tr><td><b>k</b></td>\n",
       "<td><b>hit_ratio</b></td></tr>\n",
       "<tr><td>1</td>\n",
       "<td>0.9933333</td></tr>\n",
       "<tr><td>2</td>\n",
       "<td>1.0</td></tr>\n",
       "<tr><td>3</td>\n",
       "<td>1.0</td></tr></table></div>"
      ],
      "text/plain": [
       "k    hit_ratio\n",
       "---  -----------\n",
       "1    0.993333\n",
       "2    1\n",
       "3    1"
      ]
     },
     "metadata": {},
     "output_type": "display_data"
    },
    {
     "name": "stdout",
     "output_type": "stream",
     "text": [
      "\n",
      "ModelMetricsMultinomial: gbm\n",
      "** Reported on cross-validation data. **\n",
      "\n",
      "MSE: 0.044011053568\n",
      "RMSE: 0.209788115888\n",
      "LogLoss: 0.186998544047\n",
      "Mean Per-Class Error: 0.0466666666667\n",
      "Confusion Matrix: Row labels: Actual class; Column labels: Predicted class\n",
      "\n"
     ]
    },
    {
     "data": {
      "text/html": [
       "<div style=\"overflow:auto\"><table style=\"width:50%\"><tr><td><b>Iris-setosa</b></td>\n",
       "<td><b>Iris-versicolor</b></td>\n",
       "<td><b>Iris-virginica</b></td>\n",
       "<td><b>Error</b></td>\n",
       "<td><b>Rate</b></td></tr>\n",
       "<tr><td>50.0</td>\n",
       "<td>0.0</td>\n",
       "<td>0.0</td>\n",
       "<td>0.0</td>\n",
       "<td>0 / 50</td></tr>\n",
       "<tr><td>0.0</td>\n",
       "<td>45.0</td>\n",
       "<td>5.0</td>\n",
       "<td>0.1</td>\n",
       "<td>5 / 50</td></tr>\n",
       "<tr><td>0.0</td>\n",
       "<td>2.0</td>\n",
       "<td>48.0</td>\n",
       "<td>0.04</td>\n",
       "<td>2 / 50</td></tr>\n",
       "<tr><td>50.0</td>\n",
       "<td>47.0</td>\n",
       "<td>53.0</td>\n",
       "<td>0.0466667</td>\n",
       "<td>7 / 150</td></tr></table></div>"
      ],
      "text/plain": [
       "Iris-setosa    Iris-versicolor    Iris-virginica    Error      Rate\n",
       "-------------  -----------------  ----------------  ---------  -------\n",
       "50             0                  0                 0          0 / 50\n",
       "0              45                 5                 0.1        5 / 50\n",
       "0              2                  48                0.04       2 / 50\n",
       "50             47                 53                0.0466667  7 / 150"
      ]
     },
     "metadata": {},
     "output_type": "display_data"
    },
    {
     "name": "stdout",
     "output_type": "stream",
     "text": [
      "Top-3 Hit Ratios: \n"
     ]
    },
    {
     "data": {
      "text/html": [
       "<div style=\"overflow:auto\"><table style=\"width:50%\"><tr><td><b>k</b></td>\n",
       "<td><b>hit_ratio</b></td></tr>\n",
       "<tr><td>1</td>\n",
       "<td>0.9533333</td></tr>\n",
       "<tr><td>2</td>\n",
       "<td>0.9933333</td></tr>\n",
       "<tr><td>3</td>\n",
       "<td>1.0</td></tr></table></div>"
      ],
      "text/plain": [
       "k    hit_ratio\n",
       "---  -----------\n",
       "1    0.953333\n",
       "2    0.993333\n",
       "3    1"
      ]
     },
     "metadata": {},
     "output_type": "display_data"
    },
    {
     "name": "stdout",
     "output_type": "stream",
     "text": [
      "Cross-Validation Metrics Summary: \n"
     ]
    },
    {
     "data": {
      "text/html": [
       "<div style=\"overflow:auto\"><table style=\"width:50%\"><tr><td><b></b></td>\n",
       "<td><b>mean</b></td>\n",
       "<td><b>sd</b></td>\n",
       "<td><b>cv_1_valid</b></td>\n",
       "<td><b>cv_2_valid</b></td>\n",
       "<td><b>cv_3_valid</b></td>\n",
       "<td><b>cv_4_valid</b></td>\n",
       "<td><b>cv_5_valid</b></td></tr>\n",
       "<tr><td>accuracy</td>\n",
       "<td>0.9543108</td>\n",
       "<td>0.0086312</td>\n",
       "<td>0.9393939</td>\n",
       "<td>0.9642857</td>\n",
       "<td>0.9655172</td>\n",
       "<td>0.962963</td>\n",
       "<td>0.9393939</td></tr>\n",
       "<tr><td>err</td>\n",
       "<td>0.0456892</td>\n",
       "<td>0.0086312</td>\n",
       "<td>0.0606061</td>\n",
       "<td>0.0357143</td>\n",
       "<td>0.0344828</td>\n",
       "<td>0.0370370</td>\n",
       "<td>0.0606061</td></tr>\n",
       "<tr><td>err_count</td>\n",
       "<td>1.4</td>\n",
       "<td>0.3464102</td>\n",
       "<td>2.0</td>\n",
       "<td>1.0</td>\n",
       "<td>1.0</td>\n",
       "<td>1.0</td>\n",
       "<td>2.0</td></tr>\n",
       "<tr><td>logloss</td>\n",
       "<td>0.1858276</td>\n",
       "<td>0.0297258</td>\n",
       "<td>0.2629135</td>\n",
       "<td>0.1509837</td>\n",
       "<td>0.1713898</td>\n",
       "<td>0.1952162</td>\n",
       "<td>0.1486348</td></tr>\n",
       "<tr><td>max_per_class_error</td>\n",
       "<td>0.1435065</td>\n",
       "<td>0.0514208</td>\n",
       "<td>0.125</td>\n",
       "<td>0.0909091</td>\n",
       "<td>0.0909091</td>\n",
       "<td>0.125</td>\n",
       "<td>0.2857143</td></tr>\n",
       "<tr><td>mean_per_class_accuracy</td>\n",
       "<td>0.9521645</td>\n",
       "<td>0.0171403</td>\n",
       "<td>0.9583333</td>\n",
       "<td>0.969697</td>\n",
       "<td>0.969697</td>\n",
       "<td>0.9583333</td>\n",
       "<td>0.9047619</td></tr>\n",
       "<tr><td>mean_per_class_error</td>\n",
       "<td>0.0478355</td>\n",
       "<td>0.0171403</td>\n",
       "<td>0.0416667</td>\n",
       "<td>0.0303030</td>\n",
       "<td>0.0303030</td>\n",
       "<td>0.0416667</td>\n",
       "<td>0.0952381</td></tr>\n",
       "<tr><td>mse</td>\n",
       "<td>0.0435585</td>\n",
       "<td>0.0059118</td>\n",
       "<td>0.0600169</td>\n",
       "<td>0.0403763</td>\n",
       "<td>0.0368059</td>\n",
       "<td>0.0393992</td>\n",
       "<td>0.0411944</td></tr>\n",
       "<tr><td>r2</td>\n",
       "<td>0.9316378</td>\n",
       "<td>0.0172152</td>\n",
       "<td>0.8832886</td>\n",
       "<td>0.9460732</td>\n",
       "<td>0.9407017</td>\n",
       "<td>0.9404108</td>\n",
       "<td>0.9477148</td></tr>\n",
       "<tr><td>rmse</td>\n",
       "<td>0.2078454</td>\n",
       "<td>0.0133946</td>\n",
       "<td>0.2449835</td>\n",
       "<td>0.2009387</td>\n",
       "<td>0.1918485</td>\n",
       "<td>0.1984923</td>\n",
       "<td>0.2029640</td></tr></table></div>"
      ],
      "text/plain": [
       "                         mean       sd          cv_1_valid    cv_2_valid    cv_3_valid    cv_4_valid    cv_5_valid\n",
       "-----------------------  ---------  ----------  ------------  ------------  ------------  ------------  ------------\n",
       "accuracy                 0.954311   0.00863116  0.939394      0.964286      0.965517      0.962963      0.939394\n",
       "err                      0.0456892  0.00863116  0.0606061     0.0357143     0.0344828     0.037037      0.0606061\n",
       "err_count                1.4        0.34641     2             1             1             1             2\n",
       "logloss                  0.185828   0.0297258   0.262914      0.150984      0.17139       0.195216      0.148635\n",
       "max_per_class_error      0.143507   0.0514208   0.125         0.0909091     0.0909091     0.125         0.285714\n",
       "mean_per_class_accuracy  0.952165   0.0171403   0.958333      0.969697      0.969697      0.958333      0.904762\n",
       "mean_per_class_error     0.0478355  0.0171403   0.0416667     0.030303      0.030303      0.0416667     0.0952381\n",
       "mse                      0.0435585  0.00591179  0.0600169     0.0403763     0.0368059     0.0393992     0.0411944\n",
       "r2                       0.931638   0.0172152   0.883289      0.946073      0.940702      0.940411      0.947715\n",
       "rmse                     0.207845   0.0133946   0.244983      0.200939      0.191849      0.198492      0.202964"
      ]
     },
     "metadata": {},
     "output_type": "display_data"
    },
    {
     "name": "stdout",
     "output_type": "stream",
     "text": [
      "Scoring History: \n"
     ]
    },
    {
     "data": {
      "text/html": [
       "<div style=\"overflow:auto\"><table style=\"width:50%\"><tr><td><b></b></td>\n",
       "<td><b>timestamp</b></td>\n",
       "<td><b>duration</b></td>\n",
       "<td><b>number_of_trees</b></td>\n",
       "<td><b>training_rmse</b></td>\n",
       "<td><b>training_logloss</b></td>\n",
       "<td><b>training_classification_error</b></td></tr>\n",
       "<tr><td></td>\n",
       "<td>2017-11-14 16:51:22</td>\n",
       "<td> 0.031 sec</td>\n",
       "<td>0.0</td>\n",
       "<td>0.6666667</td>\n",
       "<td>1.0986123</td>\n",
       "<td>0.64</td></tr>\n",
       "<tr><td></td>\n",
       "<td>2017-11-14 16:51:22</td>\n",
       "<td> 0.033 sec</td>\n",
       "<td>1.0</td>\n",
       "<td>0.5313437</td>\n",
       "<td>0.7584115</td>\n",
       "<td>0.0266667</td></tr>\n",
       "<tr><td></td>\n",
       "<td>2017-11-14 16:51:22</td>\n",
       "<td> 0.034 sec</td>\n",
       "<td>2.0</td>\n",
       "<td>0.4233365</td>\n",
       "<td>0.5505065</td>\n",
       "<td>0.0266667</td></tr>\n",
       "<tr><td></td>\n",
       "<td>2017-11-14 16:51:22</td>\n",
       "<td> 0.035 sec</td>\n",
       "<td>3.0</td>\n",
       "<td>0.3390480</td>\n",
       "<td>0.4121733</td>\n",
       "<td>0.0266667</td></tr>\n",
       "<tr><td></td>\n",
       "<td>2017-11-14 16:51:22</td>\n",
       "<td> 0.036 sec</td>\n",
       "<td>4.0</td>\n",
       "<td>0.2728966</td>\n",
       "<td>0.3135394</td>\n",
       "<td>0.02</td></tr>\n",
       "<tr><td></td>\n",
       "<td>2017-11-14 16:51:22</td>\n",
       "<td> 0.037 sec</td>\n",
       "<td>5.0</td>\n",
       "<td>0.2232307</td>\n",
       "<td>0.2435139</td>\n",
       "<td>0.02</td></tr>\n",
       "<tr><td></td>\n",
       "<td>2017-11-14 16:51:22</td>\n",
       "<td> 0.039 sec</td>\n",
       "<td>6.0</td>\n",
       "<td>0.1846307</td>\n",
       "<td>0.1909104</td>\n",
       "<td>0.0066667</td></tr>\n",
       "<tr><td></td>\n",
       "<td>2017-11-14 16:51:22</td>\n",
       "<td> 0.040 sec</td>\n",
       "<td>7.0</td>\n",
       "<td>0.1552645</td>\n",
       "<td>0.1513943</td>\n",
       "<td>0.0066667</td></tr>\n",
       "<tr><td></td>\n",
       "<td>2017-11-14 16:51:22</td>\n",
       "<td> 0.041 sec</td>\n",
       "<td>8.0</td>\n",
       "<td>0.1326877</td>\n",
       "<td>0.1208821</td>\n",
       "<td>0.0066667</td></tr>\n",
       "<tr><td></td>\n",
       "<td>2017-11-14 16:51:22</td>\n",
       "<td> 0.042 sec</td>\n",
       "<td>9.0</td>\n",
       "<td>0.1144659</td>\n",
       "<td>0.0975897</td>\n",
       "<td>0.0066667</td></tr>\n",
       "<tr><td></td>\n",
       "<td>2017-11-14 16:51:22</td>\n",
       "<td> 0.043 sec</td>\n",
       "<td>10.0</td>\n",
       "<td>0.0988274</td>\n",
       "<td>0.0782481</td>\n",
       "<td>0.0066667</td></tr></table></div>"
      ],
      "text/plain": [
       "    timestamp            duration    number_of_trees    training_rmse    training_logloss    training_classification_error\n",
       "--  -------------------  ----------  -----------------  ---------------  ------------------  -------------------------------\n",
       "    2017-11-14 16:51:22  0.031 sec   0                  0.666667         1.09861             0.64\n",
       "    2017-11-14 16:51:22  0.033 sec   1                  0.531344         0.758411            0.0266667\n",
       "    2017-11-14 16:51:22  0.034 sec   2                  0.423337         0.550506            0.0266667\n",
       "    2017-11-14 16:51:22  0.035 sec   3                  0.339048         0.412173            0.0266667\n",
       "    2017-11-14 16:51:22  0.036 sec   4                  0.272897         0.313539            0.02\n",
       "    2017-11-14 16:51:22  0.037 sec   5                  0.223231         0.243514            0.02\n",
       "    2017-11-14 16:51:22  0.039 sec   6                  0.184631         0.19091             0.00666667\n",
       "    2017-11-14 16:51:22  0.040 sec   7                  0.155265         0.151394            0.00666667\n",
       "    2017-11-14 16:51:22  0.041 sec   8                  0.132688         0.120882            0.00666667\n",
       "    2017-11-14 16:51:22  0.042 sec   9                  0.114466         0.0975897           0.00666667\n",
       "    2017-11-14 16:51:22  0.043 sec   10                 0.0988274        0.0782481           0.00666667"
      ]
     },
     "metadata": {},
     "output_type": "display_data"
    },
    {
     "name": "stdout",
     "output_type": "stream",
     "text": [
      "Variable Importances: \n"
     ]
    },
    {
     "data": {
      "text/html": [
       "<div style=\"overflow:auto\"><table style=\"width:50%\"><tr><td><b>variable</b></td>\n",
       "<td><b>relative_importance</b></td>\n",
       "<td><b>scaled_importance</b></td>\n",
       "<td><b>percentage</b></td></tr>\n",
       "<tr><td>petal_width</td>\n",
       "<td>192.7606354</td>\n",
       "<td>1.0</td>\n",
       "<td>0.7743739</td></tr>\n",
       "<tr><td>petal_length</td>\n",
       "<td>54.0381165</td>\n",
       "<td>0.2803379</td>\n",
       "<td>0.2170864</td></tr>\n",
       "<tr><td>sepal_length</td>\n",
       "<td>1.3527106</td>\n",
       "<td>0.0070176</td>\n",
       "<td>0.0054342</td></tr>\n",
       "<tr><td>sepal_width</td>\n",
       "<td>0.7730322</td>\n",
       "<td>0.0040103</td>\n",
       "<td>0.0031055</td></tr></table></div>"
      ],
      "text/plain": [
       "variable      relative_importance    scaled_importance    percentage\n",
       "------------  ---------------------  -------------------  ------------\n",
       "petal_width   192.761                1                    0.774374\n",
       "petal_length  54.0381                0.280338             0.217086\n",
       "sepal_length  1.35271                0.00701757           0.00543422\n",
       "sepal_width   0.773032               0.00401032           0.00310549"
      ]
     },
     "metadata": {},
     "output_type": "display_data"
    },
    {
     "data": {
      "text/plain": []
     },
     "execution_count": 26,
     "metadata": {},
     "output_type": "execute_result"
    }
   ],
   "source": [
    "iris_gbm"
   ]
  },
  {
   "cell_type": "code",
   "execution_count": 27,
   "metadata": {
    "collapsed": true
   },
   "outputs": [],
   "source": [
    "###: Getting model performance based on cross validation"
   ]
  },
  {
   "cell_type": "code",
   "execution_count": 28,
   "metadata": {},
   "outputs": [
    {
     "name": "stdout",
     "output_type": "stream",
     "text": [
      "\n",
      "ModelMetricsMultinomial: gbm\n",
      "** Reported on cross-validation data. **\n",
      "\n",
      "MSE: 0.044011053568\n",
      "RMSE: 0.209788115888\n",
      "LogLoss: 0.186998544047\n",
      "Mean Per-Class Error: 0.0466666666667\n",
      "Confusion Matrix: Row labels: Actual class; Column labels: Predicted class\n",
      "\n"
     ]
    },
    {
     "data": {
      "text/html": [
       "<div style=\"overflow:auto\"><table style=\"width:50%\"><tr><td><b>Iris-setosa</b></td>\n",
       "<td><b>Iris-versicolor</b></td>\n",
       "<td><b>Iris-virginica</b></td>\n",
       "<td><b>Error</b></td>\n",
       "<td><b>Rate</b></td></tr>\n",
       "<tr><td>50.0</td>\n",
       "<td>0.0</td>\n",
       "<td>0.0</td>\n",
       "<td>0.0</td>\n",
       "<td>0 / 50</td></tr>\n",
       "<tr><td>0.0</td>\n",
       "<td>45.0</td>\n",
       "<td>5.0</td>\n",
       "<td>0.1</td>\n",
       "<td>5 / 50</td></tr>\n",
       "<tr><td>0.0</td>\n",
       "<td>2.0</td>\n",
       "<td>48.0</td>\n",
       "<td>0.04</td>\n",
       "<td>2 / 50</td></tr>\n",
       "<tr><td>50.0</td>\n",
       "<td>47.0</td>\n",
       "<td>53.0</td>\n",
       "<td>0.0466667</td>\n",
       "<td>7 / 150</td></tr></table></div>"
      ],
      "text/plain": [
       "Iris-setosa    Iris-versicolor    Iris-virginica    Error      Rate\n",
       "-------------  -----------------  ----------------  ---------  -------\n",
       "50             0                  0                 0          0 / 50\n",
       "0              45                 5                 0.1        5 / 50\n",
       "0              2                  48                0.04       2 / 50\n",
       "50             47                 53                0.0466667  7 / 150"
      ]
     },
     "metadata": {},
     "output_type": "display_data"
    },
    {
     "name": "stdout",
     "output_type": "stream",
     "text": [
      "Top-3 Hit Ratios: \n"
     ]
    },
    {
     "data": {
      "text/html": [
       "<div style=\"overflow:auto\"><table style=\"width:50%\"><tr><td><b>k</b></td>\n",
       "<td><b>hit_ratio</b></td></tr>\n",
       "<tr><td>1</td>\n",
       "<td>0.9533333</td></tr>\n",
       "<tr><td>2</td>\n",
       "<td>0.9933333</td></tr>\n",
       "<tr><td>3</td>\n",
       "<td>1.0</td></tr></table></div>"
      ],
      "text/plain": [
       "k    hit_ratio\n",
       "---  -----------\n",
       "1    0.953333\n",
       "2    0.993333\n",
       "3    1"
      ]
     },
     "metadata": {},
     "output_type": "display_data"
    },
    {
     "data": {
      "text/plain": []
     },
     "execution_count": 28,
     "metadata": {},
     "output_type": "execute_result"
    }
   ],
   "source": [
    "iris_gbm.model_performance(xval=True)"
   ]
  },
  {
   "cell_type": "code",
   "execution_count": 29,
   "metadata": {
    "collapsed": true
   },
   "outputs": [],
   "source": [
    "###: Creating a test data frame to perform prediction"
   ]
  },
  {
   "cell_type": "code",
   "execution_count": 30,
   "metadata": {},
   "outputs": [
    {
     "name": "stdout",
     "output_type": "stream",
     "text": [
      "Parse progress: |█████████████████████████████████████████████████████████| 100%\n"
     ]
    }
   ],
   "source": [
    "df_test = h2o.H2OFrame.from_python({\"sepal_length\":3.4, \"sepal_width\" : 3.2, \"petal_length\" : 1.4, \"petal_width\" : 3.2})\n"
   ]
  },
  {
   "cell_type": "code",
   "execution_count": 31,
   "metadata": {},
   "outputs": [
    {
     "data": {
      "text/html": [
       "<table>\n",
       "<thead>\n",
       "<tr><th style=\"text-align: right;\">  sepal_width</th><th style=\"text-align: right;\">  petal_width</th><th style=\"text-align: right;\">  sepal_length</th><th style=\"text-align: right;\">  petal_length</th></tr>\n",
       "</thead>\n",
       "<tbody>\n",
       "<tr><td style=\"text-align: right;\">          3.2</td><td style=\"text-align: right;\">          3.2</td><td style=\"text-align: right;\">           3.4</td><td style=\"text-align: right;\">           1.4</td></tr>\n",
       "</tbody>\n",
       "</table>"
      ]
     },
     "metadata": {},
     "output_type": "display_data"
    },
    {
     "data": {
      "text/plain": []
     },
     "execution_count": 31,
     "metadata": {},
     "output_type": "execute_result"
    }
   ],
   "source": [
    "df_test"
   ]
  },
  {
   "cell_type": "code",
   "execution_count": 32,
   "metadata": {
    "collapsed": true
   },
   "outputs": [],
   "source": [
    "###: Performing prediction using GBM model we built earlier"
   ]
  },
  {
   "cell_type": "code",
   "execution_count": 33,
   "metadata": {},
   "outputs": [
    {
     "name": "stdout",
     "output_type": "stream",
     "text": [
      "gbm prediction progress: |████████████████████████████████████████████████| 100%\n"
     ]
    },
    {
     "data": {
      "text/html": [
       "<table>\n",
       "<thead>\n",
       "<tr><th>predict       </th><th style=\"text-align: right;\">  Iris-setosa</th><th style=\"text-align: right;\">  Iris-versicolor</th><th style=\"text-align: right;\">  Iris-virginica</th></tr>\n",
       "</thead>\n",
       "<tbody>\n",
       "<tr><td>Iris-virginica</td><td style=\"text-align: right;\">     0.161365</td><td style=\"text-align: right;\">        0.0811296</td><td style=\"text-align: right;\">        0.757505</td></tr>\n",
       "</tbody>\n",
       "</table>"
      ]
     },
     "metadata": {},
     "output_type": "display_data"
    },
    {
     "data": {
      "text/plain": []
     },
     "execution_count": 33,
     "metadata": {},
     "output_type": "execute_result"
    }
   ],
   "source": [
    "iris_gbm.predict(test_data=df_test)"
   ]
  },
  {
   "cell_type": "code",
   "execution_count": 34,
   "metadata": {
    "scrolled": true
   },
   "outputs": [
    {
     "name": "stdout",
     "output_type": "stream",
     "text": [
      "\n",
      "ModelMetricsMultinomial: gbm\n",
      "** Reported on cross-validation data. **\n",
      "\n",
      "MSE: 0.044011053568\n",
      "RMSE: 0.209788115888\n",
      "LogLoss: 0.186998544047\n",
      "Mean Per-Class Error: 0.0466666666667\n",
      "Confusion Matrix: Row labels: Actual class; Column labels: Predicted class\n",
      "\n"
     ]
    },
    {
     "data": {
      "text/html": [
       "<div style=\"overflow:auto\"><table style=\"width:50%\"><tr><td><b>Iris-setosa</b></td>\n",
       "<td><b>Iris-versicolor</b></td>\n",
       "<td><b>Iris-virginica</b></td>\n",
       "<td><b>Error</b></td>\n",
       "<td><b>Rate</b></td></tr>\n",
       "<tr><td>50.0</td>\n",
       "<td>0.0</td>\n",
       "<td>0.0</td>\n",
       "<td>0.0</td>\n",
       "<td>0 / 50</td></tr>\n",
       "<tr><td>0.0</td>\n",
       "<td>45.0</td>\n",
       "<td>5.0</td>\n",
       "<td>0.1</td>\n",
       "<td>5 / 50</td></tr>\n",
       "<tr><td>0.0</td>\n",
       "<td>2.0</td>\n",
       "<td>48.0</td>\n",
       "<td>0.04</td>\n",
       "<td>2 / 50</td></tr>\n",
       "<tr><td>50.0</td>\n",
       "<td>47.0</td>\n",
       "<td>53.0</td>\n",
       "<td>0.0466667</td>\n",
       "<td>7 / 150</td></tr></table></div>"
      ],
      "text/plain": [
       "Iris-setosa    Iris-versicolor    Iris-virginica    Error      Rate\n",
       "-------------  -----------------  ----------------  ---------  -------\n",
       "50             0                  0                 0          0 / 50\n",
       "0              45                 5                 0.1        5 / 50\n",
       "0              2                  48                0.04       2 / 50\n",
       "50             47                 53                0.0466667  7 / 150"
      ]
     },
     "metadata": {},
     "output_type": "display_data"
    },
    {
     "name": "stdout",
     "output_type": "stream",
     "text": [
      "Top-3 Hit Ratios: \n"
     ]
    },
    {
     "data": {
      "text/html": [
       "<div style=\"overflow:auto\"><table style=\"width:50%\"><tr><td><b>k</b></td>\n",
       "<td><b>hit_ratio</b></td></tr>\n",
       "<tr><td>1</td>\n",
       "<td>0.9533333</td></tr>\n",
       "<tr><td>2</td>\n",
       "<td>0.9933333</td></tr>\n",
       "<tr><td>3</td>\n",
       "<td>1.0</td></tr></table></div>"
      ],
      "text/plain": [
       "k    hit_ratio\n",
       "---  -----------\n",
       "1    0.953333\n",
       "2    0.993333\n",
       "3    1"
      ]
     },
     "metadata": {},
     "output_type": "display_data"
    },
    {
     "data": {
      "text/plain": []
     },
     "execution_count": 34,
     "metadata": {},
     "output_type": "execute_result"
    }
   ],
   "source": [
    "iris_gbm.model_performance(xval=True)"
   ]
  },
  {
   "cell_type": "code",
   "execution_count": 35,
   "metadata": {
    "collapsed": true
   },
   "outputs": [],
   "source": [
    "###: Plotting Variable Importance graph"
   ]
  },
  {
   "cell_type": "code",
   "execution_count": 36,
   "metadata": {},
   "outputs": [
    {
     "data": {
      "image/png": "[encoded data removed]",
      "text/plain": [
       "<matplotlib.figure.Figure at 0x119b34a10>"
      ]
     },
     "metadata": {},
     "output_type": "display_data"
    }
   ],
   "source": [
    "iris_gbm.varimp_plot()"
   ]
  },
  {
   "cell_type": "code",
   "execution_count": 37,
   "metadata": {
    "collapsed": true
   },
   "outputs": [],
   "source": [
    "###: Generating Variable Importance Table"
   ]
  },
  {
   "cell_type": "code",
   "execution_count": 38,
   "metadata": {},
   "outputs": [
    {
     "data": {
      "text/plain": [
       "[(u'petal_width', 192.76063537597656, 1.0, 0.7743739147368136),\n",
       " (u'petal_length',\n",
       "  54.038116455078125,\n",
       "  0.28033792454396944,\n",
       "  0.21708637607830708),\n",
       " (u'sepal_length',\n",
       "  1.3527106046676636,\n",
       "  0.007017566641805382,\n",
       "  0.005434220552341308),\n",
       " (u'sepal_width',\n",
       "  0.7730321884155273,\n",
       "  0.004010321852839613,\n",
       "  0.003105488632538003)]"
      ]
     },
     "execution_count": 38,
     "metadata": {},
     "output_type": "execute_result"
    }
   ],
   "source": [
    "iris_gbm.varimp()"
   ]
  },
  {
   "cell_type": "code",
   "execution_count": 39,
   "metadata": {
    "collapsed": true
   },
   "outputs": [],
   "source": [
    "###: Generating Training Scoring History Plot"
   ]
  },
  {
   "cell_type": "code",
   "execution_count": 40,
   "metadata": {},
   "outputs": [
    {
     "data": {
      "image/png": "[encoded data removed]",
      "text/plain": [
       "<matplotlib.figure.Figure at 0x112306b10>"
      ]
     },
     "metadata": {},
     "output_type": "display_data"
    }
   ],
   "source": [
    "iris_gbm.plot()"
   ]
  },
  {
   "cell_type": "code",
   "execution_count": 41,
   "metadata": {
    "collapsed": true
   },
   "outputs": [],
   "source": [
    "###: Generating Scoring History details per tree"
   ]
  },
  {
   "cell_type": "code",
   "execution_count": 42,
   "metadata": {},
   "outputs": [
    {
     "data": {
      "text/html": [
       "<div>\n",
       "<style>\n",
       "    .dataframe thead tr:only-child th {\n",
       "        text-align: right;\n",
       "    }\n",
       "\n",
       "    .dataframe thead th {\n",
       "        text-align: left;\n",
       "    }\n",
       "\n",
       "    .dataframe tbody tr th {\n",
       "        vertical-align: top;\n",
       "    }\n",
       "</style>\n",
       "<table border=\"1\" class=\"dataframe\">\n",
       "  <thead>\n",
       "    <tr style=\"text-align: right;\">\n",
       "      <th></th>\n",
       "      <th></th>\n",
       "      <th>timestamp</th>\n",
       "      <th>duration</th>\n",
       "      <th>number_of_trees</th>\n",
       "      <th>training_rmse</th>\n",
       "      <th>training_logloss</th>\n",
       "      <th>training_classification_error</th>\n",
       "    </tr>\n",
       "  </thead>\n",
       "  <tbody>\n",
       "    <tr>\n",
       "      <th>0</th>\n",
       "      <td></td>\n",
       "      <td>2017-11-14 16:51:22</td>\n",
       "      <td>0.031 sec</td>\n",
       "      <td>0.0</td>\n",
       "      <td>0.666667</td>\n",
       "      <td>1.098612</td>\n",
       "      <td>0.640000</td>\n",
       "    </tr>\n",
       "    <tr>\n",
       "      <th>1</th>\n",
       "      <td></td>\n",
       "      <td>2017-11-14 16:51:22</td>\n",
       "      <td>0.033 sec</td>\n",
       "      <td>1.0</td>\n",
       "      <td>0.531344</td>\n",
       "      <td>0.758411</td>\n",
       "      <td>0.026667</td>\n",
       "    </tr>\n",
       "    <tr>\n",
       "      <th>2</th>\n",
       "      <td></td>\n",
       "      <td>2017-11-14 16:51:22</td>\n",
       "      <td>0.034 sec</td>\n",
       "      <td>2.0</td>\n",
       "      <td>0.423337</td>\n",
       "      <td>0.550506</td>\n",
       "      <td>0.026667</td>\n",
       "    </tr>\n",
       "    <tr>\n",
       "      <th>3</th>\n",
       "      <td></td>\n",
       "      <td>2017-11-14 16:51:22</td>\n",
       "      <td>0.035 sec</td>\n",
       "      <td>3.0</td>\n",
       "      <td>0.339048</td>\n",
       "      <td>0.412173</td>\n",
       "      <td>0.026667</td>\n",
       "    </tr>\n",
       "    <tr>\n",
       "      <th>4</th>\n",
       "      <td></td>\n",
       "      <td>2017-11-14 16:51:22</td>\n",
       "      <td>0.036 sec</td>\n",
       "      <td>4.0</td>\n",
       "      <td>0.272897</td>\n",
       "      <td>0.313539</td>\n",
       "      <td>0.020000</td>\n",
       "    </tr>\n",
       "    <tr>\n",
       "      <th>5</th>\n",
       "      <td></td>\n",
       "      <td>2017-11-14 16:51:22</td>\n",
       "      <td>0.037 sec</td>\n",
       "      <td>5.0</td>\n",
       "      <td>0.223231</td>\n",
       "      <td>0.243514</td>\n",
       "      <td>0.020000</td>\n",
       "    </tr>\n",
       "    <tr>\n",
       "      <th>6</th>\n",
       "      <td></td>\n",
       "      <td>2017-11-14 16:51:22</td>\n",
       "      <td>0.039 sec</td>\n",
       "      <td>6.0</td>\n",
       "      <td>0.184631</td>\n",
       "      <td>0.190910</td>\n",
       "      <td>0.006667</td>\n",
       "    </tr>\n",
       "    <tr>\n",
       "      <th>7</th>\n",
       "      <td></td>\n",
       "      <td>2017-11-14 16:51:22</td>\n",
       "      <td>0.040 sec</td>\n",
       "      <td>7.0</td>\n",
       "      <td>0.155265</td>\n",
       "      <td>0.151394</td>\n",
       "      <td>0.006667</td>\n",
       "    </tr>\n",
       "    <tr>\n",
       "      <th>8</th>\n",
       "      <td></td>\n",
       "      <td>2017-11-14 16:51:22</td>\n",
       "      <td>0.041 sec</td>\n",
       "      <td>8.0</td>\n",
       "      <td>0.132688</td>\n",
       "      <td>0.120882</td>\n",
       "      <td>0.006667</td>\n",
       "    </tr>\n",
       "    <tr>\n",
       "      <th>9</th>\n",
       "      <td></td>\n",
       "      <td>2017-11-14 16:51:22</td>\n",
       "      <td>0.042 sec</td>\n",
       "      <td>9.0</td>\n",
       "      <td>0.114466</td>\n",
       "      <td>0.097590</td>\n",
       "      <td>0.006667</td>\n",
       "    </tr>\n",
       "    <tr>\n",
       "      <th>10</th>\n",
       "      <td></td>\n",
       "      <td>2017-11-14 16:51:22</td>\n",
       "      <td>0.043 sec</td>\n",
       "      <td>10.0</td>\n",
       "      <td>0.098827</td>\n",
       "      <td>0.078248</td>\n",
       "      <td>0.006667</td>\n",
       "    </tr>\n",
       "  </tbody>\n",
       "</table>\n",
       "</div>"
      ],
      "text/plain": [
       "                timestamp    duration  number_of_trees  training_rmse  \\\n",
       "0     2017-11-14 16:51:22   0.031 sec              0.0       0.666667   \n",
       "1     2017-11-14 16:51:22   0.033 sec              1.0       0.531344   \n",
       "2     2017-11-14 16:51:22   0.034 sec              2.0       0.423337   \n",
       "3     2017-11-14 16:51:22   0.035 sec              3.0       0.339048   \n",
       "4     2017-11-14 16:51:22   0.036 sec              4.0       0.272897   \n",
       "5     2017-11-14 16:51:22   0.037 sec              5.0       0.223231   \n",
       "6     2017-11-14 16:51:22   0.039 sec              6.0       0.184631   \n",
       "7     2017-11-14 16:51:22   0.040 sec              7.0       0.155265   \n",
       "8     2017-11-14 16:51:22   0.041 sec              8.0       0.132688   \n",
       "9     2017-11-14 16:51:22   0.042 sec              9.0       0.114466   \n",
       "10    2017-11-14 16:51:22   0.043 sec             10.0       0.098827   \n",
       "\n",
       "    training_logloss  training_classification_error  \n",
       "0           1.098612                       0.640000  \n",
       "1           0.758411                       0.026667  \n",
       "2           0.550506                       0.026667  \n",
       "3           0.412173                       0.026667  \n",
       "4           0.313539                       0.020000  \n",
       "5           0.243514                       0.020000  \n",
       "6           0.190910                       0.006667  \n",
       "7           0.151394                       0.006667  \n",
       "8           0.120882                       0.006667  \n",
       "9           0.097590                       0.006667  \n",
       "10          0.078248                       0.006667  "
      ]
     },
     "execution_count": 42,
     "metadata": {},
     "output_type": "execute_result"
    }
   ],
   "source": [
    "iris_gbm.score_history()"
   ]
  },
  {
   "cell_type": "code",
   "execution_count": 43,
   "metadata": {
    "collapsed": true
   },
   "outputs": [],
   "source": [
    "###: Generating Scoring History details per tree"
   ]
  },
  {
   "cell_type": "code",
   "execution_count": 44,
   "metadata": {},
   "outputs": [
    {
     "data": {
      "text/html": [
       "<div>\n",
       "<style>\n",
       "    .dataframe thead tr:only-child th {\n",
       "        text-align: right;\n",
       "    }\n",
       "\n",
       "    .dataframe thead th {\n",
       "        text-align: left;\n",
       "    }\n",
       "\n",
       "    .dataframe tbody tr th {\n",
       "        vertical-align: top;\n",
       "    }\n",
       "</style>\n",
       "<table border=\"1\" class=\"dataframe\">\n",
       "  <thead>\n",
       "    <tr style=\"text-align: right;\">\n",
       "      <th></th>\n",
       "      <th></th>\n",
       "      <th>timestamp</th>\n",
       "      <th>duration</th>\n",
       "      <th>number_of_trees</th>\n",
       "      <th>training_rmse</th>\n",
       "      <th>training_logloss</th>\n",
       "      <th>training_classification_error</th>\n",
       "    </tr>\n",
       "  </thead>\n",
       "  <tbody>\n",
       "    <tr>\n",
       "      <th>0</th>\n",
       "      <td></td>\n",
       "      <td>2017-11-14 16:51:22</td>\n",
       "      <td>0.031 sec</td>\n",
       "      <td>0.0</td>\n",
       "      <td>0.666667</td>\n",
       "      <td>1.098612</td>\n",
       "      <td>0.640000</td>\n",
       "    </tr>\n",
       "    <tr>\n",
       "      <th>1</th>\n",
       "      <td></td>\n",
       "      <td>2017-11-14 16:51:22</td>\n",
       "      <td>0.033 sec</td>\n",
       "      <td>1.0</td>\n",
       "      <td>0.531344</td>\n",
       "      <td>0.758411</td>\n",
       "      <td>0.026667</td>\n",
       "    </tr>\n",
       "    <tr>\n",
       "      <th>2</th>\n",
       "      <td></td>\n",
       "      <td>2017-11-14 16:51:22</td>\n",
       "      <td>0.034 sec</td>\n",
       "      <td>2.0</td>\n",
       "      <td>0.423337</td>\n",
       "      <td>0.550506</td>\n",
       "      <td>0.026667</td>\n",
       "    </tr>\n",
       "    <tr>\n",
       "      <th>3</th>\n",
       "      <td></td>\n",
       "      <td>2017-11-14 16:51:22</td>\n",
       "      <td>0.035 sec</td>\n",
       "      <td>3.0</td>\n",
       "      <td>0.339048</td>\n",
       "      <td>0.412173</td>\n",
       "      <td>0.026667</td>\n",
       "    </tr>\n",
       "    <tr>\n",
       "      <th>4</th>\n",
       "      <td></td>\n",
       "      <td>2017-11-14 16:51:22</td>\n",
       "      <td>0.036 sec</td>\n",
       "      <td>4.0</td>\n",
       "      <td>0.272897</td>\n",
       "      <td>0.313539</td>\n",
       "      <td>0.020000</td>\n",
       "    </tr>\n",
       "    <tr>\n",
       "      <th>5</th>\n",
       "      <td></td>\n",
       "      <td>2017-11-14 16:51:22</td>\n",
       "      <td>0.037 sec</td>\n",
       "      <td>5.0</td>\n",
       "      <td>0.223231</td>\n",
       "      <td>0.243514</td>\n",
       "      <td>0.020000</td>\n",
       "    </tr>\n",
       "    <tr>\n",
       "      <th>6</th>\n",
       "      <td></td>\n",
       "      <td>2017-11-14 16:51:22</td>\n",
       "      <td>0.039 sec</td>\n",
       "      <td>6.0</td>\n",
       "      <td>0.184631</td>\n",
       "      <td>0.190910</td>\n",
       "      <td>0.006667</td>\n",
       "    </tr>\n",
       "    <tr>\n",
       "      <th>7</th>\n",
       "      <td></td>\n",
       "      <td>2017-11-14 16:51:22</td>\n",
       "      <td>0.040 sec</td>\n",
       "      <td>7.0</td>\n",
       "      <td>0.155265</td>\n",
       "      <td>0.151394</td>\n",
       "      <td>0.006667</td>\n",
       "    </tr>\n",
       "    <tr>\n",
       "      <th>8</th>\n",
       "      <td></td>\n",
       "      <td>2017-11-14 16:51:22</td>\n",
       "      <td>0.041 sec</td>\n",
       "      <td>8.0</td>\n",
       "      <td>0.132688</td>\n",
       "      <td>0.120882</td>\n",
       "      <td>0.006667</td>\n",
       "    </tr>\n",
       "    <tr>\n",
       "      <th>9</th>\n",
       "      <td></td>\n",
       "      <td>2017-11-14 16:51:22</td>\n",
       "      <td>0.042 sec</td>\n",
       "      <td>9.0</td>\n",
       "      <td>0.114466</td>\n",
       "      <td>0.097590</td>\n",
       "      <td>0.006667</td>\n",
       "    </tr>\n",
       "    <tr>\n",
       "      <th>10</th>\n",
       "      <td></td>\n",
       "      <td>2017-11-14 16:51:22</td>\n",
       "      <td>0.043 sec</td>\n",
       "      <td>10.0</td>\n",
       "      <td>0.098827</td>\n",
       "      <td>0.078248</td>\n",
       "      <td>0.006667</td>\n",
       "    </tr>\n",
       "  </tbody>\n",
       "</table>\n",
       "</div>"
      ],
      "text/plain": [
       "                timestamp    duration  number_of_trees  training_rmse  \\\n",
       "0     2017-11-14 16:51:22   0.031 sec              0.0       0.666667   \n",
       "1     2017-11-14 16:51:22   0.033 sec              1.0       0.531344   \n",
       "2     2017-11-14 16:51:22   0.034 sec              2.0       0.423337   \n",
       "3     2017-11-14 16:51:22   0.035 sec              3.0       0.339048   \n",
       "4     2017-11-14 16:51:22   0.036 sec              4.0       0.272897   \n",
       "5     2017-11-14 16:51:22   0.037 sec              5.0       0.223231   \n",
       "6     2017-11-14 16:51:22   0.039 sec              6.0       0.184631   \n",
       "7     2017-11-14 16:51:22   0.040 sec              7.0       0.155265   \n",
       "8     2017-11-14 16:51:22   0.041 sec              8.0       0.132688   \n",
       "9     2017-11-14 16:51:22   0.042 sec              9.0       0.114466   \n",
       "10    2017-11-14 16:51:22   0.043 sec             10.0       0.098827   \n",
       "\n",
       "    training_logloss  training_classification_error  \n",
       "0           1.098612                       0.640000  \n",
       "1           0.758411                       0.026667  \n",
       "2           0.550506                       0.026667  \n",
       "3           0.412173                       0.026667  \n",
       "4           0.313539                       0.020000  \n",
       "5           0.243514                       0.020000  \n",
       "6           0.190910                       0.006667  \n",
       "7           0.151394                       0.006667  \n",
       "8           0.120882                       0.006667  \n",
       "9           0.097590                       0.006667  \n",
       "10          0.078248                       0.006667  "
      ]
     },
     "execution_count": 44,
     "metadata": {},
     "output_type": "execute_result"
    }
   ],
   "source": [
    "iris_gbm.scoring_history()"
   ]
  },
  {
   "cell_type": "code",
   "execution_count": null,
   "metadata": {
    "collapsed": true
   },
   "outputs": [],
   "source": []
  }
 ],
 "metadata": {
  "kernelspec": {
   "display_name": "Python 2",
   "language": "python",
   "name": "python2"
  },
  "language_info": {
   "codemirror_mode": {
    "name": "ipython",
    "version": 2
   },
   "file_extension": ".py",
   "mimetype": "text/x-python",
   "name": "python",
   "nbconvert_exporter": "python",
   "pygments_lexer": "ipython2",
   "version": "2.7.13"
  }
 },
 "nbformat": 4,
 "nbformat_minor": 2
}
