{
 "cells": [
  {
   "cell_type": "code",
   "execution_count": null,
   "metadata": {
    "collapsed": false
   },
   "outputs": [],
   "source": [
    "import h2o\n",
    "h2o.init()"
   ]
  },
  {
   "cell_type": "code",
   "execution_count": null,
   "metadata": {
    "collapsed": false
   },
   "outputs": [],
   "source": [
    "h2o.cluster_info()"
   ]
  },
  {
   "cell_type": "code",
   "execution_count": null,
   "metadata": {
    "collapsed": true
   },
   "outputs": [],
   "source": [
    "# Shuttti\n",
    "#h2o.shutdown()"
   ]
  },
  {
   "cell_type": "code",
   "execution_count": null,
   "metadata": {
    "collapsed": true
   },
   "outputs": [],
   "source": [
    "prostate = \"https://raw.github.com/h2oai/h2o/master/smalldata/logreg/prostate.csv\""
   ]
  },
  {
   "cell_type": "code",
   "execution_count": null,
   "metadata": {
    "collapsed": false
   },
   "outputs": [],
   "source": [
    "prostate_df = h2o.import_file(path=prostate)"
   ]
  },
  {
   "cell_type": "code",
   "execution_count": null,
   "metadata": {
    "collapsed": false
   },
   "outputs": [],
   "source": [
    "prostate_df"
   ]
  },
  {
   "cell_type": "code",
   "execution_count": null,
   "metadata": {
    "collapsed": true
   },
   "outputs": [],
   "source": [
    "airline = \"/Users/avkashchauhan/src/github.com/h2oai/h2o-3/smalldata/airlines/allyears2k.csv\""
   ]
  },
  {
   "cell_type": "code",
   "execution_count": null,
   "metadata": {
    "collapsed": false
   },
   "outputs": [],
   "source": [
    "airline_df = h2o.import_file(path=airline)"
   ]
  },
  {
   "cell_type": "code",
   "execution_count": null,
   "metadata": {
    "collapsed": false
   },
   "outputs": [],
   "source": [
    "airline_df"
   ]
  },
  {
   "cell_type": "code",
   "execution_count": null,
   "metadata": {
    "collapsed": false
   },
   "outputs": [],
   "source": [
    "airline_df.describe()"
   ]
  },
  {
   "cell_type": "code",
   "execution_count": null,
   "metadata": {
    "collapsed": false
   },
   "outputs": [],
   "source": [
    "airline_df.shape"
   ]
  },
  {
   "cell_type": "markdown",
   "metadata": {},
   "source": [
    "# Data Frames in H2O FLOW\n",
    "Add this point if you will see H2O data frames list and you will see the following 2 frames\n",
    "\n",
    "Command: getFrames\n",
    "\n",
    "[Frame Name        Rows  Cols  Size]\n",
    "\n",
    "allyears2k.hex    43978\t31\t2MB\n",
    "\t\t\n",
    "prostate.hex      380\t9\t5KB"
   ]
  },
  {
   "cell_type": "code",
   "execution_count": null,
   "metadata": {
    "collapsed": true
   },
   "outputs": [],
   "source": [
    "titanic = \"/Users/avkashchauhan/src/github.com/h2oai/h2o-3/smalldata/gbm_test/titanic.csv\""
   ]
  },
  {
   "cell_type": "code",
   "execution_count": null,
   "metadata": {
    "collapsed": false
   },
   "outputs": [],
   "source": [
    "titanic_df = h2o.upload_file(titanic)"
   ]
  },
  {
   "cell_type": "code",
   "execution_count": null,
   "metadata": {
    "collapsed": false
   },
   "outputs": [],
   "source": [
    "titanic_df"
   ]
  },
  {
   "cell_type": "code",
   "execution_count": null,
   "metadata": {
    "collapsed": false
   },
   "outputs": [],
   "source": [
    "titanic_df.show"
   ]
  },
  {
   "cell_type": "code",
   "execution_count": null,
   "metadata": {
    "collapsed": false
   },
   "outputs": [],
   "source": [
    "titanic_df.head()"
   ]
  },
  {
   "cell_type": "code",
   "execution_count": null,
   "metadata": {
    "collapsed": false
   },
   "outputs": [],
   "source": [
    "titanic_df.tail()"
   ]
  },
  {
   "cell_type": "code",
   "execution_count": null,
   "metadata": {
    "collapsed": false
   },
   "outputs": [],
   "source": [
    "titanic_df.ncol"
   ]
  },
  {
   "cell_type": "code",
   "execution_count": null,
   "metadata": {
    "collapsed": false
   },
   "outputs": [],
   "source": [
    "titanic_df.nrow"
   ]
  },
  {
   "cell_type": "code",
   "execution_count": null,
   "metadata": {
    "collapsed": false
   },
   "outputs": [],
   "source": [
    "titanic_df.head()"
   ]
  },
  {
   "cell_type": "code",
   "execution_count": null,
   "metadata": {
    "collapsed": false
   },
   "outputs": [],
   "source": [
    "titanic_df.head(1)"
   ]
  },
  {
   "cell_type": "code",
   "execution_count": null,
   "metadata": {
    "collapsed": false
   },
   "outputs": [],
   "source": [
    "titanic_df.head(1,6)"
   ]
  },
  {
   "cell_type": "code",
   "execution_count": null,
   "metadata": {
    "collapsed": false
   },
   "outputs": [],
   "source": [
    "titanic_df.head(2,6)"
   ]
  },
  {
   "cell_type": "code",
   "execution_count": null,
   "metadata": {
    "collapsed": false
   },
   "outputs": [],
   "source": [
    "titanic_df.head(5,20) # 1,1 | 1,10 | 5,10 | 5, airline_df.ncol | "
   ]
  },
  {
   "cell_type": "markdown",
   "metadata": {},
   "source": [
    "# Data Frames in H2O FLOW\n",
    "Add this point if you will see H2O data frames list and you will see the following 3 frames\n",
    "\n",
    "Command: getFrames\n",
    "\n",
    "allyears2k.hex 43978 31 2MB\n",
    "\n",
    "prostate.hex 380 9 5KB\n",
    "\n",
    "Key_Frame__upload_b34573442d4bb7de676d72ce9d6e41f3.hex      1309\t14\t121KB"
   ]
  },
  {
   "cell_type": "code",
   "execution_count": null,
   "metadata": {
    "collapsed": false
   },
   "outputs": [],
   "source": [
    "my_titanic_df = h2o.upload_file(titanic, destination_frame = \"my_titanic.hex\")"
   ]
  },
  {
   "cell_type": "markdown",
   "metadata": {},
   "source": [
    "# Data frames in H2O FLOW\n",
    "Add this point if you will see H2O data frames list and you will see the following 4 frames\n",
    "\n",
    "Command: getFrames\n",
    "\n",
    "allyears2k.hex 43978 31 2MB\n",
    "\n",
    "prostate.hex 380 9 5KB\n",
    "\n",
    "Key_Frame__upload_b34573442d4bb7de676d72ce9d6e41f3.hex 1309 14 121KB\n",
    "\n",
    "my_titanic.hex      1309\t14\t121KB"
   ]
  },
  {
   "cell_type": "code",
   "execution_count": null,
   "metadata": {
    "collapsed": false
   },
   "outputs": [],
   "source": [
    "# List Column Names\n",
    "prostate_df.col_names"
   ]
  },
  {
   "cell_type": "markdown",
   "metadata": {},
   "source": [
    "# Slicing rows by Index"
   ]
  },
  {
   "cell_type": "code",
   "execution_count": null,
   "metadata": {
    "collapsed": false
   },
   "outputs": [],
   "source": [
    "# Slicing rows by Index\n",
    "\n",
    "# Getting 10th row based on index starts from 0\n",
    "prostate_df[9,:]"
   ]
  },
  {
   "cell_type": "code",
   "execution_count": null,
   "metadata": {
    "collapsed": false
   },
   "outputs": [],
   "source": [
    "# Slicing rows by Index\n",
    "\n",
    "# Getting selected rows based on index starts from 0\n",
    "prostate_df[range(9,15),:]"
   ]
  },
  {
   "cell_type": "code",
   "execution_count": null,
   "metadata": {
    "collapsed": false
   },
   "outputs": [],
   "source": [
    "#filter data based on some value\n",
    "prostate_df[\"AGE\"] > 70"
   ]
  },
  {
   "cell_type": "code",
   "execution_count": null,
   "metadata": {
    "collapsed": false
   },
   "outputs": [],
   "source": [
    "# Slicing based on boolean values [1]\n",
    "\n",
    "mask = prostate_df['PSA'] < 20.0\n",
    "mask"
   ]
  },
  {
   "cell_type": "code",
   "execution_count": null,
   "metadata": {
    "collapsed": false
   },
   "outputs": [],
   "source": [
    "# Slicing based on boolean values [2]\n",
    "\n",
    "mask_cols = prostate_df[mask,:]\n",
    "mask_cols"
   ]
  },
  {
   "cell_type": "code",
   "execution_count": null,
   "metadata": {
    "collapsed": false
   },
   "outputs": [],
   "source": [
    "# Slicing based on boolean values [3]\n",
    "\n",
    "mask_cols = prostate_df[~mask,:]\n",
    "mask_cols"
   ]
  },
  {
   "cell_type": "code",
   "execution_count": null,
   "metadata": {
    "collapsed": false,
    "scrolled": true
   },
   "outputs": [],
   "source": [
    "# Slicing based on boolean values [4.1]\n",
    "\n",
    "airline_df_mask = airline_df['C5'].isna()\n",
    "airline_df_na = airline_df[airline_df_mask,:]\n",
    "print(airline_df.shape)\n",
    "print(airline_df_na.shape)\n",
    "airline_df_na"
   ]
  },
  {
   "cell_type": "code",
   "execution_count": null,
   "metadata": {
    "collapsed": false
   },
   "outputs": [],
   "source": [
    "# Slicing based on boolean values [4.2]\n",
    "\n",
    "airline_df_mask = airline_df['C5'].isna()\n",
    "airline_df_na = airline_df[~airline_df_mask,:]\n",
    "print(airline_df.shape)\n",
    "print(airline_df_na.shape)\n",
    "airline_df_na"
   ]
  },
  {
   "cell_type": "code",
   "execution_count": null,
   "metadata": {
    "collapsed": false
   },
   "outputs": [],
   "source": [
    "# Slicing Columns [1]\n",
    "\n",
    "# Column by id\n",
    "airline_df[:,1] # try 0 , 1 or other"
   ]
  },
  {
   "cell_type": "code",
   "execution_count": null,
   "metadata": {
    "collapsed": false
   },
   "outputs": [],
   "source": [
    "# Slicing Columns [2]\n",
    "\n",
    "# Column by name\n",
    "airline_df[:,'C11'] # try C1, C4 , C11 or other"
   ]
  },
  {
   "cell_type": "code",
   "execution_count": null,
   "metadata": {
    "collapsed": false
   },
   "outputs": [],
   "source": [
    "# Slicing Columns [3]\n",
    "\n",
    "# Column by names\n",
    "airline_df[:,['C11', 'C1']] # try ['C1', 'C11'] | "
   ]
  },
  {
   "cell_type": "code",
   "execution_count": null,
   "metadata": {
    "collapsed": false
   },
   "outputs": [],
   "source": [
    "# Slicing Columns [4]\n",
    "\n",
    "# Column by range\n",
    "airline_df[:,range(5)] # try range(2,9) | range(5,9) | range(9,2) - Error"
   ]
  },
  {
   "cell_type": "code",
   "execution_count": null,
   "metadata": {
    "collapsed": false
   },
   "outputs": [],
   "source": [
    "# Getting value at speific cell [1]\n",
    "\n",
    "#airline_df[0,0] # Value at row 0 and column 0\n",
    "airline_df[10,12]  # Value at row 10 and column 20 "
   ]
  },
  {
   "cell_type": "code",
   "execution_count": null,
   "metadata": {
    "collapsed": false
   },
   "outputs": [],
   "source": [
    "airline_df"
   ]
  },
  {
   "cell_type": "code",
   "execution_count": null,
   "metadata": {
    "collapsed": false
   },
   "outputs": [],
   "source": [
    "# Getting value at speific cell [2]\n",
    "print(airline_df.shape)\n",
    "airline_df[10,30]  # Value at row 10 and column 30 "
   ]
  },
  {
   "cell_type": "code",
   "execution_count": null,
   "metadata": {
    "collapsed": false
   },
   "outputs": [],
   "source": [
    "# Getting value at speific cell [1]\n",
    "\n",
    "print(airline_df[10,12])  # Value at row 10 and column 20 "
   ]
  },
  {
   "cell_type": "code",
   "execution_count": null,
   "metadata": {
    "collapsed": false
   },
   "outputs": [],
   "source": [
    "# Replacing value at speific cell [1]\n",
    "\n",
    "print(airline_df[10,12])  # Value at row 10 and column 20 \n",
    "print(airline_df[10,12]+19)  # Value at row 10 and column 20 \n",
    "print(airline_df[10,12]*12)  # Value at row 10 and column 20 \n",
    "print(airline_df[10,12]*airline_df[0,3])  # Value at row 10 and column 20 "
   ]
  },
  {
   "cell_type": "code",
   "execution_count": null,
   "metadata": {
    "collapsed": false
   },
   "outputs": [],
   "source": [
    "# Replacing Values in the Frame [1]\n",
    "\n",
    "# Multipying values into specific column\n",
    "# airline_df['C2']\n",
    "airline_df['C2']*9"
   ]
  },
  {
   "cell_type": "code",
   "execution_count": null,
   "metadata": {
    "collapsed": false
   },
   "outputs": [],
   "source": [
    "# Replacing NA values in the Frame for a column\n",
    "\n",
    "# Multipying values into specific column\n",
    "print(airline_df.shape)\n",
    "print(airline_df['C7'].shape)\n",
    "print(airline_df['C7'].isna().shape)\n",
    "mask_c7_na = airline_df['C7'].isna()\n",
    "airline_df_c7_na = airline_df[~mask_c7_na,:]\n",
    "print(airline_df_c7_na.shape)\n",
    "print \"There are 1195 missing values\"\n",
    "print \"setting all NA to 0\"\n",
    "airline_df[airline_df[\"C7\"].isna(), \"C7\"] = 0\n",
    "print \"now checking the count of NA\"\n",
    "print(airline_df['C7'].shape)\n",
    "print(airline_df['C7'].isna().shape)"
   ]
  },
  {
   "cell_type": "markdown",
   "metadata": {},
   "source": [
    "# Splitting Data sets\n"
   ]
  },
  {
   "cell_type": "code",
   "execution_count": null,
   "metadata": {
    "collapsed": false
   },
   "outputs": [],
   "source": [
    "# Splitting Data sets [1]\n",
    "\n",
    "# Estimate the size of dataframe\n",
    "airline_df.shape"
   ]
  },
  {
   "cell_type": "code",
   "execution_count": null,
   "metadata": {
    "collapsed": false
   },
   "outputs": [],
   "source": [
    "# Splitting Data sets [1]\n",
    "\n",
    "# Spliting frame into 3 sets - train, valid and test\n",
    "train1,test1,valid1 = airline_df.split_frame(ratios=[0.8,0.1])\n",
    "print(train1.shape)\n",
    "print(test1.shape)\n",
    "print(valid1.shape)"
   ]
  },
  {
   "cell_type": "code",
   "execution_count": null,
   "metadata": {
    "collapsed": false
   },
   "outputs": [],
   "source": [
    "# Spliting frame into 2 sets - train and test\n",
    "\n",
    "# ERROR BELOW\n",
    "print(airline_df.shape)\n",
    "train2,test2 = airline_df.split_frame(ratios=[0.75])\n",
    "print(train2.shape)\n",
    "print(test2.shape)\n"
   ]
  },
  {
   "cell_type": "markdown",
   "metadata": {},
   "source": [
    "# Combining two datasets  - Adding Rows\n",
    "\n"
   ]
  },
  {
   "cell_type": "code",
   "execution_count": null,
   "metadata": {
    "collapsed": false
   },
   "outputs": [],
   "source": [
    "# Previously we create train1 and test1\n",
    "# lets combine them\n",
    "print(train1.shape)\n",
    "print(test1.shape)\n",
    "\n",
    "newdf = train1.rbind(test1)\n",
    "print(newdf.shape)\n",
    "newdf.describe\n"
   ]
  },
  {
   "cell_type": "markdown",
   "metadata": {},
   "source": [
    "# Combining two datasets - Adding Columns"
   ]
  },
  {
   "cell_type": "code",
   "execution_count": null,
   "metadata": {
    "collapsed": false
   },
   "outputs": [],
   "source": [
    "%matplotlib inline \n",
    "airline_df['C4'].hist(10,True)"
   ]
  },
  {
   "cell_type": "code",
   "execution_count": null,
   "metadata": {
    "collapsed": false
   },
   "outputs": [],
   "source": [
    "# We are working on full dataframe\n",
    "\n",
    "print(airline_df.shape)\n",
    "print(airline_df[airline_df[\"C4\"] >= 4].shape)\n",
    "print(airline_df[airline_df[\"C4\"] < 4].shape)\n",
    "airline_df_C4_high = airline_df[airline_df[\"C4\"] >= 4]\n",
    "airline_df_C4_low = airline_df[airline_df[\"C4\"] < 4]"
   ]
  },
  {
   "cell_type": "code",
   "execution_count": null,
   "metadata": {
    "collapsed": false
   },
   "outputs": [],
   "source": [
    "# lets work only on the specific column\n",
    "airline_c4 = airline_df[\"C4\"]\n",
    "airline_c4.shape"
   ]
  },
  {
   "cell_type": "code",
   "execution_count": null,
   "metadata": {
    "collapsed": false
   },
   "outputs": [],
   "source": [
    "len(airline_df.columns)\n",
    "airline_df.columns"
   ]
  },
  {
   "cell_type": "code",
   "execution_count": null,
   "metadata": {
    "collapsed": false
   },
   "outputs": [],
   "source": [
    "airline_c4['C32'] = (airline_c4[\"C4\"] >= 4)"
   ]
  },
  {
   "cell_type": "code",
   "execution_count": null,
   "metadata": {
    "collapsed": false
   },
   "outputs": [],
   "source": [
    "print(airline_c4['C32'].shape)\n",
    "airline_c4['C32']"
   ]
  },
  {
   "cell_type": "code",
   "execution_count": null,
   "metadata": {
    "collapsed": true
   },
   "outputs": [],
   "source": [
    "airline_df = airline_df.cbind(airline_c4['C32'])"
   ]
  },
  {
   "cell_type": "code",
   "execution_count": null,
   "metadata": {
    "collapsed": false
   },
   "outputs": [],
   "source": [
    "airline_df"
   ]
  },
  {
   "cell_type": "code",
   "execution_count": null,
   "metadata": {
    "collapsed": false
   },
   "outputs": [],
   "source": [
    "airline_df.columns"
   ]
  },
  {
   "cell_type": "code",
   "execution_count": null,
   "metadata": {
    "collapsed": false
   },
   "outputs": [],
   "source": [
    "# Lets verify C32 columns\n",
    "airline_df"
   ]
  },
  {
   "cell_type": "markdown",
   "metadata": {},
   "source": [
    "# Using Functions on frames and columns"
   ]
  },
  {
   "cell_type": "code",
   "execution_count": null,
   "metadata": {
    "collapsed": false
   },
   "outputs": [],
   "source": [
    "airline_df['C4'].min()"
   ]
  },
  {
   "cell_type": "code",
   "execution_count": null,
   "metadata": {
    "collapsed": false
   },
   "outputs": [],
   "source": [
    "airline_df['C4'].max()"
   ]
  },
  {
   "cell_type": "code",
   "execution_count": null,
   "metadata": {
    "collapsed": false
   },
   "outputs": [],
   "source": [
    "print(airline_df['C4'].nacnt())\n",
    "print(airline_df['C20'].nacnt())"
   ]
  },
  {
   "cell_type": "code",
   "execution_count": null,
   "metadata": {
    "collapsed": false
   },
   "outputs": [],
   "source": [
    "# total number of categorical elements in the column \n",
    "print(airline_df['C18'].nlevels())\n",
    "print(airline_df['C18'].unique().shape)\n",
    "airline_df['C18'].unique()"
   ]
  },
  {
   "cell_type": "markdown",
   "metadata": {},
   "source": [
    "# Documentation help\n",
    "\n",
    "List of funstions applied on H2OFrame\n",
    "http://docs.h2o.ai/h2o/latest-stable/h2o-py/docs/frame.html"
   ]
  },
  {
   "cell_type": "code",
   "execution_count": null,
   "metadata": {
    "collapsed": true
   },
   "outputs": [],
   "source": []
  }
 ],
 "metadata": {
  "kernelspec": {
   "display_name": "Python 2",
   "language": "python",
   "name": "python2"
  },
  "language_info": {
   "codemirror_mode": {
    "name": "ipython",
    "version": 2
   },
   "file_extension": ".py",
   "mimetype": "text/x-python",
   "name": "python",
   "nbconvert_exporter": "python",
   "pygments_lexer": "ipython2",
   "version": "2.7.10"
  }
 },
 "nbformat": 4,
 "nbformat_minor": 1
}
