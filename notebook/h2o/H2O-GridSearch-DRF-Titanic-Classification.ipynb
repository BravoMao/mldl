{
 "cells": [
  {
   "cell_type": "code",
   "execution_count": 1,
   "metadata": {
    "collapsed": true
   },
   "outputs": [],
   "source": [
    "###: Loading H2O Library"
   ]
  },
  {
   "cell_type": "code",
   "execution_count": 2,
   "metadata": {
    "collapsed": true
   },
   "outputs": [],
   "source": [
    "import h2o"
   ]
  },
  {
   "cell_type": "code",
   "execution_count": 3,
   "metadata": {
    "collapsed": true
   },
   "outputs": [],
   "source": [
    "###: Get H2O Version"
   ]
  },
  {
   "cell_type": "code",
   "execution_count": 4,
   "metadata": {},
   "outputs": [
    {
     "data": {
      "text/plain": [
       "u'3.14.0.7'"
      ]
     },
     "execution_count": 4,
     "metadata": {},
     "output_type": "execute_result"
    }
   ],
   "source": [
    "h2o.__version__"
   ]
  },
  {
   "cell_type": "code",
   "execution_count": 5,
   "metadata": {
    "collapsed": true
   },
   "outputs": [],
   "source": [
    "###: Initalizing H2O cluster"
   ]
  },
  {
   "cell_type": "code",
   "execution_count": 6,
   "metadata": {},
   "outputs": [
    {
     "name": "stderr",
     "output_type": "stream",
     "text": [
      "ERROR:h2o:Key init.version_check is not a valid config key\n"
     ]
    },
    {
     "name": "stdout",
     "output_type": "stream",
     "text": [
      "Checking whether there is an H2O instance running at http://localhost:54321. connected.\n"
     ]
    },
    {
     "data": {
      "text/html": [
       "<div style=\"overflow:auto\"><table style=\"width:50%\"><tr><td>H2O cluster uptime:</td>\n",
       "<td>2 days 4 hours 51 mins</td></tr>\n",
       "<tr><td>H2O cluster version:</td>\n",
       "<td>3.14.0.7</td></tr>\n",
       "<tr><td>H2O cluster version age:</td>\n",
       "<td>1 month and 2 days </td></tr>\n",
       "<tr><td>H2O cluster name:</td>\n",
       "<td>H2O_from_python_avkashchauhan_d7ekmq</td></tr>\n",
       "<tr><td>H2O cluster total nodes:</td>\n",
       "<td>1</td></tr>\n",
       "<tr><td>H2O cluster free memory:</td>\n",
       "<td>2.673 Gb</td></tr>\n",
       "<tr><td>H2O cluster total cores:</td>\n",
       "<td>8</td></tr>\n",
       "<tr><td>H2O cluster allowed cores:</td>\n",
       "<td>8</td></tr>\n",
       "<tr><td>H2O cluster status:</td>\n",
       "<td>locked, healthy</td></tr>\n",
       "<tr><td>H2O connection url:</td>\n",
       "<td>http://localhost:54321</td></tr>\n",
       "<tr><td>H2O connection proxy:</td>\n",
       "<td>None</td></tr>\n",
       "<tr><td>H2O internal security:</td>\n",
       "<td>False</td></tr>\n",
       "<tr><td>H2O API Extensions:</td>\n",
       "<td>XGBoost, Algos, AutoML, Core V3, Core V4</td></tr>\n",
       "<tr><td>Python version:</td>\n",
       "<td>2.7.13 final</td></tr></table></div>"
      ],
      "text/plain": [
       "--------------------------  ----------------------------------------\n",
       "H2O cluster uptime:         2 days 4 hours 51 mins\n",
       "H2O cluster version:        3.14.0.7\n",
       "H2O cluster version age:    1 month and 2 days\n",
       "H2O cluster name:           H2O_from_python_avkashchauhan_d7ekmq\n",
       "H2O cluster total nodes:    1\n",
       "H2O cluster free memory:    2.673 Gb\n",
       "H2O cluster total cores:    8\n",
       "H2O cluster allowed cores:  8\n",
       "H2O cluster status:         locked, healthy\n",
       "H2O connection url:         http://localhost:54321\n",
       "H2O connection proxy:\n",
       "H2O internal security:      False\n",
       "H2O API Extensions:         XGBoost, Algos, AutoML, Core V3, Core V4\n",
       "Python version:             2.7.13 final\n",
       "--------------------------  ----------------------------------------"
      ]
     },
     "metadata": {},
     "output_type": "display_data"
    }
   ],
   "source": [
    "h2o.init()"
   ]
  },
  {
   "cell_type": "code",
   "execution_count": 7,
   "metadata": {
    "collapsed": true
   },
   "outputs": [],
   "source": [
    "###: Importing both training and test dataset into H2O cluster memory"
   ]
  },
  {
   "cell_type": "code",
   "execution_count": 8,
   "metadata": {},
   "outputs": [
    {
     "name": "stdout",
     "output_type": "stream",
     "text": [
      "Parse progress: |█████████████████████████████████████████████████████████| 100%\n"
     ]
    }
   ],
   "source": [
    "df = h2o.import_file(\"https://raw.githubusercontent.com/Avkash/mldl/master/data/titanic_list.csv\")"
   ]
  },
  {
   "cell_type": "code",
   "execution_count": 9,
   "metadata": {
    "collapsed": true
   },
   "outputs": [],
   "source": [
    "### Understanding the dataset"
   ]
  },
  {
   "cell_type": "code",
   "execution_count": 10,
   "metadata": {},
   "outputs": [
    {
     "name": "stdout",
     "output_type": "stream",
     "text": [
      "Rows:1309\n",
      "Cols:14\n",
      "\n",
      "\n"
     ]
    },
    {
     "data": {
      "text/html": [
       "<table>\n",
       "<thead>\n",
       "<tr><th>       </th><th>pclass       </th><th>survived      </th><th>name                                           </th><th>sex   </th><th>age          </th><th>sibsp         </th><th>parch         </th><th>ticket       </th><th>fare         </th><th>cabin  </th><th>embarked  </th><th>boat         </th><th>body         </th><th>home.dest                      </th></tr>\n",
       "</thead>\n",
       "<tbody>\n",
       "<tr><td>type   </td><td>int          </td><td>int           </td><td>string                                         </td><td>enum  </td><td>real         </td><td>int           </td><td>int           </td><td>int          </td><td>real         </td><td>enum   </td><td>enum      </td><td>int          </td><td>int          </td><td>enum                           </td></tr>\n",
       "<tr><td>mins   </td><td>1.0          </td><td>0.0           </td><td>NaN                                            </td><td>      </td><td>0.1667       </td><td>0.0           </td><td>0.0           </td><td>680.0        </td><td>0.0          </td><td>       </td><td>          </td><td>1.0          </td><td>1.0          </td><td>                               </td></tr>\n",
       "<tr><td>mean   </td><td>2.294881589  </td><td>0.381970970206</td><td>NaN                                            </td><td>      </td><td>29.8811345124</td><td>0.498854087089</td><td>0.385026737968</td><td>249039.136886</td><td>33.2954792813</td><td>       </td><td>          </td><td>9.40452261307</td><td>160.809917355</td><td>                               </td></tr>\n",
       "<tr><td>maxs   </td><td>3.0          </td><td>1.0           </td><td>NaN                                            </td><td>      </td><td>80.0         </td><td>8.0           </td><td>9.0           </td><td>3101298.0    </td><td>512.3292     </td><td>       </td><td>          </td><td>16.0         </td><td>328.0        </td><td>                               </td></tr>\n",
       "<tr><td>sigma  </td><td>0.83783601897</td><td>0.486055170866</td><td>NaN                                            </td><td>      </td><td>14.4134996999</td><td>1.0416583906  </td><td>0.86556027535 </td><td>442685.317677</td><td>51.7586682392</td><td>       </td><td>          </td><td>4.3574169836 </td><td>97.696921996 </td><td>                               </td></tr>\n",
       "<tr><td>zeros  </td><td>0            </td><td>809           </td><td>0                                              </td><td>      </td><td>0            </td><td>891           </td><td>1002          </td><td>0            </td><td>17           </td><td>       </td><td>          </td><td>0            </td><td>0            </td><td>                               </td></tr>\n",
       "<tr><td>missing</td><td>0            </td><td>0             </td><td>0                                              </td><td>0     </td><td>263          </td><td>0             </td><td>0             </td><td>352          </td><td>1            </td><td>1014   </td><td>2         </td><td>911          </td><td>1188         </td><td>564                            </td></tr>\n",
       "<tr><td>0      </td><td>1.0          </td><td>1.0           </td><td>Allen, Miss. Elisabeth Walton                  </td><td>female</td><td>29.0         </td><td>0.0           </td><td>0.0           </td><td>24160.0      </td><td>211.3375     </td><td>B5     </td><td>S         </td><td>2.0          </td><td>nan          </td><td>St Louis, MO                   </td></tr>\n",
       "<tr><td>1      </td><td>1.0          </td><td>1.0           </td><td>Allison, Master. Hudson Trevor                 </td><td>male  </td><td>0.9167       </td><td>1.0           </td><td>2.0           </td><td>113781.0     </td><td>151.55       </td><td>C22 C26</td><td>S         </td><td>11.0         </td><td>nan          </td><td>Montreal, PQ / Chesterville, ON</td></tr>\n",
       "<tr><td>2      </td><td>1.0          </td><td>0.0           </td><td>Allison, Miss. Helen Loraine                   </td><td>female</td><td>2.0          </td><td>1.0           </td><td>2.0           </td><td>113781.0     </td><td>151.55       </td><td>C22 C26</td><td>S         </td><td>nan          </td><td>nan          </td><td>Montreal, PQ / Chesterville, ON</td></tr>\n",
       "<tr><td>3      </td><td>1.0          </td><td>0.0           </td><td>Allison, Mr. Hudson Joshua Creighton           </td><td>male  </td><td>30.0         </td><td>1.0           </td><td>2.0           </td><td>113781.0     </td><td>151.55       </td><td>C22 C26</td><td>S         </td><td>nan          </td><td>135.0        </td><td>Montreal, PQ / Chesterville, ON</td></tr>\n",
       "<tr><td>4      </td><td>1.0          </td><td>0.0           </td><td>Allison, Mrs. Hudson J C (Bessie Waldo Daniels)</td><td>female</td><td>25.0         </td><td>1.0           </td><td>2.0           </td><td>113781.0     </td><td>151.55       </td><td>C22 C26</td><td>S         </td><td>nan          </td><td>nan          </td><td>Montreal, PQ / Chesterville, ON</td></tr>\n",
       "<tr><td>5      </td><td>1.0          </td><td>1.0           </td><td>Anderson, Mr. Harry                            </td><td>male  </td><td>48.0         </td><td>0.0           </td><td>0.0           </td><td>19952.0      </td><td>26.55        </td><td>E12    </td><td>S         </td><td>3.0          </td><td>nan          </td><td>New York, NY                   </td></tr>\n",
       "<tr><td>6      </td><td>1.0          </td><td>1.0           </td><td>Andrews, Miss. Kornelia Theodosia              </td><td>female</td><td>63.0         </td><td>1.0           </td><td>0.0           </td><td>13502.0      </td><td>77.9583      </td><td>D7     </td><td>S         </td><td>10.0         </td><td>nan          </td><td>Hudson, NY                     </td></tr>\n",
       "<tr><td>7      </td><td>1.0          </td><td>0.0           </td><td>Andrews, Mr. Thomas Jr                         </td><td>male  </td><td>39.0         </td><td>0.0           </td><td>0.0           </td><td>112050.0     </td><td>0.0          </td><td>A36    </td><td>S         </td><td>nan          </td><td>nan          </td><td>Belfast, NI                    </td></tr>\n",
       "<tr><td>8      </td><td>1.0          </td><td>1.0           </td><td>Appleton, Mrs. Edward Dale (Charlotte Lamson)  </td><td>female</td><td>53.0         </td><td>2.0           </td><td>0.0           </td><td>11769.0      </td><td>51.4792      </td><td>C101   </td><td>S         </td><td>nan          </td><td>nan          </td><td>Bayside, Queens, NY            </td></tr>\n",
       "<tr><td>9      </td><td>1.0          </td><td>0.0           </td><td>Artagaveytia, Mr. Ramon                        </td><td>male  </td><td>71.0         </td><td>0.0           </td><td>0.0           </td><td>nan          </td><td>49.5042      </td><td>       </td><td>C         </td><td>nan          </td><td>22.0         </td><td>Montevideo, Uruguay            </td></tr>\n",
       "</tbody>\n",
       "</table>"
      ]
     },
     "metadata": {},
     "output_type": "display_data"
    }
   ],
   "source": [
    "df.describe()"
   ]
  },
  {
   "cell_type": "code",
   "execution_count": 11,
   "metadata": {
    "collapsed": true
   },
   "outputs": [],
   "source": [
    "###: Listing all columns"
   ]
  },
  {
   "cell_type": "code",
   "execution_count": 12,
   "metadata": {},
   "outputs": [
    {
     "data": {
      "text/plain": [
       "[u'pclass',\n",
       " u'survived',\n",
       " u'name',\n",
       " u'sex',\n",
       " u'age',\n",
       " u'sibsp',\n",
       " u'parch',\n",
       " u'ticket',\n",
       " u'fare',\n",
       " u'cabin',\n",
       " u'embarked',\n",
       " u'boat',\n",
       " u'body',\n",
       " u'home.dest']"
      ]
     },
     "execution_count": 12,
     "metadata": {},
     "output_type": "execute_result"
    }
   ],
   "source": [
    "df.col_names"
   ]
  },
  {
   "cell_type": "code",
   "execution_count": 13,
   "metadata": {
    "collapsed": true
   },
   "outputs": [],
   "source": [
    "###: Setting response variable"
   ]
  },
  {
   "cell_type": "code",
   "execution_count": 14,
   "metadata": {
    "collapsed": true
   },
   "outputs": [],
   "source": [
    "response = \"survived\""
   ]
  },
  {
   "cell_type": "code",
   "execution_count": 15,
   "metadata": {
    "collapsed": true
   },
   "outputs": [],
   "source": [
    "###: Setting response variable to enum or categorical so we can build a classification model"
   ]
  },
  {
   "cell_type": "code",
   "execution_count": 16,
   "metadata": {
    "collapsed": true
   },
   "outputs": [],
   "source": [
    "df[response] = df[response].asfactor()"
   ]
  },
  {
   "cell_type": "code",
   "execution_count": 17,
   "metadata": {
    "collapsed": true
   },
   "outputs": [],
   "source": [
    "###: Spliting the dataset into train and test "
   ]
  },
  {
   "cell_type": "code",
   "execution_count": 18,
   "metadata": {
    "collapsed": true
   },
   "outputs": [],
   "source": [
    "train_df, test_df = df.split_frame(ratios=[0.9])"
   ]
  },
  {
   "cell_type": "code",
   "execution_count": 19,
   "metadata": {},
   "outputs": [
    {
     "name": "stdout",
     "output_type": "stream",
     "text": [
      "(1184, 14)\n",
      "(125, 14)\n"
     ]
    }
   ],
   "source": [
    "print(train_df.shape)\n",
    "print(test_df.shape)"
   ]
  },
  {
   "cell_type": "code",
   "execution_count": 20,
   "metadata": {
    "collapsed": true
   },
   "outputs": [],
   "source": [
    "###: Understanding Training dataset"
   ]
  },
  {
   "cell_type": "code",
   "execution_count": 21,
   "metadata": {},
   "outputs": [
    {
     "name": "stdout",
     "output_type": "stream",
     "text": [
      "Rows:1184\n",
      "Cols:14\n",
      "\n",
      "\n"
     ]
    },
    {
     "data": {
      "text/html": [
       "<table>\n",
       "<thead>\n",
       "<tr><th>       </th><th>pclass        </th><th>survived  </th><th>name                                             </th><th>sex   </th><th>age          </th><th>sibsp         </th><th>parch         </th><th>ticket       </th><th>fare         </th><th>cabin  </th><th>embarked  </th><th>boat         </th><th>body         </th><th>home.dest                      </th></tr>\n",
       "</thead>\n",
       "<tbody>\n",
       "<tr><td>type   </td><td>int           </td><td>enum      </td><td>string                                           </td><td>enum  </td><td>real         </td><td>int           </td><td>int           </td><td>int          </td><td>real         </td><td>enum   </td><td>enum      </td><td>int          </td><td>int          </td><td>enum                           </td></tr>\n",
       "<tr><td>mins   </td><td>1.0           </td><td>          </td><td>NaN                                              </td><td>      </td><td>0.1667       </td><td>0.0           </td><td>0.0           </td><td>680.0        </td><td>0.0          </td><td>       </td><td>          </td><td>1.0          </td><td>4.0          </td><td>                               </td></tr>\n",
       "<tr><td>mean   </td><td>2.29476351351 </td><td>          </td><td>NaN                                              </td><td>      </td><td>30.0717054968</td><td>0.494087837838</td><td>0.388513513514</td><td>243498.910776</td><td>33.8993233305</td><td>       </td><td>          </td><td>9.46944444444</td><td>157.449541284</td><td>                               </td></tr>\n",
       "<tr><td>maxs   </td><td>3.0           </td><td>          </td><td>NaN                                              </td><td>      </td><td>80.0         </td><td>8.0           </td><td>9.0           </td><td>3101298.0    </td><td>512.3292     </td><td>       </td><td>          </td><td>16.0         </td><td>328.0        </td><td>                               </td></tr>\n",
       "<tr><td>sigma  </td><td>0.838692141786</td><td>          </td><td>NaN                                              </td><td>      </td><td>14.5232670809</td><td>1.03528558499 </td><td>0.879600589344</td><td>431981.296567</td><td>53.411678518 </td><td>       </td><td>          </td><td>4.33026014159</td><td>98.205141134 </td><td>                               </td></tr>\n",
       "<tr><td>zeros  </td><td>0             </td><td>          </td><td>0                                                </td><td>      </td><td>0            </td><td>808           </td><td>906           </td><td>0            </td><td>13           </td><td>       </td><td>          </td><td>0            </td><td>0            </td><td>                               </td></tr>\n",
       "<tr><td>missing</td><td>0             </td><td>0         </td><td>0                                                </td><td>0     </td><td>238          </td><td>0             </td><td>0             </td><td>321          </td><td>1            </td><td>916    </td><td>2         </td><td>824          </td><td>1075         </td><td>506                            </td></tr>\n",
       "<tr><td>0      </td><td>1.0           </td><td>1         </td><td>Allen, Miss. Elisabeth Walton                    </td><td>female</td><td>29.0         </td><td>0.0           </td><td>0.0           </td><td>24160.0      </td><td>211.3375     </td><td>B5     </td><td>S         </td><td>2.0          </td><td>nan          </td><td>St Louis, MO                   </td></tr>\n",
       "<tr><td>1      </td><td>1.0           </td><td>1         </td><td>Allison, Master. Hudson Trevor                   </td><td>male  </td><td>0.9167       </td><td>1.0           </td><td>2.0           </td><td>113781.0     </td><td>151.55       </td><td>C22 C26</td><td>S         </td><td>11.0         </td><td>nan          </td><td>Montreal, PQ / Chesterville, ON</td></tr>\n",
       "<tr><td>2      </td><td>1.0           </td><td>0         </td><td>Allison, Mr. Hudson Joshua Creighton             </td><td>male  </td><td>30.0         </td><td>1.0           </td><td>2.0           </td><td>113781.0     </td><td>151.55       </td><td>C22 C26</td><td>S         </td><td>nan          </td><td>135.0        </td><td>Montreal, PQ / Chesterville, ON</td></tr>\n",
       "<tr><td>3      </td><td>1.0           </td><td>1         </td><td>Anderson, Mr. Harry                              </td><td>male  </td><td>48.0         </td><td>0.0           </td><td>0.0           </td><td>19952.0      </td><td>26.55        </td><td>E12    </td><td>S         </td><td>3.0          </td><td>nan          </td><td>New York, NY                   </td></tr>\n",
       "<tr><td>4      </td><td>1.0           </td><td>1         </td><td>Andrews, Miss. Kornelia Theodosia                </td><td>female</td><td>63.0         </td><td>1.0           </td><td>0.0           </td><td>13502.0      </td><td>77.9583      </td><td>D7     </td><td>S         </td><td>10.0         </td><td>nan          </td><td>Hudson, NY                     </td></tr>\n",
       "<tr><td>5      </td><td>1.0           </td><td>0         </td><td>Artagaveytia, Mr. Ramon                          </td><td>male  </td><td>71.0         </td><td>0.0           </td><td>0.0           </td><td>nan          </td><td>49.5042      </td><td>       </td><td>C         </td><td>nan          </td><td>22.0         </td><td>Montevideo, Uruguay            </td></tr>\n",
       "<tr><td>6      </td><td>1.0           </td><td>0         </td><td>Astor, Col. John Jacob                           </td><td>male  </td><td>47.0         </td><td>1.0           </td><td>0.0           </td><td>nan          </td><td>227.525      </td><td>C62 C64</td><td>C         </td><td>nan          </td><td>124.0        </td><td>New York, NY                   </td></tr>\n",
       "<tr><td>7      </td><td>1.0           </td><td>1         </td><td>Astor, Mrs. John Jacob (Madeleine Talmadge Force)</td><td>female</td><td>18.0         </td><td>1.0           </td><td>0.0           </td><td>nan          </td><td>227.525      </td><td>C62 C64</td><td>C         </td><td>4.0          </td><td>nan          </td><td>New York, NY                   </td></tr>\n",
       "<tr><td>8      </td><td>1.0           </td><td>1         </td><td>Aubart, Mme. Leontine Pauline                    </td><td>female</td><td>24.0         </td><td>0.0           </td><td>0.0           </td><td>nan          </td><td>69.3         </td><td>B35    </td><td>C         </td><td>9.0          </td><td>nan          </td><td>Paris, France                  </td></tr>\n",
       "<tr><td>9      </td><td>1.0           </td><td>1         </td><td>Barber, Miss. Ellen \"\"Nellie                     </td><td>female</td><td>26.0         </td><td>0.0           </td><td>0.0           </td><td>19877.0      </td><td>78.85        </td><td>       </td><td>S         </td><td>6.0          </td><td>nan          </td><td>                               </td></tr>\n",
       "</tbody>\n",
       "</table>"
      ]
     },
     "metadata": {},
     "output_type": "display_data"
    }
   ],
   "source": [
    "train_df.describe()"
   ]
  },
  {
   "cell_type": "code",
   "execution_count": 22,
   "metadata": {
    "collapsed": true
   },
   "outputs": [],
   "source": [
    "###: Understanding Test dataset"
   ]
  },
  {
   "cell_type": "code",
   "execution_count": 23,
   "metadata": {},
   "outputs": [
    {
     "name": "stdout",
     "output_type": "stream",
     "text": [
      "Rows:125\n",
      "Cols:14\n",
      "\n",
      "\n"
     ]
    },
    {
     "data": {
      "text/html": [
       "<table>\n",
       "<thead>\n",
       "<tr><th>       </th><th>pclass        </th><th>survived  </th><th>name                                                   </th><th>sex   </th><th>age          </th><th>sibsp        </th><th>parch         </th><th>ticket       </th><th>fare         </th><th>cabin  </th><th>embarked  </th><th>boat         </th><th>body         </th><th>home.dest                      </th></tr>\n",
       "</thead>\n",
       "<tbody>\n",
       "<tr><td>type   </td><td>int           </td><td>enum      </td><td>string                                                 </td><td>enum  </td><td>real         </td><td>int          </td><td>int           </td><td>int          </td><td>real         </td><td>enum   </td><td>enum      </td><td>int          </td><td>int          </td><td>enum                           </td></tr>\n",
       "<tr><td>mins   </td><td>1.0           </td><td>          </td><td>NaN                                                    </td><td>      </td><td>0.8333       </td><td>0.0          </td><td>0.0           </td><td>1601.0       </td><td>0.0          </td><td>       </td><td>          </td><td>2.0          </td><td>1.0          </td><td>                               </td></tr>\n",
       "<tr><td>mean   </td><td>2.296         </td><td>          </td><td>NaN                                                    </td><td>      </td><td>28.078333    </td><td>0.544        </td><td>0.352         </td><td>299903.12766 </td><td>27.5806992   </td><td>       </td><td>          </td><td>8.78947368421</td><td>191.333333333</td><td>                               </td></tr>\n",
       "<tr><td>maxs   </td><td>3.0           </td><td>          </td><td>NaN                                                    </td><td>      </td><td>60.0         </td><td>8.0          </td><td>4.0           </td><td>3101278.0    </td><td>151.55       </td><td>       </td><td>          </td><td>16.0         </td><td>314.0        </td><td>                               </td></tr>\n",
       "<tr><td>sigma  </td><td>0.833027901016</td><td>          </td><td>NaN                                                    </td><td>      </td><td>13.2626596595</td><td>1.10354268228</td><td>0.721289168445</td><td>530995.802452</td><td>31.7333058374</td><td>       </td><td>          </td><td>4.621675692  </td><td>91.140584048 </td><td>                               </td></tr>\n",
       "<tr><td>zeros  </td><td>0             </td><td>          </td><td>0                                                      </td><td>      </td><td>0            </td><td>83           </td><td>96            </td><td>0            </td><td>4            </td><td>       </td><td>          </td><td>0            </td><td>0            </td><td>                               </td></tr>\n",
       "<tr><td>missing</td><td>0             </td><td>0         </td><td>0                                                      </td><td>0     </td><td>25           </td><td>0            </td><td>0             </td><td>31           </td><td>0            </td><td>98     </td><td>0         </td><td>87           </td><td>113          </td><td>58                             </td></tr>\n",
       "<tr><td>0      </td><td>1.0           </td><td>0         </td><td>Allison, Miss. Helen Loraine                           </td><td>female</td><td>2.0          </td><td>1.0          </td><td>2.0           </td><td>113781.0     </td><td>151.55       </td><td>C22 C26</td><td>S         </td><td>nan          </td><td>nan          </td><td>Montreal, PQ / Chesterville, ON</td></tr>\n",
       "<tr><td>1      </td><td>1.0           </td><td>0         </td><td>Allison, Mrs. Hudson J C (Bessie Waldo Daniels)        </td><td>female</td><td>25.0         </td><td>1.0          </td><td>2.0           </td><td>113781.0     </td><td>151.55       </td><td>C22 C26</td><td>S         </td><td>nan          </td><td>nan          </td><td>Montreal, PQ / Chesterville, ON</td></tr>\n",
       "<tr><td>2      </td><td>1.0           </td><td>0         </td><td>Andrews, Mr. Thomas Jr                                 </td><td>male  </td><td>39.0         </td><td>0.0          </td><td>0.0           </td><td>112050.0     </td><td>0.0          </td><td>A36    </td><td>S         </td><td>nan          </td><td>nan          </td><td>Belfast, NI                    </td></tr>\n",
       "<tr><td>3      </td><td>1.0           </td><td>1         </td><td>Appleton, Mrs. Edward Dale (Charlotte Lamson)          </td><td>female</td><td>53.0         </td><td>2.0          </td><td>0.0           </td><td>11769.0      </td><td>51.4792      </td><td>C101   </td><td>S         </td><td>nan          </td><td>nan          </td><td>Bayside, Queens, NY            </td></tr>\n",
       "<tr><td>4      </td><td>1.0           </td><td>0         </td><td>Butt, Major. Archibald Willingham                      </td><td>male  </td><td>45.0         </td><td>0.0          </td><td>0.0           </td><td>113050.0     </td><td>26.55        </td><td>B38    </td><td>S         </td><td>nan          </td><td>nan          </td><td>Washington, DC                 </td></tr>\n",
       "<tr><td>5      </td><td>1.0           </td><td>1         </td><td>Chaffee, Mrs. Herbert Fuller (Carrie Constance Toogood)</td><td>female</td><td>47.0         </td><td>1.0          </td><td>0.0           </td><td>nan          </td><td>61.175       </td><td>E31    </td><td>S         </td><td>4.0          </td><td>nan          </td><td>Amenia, ND                     </td></tr>\n",
       "<tr><td>6      </td><td>1.0           </td><td>1         </td><td>Chambers, Mr. Norman Campbell                          </td><td>male  </td><td>27.0         </td><td>1.0          </td><td>0.0           </td><td>113806.0     </td><td>53.1         </td><td>E8     </td><td>S         </td><td>5.0          </td><td>nan          </td><td>New York, NY / Ithaca, NY      </td></tr>\n",
       "<tr><td>7      </td><td>1.0           </td><td>0         </td><td>Clifford, Mr. George Quincy                            </td><td>male  </td><td>nan          </td><td>0.0          </td><td>0.0           </td><td>110465.0     </td><td>52.0         </td><td>A14    </td><td>S         </td><td>nan          </td><td>nan          </td><td>Stoughton, MA                  </td></tr>\n",
       "<tr><td>8      </td><td>1.0           </td><td>1         </td><td>Cornell, Mrs. Robert Clifford (Malvina Helen Lamson)   </td><td>female</td><td>55.0         </td><td>2.0          </td><td>0.0           </td><td>11770.0      </td><td>25.7         </td><td>C101   </td><td>S         </td><td>2.0          </td><td>nan          </td><td>New York, NY                   </td></tr>\n",
       "<tr><td>9      </td><td>1.0           </td><td>1         </td><td>Dodge, Dr. Washington                                  </td><td>male  </td><td>53.0         </td><td>1.0          </td><td>1.0           </td><td>33638.0      </td><td>81.8583      </td><td>A34    </td><td>S         </td><td>13.0         </td><td>nan          </td><td>San Francisco, CA              </td></tr>\n",
       "</tbody>\n",
       "</table>"
      ]
     },
     "metadata": {},
     "output_type": "display_data"
    }
   ],
   "source": [
    "test_df.describe()"
   ]
  },
  {
   "cell_type": "code",
   "execution_count": 24,
   "metadata": {
    "collapsed": true
   },
   "outputs": [],
   "source": [
    "###: Training and test dataset - columns and rows details"
   ]
  },
  {
   "cell_type": "code",
   "execution_count": 25,
   "metadata": {},
   "outputs": [
    {
     "name": "stdout",
     "output_type": "stream",
     "text": [
      "(1184, 14)\n",
      "(125, 14)\n"
     ]
    }
   ],
   "source": [
    "print(train_df.shape)\n",
    "print(test_df.shape)"
   ]
  },
  {
   "cell_type": "code",
   "execution_count": 26,
   "metadata": {
    "collapsed": true
   },
   "outputs": [],
   "source": [
    "###: Training and Test Dataframes - columns names"
   ]
  },
  {
   "cell_type": "code",
   "execution_count": 27,
   "metadata": {},
   "outputs": [
    {
     "name": "stdout",
     "output_type": "stream",
     "text": [
      "[u'pclass', u'survived', u'name', u'sex', u'age', u'sibsp', u'parch', u'ticket', u'fare', u'cabin', u'embarked', u'boat', u'body', u'home.dest']\n",
      "[u'pclass', u'survived', u'name', u'sex', u'age', u'sibsp', u'parch', u'ticket', u'fare', u'cabin', u'embarked', u'boat', u'body', u'home.dest']\n"
     ]
    }
   ],
   "source": [
    "print(train_df.col_names)\n",
    "print(test_df.col_names)"
   ]
  },
  {
   "cell_type": "code",
   "execution_count": 28,
   "metadata": {
    "collapsed": true
   },
   "outputs": [],
   "source": [
    "###: Settings all features for supervised machine learning"
   ]
  },
  {
   "cell_type": "code",
   "execution_count": 29,
   "metadata": {},
   "outputs": [
    {
     "name": "stdout",
     "output_type": "stream",
     "text": [
      "[u'pclass', u'survived', u'name', u'sex', u'age', u'sibsp', u'parch', u'ticket', u'fare', u'cabin', u'embarked', u'boat', u'body', u'home.dest']\n"
     ]
    }
   ],
   "source": [
    "features = train_df.col_names\n",
    "print(features)"
   ]
  },
  {
   "cell_type": "code",
   "execution_count": 30,
   "metadata": {
    "collapsed": true
   },
   "outputs": [],
   "source": [
    "###: Creating a list of all features we will use for machine learning"
   ]
  },
  {
   "cell_type": "code",
   "execution_count": 31,
   "metadata": {},
   "outputs": [
    {
     "name": "stdout",
     "output_type": "stream",
     "text": [
      "[u'pclass', u'name', u'sex', u'age', u'sibsp', u'parch', u'ticket', u'fare', u'cabin', u'embarked', u'boat', u'body', u'home.dest']\n"
     ]
    }
   ],
   "source": [
    "features.remove(response)\n",
    "print(features)"
   ]
  },
  {
   "cell_type": "code",
   "execution_count": 32,
   "metadata": {
    "collapsed": true
   },
   "outputs": [],
   "source": [
    "###: Ignoring other features which are not needed for training"
   ]
  },
  {
   "cell_type": "code",
   "execution_count": 33,
   "metadata": {},
   "outputs": [
    {
     "name": "stdout",
     "output_type": "stream",
     "text": [
      "[u'pclass', u'sex', u'age', u'sibsp', u'parch', u'fare', u'cabin', u'embarked', u'boat', u'body']\n"
     ]
    }
   ],
   "source": [
    "for feature_name in ['name', 'ticket', 'home.dest']:\n",
    "    features.remove(feature_name)\n",
    "print(features)    "
   ]
  },
  {
   "cell_type": "code",
   "execution_count": 34,
   "metadata": {
    "collapsed": true
   },
   "outputs": [],
   "source": [
    "###: Understanding response variable values as historgram in Training data"
   ]
  },
  {
   "cell_type": "code",
   "execution_count": 35,
   "metadata": {},
   "outputs": [
    {
     "data": {
      "image/png": "[encoded data removed]",
      "text/plain": [
       "<matplotlib.figure.Figure at 0x10d960bd0>"
      ]
     },
     "metadata": {},
     "output_type": "display_data"
    }
   ],
   "source": [
    "train_df[response].asnumeric().hist()"
   ]
  },
  {
   "cell_type": "code",
   "execution_count": 37,
   "metadata": {
    "collapsed": true
   },
   "outputs": [],
   "source": [
    "###: Importing H2O H2ORandomForestEstimator to build Random Forest Model"
   ]
  },
  {
   "cell_type": "code",
   "execution_count": 38,
   "metadata": {
    "collapsed": true
   },
   "outputs": [],
   "source": [
    "from h2o.estimators.random_forest import H2ORandomForestEstimator"
   ]
  },
  {
   "cell_type": "code",
   "execution_count": 39,
   "metadata": {
    "collapsed": true
   },
   "outputs": [],
   "source": [
    "###:Building Random Forest -  Classification model with cross validation"
   ]
  },
  {
   "cell_type": "code",
   "execution_count": 40,
   "metadata": {
    "collapsed": true
   },
   "outputs": [],
   "source": [
    "drf_model_with_cv = H2ORandomForestEstimator(nfolds=5)"
   ]
  },
  {
   "cell_type": "code",
   "execution_count": 41,
   "metadata": {
    "collapsed": true
   },
   "outputs": [],
   "source": [
    "###: Training the model"
   ]
  },
  {
   "cell_type": "code",
   "execution_count": 42,
   "metadata": {},
   "outputs": [
    {
     "name": "stdout",
     "output_type": "stream",
     "text": [
      "drf Model Build progress: |███████████████████████████████████████████████| 100%\n"
     ]
    }
   ],
   "source": [
    "drf_model_with_cv.train(x = features, y = response, training_frame=train_df)"
   ]
  },
  {
   "cell_type": "code",
   "execution_count": 44,
   "metadata": {
    "collapsed": true
   },
   "outputs": [],
   "source": [
    "###: Getting model performance"
   ]
  },
  {
   "cell_type": "code",
   "execution_count": 45,
   "metadata": {},
   "outputs": [
    {
     "data": {
      "text/plain": [
       "0.9713888888888889"
      ]
     },
     "execution_count": 45,
     "metadata": {},
     "output_type": "execute_result"
    }
   ],
   "source": [
    "drf_model_with_cv.model_performance(valid=True,test_data=test_df).auc()"
   ]
  },
  {
   "cell_type": "code",
   "execution_count": 46,
   "metadata": {
    "collapsed": true
   },
   "outputs": [],
   "source": [
    "###:Building DRF Classification model with cross validation and key DRF parameters configuration"
   ]
  },
  {
   "cell_type": "code",
   "execution_count": 48,
   "metadata": {},
   "outputs": [],
   "source": [
    "drf_model_cv_config = H2ORandomForestEstimator(nfolds=5,\n",
    "                                                    keep_cross_validation_predictions=True,\n",
    "                                                    fold_assignment=\"auto\",\n",
    "                                                    seed=12345)"
   ]
  },
  {
   "cell_type": "code",
   "execution_count": null,
   "metadata": {
    "collapsed": true
   },
   "outputs": [],
   "source": [
    "###: Training DRF Model"
   ]
  },
  {
   "cell_type": "code",
   "execution_count": 50,
   "metadata": {},
   "outputs": [
    {
     "name": "stdout",
     "output_type": "stream",
     "text": [
      "drf Model Build progress: |███████████████████████████████████████████████| 100%\n"
     ]
    }
   ],
   "source": [
    "drf_model_cv_config.train(x = features, y = response, \n",
    "                                            training_frame=train_df, \n",
    "                                           model_id = \"drf_model_with_training_and_validtion_python\")"
   ]
  },
  {
   "cell_type": "code",
   "execution_count": 51,
   "metadata": {
    "collapsed": true
   },
   "outputs": [],
   "source": [
    "###: Getting DRF model performance on test data"
   ]
  },
  {
   "cell_type": "code",
   "execution_count": 52,
   "metadata": {},
   "outputs": [
    {
     "data": {
      "text/plain": [
       "0.9686111111111112"
      ]
     },
     "execution_count": 52,
     "metadata": {},
     "output_type": "execute_result"
    }
   ],
   "source": [
    "drf_model_cv_config.model_performance(valid=True,test_data=test_df).auc()"
   ]
  },
  {
   "cell_type": "code",
   "execution_count": 53,
   "metadata": {
    "collapsed": true
   },
   "outputs": [],
   "source": [
    "###: Importing H2O Grid Library"
   ]
  },
  {
   "cell_type": "code",
   "execution_count": 54,
   "metadata": {
    "collapsed": true
   },
   "outputs": [],
   "source": [
    "from h2o.grid import H2OGridSearch"
   ]
  },
  {
   "cell_type": "code",
   "execution_count": 55,
   "metadata": {
    "collapsed": true
   },
   "outputs": [],
   "source": [
    "###: Settings Random Forest grid parameters"
   ]
  },
  {
   "cell_type": "code",
   "execution_count": 56,
   "metadata": {
    "collapsed": true
   },
   "outputs": [],
   "source": [
    "drf_hyper_params = {\n",
    "                \"ntrees\" : [10,25,50],\n",
    "                \"max_depth\": [ 5, 7, 10],\n",
    "                \"sample_rate\": [0.5, 0.75, 1.0]}"
   ]
  },
  {
   "cell_type": "code",
   "execution_count": 57,
   "metadata": {
    "collapsed": true
   },
   "outputs": [],
   "source": [
    "###: Setting H2O Grid Search Criteria"
   ]
  },
  {
   "cell_type": "code",
   "execution_count": 58,
   "metadata": {
    "collapsed": true
   },
   "outputs": [],
   "source": [
    "grid_search_criteria = { 'strategy': \"RandomDiscrete\", \n",
    "                    'seed': 123,\n",
    "                    'stopping_metric': \"AUTO\", \n",
    "                    'stopping_tolerance': 0.01,\n",
    "                    'stopping_rounds': 5 }"
   ]
  },
  {
   "cell_type": "code",
   "execution_count": 59,
   "metadata": {
    "collapsed": true
   },
   "outputs": [],
   "source": [
    "###: Finalzing the H2O Grid searching settings"
   ]
  },
  {
   "cell_type": "code",
   "execution_count": 65,
   "metadata": {},
   "outputs": [],
   "source": [
    "drf_grid = H2OGridSearch(model=H2ORandomForestEstimator(\n",
    "                                                    nfolds=5,\n",
    "                                                    keep_cross_validation_predictions=True,\n",
    "                                                    fold_assignment=\"auto\",\n",
    "                                                    seed=12345),\n",
    "                     hyper_params=drf_hyper_params,\n",
    "                     search_criteria=grid_search_criteria,\n",
    "                     grid_id=\"titnaic_drf_grid\")"
   ]
  },
  {
   "cell_type": "code",
   "execution_count": 66,
   "metadata": {
    "collapsed": true
   },
   "outputs": [],
   "source": [
    "###: Finally training H2O Grid with data "
   ]
  },
  {
   "cell_type": "code",
   "execution_count": 67,
   "metadata": {},
   "outputs": [
    {
     "name": "stdout",
     "output_type": "stream",
     "text": [
      "drf Grid Build progress: |████████████████████████████████████████████████| 100%\n"
     ]
    }
   ],
   "source": [
    "drf_grid.train(x=features, y=response, training_frame=train_df)"
   ]
  },
  {
   "cell_type": "code",
   "execution_count": 68,
   "metadata": {
    "collapsed": true
   },
   "outputs": [],
   "source": [
    "###: Finally getting total count of DRF models"
   ]
  },
  {
   "cell_type": "code",
   "execution_count": 69,
   "metadata": {},
   "outputs": [
    {
     "data": {
      "text/plain": [
       "27"
      ]
     },
     "execution_count": 69,
     "metadata": {},
     "output_type": "execute_result"
    }
   ],
   "source": [
    "len(drf_grid)"
   ]
  },
  {
   "cell_type": "code",
   "execution_count": 70,
   "metadata": {
    "collapsed": true
   },
   "outputs": [],
   "source": [
    "###: Defining a function to find the best model from the grid based on r2 or auc"
   ]
  },
  {
   "cell_type": "code",
   "execution_count": 71,
   "metadata": {
    "collapsed": true
   },
   "outputs": [],
   "source": [
    "def find_best_model_from_grid(h2o_grid, test_parameter):    \n",
    "    model_list = []\n",
    "    for grid_item in h2o_grid:\n",
    "        if test_parameter is \"r2\":\n",
    "            if not (grid_item.r2() == \"NaN\"):\n",
    "                model_list.append(grid_item.r2())\n",
    "            else:\n",
    "                model_list.append(0.0)            \n",
    "        elif test_parameter is \"auc\":\n",
    "            if not (grid_item.auc() == \"NaN\"):\n",
    "                model_list.append(grid_item.auc())\n",
    "            else:\n",
    "                model_list.append(0.0)            \n",
    "    #print(model_list)        \n",
    "    max_index = model_list.index(max(model_list))\n",
    "    #print(max_index)\n",
    "    best_model = h2o_grid[max_index]\n",
    "    print(\"Model ID with best R2: \" +  best_model.model_id)\n",
    "    if test_parameter is \"r2\":\n",
    "        print(\"Best R2: \" +  str(best_model.r2()))\n",
    "    elif test_parameter is \"auc\":\n",
    "        print(\"Best AUC: \" +  str(best_model.auc()))\n",
    "    return best_model"
   ]
  },
  {
   "cell_type": "code",
   "execution_count": 72,
   "metadata": {
    "collapsed": true
   },
   "outputs": [],
   "source": [
    "###: Applying the function to get the best model from the grid"
   ]
  },
  {
   "cell_type": "code",
   "execution_count": 73,
   "metadata": {},
   "outputs": [
    {
     "name": "stdout",
     "output_type": "stream",
     "text": [
      "Model ID with best R2: titnaic_drf_grid_model_23\n",
      "Best AUC: 0.963409156002\n"
     ]
    }
   ],
   "source": [
    "best_model = find_best_model_from_grid(drf_grid, \"auc\")"
   ]
  },
  {
   "cell_type": "code",
   "execution_count": 74,
   "metadata": {
    "collapsed": true
   },
   "outputs": [],
   "source": [
    "###: Getting the best model performance on test data"
   ]
  },
  {
   "cell_type": "code",
   "execution_count": 75,
   "metadata": {},
   "outputs": [
    {
     "data": {
      "text/plain": [
       "0.9705555555555556"
      ]
     },
     "execution_count": 75,
     "metadata": {},
     "output_type": "execute_result"
    }
   ],
   "source": [
    "best_model.model_performance(valid=True,test_data=test_df).auc()"
   ]
  },
  {
   "cell_type": "code",
   "execution_count": 76,
   "metadata": {
    "collapsed": true
   },
   "outputs": [],
   "source": [
    "###: Performing predictions with one of the above model"
   ]
  },
  {
   "cell_type": "code",
   "execution_count": 81,
   "metadata": {},
   "outputs": [
    {
     "name": "stdout",
     "output_type": "stream",
     "text": [
      "drf prediction progress: |████████████████████████████████████████████████| 100%\n"
     ]
    }
   ],
   "source": [
    "drf_predictions = best_model.predict(test_df)"
   ]
  },
  {
   "cell_type": "code",
   "execution_count": 83,
   "metadata": {},
   "outputs": [
    {
     "data": {
      "text/html": [
       "<table>\n",
       "<thead>\n",
       "<tr><th style=\"text-align: right;\">  predict</th><th style=\"text-align: right;\">       p0</th><th style=\"text-align: right;\">      p1</th></tr>\n",
       "</thead>\n",
       "<tbody>\n",
       "<tr><td style=\"text-align: right;\">        1</td><td style=\"text-align: right;\">0.596645 </td><td style=\"text-align: right;\">0.403355</td></tr>\n",
       "<tr><td style=\"text-align: right;\">        1</td><td style=\"text-align: right;\">0.614796 </td><td style=\"text-align: right;\">0.385204</td></tr>\n",
       "<tr><td style=\"text-align: right;\">        1</td><td style=\"text-align: right;\">0.623338 </td><td style=\"text-align: right;\">0.376662</td></tr>\n",
       "<tr><td style=\"text-align: right;\">        1</td><td style=\"text-align: right;\">0.450815 </td><td style=\"text-align: right;\">0.549185</td></tr>\n",
       "<tr><td style=\"text-align: right;\">        1</td><td style=\"text-align: right;\">0.583338 </td><td style=\"text-align: right;\">0.416662</td></tr>\n",
       "<tr><td style=\"text-align: right;\">        1</td><td style=\"text-align: right;\">0.0664729</td><td style=\"text-align: right;\">0.933527</td></tr>\n",
       "<tr><td style=\"text-align: right;\">        1</td><td style=\"text-align: right;\">0.0629529</td><td style=\"text-align: right;\">0.937047</td></tr>\n",
       "<tr><td style=\"text-align: right;\">        1</td><td style=\"text-align: right;\">0.567804 </td><td style=\"text-align: right;\">0.432196</td></tr>\n",
       "<tr><td style=\"text-align: right;\">        1</td><td style=\"text-align: right;\">0.0664729</td><td style=\"text-align: right;\">0.933527</td></tr>\n",
       "<tr><td style=\"text-align: right;\">        1</td><td style=\"text-align: right;\">0.102953 </td><td style=\"text-align: right;\">0.897047</td></tr>\n",
       "</tbody>\n",
       "</table>"
      ]
     },
     "metadata": {},
     "output_type": "display_data"
    },
    {
     "data": {
      "text/plain": []
     },
     "execution_count": 83,
     "metadata": {},
     "output_type": "execute_result"
    }
   ],
   "source": [
    "drf_predictions"
   ]
  },
  {
   "cell_type": "code",
   "execution_count": 84,
   "metadata": {
    "collapsed": true
   },
   "outputs": [],
   "source": [
    "###: Understanding/Validating predictions based on prediction results historgram"
   ]
  },
  {
   "cell_type": "code",
   "execution_count": 85,
   "metadata": {},
   "outputs": [
    {
     "data": {
      "image/png": "[encoded data removed]",
      "text/plain": [
       "<matplotlib.figure.Figure at 0x10fc9e790>"
      ]
     },
     "metadata": {},
     "output_type": "display_data"
    }
   ],
   "source": [
    "drf_predictions['predict'].asnumeric().hist()"
   ]
  },
  {
   "cell_type": "code",
   "execution_count": 87,
   "metadata": {
    "collapsed": true
   },
   "outputs": [],
   "source": [
    "###: Getting Scoring History"
   ]
  },
  {
   "cell_type": "code",
   "execution_count": 88,
   "metadata": {},
   "outputs": [
    {
     "data": {
      "text/html": [
       "<div>\n",
       "<style>\n",
       "    .dataframe thead tr:only-child th {\n",
       "        text-align: right;\n",
       "    }\n",
       "\n",
       "    .dataframe thead th {\n",
       "        text-align: left;\n",
       "    }\n",
       "\n",
       "    .dataframe tbody tr th {\n",
       "        vertical-align: top;\n",
       "    }\n",
       "</style>\n",
       "<table border=\"1\" class=\"dataframe\">\n",
       "  <thead>\n",
       "    <tr style=\"text-align: right;\">\n",
       "      <th></th>\n",
       "      <th></th>\n",
       "      <th>timestamp</th>\n",
       "      <th>duration</th>\n",
       "      <th>number_of_trees</th>\n",
       "      <th>training_rmse</th>\n",
       "      <th>training_logloss</th>\n",
       "      <th>training_auc</th>\n",
       "      <th>training_lift</th>\n",
       "      <th>training_classification_error</th>\n",
       "    </tr>\n",
       "  </thead>\n",
       "  <tbody>\n",
       "    <tr>\n",
       "      <th>0</th>\n",
       "      <td></td>\n",
       "      <td>2017-11-23 00:14:50</td>\n",
       "      <td>19.539 sec</td>\n",
       "      <td>0.0</td>\n",
       "      <td>NaN</td>\n",
       "      <td>NaN</td>\n",
       "      <td>NaN</td>\n",
       "      <td>NaN</td>\n",
       "      <td>NaN</td>\n",
       "    </tr>\n",
       "    <tr>\n",
       "      <th>1</th>\n",
       "      <td></td>\n",
       "      <td>2017-11-23 00:14:50</td>\n",
       "      <td>19.542 sec</td>\n",
       "      <td>1.0</td>\n",
       "      <td>0.370206</td>\n",
       "      <td>3.825247</td>\n",
       "      <td>0.860178</td>\n",
       "      <td>2.333426</td>\n",
       "      <td>0.151961</td>\n",
       "    </tr>\n",
       "    <tr>\n",
       "      <th>2</th>\n",
       "      <td></td>\n",
       "      <td>2017-11-23 00:14:50</td>\n",
       "      <td>19.545 sec</td>\n",
       "      <td>2.0</td>\n",
       "      <td>0.309628</td>\n",
       "      <td>1.311164</td>\n",
       "      <td>0.903889</td>\n",
       "      <td>2.602198</td>\n",
       "      <td>0.109529</td>\n",
       "    </tr>\n",
       "    <tr>\n",
       "      <th>3</th>\n",
       "      <td></td>\n",
       "      <td>2017-11-23 00:14:50</td>\n",
       "      <td>19.548 sec</td>\n",
       "      <td>3.0</td>\n",
       "      <td>0.295940</td>\n",
       "      <td>0.857896</td>\n",
       "      <td>0.909702</td>\n",
       "      <td>2.602198</td>\n",
       "      <td>0.100379</td>\n",
       "    </tr>\n",
       "    <tr>\n",
       "      <th>4</th>\n",
       "      <td></td>\n",
       "      <td>2017-11-23 00:14:50</td>\n",
       "      <td>19.552 sec</td>\n",
       "      <td>4.0</td>\n",
       "      <td>0.285920</td>\n",
       "      <td>0.689182</td>\n",
       "      <td>0.922115</td>\n",
       "      <td>2.602198</td>\n",
       "      <td>0.094222</td>\n",
       "    </tr>\n",
       "    <tr>\n",
       "      <th>5</th>\n",
       "      <td></td>\n",
       "      <td>2017-11-23 00:14:50</td>\n",
       "      <td>19.557 sec</td>\n",
       "      <td>5.0</td>\n",
       "      <td>0.279294</td>\n",
       "      <td>0.669496</td>\n",
       "      <td>0.927958</td>\n",
       "      <td>2.602198</td>\n",
       "      <td>0.091854</td>\n",
       "    </tr>\n",
       "    <tr>\n",
       "      <th>6</th>\n",
       "      <td></td>\n",
       "      <td>2017-11-23 00:14:50</td>\n",
       "      <td>19.562 sec</td>\n",
       "      <td>6.0</td>\n",
       "      <td>0.275742</td>\n",
       "      <td>0.547935</td>\n",
       "      <td>0.934272</td>\n",
       "      <td>2.602198</td>\n",
       "      <td>0.087254</td>\n",
       "    </tr>\n",
       "    <tr>\n",
       "      <th>7</th>\n",
       "      <td></td>\n",
       "      <td>2017-11-23 00:14:50</td>\n",
       "      <td>19.565 sec</td>\n",
       "      <td>7.0</td>\n",
       "      <td>0.284239</td>\n",
       "      <td>0.494741</td>\n",
       "      <td>0.933378</td>\n",
       "      <td>2.602198</td>\n",
       "      <td>0.088285</td>\n",
       "    </tr>\n",
       "    <tr>\n",
       "      <th>8</th>\n",
       "      <td></td>\n",
       "      <td>2017-11-23 00:14:50</td>\n",
       "      <td>19.570 sec</td>\n",
       "      <td>8.0</td>\n",
       "      <td>0.274337</td>\n",
       "      <td>0.370724</td>\n",
       "      <td>0.943465</td>\n",
       "      <td>2.602198</td>\n",
       "      <td>0.088136</td>\n",
       "    </tr>\n",
       "    <tr>\n",
       "      <th>9</th>\n",
       "      <td></td>\n",
       "      <td>2017-11-23 00:14:50</td>\n",
       "      <td>19.575 sec</td>\n",
       "      <td>9.0</td>\n",
       "      <td>0.268805</td>\n",
       "      <td>0.287189</td>\n",
       "      <td>0.946427</td>\n",
       "      <td>2.602198</td>\n",
       "      <td>0.084602</td>\n",
       "    </tr>\n",
       "    <tr>\n",
       "      <th>10</th>\n",
       "      <td></td>\n",
       "      <td>2017-11-23 00:14:50</td>\n",
       "      <td>19.581 sec</td>\n",
       "      <td>10.0</td>\n",
       "      <td>0.263527</td>\n",
       "      <td>0.277734</td>\n",
       "      <td>0.951522</td>\n",
       "      <td>2.602198</td>\n",
       "      <td>0.082840</td>\n",
       "    </tr>\n",
       "    <tr>\n",
       "      <th>11</th>\n",
       "      <td></td>\n",
       "      <td>2017-11-23 00:14:50</td>\n",
       "      <td>19.587 sec</td>\n",
       "      <td>11.0</td>\n",
       "      <td>0.259314</td>\n",
       "      <td>0.271525</td>\n",
       "      <td>0.952598</td>\n",
       "      <td>2.602198</td>\n",
       "      <td>0.081150</td>\n",
       "    </tr>\n",
       "    <tr>\n",
       "      <th>12</th>\n",
       "      <td></td>\n",
       "      <td>2017-11-23 00:14:50</td>\n",
       "      <td>19.594 sec</td>\n",
       "      <td>12.0</td>\n",
       "      <td>0.256188</td>\n",
       "      <td>0.266675</td>\n",
       "      <td>0.954954</td>\n",
       "      <td>2.602198</td>\n",
       "      <td>0.078614</td>\n",
       "    </tr>\n",
       "    <tr>\n",
       "      <th>13</th>\n",
       "      <td></td>\n",
       "      <td>2017-11-23 00:14:50</td>\n",
       "      <td>19.601 sec</td>\n",
       "      <td>13.0</td>\n",
       "      <td>0.253055</td>\n",
       "      <td>0.262066</td>\n",
       "      <td>0.955997</td>\n",
       "      <td>2.602198</td>\n",
       "      <td>0.076858</td>\n",
       "    </tr>\n",
       "    <tr>\n",
       "      <th>14</th>\n",
       "      <td></td>\n",
       "      <td>2017-11-23 00:14:50</td>\n",
       "      <td>19.608 sec</td>\n",
       "      <td>14.0</td>\n",
       "      <td>0.251433</td>\n",
       "      <td>0.258451</td>\n",
       "      <td>0.958169</td>\n",
       "      <td>2.602198</td>\n",
       "      <td>0.076858</td>\n",
       "    </tr>\n",
       "    <tr>\n",
       "      <th>15</th>\n",
       "      <td></td>\n",
       "      <td>2017-11-23 00:14:50</td>\n",
       "      <td>19.616 sec</td>\n",
       "      <td>15.0</td>\n",
       "      <td>0.248394</td>\n",
       "      <td>0.253823</td>\n",
       "      <td>0.959809</td>\n",
       "      <td>2.602198</td>\n",
       "      <td>0.074324</td>\n",
       "    </tr>\n",
       "    <tr>\n",
       "      <th>16</th>\n",
       "      <td></td>\n",
       "      <td>2017-11-23 00:14:50</td>\n",
       "      <td>19.624 sec</td>\n",
       "      <td>16.0</td>\n",
       "      <td>0.248098</td>\n",
       "      <td>0.226214</td>\n",
       "      <td>0.960996</td>\n",
       "      <td>2.602198</td>\n",
       "      <td>0.075169</td>\n",
       "    </tr>\n",
       "    <tr>\n",
       "      <th>17</th>\n",
       "      <td></td>\n",
       "      <td>2017-11-23 00:14:50</td>\n",
       "      <td>19.631 sec</td>\n",
       "      <td>17.0</td>\n",
       "      <td>0.252471</td>\n",
       "      <td>0.240708</td>\n",
       "      <td>0.959805</td>\n",
       "      <td>2.602198</td>\n",
       "      <td>0.075169</td>\n",
       "    </tr>\n",
       "    <tr>\n",
       "      <th>18</th>\n",
       "      <td></td>\n",
       "      <td>2017-11-23 00:14:50</td>\n",
       "      <td>19.639 sec</td>\n",
       "      <td>18.0</td>\n",
       "      <td>0.253091</td>\n",
       "      <td>0.241538</td>\n",
       "      <td>0.958605</td>\n",
       "      <td>2.602198</td>\n",
       "      <td>0.073480</td>\n",
       "    </tr>\n",
       "    <tr>\n",
       "      <th>19</th>\n",
       "      <td></td>\n",
       "      <td>2017-11-23 00:14:51</td>\n",
       "      <td>19.647 sec</td>\n",
       "      <td>19.0</td>\n",
       "      <td>0.254298</td>\n",
       "      <td>0.242592</td>\n",
       "      <td>0.957105</td>\n",
       "      <td>2.602198</td>\n",
       "      <td>0.073480</td>\n",
       "    </tr>\n",
       "    <tr>\n",
       "      <th>20</th>\n",
       "      <td></td>\n",
       "      <td>2017-11-23 00:14:51</td>\n",
       "      <td>19.656 sec</td>\n",
       "      <td>20.0</td>\n",
       "      <td>0.253954</td>\n",
       "      <td>0.241709</td>\n",
       "      <td>0.957318</td>\n",
       "      <td>2.602198</td>\n",
       "      <td>0.074324</td>\n",
       "    </tr>\n",
       "    <tr>\n",
       "      <th>21</th>\n",
       "      <td></td>\n",
       "      <td>2017-11-23 00:14:51</td>\n",
       "      <td>19.664 sec</td>\n",
       "      <td>21.0</td>\n",
       "      <td>0.254050</td>\n",
       "      <td>0.241276</td>\n",
       "      <td>0.957233</td>\n",
       "      <td>2.602198</td>\n",
       "      <td>0.075169</td>\n",
       "    </tr>\n",
       "    <tr>\n",
       "      <th>22</th>\n",
       "      <td></td>\n",
       "      <td>2017-11-23 00:14:51</td>\n",
       "      <td>19.673 sec</td>\n",
       "      <td>22.0</td>\n",
       "      <td>0.252647</td>\n",
       "      <td>0.239228</td>\n",
       "      <td>0.957515</td>\n",
       "      <td>2.602198</td>\n",
       "      <td>0.074324</td>\n",
       "    </tr>\n",
       "    <tr>\n",
       "      <th>23</th>\n",
       "      <td></td>\n",
       "      <td>2017-11-23 00:14:51</td>\n",
       "      <td>19.682 sec</td>\n",
       "      <td>23.0</td>\n",
       "      <td>0.252970</td>\n",
       "      <td>0.239529</td>\n",
       "      <td>0.957512</td>\n",
       "      <td>2.602198</td>\n",
       "      <td>0.075169</td>\n",
       "    </tr>\n",
       "    <tr>\n",
       "      <th>24</th>\n",
       "      <td></td>\n",
       "      <td>2017-11-23 00:14:51</td>\n",
       "      <td>19.692 sec</td>\n",
       "      <td>24.0</td>\n",
       "      <td>0.252220</td>\n",
       "      <td>0.238431</td>\n",
       "      <td>0.957568</td>\n",
       "      <td>2.602198</td>\n",
       "      <td>0.072635</td>\n",
       "    </tr>\n",
       "    <tr>\n",
       "      <th>25</th>\n",
       "      <td></td>\n",
       "      <td>2017-11-23 00:14:51</td>\n",
       "      <td>19.703 sec</td>\n",
       "      <td>25.0</td>\n",
       "      <td>0.252351</td>\n",
       "      <td>0.238225</td>\n",
       "      <td>0.957566</td>\n",
       "      <td>2.602198</td>\n",
       "      <td>0.072635</td>\n",
       "    </tr>\n",
       "    <tr>\n",
       "      <th>26</th>\n",
       "      <td></td>\n",
       "      <td>2017-11-23 00:14:51</td>\n",
       "      <td>19.714 sec</td>\n",
       "      <td>26.0</td>\n",
       "      <td>0.251727</td>\n",
       "      <td>0.237865</td>\n",
       "      <td>0.957248</td>\n",
       "      <td>2.602198</td>\n",
       "      <td>0.071791</td>\n",
       "    </tr>\n",
       "    <tr>\n",
       "      <th>27</th>\n",
       "      <td></td>\n",
       "      <td>2017-11-23 00:14:51</td>\n",
       "      <td>19.726 sec</td>\n",
       "      <td>27.0</td>\n",
       "      <td>0.250630</td>\n",
       "      <td>0.235696</td>\n",
       "      <td>0.959234</td>\n",
       "      <td>2.602198</td>\n",
       "      <td>0.074324</td>\n",
       "    </tr>\n",
       "    <tr>\n",
       "      <th>28</th>\n",
       "      <td></td>\n",
       "      <td>2017-11-23 00:14:51</td>\n",
       "      <td>19.738 sec</td>\n",
       "      <td>28.0</td>\n",
       "      <td>0.251592</td>\n",
       "      <td>0.236870</td>\n",
       "      <td>0.958610</td>\n",
       "      <td>2.602198</td>\n",
       "      <td>0.073480</td>\n",
       "    </tr>\n",
       "    <tr>\n",
       "      <th>29</th>\n",
       "      <td></td>\n",
       "      <td>2017-11-23 00:14:51</td>\n",
       "      <td>19.748 sec</td>\n",
       "      <td>29.0</td>\n",
       "      <td>0.251741</td>\n",
       "      <td>0.236834</td>\n",
       "      <td>0.958594</td>\n",
       "      <td>2.602198</td>\n",
       "      <td>0.075169</td>\n",
       "    </tr>\n",
       "    <tr>\n",
       "      <th>30</th>\n",
       "      <td></td>\n",
       "      <td>2017-11-23 00:14:51</td>\n",
       "      <td>19.759 sec</td>\n",
       "      <td>30.0</td>\n",
       "      <td>0.251963</td>\n",
       "      <td>0.236455</td>\n",
       "      <td>0.958551</td>\n",
       "      <td>2.602198</td>\n",
       "      <td>0.074324</td>\n",
       "    </tr>\n",
       "    <tr>\n",
       "      <th>31</th>\n",
       "      <td></td>\n",
       "      <td>2017-11-23 00:14:51</td>\n",
       "      <td>19.771 sec</td>\n",
       "      <td>31.0</td>\n",
       "      <td>0.251522</td>\n",
       "      <td>0.232701</td>\n",
       "      <td>0.959755</td>\n",
       "      <td>2.602198</td>\n",
       "      <td>0.074324</td>\n",
       "    </tr>\n",
       "    <tr>\n",
       "      <th>32</th>\n",
       "      <td></td>\n",
       "      <td>2017-11-23 00:14:51</td>\n",
       "      <td>19.781 sec</td>\n",
       "      <td>32.0</td>\n",
       "      <td>0.253786</td>\n",
       "      <td>0.240693</td>\n",
       "      <td>0.958212</td>\n",
       "      <td>2.602198</td>\n",
       "      <td>0.074324</td>\n",
       "    </tr>\n",
       "    <tr>\n",
       "      <th>33</th>\n",
       "      <td></td>\n",
       "      <td>2017-11-23 00:14:51</td>\n",
       "      <td>19.792 sec</td>\n",
       "      <td>33.0</td>\n",
       "      <td>0.253686</td>\n",
       "      <td>0.240280</td>\n",
       "      <td>0.958189</td>\n",
       "      <td>2.602198</td>\n",
       "      <td>0.076014</td>\n",
       "    </tr>\n",
       "    <tr>\n",
       "      <th>34</th>\n",
       "      <td></td>\n",
       "      <td>2017-11-23 00:14:51</td>\n",
       "      <td>19.804 sec</td>\n",
       "      <td>34.0</td>\n",
       "      <td>0.253034</td>\n",
       "      <td>0.238968</td>\n",
       "      <td>0.959283</td>\n",
       "      <td>2.602198</td>\n",
       "      <td>0.076014</td>\n",
       "    </tr>\n",
       "    <tr>\n",
       "      <th>35</th>\n",
       "      <td></td>\n",
       "      <td>2017-11-23 00:14:51</td>\n",
       "      <td>19.816 sec</td>\n",
       "      <td>35.0</td>\n",
       "      <td>0.251900</td>\n",
       "      <td>0.236896</td>\n",
       "      <td>0.959791</td>\n",
       "      <td>2.602198</td>\n",
       "      <td>0.075169</td>\n",
       "    </tr>\n",
       "    <tr>\n",
       "      <th>36</th>\n",
       "      <td></td>\n",
       "      <td>2017-11-23 00:14:51</td>\n",
       "      <td>19.829 sec</td>\n",
       "      <td>36.0</td>\n",
       "      <td>0.251765</td>\n",
       "      <td>0.236518</td>\n",
       "      <td>0.959889</td>\n",
       "      <td>2.602198</td>\n",
       "      <td>0.073480</td>\n",
       "    </tr>\n",
       "    <tr>\n",
       "      <th>37</th>\n",
       "      <td></td>\n",
       "      <td>2017-11-23 00:14:51</td>\n",
       "      <td>19.842 sec</td>\n",
       "      <td>37.0</td>\n",
       "      <td>0.251358</td>\n",
       "      <td>0.235937</td>\n",
       "      <td>0.959871</td>\n",
       "      <td>2.602198</td>\n",
       "      <td>0.074324</td>\n",
       "    </tr>\n",
       "    <tr>\n",
       "      <th>38</th>\n",
       "      <td></td>\n",
       "      <td>2017-11-23 00:14:51</td>\n",
       "      <td>19.855 sec</td>\n",
       "      <td>38.0</td>\n",
       "      <td>0.252982</td>\n",
       "      <td>0.241322</td>\n",
       "      <td>0.961523</td>\n",
       "      <td>2.602198</td>\n",
       "      <td>0.073480</td>\n",
       "    </tr>\n",
       "    <tr>\n",
       "      <th>39</th>\n",
       "      <td></td>\n",
       "      <td>2017-11-23 00:14:51</td>\n",
       "      <td>19.869 sec</td>\n",
       "      <td>39.0</td>\n",
       "      <td>0.252778</td>\n",
       "      <td>0.241075</td>\n",
       "      <td>0.960271</td>\n",
       "      <td>2.602198</td>\n",
       "      <td>0.070101</td>\n",
       "    </tr>\n",
       "    <tr>\n",
       "      <th>40</th>\n",
       "      <td></td>\n",
       "      <td>2017-11-23 00:14:51</td>\n",
       "      <td>19.884 sec</td>\n",
       "      <td>40.0</td>\n",
       "      <td>0.252490</td>\n",
       "      <td>0.240435</td>\n",
       "      <td>0.960106</td>\n",
       "      <td>2.602198</td>\n",
       "      <td>0.070946</td>\n",
       "    </tr>\n",
       "    <tr>\n",
       "      <th>41</th>\n",
       "      <td></td>\n",
       "      <td>2017-11-23 00:14:51</td>\n",
       "      <td>19.898 sec</td>\n",
       "      <td>41.0</td>\n",
       "      <td>0.252294</td>\n",
       "      <td>0.239670</td>\n",
       "      <td>0.960235</td>\n",
       "      <td>2.602198</td>\n",
       "      <td>0.071791</td>\n",
       "    </tr>\n",
       "    <tr>\n",
       "      <th>42</th>\n",
       "      <td></td>\n",
       "      <td>2017-11-23 00:14:51</td>\n",
       "      <td>19.911 sec</td>\n",
       "      <td>42.0</td>\n",
       "      <td>0.251693</td>\n",
       "      <td>0.238881</td>\n",
       "      <td>0.961380</td>\n",
       "      <td>2.602198</td>\n",
       "      <td>0.071791</td>\n",
       "    </tr>\n",
       "    <tr>\n",
       "      <th>43</th>\n",
       "      <td></td>\n",
       "      <td>2017-11-23 00:14:51</td>\n",
       "      <td>19.926 sec</td>\n",
       "      <td>43.0</td>\n",
       "      <td>0.251500</td>\n",
       "      <td>0.238239</td>\n",
       "      <td>0.961261</td>\n",
       "      <td>2.602198</td>\n",
       "      <td>0.072635</td>\n",
       "    </tr>\n",
       "    <tr>\n",
       "      <th>44</th>\n",
       "      <td></td>\n",
       "      <td>2017-11-23 00:14:51</td>\n",
       "      <td>19.940 sec</td>\n",
       "      <td>44.0</td>\n",
       "      <td>0.251532</td>\n",
       "      <td>0.238069</td>\n",
       "      <td>0.961229</td>\n",
       "      <td>2.602198</td>\n",
       "      <td>0.072635</td>\n",
       "    </tr>\n",
       "    <tr>\n",
       "      <th>45</th>\n",
       "      <td></td>\n",
       "      <td>2017-11-23 00:14:51</td>\n",
       "      <td>19.956 sec</td>\n",
       "      <td>45.0</td>\n",
       "      <td>0.250524</td>\n",
       "      <td>0.236307</td>\n",
       "      <td>0.961534</td>\n",
       "      <td>2.602198</td>\n",
       "      <td>0.070946</td>\n",
       "    </tr>\n",
       "    <tr>\n",
       "      <th>46</th>\n",
       "      <td></td>\n",
       "      <td>2017-11-23 00:14:51</td>\n",
       "      <td>19.972 sec</td>\n",
       "      <td>46.0</td>\n",
       "      <td>0.249155</td>\n",
       "      <td>0.234521</td>\n",
       "      <td>0.962289</td>\n",
       "      <td>2.602198</td>\n",
       "      <td>0.068412</td>\n",
       "    </tr>\n",
       "    <tr>\n",
       "      <th>47</th>\n",
       "      <td></td>\n",
       "      <td>2017-11-23 00:14:51</td>\n",
       "      <td>19.988 sec</td>\n",
       "      <td>47.0</td>\n",
       "      <td>0.248903</td>\n",
       "      <td>0.233906</td>\n",
       "      <td>0.962355</td>\n",
       "      <td>2.602198</td>\n",
       "      <td>0.069257</td>\n",
       "    </tr>\n",
       "    <tr>\n",
       "      <th>48</th>\n",
       "      <td></td>\n",
       "      <td>2017-11-23 00:14:51</td>\n",
       "      <td>20.004 sec</td>\n",
       "      <td>48.0</td>\n",
       "      <td>0.249063</td>\n",
       "      <td>0.234269</td>\n",
       "      <td>0.962616</td>\n",
       "      <td>2.602198</td>\n",
       "      <td>0.069257</td>\n",
       "    </tr>\n",
       "    <tr>\n",
       "      <th>49</th>\n",
       "      <td></td>\n",
       "      <td>2017-11-23 00:14:51</td>\n",
       "      <td>20.020 sec</td>\n",
       "      <td>49.0</td>\n",
       "      <td>0.249466</td>\n",
       "      <td>0.234494</td>\n",
       "      <td>0.962447</td>\n",
       "      <td>2.602198</td>\n",
       "      <td>0.069257</td>\n",
       "    </tr>\n",
       "    <tr>\n",
       "      <th>50</th>\n",
       "      <td></td>\n",
       "      <td>2017-11-23 00:14:51</td>\n",
       "      <td>20.036 sec</td>\n",
       "      <td>50.0</td>\n",
       "      <td>0.250157</td>\n",
       "      <td>0.236269</td>\n",
       "      <td>0.963409</td>\n",
       "      <td>2.602198</td>\n",
       "      <td>0.069257</td>\n",
       "    </tr>\n",
       "  </tbody>\n",
       "</table>\n",
       "</div>"
      ],
      "text/plain": [
       "                timestamp    duration  number_of_trees  training_rmse  \\\n",
       "0     2017-11-23 00:14:50  19.539 sec              0.0            NaN   \n",
       "1     2017-11-23 00:14:50  19.542 sec              1.0       0.370206   \n",
       "2     2017-11-23 00:14:50  19.545 sec              2.0       0.309628   \n",
       "3     2017-11-23 00:14:50  19.548 sec              3.0       0.295940   \n",
       "4     2017-11-23 00:14:50  19.552 sec              4.0       0.285920   \n",
       "5     2017-11-23 00:14:50  19.557 sec              5.0       0.279294   \n",
       "6     2017-11-23 00:14:50  19.562 sec              6.0       0.275742   \n",
       "7     2017-11-23 00:14:50  19.565 sec              7.0       0.284239   \n",
       "8     2017-11-23 00:14:50  19.570 sec              8.0       0.274337   \n",
       "9     2017-11-23 00:14:50  19.575 sec              9.0       0.268805   \n",
       "10    2017-11-23 00:14:50  19.581 sec             10.0       0.263527   \n",
       "11    2017-11-23 00:14:50  19.587 sec             11.0       0.259314   \n",
       "12    2017-11-23 00:14:50  19.594 sec             12.0       0.256188   \n",
       "13    2017-11-23 00:14:50  19.601 sec             13.0       0.253055   \n",
       "14    2017-11-23 00:14:50  19.608 sec             14.0       0.251433   \n",
       "15    2017-11-23 00:14:50  19.616 sec             15.0       0.248394   \n",
       "16    2017-11-23 00:14:50  19.624 sec             16.0       0.248098   \n",
       "17    2017-11-23 00:14:50  19.631 sec             17.0       0.252471   \n",
       "18    2017-11-23 00:14:50  19.639 sec             18.0       0.253091   \n",
       "19    2017-11-23 00:14:51  19.647 sec             19.0       0.254298   \n",
       "20    2017-11-23 00:14:51  19.656 sec             20.0       0.253954   \n",
       "21    2017-11-23 00:14:51  19.664 sec             21.0       0.254050   \n",
       "22    2017-11-23 00:14:51  19.673 sec             22.0       0.252647   \n",
       "23    2017-11-23 00:14:51  19.682 sec             23.0       0.252970   \n",
       "24    2017-11-23 00:14:51  19.692 sec             24.0       0.252220   \n",
       "25    2017-11-23 00:14:51  19.703 sec             25.0       0.252351   \n",
       "26    2017-11-23 00:14:51  19.714 sec             26.0       0.251727   \n",
       "27    2017-11-23 00:14:51  19.726 sec             27.0       0.250630   \n",
       "28    2017-11-23 00:14:51  19.738 sec             28.0       0.251592   \n",
       "29    2017-11-23 00:14:51  19.748 sec             29.0       0.251741   \n",
       "30    2017-11-23 00:14:51  19.759 sec             30.0       0.251963   \n",
       "31    2017-11-23 00:14:51  19.771 sec             31.0       0.251522   \n",
       "32    2017-11-23 00:14:51  19.781 sec             32.0       0.253786   \n",
       "33    2017-11-23 00:14:51  19.792 sec             33.0       0.253686   \n",
       "34    2017-11-23 00:14:51  19.804 sec             34.0       0.253034   \n",
       "35    2017-11-23 00:14:51  19.816 sec             35.0       0.251900   \n",
       "36    2017-11-23 00:14:51  19.829 sec             36.0       0.251765   \n",
       "37    2017-11-23 00:14:51  19.842 sec             37.0       0.251358   \n",
       "38    2017-11-23 00:14:51  19.855 sec             38.0       0.252982   \n",
       "39    2017-11-23 00:14:51  19.869 sec             39.0       0.252778   \n",
       "40    2017-11-23 00:14:51  19.884 sec             40.0       0.252490   \n",
       "41    2017-11-23 00:14:51  19.898 sec             41.0       0.252294   \n",
       "42    2017-11-23 00:14:51  19.911 sec             42.0       0.251693   \n",
       "43    2017-11-23 00:14:51  19.926 sec             43.0       0.251500   \n",
       "44    2017-11-23 00:14:51  19.940 sec             44.0       0.251532   \n",
       "45    2017-11-23 00:14:51  19.956 sec             45.0       0.250524   \n",
       "46    2017-11-23 00:14:51  19.972 sec             46.0       0.249155   \n",
       "47    2017-11-23 00:14:51  19.988 sec             47.0       0.248903   \n",
       "48    2017-11-23 00:14:51  20.004 sec             48.0       0.249063   \n",
       "49    2017-11-23 00:14:51  20.020 sec             49.0       0.249466   \n",
       "50    2017-11-23 00:14:51  20.036 sec             50.0       0.250157   \n",
       "\n",
       "    training_logloss  training_auc  training_lift  \\\n",
       "0                NaN           NaN            NaN   \n",
       "1           3.825247      0.860178       2.333426   \n",
       "2           1.311164      0.903889       2.602198   \n",
       "3           0.857896      0.909702       2.602198   \n",
       "4           0.689182      0.922115       2.602198   \n",
       "5           0.669496      0.927958       2.602198   \n",
       "6           0.547935      0.934272       2.602198   \n",
       "7           0.494741      0.933378       2.602198   \n",
       "8           0.370724      0.943465       2.602198   \n",
       "9           0.287189      0.946427       2.602198   \n",
       "10          0.277734      0.951522       2.602198   \n",
       "11          0.271525      0.952598       2.602198   \n",
       "12          0.266675      0.954954       2.602198   \n",
       "13          0.262066      0.955997       2.602198   \n",
       "14          0.258451      0.958169       2.602198   \n",
       "15          0.253823      0.959809       2.602198   \n",
       "16          0.226214      0.960996       2.602198   \n",
       "17          0.240708      0.959805       2.602198   \n",
       "18          0.241538      0.958605       2.602198   \n",
       "19          0.242592      0.957105       2.602198   \n",
       "20          0.241709      0.957318       2.602198   \n",
       "21          0.241276      0.957233       2.602198   \n",
       "22          0.239228      0.957515       2.602198   \n",
       "23          0.239529      0.957512       2.602198   \n",
       "24          0.238431      0.957568       2.602198   \n",
       "25          0.238225      0.957566       2.602198   \n",
       "26          0.237865      0.957248       2.602198   \n",
       "27          0.235696      0.959234       2.602198   \n",
       "28          0.236870      0.958610       2.602198   \n",
       "29          0.236834      0.958594       2.602198   \n",
       "30          0.236455      0.958551       2.602198   \n",
       "31          0.232701      0.959755       2.602198   \n",
       "32          0.240693      0.958212       2.602198   \n",
       "33          0.240280      0.958189       2.602198   \n",
       "34          0.238968      0.959283       2.602198   \n",
       "35          0.236896      0.959791       2.602198   \n",
       "36          0.236518      0.959889       2.602198   \n",
       "37          0.235937      0.959871       2.602198   \n",
       "38          0.241322      0.961523       2.602198   \n",
       "39          0.241075      0.960271       2.602198   \n",
       "40          0.240435      0.960106       2.602198   \n",
       "41          0.239670      0.960235       2.602198   \n",
       "42          0.238881      0.961380       2.602198   \n",
       "43          0.238239      0.961261       2.602198   \n",
       "44          0.238069      0.961229       2.602198   \n",
       "45          0.236307      0.961534       2.602198   \n",
       "46          0.234521      0.962289       2.602198   \n",
       "47          0.233906      0.962355       2.602198   \n",
       "48          0.234269      0.962616       2.602198   \n",
       "49          0.234494      0.962447       2.602198   \n",
       "50          0.236269      0.963409       2.602198   \n",
       "\n",
       "    training_classification_error  \n",
       "0                             NaN  \n",
       "1                        0.151961  \n",
       "2                        0.109529  \n",
       "3                        0.100379  \n",
       "4                        0.094222  \n",
       "5                        0.091854  \n",
       "6                        0.087254  \n",
       "7                        0.088285  \n",
       "8                        0.088136  \n",
       "9                        0.084602  \n",
       "10                       0.082840  \n",
       "11                       0.081150  \n",
       "12                       0.078614  \n",
       "13                       0.076858  \n",
       "14                       0.076858  \n",
       "15                       0.074324  \n",
       "16                       0.075169  \n",
       "17                       0.075169  \n",
       "18                       0.073480  \n",
       "19                       0.073480  \n",
       "20                       0.074324  \n",
       "21                       0.075169  \n",
       "22                       0.074324  \n",
       "23                       0.075169  \n",
       "24                       0.072635  \n",
       "25                       0.072635  \n",
       "26                       0.071791  \n",
       "27                       0.074324  \n",
       "28                       0.073480  \n",
       "29                       0.075169  \n",
       "30                       0.074324  \n",
       "31                       0.074324  \n",
       "32                       0.074324  \n",
       "33                       0.076014  \n",
       "34                       0.076014  \n",
       "35                       0.075169  \n",
       "36                       0.073480  \n",
       "37                       0.074324  \n",
       "38                       0.073480  \n",
       "39                       0.070101  \n",
       "40                       0.070946  \n",
       "41                       0.071791  \n",
       "42                       0.071791  \n",
       "43                       0.072635  \n",
       "44                       0.072635  \n",
       "45                       0.070946  \n",
       "46                       0.068412  \n",
       "47                       0.069257  \n",
       "48                       0.069257  \n",
       "49                       0.069257  \n",
       "50                       0.069257  "
      ]
     },
     "execution_count": 88,
     "metadata": {},
     "output_type": "execute_result"
    }
   ],
   "source": [
    "best_model.scoring_history()"
   ]
  },
  {
   "cell_type": "code",
   "execution_count": 89,
   "metadata": {
    "collapsed": true
   },
   "outputs": [],
   "source": [
    "###: Getting GBM model variable importance "
   ]
  },
  {
   "cell_type": "code",
   "execution_count": 90,
   "metadata": {},
   "outputs": [
    {
     "data": {
      "text/plain": [
       "[(u'boat', 4396.61083984375, 1.0, 0.6313194709458902),\n",
       " (u'cabin', 1029.3846435546875, 0.23413139826386603, 0.1478117104837654),\n",
       " (u'sex', 724.634521484375, 0.16481661622572163, 0.1040519389587144),\n",
       " (u'pclass', 205.63734436035156, 0.04677178669005412, 0.029527939628358996),\n",
       " (u'fare', 189.1609649658203, 0.0430242684323052, 0.027162058384516886),\n",
       " (u'age', 159.82949829101562, 0.0363528872836732, 0.022950285567284148),\n",
       " (u'body', 103.2724609375, 0.02348910665497294, 0.014829130386409105),\n",
       " (u'embarked', 72.89186096191406, 0.016579102317025755, 0.010466710103542482),\n",
       " (u'sibsp', 45.29018020629883, 0.010301157381468036, 0.006503321228198753),\n",
       " (u'parch', 37.44932174682617, 0.00851777041703265, 0.005377434313319608)]"
      ]
     },
     "execution_count": 90,
     "metadata": {},
     "output_type": "execute_result"
    }
   ],
   "source": [
    "best_model.varimp()"
   ]
  },
  {
   "cell_type": "code",
   "execution_count": 91,
   "metadata": {
    "collapsed": true
   },
   "outputs": [],
   "source": [
    "###: Getting model variable importance PLOT"
   ]
  },
  {
   "cell_type": "code",
   "execution_count": 92,
   "metadata": {},
   "outputs": [
    {
     "data": {
      "image/png": "[encoded data removed]",
      "text/plain": [
       "<matplotlib.figure.Figure at 0x10fde7110>"
      ]
     },
     "metadata": {},
     "output_type": "display_data"
    }
   ],
   "source": [
    "best_model.varimp_plot()"
   ]
  },
  {
   "cell_type": "code",
   "execution_count": null,
   "metadata": {
    "collapsed": true
   },
   "outputs": [],
   "source": []
  },
  {
   "cell_type": "code",
   "execution_count": null,
   "metadata": {
    "collapsed": true
   },
   "outputs": [],
   "source": []
  }
 ],
 "metadata": {
  "kernelspec": {
   "display_name": "Python 2",
   "language": "python",
   "name": "python2"
  },
  "language_info": {
   "codemirror_mode": {
    "name": "ipython",
    "version": 2
   },
   "file_extension": ".py",
   "mimetype": "text/x-python",
   "name": "python",
   "nbconvert_exporter": "python",
   "pygments_lexer": "ipython2",
   "version": "2.7.13"
  }
 },
 "nbformat": 4,
 "nbformat_minor": 2
}
