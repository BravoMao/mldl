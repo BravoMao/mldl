{
 "cells": [
  {
   "cell_type": "code",
   "execution_count": 1,
   "metadata": {
    "collapsed": true
   },
   "outputs": [],
   "source": [
    "###: Importing H2O Library"
   ]
  },
  {
   "cell_type": "code",
   "execution_count": 2,
   "metadata": {
    "collapsed": true
   },
   "outputs": [],
   "source": [
    "import h2o"
   ]
  },
  {
   "cell_type": "code",
   "execution_count": 3,
   "metadata": {
    "collapsed": true
   },
   "outputs": [],
   "source": [
    "###: Initializing h2O"
   ]
  },
  {
   "cell_type": "code",
   "execution_count": 4,
   "metadata": {},
   "outputs": [
    {
     "name": "stderr",
     "output_type": "stream",
     "text": [
      "ERROR:h2o:Key init.version_check is not a valid config key\n"
     ]
    },
    {
     "name": "stdout",
     "output_type": "stream",
     "text": [
      "Checking whether there is an H2O instance running at http://localhost:54321. connected.\n"
     ]
    },
    {
     "data": {
      "text/html": [
       "<div style=\"overflow:auto\"><table style=\"width:50%\"><tr><td>H2O cluster uptime:</td>\n",
       "<td>1 day 3 hours 18 mins</td></tr>\n",
       "<tr><td>H2O cluster version:</td>\n",
       "<td>3.14.0.7</td></tr>\n",
       "<tr><td>H2O cluster version age:</td>\n",
       "<td>1 month and 1 day </td></tr>\n",
       "<tr><td>H2O cluster name:</td>\n",
       "<td>H2O_from_python_avkashchauhan_d7ekmq</td></tr>\n",
       "<tr><td>H2O cluster total nodes:</td>\n",
       "<td>1</td></tr>\n",
       "<tr><td>H2O cluster free memory:</td>\n",
       "<td>2.850 Gb</td></tr>\n",
       "<tr><td>H2O cluster total cores:</td>\n",
       "<td>8</td></tr>\n",
       "<tr><td>H2O cluster allowed cores:</td>\n",
       "<td>8</td></tr>\n",
       "<tr><td>H2O cluster status:</td>\n",
       "<td>locked, healthy</td></tr>\n",
       "<tr><td>H2O connection url:</td>\n",
       "<td>http://localhost:54321</td></tr>\n",
       "<tr><td>H2O connection proxy:</td>\n",
       "<td>None</td></tr>\n",
       "<tr><td>H2O internal security:</td>\n",
       "<td>False</td></tr>\n",
       "<tr><td>H2O API Extensions:</td>\n",
       "<td>XGBoost, Algos, AutoML, Core V3, Core V4</td></tr>\n",
       "<tr><td>Python version:</td>\n",
       "<td>2.7.13 final</td></tr></table></div>"
      ],
      "text/plain": [
       "--------------------------  ----------------------------------------\n",
       "H2O cluster uptime:         1 day 3 hours 18 mins\n",
       "H2O cluster version:        3.14.0.7\n",
       "H2O cluster version age:    1 month and 1 day\n",
       "H2O cluster name:           H2O_from_python_avkashchauhan_d7ekmq\n",
       "H2O cluster total nodes:    1\n",
       "H2O cluster free memory:    2.850 Gb\n",
       "H2O cluster total cores:    8\n",
       "H2O cluster allowed cores:  8\n",
       "H2O cluster status:         locked, healthy\n",
       "H2O connection url:         http://localhost:54321\n",
       "H2O connection proxy:\n",
       "H2O internal security:      False\n",
       "H2O API Extensions:         XGBoost, Algos, AutoML, Core V3, Core V4\n",
       "Python version:             2.7.13 final\n",
       "--------------------------  ----------------------------------------"
      ]
     },
     "metadata": {},
     "output_type": "display_data"
    }
   ],
   "source": [
    "h2o.init()"
   ]
  },
  {
   "cell_type": "code",
   "execution_count": 5,
   "metadata": {
    "collapsed": true
   },
   "outputs": [],
   "source": [
    "### : Getting H2O Cluster status"
   ]
  },
  {
   "cell_type": "code",
   "execution_count": 6,
   "metadata": {},
   "outputs": [
    {
     "data": {
      "text/html": [
       "<div style=\"overflow:auto\"><table style=\"width:50%\"><tr><td>H2O cluster uptime:</td>\n",
       "<td>1 day 3 hours 18 mins</td></tr>\n",
       "<tr><td>H2O cluster version:</td>\n",
       "<td>3.14.0.7</td></tr>\n",
       "<tr><td>H2O cluster version age:</td>\n",
       "<td>1 month and 1 day </td></tr>\n",
       "<tr><td>H2O cluster name:</td>\n",
       "<td>H2O_from_python_avkashchauhan_d7ekmq</td></tr>\n",
       "<tr><td>H2O cluster total nodes:</td>\n",
       "<td>1</td></tr>\n",
       "<tr><td>H2O cluster free memory:</td>\n",
       "<td>2.850 Gb</td></tr>\n",
       "<tr><td>H2O cluster total cores:</td>\n",
       "<td>8</td></tr>\n",
       "<tr><td>H2O cluster allowed cores:</td>\n",
       "<td>8</td></tr>\n",
       "<tr><td>H2O cluster status:</td>\n",
       "<td>locked, healthy</td></tr>\n",
       "<tr><td>H2O connection url:</td>\n",
       "<td>http://localhost:54321</td></tr>\n",
       "<tr><td>H2O connection proxy:</td>\n",
       "<td>None</td></tr>\n",
       "<tr><td>H2O internal security:</td>\n",
       "<td>False</td></tr>\n",
       "<tr><td>H2O API Extensions:</td>\n",
       "<td>XGBoost, Algos, AutoML, Core V3, Core V4</td></tr>\n",
       "<tr><td>Python version:</td>\n",
       "<td>2.7.13 final</td></tr></table></div>"
      ],
      "text/plain": [
       "--------------------------  ----------------------------------------\n",
       "H2O cluster uptime:         1 day 3 hours 18 mins\n",
       "H2O cluster version:        3.14.0.7\n",
       "H2O cluster version age:    1 month and 1 day\n",
       "H2O cluster name:           H2O_from_python_avkashchauhan_d7ekmq\n",
       "H2O cluster total nodes:    1\n",
       "H2O cluster free memory:    2.850 Gb\n",
       "H2O cluster total cores:    8\n",
       "H2O cluster allowed cores:  8\n",
       "H2O cluster status:         locked, healthy\n",
       "H2O connection url:         http://localhost:54321\n",
       "H2O connection proxy:\n",
       "H2O internal security:      False\n",
       "H2O API Extensions:         XGBoost, Algos, AutoML, Core V3, Core V4\n",
       "Python version:             2.7.13 final\n",
       "--------------------------  ----------------------------------------"
      ]
     },
     "metadata": {},
     "output_type": "display_data"
    }
   ],
   "source": [
    "h2o.cluster().show_status()"
   ]
  },
  {
   "cell_type": "code",
   "execution_count": 7,
   "metadata": {
    "collapsed": true
   },
   "outputs": [],
   "source": [
    "###: Importing Dataset"
   ]
  },
  {
   "cell_type": "code",
   "execution_count": 8,
   "metadata": {},
   "outputs": [
    {
     "name": "stdout",
     "output_type": "stream",
     "text": [
      "Parse progress: |█████████████████████████████████████████████████████████| 100%\n",
      "Parse progress: |█████████████████████████████████████████████████████████| 100%\n"
     ]
    }
   ],
   "source": [
    "df = h2o.import_file(\"https://raw.githubusercontent.com/Avkash/mldl/master/data/house_price_train.csv\")\n",
    "test = h2o.import_file(\"https://raw.githubusercontent.com/Avkash/mldl/master/data/house_price_test.csv\")"
   ]
  },
  {
   "cell_type": "code",
   "execution_count": 9,
   "metadata": {
    "collapsed": true
   },
   "outputs": [],
   "source": [
    "###: Understanding Dataset"
   ]
  },
  {
   "cell_type": "code",
   "execution_count": 10,
   "metadata": {},
   "outputs": [
    {
     "name": "stdout",
     "output_type": "stream",
     "text": [
      "Rows:407\n",
      "Cols:14\n",
      "\n",
      "\n"
     ]
    },
    {
     "data": {
      "text/html": [
       "<table>\n",
       "<thead>\n",
       "<tr><th>       </th><th>crim         </th><th>zn           </th><th>indus        </th><th>chas           </th><th>nox           </th><th>rm            </th><th>age          </th><th>dis          </th><th>rad          </th><th>tax          </th><th>ptratio      </th><th>b            </th><th>lstat        </th><th>medv         </th></tr>\n",
       "</thead>\n",
       "<tbody>\n",
       "<tr><td>type   </td><td>real         </td><td>real         </td><td>real         </td><td>int            </td><td>real          </td><td>real          </td><td>real         </td><td>real         </td><td>int          </td><td>int          </td><td>real         </td><td>real         </td><td>real         </td><td>real         </td></tr>\n",
       "<tr><td>mins   </td><td>0.00906      </td><td>0.0          </td><td>0.46         </td><td>0.0            </td><td>0.385         </td><td>3.863         </td><td>2.9          </td><td>1.1296       </td><td>1.0          </td><td>188.0        </td><td>12.6         </td><td>0.32         </td><td>1.73         </td><td>5.0          </td></tr>\n",
       "<tr><td>mean   </td><td>3.56736771499</td><td>10.5872235872</td><td>11.4092628993</td><td>0.0687960687961</td><td>0.556763882064</td><td>6.28658230958 </td><td>69.3889434889</td><td>3.71767051597</td><td>9.83783783784</td><td>412.378378378</td><td>18.4474201474</td><td>354.403218673</td><td>12.792039312 </td><td>22.6248157248</td></tr>\n",
       "<tr><td>maxs   </td><td>73.5341      </td><td>100.0        </td><td>27.74        </td><td>1.0            </td><td>0.871         </td><td>8.725         </td><td>100.0        </td><td>10.7103      </td><td>24.0         </td><td>711.0        </td><td>22.0         </td><td>396.9        </td><td>37.97        </td><td>50.0         </td></tr>\n",
       "<tr><td>sigma  </td><td>7.94798961655</td><td>22.2597824603</td><td>6.8144822924 </td><td>0.253418548596 </td><td>0.115557348898</td><td>0.690897322921</td><td>27.8179045475</td><td>2.01524090631</td><td>8.78440418525</td><td>170.44740987 </td><td>2.16176742548</td><td>94.175205015 </td><td>7.09869539936</td><td>9.18501930903</td></tr>\n",
       "<tr><td>zeros  </td><td>0            </td><td>301          </td><td>0            </td><td>379            </td><td>0             </td><td>0             </td><td>0            </td><td>0            </td><td>0            </td><td>0            </td><td>0            </td><td>0            </td><td>0            </td><td>0            </td></tr>\n",
       "<tr><td>missing</td><td>0            </td><td>0            </td><td>0            </td><td>0              </td><td>0             </td><td>0             </td><td>0            </td><td>0            </td><td>0            </td><td>0            </td><td>0            </td><td>0            </td><td>0            </td><td>0            </td></tr>\n",
       "<tr><td>0      </td><td>0.02731      </td><td>0.0          </td><td>7.07         </td><td>0.0            </td><td>0.469         </td><td>6.421         </td><td>78.9         </td><td>4.9671       </td><td>2.0          </td><td>242.0        </td><td>17.8         </td><td>396.9        </td><td>9.14         </td><td>21.6         </td></tr>\n",
       "<tr><td>1      </td><td>0.02729      </td><td>0.0          </td><td>7.07         </td><td>0.0            </td><td>0.469         </td><td>7.185         </td><td>61.1         </td><td>4.9671       </td><td>2.0          </td><td>242.0        </td><td>17.8         </td><td>392.83       </td><td>4.03         </td><td>34.7         </td></tr>\n",
       "<tr><td>2      </td><td>0.03237      </td><td>0.0          </td><td>2.18         </td><td>0.0            </td><td>0.458         </td><td>6.998         </td><td>45.8         </td><td>6.0622       </td><td>3.0          </td><td>222.0        </td><td>18.7         </td><td>394.63       </td><td>2.94         </td><td>33.4         </td></tr>\n",
       "<tr><td>3      </td><td>0.06905      </td><td>0.0          </td><td>2.18         </td><td>0.0            </td><td>0.458         </td><td>7.147         </td><td>54.2         </td><td>6.0622       </td><td>3.0          </td><td>222.0        </td><td>18.7         </td><td>396.9        </td><td>5.33         </td><td>36.2         </td></tr>\n",
       "<tr><td>4      </td><td>0.08829      </td><td>12.5         </td><td>7.87         </td><td>0.0            </td><td>0.524         </td><td>6.012         </td><td>66.6         </td><td>5.5605       </td><td>5.0          </td><td>311.0        </td><td>15.2         </td><td>395.6        </td><td>12.43        </td><td>22.9         </td></tr>\n",
       "<tr><td>5      </td><td>0.14455      </td><td>12.5         </td><td>7.87         </td><td>0.0            </td><td>0.524         </td><td>6.172         </td><td>96.1         </td><td>5.9505       </td><td>5.0          </td><td>311.0        </td><td>15.2         </td><td>396.9        </td><td>19.15        </td><td>27.1         </td></tr>\n",
       "<tr><td>6      </td><td>0.21124      </td><td>12.5         </td><td>7.87         </td><td>0.0            </td><td>0.524         </td><td>5.631         </td><td>100.0        </td><td>6.0821       </td><td>5.0          </td><td>311.0        </td><td>15.2         </td><td>386.63       </td><td>29.93        </td><td>16.5         </td></tr>\n",
       "<tr><td>7      </td><td>0.17004      </td><td>12.5         </td><td>7.87         </td><td>0.0            </td><td>0.524         </td><td>6.004         </td><td>85.9         </td><td>6.5921       </td><td>5.0          </td><td>311.0        </td><td>15.2         </td><td>386.71       </td><td>17.1         </td><td>18.9         </td></tr>\n",
       "<tr><td>8      </td><td>0.22489      </td><td>12.5         </td><td>7.87         </td><td>0.0            </td><td>0.524         </td><td>6.377         </td><td>94.3         </td><td>6.3467       </td><td>5.0          </td><td>311.0        </td><td>15.2         </td><td>392.52       </td><td>20.45        </td><td>15.0         </td></tr>\n",
       "<tr><td>9      </td><td>0.11747      </td><td>12.5         </td><td>7.87         </td><td>0.0            </td><td>0.524         </td><td>6.009         </td><td>82.9         </td><td>6.2267       </td><td>5.0          </td><td>311.0        </td><td>15.2         </td><td>396.9        </td><td>13.27        </td><td>18.9         </td></tr>\n",
       "</tbody>\n",
       "</table>"
      ]
     },
     "metadata": {},
     "output_type": "display_data"
    }
   ],
   "source": [
    "df.describe()"
   ]
  },
  {
   "cell_type": "code",
   "execution_count": 11,
   "metadata": {
    "collapsed": true
   },
   "outputs": [],
   "source": [
    "###: Understanding Dataset with pylab library"
   ]
  },
  {
   "cell_type": "code",
   "execution_count": 12,
   "metadata": {},
   "outputs": [
    {
     "data": {
      "text/plain": [
       "<matplotlib.figure.Figure at 0x107ee1610>"
      ]
     },
     "metadata": {},
     "output_type": "display_data"
    },
    {
     "data": {
      "image/png": "[encoded data removed]",
      "text/plain": [
       "<matplotlib.figure.Figure at 0x10a36f990>"
      ]
     },
     "metadata": {},
     "output_type": "display_data"
    }
   ],
   "source": [
    "import pylab as pl\n",
    "pl.figure(figsize=(20,10))\n",
    "df.as_data_frame().hist()\n",
    "pl.show()"
   ]
  },
  {
   "cell_type": "code",
   "execution_count": 13,
   "metadata": {
    "collapsed": true
   },
   "outputs": [],
   "source": [
    "###: Getting a list of columns in our dataset"
   ]
  },
  {
   "cell_type": "code",
   "execution_count": 14,
   "metadata": {},
   "outputs": [
    {
     "data": {
      "text/plain": [
       "[u'crim',\n",
       " u'zn',\n",
       " u'indus',\n",
       " u'chas',\n",
       " u'nox',\n",
       " u'rm',\n",
       " u'age',\n",
       " u'dis',\n",
       " u'rad',\n",
       " u'tax',\n",
       " u'ptratio',\n",
       " u'b',\n",
       " u'lstat',\n",
       " u'medv']"
      ]
     },
     "execution_count": 14,
     "metadata": {},
     "output_type": "execute_result"
    }
   ],
   "source": [
    "df.col_names"
   ]
  },
  {
   "cell_type": "code",
   "execution_count": 15,
   "metadata": {
    "collapsed": true
   },
   "outputs": [],
   "source": [
    "###: Setting Response column"
   ]
  },
  {
   "cell_type": "code",
   "execution_count": 16,
   "metadata": {
    "collapsed": true
   },
   "outputs": [],
   "source": [
    "response = \"medv\""
   ]
  },
  {
   "cell_type": "code",
   "execution_count": 17,
   "metadata": {
    "collapsed": true
   },
   "outputs": [],
   "source": [
    "###: Creating Histogram of response column to understand its distribution"
   ]
  },
  {
   "cell_type": "code",
   "execution_count": 18,
   "metadata": {},
   "outputs": [
    {
     "data": {
      "image/png": "[encoded data removed]",
      "text/plain": [
       "<matplotlib.figure.Figure at 0x111f12810>"
      ]
     },
     "metadata": {},
     "output_type": "display_data"
    }
   ],
   "source": [
    "df[response].asnumeric().hist()"
   ]
  },
  {
   "cell_type": "code",
   "execution_count": 19,
   "metadata": {
    "collapsed": true
   },
   "outputs": [],
   "source": [
    "###: spliting the dataset into train, test and validation  "
   ]
  },
  {
   "cell_type": "code",
   "execution_count": 20,
   "metadata": {},
   "outputs": [
    {
     "name": "stdout",
     "output_type": "stream",
     "text": [
      "(357, 14)\n",
      "(50, 14)\n",
      "(99, 14)\n"
     ]
    }
   ],
   "source": [
    "train, valid = df.split_frame(ratios=[0.9])\n",
    "print(train.shape)\n",
    "print(valid.shape)\n",
    "print(test.shape)"
   ]
  },
  {
   "cell_type": "code",
   "execution_count": 21,
   "metadata": {
    "collapsed": true
   },
   "outputs": [],
   "source": [
    "###: Setting all columns/features into a local variable"
   ]
  },
  {
   "cell_type": "code",
   "execution_count": 22,
   "metadata": {
    "collapsed": true
   },
   "outputs": [],
   "source": [
    "features = df.col_names"
   ]
  },
  {
   "cell_type": "code",
   "execution_count": 23,
   "metadata": {
    "collapsed": true
   },
   "outputs": [],
   "source": [
    "###: Settings all features for model building"
   ]
  },
  {
   "cell_type": "code",
   "execution_count": 24,
   "metadata": {},
   "outputs": [
    {
     "name": "stdout",
     "output_type": "stream",
     "text": [
      "[u'crim', u'zn', u'indus', u'chas', u'nox', u'rm', u'age', u'dis', u'rad', u'tax', u'ptratio', u'b', u'lstat']\n"
     ]
    }
   ],
   "source": [
    "features.remove(response)\n",
    "print(features)"
   ]
  },
  {
   "cell_type": "code",
   "execution_count": 25,
   "metadata": {
    "collapsed": true
   },
   "outputs": [],
   "source": [
    "###: Importing H2O XGBoost Library"
   ]
  },
  {
   "cell_type": "code",
   "execution_count": 26,
   "metadata": {
    "collapsed": true
   },
   "outputs": [],
   "source": [
    "from h2o.estimators.xgboost import H2OXGBoostEstimator"
   ]
  },
  {
   "cell_type": "code",
   "execution_count": 27,
   "metadata": {
    "collapsed": true
   },
   "outputs": [],
   "source": [
    "###: Setting XGBooost Parameters"
   ]
  },
  {
   "cell_type": "code",
   "execution_count": 28,
   "metadata": {
    "collapsed": true
   },
   "outputs": [],
   "source": [
    "param = {\n",
    "      \"ntrees\" : 500\n",
    "    , \"max_depth\" : 10\n",
    "    , \"learn_rate\" : 0.01\n",
    "    , \"sample_rate\" : 0.9\n",
    "    , \"col_sample_rate_per_tree\" : 0.9\n",
    "    , \"min_rows\" : 5\n",
    "    , \"seed\": 4241\n",
    "    , \"score_tree_interval\": 50\n",
    "}"
   ]
  },
  {
   "cell_type": "code",
   "execution_count": 29,
   "metadata": {
    "collapsed": true
   },
   "outputs": [],
   "source": [
    "###: Setting H2O XGBoost model configuration (default)"
   ]
  },
  {
   "cell_type": "code",
   "execution_count": 30,
   "metadata": {
    "collapsed": true
   },
   "outputs": [],
   "source": [
    "house_price_xgb = H2OXGBoostEstimator(**param)"
   ]
  },
  {
   "cell_type": "code",
   "execution_count": 31,
   "metadata": {
    "collapsed": true
   },
   "outputs": [],
   "source": [
    "###: Training H2O XGBoost model "
   ]
  },
  {
   "cell_type": "code",
   "execution_count": 32,
   "metadata": {},
   "outputs": [
    {
     "name": "stdout",
     "output_type": "stream",
     "text": [
      "xgboost Model Build progress: |███████████████████████████████████████████| 100%\n"
     ]
    }
   ],
   "source": [
    "house_price_xgb.train(x = features, y = response, training_frame = train, validation_frame = valid)"
   ]
  },
  {
   "cell_type": "code",
   "execution_count": 33,
   "metadata": {
    "collapsed": true
   },
   "outputs": [],
   "source": [
    "###: understanding the model metrics and various detials"
   ]
  },
  {
   "cell_type": "code",
   "execution_count": 34,
   "metadata": {},
   "outputs": [
    {
     "name": "stdout",
     "output_type": "stream",
     "text": [
      "Model Details\n",
      "=============\n",
      "H2OXGBoostEstimator :  XGBoost\n",
      "Model Key:  XGBoost_model_python_1511234431789_17094\n",
      "\n",
      "\n",
      "ModelMetricsRegression: xgboost\n",
      "** Reported on train data. **\n",
      "\n",
      "MSE: 0.391695085509\n",
      "RMSE: 0.625855482926\n",
      "MAE: 0.370011289581\n",
      "RMSLE: 0.0251889007686\n",
      "Mean Residual Deviance: 0.391695085509\n",
      "\n",
      "ModelMetricsRegression: xgboost\n",
      "** Reported on validation data. **\n",
      "\n",
      "MSE: 12.1017826484\n",
      "RMSE: 3.47876165444\n",
      "MAE: 2.41385607719\n",
      "RMSLE: 0.145431727138\n",
      "Mean Residual Deviance: 12.1017826484\n",
      "Scoring History: \n"
     ]
    },
    {
     "data": {
      "text/html": [
       "<div style=\"overflow:auto\"><table style=\"width:50%\"><tr><td><b></b></td>\n",
       "<td><b>timestamp</b></td>\n",
       "<td><b>duration</b></td>\n",
       "<td><b>number_of_trees</b></td>\n",
       "<td><b>training_rmse</b></td>\n",
       "<td><b>training_mae</b></td>\n",
       "<td><b>training_deviance</b></td>\n",
       "<td><b>validation_rmse</b></td>\n",
       "<td><b>validation_mae</b></td>\n",
       "<td><b>validation_deviance</b></td></tr>\n",
       "<tr><td></td>\n",
       "<td>2017-11-21 22:39:20</td>\n",
       "<td> 0.002 sec</td>\n",
       "<td>0.0</td>\n",
       "<td>24.0138837</td>\n",
       "<td>22.1098040</td>\n",
       "<td>576.6666123</td>\n",
       "<td>23.4996086</td>\n",
       "<td>22.2320001</td>\n",
       "<td>552.2316044</td></tr>\n",
       "<tr><td></td>\n",
       "<td>2017-11-21 22:39:20</td>\n",
       "<td> 0.039 sec</td>\n",
       "<td>50.0</td>\n",
       "<td>14.6556732</td>\n",
       "<td>13.3731483</td>\n",
       "<td>214.7887564</td>\n",
       "<td>14.8269673</td>\n",
       "<td>13.7535094</td>\n",
       "<td>219.8389585</td></tr>\n",
       "<tr><td></td>\n",
       "<td>2017-11-21 22:39:20</td>\n",
       "<td> 0.081 sec</td>\n",
       "<td>100.0</td>\n",
       "<td>8.9990829</td>\n",
       "<td>8.0924165</td>\n",
       "<td>80.9834933</td>\n",
       "<td>9.6481752</td>\n",
       "<td>8.5725006</td>\n",
       "<td>93.0872842</td></tr>\n",
       "<tr><td></td>\n",
       "<td>2017-11-21 22:39:20</td>\n",
       "<td> 0.125 sec</td>\n",
       "<td>150.0</td>\n",
       "<td>5.5845323</td>\n",
       "<td>4.9087543</td>\n",
       "<td>31.1870010</td>\n",
       "<td>6.6847055</td>\n",
       "<td>5.4221523</td>\n",
       "<td>44.6852877</td></tr>\n",
       "<tr><td></td>\n",
       "<td>2017-11-21 22:39:20</td>\n",
       "<td> 0.178 sec</td>\n",
       "<td>200.0</td>\n",
       "<td>3.5204718</td>\n",
       "<td>2.9992949</td>\n",
       "<td>12.3937216</td>\n",
       "<td>5.0837309</td>\n",
       "<td>3.7395765</td>\n",
       "<td>25.8443196</td></tr>\n",
       "<tr><td></td>\n",
       "<td>2017-11-21 22:39:21</td>\n",
       "<td> 0.238 sec</td>\n",
       "<td>250.0</td>\n",
       "<td>2.2842261</td>\n",
       "<td>1.8612005</td>\n",
       "<td>5.2176890</td>\n",
       "<td>4.2887061</td>\n",
       "<td>2.9229725</td>\n",
       "<td>18.3930001</td></tr>\n",
       "<tr><td></td>\n",
       "<td>2017-11-21 22:39:21</td>\n",
       "<td> 0.307 sec</td>\n",
       "<td>300.0</td>\n",
       "<td>1.5525212</td>\n",
       "<td>1.1955144</td>\n",
       "<td>2.4103220</td>\n",
       "<td>3.8941850</td>\n",
       "<td>2.5498983</td>\n",
       "<td>15.1646767</td></tr>\n",
       "<tr><td></td>\n",
       "<td>2017-11-21 22:39:21</td>\n",
       "<td> 0.417 sec</td>\n",
       "<td>350.0</td>\n",
       "<td>1.1289250</td>\n",
       "<td>0.8028399</td>\n",
       "<td>1.2744716</td>\n",
       "<td>3.6959013</td>\n",
       "<td>2.4415430</td>\n",
       "<td>13.6596862</td></tr>\n",
       "<tr><td></td>\n",
       "<td>2017-11-21 22:39:21</td>\n",
       "<td> 0.500 sec</td>\n",
       "<td>400.0</td>\n",
       "<td>0.8767145</td>\n",
       "<td>0.5722118</td>\n",
       "<td>0.7686282</td>\n",
       "<td>3.5895611</td>\n",
       "<td>2.4284205</td>\n",
       "<td>12.8849492</td></tr>\n",
       "<tr><td></td>\n",
       "<td>2017-11-21 22:39:21</td>\n",
       "<td> 0.590 sec</td>\n",
       "<td>450.0</td>\n",
       "<td>0.7270966</td>\n",
       "<td>0.4440707</td>\n",
       "<td>0.5286694</td>\n",
       "<td>3.5270987</td>\n",
       "<td>2.4215957</td>\n",
       "<td>12.4404256</td></tr>\n",
       "<tr><td></td>\n",
       "<td>2017-11-21 22:39:21</td>\n",
       "<td> 0.683 sec</td>\n",
       "<td>500.0</td>\n",
       "<td>0.6258555</td>\n",
       "<td>0.3700113</td>\n",
       "<td>0.3916951</td>\n",
       "<td>3.4787617</td>\n",
       "<td>2.4138561</td>\n",
       "<td>12.1017826</td></tr></table></div>"
      ],
      "text/plain": [
       "    timestamp            duration    number_of_trees    training_rmse    training_mae    training_deviance    validation_rmse    validation_mae    validation_deviance\n",
       "--  -------------------  ----------  -----------------  ---------------  --------------  -------------------  -----------------  ----------------  ---------------------\n",
       "    2017-11-21 22:39:20  0.002 sec   0                  24.0139          22.1098         576.667              23.4996            22.232            552.232\n",
       "    2017-11-21 22:39:20  0.039 sec   50                 14.6557          13.3731         214.789              14.827             13.7535           219.839\n",
       "    2017-11-21 22:39:20  0.081 sec   100                8.99908          8.09242         80.9835              9.64818            8.5725            93.0873\n",
       "    2017-11-21 22:39:20  0.125 sec   150                5.58453          4.90875         31.187               6.68471            5.42215           44.6853\n",
       "    2017-11-21 22:39:20  0.178 sec   200                3.52047          2.99929         12.3937              5.08373            3.73958           25.8443\n",
       "    2017-11-21 22:39:21  0.238 sec   250                2.28423          1.8612          5.21769              4.28871            2.92297           18.393\n",
       "    2017-11-21 22:39:21  0.307 sec   300                1.55252          1.19551         2.41032              3.89418            2.5499            15.1647\n",
       "    2017-11-21 22:39:21  0.417 sec   350                1.12892          0.80284         1.27447              3.6959             2.44154           13.6597\n",
       "    2017-11-21 22:39:21  0.500 sec   400                0.876714         0.572212        0.768628             3.58956            2.42842           12.8849\n",
       "    2017-11-21 22:39:21  0.590 sec   450                0.727097         0.444071        0.528669             3.5271             2.4216            12.4404\n",
       "    2017-11-21 22:39:21  0.683 sec   500                0.625855         0.370011        0.391695             3.47876            2.41386           12.1018"
      ]
     },
     "metadata": {},
     "output_type": "display_data"
    },
    {
     "name": "stdout",
     "output_type": "stream",
     "text": [
      "Variable Importances: \n"
     ]
    },
    {
     "data": {
      "text/html": [
       "<div style=\"overflow:auto\"><table style=\"width:50%\"><tr><td><b>variable</b></td>\n",
       "<td><b>relative_importance</b></td>\n",
       "<td><b>scaled_importance</b></td>\n",
       "<td><b>percentage</b></td></tr>\n",
       "<tr><td>rm</td>\n",
       "<td>3176.0</td>\n",
       "<td>1.0</td>\n",
       "<td>0.1526556</td></tr>\n",
       "<tr><td>lstat</td>\n",
       "<td>2878.0</td>\n",
       "<td>0.9061713</td>\n",
       "<td>0.1383321</td></tr>\n",
       "<tr><td>dis</td>\n",
       "<td>2709.0</td>\n",
       "<td>0.8529597</td>\n",
       "<td>0.1302091</td></tr>\n",
       "<tr><td>crim</td>\n",
       "<td>2491.0</td>\n",
       "<td>0.7843199</td>\n",
       "<td>0.1197308</td></tr>\n",
       "<tr><td>age</td>\n",
       "<td>2398.0</td>\n",
       "<td>0.7550378</td>\n",
       "<td>0.1152608</td></tr>\n",
       "<tr><td>b</td>\n",
       "<td>2052.0</td>\n",
       "<td>0.6460957</td>\n",
       "<td>0.0986301</td></tr>\n",
       "<tr><td>nox</td>\n",
       "<td>1592.0</td>\n",
       "<td>0.5012594</td>\n",
       "<td>0.0765201</td></tr>\n",
       "<tr><td>tax</td>\n",
       "<td>1093.0</td>\n",
       "<td>0.3441436</td>\n",
       "<td>0.0525354</td></tr>\n",
       "<tr><td>ptratio</td>\n",
       "<td>1019.0</td>\n",
       "<td>0.3208438</td>\n",
       "<td>0.0489786</td></tr>\n",
       "<tr><td>indus</td>\n",
       "<td>754.0</td>\n",
       "<td>0.2374055</td>\n",
       "<td>0.0362413</td></tr>\n",
       "<tr><td>rad</td>\n",
       "<td>349.0</td>\n",
       "<td>0.1098866</td>\n",
       "<td>0.0167748</td></tr>\n",
       "<tr><td>zn</td>\n",
       "<td>255.0</td>\n",
       "<td>0.0802897</td>\n",
       "<td>0.0122567</td></tr>\n",
       "<tr><td>chas</td>\n",
       "<td>39.0</td>\n",
       "<td>0.0122796</td>\n",
       "<td>0.0018745</td></tr></table></div>"
      ],
      "text/plain": [
       "variable    relative_importance    scaled_importance    percentage\n",
       "----------  ---------------------  -------------------  ------------\n",
       "rm          3176                   1                    0.152656\n",
       "lstat       2878                   0.906171             0.138332\n",
       "dis         2709                   0.85296              0.130209\n",
       "crim        2491                   0.78432              0.119731\n",
       "age         2398                   0.755038             0.115261\n",
       "b           2052                   0.646096             0.0986301\n",
       "nox         1592                   0.501259             0.0765201\n",
       "tax         1093                   0.344144             0.0525354\n",
       "ptratio     1019                   0.320844             0.0489786\n",
       "indus       754                    0.237406             0.0362413\n",
       "rad         349                    0.109887             0.0167748\n",
       "zn          255                    0.0802897            0.0122567\n",
       "chas        39                     0.0122796            0.00187455"
      ]
     },
     "metadata": {},
     "output_type": "display_data"
    },
    {
     "data": {
      "text/plain": []
     },
     "execution_count": 34,
     "metadata": {},
     "output_type": "execute_result"
    }
   ],
   "source": [
    "house_price_xgb"
   ]
  },
  {
   "cell_type": "code",
   "execution_count": 35,
   "metadata": {},
   "outputs": [
    {
     "data": {
      "text/plain": [
       "0.7912397931765905"
      ]
     },
     "execution_count": 35,
     "metadata": {},
     "output_type": "execute_result"
    }
   ],
   "source": [
    "house_price_xgb.model_performance(valid=True).r2()"
   ]
  },
  {
   "cell_type": "code",
   "execution_count": 36,
   "metadata": {
    "collapsed": true
   },
   "outputs": [],
   "source": [
    "###: Plotting XGBoost  Model for its AUC metric "
   ]
  },
  {
   "cell_type": "code",
   "execution_count": 37,
   "metadata": {},
   "outputs": [
    {
     "data": {
      "image/png": "[encoded data removed]",
      "text/plain": [
       "<matplotlib.figure.Figure at 0x107e8c5d0>"
      ]
     },
     "metadata": {},
     "output_type": "display_data"
    }
   ],
   "source": [
    "house_price_xgb.plot(metric='AUTO')"
   ]
  },
  {
   "cell_type": "code",
   "execution_count": 38,
   "metadata": {
    "collapsed": true
   },
   "outputs": [],
   "source": [
    "###: Generating Variable Importance Plot for the XGBoost Model"
   ]
  },
  {
   "cell_type": "code",
   "execution_count": 39,
   "metadata": {},
   "outputs": [
    {
     "data": {
      "image/png": "[encoded data removed]",
      "text/plain": [
       "<matplotlib.figure.Figure at 0x11273c0d0>"
      ]
     },
     "metadata": {},
     "output_type": "display_data"
    }
   ],
   "source": [
    "house_price_xgb.varimp_plot()"
   ]
  },
  {
   "cell_type": "code",
   "execution_count": 40,
   "metadata": {
    "collapsed": true
   },
   "outputs": [],
   "source": [
    "###:  H2O XGBoost Scoring History"
   ]
  },
  {
   "cell_type": "code",
   "execution_count": 41,
   "metadata": {},
   "outputs": [
    {
     "data": {
      "text/html": [
       "<div>\n",
       "<style>\n",
       "    .dataframe thead tr:only-child th {\n",
       "        text-align: right;\n",
       "    }\n",
       "\n",
       "    .dataframe thead th {\n",
       "        text-align: left;\n",
       "    }\n",
       "\n",
       "    .dataframe tbody tr th {\n",
       "        vertical-align: top;\n",
       "    }\n",
       "</style>\n",
       "<table border=\"1\" class=\"dataframe\">\n",
       "  <thead>\n",
       "    <tr style=\"text-align: right;\">\n",
       "      <th></th>\n",
       "      <th></th>\n",
       "      <th>timestamp</th>\n",
       "      <th>duration</th>\n",
       "      <th>number_of_trees</th>\n",
       "      <th>training_rmse</th>\n",
       "      <th>training_mae</th>\n",
       "      <th>training_deviance</th>\n",
       "      <th>validation_rmse</th>\n",
       "      <th>validation_mae</th>\n",
       "      <th>validation_deviance</th>\n",
       "    </tr>\n",
       "  </thead>\n",
       "  <tbody>\n",
       "    <tr>\n",
       "      <th>0</th>\n",
       "      <td></td>\n",
       "      <td>2017-11-21 22:39:20</td>\n",
       "      <td>0.002 sec</td>\n",
       "      <td>0.0</td>\n",
       "      <td>24.013884</td>\n",
       "      <td>22.109804</td>\n",
       "      <td>576.666612</td>\n",
       "      <td>23.499609</td>\n",
       "      <td>22.232000</td>\n",
       "      <td>552.231604</td>\n",
       "    </tr>\n",
       "    <tr>\n",
       "      <th>1</th>\n",
       "      <td></td>\n",
       "      <td>2017-11-21 22:39:20</td>\n",
       "      <td>0.039 sec</td>\n",
       "      <td>50.0</td>\n",
       "      <td>14.655673</td>\n",
       "      <td>13.373148</td>\n",
       "      <td>214.788756</td>\n",
       "      <td>14.826967</td>\n",
       "      <td>13.753509</td>\n",
       "      <td>219.838958</td>\n",
       "    </tr>\n",
       "    <tr>\n",
       "      <th>2</th>\n",
       "      <td></td>\n",
       "      <td>2017-11-21 22:39:20</td>\n",
       "      <td>0.081 sec</td>\n",
       "      <td>100.0</td>\n",
       "      <td>8.999083</td>\n",
       "      <td>8.092416</td>\n",
       "      <td>80.983493</td>\n",
       "      <td>9.648175</td>\n",
       "      <td>8.572501</td>\n",
       "      <td>93.087284</td>\n",
       "    </tr>\n",
       "    <tr>\n",
       "      <th>3</th>\n",
       "      <td></td>\n",
       "      <td>2017-11-21 22:39:20</td>\n",
       "      <td>0.125 sec</td>\n",
       "      <td>150.0</td>\n",
       "      <td>5.584532</td>\n",
       "      <td>4.908754</td>\n",
       "      <td>31.187001</td>\n",
       "      <td>6.684706</td>\n",
       "      <td>5.422152</td>\n",
       "      <td>44.685288</td>\n",
       "    </tr>\n",
       "    <tr>\n",
       "      <th>4</th>\n",
       "      <td></td>\n",
       "      <td>2017-11-21 22:39:20</td>\n",
       "      <td>0.178 sec</td>\n",
       "      <td>200.0</td>\n",
       "      <td>3.520472</td>\n",
       "      <td>2.999295</td>\n",
       "      <td>12.393722</td>\n",
       "      <td>5.083731</td>\n",
       "      <td>3.739576</td>\n",
       "      <td>25.844320</td>\n",
       "    </tr>\n",
       "    <tr>\n",
       "      <th>5</th>\n",
       "      <td></td>\n",
       "      <td>2017-11-21 22:39:21</td>\n",
       "      <td>0.238 sec</td>\n",
       "      <td>250.0</td>\n",
       "      <td>2.284226</td>\n",
       "      <td>1.861201</td>\n",
       "      <td>5.217689</td>\n",
       "      <td>4.288706</td>\n",
       "      <td>2.922973</td>\n",
       "      <td>18.393000</td>\n",
       "    </tr>\n",
       "    <tr>\n",
       "      <th>6</th>\n",
       "      <td></td>\n",
       "      <td>2017-11-21 22:39:21</td>\n",
       "      <td>0.307 sec</td>\n",
       "      <td>300.0</td>\n",
       "      <td>1.552521</td>\n",
       "      <td>1.195514</td>\n",
       "      <td>2.410322</td>\n",
       "      <td>3.894185</td>\n",
       "      <td>2.549898</td>\n",
       "      <td>15.164677</td>\n",
       "    </tr>\n",
       "    <tr>\n",
       "      <th>7</th>\n",
       "      <td></td>\n",
       "      <td>2017-11-21 22:39:21</td>\n",
       "      <td>0.417 sec</td>\n",
       "      <td>350.0</td>\n",
       "      <td>1.128925</td>\n",
       "      <td>0.802840</td>\n",
       "      <td>1.274472</td>\n",
       "      <td>3.695901</td>\n",
       "      <td>2.441543</td>\n",
       "      <td>13.659686</td>\n",
       "    </tr>\n",
       "    <tr>\n",
       "      <th>8</th>\n",
       "      <td></td>\n",
       "      <td>2017-11-21 22:39:21</td>\n",
       "      <td>0.500 sec</td>\n",
       "      <td>400.0</td>\n",
       "      <td>0.876714</td>\n",
       "      <td>0.572212</td>\n",
       "      <td>0.768628</td>\n",
       "      <td>3.589561</td>\n",
       "      <td>2.428421</td>\n",
       "      <td>12.884949</td>\n",
       "    </tr>\n",
       "    <tr>\n",
       "      <th>9</th>\n",
       "      <td></td>\n",
       "      <td>2017-11-21 22:39:21</td>\n",
       "      <td>0.590 sec</td>\n",
       "      <td>450.0</td>\n",
       "      <td>0.727097</td>\n",
       "      <td>0.444071</td>\n",
       "      <td>0.528669</td>\n",
       "      <td>3.527099</td>\n",
       "      <td>2.421596</td>\n",
       "      <td>12.440426</td>\n",
       "    </tr>\n",
       "    <tr>\n",
       "      <th>10</th>\n",
       "      <td></td>\n",
       "      <td>2017-11-21 22:39:21</td>\n",
       "      <td>0.683 sec</td>\n",
       "      <td>500.0</td>\n",
       "      <td>0.625855</td>\n",
       "      <td>0.370011</td>\n",
       "      <td>0.391695</td>\n",
       "      <td>3.478762</td>\n",
       "      <td>2.413856</td>\n",
       "      <td>12.101783</td>\n",
       "    </tr>\n",
       "  </tbody>\n",
       "</table>\n",
       "</div>"
      ],
      "text/plain": [
       "                timestamp    duration  number_of_trees  training_rmse  \\\n",
       "0     2017-11-21 22:39:20   0.002 sec              0.0      24.013884   \n",
       "1     2017-11-21 22:39:20   0.039 sec             50.0      14.655673   \n",
       "2     2017-11-21 22:39:20   0.081 sec            100.0       8.999083   \n",
       "3     2017-11-21 22:39:20   0.125 sec            150.0       5.584532   \n",
       "4     2017-11-21 22:39:20   0.178 sec            200.0       3.520472   \n",
       "5     2017-11-21 22:39:21   0.238 sec            250.0       2.284226   \n",
       "6     2017-11-21 22:39:21   0.307 sec            300.0       1.552521   \n",
       "7     2017-11-21 22:39:21   0.417 sec            350.0       1.128925   \n",
       "8     2017-11-21 22:39:21   0.500 sec            400.0       0.876714   \n",
       "9     2017-11-21 22:39:21   0.590 sec            450.0       0.727097   \n",
       "10    2017-11-21 22:39:21   0.683 sec            500.0       0.625855   \n",
       "\n",
       "    training_mae  training_deviance  validation_rmse  validation_mae  \\\n",
       "0      22.109804         576.666612        23.499609       22.232000   \n",
       "1      13.373148         214.788756        14.826967       13.753509   \n",
       "2       8.092416          80.983493         9.648175        8.572501   \n",
       "3       4.908754          31.187001         6.684706        5.422152   \n",
       "4       2.999295          12.393722         5.083731        3.739576   \n",
       "5       1.861201           5.217689         4.288706        2.922973   \n",
       "6       1.195514           2.410322         3.894185        2.549898   \n",
       "7       0.802840           1.274472         3.695901        2.441543   \n",
       "8       0.572212           0.768628         3.589561        2.428421   \n",
       "9       0.444071           0.528669         3.527099        2.421596   \n",
       "10      0.370011           0.391695         3.478762        2.413856   \n",
       "\n",
       "    validation_deviance  \n",
       "0            552.231604  \n",
       "1            219.838958  \n",
       "2             93.087284  \n",
       "3             44.685288  \n",
       "4             25.844320  \n",
       "5             18.393000  \n",
       "6             15.164677  \n",
       "7             13.659686  \n",
       "8             12.884949  \n",
       "9             12.440426  \n",
       "10            12.101783  "
      ]
     },
     "execution_count": 41,
     "metadata": {},
     "output_type": "execute_result"
    }
   ],
   "source": [
    "house_price_xgb.score_history()"
   ]
  },
  {
   "cell_type": "code",
   "execution_count": 42,
   "metadata": {
    "collapsed": true
   },
   "outputs": [],
   "source": [
    "### PERFORMING PREDICTIONS USING a TEST DATA SET with Auto ML Leader model"
   ]
  },
  {
   "cell_type": "code",
   "execution_count": 43,
   "metadata": {},
   "outputs": [
    {
     "name": "stdout",
     "output_type": "stream",
     "text": [
      "xgboost prediction progress: |████████████████████████████████████████████| 100%\n"
     ]
    },
    {
     "data": {
      "text/html": [
       "<table>\n",
       "<thead>\n",
       "<tr><th style=\"text-align: right;\">     C1</th></tr>\n",
       "</thead>\n",
       "<tbody>\n",
       "<tr><td style=\"text-align: right;\">25.7872</td></tr>\n",
       "<tr><td style=\"text-align: right;\">26.595 </td></tr>\n",
       "<tr><td style=\"text-align: right;\">16.438 </td></tr>\n",
       "<tr><td style=\"text-align: right;\">15.4317</td></tr>\n",
       "<tr><td style=\"text-align: right;\">14.7999</td></tr>\n",
       "<tr><td style=\"text-align: right;\">14.6754</td></tr>\n",
       "<tr><td style=\"text-align: right;\">22.2362</td></tr>\n",
       "<tr><td style=\"text-align: right;\">21.3082</td></tr>\n",
       "<tr><td style=\"text-align: right;\">28.9764</td></tr>\n",
       "<tr><td style=\"text-align: right;\">20.5827</td></tr>\n",
       "</tbody>\n",
       "</table>"
      ]
     },
     "metadata": {},
     "output_type": "display_data"
    },
    {
     "data": {
      "text/plain": []
     },
     "execution_count": 43,
     "metadata": {},
     "output_type": "execute_result"
    }
   ],
   "source": [
    "house_price_xgb.predict(test)"
   ]
  },
  {
   "cell_type": "code",
   "execution_count": 44,
   "metadata": {
    "collapsed": true
   },
   "outputs": [],
   "source": [
    "###: Getting AUC metrics from the test data using XGBoost Leader Model"
   ]
  },
  {
   "cell_type": "code",
   "execution_count": 45,
   "metadata": {},
   "outputs": [
    {
     "data": {
      "text/plain": [
       "0.7962869561323733"
      ]
     },
     "execution_count": 45,
     "metadata": {},
     "output_type": "execute_result"
    }
   ],
   "source": [
    "house_price_xgb.model_performance(test_data=test).r2()"
   ]
  },
  {
   "cell_type": "code",
   "execution_count": null,
   "metadata": {
    "collapsed": true
   },
   "outputs": [],
   "source": []
  }
 ],
 "metadata": {
  "kernelspec": {
   "display_name": "Python 2",
   "language": "python",
   "name": "python2"
  },
  "language_info": {
   "codemirror_mode": {
    "name": "ipython",
    "version": 2
   },
   "file_extension": ".py",
   "mimetype": "text/x-python",
   "name": "python",
   "nbconvert_exporter": "python",
   "pygments_lexer": "ipython2",
   "version": "2.7.13"
  }
 },
 "nbformat": 4,
 "nbformat_minor": 2
}
