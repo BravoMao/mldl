{
 "cells": [
  {
   "cell_type": "code",
   "execution_count": 1,
   "metadata": {
    "collapsed": true
   },
   "outputs": [],
   "source": [
    "###: Importing H2O Library"
   ]
  },
  {
   "cell_type": "code",
   "execution_count": 2,
   "metadata": {
    "collapsed": true
   },
   "outputs": [],
   "source": [
    "import h2o"
   ]
  },
  {
   "cell_type": "code",
   "execution_count": 3,
   "metadata": {
    "collapsed": true
   },
   "outputs": [],
   "source": [
    "### : Initializing h2O"
   ]
  },
  {
   "cell_type": "code",
   "execution_count": 4,
   "metadata": {},
   "outputs": [
    {
     "name": "stderr",
     "output_type": "stream",
     "text": [
      "ERROR:h2o:Key init.version_check is not a valid config key\n"
     ]
    },
    {
     "name": "stdout",
     "output_type": "stream",
     "text": [
      "Checking whether there is an H2O instance running at http://localhost:54321. connected.\n"
     ]
    },
    {
     "data": {
      "text/html": [
       "<div style=\"overflow:auto\"><table style=\"width:50%\"><tr><td>H2O cluster uptime:</td>\n",
       "<td>2 hours 19 mins</td></tr>\n",
       "<tr><td>H2O cluster version:</td>\n",
       "<td>3.14.0.7</td></tr>\n",
       "<tr><td>H2O cluster version age:</td>\n",
       "<td>26 days </td></tr>\n",
       "<tr><td>H2O cluster name:</td>\n",
       "<td>H2O_from_python_avkashchauhan_8r3asb</td></tr>\n",
       "<tr><td>H2O cluster total nodes:</td>\n",
       "<td>1</td></tr>\n",
       "<tr><td>H2O cluster free memory:</td>\n",
       "<td>3.256 Gb</td></tr>\n",
       "<tr><td>H2O cluster total cores:</td>\n",
       "<td>8</td></tr>\n",
       "<tr><td>H2O cluster allowed cores:</td>\n",
       "<td>8</td></tr>\n",
       "<tr><td>H2O cluster status:</td>\n",
       "<td>locked, healthy</td></tr>\n",
       "<tr><td>H2O connection url:</td>\n",
       "<td>http://localhost:54321</td></tr>\n",
       "<tr><td>H2O connection proxy:</td>\n",
       "<td>None</td></tr>\n",
       "<tr><td>H2O internal security:</td>\n",
       "<td>False</td></tr>\n",
       "<tr><td>H2O API Extensions:</td>\n",
       "<td>XGBoost, Algos, AutoML, Core V3, Core V4</td></tr>\n",
       "<tr><td>Python version:</td>\n",
       "<td>2.7.13 final</td></tr></table></div>"
      ],
      "text/plain": [
       "--------------------------  ----------------------------------------\n",
       "H2O cluster uptime:         2 hours 19 mins\n",
       "H2O cluster version:        3.14.0.7\n",
       "H2O cluster version age:    26 days\n",
       "H2O cluster name:           H2O_from_python_avkashchauhan_8r3asb\n",
       "H2O cluster total nodes:    1\n",
       "H2O cluster free memory:    3.256 Gb\n",
       "H2O cluster total cores:    8\n",
       "H2O cluster allowed cores:  8\n",
       "H2O cluster status:         locked, healthy\n",
       "H2O connection url:         http://localhost:54321\n",
       "H2O connection proxy:\n",
       "H2O internal security:      False\n",
       "H2O API Extensions:         XGBoost, Algos, AutoML, Core V3, Core V4\n",
       "Python version:             2.7.13 final\n",
       "--------------------------  ----------------------------------------"
      ]
     },
     "metadata": {},
     "output_type": "display_data"
    }
   ],
   "source": [
    "h2o.init()"
   ]
  },
  {
   "cell_type": "code",
   "execution_count": 5,
   "metadata": {
    "collapsed": true
   },
   "outputs": [],
   "source": [
    "### : Getting H2O Cluster status"
   ]
  },
  {
   "cell_type": "code",
   "execution_count": 6,
   "metadata": {},
   "outputs": [
    {
     "data": {
      "text/html": [
       "<div style=\"overflow:auto\"><table style=\"width:50%\"><tr><td>H2O cluster uptime:</td>\n",
       "<td>2 hours 19 mins</td></tr>\n",
       "<tr><td>H2O cluster version:</td>\n",
       "<td>3.14.0.7</td></tr>\n",
       "<tr><td>H2O cluster version age:</td>\n",
       "<td>26 days </td></tr>\n",
       "<tr><td>H2O cluster name:</td>\n",
       "<td>H2O_from_python_avkashchauhan_8r3asb</td></tr>\n",
       "<tr><td>H2O cluster total nodes:</td>\n",
       "<td>1</td></tr>\n",
       "<tr><td>H2O cluster free memory:</td>\n",
       "<td>3.256 Gb</td></tr>\n",
       "<tr><td>H2O cluster total cores:</td>\n",
       "<td>8</td></tr>\n",
       "<tr><td>H2O cluster allowed cores:</td>\n",
       "<td>8</td></tr>\n",
       "<tr><td>H2O cluster status:</td>\n",
       "<td>locked, healthy</td></tr>\n",
       "<tr><td>H2O connection url:</td>\n",
       "<td>http://localhost:54321</td></tr>\n",
       "<tr><td>H2O connection proxy:</td>\n",
       "<td>None</td></tr>\n",
       "<tr><td>H2O internal security:</td>\n",
       "<td>False</td></tr>\n",
       "<tr><td>H2O API Extensions:</td>\n",
       "<td>XGBoost, Algos, AutoML, Core V3, Core V4</td></tr>\n",
       "<tr><td>Python version:</td>\n",
       "<td>2.7.13 final</td></tr></table></div>"
      ],
      "text/plain": [
       "--------------------------  ----------------------------------------\n",
       "H2O cluster uptime:         2 hours 19 mins\n",
       "H2O cluster version:        3.14.0.7\n",
       "H2O cluster version age:    26 days\n",
       "H2O cluster name:           H2O_from_python_avkashchauhan_8r3asb\n",
       "H2O cluster total nodes:    1\n",
       "H2O cluster free memory:    3.256 Gb\n",
       "H2O cluster total cores:    8\n",
       "H2O cluster allowed cores:  8\n",
       "H2O cluster status:         locked, healthy\n",
       "H2O connection url:         http://localhost:54321\n",
       "H2O connection proxy:\n",
       "H2O internal security:      False\n",
       "H2O API Extensions:         XGBoost, Algos, AutoML, Core V3, Core V4\n",
       "Python version:             2.7.13 final\n",
       "--------------------------  ----------------------------------------"
      ]
     },
     "metadata": {},
     "output_type": "display_data"
    }
   ],
   "source": [
    "h2o.cluster().show_status()"
   ]
  },
  {
   "cell_type": "code",
   "execution_count": 7,
   "metadata": {
    "collapsed": true
   },
   "outputs": [],
   "source": [
    "###: Importing Dataset"
   ]
  },
  {
   "cell_type": "code",
   "execution_count": 8,
   "metadata": {},
   "outputs": [
    {
     "name": "stdout",
     "output_type": "stream",
     "text": [
      "Parse progress: |█████████████████████████████████████████████████████████| 100%\n"
     ]
    }
   ],
   "source": [
    "df = h2o.import_file(\"/Users/avkashchauhan/src/github.com/avkash/mldl/data/titanic_list.csv\")"
   ]
  },
  {
   "cell_type": "code",
   "execution_count": 9,
   "metadata": {
    "collapsed": true
   },
   "outputs": [],
   "source": [
    "###: Understanding Dataset"
   ]
  },
  {
   "cell_type": "code",
   "execution_count": 10,
   "metadata": {},
   "outputs": [
    {
     "name": "stdout",
     "output_type": "stream",
     "text": [
      "Rows:1309\n",
      "Cols:14\n",
      "\n",
      "\n"
     ]
    },
    {
     "data": {
      "text/html": [
       "<table>\n",
       "<thead>\n",
       "<tr><th>       </th><th>pclass       </th><th>survived      </th><th>name                                           </th><th>sex   </th><th>age          </th><th>sibsp         </th><th>parch         </th><th>ticket       </th><th>fare         </th><th>cabin  </th><th>embarked  </th><th>boat         </th><th>body         </th><th>home.dest                      </th></tr>\n",
       "</thead>\n",
       "<tbody>\n",
       "<tr><td>type   </td><td>int          </td><td>int           </td><td>string                                         </td><td>enum  </td><td>real         </td><td>int           </td><td>int           </td><td>int          </td><td>real         </td><td>enum   </td><td>enum      </td><td>int          </td><td>int          </td><td>enum                           </td></tr>\n",
       "<tr><td>mins   </td><td>1.0          </td><td>0.0           </td><td>NaN                                            </td><td>      </td><td>0.1667       </td><td>0.0           </td><td>0.0           </td><td>680.0        </td><td>0.0          </td><td>       </td><td>          </td><td>1.0          </td><td>1.0          </td><td>                               </td></tr>\n",
       "<tr><td>mean   </td><td>2.294881589  </td><td>0.381970970206</td><td>NaN                                            </td><td>      </td><td>29.8811345124</td><td>0.498854087089</td><td>0.385026737968</td><td>249039.136886</td><td>33.2954792813</td><td>       </td><td>          </td><td>9.40452261307</td><td>160.809917355</td><td>                               </td></tr>\n",
       "<tr><td>maxs   </td><td>3.0          </td><td>1.0           </td><td>NaN                                            </td><td>      </td><td>80.0         </td><td>8.0           </td><td>9.0           </td><td>3101298.0    </td><td>512.3292     </td><td>       </td><td>          </td><td>16.0         </td><td>328.0        </td><td>                               </td></tr>\n",
       "<tr><td>sigma  </td><td>0.83783601897</td><td>0.486055170866</td><td>NaN                                            </td><td>      </td><td>14.4134996999</td><td>1.0416583906  </td><td>0.86556027535 </td><td>442685.317677</td><td>51.7586682392</td><td>       </td><td>          </td><td>4.3574169836 </td><td>97.696921996 </td><td>                               </td></tr>\n",
       "<tr><td>zeros  </td><td>0            </td><td>809           </td><td>0                                              </td><td>      </td><td>0            </td><td>891           </td><td>1002          </td><td>0            </td><td>17           </td><td>       </td><td>          </td><td>0            </td><td>0            </td><td>                               </td></tr>\n",
       "<tr><td>missing</td><td>0            </td><td>0             </td><td>0                                              </td><td>0     </td><td>263          </td><td>0             </td><td>0             </td><td>352          </td><td>1            </td><td>1014   </td><td>2         </td><td>911          </td><td>1188         </td><td>564                            </td></tr>\n",
       "<tr><td>0      </td><td>1.0          </td><td>1.0           </td><td>Allen, Miss. Elisabeth Walton                  </td><td>female</td><td>29.0         </td><td>0.0           </td><td>0.0           </td><td>24160.0      </td><td>211.3375     </td><td>B5     </td><td>S         </td><td>2.0          </td><td>nan          </td><td>St Louis, MO                   </td></tr>\n",
       "<tr><td>1      </td><td>1.0          </td><td>1.0           </td><td>Allison, Master. Hudson Trevor                 </td><td>male  </td><td>0.9167       </td><td>1.0           </td><td>2.0           </td><td>113781.0     </td><td>151.55       </td><td>C22 C26</td><td>S         </td><td>11.0         </td><td>nan          </td><td>Montreal, PQ / Chesterville, ON</td></tr>\n",
       "<tr><td>2      </td><td>1.0          </td><td>0.0           </td><td>Allison, Miss. Helen Loraine                   </td><td>female</td><td>2.0          </td><td>1.0           </td><td>2.0           </td><td>113781.0     </td><td>151.55       </td><td>C22 C26</td><td>S         </td><td>nan          </td><td>nan          </td><td>Montreal, PQ / Chesterville, ON</td></tr>\n",
       "<tr><td>3      </td><td>1.0          </td><td>0.0           </td><td>Allison, Mr. Hudson Joshua Creighton           </td><td>male  </td><td>30.0         </td><td>1.0           </td><td>2.0           </td><td>113781.0     </td><td>151.55       </td><td>C22 C26</td><td>S         </td><td>nan          </td><td>135.0        </td><td>Montreal, PQ / Chesterville, ON</td></tr>\n",
       "<tr><td>4      </td><td>1.0          </td><td>0.0           </td><td>Allison, Mrs. Hudson J C (Bessie Waldo Daniels)</td><td>female</td><td>25.0         </td><td>1.0           </td><td>2.0           </td><td>113781.0     </td><td>151.55       </td><td>C22 C26</td><td>S         </td><td>nan          </td><td>nan          </td><td>Montreal, PQ / Chesterville, ON</td></tr>\n",
       "<tr><td>5      </td><td>1.0          </td><td>1.0           </td><td>Anderson, Mr. Harry                            </td><td>male  </td><td>48.0         </td><td>0.0           </td><td>0.0           </td><td>19952.0      </td><td>26.55        </td><td>E12    </td><td>S         </td><td>3.0          </td><td>nan          </td><td>New York, NY                   </td></tr>\n",
       "<tr><td>6      </td><td>1.0          </td><td>1.0           </td><td>Andrews, Miss. Kornelia Theodosia              </td><td>female</td><td>63.0         </td><td>1.0           </td><td>0.0           </td><td>13502.0      </td><td>77.9583      </td><td>D7     </td><td>S         </td><td>10.0         </td><td>nan          </td><td>Hudson, NY                     </td></tr>\n",
       "<tr><td>7      </td><td>1.0          </td><td>0.0           </td><td>Andrews, Mr. Thomas Jr                         </td><td>male  </td><td>39.0         </td><td>0.0           </td><td>0.0           </td><td>112050.0     </td><td>0.0          </td><td>A36    </td><td>S         </td><td>nan          </td><td>nan          </td><td>Belfast, NI                    </td></tr>\n",
       "<tr><td>8      </td><td>1.0          </td><td>1.0           </td><td>Appleton, Mrs. Edward Dale (Charlotte Lamson)  </td><td>female</td><td>53.0         </td><td>2.0           </td><td>0.0           </td><td>11769.0      </td><td>51.4792      </td><td>C101   </td><td>S         </td><td>nan          </td><td>nan          </td><td>Bayside, Queens, NY            </td></tr>\n",
       "<tr><td>9      </td><td>1.0          </td><td>0.0           </td><td>Artagaveytia, Mr. Ramon                        </td><td>male  </td><td>71.0         </td><td>0.0           </td><td>0.0           </td><td>nan          </td><td>49.5042      </td><td>       </td><td>C         </td><td>nan          </td><td>22.0         </td><td>Montevideo, Uruguay            </td></tr>\n",
       "</tbody>\n",
       "</table>"
      ]
     },
     "metadata": {},
     "output_type": "display_data"
    }
   ],
   "source": [
    "df.describe()"
   ]
  },
  {
   "cell_type": "code",
   "execution_count": 11,
   "metadata": {
    "collapsed": true
   },
   "outputs": [],
   "source": [
    "###: Understanding Dataset with pylab library"
   ]
  },
  {
   "cell_type": "code",
   "execution_count": 12,
   "metadata": {},
   "outputs": [
    {
     "data": {
      "text/plain": [
       "<matplotlib.figure.Figure at 0x111781c10>"
      ]
     },
     "metadata": {},
     "output_type": "display_data"
    },
    {
     "data": {
      "image/png": "[encoded data removed]",
      "text/plain": [
       "<matplotlib.figure.Figure at 0x11afaaf50>"
      ]
     },
     "metadata": {},
     "output_type": "display_data"
    }
   ],
   "source": [
    "import pylab as pl\n",
    "pl.figure(figsize=(20,10))\n",
    "df.as_data_frame().hist()\n",
    "pl.show()"
   ]
  },
  {
   "cell_type": "code",
   "execution_count": 13,
   "metadata": {
    "collapsed": true
   },
   "outputs": [],
   "source": [
    "###: Getting a list of columns in our dataset"
   ]
  },
  {
   "cell_type": "code",
   "execution_count": 14,
   "metadata": {},
   "outputs": [
    {
     "data": {
      "text/plain": [
       "[u'pclass',\n",
       " u'survived',\n",
       " u'name',\n",
       " u'sex',\n",
       " u'age',\n",
       " u'sibsp',\n",
       " u'parch',\n",
       " u'ticket',\n",
       " u'fare',\n",
       " u'cabin',\n",
       " u'embarked',\n",
       " u'boat',\n",
       " u'body',\n",
       " u'home.dest']"
      ]
     },
     "execution_count": 14,
     "metadata": {},
     "output_type": "execute_result"
    }
   ],
   "source": [
    "df.col_names"
   ]
  },
  {
   "cell_type": "code",
   "execution_count": 15,
   "metadata": {
    "collapsed": true
   },
   "outputs": [],
   "source": [
    "###: Setting Response column"
   ]
  },
  {
   "cell_type": "code",
   "execution_count": 16,
   "metadata": {
    "collapsed": true
   },
   "outputs": [],
   "source": [
    "response = \"survived\""
   ]
  },
  {
   "cell_type": "code",
   "execution_count": 17,
   "metadata": {
    "collapsed": true
   },
   "outputs": [],
   "source": [
    "###: Setting Response column to factor so we can get unique values in it"
   ]
  },
  {
   "cell_type": "code",
   "execution_count": 18,
   "metadata": {},
   "outputs": [
    {
     "data": {
      "text/plain": [
       "[['0', '1']]"
      ]
     },
     "execution_count": 18,
     "metadata": {},
     "output_type": "execute_result"
    }
   ],
   "source": [
    "df['survived'].asfactor().levels()"
   ]
  },
  {
   "cell_type": "code",
   "execution_count": null,
   "metadata": {
    "collapsed": true
   },
   "outputs": [],
   "source": [
    "###: Understanding Dataset with Seaborn python library using origin as color pclass"
   ]
  },
  {
   "cell_type": "code",
   "execution_count": null,
   "metadata": {},
   "outputs": [],
   "source": [
    "import matplotlib.pyplot as plt\n",
    "plt.rcParams['figure.figsize'] = (12, 12)\n",
    "\n",
    "import seaborn as sns\n",
    "sns.set_context(\"notebook\")\n",
    "\n",
    "## Error due to NAs\n",
    "\n",
    "sns.pairplot(df.as_data_frame(), vars=[\"embarked\", \"survived\"], hue=\"pclass\");\n",
    "plt.show()"
   ]
  },
  {
   "cell_type": "code",
   "execution_count": 19,
   "metadata": {
    "collapsed": true
   },
   "outputs": [],
   "source": [
    "###: Setting Response column to factor so we can build classification model"
   ]
  },
  {
   "cell_type": "code",
   "execution_count": 20,
   "metadata": {
    "collapsed": true
   },
   "outputs": [],
   "source": [
    "df[response] = df[response].asfactor()"
   ]
  },
  {
   "cell_type": "code",
   "execution_count": 21,
   "metadata": {
    "collapsed": true
   },
   "outputs": [],
   "source": [
    "###: Verifying Response column as factor "
   ]
  },
  {
   "cell_type": "code",
   "execution_count": 22,
   "metadata": {},
   "outputs": [
    {
     "name": "stdout",
     "output_type": "stream",
     "text": [
      "Rows:1309\n",
      "Cols:1\n",
      "\n",
      "\n"
     ]
    },
    {
     "data": {
      "text/html": [
       "<table>\n",
       "<thead>\n",
       "<tr><th>       </th><th>survived  </th></tr>\n",
       "</thead>\n",
       "<tbody>\n",
       "<tr><td>type   </td><td>enum      </td></tr>\n",
       "<tr><td>mins   </td><td>          </td></tr>\n",
       "<tr><td>mean   </td><td>          </td></tr>\n",
       "<tr><td>maxs   </td><td>          </td></tr>\n",
       "<tr><td>sigma  </td><td>          </td></tr>\n",
       "<tr><td>zeros  </td><td>          </td></tr>\n",
       "<tr><td>missing</td><td>0         </td></tr>\n",
       "<tr><td>0      </td><td>1         </td></tr>\n",
       "<tr><td>1      </td><td>1         </td></tr>\n",
       "<tr><td>2      </td><td>0         </td></tr>\n",
       "<tr><td>3      </td><td>0         </td></tr>\n",
       "<tr><td>4      </td><td>0         </td></tr>\n",
       "<tr><td>5      </td><td>1         </td></tr>\n",
       "<tr><td>6      </td><td>1         </td></tr>\n",
       "<tr><td>7      </td><td>0         </td></tr>\n",
       "<tr><td>8      </td><td>1         </td></tr>\n",
       "<tr><td>9      </td><td>0         </td></tr>\n",
       "</tbody>\n",
       "</table>"
      ]
     },
     "metadata": {},
     "output_type": "display_data"
    }
   ],
   "source": [
    "df[response].describe()"
   ]
  },
  {
   "cell_type": "code",
   "execution_count": 23,
   "metadata": {
    "collapsed": true
   },
   "outputs": [],
   "source": [
    "###: Setting all columns/features into a local variable"
   ]
  },
  {
   "cell_type": "code",
   "execution_count": 24,
   "metadata": {
    "collapsed": true
   },
   "outputs": [],
   "source": [
    "features = df.col_names"
   ]
  },
  {
   "cell_type": "code",
   "execution_count": 25,
   "metadata": {
    "collapsed": true
   },
   "outputs": [],
   "source": [
    "###: Settings all features for model building"
   ]
  },
  {
   "cell_type": "code",
   "execution_count": 26,
   "metadata": {},
   "outputs": [
    {
     "name": "stdout",
     "output_type": "stream",
     "text": [
      "[u'pclass', u'name', u'sex', u'age', u'sibsp', u'parch', u'ticket', u'fare', u'cabin', u'embarked', u'boat', u'body', u'home.dest']\n"
     ]
    }
   ],
   "source": [
    "features.remove(response)\n",
    "print(features)"
   ]
  },
  {
   "cell_type": "code",
   "execution_count": 27,
   "metadata": {
    "collapsed": true
   },
   "outputs": [],
   "source": [
    "###: Ignoring list of features which are not required for model building"
   ]
  },
  {
   "cell_type": "code",
   "execution_count": 28,
   "metadata": {},
   "outputs": [
    {
     "name": "stdout",
     "output_type": "stream",
     "text": [
      "[u'pclass', u'sex', u'age', u'sibsp', u'parch', u'fare', u'cabin', u'embarked', u'boat', u'body']\n"
     ]
    }
   ],
   "source": [
    "ignore_list = ['name', 'ticket', 'home.dest']\n",
    "for x in ignore_list:\n",
    "    features.remove(x)\n",
    "print(features)    "
   ]
  },
  {
   "cell_type": "code",
   "execution_count": 29,
   "metadata": {
    "collapsed": true
   },
   "outputs": [],
   "source": [
    "###: Importing H2O Deep Learning library"
   ]
  },
  {
   "cell_type": "code",
   "execution_count": 30,
   "metadata": {
    "collapsed": true
   },
   "outputs": [],
   "source": [
    "from h2o.estimators.deeplearning import H2ODeepLearningEstimator"
   ]
  },
  {
   "cell_type": "code",
   "execution_count": 31,
   "metadata": {
    "collapsed": true
   },
   "outputs": [],
   "source": [
    "###: Setting H2O Deep Learning model configuration (default)"
   ]
  },
  {
   "cell_type": "code",
   "execution_count": 32,
   "metadata": {},
   "outputs": [],
   "source": [
    "dl_titanic_basic = H2ODeepLearningEstimator()"
   ]
  },
  {
   "cell_type": "code",
   "execution_count": 33,
   "metadata": {
    "collapsed": true
   },
   "outputs": [],
   "source": [
    "###: Training H2O Deep Learning Model "
   ]
  },
  {
   "cell_type": "code",
   "execution_count": 34,
   "metadata": {},
   "outputs": [
    {
     "name": "stdout",
     "output_type": "stream",
     "text": [
      "deeplearning Model Build progress: |██████████████████████████████████████| 100%\n"
     ]
    }
   ],
   "source": [
    "dl_titanic_basic.train(x = features, y = response,training_frame=df)"
   ]
  },
  {
   "cell_type": "code",
   "execution_count": 35,
   "metadata": {
    "collapsed": true
   },
   "outputs": [],
   "source": [
    "###: Understanding H2O Deep Learning Model overall performance based on training data"
   ]
  },
  {
   "cell_type": "code",
   "execution_count": 36,
   "metadata": {},
   "outputs": [
    {
     "name": "stdout",
     "output_type": "stream",
     "text": [
      "\n",
      "ModelMetricsBinomial: deeplearning\n",
      "** Reported on train data. **\n",
      "\n",
      "MSE: 0.0951216697075\n",
      "RMSE: 0.308418011322\n",
      "LogLoss: 0.3511155895\n",
      "Mean Per-Class Error: 0.0826872682324\n",
      "AUC: 0.970814585909\n",
      "Gini: 0.941629171817\n",
      "Confusion Matrix (Act/Pred) for max f1 @ threshold = 0.0549610493875: \n"
     ]
    },
    {
     "data": {
      "text/html": [
       "<div style=\"overflow:auto\"><table style=\"width:50%\"><tr><td><b></b></td>\n",
       "<td><b>0</b></td>\n",
       "<td><b>1</b></td>\n",
       "<td><b>Error</b></td>\n",
       "<td><b>Rate</b></td></tr>\n",
       "<tr><td>0</td>\n",
       "<td>782.0</td>\n",
       "<td>27.0</td>\n",
       "<td>0.0334</td>\n",
       "<td> (27.0/809.0)</td></tr>\n",
       "<tr><td>1</td>\n",
       "<td>66.0</td>\n",
       "<td>434.0</td>\n",
       "<td>0.132</td>\n",
       "<td> (66.0/500.0)</td></tr>\n",
       "<tr><td>Total</td>\n",
       "<td>848.0</td>\n",
       "<td>461.0</td>\n",
       "<td>0.071</td>\n",
       "<td> (93.0/1309.0)</td></tr></table></div>"
      ],
      "text/plain": [
       "       0    1    Error    Rate\n",
       "-----  ---  ---  -------  -------------\n",
       "0      782  27   0.0334   (27.0/809.0)\n",
       "1      66   434  0.132    (66.0/500.0)\n",
       "Total  848  461  0.071    (93.0/1309.0)"
      ]
     },
     "metadata": {},
     "output_type": "display_data"
    },
    {
     "name": "stdout",
     "output_type": "stream",
     "text": [
      "Maximum Metrics: Maximum metrics at their respective thresholds\n",
      "\n"
     ]
    },
    {
     "data": {
      "text/html": [
       "<div style=\"overflow:auto\"><table style=\"width:50%\"><tr><td><b>metric</b></td>\n",
       "<td><b>threshold</b></td>\n",
       "<td><b>value</b></td>\n",
       "<td><b>idx</b></td></tr>\n",
       "<tr><td>max f1</td>\n",
       "<td>0.0549610</td>\n",
       "<td>0.9032258</td>\n",
       "<td>256.0</td></tr>\n",
       "<tr><td>max f2</td>\n",
       "<td>0.0138322</td>\n",
       "<td>0.9195845</td>\n",
       "<td>325.0</td></tr>\n",
       "<tr><td>max f0point5</td>\n",
       "<td>0.1511710</td>\n",
       "<td>0.9416509</td>\n",
       "<td>207.0</td></tr>\n",
       "<tr><td>max accuracy</td>\n",
       "<td>0.0887209</td>\n",
       "<td>0.9289534</td>\n",
       "<td>239.0</td></tr>\n",
       "<tr><td>max precision</td>\n",
       "<td>0.9999950</td>\n",
       "<td>1.0</td>\n",
       "<td>0.0</td></tr>\n",
       "<tr><td>max recall</td>\n",
       "<td>0.0004612</td>\n",
       "<td>1.0</td>\n",
       "<td>395.0</td></tr>\n",
       "<tr><td>max specificity</td>\n",
       "<td>0.9999950</td>\n",
       "<td>1.0</td>\n",
       "<td>0.0</td></tr>\n",
       "<tr><td>max absolute_mcc</td>\n",
       "<td>0.0887209</td>\n",
       "<td>0.8501166</td>\n",
       "<td>239.0</td></tr>\n",
       "<tr><td>max min_per_class_accuracy</td>\n",
       "<td>0.0268353</td>\n",
       "<td>0.9085290</td>\n",
       "<td>295.0</td></tr>\n",
       "<tr><td>max mean_per_class_accuracy</td>\n",
       "<td>0.0549610</td>\n",
       "<td>0.9173127</td>\n",
       "<td>256.0</td></tr></table></div>"
      ],
      "text/plain": [
       "metric                       threshold    value     idx\n",
       "---------------------------  -----------  --------  -----\n",
       "max f1                       0.054961     0.903226  256\n",
       "max f2                       0.0138322    0.919584  325\n",
       "max f0point5                 0.151171     0.941651  207\n",
       "max accuracy                 0.0887209    0.928953  239\n",
       "max precision                0.999995     1         0\n",
       "max recall                   0.000461238  1         395\n",
       "max specificity              0.999995     1         0\n",
       "max absolute_mcc             0.0887209    0.850117  239\n",
       "max min_per_class_accuracy   0.0268353    0.908529  295\n",
       "max mean_per_class_accuracy  0.054961     0.917313  256"
      ]
     },
     "metadata": {},
     "output_type": "display_data"
    },
    {
     "name": "stdout",
     "output_type": "stream",
     "text": [
      "Gains/Lift Table: Avg response rate: 38.20 %\n",
      "\n"
     ]
    },
    {
     "data": {
      "text/html": [
       "<div style=\"overflow:auto\"><table style=\"width:50%\"><tr><td><b></b></td>\n",
       "<td><b>group</b></td>\n",
       "<td><b>cumulative_data_fraction</b></td>\n",
       "<td><b>lower_threshold</b></td>\n",
       "<td><b>lift</b></td>\n",
       "<td><b>cumulative_lift</b></td>\n",
       "<td><b>response_rate</b></td>\n",
       "<td><b>cumulative_response_rate</b></td>\n",
       "<td><b>capture_rate</b></td>\n",
       "<td><b>cumulative_capture_rate</b></td>\n",
       "<td><b>gain</b></td>\n",
       "<td><b>cumulative_gain</b></td></tr>\n",
       "<tr><td></td>\n",
       "<td>1</td>\n",
       "<td>0.0106952</td>\n",
       "<td>0.9999999</td>\n",
       "<td>2.618</td>\n",
       "<td>2.618</td>\n",
       "<td>1.0</td>\n",
       "<td>1.0</td>\n",
       "<td>0.028</td>\n",
       "<td>0.028</td>\n",
       "<td>161.8</td>\n",
       "<td>161.8</td></tr>\n",
       "<tr><td></td>\n",
       "<td>2</td>\n",
       "<td>0.0206264</td>\n",
       "<td>0.9999991</td>\n",
       "<td>2.618</td>\n",
       "<td>2.618</td>\n",
       "<td>1.0</td>\n",
       "<td>1.0</td>\n",
       "<td>0.026</td>\n",
       "<td>0.054</td>\n",
       "<td>161.8</td>\n",
       "<td>161.8</td></tr>\n",
       "<tr><td></td>\n",
       "<td>3</td>\n",
       "<td>0.0305577</td>\n",
       "<td>0.9999973</td>\n",
       "<td>2.618</td>\n",
       "<td>2.618</td>\n",
       "<td>1.0</td>\n",
       "<td>1.0</td>\n",
       "<td>0.026</td>\n",
       "<td>0.08</td>\n",
       "<td>161.8</td>\n",
       "<td>161.8</td></tr>\n",
       "<tr><td></td>\n",
       "<td>4</td>\n",
       "<td>0.0404889</td>\n",
       "<td>0.9999888</td>\n",
       "<td>2.618</td>\n",
       "<td>2.618</td>\n",
       "<td>1.0</td>\n",
       "<td>1.0</td>\n",
       "<td>0.026</td>\n",
       "<td>0.106</td>\n",
       "<td>161.8</td>\n",
       "<td>161.8</td></tr>\n",
       "<tr><td></td>\n",
       "<td>5</td>\n",
       "<td>0.0504202</td>\n",
       "<td>0.9999793</td>\n",
       "<td>2.618</td>\n",
       "<td>2.618</td>\n",
       "<td>1.0</td>\n",
       "<td>1.0</td>\n",
       "<td>0.026</td>\n",
       "<td>0.132</td>\n",
       "<td>161.8</td>\n",
       "<td>161.8</td></tr>\n",
       "<tr><td></td>\n",
       "<td>6</td>\n",
       "<td>0.1000764</td>\n",
       "<td>0.9991672</td>\n",
       "<td>2.618</td>\n",
       "<td>2.618</td>\n",
       "<td>1.0</td>\n",
       "<td>1.0</td>\n",
       "<td>0.13</td>\n",
       "<td>0.262</td>\n",
       "<td>161.8</td>\n",
       "<td>161.8</td></tr>\n",
       "<tr><td></td>\n",
       "<td>7</td>\n",
       "<td>0.1504966</td>\n",
       "<td>0.9902929</td>\n",
       "<td>2.618</td>\n",
       "<td>2.618</td>\n",
       "<td>1.0</td>\n",
       "<td>1.0</td>\n",
       "<td>0.132</td>\n",
       "<td>0.394</td>\n",
       "<td>161.8</td>\n",
       "<td>161.8</td></tr>\n",
       "<tr><td></td>\n",
       "<td>8</td>\n",
       "<td>0.2001528</td>\n",
       "<td>0.9187698</td>\n",
       "<td>2.618</td>\n",
       "<td>2.618</td>\n",
       "<td>1.0</td>\n",
       "<td>1.0</td>\n",
       "<td>0.13</td>\n",
       "<td>0.524</td>\n",
       "<td>161.8</td>\n",
       "<td>161.8</td></tr>\n",
       "<tr><td></td>\n",
       "<td>9</td>\n",
       "<td>0.3002292</td>\n",
       "<td>0.1758940</td>\n",
       "<td>2.5380611</td>\n",
       "<td>2.5913537</td>\n",
       "<td>0.9694656</td>\n",
       "<td>0.9898219</td>\n",
       "<td>0.254</td>\n",
       "<td>0.778</td>\n",
       "<td>153.8061069</td>\n",
       "<td>159.1353690</td></tr>\n",
       "<tr><td></td>\n",
       "<td>10</td>\n",
       "<td>0.4048892</td>\n",
       "<td>0.0268544</td>\n",
       "<td>1.3376642</td>\n",
       "<td>2.2672868</td>\n",
       "<td>0.5109489</td>\n",
       "<td>0.8660377</td>\n",
       "<td>0.14</td>\n",
       "<td>0.918</td>\n",
       "<td>33.7664234</td>\n",
       "<td>126.7286792</td></tr>\n",
       "<tr><td></td>\n",
       "<td>11</td>\n",
       "<td>0.5011459</td>\n",
       "<td>0.0103417</td>\n",
       "<td>0.4155556</td>\n",
       "<td>1.9116189</td>\n",
       "<td>0.1587302</td>\n",
       "<td>0.7301829</td>\n",
       "<td>0.04</td>\n",
       "<td>0.958</td>\n",
       "<td>-58.4444444</td>\n",
       "<td>91.1618902</td></tr>\n",
       "<tr><td></td>\n",
       "<td>12</td>\n",
       "<td>0.5996944</td>\n",
       "<td>0.0059361</td>\n",
       "<td>0.1623566</td>\n",
       "<td>1.6241605</td>\n",
       "<td>0.0620155</td>\n",
       "<td>0.6203822</td>\n",
       "<td>0.016</td>\n",
       "<td>0.974</td>\n",
       "<td>-83.7643411</td>\n",
       "<td>62.4160510</td></tr>\n",
       "<tr><td></td>\n",
       "<td>13</td>\n",
       "<td>0.7005348</td>\n",
       "<td>0.0054267</td>\n",
       "<td>0.0991667</td>\n",
       "<td>1.4046412</td>\n",
       "<td>0.0378788</td>\n",
       "<td>0.5365322</td>\n",
       "<td>0.01</td>\n",
       "<td>0.984</td>\n",
       "<td>-90.0833333</td>\n",
       "<td>40.4641221</td></tr>\n",
       "<tr><td></td>\n",
       "<td>14</td>\n",
       "<td>0.7998472</td>\n",
       "<td>0.0031901</td>\n",
       "<td>0.1208308</td>\n",
       "<td>1.2452378</td>\n",
       "<td>0.0461538</td>\n",
       "<td>0.4756447</td>\n",
       "<td>0.012</td>\n",
       "<td>0.996</td>\n",
       "<td>-87.9169231</td>\n",
       "<td>24.5237822</td></tr>\n",
       "<tr><td></td>\n",
       "<td>15</td>\n",
       "<td>0.8999236</td>\n",
       "<td>0.0012744</td>\n",
       "<td>0.0199847</td>\n",
       "<td>1.1089830</td>\n",
       "<td>0.0076336</td>\n",
       "<td>0.4235993</td>\n",
       "<td>0.002</td>\n",
       "<td>0.998</td>\n",
       "<td>-98.0015267</td>\n",
       "<td>10.8983022</td></tr>\n",
       "<tr><td></td>\n",
       "<td>16</td>\n",
       "<td>1.0</td>\n",
       "<td>0.0000025</td>\n",
       "<td>0.0199847</td>\n",
       "<td>1.0</td>\n",
       "<td>0.0076336</td>\n",
       "<td>0.3819710</td>\n",
       "<td>0.002</td>\n",
       "<td>1.0</td>\n",
       "<td>-98.0015267</td>\n",
       "<td>0.0</td></tr></table></div>"
      ],
      "text/plain": [
       "    group    cumulative_data_fraction    lower_threshold    lift       cumulative_lift    response_rate    cumulative_response_rate    capture_rate    cumulative_capture_rate    gain      cumulative_gain\n",
       "--  -------  --------------------------  -----------------  ---------  -----------------  ---------------  --------------------------  --------------  -------------------------  --------  -----------------\n",
       "    1        0.0106952                   1                  2.618      2.618              1                1                           0.028           0.028                      161.8     161.8\n",
       "    2        0.0206264                   0.999999           2.618      2.618              1                1                           0.026           0.054                      161.8     161.8\n",
       "    3        0.0305577                   0.999997           2.618      2.618              1                1                           0.026           0.08                       161.8     161.8\n",
       "    4        0.0404889                   0.999989           2.618      2.618              1                1                           0.026           0.106                      161.8     161.8\n",
       "    5        0.0504202                   0.999979           2.618      2.618              1                1                           0.026           0.132                      161.8     161.8\n",
       "    6        0.100076                    0.999167           2.618      2.618              1                1                           0.13            0.262                      161.8     161.8\n",
       "    7        0.150497                    0.990293           2.618      2.618              1                1                           0.132           0.394                      161.8     161.8\n",
       "    8        0.200153                    0.91877            2.618      2.618              1                1                           0.13            0.524                      161.8     161.8\n",
       "    9        0.300229                    0.175894           2.53806    2.59135            0.969466         0.989822                    0.254           0.778                      153.806   159.135\n",
       "    10       0.404889                    0.0268544          1.33766    2.26729            0.510949         0.866038                    0.14            0.918                      33.7664   126.729\n",
       "    11       0.501146                    0.0103417          0.415556   1.91162            0.15873          0.730183                    0.04            0.958                      -58.4444  91.1619\n",
       "    12       0.599694                    0.00593613         0.162357   1.62416            0.0620155        0.620382                    0.016           0.974                      -83.7643  62.4161\n",
       "    13       0.700535                    0.00542672         0.0991667  1.40464            0.0378788        0.536532                    0.01            0.984                      -90.0833  40.4641\n",
       "    14       0.799847                    0.00319012         0.120831   1.24524            0.0461538        0.475645                    0.012           0.996                      -87.9169  24.5238\n",
       "    15       0.899924                    0.00127441         0.0199847  1.10898            0.00763359       0.423599                    0.002           0.998                      -98.0015  10.8983\n",
       "    16       1                           2.53673e-06        0.0199847  1                  0.00763359       0.381971                    0.002           1                          -98.0015  0"
      ]
     },
     "metadata": {},
     "output_type": "display_data"
    },
    {
     "name": "stdout",
     "output_type": "stream",
     "text": [
      "\n"
     ]
    },
    {
     "data": {
      "text/plain": []
     },
     "execution_count": 36,
     "metadata": {},
     "output_type": "execute_result"
    }
   ],
   "source": [
    "dl_titanic_basic.model_performance(train=True)"
   ]
  },
  {
   "cell_type": "code",
   "execution_count": 37,
   "metadata": {
    "collapsed": true
   },
   "outputs": [],
   "source": [
    "###: Understanding H2O Deep Learning Model - AUC Model metrics based on training data"
   ]
  },
  {
   "cell_type": "code",
   "execution_count": 38,
   "metadata": {},
   "outputs": [
    {
     "data": {
      "text/plain": [
       "0.9708145859085291"
      ]
     },
     "execution_count": 38,
     "metadata": {},
     "output_type": "execute_result"
    }
   ],
   "source": [
    "dl_titanic_basic.model_performance(train=True).auc()"
   ]
  },
  {
   "cell_type": "code",
   "execution_count": 39,
   "metadata": {
    "collapsed": true
   },
   "outputs": [],
   "source": [
    "###: Setting H2O Deep Learning model configuration to use cross validation with 5 folds"
   ]
  },
  {
   "cell_type": "code",
   "execution_count": 40,
   "metadata": {
    "collapsed": true
   },
   "outputs": [],
   "source": [
    "dl_titanic_cv = H2ODeepLearningEstimator(nfolds = 5 )"
   ]
  },
  {
   "cell_type": "code",
   "execution_count": 41,
   "metadata": {
    "collapsed": true
   },
   "outputs": [],
   "source": [
    "###: Training H2O Deep Learning Model"
   ]
  },
  {
   "cell_type": "code",
   "execution_count": 42,
   "metadata": {},
   "outputs": [
    {
     "name": "stdout",
     "output_type": "stream",
     "text": [
      "deeplearning Model Build progress: |██████████████████████████████████████| 100%\n"
     ]
    }
   ],
   "source": [
    "dl_titanic_cv.train(x = features, y = response,training_frame=df)"
   ]
  },
  {
   "cell_type": "code",
   "execution_count": 43,
   "metadata": {
    "collapsed": true
   },
   "outputs": [],
   "source": [
    "###: Understanding H2O Deep Learning Model overall performance based on cross validation data (r2 only)"
   ]
  },
  {
   "cell_type": "code",
   "execution_count": 44,
   "metadata": {},
   "outputs": [
    {
     "data": {
      "text/plain": [
       "0.9358331273176762"
      ]
     },
     "execution_count": 44,
     "metadata": {},
     "output_type": "execute_result"
    }
   ],
   "source": [
    "dl_titanic_cv.model_performance(xval=True).auc()"
   ]
  },
  {
   "cell_type": "code",
   "execution_count": 45,
   "metadata": {
    "collapsed": true
   },
   "outputs": [],
   "source": [
    "###: Plotting H2O Deep Learning Model for its AUC metric "
   ]
  },
  {
   "cell_type": "code",
   "execution_count": 46,
   "metadata": {},
   "outputs": [
    {
     "data": {
      "image/png": "[encoded data removed]",
      "text/plain": [
       "<matplotlib.figure.Figure at 0x11b7b4b90>"
      ]
     },
     "metadata": {},
     "output_type": "display_data"
    }
   ],
   "source": [
    "dl_titanic_cv.plot(metric='auc')"
   ]
  },
  {
   "cell_type": "code",
   "execution_count": 47,
   "metadata": {
    "collapsed": true
   },
   "outputs": [],
   "source": [
    "###: Generating H2O Deep Learning "
   ]
  },
  {
   "cell_type": "code",
   "execution_count": 48,
   "metadata": {},
   "outputs": [
    {
     "data": {
      "image/png": "[encoded data removed]",
      "text/plain": [
       "<matplotlib.figure.Figure at 0x11b9c8410>"
      ]
     },
     "metadata": {},
     "output_type": "display_data"
    }
   ],
   "source": [
    "dl_titanic_cv.varimp_plot()"
   ]
  },
  {
   "cell_type": "code",
   "execution_count": 49,
   "metadata": {
    "collapsed": true
   },
   "outputs": [],
   "source": [
    "###: Setting H2O Deep Learning model configuration to use cross validation with 5 folds and various other parameters\n",
    "###: for tuning the performance and accuracy"
   ]
  },
  {
   "cell_type": "code",
   "execution_count": 50,
   "metadata": {
    "collapsed": true
   },
   "outputs": [],
   "source": [
    "dl_titanic_cv_tuned = H2ODeepLearningEstimator(nfolds = 5,\n",
    "                                           hidden = [30],\n",
    "                                           epochs = 25,\n",
    "                                           train_samples_per_iteration=20,\n",
    "                                           score_training_samples=50,\n",
    "                                           activation=\"Rectifier\",\n",
    "                                           adaptive_rate = False,\n",
    "                                           seed = 12345)\n",
    "# default activation works best this data #\n",
    "# adaptive_rate = False works best for this data (True will reduce the accuracy) #\n",
    "# hidden layers [20] or [30] works better then [10,10] or multiple levels #"
   ]
  },
  {
   "cell_type": "code",
   "execution_count": 51,
   "metadata": {
    "collapsed": true
   },
   "outputs": [],
   "source": [
    "###: Training H2O Deep Learning Model "
   ]
  },
  {
   "cell_type": "code",
   "execution_count": 52,
   "metadata": {},
   "outputs": [
    {
     "name": "stdout",
     "output_type": "stream",
     "text": [
      "deeplearning Model Build progress: |██████████████████████████████████████| 100%\n"
     ]
    }
   ],
   "source": [
    "dl_titanic_cv_tuned.train(x = features, y = response, training_frame=df)"
   ]
  },
  {
   "cell_type": "code",
   "execution_count": 53,
   "metadata": {
    "collapsed": true
   },
   "outputs": [],
   "source": [
    "###: Understanding H2O Deep Learning Model overall performance based on cross validation data (AUC only)"
   ]
  },
  {
   "cell_type": "code",
   "execution_count": 54,
   "metadata": {},
   "outputs": [
    {
     "name": "stdout",
     "output_type": "stream",
     "text": [
      "0.970814585909\n",
      "0.935833127318\n",
      "0.940716934487\n"
     ]
    }
   ],
   "source": [
    "print(dl_titanic_basic.model_performance(train=True).auc())\n",
    "print(dl_titanic_cv.model_performance(xval=True).auc())\n",
    "print(dl_titanic_cv_tuned.model_performance(xval=True).auc())"
   ]
  },
  {
   "cell_type": "code",
   "execution_count": 55,
   "metadata": {
    "collapsed": true
   },
   "outputs": [],
   "source": [
    "###:  H2O Deep Learning Tuned model varialbe importance plot"
   ]
  },
  {
   "cell_type": "code",
   "execution_count": 56,
   "metadata": {},
   "outputs": [
    {
     "data": {
      "image/png": "[encoded data removed]",
      "text/plain": [
       "<matplotlib.figure.Figure at 0x11bb79a10>"
      ]
     },
     "metadata": {},
     "output_type": "display_data"
    }
   ],
   "source": [
    "dl_titanic_cv_tuned.varimp_plot()"
   ]
  },
  {
   "cell_type": "code",
   "execution_count": 57,
   "metadata": {
    "collapsed": true
   },
   "outputs": [],
   "source": [
    "###:  H2O Deep Learning Tuned model varialbe importance plot"
   ]
  },
  {
   "cell_type": "code",
   "execution_count": 58,
   "metadata": {},
   "outputs": [
    {
     "data": {
      "text/html": [
       "<div>\n",
       "<style>\n",
       "    .dataframe thead tr:only-child th {\n",
       "        text-align: right;\n",
       "    }\n",
       "\n",
       "    .dataframe thead th {\n",
       "        text-align: left;\n",
       "    }\n",
       "\n",
       "    .dataframe tbody tr th {\n",
       "        vertical-align: top;\n",
       "    }\n",
       "</style>\n",
       "<table border=\"1\" class=\"dataframe\">\n",
       "  <thead>\n",
       "    <tr style=\"text-align: right;\">\n",
       "      <th></th>\n",
       "      <th></th>\n",
       "      <th>timestamp</th>\n",
       "      <th>duration</th>\n",
       "      <th>training_speed</th>\n",
       "      <th>epochs</th>\n",
       "      <th>iterations</th>\n",
       "      <th>samples</th>\n",
       "      <th>training_rmse</th>\n",
       "      <th>training_logloss</th>\n",
       "      <th>training_auc</th>\n",
       "      <th>training_lift</th>\n",
       "      <th>training_classification_error</th>\n",
       "    </tr>\n",
       "  </thead>\n",
       "  <tbody>\n",
       "    <tr>\n",
       "      <th>0</th>\n",
       "      <td></td>\n",
       "      <td>2017-11-16 11:04:12</td>\n",
       "      <td>0.000 sec</td>\n",
       "      <td>None</td>\n",
       "      <td>0.000000</td>\n",
       "      <td>0</td>\n",
       "      <td>0.0</td>\n",
       "      <td>NaN</td>\n",
       "      <td>NaN</td>\n",
       "      <td>NaN</td>\n",
       "      <td>NaN</td>\n",
       "      <td>NaN</td>\n",
       "    </tr>\n",
       "    <tr>\n",
       "      <th>1</th>\n",
       "      <td></td>\n",
       "      <td>2017-11-16 11:04:12</td>\n",
       "      <td>2.839 sec</td>\n",
       "      <td>10500 obs/sec</td>\n",
       "      <td>0.016043</td>\n",
       "      <td>1</td>\n",
       "      <td>21.0</td>\n",
       "      <td>0.460783</td>\n",
       "      <td>0.672897</td>\n",
       "      <td>0.777586</td>\n",
       "      <td>2.45</td>\n",
       "      <td>0.285714</td>\n",
       "    </tr>\n",
       "    <tr>\n",
       "      <th>2</th>\n",
       "      <td></td>\n",
       "      <td>2017-11-16 11:04:13</td>\n",
       "      <td>3.882 sec</td>\n",
       "      <td>31448 obs/sec</td>\n",
       "      <td>25.009931</td>\n",
       "      <td>1658</td>\n",
       "      <td>32738.0</td>\n",
       "      <td>0.225973</td>\n",
       "      <td>0.200719</td>\n",
       "      <td>0.950000</td>\n",
       "      <td>2.45</td>\n",
       "      <td>0.040816</td>\n",
       "    </tr>\n",
       "  </tbody>\n",
       "</table>\n",
       "</div>"
      ],
      "text/plain": [
       "               timestamp    duration training_speed     epochs  iterations  \\\n",
       "0    2017-11-16 11:04:12   0.000 sec           None   0.000000           0   \n",
       "1    2017-11-16 11:04:12   2.839 sec  10500 obs/sec   0.016043           1   \n",
       "2    2017-11-16 11:04:13   3.882 sec  31448 obs/sec  25.009931        1658   \n",
       "\n",
       "   samples  training_rmse  training_logloss  training_auc  training_lift  \\\n",
       "0      0.0            NaN               NaN           NaN            NaN   \n",
       "1     21.0       0.460783          0.672897      0.777586           2.45   \n",
       "2  32738.0       0.225973          0.200719      0.950000           2.45   \n",
       "\n",
       "   training_classification_error  \n",
       "0                            NaN  \n",
       "1                       0.285714  \n",
       "2                       0.040816  "
      ]
     },
     "execution_count": 58,
     "metadata": {},
     "output_type": "execute_result"
    }
   ],
   "source": [
    "dl_titanic_cv_tuned.score_history()"
   ]
  },
  {
   "cell_type": "code",
   "execution_count": 59,
   "metadata": {},
   "outputs": [
    {
     "data": {
      "text/html": [
       "<div>\n",
       "<style>\n",
       "    .dataframe thead tr:only-child th {\n",
       "        text-align: right;\n",
       "    }\n",
       "\n",
       "    .dataframe thead th {\n",
       "        text-align: left;\n",
       "    }\n",
       "\n",
       "    .dataframe tbody tr th {\n",
       "        vertical-align: top;\n",
       "    }\n",
       "</style>\n",
       "<table border=\"1\" class=\"dataframe\">\n",
       "  <thead>\n",
       "    <tr style=\"text-align: right;\">\n",
       "      <th></th>\n",
       "      <th></th>\n",
       "      <th>timestamp</th>\n",
       "      <th>duration</th>\n",
       "      <th>training_speed</th>\n",
       "      <th>epochs</th>\n",
       "      <th>iterations</th>\n",
       "      <th>samples</th>\n",
       "      <th>training_rmse</th>\n",
       "      <th>training_logloss</th>\n",
       "      <th>training_auc</th>\n",
       "      <th>training_lift</th>\n",
       "      <th>training_classification_error</th>\n",
       "    </tr>\n",
       "  </thead>\n",
       "  <tbody>\n",
       "    <tr>\n",
       "      <th>0</th>\n",
       "      <td></td>\n",
       "      <td>2017-11-16 11:04:12</td>\n",
       "      <td>0.000 sec</td>\n",
       "      <td>None</td>\n",
       "      <td>0.000000</td>\n",
       "      <td>0</td>\n",
       "      <td>0.0</td>\n",
       "      <td>NaN</td>\n",
       "      <td>NaN</td>\n",
       "      <td>NaN</td>\n",
       "      <td>NaN</td>\n",
       "      <td>NaN</td>\n",
       "    </tr>\n",
       "    <tr>\n",
       "      <th>1</th>\n",
       "      <td></td>\n",
       "      <td>2017-11-16 11:04:12</td>\n",
       "      <td>2.839 sec</td>\n",
       "      <td>10500 obs/sec</td>\n",
       "      <td>0.016043</td>\n",
       "      <td>1</td>\n",
       "      <td>21.0</td>\n",
       "      <td>0.460783</td>\n",
       "      <td>0.672897</td>\n",
       "      <td>0.777586</td>\n",
       "      <td>2.45</td>\n",
       "      <td>0.285714</td>\n",
       "    </tr>\n",
       "    <tr>\n",
       "      <th>2</th>\n",
       "      <td></td>\n",
       "      <td>2017-11-16 11:04:13</td>\n",
       "      <td>3.882 sec</td>\n",
       "      <td>31448 obs/sec</td>\n",
       "      <td>25.009931</td>\n",
       "      <td>1658</td>\n",
       "      <td>32738.0</td>\n",
       "      <td>0.225973</td>\n",
       "      <td>0.200719</td>\n",
       "      <td>0.950000</td>\n",
       "      <td>2.45</td>\n",
       "      <td>0.040816</td>\n",
       "    </tr>\n",
       "  </tbody>\n",
       "</table>\n",
       "</div>"
      ],
      "text/plain": [
       "               timestamp    duration training_speed     epochs  iterations  \\\n",
       "0    2017-11-16 11:04:12   0.000 sec           None   0.000000           0   \n",
       "1    2017-11-16 11:04:12   2.839 sec  10500 obs/sec   0.016043           1   \n",
       "2    2017-11-16 11:04:13   3.882 sec  31448 obs/sec  25.009931        1658   \n",
       "\n",
       "   samples  training_rmse  training_logloss  training_auc  training_lift  \\\n",
       "0      0.0            NaN               NaN           NaN            NaN   \n",
       "1     21.0       0.460783          0.672897      0.777586           2.45   \n",
       "2  32738.0       0.225973          0.200719      0.950000           2.45   \n",
       "\n",
       "   training_classification_error  \n",
       "0                            NaN  \n",
       "1                       0.285714  \n",
       "2                       0.040816  "
      ]
     },
     "execution_count": 59,
     "metadata": {},
     "output_type": "execute_result"
    }
   ],
   "source": [
    "dl_titanic_cv_tuned.scoring_history()"
   ]
  },
  {
   "cell_type": "code",
   "execution_count": 60,
   "metadata": {
    "collapsed": true
   },
   "outputs": [],
   "source": [
    "### PERFORMING PREDICTIONS USING a TEST DATA SET"
   ]
  },
  {
   "cell_type": "code",
   "execution_count": 61,
   "metadata": {
    "collapsed": true
   },
   "outputs": [],
   "source": [
    "###: listing features used for model building from the original data set"
   ]
  },
  {
   "cell_type": "code",
   "execution_count": 62,
   "metadata": {},
   "outputs": [
    {
     "data": {
      "text/plain": [
       "[u'pclass',\n",
       " u'sex',\n",
       " u'age',\n",
       " u'sibsp',\n",
       " u'parch',\n",
       " u'fare',\n",
       " u'cabin',\n",
       " u'embarked',\n",
       " u'boat',\n",
       " u'body']"
      ]
     },
     "execution_count": 62,
     "metadata": {},
     "output_type": "execute_result"
    }
   ],
   "source": [
    "features"
   ]
  },
  {
   "cell_type": "code",
   "execution_count": 63,
   "metadata": {
    "collapsed": true
   },
   "outputs": [],
   "source": [
    "###: listing first 3 rows from the original data set"
   ]
  },
  {
   "cell_type": "code",
   "execution_count": 64,
   "metadata": {},
   "outputs": [
    {
     "name": "stdout",
     "output_type": "stream",
     "text": [
      "Rows:3\n",
      "Cols:14\n",
      "\n",
      "\n"
     ]
    },
    {
     "data": {
      "text/html": [
       "<table>\n",
       "<thead>\n",
       "<tr><th>       </th><th>pclass  </th><th>survived  </th><th>name                          </th><th>sex   </th><th>age          </th><th>sibsp         </th><th>parch        </th><th>ticket       </th><th>fare         </th><th>cabin  </th><th>embarked  </th><th>boat         </th><th>body  </th><th>home.dest                      </th></tr>\n",
       "</thead>\n",
       "<tbody>\n",
       "<tr><td>type   </td><td>int     </td><td>enum      </td><td>string                        </td><td>enum  </td><td>real         </td><td>int           </td><td>int          </td><td>int          </td><td>real         </td><td>enum   </td><td>enum      </td><td>int          </td><td>int   </td><td>enum                           </td></tr>\n",
       "<tr><td>mins   </td><td>1.0     </td><td>          </td><td>NaN                           </td><td>      </td><td>0.9167       </td><td>0.0           </td><td>0.0          </td><td>24160.0      </td><td>151.55       </td><td>       </td><td>          </td><td>2.0          </td><td>NaN   </td><td>                               </td></tr>\n",
       "<tr><td>mean   </td><td>1.0     </td><td>          </td><td>NaN                           </td><td>      </td><td>10.6389      </td><td>0.666666666667</td><td>1.33333333333</td><td>83907.3333333</td><td>171.479166667</td><td>       </td><td>          </td><td>6.5          </td><td>0.0   </td><td>                               </td></tr>\n",
       "<tr><td>maxs   </td><td>1.0     </td><td>          </td><td>NaN                           </td><td>      </td><td>29.0         </td><td>1.0           </td><td>2.0          </td><td>113781.0     </td><td>211.3375     </td><td>       </td><td>          </td><td>11.0         </td><td>NaN   </td><td>                               </td></tr>\n",
       "<tr><td>sigma  </td><td>0.0     </td><td>          </td><td>NaN                           </td><td>      </td><td>15.9104016175</td><td>0.57735026919 </td><td>1.15470053838</td><td>51742.708475 </td><td>34.5183292192</td><td>       </td><td>          </td><td>6.36396103068</td><td>-0.0  </td><td>                               </td></tr>\n",
       "<tr><td>zeros  </td><td>0       </td><td>          </td><td>0                             </td><td>      </td><td>0            </td><td>1             </td><td>1            </td><td>0            </td><td>0            </td><td>       </td><td>          </td><td>0            </td><td>0     </td><td>                               </td></tr>\n",
       "<tr><td>missing</td><td>0       </td><td>0         </td><td>0                             </td><td>0     </td><td>0            </td><td>0             </td><td>0            </td><td>0            </td><td>0            </td><td>0      </td><td>0         </td><td>1            </td><td>3     </td><td>0                              </td></tr>\n",
       "<tr><td>0      </td><td>1.0     </td><td>1         </td><td>Allen, Miss. Elisabeth Walton </td><td>female</td><td>29.0         </td><td>0.0           </td><td>0.0          </td><td>24160.0      </td><td>211.3375     </td><td>B5     </td><td>S         </td><td>2.0          </td><td>nan   </td><td>St Louis, MO                   </td></tr>\n",
       "<tr><td>1      </td><td>1.0     </td><td>1         </td><td>Allison, Master. Hudson Trevor</td><td>male  </td><td>0.9167       </td><td>1.0           </td><td>2.0          </td><td>113781.0     </td><td>151.55       </td><td>C22 C26</td><td>S         </td><td>11.0         </td><td>nan   </td><td>Montreal, PQ / Chesterville, ON</td></tr>\n",
       "<tr><td>2      </td><td>1.0     </td><td>0         </td><td>Allison, Miss. Helen Loraine  </td><td>female</td><td>2.0          </td><td>1.0           </td><td>2.0          </td><td>113781.0     </td><td>151.55       </td><td>C22 C26</td><td>S         </td><td>nan          </td><td>nan   </td><td>Montreal, PQ / Chesterville, ON</td></tr>\n",
       "</tbody>\n",
       "</table>"
      ]
     },
     "metadata": {},
     "output_type": "display_data"
    }
   ],
   "source": [
    "df.head(3).describe()"
   ]
  },
  {
   "cell_type": "code",
   "execution_count": 65,
   "metadata": {
    "collapsed": true
   },
   "outputs": [],
   "source": [
    "###: creating test data set based on features used for building model"
   ]
  },
  {
   "cell_type": "code",
   "execution_count": 66,
   "metadata": {},
   "outputs": [
    {
     "name": "stdout",
     "output_type": "stream",
     "text": [
      "Parse progress: |█████████████████████████████████████████████████████████| 100%\n"
     ]
    }
   ],
   "source": [
    "df_test = h2o.H2OFrame.from_python({\"pclass\":2, \"sex\" : 'male', \"age\" : 28, \n",
    "                                    \"sibsp\" : 1, \"parch\" : 2, \"fare\" : 321.9, \"boat\": 2, 'body' : 123,\n",
    "                                   \"embarked\" : 'S', \"cabin\": \"B5\"})"
   ]
  },
  {
   "cell_type": "code",
   "execution_count": 67,
   "metadata": {},
   "outputs": [
    {
     "data": {
      "text/plain": [
       "h2o.frame.H2OFrame"
      ]
     },
     "execution_count": 67,
     "metadata": {},
     "output_type": "execute_result"
    }
   ],
   "source": [
    "type(df_test)"
   ]
  },
  {
   "cell_type": "code",
   "execution_count": 68,
   "metadata": {
    "collapsed": true
   },
   "outputs": [],
   "source": [
    "###: Performing prediction using one of the best deep learning model we built earlier"
   ]
  },
  {
   "cell_type": "code",
   "execution_count": 69,
   "metadata": {},
   "outputs": [
    {
     "name": "stdout",
     "output_type": "stream",
     "text": [
      "deeplearning prediction progress: |███████████████████████████████████████| 100%\n"
     ]
    },
    {
     "data": {
      "text/html": [
       "<table>\n",
       "<thead>\n",
       "<tr><th style=\"text-align: right;\">  predict</th><th style=\"text-align: right;\">         p0</th><th style=\"text-align: right;\">      p1</th></tr>\n",
       "</thead>\n",
       "<tbody>\n",
       "<tr><td style=\"text-align: right;\">        1</td><td style=\"text-align: right;\">0.000116972</td><td style=\"text-align: right;\">0.999883</td></tr>\n",
       "</tbody>\n",
       "</table>"
      ]
     },
     "metadata": {},
     "output_type": "display_data"
    },
    {
     "data": {
      "text/plain": []
     },
     "execution_count": 69,
     "metadata": {},
     "output_type": "execute_result"
    }
   ],
   "source": [
    "dl_titanic_cv_tuned.predict(df_test)"
   ]
  },
  {
   "cell_type": "code",
   "execution_count": 70,
   "metadata": {
    "collapsed": true
   },
   "outputs": [],
   "source": [
    "###: Looking at the histogram of response variable from original data set"
   ]
  },
  {
   "cell_type": "code",
   "execution_count": 71,
   "metadata": {},
   "outputs": [
    {
     "data": {
      "image/png": "[encoded data removed]",
      "text/plain": [
       "<matplotlib.figure.Figure at 0x11c168650>"
      ]
     },
     "metadata": {},
     "output_type": "display_data"
    }
   ],
   "source": [
    "df[response].asnumeric().hist()"
   ]
  },
  {
   "cell_type": "code",
   "execution_count": null,
   "metadata": {
    "collapsed": true
   },
   "outputs": [],
   "source": []
  }
 ],
 "metadata": {
  "kernelspec": {
   "display_name": "Python 2",
   "language": "python",
   "name": "python2"
  },
  "language_info": {
   "codemirror_mode": {
    "name": "ipython",
    "version": 2
   },
   "file_extension": ".py",
   "mimetype": "text/x-python",
   "name": "python",
   "nbconvert_exporter": "python",
   "pygments_lexer": "ipython2",
   "version": "2.7.13"
  }
 },
 "nbformat": 4,
 "nbformat_minor": 2
}
