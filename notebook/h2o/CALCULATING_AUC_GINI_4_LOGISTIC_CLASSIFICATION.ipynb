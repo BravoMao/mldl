{
 "cells": [
  {
   "cell_type": "markdown",
   "metadata": {},
   "source": [
    "### Here are few Articles which will be helpful to learn more about Model Metrics:\n",
    "\n",
    "- https://aichamp.wordpress.com/2017/10/18/how-r2-error-is-calculated-in-generalized-linear-model/\n",
    "- http://scikit-learn.org/stable/auto_examples/model_selection/plot_roc.html\n",
    "- https://datamize.wordpress.com/2015/01/24/how-to-plot-a-roc-curve-in-scikit-learn/\n",
    "- https://www.analyticsvidhya.com/blog/2016/02/7-important-model-evaluation-error-metrics/\n",
    "- https://www.kaggle.com/wiki/Metrics/history/588\n",
    "\n"
   ]
  },
  {
   "cell_type": "markdown",
   "metadata": {},
   "source": [
    "## Importing important libraries"
   ]
  },
  {
   "cell_type": "code",
   "execution_count": 1,
   "metadata": {
    "collapsed": true
   },
   "outputs": [],
   "source": [
    "import h2o\n",
    "import sys\n",
    "import pandas as pd\n",
    "from h2o.estimators.gbm import H2OGradientBoostingEstimator"
   ]
  },
  {
   "cell_type": "markdown",
   "metadata": {},
   "source": [
    "## Initializing H2O "
   ]
  },
  {
   "cell_type": "code",
   "execution_count": 2,
   "metadata": {},
   "outputs": [
    {
     "name": "stderr",
     "output_type": "stream",
     "text": [
      "ERROR:h2o:Key init.version_check is not a valid config key\n"
     ]
    },
    {
     "name": "stdout",
     "output_type": "stream",
     "text": [
      "Checking whether there is an H2O instance running at http://localhost:54321. connected.\n"
     ]
    },
    {
     "data": {
      "text/html": [
       "<div style=\"overflow:auto\"><table style=\"width:50%\"><tr><td>H2O cluster uptime:</td>\n",
       "<td>1 day 1 hour 33 mins</td></tr>\n",
       "<tr><td>H2O cluster version:</td>\n",
       "<td>3.14.0.3</td></tr>\n",
       "<tr><td>H2O cluster version age:</td>\n",
       "<td>27 days </td></tr>\n",
       "<tr><td>H2O cluster name:</td>\n",
       "<td>H2O_from_python_avkashchauhan_jqfer7</td></tr>\n",
       "<tr><td>H2O cluster total nodes:</td>\n",
       "<td>1</td></tr>\n",
       "<tr><td>H2O cluster free memory:</td>\n",
       "<td>3.234 Gb</td></tr>\n",
       "<tr><td>H2O cluster total cores:</td>\n",
       "<td>8</td></tr>\n",
       "<tr><td>H2O cluster allowed cores:</td>\n",
       "<td>8</td></tr>\n",
       "<tr><td>H2O cluster status:</td>\n",
       "<td>locked, healthy</td></tr>\n",
       "<tr><td>H2O connection url:</td>\n",
       "<td>http://localhost:54321</td></tr>\n",
       "<tr><td>H2O connection proxy:</td>\n",
       "<td>None</td></tr>\n",
       "<tr><td>H2O internal security:</td>\n",
       "<td>False</td></tr>\n",
       "<tr><td>H2O API Extensions:</td>\n",
       "<td>XGBoost, Algos, AutoML, Core V3, Core V4</td></tr>\n",
       "<tr><td>Python version:</td>\n",
       "<td>2.7.13 final</td></tr></table></div>"
      ],
      "text/plain": [
       "--------------------------  ----------------------------------------\n",
       "H2O cluster uptime:         1 day 1 hour 33 mins\n",
       "H2O cluster version:        3.14.0.3\n",
       "H2O cluster version age:    27 days\n",
       "H2O cluster name:           H2O_from_python_avkashchauhan_jqfer7\n",
       "H2O cluster total nodes:    1\n",
       "H2O cluster free memory:    3.234 Gb\n",
       "H2O cluster total cores:    8\n",
       "H2O cluster allowed cores:  8\n",
       "H2O cluster status:         locked, healthy\n",
       "H2O connection url:         http://localhost:54321\n",
       "H2O connection proxy:\n",
       "H2O internal security:      False\n",
       "H2O API Extensions:         XGBoost, Algos, AutoML, Core V3, Core V4\n",
       "Python version:             2.7.13 final\n",
       "--------------------------  ----------------------------------------"
      ]
     },
     "metadata": {},
     "output_type": "display_data"
    }
   ],
   "source": [
    "h2o.init()"
   ]
  },
  {
   "cell_type": "markdown",
   "metadata": {},
   "source": [
    "## Importing dataset from a public URL"
   ]
  },
  {
   "cell_type": "code",
   "execution_count": 3,
   "metadata": {},
   "outputs": [
    {
     "name": "stdout",
     "output_type": "stream",
     "text": [
      "Parse progress: |█████████████████████████████████████████████████████████| 100%\n"
     ]
    }
   ],
   "source": [
    "local_url = \"https://raw.githubusercontent.com/h2oai/sparkling-water/master/examples/smalldata/prostate/prostate.csv\"\n",
    "df = h2o.import_file(local_url)"
   ]
  },
  {
   "cell_type": "code",
   "execution_count": 4,
   "metadata": {},
   "outputs": [
    {
     "data": {
      "text/html": [
       "<table>\n",
       "<thead>\n",
       "<tr><th style=\"text-align: right;\">  ID</th><th style=\"text-align: right;\">  CAPSULE</th><th style=\"text-align: right;\">  AGE</th><th style=\"text-align: right;\">  RACE</th><th style=\"text-align: right;\">  DPROS</th><th style=\"text-align: right;\">  DCAPS</th><th style=\"text-align: right;\">  PSA</th><th style=\"text-align: right;\">  VOL</th><th style=\"text-align: right;\">  GLEASON</th></tr>\n",
       "</thead>\n",
       "<tbody>\n",
       "<tr><td style=\"text-align: right;\">   1</td><td style=\"text-align: right;\">        0</td><td style=\"text-align: right;\">   65</td><td style=\"text-align: right;\">     1</td><td style=\"text-align: right;\">      2</td><td style=\"text-align: right;\">      1</td><td style=\"text-align: right;\">  1.4</td><td style=\"text-align: right;\">  0  </td><td style=\"text-align: right;\">        6</td></tr>\n",
       "<tr><td style=\"text-align: right;\">   2</td><td style=\"text-align: right;\">        0</td><td style=\"text-align: right;\">   72</td><td style=\"text-align: right;\">     1</td><td style=\"text-align: right;\">      3</td><td style=\"text-align: right;\">      2</td><td style=\"text-align: right;\">  6.7</td><td style=\"text-align: right;\">  0  </td><td style=\"text-align: right;\">        7</td></tr>\n",
       "<tr><td style=\"text-align: right;\">   3</td><td style=\"text-align: right;\">        0</td><td style=\"text-align: right;\">   70</td><td style=\"text-align: right;\">     1</td><td style=\"text-align: right;\">      1</td><td style=\"text-align: right;\">      2</td><td style=\"text-align: right;\">  4.9</td><td style=\"text-align: right;\">  0  </td><td style=\"text-align: right;\">        6</td></tr>\n",
       "<tr><td style=\"text-align: right;\">   4</td><td style=\"text-align: right;\">        0</td><td style=\"text-align: right;\">   76</td><td style=\"text-align: right;\">     2</td><td style=\"text-align: right;\">      2</td><td style=\"text-align: right;\">      1</td><td style=\"text-align: right;\"> 51.2</td><td style=\"text-align: right;\"> 20  </td><td style=\"text-align: right;\">        7</td></tr>\n",
       "<tr><td style=\"text-align: right;\">   5</td><td style=\"text-align: right;\">        0</td><td style=\"text-align: right;\">   69</td><td style=\"text-align: right;\">     1</td><td style=\"text-align: right;\">      1</td><td style=\"text-align: right;\">      1</td><td style=\"text-align: right;\"> 12.3</td><td style=\"text-align: right;\"> 55.9</td><td style=\"text-align: right;\">        6</td></tr>\n",
       "<tr><td style=\"text-align: right;\">   6</td><td style=\"text-align: right;\">        1</td><td style=\"text-align: right;\">   71</td><td style=\"text-align: right;\">     1</td><td style=\"text-align: right;\">      3</td><td style=\"text-align: right;\">      2</td><td style=\"text-align: right;\">  3.3</td><td style=\"text-align: right;\">  0  </td><td style=\"text-align: right;\">        8</td></tr>\n",
       "<tr><td style=\"text-align: right;\">   7</td><td style=\"text-align: right;\">        0</td><td style=\"text-align: right;\">   68</td><td style=\"text-align: right;\">     2</td><td style=\"text-align: right;\">      4</td><td style=\"text-align: right;\">      2</td><td style=\"text-align: right;\"> 31.9</td><td style=\"text-align: right;\">  0  </td><td style=\"text-align: right;\">        7</td></tr>\n",
       "<tr><td style=\"text-align: right;\">   8</td><td style=\"text-align: right;\">        0</td><td style=\"text-align: right;\">   61</td><td style=\"text-align: right;\">     2</td><td style=\"text-align: right;\">      4</td><td style=\"text-align: right;\">      2</td><td style=\"text-align: right;\"> 66.7</td><td style=\"text-align: right;\"> 27.2</td><td style=\"text-align: right;\">        7</td></tr>\n",
       "<tr><td style=\"text-align: right;\">   9</td><td style=\"text-align: right;\">        0</td><td style=\"text-align: right;\">   69</td><td style=\"text-align: right;\">     1</td><td style=\"text-align: right;\">      1</td><td style=\"text-align: right;\">      1</td><td style=\"text-align: right;\">  3.9</td><td style=\"text-align: right;\"> 24  </td><td style=\"text-align: right;\">        7</td></tr>\n",
       "<tr><td style=\"text-align: right;\">  10</td><td style=\"text-align: right;\">        0</td><td style=\"text-align: right;\">   68</td><td style=\"text-align: right;\">     2</td><td style=\"text-align: right;\">      1</td><td style=\"text-align: right;\">      2</td><td style=\"text-align: right;\"> 13  </td><td style=\"text-align: right;\">  0  </td><td style=\"text-align: right;\">        6</td></tr>\n",
       "</tbody>\n",
       "</table>"
      ]
     },
     "metadata": {},
     "output_type": "display_data"
    },
    {
     "data": {
      "text/plain": []
     },
     "execution_count": 4,
     "metadata": {},
     "output_type": "execute_result"
    }
   ],
   "source": [
    "df"
   ]
  },
  {
   "cell_type": "code",
   "execution_count": 5,
   "metadata": {},
   "outputs": [
    {
     "name": "stdout",
     "output_type": "stream",
     "text": [
      "Rows:380\n",
      "Cols:9\n",
      "\n",
      "\n"
     ]
    },
    {
     "data": {
      "text/html": [
       "<table>\n",
       "<thead>\n",
       "<tr><th>       </th><th>ID           </th><th>CAPSULE       </th><th>AGE          </th><th>RACE          </th><th>DPROS        </th><th>DCAPS         </th><th>PSA          </th><th>VOL          </th><th>GLEASON      </th></tr>\n",
       "</thead>\n",
       "<tbody>\n",
       "<tr><td>type   </td><td>int          </td><td>int           </td><td>int          </td><td>int           </td><td>int          </td><td>int           </td><td>real         </td><td>real         </td><td>int          </td></tr>\n",
       "<tr><td>mins   </td><td>1.0          </td><td>0.0           </td><td>43.0         </td><td>0.0           </td><td>1.0          </td><td>1.0           </td><td>0.3          </td><td>0.0          </td><td>0.0          </td></tr>\n",
       "<tr><td>mean   </td><td>190.5        </td><td>0.402631578947</td><td>66.0394736842</td><td>1.08684210526 </td><td>2.27105263158</td><td>1.10789473684 </td><td>15.4086315789</td><td>15.8129210526</td><td>6.38421052632</td></tr>\n",
       "<tr><td>maxs   </td><td>380.0        </td><td>1.0           </td><td>79.0         </td><td>2.0           </td><td>4.0          </td><td>2.0           </td><td>139.7        </td><td>97.6         </td><td>9.0          </td></tr>\n",
       "<tr><td>sigma  </td><td>109.840793879</td><td>0.491074338963</td><td>6.52707126917</td><td>0.308773258025</td><td>1.00010761815</td><td>0.310656449351</td><td>19.9975726686</td><td>18.3476199673</td><td>1.09195337443</td></tr>\n",
       "<tr><td>zeros  </td><td>0            </td><td>227           </td><td>0            </td><td>3             </td><td>0            </td><td>0             </td><td>0            </td><td>167          </td><td>2            </td></tr>\n",
       "<tr><td>missing</td><td>0            </td><td>0             </td><td>0            </td><td>0             </td><td>0            </td><td>0             </td><td>0            </td><td>0            </td><td>0            </td></tr>\n",
       "<tr><td>0      </td><td>1.0          </td><td>0.0           </td><td>65.0         </td><td>1.0           </td><td>2.0          </td><td>1.0           </td><td>1.4          </td><td>0.0          </td><td>6.0          </td></tr>\n",
       "<tr><td>1      </td><td>2.0          </td><td>0.0           </td><td>72.0         </td><td>1.0           </td><td>3.0          </td><td>2.0           </td><td>6.7          </td><td>0.0          </td><td>7.0          </td></tr>\n",
       "<tr><td>2      </td><td>3.0          </td><td>0.0           </td><td>70.0         </td><td>1.0           </td><td>1.0          </td><td>2.0           </td><td>4.9          </td><td>0.0          </td><td>6.0          </td></tr>\n",
       "<tr><td>3      </td><td>4.0          </td><td>0.0           </td><td>76.0         </td><td>2.0           </td><td>2.0          </td><td>1.0           </td><td>51.2         </td><td>20.0         </td><td>7.0          </td></tr>\n",
       "<tr><td>4      </td><td>5.0          </td><td>0.0           </td><td>69.0         </td><td>1.0           </td><td>1.0          </td><td>1.0           </td><td>12.3         </td><td>55.9         </td><td>6.0          </td></tr>\n",
       "<tr><td>5      </td><td>6.0          </td><td>1.0           </td><td>71.0         </td><td>1.0           </td><td>3.0          </td><td>2.0           </td><td>3.3          </td><td>0.0          </td><td>8.0          </td></tr>\n",
       "<tr><td>6      </td><td>7.0          </td><td>0.0           </td><td>68.0         </td><td>2.0           </td><td>4.0          </td><td>2.0           </td><td>31.9         </td><td>0.0          </td><td>7.0          </td></tr>\n",
       "<tr><td>7      </td><td>8.0          </td><td>0.0           </td><td>61.0         </td><td>2.0           </td><td>4.0          </td><td>2.0           </td><td>66.7         </td><td>27.2         </td><td>7.0          </td></tr>\n",
       "<tr><td>8      </td><td>9.0          </td><td>0.0           </td><td>69.0         </td><td>1.0           </td><td>1.0          </td><td>1.0           </td><td>3.9          </td><td>24.0         </td><td>7.0          </td></tr>\n",
       "<tr><td>9      </td><td>10.0         </td><td>0.0           </td><td>68.0         </td><td>2.0           </td><td>1.0          </td><td>2.0           </td><td>13.0         </td><td>0.0          </td><td>6.0          </td></tr>\n",
       "</tbody>\n",
       "</table>"
      ]
     },
     "metadata": {},
     "output_type": "display_data"
    }
   ],
   "source": [
    "df.describe()"
   ]
  },
  {
   "cell_type": "markdown",
   "metadata": {},
   "source": [
    "## Setting up the feature set and response column for machine learning"
   ]
  },
  {
   "cell_type": "code",
   "execution_count": 6,
   "metadata": {
    "collapsed": true
   },
   "outputs": [],
   "source": [
    "y = \"CAPSULE\"\n",
    "feature_names = df.col_names\n",
    "feature_names.remove(y) \n",
    "df[y] = df[y].asfactor()"
   ]
  },
  {
   "cell_type": "markdown",
   "metadata": {},
   "source": [
    "## Splitting loaded dataset into training and validation dataset"
   ]
  },
  {
   "cell_type": "code",
   "execution_count": 7,
   "metadata": {},
   "outputs": [
    {
     "name": "stdout",
     "output_type": "stream",
     "text": [
      "(310, 9)\n",
      "(39, 9)\n",
      "(31, 9)\n"
     ]
    }
   ],
   "source": [
    "df_train, df_valid, df_test = df.split_frame(ratios=[0.8,0.1])\n",
    "print(df_train.shape)\n",
    "print(df_valid.shape)\n",
    "print(df_test.shape)"
   ]
  },
  {
   "cell_type": "markdown",
   "metadata": {},
   "source": [
    "## Setting up H2O GBM Esitmatior with all the GBM configuration"
   ]
  },
  {
   "cell_type": "code",
   "execution_count": 8,
   "metadata": {
    "collapsed": true
   },
   "outputs": [],
   "source": [
    "prostate_gbm = H2OGradientBoostingEstimator(model_id = \"prostate_gbm\",\n",
    "            ntrees=500,\n",
    "            learn_rate=0.001,\n",
    "            max_depth=10,\n",
    "            score_each_iteration=True)"
   ]
  },
  {
   "cell_type": "markdown",
   "metadata": {},
   "source": [
    "## Now starting the machine learning process to build a GBM model"
   ]
  },
  {
   "cell_type": "code",
   "execution_count": 9,
   "metadata": {},
   "outputs": [
    {
     "name": "stdout",
     "output_type": "stream",
     "text": [
      "gbm Model Build progress: |███████████████████████████████████████████████| 100%\n"
     ]
    }
   ],
   "source": [
    "prostate_gbm.train(x = feature_names, y = y, training_frame=df_train, validation_frame=df_valid)"
   ]
  },
  {
   "cell_type": "markdown",
   "metadata": {},
   "source": [
    "## Taking a look at our GBM model details and its metrics"
   ]
  },
  {
   "cell_type": "code",
   "execution_count": 10,
   "metadata": {},
   "outputs": [
    {
     "name": "stdout",
     "output_type": "stream",
     "text": [
      "Model Details\n",
      "=============\n",
      "H2OGradientBoostingEstimator :  Gradient Boosting Machine\n",
      "Model Key:  prostate_gbm\n",
      "\n",
      "\n",
      "ModelMetricsBinomial: gbm\n",
      "** Reported on train data. **\n",
      "\n",
      "MSE: 0.166013814678\n",
      "RMSE: 0.407447928793\n",
      "LogLoss: 0.514844884004\n",
      "Mean Per-Class Error: 0.152554935473\n",
      "AUC: 0.927254098361\n",
      "Gini: 0.854508196721\n",
      "Confusion Matrix (Act/Pred) for max f1 @ threshold = 0.427426882115: \n"
     ]
    },
    {
     "data": {
      "text/html": [
       "<div style=\"overflow:auto\"><table style=\"width:50%\"><tr><td><b></b></td>\n",
       "<td><b>0</b></td>\n",
       "<td><b>1</b></td>\n",
       "<td><b>Error</b></td>\n",
       "<td><b>Rate</b></td></tr>\n",
       "<tr><td>0</td>\n",
       "<td>163.0</td>\n",
       "<td>25.0</td>\n",
       "<td>0.133</td>\n",
       "<td> (25.0/188.0)</td></tr>\n",
       "<tr><td>1</td>\n",
       "<td>21.0</td>\n",
       "<td>101.0</td>\n",
       "<td>0.1721</td>\n",
       "<td> (21.0/122.0)</td></tr>\n",
       "<tr><td>Total</td>\n",
       "<td>184.0</td>\n",
       "<td>126.0</td>\n",
       "<td>0.1484</td>\n",
       "<td> (46.0/310.0)</td></tr></table></div>"
      ],
      "text/plain": [
       "       0    1    Error    Rate\n",
       "-----  ---  ---  -------  ------------\n",
       "0      163  25   0.133    (25.0/188.0)\n",
       "1      21   101  0.1721   (21.0/122.0)\n",
       "Total  184  126  0.1484   (46.0/310.0)"
      ]
     },
     "metadata": {},
     "output_type": "display_data"
    },
    {
     "name": "stdout",
     "output_type": "stream",
     "text": [
      "Maximum Metrics: Maximum metrics at their respective thresholds\n",
      "\n"
     ]
    },
    {
     "data": {
      "text/html": [
       "<div style=\"overflow:auto\"><table style=\"width:50%\"><tr><td><b>metric</b></td>\n",
       "<td><b>threshold</b></td>\n",
       "<td><b>value</b></td>\n",
       "<td><b>idx</b></td></tr>\n",
       "<tr><td>max f1</td>\n",
       "<td>0.4274269</td>\n",
       "<td>0.8145161</td>\n",
       "<td>99.0</td></tr>\n",
       "<tr><td>max f2</td>\n",
       "<td>0.3652881</td>\n",
       "<td>0.8850227</td>\n",
       "<td>139.0</td></tr>\n",
       "<tr><td>max f0point5</td>\n",
       "<td>0.4544117</td>\n",
       "<td>0.8333333</td>\n",
       "<td>82.0</td></tr>\n",
       "<tr><td>max accuracy</td>\n",
       "<td>0.4298423</td>\n",
       "<td>0.8516129</td>\n",
       "<td>96.0</td></tr>\n",
       "<tr><td>max precision</td>\n",
       "<td>0.6245743</td>\n",
       "<td>1.0</td>\n",
       "<td>0.0</td></tr>\n",
       "<tr><td>max recall</td>\n",
       "<td>0.2806571</td>\n",
       "<td>1.0</td>\n",
       "<td>178.0</td></tr>\n",
       "<tr><td>max specificity</td>\n",
       "<td>0.6245743</td>\n",
       "<td>1.0</td>\n",
       "<td>0.0</td></tr>\n",
       "<tr><td>max absolute_mcc</td>\n",
       "<td>0.4274269</td>\n",
       "<td>0.6911635</td>\n",
       "<td>99.0</td></tr>\n",
       "<tr><td>max min_per_class_accuracy</td>\n",
       "<td>0.4194086</td>\n",
       "<td>0.8351064</td>\n",
       "<td>106.0</td></tr>\n",
       "<tr><td>max mean_per_class_accuracy</td>\n",
       "<td>0.4274269</td>\n",
       "<td>0.8474451</td>\n",
       "<td>99.0</td></tr></table></div>"
      ],
      "text/plain": [
       "metric                       threshold    value     idx\n",
       "---------------------------  -----------  --------  -----\n",
       "max f1                       0.427427     0.814516  99\n",
       "max f2                       0.365288     0.885023  139\n",
       "max f0point5                 0.454412     0.833333  82\n",
       "max accuracy                 0.429842     0.851613  96\n",
       "max precision                0.624574     1         0\n",
       "max recall                   0.280657     1         178\n",
       "max specificity              0.624574     1         0\n",
       "max absolute_mcc             0.427427     0.691164  99\n",
       "max min_per_class_accuracy   0.419409     0.835106  106\n",
       "max mean_per_class_accuracy  0.427427     0.847445  99"
      ]
     },
     "metadata": {},
     "output_type": "display_data"
    },
    {
     "name": "stdout",
     "output_type": "stream",
     "text": [
      "Gains/Lift Table: Avg response rate: 39.35 %\n",
      "\n"
     ]
    },
    {
     "data": {
      "text/html": [
       "<div style=\"overflow:auto\"><table style=\"width:50%\"><tr><td><b></b></td>\n",
       "<td><b>group</b></td>\n",
       "<td><b>cumulative_data_fraction</b></td>\n",
       "<td><b>lower_threshold</b></td>\n",
       "<td><b>lift</b></td>\n",
       "<td><b>cumulative_lift</b></td>\n",
       "<td><b>response_rate</b></td>\n",
       "<td><b>cumulative_response_rate</b></td>\n",
       "<td><b>capture_rate</b></td>\n",
       "<td><b>cumulative_capture_rate</b></td>\n",
       "<td><b>gain</b></td>\n",
       "<td><b>cumulative_gain</b></td></tr>\n",
       "<tr><td></td>\n",
       "<td>1</td>\n",
       "<td>0.0129032</td>\n",
       "<td>0.6180490</td>\n",
       "<td>2.5409836</td>\n",
       "<td>2.5409836</td>\n",
       "<td>1.0</td>\n",
       "<td>1.0</td>\n",
       "<td>0.0327869</td>\n",
       "<td>0.0327869</td>\n",
       "<td>154.0983607</td>\n",
       "<td>154.0983607</td></tr>\n",
       "<tr><td></td>\n",
       "<td>2</td>\n",
       "<td>0.0322581</td>\n",
       "<td>0.6144981</td>\n",
       "<td>2.5409836</td>\n",
       "<td>2.5409836</td>\n",
       "<td>1.0</td>\n",
       "<td>1.0</td>\n",
       "<td>0.0491803</td>\n",
       "<td>0.0819672</td>\n",
       "<td>154.0983607</td>\n",
       "<td>154.0983607</td></tr>\n",
       "<tr><td></td>\n",
       "<td>3</td>\n",
       "<td>0.0322581</td>\n",
       "<td>0.6144858</td>\n",
       "<td>0.0</td>\n",
       "<td>2.5409836</td>\n",
       "<td>0.0</td>\n",
       "<td>1.0</td>\n",
       "<td>0.0</td>\n",
       "<td>0.0819672</td>\n",
       "<td>-100.0</td>\n",
       "<td>154.0983607</td></tr>\n",
       "<tr><td></td>\n",
       "<td>4</td>\n",
       "<td>0.0419355</td>\n",
       "<td>0.6077297</td>\n",
       "<td>2.5409836</td>\n",
       "<td>2.5409836</td>\n",
       "<td>1.0</td>\n",
       "<td>1.0</td>\n",
       "<td>0.0245902</td>\n",
       "<td>0.1065574</td>\n",
       "<td>154.0983607</td>\n",
       "<td>154.0983607</td></tr>\n",
       "<tr><td></td>\n",
       "<td>5</td>\n",
       "<td>0.0516129</td>\n",
       "<td>0.6034665</td>\n",
       "<td>2.5409836</td>\n",
       "<td>2.5409836</td>\n",
       "<td>1.0</td>\n",
       "<td>1.0</td>\n",
       "<td>0.0245902</td>\n",
       "<td>0.1311475</td>\n",
       "<td>154.0983607</td>\n",
       "<td>154.0983607</td></tr>\n",
       "<tr><td></td>\n",
       "<td>6</td>\n",
       "<td>0.1</td>\n",
       "<td>0.5655630</td>\n",
       "<td>2.5409836</td>\n",
       "<td>2.5409836</td>\n",
       "<td>1.0</td>\n",
       "<td>1.0</td>\n",
       "<td>0.1229508</td>\n",
       "<td>0.2540984</td>\n",
       "<td>154.0983607</td>\n",
       "<td>154.0983607</td></tr>\n",
       "<tr><td></td>\n",
       "<td>7</td>\n",
       "<td>0.1580645</td>\n",
       "<td>0.5375112</td>\n",
       "<td>2.2586521</td>\n",
       "<td>2.4372700</td>\n",
       "<td>0.8888889</td>\n",
       "<td>0.9591837</td>\n",
       "<td>0.1311475</td>\n",
       "<td>0.3852459</td>\n",
       "<td>125.8652095</td>\n",
       "<td>143.7269990</td></tr>\n",
       "<tr><td></td>\n",
       "<td>8</td>\n",
       "<td>0.2</td>\n",
       "<td>0.5201386</td>\n",
       "<td>2.1500631</td>\n",
       "<td>2.3770492</td>\n",
       "<td>0.8461538</td>\n",
       "<td>0.9354839</td>\n",
       "<td>0.0901639</td>\n",
       "<td>0.4754098</td>\n",
       "<td>115.0063052</td>\n",
       "<td>137.7049180</td></tr>\n",
       "<tr><td></td>\n",
       "<td>9</td>\n",
       "<td>0.3</td>\n",
       "<td>0.4787807</td>\n",
       "<td>1.8852459</td>\n",
       "<td>2.2131148</td>\n",
       "<td>0.7419355</td>\n",
       "<td>0.8709677</td>\n",
       "<td>0.1885246</td>\n",
       "<td>0.6639344</td>\n",
       "<td>88.5245902</td>\n",
       "<td>121.3114754</td></tr>\n",
       "<tr><td></td>\n",
       "<td>10</td>\n",
       "<td>0.4</td>\n",
       "<td>0.4279131</td>\n",
       "<td>1.5573770</td>\n",
       "<td>2.0491803</td>\n",
       "<td>0.6129032</td>\n",
       "<td>0.8064516</td>\n",
       "<td>0.1557377</td>\n",
       "<td>0.8196721</td>\n",
       "<td>55.7377049</td>\n",
       "<td>104.9180328</td></tr>\n",
       "<tr><td></td>\n",
       "<td>11</td>\n",
       "<td>0.5</td>\n",
       "<td>0.3898614</td>\n",
       "<td>0.9016393</td>\n",
       "<td>1.8196721</td>\n",
       "<td>0.3548387</td>\n",
       "<td>0.7161290</td>\n",
       "<td>0.0901639</td>\n",
       "<td>0.9098361</td>\n",
       "<td>-9.8360656</td>\n",
       "<td>81.9672131</td></tr>\n",
       "<tr><td></td>\n",
       "<td>12</td>\n",
       "<td>0.6</td>\n",
       "<td>0.3446981</td>\n",
       "<td>0.5737705</td>\n",
       "<td>1.6120219</td>\n",
       "<td>0.2258065</td>\n",
       "<td>0.6344086</td>\n",
       "<td>0.0573770</td>\n",
       "<td>0.9672131</td>\n",
       "<td>-42.6229508</td>\n",
       "<td>61.2021858</td></tr>\n",
       "<tr><td></td>\n",
       "<td>13</td>\n",
       "<td>0.7</td>\n",
       "<td>0.2875602</td>\n",
       "<td>0.2459016</td>\n",
       "<td>1.4168618</td>\n",
       "<td>0.0967742</td>\n",
       "<td>0.5576037</td>\n",
       "<td>0.0245902</td>\n",
       "<td>0.9918033</td>\n",
       "<td>-75.4098361</td>\n",
       "<td>41.6861827</td></tr>\n",
       "<tr><td></td>\n",
       "<td>14</td>\n",
       "<td>0.8</td>\n",
       "<td>0.2593554</td>\n",
       "<td>0.0819672</td>\n",
       "<td>1.25</td>\n",
       "<td>0.0322581</td>\n",
       "<td>0.4919355</td>\n",
       "<td>0.0081967</td>\n",
       "<td>1.0</td>\n",
       "<td>-91.8032787</td>\n",
       "<td>25.0</td></tr>\n",
       "<tr><td></td>\n",
       "<td>15</td>\n",
       "<td>0.9</td>\n",
       "<td>0.2426237</td>\n",
       "<td>0.0</td>\n",
       "<td>1.1111111</td>\n",
       "<td>0.0</td>\n",
       "<td>0.4372760</td>\n",
       "<td>0.0</td>\n",
       "<td>1.0</td>\n",
       "<td>-100.0</td>\n",
       "<td>11.1111111</td></tr>\n",
       "<tr><td></td>\n",
       "<td>16</td>\n",
       "<td>1.0</td>\n",
       "<td>0.2354661</td>\n",
       "<td>0.0</td>\n",
       "<td>1.0</td>\n",
       "<td>0.0</td>\n",
       "<td>0.3935484</td>\n",
       "<td>0.0</td>\n",
       "<td>1.0</td>\n",
       "<td>-100.0</td>\n",
       "<td>0.0</td></tr></table></div>"
      ],
      "text/plain": [
       "    group    cumulative_data_fraction    lower_threshold    lift       cumulative_lift    response_rate    cumulative_response_rate    capture_rate    cumulative_capture_rate    gain      cumulative_gain\n",
       "--  -------  --------------------------  -----------------  ---------  -----------------  ---------------  --------------------------  --------------  -------------------------  --------  -----------------\n",
       "    1        0.0129032                   0.618049           2.54098    2.54098            1                1                           0.0327869       0.0327869                  154.098   154.098\n",
       "    2        0.0322581                   0.614498           2.54098    2.54098            1                1                           0.0491803       0.0819672                  154.098   154.098\n",
       "    3        0.0322581                   0.614486           0          2.54098            0                1                           0               0.0819672                  -100      154.098\n",
       "    4        0.0419355                   0.60773            2.54098    2.54098            1                1                           0.0245902       0.106557                   154.098   154.098\n",
       "    5        0.0516129                   0.603466           2.54098    2.54098            1                1                           0.0245902       0.131148                   154.098   154.098\n",
       "    6        0.1                         0.565563           2.54098    2.54098            1                1                           0.122951        0.254098                   154.098   154.098\n",
       "    7        0.158065                    0.537511           2.25865    2.43727            0.888889         0.959184                    0.131148        0.385246                   125.865   143.727\n",
       "    8        0.2                         0.520139           2.15006    2.37705            0.846154         0.935484                    0.0901639       0.47541                    115.006   137.705\n",
       "    9        0.3                         0.478781           1.88525    2.21311            0.741935         0.870968                    0.188525        0.663934                   88.5246   121.311\n",
       "    10       0.4                         0.427913           1.55738    2.04918            0.612903         0.806452                    0.155738        0.819672                   55.7377   104.918\n",
       "    11       0.5                         0.389861           0.901639   1.81967            0.354839         0.716129                    0.0901639       0.909836                   -9.83607  81.9672\n",
       "    12       0.6                         0.344698           0.57377    1.61202            0.225806         0.634409                    0.057377        0.967213                   -42.623   61.2022\n",
       "    13       0.7                         0.28756            0.245902   1.41686            0.0967742        0.557604                    0.0245902       0.991803                   -75.4098  41.6862\n",
       "    14       0.8                         0.259355           0.0819672  1.25               0.0322581        0.491935                    0.00819672      1                          -91.8033  25\n",
       "    15       0.9                         0.242624           0          1.11111            0                0.437276                    0               1                          -100      11.1111\n",
       "    16       1                           0.235466           0          1                  0                0.393548                    0               1                          -100      0"
      ]
     },
     "metadata": {},
     "output_type": "display_data"
    },
    {
     "name": "stdout",
     "output_type": "stream",
     "text": [
      "\n",
      "\n",
      "ModelMetricsBinomial: gbm\n",
      "** Reported on validation data. **\n",
      "\n",
      "MSE: 0.208534611631\n",
      "RMSE: 0.456655900685\n",
      "LogLoss: 0.60609018809\n",
      "Mean Per-Class Error: 0.230263157895\n",
      "AUC: 0.802631578947\n",
      "Gini: 0.605263157895\n",
      "Confusion Matrix (Act/Pred) for max f1 @ threshold = 0.420397912283: \n"
     ]
    },
    {
     "data": {
      "text/html": [
       "<div style=\"overflow:auto\"><table style=\"width:50%\"><tr><td><b></b></td>\n",
       "<td><b>0</b></td>\n",
       "<td><b>1</b></td>\n",
       "<td><b>Error</b></td>\n",
       "<td><b>Rate</b></td></tr>\n",
       "<tr><td>0</td>\n",
       "<td>15.0</td>\n",
       "<td>5.0</td>\n",
       "<td>0.25</td>\n",
       "<td> (5.0/20.0)</td></tr>\n",
       "<tr><td>1</td>\n",
       "<td>4.0</td>\n",
       "<td>15.0</td>\n",
       "<td>0.2105</td>\n",
       "<td> (4.0/19.0)</td></tr>\n",
       "<tr><td>Total</td>\n",
       "<td>19.0</td>\n",
       "<td>20.0</td>\n",
       "<td>0.2308</td>\n",
       "<td> (9.0/39.0)</td></tr></table></div>"
      ],
      "text/plain": [
       "       0    1    Error    Rate\n",
       "-----  ---  ---  -------  ----------\n",
       "0      15   5    0.25     (5.0/20.0)\n",
       "1      4    15   0.2105   (4.0/19.0)\n",
       "Total  19   20   0.2308   (9.0/39.0)"
      ]
     },
     "metadata": {},
     "output_type": "display_data"
    },
    {
     "name": "stdout",
     "output_type": "stream",
     "text": [
      "Maximum Metrics: Maximum metrics at their respective thresholds\n",
      "\n"
     ]
    },
    {
     "data": {
      "text/html": [
       "<div style=\"overflow:auto\"><table style=\"width:50%\"><tr><td><b>metric</b></td>\n",
       "<td><b>threshold</b></td>\n",
       "<td><b>value</b></td>\n",
       "<td><b>idx</b></td></tr>\n",
       "<tr><td>max f1</td>\n",
       "<td>0.4203979</td>\n",
       "<td>0.7692308</td>\n",
       "<td>18.0</td></tr>\n",
       "<tr><td>max f2</td>\n",
       "<td>0.2613442</td>\n",
       "<td>0.8571429</td>\n",
       "<td>27.0</td></tr>\n",
       "<tr><td>max f0point5</td>\n",
       "<td>0.4696711</td>\n",
       "<td>0.7594937</td>\n",
       "<td>13.0</td></tr>\n",
       "<tr><td>max accuracy</td>\n",
       "<td>0.4203979</td>\n",
       "<td>0.7692308</td>\n",
       "<td>18.0</td></tr>\n",
       "<tr><td>max precision</td>\n",
       "<td>0.6144981</td>\n",
       "<td>1.0</td>\n",
       "<td>0.0</td></tr>\n",
       "<tr><td>max recall</td>\n",
       "<td>0.2412997</td>\n",
       "<td>1.0</td>\n",
       "<td>34.0</td></tr>\n",
       "<tr><td>max specificity</td>\n",
       "<td>0.6144981</td>\n",
       "<td>1.0</td>\n",
       "<td>0.0</td></tr>\n",
       "<tr><td>max absolute_mcc</td>\n",
       "<td>0.4203979</td>\n",
       "<td>0.5394737</td>\n",
       "<td>18.0</td></tr>\n",
       "<tr><td>max min_per_class_accuracy</td>\n",
       "<td>0.4203979</td>\n",
       "<td>0.75</td>\n",
       "<td>18.0</td></tr>\n",
       "<tr><td>max mean_per_class_accuracy</td>\n",
       "<td>0.4203979</td>\n",
       "<td>0.7697368</td>\n",
       "<td>18.0</td></tr></table></div>"
      ],
      "text/plain": [
       "metric                       threshold    value     idx\n",
       "---------------------------  -----------  --------  -----\n",
       "max f1                       0.420398     0.769231  18\n",
       "max f2                       0.261344     0.857143  27\n",
       "max f0point5                 0.469671     0.759494  13\n",
       "max accuracy                 0.420398     0.769231  18\n",
       "max precision                0.614498     1         0\n",
       "max recall                   0.2413       1         34\n",
       "max specificity              0.614498     1         0\n",
       "max absolute_mcc             0.420398     0.539474  18\n",
       "max min_per_class_accuracy   0.420398     0.75      18\n",
       "max mean_per_class_accuracy  0.420398     0.769737  18"
      ]
     },
     "metadata": {},
     "output_type": "display_data"
    },
    {
     "name": "stdout",
     "output_type": "stream",
     "text": [
      "Gains/Lift Table: Avg response rate: 48.72 %\n",
      "\n"
     ]
    },
    {
     "data": {
      "text/html": [
       "<div style=\"overflow:auto\"><table style=\"width:50%\"><tr><td><b></b></td>\n",
       "<td><b>group</b></td>\n",
       "<td><b>cumulative_data_fraction</b></td>\n",
       "<td><b>lower_threshold</b></td>\n",
       "<td><b>lift</b></td>\n",
       "<td><b>cumulative_lift</b></td>\n",
       "<td><b>response_rate</b></td>\n",
       "<td><b>cumulative_response_rate</b></td>\n",
       "<td><b>capture_rate</b></td>\n",
       "<td><b>cumulative_capture_rate</b></td>\n",
       "<td><b>gain</b></td>\n",
       "<td><b>cumulative_gain</b></td></tr>\n",
       "<tr><td></td>\n",
       "<td>1</td>\n",
       "<td>0.0256410</td>\n",
       "<td>0.5980799</td>\n",
       "<td>2.0526316</td>\n",
       "<td>2.0526316</td>\n",
       "<td>1.0</td>\n",
       "<td>1.0</td>\n",
       "<td>0.0526316</td>\n",
       "<td>0.0526316</td>\n",
       "<td>105.2631579</td>\n",
       "<td>105.2631579</td></tr>\n",
       "<tr><td></td>\n",
       "<td>2</td>\n",
       "<td>0.0256410</td>\n",
       "<td>0.5816617</td>\n",
       "<td>0.0</td>\n",
       "<td>2.0526316</td>\n",
       "<td>0.0</td>\n",
       "<td>1.0</td>\n",
       "<td>0.0</td>\n",
       "<td>0.0526316</td>\n",
       "<td>-100.0</td>\n",
       "<td>105.2631579</td></tr>\n",
       "<tr><td></td>\n",
       "<td>3</td>\n",
       "<td>0.0512821</td>\n",
       "<td>0.5695202</td>\n",
       "<td>2.0526316</td>\n",
       "<td>2.0526316</td>\n",
       "<td>1.0</td>\n",
       "<td>1.0</td>\n",
       "<td>0.0526316</td>\n",
       "<td>0.1052632</td>\n",
       "<td>105.2631579</td>\n",
       "<td>105.2631579</td></tr>\n",
       "<tr><td></td>\n",
       "<td>4</td>\n",
       "<td>0.0512821</td>\n",
       "<td>0.5647104</td>\n",
       "<td>0.0</td>\n",
       "<td>2.0526316</td>\n",
       "<td>0.0</td>\n",
       "<td>1.0</td>\n",
       "<td>0.0</td>\n",
       "<td>0.1052632</td>\n",
       "<td>-100.0</td>\n",
       "<td>105.2631579</td></tr>\n",
       "<tr><td></td>\n",
       "<td>5</td>\n",
       "<td>0.0512821</td>\n",
       "<td>0.5599006</td>\n",
       "<td>0.0</td>\n",
       "<td>2.0526316</td>\n",
       "<td>0.0</td>\n",
       "<td>1.0</td>\n",
       "<td>0.0</td>\n",
       "<td>0.1052632</td>\n",
       "<td>-100.0</td>\n",
       "<td>105.2631579</td></tr>\n",
       "<tr><td></td>\n",
       "<td>6</td>\n",
       "<td>0.1025641</td>\n",
       "<td>0.5371191</td>\n",
       "<td>2.0526316</td>\n",
       "<td>2.0526316</td>\n",
       "<td>1.0</td>\n",
       "<td>1.0</td>\n",
       "<td>0.1052632</td>\n",
       "<td>0.2105263</td>\n",
       "<td>105.2631579</td>\n",
       "<td>105.2631579</td></tr>\n",
       "<tr><td></td>\n",
       "<td>7</td>\n",
       "<td>0.1538462</td>\n",
       "<td>0.5337983</td>\n",
       "<td>2.0526316</td>\n",
       "<td>2.0526316</td>\n",
       "<td>1.0</td>\n",
       "<td>1.0</td>\n",
       "<td>0.1052632</td>\n",
       "<td>0.3157895</td>\n",
       "<td>105.2631579</td>\n",
       "<td>105.2631579</td></tr>\n",
       "<tr><td></td>\n",
       "<td>8</td>\n",
       "<td>0.2051282</td>\n",
       "<td>0.5143422</td>\n",
       "<td>1.0263158</td>\n",
       "<td>1.7960526</td>\n",
       "<td>0.5</td>\n",
       "<td>0.875</td>\n",
       "<td>0.0526316</td>\n",
       "<td>0.3684211</td>\n",
       "<td>2.6315789</td>\n",
       "<td>79.6052632</td></tr>\n",
       "<tr><td></td>\n",
       "<td>9</td>\n",
       "<td>0.3076923</td>\n",
       "<td>0.5063071</td>\n",
       "<td>1.0263158</td>\n",
       "<td>1.5394737</td>\n",
       "<td>0.5</td>\n",
       "<td>0.75</td>\n",
       "<td>0.1052632</td>\n",
       "<td>0.4736842</td>\n",
       "<td>2.6315789</td>\n",
       "<td>53.9473684</td></tr>\n",
       "<tr><td></td>\n",
       "<td>10</td>\n",
       "<td>0.4102564</td>\n",
       "<td>0.4597520</td>\n",
       "<td>1.5394737</td>\n",
       "<td>1.5394737</td>\n",
       "<td>0.75</td>\n",
       "<td>0.75</td>\n",
       "<td>0.1578947</td>\n",
       "<td>0.6315789</td>\n",
       "<td>53.9473684</td>\n",
       "<td>53.9473684</td></tr>\n",
       "<tr><td></td>\n",
       "<td>11</td>\n",
       "<td>0.5128205</td>\n",
       "<td>0.4203979</td>\n",
       "<td>1.5394737</td>\n",
       "<td>1.5394737</td>\n",
       "<td>0.75</td>\n",
       "<td>0.75</td>\n",
       "<td>0.1578947</td>\n",
       "<td>0.7894737</td>\n",
       "<td>53.9473684</td>\n",
       "<td>53.9473684</td></tr>\n",
       "<tr><td></td>\n",
       "<td>12</td>\n",
       "<td>0.5897436</td>\n",
       "<td>0.3642597</td>\n",
       "<td>0.6842105</td>\n",
       "<td>1.4279176</td>\n",
       "<td>0.3333333</td>\n",
       "<td>0.6956522</td>\n",
       "<td>0.0526316</td>\n",
       "<td>0.8421053</td>\n",
       "<td>-31.5789474</td>\n",
       "<td>42.7917620</td></tr>\n",
       "<tr><td></td>\n",
       "<td>13</td>\n",
       "<td>0.6923077</td>\n",
       "<td>0.2726018</td>\n",
       "<td>0.5131579</td>\n",
       "<td>1.2923977</td>\n",
       "<td>0.25</td>\n",
       "<td>0.6296296</td>\n",
       "<td>0.0526316</td>\n",
       "<td>0.8947368</td>\n",
       "<td>-48.6842105</td>\n",
       "<td>29.2397661</td></tr>\n",
       "<tr><td></td>\n",
       "<td>14</td>\n",
       "<td>0.8205128</td>\n",
       "<td>0.2540996</td>\n",
       "<td>0.4105263</td>\n",
       "<td>1.1546053</td>\n",
       "<td>0.2</td>\n",
       "<td>0.5625</td>\n",
       "<td>0.0526316</td>\n",
       "<td>0.9473684</td>\n",
       "<td>-58.9473684</td>\n",
       "<td>15.4605263</td></tr>\n",
       "<tr><td></td>\n",
       "<td>15</td>\n",
       "<td>0.8974359</td>\n",
       "<td>0.2417193</td>\n",
       "<td>0.0</td>\n",
       "<td>1.0556391</td>\n",
       "<td>0.0</td>\n",
       "<td>0.5142857</td>\n",
       "<td>0.0</td>\n",
       "<td>0.9473684</td>\n",
       "<td>-100.0</td>\n",
       "<td>5.5639098</td></tr>\n",
       "<tr><td></td>\n",
       "<td>16</td>\n",
       "<td>1.0</td>\n",
       "<td>0.2354661</td>\n",
       "<td>0.5131579</td>\n",
       "<td>1.0</td>\n",
       "<td>0.25</td>\n",
       "<td>0.4871795</td>\n",
       "<td>0.0526316</td>\n",
       "<td>1.0</td>\n",
       "<td>-48.6842105</td>\n",
       "<td>0.0</td></tr></table></div>"
      ],
      "text/plain": [
       "    group    cumulative_data_fraction    lower_threshold    lift      cumulative_lift    response_rate    cumulative_response_rate    capture_rate    cumulative_capture_rate    gain      cumulative_gain\n",
       "--  -------  --------------------------  -----------------  --------  -----------------  ---------------  --------------------------  --------------  -------------------------  --------  -----------------\n",
       "    1        0.025641                    0.59808            2.05263   2.05263            1                1                           0.0526316       0.0526316                  105.263   105.263\n",
       "    2        0.025641                    0.581662           0         2.05263            0                1                           0               0.0526316                  -100      105.263\n",
       "    3        0.0512821                   0.56952            2.05263   2.05263            1                1                           0.0526316       0.105263                   105.263   105.263\n",
       "    4        0.0512821                   0.56471            0         2.05263            0                1                           0               0.105263                   -100      105.263\n",
       "    5        0.0512821                   0.559901           0         2.05263            0                1                           0               0.105263                   -100      105.263\n",
       "    6        0.102564                    0.537119           2.05263   2.05263            1                1                           0.105263        0.210526                   105.263   105.263\n",
       "    7        0.153846                    0.533798           2.05263   2.05263            1                1                           0.105263        0.315789                   105.263   105.263\n",
       "    8        0.205128                    0.514342           1.02632   1.79605            0.5              0.875                       0.0526316       0.368421                   2.63158   79.6053\n",
       "    9        0.307692                    0.506307           1.02632   1.53947            0.5              0.75                        0.105263        0.473684                   2.63158   53.9474\n",
       "    10       0.410256                    0.459752           1.53947   1.53947            0.75             0.75                        0.157895        0.631579                   53.9474   53.9474\n",
       "    11       0.512821                    0.420398           1.53947   1.53947            0.75             0.75                        0.157895        0.789474                   53.9474   53.9474\n",
       "    12       0.589744                    0.36426            0.684211  1.42792            0.333333         0.695652                    0.0526316       0.842105                   -31.5789  42.7918\n",
       "    13       0.692308                    0.272602           0.513158  1.2924             0.25             0.62963                     0.0526316       0.894737                   -48.6842  29.2398\n",
       "    14       0.820513                    0.2541             0.410526  1.15461            0.2              0.5625                      0.0526316       0.947368                   -58.9474  15.4605\n",
       "    15       0.897436                    0.241719           0         1.05564            0                0.514286                    0               0.947368                   -100      5.56391\n",
       "    16       1                           0.235466           0.513158  1                  0.25             0.487179                    0.0526316       1                          -48.6842  0"
      ]
     },
     "metadata": {},
     "output_type": "display_data"
    },
    {
     "name": "stdout",
     "output_type": "stream",
     "text": [
      "\n",
      "Scoring History: \n"
     ]
    },
    {
     "data": {
      "text/html": [
       "<div style=\"overflow:auto\"><table style=\"width:50%\"><tr><td><b></b></td>\n",
       "<td><b>timestamp</b></td>\n",
       "<td><b>duration</b></td>\n",
       "<td><b>number_of_trees</b></td>\n",
       "<td><b>training_rmse</b></td>\n",
       "<td><b>training_logloss</b></td>\n",
       "<td><b>training_auc</b></td>\n",
       "<td><b>training_lift</b></td>\n",
       "<td><b>training_classification_error</b></td>\n",
       "<td><b>validation_rmse</b></td>\n",
       "<td><b>validation_logloss</b></td>\n",
       "<td><b>validation_auc</b></td>\n",
       "<td><b>validation_lift</b></td>\n",
       "<td><b>validation_classification_error</b></td></tr>\n",
       "<tr><td></td>\n",
       "<td>2017-10-19 22:00:53</td>\n",
       "<td> 0.001 sec</td>\n",
       "<td>0.0</td>\n",
       "<td>0.4885366</td>\n",
       "<td>0.6703089</td>\n",
       "<td>0.5</td>\n",
       "<td>1.0</td>\n",
       "<td>0.6064516</td>\n",
       "<td>0.5085297</td>\n",
       "<td>0.7107969</td>\n",
       "<td>0.5</td>\n",
       "<td>1.0</td>\n",
       "<td>0.5128205</td></tr>\n",
       "<tr><td></td>\n",
       "<td>2017-10-19 22:00:53</td>\n",
       "<td> 0.008 sec</td>\n",
       "<td>1.0</td>\n",
       "<td>0.4883373</td>\n",
       "<td>0.6699010</td>\n",
       "<td>0.8711632</td>\n",
       "<td>2.4072476</td>\n",
       "<td>0.2451613</td>\n",
       "<td>0.5083423</td>\n",
       "<td>0.7103979</td>\n",
       "<td>0.8381579</td>\n",
       "<td>2.0526316</td>\n",
       "<td>0.2307692</td></tr>\n",
       "<tr><td></td>\n",
       "<td>2017-10-19 22:00:53</td>\n",
       "<td> 0.014 sec</td>\n",
       "<td>2.0</td>\n",
       "<td>0.4881383</td>\n",
       "<td>0.6694939</td>\n",
       "<td>0.8729290</td>\n",
       "<td>2.4072476</td>\n",
       "<td>0.2387097</td>\n",
       "<td>0.5081569</td>\n",
       "<td>0.7100031</td>\n",
       "<td>0.8315789</td>\n",
       "<td>2.0526316</td>\n",
       "<td>0.2307692</td></tr>\n",
       "<tr><td></td>\n",
       "<td>2017-10-19 22:00:53</td>\n",
       "<td> 0.021 sec</td>\n",
       "<td>3.0</td>\n",
       "<td>0.4879396</td>\n",
       "<td>0.6690877</td>\n",
       "<td>0.8726238</td>\n",
       "<td>2.4072476</td>\n",
       "<td>0.2419355</td>\n",
       "<td>0.5079682</td>\n",
       "<td>0.7096015</td>\n",
       "<td>0.8421053</td>\n",
       "<td>2.0526316</td>\n",
       "<td>0.2051282</td></tr>\n",
       "<tr><td></td>\n",
       "<td>2017-10-19 22:00:53</td>\n",
       "<td> 0.027 sec</td>\n",
       "<td>4.0</td>\n",
       "<td>0.4877412</td>\n",
       "<td>0.6686823</td>\n",
       "<td>0.8724058</td>\n",
       "<td>2.4072476</td>\n",
       "<td>0.2419355</td>\n",
       "<td>0.5077834</td>\n",
       "<td>0.7092085</td>\n",
       "<td>0.8421053</td>\n",
       "<td>2.0526316</td>\n",
       "<td>0.2051282</td></tr>\n",
       "<tr><td>---</td>\n",
       "<td>---</td>\n",
       "<td>---</td>\n",
       "<td>---</td>\n",
       "<td>---</td>\n",
       "<td>---</td>\n",
       "<td>---</td>\n",
       "<td>---</td>\n",
       "<td>---</td>\n",
       "<td>---</td>\n",
       "<td>---</td>\n",
       "<td>---</td>\n",
       "<td>---</td>\n",
       "<td>---</td></tr>\n",
       "<tr><td></td>\n",
       "<td>2017-10-19 22:01:05</td>\n",
       "<td>11.747 sec</td>\n",
       "<td>496.0</td>\n",
       "<td>0.4079555</td>\n",
       "<td>0.5157755</td>\n",
       "<td>0.9268617</td>\n",
       "<td>2.5409836</td>\n",
       "<td>0.1483871</td>\n",
       "<td>0.4570174</td>\n",
       "<td>0.6067789</td>\n",
       "<td>0.8026316</td>\n",
       "<td>2.0526316</td>\n",
       "<td>0.2307692</td></tr>\n",
       "<tr><td></td>\n",
       "<td>2017-10-19 22:01:05</td>\n",
       "<td>11.790 sec</td>\n",
       "<td>497.0</td>\n",
       "<td>0.4078285</td>\n",
       "<td>0.5155416</td>\n",
       "<td>0.9269925</td>\n",
       "<td>2.5409836</td>\n",
       "<td>0.1483871</td>\n",
       "<td>0.4569379</td>\n",
       "<td>0.6066274</td>\n",
       "<td>0.8026316</td>\n",
       "<td>2.0526316</td>\n",
       "<td>0.2307692</td></tr>\n",
       "<tr><td></td>\n",
       "<td>2017-10-19 22:01:05</td>\n",
       "<td>11.832 sec</td>\n",
       "<td>498.0</td>\n",
       "<td>0.4077046</td>\n",
       "<td>0.5153123</td>\n",
       "<td>0.9269489</td>\n",
       "<td>2.5409836</td>\n",
       "<td>0.1483871</td>\n",
       "<td>0.4568549</td>\n",
       "<td>0.6064678</td>\n",
       "<td>0.8026316</td>\n",
       "<td>2.0526316</td>\n",
       "<td>0.2307692</td></tr>\n",
       "<tr><td></td>\n",
       "<td>2017-10-19 22:01:05</td>\n",
       "<td>11.874 sec</td>\n",
       "<td>499.0</td>\n",
       "<td>0.4075745</td>\n",
       "<td>0.5150771</td>\n",
       "<td>0.9271233</td>\n",
       "<td>2.5409836</td>\n",
       "<td>0.1483871</td>\n",
       "<td>0.4567369</td>\n",
       "<td>0.6062458</td>\n",
       "<td>0.8026316</td>\n",
       "<td>2.0526316</td>\n",
       "<td>0.2307692</td></tr>\n",
       "<tr><td></td>\n",
       "<td>2017-10-19 22:01:05</td>\n",
       "<td>11.916 sec</td>\n",
       "<td>500.0</td>\n",
       "<td>0.4074479</td>\n",
       "<td>0.5148449</td>\n",
       "<td>0.9272541</td>\n",
       "<td>2.5409836</td>\n",
       "<td>0.1483871</td>\n",
       "<td>0.4566559</td>\n",
       "<td>0.6060902</td>\n",
       "<td>0.8026316</td>\n",
       "<td>2.0526316</td>\n",
       "<td>0.2307692</td></tr></table></div>"
      ],
      "text/plain": [
       "     timestamp            duration    number_of_trees    training_rmse    training_logloss    training_auc    training_lift    training_classification_error    validation_rmse    validation_logloss    validation_auc    validation_lift    validation_classification_error\n",
       "---  -------------------  ----------  -----------------  ---------------  ------------------  --------------  ---------------  -------------------------------  -----------------  --------------------  ----------------  -----------------  ---------------------------------\n",
       "     2017-10-19 22:00:53  0.001 sec   0.0                0.488536645617   0.670308889513      0.5             1.0              0.606451612903                   0.508529662216     0.710796935773        0.5               1.0                0.512820512821\n",
       "     2017-10-19 22:00:53  0.008 sec   1.0                0.488337314501   0.669900975081      0.871163236833  2.40724762726    0.245161290323                   0.50834231194      0.710397851446        0.838157894737    2.05263157895      0.230769230769\n",
       "     2017-10-19 22:00:53  0.014 sec   2.0                0.488138298512   0.669493909396      0.872929019881  2.40724762726    0.238709677419                   0.508156893906     0.710003091454        0.831578947368    2.05263157895      0.230769230769\n",
       "     2017-10-19 22:00:53  0.021 sec   3.0                0.487939599041   0.669087693358      0.872623822811  2.40724762726    0.241935483871                   0.507968183375     0.709601521439        0.842105263158    2.05263157895      0.205128205128\n",
       "     2017-10-19 22:00:53  0.027 sec   4.0                0.487741215536   0.668682324452      0.872405824904  2.40724762726    0.241935483871                   0.507783383728     0.709208487911        0.842105263158    2.05263157895      0.205128205128\n",
       "---  ---                  ---         ---                ---              ---                 ---             ---              ---                              ---                ---                   ---               ---                ---\n",
       "     2017-10-19 22:01:05  11.747 sec  496.0              0.407955467989   0.515775460936      0.926861702128  2.54098360656    0.148387096774                   0.457017386771     0.606778861938        0.802631578947    2.05263157895      0.230769230769\n",
       "     2017-10-19 22:01:05  11.790 sec  497.0              0.407828508318   0.515541631071      0.926992500872  2.54098360656    0.148387096774                   0.456937910289     0.606627378937        0.802631578947    2.05263157895      0.230769230769\n",
       "     2017-10-19 22:01:05  11.832 sec  498.0              0.40770461527    0.515312268989      0.926948901291  2.54098360656    0.148387096774                   0.456854895969     0.606467846887        0.802631578947    2.05263157895      0.230769230769\n",
       "     2017-10-19 22:01:05  11.874 sec  499.0              0.407574456164   0.515077139803      0.927123299616  2.54098360656    0.148387096774                   0.456736906709     0.606245838808        0.802631578947    2.05263157895      0.230769230769\n",
       "     2017-10-19 22:01:05  11.916 sec  500.0              0.407447928793   0.514844884004      0.927254098361  2.54098360656    0.148387096774                   0.456655900685     0.60609018809         0.802631578947    2.05263157895      0.230769230769"
      ]
     },
     "metadata": {},
     "output_type": "display_data"
    },
    {
     "name": "stdout",
     "output_type": "stream",
     "text": [
      "\n",
      "See the whole table with table.as_data_frame()\n",
      "Variable Importances: \n"
     ]
    },
    {
     "data": {
      "text/html": [
       "<div style=\"overflow:auto\"><table style=\"width:50%\"><tr><td><b>variable</b></td>\n",
       "<td><b>relative_importance</b></td>\n",
       "<td><b>scaled_importance</b></td>\n",
       "<td><b>percentage</b></td></tr>\n",
       "<tr><td>GLEASON</td>\n",
       "<td>4799.4150391</td>\n",
       "<td>1.0</td>\n",
       "<td>0.4262102</td></tr>\n",
       "<tr><td>ID</td>\n",
       "<td>1946.7968750</td>\n",
       "<td>0.4056321</td>\n",
       "<td>0.1728845</td></tr>\n",
       "<tr><td>VOL</td>\n",
       "<td>1453.7677002</td>\n",
       "<td>0.3029052</td>\n",
       "<td>0.1291013</td></tr>\n",
       "<tr><td>DPROS</td>\n",
       "<td>1240.6960449</td>\n",
       "<td>0.2585098</td>\n",
       "<td>0.1101795</td></tr>\n",
       "<tr><td>PSA</td>\n",
       "<td>799.9694824</td>\n",
       "<td>0.1666806</td>\n",
       "<td>0.0710410</td></tr>\n",
       "<tr><td>AGE</td>\n",
       "<td>633.3639526</td>\n",
       "<td>0.1319669</td>\n",
       "<td>0.0562456</td></tr>\n",
       "<tr><td>DCAPS</td>\n",
       "<td>386.6675720</td>\n",
       "<td>0.0805656</td>\n",
       "<td>0.0343379</td></tr>\n",
       "<tr><td>RACE</td>\n",
       "<td>0.0</td>\n",
       "<td>0.0</td>\n",
       "<td>0.0</td></tr></table></div>"
      ],
      "text/plain": [
       "variable    relative_importance    scaled_importance    percentage\n",
       "----------  ---------------------  -------------------  ------------\n",
       "GLEASON     4799.42                1                    0.42621\n",
       "ID          1946.8                 0.405632             0.172885\n",
       "VOL         1453.77                0.302905             0.129101\n",
       "DPROS       1240.7                 0.25851              0.11018\n",
       "PSA         799.969                0.166681             0.071041\n",
       "AGE         633.364                0.131967             0.0562456\n",
       "DCAPS       386.668                0.0805656            0.0343379\n",
       "RACE        0                      0                    0"
      ]
     },
     "metadata": {},
     "output_type": "display_data"
    },
    {
     "data": {
      "text/plain": []
     },
     "execution_count": 10,
     "metadata": {},
     "output_type": "execute_result"
    }
   ],
   "source": [
    "prostate_gbm"
   ]
  },
  {
   "cell_type": "markdown",
   "metadata": {},
   "source": [
    "## Getting Model Performance on all kind of input data (training, validation and test)"
   ]
  },
  {
   "cell_type": "code",
   "execution_count": 11,
   "metadata": {
    "collapsed": true
   },
   "outputs": [],
   "source": [
    "train_performance = prostate_gbm.model_performance(df_train)\n",
    "valid_performance = prostate_gbm.model_performance(df_valid)\n",
    "test_performance = prostate_gbm.model_performance(df_test)"
   ]
  },
  {
   "cell_type": "markdown",
   "metadata": {},
   "source": [
    "## AUC Metrics"
   ]
  },
  {
   "cell_type": "code",
   "execution_count": 12,
   "metadata": {},
   "outputs": [
    {
     "name": "stdout",
     "output_type": "stream",
     "text": [
      "0.927254098361\n",
      "0.802631578947\n",
      "0.736842105263\n",
      "0.927254098361\n"
     ]
    }
   ],
   "source": [
    "print(train_performance.auc())\n",
    "print(valid_performance.auc())\n",
    "print(test_performance.auc())\n",
    "print(prostate_gbm.auc())"
   ]
  },
  {
   "cell_type": "markdown",
   "metadata": {},
   "source": [
    "## Above you will see the base model performance is provided on training dataset"
   ]
  },
  {
   "cell_type": "markdown",
   "metadata": {},
   "source": [
    "## GINI Metrics"
   ]
  },
  {
   "cell_type": "code",
   "execution_count": 13,
   "metadata": {},
   "outputs": [
    {
     "name": "stdout",
     "output_type": "stream",
     "text": [
      "0.854508196721\n",
      "0.605263157895\n",
      "0.473684210526\n",
      "0.854508196721\n"
     ]
    }
   ],
   "source": [
    "print(train_performance.gini())\n",
    "print(valid_performance.gini())\n",
    "print(test_performance.gini())\n",
    "print(prostate_gbm.gini())"
   ]
  },
  {
   "cell_type": "markdown",
   "metadata": {},
   "source": [
    "## Getting Prediction metrics"
   ]
  },
  {
   "cell_type": "code",
   "execution_count": 14,
   "metadata": {},
   "outputs": [
    {
     "name": "stdout",
     "output_type": "stream",
     "text": [
      "gbm prediction progress: |████████████████████████████████████████████████| 100%\n"
     ]
    }
   ],
   "source": [
    "predictions = prostate_gbm.predict(df_test)"
   ]
  },
  {
   "cell_type": "code",
   "execution_count": 15,
   "metadata": {},
   "outputs": [
    {
     "data": {
      "text/html": [
       "<table>\n",
       "<thead>\n",
       "<tr><th style=\"text-align: right;\">  predict</th><th style=\"text-align: right;\">      p0</th><th style=\"text-align: right;\">      p1</th></tr>\n",
       "</thead>\n",
       "<tbody>\n",
       "<tr><td style=\"text-align: right;\">        0</td><td style=\"text-align: right;\">0.602655</td><td style=\"text-align: right;\">0.397345</td></tr>\n",
       "<tr><td style=\"text-align: right;\">        0</td><td style=\"text-align: right;\">0.748878</td><td style=\"text-align: right;\">0.251122</td></tr>\n",
       "<tr><td style=\"text-align: right;\">        1</td><td style=\"text-align: right;\">0.442681</td><td style=\"text-align: right;\">0.557319</td></tr>\n",
       "<tr><td style=\"text-align: right;\">        0</td><td style=\"text-align: right;\">0.707184</td><td style=\"text-align: right;\">0.292816</td></tr>\n",
       "<tr><td style=\"text-align: right;\">        1</td><td style=\"text-align: right;\">0.483485</td><td style=\"text-align: right;\">0.516515</td></tr>\n",
       "<tr><td style=\"text-align: right;\">        1</td><td style=\"text-align: right;\">0.53716 </td><td style=\"text-align: right;\">0.46284 </td></tr>\n",
       "<tr><td style=\"text-align: right;\">        0</td><td style=\"text-align: right;\">0.739027</td><td style=\"text-align: right;\">0.260973</td></tr>\n",
       "<tr><td style=\"text-align: right;\">        0</td><td style=\"text-align: right;\">0.736587</td><td style=\"text-align: right;\">0.263413</td></tr>\n",
       "<tr><td style=\"text-align: right;\">        1</td><td style=\"text-align: right;\">0.384839</td><td style=\"text-align: right;\">0.615161</td></tr>\n",
       "<tr><td style=\"text-align: right;\">        1</td><td style=\"text-align: right;\">0.407892</td><td style=\"text-align: right;\">0.592108</td></tr>\n",
       "</tbody>\n",
       "</table>"
      ]
     },
     "metadata": {},
     "output_type": "display_data"
    },
    {
     "data": {
      "text/plain": []
     },
     "execution_count": 15,
     "metadata": {},
     "output_type": "execute_result"
    }
   ],
   "source": [
    "predictions"
   ]
  },
  {
   "cell_type": "code",
   "execution_count": 16,
   "metadata": {
    "collapsed": true
   },
   "outputs": [],
   "source": [
    "pred= pd.DataFrame()"
   ]
  },
  {
   "cell_type": "code",
   "execution_count": 17,
   "metadata": {},
   "outputs": [],
   "source": [
    "# Note If you want to get all the highest probablities from p0 and p1 you can try the following:\n",
    "pred['predict'] =  predictions.as_data_frame().apply(lambda x: x['p0'] if x['p0'] >= x['p1'] else x['p1'], axis = 1)\n",
    "## After that you can convert pred Data Frame (which is pandas) to H2O frame as below\n",
    "predict_probability = h2o.H2OFrame(pred)"
   ]
  },
  {
   "cell_type": "markdown",
   "metadata": {},
   "source": [
    "## We are going to select the p1 values from the prediction frame to calculate the AUC"
   ]
  },
  {
   "cell_type": "code",
   "execution_count": 21,
   "metadata": {},
   "outputs": [],
   "source": [
    "predict_probability = predictions['p1']"
   ]
  },
  {
   "cell_type": "code",
   "execution_count": 22,
   "metadata": {},
   "outputs": [
    {
     "data": {
      "text/html": [
       "<table>\n",
       "<thead>\n",
       "<tr><th style=\"text-align: right;\">      p1</th></tr>\n",
       "</thead>\n",
       "<tbody>\n",
       "<tr><td style=\"text-align: right;\">0.397345</td></tr>\n",
       "<tr><td style=\"text-align: right;\">0.251122</td></tr>\n",
       "<tr><td style=\"text-align: right;\">0.557319</td></tr>\n",
       "<tr><td style=\"text-align: right;\">0.292816</td></tr>\n",
       "<tr><td style=\"text-align: right;\">0.516515</td></tr>\n",
       "<tr><td style=\"text-align: right;\">0.46284 </td></tr>\n",
       "<tr><td style=\"text-align: right;\">0.260973</td></tr>\n",
       "<tr><td style=\"text-align: right;\">0.263413</td></tr>\n",
       "<tr><td style=\"text-align: right;\">0.615161</td></tr>\n",
       "<tr><td style=\"text-align: right;\">0.592108</td></tr>\n",
       "</tbody>\n",
       "</table>"
      ]
     },
     "metadata": {},
     "output_type": "display_data"
    },
    {
     "data": {
      "text/plain": []
     },
     "execution_count": 22,
     "metadata": {},
     "output_type": "execute_result"
    }
   ],
   "source": [
    "predict_probability"
   ]
  },
  {
   "cell_type": "markdown",
   "metadata": {},
   "source": [
    "## This is how AUC is calculated for Logistic classification Models"
   ]
  },
  {
   "cell_type": "code",
   "execution_count": 23,
   "metadata": {},
   "outputs": [],
   "source": [
    "from sklearn.metrics import roc_curve, auc\n",
    "import matplotlib.pyplot as plt\n",
    "import random"
   ]
  },
  {
   "cell_type": "code",
   "execution_count": 24,
   "metadata": {},
   "outputs": [
    {
     "name": "stdout",
     "output_type": "stream",
     "text": [
      "(31, 1)\n",
      "(31, 1)\n"
     ]
    }
   ],
   "source": [
    "print(df_test[y].shape)\n",
    "print(predict_probability['predict'].shape)"
   ]
  },
  {
   "cell_type": "code",
   "execution_count": 25,
   "metadata": {},
   "outputs": [
    {
     "name": "stdout",
     "output_type": "stream",
     "text": [
      "[1, 1, 1, 0, 1, 0, 0, 0, 1, 1, 0, 0, 0, 0, 1, 1, 0, 0, 0, 1, 1, 0, 1, 0, 0, 0, 0, 1, 0, 0, 0]\n"
     ]
    }
   ],
   "source": [
    "actual = df_test[y].as_data_frame()\n",
    "actual_list = actual['CAPSULE'].tolist()\n",
    "print(actual_list)"
   ]
  },
  {
   "cell_type": "code",
   "execution_count": 26,
   "metadata": {},
   "outputs": [
    {
     "name": "stdout",
     "output_type": "stream",
     "text": [
      "[0.3973448776140419, 0.25112158546528796, 0.5573191073098066, 0.2928156269862124, 0.5165145604313923, 0.4628395213226922, 0.2609728476201035, 0.2634128288761269, 0.6151607971160951, 0.5921080634983844, 0.3066260781269068, 0.5755493238714777, 0.4307756345017631, 0.3390232346287637, 0.5264105948797293, 0.5122811510791463, 0.3629409963150697, 0.3261618150129987, 0.4947485216842446, 0.5000625309570932, 0.4802451765305494, 0.24025854050008885, 0.4964580404918529, 0.5109317295716732, 0.5285679360398154, 0.4769257367324194, 0.5297525072360061, 0.5024569557016627, 0.2481513758175777, 0.5297525072360061, 0.2539644508163105]\n"
     ]
    }
   ],
   "source": [
    "predictions_temp = predict_probability_x['p1'].as_data_frame()\n",
    "predictions_list = predictions_temp['p1'].tolist()\n",
    "print(predictions_list)"
   ]
  },
  {
   "cell_type": "markdown",
   "metadata": {},
   "source": [
    "## Lets calculate TPR, FPR and Threshold metrics from the predictions and original data frame\n",
    " - False Positive Rate (fpr)\n",
    " - True Positive Rate (tpr)\n",
    " - Threashold "
   ]
  },
  {
   "cell_type": "code",
   "execution_count": 27,
   "metadata": {},
   "outputs": [],
   "source": [
    "fpr, tpr, thresholds = roc_curve(actual_list, predictions_list)"
   ]
  },
  {
   "cell_type": "code",
   "execution_count": 28,
   "metadata": {},
   "outputs": [
    {
     "name": "stdout",
     "output_type": "stream",
     "text": [
      "[ 0.          0.          0.05263158  0.05263158  0.15789474  0.21052632\n",
      "  0.21052632  0.26315789  0.26315789  0.31578947  0.31578947  0.47368421\n",
      "  0.47368421  0.89473684  0.89473684  1.        ]\n",
      "[ 0.08333333  0.16666667  0.16666667  0.25        0.25        0.25        0.5\n",
      "  0.5         0.75        0.75        0.83333333  0.83333333  0.91666667\n",
      "  0.91666667  1.          1.        ]\n",
      "[ 0.6151608   0.59210806  0.57554932  0.55731911  0.52975251  0.52856794\n",
      "  0.51228115  0.51093173  0.49645804  0.49474852  0.48024518  0.43077563\n",
      "  0.39734488  0.25396445  0.25112159  0.24025854]\n"
     ]
    }
   ],
   "source": [
    "print(fpr)\n",
    "print(tpr)\n",
    "print(thresholds)"
   ]
  },
  {
   "cell_type": "markdown",
   "metadata": {},
   "source": [
    "## Now we are calculating the AUC value using FPR and TPR"
   ]
  },
  {
   "cell_type": "code",
   "execution_count": 30,
   "metadata": {},
   "outputs": [
    {
     "name": "stdout",
     "output_type": "stream",
     "text": [
      "0.736842105263\n"
     ]
    }
   ],
   "source": [
    "roc_auc = auc(fpr, tpr)\n",
    "print(roc_auc)"
   ]
  },
  {
   "cell_type": "markdown",
   "metadata": {},
   "source": [
    "## Lets plot the AUC Curve using matplotlib"
   ]
  },
  {
   "cell_type": "code",
   "execution_count": 33,
   "metadata": {},
   "outputs": [
    {
     "data": {
      "image/png": "[encoded data removed]",
      "text/plain": [
       "<matplotlib.figure.Figure at 0x116ca2650>"
      ]
     },
     "metadata": {},
     "output_type": "display_data"
    }
   ],
   "source": [
    "plt.title('ROC (Receiver Operating Characteristic)')\n",
    "plt.plot(fpr, tpr, 'b',\n",
    "label='AUC = %0.4f'% roc_auc)\n",
    "plt.legend(loc='lower right')\n",
    "plt.plot([0,1],[0,1],'r--')\n",
    "plt.xlim([-0.1,1.2])\n",
    "plt.ylim([-0.1,1.2])\n",
    "plt.ylabel('True Positive Rate (TPR)')\n",
    "plt.xlabel('False Positive Rate (FPR)')\n",
    "plt.show()"
   ]
  },
  {
   "cell_type": "code",
   "execution_count": 34,
   "metadata": {},
   "outputs": [
    {
     "name": "stdout",
     "output_type": "stream",
     "text": [
      "0.736842105263\n"
     ]
    }
   ],
   "source": [
    "print(test_performance.auc())"
   ]
  },
  {
   "cell_type": "markdown",
   "metadata": {},
   "source": [
    "### Note: Above you can see that the AUC metrics for test performance is same as we calculated"
   ]
  },
  {
   "cell_type": "markdown",
   "metadata": {},
   "source": [
    "## If you want to know how GINI metric is calculated from AUC, use the formula below:"
   ]
  },
  {
   "cell_type": "code",
   "execution_count": 35,
   "metadata": {},
   "outputs": [
    {
     "name": "stdout",
     "output_type": "stream",
     "text": [
      "0.473684210526\n"
     ]
    }
   ],
   "source": [
    "GINI = (2 * roc_auc) - 1\n",
    "print(GINI)"
   ]
  },
  {
   "cell_type": "code",
   "execution_count": 36,
   "metadata": {},
   "outputs": [
    {
     "name": "stdout",
     "output_type": "stream",
     "text": [
      "0.473684210526\n"
     ]
    }
   ],
   "source": [
    "print(test_performance.gini())"
   ]
  },
  {
   "cell_type": "markdown",
   "metadata": {},
   "source": [
    "### Note: Above you can see that the GINI metrics for test performance is same as we calculated"
   ]
  },
  {
   "cell_type": "code",
   "execution_count": null,
   "metadata": {
    "collapsed": true
   },
   "outputs": [],
   "source": []
  }
 ],
 "metadata": {
  "kernelspec": {
   "display_name": "Python 2",
   "language": "python",
   "name": "python2"
  },
  "language_info": {
   "codemirror_mode": {
    "name": "ipython",
    "version": 2
   },
   "file_extension": ".py",
   "mimetype": "text/x-python",
   "name": "python",
   "nbconvert_exporter": "python",
   "pygments_lexer": "ipython2",
   "version": "2.7.13"
  }
 },
 "nbformat": 4,
 "nbformat_minor": 2
}
