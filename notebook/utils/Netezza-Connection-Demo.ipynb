{
 "cells": [
  {
   "cell_type": "markdown",
   "metadata": {},
   "source": [
    "# Importing jaydebeapi library"
   ]
  },
  {
   "cell_type": "code",
   "execution_count": 1,
   "metadata": {
    "collapsed": true
   },
   "outputs": [],
   "source": [
    "import jaydebeapi"
   ]
  },
  {
   "cell_type": "markdown",
   "metadata": {},
   "source": [
    "##  Setting Database connection settings"
   ]
  },
  {
   "cell_type": "code",
   "execution_count": 2,
   "metadata": {},
   "outputs": [
    {
     "name": "stdout",
     "output_type": "stream",
     "text": [
      "URL: jdbc:netezza://172.16.181.131:5480/avkash:user=admin;password=password\n",
      "Connection String: jdbc:netezza://172.16.181.131:5480/avkash\n"
     ]
    }
   ],
   "source": [
    "dsn_database = \"avkash\"            \n",
    "dsn_hostname = \"172.16.181.131\" \n",
    "dsn_port = \"5480\"                \n",
    "dsn_uid = \"admin\"        \n",
    "dsn_pwd = \"password\"      \n",
    "jdbc_driver_name = \"org.netezza.Driver\"\n",
    "jdbc_driver_loc = \"/Users/avkashchauhan/learn/customers/netezza/nzjdbc3.jar\"\n",
    "###jdbc:netezza://\" + server + \"/\" + dbName ;\n",
    "connection_string='jdbc:netezza://'+dsn_hostname+':'+dsn_port+'/'+dsn_database\n",
    "url = '{0}:user={1};password={2}'.format(connection_string, dsn_uid, dsn_pwd)\n",
    "print(\"URL: \" + url)\n",
    "print(\"Connection String: \" + connection_string)"
   ]
  },
  {
   "cell_type": "markdown",
   "metadata": {},
   "source": [
    "## Creating Database Connection"
   ]
  },
  {
   "cell_type": "code",
   "execution_count": 3,
   "metadata": {},
   "outputs": [],
   "source": [
    "conn = jaydebeapi.connect(\"org.netezza.Driver\", connection_string, {'user': dsn_uid, 'password': dsn_pwd},\n",
    "                         jars = \"/Users/avkashchauhan/learn/customers/netezza/nzjdbc3.jar\")\n",
    "curs = conn.cursor()"
   ]
  },
  {
   "cell_type": "markdown",
   "metadata": {},
   "source": [
    "## Processing SQL Query"
   ]
  },
  {
   "cell_type": "code",
   "execution_count": 4,
   "metadata": {},
   "outputs": [
    {
     "name": "stdout",
     "output_type": "stream",
     "text": [
      "Total records: 5\n",
      "(1, 20, u'Jim                 ')\n"
     ]
    }
   ],
   "source": [
    "curs.execute(\"select * from allusers\")\n",
    "result = curs.fetchall()\n",
    "print(\"Total records: \" + str(len(result)))\n",
    "print(result[0])"
   ]
  },
  {
   "cell_type": "markdown",
   "metadata": {},
   "source": [
    "# Printing all records"
   ]
  },
  {
   "cell_type": "code",
   "execution_count": 5,
   "metadata": {},
   "outputs": [
    {
     "name": "stdout",
     "output_type": "stream",
     "text": [
      "(1, 20, u'Jim                 ')\n",
      "(3, 21, u'Kyle                ')\n",
      "(5, 27, u'Kim                 ')\n",
      "(2, 30, u'John                ')\n",
      "(4, 26, u'Jason               ')\n"
     ]
    }
   ],
   "source": [
    "for i in range(len(result)):\n",
    "    print(result[i])"
   ]
  },
  {
   "cell_type": "markdown",
   "metadata": {},
   "source": [
    "# Closing all connections"
   ]
  },
  {
   "cell_type": "code",
   "execution_count": 6,
   "metadata": {
    "collapsed": true
   },
   "outputs": [],
   "source": [
    "curs.close()\n",
    "conn.close()"
   ]
  },
  {
   "cell_type": "code",
   "execution_count": null,
   "metadata": {
    "collapsed": true
   },
   "outputs": [],
   "source": []
  }
 ],
 "metadata": {
  "kernelspec": {
   "display_name": "Python 2",
   "language": "python",
   "name": "python2"
  },
  "language_info": {
   "codemirror_mode": {
    "name": "ipython",
    "version": 2
   },
   "file_extension": ".py",
   "mimetype": "text/x-python",
   "name": "python",
   "nbconvert_exporter": "python",
   "pygments_lexer": "ipython2",
   "version": "2.7.13"
  }
 },
 "nbformat": 4,
 "nbformat_minor": 2
}
