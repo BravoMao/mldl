{
 "cells": [
  {
   "cell_type": "code",
   "execution_count": 1,
   "metadata": {
    "collapsed": false
   },
   "outputs": [],
   "source": [
    "import h2o as h2o\n",
    "\n"
   ]
  },
  {
   "cell_type": "code",
   "execution_count": 2,
   "metadata": {
    "collapsed": false
   },
   "outputs": [
    {
     "name": "stderr",
     "output_type": "stream",
     "text": [
      "ERROR:h2opy:Key init.version_check is not a valid config key\n"
     ]
    },
    {
     "name": "stdout",
     "output_type": "stream",
     "text": [
      "Checking whether there is an H2O instance running at http://localhost:54321. connected.\n"
     ]
    },
    {
     "data": {
      "text/html": [
       "<div style=\"overflow:auto\"><table style=\"width:50%\"><tr><td>H2O cluster uptime:</td>\n",
       "<td>3 hours 15 mins</td></tr>\n",
       "<tr><td>H2O cluster version:</td>\n",
       "<td>3.11.0.3665</td></tr>\n",
       "<tr><td>H2O cluster version age:</td>\n",
       "<td>11 days </td></tr>\n",
       "<tr><td>H2O cluster name:</td>\n",
       "<td>H2O_from_python_avkashchauhan_3y3106</td></tr>\n",
       "<tr><td>H2O cluster total nodes:</td>\n",
       "<td>1</td></tr>\n",
       "<tr><td>H2O cluster free memory:</td>\n",
       "<td>3.223 Gb</td></tr>\n",
       "<tr><td>H2O cluster total cores:</td>\n",
       "<td>8</td></tr>\n",
       "<tr><td>H2O cluster allowed cores:</td>\n",
       "<td>8</td></tr>\n",
       "<tr><td>H2O cluster status:</td>\n",
       "<td>locked, healthy</td></tr>\n",
       "<tr><td>H2O connection url:</td>\n",
       "<td>http://localhost:54321</td></tr>\n",
       "<tr><td>H2O connection proxy:</td>\n",
       "<td>None</td></tr>\n",
       "<tr><td>Python version:</td>\n",
       "<td>2.7.10 final</td></tr></table></div>"
      ],
      "text/plain": [
       "--------------------------  ------------------------------------\n",
       "H2O cluster uptime:         3 hours 15 mins\n",
       "H2O cluster version:        3.11.0.3665\n",
       "H2O cluster version age:    11 days\n",
       "H2O cluster name:           H2O_from_python_avkashchauhan_3y3106\n",
       "H2O cluster total nodes:    1\n",
       "H2O cluster free memory:    3.223 Gb\n",
       "H2O cluster total cores:    8\n",
       "H2O cluster allowed cores:  8\n",
       "H2O cluster status:         locked, healthy\n",
       "H2O connection url:         http://localhost:54321\n",
       "H2O connection proxy:\n",
       "Python version:             2.7.10 final\n",
       "--------------------------  ------------------------------------"
      ]
     },
     "metadata": {},
     "output_type": "display_data"
    }
   ],
   "source": [
    "h2o.init(strict_version_check = False)\n"
   ]
  },
  {
   "cell_type": "code",
   "execution_count": 3,
   "metadata": {
    "collapsed": false
   },
   "outputs": [
    {
     "name": "stdout",
     "output_type": "stream",
     "text": [
      "Help on function init in module h2o.h2o:\n",
      "\n",
      "init(url=None, ip=None, port=None, https=None, insecure=None, username=None, password=None, cluster_id=None, cookies=None, proxy=None, start_h2o=True, nthreads=-1, ice_root=None, enable_assertions=True, max_mem_size=None, min_mem_size=None, strict_version_check=None, **kwargs)\n",
      "    Attempt to connect to a local server, or if not successful start a new server and connect to it.\n",
      "    \n",
      "    :param url:\n",
      "    :param ip:\n",
      "    :param port:\n",
      "    :param https:\n",
      "    :param insecure:\n",
      "    :param username:\n",
      "    :param password:\n",
      "    :param cluster_id:\n",
      "    :param cookies:\n",
      "    :param proxy:\n",
      "    :param start_h2o:\n",
      "    :param nthreads:\n",
      "    :param ice_root:\n",
      "    :param enable_assertions:\n",
      "    :param max_mem_size:\n",
      "    :param min_mem_size:\n",
      "    :param strict_version_check:\n",
      "    :param kwargs: (all other deprecated attributes)\n",
      "    :returns: nothing\n",
      "\n"
     ]
    }
   ],
   "source": [
    "help(h2o.init)\n"
   ]
  },
  {
   "cell_type": "code",
   "execution_count": 4,
   "metadata": {
    "collapsed": false
   },
   "outputs": [
    {
     "data": {
      "text/html": [
       "<div style=\"overflow:auto\"><table style=\"width:50%\"><tr><td>H2O cluster uptime:</td>\n",
       "<td>3 hours 15 mins</td></tr>\n",
       "<tr><td>H2O cluster version:</td>\n",
       "<td>3.11.0.3665</td></tr>\n",
       "<tr><td>H2O cluster version age:</td>\n",
       "<td>11 days </td></tr>\n",
       "<tr><td>H2O cluster name:</td>\n",
       "<td>H2O_from_python_avkashchauhan_3y3106</td></tr>\n",
       "<tr><td>H2O cluster total nodes:</td>\n",
       "<td>1</td></tr>\n",
       "<tr><td>H2O cluster free memory:</td>\n",
       "<td>3.223 Gb</td></tr>\n",
       "<tr><td>H2O cluster total cores:</td>\n",
       "<td>8</td></tr>\n",
       "<tr><td>H2O cluster allowed cores:</td>\n",
       "<td>8</td></tr>\n",
       "<tr><td>H2O cluster status:</td>\n",
       "<td>locked, healthy</td></tr>\n",
       "<tr><td>H2O connection url:</td>\n",
       "<td>http://localhost:54321</td></tr>\n",
       "<tr><td>H2O connection proxy:</td>\n",
       "<td>None</td></tr>\n",
       "<tr><td>Python version:</td>\n",
       "<td>2.7.10 final</td></tr></table></div>"
      ],
      "text/plain": [
       "--------------------------  ------------------------------------\n",
       "H2O cluster uptime:         3 hours 15 mins\n",
       "H2O cluster version:        3.11.0.3665\n",
       "H2O cluster version age:    11 days\n",
       "H2O cluster name:           H2O_from_python_avkashchauhan_3y3106\n",
       "H2O cluster total nodes:    1\n",
       "H2O cluster free memory:    3.223 Gb\n",
       "H2O cluster total cores:    8\n",
       "H2O cluster allowed cores:  8\n",
       "H2O cluster status:         locked, healthy\n",
       "H2O connection url:         http://localhost:54321\n",
       "H2O connection proxy:\n",
       "Python version:             2.7.10 final\n",
       "--------------------------  ------------------------------------"
      ]
     },
     "metadata": {},
     "output_type": "display_data"
    },
    {
     "data": {
      "text/html": [
       "<div style=\"overflow:auto\"><table style=\"width:50%\"><tr><td><b>Nodes info:</b></td>\n",
       "<td><b>Node 1</b></td></tr>\n",
       "<tr><td>h2o</td>\n",
       "<td>/127.0.0.1:54321</td></tr>\n",
       "<tr><td>healthy</td>\n",
       "<td>True</td></tr>\n",
       "<tr><td>last_ping</td>\n",
       "<td>1478293416804.0000000</td></tr>\n",
       "<tr><td>num_cpus</td>\n",
       "<td>8</td></tr>\n",
       "<tr><td>sys_load</td>\n",
       "<td>1.7133789</td></tr>\n",
       "<tr><td>mem_value_size</td>\n",
       "<td>12504064</td></tr>\n",
       "<tr><td>free_mem</td>\n",
       "<td>3460288512.0000000</td></tr>\n",
       "<tr><td>pojo_mem</td>\n",
       "<td>345071616</td></tr>\n",
       "<tr><td>swap_mem</td>\n",
       "<td>0</td></tr>\n",
       "<tr><td>free_disk</td>\n",
       "<td>384488701952.0000000</td></tr>\n",
       "<tr><td>max_disk</td>\n",
       "<td>499987251200.0000000</td></tr>\n",
       "<tr><td>pid</td>\n",
       "<td>30632</td></tr>\n",
       "<tr><td>num_keys</td>\n",
       "<td>1996</td></tr>\n",
       "<tr><td>tcps_active</td>\n",
       "<td>0</td></tr>\n",
       "<tr><td>open_fds</td>\n",
       "<td>-1</td></tr>\n",
       "<tr><td>rpcs_active</td>\n",
       "<td>0</td></tr></table></div>"
      ],
      "text/plain": [
       "Nodes info:     Node 1\n",
       "--------------  ----------------\n",
       "h2o             /127.0.0.1:54321\n",
       "healthy         True\n",
       "last_ping       1478293416804\n",
       "num_cpus        8\n",
       "sys_load        1.7133789\n",
       "mem_value_size  12504064\n",
       "free_mem        3460288512\n",
       "pojo_mem        345071616\n",
       "swap_mem        0\n",
       "free_disk       384488701952\n",
       "max_disk        499987251200\n",
       "pid             30632\n",
       "num_keys        1996\n",
       "tcps_active     0\n",
       "open_fds        -1\n",
       "rpcs_active     0"
      ]
     },
     "metadata": {},
     "output_type": "display_data"
    }
   ],
   "source": [
    "h2o.cluster_status()\n"
   ]
  },
  {
   "cell_type": "code",
   "execution_count": 10,
   "metadata": {
    "collapsed": false
   },
   "outputs": [],
   "source": [
    "h2o.cluster().shutdown()\n"
   ]
  },
  {
   "cell_type": "code",
   "execution_count": null,
   "metadata": {
    "collapsed": true
   },
   "outputs": [],
   "source": []
  }
 ],
 "metadata": {
  "kernelspec": {
   "display_name": "Python 2",
   "language": "python",
   "name": "python2"
  },
  "language_info": {
   "codemirror_mode": {
    "name": "ipython",
    "version": 2
   },
   "file_extension": ".py",
   "mimetype": "text/x-python",
   "name": "python",
   "nbconvert_exporter": "python",
   "pygments_lexer": "ipython2",
   "version": "2.7.10"
  }
 },
 "nbformat": 4,
 "nbformat_minor": 1
}
