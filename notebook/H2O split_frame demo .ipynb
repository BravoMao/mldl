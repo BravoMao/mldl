{
 "cells": [
  {
   "cell_type": "code",
   "execution_count": 31,
   "metadata": {
    "collapsed": false
   },
   "outputs": [
    {
     "name": "stdout",
     "output_type": "stream",
     "text": [
      "Connecting to H2O server at http://localhost:54321... successful.\n"
     ]
    },
    {
     "data": {
      "text/html": [
       "<div style=\"overflow:auto\"><table style=\"width:50%\"><tr><td>H2O cluster uptime:</td>\n",
       "<td>08 secs</td></tr>\n",
       "<tr><td>H2O cluster version:</td>\n",
       "<td>3.11.0.99999</td></tr>\n",
       "<tr><td>H2O cluster version age:</td>\n",
       "<td>2 hours and 21 minutes </td></tr>\n",
       "<tr><td>H2O cluster name:</td>\n",
       "<td>avkashchauhan</td></tr>\n",
       "<tr><td>H2O cluster total nodes:</td>\n",
       "<td>1</td></tr>\n",
       "<tr><td>H2O cluster free memory:</td>\n",
       "<td>3.556 Gb</td></tr>\n",
       "<tr><td>H2O cluster total cores:</td>\n",
       "<td>8</td></tr>\n",
       "<tr><td>H2O cluster allowed cores:</td>\n",
       "<td>8</td></tr>\n",
       "<tr><td>H2O cluster status:</td>\n",
       "<td>accepting new members, healthy</td></tr>\n",
       "<tr><td>H2O connection url:</td>\n",
       "<td>http://localhost:54321</td></tr>\n",
       "<tr><td>H2O connection proxy:</td>\n",
       "<td>None</td></tr>\n",
       "<tr><td>Python version:</td>\n",
       "<td>2.7.10 final</td></tr></table></div>"
      ],
      "text/plain": [
       "--------------------------  ------------------------------\n",
       "H2O cluster uptime:         08 secs\n",
       "H2O cluster version:        3.11.0.99999\n",
       "H2O cluster version age:    2 hours and 21 minutes\n",
       "H2O cluster name:           avkashchauhan\n",
       "H2O cluster total nodes:    1\n",
       "H2O cluster free memory:    3.556 Gb\n",
       "H2O cluster total cores:    8\n",
       "H2O cluster allowed cores:  8\n",
       "H2O cluster status:         accepting new members, healthy\n",
       "H2O connection url:         http://localhost:54321\n",
       "H2O connection proxy:\n",
       "Python version:             2.7.10 final\n",
       "--------------------------  ------------------------------"
      ]
     },
     "metadata": {},
     "output_type": "display_data"
    },
    {
     "data": {
      "text/plain": [
       "<H2OConnection to http://localhost:54321, no session>"
      ]
     },
     "execution_count": 31,
     "metadata": {},
     "output_type": "execute_result"
    }
   ],
   "source": [
    "import h2o\n",
    "h2o.connect()"
   ]
  },
  {
   "cell_type": "code",
   "execution_count": 32,
   "metadata": {
    "collapsed": false
   },
   "outputs": [
    {
     "name": "stdout",
     "output_type": "stream",
     "text": [
      "Parse progress: |█████████████████████████████████████████████████████████| 100%\n"
     ]
    }
   ],
   "source": [
    "boston = h2o.import_file(\"https://s3.amazonaws.com/h2o-public-test-data/smalldata/gbm_test/BostonHousing.csv\")\n"
   ]
  },
  {
   "cell_type": "code",
   "execution_count": 33,
   "metadata": {
    "collapsed": false
   },
   "outputs": [
    {
     "data": {
      "text/html": [
       "<table>\n",
       "<tr><th style=\"text-align: right;\">   crim</th><th style=\"text-align: right;\">  zn</th><th style=\"text-align: right;\">  indus</th><th style=\"text-align: right;\">  chas</th><th style=\"text-align: right;\">  nox</th><th style=\"text-align: right;\">   rm</th><th style=\"text-align: right;\">  age</th><th style=\"text-align: right;\">   dis</th><th style=\"text-align: right;\">  rad</th><th style=\"text-align: right;\">  tax</th><th style=\"text-align: right;\">  ptratio</th><th style=\"text-align: right;\">     b</th><th style=\"text-align: right;\">  lstat</th><th style=\"text-align: right;\">  medv</th></tr>\n",
       "<tr><td style=\"text-align: right;\">0.00632</td><td style=\"text-align: right;\">18  </td><td style=\"text-align: right;\">   2.31</td><td style=\"text-align: right;\">     0</td><td style=\"text-align: right;\">0.538</td><td style=\"text-align: right;\">6.575</td><td style=\"text-align: right;\"> 65.2</td><td style=\"text-align: right;\">4.09  </td><td style=\"text-align: right;\">    1</td><td style=\"text-align: right;\">  296</td><td style=\"text-align: right;\">     15.3</td><td style=\"text-align: right;\">396.9 </td><td style=\"text-align: right;\">   4.98</td><td style=\"text-align: right;\">  24  </td></tr>\n",
       "<tr><td style=\"text-align: right;\">0.02731</td><td style=\"text-align: right;\"> 0  </td><td style=\"text-align: right;\">   7.07</td><td style=\"text-align: right;\">     0</td><td style=\"text-align: right;\">0.469</td><td style=\"text-align: right;\">6.421</td><td style=\"text-align: right;\"> 78.9</td><td style=\"text-align: right;\">4.9671</td><td style=\"text-align: right;\">    2</td><td style=\"text-align: right;\">  242</td><td style=\"text-align: right;\">     17.8</td><td style=\"text-align: right;\">396.9 </td><td style=\"text-align: right;\">   9.14</td><td style=\"text-align: right;\">  21.6</td></tr>\n",
       "<tr><td style=\"text-align: right;\">0.02729</td><td style=\"text-align: right;\"> 0  </td><td style=\"text-align: right;\">   7.07</td><td style=\"text-align: right;\">     0</td><td style=\"text-align: right;\">0.469</td><td style=\"text-align: right;\">7.185</td><td style=\"text-align: right;\"> 61.1</td><td style=\"text-align: right;\">4.9671</td><td style=\"text-align: right;\">    2</td><td style=\"text-align: right;\">  242</td><td style=\"text-align: right;\">     17.8</td><td style=\"text-align: right;\">392.83</td><td style=\"text-align: right;\">   4.03</td><td style=\"text-align: right;\">  34.7</td></tr>\n",
       "<tr><td style=\"text-align: right;\">0.03237</td><td style=\"text-align: right;\"> 0  </td><td style=\"text-align: right;\">   2.18</td><td style=\"text-align: right;\">     0</td><td style=\"text-align: right;\">0.458</td><td style=\"text-align: right;\">6.998</td><td style=\"text-align: right;\"> 45.8</td><td style=\"text-align: right;\">6.0622</td><td style=\"text-align: right;\">    3</td><td style=\"text-align: right;\">  222</td><td style=\"text-align: right;\">     18.7</td><td style=\"text-align: right;\">394.63</td><td style=\"text-align: right;\">   2.94</td><td style=\"text-align: right;\">  33.4</td></tr>\n",
       "<tr><td style=\"text-align: right;\">0.06905</td><td style=\"text-align: right;\"> 0  </td><td style=\"text-align: right;\">   2.18</td><td style=\"text-align: right;\">     0</td><td style=\"text-align: right;\">0.458</td><td style=\"text-align: right;\">7.147</td><td style=\"text-align: right;\"> 54.2</td><td style=\"text-align: right;\">6.0622</td><td style=\"text-align: right;\">    3</td><td style=\"text-align: right;\">  222</td><td style=\"text-align: right;\">     18.7</td><td style=\"text-align: right;\">396.9 </td><td style=\"text-align: right;\">   5.33</td><td style=\"text-align: right;\">  36.2</td></tr>\n",
       "<tr><td style=\"text-align: right;\">0.02985</td><td style=\"text-align: right;\"> 0  </td><td style=\"text-align: right;\">   2.18</td><td style=\"text-align: right;\">     0</td><td style=\"text-align: right;\">0.458</td><td style=\"text-align: right;\">6.43 </td><td style=\"text-align: right;\"> 58.7</td><td style=\"text-align: right;\">6.0622</td><td style=\"text-align: right;\">    3</td><td style=\"text-align: right;\">  222</td><td style=\"text-align: right;\">     18.7</td><td style=\"text-align: right;\">394.12</td><td style=\"text-align: right;\">   5.21</td><td style=\"text-align: right;\">  28.7</td></tr>\n",
       "<tr><td style=\"text-align: right;\">0.08829</td><td style=\"text-align: right;\">12.5</td><td style=\"text-align: right;\">   7.87</td><td style=\"text-align: right;\">     0</td><td style=\"text-align: right;\">0.524</td><td style=\"text-align: right;\">6.012</td><td style=\"text-align: right;\"> 66.6</td><td style=\"text-align: right;\">5.5605</td><td style=\"text-align: right;\">    5</td><td style=\"text-align: right;\">  311</td><td style=\"text-align: right;\">     15.2</td><td style=\"text-align: right;\">395.6 </td><td style=\"text-align: right;\">  12.43</td><td style=\"text-align: right;\">  22.9</td></tr>\n",
       "<tr><td style=\"text-align: right;\">0.14455</td><td style=\"text-align: right;\">12.5</td><td style=\"text-align: right;\">   7.87</td><td style=\"text-align: right;\">     0</td><td style=\"text-align: right;\">0.524</td><td style=\"text-align: right;\">6.172</td><td style=\"text-align: right;\"> 96.1</td><td style=\"text-align: right;\">5.9505</td><td style=\"text-align: right;\">    5</td><td style=\"text-align: right;\">  311</td><td style=\"text-align: right;\">     15.2</td><td style=\"text-align: right;\">396.9 </td><td style=\"text-align: right;\">  19.15</td><td style=\"text-align: right;\">  27.1</td></tr>\n",
       "<tr><td style=\"text-align: right;\">0.21124</td><td style=\"text-align: right;\">12.5</td><td style=\"text-align: right;\">   7.87</td><td style=\"text-align: right;\">     0</td><td style=\"text-align: right;\">0.524</td><td style=\"text-align: right;\">5.631</td><td style=\"text-align: right;\">100  </td><td style=\"text-align: right;\">6.0821</td><td style=\"text-align: right;\">    5</td><td style=\"text-align: right;\">  311</td><td style=\"text-align: right;\">     15.2</td><td style=\"text-align: right;\">386.63</td><td style=\"text-align: right;\">  29.93</td><td style=\"text-align: right;\">  16.5</td></tr>\n",
       "<tr><td style=\"text-align: right;\">0.17004</td><td style=\"text-align: right;\">12.5</td><td style=\"text-align: right;\">   7.87</td><td style=\"text-align: right;\">     0</td><td style=\"text-align: right;\">0.524</td><td style=\"text-align: right;\">6.004</td><td style=\"text-align: right;\"> 85.9</td><td style=\"text-align: right;\">6.5921</td><td style=\"text-align: right;\">    5</td><td style=\"text-align: right;\">  311</td><td style=\"text-align: right;\">     15.2</td><td style=\"text-align: right;\">386.71</td><td style=\"text-align: right;\">  17.1 </td><td style=\"text-align: right;\">  18.9</td></tr>\n",
       "</table>"
      ]
     },
     "metadata": {},
     "output_type": "display_data"
    },
    {
     "data": {
      "text/plain": []
     },
     "execution_count": 33,
     "metadata": {},
     "output_type": "execute_result"
    }
   ],
   "source": [
    "boston"
   ]
  },
  {
   "cell_type": "code",
   "execution_count": 34,
   "metadata": {
    "collapsed": false
   },
   "outputs": [
    {
     "data": {
      "text/plain": [
       "[u'crim',\n",
       " u'zn',\n",
       " u'indus',\n",
       " u'chas',\n",
       " u'nox',\n",
       " u'rm',\n",
       " u'age',\n",
       " u'dis',\n",
       " u'rad',\n",
       " u'tax',\n",
       " u'ptratio',\n",
       " u'b',\n",
       " u'lstat',\n",
       " u'medv']"
      ]
     },
     "execution_count": 34,
     "metadata": {},
     "output_type": "execute_result"
    }
   ],
   "source": [
    "boston.columns"
   ]
  },
  {
   "cell_type": "code",
   "execution_count": 35,
   "metadata": {
    "collapsed": true
   },
   "outputs": [],
   "source": [
    "response = \"medv\""
   ]
  },
  {
   "cell_type": "code",
   "execution_count": 36,
   "metadata": {
    "collapsed": true
   },
   "outputs": [],
   "source": [
    "predictors = boston.columns[:-1]"
   ]
  },
  {
   "cell_type": "code",
   "execution_count": 37,
   "metadata": {
    "collapsed": false
   },
   "outputs": [
    {
     "data": {
      "text/plain": [
       "[u'crim',\n",
       " u'zn',\n",
       " u'indus',\n",
       " u'chas',\n",
       " u'nox',\n",
       " u'rm',\n",
       " u'age',\n",
       " u'dis',\n",
       " u'rad',\n",
       " u'tax',\n",
       " u'ptratio',\n",
       " u'b',\n",
       " u'lstat']"
      ]
     },
     "execution_count": 37,
     "metadata": {},
     "output_type": "execute_result"
    }
   ],
   "source": [
    "predictors"
   ]
  },
  {
   "cell_type": "code",
   "execution_count": 38,
   "metadata": {
    "collapsed": true
   },
   "outputs": [],
   "source": [
    "boston['chas'] = boston['chas'].asfactor()"
   ]
  },
  {
   "cell_type": "code",
   "execution_count": 39,
   "metadata": {
    "collapsed": false
   },
   "outputs": [],
   "source": [
    "train, valid = boston.split_frame(ratios = [.8])"
   ]
  },
  {
   "cell_type": "code",
   "execution_count": 13,
   "metadata": {
    "collapsed": false
   },
   "outputs": [
    {
     "data": {
      "text/plain": [
       "(395, 14)"
      ]
     },
     "execution_count": 13,
     "metadata": {},
     "output_type": "execute_result"
    }
   ],
   "source": [
    "train.shape"
   ]
  },
  {
   "cell_type": "code",
   "execution_count": 15,
   "metadata": {
    "collapsed": false
   },
   "outputs": [
    {
     "data": {
      "text/plain": [
       "(111, 14)"
      ]
     },
     "execution_count": 15,
     "metadata": {},
     "output_type": "execute_result"
    }
   ],
   "source": [
    "valid.shape"
   ]
  },
  {
   "cell_type": "code",
   "execution_count": 30,
   "metadata": {
    "collapsed": false
   },
   "outputs": [
    {
     "name": "stdout",
     "output_type": "stream",
     "text": [
      "H2O session _sid_b2ab closed.\n"
     ]
    }
   ],
   "source": [
    "h2o.shutdown()"
   ]
  },
  {
   "cell_type": "code",
   "execution_count": null,
   "metadata": {
    "collapsed": true
   },
   "outputs": [],
   "source": []
  }
 ],
 "metadata": {
  "kernelspec": {
   "display_name": "Python 2",
   "language": "python",
   "name": "python2"
  },
  "language_info": {
   "codemirror_mode": {
    "name": "ipython",
    "version": 2
   },
   "file_extension": ".py",
   "mimetype": "text/x-python",
   "name": "python",
   "nbconvert_exporter": "python",
   "pygments_lexer": "ipython2",
   "version": "2.7.10"
  }
 },
 "nbformat": 4,
 "nbformat_minor": 1
}
