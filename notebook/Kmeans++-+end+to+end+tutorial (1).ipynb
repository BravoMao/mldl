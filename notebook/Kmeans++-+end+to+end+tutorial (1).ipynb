{
 "cells": [
  {
   "cell_type": "code",
   "execution_count": 1,
   "metadata": {
    "collapsed": true
   },
   "outputs": [],
   "source": [
    "import h2o"
   ]
  },
  {
   "cell_type": "code",
   "execution_count": 2,
   "metadata": {
    "collapsed": false
   },
   "outputs": [
    {
     "name": "stdout",
     "output_type": "stream",
     "text": [
      "Checking whether there is an H2O instance running at http://localhost:54321. connected.\n"
     ]
    },
    {
     "data": {
      "text/html": [
       "<div style=\"overflow:auto\"><table style=\"width:50%\"><tr><td>H2O cluster uptime:</td>\n",
       "<td>10 days 19 hours 15 mins</td></tr>\n",
       "<tr><td>H2O cluster version:</td>\n",
       "<td>3.11.0.99999</td></tr>\n",
       "<tr><td>H2O cluster version age:</td>\n",
       "<td>1 month and 22 days </td></tr>\n",
       "<tr><td>H2O cluster name:</td>\n",
       "<td>ubuntu</td></tr>\n",
       "<tr><td>H2O cluster total nodes:</td>\n",
       "<td>1</td></tr>\n",
       "<tr><td>H2O cluster free memory:</td>\n",
       "<td>8.76 Gb</td></tr>\n",
       "<tr><td>H2O cluster total cores:</td>\n",
       "<td>8</td></tr>\n",
       "<tr><td>H2O cluster allowed cores:</td>\n",
       "<td>8</td></tr>\n",
       "<tr><td>H2O cluster status:</td>\n",
       "<td>locked, healthy</td></tr>\n",
       "<tr><td>H2O connection url:</td>\n",
       "<td>http://localhost:54321</td></tr>\n",
       "<tr><td>H2O connection proxy:</td>\n",
       "<td>None</td></tr>\n",
       "<tr><td>Python version:</td>\n",
       "<td>2.7.12 final</td></tr></table></div>"
      ],
      "text/plain": [
       "--------------------------  ------------------------\n",
       "H2O cluster uptime:         10 days 19 hours 15 mins\n",
       "H2O cluster version:        3.11.0.99999\n",
       "H2O cluster version age:    1 month and 22 days\n",
       "H2O cluster name:           ubuntu\n",
       "H2O cluster total nodes:    1\n",
       "H2O cluster free memory:    8.76 Gb\n",
       "H2O cluster total cores:    8\n",
       "H2O cluster allowed cores:  8\n",
       "H2O cluster status:         locked, healthy\n",
       "H2O connection url:         http://localhost:54321\n",
       "H2O connection proxy:\n",
       "Python version:             2.7.12 final\n",
       "--------------------------  ------------------------"
      ]
     },
     "metadata": {},
     "output_type": "display_data"
    }
   ],
   "source": [
    "h2o.init(strict_version_check = False)"
   ]
  },
  {
   "cell_type": "code",
   "execution_count": 3,
   "metadata": {
    "collapsed": true
   },
   "outputs": [],
   "source": [
    "import imp\n",
    "from h2o.estimators.kmeans import H2OKMeansEstimator"
   ]
  },
  {
   "cell_type": "code",
   "execution_count": 4,
   "metadata": {
    "collapsed": false
   },
   "outputs": [
    {
     "name": "stdout",
     "output_type": "stream",
     "text": [
      "Parse progress: |█████████████████████████████████████████████████████████| 100%\n"
     ]
    }
   ],
   "source": [
    "iris = h2o.import_file(path=\"https://github.com/h2oai/h2o-3/raw/master/h2o-r/h2o-package/inst/extdata/iris_wheader.csv\")"
   ]
  },
  {
   "cell_type": "code",
   "execution_count": 5,
   "metadata": {
    "collapsed": false
   },
   "outputs": [
    {
     "name": "stdout",
     "output_type": "stream",
     "text": [
      "Rows:150\n",
      "Cols:5\n",
      "\n",
      "\n"
     ]
    },
    {
     "data": {
      "text/html": [
       "<table>\n",
       "<thead>\n",
       "<tr><th>       </th><th>sepal_len     </th><th>sepal_wid     </th><th>petal_len    </th><th>petal_wid     </th><th>class      </th></tr>\n",
       "</thead>\n",
       "<tbody>\n",
       "<tr><td>type   </td><td>real          </td><td>real          </td><td>real         </td><td>real          </td><td>enum       </td></tr>\n",
       "<tr><td>mins   </td><td>4.3           </td><td>2.0           </td><td>1.0          </td><td>0.1           </td><td>0.0        </td></tr>\n",
       "<tr><td>mean   </td><td>5.84333333333 </td><td>3.054         </td><td>3.75866666667</td><td>1.19866666667 </td><td>NaN        </td></tr>\n",
       "<tr><td>maxs   </td><td>7.9           </td><td>4.4           </td><td>6.9          </td><td>2.5           </td><td>2.0        </td></tr>\n",
       "<tr><td>sigma  </td><td>0.828066127978</td><td>0.433594311362</td><td>1.76442041995</td><td>0.763160741701</td><td>NaN        </td></tr>\n",
       "<tr><td>zeros  </td><td>0             </td><td>0             </td><td>0            </td><td>0             </td><td>50         </td></tr>\n",
       "<tr><td>missing</td><td>0             </td><td>0             </td><td>0            </td><td>0             </td><td>0          </td></tr>\n",
       "<tr><td>0      </td><td>5.1           </td><td>3.5           </td><td>1.4          </td><td>0.2           </td><td>Iris-setosa</td></tr>\n",
       "<tr><td>1      </td><td>4.9           </td><td>3.0           </td><td>1.4          </td><td>0.2           </td><td>Iris-setosa</td></tr>\n",
       "<tr><td>2      </td><td>4.7           </td><td>3.2           </td><td>1.3          </td><td>0.2           </td><td>Iris-setosa</td></tr>\n",
       "<tr><td>3      </td><td>4.6           </td><td>3.1           </td><td>1.5          </td><td>0.2           </td><td>Iris-setosa</td></tr>\n",
       "<tr><td>4      </td><td>5.0           </td><td>3.6           </td><td>1.4          </td><td>0.2           </td><td>Iris-setosa</td></tr>\n",
       "<tr><td>5      </td><td>5.4           </td><td>3.9           </td><td>1.7          </td><td>0.4           </td><td>Iris-setosa</td></tr>\n",
       "<tr><td>6      </td><td>4.6           </td><td>3.4           </td><td>1.4          </td><td>0.3           </td><td>Iris-setosa</td></tr>\n",
       "<tr><td>7      </td><td>5.0           </td><td>3.4           </td><td>1.5          </td><td>0.2           </td><td>Iris-setosa</td></tr>\n",
       "<tr><td>8      </td><td>4.4           </td><td>2.9           </td><td>1.4          </td><td>0.2           </td><td>Iris-setosa</td></tr>\n",
       "<tr><td>9      </td><td>4.9           </td><td>3.1           </td><td>1.5          </td><td>0.1           </td><td>Iris-setosa</td></tr>\n",
       "</tbody>\n",
       "</table>"
      ]
     },
     "metadata": {},
     "output_type": "display_data"
    }
   ],
   "source": [
    "iris.describe()"
   ]
  },
  {
   "cell_type": "code",
   "execution_count": 6,
   "metadata": {
    "collapsed": true
   },
   "outputs": [],
   "source": [
    "# Note: You must have seaborn install otherwise you will not see any graph\n",
    "\n",
    "try:\n",
    "    imp.find_module('pandas')\n",
    "    can_pandas = True\n",
    "    import pandas as pd\n",
    "except:\n",
    "    can_pandas = False\n",
    "    \n",
    "try:\n",
    "    imp.find_module('seaborn')\n",
    "    can_seaborn = True\n",
    "    import seaborn as sns\n",
    "except:\n",
    "    can_seaborn = False\n",
    "    print('You dont have seaborn package install, please install it.')\n",
    "\n",
    "%matplotlib inline\n",
    "\n",
    "if can_seaborn:\n",
    "    sns.set()"
   ]
  },
  {
   "cell_type": "code",
   "execution_count": 7,
   "metadata": {
    "collapsed": false
   },
   "outputs": [
    {
     "data": {
      "image/png": "[encoded data removed]",
      "text/plain": [
       "<matplotlib.figure.Figure at 0x7fba43a12c50>"
      ]
     },
     "metadata": {},
     "output_type": "display_data"
    }
   ],
   "source": [
    "if can_seaborn:\n",
    "    sns.set_context(\"notebook\")\n",
    "    sns.pairplot(iris.as_data_frame(True), vars=[\"sepal_len\", \"sepal_wid\", \"petal_len\", \"petal_wid\"], hue=\"class\");"
   ]
  },
  {
   "cell_type": "code",
   "execution_count": 8,
   "metadata": {
    "collapsed": false
   },
   "outputs": [
    {
     "name": "stdout",
     "output_type": "stream",
     "text": [
      "kmeans Model Build progress: |████████████████████████████████████████████| 100%\n",
      "kmeans Model Build progress: |████████████████████████████████████████████| 100%\n",
      "kmeans Model Build progress: |████████████████████████████████████████████| 100%\n",
      "kmeans Model Build progress: |████████████████████████████████████████████| 100%\n",
      "kmeans Model Build progress: |████████████████████████████████████████████| 100%\n",
      "kmeans Model Build progress: |████████████████████████████████████████████| 100%\n",
      "kmeans Model Build progress: |████████████████████████████████████████████| 100%\n",
      "kmeans Model Build progress: |████████████████████████████████████████████| 100%\n",
      "kmeans Model Build progress: |████████████████████████████████████████████| 100%\n",
      "kmeans Model Build progress: |████████████████████████████████████████████| 100%\n",
      "kmeans Model Build progress: |████████████████████████████████████████████| 100%\n"
     ]
    }
   ],
   "source": [
    "results = [H2OKMeansEstimator(k=clusters, init=\"Random\", seed=2, standardize=True) for clusters in range(2,13)]\n",
    "for estimator in results:\n",
    "    estimator.train(x=iris.col_names[0:-1], training_frame = iris)"
   ]
  },
  {
   "cell_type": "code",
   "execution_count": 9,
   "metadata": {
    "collapsed": false
   },
   "outputs": [
    {
     "name": "stdout",
     "output_type": "stream",
     "text": [
      "kmeans Model Build progress: |████████████████████████████████████████████| 100%\n"
     ]
    }
   ],
   "source": [
    "estimator = H2OKMeansEstimator(k=4, init=\"Random\", seed=2, standardize=True)\n",
    "estimator.train(x=iris.col_names[0:-1], training_frame = iris)"
   ]
  },
  {
   "cell_type": "code",
   "execution_count": 10,
   "metadata": {
    "collapsed": false
   },
   "outputs": [
    {
     "name": "stdout",
     "output_type": "stream",
     "text": [
      "Model Details\n",
      "=============\n",
      "H2OKMeansEstimator :  K-means\n",
      "Model Key:  KMeans_model_python_1482471484770_12\n",
      "Model Summary: \n"
     ]
    },
    {
     "data": {
      "text/html": [
       "<div style=\"overflow:auto\"><table style=\"width:50%\"><tr><td><b></b></td>\n",
       "<td><b>number_of_rows</b></td>\n",
       "<td><b>number_of_clusters</b></td>\n",
       "<td><b>number_of_categorical_columns</b></td>\n",
       "<td><b>number_of_iterations</b></td>\n",
       "<td><b>within_cluster_sum_of_squares</b></td>\n",
       "<td><b>total_sum_of_squares</b></td>\n",
       "<td><b>between_cluster_sum_of_squares</b></td></tr>\n",
       "<tr><td></td>\n",
       "<td>150.0</td>\n",
       "<td>4.0</td>\n",
       "<td>0.0</td>\n",
       "<td>6.0</td>\n",
       "<td>113.7875022</td>\n",
       "<td>596.0</td>\n",
       "<td>482.2124978</td></tr></table></div>"
      ],
      "text/plain": [
       "    number_of_rows    number_of_clusters    number_of_categorical_columns    number_of_iterations    within_cluster_sum_of_squares    total_sum_of_squares    between_cluster_sum_of_squares\n",
       "--  ----------------  --------------------  -------------------------------  ----------------------  -------------------------------  ----------------------  --------------------------------\n",
       "    150               4                     0                                6                       113.788                          596                     482.212"
      ]
     },
     "metadata": {},
     "output_type": "display_data"
    },
    {
     "name": "stdout",
     "output_type": "stream",
     "text": [
      "\n",
      "\n",
      "ModelMetricsClustering: kmeans\n",
      "** Reported on train data. **\n",
      "\n",
      "MSE: NaN\n",
      "RMSE: NaN\n",
      "Total Within Cluster Sum of Square Error: 113.787502197\n",
      "Total Sum of Square Error to Grand Mean: 596.0\n",
      "Between Cluster Sum of Square Error: 482.212497803\n",
      "Centroid Statistics: \n"
     ]
    },
    {
     "data": {
      "text/html": [
       "<div style=\"overflow:auto\"><table style=\"width:50%\"><tr><td><b></b></td>\n",
       "<td><b>centroid</b></td>\n",
       "<td><b>size</b></td>\n",
       "<td><b>within_cluster_sum_of_squares</b></td></tr>\n",
       "<tr><td></td>\n",
       "<td>1.0</td>\n",
       "<td>44.0</td>\n",
       "<td>43.4763391</td></tr>\n",
       "<tr><td></td>\n",
       "<td>2.0</td>\n",
       "<td>26.0</td>\n",
       "<td>9.8031248</td></tr>\n",
       "<tr><td></td>\n",
       "<td>3.0</td>\n",
       "<td>24.0</td>\n",
       "<td>11.9295379</td></tr>\n",
       "<tr><td></td>\n",
       "<td>4.0</td>\n",
       "<td>56.0</td>\n",
       "<td>48.5785003</td></tr></table></div>"
      ],
      "text/plain": [
       "    centroid    size    within_cluster_sum_of_squares\n",
       "--  ----------  ------  -------------------------------\n",
       "    1           44      43.4763\n",
       "    2           26      9.80312\n",
       "    3           24      11.9295\n",
       "    4           56      48.5785"
      ]
     },
     "metadata": {},
     "output_type": "display_data"
    },
    {
     "name": "stdout",
     "output_type": "stream",
     "text": [
      "Scoring History: \n"
     ]
    },
    {
     "data": {
      "text/html": [
       "<div style=\"overflow:auto\"><table style=\"width:50%\"><tr><td><b></b></td>\n",
       "<td><b>timestamp</b></td>\n",
       "<td><b>duration</b></td>\n",
       "<td><b>iteration</b></td>\n",
       "<td><b>number_of_reassigned_observations</b></td>\n",
       "<td><b>within_cluster_sum_of_squares</b></td></tr>\n",
       "<tr><td></td>\n",
       "<td>2017-01-03 00:55:03</td>\n",
       "<td> 0.002 sec</td>\n",
       "<td>0.0</td>\n",
       "<td>nan</td>\n",
       "<td>nan</td></tr>\n",
       "<tr><td></td>\n",
       "<td>2017-01-03 00:55:03</td>\n",
       "<td> 0.053 sec</td>\n",
       "<td>1.0</td>\n",
       "<td>150.0</td>\n",
       "<td>217.4382746</td></tr>\n",
       "<tr><td></td>\n",
       "<td>2017-01-03 00:55:03</td>\n",
       "<td> 0.060 sec</td>\n",
       "<td>2.0</td>\n",
       "<td>32.0</td>\n",
       "<td>153.5126770</td></tr>\n",
       "<tr><td></td>\n",
       "<td>2017-01-03 00:55:03</td>\n",
       "<td> 0.061 sec</td>\n",
       "<td>3.0</td>\n",
       "<td>8.0</td>\n",
       "<td>115.5520631</td></tr>\n",
       "<tr><td></td>\n",
       "<td>2017-01-03 00:55:03</td>\n",
       "<td> 0.062 sec</td>\n",
       "<td>4.0</td>\n",
       "<td>2.0</td>\n",
       "<td>114.1098688</td></tr>\n",
       "<tr><td></td>\n",
       "<td>2017-01-03 00:55:03</td>\n",
       "<td> 0.062 sec</td>\n",
       "<td>5.0</td>\n",
       "<td>1.0</td>\n",
       "<td>113.8440088</td></tr>\n",
       "<tr><td></td>\n",
       "<td>2017-01-03 00:55:03</td>\n",
       "<td> 0.063 sec</td>\n",
       "<td>6.0</td>\n",
       "<td>0.0</td>\n",
       "<td>113.7875022</td></tr></table></div>"
      ],
      "text/plain": [
       "    timestamp            duration    iteration    number_of_reassigned_observations    within_cluster_sum_of_squares\n",
       "--  -------------------  ----------  -----------  -----------------------------------  -------------------------------\n",
       "    2017-01-03 00:55:03  0.002 sec   0            nan                                  nan\n",
       "    2017-01-03 00:55:03  0.053 sec   1            150                                  217.438\n",
       "    2017-01-03 00:55:03  0.060 sec   2            32                                   153.513\n",
       "    2017-01-03 00:55:03  0.061 sec   3            8                                    115.552\n",
       "    2017-01-03 00:55:03  0.062 sec   4            2                                    114.11\n",
       "    2017-01-03 00:55:03  0.062 sec   5            1                                    113.844\n",
       "    2017-01-03 00:55:03  0.063 sec   6            0                                    113.788"
      ]
     },
     "metadata": {},
     "output_type": "display_data"
    },
    {
     "name": "stdout",
     "output_type": "stream",
     "text": [
      "<bound method H2OKMeansEstimator.predict_leaf_node_assignment of >\n"
     ]
    }
   ],
   "source": [
    "print(estimator.predict_leaf_node_assignment)"
   ]
  },
  {
   "cell_type": "code",
   "execution_count": 11,
   "metadata": {
    "collapsed": false
   },
   "outputs": [
    {
     "name": "stdout",
     "output_type": "stream",
     "text": [
      "Model Details\n",
      "=============\n",
      "H2OKMeansEstimator :  K-means\n",
      "Model Key:  KMeans_model_python_1482471484770_12\n",
      "Model Summary: \n"
     ]
    },
    {
     "data": {
      "text/html": [
       "<div style=\"overflow:auto\"><table style=\"width:50%\"><tr><td><b></b></td>\n",
       "<td><b>number_of_rows</b></td>\n",
       "<td><b>number_of_clusters</b></td>\n",
       "<td><b>number_of_categorical_columns</b></td>\n",
       "<td><b>number_of_iterations</b></td>\n",
       "<td><b>within_cluster_sum_of_squares</b></td>\n",
       "<td><b>total_sum_of_squares</b></td>\n",
       "<td><b>between_cluster_sum_of_squares</b></td></tr>\n",
       "<tr><td></td>\n",
       "<td>150.0</td>\n",
       "<td>4.0</td>\n",
       "<td>0.0</td>\n",
       "<td>6.0</td>\n",
       "<td>113.7875022</td>\n",
       "<td>596.0</td>\n",
       "<td>482.2124978</td></tr></table></div>"
      ],
      "text/plain": [
       "    number_of_rows    number_of_clusters    number_of_categorical_columns    number_of_iterations    within_cluster_sum_of_squares    total_sum_of_squares    between_cluster_sum_of_squares\n",
       "--  ----------------  --------------------  -------------------------------  ----------------------  -------------------------------  ----------------------  --------------------------------\n",
       "    150               4                     0                                6                       113.788                          596                     482.212"
      ]
     },
     "metadata": {},
     "output_type": "display_data"
    },
    {
     "name": "stdout",
     "output_type": "stream",
     "text": [
      "\n",
      "\n",
      "ModelMetricsClustering: kmeans\n",
      "** Reported on train data. **\n",
      "\n",
      "MSE: NaN\n",
      "RMSE: NaN\n",
      "Total Within Cluster Sum of Square Error: 113.787502197\n",
      "Total Sum of Square Error to Grand Mean: 596.0\n",
      "Between Cluster Sum of Square Error: 482.212497803\n",
      "Centroid Statistics: \n"
     ]
    },
    {
     "data": {
      "text/html": [
       "<div style=\"overflow:auto\"><table style=\"width:50%\"><tr><td><b></b></td>\n",
       "<td><b>centroid</b></td>\n",
       "<td><b>size</b></td>\n",
       "<td><b>within_cluster_sum_of_squares</b></td></tr>\n",
       "<tr><td></td>\n",
       "<td>1.0</td>\n",
       "<td>44.0</td>\n",
       "<td>43.4763391</td></tr>\n",
       "<tr><td></td>\n",
       "<td>2.0</td>\n",
       "<td>26.0</td>\n",
       "<td>9.8031248</td></tr>\n",
       "<tr><td></td>\n",
       "<td>3.0</td>\n",
       "<td>24.0</td>\n",
       "<td>11.9295379</td></tr>\n",
       "<tr><td></td>\n",
       "<td>4.0</td>\n",
       "<td>56.0</td>\n",
       "<td>48.5785003</td></tr></table></div>"
      ],
      "text/plain": [
       "    centroid    size    within_cluster_sum_of_squares\n",
       "--  ----------  ------  -------------------------------\n",
       "    1           44      43.4763\n",
       "    2           26      9.80312\n",
       "    3           24      11.9295\n",
       "    4           56      48.5785"
      ]
     },
     "metadata": {},
     "output_type": "display_data"
    },
    {
     "name": "stdout",
     "output_type": "stream",
     "text": [
      "Scoring History: \n"
     ]
    },
    {
     "data": {
      "text/html": [
       "<div style=\"overflow:auto\"><table style=\"width:50%\"><tr><td><b></b></td>\n",
       "<td><b>timestamp</b></td>\n",
       "<td><b>duration</b></td>\n",
       "<td><b>iteration</b></td>\n",
       "<td><b>number_of_reassigned_observations</b></td>\n",
       "<td><b>within_cluster_sum_of_squares</b></td></tr>\n",
       "<tr><td></td>\n",
       "<td>2017-01-03 00:55:03</td>\n",
       "<td> 0.002 sec</td>\n",
       "<td>0.0</td>\n",
       "<td>nan</td>\n",
       "<td>nan</td></tr>\n",
       "<tr><td></td>\n",
       "<td>2017-01-03 00:55:03</td>\n",
       "<td> 0.053 sec</td>\n",
       "<td>1.0</td>\n",
       "<td>150.0</td>\n",
       "<td>217.4382746</td></tr>\n",
       "<tr><td></td>\n",
       "<td>2017-01-03 00:55:03</td>\n",
       "<td> 0.060 sec</td>\n",
       "<td>2.0</td>\n",
       "<td>32.0</td>\n",
       "<td>153.5126770</td></tr>\n",
       "<tr><td></td>\n",
       "<td>2017-01-03 00:55:03</td>\n",
       "<td> 0.061 sec</td>\n",
       "<td>3.0</td>\n",
       "<td>8.0</td>\n",
       "<td>115.5520631</td></tr>\n",
       "<tr><td></td>\n",
       "<td>2017-01-03 00:55:03</td>\n",
       "<td> 0.062 sec</td>\n",
       "<td>4.0</td>\n",
       "<td>2.0</td>\n",
       "<td>114.1098688</td></tr>\n",
       "<tr><td></td>\n",
       "<td>2017-01-03 00:55:03</td>\n",
       "<td> 0.062 sec</td>\n",
       "<td>5.0</td>\n",
       "<td>1.0</td>\n",
       "<td>113.8440088</td></tr>\n",
       "<tr><td></td>\n",
       "<td>2017-01-03 00:55:03</td>\n",
       "<td> 0.063 sec</td>\n",
       "<td>6.0</td>\n",
       "<td>0.0</td>\n",
       "<td>113.7875022</td></tr></table></div>"
      ],
      "text/plain": [
       "    timestamp            duration    iteration    number_of_reassigned_observations    within_cluster_sum_of_squares\n",
       "--  -------------------  ----------  -----------  -----------------------------------  -------------------------------\n",
       "    2017-01-03 00:55:03  0.002 sec   0            nan                                  nan\n",
       "    2017-01-03 00:55:03  0.053 sec   1            150                                  217.438\n",
       "    2017-01-03 00:55:03  0.060 sec   2            32                                   153.513\n",
       "    2017-01-03 00:55:03  0.061 sec   3            8                                    115.552\n",
       "    2017-01-03 00:55:03  0.062 sec   4            2                                    114.11\n",
       "    2017-01-03 00:55:03  0.062 sec   5            1                                    113.844\n",
       "    2017-01-03 00:55:03  0.063 sec   6            0                                    113.788"
      ]
     },
     "metadata": {},
     "output_type": "display_data"
    },
    {
     "data": {
      "text/plain": []
     },
     "execution_count": 11,
     "metadata": {},
     "output_type": "execute_result"
    }
   ],
   "source": [
    "estimator"
   ]
  },
  {
   "cell_type": "code",
   "execution_count": 12,
   "metadata": {
    "collapsed": false
   },
   "outputs": [
    {
     "name": "stdout",
     "output_type": "stream",
     "text": [
      "kmeans prediction progress: |█████████████████████████████████████████████| 100%\n"
     ]
    }
   ],
   "source": [
    "predicted = estimator.predict(iris)"
   ]
  },
  {
   "cell_type": "code",
   "execution_count": 13,
   "metadata": {
    "collapsed": false
   },
   "outputs": [
    {
     "data": {
      "text/html": [
       "<table>\n",
       "<thead>\n",
       "<tr><th style=\"text-align: right;\">  predict</th></tr>\n",
       "</thead>\n",
       "<tbody>\n",
       "<tr><td style=\"text-align: right;\">        2</td></tr>\n",
       "<tr><td style=\"text-align: right;\">        1</td></tr>\n",
       "<tr><td style=\"text-align: right;\">        1</td></tr>\n",
       "<tr><td style=\"text-align: right;\">        1</td></tr>\n",
       "<tr><td style=\"text-align: right;\">        2</td></tr>\n",
       "<tr><td style=\"text-align: right;\">        2</td></tr>\n",
       "<tr><td style=\"text-align: right;\">        1</td></tr>\n",
       "<tr><td style=\"text-align: right;\">        1</td></tr>\n",
       "<tr><td style=\"text-align: right;\">        1</td></tr>\n",
       "<tr><td style=\"text-align: right;\">        1</td></tr>\n",
       "</tbody>\n",
       "</table>"
      ]
     },
     "metadata": {},
     "output_type": "display_data"
    },
    {
     "data": {
      "text/plain": []
     },
     "execution_count": 13,
     "metadata": {},
     "output_type": "execute_result"
    }
   ],
   "source": [
    "predicted"
   ]
  },
  {
   "cell_type": "code",
   "execution_count": 14,
   "metadata": {
    "collapsed": false
   },
   "outputs": [],
   "source": [
    "iris[\"Predicted\"] = predicted[\"predict\"].asfactor()"
   ]
  },
  {
   "cell_type": "code",
   "execution_count": 15,
   "metadata": {
    "collapsed": false
   },
   "outputs": [
    {
     "data": {
      "text/html": [
       "<table>\n",
       "<thead>\n",
       "<tr><th style=\"text-align: right;\">  sepal_len</th><th style=\"text-align: right;\">  sepal_wid</th><th style=\"text-align: right;\">  petal_len</th><th style=\"text-align: right;\">  petal_wid</th><th>class      </th><th style=\"text-align: right;\">  Predicted</th></tr>\n",
       "</thead>\n",
       "<tbody>\n",
       "<tr><td style=\"text-align: right;\">        5.1</td><td style=\"text-align: right;\">        3.5</td><td style=\"text-align: right;\">        1.4</td><td style=\"text-align: right;\">        0.2</td><td>Iris-setosa</td><td style=\"text-align: right;\">          2</td></tr>\n",
       "<tr><td style=\"text-align: right;\">        4.9</td><td style=\"text-align: right;\">        3  </td><td style=\"text-align: right;\">        1.4</td><td style=\"text-align: right;\">        0.2</td><td>Iris-setosa</td><td style=\"text-align: right;\">          1</td></tr>\n",
       "<tr><td style=\"text-align: right;\">        4.7</td><td style=\"text-align: right;\">        3.2</td><td style=\"text-align: right;\">        1.3</td><td style=\"text-align: right;\">        0.2</td><td>Iris-setosa</td><td style=\"text-align: right;\">          1</td></tr>\n",
       "<tr><td style=\"text-align: right;\">        4.6</td><td style=\"text-align: right;\">        3.1</td><td style=\"text-align: right;\">        1.5</td><td style=\"text-align: right;\">        0.2</td><td>Iris-setosa</td><td style=\"text-align: right;\">          1</td></tr>\n",
       "<tr><td style=\"text-align: right;\">        5  </td><td style=\"text-align: right;\">        3.6</td><td style=\"text-align: right;\">        1.4</td><td style=\"text-align: right;\">        0.2</td><td>Iris-setosa</td><td style=\"text-align: right;\">          2</td></tr>\n",
       "<tr><td style=\"text-align: right;\">        5.4</td><td style=\"text-align: right;\">        3.9</td><td style=\"text-align: right;\">        1.7</td><td style=\"text-align: right;\">        0.4</td><td>Iris-setosa</td><td style=\"text-align: right;\">          2</td></tr>\n",
       "<tr><td style=\"text-align: right;\">        4.6</td><td style=\"text-align: right;\">        3.4</td><td style=\"text-align: right;\">        1.4</td><td style=\"text-align: right;\">        0.3</td><td>Iris-setosa</td><td style=\"text-align: right;\">          1</td></tr>\n",
       "<tr><td style=\"text-align: right;\">        5  </td><td style=\"text-align: right;\">        3.4</td><td style=\"text-align: right;\">        1.5</td><td style=\"text-align: right;\">        0.2</td><td>Iris-setosa</td><td style=\"text-align: right;\">          1</td></tr>\n",
       "<tr><td style=\"text-align: right;\">        4.4</td><td style=\"text-align: right;\">        2.9</td><td style=\"text-align: right;\">        1.4</td><td style=\"text-align: right;\">        0.2</td><td>Iris-setosa</td><td style=\"text-align: right;\">          1</td></tr>\n",
       "<tr><td style=\"text-align: right;\">        4.9</td><td style=\"text-align: right;\">        3.1</td><td style=\"text-align: right;\">        1.5</td><td style=\"text-align: right;\">        0.1</td><td>Iris-setosa</td><td style=\"text-align: right;\">          1</td></tr>\n",
       "</tbody>\n",
       "</table>"
      ]
     },
     "metadata": {},
     "output_type": "display_data"
    },
    {
     "data": {
      "text/plain": [
       "<bound method H2OFrame.head of >"
      ]
     },
     "execution_count": 15,
     "metadata": {},
     "output_type": "execute_result"
    }
   ],
   "source": [
    "iris.head"
   ]
  },
  {
   "cell_type": "code",
   "execution_count": 16,
   "metadata": {
    "collapsed": false
   },
   "outputs": [
    {
     "data": {
      "text/html": [
       "<table>\n",
       "<thead>\n",
       "<tr><th style=\"text-align: right;\">  Predicted</th></tr>\n",
       "</thead>\n",
       "<tbody>\n",
       "<tr><td style=\"text-align: right;\">          2</td></tr>\n",
       "<tr><td style=\"text-align: right;\">          1</td></tr>\n",
       "<tr><td style=\"text-align: right;\">          1</td></tr>\n",
       "<tr><td style=\"text-align: right;\">          1</td></tr>\n",
       "<tr><td style=\"text-align: right;\">          2</td></tr>\n",
       "<tr><td style=\"text-align: right;\">          2</td></tr>\n",
       "<tr><td style=\"text-align: right;\">          1</td></tr>\n",
       "<tr><td style=\"text-align: right;\">          1</td></tr>\n",
       "<tr><td style=\"text-align: right;\">          1</td></tr>\n",
       "<tr><td style=\"text-align: right;\">          1</td></tr>\n",
       "</tbody>\n",
       "</table>"
      ]
     },
     "metadata": {},
     "output_type": "display_data"
    },
    {
     "data": {
      "text/plain": []
     },
     "execution_count": 16,
     "metadata": {},
     "output_type": "execute_result"
    }
   ],
   "source": [
    "iris['Predicted']"
   ]
  },
  {
   "cell_type": "code",
   "execution_count": 17,
   "metadata": {
    "collapsed": false
   },
   "outputs": [
    {
     "name": "stdout",
     "output_type": "stream",
     "text": [
      "Rows:150\n",
      "Cols:6\n",
      "\n",
      "\n"
     ]
    },
    {
     "data": {
      "text/html": [
       "<table>\n",
       "<thead>\n",
       "<tr><th>       </th><th>sepal_len     </th><th>sepal_wid     </th><th>petal_len    </th><th>petal_wid     </th><th>class      </th><th>Predicted  </th></tr>\n",
       "</thead>\n",
       "<tbody>\n",
       "<tr><td>type   </td><td>real          </td><td>real          </td><td>real         </td><td>real          </td><td>enum       </td><td>enum       </td></tr>\n",
       "<tr><td>mins   </td><td>4.3           </td><td>2.0           </td><td>1.0          </td><td>0.1           </td><td>0.0        </td><td>0.0        </td></tr>\n",
       "<tr><td>mean   </td><td>5.84333333333 </td><td>3.054         </td><td>3.75866666667</td><td>1.19866666667 </td><td>NaN        </td><td>NaN        </td></tr>\n",
       "<tr><td>maxs   </td><td>7.9           </td><td>4.4           </td><td>6.9          </td><td>2.5           </td><td>2.0        </td><td>3.0        </td></tr>\n",
       "<tr><td>sigma  </td><td>0.828066127978</td><td>0.433594311362</td><td>1.76442041995</td><td>0.763160741701</td><td>NaN        </td><td>NaN        </td></tr>\n",
       "<tr><td>zeros  </td><td>0             </td><td>0             </td><td>0            </td><td>0             </td><td>50         </td><td>44         </td></tr>\n",
       "<tr><td>missing</td><td>0             </td><td>0             </td><td>0            </td><td>0             </td><td>0          </td><td>0          </td></tr>\n",
       "<tr><td>0      </td><td>5.1           </td><td>3.5           </td><td>1.4          </td><td>0.2           </td><td>Iris-setosa</td><td>2          </td></tr>\n",
       "<tr><td>1      </td><td>4.9           </td><td>3.0           </td><td>1.4          </td><td>0.2           </td><td>Iris-setosa</td><td>1          </td></tr>\n",
       "<tr><td>2      </td><td>4.7           </td><td>3.2           </td><td>1.3          </td><td>0.2           </td><td>Iris-setosa</td><td>1          </td></tr>\n",
       "<tr><td>3      </td><td>4.6           </td><td>3.1           </td><td>1.5          </td><td>0.2           </td><td>Iris-setosa</td><td>1          </td></tr>\n",
       "<tr><td>4      </td><td>5.0           </td><td>3.6           </td><td>1.4          </td><td>0.2           </td><td>Iris-setosa</td><td>2          </td></tr>\n",
       "<tr><td>5      </td><td>5.4           </td><td>3.9           </td><td>1.7          </td><td>0.4           </td><td>Iris-setosa</td><td>2          </td></tr>\n",
       "<tr><td>6      </td><td>4.6           </td><td>3.4           </td><td>1.4          </td><td>0.3           </td><td>Iris-setosa</td><td>1          </td></tr>\n",
       "<tr><td>7      </td><td>5.0           </td><td>3.4           </td><td>1.5          </td><td>0.2           </td><td>Iris-setosa</td><td>1          </td></tr>\n",
       "<tr><td>8      </td><td>4.4           </td><td>2.9           </td><td>1.4          </td><td>0.2           </td><td>Iris-setosa</td><td>1          </td></tr>\n",
       "<tr><td>9      </td><td>4.9           </td><td>3.1           </td><td>1.5          </td><td>0.1           </td><td>Iris-setosa</td><td>1          </td></tr>\n",
       "</tbody>\n",
       "</table>"
      ]
     },
     "metadata": {},
     "output_type": "display_data"
    }
   ],
   "source": [
    "iris.describe()"
   ]
  },
  {
   "cell_type": "code",
   "execution_count": 18,
   "metadata": {
    "collapsed": false
   },
   "outputs": [
    {
     "data": {
      "text/plain": [
       "h2o.frame.H2OFrame"
      ]
     },
     "execution_count": 18,
     "metadata": {},
     "output_type": "execute_result"
    }
   ],
   "source": [
    "type(iris)"
   ]
  },
  {
   "cell_type": "code",
   "execution_count": 19,
   "metadata": {
    "collapsed": false
   },
   "outputs": [
    {
     "data": {
      "text/plain": [
       "h2o.frame.H2OFrame"
      ]
     },
     "execution_count": 19,
     "metadata": {},
     "output_type": "execute_result"
    }
   ],
   "source": [
    "iris.__class__"
   ]
  },
  {
   "cell_type": "code",
   "execution_count": 20,
   "metadata": {
    "collapsed": false
   },
   "outputs": [],
   "source": [
    "iris1 = h2o.as_list(iris)"
   ]
  },
  {
   "cell_type": "code",
   "execution_count": 21,
   "metadata": {
    "collapsed": false
   },
   "outputs": [
    {
     "data": {
      "text/plain": [
       "pandas.core.frame.DataFrame"
      ]
     },
     "execution_count": 21,
     "metadata": {},
     "output_type": "execute_result"
    }
   ],
   "source": [
    "type(iris1)"
   ]
  },
  {
   "cell_type": "code",
   "execution_count": 22,
   "metadata": {
    "collapsed": false
   },
   "outputs": [
    {
     "data": {
      "text/html": [
       "<div>\n",
       "<table border=\"1\" class=\"dataframe\">\n",
       "  <thead>\n",
       "    <tr style=\"text-align: right;\">\n",
       "      <th></th>\n",
       "      <th>sepal_len</th>\n",
       "      <th>sepal_wid</th>\n",
       "      <th>petal_len</th>\n",
       "      <th>petal_wid</th>\n",
       "      <th>class</th>\n",
       "      <th>Predicted</th>\n",
       "    </tr>\n",
       "  </thead>\n",
       "  <tbody>\n",
       "    <tr>\n",
       "      <th>0</th>\n",
       "      <td>5.1</td>\n",
       "      <td>3.5</td>\n",
       "      <td>1.4</td>\n",
       "      <td>0.2</td>\n",
       "      <td>Iris-setosa</td>\n",
       "      <td>2</td>\n",
       "    </tr>\n",
       "    <tr>\n",
       "      <th>1</th>\n",
       "      <td>4.9</td>\n",
       "      <td>3.0</td>\n",
       "      <td>1.4</td>\n",
       "      <td>0.2</td>\n",
       "      <td>Iris-setosa</td>\n",
       "      <td>1</td>\n",
       "    </tr>\n",
       "    <tr>\n",
       "      <th>2</th>\n",
       "      <td>4.7</td>\n",
       "      <td>3.2</td>\n",
       "      <td>1.3</td>\n",
       "      <td>0.2</td>\n",
       "      <td>Iris-setosa</td>\n",
       "      <td>1</td>\n",
       "    </tr>\n",
       "    <tr>\n",
       "      <th>3</th>\n",
       "      <td>4.6</td>\n",
       "      <td>3.1</td>\n",
       "      <td>1.5</td>\n",
       "      <td>0.2</td>\n",
       "      <td>Iris-setosa</td>\n",
       "      <td>1</td>\n",
       "    </tr>\n",
       "    <tr>\n",
       "      <th>4</th>\n",
       "      <td>5.0</td>\n",
       "      <td>3.6</td>\n",
       "      <td>1.4</td>\n",
       "      <td>0.2</td>\n",
       "      <td>Iris-setosa</td>\n",
       "      <td>2</td>\n",
       "    </tr>\n",
       "    <tr>\n",
       "      <th>5</th>\n",
       "      <td>5.4</td>\n",
       "      <td>3.9</td>\n",
       "      <td>1.7</td>\n",
       "      <td>0.4</td>\n",
       "      <td>Iris-setosa</td>\n",
       "      <td>2</td>\n",
       "    </tr>\n",
       "    <tr>\n",
       "      <th>6</th>\n",
       "      <td>4.6</td>\n",
       "      <td>3.4</td>\n",
       "      <td>1.4</td>\n",
       "      <td>0.3</td>\n",
       "      <td>Iris-setosa</td>\n",
       "      <td>1</td>\n",
       "    </tr>\n",
       "    <tr>\n",
       "      <th>7</th>\n",
       "      <td>5.0</td>\n",
       "      <td>3.4</td>\n",
       "      <td>1.5</td>\n",
       "      <td>0.2</td>\n",
       "      <td>Iris-setosa</td>\n",
       "      <td>1</td>\n",
       "    </tr>\n",
       "    <tr>\n",
       "      <th>8</th>\n",
       "      <td>4.4</td>\n",
       "      <td>2.9</td>\n",
       "      <td>1.4</td>\n",
       "      <td>0.2</td>\n",
       "      <td>Iris-setosa</td>\n",
       "      <td>1</td>\n",
       "    </tr>\n",
       "    <tr>\n",
       "      <th>9</th>\n",
       "      <td>4.9</td>\n",
       "      <td>3.1</td>\n",
       "      <td>1.5</td>\n",
       "      <td>0.1</td>\n",
       "      <td>Iris-setosa</td>\n",
       "      <td>1</td>\n",
       "    </tr>\n",
       "    <tr>\n",
       "      <th>10</th>\n",
       "      <td>5.4</td>\n",
       "      <td>3.7</td>\n",
       "      <td>1.5</td>\n",
       "      <td>0.2</td>\n",
       "      <td>Iris-setosa</td>\n",
       "      <td>2</td>\n",
       "    </tr>\n",
       "    <tr>\n",
       "      <th>11</th>\n",
       "      <td>4.8</td>\n",
       "      <td>3.4</td>\n",
       "      <td>1.6</td>\n",
       "      <td>0.2</td>\n",
       "      <td>Iris-setosa</td>\n",
       "      <td>1</td>\n",
       "    </tr>\n",
       "    <tr>\n",
       "      <th>12</th>\n",
       "      <td>4.8</td>\n",
       "      <td>3.0</td>\n",
       "      <td>1.4</td>\n",
       "      <td>0.1</td>\n",
       "      <td>Iris-setosa</td>\n",
       "      <td>1</td>\n",
       "    </tr>\n",
       "    <tr>\n",
       "      <th>13</th>\n",
       "      <td>4.3</td>\n",
       "      <td>3.0</td>\n",
       "      <td>1.1</td>\n",
       "      <td>0.1</td>\n",
       "      <td>Iris-setosa</td>\n",
       "      <td>1</td>\n",
       "    </tr>\n",
       "    <tr>\n",
       "      <th>14</th>\n",
       "      <td>5.8</td>\n",
       "      <td>4.0</td>\n",
       "      <td>1.2</td>\n",
       "      <td>0.2</td>\n",
       "      <td>Iris-setosa</td>\n",
       "      <td>2</td>\n",
       "    </tr>\n",
       "    <tr>\n",
       "      <th>15</th>\n",
       "      <td>5.7</td>\n",
       "      <td>4.4</td>\n",
       "      <td>1.5</td>\n",
       "      <td>0.4</td>\n",
       "      <td>Iris-setosa</td>\n",
       "      <td>2</td>\n",
       "    </tr>\n",
       "    <tr>\n",
       "      <th>16</th>\n",
       "      <td>5.4</td>\n",
       "      <td>3.9</td>\n",
       "      <td>1.3</td>\n",
       "      <td>0.4</td>\n",
       "      <td>Iris-setosa</td>\n",
       "      <td>2</td>\n",
       "    </tr>\n",
       "    <tr>\n",
       "      <th>17</th>\n",
       "      <td>5.1</td>\n",
       "      <td>3.5</td>\n",
       "      <td>1.4</td>\n",
       "      <td>0.3</td>\n",
       "      <td>Iris-setosa</td>\n",
       "      <td>2</td>\n",
       "    </tr>\n",
       "    <tr>\n",
       "      <th>18</th>\n",
       "      <td>5.7</td>\n",
       "      <td>3.8</td>\n",
       "      <td>1.7</td>\n",
       "      <td>0.3</td>\n",
       "      <td>Iris-setosa</td>\n",
       "      <td>2</td>\n",
       "    </tr>\n",
       "    <tr>\n",
       "      <th>19</th>\n",
       "      <td>5.1</td>\n",
       "      <td>3.8</td>\n",
       "      <td>1.5</td>\n",
       "      <td>0.3</td>\n",
       "      <td>Iris-setosa</td>\n",
       "      <td>2</td>\n",
       "    </tr>\n",
       "    <tr>\n",
       "      <th>20</th>\n",
       "      <td>5.4</td>\n",
       "      <td>3.4</td>\n",
       "      <td>1.7</td>\n",
       "      <td>0.2</td>\n",
       "      <td>Iris-setosa</td>\n",
       "      <td>2</td>\n",
       "    </tr>\n",
       "    <tr>\n",
       "      <th>21</th>\n",
       "      <td>5.1</td>\n",
       "      <td>3.7</td>\n",
       "      <td>1.5</td>\n",
       "      <td>0.4</td>\n",
       "      <td>Iris-setosa</td>\n",
       "      <td>2</td>\n",
       "    </tr>\n",
       "    <tr>\n",
       "      <th>22</th>\n",
       "      <td>4.6</td>\n",
       "      <td>3.6</td>\n",
       "      <td>1.0</td>\n",
       "      <td>0.2</td>\n",
       "      <td>Iris-setosa</td>\n",
       "      <td>2</td>\n",
       "    </tr>\n",
       "    <tr>\n",
       "      <th>23</th>\n",
       "      <td>5.1</td>\n",
       "      <td>3.3</td>\n",
       "      <td>1.7</td>\n",
       "      <td>0.5</td>\n",
       "      <td>Iris-setosa</td>\n",
       "      <td>1</td>\n",
       "    </tr>\n",
       "    <tr>\n",
       "      <th>24</th>\n",
       "      <td>4.8</td>\n",
       "      <td>3.4</td>\n",
       "      <td>1.9</td>\n",
       "      <td>0.2</td>\n",
       "      <td>Iris-setosa</td>\n",
       "      <td>1</td>\n",
       "    </tr>\n",
       "    <tr>\n",
       "      <th>25</th>\n",
       "      <td>5.0</td>\n",
       "      <td>3.0</td>\n",
       "      <td>1.6</td>\n",
       "      <td>0.2</td>\n",
       "      <td>Iris-setosa</td>\n",
       "      <td>1</td>\n",
       "    </tr>\n",
       "    <tr>\n",
       "      <th>26</th>\n",
       "      <td>5.0</td>\n",
       "      <td>3.4</td>\n",
       "      <td>1.6</td>\n",
       "      <td>0.4</td>\n",
       "      <td>Iris-setosa</td>\n",
       "      <td>1</td>\n",
       "    </tr>\n",
       "    <tr>\n",
       "      <th>27</th>\n",
       "      <td>5.2</td>\n",
       "      <td>3.5</td>\n",
       "      <td>1.5</td>\n",
       "      <td>0.2</td>\n",
       "      <td>Iris-setosa</td>\n",
       "      <td>2</td>\n",
       "    </tr>\n",
       "    <tr>\n",
       "      <th>28</th>\n",
       "      <td>5.2</td>\n",
       "      <td>3.4</td>\n",
       "      <td>1.4</td>\n",
       "      <td>0.2</td>\n",
       "      <td>Iris-setosa</td>\n",
       "      <td>2</td>\n",
       "    </tr>\n",
       "    <tr>\n",
       "      <th>29</th>\n",
       "      <td>4.7</td>\n",
       "      <td>3.2</td>\n",
       "      <td>1.6</td>\n",
       "      <td>0.2</td>\n",
       "      <td>Iris-setosa</td>\n",
       "      <td>1</td>\n",
       "    </tr>\n",
       "    <tr>\n",
       "      <th>...</th>\n",
       "      <td>...</td>\n",
       "      <td>...</td>\n",
       "      <td>...</td>\n",
       "      <td>...</td>\n",
       "      <td>...</td>\n",
       "      <td>...</td>\n",
       "    </tr>\n",
       "    <tr>\n",
       "      <th>120</th>\n",
       "      <td>6.9</td>\n",
       "      <td>3.2</td>\n",
       "      <td>5.7</td>\n",
       "      <td>2.3</td>\n",
       "      <td>Iris-virginica</td>\n",
       "      <td>0</td>\n",
       "    </tr>\n",
       "    <tr>\n",
       "      <th>121</th>\n",
       "      <td>5.6</td>\n",
       "      <td>2.8</td>\n",
       "      <td>4.9</td>\n",
       "      <td>2.0</td>\n",
       "      <td>Iris-virginica</td>\n",
       "      <td>3</td>\n",
       "    </tr>\n",
       "    <tr>\n",
       "      <th>122</th>\n",
       "      <td>7.7</td>\n",
       "      <td>2.8</td>\n",
       "      <td>6.7</td>\n",
       "      <td>2.0</td>\n",
       "      <td>Iris-virginica</td>\n",
       "      <td>0</td>\n",
       "    </tr>\n",
       "    <tr>\n",
       "      <th>123</th>\n",
       "      <td>6.3</td>\n",
       "      <td>2.7</td>\n",
       "      <td>4.9</td>\n",
       "      <td>1.8</td>\n",
       "      <td>Iris-virginica</td>\n",
       "      <td>3</td>\n",
       "    </tr>\n",
       "    <tr>\n",
       "      <th>124</th>\n",
       "      <td>6.7</td>\n",
       "      <td>3.3</td>\n",
       "      <td>5.7</td>\n",
       "      <td>2.1</td>\n",
       "      <td>Iris-virginica</td>\n",
       "      <td>0</td>\n",
       "    </tr>\n",
       "    <tr>\n",
       "      <th>125</th>\n",
       "      <td>7.2</td>\n",
       "      <td>3.2</td>\n",
       "      <td>6.0</td>\n",
       "      <td>1.8</td>\n",
       "      <td>Iris-virginica</td>\n",
       "      <td>0</td>\n",
       "    </tr>\n",
       "    <tr>\n",
       "      <th>126</th>\n",
       "      <td>6.2</td>\n",
       "      <td>2.8</td>\n",
       "      <td>4.8</td>\n",
       "      <td>1.8</td>\n",
       "      <td>Iris-virginica</td>\n",
       "      <td>3</td>\n",
       "    </tr>\n",
       "    <tr>\n",
       "      <th>127</th>\n",
       "      <td>6.1</td>\n",
       "      <td>3.0</td>\n",
       "      <td>4.9</td>\n",
       "      <td>1.8</td>\n",
       "      <td>Iris-virginica</td>\n",
       "      <td>3</td>\n",
       "    </tr>\n",
       "    <tr>\n",
       "      <th>128</th>\n",
       "      <td>6.4</td>\n",
       "      <td>2.8</td>\n",
       "      <td>5.6</td>\n",
       "      <td>2.1</td>\n",
       "      <td>Iris-virginica</td>\n",
       "      <td>0</td>\n",
       "    </tr>\n",
       "    <tr>\n",
       "      <th>129</th>\n",
       "      <td>7.2</td>\n",
       "      <td>3.0</td>\n",
       "      <td>5.8</td>\n",
       "      <td>1.6</td>\n",
       "      <td>Iris-virginica</td>\n",
       "      <td>0</td>\n",
       "    </tr>\n",
       "    <tr>\n",
       "      <th>130</th>\n",
       "      <td>7.4</td>\n",
       "      <td>2.8</td>\n",
       "      <td>6.1</td>\n",
       "      <td>1.9</td>\n",
       "      <td>Iris-virginica</td>\n",
       "      <td>0</td>\n",
       "    </tr>\n",
       "    <tr>\n",
       "      <th>131</th>\n",
       "      <td>7.9</td>\n",
       "      <td>3.8</td>\n",
       "      <td>6.4</td>\n",
       "      <td>2.0</td>\n",
       "      <td>Iris-virginica</td>\n",
       "      <td>0</td>\n",
       "    </tr>\n",
       "    <tr>\n",
       "      <th>132</th>\n",
       "      <td>6.4</td>\n",
       "      <td>2.8</td>\n",
       "      <td>5.6</td>\n",
       "      <td>2.2</td>\n",
       "      <td>Iris-virginica</td>\n",
       "      <td>0</td>\n",
       "    </tr>\n",
       "    <tr>\n",
       "      <th>133</th>\n",
       "      <td>6.3</td>\n",
       "      <td>2.8</td>\n",
       "      <td>5.1</td>\n",
       "      <td>1.5</td>\n",
       "      <td>Iris-virginica</td>\n",
       "      <td>3</td>\n",
       "    </tr>\n",
       "    <tr>\n",
       "      <th>134</th>\n",
       "      <td>6.1</td>\n",
       "      <td>2.6</td>\n",
       "      <td>5.6</td>\n",
       "      <td>1.4</td>\n",
       "      <td>Iris-virginica</td>\n",
       "      <td>3</td>\n",
       "    </tr>\n",
       "    <tr>\n",
       "      <th>135</th>\n",
       "      <td>7.7</td>\n",
       "      <td>3.0</td>\n",
       "      <td>6.1</td>\n",
       "      <td>2.3</td>\n",
       "      <td>Iris-virginica</td>\n",
       "      <td>0</td>\n",
       "    </tr>\n",
       "    <tr>\n",
       "      <th>136</th>\n",
       "      <td>6.3</td>\n",
       "      <td>3.4</td>\n",
       "      <td>5.6</td>\n",
       "      <td>2.4</td>\n",
       "      <td>Iris-virginica</td>\n",
       "      <td>0</td>\n",
       "    </tr>\n",
       "    <tr>\n",
       "      <th>137</th>\n",
       "      <td>6.4</td>\n",
       "      <td>3.1</td>\n",
       "      <td>5.5</td>\n",
       "      <td>1.8</td>\n",
       "      <td>Iris-virginica</td>\n",
       "      <td>0</td>\n",
       "    </tr>\n",
       "    <tr>\n",
       "      <th>138</th>\n",
       "      <td>6.0</td>\n",
       "      <td>3.0</td>\n",
       "      <td>4.8</td>\n",
       "      <td>1.8</td>\n",
       "      <td>Iris-virginica</td>\n",
       "      <td>3</td>\n",
       "    </tr>\n",
       "    <tr>\n",
       "      <th>139</th>\n",
       "      <td>6.9</td>\n",
       "      <td>3.1</td>\n",
       "      <td>5.4</td>\n",
       "      <td>2.1</td>\n",
       "      <td>Iris-virginica</td>\n",
       "      <td>0</td>\n",
       "    </tr>\n",
       "    <tr>\n",
       "      <th>140</th>\n",
       "      <td>6.7</td>\n",
       "      <td>3.1</td>\n",
       "      <td>5.6</td>\n",
       "      <td>2.4</td>\n",
       "      <td>Iris-virginica</td>\n",
       "      <td>0</td>\n",
       "    </tr>\n",
       "    <tr>\n",
       "      <th>141</th>\n",
       "      <td>6.9</td>\n",
       "      <td>3.1</td>\n",
       "      <td>5.1</td>\n",
       "      <td>2.3</td>\n",
       "      <td>Iris-virginica</td>\n",
       "      <td>0</td>\n",
       "    </tr>\n",
       "    <tr>\n",
       "      <th>142</th>\n",
       "      <td>5.8</td>\n",
       "      <td>2.7</td>\n",
       "      <td>5.1</td>\n",
       "      <td>1.9</td>\n",
       "      <td>Iris-virginica</td>\n",
       "      <td>3</td>\n",
       "    </tr>\n",
       "    <tr>\n",
       "      <th>143</th>\n",
       "      <td>6.8</td>\n",
       "      <td>3.2</td>\n",
       "      <td>5.9</td>\n",
       "      <td>2.3</td>\n",
       "      <td>Iris-virginica</td>\n",
       "      <td>0</td>\n",
       "    </tr>\n",
       "    <tr>\n",
       "      <th>144</th>\n",
       "      <td>6.7</td>\n",
       "      <td>3.3</td>\n",
       "      <td>5.7</td>\n",
       "      <td>2.5</td>\n",
       "      <td>Iris-virginica</td>\n",
       "      <td>0</td>\n",
       "    </tr>\n",
       "    <tr>\n",
       "      <th>145</th>\n",
       "      <td>6.7</td>\n",
       "      <td>3.0</td>\n",
       "      <td>5.2</td>\n",
       "      <td>2.3</td>\n",
       "      <td>Iris-virginica</td>\n",
       "      <td>0</td>\n",
       "    </tr>\n",
       "    <tr>\n",
       "      <th>146</th>\n",
       "      <td>6.3</td>\n",
       "      <td>2.5</td>\n",
       "      <td>5.0</td>\n",
       "      <td>1.9</td>\n",
       "      <td>Iris-virginica</td>\n",
       "      <td>3</td>\n",
       "    </tr>\n",
       "    <tr>\n",
       "      <th>147</th>\n",
       "      <td>6.5</td>\n",
       "      <td>3.0</td>\n",
       "      <td>5.2</td>\n",
       "      <td>2.0</td>\n",
       "      <td>Iris-virginica</td>\n",
       "      <td>0</td>\n",
       "    </tr>\n",
       "    <tr>\n",
       "      <th>148</th>\n",
       "      <td>6.2</td>\n",
       "      <td>3.4</td>\n",
       "      <td>5.4</td>\n",
       "      <td>2.3</td>\n",
       "      <td>Iris-virginica</td>\n",
       "      <td>0</td>\n",
       "    </tr>\n",
       "    <tr>\n",
       "      <th>149</th>\n",
       "      <td>5.9</td>\n",
       "      <td>3.0</td>\n",
       "      <td>5.1</td>\n",
       "      <td>1.8</td>\n",
       "      <td>Iris-virginica</td>\n",
       "      <td>3</td>\n",
       "    </tr>\n",
       "  </tbody>\n",
       "</table>\n",
       "<p>150 rows × 6 columns</p>\n",
       "</div>"
      ],
      "text/plain": [
       "     sepal_len  sepal_wid  petal_len  petal_wid           class  Predicted\n",
       "0          5.1        3.5        1.4        0.2     Iris-setosa          2\n",
       "1          4.9        3.0        1.4        0.2     Iris-setosa          1\n",
       "2          4.7        3.2        1.3        0.2     Iris-setosa          1\n",
       "3          4.6        3.1        1.5        0.2     Iris-setosa          1\n",
       "4          5.0        3.6        1.4        0.2     Iris-setosa          2\n",
       "5          5.4        3.9        1.7        0.4     Iris-setosa          2\n",
       "6          4.6        3.4        1.4        0.3     Iris-setosa          1\n",
       "7          5.0        3.4        1.5        0.2     Iris-setosa          1\n",
       "8          4.4        2.9        1.4        0.2     Iris-setosa          1\n",
       "9          4.9        3.1        1.5        0.1     Iris-setosa          1\n",
       "10         5.4        3.7        1.5        0.2     Iris-setosa          2\n",
       "11         4.8        3.4        1.6        0.2     Iris-setosa          1\n",
       "12         4.8        3.0        1.4        0.1     Iris-setosa          1\n",
       "13         4.3        3.0        1.1        0.1     Iris-setosa          1\n",
       "14         5.8        4.0        1.2        0.2     Iris-setosa          2\n",
       "15         5.7        4.4        1.5        0.4     Iris-setosa          2\n",
       "16         5.4        3.9        1.3        0.4     Iris-setosa          2\n",
       "17         5.1        3.5        1.4        0.3     Iris-setosa          2\n",
       "18         5.7        3.8        1.7        0.3     Iris-setosa          2\n",
       "19         5.1        3.8        1.5        0.3     Iris-setosa          2\n",
       "20         5.4        3.4        1.7        0.2     Iris-setosa          2\n",
       "21         5.1        3.7        1.5        0.4     Iris-setosa          2\n",
       "22         4.6        3.6        1.0        0.2     Iris-setosa          2\n",
       "23         5.1        3.3        1.7        0.5     Iris-setosa          1\n",
       "24         4.8        3.4        1.9        0.2     Iris-setosa          1\n",
       "25         5.0        3.0        1.6        0.2     Iris-setosa          1\n",
       "26         5.0        3.4        1.6        0.4     Iris-setosa          1\n",
       "27         5.2        3.5        1.5        0.2     Iris-setosa          2\n",
       "28         5.2        3.4        1.4        0.2     Iris-setosa          2\n",
       "29         4.7        3.2        1.6        0.2     Iris-setosa          1\n",
       "..         ...        ...        ...        ...             ...        ...\n",
       "120        6.9        3.2        5.7        2.3  Iris-virginica          0\n",
       "121        5.6        2.8        4.9        2.0  Iris-virginica          3\n",
       "122        7.7        2.8        6.7        2.0  Iris-virginica          0\n",
       "123        6.3        2.7        4.9        1.8  Iris-virginica          3\n",
       "124        6.7        3.3        5.7        2.1  Iris-virginica          0\n",
       "125        7.2        3.2        6.0        1.8  Iris-virginica          0\n",
       "126        6.2        2.8        4.8        1.8  Iris-virginica          3\n",
       "127        6.1        3.0        4.9        1.8  Iris-virginica          3\n",
       "128        6.4        2.8        5.6        2.1  Iris-virginica          0\n",
       "129        7.2        3.0        5.8        1.6  Iris-virginica          0\n",
       "130        7.4        2.8        6.1        1.9  Iris-virginica          0\n",
       "131        7.9        3.8        6.4        2.0  Iris-virginica          0\n",
       "132        6.4        2.8        5.6        2.2  Iris-virginica          0\n",
       "133        6.3        2.8        5.1        1.5  Iris-virginica          3\n",
       "134        6.1        2.6        5.6        1.4  Iris-virginica          3\n",
       "135        7.7        3.0        6.1        2.3  Iris-virginica          0\n",
       "136        6.3        3.4        5.6        2.4  Iris-virginica          0\n",
       "137        6.4        3.1        5.5        1.8  Iris-virginica          0\n",
       "138        6.0        3.0        4.8        1.8  Iris-virginica          3\n",
       "139        6.9        3.1        5.4        2.1  Iris-virginica          0\n",
       "140        6.7        3.1        5.6        2.4  Iris-virginica          0\n",
       "141        6.9        3.1        5.1        2.3  Iris-virginica          0\n",
       "142        5.8        2.7        5.1        1.9  Iris-virginica          3\n",
       "143        6.8        3.2        5.9        2.3  Iris-virginica          0\n",
       "144        6.7        3.3        5.7        2.5  Iris-virginica          0\n",
       "145        6.7        3.0        5.2        2.3  Iris-virginica          0\n",
       "146        6.3        2.5        5.0        1.9  Iris-virginica          3\n",
       "147        6.5        3.0        5.2        2.0  Iris-virginica          0\n",
       "148        6.2        3.4        5.4        2.3  Iris-virginica          0\n",
       "149        5.9        3.0        5.1        1.8  Iris-virginica          3\n",
       "\n",
       "[150 rows x 6 columns]"
      ]
     },
     "execution_count": 22,
     "metadata": {},
     "output_type": "execute_result"
    }
   ],
   "source": [
    "iris1"
   ]
  },
  {
   "cell_type": "code",
   "execution_count": 23,
   "metadata": {
    "collapsed": true
   },
   "outputs": [],
   "source": [
    "import numpy as np\n",
    "import matplotlib.pyplot as plt\n",
    "%matplotlib inline"
   ]
  },
  {
   "cell_type": "code",
   "execution_count": 24,
   "metadata": {
    "collapsed": false
   },
   "outputs": [
    {
     "data": {
      "text/plain": [
       "<matplotlib.collections.PathCollection at 0x7fb9fd9a3410>"
      ]
     },
     "execution_count": 24,
     "metadata": {},
     "output_type": "execute_result"
    },
    {
     "data": {
      "image/png": "[encoded data removed]",
      "text/plain": [
       "<matplotlib.figure.Figure at 0x7fb9fd344250>"
      ]
     },
     "metadata": {},
     "output_type": "display_data"
    }
   ],
   "source": [
    "plt.scatter(iris1['sepal_len'], iris1['Predicted'])"
   ]
  },
  {
   "cell_type": "code",
   "execution_count": 25,
   "metadata": {
    "collapsed": false
   },
   "outputs": [],
   "source": [
    "colors = np.random.rand(50)\n",
    "color = iris1['Predicted']\n",
    "a = iris1['Predicted']"
   ]
  },
  {
   "cell_type": "code",
   "execution_count": 26,
   "metadata": {
    "collapsed": false
   },
   "outputs": [
    {
     "name": "stdout",
     "output_type": "stream",
     "text": [
      "[2 1 0 3]\n",
      "4\n"
     ]
    }
   ],
   "source": [
    "a1 = iris1.Predicted.unique()\n",
    "print(a1)\n",
    "print(len(a1))"
   ]
  },
  {
   "cell_type": "code",
   "execution_count": 27,
   "metadata": {
    "collapsed": false
   },
   "outputs": [
    {
     "name": "stdout",
     "output_type": "stream",
     "text": [
      "[(0.2980392156862745, 0.4470588235294118, 0.6901960784313725), (0.3333333333333333, 0.6588235294117647, 0.40784313725490196), (0.7686274509803922, 0.3058823529411765, 0.3215686274509804), (0.5058823529411764, 0.4470588235294118, 0.6980392156862745), (0.8, 0.7254901960784313, 0.4549019607843137), (0.39215686274509803, 0.7098039215686275, 0.803921568627451), (0.2980392156862745, 0.4470588235294118, 0.6901960784313725), (0.3333333333333333, 0.6588235294117647, 0.40784313725490196), (0.7686274509803922, 0.3058823529411765, 0.3215686274509804), (0.5058823529411764, 0.4470588235294118, 0.6980392156862745)]\n"
     ]
    }
   ],
   "source": [
    "colors = pd.tools.plotting._get_standard_colors(len(a1))\n",
    "print(colors)"
   ]
  },
  {
   "cell_type": "code",
   "execution_count": 28,
   "metadata": {
    "collapsed": true
   },
   "outputs": [],
   "source": [
    "area=iris1.petal_len  # Try with petal_len/petal_len\n",
    "#the petal_wid are very small so lets make them bigger\n",
    "area=area*50"
   ]
  },
  {
   "cell_type": "code",
   "execution_count": 29,
   "metadata": {
    "collapsed": false
   },
   "outputs": [
    {
     "data": {
      "text/plain": [
       "<matplotlib.collections.PathCollection at 0x7fb9fd863650>"
      ]
     },
     "execution_count": 29,
     "metadata": {},
     "output_type": "execute_result"
    },
    {
     "data": {
      "image/png": "[encoded data removed]",
      "text/plain": [
       "<matplotlib.figure.Figure at 0x7fb9fd80cb10>"
      ]
     },
     "metadata": {},
     "output_type": "display_data"
    }
   ],
   "source": [
    "plt.scatter(iris1['sepal_wid'], iris1['Predicted'], c=colors, s=area , alpha=0.5)"
   ]
  },
  {
   "cell_type": "code",
   "execution_count": 30,
   "metadata": {
    "collapsed": false
   },
   "outputs": [
    {
     "data": {
      "text/html": [
       "<div>\n",
       "<table border=\"1\" class=\"dataframe\">\n",
       "  <thead>\n",
       "    <tr style=\"text-align: right;\">\n",
       "      <th></th>\n",
       "      <th>sepal_len</th>\n",
       "      <th>sepal_wid</th>\n",
       "      <th>petal_len</th>\n",
       "      <th>petal_wid</th>\n",
       "      <th>Predicted</th>\n",
       "    </tr>\n",
       "  </thead>\n",
       "  <tbody>\n",
       "    <tr>\n",
       "      <th>count</th>\n",
       "      <td>150.000000</td>\n",
       "      <td>150.000000</td>\n",
       "      <td>150.000000</td>\n",
       "      <td>150.000000</td>\n",
       "      <td>150.000000</td>\n",
       "    </tr>\n",
       "    <tr>\n",
       "      <th>mean</th>\n",
       "      <td>5.843333</td>\n",
       "      <td>3.054000</td>\n",
       "      <td>3.758667</td>\n",
       "      <td>1.198667</td>\n",
       "      <td>1.613333</td>\n",
       "    </tr>\n",
       "    <tr>\n",
       "      <th>std</th>\n",
       "      <td>0.828066</td>\n",
       "      <td>0.433594</td>\n",
       "      <td>1.764420</td>\n",
       "      <td>0.763161</td>\n",
       "      <td>1.257390</td>\n",
       "    </tr>\n",
       "    <tr>\n",
       "      <th>min</th>\n",
       "      <td>4.300000</td>\n",
       "      <td>2.000000</td>\n",
       "      <td>1.000000</td>\n",
       "      <td>0.100000</td>\n",
       "      <td>0.000000</td>\n",
       "    </tr>\n",
       "    <tr>\n",
       "      <th>25%</th>\n",
       "      <td>5.100000</td>\n",
       "      <td>2.800000</td>\n",
       "      <td>1.600000</td>\n",
       "      <td>0.300000</td>\n",
       "      <td>0.000000</td>\n",
       "    </tr>\n",
       "    <tr>\n",
       "      <th>50%</th>\n",
       "      <td>5.800000</td>\n",
       "      <td>3.000000</td>\n",
       "      <td>4.350000</td>\n",
       "      <td>1.300000</td>\n",
       "      <td>2.000000</td>\n",
       "    </tr>\n",
       "    <tr>\n",
       "      <th>75%</th>\n",
       "      <td>6.400000</td>\n",
       "      <td>3.300000</td>\n",
       "      <td>5.100000</td>\n",
       "      <td>1.800000</td>\n",
       "      <td>3.000000</td>\n",
       "    </tr>\n",
       "    <tr>\n",
       "      <th>max</th>\n",
       "      <td>7.900000</td>\n",
       "      <td>4.400000</td>\n",
       "      <td>6.900000</td>\n",
       "      <td>2.500000</td>\n",
       "      <td>3.000000</td>\n",
       "    </tr>\n",
       "  </tbody>\n",
       "</table>\n",
       "</div>"
      ],
      "text/plain": [
       "        sepal_len   sepal_wid   petal_len   petal_wid   Predicted\n",
       "count  150.000000  150.000000  150.000000  150.000000  150.000000\n",
       "mean     5.843333    3.054000    3.758667    1.198667    1.613333\n",
       "std      0.828066    0.433594    1.764420    0.763161    1.257390\n",
       "min      4.300000    2.000000    1.000000    0.100000    0.000000\n",
       "25%      5.100000    2.800000    1.600000    0.300000    0.000000\n",
       "50%      5.800000    3.000000    4.350000    1.300000    2.000000\n",
       "75%      6.400000    3.300000    5.100000    1.800000    3.000000\n",
       "max      7.900000    4.400000    6.900000    2.500000    3.000000"
      ]
     },
     "execution_count": 30,
     "metadata": {},
     "output_type": "execute_result"
    }
   ],
   "source": [
    "iris1.describe()"
   ]
  },
  {
   "cell_type": "code",
   "execution_count": 31,
   "metadata": {
    "collapsed": false
   },
   "outputs": [
    {
     "name": "stdout",
     "output_type": "stream",
     "text": [
      "Model Details\n",
      "=============\n",
      "H2OKMeansEstimator :  K-means\n",
      "Model Key:  KMeans_model_python_1482471484770_12\n",
      "Model Summary: \n"
     ]
    },
    {
     "data": {
      "text/html": [
       "<div style=\"overflow:auto\"><table style=\"width:50%\"><tr><td><b></b></td>\n",
       "<td><b>number_of_rows</b></td>\n",
       "<td><b>number_of_clusters</b></td>\n",
       "<td><b>number_of_categorical_columns</b></td>\n",
       "<td><b>number_of_iterations</b></td>\n",
       "<td><b>within_cluster_sum_of_squares</b></td>\n",
       "<td><b>total_sum_of_squares</b></td>\n",
       "<td><b>between_cluster_sum_of_squares</b></td></tr>\n",
       "<tr><td></td>\n",
       "<td>150.0</td>\n",
       "<td>4.0</td>\n",
       "<td>0.0</td>\n",
       "<td>6.0</td>\n",
       "<td>113.7875022</td>\n",
       "<td>596.0</td>\n",
       "<td>482.2124978</td></tr></table></div>"
      ],
      "text/plain": [
       "    number_of_rows    number_of_clusters    number_of_categorical_columns    number_of_iterations    within_cluster_sum_of_squares    total_sum_of_squares    between_cluster_sum_of_squares\n",
       "--  ----------------  --------------------  -------------------------------  ----------------------  -------------------------------  ----------------------  --------------------------------\n",
       "    150               4                     0                                6                       113.788                          596                     482.212"
      ]
     },
     "metadata": {},
     "output_type": "display_data"
    },
    {
     "name": "stdout",
     "output_type": "stream",
     "text": [
      "\n",
      "\n",
      "ModelMetricsClustering: kmeans\n",
      "** Reported on train data. **\n",
      "\n",
      "MSE: NaN\n",
      "RMSE: NaN\n",
      "Total Within Cluster Sum of Square Error: 113.787502197\n",
      "Total Sum of Square Error to Grand Mean: 596.0\n",
      "Between Cluster Sum of Square Error: 482.212497803\n",
      "Centroid Statistics: \n"
     ]
    },
    {
     "data": {
      "text/html": [
       "<div style=\"overflow:auto\"><table style=\"width:50%\"><tr><td><b></b></td>\n",
       "<td><b>centroid</b></td>\n",
       "<td><b>size</b></td>\n",
       "<td><b>within_cluster_sum_of_squares</b></td></tr>\n",
       "<tr><td></td>\n",
       "<td>1.0</td>\n",
       "<td>44.0</td>\n",
       "<td>43.4763391</td></tr>\n",
       "<tr><td></td>\n",
       "<td>2.0</td>\n",
       "<td>26.0</td>\n",
       "<td>9.8031248</td></tr>\n",
       "<tr><td></td>\n",
       "<td>3.0</td>\n",
       "<td>24.0</td>\n",
       "<td>11.9295379</td></tr>\n",
       "<tr><td></td>\n",
       "<td>4.0</td>\n",
       "<td>56.0</td>\n",
       "<td>48.5785003</td></tr></table></div>"
      ],
      "text/plain": [
       "    centroid    size    within_cluster_sum_of_squares\n",
       "--  ----------  ------  -------------------------------\n",
       "    1           44      43.4763\n",
       "    2           26      9.80312\n",
       "    3           24      11.9295\n",
       "    4           56      48.5785"
      ]
     },
     "metadata": {},
     "output_type": "display_data"
    },
    {
     "name": "stdout",
     "output_type": "stream",
     "text": [
      "Scoring History: \n"
     ]
    },
    {
     "data": {
      "text/html": [
       "<div style=\"overflow:auto\"><table style=\"width:50%\"><tr><td><b></b></td>\n",
       "<td><b>timestamp</b></td>\n",
       "<td><b>duration</b></td>\n",
       "<td><b>iteration</b></td>\n",
       "<td><b>number_of_reassigned_observations</b></td>\n",
       "<td><b>within_cluster_sum_of_squares</b></td></tr>\n",
       "<tr><td></td>\n",
       "<td>2017-01-03 00:55:03</td>\n",
       "<td> 0.002 sec</td>\n",
       "<td>0.0</td>\n",
       "<td>nan</td>\n",
       "<td>nan</td></tr>\n",
       "<tr><td></td>\n",
       "<td>2017-01-03 00:55:03</td>\n",
       "<td> 0.053 sec</td>\n",
       "<td>1.0</td>\n",
       "<td>150.0</td>\n",
       "<td>217.4382746</td></tr>\n",
       "<tr><td></td>\n",
       "<td>2017-01-03 00:55:03</td>\n",
       "<td> 0.060 sec</td>\n",
       "<td>2.0</td>\n",
       "<td>32.0</td>\n",
       "<td>153.5126770</td></tr>\n",
       "<tr><td></td>\n",
       "<td>2017-01-03 00:55:03</td>\n",
       "<td> 0.061 sec</td>\n",
       "<td>3.0</td>\n",
       "<td>8.0</td>\n",
       "<td>115.5520631</td></tr>\n",
       "<tr><td></td>\n",
       "<td>2017-01-03 00:55:03</td>\n",
       "<td> 0.062 sec</td>\n",
       "<td>4.0</td>\n",
       "<td>2.0</td>\n",
       "<td>114.1098688</td></tr>\n",
       "<tr><td></td>\n",
       "<td>2017-01-03 00:55:03</td>\n",
       "<td> 0.062 sec</td>\n",
       "<td>5.0</td>\n",
       "<td>1.0</td>\n",
       "<td>113.8440088</td></tr>\n",
       "<tr><td></td>\n",
       "<td>2017-01-03 00:55:03</td>\n",
       "<td> 0.063 sec</td>\n",
       "<td>6.0</td>\n",
       "<td>0.0</td>\n",
       "<td>113.7875022</td></tr></table></div>"
      ],
      "text/plain": [
       "    timestamp            duration    iteration    number_of_reassigned_observations    within_cluster_sum_of_squares\n",
       "--  -------------------  ----------  -----------  -----------------------------------  -------------------------------\n",
       "    2017-01-03 00:55:03  0.002 sec   0            nan                                  nan\n",
       "    2017-01-03 00:55:03  0.053 sec   1            150                                  217.438\n",
       "    2017-01-03 00:55:03  0.060 sec   2            32                                   153.513\n",
       "    2017-01-03 00:55:03  0.061 sec   3            8                                    115.552\n",
       "    2017-01-03 00:55:03  0.062 sec   4            2                                    114.11\n",
       "    2017-01-03 00:55:03  0.062 sec   5            1                                    113.844\n",
       "    2017-01-03 00:55:03  0.063 sec   6            0                                    113.788"
      ]
     },
     "metadata": {},
     "output_type": "display_data"
    },
    {
     "data": {
      "text/plain": []
     },
     "execution_count": 31,
     "metadata": {},
     "output_type": "execute_result"
    }
   ],
   "source": [
    "estimator"
   ]
  },
  {
   "cell_type": "code",
   "execution_count": 32,
   "metadata": {
    "collapsed": false
   },
   "outputs": [
    {
     "name": "stdout",
     "output_type": "stream",
     "text": [
      "Model Details\n",
      "=============\n",
      "H2OKMeansEstimator :  K-means\n",
      "Model Key:  KMeans_model_python_1482471484770_12\n",
      "Model Summary: \n"
     ]
    },
    {
     "data": {
      "text/html": [
       "<div style=\"overflow:auto\"><table style=\"width:50%\"><tr><td><b></b></td>\n",
       "<td><b>number_of_rows</b></td>\n",
       "<td><b>number_of_clusters</b></td>\n",
       "<td><b>number_of_categorical_columns</b></td>\n",
       "<td><b>number_of_iterations</b></td>\n",
       "<td><b>within_cluster_sum_of_squares</b></td>\n",
       "<td><b>total_sum_of_squares</b></td>\n",
       "<td><b>between_cluster_sum_of_squares</b></td></tr>\n",
       "<tr><td></td>\n",
       "<td>150.0</td>\n",
       "<td>4.0</td>\n",
       "<td>0.0</td>\n",
       "<td>6.0</td>\n",
       "<td>113.7875022</td>\n",
       "<td>596.0</td>\n",
       "<td>482.2124978</td></tr></table></div>"
      ],
      "text/plain": [
       "    number_of_rows    number_of_clusters    number_of_categorical_columns    number_of_iterations    within_cluster_sum_of_squares    total_sum_of_squares    between_cluster_sum_of_squares\n",
       "--  ----------------  --------------------  -------------------------------  ----------------------  -------------------------------  ----------------------  --------------------------------\n",
       "    150               4                     0                                6                       113.788                          596                     482.212"
      ]
     },
     "metadata": {},
     "output_type": "display_data"
    },
    {
     "name": "stdout",
     "output_type": "stream",
     "text": [
      "\n",
      "\n",
      "ModelMetricsClustering: kmeans\n",
      "** Reported on train data. **\n",
      "\n",
      "MSE: NaN\n",
      "RMSE: NaN\n",
      "Total Within Cluster Sum of Square Error: 113.787502197\n",
      "Total Sum of Square Error to Grand Mean: 596.0\n",
      "Between Cluster Sum of Square Error: 482.212497803\n",
      "Centroid Statistics: \n"
     ]
    },
    {
     "data": {
      "text/html": [
       "<div style=\"overflow:auto\"><table style=\"width:50%\"><tr><td><b></b></td>\n",
       "<td><b>centroid</b></td>\n",
       "<td><b>size</b></td>\n",
       "<td><b>within_cluster_sum_of_squares</b></td></tr>\n",
       "<tr><td></td>\n",
       "<td>1.0</td>\n",
       "<td>44.0</td>\n",
       "<td>43.4763391</td></tr>\n",
       "<tr><td></td>\n",
       "<td>2.0</td>\n",
       "<td>26.0</td>\n",
       "<td>9.8031248</td></tr>\n",
       "<tr><td></td>\n",
       "<td>3.0</td>\n",
       "<td>24.0</td>\n",
       "<td>11.9295379</td></tr>\n",
       "<tr><td></td>\n",
       "<td>4.0</td>\n",
       "<td>56.0</td>\n",
       "<td>48.5785003</td></tr></table></div>"
      ],
      "text/plain": [
       "    centroid    size    within_cluster_sum_of_squares\n",
       "--  ----------  ------  -------------------------------\n",
       "    1           44      43.4763\n",
       "    2           26      9.80312\n",
       "    3           24      11.9295\n",
       "    4           56      48.5785"
      ]
     },
     "metadata": {},
     "output_type": "display_data"
    },
    {
     "name": "stdout",
     "output_type": "stream",
     "text": [
      "Scoring History: \n"
     ]
    },
    {
     "data": {
      "text/html": [
       "<div style=\"overflow:auto\"><table style=\"width:50%\"><tr><td><b></b></td>\n",
       "<td><b>timestamp</b></td>\n",
       "<td><b>duration</b></td>\n",
       "<td><b>iteration</b></td>\n",
       "<td><b>number_of_reassigned_observations</b></td>\n",
       "<td><b>within_cluster_sum_of_squares</b></td></tr>\n",
       "<tr><td></td>\n",
       "<td>2017-01-03 00:55:03</td>\n",
       "<td> 0.002 sec</td>\n",
       "<td>0.0</td>\n",
       "<td>nan</td>\n",
       "<td>nan</td></tr>\n",
       "<tr><td></td>\n",
       "<td>2017-01-03 00:55:03</td>\n",
       "<td> 0.053 sec</td>\n",
       "<td>1.0</td>\n",
       "<td>150.0</td>\n",
       "<td>217.4382746</td></tr>\n",
       "<tr><td></td>\n",
       "<td>2017-01-03 00:55:03</td>\n",
       "<td> 0.060 sec</td>\n",
       "<td>2.0</td>\n",
       "<td>32.0</td>\n",
       "<td>153.5126770</td></tr>\n",
       "<tr><td></td>\n",
       "<td>2017-01-03 00:55:03</td>\n",
       "<td> 0.061 sec</td>\n",
       "<td>3.0</td>\n",
       "<td>8.0</td>\n",
       "<td>115.5520631</td></tr>\n",
       "<tr><td></td>\n",
       "<td>2017-01-03 00:55:03</td>\n",
       "<td> 0.062 sec</td>\n",
       "<td>4.0</td>\n",
       "<td>2.0</td>\n",
       "<td>114.1098688</td></tr>\n",
       "<tr><td></td>\n",
       "<td>2017-01-03 00:55:03</td>\n",
       "<td> 0.062 sec</td>\n",
       "<td>5.0</td>\n",
       "<td>1.0</td>\n",
       "<td>113.8440088</td></tr>\n",
       "<tr><td></td>\n",
       "<td>2017-01-03 00:55:03</td>\n",
       "<td> 0.063 sec</td>\n",
       "<td>6.0</td>\n",
       "<td>0.0</td>\n",
       "<td>113.7875022</td></tr></table></div>"
      ],
      "text/plain": [
       "    timestamp            duration    iteration    number_of_reassigned_observations    within_cluster_sum_of_squares\n",
       "--  -------------------  ----------  -----------  -----------------------------------  -------------------------------\n",
       "    2017-01-03 00:55:03  0.002 sec   0            nan                                  nan\n",
       "    2017-01-03 00:55:03  0.053 sec   1            150                                  217.438\n",
       "    2017-01-03 00:55:03  0.060 sec   2            32                                   153.513\n",
       "    2017-01-03 00:55:03  0.061 sec   3            8                                    115.552\n",
       "    2017-01-03 00:55:03  0.062 sec   4            2                                    114.11\n",
       "    2017-01-03 00:55:03  0.062 sec   5            1                                    113.844\n",
       "    2017-01-03 00:55:03  0.063 sec   6            0                                    113.788"
      ]
     },
     "metadata": {},
     "output_type": "display_data"
    },
    {
     "data": {
      "text/plain": [
       "<bound method ?.centers of >"
      ]
     },
     "execution_count": 32,
     "metadata": {},
     "output_type": "execute_result"
    }
   ],
   "source": [
    "estimator.centers"
   ]
  },
  {
   "cell_type": "code",
   "execution_count": 33,
   "metadata": {
    "collapsed": false
   },
   "outputs": [
    {
     "name": "stdout",
     "output_type": "stream",
     "text": [
      "Centroid Statistics: \n"
     ]
    },
    {
     "data": {
      "text/html": [
       "<div style=\"overflow:auto\"><table style=\"width:50%\"><tr><td><b></b></td>\n",
       "<td><b>centroid</b></td>\n",
       "<td><b>size</b></td>\n",
       "<td><b>within_cluster_sum_of_squares</b></td></tr>\n",
       "<tr><td></td>\n",
       "<td>1.0</td>\n",
       "<td>44.0</td>\n",
       "<td>43.4763391</td></tr>\n",
       "<tr><td></td>\n",
       "<td>2.0</td>\n",
       "<td>26.0</td>\n",
       "<td>9.8031248</td></tr>\n",
       "<tr><td></td>\n",
       "<td>3.0</td>\n",
       "<td>24.0</td>\n",
       "<td>11.9295379</td></tr>\n",
       "<tr><td></td>\n",
       "<td>4.0</td>\n",
       "<td>56.0</td>\n",
       "<td>48.5785003</td></tr></table></div>"
      ],
      "text/plain": [
       "    centroid    size    within_cluster_sum_of_squares\n",
       "--  ----------  ------  -------------------------------\n",
       "    1           44      43.4763\n",
       "    2           26      9.80312\n",
       "    3           24      11.9295\n",
       "    4           56      48.5785"
      ]
     },
     "metadata": {},
     "output_type": "display_data"
    },
    {
     "data": {
      "text/plain": []
     },
     "execution_count": 33,
     "metadata": {},
     "output_type": "execute_result"
    }
   ],
   "source": [
    "estimator.centroid_stats()"
   ]
  },
  {
   "cell_type": "code",
   "execution_count": 34,
   "metadata": {
    "collapsed": true
   },
   "outputs": [],
   "source": [
    "c = [1,2,3,4]"
   ]
  },
  {
   "cell_type": "code",
   "execution_count": 35,
   "metadata": {
    "collapsed": true
   },
   "outputs": [],
   "source": [
    "b = [5,6,7,8]"
   ]
  },
  {
   "cell_type": "code",
   "execution_count": 36,
   "metadata": {
    "collapsed": false
   },
   "outputs": [],
   "source": [
    "def euclidd(c,b):\n",
    "    d = 0\n",
    "    for i in range(4):\n",
    "        d = d + (float(c[i]) - float(b[i]))**2\n",
    "    d = np.sqrt(d)\n",
    "    return d"
   ]
  },
  {
   "cell_type": "code",
   "execution_count": 37,
   "metadata": {
    "collapsed": false
   },
   "outputs": [
    {
     "data": {
      "text/plain": [
       "10.908712114635714"
      ]
     },
     "execution_count": 37,
     "metadata": {},
     "output_type": "execute_result"
    }
   ],
   "source": [
    "euclidd(a,b)"
   ]
  },
  {
   "cell_type": "code",
   "execution_count": 38,
   "metadata": {
    "collapsed": false
   },
   "outputs": [],
   "source": [
    "a = h2o.as_list(iris[1,0:4], use_pandas = False)[1]\n",
    "b = h2o.as_list(iris[2,0:4], use_pandas = False)[1]"
   ]
  },
  {
   "cell_type": "code",
   "execution_count": 39,
   "metadata": {
    "collapsed": false
   },
   "outputs": [
    {
     "data": {
      "text/plain": [
       "['4.9', '3', '1.4000000000000001', '0.2']"
      ]
     },
     "execution_count": 39,
     "metadata": {},
     "output_type": "execute_result"
    }
   ],
   "source": [
    "a"
   ]
  },
  {
   "cell_type": "code",
   "execution_count": null,
   "metadata": {
    "collapsed": true
   },
   "outputs": [],
   "source": []
  }
 ],
 "metadata": {
  "kernelspec": {
   "display_name": "Python 2",
   "language": "python",
   "name": "python2"
  },
  "language_info": {
   "codemirror_mode": {
    "name": "ipython",
    "version": 2
   },
   "file_extension": ".py",
   "mimetype": "text/x-python",
   "name": "python",
   "nbconvert_exporter": "python",
   "pygments_lexer": "ipython2",
   "version": "2.7.12"
  }
 },
 "nbformat": 4,
 "nbformat_minor": 1
}
