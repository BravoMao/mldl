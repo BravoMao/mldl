{
 "cells": [
  {
   "cell_type": "code",
   "execution_count": 5,
   "metadata": {
    "collapsed": false
   },
   "outputs": [],
   "source": [
    "import tweepy\n",
    "import csv"
   ]
  },
  {
   "cell_type": "code",
   "execution_count": 6,
   "metadata": {
    "collapsed": false
   },
   "outputs": [],
   "source": [
    "#Twitter API credentials\n",
    "consumer_key = \"5KegDmzH5jL6TXGwjXXEqmYBa\"\n",
    "consumer_secret = \"Mfw0lzJFwvRlIHCGbHk31UNqyZZt1a5yAWDAQcflGLsxNP9tKc\"\n",
    "access_key = \"213118614-tRea2ODUKoV7EDDUZlIYFSh1YfcVVW5qjzfYJ8en\"\n",
    "access_secret = \"nkheG1PEmDxYwkL8J80zdsCKUq8FJ78VqYvChZx4uLfii\""
   ]
  },
  {
   "cell_type": "code",
   "execution_count": 7,
   "metadata": {
    "collapsed": true
   },
   "outputs": [],
   "source": [
    "def get_all_tweets_by_name(screen_name):\n",
    "\t#Twitter only allows access to a users most recent 3240 tweets with this method\n",
    "\t\n",
    "\t#authorize twitter, initialize tweepy\n",
    "\tauth = tweepy.OAuthHandler(consumer_key, consumer_secret)\n",
    "\tauth.set_access_token(access_key, access_secret)\n",
    "\tapi = tweepy.API(auth)\n",
    "\t\n",
    "\t#initialize a list to hold all the tweepy Tweets\n",
    "\talltweets = []\t\n",
    "\t\n",
    "\t#make initial request for most recent tweets (200 is the maximum allowed count)\n",
    "\tnew_tweets = api.user_timeline(screen_name = screen_name,count=200)\n",
    "\t\n",
    "\t#save most recent tweets\n",
    "\talltweets.extend(new_tweets)\n",
    "\t\n",
    "\t#save the id of the oldest tweet less one\n",
    "\toldest = alltweets[-1].id - 1\n",
    "\t\n",
    "\t#keep grabbing tweets until there are no tweets left to grab\n",
    "\twhile len(new_tweets) > 0:\n",
    "\t\tprint \"getting tweets before %s\" % (oldest)\n",
    "\t\t\n",
    "\t\t#all subsiquent requests use the max_id param to prevent duplicates\n",
    "\t\tnew_tweets = api.user_timeline(screen_name = screen_name,count=200,max_id=oldest)\n",
    "\t\t\n",
    "\t\t#save most recent tweets\n",
    "\t\talltweets.extend(new_tweets)\n",
    "\t\t\n",
    "\t\t#update the id of the oldest tweet less one\n",
    "\t\toldest = alltweets[-1].id - 1\n",
    "\t\t\n",
    "\t\tprint \"...%s tweets downloaded so far\" % (len(alltweets))\n",
    "\t\n",
    "\t#transform the tweepy tweets into a 2D array that will populate the csv\t\n",
    "\touttweets = [[tweet.id_str, tweet.created_at, tweet.text.encode(\"utf-8\")] for tweet in alltweets]\n",
    "\t\n",
    "\t#write the csv\t\n",
    "\tprint \"Now saving all %s tweets which are already downloaded...\" % (len(alltweets))\n",
    "\twith open('%s_tweets.csv' % screen_name, 'wb') as f:\n",
    "\t\twriter = csv.writer(f)\n",
    "\t\twriter.writerow([\"id\",\"created_at\",\"text\"])\n",
    "\t\twriter.writerows(outtweets)\n",
    "\t\n",
    "\tpass"
   ]
  },
  {
   "cell_type": "code",
   "execution_count": 8,
   "metadata": {
    "collapsed": false
   },
   "outputs": [
    {
     "name": "stdout",
     "output_type": "stream",
     "text": [
      "getting tweets before 526787437507252224\n",
      "...400 tweets downloaded so far\n",
      "getting tweets before 438723821018025983\n",
      "...600 tweets downloaded so far\n",
      "getting tweets before 401580756679819263\n",
      "...800 tweets downloaded so far\n",
      "getting tweets before 385259123375632383\n",
      "...1000 tweets downloaded so far\n",
      "getting tweets before 319233644134801407\n",
      "...1200 tweets downloaded so far\n",
      "getting tweets before 267313684165062655\n",
      "...1400 tweets downloaded so far\n",
      "getting tweets before 210828306621280255\n",
      "...1600 tweets downloaded so far\n",
      "getting tweets before 193767303224107007\n",
      "...1800 tweets downloaded so far\n",
      "getting tweets before 179332141090480128\n",
      "...2000 tweets downloaded so far\n",
      "getting tweets before 165326702229204993\n",
      "...2200 tweets downloaded so far\n",
      "getting tweets before 147935565822705663\n",
      "...2400 tweets downloaded so far\n",
      "getting tweets before 136846027713028095\n",
      "...2600 tweets downloaded so far\n",
      "getting tweets before 122450614126002175\n",
      "...2646 tweets downloaded so far\n",
      "getting tweets before 1443338850930688\n",
      "...2646 tweets downloaded so far\n"
     ]
    }
   ],
   "source": [
    "get_all_tweets_by_name(\"avkashchauhan\")"
   ]
  },
  {
   "cell_type": "code",
   "execution_count": 19,
   "metadata": {
    "collapsed": false
   },
   "outputs": [],
   "source": [
    "def get_all_tweets_by_hashtag(hash_tag, count):\n",
    "\t#Twitter only allows access to a users most recent 3240 tweets with this method\n",
    "\t\n",
    "\t#authorize twitter, initialize tweepy\n",
    "\tauth = tweepy.OAuthHandler(consumer_key, consumer_secret)\n",
    "\tauth.set_access_token(access_key, access_secret)\n",
    "\tapi = tweepy.API(auth)\n",
    "\t\n",
    "\t#initialize a list to hold all the tweepy Tweets\n",
    "\talltweets = []\t\n",
    "\tprint \"Making call to collect all tweets...\"\n",
    "\tnew_tweets = tweepy.Cursor(api.search, q=(hash_tag), since='2017-02-15', until='2017-02-16').items(count)\n",
    "\t\n",
    "\t#save most recent tweets\n",
    "\talltweets.extend(new_tweets)\n",
    "\tprint \"Transforming tweets into CSV items, ready to save\"\n",
    "\t#transform the tweepy tweets into a 2D array that will populate the csv\t\n",
    "\touttweets = [[tweet.id_str, \n",
    "                  tweet.created_at, \n",
    "                  tweet.text.encode(\"utf-8\"),\n",
    "                  tweet.author.name.encode('utf8'),\n",
    "                  tweet.author.screen_name.encode('utf8'),\n",
    "                  tweet.retweeted,\n",
    "                  tweet.favorited,\n",
    "                  tweet.user.location.encode('utf8'),\n",
    "                  tweet.user.time_zone,\n",
    "                  tweet.geo,\n",
    "                  tweet.entities.get('hashtags')\n",
    "                 ] \n",
    "                 for tweet in alltweets]\n",
    "\t\n",
    "\t#write the csv\t\n",
    "\tprint \"Now saving all %s tweets which are already downloaded...\" % (len(alltweets))\n",
    "\twith open('%s_tweets.csv' % hash_tag, 'wb') as f:\n",
    "\t\twriter = csv.writer(f)\n",
    "\t\twriter.writerow([\"ID\",\"Created_at\",\"Tweet\", \"Name\", \"Screen-name\", \"Retweeted\", \n",
    "                         \"Favourited\", \"Location\", \"TimeZone\", \"Geo\", \"All-hash-tags\"])\n",
    "\t\twriter.writerows(outtweets)\n",
    "\t\n",
    "\tpass\n",
    "\tprint \"All done, have fun!!\""
   ]
  },
  {
   "cell_type": "code",
   "execution_count": 20,
   "metadata": {
    "collapsed": false
   },
   "outputs": [
    {
     "name": "stdout",
     "output_type": "stream",
     "text": [
      "Making call to collect all tweets...\n",
      "Transforming tweets into CSV items, ready to save\n",
      "Now saving all 1469 tweets which are already downloaded...\n",
      "All done, have fun!!\n"
     ]
    }
   ],
   "source": [
    "get_all_tweets_by_hashtag(\"TFdevsummit\", 5000)"
   ]
  },
  {
   "cell_type": "code",
   "execution_count": null,
   "metadata": {
    "collapsed": true
   },
   "outputs": [],
   "source": []
  }
 ],
 "metadata": {
  "kernelspec": {
   "display_name": "Python 2",
   "language": "python",
   "name": "python2"
  },
  "language_info": {
   "codemirror_mode": {
    "name": "ipython",
    "version": 2
   },
   "file_extension": ".py",
   "mimetype": "text/x-python",
   "name": "python",
   "nbconvert_exporter": "python",
   "pygments_lexer": "ipython2",
   "version": "2.7.10"
  }
 },
 "nbformat": 4,
 "nbformat_minor": 1
}
