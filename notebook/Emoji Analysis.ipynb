{
 "cells": [
  {
   "cell_type": "code",
   "execution_count": null,
   "metadata": {
    "collapsed": true
   },
   "outputs": [],
   "source": [
    "s = u'that\\u2019s \\U0001f63b'"
   ]
  },
  {
   "cell_type": "code",
   "execution_count": null,
   "metadata": {
    "collapsed": false
   },
   "outputs": [],
   "source": [
    "print s"
   ]
  },
  {
   "cell_type": "code",
   "execution_count": null,
   "metadata": {
    "collapsed": false
   },
   "outputs": [],
   "source": [
    "s = u'\\U0000263A'"
   ]
  },
  {
   "cell_type": "code",
   "execution_count": null,
   "metadata": {
    "collapsed": false
   },
   "outputs": [],
   "source": [
    "print s"
   ]
  },
  {
   "cell_type": "code",
   "execution_count": 25,
   "metadata": {
    "collapsed": false
   },
   "outputs": [
    {
     "name": "stdout",
     "output_type": "stream",
     "text": [
      "👧\n",
      "👧🏿\n",
      "👩\n",
      "👩🏿\n"
     ]
    }
   ],
   "source": [
    "s = u'\\U0001F467' # \\U000200D\\U0002696\\U000FE0F'\n",
    "print s\n",
    "s = u'\\U0001F467\\U0001F3FF' # \\U000200D\\U0002696\\U000FE0F'\n",
    "print s\n",
    "s = u'\\U0001F469' #\\U0001F3FF \\U000200D\\U0002696\\U000FE0F'\n",
    "print s\n",
    "s = u'\\U0001F469\\U0001F3FF' # \\U000200D\\U0002696\\U000FE0F'\n",
    "print s"
   ]
  },
  {
   "cell_type": "code",
   "execution_count": null,
   "metadata": {
    "collapsed": false
   },
   "outputs": [],
   "source": [
    "s = u'\\U0001F468\\U0001F33E\\U0001F33E'\n",
    "print s"
   ]
  },
  {
   "cell_type": "code",
   "execution_count": 1,
   "metadata": {
    "collapsed": false
   },
   "outputs": [],
   "source": [
    "import pandas as pd\n"
   ]
  },
  {
   "cell_type": "code",
   "execution_count": null,
   "metadata": {
    "collapsed": false
   },
   "outputs": [],
   "source": [
    "import h2o\n",
    "h2o.connect()\n",
    "emojidf = h2o.import_file(\"https://raw.githubusercontent.com/Avkash/mldl/master/data/emoji4list.csv\")\n",
    "print(emojidf.shape)\n",
    "# emojidf[\"Code\"]\n",
    "#emojidf"
   ]
  },
  {
   "cell_type": "code",
   "execution_count": null,
   "metadata": {
    "collapsed": false
   },
   "outputs": [],
   "source": []
  },
  {
   "cell_type": "code",
   "execution_count": 2,
   "metadata": {
    "collapsed": false
   },
   "outputs": [
    {
     "data": {
      "text/plain": [
       "(2389, 3)"
      ]
     },
     "execution_count": 2,
     "metadata": {},
     "output_type": "execute_result"
    }
   ],
   "source": [
    "data = pd.read_csv('https://raw.githubusercontent.com/Avkash/mldl/master/data/emoji4list.csv')\n",
    "data.shape"
   ]
  },
  {
   "cell_type": "code",
   "execution_count": 3,
   "metadata": {
    "collapsed": false
   },
   "outputs": [],
   "source": [
    "data[\"dispCode\"] = data[\"Code\"]"
   ]
  },
  {
   "cell_type": "code",
   "execution_count": 4,
   "metadata": {
    "collapsed": false
   },
   "outputs": [],
   "source": [
    "data[\"dispCode\"] = data[\"dispCode\"].str.replace('+', '000')"
   ]
  },
  {
   "cell_type": "code",
   "execution_count": 5,
   "metadata": {
    "collapsed": false
   },
   "outputs": [
    {
     "data": {
      "text/plain": [
       "2389"
      ]
     },
     "execution_count": 5,
     "metadata": {},
     "output_type": "execute_result"
    }
   ],
   "source": [
    "len(data[\"dispCode\"])"
   ]
  },
  {
   "cell_type": "code",
   "execution_count": 6,
   "metadata": {
    "collapsed": false
   },
   "outputs": [
    {
     "data": {
      "text/plain": [
       "array(['U0001F600', 'U0001F601', 'U0001F602', ..., 'U0001F1FF U0001F1E6',\n",
       "       'U0001F1FF U0001F1F2', 'U0001F1FF U0001F1FC'], dtype=object)"
      ]
     },
     "execution_count": 6,
     "metadata": {},
     "output_type": "execute_result"
    }
   ],
   "source": [
    "data[\"dispCode\"].values #[2388]"
   ]
  },
  {
   "cell_type": "code",
   "execution_count": 7,
   "metadata": {
    "collapsed": false
   },
   "outputs": [
    {
     "name": "stdout",
     "output_type": "stream",
     "text": [
      "U0001F600\n",
      "U0001F46A\n",
      "U0001F468 U000200D U0001F469 U000200D U0001F466\n",
      "U+1F468 U+200D U+1F469 U+200D U+1F467\n",
      "U0001F468 U000200D U0001F469 U000200D U0001F467\n",
      "U0001F468 U000200D U0001F469 U000200D U0001F467 U000200D U0001F466\n",
      "U0001F468 U000200D U0001F469 U000200D U0001F466 U000200D U0001F466\n",
      "U0001F1FF U0001F1FC\n"
     ]
    }
   ],
   "source": [
    "print(data[\"dispCode\"].values[0])\n",
    "print(data[\"dispCode\"].values[998])\n",
    "print(data[\"dispCode\"].values[999])\n",
    "print(data[\"Code\"].values[1000])\n",
    "print(data[\"dispCode\"].values[1000])\n",
    "print(data[\"dispCode\"].values[1001])\n",
    "print(data[\"dispCode\"].values[1002])\n",
    "print(data[\"dispCode\"].values[2388])\n"
   ]
  },
  {
   "cell_type": "code",
   "execution_count": 37,
   "metadata": {
    "collapsed": false
   },
   "outputs": [
    {
     "name": "stdout",
     "output_type": "stream",
     "text": [
      "2389\n"
     ]
    }
   ],
   "source": [
    "updatedColumn = []\n",
    "for item in data[\"dispCode\"]:\n",
    "    tempArr = []\n",
    "    if type(item) is not list:        \n",
    "        for arrItem in item.split():\n",
    "            if len(arrItem) <= 8:\n",
    "                arrItem = arrItem.replace('U000', 'U0000')\n",
    "            tempArr.append(arrItem)\n",
    "            tempString = \" \".join(tempArr)\n",
    "    #print tempList\n",
    "    updatedColumn.append(tempString)  \n",
    "print(len(updatedColumn))\n"
   ]
  },
  {
   "cell_type": "code",
   "execution_count": 47,
   "metadata": {
    "collapsed": false
   },
   "outputs": [
    {
     "data": {
      "text/plain": [
       "['U0001F939 U0001F3FF U0000200D U00002642 U0000FE0F',\n",
       " 'U0001F939 U0000200D U00002640 U0000FE0F',\n",
       " 'U0001F939 U0001F3FB U0000200D U00002640 U0000FE0F',\n",
       " 'U0001F939 U0001F3FC U0000200D U00002640 U0000FE0F',\n",
       " 'U0001F939 U0001F3FD U0000200D U00002640 U0000FE0F',\n",
       " 'U0001F939 U0001F3FE U0000200D U00002640 U0000FE0F',\n",
       " 'U0001F939 U0001F3FF U0000200D U00002640 U0000FE0F',\n",
       " 'U0001F46B',\n",
       " 'U0001F46C',\n",
       " 'U0001F46D',\n",
       " 'U0001F48F',\n",
       " 'U0001F469 U0000200D U00002764 U0000FE0F U0000200D U0001F48B U0000200D U0001F468',\n",
       " 'U0001F468 U0000200D U00002764 U0000FE0F U0000200D U0001F48B U0000200D U0001F468',\n",
       " 'U0001F469 U0000200D U00002764 U0000FE0F U0000200D U0001F48B U0000200D U0001F469',\n",
       " 'U0001F491',\n",
       " 'U0001F469 U0000200D U00002764 U0000FE0F U0000200D U0001F468',\n",
       " 'U0001F468 U0000200D U00002764 U0000FE0F U0000200D U0001F468',\n",
       " 'U0001F469 U0000200D U00002764 U0000FE0F U0000200D U0001F469',\n",
       " 'U0001F46A',\n",
       " 'U0001F468 U0000200D U0001F469 U0000200D U0001F466']"
      ]
     },
     "execution_count": 47,
     "metadata": {},
     "output_type": "execute_result"
    }
   ],
   "source": [
    "updatedColumn[980:1000]"
   ]
  },
  {
   "cell_type": "code",
   "execution_count": 49,
   "metadata": {
    "collapsed": false
   },
   "outputs": [
    {
     "data": {
      "text/html": [
       "<div>\n",
       "<table border=\"1\" class=\"dataframe\">\n",
       "  <thead>\n",
       "    <tr style=\"text-align: right;\">\n",
       "      <th></th>\n",
       "      <th>Sn</th>\n",
       "      <th>Code</th>\n",
       "      <th>Name</th>\n",
       "      <th>dispCode</th>\n",
       "      <th>updatedCode</th>\n",
       "    </tr>\n",
       "  </thead>\n",
       "  <tbody>\n",
       "    <tr>\n",
       "      <th>0</th>\n",
       "      <td>1</td>\n",
       "      <td>U+1F600</td>\n",
       "      <td>grinning face</td>\n",
       "      <td>U0001F600</td>\n",
       "      <td>U0001F600</td>\n",
       "    </tr>\n",
       "    <tr>\n",
       "      <th>1</th>\n",
       "      <td>2</td>\n",
       "      <td>U+1F601</td>\n",
       "      <td>grinning face with smiling eyes</td>\n",
       "      <td>U0001F601</td>\n",
       "      <td>U0001F601</td>\n",
       "    </tr>\n",
       "    <tr>\n",
       "      <th>2</th>\n",
       "      <td>3</td>\n",
       "      <td>U+1F602</td>\n",
       "      <td>face with tears of joy</td>\n",
       "      <td>U0001F602</td>\n",
       "      <td>U0001F602</td>\n",
       "    </tr>\n",
       "    <tr>\n",
       "      <th>3</th>\n",
       "      <td>4</td>\n",
       "      <td>U+1F923</td>\n",
       "      <td>rolling on the floor laughing</td>\n",
       "      <td>U0001F923</td>\n",
       "      <td>U0001F923</td>\n",
       "    </tr>\n",
       "    <tr>\n",
       "      <th>4</th>\n",
       "      <td>5</td>\n",
       "      <td>U+1F603</td>\n",
       "      <td>smiling face with open mouth</td>\n",
       "      <td>U0001F603</td>\n",
       "      <td>U0001F603</td>\n",
       "    </tr>\n",
       "    <tr>\n",
       "      <th>5</th>\n",
       "      <td>6</td>\n",
       "      <td>U+1F604</td>\n",
       "      <td>smiling face with open mouth &amp; smiling eyes</td>\n",
       "      <td>U0001F604</td>\n",
       "      <td>U0001F604</td>\n",
       "    </tr>\n",
       "    <tr>\n",
       "      <th>6</th>\n",
       "      <td>7</td>\n",
       "      <td>U+1F605</td>\n",
       "      <td>smiling face with open mouth &amp; cold sweat</td>\n",
       "      <td>U0001F605</td>\n",
       "      <td>U0001F605</td>\n",
       "    </tr>\n",
       "    <tr>\n",
       "      <th>7</th>\n",
       "      <td>8</td>\n",
       "      <td>U+1F606</td>\n",
       "      <td>smiling face with open mouth &amp; closed eyes</td>\n",
       "      <td>U0001F606</td>\n",
       "      <td>U0001F606</td>\n",
       "    </tr>\n",
       "    <tr>\n",
       "      <th>8</th>\n",
       "      <td>9</td>\n",
       "      <td>U+1F609</td>\n",
       "      <td>winking face</td>\n",
       "      <td>U0001F609</td>\n",
       "      <td>U0001F609</td>\n",
       "    </tr>\n",
       "    <tr>\n",
       "      <th>9</th>\n",
       "      <td>10</td>\n",
       "      <td>U+1F60A</td>\n",
       "      <td>smiling face with smiling eyes</td>\n",
       "      <td>U0001F60A</td>\n",
       "      <td>U0001F60A</td>\n",
       "    </tr>\n",
       "    <tr>\n",
       "      <th>10</th>\n",
       "      <td>11</td>\n",
       "      <td>U+1F60B</td>\n",
       "      <td>face savouring delicious food</td>\n",
       "      <td>U0001F60B</td>\n",
       "      <td>U0001F60B</td>\n",
       "    </tr>\n",
       "    <tr>\n",
       "      <th>11</th>\n",
       "      <td>12</td>\n",
       "      <td>U+1F60E</td>\n",
       "      <td>smiling face with sunglasses</td>\n",
       "      <td>U0001F60E</td>\n",
       "      <td>U0001F60E</td>\n",
       "    </tr>\n",
       "    <tr>\n",
       "      <th>12</th>\n",
       "      <td>13</td>\n",
       "      <td>U+1F60D</td>\n",
       "      <td>smiling face with heart-eyes</td>\n",
       "      <td>U0001F60D</td>\n",
       "      <td>U0001F60D</td>\n",
       "    </tr>\n",
       "    <tr>\n",
       "      <th>13</th>\n",
       "      <td>14</td>\n",
       "      <td>U+1F618</td>\n",
       "      <td>face blowing a kiss</td>\n",
       "      <td>U0001F618</td>\n",
       "      <td>U0001F618</td>\n",
       "    </tr>\n",
       "    <tr>\n",
       "      <th>14</th>\n",
       "      <td>15</td>\n",
       "      <td>U+1F617</td>\n",
       "      <td>kissing face</td>\n",
       "      <td>U0001F617</td>\n",
       "      <td>U0001F617</td>\n",
       "    </tr>\n",
       "    <tr>\n",
       "      <th>15</th>\n",
       "      <td>16</td>\n",
       "      <td>U+1F619</td>\n",
       "      <td>kissing face with smiling eyes</td>\n",
       "      <td>U0001F619</td>\n",
       "      <td>U0001F619</td>\n",
       "    </tr>\n",
       "    <tr>\n",
       "      <th>16</th>\n",
       "      <td>17</td>\n",
       "      <td>U+1F61A</td>\n",
       "      <td>kissing face with closed eyes</td>\n",
       "      <td>U0001F61A</td>\n",
       "      <td>U0001F61A</td>\n",
       "    </tr>\n",
       "    <tr>\n",
       "      <th>17</th>\n",
       "      <td>18</td>\n",
       "      <td>U+263A</td>\n",
       "      <td>smiling face</td>\n",
       "      <td>U000263A</td>\n",
       "      <td>U0000263A</td>\n",
       "    </tr>\n",
       "    <tr>\n",
       "      <th>18</th>\n",
       "      <td>19</td>\n",
       "      <td>U+1F642</td>\n",
       "      <td>slightly smiling face</td>\n",
       "      <td>U0001F642</td>\n",
       "      <td>U0001F642</td>\n",
       "    </tr>\n",
       "    <tr>\n",
       "      <th>19</th>\n",
       "      <td>20</td>\n",
       "      <td>U+1F917</td>\n",
       "      <td>hugging face</td>\n",
       "      <td>U0001F917</td>\n",
       "      <td>U0001F917</td>\n",
       "    </tr>\n",
       "    <tr>\n",
       "      <th>20</th>\n",
       "      <td>21</td>\n",
       "      <td>U+1F914</td>\n",
       "      <td>thinking face</td>\n",
       "      <td>U0001F914</td>\n",
       "      <td>U0001F914</td>\n",
       "    </tr>\n",
       "    <tr>\n",
       "      <th>21</th>\n",
       "      <td>22</td>\n",
       "      <td>U+1F610</td>\n",
       "      <td>neutral face</td>\n",
       "      <td>U0001F610</td>\n",
       "      <td>U0001F610</td>\n",
       "    </tr>\n",
       "    <tr>\n",
       "      <th>22</th>\n",
       "      <td>23</td>\n",
       "      <td>U+1F611</td>\n",
       "      <td>expressionless face</td>\n",
       "      <td>U0001F611</td>\n",
       "      <td>U0001F611</td>\n",
       "    </tr>\n",
       "    <tr>\n",
       "      <th>23</th>\n",
       "      <td>24</td>\n",
       "      <td>U+1F636</td>\n",
       "      <td>face without mouth</td>\n",
       "      <td>U0001F636</td>\n",
       "      <td>U0001F636</td>\n",
       "    </tr>\n",
       "    <tr>\n",
       "      <th>24</th>\n",
       "      <td>25</td>\n",
       "      <td>U+1F644</td>\n",
       "      <td>face with rolling eyes</td>\n",
       "      <td>U0001F644</td>\n",
       "      <td>U0001F644</td>\n",
       "    </tr>\n",
       "    <tr>\n",
       "      <th>25</th>\n",
       "      <td>26</td>\n",
       "      <td>U+1F60F</td>\n",
       "      <td>smirking face</td>\n",
       "      <td>U0001F60F</td>\n",
       "      <td>U0001F60F</td>\n",
       "    </tr>\n",
       "    <tr>\n",
       "      <th>26</th>\n",
       "      <td>27</td>\n",
       "      <td>U+1F623</td>\n",
       "      <td>persevering face</td>\n",
       "      <td>U0001F623</td>\n",
       "      <td>U0001F623</td>\n",
       "    </tr>\n",
       "    <tr>\n",
       "      <th>27</th>\n",
       "      <td>28</td>\n",
       "      <td>U+1F625</td>\n",
       "      <td>disappointed but relieved face</td>\n",
       "      <td>U0001F625</td>\n",
       "      <td>U0001F625</td>\n",
       "    </tr>\n",
       "    <tr>\n",
       "      <th>28</th>\n",
       "      <td>29</td>\n",
       "      <td>U+1F62E</td>\n",
       "      <td>face with open mouth</td>\n",
       "      <td>U0001F62E</td>\n",
       "      <td>U0001F62E</td>\n",
       "    </tr>\n",
       "    <tr>\n",
       "      <th>29</th>\n",
       "      <td>30</td>\n",
       "      <td>U+1F910</td>\n",
       "      <td>zipper-mouth face</td>\n",
       "      <td>U0001F910</td>\n",
       "      <td>U0001F910</td>\n",
       "    </tr>\n",
       "    <tr>\n",
       "      <th>...</th>\n",
       "      <td>...</td>\n",
       "      <td>...</td>\n",
       "      <td>...</td>\n",
       "      <td>...</td>\n",
       "      <td>...</td>\n",
       "    </tr>\n",
       "    <tr>\n",
       "      <th>2359</th>\n",
       "      <td>2360</td>\n",
       "      <td>U+1F1F9 U+1F1F2</td>\n",
       "      <td>Turkmenistan</td>\n",
       "      <td>U0001F1F9 U0001F1F2</td>\n",
       "      <td>U0001F1F9 U0001F1F2</td>\n",
       "    </tr>\n",
       "    <tr>\n",
       "      <th>2360</th>\n",
       "      <td>2361</td>\n",
       "      <td>U+1F1F9 U+1F1F3</td>\n",
       "      <td>Tunisia</td>\n",
       "      <td>U0001F1F9 U0001F1F3</td>\n",
       "      <td>U0001F1F9 U0001F1F3</td>\n",
       "    </tr>\n",
       "    <tr>\n",
       "      <th>2361</th>\n",
       "      <td>2362</td>\n",
       "      <td>U+1F1F9 U+1F1F4</td>\n",
       "      <td>Tonga</td>\n",
       "      <td>U0001F1F9 U0001F1F4</td>\n",
       "      <td>U0001F1F9 U0001F1F4</td>\n",
       "    </tr>\n",
       "    <tr>\n",
       "      <th>2362</th>\n",
       "      <td>2363</td>\n",
       "      <td>U+1F1F9 U+1F1F7</td>\n",
       "      <td>Turkey</td>\n",
       "      <td>U0001F1F9 U0001F1F7</td>\n",
       "      <td>U0001F1F9 U0001F1F7</td>\n",
       "    </tr>\n",
       "    <tr>\n",
       "      <th>2363</th>\n",
       "      <td>2364</td>\n",
       "      <td>U+1F1F9 U+1F1F9</td>\n",
       "      <td>Trinidad &amp; Tobago</td>\n",
       "      <td>U0001F1F9 U0001F1F9</td>\n",
       "      <td>U0001F1F9 U0001F1F9</td>\n",
       "    </tr>\n",
       "    <tr>\n",
       "      <th>2364</th>\n",
       "      <td>2365</td>\n",
       "      <td>U+1F1F9 U+1F1FB</td>\n",
       "      <td>Tuvalu</td>\n",
       "      <td>U0001F1F9 U0001F1FB</td>\n",
       "      <td>U0001F1F9 U0001F1FB</td>\n",
       "    </tr>\n",
       "    <tr>\n",
       "      <th>2365</th>\n",
       "      <td>2366</td>\n",
       "      <td>U+1F1F9 U+1F1FC</td>\n",
       "      <td>Taiwan</td>\n",
       "      <td>U0001F1F9 U0001F1FC</td>\n",
       "      <td>U0001F1F9 U0001F1FC</td>\n",
       "    </tr>\n",
       "    <tr>\n",
       "      <th>2366</th>\n",
       "      <td>2367</td>\n",
       "      <td>U+1F1F9 U+1F1FF</td>\n",
       "      <td>Tanzania</td>\n",
       "      <td>U0001F1F9 U0001F1FF</td>\n",
       "      <td>U0001F1F9 U0001F1FF</td>\n",
       "    </tr>\n",
       "    <tr>\n",
       "      <th>2367</th>\n",
       "      <td>2368</td>\n",
       "      <td>U+1F1FA U+1F1E6</td>\n",
       "      <td>Ukraine</td>\n",
       "      <td>U0001F1FA U0001F1E6</td>\n",
       "      <td>U0001F1FA U0001F1E6</td>\n",
       "    </tr>\n",
       "    <tr>\n",
       "      <th>2368</th>\n",
       "      <td>2369</td>\n",
       "      <td>U+1F1FA U+1F1EC</td>\n",
       "      <td>Uganda</td>\n",
       "      <td>U0001F1FA U0001F1EC</td>\n",
       "      <td>U0001F1FA U0001F1EC</td>\n",
       "    </tr>\n",
       "    <tr>\n",
       "      <th>2369</th>\n",
       "      <td>2370</td>\n",
       "      <td>U+1F1FA U+1F1F2</td>\n",
       "      <td>U.S. Outlying Islands</td>\n",
       "      <td>U0001F1FA U0001F1F2</td>\n",
       "      <td>U0001F1FA U0001F1F2</td>\n",
       "    </tr>\n",
       "    <tr>\n",
       "      <th>2370</th>\n",
       "      <td>2371</td>\n",
       "      <td>U+1F1FA U+1F1F3</td>\n",
       "      <td>United Nations</td>\n",
       "      <td>U0001F1FA U0001F1F3</td>\n",
       "      <td>U0001F1FA U0001F1F3</td>\n",
       "    </tr>\n",
       "    <tr>\n",
       "      <th>2371</th>\n",
       "      <td>2372</td>\n",
       "      <td>U+1F1FA U+1F1F8</td>\n",
       "      <td>United States</td>\n",
       "      <td>U0001F1FA U0001F1F8</td>\n",
       "      <td>U0001F1FA U0001F1F8</td>\n",
       "    </tr>\n",
       "    <tr>\n",
       "      <th>2372</th>\n",
       "      <td>2373</td>\n",
       "      <td>U+1F1FA U+1F1FE</td>\n",
       "      <td>Uruguay</td>\n",
       "      <td>U0001F1FA U0001F1FE</td>\n",
       "      <td>U0001F1FA U0001F1FE</td>\n",
       "    </tr>\n",
       "    <tr>\n",
       "      <th>2373</th>\n",
       "      <td>2374</td>\n",
       "      <td>U+1F1FA U+1F1FF</td>\n",
       "      <td>Uzbekistan</td>\n",
       "      <td>U0001F1FA U0001F1FF</td>\n",
       "      <td>U0001F1FA U0001F1FF</td>\n",
       "    </tr>\n",
       "    <tr>\n",
       "      <th>2374</th>\n",
       "      <td>2375</td>\n",
       "      <td>U+1F1FB U+1F1E6</td>\n",
       "      <td>Vatican City</td>\n",
       "      <td>U0001F1FB U0001F1E6</td>\n",
       "      <td>U0001F1FB U0001F1E6</td>\n",
       "    </tr>\n",
       "    <tr>\n",
       "      <th>2375</th>\n",
       "      <td>2376</td>\n",
       "      <td>U+1F1FB U+1F1E8</td>\n",
       "      <td>St. Vincent &amp; Grenadines</td>\n",
       "      <td>U0001F1FB U0001F1E8</td>\n",
       "      <td>U0001F1FB U0001F1E8</td>\n",
       "    </tr>\n",
       "    <tr>\n",
       "      <th>2376</th>\n",
       "      <td>2377</td>\n",
       "      <td>U+1F1FB U+1F1EA</td>\n",
       "      <td>Venezuela</td>\n",
       "      <td>U0001F1FB U0001F1EA</td>\n",
       "      <td>U0001F1FB U0001F1EA</td>\n",
       "    </tr>\n",
       "    <tr>\n",
       "      <th>2377</th>\n",
       "      <td>2378</td>\n",
       "      <td>U+1F1FB U+1F1EC</td>\n",
       "      <td>British Virgin Islands</td>\n",
       "      <td>U0001F1FB U0001F1EC</td>\n",
       "      <td>U0001F1FB U0001F1EC</td>\n",
       "    </tr>\n",
       "    <tr>\n",
       "      <th>2378</th>\n",
       "      <td>2379</td>\n",
       "      <td>U+1F1FB U+1F1EE</td>\n",
       "      <td>U.S. Virgin Islands</td>\n",
       "      <td>U0001F1FB U0001F1EE</td>\n",
       "      <td>U0001F1FB U0001F1EE</td>\n",
       "    </tr>\n",
       "    <tr>\n",
       "      <th>2379</th>\n",
       "      <td>2380</td>\n",
       "      <td>U+1F1FB U+1F1F3</td>\n",
       "      <td>Vietnam</td>\n",
       "      <td>U0001F1FB U0001F1F3</td>\n",
       "      <td>U0001F1FB U0001F1F3</td>\n",
       "    </tr>\n",
       "    <tr>\n",
       "      <th>2380</th>\n",
       "      <td>2381</td>\n",
       "      <td>U+1F1FB U+1F1FA</td>\n",
       "      <td>Vanuatu</td>\n",
       "      <td>U0001F1FB U0001F1FA</td>\n",
       "      <td>U0001F1FB U0001F1FA</td>\n",
       "    </tr>\n",
       "    <tr>\n",
       "      <th>2381</th>\n",
       "      <td>2382</td>\n",
       "      <td>U+1F1FC U+1F1EB</td>\n",
       "      <td>Wallis &amp; Futuna</td>\n",
       "      <td>U0001F1FC U0001F1EB</td>\n",
       "      <td>U0001F1FC U0001F1EB</td>\n",
       "    </tr>\n",
       "    <tr>\n",
       "      <th>2382</th>\n",
       "      <td>2383</td>\n",
       "      <td>U+1F1FC U+1F1F8</td>\n",
       "      <td>Samoa</td>\n",
       "      <td>U0001F1FC U0001F1F8</td>\n",
       "      <td>U0001F1FC U0001F1F8</td>\n",
       "    </tr>\n",
       "    <tr>\n",
       "      <th>2383</th>\n",
       "      <td>2384</td>\n",
       "      <td>U+1F1FD U+1F1F0</td>\n",
       "      <td>Kosovo</td>\n",
       "      <td>U0001F1FD U0001F1F0</td>\n",
       "      <td>U0001F1FD U0001F1F0</td>\n",
       "    </tr>\n",
       "    <tr>\n",
       "      <th>2384</th>\n",
       "      <td>2385</td>\n",
       "      <td>U+1F1FE U+1F1EA</td>\n",
       "      <td>Yemen</td>\n",
       "      <td>U0001F1FE U0001F1EA</td>\n",
       "      <td>U0001F1FE U0001F1EA</td>\n",
       "    </tr>\n",
       "    <tr>\n",
       "      <th>2385</th>\n",
       "      <td>2386</td>\n",
       "      <td>U+1F1FE U+1F1F9</td>\n",
       "      <td>Mayotte</td>\n",
       "      <td>U0001F1FE U0001F1F9</td>\n",
       "      <td>U0001F1FE U0001F1F9</td>\n",
       "    </tr>\n",
       "    <tr>\n",
       "      <th>2386</th>\n",
       "      <td>2387</td>\n",
       "      <td>U+1F1FF U+1F1E6</td>\n",
       "      <td>South Africa</td>\n",
       "      <td>U0001F1FF U0001F1E6</td>\n",
       "      <td>U0001F1FF U0001F1E6</td>\n",
       "    </tr>\n",
       "    <tr>\n",
       "      <th>2387</th>\n",
       "      <td>2388</td>\n",
       "      <td>U+1F1FF U+1F1F2</td>\n",
       "      <td>Zambia</td>\n",
       "      <td>U0001F1FF U0001F1F2</td>\n",
       "      <td>U0001F1FF U0001F1F2</td>\n",
       "    </tr>\n",
       "    <tr>\n",
       "      <th>2388</th>\n",
       "      <td>2389</td>\n",
       "      <td>U+1F1FF U+1F1FC</td>\n",
       "      <td>Zimbabwe</td>\n",
       "      <td>U0001F1FF U0001F1FC</td>\n",
       "      <td>U0001F1FF U0001F1FC</td>\n",
       "    </tr>\n",
       "  </tbody>\n",
       "</table>\n",
       "<p>2389 rows × 5 columns</p>\n",
       "</div>"
      ],
      "text/plain": [
       "        Sn             Code                                         Name  \\\n",
       "0        1          U+1F600                                grinning face   \n",
       "1        2          U+1F601              grinning face with smiling eyes   \n",
       "2        3          U+1F602                       face with tears of joy   \n",
       "3        4          U+1F923                rolling on the floor laughing   \n",
       "4        5          U+1F603                 smiling face with open mouth   \n",
       "5        6          U+1F604  smiling face with open mouth & smiling eyes   \n",
       "6        7          U+1F605    smiling face with open mouth & cold sweat   \n",
       "7        8          U+1F606   smiling face with open mouth & closed eyes   \n",
       "8        9          U+1F609                                 winking face   \n",
       "9       10          U+1F60A               smiling face with smiling eyes   \n",
       "10      11          U+1F60B                face savouring delicious food   \n",
       "11      12          U+1F60E                 smiling face with sunglasses   \n",
       "12      13          U+1F60D                 smiling face with heart-eyes   \n",
       "13      14          U+1F618                          face blowing a kiss   \n",
       "14      15          U+1F617                                 kissing face   \n",
       "15      16          U+1F619               kissing face with smiling eyes   \n",
       "16      17          U+1F61A                kissing face with closed eyes   \n",
       "17      18           U+263A                                 smiling face   \n",
       "18      19          U+1F642                        slightly smiling face   \n",
       "19      20          U+1F917                                 hugging face   \n",
       "20      21          U+1F914                                thinking face   \n",
       "21      22          U+1F610                                 neutral face   \n",
       "22      23          U+1F611                          expressionless face   \n",
       "23      24          U+1F636                           face without mouth   \n",
       "24      25          U+1F644                       face with rolling eyes   \n",
       "25      26          U+1F60F                                smirking face   \n",
       "26      27          U+1F623                             persevering face   \n",
       "27      28          U+1F625               disappointed but relieved face   \n",
       "28      29          U+1F62E                         face with open mouth   \n",
       "29      30          U+1F910                            zipper-mouth face   \n",
       "...    ...              ...                                          ...   \n",
       "2359  2360  U+1F1F9 U+1F1F2                                 Turkmenistan   \n",
       "2360  2361  U+1F1F9 U+1F1F3                                      Tunisia   \n",
       "2361  2362  U+1F1F9 U+1F1F4                                        Tonga   \n",
       "2362  2363  U+1F1F9 U+1F1F7                                       Turkey   \n",
       "2363  2364  U+1F1F9 U+1F1F9                            Trinidad & Tobago   \n",
       "2364  2365  U+1F1F9 U+1F1FB                                       Tuvalu   \n",
       "2365  2366  U+1F1F9 U+1F1FC                                       Taiwan   \n",
       "2366  2367  U+1F1F9 U+1F1FF                                     Tanzania   \n",
       "2367  2368  U+1F1FA U+1F1E6                                      Ukraine   \n",
       "2368  2369  U+1F1FA U+1F1EC                                       Uganda   \n",
       "2369  2370  U+1F1FA U+1F1F2                        U.S. Outlying Islands   \n",
       "2370  2371  U+1F1FA U+1F1F3                               United Nations   \n",
       "2371  2372  U+1F1FA U+1F1F8                                United States   \n",
       "2372  2373  U+1F1FA U+1F1FE                                      Uruguay   \n",
       "2373  2374  U+1F1FA U+1F1FF                                   Uzbekistan   \n",
       "2374  2375  U+1F1FB U+1F1E6                                 Vatican City   \n",
       "2375  2376  U+1F1FB U+1F1E8                     St. Vincent & Grenadines   \n",
       "2376  2377  U+1F1FB U+1F1EA                                    Venezuela   \n",
       "2377  2378  U+1F1FB U+1F1EC                       British Virgin Islands   \n",
       "2378  2379  U+1F1FB U+1F1EE                          U.S. Virgin Islands   \n",
       "2379  2380  U+1F1FB U+1F1F3                                      Vietnam   \n",
       "2380  2381  U+1F1FB U+1F1FA                                      Vanuatu   \n",
       "2381  2382  U+1F1FC U+1F1EB                              Wallis & Futuna   \n",
       "2382  2383  U+1F1FC U+1F1F8                                        Samoa   \n",
       "2383  2384  U+1F1FD U+1F1F0                                       Kosovo   \n",
       "2384  2385  U+1F1FE U+1F1EA                                        Yemen   \n",
       "2385  2386  U+1F1FE U+1F1F9                                      Mayotte   \n",
       "2386  2387  U+1F1FF U+1F1E6                                 South Africa   \n",
       "2387  2388  U+1F1FF U+1F1F2                                       Zambia   \n",
       "2388  2389  U+1F1FF U+1F1FC                                     Zimbabwe   \n",
       "\n",
       "                 dispCode          updatedCode  \n",
       "0               U0001F600            U0001F600  \n",
       "1               U0001F601            U0001F601  \n",
       "2               U0001F602            U0001F602  \n",
       "3               U0001F923            U0001F923  \n",
       "4               U0001F603            U0001F603  \n",
       "5               U0001F604            U0001F604  \n",
       "6               U0001F605            U0001F605  \n",
       "7               U0001F606            U0001F606  \n",
       "8               U0001F609            U0001F609  \n",
       "9               U0001F60A            U0001F60A  \n",
       "10              U0001F60B            U0001F60B  \n",
       "11              U0001F60E            U0001F60E  \n",
       "12              U0001F60D            U0001F60D  \n",
       "13              U0001F618            U0001F618  \n",
       "14              U0001F617            U0001F617  \n",
       "15              U0001F619            U0001F619  \n",
       "16              U0001F61A            U0001F61A  \n",
       "17               U000263A            U0000263A  \n",
       "18              U0001F642            U0001F642  \n",
       "19              U0001F917            U0001F917  \n",
       "20              U0001F914            U0001F914  \n",
       "21              U0001F610            U0001F610  \n",
       "22              U0001F611            U0001F611  \n",
       "23              U0001F636            U0001F636  \n",
       "24              U0001F644            U0001F644  \n",
       "25              U0001F60F            U0001F60F  \n",
       "26              U0001F623            U0001F623  \n",
       "27              U0001F625            U0001F625  \n",
       "28              U0001F62E            U0001F62E  \n",
       "29              U0001F910            U0001F910  \n",
       "...                   ...                  ...  \n",
       "2359  U0001F1F9 U0001F1F2  U0001F1F9 U0001F1F2  \n",
       "2360  U0001F1F9 U0001F1F3  U0001F1F9 U0001F1F3  \n",
       "2361  U0001F1F9 U0001F1F4  U0001F1F9 U0001F1F4  \n",
       "2362  U0001F1F9 U0001F1F7  U0001F1F9 U0001F1F7  \n",
       "2363  U0001F1F9 U0001F1F9  U0001F1F9 U0001F1F9  \n",
       "2364  U0001F1F9 U0001F1FB  U0001F1F9 U0001F1FB  \n",
       "2365  U0001F1F9 U0001F1FC  U0001F1F9 U0001F1FC  \n",
       "2366  U0001F1F9 U0001F1FF  U0001F1F9 U0001F1FF  \n",
       "2367  U0001F1FA U0001F1E6  U0001F1FA U0001F1E6  \n",
       "2368  U0001F1FA U0001F1EC  U0001F1FA U0001F1EC  \n",
       "2369  U0001F1FA U0001F1F2  U0001F1FA U0001F1F2  \n",
       "2370  U0001F1FA U0001F1F3  U0001F1FA U0001F1F3  \n",
       "2371  U0001F1FA U0001F1F8  U0001F1FA U0001F1F8  \n",
       "2372  U0001F1FA U0001F1FE  U0001F1FA U0001F1FE  \n",
       "2373  U0001F1FA U0001F1FF  U0001F1FA U0001F1FF  \n",
       "2374  U0001F1FB U0001F1E6  U0001F1FB U0001F1E6  \n",
       "2375  U0001F1FB U0001F1E8  U0001F1FB U0001F1E8  \n",
       "2376  U0001F1FB U0001F1EA  U0001F1FB U0001F1EA  \n",
       "2377  U0001F1FB U0001F1EC  U0001F1FB U0001F1EC  \n",
       "2378  U0001F1FB U0001F1EE  U0001F1FB U0001F1EE  \n",
       "2379  U0001F1FB U0001F1F3  U0001F1FB U0001F1F3  \n",
       "2380  U0001F1FB U0001F1FA  U0001F1FB U0001F1FA  \n",
       "2381  U0001F1FC U0001F1EB  U0001F1FC U0001F1EB  \n",
       "2382  U0001F1FC U0001F1F8  U0001F1FC U0001F1F8  \n",
       "2383  U0001F1FD U0001F1F0  U0001F1FD U0001F1F0  \n",
       "2384  U0001F1FE U0001F1EA  U0001F1FE U0001F1EA  \n",
       "2385  U0001F1FE U0001F1F9  U0001F1FE U0001F1F9  \n",
       "2386  U0001F1FF U0001F1E6  U0001F1FF U0001F1E6  \n",
       "2387  U0001F1FF U0001F1F2  U0001F1FF U0001F1F2  \n",
       "2388  U0001F1FF U0001F1FC  U0001F1FF U0001F1FC  \n",
       "\n",
       "[2389 rows x 5 columns]"
      ]
     },
     "execution_count": 49,
     "metadata": {},
     "output_type": "execute_result"
    }
   ],
   "source": [
    "# Adding update arrray to original data frame\n",
    "data[\"updatedCode\"] = updatedColumn\n",
    "data"
   ]
  },
  {
   "cell_type": "code",
   "execution_count": 51,
   "metadata": {
    "collapsed": false
   },
   "outputs": [
    {
     "data": {
      "text/plain": [
       "980    U0001F939 U0001F3FF U0000200D U00002642 U0000FE0F\n",
       "981              U0001F939 U0000200D U00002640 U0000FE0F\n",
       "982    U0001F939 U0001F3FB U0000200D U00002640 U0000FE0F\n",
       "983    U0001F939 U0001F3FC U0000200D U00002640 U0000FE0F\n",
       "984    U0001F939 U0001F3FD U0000200D U00002640 U0000FE0F\n",
       "985    U0001F939 U0001F3FE U0000200D U00002640 U0000FE0F\n",
       "986    U0001F939 U0001F3FF U0000200D U00002640 U0000FE0F\n",
       "987                                            U0001F46B\n",
       "988                                            U0001F46C\n",
       "989                                            U0001F46D\n",
       "990                                            U0001F48F\n",
       "991    U0001F469 U0000200D U00002764 U0000FE0F U00002...\n",
       "992    U0001F468 U0000200D U00002764 U0000FE0F U00002...\n",
       "993    U0001F469 U0000200D U00002764 U0000FE0F U00002...\n",
       "994                                            U0001F491\n",
       "995    U0001F469 U0000200D U00002764 U0000FE0F U00002...\n",
       "996    U0001F468 U0000200D U00002764 U0000FE0F U00002...\n",
       "997    U0001F469 U0000200D U00002764 U0000FE0F U00002...\n",
       "998                                            U0001F46A\n",
       "999    U0001F468 U0000200D U0001F469 U0000200D U0001F466\n",
       "Name: updatedCode, dtype: object"
      ]
     },
     "execution_count": 51,
     "metadata": {},
     "output_type": "execute_result"
    }
   ],
   "source": [
    "data[\"updatedCode\"][980:1000]"
   ]
  },
  {
   "cell_type": "code",
   "execution_count": 54,
   "metadata": {
    "collapsed": false
   },
   "outputs": [
    {
     "name": "stdout",
     "output_type": "stream",
     "text": [
      "(2389, 5)\n",
      "Index([u'Sn', u'Code', u'Name', u'dispCode', u'updatedCode'], dtype='object')\n"
     ]
    }
   ],
   "source": [
    "print(data.shape)\n",
    "print(data.columns)"
   ]
  },
  {
   "cell_type": "code",
   "execution_count": 55,
   "metadata": {
    "collapsed": true
   },
   "outputs": [],
   "source": [
    "# saving update dataframe to csv\n",
    "data.to_csv('/Users/avkashchauhan/Downloads/emoji4updated.csv')"
   ]
  },
  {
   "cell_type": "code",
   "execution_count": 87,
   "metadata": {
    "collapsed": false
   },
   "outputs": [
    {
     "name": "stdout",
     "output_type": "stream",
     "text": [
      "👧\n",
      "👩‍❤️‍💋‍👨\n"
     ]
    }
   ],
   "source": [
    "# A sample to print emoji from unicode\n",
    "s = u'\\U0001F467' # \\U000200D\\U0002696\\U000FE0F'\n",
    "print s\n",
    "s = u'\\U0001F469\\U0000200D\\U00002764\\U0000FE0F\\U0000200D\\U0001F48B\\U0000200D\\U0001F468'\n",
    "print s"
   ]
  },
  {
   "cell_type": "code",
   "execution_count": 89,
   "metadata": {
    "collapsed": false
   },
   "outputs": [
    {
     "name": "stdout",
     "output_type": "stream",
     "text": [
      "🚟\n"
     ]
    }
   ],
   "source": [
    "# Converting updated unicode values to unicode string, ready to show emoji\n",
    "s = updatedColumn[1600]\n",
    "#print(len(s))\n",
    "s = '\\\\'+s.replace(' ', '\\\\')\n",
    "s = repr(s.decode('unicode-escape'))\n",
    "print eval(s)"
   ]
  },
  {
   "cell_type": "code",
   "execution_count": 58,
   "metadata": {
    "collapsed": false
   },
   "outputs": [
    {
     "name": "stdout",
     "output_type": "stream",
     "text": [
      "U0001F468 U000200D U0001F469 U000200D U0001F467\n",
      "['U0001F468', 'U0000200D', 'U0001F469', 'U0000200D', 'U0001F467']\n"
     ]
    }
   ],
   "source": [
    "## Sample code to test the function\n",
    "abc = data[\"dispCode\"][1000]\n",
    "print abc\n",
    "abc.split()\n",
    "tempList = []\n",
    "for item in abc.split():\n",
    "    if len(item) <= 8:\n",
    "       item = item.replace('U000', 'U0000')\n",
    "    tempList.append(item)\n",
    "print tempList "
   ]
  },
  {
   "cell_type": "code",
   "execution_count": null,
   "metadata": {
    "collapsed": true
   },
   "outputs": [],
   "source": []
  }
 ],
 "metadata": {
  "kernelspec": {
   "display_name": "Python 2",
   "language": "python",
   "name": "python2"
  },
  "language_info": {
   "codemirror_mode": {
    "name": "ipython",
    "version": 2
   },
   "file_extension": ".py",
   "mimetype": "text/x-python",
   "name": "python",
   "nbconvert_exporter": "python",
   "pygments_lexer": "ipython2",
   "version": "2.7.10"
  }
 },
 "nbformat": 4,
 "nbformat_minor": 1
}
