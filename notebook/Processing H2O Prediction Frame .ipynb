{
 "cells": [
  {
   "cell_type": "code",
   "execution_count": 1,
   "metadata": {
    "collapsed": false
   },
   "outputs": [],
   "source": [
    "import h2o"
   ]
  },
  {
   "cell_type": "code",
   "execution_count": 48,
   "metadata": {
    "collapsed": false
   },
   "outputs": [
    {
     "name": "stdout",
     "output_type": "stream",
     "text": [
      "Checking whether there is an H2O instance running at http://localhost:54321. connected.\n"
     ]
    },
    {
     "data": {
      "text/html": [
       "<div style=\"overflow:auto\"><table style=\"width:50%\"><tr><td>H2O cluster uptime:</td>\n",
       "<td>27 mins 35 secs</td></tr>\n",
       "<tr><td>H2O cluster version:</td>\n",
       "<td>3.11.0.99999</td></tr>\n",
       "<tr><td>H2O cluster version age:</td>\n",
       "<td>13 hours and 43 minutes </td></tr>\n",
       "<tr><td>H2O cluster name:</td>\n",
       "<td>avkashchauhan</td></tr>\n",
       "<tr><td>H2O cluster total nodes:</td>\n",
       "<td>1</td></tr>\n",
       "<tr><td>H2O cluster free memory:</td>\n",
       "<td>3.300 Gb</td></tr>\n",
       "<tr><td>H2O cluster total cores:</td>\n",
       "<td>8</td></tr>\n",
       "<tr><td>H2O cluster allowed cores:</td>\n",
       "<td>8</td></tr>\n",
       "<tr><td>H2O cluster status:</td>\n",
       "<td>locked, healthy</td></tr>\n",
       "<tr><td>H2O connection url:</td>\n",
       "<td>http://localhost:54321</td></tr>\n",
       "<tr><td>H2O connection proxy:</td>\n",
       "<td>None</td></tr>\n",
       "<tr><td>Python version:</td>\n",
       "<td>2.7.10 final</td></tr></table></div>"
      ],
      "text/plain": [
       "--------------------------  -----------------------\n",
       "H2O cluster uptime:         27 mins 35 secs\n",
       "H2O cluster version:        3.11.0.99999\n",
       "H2O cluster version age:    13 hours and 43 minutes\n",
       "H2O cluster name:           avkashchauhan\n",
       "H2O cluster total nodes:    1\n",
       "H2O cluster free memory:    3.300 Gb\n",
       "H2O cluster total cores:    8\n",
       "H2O cluster allowed cores:  8\n",
       "H2O cluster status:         locked, healthy\n",
       "H2O connection url:         http://localhost:54321\n",
       "H2O connection proxy:\n",
       "Python version:             2.7.10 final\n",
       "--------------------------  -----------------------"
      ]
     },
     "metadata": {},
     "output_type": "display_data"
    }
   ],
   "source": [
    "h2o.init(strict_version_check = False)\n"
   ]
  },
  {
   "cell_type": "code",
   "execution_count": 3,
   "metadata": {
    "collapsed": false
   },
   "outputs": [
    {
     "data": {
      "text/plain": [
       "<module 'h2o' from '/Library/Python/2.7/site-packages/h2o/__init__.pyc'>"
      ]
     },
     "execution_count": 3,
     "metadata": {},
     "output_type": "execute_result"
    }
   ],
   "source": [
    "h2o"
   ]
  },
  {
   "cell_type": "code",
   "execution_count": 4,
   "metadata": {
    "collapsed": false
   },
   "outputs": [
    {
     "data": {
      "text/plain": [
       "<function h2o.h2o.ls>"
      ]
     },
     "execution_count": 4,
     "metadata": {},
     "output_type": "execute_result"
    }
   ],
   "source": [
    "h2o.ls"
   ]
  },
  {
   "cell_type": "code",
   "execution_count": 25,
   "metadata": {
    "collapsed": false
   },
   "outputs": [
    {
     "data": {
      "text/html": [
       "<table>\n",
       "<tr><th style=\"text-align: right;\">  DF.L1.C1</th><th style=\"text-align: right;\">  DF.L1.C2</th></tr>\n",
       "<tr><td style=\"text-align: right;\"> -0.412066</td><td style=\"text-align: right;\"> 0.204501 </td></tr>\n",
       "<tr><td style=\"text-align: right;\"> -0.22333 </td><td style=\"text-align: right;\"> 0.231047 </td></tr>\n",
       "<tr><td style=\"text-align: right;\"> -0.259818</td><td style=\"text-align: right;\"> 0.496971 </td></tr>\n",
       "<tr><td style=\"text-align: right;\"> -0.129036</td><td style=\"text-align: right;\"> 0.136058 </td></tr>\n",
       "<tr><td style=\"text-align: right;\"> -0.335484</td><td style=\"text-align: right;\"> 0.424047 </td></tr>\n",
       "<tr><td style=\"text-align: right;\"> -0.316551</td><td style=\"text-align: right;\"> 0.325871 </td></tr>\n",
       "<tr><td style=\"text-align: right;\"> -0.223368</td><td style=\"text-align: right;\"> 0.246255 </td></tr>\n",
       "<tr><td style=\"text-align: right;\"> -0.382924</td><td style=\"text-align: right;\">-0.0718049</td></tr>\n",
       "<tr><td style=\"text-align: right;\"> -0.30342 </td><td style=\"text-align: right;\">-0.283981 </td></tr>\n",
       "<tr><td style=\"text-align: right;\"> -0.199944</td><td style=\"text-align: right;\"> 0.157615 </td></tr>\n",
       "</table>"
      ]
     },
     "metadata": {},
     "output_type": "display_data"
    },
    {
     "data": {
      "text/plain": []
     },
     "execution_count": 25,
     "metadata": {},
     "output_type": "execute_result"
    }
   ],
   "source": [
    "newFrame2 = h2o.get_frame(\"prediction-c61f773d-3c98-44fa-88d6-34e8b23f24f6\")\n",
    "newFrame2"
   ]
  },
  {
   "cell_type": "code",
   "execution_count": 13,
   "metadata": {
    "collapsed": false
   },
   "outputs": [
    {
     "data": {
      "text/html": [
       "<table>\n",
       "<tr><th style=\"text-align: right;\">  DF.L1.C1</th><th style=\"text-align: right;\">  DF.L1.C2</th></tr>\n",
       "<tr><td style=\"text-align: right;\">  0.998066</td><td style=\"text-align: right;\">  0.784146</td></tr>\n",
       "<tr><td style=\"text-align: right;\">  0.673055</td><td style=\"text-align: right;\">  0.947402</td></tr>\n",
       "<tr><td style=\"text-align: right;\">  1.31066 </td><td style=\"text-align: right;\">  0.701914</td></tr>\n",
       "<tr><td style=\"text-align: right;\">  0.437915</td><td style=\"text-align: right;\">  0.807652</td></tr>\n",
       "<tr><td style=\"text-align: right;\">  1.27166 </td><td style=\"text-align: right;\">  0.721997</td></tr>\n",
       "<tr><td style=\"text-align: right;\">  1.18423 </td><td style=\"text-align: right;\">  0.740779</td></tr>\n",
       "<tr><td style=\"text-align: right;\">  1.00818 </td><td style=\"text-align: right;\">  0.843788</td></tr>\n",
       "<tr><td style=\"text-align: right;\">  0.747099</td><td style=\"text-align: right;\">  1.02607 </td></tr>\n",
       "<tr><td style=\"text-align: right;\">  0.523094</td><td style=\"text-align: right;\">  1.11279 </td></tr>\n",
       "<tr><td style=\"text-align: right;\">  0.779574</td><td style=\"text-align: right;\">  0.830637</td></tr>\n",
       "</table>"
      ]
     },
     "metadata": {},
     "output_type": "display_data"
    },
    {
     "data": {
      "text/plain": []
     },
     "execution_count": 13,
     "metadata": {},
     "output_type": "execute_result"
    }
   ],
   "source": [
    "newFrame1 = h2o.get_frame(\"prediction-34b97a8f-c1eb-4946-95d8-72dbb143fc0d\")\n",
    "newFrame1"
   ]
  },
  {
   "cell_type": "code",
   "execution_count": 14,
   "metadata": {
    "collapsed": true
   },
   "outputs": [],
   "source": [
    "%matplotlib inline\n",
    "from matplotlib import pyplot as plt"
   ]
  },
  {
   "cell_type": "code",
   "execution_count": 26,
   "metadata": {
    "collapsed": false
   },
   "outputs": [],
   "source": [
    "nf1 = newFrame1.as_data_frame()\n",
    "nf2 = newFrame2.as_data_frame()"
   ]
  },
  {
   "cell_type": "code",
   "execution_count": 23,
   "metadata": {
    "collapsed": false
   },
   "outputs": [
    {
     "data": {
      "image/png": "[encoded data removed]",
      "text/plain": [
       "<matplotlib.figure.Figure at 0x10a43c2d0>"
      ]
     },
     "metadata": {},
     "output_type": "display_data"
    }
   ],
   "source": [
    "X1 = nf1[\"DF.L1.C1\"]\n",
    "Y1 = nf1[\"DF.L1.C2\"]\n",
    "#color=(['red','green','blue'])\n",
    "#color = 'red'\n",
    "plt.scatter(X1,Y1) #,color)\n",
    "plt.show()"
   ]
  },
  {
   "cell_type": "code",
   "execution_count": 28,
   "metadata": {
    "collapsed": false
   },
   "outputs": [
    {
     "data": {
      "image/png": "[encoded data removed]",
      "text/plain": [
       "<matplotlib.figure.Figure at 0x10a632990>"
      ]
     },
     "metadata": {},
     "output_type": "display_data"
    }
   ],
   "source": [
    "X2 = nf2[\"DF.L1.C1\"]\n",
    "Y2 = nf2[\"DF.L1.C2\"]\n",
    "#color=(['red','green','blue'])\n",
    "#color = 'red'\n",
    "plt.scatter(X2,Y2) #,color)\n",
    "plt.show()"
   ]
  },
  {
   "cell_type": "code",
   "execution_count": null,
   "metadata": {
    "collapsed": false
   },
   "outputs": [],
   "source": [
    "plt.bar(nf)\n",
    "#nf.plot.scatter(\"DF.L2.C1\",\"DF.L2.C2\")\n",
    "plt.show()"
   ]
  },
  {
   "cell_type": "code",
   "execution_count": null,
   "metadata": {
    "collapsed": true
   },
   "outputs": [],
   "source": [
    "nf2 = h2o.get_frame(\"prediction-3e18ee1a-3016-4b5f-b24e-e6a3408b47d0\")"
   ]
  },
  {
   "cell_type": "code",
   "execution_count": null,
   "metadata": {
    "collapsed": true
   },
   "outputs": [],
   "source": [
    "nf22 = nf2.as_data_frame()"
   ]
  },
  {
   "cell_type": "code",
   "execution_count": null,
   "metadata": {
    "collapsed": false
   },
   "outputs": [],
   "source": [
    "nf22"
   ]
  },
  {
   "cell_type": "code",
   "execution_count": null,
   "metadata": {
    "collapsed": false
   },
   "outputs": [],
   "source": [
    "X = nf22[\"DF.L1.C1\"]\n",
    "Y = nf22[\"DF.L1.C2\"]\n",
    "plt.scatter(X,Y, c = range(len(X))) \n",
    "plt.show()"
   ]
  },
  {
   "cell_type": "code",
   "execution_count": null,
   "metadata": {
    "collapsed": true
   },
   "outputs": [],
   "source": [
    "a1 = h2o.get_frame(\"prediction-c0f9525a-8811-4466-bc48-cadc13f47df7\")"
   ]
  },
  {
   "cell_type": "code",
   "execution_count": null,
   "metadata": {
    "collapsed": true
   },
   "outputs": [],
   "source": [
    "?plt.scatter"
   ]
  },
  {
   "cell_type": "code",
   "execution_count": null,
   "metadata": {
    "collapsed": true
   },
   "outputs": [],
   "source": [
    "a11 = a1.as_data_frame()"
   ]
  },
  {
   "cell_type": "code",
   "execution_count": null,
   "metadata": {
    "collapsed": false
   },
   "outputs": [],
   "source": [
    "a11"
   ]
  },
  {
   "cell_type": "code",
   "execution_count": 8,
   "metadata": {
    "collapsed": false
   },
   "outputs": [
    {
     "name": "stdout",
     "output_type": "stream",
     "text": [
      "Parse progress: |█████████████████████████████████████████████████████████| 100%\n"
     ]
    }
   ],
   "source": [
    "dd = h2o.import_file(\"/Users/avkashchauhan/Downloads/train.csv\" , destination_frame=\"hello\")"
   ]
  },
  {
   "cell_type": "code",
   "execution_count": 19,
   "metadata": {
    "collapsed": false
   },
   "outputs": [
    {
     "data": {
      "text/html": [
       "<table>\n",
       "<tr><th style=\"text-align: right;\">  PassengerId</th><th style=\"text-align: right;\">  Survived</th><th style=\"text-align: right;\">  Pclass</th><th>Name                                               </th><th>Sex   </th><th style=\"text-align: right;\">  Age</th><th style=\"text-align: right;\">  SibSp</th><th style=\"text-align: right;\">  Parch</th><th style=\"text-align: right;\">  Ticket</th><th style=\"text-align: right;\">   Fare</th><th>Cabin  </th><th>Embarked  </th></tr>\n",
       "<tr><td style=\"text-align: right;\">            1</td><td style=\"text-align: right;\">         0</td><td style=\"text-align: right;\">       3</td><td>Braund, Mr. Owen Harris                            </td><td>male  </td><td style=\"text-align: right;\">   22</td><td style=\"text-align: right;\">      1</td><td style=\"text-align: right;\">      0</td><td style=\"text-align: right;\">     nan</td><td style=\"text-align: right;\"> 7.25  </td><td>       </td><td>S         </td></tr>\n",
       "<tr><td style=\"text-align: right;\">            2</td><td style=\"text-align: right;\">         1</td><td style=\"text-align: right;\">       1</td><td>Cumings, Mrs. John Bradley (Florence Briggs Thayer)</td><td>female</td><td style=\"text-align: right;\">   38</td><td style=\"text-align: right;\">      1</td><td style=\"text-align: right;\">      0</td><td style=\"text-align: right;\">     nan</td><td style=\"text-align: right;\">71.2833</td><td>C85    </td><td>C         </td></tr>\n",
       "<tr><td style=\"text-align: right;\">            3</td><td style=\"text-align: right;\">         1</td><td style=\"text-align: right;\">       3</td><td>Heikkinen, Miss. Laina                             </td><td>female</td><td style=\"text-align: right;\">   26</td><td style=\"text-align: right;\">      0</td><td style=\"text-align: right;\">      0</td><td style=\"text-align: right;\">     nan</td><td style=\"text-align: right;\"> 7.925 </td><td>       </td><td>S         </td></tr>\n",
       "<tr><td style=\"text-align: right;\">            4</td><td style=\"text-align: right;\">         1</td><td style=\"text-align: right;\">       1</td><td>Futrelle, Mrs. Jacques Heath (Lily May Peel)       </td><td>female</td><td style=\"text-align: right;\">   35</td><td style=\"text-align: right;\">      1</td><td style=\"text-align: right;\">      0</td><td style=\"text-align: right;\">  113803</td><td style=\"text-align: right;\">53.1   </td><td>C123   </td><td>S         </td></tr>\n",
       "<tr><td style=\"text-align: right;\">            5</td><td style=\"text-align: right;\">         0</td><td style=\"text-align: right;\">       3</td><td>Allen, Mr. William Henry                           </td><td>male  </td><td style=\"text-align: right;\">   35</td><td style=\"text-align: right;\">      0</td><td style=\"text-align: right;\">      0</td><td style=\"text-align: right;\">  373450</td><td style=\"text-align: right;\"> 8.05  </td><td>       </td><td>S         </td></tr>\n",
       "<tr><td style=\"text-align: right;\">            6</td><td style=\"text-align: right;\">         0</td><td style=\"text-align: right;\">       3</td><td>Moran, Mr. James                                   </td><td>male  </td><td style=\"text-align: right;\">  nan</td><td style=\"text-align: right;\">      0</td><td style=\"text-align: right;\">      0</td><td style=\"text-align: right;\">  330877</td><td style=\"text-align: right;\"> 8.4583</td><td>       </td><td>Q         </td></tr>\n",
       "<tr><td style=\"text-align: right;\">            7</td><td style=\"text-align: right;\">         0</td><td style=\"text-align: right;\">       1</td><td>McCarthy, Mr. Timothy J                            </td><td>male  </td><td style=\"text-align: right;\">   54</td><td style=\"text-align: right;\">      0</td><td style=\"text-align: right;\">      0</td><td style=\"text-align: right;\">   17463</td><td style=\"text-align: right;\">51.8625</td><td>E46    </td><td>S         </td></tr>\n",
       "<tr><td style=\"text-align: right;\">            8</td><td style=\"text-align: right;\">         0</td><td style=\"text-align: right;\">       3</td><td>Palsson, Master. Gosta Leonard                     </td><td>male  </td><td style=\"text-align: right;\">    2</td><td style=\"text-align: right;\">      3</td><td style=\"text-align: right;\">      1</td><td style=\"text-align: right;\">  349909</td><td style=\"text-align: right;\">21.075 </td><td>       </td><td>S         </td></tr>\n",
       "<tr><td style=\"text-align: right;\">            9</td><td style=\"text-align: right;\">         1</td><td style=\"text-align: right;\">       3</td><td>Johnson, Mrs. Oscar W (Elisabeth Vilhelmina Berg)  </td><td>female</td><td style=\"text-align: right;\">   27</td><td style=\"text-align: right;\">      0</td><td style=\"text-align: right;\">      2</td><td style=\"text-align: right;\">  347742</td><td style=\"text-align: right;\">11.1333</td><td>       </td><td>S         </td></tr>\n",
       "<tr><td style=\"text-align: right;\">           10</td><td style=\"text-align: right;\">         1</td><td style=\"text-align: right;\">       2</td><td>Nasser, Mrs. Nicholas (Adele Achem)                </td><td>female</td><td style=\"text-align: right;\">   14</td><td style=\"text-align: right;\">      1</td><td style=\"text-align: right;\">      0</td><td style=\"text-align: right;\">  237736</td><td style=\"text-align: right;\">30.0708</td><td>       </td><td>C         </td></tr>\n",
       "</table>"
      ]
     },
     "metadata": {},
     "output_type": "display_data"
    },
    {
     "data": {
      "text/plain": []
     },
     "execution_count": 19,
     "metadata": {},
     "output_type": "execute_result"
    }
   ],
   "source": [
    "dd"
   ]
  },
  {
   "cell_type": "code",
   "execution_count": 10,
   "metadata": {
    "collapsed": false
   },
   "outputs": [
    {
     "data": {
      "text/html": [
       "<div>\n",
       "<table border=\"1\" class=\"dataframe\">\n",
       "  <thead>\n",
       "    <tr style=\"text-align: right;\">\n",
       "      <th></th>\n",
       "      <th>key</th>\n",
       "    </tr>\n",
       "  </thead>\n",
       "  <tbody>\n",
       "    <tr>\n",
       "      <th>0</th>\n",
       "      <td>hello</td>\n",
       "    </tr>\n",
       "    <tr>\n",
       "      <th>1</th>\n",
       "      <td>train.hex</td>\n",
       "    </tr>\n",
       "  </tbody>\n",
       "</table>\n",
       "</div>"
      ],
      "text/plain": [
       "         key\n",
       "0      hello\n",
       "1  train.hex"
      ]
     },
     "execution_count": 10,
     "metadata": {},
     "output_type": "execute_result"
    }
   ],
   "source": [
    "h2o.ls()"
   ]
  },
  {
   "cell_type": "code",
   "execution_count": 14,
   "metadata": {
    "collapsed": false
   },
   "outputs": [],
   "source": [
    "abc = h2o.get_frame('train.hex')"
   ]
  },
  {
   "cell_type": "code",
   "execution_count": 26,
   "metadata": {
    "collapsed": false
   },
   "outputs": [
    {
     "data": {
      "text/html": [
       "<table>\n",
       "<tr><th style=\"text-align: right;\">  PassengerId</th><th style=\"text-align: right;\">  Survived</th><th style=\"text-align: right;\">  Pclass</th><th>Name                                               </th><th>Sex   </th><th style=\"text-align: right;\">  Age</th><th style=\"text-align: right;\">  SibSp</th><th style=\"text-align: right;\">  Parch</th><th style=\"text-align: right;\">  Ticket</th><th style=\"text-align: right;\">   Fare</th><th>Cabin  </th><th>Embarked  </th></tr>\n",
       "<tr><td style=\"text-align: right;\">            1</td><td style=\"text-align: right;\">         0</td><td style=\"text-align: right;\">       3</td><td>Braund, Mr. Owen Harris                            </td><td>male  </td><td style=\"text-align: right;\">   22</td><td style=\"text-align: right;\">      1</td><td style=\"text-align: right;\">      0</td><td style=\"text-align: right;\">     nan</td><td style=\"text-align: right;\"> 7.25  </td><td>       </td><td>S         </td></tr>\n",
       "<tr><td style=\"text-align: right;\">            2</td><td style=\"text-align: right;\">         1</td><td style=\"text-align: right;\">       1</td><td>Cumings, Mrs. John Bradley (Florence Briggs Thayer)</td><td>female</td><td style=\"text-align: right;\">   38</td><td style=\"text-align: right;\">      1</td><td style=\"text-align: right;\">      0</td><td style=\"text-align: right;\">     nan</td><td style=\"text-align: right;\">71.2833</td><td>C85    </td><td>C         </td></tr>\n",
       "<tr><td style=\"text-align: right;\">            3</td><td style=\"text-align: right;\">         1</td><td style=\"text-align: right;\">       3</td><td>Heikkinen, Miss. Laina                             </td><td>female</td><td style=\"text-align: right;\">   26</td><td style=\"text-align: right;\">      0</td><td style=\"text-align: right;\">      0</td><td style=\"text-align: right;\">     nan</td><td style=\"text-align: right;\"> 7.925 </td><td>       </td><td>S         </td></tr>\n",
       "<tr><td style=\"text-align: right;\">            4</td><td style=\"text-align: right;\">         1</td><td style=\"text-align: right;\">       1</td><td>Futrelle, Mrs. Jacques Heath (Lily May Peel)       </td><td>female</td><td style=\"text-align: right;\">   35</td><td style=\"text-align: right;\">      1</td><td style=\"text-align: right;\">      0</td><td style=\"text-align: right;\">  113803</td><td style=\"text-align: right;\">53.1   </td><td>C123   </td><td>S         </td></tr>\n",
       "<tr><td style=\"text-align: right;\">            5</td><td style=\"text-align: right;\">         0</td><td style=\"text-align: right;\">       3</td><td>Allen, Mr. William Henry                           </td><td>male  </td><td style=\"text-align: right;\">   35</td><td style=\"text-align: right;\">      0</td><td style=\"text-align: right;\">      0</td><td style=\"text-align: right;\">  373450</td><td style=\"text-align: right;\"> 8.05  </td><td>       </td><td>S         </td></tr>\n",
       "<tr><td style=\"text-align: right;\">            6</td><td style=\"text-align: right;\">         0</td><td style=\"text-align: right;\">       3</td><td>Moran, Mr. James                                   </td><td>male  </td><td style=\"text-align: right;\">  nan</td><td style=\"text-align: right;\">      0</td><td style=\"text-align: right;\">      0</td><td style=\"text-align: right;\">  330877</td><td style=\"text-align: right;\"> 8.4583</td><td>       </td><td>Q         </td></tr>\n",
       "<tr><td style=\"text-align: right;\">            7</td><td style=\"text-align: right;\">         0</td><td style=\"text-align: right;\">       1</td><td>McCarthy, Mr. Timothy J                            </td><td>male  </td><td style=\"text-align: right;\">   54</td><td style=\"text-align: right;\">      0</td><td style=\"text-align: right;\">      0</td><td style=\"text-align: right;\">   17463</td><td style=\"text-align: right;\">51.8625</td><td>E46    </td><td>S         </td></tr>\n",
       "<tr><td style=\"text-align: right;\">            8</td><td style=\"text-align: right;\">         0</td><td style=\"text-align: right;\">       3</td><td>Palsson, Master. Gosta Leonard                     </td><td>male  </td><td style=\"text-align: right;\">    2</td><td style=\"text-align: right;\">      3</td><td style=\"text-align: right;\">      1</td><td style=\"text-align: right;\">  349909</td><td style=\"text-align: right;\">21.075 </td><td>       </td><td>S         </td></tr>\n",
       "<tr><td style=\"text-align: right;\">            9</td><td style=\"text-align: right;\">         1</td><td style=\"text-align: right;\">       3</td><td>Johnson, Mrs. Oscar W (Elisabeth Vilhelmina Berg)  </td><td>female</td><td style=\"text-align: right;\">   27</td><td style=\"text-align: right;\">      0</td><td style=\"text-align: right;\">      2</td><td style=\"text-align: right;\">  347742</td><td style=\"text-align: right;\">11.1333</td><td>       </td><td>S         </td></tr>\n",
       "<tr><td style=\"text-align: right;\">           10</td><td style=\"text-align: right;\">         1</td><td style=\"text-align: right;\">       2</td><td>Nasser, Mrs. Nicholas (Adele Achem)                </td><td>female</td><td style=\"text-align: right;\">   14</td><td style=\"text-align: right;\">      1</td><td style=\"text-align: right;\">      0</td><td style=\"text-align: right;\">  237736</td><td style=\"text-align: right;\">30.0708</td><td>       </td><td>C         </td></tr>\n",
       "</table>"
      ]
     },
     "metadata": {},
     "output_type": "display_data"
    },
    {
     "data": {
      "text/plain": []
     },
     "execution_count": 26,
     "metadata": {},
     "output_type": "execute_result"
    }
   ],
   "source": [
    "abc"
   ]
  },
  {
   "cell_type": "code",
   "execution_count": 22,
   "metadata": {
    "collapsed": false
   },
   "outputs": [
    {
     "data": {
      "text/html": [
       "<div>\n",
       "<table border=\"1\" class=\"dataframe\">\n",
       "  <thead>\n",
       "    <tr style=\"text-align: right;\">\n",
       "      <th></th>\n",
       "      <th>key</th>\n",
       "    </tr>\n",
       "  </thead>\n",
       "  <tbody>\n",
       "    <tr>\n",
       "      <th>0</th>\n",
       "      <td>DeepLearning_model_R_1486414215479_140</td>\n",
       "    </tr>\n",
       "    <tr>\n",
       "      <th>1</th>\n",
       "      <td>DeepLearning_model_R_1486414215479_143</td>\n",
       "    </tr>\n",
       "    <tr>\n",
       "      <th>2</th>\n",
       "      <td>DeepLearning_model_R_1486414215479_2</td>\n",
       "    </tr>\n",
       "    <tr>\n",
       "      <th>3</th>\n",
       "      <td>GBM_model_R_1486414215479_37</td>\n",
       "    </tr>\n",
       "    <tr>\n",
       "      <th>4</th>\n",
       "      <td>KMeans_model_R_1486414215479_1</td>\n",
       "    </tr>\n",
       "    <tr>\n",
       "      <th>5</th>\n",
       "      <td>RTMPNA_33</td>\n",
       "    </tr>\n",
       "    <tr>\n",
       "      <th>6</th>\n",
       "      <td>RTMPNA_63</td>\n",
       "    </tr>\n",
       "    <tr>\n",
       "      <th>7</th>\n",
       "      <td>_8d6f919419388c8d4fc7f5a2647940a9</td>\n",
       "    </tr>\n",
       "    <tr>\n",
       "      <th>8</th>\n",
       "      <td>_9e1426d37a0897df12930aeef8f24d6f</td>\n",
       "    </tr>\n",
       "    <tr>\n",
       "      <th>9</th>\n",
       "      <td>_a14b9a95ad4fd1baa61e94c0a6ad4208</td>\n",
       "    </tr>\n",
       "    <tr>\n",
       "      <th>10</th>\n",
       "      <td>hello</td>\n",
       "    </tr>\n",
       "    <tr>\n",
       "      <th>11</th>\n",
       "      <td>iris</td>\n",
       "    </tr>\n",
       "    <tr>\n",
       "      <th>12</th>\n",
       "      <td>modelmetrics_DeepLearning_model_R_148641421547...</td>\n",
       "    </tr>\n",
       "    <tr>\n",
       "      <th>13</th>\n",
       "      <td>modelmetrics_DeepLearning_model_R_148641421547...</td>\n",
       "    </tr>\n",
       "    <tr>\n",
       "      <th>14</th>\n",
       "      <td>modelmetrics_DeepLearning_model_R_148641421547...</td>\n",
       "    </tr>\n",
       "    <tr>\n",
       "      <th>15</th>\n",
       "      <td>modelmetrics_DeepLearning_model_R_148641421547...</td>\n",
       "    </tr>\n",
       "    <tr>\n",
       "      <th>16</th>\n",
       "      <td>modelmetrics_DeepLearning_model_R_148641421547...</td>\n",
       "    </tr>\n",
       "    <tr>\n",
       "      <th>17</th>\n",
       "      <td>modelmetrics_GBM_model_R_1486414215479_37@4564...</td>\n",
       "    </tr>\n",
       "    <tr>\n",
       "      <th>18</th>\n",
       "      <td>modelmetrics_KMeans_model_R_1486414215479_1@14...</td>\n",
       "    </tr>\n",
       "    <tr>\n",
       "      <th>19</th>\n",
       "      <td>predictions_a700_DeepLearning_model_R_14864142...</td>\n",
       "    </tr>\n",
       "    <tr>\n",
       "      <th>20</th>\n",
       "      <td>predictions_aae5_DeepLearning_model_R_14864142...</td>\n",
       "    </tr>\n",
       "    <tr>\n",
       "      <th>21</th>\n",
       "      <td>prostateNA_2</td>\n",
       "    </tr>\n",
       "    <tr>\n",
       "      <th>22</th>\n",
       "      <td>test.hex</td>\n",
       "    </tr>\n",
       "    <tr>\n",
       "      <th>23</th>\n",
       "      <td>titanic.hexNA_4</td>\n",
       "    </tr>\n",
       "    <tr>\n",
       "      <th>24</th>\n",
       "      <td>train.hex</td>\n",
       "    </tr>\n",
       "    <tr>\n",
       "      <th>25</th>\n",
       "      <td>valid.hex</td>\n",
       "    </tr>\n",
       "  </tbody>\n",
       "</table>\n",
       "</div>"
      ],
      "text/plain": [
       "                                                  key\n",
       "0              DeepLearning_model_R_1486414215479_140\n",
       "1              DeepLearning_model_R_1486414215479_143\n",
       "2                DeepLearning_model_R_1486414215479_2\n",
       "3                        GBM_model_R_1486414215479_37\n",
       "4                      KMeans_model_R_1486414215479_1\n",
       "5                                           RTMPNA_33\n",
       "6                                           RTMPNA_63\n",
       "7                   _8d6f919419388c8d4fc7f5a2647940a9\n",
       "8                   _9e1426d37a0897df12930aeef8f24d6f\n",
       "9                   _a14b9a95ad4fd1baa61e94c0a6ad4208\n",
       "10                                              hello\n",
       "11                                               iris\n",
       "12  modelmetrics_DeepLearning_model_R_148641421547...\n",
       "13  modelmetrics_DeepLearning_model_R_148641421547...\n",
       "14  modelmetrics_DeepLearning_model_R_148641421547...\n",
       "15  modelmetrics_DeepLearning_model_R_148641421547...\n",
       "16  modelmetrics_DeepLearning_model_R_148641421547...\n",
       "17  modelmetrics_GBM_model_R_1486414215479_37@4564...\n",
       "18  modelmetrics_KMeans_model_R_1486414215479_1@14...\n",
       "19  predictions_a700_DeepLearning_model_R_14864142...\n",
       "20  predictions_aae5_DeepLearning_model_R_14864142...\n",
       "21                                       prostateNA_2\n",
       "22                                           test.hex\n",
       "23                                    titanic.hexNA_4\n",
       "24                                          train.hex\n",
       "25                                          valid.hex"
      ]
     },
     "execution_count": 22,
     "metadata": {},
     "output_type": "execute_result"
    }
   ],
   "source": [
    "h2o.ls()"
   ]
  },
  {
   "cell_type": "code",
   "execution_count": 37,
   "metadata": {
    "collapsed": false
   },
   "outputs": [
    {
     "ename": "SyntaxError",
     "evalue": "invalid syntax (<ipython-input-37-0c209422f576>, line 1)",
     "output_type": "error",
     "traceback": [
      "\u001b[0;36m  File \u001b[0;32m\"<ipython-input-37-0c209422f576>\"\u001b[0;36m, line \u001b[0;32m1\u001b[0m\n\u001b[0;31m    top10 = abc.getrow(1:10)\u001b[0m\n\u001b[0m                        ^\u001b[0m\n\u001b[0;31mSyntaxError\u001b[0m\u001b[0;31m:\u001b[0m invalid syntax\n"
     ]
    }
   ],
   "source": [
    "top10 = abc.getrow(1:10)"
   ]
  },
  {
   "cell_type": "code",
   "execution_count": 36,
   "metadata": {
    "collapsed": false
   },
   "outputs": [
    {
     "data": {
      "text/plain": [
       "(780, 9)"
      ]
     },
     "execution_count": 36,
     "metadata": {},
     "output_type": "execute_result"
    }
   ],
   "source": [
    "top10.shape"
   ]
  },
  {
   "cell_type": "code",
   "execution_count": 38,
   "metadata": {
    "collapsed": true
   },
   "outputs": [],
   "source": [
    "row1 = [1,2,3,4,5]\n",
    "row2 = [3,4,2,5,6]"
   ]
  },
  {
   "cell_type": "code",
   "execution_count": 41,
   "metadata": {
    "collapsed": false
   },
   "outputs": [
    {
     "name": "stdout",
     "output_type": "stream",
     "text": [
      "Parse progress: |█████████████████████████████████████████████████████████| 100%\n"
     ]
    }
   ],
   "source": [
    "df1 = h2o.H2OFrame([row1, row2])"
   ]
  },
  {
   "cell_type": "code",
   "execution_count": 42,
   "metadata": {
    "collapsed": false
   },
   "outputs": [
    {
     "data": {
      "text/html": [
       "<table>\n",
       "<tr><th style=\"text-align: right;\">  C1</th><th style=\"text-align: right;\">  C2</th><th style=\"text-align: right;\">  C3</th><th style=\"text-align: right;\">  C4</th><th style=\"text-align: right;\">  C5</th></tr>\n",
       "<tr><td style=\"text-align: right;\">   1</td><td style=\"text-align: right;\">   2</td><td style=\"text-align: right;\">   3</td><td style=\"text-align: right;\">   4</td><td style=\"text-align: right;\">   5</td></tr>\n",
       "<tr><td style=\"text-align: right;\">   3</td><td style=\"text-align: right;\">   4</td><td style=\"text-align: right;\">   2</td><td style=\"text-align: right;\">   5</td><td style=\"text-align: right;\">   6</td></tr>\n",
       "</table>"
      ]
     },
     "metadata": {},
     "output_type": "display_data"
    },
    {
     "data": {
      "text/plain": []
     },
     "execution_count": 42,
     "metadata": {},
     "output_type": "execute_result"
    }
   ],
   "source": [
    "df1"
   ]
  },
  {
   "cell_type": "code",
   "execution_count": 46,
   "metadata": {
    "collapsed": false
   },
   "outputs": [],
   "source": [
    "df1['C9'] = df1['C1'].log()"
   ]
  },
  {
   "cell_type": "code",
   "execution_count": 47,
   "metadata": {
    "collapsed": false
   },
   "outputs": [
    {
     "data": {
      "text/html": [
       "<table>\n",
       "<tr><th style=\"text-align: right;\">  C1</th><th style=\"text-align: right;\">  C2</th><th style=\"text-align: right;\">  C3</th><th style=\"text-align: right;\">  C4</th><th style=\"text-align: right;\">  C5</th><th style=\"text-align: right;\">     C9</th></tr>\n",
       "<tr><td style=\"text-align: right;\">   1</td><td style=\"text-align: right;\">   2</td><td style=\"text-align: right;\">   3</td><td style=\"text-align: right;\">   4</td><td style=\"text-align: right;\">   5</td><td style=\"text-align: right;\">0      </td></tr>\n",
       "<tr><td style=\"text-align: right;\">   3</td><td style=\"text-align: right;\">   4</td><td style=\"text-align: right;\">   2</td><td style=\"text-align: right;\">   5</td><td style=\"text-align: right;\">   6</td><td style=\"text-align: right;\">1.09861</td></tr>\n",
       "</table>"
      ]
     },
     "metadata": {},
     "output_type": "display_data"
    },
    {
     "data": {
      "text/plain": []
     },
     "execution_count": 47,
     "metadata": {},
     "output_type": "execute_result"
    }
   ],
   "source": [
    "df1"
   ]
  },
  {
   "cell_type": "code",
   "execution_count": 49,
   "metadata": {
    "collapsed": false
   },
   "outputs": [
    {
     "name": "stdout",
     "output_type": "stream",
     "text": [
      "Model Details\n",
      "=============\n",
      "H2OGradientBoostingEstimator :  Gradient Boosting Machine\n",
      "Model Key:  gbm-87bddc0b-d908-4136-8f6d-ed6ab2faba38\n",
      "\n",
      "\n",
      "ModelMetricsBinomial: gbm\n",
      "** Reported on train data. **\n",
      "\n",
      "MSE: 0.207106396334\n",
      "RMSE: 0.455089437731\n",
      "LogLoss: 0.605719336704\n",
      "Mean Per-Class Error: 0.208021868891\n",
      "AUC: 0.882810018139\n",
      "Gini: 0.765620036278\n",
      "Confusion Matrix (Act/Pred) for max f1 @ threshold = 0.484009513962: \n"
     ]
    },
    {
     "data": {
      "text/html": [
       "<div style=\"overflow:auto\"><table style=\"width:50%\"><tr><td><b></b></td>\n",
       "<td><b>0</b></td>\n",
       "<td><b>1</b></td>\n",
       "<td><b>Error</b></td>\n",
       "<td><b>Rate</b></td></tr>\n",
       "<tr><td>0</td>\n",
       "<td>3629.0</td>\n",
       "<td>1367.0</td>\n",
       "<td>0.2736</td>\n",
       "<td> (1367.0/4996.0)</td></tr>\n",
       "<tr><td>1</td>\n",
       "<td>742.0</td>\n",
       "<td>4165.0</td>\n",
       "<td>0.1512</td>\n",
       "<td> (742.0/4907.0)</td></tr>\n",
       "<tr><td>Total</td>\n",
       "<td>4371.0</td>\n",
       "<td>5532.0</td>\n",
       "<td>0.213</td>\n",
       "<td> (2109.0/9903.0)</td></tr></table></div>"
      ],
      "text/plain": [
       "       0     1     Error    Rate\n",
       "-----  ----  ----  -------  ---------------\n",
       "0      3629  1367  0.2736   (1367.0/4996.0)\n",
       "1      742   4165  0.1512   (742.0/4907.0)\n",
       "Total  4371  5532  0.213    (2109.0/9903.0)"
      ]
     },
     "metadata": {},
     "output_type": "display_data"
    },
    {
     "name": "stdout",
     "output_type": "stream",
     "text": [
      "Maximum Metrics: Maximum metrics at their respective thresholds\n",
      "\n"
     ]
    },
    {
     "data": {
      "text/html": [
       "<div style=\"overflow:auto\"><table style=\"width:50%\"><tr><td><b>metric</b></td>\n",
       "<td><b>threshold</b></td>\n",
       "<td><b>value</b></td>\n",
       "<td><b>idx</b></td></tr>\n",
       "<tr><td>max f1</td>\n",
       "<td>0.4840095</td>\n",
       "<td>0.7979692</td>\n",
       "<td>216.0</td></tr>\n",
       "<tr><td>max f2</td>\n",
       "<td>0.4424633</td>\n",
       "<td>0.8772317</td>\n",
       "<td>268.0</td></tr>\n",
       "<tr><td>max f0point5</td>\n",
       "<td>0.5202030</td>\n",
       "<td>0.8114552</td>\n",
       "<td>171.0</td></tr>\n",
       "<tr><td>max accuracy</td>\n",
       "<td>0.4948710</td>\n",
       "<td>0.7919822</td>\n",
       "<td>202.0</td></tr>\n",
       "<tr><td>max precision</td>\n",
       "<td>0.8168711</td>\n",
       "<td>1.0</td>\n",
       "<td>0.0</td></tr>\n",
       "<tr><td>max recall</td>\n",
       "<td>0.3730005</td>\n",
       "<td>1.0</td>\n",
       "<td>332.0</td></tr>\n",
       "<tr><td>max specificity</td>\n",
       "<td>0.8168711</td>\n",
       "<td>1.0</td>\n",
       "<td>0.0</td></tr>\n",
       "<tr><td>max absolute_mcc</td>\n",
       "<td>0.4948710</td>\n",
       "<td>0.5839438</td>\n",
       "<td>202.0</td></tr>\n",
       "<tr><td>max min_per_class_accuracy</td>\n",
       "<td>0.4948710</td>\n",
       "<td>0.7915223</td>\n",
       "<td>202.0</td></tr>\n",
       "<tr><td>max mean_per_class_accuracy</td>\n",
       "<td>0.4948710</td>\n",
       "<td>0.7919781</td>\n",
       "<td>202.0</td></tr></table></div>"
      ],
      "text/plain": [
       "metric                       threshold    value     idx\n",
       "---------------------------  -----------  --------  -----\n",
       "max f1                       0.48401      0.797969  216\n",
       "max f2                       0.442463     0.877232  268\n",
       "max f0point5                 0.520203     0.811455  171\n",
       "max accuracy                 0.494871     0.791982  202\n",
       "max precision                0.816871     1         0\n",
       "max recall                   0.373001     1         332\n",
       "max specificity              0.816871     1         0\n",
       "max absolute_mcc             0.494871     0.583944  202\n",
       "max min_per_class_accuracy   0.494871     0.791522  202\n",
       "max mean_per_class_accuracy  0.494871     0.791978  202"
      ]
     },
     "metadata": {},
     "output_type": "display_data"
    },
    {
     "name": "stdout",
     "output_type": "stream",
     "text": [
      "Gains/Lift Table: Avg response rate: 49.55 %\n",
      "\n"
     ]
    },
    {
     "data": {
      "text/html": [
       "<div style=\"overflow:auto\"><table style=\"width:50%\"><tr><td><b></b></td>\n",
       "<td><b>group</b></td>\n",
       "<td><b>cumulative_data_fraction</b></td>\n",
       "<td><b>lower_threshold</b></td>\n",
       "<td><b>lift</b></td>\n",
       "<td><b>cumulative_lift</b></td>\n",
       "<td><b>response_rate</b></td>\n",
       "<td><b>cumulative_response_rate</b></td>\n",
       "<td><b>capture_rate</b></td>\n",
       "<td><b>cumulative_capture_rate</b></td>\n",
       "<td><b>gain</b></td>\n",
       "<td><b>cumulative_gain</b></td></tr>\n",
       "<tr><td></td>\n",
       "<td>1</td>\n",
       "<td>0.0099970</td>\n",
       "<td>0.6907435</td>\n",
       "<td>2.0181374</td>\n",
       "<td>2.0181374</td>\n",
       "<td>1.0</td>\n",
       "<td>1.0</td>\n",
       "<td>0.0201753</td>\n",
       "<td>0.0201753</td>\n",
       "<td>101.8137355</td>\n",
       "<td>101.8137355</td></tr>\n",
       "<tr><td></td>\n",
       "<td>2</td>\n",
       "<td>0.0200949</td>\n",
       "<td>0.6643356</td>\n",
       "<td>2.0181374</td>\n",
       "<td>2.0181374</td>\n",
       "<td>1.0</td>\n",
       "<td>1.0</td>\n",
       "<td>0.0203791</td>\n",
       "<td>0.0405543</td>\n",
       "<td>101.8137355</td>\n",
       "<td>101.8137355</td></tr>\n",
       "<tr><td></td>\n",
       "<td>3</td>\n",
       "<td>0.0301929</td>\n",
       "<td>0.6477901</td>\n",
       "<td>2.0181374</td>\n",
       "<td>2.0181374</td>\n",
       "<td>1.0</td>\n",
       "<td>1.0</td>\n",
       "<td>0.0203791</td>\n",
       "<td>0.0609334</td>\n",
       "<td>101.8137355</td>\n",
       "<td>101.8137355</td></tr>\n",
       "<tr><td></td>\n",
       "<td>4</td>\n",
       "<td>0.0401898</td>\n",
       "<td>0.6374664</td>\n",
       "<td>2.0181374</td>\n",
       "<td>2.0181374</td>\n",
       "<td>1.0</td>\n",
       "<td>1.0</td>\n",
       "<td>0.0201753</td>\n",
       "<td>0.0811086</td>\n",
       "<td>101.8137355</td>\n",
       "<td>101.8137355</td></tr>\n",
       "<tr><td></td>\n",
       "<td>5</td>\n",
       "<td>0.0502878</td>\n",
       "<td>0.6267735</td>\n",
       "<td>1.9979560</td>\n",
       "<td>2.0140849</td>\n",
       "<td>0.99</td>\n",
       "<td>0.9979920</td>\n",
       "<td>0.0201753</td>\n",
       "<td>0.1012839</td>\n",
       "<td>99.7955981</td>\n",
       "<td>101.4084870</td></tr>\n",
       "<tr><td></td>\n",
       "<td>6</td>\n",
       "<td>0.1003736</td>\n",
       "<td>0.5927823</td>\n",
       "<td>1.9733803</td>\n",
       "<td>1.9937735</td>\n",
       "<td>0.9778226</td>\n",
       "<td>0.9879276</td>\n",
       "<td>0.0988384</td>\n",
       "<td>0.2001223</td>\n",
       "<td>97.3380276</td>\n",
       "<td>99.3773524</td></tr>\n",
       "<tr><td></td>\n",
       "<td>7</td>\n",
       "<td>0.1504595</td>\n",
       "<td>0.5722423</td>\n",
       "<td>1.9042102</td>\n",
       "<td>1.9639592</td>\n",
       "<td>0.9435484</td>\n",
       "<td>0.9731544</td>\n",
       "<td>0.0953740</td>\n",
       "<td>0.2954962</td>\n",
       "<td>90.4210246</td>\n",
       "<td>96.3959171</td></tr>\n",
       "<tr><td></td>\n",
       "<td>8</td>\n",
       "<td>0.2005453</td>\n",
       "<td>0.5563611</td>\n",
       "<td>1.7902831</td>\n",
       "<td>1.9205839</td>\n",
       "<td>0.8870968</td>\n",
       "<td>0.9516616</td>\n",
       "<td>0.0896678</td>\n",
       "<td>0.3851641</td>\n",
       "<td>79.0283137</td>\n",
       "<td>92.0583887</td></tr>\n",
       "<tr><td></td>\n",
       "<td>9</td>\n",
       "<td>0.3004140</td>\n",
       "<td>0.5324656</td>\n",
       "<td>1.6569540</td>\n",
       "<td>1.8329436</td>\n",
       "<td>0.8210313</td>\n",
       "<td>0.9082353</td>\n",
       "<td>0.1654779</td>\n",
       "<td>0.5506419</td>\n",
       "<td>65.6954026</td>\n",
       "<td>83.2943574</td></tr>\n",
       "<tr><td></td>\n",
       "<td>10</td>\n",
       "<td>0.4002827</td>\n",
       "<td>0.5118931</td>\n",
       "<td>1.3263795</td>\n",
       "<td>1.7065581</td>\n",
       "<td>0.6572295</td>\n",
       "<td>0.8456105</td>\n",
       "<td>0.1324638</td>\n",
       "<td>0.6831058</td>\n",
       "<td>32.6379455</td>\n",
       "<td>70.6558126</td></tr>\n",
       "<tr><td></td>\n",
       "<td>11</td>\n",
       "<td>0.4999495</td>\n",
       "<td>0.4939431</td>\n",
       "<td>1.1164164</td>\n",
       "<td>1.5889112</td>\n",
       "<td>0.5531915</td>\n",
       "<td>0.7873157</td>\n",
       "<td>0.1112696</td>\n",
       "<td>0.7943754</td>\n",
       "<td>11.6416409</td>\n",
       "<td>58.8911212</td></tr>\n",
       "<tr><td></td>\n",
       "<td>12</td>\n",
       "<td>0.5994143</td>\n",
       "<td>0.4764616</td>\n",
       "<td>0.8400369</td>\n",
       "<td>1.4646455</td>\n",
       "<td>0.4162437</td>\n",
       "<td>0.7257412</td>\n",
       "<td>0.0835541</td>\n",
       "<td>0.8779295</td>\n",
       "<td>-15.9963132</td>\n",
       "<td>46.4645506</td></tr>\n",
       "<tr><td></td>\n",
       "<td>13</td>\n",
       "<td>0.6991821</td>\n",
       "<td>0.4562871</td>\n",
       "<td>0.6781595</td>\n",
       "<td>1.3524202</td>\n",
       "<td>0.3360324</td>\n",
       "<td>0.6701329</td>\n",
       "<td>0.0676584</td>\n",
       "<td>0.9455879</td>\n",
       "<td>-32.1840484</td>\n",
       "<td>35.2420180</td></tr>\n",
       "<tr><td></td>\n",
       "<td>14</td>\n",
       "<td>0.7988488</td>\n",
       "<td>0.4341639</td>\n",
       "<td>0.3598705</td>\n",
       "<td>1.2285867</td>\n",
       "<td>0.1783181</td>\n",
       "<td>0.6087726</td>\n",
       "<td>0.0358671</td>\n",
       "<td>0.9814551</td>\n",
       "<td>-64.0129509</td>\n",
       "<td>22.8586715</td></tr>\n",
       "<tr><td></td>\n",
       "<td>15</td>\n",
       "<td>0.8996264</td>\n",
       "<td>0.3999705</td>\n",
       "<td>0.1617745</td>\n",
       "<td>1.1090808</td>\n",
       "<td>0.0801603</td>\n",
       "<td>0.5495566</td>\n",
       "<td>0.0163032</td>\n",
       "<td>0.9977583</td>\n",
       "<td>-83.8225463</td>\n",
       "<td>10.9080760</td></tr>\n",
       "<tr><td></td>\n",
       "<td>16</td>\n",
       "<td>1.0</td>\n",
       "<td>0.1866811</td>\n",
       "<td>0.0223335</td>\n",
       "<td>1.0</td>\n",
       "<td>0.0110664</td>\n",
       "<td>0.4955064</td>\n",
       "<td>0.0022417</td>\n",
       "<td>1.0</td>\n",
       "<td>-97.7666488</td>\n",
       "<td>0.0</td></tr></table></div>"
      ],
      "text/plain": [
       "    group    cumulative_data_fraction    lower_threshold    lift       cumulative_lift    response_rate    cumulative_response_rate    capture_rate    cumulative_capture_rate    gain      cumulative_gain\n",
       "--  -------  --------------------------  -----------------  ---------  -----------------  ---------------  --------------------------  --------------  -------------------------  --------  -----------------\n",
       "    1        0.00999697                  0.690744           2.01814    2.01814            1                1                           0.0201753       0.0201753                  101.814   101.814\n",
       "    2        0.0200949                   0.664336           2.01814    2.01814            1                1                           0.0203791       0.0405543                  101.814   101.814\n",
       "    3        0.0301929                   0.64779            2.01814    2.01814            1                1                           0.0203791       0.0609334                  101.814   101.814\n",
       "    4        0.0401898                   0.637466           2.01814    2.01814            1                1                           0.0201753       0.0811086                  101.814   101.814\n",
       "    5        0.0502878                   0.626773           1.99796    2.01408            0.99             0.997992                    0.0201753       0.101284                   99.7956   101.408\n",
       "    6        0.100374                    0.592782           1.97338    1.99377            0.977823         0.987928                    0.0988384       0.200122                   97.338    99.3774\n",
       "    7        0.150459                    0.572242           1.90421    1.96396            0.943548         0.973154                    0.095374        0.295496                   90.421    96.3959\n",
       "    8        0.200545                    0.556361           1.79028    1.92058            0.887097         0.951662                    0.0896678       0.385164                   79.0283   92.0584\n",
       "    9        0.300414                    0.532466           1.65695    1.83294            0.821031         0.908235                    0.165478        0.550642                   65.6954   83.2944\n",
       "    10       0.400283                    0.511893           1.32638    1.70656            0.65723          0.84561                     0.132464        0.683106                   32.6379   70.6558\n",
       "    11       0.49995                     0.493943           1.11642    1.58891            0.553191         0.787316                    0.11127         0.794375                   11.6416   58.8911\n",
       "    12       0.599414                    0.476462           0.840037   1.46465            0.416244         0.725741                    0.0835541       0.877929                   -15.9963  46.4646\n",
       "    13       0.699182                    0.456287           0.67816    1.35242            0.336032         0.670133                    0.0676584       0.945588                   -32.184   35.242\n",
       "    14       0.798849                    0.434164           0.35987    1.22859            0.178318         0.608773                    0.0358671       0.981455                   -64.013   22.8587\n",
       "    15       0.899626                    0.399971           0.161775   1.10908            0.0801603        0.549557                    0.0163032       0.997758                   -83.8225  10.9081\n",
       "    16       1                           0.186681           0.0223335  1                  0.0110664        0.495506                    0.0022417       1                          -97.7666  0"
      ]
     },
     "metadata": {},
     "output_type": "display_data"
    },
    {
     "name": "stdout",
     "output_type": "stream",
     "text": [
      "\n",
      "Scoring History: \n"
     ]
    },
    {
     "data": {
      "text/html": [
       "<div style=\"overflow:auto\"><table style=\"width:50%\"><tr><td><b></b></td>\n",
       "<td><b>timestamp</b></td>\n",
       "<td><b>duration</b></td>\n",
       "<td><b>number_of_trees</b></td>\n",
       "<td><b>training_rmse</b></td>\n",
       "<td><b>training_logloss</b></td>\n",
       "<td><b>training_auc</b></td>\n",
       "<td><b>training_lift</b></td>\n",
       "<td><b>training_classification_error</b></td></tr>\n",
       "<tr><td></td>\n",
       "<td>2017-02-10 07:19:13</td>\n",
       "<td> 0.315 sec</td>\n",
       "<td>0.0</td>\n",
       "<td>0.4999798</td>\n",
       "<td>0.6931068</td>\n",
       "<td>0.5</td>\n",
       "<td>1.0</td>\n",
       "<td>0.5044936</td></tr>\n",
       "<tr><td></td>\n",
       "<td>2017-02-10 07:19:13</td>\n",
       "<td> 0.677 sec</td>\n",
       "<td>1.0</td>\n",
       "<td>0.4987446</td>\n",
       "<td>0.6906360</td>\n",
       "<td>0.5675904</td>\n",
       "<td>1.5277488</td>\n",
       "<td>0.4906594</td></tr>\n",
       "<tr><td></td>\n",
       "<td>2017-02-10 07:19:13</td>\n",
       "<td> 0.813 sec</td>\n",
       "<td>2.0</td>\n",
       "<td>0.4977128</td>\n",
       "<td>0.6885739</td>\n",
       "<td>0.5877840</td>\n",
       "<td>1.8545046</td>\n",
       "<td>0.4739978</td></tr>\n",
       "<tr><td></td>\n",
       "<td>2017-02-10 07:19:13</td>\n",
       "<td> 0.889 sec</td>\n",
       "<td>3.0</td>\n",
       "<td>0.4967269</td>\n",
       "<td>0.6866039</td>\n",
       "<td>0.6080515</td>\n",
       "<td>1.9070472</td>\n",
       "<td>0.4568313</td></tr>\n",
       "<tr><td></td>\n",
       "<td>2017-02-10 07:19:13</td>\n",
       "<td> 0.977 sec</td>\n",
       "<td>4.0</td>\n",
       "<td>0.4955660</td>\n",
       "<td>0.6842882</td>\n",
       "<td>0.6321599</td>\n",
       "<td>1.9773669</td>\n",
       "<td>0.4517823</td></tr>\n",
       "<tr><td>---</td>\n",
       "<td>---</td>\n",
       "<td>---</td>\n",
       "<td>---</td>\n",
       "<td>---</td>\n",
       "<td>---</td>\n",
       "<td>---</td>\n",
       "<td>---</td>\n",
       "<td>---</td></tr>\n",
       "<tr><td></td>\n",
       "<td>2017-02-10 07:19:16</td>\n",
       "<td> 3.962 sec</td>\n",
       "<td>36.0</td>\n",
       "<td>0.4666379</td>\n",
       "<td>0.6276967</td>\n",
       "<td>0.8455807</td>\n",
       "<td>2.0181374</td>\n",
       "<td>0.2528527</td></tr>\n",
       "<tr><td></td>\n",
       "<td>2017-02-10 07:19:16</td>\n",
       "<td> 4.070 sec</td>\n",
       "<td>37.0</td>\n",
       "<td>0.4659026</td>\n",
       "<td>0.6262811</td>\n",
       "<td>0.8475237</td>\n",
       "<td>2.0181374</td>\n",
       "<td>0.2463900</td></tr>\n",
       "<tr><td></td>\n",
       "<td>2017-02-10 07:19:17</td>\n",
       "<td> 4.172 sec</td>\n",
       "<td>38.0</td>\n",
       "<td>0.4651685</td>\n",
       "<td>0.6248730</td>\n",
       "<td>0.8505136</td>\n",
       "<td>2.0181374</td>\n",
       "<td>0.2437645</td></tr>\n",
       "<tr><td></td>\n",
       "<td>2017-02-10 07:19:17</td>\n",
       "<td> 4.289 sec</td>\n",
       "<td>39.0</td>\n",
       "<td>0.4644909</td>\n",
       "<td>0.6235803</td>\n",
       "<td>0.8532460</td>\n",
       "<td>2.0181374</td>\n",
       "<td>0.2430577</td></tr>\n",
       "<tr><td></td>\n",
       "<td>2017-02-10 07:19:17</td>\n",
       "<td> 4.651 sec</td>\n",
       "<td>50.0</td>\n",
       "<td>0.4550894</td>\n",
       "<td>0.6057193</td>\n",
       "<td>0.8828100</td>\n",
       "<td>2.0181374</td>\n",
       "<td>0.2129658</td></tr></table></div>"
      ],
      "text/plain": [
       "     timestamp            duration    number_of_trees    training_rmse    training_logloss    training_auc    training_lift    training_classification_error\n",
       "---  -------------------  ----------  -----------------  ---------------  ------------------  --------------  ---------------  -------------------------------\n",
       "     2017-02-10 07:19:13  0.315 sec   0.0                0.499979807261   0.693106795354      0.5             1.0              0.504493587802\n",
       "     2017-02-10 07:19:13  0.677 sec   1.0                0.498744550096   0.69063600976       0.567590387778  1.52774883868    0.490659396143\n",
       "     2017-02-10 07:19:13  0.813 sec   2.0                0.49771276475    0.688573921593      0.587784044232  1.8545045963     0.473997778451\n",
       "     2017-02-10 07:19:13  0.889 sec   3.0                0.496726866775   0.686603898929      0.608051531912  1.90704722518    0.456831263254\n",
       "     2017-02-10 07:19:13  0.977 sec   4.0                0.495565982598   0.684288166802      0.632159895432  1.97736690319    0.451782288195\n",
       "---  ---                  ---         ---                ---              ---                 ---             ---              ---\n",
       "     2017-02-10 07:19:16  3.962 sec   36.0               0.466637919099   0.627696690526      0.845580744196  2.0181373548     0.252852670908\n",
       "     2017-02-10 07:19:16  4.070 sec   37.0               0.465902649794   0.626281110917      0.847523708798  2.0181373548     0.246389982833\n",
       "     2017-02-10 07:19:17  4.172 sec   38.0               0.465168504359   0.624872958791      0.85051360836   2.0181373548     0.243764515803\n",
       "     2017-02-10 07:19:17  4.289 sec   39.0               0.464490870006   0.62358026408       0.853245955232  2.0181373548     0.243057659295\n",
       "     2017-02-10 07:19:17  4.651 sec   50.0               0.455089437731   0.605719336704      0.882810018139  2.0181373548     0.212965767949"
      ]
     },
     "metadata": {},
     "output_type": "display_data"
    },
    {
     "name": "stdout",
     "output_type": "stream",
     "text": [
      "\n",
      "See the whole table with table.as_data_frame()\n",
      "Variable Importances: \n"
     ]
    },
    {
     "data": {
      "text/html": [
       "<div style=\"overflow:auto\"><table style=\"width:50%\"><tr><td><b>variable</b></td>\n",
       "<td><b>relative_importance</b></td>\n",
       "<td><b>scaled_importance</b></td>\n",
       "<td><b>percentage</b></td></tr>\n",
       "<tr><td>C79</td>\n",
       "<td>66.3230209</td>\n",
       "<td>1.0</td>\n",
       "<td>0.0344119</td></tr>\n",
       "<tr><td>C83</td>\n",
       "<td>66.0353241</td>\n",
       "<td>0.9956622</td>\n",
       "<td>0.0342626</td></tr>\n",
       "<tr><td>C47</td>\n",
       "<td>60.3473358</td>\n",
       "<td>0.9099003</td>\n",
       "<td>0.0313114</td></tr>\n",
       "<tr><td>C50</td>\n",
       "<td>59.7362328</td>\n",
       "<td>0.9006862</td>\n",
       "<td>0.0309943</td></tr>\n",
       "<tr><td>C30</td>\n",
       "<td>54.7758827</td>\n",
       "<td>0.8258955</td>\n",
       "<td>0.0284206</td></tr>\n",
       "<tr><td>---</td>\n",
       "<td>---</td>\n",
       "<td>---</td>\n",
       "<td>---</td></tr>\n",
       "<tr><td>C18</td>\n",
       "<td>0.0</td>\n",
       "<td>0.0</td>\n",
       "<td>0.0</td></tr>\n",
       "<tr><td>C63</td>\n",
       "<td>0.0</td>\n",
       "<td>0.0</td>\n",
       "<td>0.0</td></tr>\n",
       "<tr><td>C72</td>\n",
       "<td>0.0</td>\n",
       "<td>0.0</td>\n",
       "<td>0.0</td></tr>\n",
       "<tr><td>C88</td>\n",
       "<td>0.0</td>\n",
       "<td>0.0</td>\n",
       "<td>0.0</td></tr>\n",
       "<tr><td>C97</td>\n",
       "<td>0.0</td>\n",
       "<td>0.0</td>\n",
       "<td>0.0</td></tr></table></div>"
      ],
      "text/plain": [
       "variable    relative_importance    scaled_importance    percentage\n",
       "----------  ---------------------  -------------------  ---------------\n",
       "C79         66.3230209351          1.0                  0.0344118835282\n",
       "C83         66.0353240967          0.995662187362       0.0342626112249\n",
       "C47         60.3473358154          0.909900287481       0.0313113827151\n",
       "C50         59.7362327576          0.900686246124       0.030994310197\n",
       "C30         54.7758827209          0.825895472623       0.0284206188104\n",
       "---         ---                    ---                  ---\n",
       "C18         0.0                    0.0                  0.0\n",
       "C63         0.0                    0.0                  0.0\n",
       "C72         0.0                    0.0                  0.0\n",
       "C88         0.0                    0.0                  0.0\n",
       "C97         0.0                    0.0                  0.0"
      ]
     },
     "metadata": {},
     "output_type": "display_data"
    },
    {
     "name": "stdout",
     "output_type": "stream",
     "text": [
      "\n",
      "See the whole table with table.as_data_frame()\n"
     ]
    },
    {
     "data": {
      "text/plain": []
     },
     "execution_count": 49,
     "metadata": {},
     "output_type": "execute_result"
    }
   ],
   "source": [
    "h2o.get_model(\"gbm-87bddc0b-d908-4136-8f6d-ed6ab2faba38\")"
   ]
  },
  {
   "cell_type": "code",
   "execution_count": null,
   "metadata": {
    "collapsed": true
   },
   "outputs": [],
   "source": []
  }
 ],
 "metadata": {
  "kernelspec": {
   "display_name": "Python 2",
   "language": "python",
   "name": "python2"
  },
  "language_info": {
   "codemirror_mode": {
    "name": "ipython",
    "version": 2
   },
   "file_extension": ".py",
   "mimetype": "text/x-python",
   "name": "python",
   "nbconvert_exporter": "python",
   "pygments_lexer": "ipython2",
   "version": "2.7.10"
  }
 },
 "nbformat": 4,
 "nbformat_minor": 1
}
