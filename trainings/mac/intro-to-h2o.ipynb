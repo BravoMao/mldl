{
 "cells": [
  {
   "cell_type": "markdown",
   "metadata": {},
   "source": [
    "# Introductory H2O Machine Learning Tutorial\n",
    "\n"
   ]
  },
  {
   "cell_type": "markdown",
   "metadata": {},
   "source": [
    "## Install H2O\n",
    "\n",
    "The first step in this tutorial is to download and install the h2o Python module.  \n",
    "The latest version is always here: http://www.h2o.ai/download/h2o/py"
   ]
  },
  {
   "cell_type": "markdown",
   "metadata": {},
   "source": [
    "### Start up the H2O Cluster\n",
    "\n",
    "Once the Python module is installed, we begin by starting up a local (on your laptop) H2O cluster."
   ]
  },
  {
   "cell_type": "code",
   "execution_count": 1,
   "metadata": {},
   "outputs": [
    {
     "name": "stderr",
     "output_type": "stream",
     "text": [
      "ERROR:h2o:Key init.version_check is not a valid config key\n"
     ]
    },
    {
     "name": "stdout",
     "output_type": "stream",
     "text": [
      "Checking whether there is an H2O instance running at http://localhost:54321. connected.\n"
     ]
    },
    {
     "data": {
      "text/html": [
       "<div style=\"overflow:auto\"><table style=\"width:50%\"><tr><td>H2O cluster uptime:</td>\n",
       "<td>3 hours 19 mins</td></tr>\n",
       "<tr><td>H2O cluster version:</td>\n",
       "<td>3.10.5.3</td></tr>\n",
       "<tr><td>H2O cluster version age:</td>\n",
       "<td>11 days </td></tr>\n",
       "<tr><td>H2O cluster name:</td>\n",
       "<td>H2O_from_python_avkashchauhan_2m13v0</td></tr>\n",
       "<tr><td>H2O cluster total nodes:</td>\n",
       "<td>1</td></tr>\n",
       "<tr><td>H2O cluster free memory:</td>\n",
       "<td>6.350 Gb</td></tr>\n",
       "<tr><td>H2O cluster total cores:</td>\n",
       "<td>8</td></tr>\n",
       "<tr><td>H2O cluster allowed cores:</td>\n",
       "<td>8</td></tr>\n",
       "<tr><td>H2O cluster status:</td>\n",
       "<td>locked, healthy</td></tr>\n",
       "<tr><td>H2O connection url:</td>\n",
       "<td>http://localhost:54321</td></tr>\n",
       "<tr><td>H2O connection proxy:</td>\n",
       "<td>None</td></tr>\n",
       "<tr><td>H2O internal security:</td>\n",
       "<td>False</td></tr>\n",
       "<tr><td>Python version:</td>\n",
       "<td>3.6.1 final</td></tr></table></div>"
      ],
      "text/plain": [
       "--------------------------  ------------------------------------\n",
       "H2O cluster uptime:         3 hours 19 mins\n",
       "H2O cluster version:        3.10.5.3\n",
       "H2O cluster version age:    11 days\n",
       "H2O cluster name:           H2O_from_python_avkashchauhan_2m13v0\n",
       "H2O cluster total nodes:    1\n",
       "H2O cluster free memory:    6.350 Gb\n",
       "H2O cluster total cores:    8\n",
       "H2O cluster allowed cores:  8\n",
       "H2O cluster status:         locked, healthy\n",
       "H2O connection url:         http://localhost:54321\n",
       "H2O connection proxy:\n",
       "H2O internal security:      False\n",
       "Python version:             3.6.1 final\n",
       "--------------------------  ------------------------------------"
      ]
     },
     "metadata": {},
     "output_type": "display_data"
    }
   ],
   "source": [
    "# Load the H2O library and start up the H2O cluter locally on your machine\n",
    "import h2o\n",
    "\n",
    "# Number of threads, nthreads = -1, means use all cores on your machine\n",
    "# max_mem_size is the maximum memory (in GB) to allocate to H2O\n",
    "h2o.init(nthreads = -1, max_mem_size = 8)"
   ]
  },
  {
   "cell_type": "markdown",
   "metadata": {},
   "source": [
    "## Data prep\n",
    "\n",
    "### Import data\n",
    "Next we will import a cleaned up version of the Lending Club \"Bad Loans\" dataset. The purpose here is to predict whether a loan will be bad (i.e. not repaid to the lender). The response column, `bad_loan`, is 1 if the loan was bad, and 0 otherwise."
   ]
  },
  {
   "cell_type": "code",
   "execution_count": 2,
   "metadata": {},
   "outputs": [
    {
     "name": "stdout",
     "output_type": "stream",
     "text": [
      "Parse progress: |█████████████████████████████████████████████████████████| 100%\n"
     ]
    }
   ],
   "source": [
    "loan_csv = \"/Users/avkashchauhan/learn/workshop2017/loan-exercise/loan.csv\"  # modify this for your machine\n",
    "# Alternatively, you can import the data directly from a URL\n",
    "#loan_csv = \"https://raw.githubusercontent.com/h2oai/app-consumer-loan/master/data/loan.csv\"\n",
    "data = h2o.import_file(loan_csv)  # 163,987 rows x 15 columns"
   ]
  },
  {
   "cell_type": "code",
   "execution_count": 3,
   "metadata": {},
   "outputs": [
    {
     "data": {
      "text/plain": [
       "(163987, 15)"
      ]
     },
     "execution_count": 3,
     "metadata": {},
     "output_type": "execute_result"
    }
   ],
   "source": [
    "data.shape"
   ]
  },
  {
   "cell_type": "code",
   "execution_count": 5,
   "metadata": {},
   "outputs": [
    {
     "data": {
      "text/html": [
       "<table>\n",
       "<thead>\n",
       "<tr><th style=\"text-align: right;\">  loan_amnt</th><th>term     </th><th style=\"text-align: right;\">  int_rate</th><th style=\"text-align: right;\">  emp_length</th><th>home_ownership  </th><th style=\"text-align: right;\">  annual_inc</th><th>purpose           </th><th>addr_state  </th><th style=\"text-align: right;\">  dti</th><th style=\"text-align: right;\">  delinq_2yrs</th><th style=\"text-align: right;\">  revol_util</th><th style=\"text-align: right;\">  total_acc</th><th style=\"text-align: right;\">  bad_loan</th><th style=\"text-align: right;\">  longest_credit_length</th><th>verification_status  </th></tr>\n",
       "</thead>\n",
       "<tbody>\n",
       "<tr><td style=\"text-align: right;\">       5000</td><td>36 months</td><td style=\"text-align: right;\">     10.65</td><td style=\"text-align: right;\">          10</td><td>RENT            </td><td style=\"text-align: right;\">       24000</td><td>credit_card       </td><td>AZ          </td><td style=\"text-align: right;\">27.65</td><td style=\"text-align: right;\">            0</td><td style=\"text-align: right;\">        83.7</td><td style=\"text-align: right;\">          9</td><td style=\"text-align: right;\">         0</td><td style=\"text-align: right;\">                     26</td><td>verified             </td></tr>\n",
       "<tr><td style=\"text-align: right;\">       2500</td><td>60 months</td><td style=\"text-align: right;\">     15.27</td><td style=\"text-align: right;\">           0</td><td>RENT            </td><td style=\"text-align: right;\">       30000</td><td>car               </td><td>GA          </td><td style=\"text-align: right;\"> 1   </td><td style=\"text-align: right;\">            0</td><td style=\"text-align: right;\">         9.4</td><td style=\"text-align: right;\">          4</td><td style=\"text-align: right;\">         1</td><td style=\"text-align: right;\">                     12</td><td>verified             </td></tr>\n",
       "<tr><td style=\"text-align: right;\">       2400</td><td>36 months</td><td style=\"text-align: right;\">     15.96</td><td style=\"text-align: right;\">          10</td><td>RENT            </td><td style=\"text-align: right;\">       12252</td><td>small_business    </td><td>IL          </td><td style=\"text-align: right;\"> 8.72</td><td style=\"text-align: right;\">            0</td><td style=\"text-align: right;\">        98.5</td><td style=\"text-align: right;\">         10</td><td style=\"text-align: right;\">         0</td><td style=\"text-align: right;\">                     10</td><td>not verified         </td></tr>\n",
       "<tr><td style=\"text-align: right;\">      10000</td><td>36 months</td><td style=\"text-align: right;\">     13.49</td><td style=\"text-align: right;\">          10</td><td>RENT            </td><td style=\"text-align: right;\">       49200</td><td>other             </td><td>CA          </td><td style=\"text-align: right;\">20   </td><td style=\"text-align: right;\">            0</td><td style=\"text-align: right;\">        21  </td><td style=\"text-align: right;\">         37</td><td style=\"text-align: right;\">         0</td><td style=\"text-align: right;\">                     15</td><td>verified             </td></tr>\n",
       "<tr><td style=\"text-align: right;\">       5000</td><td>36 months</td><td style=\"text-align: right;\">      7.9 </td><td style=\"text-align: right;\">           3</td><td>RENT            </td><td style=\"text-align: right;\">       36000</td><td>wedding           </td><td>AZ          </td><td style=\"text-align: right;\">11.2 </td><td style=\"text-align: right;\">            0</td><td style=\"text-align: right;\">        28.3</td><td style=\"text-align: right;\">         12</td><td style=\"text-align: right;\">         0</td><td style=\"text-align: right;\">                      7</td><td>verified             </td></tr>\n",
       "<tr><td style=\"text-align: right;\">       3000</td><td>36 months</td><td style=\"text-align: right;\">     18.64</td><td style=\"text-align: right;\">           9</td><td>RENT            </td><td style=\"text-align: right;\">       48000</td><td>car               </td><td>CA          </td><td style=\"text-align: right;\"> 5.35</td><td style=\"text-align: right;\">            0</td><td style=\"text-align: right;\">        87.5</td><td style=\"text-align: right;\">          4</td><td style=\"text-align: right;\">         0</td><td style=\"text-align: right;\">                      4</td><td>verified             </td></tr>\n",
       "<tr><td style=\"text-align: right;\">       5600</td><td>60 months</td><td style=\"text-align: right;\">     21.28</td><td style=\"text-align: right;\">           4</td><td>OWN             </td><td style=\"text-align: right;\">       40000</td><td>small_business    </td><td>CA          </td><td style=\"text-align: right;\"> 5.55</td><td style=\"text-align: right;\">            0</td><td style=\"text-align: right;\">        32.6</td><td style=\"text-align: right;\">         13</td><td style=\"text-align: right;\">         1</td><td style=\"text-align: right;\">                      7</td><td>verified             </td></tr>\n",
       "<tr><td style=\"text-align: right;\">       5375</td><td>60 months</td><td style=\"text-align: right;\">     12.69</td><td style=\"text-align: right;\">           0</td><td>RENT            </td><td style=\"text-align: right;\">       15000</td><td>other             </td><td>TX          </td><td style=\"text-align: right;\">18.08</td><td style=\"text-align: right;\">            0</td><td style=\"text-align: right;\">        36.5</td><td style=\"text-align: right;\">          3</td><td style=\"text-align: right;\">         1</td><td style=\"text-align: right;\">                      7</td><td>verified             </td></tr>\n",
       "<tr><td style=\"text-align: right;\">       6500</td><td>60 months</td><td style=\"text-align: right;\">     14.65</td><td style=\"text-align: right;\">           5</td><td>OWN             </td><td style=\"text-align: right;\">       72000</td><td>debt_consolidation</td><td>AZ          </td><td style=\"text-align: right;\">16.12</td><td style=\"text-align: right;\">            0</td><td style=\"text-align: right;\">        20.6</td><td style=\"text-align: right;\">         23</td><td style=\"text-align: right;\">         0</td><td style=\"text-align: right;\">                     13</td><td>not verified         </td></tr>\n",
       "<tr><td style=\"text-align: right;\">      12000</td><td>36 months</td><td style=\"text-align: right;\">     12.69</td><td style=\"text-align: right;\">          10</td><td>OWN             </td><td style=\"text-align: right;\">       75000</td><td>debt_consolidation</td><td>CA          </td><td style=\"text-align: right;\">10.78</td><td style=\"text-align: right;\">            0</td><td style=\"text-align: right;\">        67.1</td><td style=\"text-align: right;\">         34</td><td style=\"text-align: right;\">         0</td><td style=\"text-align: right;\">                     22</td><td>verified             </td></tr>\n",
       "</tbody>\n",
       "</table>"
      ]
     },
     "metadata": {},
     "output_type": "display_data"
    },
    {
     "data": {
      "text/plain": [
       "<bound method H2OFrame.summary of >"
      ]
     },
     "execution_count": 5,
     "metadata": {},
     "output_type": "execute_result"
    }
   ],
   "source": [
    "data.summary"
   ]
  },
  {
   "cell_type": "code",
   "execution_count": 4,
   "metadata": {},
   "outputs": [
    {
     "data": {
      "text/html": [
       "<table>\n",
       "<thead>\n",
       "<tr><th style=\"text-align: right;\">  loan_amnt</th><th>term     </th><th style=\"text-align: right;\">  int_rate</th><th style=\"text-align: right;\">  emp_length</th><th>home_ownership  </th><th style=\"text-align: right;\">  annual_inc</th><th>purpose           </th><th>addr_state  </th><th style=\"text-align: right;\">  dti</th><th style=\"text-align: right;\">  delinq_2yrs</th><th style=\"text-align: right;\">  revol_util</th><th style=\"text-align: right;\">  total_acc</th><th style=\"text-align: right;\">  bad_loan</th><th style=\"text-align: right;\">  longest_credit_length</th><th>verification_status  </th></tr>\n",
       "</thead>\n",
       "<tbody>\n",
       "<tr><td style=\"text-align: right;\">       5000</td><td>36 months</td><td style=\"text-align: right;\">     10.65</td><td style=\"text-align: right;\">          10</td><td>RENT            </td><td style=\"text-align: right;\">       24000</td><td>credit_card       </td><td>AZ          </td><td style=\"text-align: right;\">27.65</td><td style=\"text-align: right;\">            0</td><td style=\"text-align: right;\">        83.7</td><td style=\"text-align: right;\">          9</td><td style=\"text-align: right;\">         0</td><td style=\"text-align: right;\">                     26</td><td>verified             </td></tr>\n",
       "<tr><td style=\"text-align: right;\">       2500</td><td>60 months</td><td style=\"text-align: right;\">     15.27</td><td style=\"text-align: right;\">           0</td><td>RENT            </td><td style=\"text-align: right;\">       30000</td><td>car               </td><td>GA          </td><td style=\"text-align: right;\"> 1   </td><td style=\"text-align: right;\">            0</td><td style=\"text-align: right;\">         9.4</td><td style=\"text-align: right;\">          4</td><td style=\"text-align: right;\">         1</td><td style=\"text-align: right;\">                     12</td><td>verified             </td></tr>\n",
       "<tr><td style=\"text-align: right;\">       2400</td><td>36 months</td><td style=\"text-align: right;\">     15.96</td><td style=\"text-align: right;\">          10</td><td>RENT            </td><td style=\"text-align: right;\">       12252</td><td>small_business    </td><td>IL          </td><td style=\"text-align: right;\"> 8.72</td><td style=\"text-align: right;\">            0</td><td style=\"text-align: right;\">        98.5</td><td style=\"text-align: right;\">         10</td><td style=\"text-align: right;\">         0</td><td style=\"text-align: right;\">                     10</td><td>not verified         </td></tr>\n",
       "<tr><td style=\"text-align: right;\">      10000</td><td>36 months</td><td style=\"text-align: right;\">     13.49</td><td style=\"text-align: right;\">          10</td><td>RENT            </td><td style=\"text-align: right;\">       49200</td><td>other             </td><td>CA          </td><td style=\"text-align: right;\">20   </td><td style=\"text-align: right;\">            0</td><td style=\"text-align: right;\">        21  </td><td style=\"text-align: right;\">         37</td><td style=\"text-align: right;\">         0</td><td style=\"text-align: right;\">                     15</td><td>verified             </td></tr>\n",
       "<tr><td style=\"text-align: right;\">       5000</td><td>36 months</td><td style=\"text-align: right;\">      7.9 </td><td style=\"text-align: right;\">           3</td><td>RENT            </td><td style=\"text-align: right;\">       36000</td><td>wedding           </td><td>AZ          </td><td style=\"text-align: right;\">11.2 </td><td style=\"text-align: right;\">            0</td><td style=\"text-align: right;\">        28.3</td><td style=\"text-align: right;\">         12</td><td style=\"text-align: right;\">         0</td><td style=\"text-align: right;\">                      7</td><td>verified             </td></tr>\n",
       "<tr><td style=\"text-align: right;\">       3000</td><td>36 months</td><td style=\"text-align: right;\">     18.64</td><td style=\"text-align: right;\">           9</td><td>RENT            </td><td style=\"text-align: right;\">       48000</td><td>car               </td><td>CA          </td><td style=\"text-align: right;\"> 5.35</td><td style=\"text-align: right;\">            0</td><td style=\"text-align: right;\">        87.5</td><td style=\"text-align: right;\">          4</td><td style=\"text-align: right;\">         0</td><td style=\"text-align: right;\">                      4</td><td>verified             </td></tr>\n",
       "<tr><td style=\"text-align: right;\">       5600</td><td>60 months</td><td style=\"text-align: right;\">     21.28</td><td style=\"text-align: right;\">           4</td><td>OWN             </td><td style=\"text-align: right;\">       40000</td><td>small_business    </td><td>CA          </td><td style=\"text-align: right;\"> 5.55</td><td style=\"text-align: right;\">            0</td><td style=\"text-align: right;\">        32.6</td><td style=\"text-align: right;\">         13</td><td style=\"text-align: right;\">         1</td><td style=\"text-align: right;\">                      7</td><td>verified             </td></tr>\n",
       "<tr><td style=\"text-align: right;\">       5375</td><td>60 months</td><td style=\"text-align: right;\">     12.69</td><td style=\"text-align: right;\">           0</td><td>RENT            </td><td style=\"text-align: right;\">       15000</td><td>other             </td><td>TX          </td><td style=\"text-align: right;\">18.08</td><td style=\"text-align: right;\">            0</td><td style=\"text-align: right;\">        36.5</td><td style=\"text-align: right;\">          3</td><td style=\"text-align: right;\">         1</td><td style=\"text-align: right;\">                      7</td><td>verified             </td></tr>\n",
       "<tr><td style=\"text-align: right;\">       6500</td><td>60 months</td><td style=\"text-align: right;\">     14.65</td><td style=\"text-align: right;\">           5</td><td>OWN             </td><td style=\"text-align: right;\">       72000</td><td>debt_consolidation</td><td>AZ          </td><td style=\"text-align: right;\">16.12</td><td style=\"text-align: right;\">            0</td><td style=\"text-align: right;\">        20.6</td><td style=\"text-align: right;\">         23</td><td style=\"text-align: right;\">         0</td><td style=\"text-align: right;\">                     13</td><td>not verified         </td></tr>\n",
       "<tr><td style=\"text-align: right;\">      12000</td><td>36 months</td><td style=\"text-align: right;\">     12.69</td><td style=\"text-align: right;\">          10</td><td>OWN             </td><td style=\"text-align: right;\">       75000</td><td>debt_consolidation</td><td>CA          </td><td style=\"text-align: right;\">10.78</td><td style=\"text-align: right;\">            0</td><td style=\"text-align: right;\">        67.1</td><td style=\"text-align: right;\">         34</td><td style=\"text-align: right;\">         0</td><td style=\"text-align: right;\">                     22</td><td>verified             </td></tr>\n",
       "</tbody>\n",
       "</table>"
      ]
     },
     "metadata": {},
     "output_type": "display_data"
    },
    {
     "data": {
      "text/plain": [
       "<bound method H2OFrame.describe of >"
      ]
     },
     "execution_count": 4,
     "metadata": {},
     "output_type": "execute_result"
    }
   ],
   "source": [
    "data.describe"
   ]
  },
  {
   "cell_type": "markdown",
   "metadata": {},
   "source": [
    "### Encode response variable\n",
    "Since we want to train a binary classification model, we must ensure that the response is coded as a factor. If the response is 0/1, H2O will assume it's numeric, which means that H2O will train a regression model instead."
   ]
  },
  {
   "cell_type": "code",
   "execution_count": 6,
   "metadata": {
    "collapsed": true
   },
   "outputs": [],
   "source": [
    "data['bad_loan'] = data['bad_loan'].asfactor()  #encode the binary repsonse as a factor"
   ]
  },
  {
   "cell_type": "code",
   "execution_count": 7,
   "metadata": {},
   "outputs": [
    {
     "data": {
      "text/plain": [
       "[['0', '1']]"
      ]
     },
     "execution_count": 7,
     "metadata": {},
     "output_type": "execute_result"
    }
   ],
   "source": [
    "data['bad_loan'].levels()  #optional: after encoding, this shows the two factor levels, '0' and '1'"
   ]
  },
  {
   "cell_type": "markdown",
   "metadata": {},
   "source": [
    "### Partition data\n",
    "\n",
    "Next, we partition the data into training, validation and test sets."
   ]
  },
  {
   "cell_type": "code",
   "execution_count": 8,
   "metadata": {
    "collapsed": true
   },
   "outputs": [],
   "source": [
    "# Partition data into 70%, 15%, 15% chunks\n",
    "# Setting a seed will guarantee reproducibility\n",
    "splits = data.split_frame(ratios=[0.7, 0.15], seed=1)  "
   ]
  },
  {
   "cell_type": "code",
   "execution_count": 9,
   "metadata": {},
   "outputs": [
    {
     "data": {
      "text/html": [
       "<table>\n",
       "<thead>\n",
       "<tr><th style=\"text-align: right;\">  loan_amnt</th><th>term     </th><th style=\"text-align: right;\">  int_rate</th><th style=\"text-align: right;\">  emp_length</th><th>home_ownership  </th><th style=\"text-align: right;\">  annual_inc</th><th>purpose           </th><th>addr_state  </th><th style=\"text-align: right;\">  dti</th><th style=\"text-align: right;\">  delinq_2yrs</th><th style=\"text-align: right;\">  revol_util</th><th style=\"text-align: right;\">  total_acc</th><th style=\"text-align: right;\">  bad_loan</th><th style=\"text-align: right;\">  longest_credit_length</th><th>verification_status  </th></tr>\n",
       "</thead>\n",
       "<tbody>\n",
       "<tr><td style=\"text-align: right;\">       5000</td><td>36 months</td><td style=\"text-align: right;\">     10.65</td><td style=\"text-align: right;\">          10</td><td>RENT            </td><td style=\"text-align: right;\">       24000</td><td>credit_card       </td><td>AZ          </td><td style=\"text-align: right;\">27.65</td><td style=\"text-align: right;\">            0</td><td style=\"text-align: right;\">        83.7</td><td style=\"text-align: right;\">          9</td><td style=\"text-align: right;\">         0</td><td style=\"text-align: right;\">                     26</td><td>verified             </td></tr>\n",
       "<tr><td style=\"text-align: right;\">       2500</td><td>60 months</td><td style=\"text-align: right;\">     15.27</td><td style=\"text-align: right;\">           0</td><td>RENT            </td><td style=\"text-align: right;\">       30000</td><td>car               </td><td>GA          </td><td style=\"text-align: right;\"> 1   </td><td style=\"text-align: right;\">            0</td><td style=\"text-align: right;\">         9.4</td><td style=\"text-align: right;\">          4</td><td style=\"text-align: right;\">         1</td><td style=\"text-align: right;\">                     12</td><td>verified             </td></tr>\n",
       "<tr><td style=\"text-align: right;\">      10000</td><td>36 months</td><td style=\"text-align: right;\">     13.49</td><td style=\"text-align: right;\">          10</td><td>RENT            </td><td style=\"text-align: right;\">       49200</td><td>other             </td><td>CA          </td><td style=\"text-align: right;\">20   </td><td style=\"text-align: right;\">            0</td><td style=\"text-align: right;\">        21  </td><td style=\"text-align: right;\">         37</td><td style=\"text-align: right;\">         0</td><td style=\"text-align: right;\">                     15</td><td>verified             </td></tr>\n",
       "<tr><td style=\"text-align: right;\">       3000</td><td>36 months</td><td style=\"text-align: right;\">     18.64</td><td style=\"text-align: right;\">           9</td><td>RENT            </td><td style=\"text-align: right;\">       48000</td><td>car               </td><td>CA          </td><td style=\"text-align: right;\"> 5.35</td><td style=\"text-align: right;\">            0</td><td style=\"text-align: right;\">        87.5</td><td style=\"text-align: right;\">          4</td><td style=\"text-align: right;\">         0</td><td style=\"text-align: right;\">                      4</td><td>verified             </td></tr>\n",
       "<tr><td style=\"text-align: right;\">       5375</td><td>60 months</td><td style=\"text-align: right;\">     12.69</td><td style=\"text-align: right;\">           0</td><td>RENT            </td><td style=\"text-align: right;\">       15000</td><td>other             </td><td>TX          </td><td style=\"text-align: right;\">18.08</td><td style=\"text-align: right;\">            0</td><td style=\"text-align: right;\">        36.5</td><td style=\"text-align: right;\">          3</td><td style=\"text-align: right;\">         1</td><td style=\"text-align: right;\">                      7</td><td>verified             </td></tr>\n",
       "<tr><td style=\"text-align: right;\">       6500</td><td>60 months</td><td style=\"text-align: right;\">     14.65</td><td style=\"text-align: right;\">           5</td><td>OWN             </td><td style=\"text-align: right;\">       72000</td><td>debt_consolidation</td><td>AZ          </td><td style=\"text-align: right;\">16.12</td><td style=\"text-align: right;\">            0</td><td style=\"text-align: right;\">        20.6</td><td style=\"text-align: right;\">         23</td><td style=\"text-align: right;\">         0</td><td style=\"text-align: right;\">                     13</td><td>not verified         </td></tr>\n",
       "<tr><td style=\"text-align: right;\">       3000</td><td>36 months</td><td style=\"text-align: right;\">      9.91</td><td style=\"text-align: right;\">           3</td><td>RENT            </td><td style=\"text-align: right;\">       15000</td><td>credit_card       </td><td>IL          </td><td style=\"text-align: right;\">12.56</td><td style=\"text-align: right;\">            0</td><td style=\"text-align: right;\">        43.1</td><td style=\"text-align: right;\">         11</td><td style=\"text-align: right;\">         0</td><td style=\"text-align: right;\">                      8</td><td>verified             </td></tr>\n",
       "<tr><td style=\"text-align: right;\">       1000</td><td>36 months</td><td style=\"text-align: right;\">     16.29</td><td style=\"text-align: right;\">           0</td><td>RENT            </td><td style=\"text-align: right;\">       28000</td><td>debt_consolidation</td><td>MO          </td><td style=\"text-align: right;\">20.31</td><td style=\"text-align: right;\">            0</td><td style=\"text-align: right;\">        81.5</td><td style=\"text-align: right;\">         23</td><td style=\"text-align: right;\">         0</td><td style=\"text-align: right;\">                      4</td><td>not verified         </td></tr>\n",
       "<tr><td style=\"text-align: right;\">      10000</td><td>36 months</td><td style=\"text-align: right;\">     15.27</td><td style=\"text-align: right;\">           4</td><td>RENT            </td><td style=\"text-align: right;\">       42000</td><td>home_improvement  </td><td>CA          </td><td style=\"text-align: right;\">18.6 </td><td style=\"text-align: right;\">            0</td><td style=\"text-align: right;\">        70.2</td><td style=\"text-align: right;\">         28</td><td style=\"text-align: right;\">         0</td><td style=\"text-align: right;\">                     13</td><td>not verified         </td></tr>\n",
       "<tr><td style=\"text-align: right;\">       3600</td><td>36 months</td><td style=\"text-align: right;\">      6.03</td><td style=\"text-align: right;\">          10</td><td>MORTGAGE        </td><td style=\"text-align: right;\">      110000</td><td>major_purchase    </td><td>CT          </td><td style=\"text-align: right;\">10.52</td><td style=\"text-align: right;\">            0</td><td style=\"text-align: right;\">        16  </td><td style=\"text-align: right;\">         42</td><td style=\"text-align: right;\">         0</td><td style=\"text-align: right;\">                     18</td><td>not verified         </td></tr>\n",
       "</tbody>\n",
       "</table>"
      ]
     },
     "metadata": {},
     "output_type": "display_data"
    },
    {
     "data": {
      "text/html": [
       "<table>\n",
       "<thead>\n",
       "<tr><th style=\"text-align: right;\">  loan_amnt</th><th>term     </th><th style=\"text-align: right;\">  int_rate</th><th style=\"text-align: right;\">  emp_length</th><th>home_ownership  </th><th style=\"text-align: right;\">  annual_inc</th><th>purpose           </th><th>addr_state  </th><th style=\"text-align: right;\">  dti</th><th style=\"text-align: right;\">  delinq_2yrs</th><th style=\"text-align: right;\">  revol_util</th><th style=\"text-align: right;\">  total_acc</th><th style=\"text-align: right;\">  bad_loan</th><th style=\"text-align: right;\">  longest_credit_length</th><th>verification_status  </th></tr>\n",
       "</thead>\n",
       "<tbody>\n",
       "<tr><td style=\"text-align: right;\">       2400</td><td>36 months</td><td style=\"text-align: right;\">     15.96</td><td style=\"text-align: right;\">          10</td><td>RENT            </td><td style=\"text-align: right;\">       12252</td><td>small_business    </td><td>IL          </td><td style=\"text-align: right;\"> 8.72</td><td style=\"text-align: right;\">            0</td><td style=\"text-align: right;\">        98.5</td><td style=\"text-align: right;\">         10</td><td style=\"text-align: right;\">         0</td><td style=\"text-align: right;\">                     10</td><td>not verified         </td></tr>\n",
       "<tr><td style=\"text-align: right;\">       5000</td><td>36 months</td><td style=\"text-align: right;\">      7.9 </td><td style=\"text-align: right;\">           3</td><td>RENT            </td><td style=\"text-align: right;\">       36000</td><td>wedding           </td><td>AZ          </td><td style=\"text-align: right;\">11.2 </td><td style=\"text-align: right;\">            0</td><td style=\"text-align: right;\">        28.3</td><td style=\"text-align: right;\">         12</td><td style=\"text-align: right;\">         0</td><td style=\"text-align: right;\">                      7</td><td>verified             </td></tr>\n",
       "<tr><td style=\"text-align: right;\">       5600</td><td>60 months</td><td style=\"text-align: right;\">     21.28</td><td style=\"text-align: right;\">           4</td><td>OWN             </td><td style=\"text-align: right;\">       40000</td><td>small_business    </td><td>CA          </td><td style=\"text-align: right;\"> 5.55</td><td style=\"text-align: right;\">            0</td><td style=\"text-align: right;\">        32.6</td><td style=\"text-align: right;\">         13</td><td style=\"text-align: right;\">         1</td><td style=\"text-align: right;\">                      7</td><td>verified             </td></tr>\n",
       "<tr><td style=\"text-align: right;\">       9000</td><td>36 months</td><td style=\"text-align: right;\">     13.49</td><td style=\"text-align: right;\">           0</td><td>RENT            </td><td style=\"text-align: right;\">       30000</td><td>debt_consolidation</td><td>VA          </td><td style=\"text-align: right;\">10.08</td><td style=\"text-align: right;\">            0</td><td style=\"text-align: right;\">        91.7</td><td style=\"text-align: right;\">          9</td><td style=\"text-align: right;\">         1</td><td style=\"text-align: right;\">                      7</td><td>verified             </td></tr>\n",
       "<tr><td style=\"text-align: right;\">      10000</td><td>36 months</td><td style=\"text-align: right;\">     10.65</td><td style=\"text-align: right;\">           3</td><td>RENT            </td><td style=\"text-align: right;\">      100000</td><td>other             </td><td>CA          </td><td style=\"text-align: right;\"> 7.06</td><td style=\"text-align: right;\">            0</td><td style=\"text-align: right;\">        55.5</td><td style=\"text-align: right;\">         29</td><td style=\"text-align: right;\">         1</td><td style=\"text-align: right;\">                     20</td><td>verified             </td></tr>\n",
       "<tr><td style=\"text-align: right;\">       3000</td><td>36 months</td><td style=\"text-align: right;\">     18.25</td><td style=\"text-align: right;\">           9</td><td>MORTGAGE        </td><td style=\"text-align: right;\">       65000</td><td>other             </td><td>PA          </td><td style=\"text-align: right;\">17.39</td><td style=\"text-align: right;\">            0</td><td style=\"text-align: right;\">        98.1</td><td style=\"text-align: right;\">         22</td><td style=\"text-align: right;\">         0</td><td style=\"text-align: right;\">                     13</td><td>not verified         </td></tr>\n",
       "<tr><td style=\"text-align: right;\">      10000</td><td>36 months</td><td style=\"text-align: right;\">     10.65</td><td style=\"text-align: right;\">           2</td><td>RENT            </td><td style=\"text-align: right;\">       51400</td><td>credit_card       </td><td>TX          </td><td style=\"text-align: right;\">19.14</td><td style=\"text-align: right;\">            0</td><td style=\"text-align: right;\">        59.1</td><td style=\"text-align: right;\">         24</td><td style=\"text-align: right;\">         0</td><td style=\"text-align: right;\">                     11</td><td>not verified         </td></tr>\n",
       "<tr><td style=\"text-align: right;\">       8000</td><td>36 months</td><td style=\"text-align: right;\">     16.77</td><td style=\"text-align: right;\">           0</td><td>RENT            </td><td style=\"text-align: right;\">       62000</td><td>debt_consolidation</td><td>VA          </td><td style=\"text-align: right;\">21.64</td><td style=\"text-align: right;\">            0</td><td style=\"text-align: right;\">        66.9</td><td style=\"text-align: right;\">         20</td><td style=\"text-align: right;\">         0</td><td style=\"text-align: right;\">                      5</td><td>not verified         </td></tr>\n",
       "<tr><td style=\"text-align: right;\">      16425</td><td>36 months</td><td style=\"text-align: right;\">     14.27</td><td style=\"text-align: right;\">           4</td><td>RENT            </td><td style=\"text-align: right;\">       44544</td><td>debt_consolidation</td><td>CA          </td><td style=\"text-align: right;\">22.71</td><td style=\"text-align: right;\">            0</td><td style=\"text-align: right;\">        83.4</td><td style=\"text-align: right;\">         18</td><td style=\"text-align: right;\">         0</td><td style=\"text-align: right;\">                      9</td><td>verified             </td></tr>\n",
       "<tr><td style=\"text-align: right;\">       3000</td><td>36 months</td><td style=\"text-align: right;\">     13.49</td><td style=\"text-align: right;\">           1</td><td>RENT            </td><td style=\"text-align: right;\">       33600</td><td>debt_consolidation</td><td>AL          </td><td style=\"text-align: right;\">18.11</td><td style=\"text-align: right;\">            0</td><td style=\"text-align: right;\">        83.2</td><td style=\"text-align: right;\">          7</td><td style=\"text-align: right;\">         0</td><td style=\"text-align: right;\">                      6</td><td>not verified         </td></tr>\n",
       "</tbody>\n",
       "</table>"
      ]
     },
     "metadata": {},
     "output_type": "display_data"
    },
    {
     "data": {
      "text/html": [
       "<table>\n",
       "<thead>\n",
       "<tr><th style=\"text-align: right;\">  loan_amnt</th><th>term     </th><th style=\"text-align: right;\">  int_rate</th><th style=\"text-align: right;\">  emp_length</th><th>home_ownership  </th><th style=\"text-align: right;\">  annual_inc</th><th>purpose           </th><th>addr_state  </th><th style=\"text-align: right;\">  dti</th><th style=\"text-align: right;\">  delinq_2yrs</th><th style=\"text-align: right;\">  revol_util</th><th style=\"text-align: right;\">  total_acc</th><th style=\"text-align: right;\">  bad_loan</th><th style=\"text-align: right;\">  longest_credit_length</th><th>verification_status  </th></tr>\n",
       "</thead>\n",
       "<tbody>\n",
       "<tr><td style=\"text-align: right;\">      12000</td><td>36 months</td><td style=\"text-align: right;\">     12.69</td><td style=\"text-align: right;\">          10</td><td>OWN             </td><td style=\"text-align: right;\">       75000</td><td>debt_consolidation</td><td>CA          </td><td style=\"text-align: right;\">10.78</td><td style=\"text-align: right;\">            0</td><td style=\"text-align: right;\">        67.1</td><td style=\"text-align: right;\">         34</td><td style=\"text-align: right;\">         0</td><td style=\"text-align: right;\">                     22</td><td>verified             </td></tr>\n",
       "<tr><td style=\"text-align: right;\">      10000</td><td>36 months</td><td style=\"text-align: right;\">     11.71</td><td style=\"text-align: right;\">           5</td><td>RENT            </td><td style=\"text-align: right;\">       50000</td><td>debt_consolidation</td><td>CA          </td><td style=\"text-align: right;\">16.01</td><td style=\"text-align: right;\">            0</td><td style=\"text-align: right;\">        91.8</td><td style=\"text-align: right;\">         17</td><td style=\"text-align: right;\">         0</td><td style=\"text-align: right;\">                      8</td><td>not verified         </td></tr>\n",
       "<tr><td style=\"text-align: right;\">       6000</td><td>36 months</td><td style=\"text-align: right;\">      6.03</td><td style=\"text-align: right;\">          10</td><td>MORTGAGE        </td><td style=\"text-align: right;\">       45600</td><td>debt_consolidation</td><td>LA          </td><td style=\"text-align: right;\"> 5.34</td><td style=\"text-align: right;\">            0</td><td style=\"text-align: right;\">        32.5</td><td style=\"text-align: right;\">         28</td><td style=\"text-align: right;\">         0</td><td style=\"text-align: right;\">                     16</td><td>not verified         </td></tr>\n",
       "<tr><td style=\"text-align: right;\">      16000</td><td>60 months</td><td style=\"text-align: right;\">     19.91</td><td style=\"text-align: right;\">           7</td><td>RENT            </td><td style=\"text-align: right;\">       81000</td><td>credit_card       </td><td>MA          </td><td style=\"text-align: right;\">20.52</td><td style=\"text-align: right;\">            0</td><td style=\"text-align: right;\">        75.1</td><td style=\"text-align: right;\">         21</td><td style=\"text-align: right;\">         0</td><td style=\"text-align: right;\">                     13</td><td>verified             </td></tr>\n",
       "<tr><td style=\"text-align: right;\">      17675</td><td>60 months</td><td style=\"text-align: right;\">     14.65</td><td style=\"text-align: right;\">           0</td><td>RENT            </td><td style=\"text-align: right;\">       50000</td><td>debt_consolidation</td><td>WI          </td><td style=\"text-align: right;\">16.46</td><td style=\"text-align: right;\">            0</td><td style=\"text-align: right;\">        57.4</td><td style=\"text-align: right;\">         14</td><td style=\"text-align: right;\">         0</td><td style=\"text-align: right;\">                      9</td><td>verified             </td></tr>\n",
       "<tr><td style=\"text-align: right;\">      20975</td><td>60 months</td><td style=\"text-align: right;\">     17.58</td><td style=\"text-align: right;\">           5</td><td>MORTGAGE        </td><td style=\"text-align: right;\">       44000</td><td>credit_card       </td><td>GA          </td><td style=\"text-align: right;\">18.79</td><td style=\"text-align: right;\">            0</td><td style=\"text-align: right;\">        79.4</td><td style=\"text-align: right;\">         21</td><td style=\"text-align: right;\">         0</td><td style=\"text-align: right;\">                     11</td><td>verified             </td></tr>\n",
       "<tr><td style=\"text-align: right;\">       6400</td><td>36 months</td><td style=\"text-align: right;\">     16.77</td><td style=\"text-align: right;\">           5</td><td>RENT            </td><td style=\"text-align: right;\">       75000</td><td>debt_consolidation</td><td>CA          </td><td style=\"text-align: right;\">20.22</td><td style=\"text-align: right;\">            0</td><td style=\"text-align: right;\">        67.5</td><td style=\"text-align: right;\">         27</td><td style=\"text-align: right;\">         1</td><td style=\"text-align: right;\">                     17</td><td>not verified         </td></tr>\n",
       "<tr><td style=\"text-align: right;\">      18000</td><td>60 months</td><td style=\"text-align: right;\">     19.91</td><td style=\"text-align: right;\">          10</td><td>MORTGAGE        </td><td style=\"text-align: right;\">       65000</td><td>debt_consolidation</td><td>FL          </td><td style=\"text-align: right;\"> 6.81</td><td style=\"text-align: right;\">            0</td><td style=\"text-align: right;\">        77.8</td><td style=\"text-align: right;\">         40</td><td style=\"text-align: right;\">         0</td><td style=\"text-align: right;\">                     22</td><td>not verified         </td></tr>\n",
       "<tr><td style=\"text-align: right;\">      35000</td><td>60 months</td><td style=\"text-align: right;\">     17.27</td><td style=\"text-align: right;\">           3</td><td>MORTGAGE        </td><td style=\"text-align: right;\">      150000</td><td>home_improvement  </td><td>NY          </td><td style=\"text-align: right;\"> 7.51</td><td style=\"text-align: right;\">            0</td><td style=\"text-align: right;\">        53.3</td><td style=\"text-align: right;\">         31</td><td style=\"text-align: right;\">         0</td><td style=\"text-align: right;\">                      8</td><td>verified             </td></tr>\n",
       "<tr><td style=\"text-align: right;\">       7000</td><td>36 months</td><td style=\"text-align: right;\">     11.71</td><td style=\"text-align: right;\">           4</td><td>OWN             </td><td style=\"text-align: right;\">       39120</td><td>debt_consolidation</td><td>FL          </td><td style=\"text-align: right;\">21.01</td><td style=\"text-align: right;\">            0</td><td style=\"text-align: right;\">        52.4</td><td style=\"text-align: right;\">         26</td><td style=\"text-align: right;\">         0</td><td style=\"text-align: right;\">                     15</td><td>not verified         </td></tr>\n",
       "</tbody>\n",
       "</table>"
      ]
     },
     "metadata": {},
     "output_type": "display_data"
    },
    {
     "data": {
      "text/plain": [
       "[, , ]"
      ]
     },
     "execution_count": 9,
     "metadata": {},
     "output_type": "execute_result"
    }
   ],
   "source": [
    "splits"
   ]
  },
  {
   "cell_type": "code",
   "execution_count": 10,
   "metadata": {
    "collapsed": true
   },
   "outputs": [],
   "source": [
    "train = splits[0]\n",
    "valid = splits[1]\n",
    "test = splits[2]"
   ]
  },
  {
   "cell_type": "code",
   "execution_count": 13,
   "metadata": {},
   "outputs": [
    {
     "data": {
      "text/plain": [
       "(24581, 15)"
      ]
     },
     "execution_count": 13,
     "metadata": {},
     "output_type": "execute_result"
    }
   ],
   "source": [
    "train.shape\n",
    "test.shape"
   ]
  },
  {
   "cell_type": "code",
   "execution_count": 12,
   "metadata": {},
   "outputs": [
    {
     "name": "stdout",
     "output_type": "stream",
     "text": [
      "(114908, 15)\n",
      "(24498, 15)\n",
      "(24581, 15)\n"
     ]
    }
   ],
   "source": [
    "print(train.shape)\n",
    "print(valid.shape)\n",
    "print(test.shape)"
   ]
  },
  {
   "cell_type": "markdown",
   "metadata": {},
   "source": [
    "Notice that `split_frame()` uses approximate splitting not exact splitting (for efficiency), so these are not exactly 70%, 15% and 15% of the total rows."
   ]
  },
  {
   "cell_type": "code",
   "execution_count": 14,
   "metadata": {},
   "outputs": [
    {
     "name": "stdout",
     "output_type": "stream",
     "text": [
      "114908\n",
      "24498\n",
      "24581\n"
     ]
    }
   ],
   "source": [
    "print(train.nrow)\n",
    "print(valid.nrow)\n",
    "print(test.nrow)"
   ]
  },
  {
   "cell_type": "markdown",
   "metadata": {},
   "source": [
    "### Identify response and predictor variables\n",
    "In H2O, we use `y` to designate the response variable and `x` to designate the list of predictor columns."
   ]
  },
  {
   "cell_type": "code",
   "execution_count": 15,
   "metadata": {},
   "outputs": [
    {
     "data": {
      "text/html": [
       "<table>\n",
       "<thead>\n",
       "<tr><th style=\"text-align: right;\">  bad_loan</th></tr>\n",
       "</thead>\n",
       "<tbody>\n",
       "<tr><td style=\"text-align: right;\">         0</td></tr>\n",
       "<tr><td style=\"text-align: right;\">         1</td></tr>\n",
       "<tr><td style=\"text-align: right;\">         0</td></tr>\n",
       "<tr><td style=\"text-align: right;\">         0</td></tr>\n",
       "<tr><td style=\"text-align: right;\">         1</td></tr>\n",
       "<tr><td style=\"text-align: right;\">         0</td></tr>\n",
       "<tr><td style=\"text-align: right;\">         0</td></tr>\n",
       "<tr><td style=\"text-align: right;\">         0</td></tr>\n",
       "<tr><td style=\"text-align: right;\">         0</td></tr>\n",
       "<tr><td style=\"text-align: right;\">         0</td></tr>\n",
       "</tbody>\n",
       "</table>"
      ]
     },
     "metadata": {},
     "output_type": "display_data"
    },
    {
     "data": {
      "text/plain": []
     },
     "execution_count": 15,
     "metadata": {},
     "output_type": "execute_result"
    }
   ],
   "source": [
    "train['bad_loan']"
   ]
  },
  {
   "cell_type": "markdown",
   "metadata": {},
   "source": [
    "#### List of columns in your dataframe"
   ]
  },
  {
   "cell_type": "code",
   "execution_count": 16,
   "metadata": {},
   "outputs": [
    {
     "data": {
      "text/plain": [
       "['loan_amnt',\n",
       " 'term',\n",
       " 'int_rate',\n",
       " 'emp_length',\n",
       " 'home_ownership',\n",
       " 'annual_inc',\n",
       " 'purpose',\n",
       " 'addr_state',\n",
       " 'dti',\n",
       " 'delinq_2yrs',\n",
       " 'revol_util',\n",
       " 'total_acc',\n",
       " 'bad_loan',\n",
       " 'longest_credit_length',\n",
       " 'verification_status']"
      ]
     },
     "execution_count": 16,
     "metadata": {},
     "output_type": "execute_result"
    }
   ],
   "source": [
    "data.columns"
   ]
  },
  {
   "cell_type": "markdown",
   "metadata": {},
   "source": [
    "##### defining the response variable"
   ]
  },
  {
   "cell_type": "code",
   "execution_count": 21,
   "metadata": {
    "collapsed": true
   },
   "outputs": [],
   "source": [
    "y = 'bad_loan'"
   ]
  },
  {
   "cell_type": "markdown",
   "metadata": {},
   "source": [
    "#### getting all the colmuns besides the response variable"
   ]
  },
  {
   "cell_type": "code",
   "execution_count": 22,
   "metadata": {},
   "outputs": [
    {
     "name": "stdout",
     "output_type": "stream",
     "text": [
      "['loan_amnt', 'term', 'int_rate', 'emp_length', 'home_ownership', 'annual_inc', 'purpose', 'addr_state', 'dti', 'delinq_2yrs', 'revol_util', 'total_acc', 'bad_loan', 'longest_credit_length', 'verification_status']\n"
     ]
    }
   ],
   "source": [
    "x = list(data.columns)\n",
    "print(x)"
   ]
  },
  {
   "cell_type": "markdown",
   "metadata": {},
   "source": [
    "##### removing the response from the list"
   ]
  },
  {
   "cell_type": "code",
   "execution_count": 23,
   "metadata": {},
   "outputs": [
    {
     "name": "stdout",
     "output_type": "stream",
     "text": [
      "['loan_amnt', 'term', 'int_rate', 'emp_length', 'home_ownership', 'annual_inc', 'purpose', 'addr_state', 'dti', 'delinq_2yrs', 'revol_util', 'total_acc', 'longest_credit_length', 'verification_status']\n"
     ]
    }
   ],
   "source": [
    "x.remove(y)  #remove the response\n",
    "print(x)"
   ]
  },
  {
   "cell_type": "markdown",
   "metadata": {},
   "source": [
    "#### Now remove the interest rate column because it's correlated with the outcome"
   ]
  },
  {
   "cell_type": "code",
   "execution_count": 24,
   "metadata": {
    "collapsed": true
   },
   "outputs": [],
   "source": [
    "x.remove('int_rate')  "
   ]
  },
  {
   "cell_type": "code",
   "execution_count": 25,
   "metadata": {},
   "outputs": [
    {
     "data": {
      "text/plain": [
       "['loan_amnt',\n",
       " 'term',\n",
       " 'emp_length',\n",
       " 'home_ownership',\n",
       " 'annual_inc',\n",
       " 'purpose',\n",
       " 'addr_state',\n",
       " 'dti',\n",
       " 'delinq_2yrs',\n",
       " 'revol_util',\n",
       " 'total_acc',\n",
       " 'longest_credit_length',\n",
       " 'verification_status']"
      ]
     },
     "execution_count": 25,
     "metadata": {},
     "output_type": "execute_result"
    }
   ],
   "source": [
    "# List of predictor columns\n",
    "x"
   ]
  },
  {
   "cell_type": "markdown",
   "metadata": {},
   "source": [
    "## H2O Machine Learning\n",
    "\n",
    "Now that we have prepared the data, we can train some models. We will start by training a single model from each of the H2O supervised algos:\n",
    "\n",
    "- Generalized Linear Model (GLM)\n",
    "- Random Forest (RF)\n",
    "- Gradient Boosting Machine (RF)\n",
    "- Deep Learning (DL)\n",
    "- Naive Bayes (NB)"
   ]
  },
  {
   "cell_type": "markdown",
   "metadata": {},
   "source": [
    "## 1. Generalized Linear Model\n",
    "Let's start with a basic binomial Generalized Linear Model (GLM).  By default, H2O's GLM uses a regularized, elastic net model."
   ]
  },
  {
   "cell_type": "code",
   "execution_count": 26,
   "metadata": {
    "collapsed": true
   },
   "outputs": [],
   "source": [
    "# Import H2O GLM:\n",
    "from h2o.estimators.glm import H2OGeneralizedLinearEstimator"
   ]
  },
  {
   "cell_type": "markdown",
   "metadata": {},
   "source": [
    "### Train a default GLM\n",
    "We first create an object of class, `\"H2OGeneralizedLinearEstimator\"`.  This does not actually do any training, it just sets the model up for training by specifying model parameters."
   ]
  },
  {
   "cell_type": "code",
   "execution_count": 27,
   "metadata": {
    "collapsed": true
   },
   "outputs": [],
   "source": [
    "# Initialize the GLM estimator:\n",
    "# Similar to R's glm() and H2O's R GLM, H2O's GLM has the \"family\" argument\n",
    "\n",
    "glm_fit1 = H2OGeneralizedLinearEstimator(family='binomial', model_id='glm_fit1')"
   ]
  },
  {
   "cell_type": "markdown",
   "metadata": {},
   "source": [
    "Now that `glm_fit1` object is initialized, we can train the model:"
   ]
  },
  {
   "cell_type": "code",
   "execution_count": 28,
   "metadata": {},
   "outputs": [
    {
     "name": "stdout",
     "output_type": "stream",
     "text": [
      "glm Model Build progress: |███████████████████████████████████████████████| 100%\n"
     ]
    }
   ],
   "source": [
    "glm_fit1.train(x=x, y=y, training_frame=train)"
   ]
  },
  {
   "cell_type": "markdown",
   "metadata": {},
   "source": [
    "### Train a GLM with lambda search\n",
    "\n",
    "Next we will do some automatic tuning by passing in a validation frame and setting `lambda_search = True`.  Since we are training a GLM with regularization, we should try to find the right amount of regularization (to avoid overfitting).  The model parameter, `lambda`, controls the amount of regularization in a GLM model and we can find the optimal value for `lambda` automatically by setting `lambda_search = True` and passing in a validation frame (which is used to evaluate model performance using a particular value of lambda)."
   ]
  },
  {
   "cell_type": "code",
   "execution_count": 29,
   "metadata": {},
   "outputs": [
    {
     "name": "stdout",
     "output_type": "stream",
     "text": [
      "glm Model Build progress: |███████████████████████████████████████████████| 100%\n"
     ]
    }
   ],
   "source": [
    "glm_fit2 = H2OGeneralizedLinearEstimator(family='binomial', model_id='glm_fit2', lambda_search=True)\n",
    "glm_fit2.train(x=x, y=y, training_frame=train, validation_frame=valid)"
   ]
  },
  {
   "cell_type": "markdown",
   "metadata": {},
   "source": [
    "#### Displaying the model"
   ]
  },
  {
   "cell_type": "code",
   "execution_count": 31,
   "metadata": {},
   "outputs": [
    {
     "name": "stdout",
     "output_type": "stream",
     "text": [
      "Model Details\n",
      "=============\n",
      "H2OGeneralizedLinearEstimator :  Generalized Linear Modeling\n",
      "Model Key:  glm_fit1\n",
      "\n",
      "\n",
      "ModelMetricsBinomialGLM: glm\n",
      "** Reported on train data. **\n",
      "\n",
      "MSE: 0.13984803127954054\n",
      "RMSE: 0.3739626067931666\n",
      "LogLoss: 0.4457344746970694\n",
      "Null degrees of freedom: 114907\n",
      "Residual degrees of freedom: 114856\n",
      "Null deviance: 108939.63716429766\n",
      "Residual deviance: 102436.9140369817\n",
      "AIC: 102540.9140369817\n",
      "AUC: 0.67415072995296\n",
      "Gini: 0.34830145990592\n",
      "Confusion Matrix (Act/Pred) for max f1 @ threshold = 0.1891036422294594: \n"
     ]
    },
    {
     "data": {
      "text/html": [
       "<div style=\"overflow:auto\"><table style=\"width:50%\"><tr><td><b></b></td>\n",
       "<td><b>0</b></td>\n",
       "<td><b>1</b></td>\n",
       "<td><b>Error</b></td>\n",
       "<td><b>Rate</b></td></tr>\n",
       "<tr><td>0</td>\n",
       "<td>62290.0</td>\n",
       "<td>31734.0</td>\n",
       "<td>0.3375</td>\n",
       "<td> (31734.0/94024.0)</td></tr>\n",
       "<tr><td>1</td>\n",
       "<td>8583.0</td>\n",
       "<td>12301.0</td>\n",
       "<td>0.411</td>\n",
       "<td> (8583.0/20884.0)</td></tr>\n",
       "<tr><td>Total</td>\n",
       "<td>70873.0</td>\n",
       "<td>44035.0</td>\n",
       "<td>0.3509</td>\n",
       "<td> (40317.0/114908.0)</td></tr></table></div>"
      ],
      "text/plain": [
       "       0      1      Error    Rate\n",
       "-----  -----  -----  -------  ------------------\n",
       "0      62290  31734  0.3375   (31734.0/94024.0)\n",
       "1      8583   12301  0.411    (8583.0/20884.0)\n",
       "Total  70873  44035  0.3509   (40317.0/114908.0)"
      ]
     },
     "metadata": {},
     "output_type": "display_data"
    },
    {
     "name": "stdout",
     "output_type": "stream",
     "text": [
      "Maximum Metrics: Maximum metrics at their respective thresholds\n",
      "\n"
     ]
    },
    {
     "data": {
      "text/html": [
       "<div style=\"overflow:auto\"><table style=\"width:50%\"><tr><td><b>metric</b></td>\n",
       "<td><b>threshold</b></td>\n",
       "<td><b>value</b></td>\n",
       "<td><b>idx</b></td></tr>\n",
       "<tr><td>max f1</td>\n",
       "<td>0.1891036</td>\n",
       "<td>0.3789646</td>\n",
       "<td>226.0</td></tr>\n",
       "<tr><td>max f2</td>\n",
       "<td>0.1120643</td>\n",
       "<td>0.5475462</td>\n",
       "<td>315.0</td></tr>\n",
       "<tr><td>max f0point5</td>\n",
       "<td>0.2683107</td>\n",
       "<td>0.3409905</td>\n",
       "<td>153.0</td></tr>\n",
       "<tr><td>max accuracy</td>\n",
       "<td>0.5215806</td>\n",
       "<td>0.8187332</td>\n",
       "<td>24.0</td></tr>\n",
       "<tr><td>max precision</td>\n",
       "<td>0.7383309</td>\n",
       "<td>1.0</td>\n",
       "<td>0.0</td></tr>\n",
       "<tr><td>max recall</td>\n",
       "<td>0.0009766</td>\n",
       "<td>1.0</td>\n",
       "<td>399.0</td></tr>\n",
       "<tr><td>max specificity</td>\n",
       "<td>0.7383309</td>\n",
       "<td>1.0</td>\n",
       "<td>0.0</td></tr>\n",
       "<tr><td>max absolute_mcc</td>\n",
       "<td>0.2081632</td>\n",
       "<td>0.2012044</td>\n",
       "<td>207.0</td></tr>\n",
       "<tr><td>max min_per_class_accuracy</td>\n",
       "<td>0.1802906</td>\n",
       "<td>0.6242555</td>\n",
       "<td>235.0</td></tr>\n",
       "<tr><td>max mean_per_class_accuracy</td>\n",
       "<td>0.1823869</td>\n",
       "<td>0.6262285</td>\n",
       "<td>233.0</td></tr></table></div>"
      ],
      "text/plain": [
       "metric                       threshold    value     idx\n",
       "---------------------------  -----------  --------  -----\n",
       "max f1                       0.189104     0.378965  226\n",
       "max f2                       0.112064     0.547546  315\n",
       "max f0point5                 0.268311     0.34099   153\n",
       "max accuracy                 0.521581     0.818733  24\n",
       "max precision                0.738331     1         0\n",
       "max recall                   0.000976609  1         399\n",
       "max specificity              0.738331     1         0\n",
       "max absolute_mcc             0.208163     0.201204  207\n",
       "max min_per_class_accuracy   0.180291     0.624256  235\n",
       "max mean_per_class_accuracy  0.182387     0.626229  233"
      ]
     },
     "metadata": {},
     "output_type": "display_data"
    },
    {
     "name": "stdout",
     "output_type": "stream",
     "text": [
      "Gains/Lift Table: Avg response rate: 18.17 %\n",
      "\n"
     ]
    },
    {
     "data": {
      "text/html": [
       "<div style=\"overflow:auto\"><table style=\"width:50%\"><tr><td><b></b></td>\n",
       "<td><b>group</b></td>\n",
       "<td><b>cumulative_data_fraction</b></td>\n",
       "<td><b>lower_threshold</b></td>\n",
       "<td><b>lift</b></td>\n",
       "<td><b>cumulative_lift</b></td>\n",
       "<td><b>response_rate</b></td>\n",
       "<td><b>cumulative_response_rate</b></td>\n",
       "<td><b>capture_rate</b></td>\n",
       "<td><b>cumulative_capture_rate</b></td>\n",
       "<td><b>gain</b></td>\n",
       "<td><b>cumulative_gain</b></td></tr>\n",
       "<tr><td></td>\n",
       "<td>1</td>\n",
       "<td>0.0100080</td>\n",
       "<td>0.4669396</td>\n",
       "<td>2.7415323</td>\n",
       "<td>2.7415323</td>\n",
       "<td>0.4982609</td>\n",
       "<td>0.4982609</td>\n",
       "<td>0.0274373</td>\n",
       "<td>0.0274373</td>\n",
       "<td>174.1532274</td>\n",
       "<td>174.1532274</td></tr>\n",
       "<tr><td></td>\n",
       "<td>2</td>\n",
       "<td>0.0200073</td>\n",
       "<td>0.4282534</td>\n",
       "<td>2.4565970</td>\n",
       "<td>2.5991266</td>\n",
       "<td>0.4464752</td>\n",
       "<td>0.4723793</td>\n",
       "<td>0.0245643</td>\n",
       "<td>0.0520015</td>\n",
       "<td>145.6597003</td>\n",
       "<td>159.9126607</td></tr>\n",
       "<tr><td></td>\n",
       "<td>3</td>\n",
       "<td>0.0300066</td>\n",
       "<td>0.4036249</td>\n",
       "<td>2.1501210</td>\n",
       "<td>2.4495015</td>\n",
       "<td>0.3907746</td>\n",
       "<td>0.4451856</td>\n",
       "<td>0.0214997</td>\n",
       "<td>0.0735012</td>\n",
       "<td>115.0120963</td>\n",
       "<td>144.9501467</td></tr>\n",
       "<tr><td></td>\n",
       "<td>4</td>\n",
       "<td>0.0400059</td>\n",
       "<td>0.3839071</td>\n",
       "<td>2.1213888</td>\n",
       "<td>2.3674912</td>\n",
       "<td>0.3855527</td>\n",
       "<td>0.4302806</td>\n",
       "<td>0.0212124</td>\n",
       "<td>0.0947137</td>\n",
       "<td>112.1388835</td>\n",
       "<td>136.7491153</td></tr>\n",
       "<tr><td></td>\n",
       "<td>5</td>\n",
       "<td>0.0500052</td>\n",
       "<td>0.3672320</td>\n",
       "<td>2.1644870</td>\n",
       "<td>2.3268974</td>\n",
       "<td>0.3933856</td>\n",
       "<td>0.4229029</td>\n",
       "<td>0.0216434</td>\n",
       "<td>0.1163570</td>\n",
       "<td>116.4487028</td>\n",
       "<td>132.6897393</td></tr>\n",
       "<tr><td></td>\n",
       "<td>6</td>\n",
       "<td>0.1000017</td>\n",
       "<td>0.3109149</td>\n",
       "<td>1.8790812</td>\n",
       "<td>2.1030088</td>\n",
       "<td>0.3415144</td>\n",
       "<td>0.3822122</td>\n",
       "<td>0.0939475</td>\n",
       "<td>0.2103045</td>\n",
       "<td>87.9081216</td>\n",
       "<td>110.3008790</td></tr>\n",
       "<tr><td></td>\n",
       "<td>7</td>\n",
       "<td>0.1500070</td>\n",
       "<td>0.2743605</td>\n",
       "<td>1.6163798</td>\n",
       "<td>1.9407897</td>\n",
       "<td>0.2937696</td>\n",
       "<td>0.3527296</td>\n",
       "<td>0.0808274</td>\n",
       "<td>0.2911320</td>\n",
       "<td>61.6379753</td>\n",
       "<td>94.0789701</td></tr>\n",
       "<tr><td></td>\n",
       "<td>8</td>\n",
       "<td>0.2000035</td>\n",
       "<td>0.2483284</td>\n",
       "<td>1.5084368</td>\n",
       "<td>1.8327109</td>\n",
       "<td>0.2741514</td>\n",
       "<td>0.3330868</td>\n",
       "<td>0.0754166</td>\n",
       "<td>0.3665486</td>\n",
       "<td>50.8436756</td>\n",
       "<td>83.2710871</td></tr>\n",
       "<tr><td></td>\n",
       "<td>9</td>\n",
       "<td>0.3000052</td>\n",
       "<td>0.2112755</td>\n",
       "<td>1.2770320</td>\n",
       "<td>1.6474846</td>\n",
       "<td>0.2320947</td>\n",
       "<td>0.2994227</td>\n",
       "<td>0.1277054</td>\n",
       "<td>0.4942540</td>\n",
       "<td>27.7031977</td>\n",
       "<td>64.7484573</td></tr>\n",
       "<tr><td></td>\n",
       "<td>10</td>\n",
       "<td>0.3999983</td>\n",
       "<td>0.1848450</td>\n",
       "<td>1.1152855</td>\n",
       "<td>1.5144435</td>\n",
       "<td>0.2026980</td>\n",
       "<td>0.2752431</td>\n",
       "<td>0.1115208</td>\n",
       "<td>0.6057748</td>\n",
       "<td>11.5285462</td>\n",
       "<td>51.4443479</td></tr>\n",
       "<tr><td></td>\n",
       "<td>11</td>\n",
       "<td>0.5</td>\n",
       "<td>0.1628420</td>\n",
       "<td>0.9581331</td>\n",
       "<td>1.4031795</td>\n",
       "<td>0.1741363</td>\n",
       "<td>0.2550214</td>\n",
       "<td>0.0958150</td>\n",
       "<td>0.7015897</td>\n",
       "<td>-4.1866897</td>\n",
       "<td>40.3179468</td></tr>\n",
       "<tr><td></td>\n",
       "<td>12</td>\n",
       "<td>0.6000017</td>\n",
       "<td>0.1432771</td>\n",
       "<td>0.8389051</td>\n",
       "<td>1.3091324</td>\n",
       "<td>0.1524671</td>\n",
       "<td>0.2379288</td>\n",
       "<td>0.0838920</td>\n",
       "<td>0.7854817</td>\n",
       "<td>-16.1094854</td>\n",
       "<td>30.9132383</td></tr>\n",
       "<tr><td></td>\n",
       "<td>13</td>\n",
       "<td>0.6999948</td>\n",
       "<td>0.1246478</td>\n",
       "<td>0.7187821</td>\n",
       "<td>1.2248019</td>\n",
       "<td>0.1306353</td>\n",
       "<td>0.2226021</td>\n",
       "<td>0.0718732</td>\n",
       "<td>0.8573549</td>\n",
       "<td>-28.1217914</td>\n",
       "<td>22.4801869</td></tr>\n",
       "<tr><td></td>\n",
       "<td>14</td>\n",
       "<td>0.7999965</td>\n",
       "<td>0.1051553</td>\n",
       "<td>0.6057163</td>\n",
       "<td>1.1474145</td>\n",
       "<td>0.1100862</td>\n",
       "<td>0.2085373</td>\n",
       "<td>0.0605727</td>\n",
       "<td>0.9179276</td>\n",
       "<td>-39.4283670</td>\n",
       "<td>14.7414493</td></tr>\n",
       "<tr><td></td>\n",
       "<td>15</td>\n",
       "<td>0.8999983</td>\n",
       "<td>0.0821615</td>\n",
       "<td>0.4654200</td>\n",
       "<td>1.0716359</td>\n",
       "<td>0.0845879</td>\n",
       "<td>0.1947649</td>\n",
       "<td>0.0465428</td>\n",
       "<td>0.9644704</td>\n",
       "<td>-53.4580022</td>\n",
       "<td>7.1635859</td></tr>\n",
       "<tr><td></td>\n",
       "<td>16</td>\n",
       "<td>1.0</td>\n",
       "<td>0.0000000</td>\n",
       "<td>0.3552897</td>\n",
       "<td>1.0</td>\n",
       "<td>0.0645723</td>\n",
       "<td>0.1817454</td>\n",
       "<td>0.0355296</td>\n",
       "<td>1.0</td>\n",
       "<td>-64.4710264</td>\n",
       "<td>0.0</td></tr></table></div>"
      ],
      "text/plain": [
       "    group    cumulative_data_fraction    lower_threshold    lift      cumulative_lift    response_rate    cumulative_response_rate    capture_rate    cumulative_capture_rate    gain      cumulative_gain\n",
       "--  -------  --------------------------  -----------------  --------  -----------------  ---------------  --------------------------  --------------  -------------------------  --------  -----------------\n",
       "    1        0.010008                    0.46694            2.74153   2.74153            0.498261         0.498261                    0.0274373       0.0274373                  174.153   174.153\n",
       "    2        0.0200073                   0.428253           2.4566    2.59913            0.446475         0.472379                    0.0245643       0.0520015                  145.66    159.913\n",
       "    3        0.0300066                   0.403625           2.15012   2.4495             0.390775         0.445186                    0.0214997       0.0735012                  115.012   144.95\n",
       "    4        0.0400059                   0.383907           2.12139   2.36749            0.385553         0.430281                    0.0212124       0.0947137                  112.139   136.749\n",
       "    5        0.0500052                   0.367232           2.16449   2.3269             0.393386         0.422903                    0.0216434       0.116357                   116.449   132.69\n",
       "    6        0.100002                    0.310915           1.87908   2.10301            0.341514         0.382212                    0.0939475       0.210305                   87.9081   110.301\n",
       "    7        0.150007                    0.274361           1.61638   1.94079            0.29377          0.35273                     0.0808274       0.291132                   61.638    94.079\n",
       "    8        0.200003                    0.248328           1.50844   1.83271            0.274151         0.333087                    0.0754166       0.366549                   50.8437   83.2711\n",
       "    9        0.300005                    0.211276           1.27703   1.64748            0.232095         0.299423                    0.127705        0.494254                   27.7032   64.7485\n",
       "    10       0.399998                    0.184845           1.11529   1.51444            0.202698         0.275243                    0.111521        0.605775                   11.5285   51.4443\n",
       "    11       0.5                         0.162842           0.958133  1.40318            0.174136         0.255021                    0.095815        0.70159                    -4.18669  40.3179\n",
       "    12       0.600002                    0.143277           0.838905  1.30913            0.152467         0.237929                    0.083892        0.785482                   -16.1095  30.9132\n",
       "    13       0.699995                    0.124648           0.718782  1.2248             0.130635         0.222602                    0.0718732       0.857355                   -28.1218  22.4802\n",
       "    14       0.799997                    0.105155           0.605716  1.14741            0.110086         0.208537                    0.0605727       0.917928                   -39.4284  14.7414\n",
       "    15       0.899998                    0.0821615          0.46542   1.07164            0.0845879        0.194765                    0.0465428       0.96447                    -53.458   7.16359\n",
       "    16       1                           9.94129e-23        0.35529   1                  0.0645723        0.181745                    0.0355296       1                          -64.471   0"
      ]
     },
     "metadata": {},
     "output_type": "display_data"
    },
    {
     "name": "stdout",
     "output_type": "stream",
     "text": [
      "\n",
      "Scoring History: \n"
     ]
    },
    {
     "data": {
      "text/html": [
       "<div style=\"overflow:auto\"><table style=\"width:50%\"><tr><td><b></b></td>\n",
       "<td><b>timestamp</b></td>\n",
       "<td><b>duration</b></td>\n",
       "<td><b>iteration</b></td>\n",
       "<td><b>negative_log_likelihood</b></td>\n",
       "<td><b>objective</b></td></tr>\n",
       "<tr><td></td>\n",
       "<td>2017-07-12 01:21:33</td>\n",
       "<td> 0.000 sec</td>\n",
       "<td>0</td>\n",
       "<td>54469.8185821</td>\n",
       "<td>0.4740298</td></tr>\n",
       "<tr><td></td>\n",
       "<td>2017-07-12 01:21:33</td>\n",
       "<td> 0.038 sec</td>\n",
       "<td>1</td>\n",
       "<td>51474.8736259</td>\n",
       "<td>0.4483405</td></tr>\n",
       "<tr><td></td>\n",
       "<td>2017-07-12 01:21:33</td>\n",
       "<td> 0.060 sec</td>\n",
       "<td>2</td>\n",
       "<td>51227.1975515</td>\n",
       "<td>0.4461995</td></tr>\n",
       "<tr><td></td>\n",
       "<td>2017-07-12 01:21:33</td>\n",
       "<td> 0.080 sec</td>\n",
       "<td>3</td>\n",
       "<td>51218.4598670</td>\n",
       "<td>0.4461301</td></tr>\n",
       "<tr><td></td>\n",
       "<td>2017-07-12 01:21:33</td>\n",
       "<td> 0.098 sec</td>\n",
       "<td>4</td>\n",
       "<td>51218.4570185</td>\n",
       "<td>0.4461301</td></tr></table></div>"
      ],
      "text/plain": [
       "    timestamp            duration    iteration    negative_log_likelihood    objective\n",
       "--  -------------------  ----------  -----------  -------------------------  -----------\n",
       "    2017-07-12 01:21:33  0.000 sec   0            54469.8                    0.47403\n",
       "    2017-07-12 01:21:33  0.038 sec   1            51474.9                    0.448341\n",
       "    2017-07-12 01:21:33  0.060 sec   2            51227.2                    0.446199\n",
       "    2017-07-12 01:21:33  0.080 sec   3            51218.5                    0.44613\n",
       "    2017-07-12 01:21:33  0.098 sec   4            51218.5                    0.44613"
      ]
     },
     "metadata": {},
     "output_type": "display_data"
    },
    {
     "data": {
      "text/plain": []
     },
     "execution_count": 31,
     "metadata": {},
     "output_type": "execute_result"
    }
   ],
   "source": [
    "glm_fit1"
   ]
  },
  {
   "cell_type": "markdown",
   "metadata": {},
   "source": [
    "### Evaluate model performance\n",
    "Let's compare the performance of the two GLMs that were just trained."
   ]
  },
  {
   "cell_type": "code",
   "execution_count": 32,
   "metadata": {
    "collapsed": true
   },
   "outputs": [],
   "source": [
    "glm_perf1 = glm_fit1.model_performance(test)\n",
    "glm_perf2 = glm_fit2.model_performance(test)"
   ]
  },
  {
   "cell_type": "code",
   "execution_count": 33,
   "metadata": {},
   "outputs": [
    {
     "name": "stdout",
     "output_type": "stream",
     "text": [
      "\n",
      "ModelMetricsBinomialGLM: glm\n",
      "** Reported on test data. **\n",
      "\n",
      "MSE: 0.14215509900200168\n",
      "RMSE: 0.37703461247211995\n",
      "LogLoss: 0.4510784560183179\n",
      "Null degrees of freedom: 24580\n",
      "Residual degrees of freedom: 24529\n",
      "Null deviance: 23672.922265642344\n",
      "Residual deviance: 22175.919054772545\n",
      "AIC: 22279.919054772545\n",
      "AUC: 0.6774770487678061\n",
      "Gini: 0.35495409753561225\n",
      "Confusion Matrix (Act/Pred) for max f1 @ threshold = 0.1933006386619594: \n"
     ]
    },
    {
     "data": {
      "text/html": [
       "<div style=\"overflow:auto\"><table style=\"width:50%\"><tr><td><b></b></td>\n",
       "<td><b>0</b></td>\n",
       "<td><b>1</b></td>\n",
       "<td><b>Error</b></td>\n",
       "<td><b>Rate</b></td></tr>\n",
       "<tr><td>0</td>\n",
       "<td>13645.0</td>\n",
       "<td>6346.0</td>\n",
       "<td>0.3174</td>\n",
       "<td> (6346.0/19991.0)</td></tr>\n",
       "<tr><td>1</td>\n",
       "<td>1939.0</td>\n",
       "<td>2651.0</td>\n",
       "<td>0.4224</td>\n",
       "<td> (1939.0/4590.0)</td></tr>\n",
       "<tr><td>Total</td>\n",
       "<td>15584.0</td>\n",
       "<td>8997.0</td>\n",
       "<td>0.337</td>\n",
       "<td> (8285.0/24581.0)</td></tr></table></div>"
      ],
      "text/plain": [
       "       0      1     Error    Rate\n",
       "-----  -----  ----  -------  ----------------\n",
       "0      13645  6346  0.3174   (6346.0/19991.0)\n",
       "1      1939   2651  0.4224   (1939.0/4590.0)\n",
       "Total  15584  8997  0.337    (8285.0/24581.0)"
      ]
     },
     "metadata": {},
     "output_type": "display_data"
    },
    {
     "name": "stdout",
     "output_type": "stream",
     "text": [
      "Maximum Metrics: Maximum metrics at their respective thresholds\n",
      "\n"
     ]
    },
    {
     "data": {
      "text/html": [
       "<div style=\"overflow:auto\"><table style=\"width:50%\"><tr><td><b>metric</b></td>\n",
       "<td><b>threshold</b></td>\n",
       "<td><b>value</b></td>\n",
       "<td><b>idx</b></td></tr>\n",
       "<tr><td>max f1</td>\n",
       "<td>0.1933006</td>\n",
       "<td>0.3902260</td>\n",
       "<td>221.0</td></tr>\n",
       "<tr><td>max f2</td>\n",
       "<td>0.1186092</td>\n",
       "<td>0.5566546</td>\n",
       "<td>303.0</td></tr>\n",
       "<tr><td>max f0point5</td>\n",
       "<td>0.2762009</td>\n",
       "<td>0.3539777</td>\n",
       "<td>151.0</td></tr>\n",
       "<tr><td>max accuracy</td>\n",
       "<td>0.4942441</td>\n",
       "<td>0.8144095</td>\n",
       "<td>33.0</td></tr>\n",
       "<tr><td>max precision</td>\n",
       "<td>0.7445000</td>\n",
       "<td>1.0</td>\n",
       "<td>0.0</td></tr>\n",
       "<tr><td>max recall</td>\n",
       "<td>0.0025743</td>\n",
       "<td>1.0</td>\n",
       "<td>398.0</td></tr>\n",
       "<tr><td>max specificity</td>\n",
       "<td>0.7445000</td>\n",
       "<td>1.0</td>\n",
       "<td>0.0</td></tr>\n",
       "<tr><td>max absolute_mcc</td>\n",
       "<td>0.1941702</td>\n",
       "<td>0.2106102</td>\n",
       "<td>220.0</td></tr>\n",
       "<tr><td>max min_per_class_accuracy</td>\n",
       "<td>0.1800094</td>\n",
       "<td>0.6279326</td>\n",
       "<td>234.0</td></tr>\n",
       "<tr><td>max mean_per_class_accuracy</td>\n",
       "<td>0.1922266</td>\n",
       "<td>0.6301201</td>\n",
       "<td>222.0</td></tr></table></div>"
      ],
      "text/plain": [
       "metric                       threshold    value     idx\n",
       "---------------------------  -----------  --------  -----\n",
       "max f1                       0.193301     0.390226  221\n",
       "max f2                       0.118609     0.556655  303\n",
       "max f0point5                 0.276201     0.353978  151\n",
       "max accuracy                 0.494244     0.81441   33\n",
       "max precision                0.7445       1         0\n",
       "max recall                   0.00257428   1         398\n",
       "max specificity              0.7445       1         0\n",
       "max absolute_mcc             0.19417      0.21061   220\n",
       "max min_per_class_accuracy   0.180009     0.627933  234\n",
       "max mean_per_class_accuracy  0.192227     0.63012   222"
      ]
     },
     "metadata": {},
     "output_type": "display_data"
    },
    {
     "name": "stdout",
     "output_type": "stream",
     "text": [
      "Gains/Lift Table: Avg response rate: 18.67 %\n",
      "\n"
     ]
    },
    {
     "data": {
      "text/html": [
       "<div style=\"overflow:auto\"><table style=\"width:50%\"><tr><td><b></b></td>\n",
       "<td><b>group</b></td>\n",
       "<td><b>cumulative_data_fraction</b></td>\n",
       "<td><b>lower_threshold</b></td>\n",
       "<td><b>lift</b></td>\n",
       "<td><b>cumulative_lift</b></td>\n",
       "<td><b>response_rate</b></td>\n",
       "<td><b>cumulative_response_rate</b></td>\n",
       "<td><b>capture_rate</b></td>\n",
       "<td><b>cumulative_capture_rate</b></td>\n",
       "<td><b>gain</b></td>\n",
       "<td><b>cumulative_gain</b></td></tr>\n",
       "<tr><td></td>\n",
       "<td>1</td>\n",
       "<td>0.0100077</td>\n",
       "<td>0.4653404</td>\n",
       "<td>2.8735958</td>\n",
       "<td>2.8735958</td>\n",
       "<td>0.5365854</td>\n",
       "<td>0.5365854</td>\n",
       "<td>0.0287582</td>\n",
       "<td>0.0287582</td>\n",
       "<td>187.3595834</td>\n",
       "<td>187.3595834</td></tr>\n",
       "<tr><td></td>\n",
       "<td>2</td>\n",
       "<td>0.0200155</td>\n",
       "<td>0.4286398</td>\n",
       "<td>2.3946632</td>\n",
       "<td>2.6341295</td>\n",
       "<td>0.4471545</td>\n",
       "<td>0.4918699</td>\n",
       "<td>0.0239651</td>\n",
       "<td>0.0527233</td>\n",
       "<td>139.4663195</td>\n",
       "<td>163.4129514</td></tr>\n",
       "<tr><td></td>\n",
       "<td>3</td>\n",
       "<td>0.0300232</td>\n",
       "<td>0.4021231</td>\n",
       "<td>2.2422755</td>\n",
       "<td>2.5035115</td>\n",
       "<td>0.4186992</td>\n",
       "<td>0.4674797</td>\n",
       "<td>0.0224401</td>\n",
       "<td>0.0751634</td>\n",
       "<td>124.2275537</td>\n",
       "<td>150.3511522</td></tr>\n",
       "<tr><td></td>\n",
       "<td>4</td>\n",
       "<td>0.0400309</td>\n",
       "<td>0.3853779</td>\n",
       "<td>2.2858149</td>\n",
       "<td>2.4490874</td>\n",
       "<td>0.4268293</td>\n",
       "<td>0.4573171</td>\n",
       "<td>0.0228758</td>\n",
       "<td>0.0980392</td>\n",
       "<td>128.5814868</td>\n",
       "<td>144.9087359</td></tr>\n",
       "<tr><td></td>\n",
       "<td>5</td>\n",
       "<td>0.0500386</td>\n",
       "<td>0.3692731</td>\n",
       "<td>2.0463485</td>\n",
       "<td>2.3685396</td>\n",
       "<td>0.3821138</td>\n",
       "<td>0.4422764</td>\n",
       "<td>0.0204793</td>\n",
       "<td>0.1185185</td>\n",
       "<td>104.6348548</td>\n",
       "<td>136.8539597</td></tr>\n",
       "<tr><td></td>\n",
       "<td>6</td>\n",
       "<td>0.1000366</td>\n",
       "<td>0.3097208</td>\n",
       "<td>1.8911445</td>\n",
       "<td>2.1299391</td>\n",
       "<td>0.3531326</td>\n",
       "<td>0.3977227</td>\n",
       "<td>0.0945534</td>\n",
       "<td>0.2130719</td>\n",
       "<td>89.1144473</td>\n",
       "<td>112.9939106</td></tr>\n",
       "<tr><td></td>\n",
       "<td>7</td>\n",
       "<td>0.1500346</td>\n",
       "<td>0.2743521</td>\n",
       "<td>1.6863431</td>\n",
       "<td>1.9821139</td>\n",
       "<td>0.3148902</td>\n",
       "<td>0.3701193</td>\n",
       "<td>0.0843137</td>\n",
       "<td>0.2973856</td>\n",
       "<td>68.6343113</td>\n",
       "<td>98.2113869</td></tr>\n",
       "<tr><td></td>\n",
       "<td>8</td>\n",
       "<td>0.2000325</td>\n",
       "<td>0.2482081</td>\n",
       "<td>1.3943922</td>\n",
       "<td>1.8352133</td>\n",
       "<td>0.2603743</td>\n",
       "<td>0.3426886</td>\n",
       "<td>0.0697168</td>\n",
       "<td>0.3671024</td>\n",
       "<td>39.4392238</td>\n",
       "<td>83.5213343</td></tr>\n",
       "<tr><td></td>\n",
       "<td>9</td>\n",
       "<td>0.3000285</td>\n",
       "<td>0.2107601</td>\n",
       "<td>1.2810979</td>\n",
       "<td>1.6505332</td>\n",
       "<td>0.2392189</td>\n",
       "<td>0.3082034</td>\n",
       "<td>0.1281046</td>\n",
       "<td>0.4952070</td>\n",
       "<td>28.1097869</td>\n",
       "<td>65.0533230</td></tr>\n",
       "<tr><td></td>\n",
       "<td>10</td>\n",
       "<td>0.4000244</td>\n",
       "<td>0.1844373</td>\n",
       "<td>1.1525523</td>\n",
       "<td>1.5260507</td>\n",
       "<td>0.2152156</td>\n",
       "<td>0.2849588</td>\n",
       "<td>0.1152505</td>\n",
       "<td>0.6104575</td>\n",
       "<td>15.2552335</td>\n",
       "<td>52.6050667</td></tr>\n",
       "<tr><td></td>\n",
       "<td>11</td>\n",
       "<td>0.5000203</td>\n",
       "<td>0.1620681</td>\n",
       "<td>0.9172486</td>\n",
       "<td>1.4043002</td>\n",
       "<td>0.1712775</td>\n",
       "<td>0.2622244</td>\n",
       "<td>0.0917211</td>\n",
       "<td>0.7021786</td>\n",
       "<td>-8.2751356</td>\n",
       "<td>40.4300169</td></tr>\n",
       "<tr><td></td>\n",
       "<td>12</td>\n",
       "<td>0.6000163</td>\n",
       "<td>0.1426510</td>\n",
       "<td>0.8235629</td>\n",
       "<td>1.3075172</td>\n",
       "<td>0.1537836</td>\n",
       "<td>0.2441521</td>\n",
       "<td>0.0823529</td>\n",
       "<td>0.7845316</td>\n",
       "<td>-17.6437084</td>\n",
       "<td>30.7517189</td></tr>\n",
       "<tr><td></td>\n",
       "<td>13</td>\n",
       "<td>0.7000122</td>\n",
       "<td>0.1243054</td>\n",
       "<td>0.7538433</td>\n",
       "<td>1.2284255</td>\n",
       "<td>0.1407648</td>\n",
       "<td>0.2293834</td>\n",
       "<td>0.0753813</td>\n",
       "<td>0.8599129</td>\n",
       "<td>-24.6156696</td>\n",
       "<td>22.8425517</td></tr>\n",
       "<tr><td></td>\n",
       "<td>14</td>\n",
       "<td>0.8000081</td>\n",
       "<td>0.1054633</td>\n",
       "<td>0.5664718</td>\n",
       "<td>1.1456855</td>\n",
       "<td>0.1057771</td>\n",
       "<td>0.2139334</td>\n",
       "<td>0.0566449</td>\n",
       "<td>0.9165577</td>\n",
       "<td>-43.3528153</td>\n",
       "<td>14.5685516</td></tr>\n",
       "<tr><td></td>\n",
       "<td>15</td>\n",
       "<td>0.9000041</td>\n",
       "<td>0.0829306</td>\n",
       "<td>0.5098247</td>\n",
       "<td>1.0750375</td>\n",
       "<td>0.0951993</td>\n",
       "<td>0.2007413</td>\n",
       "<td>0.0509804</td>\n",
       "<td>0.9675381</td>\n",
       "<td>-49.0175338</td>\n",
       "<td>7.5037503</td></tr>\n",
       "<tr><td></td>\n",
       "<td>16</td>\n",
       "<td>1.0</td>\n",
       "<td>0.0000000</td>\n",
       "<td>0.3246319</td>\n",
       "<td>1.0</td>\n",
       "<td>0.0606184</td>\n",
       "<td>0.1867296</td>\n",
       "<td>0.0324619</td>\n",
       "<td>1.0</td>\n",
       "<td>-67.5368057</td>\n",
       "<td>0.0</td></tr></table></div>"
      ],
      "text/plain": [
       "    group    cumulative_data_fraction    lower_threshold    lift      cumulative_lift    response_rate    cumulative_response_rate    capture_rate    cumulative_capture_rate    gain      cumulative_gain\n",
       "--  -------  --------------------------  -----------------  --------  -----------------  ---------------  --------------------------  --------------  -------------------------  --------  -----------------\n",
       "    1        0.0100077                   0.46534            2.8736    2.8736             0.536585         0.536585                    0.0287582       0.0287582                  187.36    187.36\n",
       "    2        0.0200155                   0.42864            2.39466   2.63413            0.447154         0.49187                     0.0239651       0.0527233                  139.466   163.413\n",
       "    3        0.0300232                   0.402123           2.24228   2.50351            0.418699         0.46748                     0.0224401       0.0751634                  124.228   150.351\n",
       "    4        0.0400309                   0.385378           2.28581   2.44909            0.426829         0.457317                    0.0228758       0.0980392                  128.581   144.909\n",
       "    5        0.0500386                   0.369273           2.04635   2.36854            0.382114         0.442276                    0.0204793       0.118519                   104.635   136.854\n",
       "    6        0.100037                    0.309721           1.89114   2.12994            0.353133         0.397723                    0.0945534       0.213072                   89.1144   112.994\n",
       "    7        0.150035                    0.274352           1.68634   1.98211            0.31489          0.370119                    0.0843137       0.297386                   68.6343   98.2114\n",
       "    8        0.200033                    0.248208           1.39439   1.83521            0.260374         0.342689                    0.0697168       0.367102                   39.4392   83.5213\n",
       "    9        0.300028                    0.21076            1.2811    1.65053            0.239219         0.308203                    0.128105        0.495207                   28.1098   65.0533\n",
       "    10       0.400024                    0.184437           1.15255   1.52605            0.215216         0.284959                    0.115251        0.610458                   15.2552   52.6051\n",
       "    11       0.50002                     0.162068           0.917249  1.4043             0.171277         0.262224                    0.0917211       0.702179                   -8.27514  40.43\n",
       "    12       0.600016                    0.142651           0.823563  1.30752            0.153784         0.244152                    0.0823529       0.784532                   -17.6437  30.7517\n",
       "    13       0.700012                    0.124305           0.753843  1.22843            0.140765         0.229383                    0.0753813       0.859913                   -24.6157  22.8426\n",
       "    14       0.800008                    0.105463           0.566472  1.14569            0.105777         0.213933                    0.0566449       0.916558                   -43.3528  14.5686\n",
       "    15       0.900004                    0.0829306          0.509825  1.07504            0.0951993        0.200741                    0.0509804       0.967538                   -49.0175  7.50375\n",
       "    16       1                           3.34411e-16        0.324632  1                  0.0606184        0.18673                     0.0324619       1                          -67.5368  0"
      ]
     },
     "metadata": {},
     "output_type": "display_data"
    },
    {
     "name": "stdout",
     "output_type": "stream",
     "text": [
      "\n",
      "\n",
      "\n",
      "ModelMetricsBinomialGLM: glm\n",
      "** Reported on test data. **\n",
      "\n",
      "MSE: 0.14221872366627972\n",
      "RMSE: 0.37711897813061557\n",
      "LogLoss: 0.4512741024580795\n",
      "Null degrees of freedom: 24580\n",
      "Residual degrees of freedom: 24533\n",
      "Null deviance: 23672.922265642344\n",
      "Residual deviance: 22185.537425044102\n",
      "AIC: 22281.537425044102\n",
      "AUC: 0.6769812537646298\n",
      "Gini: 0.3539625075292596\n",
      "Confusion Matrix (Act/Pred) for max f1 @ threshold = 0.19498552263693553: \n"
     ]
    },
    {
     "data": {
      "text/html": [
       "<div style=\"overflow:auto\"><table style=\"width:50%\"><tr><td><b></b></td>\n",
       "<td><b>0</b></td>\n",
       "<td><b>1</b></td>\n",
       "<td><b>Error</b></td>\n",
       "<td><b>Rate</b></td></tr>\n",
       "<tr><td>0</td>\n",
       "<td>13774.0</td>\n",
       "<td>6217.0</td>\n",
       "<td>0.311</td>\n",
       "<td> (6217.0/19991.0)</td></tr>\n",
       "<tr><td>1</td>\n",
       "<td>1984.0</td>\n",
       "<td>2606.0</td>\n",
       "<td>0.4322</td>\n",
       "<td> (1984.0/4590.0)</td></tr>\n",
       "<tr><td>Total</td>\n",
       "<td>15758.0</td>\n",
       "<td>8823.0</td>\n",
       "<td>0.3336</td>\n",
       "<td> (8201.0/24581.0)</td></tr></table></div>"
      ],
      "text/plain": [
       "       0      1     Error    Rate\n",
       "-----  -----  ----  -------  ----------------\n",
       "0      13774  6217  0.311    (6217.0/19991.0)\n",
       "1      1984   2606  0.4322   (1984.0/4590.0)\n",
       "Total  15758  8823  0.3336   (8201.0/24581.0)"
      ]
     },
     "metadata": {},
     "output_type": "display_data"
    },
    {
     "name": "stdout",
     "output_type": "stream",
     "text": [
      "Maximum Metrics: Maximum metrics at their respective thresholds\n",
      "\n"
     ]
    },
    {
     "data": {
      "text/html": [
       "<div style=\"overflow:auto\"><table style=\"width:50%\"><tr><td><b>metric</b></td>\n",
       "<td><b>threshold</b></td>\n",
       "<td><b>value</b></td>\n",
       "<td><b>idx</b></td></tr>\n",
       "<tr><td>max f1</td>\n",
       "<td>0.1949855</td>\n",
       "<td>0.3885782</td>\n",
       "<td>222.0</td></tr>\n",
       "<tr><td>max f2</td>\n",
       "<td>0.1186837</td>\n",
       "<td>0.5562704</td>\n",
       "<td>308.0</td></tr>\n",
       "<tr><td>max f0point5</td>\n",
       "<td>0.2588212</td>\n",
       "<td>0.3518654</td>\n",
       "<td>160.0</td></tr>\n",
       "<tr><td>max accuracy</td>\n",
       "<td>0.4757272</td>\n",
       "<td>0.8145315</td>\n",
       "<td>33.0</td></tr>\n",
       "<tr><td>max precision</td>\n",
       "<td>0.7361547</td>\n",
       "<td>1.0</td>\n",
       "<td>0.0</td></tr>\n",
       "<tr><td>max recall</td>\n",
       "<td>0.0026919</td>\n",
       "<td>1.0</td>\n",
       "<td>398.0</td></tr>\n",
       "<tr><td>max specificity</td>\n",
       "<td>0.7361547</td>\n",
       "<td>1.0</td>\n",
       "<td>0.0</td></tr>\n",
       "<tr><td>max absolute_mcc</td>\n",
       "<td>0.1949855</td>\n",
       "<td>0.2085943</td>\n",
       "<td>222.0</td></tr>\n",
       "<tr><td>max min_per_class_accuracy</td>\n",
       "<td>0.1803942</td>\n",
       "<td>0.6270322</td>\n",
       "<td>238.0</td></tr>\n",
       "<tr><td>max mean_per_class_accuracy</td>\n",
       "<td>0.1912269</td>\n",
       "<td>0.6286283</td>\n",
       "<td>226.0</td></tr></table></div>"
      ],
      "text/plain": [
       "metric                       threshold    value     idx\n",
       "---------------------------  -----------  --------  -----\n",
       "max f1                       0.194986     0.388578  222\n",
       "max f2                       0.118684     0.55627   308\n",
       "max f0point5                 0.258821     0.351865  160\n",
       "max accuracy                 0.475727     0.814532  33\n",
       "max precision                0.736155     1         0\n",
       "max recall                   0.0026919    1         398\n",
       "max specificity              0.736155     1         0\n",
       "max absolute_mcc             0.194986     0.208594  222\n",
       "max min_per_class_accuracy   0.180394     0.627032  238\n",
       "max mean_per_class_accuracy  0.191227     0.628628  226"
      ]
     },
     "metadata": {},
     "output_type": "display_data"
    },
    {
     "name": "stdout",
     "output_type": "stream",
     "text": [
      "Gains/Lift Table: Avg response rate: 18.67 %\n",
      "\n"
     ]
    },
    {
     "data": {
      "text/html": [
       "<div style=\"overflow:auto\"><table style=\"width:50%\"><tr><td><b></b></td>\n",
       "<td><b>group</b></td>\n",
       "<td><b>cumulative_data_fraction</b></td>\n",
       "<td><b>lower_threshold</b></td>\n",
       "<td><b>lift</b></td>\n",
       "<td><b>cumulative_lift</b></td>\n",
       "<td><b>response_rate</b></td>\n",
       "<td><b>cumulative_response_rate</b></td>\n",
       "<td><b>capture_rate</b></td>\n",
       "<td><b>cumulative_capture_rate</b></td>\n",
       "<td><b>gain</b></td>\n",
       "<td><b>cumulative_gain</b></td></tr>\n",
       "<tr><td></td>\n",
       "<td>1</td>\n",
       "<td>0.0100077</td>\n",
       "<td>0.4620187</td>\n",
       "<td>2.9606745</td>\n",
       "<td>2.9606745</td>\n",
       "<td>0.5528455</td>\n",
       "<td>0.5528455</td>\n",
       "<td>0.0296296</td>\n",
       "<td>0.0296296</td>\n",
       "<td>196.0674496</td>\n",
       "<td>196.0674496</td></tr>\n",
       "<tr><td></td>\n",
       "<td>2</td>\n",
       "<td>0.0200155</td>\n",
       "<td>0.4252075</td>\n",
       "<td>2.2205059</td>\n",
       "<td>2.5905902</td>\n",
       "<td>0.4146341</td>\n",
       "<td>0.4837398</td>\n",
       "<td>0.0222222</td>\n",
       "<td>0.0518519</td>\n",
       "<td>122.0505872</td>\n",
       "<td>159.0590184</td></tr>\n",
       "<tr><td></td>\n",
       "<td>3</td>\n",
       "<td>0.0300232</td>\n",
       "<td>0.3988653</td>\n",
       "<td>2.3075845</td>\n",
       "<td>2.4962550</td>\n",
       "<td>0.4308943</td>\n",
       "<td>0.4661247</td>\n",
       "<td>0.0230937</td>\n",
       "<td>0.0749455</td>\n",
       "<td>130.7584533</td>\n",
       "<td>149.6254967</td></tr>\n",
       "<tr><td></td>\n",
       "<td>4</td>\n",
       "<td>0.0400309</td>\n",
       "<td>0.3813612</td>\n",
       "<td>2.3511239</td>\n",
       "<td>2.4599722</td>\n",
       "<td>0.4390244</td>\n",
       "<td>0.4593496</td>\n",
       "<td>0.0235294</td>\n",
       "<td>0.0984749</td>\n",
       "<td>135.1123864</td>\n",
       "<td>145.9972191</td></tr>\n",
       "<tr><td></td>\n",
       "<td>5</td>\n",
       "<td>0.0500386</td>\n",
       "<td>0.3665433</td>\n",
       "<td>2.0681182</td>\n",
       "<td>2.3816014</td>\n",
       "<td>0.3861789</td>\n",
       "<td>0.4447154</td>\n",
       "<td>0.0206972</td>\n",
       "<td>0.1191721</td>\n",
       "<td>106.8118214</td>\n",
       "<td>138.1601396</td></tr>\n",
       "<tr><td></td>\n",
       "<td>6</td>\n",
       "<td>0.1000366</td>\n",
       "<td>0.3089697</td>\n",
       "<td>1.8824295</td>\n",
       "<td>2.1321170</td>\n",
       "<td>0.3515053</td>\n",
       "<td>0.3981293</td>\n",
       "<td>0.0941176</td>\n",
       "<td>0.2132898</td>\n",
       "<td>88.2429522</td>\n",
       "<td>113.2116958</td></tr>\n",
       "<tr><td></td>\n",
       "<td>7</td>\n",
       "<td>0.1500346</td>\n",
       "<td>0.2734416</td>\n",
       "<td>1.5991936</td>\n",
       "<td>1.9545240</td>\n",
       "<td>0.2986168</td>\n",
       "<td>0.3649675</td>\n",
       "<td>0.0799564</td>\n",
       "<td>0.2932462</td>\n",
       "<td>59.9193598</td>\n",
       "<td>95.4524005</td></tr>\n",
       "<tr><td></td>\n",
       "<td>8</td>\n",
       "<td>0.2000325</td>\n",
       "<td>0.2478303</td>\n",
       "<td>1.5207590</td>\n",
       "<td>1.8461048</td>\n",
       "<td>0.2839707</td>\n",
       "<td>0.3447224</td>\n",
       "<td>0.0760349</td>\n",
       "<td>0.3692810</td>\n",
       "<td>52.0759035</td>\n",
       "<td>84.6104817</td></tr>\n",
       "<tr><td></td>\n",
       "<td>9</td>\n",
       "<td>0.3000285</td>\n",
       "<td>0.2103529</td>\n",
       "<td>1.2614892</td>\n",
       "<td>1.6512594</td>\n",
       "<td>0.2355574</td>\n",
       "<td>0.3083390</td>\n",
       "<td>0.1261438</td>\n",
       "<td>0.4954248</td>\n",
       "<td>26.1489228</td>\n",
       "<td>65.1259377</td></tr>\n",
       "<tr><td></td>\n",
       "<td>10</td>\n",
       "<td>0.4000244</td>\n",
       "<td>0.1846165</td>\n",
       "<td>1.1242287</td>\n",
       "<td>1.5195151</td>\n",
       "<td>0.2099268</td>\n",
       "<td>0.2837384</td>\n",
       "<td>0.1124183</td>\n",
       "<td>0.6078431</td>\n",
       "<td>12.4228742</td>\n",
       "<td>51.9515118</td></tr>\n",
       "<tr><td></td>\n",
       "<td>11</td>\n",
       "<td>0.5000203</td>\n",
       "<td>0.1627523</td>\n",
       "<td>0.9564659</td>\n",
       "<td>1.4069144</td>\n",
       "<td>0.1786005</td>\n",
       "<td>0.2627126</td>\n",
       "<td>0.0956427</td>\n",
       "<td>0.7034858</td>\n",
       "<td>-4.3534074</td>\n",
       "<td>40.6914442</td></tr>\n",
       "<tr><td></td>\n",
       "<td>12</td>\n",
       "<td>0.6000163</td>\n",
       "<td>0.1432838</td>\n",
       "<td>0.8322779</td>\n",
       "<td>1.3111482</td>\n",
       "<td>0.1554109</td>\n",
       "<td>0.2448302</td>\n",
       "<td>0.0832244</td>\n",
       "<td>0.7867102</td>\n",
       "<td>-16.7722133</td>\n",
       "<td>31.1148173</td></tr>\n",
       "<tr><td></td>\n",
       "<td>13</td>\n",
       "<td>0.7000122</td>\n",
       "<td>0.1252196</td>\n",
       "<td>0.7124473</td>\n",
       "<td>1.2256244</td>\n",
       "<td>0.1330350</td>\n",
       "<td>0.2288603</td>\n",
       "<td>0.0712418</td>\n",
       "<td>0.8579521</td>\n",
       "<td>-28.7552716</td>\n",
       "<td>22.5624445</td></tr>\n",
       "<tr><td></td>\n",
       "<td>14</td>\n",
       "<td>0.8000081</td>\n",
       "<td>0.1064241</td>\n",
       "<td>0.5795443</td>\n",
       "<td>1.1448685</td>\n",
       "<td>0.1082181</td>\n",
       "<td>0.2137808</td>\n",
       "<td>0.0579521</td>\n",
       "<td>0.9159041</td>\n",
       "<td>-42.0455726</td>\n",
       "<td>14.4868530</td></tr>\n",
       "<tr><td></td>\n",
       "<td>15</td>\n",
       "<td>0.9000041</td>\n",
       "<td>0.0842019</td>\n",
       "<td>0.5120034</td>\n",
       "<td>1.0745534</td>\n",
       "<td>0.0956062</td>\n",
       "<td>0.2006509</td>\n",
       "<td>0.0511983</td>\n",
       "<td>0.9671024</td>\n",
       "<td>-48.7996600</td>\n",
       "<td>7.4553361</td></tr>\n",
       "<tr><td></td>\n",
       "<td>16</td>\n",
       "<td>1.0</td>\n",
       "<td>0.0000000</td>\n",
       "<td>0.3289894</td>\n",
       "<td>1.0</td>\n",
       "<td>0.0614321</td>\n",
       "<td>0.1867296</td>\n",
       "<td>0.0328976</td>\n",
       "<td>1.0</td>\n",
       "<td>-67.1010581</td>\n",
       "<td>0.0</td></tr></table></div>"
      ],
      "text/plain": [
       "    group    cumulative_data_fraction    lower_threshold    lift      cumulative_lift    response_rate    cumulative_response_rate    capture_rate    cumulative_capture_rate    gain      cumulative_gain\n",
       "--  -------  --------------------------  -----------------  --------  -----------------  ---------------  --------------------------  --------------  -------------------------  --------  -----------------\n",
       "    1        0.0100077                   0.462019           2.96067   2.96067            0.552846         0.552846                    0.0296296       0.0296296                  196.067   196.067\n",
       "    2        0.0200155                   0.425208           2.22051   2.59059            0.414634         0.48374                     0.0222222       0.0518519                  122.051   159.059\n",
       "    3        0.0300232                   0.398865           2.30758   2.49625            0.430894         0.466125                    0.0230937       0.0749455                  130.758   149.625\n",
       "    4        0.0400309                   0.381361           2.35112   2.45997            0.439024         0.45935                     0.0235294       0.0984749                  135.112   145.997\n",
       "    5        0.0500386                   0.366543           2.06812   2.3816             0.386179         0.444715                    0.0206972       0.119172                   106.812   138.16\n",
       "    6        0.100037                    0.30897            1.88243   2.13212            0.351505         0.398129                    0.0941176       0.21329                    88.243    113.212\n",
       "    7        0.150035                    0.273442           1.59919   1.95452            0.298617         0.364967                    0.0799564       0.293246                   59.9194   95.4524\n",
       "    8        0.200033                    0.24783            1.52076   1.8461             0.283971         0.344722                    0.0760349       0.369281                   52.0759   84.6105\n",
       "    9        0.300028                    0.210353           1.26149   1.65126            0.235557         0.308339                    0.126144        0.495425                   26.1489   65.1259\n",
       "    10       0.400024                    0.184616           1.12423   1.51952            0.209927         0.283738                    0.112418        0.607843                   12.4229   51.9515\n",
       "    11       0.50002                     0.162752           0.956466  1.40691            0.1786           0.262713                    0.0956427       0.703486                   -4.35341  40.6914\n",
       "    12       0.600016                    0.143284           0.832278  1.31115            0.155411         0.24483                     0.0832244       0.78671                    -16.7722  31.1148\n",
       "    13       0.700012                    0.12522            0.712447  1.22562            0.133035         0.22886                     0.0712418       0.857952                   -28.7553  22.5624\n",
       "    14       0.800008                    0.106424           0.579544  1.14487            0.108218         0.213781                    0.0579521       0.915904                   -42.0456  14.4869\n",
       "    15       0.900004                    0.0842019          0.512003  1.07455            0.0956062        0.200651                    0.0511983       0.967102                   -48.7997  7.45534\n",
       "    16       1                           4.61932e-16        0.328989  1                  0.0614321        0.18673                     0.0328976       1                          -67.1011  0"
      ]
     },
     "metadata": {},
     "output_type": "display_data"
    },
    {
     "name": "stdout",
     "output_type": "stream",
     "text": [
      "\n",
      "\n"
     ]
    }
   ],
   "source": [
    "# Print model performance\n",
    "print(glm_perf1)\n",
    "print(glm_perf2)"
   ]
  },
  {
   "cell_type": "markdown",
   "metadata": {},
   "source": [
    "Instead of printing the entire model performance metrics object, it is probably easier to print just the metric that you are interested in comparing."
   ]
  },
  {
   "cell_type": "code",
   "execution_count": 36,
   "metadata": {},
   "outputs": [
    {
     "name": "stdout",
     "output_type": "stream",
     "text": [
      "0.6774770487678061\n",
      "0.6769812537646298\n"
     ]
    }
   ],
   "source": [
    "# Retreive test set AUC\n",
    "print(glm_perf1.auc())\n",
    "print(glm_perf2.auc())"
   ]
  },
  {
   "cell_type": "code",
   "execution_count": 37,
   "metadata": {},
   "outputs": [
    {
     "name": "stdout",
     "output_type": "stream",
     "text": [
      "0.6735092338305698\n",
      "0.6753405433388947\n"
     ]
    }
   ],
   "source": [
    "# Compare test AUC to the training AUC and validation AUC\n",
    "print(glm_fit2.auc(train=True))\n",
    "print(glm_fit2.auc(valid=True))"
   ]
  },
  {
   "cell_type": "markdown",
   "metadata": {},
   "source": [
    "## 2. Random Forest\n",
    "H2O's Random Forest (RF) is implements a distributed version of the standard Random Forest algorithm and variable importance measures."
   ]
  },
  {
   "cell_type": "code",
   "execution_count": 38,
   "metadata": {
    "collapsed": true
   },
   "outputs": [],
   "source": [
    "# Import H2O RF:\n",
    "from h2o.estimators.random_forest import H2ORandomForestEstimator"
   ]
  },
  {
   "cell_type": "markdown",
   "metadata": {},
   "source": [
    "### Train and a default RF\n",
    "First we will train a basic Random Forest model with default parameters. Random Forest will infer the response distribution from the response encoding. A seed is required for reproducibility."
   ]
  },
  {
   "cell_type": "code",
   "execution_count": 40,
   "metadata": {
    "collapsed": true
   },
   "outputs": [],
   "source": [
    "# Initialize the RF estimator:\n",
    "\n",
    "rf_fit1 = H2ORandomForestEstimator(model_id='rf_fit1', seed=1, nfolds=5)"
   ]
  },
  {
   "cell_type": "markdown",
   "metadata": {},
   "source": [
    "Now that `rf_fit1` object is initialized, we can train the model:"
   ]
  },
  {
   "cell_type": "code",
   "execution_count": 41,
   "metadata": {},
   "outputs": [
    {
     "name": "stdout",
     "output_type": "stream",
     "text": [
      "drf Model Build progress: |███████████████████████████████████████████████| 100%\n"
     ]
    }
   ],
   "source": [
    "rf_fit1.train(x=x, y=y, training_frame=train)"
   ]
  },
  {
   "cell_type": "markdown",
   "metadata": {},
   "source": [
    "### Train an RF with more trees\n",
    "\n",
    "Next we will increase the number of trees used in the forest by setting `ntrees = 100`.  The default number of trees in an H2O Random Forest is 50, so this RF will be twice as big as the default.  Usually increasing the number of trees in an RF will increase performance as well.  Unlike Gradient Boosting Machines (GBMs), Random Forests are fairly resistant (although not free from) overfitting by increasing the number of trees.  See the GBM example below for additional guidance on preventing overfitting using H2O's early stopping functionality."
   ]
  },
  {
   "cell_type": "code",
   "execution_count": null,
   "metadata": {},
   "outputs": [],
   "source": [
    "rf_fit2 = H2ORandomForestEstimator(model_id='rf_fit2', ntrees=100, seed=1)\n",
    "rf_fit2.train(x=x, y=y, training_frame=train)"
   ]
  },
  {
   "cell_type": "markdown",
   "metadata": {},
   "source": [
    "### Compare model performance\n",
    "Let's compare the performance of the two RFs that were just trained."
   ]
  },
  {
   "cell_type": "code",
   "execution_count": null,
   "metadata": {
    "collapsed": true
   },
   "outputs": [],
   "source": [
    "rf_perf1 = rf_fit1.model_performance(test)\n",
    "rf_perf2 = rf_fit2.model_performance(test)"
   ]
  },
  {
   "cell_type": "code",
   "execution_count": null,
   "metadata": {},
   "outputs": [],
   "source": [
    "# Retreive test set AUC\n",
    "print rf_perf1.auc()\n",
    "print rf_perf2.auc()"
   ]
  },
  {
   "cell_type": "markdown",
   "metadata": {},
   "source": [
    "### Cross-validate performance\n",
    "\n",
    "Rather than using held-out test set to evaluate model performance, a user may wish to estimate model performance using cross-validation.  Using the RF algorithm (with default model parameters) as an example, we demonstrate how to perform k-fold cross-validation using H2O.  No custom code or loops are required, you simply specify the number of desired folds in the `nfolds` argument.\n",
    "\n",
    "Since we are not going to use a test set here, we can use the original (full) dataset, which we called `data` rather than the subsampled `train` dataset.  Note that this will take approximately k (`nfolds`) times longer than training a single RF model, since it will train k models in the cross-validation process (trained on n(k-1)/k rows), in addition to the final model trained on the full `training_frame` dataset with n rows. "
   ]
  },
  {
   "cell_type": "code",
   "execution_count": null,
   "metadata": {},
   "outputs": [],
   "source": [
    "rf_fit3 = H2ORandomForestEstimator(model_id='rf_fit3', seed=1, nfolds=5)\n",
    "rf_fit3.train(x=x, y=y, training_frame=data)"
   ]
  },
  {
   "cell_type": "markdown",
   "metadata": {},
   "source": [
    "To evaluate the cross-validated AUC, do the following:"
   ]
  },
  {
   "cell_type": "code",
   "execution_count": null,
   "metadata": {},
   "outputs": [],
   "source": [
    "print rf_fit3.auc(xval=True)"
   ]
  },
  {
   "cell_type": "markdown",
   "metadata": {},
   "source": [
    "Note that the cross-validated AUC is slighly higher than the test set performance we estimated for `rf_fit1`, and this is likely due to the fact that we trained on more data (n rows) than we did while using `train` as the training set (0.75*n rows) in `rf_fit1`."
   ]
  },
  {
   "cell_type": "markdown",
   "metadata": {},
   "source": [
    "## 3. Gradient Boosting Machine\n",
    "H2O's Gradient Boosting Machine (GBM) offers a Stochastic GBM, which can increase performance quite a bit compared to the original GBM implementation."
   ]
  },
  {
   "cell_type": "code",
   "execution_count": null,
   "metadata": {
    "collapsed": true
   },
   "outputs": [],
   "source": [
    "# Import H2O GBM:\n",
    "from h2o.estimators.gbm import H2OGradientBoostingEstimator"
   ]
  },
  {
   "cell_type": "markdown",
   "metadata": {},
   "source": [
    "### Train a default GBM\n",
    "\n",
    "First we will train a basic GBM model with default parameters. GBM will infer the response distribution from the response encoding if not specified explicitly through the `distribution` argument. A seed is required for reproducibility."
   ]
  },
  {
   "cell_type": "code",
   "execution_count": null,
   "metadata": {},
   "outputs": [],
   "source": [
    "# Initialize and train the GBM estimator:\n",
    "\n",
    "gbm_fit1 = H2OGradientBoostingEstimator(model_id='gbm_fit1', seed=1)\n",
    "gbm_fit1.train(x=x, y=y, training_frame=train)"
   ]
  },
  {
   "cell_type": "markdown",
   "metadata": {},
   "source": [
    "### Train a GBM with more trees\n",
    "\n",
    "Next we will increase the number of trees used in the GBM by setting `ntrees=500`.  The default number of trees in an H2O GBM is 50, so this GBM will trained using ten times the default.  Increasing the number of trees in a GBM is one way to increase performance of the model, however, you have to be careful not to overfit your model to the training data by using too many trees.  To automatically find the optimal number of trees, you must use H2O's early stopping functionality.  This example will not do that, however, the following example will."
   ]
  },
  {
   "cell_type": "code",
   "execution_count": null,
   "metadata": {},
   "outputs": [],
   "source": [
    "gbm_fit2 = H2OGradientBoostingEstimator(model_id='gbm_fit2', ntrees=500, seed=1)\n",
    "gbm_fit2.train(x=x, y=y, training_frame=train)"
   ]
  },
  {
   "cell_type": "markdown",
   "metadata": {},
   "source": [
    "### Train a GBM with early stopping\n",
    "\n",
    "We will again set `ntrees = 500`, however, this time we will use early stopping in order to prevent overfitting (from too many trees).  All of H2O's algorithms have early stopping available, however, with the exception of Deep Learning, it is not enabled by default.  \n",
    "\n",
    "There are several parameters that should be used to control early stopping.  The three that are generic to all the algorithms are: `stopping_rounds`, `stopping_metric` and `stopping_tolerance`.  The stopping metric is the metric by which you'd like to measure performance, and so we will choose AUC here.  The `score_tree_interval` is a parameter specific to Random Forest and GBM.  Setting `score_tree_interval=5` will score the model after every five trees.  The parameters we have set below specify that the model will stop training after there have been three scoring intervals where the AUC has not increased more than 0.0005.  Since we have specified a validation frame, the stopping tolerance will be computed on validation AUC rather than training AUC. "
   ]
  },
  {
   "cell_type": "code",
   "execution_count": null,
   "metadata": {},
   "outputs": [],
   "source": [
    "# Now let's use early stopping to find optimal ntrees\n",
    "\n",
    "gbm_fit3 = H2OGradientBoostingEstimator(model_id='gbm_fit3', \n",
    "                                        ntrees=500, \n",
    "                                        score_tree_interval=5,     #used for early stopping\n",
    "                                        stopping_rounds=3,         #used for early stopping\n",
    "                                        stopping_metric='AUC',     #used for early stopping\n",
    "                                        stopping_tolerance=0.0005, #used for early stopping\n",
    "                                        seed=1)\n",
    "\n",
    "# The use of a validation_frame is recommended with using early stopping\n",
    "gbm_fit3.train(x=x, y=y, training_frame=train, validation_frame=valid)"
   ]
  },
  {
   "cell_type": "markdown",
   "metadata": {},
   "source": [
    "### Compare model performance\n",
    "\n",
    "Let's compare the performance of the three GBMs that were just trained."
   ]
  },
  {
   "cell_type": "code",
   "execution_count": null,
   "metadata": {
    "collapsed": true
   },
   "outputs": [],
   "source": [
    "gbm_perf1 = gbm_fit1.model_performance(test)\n",
    "gbm_perf2 = gbm_fit2.model_performance(test)\n",
    "gbm_perf3 = gbm_fit3.model_performance(test)"
   ]
  },
  {
   "cell_type": "code",
   "execution_count": null,
   "metadata": {},
   "outputs": [],
   "source": [
    "# Retreive test set AUC\n",
    "print gbm_perf1.auc()\n",
    "print gbm_perf2.auc()\n",
    "print gbm_perf3.auc()"
   ]
  },
  {
   "cell_type": "markdown",
   "metadata": {},
   "source": [
    "### Scoring History\n",
    "\n",
    "To examine the scoring history, use the `scoring_history` method on a trained model.  If `score_tree_interval` is not specified, it will score at various intervals, as we can see for `gbm_fit2.scoring_history()` below.  However, regular 5-tree intervals are used for `gbm_fit3.scoring_history()`.  \n",
    "\n",
    "The `gbm_fit2` was trained only using a training set (no validation set), so the scoring history is calculated for training set performance metrics only."
   ]
  },
  {
   "cell_type": "code",
   "execution_count": null,
   "metadata": {},
   "outputs": [],
   "source": [
    "gbm_fit2.scoring_history()"
   ]
  },
  {
   "cell_type": "markdown",
   "metadata": {},
   "source": [
    "When early stopping is used, we see that training stopped at 105 trees instead of the full 500.  Since we used a validation set in `gbm_fit3`, both training and validation performance metrics are stored in the scoring history object.  Take a look at the validation AUC to observe that the correct stopping tolerance was enforced."
   ]
  },
  {
   "cell_type": "code",
   "execution_count": null,
   "metadata": {},
   "outputs": [],
   "source": [
    "gbm_fit3.scoring_history()"
   ]
  },
  {
   "cell_type": "markdown",
   "metadata": {},
   "source": [
    "## 4. Deep Learning\n",
    "\n",
    "H2O's Deep Learning algorithm is a multilayer feed-forward artificial neural network.  It can also be used to train an autoencoder, however, in the example below we will train a standard supervised prediction model."
   ]
  },
  {
   "cell_type": "code",
   "execution_count": null,
   "metadata": {
    "collapsed": true
   },
   "outputs": [],
   "source": [
    "# Import H2O DL:\n",
    "from h2o.estimators.deeplearning import H2ODeepLearningEstimator"
   ]
  },
  {
   "cell_type": "markdown",
   "metadata": {},
   "source": [
    "### Train a default DL\n",
    "\n",
    "First we will train a basic DL model with default parameters. DL will infer the response distribution from the response encoding if not specified explicitly through the `distribution` argument.  H2O's DL will not be reproducbible if run on more than a single core, so in this example, the performance metrics below may vary slightly from what you see on your machine.\n",
    "\n",
    "In H2O's DL, early stopping is enabled by default, so below, it will use the training set and default stopping parameters to perform early stopping."
   ]
  },
  {
   "cell_type": "code",
   "execution_count": null,
   "metadata": {},
   "outputs": [],
   "source": [
    "# Initialize and train the DL estimator:\n",
    "\n",
    "dl_fit1 = H2ODeepLearningEstimator(model_id='dl_fit1', seed=1)\n",
    "dl_fit1.train(x=x, y=y, training_frame=train)"
   ]
  },
  {
   "cell_type": "markdown",
   "metadata": {},
   "source": [
    "### Train a DL with new architecture and more epochs\n",
    "\n",
    "Next we will increase the number of epochs used in the GBM by setting `epochs=20` (the default is 10).  Increasing the number of epochs in a deep neural net may increase performance of the model, however, you have to be careful not to overfit your model.  To automatically find the optimal number of epochs, you must use H2O's early stopping functionality.  Unlike the rest of the H2O algorithms, H2O's DL will use early by default, so we will first turn it off in the next example by setting `stopping_rounds=0`, for comparison."
   ]
  },
  {
   "cell_type": "code",
   "execution_count": null,
   "metadata": {},
   "outputs": [],
   "source": [
    "dl_fit2 = H2ODeepLearningEstimator(model_id='dl_fit2', \n",
    "                                   epochs=20, \n",
    "                                   hidden=[10,10], \n",
    "                                   stopping_rounds=0,  #disable early stopping\n",
    "                                   seed=1)\n",
    "dl_fit2.train(x=x, y=y, training_frame=train)"
   ]
  },
  {
   "cell_type": "markdown",
   "metadata": {},
   "source": [
    "### Train a DL with early stopping\n",
    "\n",
    "This example will use the same model parameters as `dl_fit2`, however, we will turn on early stopping and specify the stopping criterion.  We will also pass a validation set, as is recommended for early stopping."
   ]
  },
  {
   "cell_type": "code",
   "execution_count": null,
   "metadata": {},
   "outputs": [],
   "source": [
    "dl_fit3 = H2ODeepLearningEstimator(model_id='dl_fit3', \n",
    "                                   epochs=20, \n",
    "                                   hidden=[10,10],\n",
    "                                   score_interval=1,          #used for early stopping\n",
    "                                   stopping_rounds=3,         #used for early stopping\n",
    "                                   stopping_metric='AUC',     #used for early stopping\n",
    "                                   stopping_tolerance=0.0005, #used for early stopping\n",
    "                                   seed=1)\n",
    "dl_fit3.train(x=x, y=y, training_frame=train, validation_frame=valid)"
   ]
  },
  {
   "cell_type": "markdown",
   "metadata": {},
   "source": [
    "### Compare model performance\n",
    "\n",
    "Again, we will compare the model performance of the three models using a test set and AUC."
   ]
  },
  {
   "cell_type": "code",
   "execution_count": null,
   "metadata": {
    "collapsed": true
   },
   "outputs": [],
   "source": [
    "dl_perf1 = dl_fit1.model_performance(test)\n",
    "dl_perf2 = dl_fit2.model_performance(test)\n",
    "dl_perf3 = dl_fit3.model_performance(test)"
   ]
  },
  {
   "cell_type": "code",
   "execution_count": null,
   "metadata": {},
   "outputs": [],
   "source": [
    "# Retreive test set AUC\n",
    "print dl_perf1.auc()\n",
    "print dl_perf2.auc()\n",
    "print dl_perf3.auc()"
   ]
  },
  {
   "cell_type": "code",
   "execution_count": null,
   "metadata": {},
   "outputs": [],
   "source": [
    "dl_fit3.scoring_history()"
   ]
  },
  {
   "cell_type": "markdown",
   "metadata": {},
   "source": [
    "## 4. Naive Bayes\n",
    "\n",
    "The Naive Bayes (NB) algorithm does not usually beat an algorithm like a Random Forest or GBM, however it is still a popular algorithm, especially in the text domain (when your input is text encoded as \"Bag of Words\", for example).  The Naive Bayes algorithm is for binary or multiclass classification problems only, not regression.  Therefore, your response must be a factor instead of numeric. "
   ]
  },
  {
   "cell_type": "code",
   "execution_count": null,
   "metadata": {
    "collapsed": true
   },
   "outputs": [],
   "source": [
    "# Import H2O NB:\n",
    "from h2o.estimators.naive_bayes import H2ONaiveBayesEstimator"
   ]
  },
  {
   "cell_type": "markdown",
   "metadata": {},
   "source": [
    "### Train a default NB\n",
    "\n",
    "First we will train a basic NB model with default parameters. "
   ]
  },
  {
   "cell_type": "code",
   "execution_count": null,
   "metadata": {},
   "outputs": [],
   "source": [
    "# Initialize and train the NB estimator:\n",
    "\n",
    "nb_fit1 = H2ONaiveBayesEstimator(model_id='nb_fit1')\n",
    "nb_fit1.train(x=x, y=y, training_frame=train)"
   ]
  },
  {
   "cell_type": "markdown",
   "metadata": {},
   "source": [
    "### Train a NB model with Laplace Smoothing\n",
    "\n",
    "One of the few tunable model parameters for the Naive Bayes algorithm is the amount of Laplace smoothing.  The H2O Naive Bayes model will not use any Laplace smoothing by default."
   ]
  },
  {
   "cell_type": "code",
   "execution_count": null,
   "metadata": {},
   "outputs": [],
   "source": [
    "nb_fit2 = H2ONaiveBayesEstimator(model_id='nb_fit2', laplace=6)\n",
    "nb_fit2.train(x=x, y=y, training_frame=train)"
   ]
  },
  {
   "cell_type": "markdown",
   "metadata": {},
   "source": [
    "### Compare model performance\n",
    "\n",
    "We will compare the model performance of the two NB models using test set AUC."
   ]
  },
  {
   "cell_type": "code",
   "execution_count": null,
   "metadata": {
    "collapsed": true
   },
   "outputs": [],
   "source": [
    "nb_perf1 = nb_fit1.model_performance(test)\n",
    "nb_perf2 = nb_fit2.model_performance(test)"
   ]
  },
  {
   "cell_type": "code",
   "execution_count": null,
   "metadata": {},
   "outputs": [],
   "source": [
    "# Retreive test set AUC\n",
    "print nb_perf1.auc()\n",
    "print nb_perf2.auc()"
   ]
  },
  {
   "cell_type": "code",
   "execution_count": null,
   "metadata": {
    "collapsed": true
   },
   "outputs": [],
   "source": [
    "h2o.shutdown(prompt=False)"
   ]
  }
 ],
 "metadata": {
  "kernelspec": {
   "display_name": "Python 3",
   "language": "python",
   "name": "python3"
  },
  "language_info": {
   "codemirror_mode": {
    "name": "ipython",
    "version": 3
   },
   "file_extension": ".py",
   "mimetype": "text/x-python",
   "name": "python",
   "nbconvert_exporter": "python",
   "pygments_lexer": "ipython3",
   "version": "3.6.1"
  }
 },
 "nbformat": 4,
 "nbformat_minor": 1
}
