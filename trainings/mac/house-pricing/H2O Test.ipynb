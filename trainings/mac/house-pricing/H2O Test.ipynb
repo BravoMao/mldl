{
 "cells": [
  {
   "cell_type": "code",
   "execution_count": 3,
   "metadata": {
    "collapsed": true
   },
   "outputs": [],
   "source": [
    "import h2o"
   ]
  },
  {
   "cell_type": "code",
   "execution_count": 7,
   "metadata": {
    "collapsed": false
   },
   "outputs": [
    {
     "name": "stdout",
     "output_type": "stream",
     "text": [
      "Checking whether there is an H2O instance running at http://localhost:54321. connected.\n"
     ]
    },
    {
     "data": {
      "text/html": [
       "<div style=\"overflow:auto\"><table style=\"width:50%\"><tr><td>H2O cluster uptime:</td>\n",
       "<td>33 mins 41 secs</td></tr>\n",
       "<tr><td>H2O cluster version:</td>\n",
       "<td>3.10.4.5</td></tr>\n",
       "<tr><td>H2O cluster version age:</td>\n",
       "<td>6 days </td></tr>\n",
       "<tr><td>H2O cluster name:</td>\n",
       "<td>avkashchauhan</td></tr>\n",
       "<tr><td>H2O cluster total nodes:</td>\n",
       "<td>1</td></tr>\n",
       "<tr><td>H2O cluster free memory:</td>\n",
       "<td>3.312 Gb</td></tr>\n",
       "<tr><td>H2O cluster total cores:</td>\n",
       "<td>8</td></tr>\n",
       "<tr><td>H2O cluster allowed cores:</td>\n",
       "<td>8</td></tr>\n",
       "<tr><td>H2O cluster status:</td>\n",
       "<td>locked, healthy</td></tr>\n",
       "<tr><td>H2O connection url:</td>\n",
       "<td>http://localhost:54321</td></tr>\n",
       "<tr><td>H2O connection proxy:</td>\n",
       "<td>None</td></tr>\n",
       "<tr><td>H2O internal security:</td>\n",
       "<td>False</td></tr>\n",
       "<tr><td>Python version:</td>\n",
       "<td>2.7.10 final</td></tr></table></div>"
      ],
      "text/plain": [
       "--------------------------  ----------------------\n",
       "H2O cluster uptime:         33 mins 41 secs\n",
       "H2O cluster version:        3.10.4.5\n",
       "H2O cluster version age:    6 days\n",
       "H2O cluster name:           avkashchauhan\n",
       "H2O cluster total nodes:    1\n",
       "H2O cluster free memory:    3.312 Gb\n",
       "H2O cluster total cores:    8\n",
       "H2O cluster allowed cores:  8\n",
       "H2O cluster status:         locked, healthy\n",
       "H2O connection url:         http://localhost:54321\n",
       "H2O connection proxy:\n",
       "H2O internal security:      False\n",
       "Python version:             2.7.10 final\n",
       "--------------------------  ----------------------"
      ]
     },
     "metadata": {},
     "output_type": "display_data"
    }
   ],
   "source": [
    "h2o.init(strict_version_check = False)"
   ]
  },
  {
   "cell_type": "code",
   "execution_count": 8,
   "metadata": {
    "collapsed": false
   },
   "outputs": [
    {
     "name": "stdout",
     "output_type": "stream",
     "text": [
      "Connecting to H2O server at http://localhost:54321... successful.\n"
     ]
    },
    {
     "data": {
      "text/html": [
       "<div style=\"overflow:auto\"><table style=\"width:50%\"><tr><td>H2O cluster uptime:</td>\n",
       "<td>33 mins 45 secs</td></tr>\n",
       "<tr><td>H2O cluster version:</td>\n",
       "<td>3.10.4.5</td></tr>\n",
       "<tr><td>H2O cluster version age:</td>\n",
       "<td>6 days </td></tr>\n",
       "<tr><td>H2O cluster name:</td>\n",
       "<td>avkashchauhan</td></tr>\n",
       "<tr><td>H2O cluster total nodes:</td>\n",
       "<td>1</td></tr>\n",
       "<tr><td>H2O cluster free memory:</td>\n",
       "<td>3.312 Gb</td></tr>\n",
       "<tr><td>H2O cluster total cores:</td>\n",
       "<td>8</td></tr>\n",
       "<tr><td>H2O cluster allowed cores:</td>\n",
       "<td>8</td></tr>\n",
       "<tr><td>H2O cluster status:</td>\n",
       "<td>locked, healthy</td></tr>\n",
       "<tr><td>H2O connection url:</td>\n",
       "<td>http://localhost:54321</td></tr>\n",
       "<tr><td>H2O connection proxy:</td>\n",
       "<td>None</td></tr>\n",
       "<tr><td>H2O internal security:</td>\n",
       "<td>False</td></tr>\n",
       "<tr><td>Python version:</td>\n",
       "<td>2.7.10 final</td></tr></table></div>"
      ],
      "text/plain": [
       "--------------------------  ----------------------\n",
       "H2O cluster uptime:         33 mins 45 secs\n",
       "H2O cluster version:        3.10.4.5\n",
       "H2O cluster version age:    6 days\n",
       "H2O cluster name:           avkashchauhan\n",
       "H2O cluster total nodes:    1\n",
       "H2O cluster free memory:    3.312 Gb\n",
       "H2O cluster total cores:    8\n",
       "H2O cluster allowed cores:  8\n",
       "H2O cluster status:         locked, healthy\n",
       "H2O connection url:         http://localhost:54321\n",
       "H2O connection proxy:\n",
       "H2O internal security:      False\n",
       "Python version:             2.7.10 final\n",
       "--------------------------  ----------------------"
      ]
     },
     "metadata": {},
     "output_type": "display_data"
    },
    {
     "data": {
      "text/plain": [
       "<H2OConnection to http://localhost:54321, session _sid_8f81>"
      ]
     },
     "execution_count": 8,
     "metadata": {},
     "output_type": "execute_result"
    }
   ],
   "source": [
    "h2o.connect()"
   ]
  },
  {
   "cell_type": "code",
   "execution_count": 11,
   "metadata": {
    "collapsed": true
   },
   "outputs": [],
   "source": [
    "?h2o.H2OFrame\n"
   ]
  },
  {
   "cell_type": "code",
   "execution_count": 9,
   "metadata": {
    "collapsed": false
   },
   "outputs": [
    {
     "data": {
      "text/html": [
       "<div>\n",
       "<table border=\"1\" class=\"dataframe\">\n",
       "  <thead>\n",
       "    <tr style=\"text-align: right;\">\n",
       "      <th></th>\n",
       "      <th>key</th>\n",
       "    </tr>\n",
       "  </thead>\n",
       "  <tbody>\n",
       "    <tr>\n",
       "      <th>0</th>\n",
       "      <td>glm-a1eb11e5-5848-4f1f-9fa4-c3ea52206304</td>\n",
       "    </tr>\n",
       "    <tr>\n",
       "      <th>1</th>\n",
       "      <td>glm-a1eb11e5-5848-4f1f-9fa4-c3ea52206304_cv_1</td>\n",
       "    </tr>\n",
       "    <tr>\n",
       "      <th>2</th>\n",
       "      <td>glm-a1eb11e5-5848-4f1f-9fa4-c3ea52206304_cv_2</td>\n",
       "    </tr>\n",
       "    <tr>\n",
       "      <th>3</th>\n",
       "      <td>glm-a1eb11e5-5848-4f1f-9fa4-c3ea52206304_cv_3</td>\n",
       "    </tr>\n",
       "    <tr>\n",
       "      <th>4</th>\n",
       "      <td>glm-a1eb11e5-5848-4f1f-9fa4-c3ea52206304_cv_4</td>\n",
       "    </tr>\n",
       "    <tr>\n",
       "      <th>5</th>\n",
       "      <td>glm-a1eb11e5-5848-4f1f-9fa4-c3ea52206304_cv_5</td>\n",
       "    </tr>\n",
       "    <tr>\n",
       "      <th>6</th>\n",
       "      <td>grid-8aeac809-5de5-4381-8475-3ba97a4048c7</td>\n",
       "    </tr>\n",
       "    <tr>\n",
       "      <th>7</th>\n",
       "      <td>grid-8aeac809-5de5-4381-8475-3ba97a4048c7_model_0</td>\n",
       "    </tr>\n",
       "    <tr>\n",
       "      <th>8</th>\n",
       "      <td>grid-8aeac809-5de5-4381-8475-3ba97a4048c7_mode...</td>\n",
       "    </tr>\n",
       "    <tr>\n",
       "      <th>9</th>\n",
       "      <td>grid-8aeac809-5de5-4381-8475-3ba97a4048c7_mode...</td>\n",
       "    </tr>\n",
       "    <tr>\n",
       "      <th>10</th>\n",
       "      <td>grid-8aeac809-5de5-4381-8475-3ba97a4048c7_mode...</td>\n",
       "    </tr>\n",
       "    <tr>\n",
       "      <th>11</th>\n",
       "      <td>grid-8aeac809-5de5-4381-8475-3ba97a4048c7_mode...</td>\n",
       "    </tr>\n",
       "    <tr>\n",
       "      <th>12</th>\n",
       "      <td>grid-8aeac809-5de5-4381-8475-3ba97a4048c7_mode...</td>\n",
       "    </tr>\n",
       "    <tr>\n",
       "      <th>13</th>\n",
       "      <td>grid-8aeac809-5de5-4381-8475-3ba97a4048c7_model_1</td>\n",
       "    </tr>\n",
       "    <tr>\n",
       "      <th>14</th>\n",
       "      <td>grid-8aeac809-5de5-4381-8475-3ba97a4048c7_mode...</td>\n",
       "    </tr>\n",
       "    <tr>\n",
       "      <th>15</th>\n",
       "      <td>grid-8aeac809-5de5-4381-8475-3ba97a4048c7_mode...</td>\n",
       "    </tr>\n",
       "    <tr>\n",
       "      <th>16</th>\n",
       "      <td>grid-8aeac809-5de5-4381-8475-3ba97a4048c7_mode...</td>\n",
       "    </tr>\n",
       "    <tr>\n",
       "      <th>17</th>\n",
       "      <td>grid-8aeac809-5de5-4381-8475-3ba97a4048c7_mode...</td>\n",
       "    </tr>\n",
       "    <tr>\n",
       "      <th>18</th>\n",
       "      <td>grid-8aeac809-5de5-4381-8475-3ba97a4048c7_mode...</td>\n",
       "    </tr>\n",
       "    <tr>\n",
       "      <th>19</th>\n",
       "      <td>grid-8aeac809-5de5-4381-8475-3ba97a4048c7_model_2</td>\n",
       "    </tr>\n",
       "    <tr>\n",
       "      <th>20</th>\n",
       "      <td>grid-8aeac809-5de5-4381-8475-3ba97a4048c7_mode...</td>\n",
       "    </tr>\n",
       "    <tr>\n",
       "      <th>21</th>\n",
       "      <td>grid-8aeac809-5de5-4381-8475-3ba97a4048c7_mode...</td>\n",
       "    </tr>\n",
       "    <tr>\n",
       "      <th>22</th>\n",
       "      <td>grid-8aeac809-5de5-4381-8475-3ba97a4048c7_mode...</td>\n",
       "    </tr>\n",
       "    <tr>\n",
       "      <th>23</th>\n",
       "      <td>grid-8aeac809-5de5-4381-8475-3ba97a4048c7_mode...</td>\n",
       "    </tr>\n",
       "    <tr>\n",
       "      <th>24</th>\n",
       "      <td>grid-8aeac809-5de5-4381-8475-3ba97a4048c7_mode...</td>\n",
       "    </tr>\n",
       "    <tr>\n",
       "      <th>25</th>\n",
       "      <td>grid-8aeac809-5de5-4381-8475-3ba97a4048c7_model_3</td>\n",
       "    </tr>\n",
       "    <tr>\n",
       "      <th>26</th>\n",
       "      <td>grid-8aeac809-5de5-4381-8475-3ba97a4048c7_mode...</td>\n",
       "    </tr>\n",
       "    <tr>\n",
       "      <th>27</th>\n",
       "      <td>grid-8aeac809-5de5-4381-8475-3ba97a4048c7_mode...</td>\n",
       "    </tr>\n",
       "    <tr>\n",
       "      <th>28</th>\n",
       "      <td>grid-8aeac809-5de5-4381-8475-3ba97a4048c7_mode...</td>\n",
       "    </tr>\n",
       "    <tr>\n",
       "      <th>29</th>\n",
       "      <td>grid-8aeac809-5de5-4381-8475-3ba97a4048c7_mode...</td>\n",
       "    </tr>\n",
       "    <tr>\n",
       "      <th>...</th>\n",
       "      <td>...</td>\n",
       "    </tr>\n",
       "    <tr>\n",
       "      <th>142</th>\n",
       "      <td>modelmetrics_grid-8aeac809-5de5-4381-8475-3ba9...</td>\n",
       "    </tr>\n",
       "    <tr>\n",
       "      <th>143</th>\n",
       "      <td>modelmetrics_grid-8aeac809-5de5-4381-8475-3ba9...</td>\n",
       "    </tr>\n",
       "    <tr>\n",
       "      <th>144</th>\n",
       "      <td>modelmetrics_grid-8aeac809-5de5-4381-8475-3ba9...</td>\n",
       "    </tr>\n",
       "    <tr>\n",
       "      <th>145</th>\n",
       "      <td>modelmetrics_grid-8aeac809-5de5-4381-8475-3ba9...</td>\n",
       "    </tr>\n",
       "    <tr>\n",
       "      <th>146</th>\n",
       "      <td>modelmetrics_grid-8aeac809-5de5-4381-8475-3ba9...</td>\n",
       "    </tr>\n",
       "    <tr>\n",
       "      <th>147</th>\n",
       "      <td>modelmetrics_grid-8aeac809-5de5-4381-8475-3ba9...</td>\n",
       "    </tr>\n",
       "    <tr>\n",
       "      <th>148</th>\n",
       "      <td>modelmetrics_grid-8aeac809-5de5-4381-8475-3ba9...</td>\n",
       "    </tr>\n",
       "    <tr>\n",
       "      <th>149</th>\n",
       "      <td>modelmetrics_grid-8aeac809-5de5-4381-8475-3ba9...</td>\n",
       "    </tr>\n",
       "    <tr>\n",
       "      <th>150</th>\n",
       "      <td>modelmetrics_grid-8aeac809-5de5-4381-8475-3ba9...</td>\n",
       "    </tr>\n",
       "    <tr>\n",
       "      <th>151</th>\n",
       "      <td>modelmetrics_grid-8aeac809-5de5-4381-8475-3ba9...</td>\n",
       "    </tr>\n",
       "    <tr>\n",
       "      <th>152</th>\n",
       "      <td>modelmetrics_grid-8aeac809-5de5-4381-8475-3ba9...</td>\n",
       "    </tr>\n",
       "    <tr>\n",
       "      <th>153</th>\n",
       "      <td>modelmetrics_grid-8aeac809-5de5-4381-8475-3ba9...</td>\n",
       "    </tr>\n",
       "    <tr>\n",
       "      <th>154</th>\n",
       "      <td>modelmetrics_grid-8aeac809-5de5-4381-8475-3ba9...</td>\n",
       "    </tr>\n",
       "    <tr>\n",
       "      <th>155</th>\n",
       "      <td>modelmetrics_grid-8aeac809-5de5-4381-8475-3ba9...</td>\n",
       "    </tr>\n",
       "    <tr>\n",
       "      <th>156</th>\n",
       "      <td>modelmetrics_grid-8aeac809-5de5-4381-8475-3ba9...</td>\n",
       "    </tr>\n",
       "    <tr>\n",
       "      <th>157</th>\n",
       "      <td>modelmetrics_grid-8aeac809-5de5-4381-8475-3ba9...</td>\n",
       "    </tr>\n",
       "    <tr>\n",
       "      <th>158</th>\n",
       "      <td>modelmetrics_grid-8aeac809-5de5-4381-8475-3ba9...</td>\n",
       "    </tr>\n",
       "    <tr>\n",
       "      <th>159</th>\n",
       "      <td>modelmetrics_grid-8aeac809-5de5-4381-8475-3ba9...</td>\n",
       "    </tr>\n",
       "    <tr>\n",
       "      <th>160</th>\n",
       "      <td>modelmetrics_grid-8aeac809-5de5-4381-8475-3ba9...</td>\n",
       "    </tr>\n",
       "    <tr>\n",
       "      <th>161</th>\n",
       "      <td>modelmetrics_grid-8aeac809-5de5-4381-8475-3ba9...</td>\n",
       "    </tr>\n",
       "    <tr>\n",
       "      <th>162</th>\n",
       "      <td>modelmetrics_grid-8aeac809-5de5-4381-8475-3ba9...</td>\n",
       "    </tr>\n",
       "    <tr>\n",
       "      <th>163</th>\n",
       "      <td>modelmetrics_grid-8aeac809-5de5-4381-8475-3ba9...</td>\n",
       "    </tr>\n",
       "    <tr>\n",
       "      <th>164</th>\n",
       "      <td>modelmetrics_grid-8aeac809-5de5-4381-8475-3ba9...</td>\n",
       "    </tr>\n",
       "    <tr>\n",
       "      <th>165</th>\n",
       "      <td>modelmetrics_grid-8aeac809-5de5-4381-8475-3ba9...</td>\n",
       "    </tr>\n",
       "    <tr>\n",
       "      <th>166</th>\n",
       "      <td>modelmetrics_grid-8aeac809-5de5-4381-8475-3ba9...</td>\n",
       "    </tr>\n",
       "    <tr>\n",
       "      <th>167</th>\n",
       "      <td>modelmetrics_grid-8aeac809-5de5-4381-8475-3ba9...</td>\n",
       "    </tr>\n",
       "    <tr>\n",
       "      <th>168</th>\n",
       "      <td>modelmetrics_grid-8aeac809-5de5-4381-8475-3ba9...</td>\n",
       "    </tr>\n",
       "    <tr>\n",
       "      <th>169</th>\n",
       "      <td>modelmetrics_grid-8aeac809-5de5-4381-8475-3ba9...</td>\n",
       "    </tr>\n",
       "    <tr>\n",
       "      <th>170</th>\n",
       "      <td>modelmetrics_grid-8aeac809-5de5-4381-8475-3ba9...</td>\n",
       "    </tr>\n",
       "    <tr>\n",
       "      <th>171</th>\n",
       "      <td>titanic_list.hex</td>\n",
       "    </tr>\n",
       "  </tbody>\n",
       "</table>\n",
       "<p>172 rows × 1 columns</p>\n",
       "</div>"
      ],
      "text/plain": [
       "                                                   key\n",
       "0             glm-a1eb11e5-5848-4f1f-9fa4-c3ea52206304\n",
       "1        glm-a1eb11e5-5848-4f1f-9fa4-c3ea52206304_cv_1\n",
       "2        glm-a1eb11e5-5848-4f1f-9fa4-c3ea52206304_cv_2\n",
       "3        glm-a1eb11e5-5848-4f1f-9fa4-c3ea52206304_cv_3\n",
       "4        glm-a1eb11e5-5848-4f1f-9fa4-c3ea52206304_cv_4\n",
       "5        glm-a1eb11e5-5848-4f1f-9fa4-c3ea52206304_cv_5\n",
       "6            grid-8aeac809-5de5-4381-8475-3ba97a4048c7\n",
       "7    grid-8aeac809-5de5-4381-8475-3ba97a4048c7_model_0\n",
       "8    grid-8aeac809-5de5-4381-8475-3ba97a4048c7_mode...\n",
       "9    grid-8aeac809-5de5-4381-8475-3ba97a4048c7_mode...\n",
       "10   grid-8aeac809-5de5-4381-8475-3ba97a4048c7_mode...\n",
       "11   grid-8aeac809-5de5-4381-8475-3ba97a4048c7_mode...\n",
       "12   grid-8aeac809-5de5-4381-8475-3ba97a4048c7_mode...\n",
       "13   grid-8aeac809-5de5-4381-8475-3ba97a4048c7_model_1\n",
       "14   grid-8aeac809-5de5-4381-8475-3ba97a4048c7_mode...\n",
       "15   grid-8aeac809-5de5-4381-8475-3ba97a4048c7_mode...\n",
       "16   grid-8aeac809-5de5-4381-8475-3ba97a4048c7_mode...\n",
       "17   grid-8aeac809-5de5-4381-8475-3ba97a4048c7_mode...\n",
       "18   grid-8aeac809-5de5-4381-8475-3ba97a4048c7_mode...\n",
       "19   grid-8aeac809-5de5-4381-8475-3ba97a4048c7_model_2\n",
       "20   grid-8aeac809-5de5-4381-8475-3ba97a4048c7_mode...\n",
       "21   grid-8aeac809-5de5-4381-8475-3ba97a4048c7_mode...\n",
       "22   grid-8aeac809-5de5-4381-8475-3ba97a4048c7_mode...\n",
       "23   grid-8aeac809-5de5-4381-8475-3ba97a4048c7_mode...\n",
       "24   grid-8aeac809-5de5-4381-8475-3ba97a4048c7_mode...\n",
       "25   grid-8aeac809-5de5-4381-8475-3ba97a4048c7_model_3\n",
       "26   grid-8aeac809-5de5-4381-8475-3ba97a4048c7_mode...\n",
       "27   grid-8aeac809-5de5-4381-8475-3ba97a4048c7_mode...\n",
       "28   grid-8aeac809-5de5-4381-8475-3ba97a4048c7_mode...\n",
       "29   grid-8aeac809-5de5-4381-8475-3ba97a4048c7_mode...\n",
       "..                                                 ...\n",
       "142  modelmetrics_grid-8aeac809-5de5-4381-8475-3ba9...\n",
       "143  modelmetrics_grid-8aeac809-5de5-4381-8475-3ba9...\n",
       "144  modelmetrics_grid-8aeac809-5de5-4381-8475-3ba9...\n",
       "145  modelmetrics_grid-8aeac809-5de5-4381-8475-3ba9...\n",
       "146  modelmetrics_grid-8aeac809-5de5-4381-8475-3ba9...\n",
       "147  modelmetrics_grid-8aeac809-5de5-4381-8475-3ba9...\n",
       "148  modelmetrics_grid-8aeac809-5de5-4381-8475-3ba9...\n",
       "149  modelmetrics_grid-8aeac809-5de5-4381-8475-3ba9...\n",
       "150  modelmetrics_grid-8aeac809-5de5-4381-8475-3ba9...\n",
       "151  modelmetrics_grid-8aeac809-5de5-4381-8475-3ba9...\n",
       "152  modelmetrics_grid-8aeac809-5de5-4381-8475-3ba9...\n",
       "153  modelmetrics_grid-8aeac809-5de5-4381-8475-3ba9...\n",
       "154  modelmetrics_grid-8aeac809-5de5-4381-8475-3ba9...\n",
       "155  modelmetrics_grid-8aeac809-5de5-4381-8475-3ba9...\n",
       "156  modelmetrics_grid-8aeac809-5de5-4381-8475-3ba9...\n",
       "157  modelmetrics_grid-8aeac809-5de5-4381-8475-3ba9...\n",
       "158  modelmetrics_grid-8aeac809-5de5-4381-8475-3ba9...\n",
       "159  modelmetrics_grid-8aeac809-5de5-4381-8475-3ba9...\n",
       "160  modelmetrics_grid-8aeac809-5de5-4381-8475-3ba9...\n",
       "161  modelmetrics_grid-8aeac809-5de5-4381-8475-3ba9...\n",
       "162  modelmetrics_grid-8aeac809-5de5-4381-8475-3ba9...\n",
       "163  modelmetrics_grid-8aeac809-5de5-4381-8475-3ba9...\n",
       "164  modelmetrics_grid-8aeac809-5de5-4381-8475-3ba9...\n",
       "165  modelmetrics_grid-8aeac809-5de5-4381-8475-3ba9...\n",
       "166  modelmetrics_grid-8aeac809-5de5-4381-8475-3ba9...\n",
       "167  modelmetrics_grid-8aeac809-5de5-4381-8475-3ba9...\n",
       "168  modelmetrics_grid-8aeac809-5de5-4381-8475-3ba9...\n",
       "169  modelmetrics_grid-8aeac809-5de5-4381-8475-3ba9...\n",
       "170  modelmetrics_grid-8aeac809-5de5-4381-8475-3ba9...\n",
       "171                                   titanic_list.hex\n",
       "\n",
       "[172 rows x 1 columns]"
      ]
     },
     "execution_count": 9,
     "metadata": {},
     "output_type": "execute_result"
    }
   ],
   "source": [
    "h2o.ls()"
   ]
  },
  {
   "cell_type": "code",
   "execution_count": 6,
   "metadata": {
    "collapsed": false
   },
   "outputs": [
    {
     "name": "stdout",
     "output_type": "stream",
     "text": [
      "Create Frame progress: |██████████████████████████████████████████████████| 100%\n"
     ]
    }
   ],
   "source": [
    "myframe = h2o.create_frame()"
   ]
  },
  {
   "cell_type": "code",
   "execution_count": 8,
   "metadata": {
    "collapsed": false
   },
   "outputs": [
    {
     "data": {
      "text/html": [
       "<table>\n",
       "<thead>\n",
       "<tr><th style=\"text-align: right;\">  C1</th><th>C2    </th><th style=\"text-align: right;\">      C3</th><th style=\"text-align: right;\">      C4</th><th style=\"text-align: right;\">       C5</th><th style=\"text-align: right;\">       C6</th><th style=\"text-align: right;\">  C7</th><th>C8    </th><th style=\"text-align: right;\">      C9</th><th style=\"text-align: right;\">  C10</th></tr>\n",
       "</thead>\n",
       "<tbody>\n",
       "<tr><td style=\"text-align: right;\">   0</td><td>c1.l87</td><td style=\"text-align: right;\"> 21.7748</td><td style=\"text-align: right;\">-24.2994</td><td style=\"text-align: right;\">-29.2939 </td><td style=\"text-align: right;\">-34.8295 </td><td style=\"text-align: right;\">  58</td><td>c7.l36</td><td style=\"text-align: right;\">11.0094 </td><td style=\"text-align: right;\">  -92</td></tr>\n",
       "<tr><td style=\"text-align: right;\">   0</td><td>c1.l14</td><td style=\"text-align: right;\"> 29.9996</td><td style=\"text-align: right;\">-95.9401</td><td style=\"text-align: right;\">  9.04628</td><td style=\"text-align: right;\"> 21.6548 </td><td style=\"text-align: right;\">   5</td><td>c7.l59</td><td style=\"text-align: right;\">66.5713 </td><td style=\"text-align: right;\">   48</td></tr>\n",
       "<tr><td style=\"text-align: right;\">   0</td><td>c1.l14</td><td style=\"text-align: right;\">-64.7183</td><td style=\"text-align: right;\"> 24.0158</td><td style=\"text-align: right;\">-97.0446 </td><td style=\"text-align: right;\">-74.7545 </td><td style=\"text-align: right;\">  -9</td><td>c7.l29</td><td style=\"text-align: right;\">52.3519 </td><td style=\"text-align: right;\">  -46</td></tr>\n",
       "<tr><td style=\"text-align: right;\">   0</td><td>c1.l86</td><td style=\"text-align: right;\">-52.127 </td><td style=\"text-align: right;\">-38.9344</td><td style=\"text-align: right;\">-55.7042 </td><td style=\"text-align: right;\"> 67.585  </td><td style=\"text-align: right;\"> -42</td><td>c7.l17</td><td style=\"text-align: right;\">87.3078 </td><td style=\"text-align: right;\">  -61</td></tr>\n",
       "<tr><td style=\"text-align: right;\">   0</td><td>c1.l19</td><td style=\"text-align: right;\"> 20.8022</td><td style=\"text-align: right;\"> 66.2991</td><td style=\"text-align: right;\">-45.4985 </td><td style=\"text-align: right;\">  9.05886</td><td style=\"text-align: right;\">  60</td><td>c7.l25</td><td style=\"text-align: right;\">-7.88426</td><td style=\"text-align: right;\">   25</td></tr>\n",
       "<tr><td style=\"text-align: right;\">   0</td><td>c1.l36</td><td style=\"text-align: right;\">-33.3546</td><td style=\"text-align: right;\"> 33.5444</td><td style=\"text-align: right;\">-20.7215 </td><td style=\"text-align: right;\">-64.9622 </td><td style=\"text-align: right;\"> -98</td><td>c7.l1 </td><td style=\"text-align: right;\">15.5151 </td><td style=\"text-align: right;\"> -100</td></tr>\n",
       "<tr><td style=\"text-align: right;\">   0</td><td>c1.l50</td><td style=\"text-align: right;\"> 46.9539</td><td style=\"text-align: right;\">-68.8248</td><td style=\"text-align: right;\">-33.8193 </td><td style=\"text-align: right;\"> 48.6183 </td><td style=\"text-align: right;\"> -74</td><td>c7.l66</td><td style=\"text-align: right;\">74.1598 </td><td style=\"text-align: right;\">  -21</td></tr>\n",
       "<tr><td style=\"text-align: right;\">   0</td><td>c1.l89</td><td style=\"text-align: right;\">-63.2739</td><td style=\"text-align: right;\">-25.3141</td><td style=\"text-align: right;\">-42.3425 </td><td style=\"text-align: right;\"> 46.0842 </td><td style=\"text-align: right;\">   4</td><td>c7.l69</td><td style=\"text-align: right;\">80.3215 </td><td style=\"text-align: right;\">   46</td></tr>\n",
       "<tr><td style=\"text-align: right;\">   0</td><td>c1.l12</td><td style=\"text-align: right;\"> 84.7291</td><td style=\"text-align: right;\"> 96.8641</td><td style=\"text-align: right;\">-21.4849 </td><td style=\"text-align: right;\">-71.6822 </td><td style=\"text-align: right;\"> -20</td><td>c7.l79</td><td style=\"text-align: right;\">52.1342 </td><td style=\"text-align: right;\">   53</td></tr>\n",
       "<tr><td style=\"text-align: right;\">   0</td><td>c1.l51</td><td style=\"text-align: right;\"> 92.9209</td><td style=\"text-align: right;\">-18.2255</td><td style=\"text-align: right;\">-52.7744 </td><td style=\"text-align: right;\"> 52.0297 </td><td style=\"text-align: right;\"> -39</td><td>c7.l13</td><td style=\"text-align: right;\">10.5029 </td><td style=\"text-align: right;\">  -21</td></tr>\n",
       "</tbody>\n",
       "</table>"
      ]
     },
     "metadata": {},
     "output_type": "display_data"
    },
    {
     "data": {
      "text/plain": []
     },
     "execution_count": 8,
     "metadata": {},
     "output_type": "execute_result"
    }
   ],
   "source": [
    "myframe"
   ]
  },
  {
   "cell_type": "code",
   "execution_count": 15,
   "metadata": {
    "collapsed": false
   },
   "outputs": [
    {
     "data": {
      "text/plain": [
       "(10, 10)"
      ]
     },
     "execution_count": 15,
     "metadata": {},
     "output_type": "execute_result"
    }
   ],
   "source": [
    "myframe.head().shape"
   ]
  },
  {
   "cell_type": "code",
   "execution_count": 19,
   "metadata": {
    "collapsed": false
   },
   "outputs": [
    {
     "data": {
      "text/html": [
       "<div>\n",
       "<table border=\"1\" class=\"dataframe\">\n",
       "  <thead>\n",
       "    <tr style=\"text-align: right;\">\n",
       "      <th></th>\n",
       "      <th>key</th>\n",
       "    </tr>\n",
       "  </thead>\n",
       "  <tbody>\n",
       "    <tr>\n",
       "      <th>0</th>\n",
       "      <td>RTMP_sid_9e12_2</td>\n",
       "    </tr>\n",
       "    <tr>\n",
       "      <th>1</th>\n",
       "      <td>RTMP_sid_9e12_4</td>\n",
       "    </tr>\n",
       "    <tr>\n",
       "      <th>2</th>\n",
       "      <td>py_2_sid_a7ac</td>\n",
       "    </tr>\n",
       "    <tr>\n",
       "      <th>3</th>\n",
       "      <td>py_3_sid_a7ac</td>\n",
       "    </tr>\n",
       "    <tr>\n",
       "      <th>4</th>\n",
       "      <td>py_5_sid_a7ac</td>\n",
       "    </tr>\n",
       "  </tbody>\n",
       "</table>\n",
       "</div>"
      ],
      "text/plain": [
       "               key\n",
       "0  RTMP_sid_9e12_2\n",
       "1  RTMP_sid_9e12_4\n",
       "2    py_2_sid_a7ac\n",
       "3    py_3_sid_a7ac\n",
       "4    py_5_sid_a7ac"
      ]
     },
     "execution_count": 19,
     "metadata": {},
     "output_type": "execute_result"
    }
   ],
   "source": [
    "h2o.ls()"
   ]
  },
  {
   "cell_type": "code",
   "execution_count": 24,
   "metadata": {
    "collapsed": false
   },
   "outputs": [
    {
     "data": {
      "text/html": [
       "<table>\n",
       "<thead>\n",
       "<tr><th style=\"text-align: right;\">      C1</th><th style=\"text-align: right;\">       C2</th><th style=\"text-align: right;\">       C3</th><th style=\"text-align: right;\">  C4</th><th style=\"text-align: right;\">       C5</th><th>C6    </th><th style=\"text-align: right;\">  C7</th><th style=\"text-align: right;\">  C8</th><th>C9    </th><th style=\"text-align: right;\">     C10</th></tr>\n",
       "</thead>\n",
       "<tbody>\n",
       "<tr><td style=\"text-align: right;\">-33.8719</td><td style=\"text-align: right;\">  9.50273</td><td style=\"text-align: right;\"> 43.5601 </td><td style=\"text-align: right;\"> -19</td><td style=\"text-align: right;\"> 74.0248 </td><td>c5.l23</td><td style=\"text-align: right;\">  92</td><td style=\"text-align: right;\">   0</td><td>c8.l41</td><td style=\"text-align: right;\"> 66.2066</td></tr>\n",
       "<tr><td style=\"text-align: right;\"> 15.2986</td><td style=\"text-align: right;\"> 80.2881 </td><td style=\"text-align: right;\">-99.359  </td><td style=\"text-align: right;\">  42</td><td style=\"text-align: right;\">-20.9411 </td><td>c5.l6 </td><td style=\"text-align: right;\"> -81</td><td style=\"text-align: right;\">   0</td><td>c8.l14</td><td style=\"text-align: right;\"> 70.3864</td></tr>\n",
       "<tr><td style=\"text-align: right;\">-75.0904</td><td style=\"text-align: right;\">-55.0586 </td><td style=\"text-align: right;\">  2.16942</td><td style=\"text-align: right;\">   0</td><td style=\"text-align: right;\">-61.1872 </td><td>c5.l41</td><td style=\"text-align: right;\">  42</td><td style=\"text-align: right;\">   0</td><td>c8.l15</td><td style=\"text-align: right;\"> 68.5284</td></tr>\n",
       "<tr><td style=\"text-align: right;\">-90.1529</td><td style=\"text-align: right;\"> -3.05115</td><td style=\"text-align: right;\">-68.1121 </td><td style=\"text-align: right;\"> -60</td><td style=\"text-align: right;\">-74.7125 </td><td>c5.l59</td><td style=\"text-align: right;\"> -61</td><td style=\"text-align: right;\">   0</td><td>c8.l59</td><td style=\"text-align: right;\">-50.6525</td></tr>\n",
       "<tr><td style=\"text-align: right;\">-96.3162</td><td style=\"text-align: right;\"> 56.2311 </td><td style=\"text-align: right;\"> 79.6114 </td><td style=\"text-align: right;\"> -52</td><td style=\"text-align: right;\">-75.3382 </td><td>c5.l98</td><td style=\"text-align: right;\">  90</td><td style=\"text-align: right;\">   0</td><td>c8.l33</td><td style=\"text-align: right;\">-48.1673</td></tr>\n",
       "<tr><td style=\"text-align: right;\"> 93.1453</td><td style=\"text-align: right;\">-66.1191 </td><td style=\"text-align: right;\"> 13.2124 </td><td style=\"text-align: right;\"> -77</td><td style=\"text-align: right;\"> 50.2745 </td><td>c5.l10</td><td style=\"text-align: right;\">  38</td><td style=\"text-align: right;\">   0</td><td>c8.l67</td><td style=\"text-align: right;\">-89.7941</td></tr>\n",
       "<tr><td style=\"text-align: right;\">-66.3434</td><td style=\"text-align: right;\">-97.0942 </td><td style=\"text-align: right;\"> 73.6281 </td><td style=\"text-align: right;\">  87</td><td style=\"text-align: right;\">  8.04848</td><td>c5.l8 </td><td style=\"text-align: right;\">  34</td><td style=\"text-align: right;\">   0</td><td>c8.l88</td><td style=\"text-align: right;\">-86.9112</td></tr>\n",
       "<tr><td style=\"text-align: right;\">-13.1823</td><td style=\"text-align: right;\">-23.1228 </td><td style=\"text-align: right;\"> 64.4327 </td><td style=\"text-align: right;\">  11</td><td style=\"text-align: right;\"> 60.309  </td><td>c5.l76</td><td style=\"text-align: right;\">  98</td><td style=\"text-align: right;\">   0</td><td>c8.l81</td><td style=\"text-align: right;\"> 61.9139</td></tr>\n",
       "<tr><td style=\"text-align: right;\"> 50.8325</td><td style=\"text-align: right;\">  3.57644</td><td style=\"text-align: right;\">-72.8477 </td><td style=\"text-align: right;\"> nan</td><td style=\"text-align: right;\"> 49.5507 </td><td>c5.l35</td><td style=\"text-align: right;\"> 100</td><td style=\"text-align: right;\">   0</td><td>c8.l65</td><td style=\"text-align: right;\">-69.7436</td></tr>\n",
       "<tr><td style=\"text-align: right;\">-13.7797</td><td style=\"text-align: right;\">-75.3994 </td><td style=\"text-align: right;\">-43.5479 </td><td style=\"text-align: right;\">  75</td><td style=\"text-align: right;\">-58.5688 </td><td>c5.l13</td><td style=\"text-align: right;\">  -9</td><td style=\"text-align: right;\">   0</td><td>c8.l5 </td><td style=\"text-align: right;\"> 54.7065</td></tr>\n",
       "</tbody>\n",
       "</table>"
      ]
     },
     "metadata": {},
     "output_type": "display_data"
    },
    {
     "data": {
      "text/plain": []
     },
     "execution_count": 24,
     "metadata": {},
     "output_type": "execute_result"
    }
   ],
   "source": [
    "h2o.get_frame(\"py_2_sid_a7ac\")"
   ]
  },
  {
   "cell_type": "code",
   "execution_count": 21,
   "metadata": {
    "collapsed": false
   },
   "outputs": [
    {
     "data": {
      "text/html": [
       "<table>\n",
       "<thead>\n",
       "<tr><th style=\"text-align: right;\">  C1</th><th>C2    </th><th style=\"text-align: right;\">      C3</th><th style=\"text-align: right;\">       C4</th><th style=\"text-align: right;\">       C5</th><th style=\"text-align: right;\">       C6</th><th style=\"text-align: right;\">  C7</th><th>C8    </th><th style=\"text-align: right;\">       C9</th><th style=\"text-align: right;\">  C10</th></tr>\n",
       "</thead>\n",
       "<tbody>\n",
       "<tr><td style=\"text-align: right;\">   0</td><td>c1.l26</td><td style=\"text-align: right;\"> 96.1709</td><td style=\"text-align: right;\"> 61.4168 </td><td style=\"text-align: right;\"> 16.1814 </td><td style=\"text-align: right;\">-24.2638 </td><td style=\"text-align: right;\">  32</td><td>c7.l50</td><td style=\"text-align: right;\">-67.2984 </td><td style=\"text-align: right;\">   26</td></tr>\n",
       "<tr><td style=\"text-align: right;\">   0</td><td>c1.l73</td><td style=\"text-align: right;\"> 99.3723</td><td style=\"text-align: right;\"> -7.94662</td><td style=\"text-align: right;\">  2.59602</td><td style=\"text-align: right;\">-88.091  </td><td style=\"text-align: right;\"> -70</td><td>c7.l88</td><td style=\"text-align: right;\"> 24.1805 </td><td style=\"text-align: right;\">  -66</td></tr>\n",
       "<tr><td style=\"text-align: right;\">   0</td><td>c1.l53</td><td style=\"text-align: right;\">-42.0024</td><td style=\"text-align: right;\">-90.0489 </td><td style=\"text-align: right;\"> 29.8471 </td><td style=\"text-align: right;\">  5.21608</td><td style=\"text-align: right;\">  26</td><td>c7.l35</td><td style=\"text-align: right;\">  7.96334</td><td style=\"text-align: right;\">   38</td></tr>\n",
       "<tr><td style=\"text-align: right;\">   0</td><td>c1.l99</td><td style=\"text-align: right;\"> 33.2984</td><td style=\"text-align: right;\">  1.35953</td><td style=\"text-align: right;\">nan      </td><td style=\"text-align: right;\"> 24.3499 </td><td style=\"text-align: right;\"> -78</td><td>c7.l9 </td><td style=\"text-align: right;\"> 18.5103 </td><td style=\"text-align: right;\">   22</td></tr>\n",
       "<tr><td style=\"text-align: right;\">   0</td><td>c1.l51</td><td style=\"text-align: right;\"> 72.1406</td><td style=\"text-align: right;\">-59.769  </td><td style=\"text-align: right;\">-36.8438 </td><td style=\"text-align: right;\"> -3.16859</td><td style=\"text-align: right;\">  -5</td><td>c7.l56</td><td style=\"text-align: right;\">-70.9815 </td><td style=\"text-align: right;\">   57</td></tr>\n",
       "<tr><td style=\"text-align: right;\">   0</td><td>c1.l12</td><td style=\"text-align: right;\">-73.7924</td><td style=\"text-align: right;\">-53.5857 </td><td style=\"text-align: right;\">-68.5976 </td><td style=\"text-align: right;\"> 64.7043 </td><td style=\"text-align: right;\"> -37</td><td>c7.l84</td><td style=\"text-align: right;\"> -9.18498</td><td style=\"text-align: right;\">  -83</td></tr>\n",
       "<tr><td style=\"text-align: right;\">   0</td><td>c1.l0 </td><td style=\"text-align: right;\">-89.0879</td><td style=\"text-align: right;\"> 82.6039 </td><td style=\"text-align: right;\">-19.9664 </td><td style=\"text-align: right;\">-35.5669 </td><td style=\"text-align: right;\">  25</td><td>c7.l30</td><td style=\"text-align: right;\"> -5.06731</td><td style=\"text-align: right;\">   17</td></tr>\n",
       "<tr><td style=\"text-align: right;\">   0</td><td>c1.l54</td><td style=\"text-align: right;\">-95.3415</td><td style=\"text-align: right;\"> 60.3005 </td><td style=\"text-align: right;\">-66.9333 </td><td style=\"text-align: right;\">-84.1095 </td><td style=\"text-align: right;\">  92</td><td>c7.l72</td><td style=\"text-align: right;\">-71.7828 </td><td style=\"text-align: right;\">   66</td></tr>\n",
       "<tr><td style=\"text-align: right;\">   0</td><td>c1.l6 </td><td style=\"text-align: right;\"> 71.8975</td><td style=\"text-align: right;\"> 72.3283 </td><td style=\"text-align: right;\"> 12.7584 </td><td style=\"text-align: right;\">-19.8469 </td><td style=\"text-align: right;\">  75</td><td>c7.l72</td><td style=\"text-align: right;\"> 11.6095 </td><td style=\"text-align: right;\">  -81</td></tr>\n",
       "<tr><td style=\"text-align: right;\">   0</td><td>c1.l95</td><td style=\"text-align: right;\">-57.4612</td><td style=\"text-align: right;\">-34.7909 </td><td style=\"text-align: right;\"> 41.3421 </td><td style=\"text-align: right;\">-38.7917 </td><td style=\"text-align: right;\"> -84</td><td>c7.l39</td><td style=\"text-align: right;\"> 17.6215 </td><td style=\"text-align: right;\">  -39</td></tr>\n",
       "</tbody>\n",
       "</table>"
      ]
     },
     "metadata": {},
     "output_type": "display_data"
    },
    {
     "data": {
      "text/plain": []
     },
     "execution_count": 21,
     "metadata": {},
     "output_type": "execute_result"
    }
   ],
   "source": [
    "aa5"
   ]
  },
  {
   "cell_type": "code",
   "execution_count": null,
   "metadata": {
    "collapsed": true
   },
   "outputs": [],
   "source": []
  }
 ],
 "metadata": {
  "kernelspec": {
   "display_name": "Python 2",
   "language": "python",
   "name": "python2"
  },
  "language_info": {
   "codemirror_mode": {
    "name": "ipython",
    "version": 2
   },
   "file_extension": ".py",
   "mimetype": "text/x-python",
   "name": "python",
   "nbconvert_exporter": "python",
   "pygments_lexer": "ipython2",
   "version": "2.7.10"
  }
 },
 "nbformat": 4,
 "nbformat_minor": 1
}
