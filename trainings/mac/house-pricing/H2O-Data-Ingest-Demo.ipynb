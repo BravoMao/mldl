{
 "cells": [
  {
   "cell_type": "code",
   "execution_count": 2,
   "metadata": {},
   "outputs": [
    {
     "name": "stderr",
     "output_type": "stream",
     "text": [
      "ERROR:h2o:Key init.version_check is not a valid config key\n"
     ]
    },
    {
     "name": "stdout",
     "output_type": "stream",
     "text": [
      "Checking whether there is an H2O instance running at http://localhost:54321. connected.\n"
     ]
    },
    {
     "data": {
      "text/html": [
       "<div style=\"overflow:auto\"><table style=\"width:50%\"><tr><td>H2O cluster uptime:</td>\n",
       "<td>16 hours 13 mins</td></tr>\n",
       "<tr><td>H2O cluster version:</td>\n",
       "<td>3.10.5.3</td></tr>\n",
       "<tr><td>H2O cluster version age:</td>\n",
       "<td>11 days </td></tr>\n",
       "<tr><td>H2O cluster name:</td>\n",
       "<td>H2O_from_python_avkashchauhan_2m13v0</td></tr>\n",
       "<tr><td>H2O cluster total nodes:</td>\n",
       "<td>1</td></tr>\n",
       "<tr><td>H2O cluster free memory:</td>\n",
       "<td>6.748 Gb</td></tr>\n",
       "<tr><td>H2O cluster total cores:</td>\n",
       "<td>8</td></tr>\n",
       "<tr><td>H2O cluster allowed cores:</td>\n",
       "<td>8</td></tr>\n",
       "<tr><td>H2O cluster status:</td>\n",
       "<td>locked, healthy</td></tr>\n",
       "<tr><td>H2O connection url:</td>\n",
       "<td>http://localhost:54321</td></tr>\n",
       "<tr><td>H2O connection proxy:</td>\n",
       "<td>None</td></tr>\n",
       "<tr><td>H2O internal security:</td>\n",
       "<td>False</td></tr>\n",
       "<tr><td>Python version:</td>\n",
       "<td>3.6.1 final</td></tr></table></div>"
      ],
      "text/plain": [
       "--------------------------  ------------------------------------\n",
       "H2O cluster uptime:         16 hours 13 mins\n",
       "H2O cluster version:        3.10.5.3\n",
       "H2O cluster version age:    11 days\n",
       "H2O cluster name:           H2O_from_python_avkashchauhan_2m13v0\n",
       "H2O cluster total nodes:    1\n",
       "H2O cluster free memory:    6.748 Gb\n",
       "H2O cluster total cores:    8\n",
       "H2O cluster allowed cores:  8\n",
       "H2O cluster status:         locked, healthy\n",
       "H2O connection url:         http://localhost:54321\n",
       "H2O connection proxy:\n",
       "H2O internal security:      False\n",
       "Python version:             3.6.1 final\n",
       "--------------------------  ------------------------------------"
      ]
     },
     "metadata": {},
     "output_type": "display_data"
    }
   ],
   "source": [
    "import h2o\n",
    "h2o.init(strict_version_check = False)"
   ]
  },
  {
   "cell_type": "code",
   "execution_count": 3,
   "metadata": {
    "collapsed": true
   },
   "outputs": [],
   "source": [
    "prostate = \"https://raw.github.com/h2oai/h2o/master/smalldata/logreg/prostate.csv\""
   ]
  },
  {
   "cell_type": "code",
   "execution_count": 4,
   "metadata": {},
   "outputs": [
    {
     "name": "stdout",
     "output_type": "stream",
     "text": [
      "Parse progress: |█████████████████████████████████████████████████████████| 100%\n"
     ]
    }
   ],
   "source": [
    "prostate_df = h2o.import_file(path=prostate)"
   ]
  },
  {
   "cell_type": "code",
   "execution_count": 5,
   "metadata": {},
   "outputs": [
    {
     "data": {
      "text/html": [
       "<table>\n",
       "<thead>\n",
       "<tr><th style=\"text-align: right;\">  ID</th><th style=\"text-align: right;\">  CAPSULE</th><th style=\"text-align: right;\">  AGE</th><th style=\"text-align: right;\">  RACE</th><th style=\"text-align: right;\">  DPROS</th><th style=\"text-align: right;\">  DCAPS</th><th style=\"text-align: right;\">  PSA</th><th style=\"text-align: right;\">  VOL</th><th style=\"text-align: right;\">  GLEASON</th></tr>\n",
       "</thead>\n",
       "<tbody>\n",
       "<tr><td style=\"text-align: right;\">   1</td><td style=\"text-align: right;\">        0</td><td style=\"text-align: right;\">   65</td><td style=\"text-align: right;\">     1</td><td style=\"text-align: right;\">      2</td><td style=\"text-align: right;\">      1</td><td style=\"text-align: right;\">  1.4</td><td style=\"text-align: right;\">  0  </td><td style=\"text-align: right;\">        6</td></tr>\n",
       "<tr><td style=\"text-align: right;\">   2</td><td style=\"text-align: right;\">        0</td><td style=\"text-align: right;\">   72</td><td style=\"text-align: right;\">     1</td><td style=\"text-align: right;\">      3</td><td style=\"text-align: right;\">      2</td><td style=\"text-align: right;\">  6.7</td><td style=\"text-align: right;\">  0  </td><td style=\"text-align: right;\">        7</td></tr>\n",
       "<tr><td style=\"text-align: right;\">   3</td><td style=\"text-align: right;\">        0</td><td style=\"text-align: right;\">   70</td><td style=\"text-align: right;\">     1</td><td style=\"text-align: right;\">      1</td><td style=\"text-align: right;\">      2</td><td style=\"text-align: right;\">  4.9</td><td style=\"text-align: right;\">  0  </td><td style=\"text-align: right;\">        6</td></tr>\n",
       "<tr><td style=\"text-align: right;\">   4</td><td style=\"text-align: right;\">        0</td><td style=\"text-align: right;\">   76</td><td style=\"text-align: right;\">     2</td><td style=\"text-align: right;\">      2</td><td style=\"text-align: right;\">      1</td><td style=\"text-align: right;\"> 51.2</td><td style=\"text-align: right;\"> 20  </td><td style=\"text-align: right;\">        7</td></tr>\n",
       "<tr><td style=\"text-align: right;\">   5</td><td style=\"text-align: right;\">        0</td><td style=\"text-align: right;\">   69</td><td style=\"text-align: right;\">     1</td><td style=\"text-align: right;\">      1</td><td style=\"text-align: right;\">      1</td><td style=\"text-align: right;\"> 12.3</td><td style=\"text-align: right;\"> 55.9</td><td style=\"text-align: right;\">        6</td></tr>\n",
       "<tr><td style=\"text-align: right;\">   6</td><td style=\"text-align: right;\">        1</td><td style=\"text-align: right;\">   71</td><td style=\"text-align: right;\">     1</td><td style=\"text-align: right;\">      3</td><td style=\"text-align: right;\">      2</td><td style=\"text-align: right;\">  3.3</td><td style=\"text-align: right;\">  0  </td><td style=\"text-align: right;\">        8</td></tr>\n",
       "<tr><td style=\"text-align: right;\">   7</td><td style=\"text-align: right;\">        0</td><td style=\"text-align: right;\">   68</td><td style=\"text-align: right;\">     2</td><td style=\"text-align: right;\">      4</td><td style=\"text-align: right;\">      2</td><td style=\"text-align: right;\"> 31.9</td><td style=\"text-align: right;\">  0  </td><td style=\"text-align: right;\">        7</td></tr>\n",
       "<tr><td style=\"text-align: right;\">   8</td><td style=\"text-align: right;\">        0</td><td style=\"text-align: right;\">   61</td><td style=\"text-align: right;\">     2</td><td style=\"text-align: right;\">      4</td><td style=\"text-align: right;\">      2</td><td style=\"text-align: right;\"> 66.7</td><td style=\"text-align: right;\"> 27.2</td><td style=\"text-align: right;\">        7</td></tr>\n",
       "<tr><td style=\"text-align: right;\">   9</td><td style=\"text-align: right;\">        0</td><td style=\"text-align: right;\">   69</td><td style=\"text-align: right;\">     1</td><td style=\"text-align: right;\">      1</td><td style=\"text-align: right;\">      1</td><td style=\"text-align: right;\">  3.9</td><td style=\"text-align: right;\"> 24  </td><td style=\"text-align: right;\">        7</td></tr>\n",
       "<tr><td style=\"text-align: right;\">  10</td><td style=\"text-align: right;\">        0</td><td style=\"text-align: right;\">   68</td><td style=\"text-align: right;\">     2</td><td style=\"text-align: right;\">      1</td><td style=\"text-align: right;\">      2</td><td style=\"text-align: right;\"> 13  </td><td style=\"text-align: right;\">  0  </td><td style=\"text-align: right;\">        6</td></tr>\n",
       "</tbody>\n",
       "</table>"
      ]
     },
     "metadata": {},
     "output_type": "display_data"
    },
    {
     "data": {
      "text/plain": []
     },
     "execution_count": 5,
     "metadata": {},
     "output_type": "execute_result"
    }
   ],
   "source": [
    "prostate_df"
   ]
  },
  {
   "cell_type": "code",
   "execution_count": 6,
   "metadata": {},
   "outputs": [
    {
     "data": {
      "text/plain": [
       "(380, 9)"
      ]
     },
     "execution_count": 6,
     "metadata": {},
     "output_type": "execute_result"
    }
   ],
   "source": [
    "prostate_df.shape"
   ]
  },
  {
   "cell_type": "code",
   "execution_count": 9,
   "metadata": {
    "collapsed": true
   },
   "outputs": [],
   "source": [
    "airline = \"https://raw.githubusercontent.com/Avkash/mldl/master/trainings/mac/allyears2k.csv\""
   ]
  },
  {
   "cell_type": "code",
   "execution_count": 10,
   "metadata": {},
   "outputs": [
    {
     "name": "stdout",
     "output_type": "stream",
     "text": [
      "Parse progress: |█████████████████████████████████████████████████████████| 100%\n"
     ]
    }
   ],
   "source": [
    "airline_df = h2o.import_file(path=airline)"
   ]
  },
  {
   "cell_type": "code",
   "execution_count": 11,
   "metadata": {},
   "outputs": [
    {
     "data": {
      "text/html": [
       "<table>\n",
       "<thead>\n",
       "<tr><th style=\"text-align: right;\">  C1</th><th style=\"text-align: right;\">  C2</th><th style=\"text-align: right;\">  C3</th><th style=\"text-align: right;\">  C4</th><th style=\"text-align: right;\">  C5</th><th style=\"text-align: right;\">  C6</th><th style=\"text-align: right;\">  C7</th><th style=\"text-align: right;\">  C8</th><th>C9  </th><th style=\"text-align: right;\">  C10</th><th>C11  </th><th style=\"text-align: right;\">  C12</th><th style=\"text-align: right;\">  C13</th><th style=\"text-align: right;\">  C14</th><th style=\"text-align: right;\">  C15</th><th style=\"text-align: right;\">  C16</th><th>C17  </th><th>C18  </th><th style=\"text-align: right;\">  C19</th><th style=\"text-align: right;\">  C20</th><th style=\"text-align: right;\">  C21</th><th style=\"text-align: right;\">  C22</th><th>C23  </th><th style=\"text-align: right;\">  C24</th><th style=\"text-align: right;\">  C25</th><th style=\"text-align: right;\">  C26</th><th style=\"text-align: right;\">  C27</th><th style=\"text-align: right;\">  C28</th><th style=\"text-align: right;\">  C29</th><th>C30  </th><th>C31  </th></tr>\n",
       "</thead>\n",
       "<tbody>\n",
       "<tr><td style=\"text-align: right;\">1987</td><td style=\"text-align: right;\">  10</td><td style=\"text-align: right;\">  14</td><td style=\"text-align: right;\">   3</td><td style=\"text-align: right;\"> 741</td><td style=\"text-align: right;\"> 730</td><td style=\"text-align: right;\"> 912</td><td style=\"text-align: right;\"> 849</td><td>PS  </td><td style=\"text-align: right;\"> 1451</td><td>NA   </td><td style=\"text-align: right;\">   91</td><td style=\"text-align: right;\">   79</td><td style=\"text-align: right;\">  nan</td><td style=\"text-align: right;\">   23</td><td style=\"text-align: right;\">   11</td><td>SAN  </td><td>SFO  </td><td style=\"text-align: right;\">  447</td><td style=\"text-align: right;\">  nan</td><td style=\"text-align: right;\">  nan</td><td style=\"text-align: right;\">    0</td><td>NA   </td><td style=\"text-align: right;\">    0</td><td style=\"text-align: right;\">  nan</td><td style=\"text-align: right;\">  nan</td><td style=\"text-align: right;\">  nan</td><td style=\"text-align: right;\">  nan</td><td style=\"text-align: right;\">  nan</td><td>YES  </td><td>YES  </td></tr>\n",
       "<tr><td style=\"text-align: right;\">1987</td><td style=\"text-align: right;\">  10</td><td style=\"text-align: right;\">  15</td><td style=\"text-align: right;\">   4</td><td style=\"text-align: right;\"> 729</td><td style=\"text-align: right;\"> 730</td><td style=\"text-align: right;\"> 903</td><td style=\"text-align: right;\"> 849</td><td>PS  </td><td style=\"text-align: right;\"> 1451</td><td>NA   </td><td style=\"text-align: right;\">   94</td><td style=\"text-align: right;\">   79</td><td style=\"text-align: right;\">  nan</td><td style=\"text-align: right;\">   14</td><td style=\"text-align: right;\">   -1</td><td>SAN  </td><td>SFO  </td><td style=\"text-align: right;\">  447</td><td style=\"text-align: right;\">  nan</td><td style=\"text-align: right;\">  nan</td><td style=\"text-align: right;\">    0</td><td>NA   </td><td style=\"text-align: right;\">    0</td><td style=\"text-align: right;\">  nan</td><td style=\"text-align: right;\">  nan</td><td style=\"text-align: right;\">  nan</td><td style=\"text-align: right;\">  nan</td><td style=\"text-align: right;\">  nan</td><td>YES  </td><td>NO   </td></tr>\n",
       "<tr><td style=\"text-align: right;\">1987</td><td style=\"text-align: right;\">  10</td><td style=\"text-align: right;\">  17</td><td style=\"text-align: right;\">   6</td><td style=\"text-align: right;\"> 741</td><td style=\"text-align: right;\"> 730</td><td style=\"text-align: right;\"> 918</td><td style=\"text-align: right;\"> 849</td><td>PS  </td><td style=\"text-align: right;\"> 1451</td><td>NA   </td><td style=\"text-align: right;\">   97</td><td style=\"text-align: right;\">   79</td><td style=\"text-align: right;\">  nan</td><td style=\"text-align: right;\">   29</td><td style=\"text-align: right;\">   11</td><td>SAN  </td><td>SFO  </td><td style=\"text-align: right;\">  447</td><td style=\"text-align: right;\">  nan</td><td style=\"text-align: right;\">  nan</td><td style=\"text-align: right;\">    0</td><td>NA   </td><td style=\"text-align: right;\">    0</td><td style=\"text-align: right;\">  nan</td><td style=\"text-align: right;\">  nan</td><td style=\"text-align: right;\">  nan</td><td style=\"text-align: right;\">  nan</td><td style=\"text-align: right;\">  nan</td><td>YES  </td><td>YES  </td></tr>\n",
       "<tr><td style=\"text-align: right;\">1987</td><td style=\"text-align: right;\">  10</td><td style=\"text-align: right;\">  18</td><td style=\"text-align: right;\">   7</td><td style=\"text-align: right;\"> 729</td><td style=\"text-align: right;\"> 730</td><td style=\"text-align: right;\"> 847</td><td style=\"text-align: right;\"> 849</td><td>PS  </td><td style=\"text-align: right;\"> 1451</td><td>NA   </td><td style=\"text-align: right;\">   78</td><td style=\"text-align: right;\">   79</td><td style=\"text-align: right;\">  nan</td><td style=\"text-align: right;\">   -2</td><td style=\"text-align: right;\">   -1</td><td>SAN  </td><td>SFO  </td><td style=\"text-align: right;\">  447</td><td style=\"text-align: right;\">  nan</td><td style=\"text-align: right;\">  nan</td><td style=\"text-align: right;\">    0</td><td>NA   </td><td style=\"text-align: right;\">    0</td><td style=\"text-align: right;\">  nan</td><td style=\"text-align: right;\">  nan</td><td style=\"text-align: right;\">  nan</td><td style=\"text-align: right;\">  nan</td><td style=\"text-align: right;\">  nan</td><td>NO   </td><td>NO   </td></tr>\n",
       "<tr><td style=\"text-align: right;\">1987</td><td style=\"text-align: right;\">  10</td><td style=\"text-align: right;\">  19</td><td style=\"text-align: right;\">   1</td><td style=\"text-align: right;\"> 749</td><td style=\"text-align: right;\"> 730</td><td style=\"text-align: right;\"> 922</td><td style=\"text-align: right;\"> 849</td><td>PS  </td><td style=\"text-align: right;\"> 1451</td><td>NA   </td><td style=\"text-align: right;\">   93</td><td style=\"text-align: right;\">   79</td><td style=\"text-align: right;\">  nan</td><td style=\"text-align: right;\">   33</td><td style=\"text-align: right;\">   19</td><td>SAN  </td><td>SFO  </td><td style=\"text-align: right;\">  447</td><td style=\"text-align: right;\">  nan</td><td style=\"text-align: right;\">  nan</td><td style=\"text-align: right;\">    0</td><td>NA   </td><td style=\"text-align: right;\">    0</td><td style=\"text-align: right;\">  nan</td><td style=\"text-align: right;\">  nan</td><td style=\"text-align: right;\">  nan</td><td style=\"text-align: right;\">  nan</td><td style=\"text-align: right;\">  nan</td><td>YES  </td><td>YES  </td></tr>\n",
       "<tr><td style=\"text-align: right;\">1987</td><td style=\"text-align: right;\">  10</td><td style=\"text-align: right;\">  21</td><td style=\"text-align: right;\">   3</td><td style=\"text-align: right;\"> 728</td><td style=\"text-align: right;\"> 730</td><td style=\"text-align: right;\"> 848</td><td style=\"text-align: right;\"> 849</td><td>PS  </td><td style=\"text-align: right;\"> 1451</td><td>NA   </td><td style=\"text-align: right;\">   80</td><td style=\"text-align: right;\">   79</td><td style=\"text-align: right;\">  nan</td><td style=\"text-align: right;\">   -1</td><td style=\"text-align: right;\">   -2</td><td>SAN  </td><td>SFO  </td><td style=\"text-align: right;\">  447</td><td style=\"text-align: right;\">  nan</td><td style=\"text-align: right;\">  nan</td><td style=\"text-align: right;\">    0</td><td>NA   </td><td style=\"text-align: right;\">    0</td><td style=\"text-align: right;\">  nan</td><td style=\"text-align: right;\">  nan</td><td style=\"text-align: right;\">  nan</td><td style=\"text-align: right;\">  nan</td><td style=\"text-align: right;\">  nan</td><td>NO   </td><td>NO   </td></tr>\n",
       "<tr><td style=\"text-align: right;\">1987</td><td style=\"text-align: right;\">  10</td><td style=\"text-align: right;\">  22</td><td style=\"text-align: right;\">   4</td><td style=\"text-align: right;\"> 728</td><td style=\"text-align: right;\"> 730</td><td style=\"text-align: right;\"> 852</td><td style=\"text-align: right;\"> 849</td><td>PS  </td><td style=\"text-align: right;\"> 1451</td><td>NA   </td><td style=\"text-align: right;\">   84</td><td style=\"text-align: right;\">   79</td><td style=\"text-align: right;\">  nan</td><td style=\"text-align: right;\">    3</td><td style=\"text-align: right;\">   -2</td><td>SAN  </td><td>SFO  </td><td style=\"text-align: right;\">  447</td><td style=\"text-align: right;\">  nan</td><td style=\"text-align: right;\">  nan</td><td style=\"text-align: right;\">    0</td><td>NA   </td><td style=\"text-align: right;\">    0</td><td style=\"text-align: right;\">  nan</td><td style=\"text-align: right;\">  nan</td><td style=\"text-align: right;\">  nan</td><td style=\"text-align: right;\">  nan</td><td style=\"text-align: right;\">  nan</td><td>YES  </td><td>NO   </td></tr>\n",
       "<tr><td style=\"text-align: right;\">1987</td><td style=\"text-align: right;\">  10</td><td style=\"text-align: right;\">  23</td><td style=\"text-align: right;\">   5</td><td style=\"text-align: right;\"> 731</td><td style=\"text-align: right;\"> 730</td><td style=\"text-align: right;\"> 902</td><td style=\"text-align: right;\"> 849</td><td>PS  </td><td style=\"text-align: right;\"> 1451</td><td>NA   </td><td style=\"text-align: right;\">   91</td><td style=\"text-align: right;\">   79</td><td style=\"text-align: right;\">  nan</td><td style=\"text-align: right;\">   13</td><td style=\"text-align: right;\">    1</td><td>SAN  </td><td>SFO  </td><td style=\"text-align: right;\">  447</td><td style=\"text-align: right;\">  nan</td><td style=\"text-align: right;\">  nan</td><td style=\"text-align: right;\">    0</td><td>NA   </td><td style=\"text-align: right;\">    0</td><td style=\"text-align: right;\">  nan</td><td style=\"text-align: right;\">  nan</td><td style=\"text-align: right;\">  nan</td><td style=\"text-align: right;\">  nan</td><td style=\"text-align: right;\">  nan</td><td>YES  </td><td>YES  </td></tr>\n",
       "<tr><td style=\"text-align: right;\">1987</td><td style=\"text-align: right;\">  10</td><td style=\"text-align: right;\">  24</td><td style=\"text-align: right;\">   6</td><td style=\"text-align: right;\"> 744</td><td style=\"text-align: right;\"> 730</td><td style=\"text-align: right;\"> 908</td><td style=\"text-align: right;\"> 849</td><td>PS  </td><td style=\"text-align: right;\"> 1451</td><td>NA   </td><td style=\"text-align: right;\">   84</td><td style=\"text-align: right;\">   79</td><td style=\"text-align: right;\">  nan</td><td style=\"text-align: right;\">   19</td><td style=\"text-align: right;\">   14</td><td>SAN  </td><td>SFO  </td><td style=\"text-align: right;\">  447</td><td style=\"text-align: right;\">  nan</td><td style=\"text-align: right;\">  nan</td><td style=\"text-align: right;\">    0</td><td>NA   </td><td style=\"text-align: right;\">    0</td><td style=\"text-align: right;\">  nan</td><td style=\"text-align: right;\">  nan</td><td style=\"text-align: right;\">  nan</td><td style=\"text-align: right;\">  nan</td><td style=\"text-align: right;\">  nan</td><td>YES  </td><td>YES  </td></tr>\n",
       "<tr><td style=\"text-align: right;\">1987</td><td style=\"text-align: right;\">  10</td><td style=\"text-align: right;\">  25</td><td style=\"text-align: right;\">   7</td><td style=\"text-align: right;\"> 729</td><td style=\"text-align: right;\"> 730</td><td style=\"text-align: right;\"> 851</td><td style=\"text-align: right;\"> 849</td><td>PS  </td><td style=\"text-align: right;\"> 1451</td><td>NA   </td><td style=\"text-align: right;\">   82</td><td style=\"text-align: right;\">   79</td><td style=\"text-align: right;\">  nan</td><td style=\"text-align: right;\">    2</td><td style=\"text-align: right;\">   -1</td><td>SAN  </td><td>SFO  </td><td style=\"text-align: right;\">  447</td><td style=\"text-align: right;\">  nan</td><td style=\"text-align: right;\">  nan</td><td style=\"text-align: right;\">    0</td><td>NA   </td><td style=\"text-align: right;\">    0</td><td style=\"text-align: right;\">  nan</td><td style=\"text-align: right;\">  nan</td><td style=\"text-align: right;\">  nan</td><td style=\"text-align: right;\">  nan</td><td style=\"text-align: right;\">  nan</td><td>YES  </td><td>NO   </td></tr>\n",
       "</tbody>\n",
       "</table>"
      ]
     },
     "metadata": {},
     "output_type": "display_data"
    },
    {
     "data": {
      "text/plain": []
     },
     "execution_count": 11,
     "metadata": {},
     "output_type": "execute_result"
    }
   ],
   "source": [
    "airline_df"
   ]
  },
  {
   "cell_type": "code",
   "execution_count": 12,
   "metadata": {},
   "outputs": [
    {
     "data": {
      "text/plain": [
       "(43978, 31)"
      ]
     },
     "execution_count": 12,
     "metadata": {},
     "output_type": "execute_result"
    }
   ],
   "source": [
    "airline_df.shape"
   ]
  },
  {
   "cell_type": "code",
   "execution_count": 13,
   "metadata": {},
   "outputs": [
    {
     "name": "stdout",
     "output_type": "stream",
     "text": [
      "Rows:43978\n",
      "Cols:31\n",
      "\n",
      "\n"
     ]
    },
    {
     "data": {
      "text/html": [
       "<table>\n",
       "<thead>\n",
       "<tr><th>       </th><th>C1                </th><th>C2                </th><th>C3                </th><th>C4                </th><th>C5                </th><th>C6                </th><th>C7                </th><th>C8                </th><th>C9  </th><th>C10              </th><th>C11  </th><th>C12               </th><th>C13               </th><th>C14               </th><th>C15              </th><th>C16               </th><th>C17  </th><th>C18  </th><th>C19              </th><th>C20              </th><th>C21               </th><th>C22                 </th><th>C23  </th><th>C24                  </th><th>C25               </th><th>C26                </th><th>C27               </th><th>C28                 </th><th>C29               </th><th>C30  </th><th>C31  </th></tr>\n",
       "</thead>\n",
       "<tbody>\n",
       "<tr><td>type   </td><td>int               </td><td>int               </td><td>int               </td><td>int               </td><td>int               </td><td>int               </td><td>int               </td><td>int               </td><td>enum</td><td>int              </td><td>enum </td><td>int               </td><td>int               </td><td>int               </td><td>int              </td><td>int               </td><td>enum </td><td>enum </td><td>int              </td><td>int              </td><td>int               </td><td>int                 </td><td>enum </td><td>int                  </td><td>int               </td><td>int                </td><td>int               </td><td>int                 </td><td>int               </td><td>enum </td><td>enum </td></tr>\n",
       "<tr><td>mins   </td><td>1987.0            </td><td>1.0               </td><td>1.0               </td><td>1.0               </td><td>1.0               </td><td>0.0               </td><td>1.0               </td><td>0.0               </td><td>    </td><td>1.0              </td><td>     </td><td>16.0              </td><td>17.0              </td><td>14.0              </td><td>-63.0            </td><td>-16.0             </td><td>     </td><td>     </td><td>11.0             </td><td>0.0              </td><td>0.0               </td><td>0.0                 </td><td>     </td><td>0.0                  </td><td>0.0               </td><td>0.0                </td><td>0.0               </td><td>0.0                 </td><td>0.0               </td><td>     </td><td>     </td></tr>\n",
       "<tr><td>mean   </td><td>1997.5000000000075</td><td>1.4090909090909112</td><td>14.601073263904548</td><td>3.8206148528809805</td><td>1345.8466613820847</td><td>1313.2228614307226</td><td>1504.6341303788765</td><td>1485.2891673109298</td><td>    </td><td>818.8429896766559</td><td>     </td><td>124.81452913540394</td><td>125.02156260661945</td><td>114.31611109078234</td><td>9.3171119369843  </td><td>10.007390655600073</td><td>     </td><td>     </td><td>730.1821905650547</td><td>5.381368059530591</td><td>14.168634184732051</td><td>0.024694165264450407</td><td>     </td><td>0.0024785119832643593</td><td>4.047800291055641 </td><td>0.28937646927124167</td><td>4.8550319041755285</td><td>0.017015560282100085</td><td>7.620060450016797 </td><td>     </td><td>     </td></tr>\n",
       "<tr><td>maxs   </td><td>2008.0            </td><td>10.0              </td><td>31.0              </td><td>7.0               </td><td>2400.0            </td><td>2359.0            </td><td>2400.0            </td><td>2359.0            </td><td>    </td><td>3949.0           </td><td>     </td><td>475.0             </td><td>437.0             </td><td>402.0             </td><td>475.0            </td><td>473.0             </td><td>     </td><td>     </td><td>3365.0           </td><td>128.0            </td><td>254.0             </td><td>1.0                 </td><td>     </td><td>1.0                  </td><td>369.0             </td><td>201.0              </td><td>323.0             </td><td>14.0                </td><td>373.0             </td><td>     </td><td>     </td></tr>\n",
       "<tr><td>sigma  </td><td>6.344360901707888 </td><td>1.8747113713439594</td><td>9.175790425861416 </td><td>1.9050131191329003</td><td>465.34089912423144</td><td>476.25113999260054</td><td>484.3474879035155 </td><td>492.75043412270236</td><td>    </td><td>777.4043691636355</td><td>     </td><td>73.97444166059002 </td><td>73.40159463000958 </td><td>69.6363295150612  </td><td>29.84022196241487</td><td>26.438809042916432</td><td>     </td><td>     </td><td>578.4380082304231</td><td>4.201979939864827</td><td>9.9050857472043   </td><td>0.15519314135784237 </td><td>     </td><td>0.049723487218862286 </td><td>16.205729904484198</td><td>4.416779898734125  </td><td>18.619776221475668</td><td>0.40394018210151184 </td><td>23.487565874106224</td><td>     </td><td>     </td></tr>\n",
       "<tr><td>zeros  </td><td>0                 </td><td>0                 </td><td>0                 </td><td>0                 </td><td>0                 </td><td>569               </td><td>0                 </td><td>569               </td><td>    </td><td>0                </td><td>     </td><td>0                 </td><td>0                 </td><td>0                 </td><td>1514             </td><td>6393              </td><td>     </td><td>     </td><td>0                </td><td>623              </td><td>557               </td><td>42892               </td><td>     </td><td>43869                </td><td>7344              </td><td>8840               </td><td>7388              </td><td>8914                </td><td>7140              </td><td>     </td><td>     </td></tr>\n",
       "<tr><td>missing</td><td>0                 </td><td>0                 </td><td>0                 </td><td>0                 </td><td>1086              </td><td>0                 </td><td>1195              </td><td>0                 </td><td>0   </td><td>0                </td><td>32   </td><td>1195              </td><td>13                </td><td>16649             </td><td>1195             </td><td>1086              </td><td>0    </td><td>0    </td><td>35               </td><td>16026            </td><td>16024             </td><td>0                   </td><td>9774 </td><td>0                    </td><td>35045             </td><td>35045              </td><td>35045             </td><td>35045               </td><td>35045             </td><td>0    </td><td>0    </td></tr>\n",
       "<tr><td>0      </td><td>1987.0            </td><td>10.0              </td><td>14.0              </td><td>3.0               </td><td>741.0             </td><td>730.0             </td><td>912.0             </td><td>849.0             </td><td>PS  </td><td>1451.0           </td><td>NA   </td><td>91.0              </td><td>79.0              </td><td>nan               </td><td>23.0             </td><td>11.0              </td><td>SAN  </td><td>SFO  </td><td>447.0            </td><td>nan              </td><td>nan               </td><td>0.0                 </td><td>NA   </td><td>0.0                  </td><td>nan               </td><td>nan                </td><td>nan               </td><td>nan                 </td><td>nan               </td><td>YES  </td><td>YES  </td></tr>\n",
       "<tr><td>1      </td><td>1987.0            </td><td>10.0              </td><td>15.0              </td><td>4.0               </td><td>729.0             </td><td>730.0             </td><td>903.0             </td><td>849.0             </td><td>PS  </td><td>1451.0           </td><td>NA   </td><td>94.0              </td><td>79.0              </td><td>nan               </td><td>14.0             </td><td>-1.0              </td><td>SAN  </td><td>SFO  </td><td>447.0            </td><td>nan              </td><td>nan               </td><td>0.0                 </td><td>NA   </td><td>0.0                  </td><td>nan               </td><td>nan                </td><td>nan               </td><td>nan                 </td><td>nan               </td><td>YES  </td><td>NO   </td></tr>\n",
       "<tr><td>2      </td><td>1987.0            </td><td>10.0              </td><td>17.0              </td><td>6.0               </td><td>741.0             </td><td>730.0             </td><td>918.0             </td><td>849.0             </td><td>PS  </td><td>1451.0           </td><td>NA   </td><td>97.0              </td><td>79.0              </td><td>nan               </td><td>29.0             </td><td>11.0              </td><td>SAN  </td><td>SFO  </td><td>447.0            </td><td>nan              </td><td>nan               </td><td>0.0                 </td><td>NA   </td><td>0.0                  </td><td>nan               </td><td>nan                </td><td>nan               </td><td>nan                 </td><td>nan               </td><td>YES  </td><td>YES  </td></tr>\n",
       "<tr><td>3      </td><td>1987.0            </td><td>10.0              </td><td>18.0              </td><td>7.0               </td><td>729.0             </td><td>730.0             </td><td>847.0             </td><td>849.0             </td><td>PS  </td><td>1451.0           </td><td>NA   </td><td>78.0              </td><td>79.0              </td><td>nan               </td><td>-2.0             </td><td>-1.0              </td><td>SAN  </td><td>SFO  </td><td>447.0            </td><td>nan              </td><td>nan               </td><td>0.0                 </td><td>NA   </td><td>0.0                  </td><td>nan               </td><td>nan                </td><td>nan               </td><td>nan                 </td><td>nan               </td><td>NO   </td><td>NO   </td></tr>\n",
       "<tr><td>4      </td><td>1987.0            </td><td>10.0              </td><td>19.0              </td><td>1.0               </td><td>749.0             </td><td>730.0             </td><td>922.0             </td><td>849.0             </td><td>PS  </td><td>1451.0           </td><td>NA   </td><td>93.0              </td><td>79.0              </td><td>nan               </td><td>33.0             </td><td>19.0              </td><td>SAN  </td><td>SFO  </td><td>447.0            </td><td>nan              </td><td>nan               </td><td>0.0                 </td><td>NA   </td><td>0.0                  </td><td>nan               </td><td>nan                </td><td>nan               </td><td>nan                 </td><td>nan               </td><td>YES  </td><td>YES  </td></tr>\n",
       "<tr><td>5      </td><td>1987.0            </td><td>10.0              </td><td>21.0              </td><td>3.0               </td><td>728.0             </td><td>730.0             </td><td>848.0             </td><td>849.0             </td><td>PS  </td><td>1451.0           </td><td>NA   </td><td>80.0              </td><td>79.0              </td><td>nan               </td><td>-1.0             </td><td>-2.0              </td><td>SAN  </td><td>SFO  </td><td>447.0            </td><td>nan              </td><td>nan               </td><td>0.0                 </td><td>NA   </td><td>0.0                  </td><td>nan               </td><td>nan                </td><td>nan               </td><td>nan                 </td><td>nan               </td><td>NO   </td><td>NO   </td></tr>\n",
       "<tr><td>6      </td><td>1987.0            </td><td>10.0              </td><td>22.0              </td><td>4.0               </td><td>728.0             </td><td>730.0             </td><td>852.0             </td><td>849.0             </td><td>PS  </td><td>1451.0           </td><td>NA   </td><td>84.0              </td><td>79.0              </td><td>nan               </td><td>3.0              </td><td>-2.0              </td><td>SAN  </td><td>SFO  </td><td>447.0            </td><td>nan              </td><td>nan               </td><td>0.0                 </td><td>NA   </td><td>0.0                  </td><td>nan               </td><td>nan                </td><td>nan               </td><td>nan                 </td><td>nan               </td><td>YES  </td><td>NO   </td></tr>\n",
       "<tr><td>7      </td><td>1987.0            </td><td>10.0              </td><td>23.0              </td><td>5.0               </td><td>731.0             </td><td>730.0             </td><td>902.0             </td><td>849.0             </td><td>PS  </td><td>1451.0           </td><td>NA   </td><td>91.0              </td><td>79.0              </td><td>nan               </td><td>13.0             </td><td>1.0               </td><td>SAN  </td><td>SFO  </td><td>447.0            </td><td>nan              </td><td>nan               </td><td>0.0                 </td><td>NA   </td><td>0.0                  </td><td>nan               </td><td>nan                </td><td>nan               </td><td>nan                 </td><td>nan               </td><td>YES  </td><td>YES  </td></tr>\n",
       "<tr><td>8      </td><td>1987.0            </td><td>10.0              </td><td>24.0              </td><td>6.0               </td><td>744.0             </td><td>730.0             </td><td>908.0             </td><td>849.0             </td><td>PS  </td><td>1451.0           </td><td>NA   </td><td>84.0              </td><td>79.0              </td><td>nan               </td><td>19.0             </td><td>14.0              </td><td>SAN  </td><td>SFO  </td><td>447.0            </td><td>nan              </td><td>nan               </td><td>0.0                 </td><td>NA   </td><td>0.0                  </td><td>nan               </td><td>nan                </td><td>nan               </td><td>nan                 </td><td>nan               </td><td>YES  </td><td>YES  </td></tr>\n",
       "<tr><td>9      </td><td>1987.0            </td><td>10.0              </td><td>25.0              </td><td>7.0               </td><td>729.0             </td><td>730.0             </td><td>851.0             </td><td>849.0             </td><td>PS  </td><td>1451.0           </td><td>NA   </td><td>82.0              </td><td>79.0              </td><td>nan               </td><td>2.0              </td><td>-1.0              </td><td>SAN  </td><td>SFO  </td><td>447.0            </td><td>nan              </td><td>nan               </td><td>0.0                 </td><td>NA   </td><td>0.0                  </td><td>nan               </td><td>nan                </td><td>nan               </td><td>nan                 </td><td>nan               </td><td>YES  </td><td>NO   </td></tr>\n",
       "</tbody>\n",
       "</table>"
      ]
     },
     "metadata": {},
     "output_type": "display_data"
    }
   ],
   "source": [
    "airline_df.describe()"
   ]
  },
  {
   "cell_type": "markdown",
   "metadata": {},
   "source": [
    "# Data Frames in H2O FLOW\n",
    "Add this point if you will see H2O data frames list and you will see the following 2 frames\n",
    "\n",
    "Command: getFrames\n",
    "\n",
    "[Frame Name        Rows  Cols  Size]\n",
    "\n",
    "allyears2k.hex    43978\t31\t2MB\n",
    "\t\t\n",
    "prostate.hex      380\t9\t5KB"
   ]
  },
  {
   "cell_type": "markdown",
   "metadata": {},
   "source": [
    "#### Now we are loading titanic data from the local file to H2O"
   ]
  },
  {
   "cell_type": "code",
   "execution_count": 16,
   "metadata": {
    "collapsed": true
   },
   "outputs": [],
   "source": [
    "titanic = \"/Users/avkashchauhan/src/github.com/h2oai/h2o-3/smalldata/gbm_test/titanic.csv\""
   ]
  },
  {
   "cell_type": "code",
   "execution_count": 17,
   "metadata": {},
   "outputs": [
    {
     "name": "stdout",
     "output_type": "stream",
     "text": [
      "Parse progress: |█████████████████████████████████████████████████████████| 100%\n"
     ]
    }
   ],
   "source": [
    "titanic_df = h2o.upload_file(titanic)"
   ]
  },
  {
   "cell_type": "code",
   "execution_count": 19,
   "metadata": {},
   "outputs": [
    {
     "data": {
      "text/html": [
       "<table>\n",
       "<thead>\n",
       "<tr><th style=\"text-align: right;\">  pclass</th><th style=\"text-align: right;\">  survived</th><th>name                                           </th><th>sex   </th><th style=\"text-align: right;\">    age</th><th style=\"text-align: right;\">  sibsp</th><th style=\"text-align: right;\">  parch</th><th style=\"text-align: right;\">  ticket</th><th style=\"text-align: right;\">    fare</th><th>cabin  </th><th>embarked  </th><th style=\"text-align: right;\">  boat</th><th style=\"text-align: right;\">  body</th><th>home.dest                      </th></tr>\n",
       "</thead>\n",
       "<tbody>\n",
       "<tr><td style=\"text-align: right;\">       1</td><td style=\"text-align: right;\">         1</td><td>Allen  Miss. Elisabeth Walton                  </td><td>female</td><td style=\"text-align: right;\">29     </td><td style=\"text-align: right;\">      0</td><td style=\"text-align: right;\">      0</td><td style=\"text-align: right;\">   24160</td><td style=\"text-align: right;\">211.338 </td><td>B5     </td><td>S         </td><td style=\"text-align: right;\">     2</td><td style=\"text-align: right;\">   nan</td><td>St Louis  MO                   </td></tr>\n",
       "<tr><td style=\"text-align: right;\">       1</td><td style=\"text-align: right;\">         1</td><td>Allison  Master. Hudson Trevor                 </td><td>male  </td><td style=\"text-align: right;\"> 0.9167</td><td style=\"text-align: right;\">      1</td><td style=\"text-align: right;\">      2</td><td style=\"text-align: right;\">  113781</td><td style=\"text-align: right;\">151.55  </td><td>C22 C26</td><td>S         </td><td style=\"text-align: right;\">    11</td><td style=\"text-align: right;\">   nan</td><td>Montreal  PQ / Chesterville  ON</td></tr>\n",
       "<tr><td style=\"text-align: right;\">       1</td><td style=\"text-align: right;\">         0</td><td>Allison  Miss. Helen Loraine                   </td><td>female</td><td style=\"text-align: right;\"> 2     </td><td style=\"text-align: right;\">      1</td><td style=\"text-align: right;\">      2</td><td style=\"text-align: right;\">  113781</td><td style=\"text-align: right;\">151.55  </td><td>C22 C26</td><td>S         </td><td style=\"text-align: right;\">   nan</td><td style=\"text-align: right;\">   nan</td><td>Montreal  PQ / Chesterville  ON</td></tr>\n",
       "<tr><td style=\"text-align: right;\">       1</td><td style=\"text-align: right;\">         0</td><td>Allison  Mr. Hudson Joshua Creighton           </td><td>male  </td><td style=\"text-align: right;\">30     </td><td style=\"text-align: right;\">      1</td><td style=\"text-align: right;\">      2</td><td style=\"text-align: right;\">  113781</td><td style=\"text-align: right;\">151.55  </td><td>C22 C26</td><td>S         </td><td style=\"text-align: right;\">   nan</td><td style=\"text-align: right;\">   135</td><td>Montreal  PQ / Chesterville  ON</td></tr>\n",
       "<tr><td style=\"text-align: right;\">       1</td><td style=\"text-align: right;\">         0</td><td>Allison  Mrs. Hudson J C (Bessie Waldo Daniels)</td><td>female</td><td style=\"text-align: right;\">25     </td><td style=\"text-align: right;\">      1</td><td style=\"text-align: right;\">      2</td><td style=\"text-align: right;\">  113781</td><td style=\"text-align: right;\">151.55  </td><td>C22 C26</td><td>S         </td><td style=\"text-align: right;\">   nan</td><td style=\"text-align: right;\">   nan</td><td>Montreal  PQ / Chesterville  ON</td></tr>\n",
       "<tr><td style=\"text-align: right;\">       1</td><td style=\"text-align: right;\">         1</td><td>Anderson  Mr. Harry                            </td><td>male  </td><td style=\"text-align: right;\">48     </td><td style=\"text-align: right;\">      0</td><td style=\"text-align: right;\">      0</td><td style=\"text-align: right;\">   19952</td><td style=\"text-align: right;\"> 26.55  </td><td>E12    </td><td>S         </td><td style=\"text-align: right;\">     3</td><td style=\"text-align: right;\">   nan</td><td>New York  NY                   </td></tr>\n",
       "<tr><td style=\"text-align: right;\">       1</td><td style=\"text-align: right;\">         1</td><td>Andrews  Miss. Kornelia Theodosia              </td><td>female</td><td style=\"text-align: right;\">63     </td><td style=\"text-align: right;\">      1</td><td style=\"text-align: right;\">      0</td><td style=\"text-align: right;\">   13502</td><td style=\"text-align: right;\"> 77.9583</td><td>D7     </td><td>S         </td><td style=\"text-align: right;\">    10</td><td style=\"text-align: right;\">   nan</td><td>Hudson  NY                     </td></tr>\n",
       "<tr><td style=\"text-align: right;\">       1</td><td style=\"text-align: right;\">         0</td><td>Andrews  Mr. Thomas Jr                         </td><td>male  </td><td style=\"text-align: right;\">39     </td><td style=\"text-align: right;\">      0</td><td style=\"text-align: right;\">      0</td><td style=\"text-align: right;\">  112050</td><td style=\"text-align: right;\">  0     </td><td>A36    </td><td>S         </td><td style=\"text-align: right;\">   nan</td><td style=\"text-align: right;\">   nan</td><td>Belfast  NI                    </td></tr>\n",
       "<tr><td style=\"text-align: right;\">       1</td><td style=\"text-align: right;\">         1</td><td>Appleton  Mrs. Edward Dale (Charlotte Lamson)  </td><td>female</td><td style=\"text-align: right;\">53     </td><td style=\"text-align: right;\">      2</td><td style=\"text-align: right;\">      0</td><td style=\"text-align: right;\">   11769</td><td style=\"text-align: right;\"> 51.4792</td><td>C101   </td><td>S         </td><td style=\"text-align: right;\">   nan</td><td style=\"text-align: right;\">   nan</td><td>Bayside  Queens  NY            </td></tr>\n",
       "<tr><td style=\"text-align: right;\">       1</td><td style=\"text-align: right;\">         0</td><td>Artagaveytia  Mr. Ramon                        </td><td>male  </td><td style=\"text-align: right;\">71     </td><td style=\"text-align: right;\">      0</td><td style=\"text-align: right;\">      0</td><td style=\"text-align: right;\">     nan</td><td style=\"text-align: right;\"> 49.5042</td><td>       </td><td>C         </td><td style=\"text-align: right;\">   nan</td><td style=\"text-align: right;\">    22</td><td>Montevideo  Uruguay            </td></tr>\n",
       "</tbody>\n",
       "</table>"
      ]
     },
     "metadata": {},
     "output_type": "display_data"
    },
    {
     "data": {
      "text/plain": []
     },
     "execution_count": 19,
     "metadata": {},
     "output_type": "execute_result"
    }
   ],
   "source": [
    "titanic_df"
   ]
  },
  {
   "cell_type": "code",
   "execution_count": 20,
   "metadata": {},
   "outputs": [
    {
     "data": {
      "text/html": [
       "<table>\n",
       "<thead>\n",
       "<tr><th style=\"text-align: right;\">  pclass</th><th style=\"text-align: right;\">  survived</th><th>name                                           </th><th>sex   </th><th style=\"text-align: right;\">    age</th><th style=\"text-align: right;\">  sibsp</th><th style=\"text-align: right;\">  parch</th><th style=\"text-align: right;\">  ticket</th><th style=\"text-align: right;\">    fare</th><th>cabin  </th><th>embarked  </th><th style=\"text-align: right;\">  boat</th><th style=\"text-align: right;\">  body</th><th>home.dest                      </th></tr>\n",
       "</thead>\n",
       "<tbody>\n",
       "<tr><td style=\"text-align: right;\">       1</td><td style=\"text-align: right;\">         1</td><td>Allen  Miss. Elisabeth Walton                  </td><td>female</td><td style=\"text-align: right;\">29     </td><td style=\"text-align: right;\">      0</td><td style=\"text-align: right;\">      0</td><td style=\"text-align: right;\">   24160</td><td style=\"text-align: right;\">211.338 </td><td>B5     </td><td>S         </td><td style=\"text-align: right;\">     2</td><td style=\"text-align: right;\">   nan</td><td>St Louis  MO                   </td></tr>\n",
       "<tr><td style=\"text-align: right;\">       1</td><td style=\"text-align: right;\">         1</td><td>Allison  Master. Hudson Trevor                 </td><td>male  </td><td style=\"text-align: right;\"> 0.9167</td><td style=\"text-align: right;\">      1</td><td style=\"text-align: right;\">      2</td><td style=\"text-align: right;\">  113781</td><td style=\"text-align: right;\">151.55  </td><td>C22 C26</td><td>S         </td><td style=\"text-align: right;\">    11</td><td style=\"text-align: right;\">   nan</td><td>Montreal  PQ / Chesterville  ON</td></tr>\n",
       "<tr><td style=\"text-align: right;\">       1</td><td style=\"text-align: right;\">         0</td><td>Allison  Miss. Helen Loraine                   </td><td>female</td><td style=\"text-align: right;\"> 2     </td><td style=\"text-align: right;\">      1</td><td style=\"text-align: right;\">      2</td><td style=\"text-align: right;\">  113781</td><td style=\"text-align: right;\">151.55  </td><td>C22 C26</td><td>S         </td><td style=\"text-align: right;\">   nan</td><td style=\"text-align: right;\">   nan</td><td>Montreal  PQ / Chesterville  ON</td></tr>\n",
       "<tr><td style=\"text-align: right;\">       1</td><td style=\"text-align: right;\">         0</td><td>Allison  Mr. Hudson Joshua Creighton           </td><td>male  </td><td style=\"text-align: right;\">30     </td><td style=\"text-align: right;\">      1</td><td style=\"text-align: right;\">      2</td><td style=\"text-align: right;\">  113781</td><td style=\"text-align: right;\">151.55  </td><td>C22 C26</td><td>S         </td><td style=\"text-align: right;\">   nan</td><td style=\"text-align: right;\">   135</td><td>Montreal  PQ / Chesterville  ON</td></tr>\n",
       "<tr><td style=\"text-align: right;\">       1</td><td style=\"text-align: right;\">         0</td><td>Allison  Mrs. Hudson J C (Bessie Waldo Daniels)</td><td>female</td><td style=\"text-align: right;\">25     </td><td style=\"text-align: right;\">      1</td><td style=\"text-align: right;\">      2</td><td style=\"text-align: right;\">  113781</td><td style=\"text-align: right;\">151.55  </td><td>C22 C26</td><td>S         </td><td style=\"text-align: right;\">   nan</td><td style=\"text-align: right;\">   nan</td><td>Montreal  PQ / Chesterville  ON</td></tr>\n",
       "<tr><td style=\"text-align: right;\">       1</td><td style=\"text-align: right;\">         1</td><td>Anderson  Mr. Harry                            </td><td>male  </td><td style=\"text-align: right;\">48     </td><td style=\"text-align: right;\">      0</td><td style=\"text-align: right;\">      0</td><td style=\"text-align: right;\">   19952</td><td style=\"text-align: right;\"> 26.55  </td><td>E12    </td><td>S         </td><td style=\"text-align: right;\">     3</td><td style=\"text-align: right;\">   nan</td><td>New York  NY                   </td></tr>\n",
       "<tr><td style=\"text-align: right;\">       1</td><td style=\"text-align: right;\">         1</td><td>Andrews  Miss. Kornelia Theodosia              </td><td>female</td><td style=\"text-align: right;\">63     </td><td style=\"text-align: right;\">      1</td><td style=\"text-align: right;\">      0</td><td style=\"text-align: right;\">   13502</td><td style=\"text-align: right;\"> 77.9583</td><td>D7     </td><td>S         </td><td style=\"text-align: right;\">    10</td><td style=\"text-align: right;\">   nan</td><td>Hudson  NY                     </td></tr>\n",
       "<tr><td style=\"text-align: right;\">       1</td><td style=\"text-align: right;\">         0</td><td>Andrews  Mr. Thomas Jr                         </td><td>male  </td><td style=\"text-align: right;\">39     </td><td style=\"text-align: right;\">      0</td><td style=\"text-align: right;\">      0</td><td style=\"text-align: right;\">  112050</td><td style=\"text-align: right;\">  0     </td><td>A36    </td><td>S         </td><td style=\"text-align: right;\">   nan</td><td style=\"text-align: right;\">   nan</td><td>Belfast  NI                    </td></tr>\n",
       "<tr><td style=\"text-align: right;\">       1</td><td style=\"text-align: right;\">         1</td><td>Appleton  Mrs. Edward Dale (Charlotte Lamson)  </td><td>female</td><td style=\"text-align: right;\">53     </td><td style=\"text-align: right;\">      2</td><td style=\"text-align: right;\">      0</td><td style=\"text-align: right;\">   11769</td><td style=\"text-align: right;\"> 51.4792</td><td>C101   </td><td>S         </td><td style=\"text-align: right;\">   nan</td><td style=\"text-align: right;\">   nan</td><td>Bayside  Queens  NY            </td></tr>\n",
       "<tr><td style=\"text-align: right;\">       1</td><td style=\"text-align: right;\">         0</td><td>Artagaveytia  Mr. Ramon                        </td><td>male  </td><td style=\"text-align: right;\">71     </td><td style=\"text-align: right;\">      0</td><td style=\"text-align: right;\">      0</td><td style=\"text-align: right;\">     nan</td><td style=\"text-align: right;\"> 49.5042</td><td>       </td><td>C         </td><td style=\"text-align: right;\">   nan</td><td style=\"text-align: right;\">    22</td><td>Montevideo  Uruguay            </td></tr>\n",
       "</tbody>\n",
       "</table>"
      ]
     },
     "metadata": {},
     "output_type": "display_data"
    },
    {
     "data": {
      "text/plain": [
       "<bound method H2OFrame.show of >"
      ]
     },
     "execution_count": 20,
     "metadata": {},
     "output_type": "execute_result"
    }
   ],
   "source": [
    "titanic_df.show"
   ]
  },
  {
   "cell_type": "code",
   "execution_count": 21,
   "metadata": {},
   "outputs": [
    {
     "data": {
      "text/html": [
       "<table>\n",
       "<thead>\n",
       "<tr><th style=\"text-align: right;\">  pclass</th><th style=\"text-align: right;\">  survived</th><th>name                                           </th><th>sex   </th><th style=\"text-align: right;\">    age</th><th style=\"text-align: right;\">  sibsp</th><th style=\"text-align: right;\">  parch</th><th style=\"text-align: right;\">  ticket</th><th style=\"text-align: right;\">    fare</th><th>cabin  </th><th>embarked  </th><th style=\"text-align: right;\">  boat</th><th style=\"text-align: right;\">  body</th><th>home.dest                      </th></tr>\n",
       "</thead>\n",
       "<tbody>\n",
       "<tr><td style=\"text-align: right;\">       1</td><td style=\"text-align: right;\">         1</td><td>Allen  Miss. Elisabeth Walton                  </td><td>female</td><td style=\"text-align: right;\">29     </td><td style=\"text-align: right;\">      0</td><td style=\"text-align: right;\">      0</td><td style=\"text-align: right;\">   24160</td><td style=\"text-align: right;\">211.338 </td><td>B5     </td><td>S         </td><td style=\"text-align: right;\">     2</td><td style=\"text-align: right;\">   nan</td><td>St Louis  MO                   </td></tr>\n",
       "<tr><td style=\"text-align: right;\">       1</td><td style=\"text-align: right;\">         1</td><td>Allison  Master. Hudson Trevor                 </td><td>male  </td><td style=\"text-align: right;\"> 0.9167</td><td style=\"text-align: right;\">      1</td><td style=\"text-align: right;\">      2</td><td style=\"text-align: right;\">  113781</td><td style=\"text-align: right;\">151.55  </td><td>C22 C26</td><td>S         </td><td style=\"text-align: right;\">    11</td><td style=\"text-align: right;\">   nan</td><td>Montreal  PQ / Chesterville  ON</td></tr>\n",
       "<tr><td style=\"text-align: right;\">       1</td><td style=\"text-align: right;\">         0</td><td>Allison  Miss. Helen Loraine                   </td><td>female</td><td style=\"text-align: right;\"> 2     </td><td style=\"text-align: right;\">      1</td><td style=\"text-align: right;\">      2</td><td style=\"text-align: right;\">  113781</td><td style=\"text-align: right;\">151.55  </td><td>C22 C26</td><td>S         </td><td style=\"text-align: right;\">   nan</td><td style=\"text-align: right;\">   nan</td><td>Montreal  PQ / Chesterville  ON</td></tr>\n",
       "<tr><td style=\"text-align: right;\">       1</td><td style=\"text-align: right;\">         0</td><td>Allison  Mr. Hudson Joshua Creighton           </td><td>male  </td><td style=\"text-align: right;\">30     </td><td style=\"text-align: right;\">      1</td><td style=\"text-align: right;\">      2</td><td style=\"text-align: right;\">  113781</td><td style=\"text-align: right;\">151.55  </td><td>C22 C26</td><td>S         </td><td style=\"text-align: right;\">   nan</td><td style=\"text-align: right;\">   135</td><td>Montreal  PQ / Chesterville  ON</td></tr>\n",
       "<tr><td style=\"text-align: right;\">       1</td><td style=\"text-align: right;\">         0</td><td>Allison  Mrs. Hudson J C (Bessie Waldo Daniels)</td><td>female</td><td style=\"text-align: right;\">25     </td><td style=\"text-align: right;\">      1</td><td style=\"text-align: right;\">      2</td><td style=\"text-align: right;\">  113781</td><td style=\"text-align: right;\">151.55  </td><td>C22 C26</td><td>S         </td><td style=\"text-align: right;\">   nan</td><td style=\"text-align: right;\">   nan</td><td>Montreal  PQ / Chesterville  ON</td></tr>\n",
       "<tr><td style=\"text-align: right;\">       1</td><td style=\"text-align: right;\">         1</td><td>Anderson  Mr. Harry                            </td><td>male  </td><td style=\"text-align: right;\">48     </td><td style=\"text-align: right;\">      0</td><td style=\"text-align: right;\">      0</td><td style=\"text-align: right;\">   19952</td><td style=\"text-align: right;\"> 26.55  </td><td>E12    </td><td>S         </td><td style=\"text-align: right;\">     3</td><td style=\"text-align: right;\">   nan</td><td>New York  NY                   </td></tr>\n",
       "<tr><td style=\"text-align: right;\">       1</td><td style=\"text-align: right;\">         1</td><td>Andrews  Miss. Kornelia Theodosia              </td><td>female</td><td style=\"text-align: right;\">63     </td><td style=\"text-align: right;\">      1</td><td style=\"text-align: right;\">      0</td><td style=\"text-align: right;\">   13502</td><td style=\"text-align: right;\"> 77.9583</td><td>D7     </td><td>S         </td><td style=\"text-align: right;\">    10</td><td style=\"text-align: right;\">   nan</td><td>Hudson  NY                     </td></tr>\n",
       "<tr><td style=\"text-align: right;\">       1</td><td style=\"text-align: right;\">         0</td><td>Andrews  Mr. Thomas Jr                         </td><td>male  </td><td style=\"text-align: right;\">39     </td><td style=\"text-align: right;\">      0</td><td style=\"text-align: right;\">      0</td><td style=\"text-align: right;\">  112050</td><td style=\"text-align: right;\">  0     </td><td>A36    </td><td>S         </td><td style=\"text-align: right;\">   nan</td><td style=\"text-align: right;\">   nan</td><td>Belfast  NI                    </td></tr>\n",
       "<tr><td style=\"text-align: right;\">       1</td><td style=\"text-align: right;\">         1</td><td>Appleton  Mrs. Edward Dale (Charlotte Lamson)  </td><td>female</td><td style=\"text-align: right;\">53     </td><td style=\"text-align: right;\">      2</td><td style=\"text-align: right;\">      0</td><td style=\"text-align: right;\">   11769</td><td style=\"text-align: right;\"> 51.4792</td><td>C101   </td><td>S         </td><td style=\"text-align: right;\">   nan</td><td style=\"text-align: right;\">   nan</td><td>Bayside  Queens  NY            </td></tr>\n",
       "<tr><td style=\"text-align: right;\">       1</td><td style=\"text-align: right;\">         0</td><td>Artagaveytia  Mr. Ramon                        </td><td>male  </td><td style=\"text-align: right;\">71     </td><td style=\"text-align: right;\">      0</td><td style=\"text-align: right;\">      0</td><td style=\"text-align: right;\">     nan</td><td style=\"text-align: right;\"> 49.5042</td><td>       </td><td>C         </td><td style=\"text-align: right;\">   nan</td><td style=\"text-align: right;\">    22</td><td>Montevideo  Uruguay            </td></tr>\n",
       "</tbody>\n",
       "</table>"
      ]
     },
     "metadata": {},
     "output_type": "display_data"
    },
    {
     "data": {
      "text/plain": []
     },
     "execution_count": 21,
     "metadata": {},
     "output_type": "execute_result"
    }
   ],
   "source": [
    "titanic_df.head()"
   ]
  },
  {
   "cell_type": "code",
   "execution_count": 22,
   "metadata": {},
   "outputs": [
    {
     "data": {
      "text/html": [
       "<table>\n",
       "<thead>\n",
       "<tr><th style=\"text-align: right;\">  pclass</th><th style=\"text-align: right;\">  survived</th><th>name                                   </th><th>sex   </th><th style=\"text-align: right;\">  age</th><th style=\"text-align: right;\">  sibsp</th><th style=\"text-align: right;\">  parch</th><th style=\"text-align: right;\">  ticket</th><th style=\"text-align: right;\">   fare</th><th>cabin  </th><th>embarked  </th><th style=\"text-align: right;\">  boat</th><th style=\"text-align: right;\">  body</th><th>home.dest  </th></tr>\n",
       "</thead>\n",
       "<tbody>\n",
       "<tr><td style=\"text-align: right;\">       3</td><td style=\"text-align: right;\">         0</td><td>Yasbeck  Mr. Antoni                    </td><td>male  </td><td style=\"text-align: right;\"> 27  </td><td style=\"text-align: right;\">      1</td><td style=\"text-align: right;\">      0</td><td style=\"text-align: right;\">    2659</td><td style=\"text-align: right;\">14.4542</td><td>       </td><td>C         </td><td style=\"text-align: right;\">   nan</td><td style=\"text-align: right;\">   nan</td><td>           </td></tr>\n",
       "<tr><td style=\"text-align: right;\">       3</td><td style=\"text-align: right;\">         1</td><td>Yasbeck  Mrs. Antoni (Selini Alexander)</td><td>female</td><td style=\"text-align: right;\"> 15  </td><td style=\"text-align: right;\">      1</td><td style=\"text-align: right;\">      0</td><td style=\"text-align: right;\">    2659</td><td style=\"text-align: right;\">14.4542</td><td>       </td><td>C         </td><td style=\"text-align: right;\">   nan</td><td style=\"text-align: right;\">   nan</td><td>           </td></tr>\n",
       "<tr><td style=\"text-align: right;\">       3</td><td style=\"text-align: right;\">         0</td><td>Youseff  Mr. Gerious                   </td><td>male  </td><td style=\"text-align: right;\"> 45.5</td><td style=\"text-align: right;\">      0</td><td style=\"text-align: right;\">      0</td><td style=\"text-align: right;\">    2628</td><td style=\"text-align: right;\"> 7.225 </td><td>       </td><td>C         </td><td style=\"text-align: right;\">   nan</td><td style=\"text-align: right;\">   312</td><td>           </td></tr>\n",
       "<tr><td style=\"text-align: right;\">       3</td><td style=\"text-align: right;\">         0</td><td>Yousif  Mr. Wazli                      </td><td>male  </td><td style=\"text-align: right;\">nan  </td><td style=\"text-align: right;\">      0</td><td style=\"text-align: right;\">      0</td><td style=\"text-align: right;\">    2647</td><td style=\"text-align: right;\"> 7.225 </td><td>       </td><td>C         </td><td style=\"text-align: right;\">   nan</td><td style=\"text-align: right;\">   nan</td><td>           </td></tr>\n",
       "<tr><td style=\"text-align: right;\">       3</td><td style=\"text-align: right;\">         0</td><td>Yousseff  Mr. Gerious                  </td><td>male  </td><td style=\"text-align: right;\">nan  </td><td style=\"text-align: right;\">      0</td><td style=\"text-align: right;\">      0</td><td style=\"text-align: right;\">    2627</td><td style=\"text-align: right;\">14.4583</td><td>       </td><td>C         </td><td style=\"text-align: right;\">   nan</td><td style=\"text-align: right;\">   nan</td><td>           </td></tr>\n",
       "<tr><td style=\"text-align: right;\">       3</td><td style=\"text-align: right;\">         0</td><td>Zabour  Miss. Hileni                   </td><td>female</td><td style=\"text-align: right;\"> 14.5</td><td style=\"text-align: right;\">      1</td><td style=\"text-align: right;\">      0</td><td style=\"text-align: right;\">    2665</td><td style=\"text-align: right;\">14.4542</td><td>       </td><td>C         </td><td style=\"text-align: right;\">   nan</td><td style=\"text-align: right;\">   328</td><td>           </td></tr>\n",
       "<tr><td style=\"text-align: right;\">       3</td><td style=\"text-align: right;\">         0</td><td>Zabour  Miss. Thamine                  </td><td>female</td><td style=\"text-align: right;\">nan  </td><td style=\"text-align: right;\">      1</td><td style=\"text-align: right;\">      0</td><td style=\"text-align: right;\">    2665</td><td style=\"text-align: right;\">14.4542</td><td>       </td><td>C         </td><td style=\"text-align: right;\">   nan</td><td style=\"text-align: right;\">   nan</td><td>           </td></tr>\n",
       "<tr><td style=\"text-align: right;\">       3</td><td style=\"text-align: right;\">         0</td><td>Zakarian  Mr. Mapriededer              </td><td>male  </td><td style=\"text-align: right;\"> 26.5</td><td style=\"text-align: right;\">      0</td><td style=\"text-align: right;\">      0</td><td style=\"text-align: right;\">    2656</td><td style=\"text-align: right;\"> 7.225 </td><td>       </td><td>C         </td><td style=\"text-align: right;\">   nan</td><td style=\"text-align: right;\">   304</td><td>           </td></tr>\n",
       "<tr><td style=\"text-align: right;\">       3</td><td style=\"text-align: right;\">         0</td><td>Zakarian  Mr. Ortin                    </td><td>male  </td><td style=\"text-align: right;\"> 27  </td><td style=\"text-align: right;\">      0</td><td style=\"text-align: right;\">      0</td><td style=\"text-align: right;\">    2670</td><td style=\"text-align: right;\"> 7.225 </td><td>       </td><td>C         </td><td style=\"text-align: right;\">   nan</td><td style=\"text-align: right;\">   nan</td><td>           </td></tr>\n",
       "<tr><td style=\"text-align: right;\">       3</td><td style=\"text-align: right;\">         0</td><td>Zimmerman  Mr. Leo                     </td><td>male  </td><td style=\"text-align: right;\"> 29  </td><td style=\"text-align: right;\">      0</td><td style=\"text-align: right;\">      0</td><td style=\"text-align: right;\">  315082</td><td style=\"text-align: right;\"> 7.875 </td><td>       </td><td>S         </td><td style=\"text-align: right;\">   nan</td><td style=\"text-align: right;\">   nan</td><td>           </td></tr>\n",
       "</tbody>\n",
       "</table>"
      ]
     },
     "metadata": {},
     "output_type": "display_data"
    },
    {
     "data": {
      "text/plain": []
     },
     "execution_count": 22,
     "metadata": {},
     "output_type": "execute_result"
    }
   ],
   "source": [
    "titanic_df.tail()"
   ]
  },
  {
   "cell_type": "code",
   "execution_count": 23,
   "metadata": {},
   "outputs": [
    {
     "data": {
      "text/plain": [
       "14"
      ]
     },
     "execution_count": 23,
     "metadata": {},
     "output_type": "execute_result"
    }
   ],
   "source": [
    "titanic_df.ncol"
   ]
  },
  {
   "cell_type": "code",
   "execution_count": 24,
   "metadata": {},
   "outputs": [
    {
     "data": {
      "text/plain": [
       "1309"
      ]
     },
     "execution_count": 24,
     "metadata": {},
     "output_type": "execute_result"
    }
   ],
   "source": [
    "titanic_df.nrow"
   ]
  },
  {
   "cell_type": "code",
   "execution_count": 25,
   "metadata": {},
   "outputs": [
    {
     "data": {
      "text/html": [
       "<table>\n",
       "<thead>\n",
       "<tr><th style=\"text-align: right;\">  pclass</th><th style=\"text-align: right;\">  survived</th><th>name                                           </th><th>sex   </th><th style=\"text-align: right;\">    age</th><th style=\"text-align: right;\">  sibsp</th><th style=\"text-align: right;\">  parch</th><th style=\"text-align: right;\">  ticket</th><th style=\"text-align: right;\">    fare</th><th>cabin  </th><th>embarked  </th><th style=\"text-align: right;\">  boat</th><th style=\"text-align: right;\">  body</th><th>home.dest                      </th></tr>\n",
       "</thead>\n",
       "<tbody>\n",
       "<tr><td style=\"text-align: right;\">       1</td><td style=\"text-align: right;\">         1</td><td>Allen  Miss. Elisabeth Walton                  </td><td>female</td><td style=\"text-align: right;\">29     </td><td style=\"text-align: right;\">      0</td><td style=\"text-align: right;\">      0</td><td style=\"text-align: right;\">   24160</td><td style=\"text-align: right;\">211.338 </td><td>B5     </td><td>S         </td><td style=\"text-align: right;\">     2</td><td style=\"text-align: right;\">   nan</td><td>St Louis  MO                   </td></tr>\n",
       "<tr><td style=\"text-align: right;\">       1</td><td style=\"text-align: right;\">         1</td><td>Allison  Master. Hudson Trevor                 </td><td>male  </td><td style=\"text-align: right;\"> 0.9167</td><td style=\"text-align: right;\">      1</td><td style=\"text-align: right;\">      2</td><td style=\"text-align: right;\">  113781</td><td style=\"text-align: right;\">151.55  </td><td>C22 C26</td><td>S         </td><td style=\"text-align: right;\">    11</td><td style=\"text-align: right;\">   nan</td><td>Montreal  PQ / Chesterville  ON</td></tr>\n",
       "<tr><td style=\"text-align: right;\">       1</td><td style=\"text-align: right;\">         0</td><td>Allison  Miss. Helen Loraine                   </td><td>female</td><td style=\"text-align: right;\"> 2     </td><td style=\"text-align: right;\">      1</td><td style=\"text-align: right;\">      2</td><td style=\"text-align: right;\">  113781</td><td style=\"text-align: right;\">151.55  </td><td>C22 C26</td><td>S         </td><td style=\"text-align: right;\">   nan</td><td style=\"text-align: right;\">   nan</td><td>Montreal  PQ / Chesterville  ON</td></tr>\n",
       "<tr><td style=\"text-align: right;\">       1</td><td style=\"text-align: right;\">         0</td><td>Allison  Mr. Hudson Joshua Creighton           </td><td>male  </td><td style=\"text-align: right;\">30     </td><td style=\"text-align: right;\">      1</td><td style=\"text-align: right;\">      2</td><td style=\"text-align: right;\">  113781</td><td style=\"text-align: right;\">151.55  </td><td>C22 C26</td><td>S         </td><td style=\"text-align: right;\">   nan</td><td style=\"text-align: right;\">   135</td><td>Montreal  PQ / Chesterville  ON</td></tr>\n",
       "<tr><td style=\"text-align: right;\">       1</td><td style=\"text-align: right;\">         0</td><td>Allison  Mrs. Hudson J C (Bessie Waldo Daniels)</td><td>female</td><td style=\"text-align: right;\">25     </td><td style=\"text-align: right;\">      1</td><td style=\"text-align: right;\">      2</td><td style=\"text-align: right;\">  113781</td><td style=\"text-align: right;\">151.55  </td><td>C22 C26</td><td>S         </td><td style=\"text-align: right;\">   nan</td><td style=\"text-align: right;\">   nan</td><td>Montreal  PQ / Chesterville  ON</td></tr>\n",
       "<tr><td style=\"text-align: right;\">       1</td><td style=\"text-align: right;\">         1</td><td>Anderson  Mr. Harry                            </td><td>male  </td><td style=\"text-align: right;\">48     </td><td style=\"text-align: right;\">      0</td><td style=\"text-align: right;\">      0</td><td style=\"text-align: right;\">   19952</td><td style=\"text-align: right;\"> 26.55  </td><td>E12    </td><td>S         </td><td style=\"text-align: right;\">     3</td><td style=\"text-align: right;\">   nan</td><td>New York  NY                   </td></tr>\n",
       "<tr><td style=\"text-align: right;\">       1</td><td style=\"text-align: right;\">         1</td><td>Andrews  Miss. Kornelia Theodosia              </td><td>female</td><td style=\"text-align: right;\">63     </td><td style=\"text-align: right;\">      1</td><td style=\"text-align: right;\">      0</td><td style=\"text-align: right;\">   13502</td><td style=\"text-align: right;\"> 77.9583</td><td>D7     </td><td>S         </td><td style=\"text-align: right;\">    10</td><td style=\"text-align: right;\">   nan</td><td>Hudson  NY                     </td></tr>\n",
       "<tr><td style=\"text-align: right;\">       1</td><td style=\"text-align: right;\">         0</td><td>Andrews  Mr. Thomas Jr                         </td><td>male  </td><td style=\"text-align: right;\">39     </td><td style=\"text-align: right;\">      0</td><td style=\"text-align: right;\">      0</td><td style=\"text-align: right;\">  112050</td><td style=\"text-align: right;\">  0     </td><td>A36    </td><td>S         </td><td style=\"text-align: right;\">   nan</td><td style=\"text-align: right;\">   nan</td><td>Belfast  NI                    </td></tr>\n",
       "<tr><td style=\"text-align: right;\">       1</td><td style=\"text-align: right;\">         1</td><td>Appleton  Mrs. Edward Dale (Charlotte Lamson)  </td><td>female</td><td style=\"text-align: right;\">53     </td><td style=\"text-align: right;\">      2</td><td style=\"text-align: right;\">      0</td><td style=\"text-align: right;\">   11769</td><td style=\"text-align: right;\"> 51.4792</td><td>C101   </td><td>S         </td><td style=\"text-align: right;\">   nan</td><td style=\"text-align: right;\">   nan</td><td>Bayside  Queens  NY            </td></tr>\n",
       "<tr><td style=\"text-align: right;\">       1</td><td style=\"text-align: right;\">         0</td><td>Artagaveytia  Mr. Ramon                        </td><td>male  </td><td style=\"text-align: right;\">71     </td><td style=\"text-align: right;\">      0</td><td style=\"text-align: right;\">      0</td><td style=\"text-align: right;\">     nan</td><td style=\"text-align: right;\"> 49.5042</td><td>       </td><td>C         </td><td style=\"text-align: right;\">   nan</td><td style=\"text-align: right;\">    22</td><td>Montevideo  Uruguay            </td></tr>\n",
       "</tbody>\n",
       "</table>"
      ]
     },
     "metadata": {},
     "output_type": "display_data"
    },
    {
     "data": {
      "text/plain": []
     },
     "execution_count": 25,
     "metadata": {},
     "output_type": "execute_result"
    }
   ],
   "source": [
    "titanic_df.head()"
   ]
  },
  {
   "cell_type": "code",
   "execution_count": 26,
   "metadata": {},
   "outputs": [
    {
     "data": {
      "text/html": [
       "<table>\n",
       "<thead>\n",
       "<tr><th style=\"text-align: right;\">  pclass</th><th style=\"text-align: right;\">  survived</th><th>name                         </th><th>sex   </th><th style=\"text-align: right;\">  age</th><th style=\"text-align: right;\">  sibsp</th><th style=\"text-align: right;\">  parch</th><th style=\"text-align: right;\">  ticket</th><th style=\"text-align: right;\">   fare</th><th>cabin  </th><th>embarked  </th><th style=\"text-align: right;\">  boat</th><th style=\"text-align: right;\">  body</th><th>home.dest   </th></tr>\n",
       "</thead>\n",
       "<tbody>\n",
       "<tr><td style=\"text-align: right;\">       1</td><td style=\"text-align: right;\">         1</td><td>Allen  Miss. Elisabeth Walton</td><td>female</td><td style=\"text-align: right;\">   29</td><td style=\"text-align: right;\">      0</td><td style=\"text-align: right;\">      0</td><td style=\"text-align: right;\">   24160</td><td style=\"text-align: right;\">211.338</td><td>B5     </td><td>S         </td><td style=\"text-align: right;\">     2</td><td style=\"text-align: right;\">   nan</td><td>St Louis  MO</td></tr>\n",
       "</tbody>\n",
       "</table>"
      ]
     },
     "metadata": {},
     "output_type": "display_data"
    },
    {
     "data": {
      "text/plain": []
     },
     "execution_count": 26,
     "metadata": {},
     "output_type": "execute_result"
    }
   ],
   "source": [
    "titanic_df.head(1)"
   ]
  },
  {
   "cell_type": "code",
   "execution_count": 27,
   "metadata": {},
   "outputs": [
    {
     "data": {
      "text/html": [
       "<table>\n",
       "<thead>\n",
       "<tr><th style=\"text-align: right;\">  pclass</th><th style=\"text-align: right;\">  survived</th><th>name                         </th><th>sex   </th><th style=\"text-align: right;\">  age</th><th style=\"text-align: right;\">  sibsp</th></tr>\n",
       "</thead>\n",
       "<tbody>\n",
       "<tr><td style=\"text-align: right;\">       1</td><td style=\"text-align: right;\">         1</td><td>Allen  Miss. Elisabeth Walton</td><td>female</td><td style=\"text-align: right;\">   29</td><td style=\"text-align: right;\">      0</td></tr>\n",
       "</tbody>\n",
       "</table>"
      ]
     },
     "metadata": {},
     "output_type": "display_data"
    },
    {
     "data": {
      "text/plain": []
     },
     "execution_count": 27,
     "metadata": {},
     "output_type": "execute_result"
    }
   ],
   "source": [
    "titanic_df.head(1,6)"
   ]
  },
  {
   "cell_type": "code",
   "execution_count": 28,
   "metadata": {},
   "outputs": [
    {
     "data": {
      "text/html": [
       "<table>\n",
       "<thead>\n",
       "<tr><th style=\"text-align: right;\">  pclass</th><th style=\"text-align: right;\">  survived</th><th>name                          </th><th>sex   </th><th style=\"text-align: right;\">    age</th><th style=\"text-align: right;\">  sibsp</th></tr>\n",
       "</thead>\n",
       "<tbody>\n",
       "<tr><td style=\"text-align: right;\">       1</td><td style=\"text-align: right;\">         1</td><td>Allen  Miss. Elisabeth Walton </td><td>female</td><td style=\"text-align: right;\">29     </td><td style=\"text-align: right;\">      0</td></tr>\n",
       "<tr><td style=\"text-align: right;\">       1</td><td style=\"text-align: right;\">         1</td><td>Allison  Master. Hudson Trevor</td><td>male  </td><td style=\"text-align: right;\"> 0.9167</td><td style=\"text-align: right;\">      1</td></tr>\n",
       "</tbody>\n",
       "</table>"
      ]
     },
     "metadata": {},
     "output_type": "display_data"
    },
    {
     "data": {
      "text/plain": []
     },
     "execution_count": 28,
     "metadata": {},
     "output_type": "execute_result"
    }
   ],
   "source": [
    "titanic_df.head(2,6)"
   ]
  },
  {
   "cell_type": "code",
   "execution_count": 30,
   "metadata": {},
   "outputs": [
    {
     "data": {
      "text/html": [
       "<table>\n",
       "<thead>\n",
       "<tr><th style=\"text-align: right;\">  pclass</th></tr>\n",
       "</thead>\n",
       "<tbody>\n",
       "<tr><td style=\"text-align: right;\">       1</td></tr>\n",
       "</tbody>\n",
       "</table>"
      ]
     },
     "metadata": {},
     "output_type": "display_data"
    },
    {
     "data": {
      "text/plain": []
     },
     "execution_count": 30,
     "metadata": {},
     "output_type": "execute_result"
    }
   ],
   "source": [
    "titanic_df.head(1,1) # 1,1 | 1,10 | 5,10 | 5, airline_df.ncol | "
   ]
  },
  {
   "cell_type": "code",
   "execution_count": 31,
   "metadata": {},
   "outputs": [
    {
     "data": {
      "text/html": [
       "<table>\n",
       "<thead>\n",
       "<tr><th style=\"text-align: right;\">  pclass</th><th style=\"text-align: right;\">  survived</th><th>name                         </th><th>sex   </th><th style=\"text-align: right;\">  age</th><th style=\"text-align: right;\">  sibsp</th><th style=\"text-align: right;\">  parch</th><th style=\"text-align: right;\">  ticket</th><th style=\"text-align: right;\">   fare</th><th>cabin  </th></tr>\n",
       "</thead>\n",
       "<tbody>\n",
       "<tr><td style=\"text-align: right;\">       1</td><td style=\"text-align: right;\">         1</td><td>Allen  Miss. Elisabeth Walton</td><td>female</td><td style=\"text-align: right;\">   29</td><td style=\"text-align: right;\">      0</td><td style=\"text-align: right;\">      0</td><td style=\"text-align: right;\">   24160</td><td style=\"text-align: right;\">211.338</td><td>B5     </td></tr>\n",
       "</tbody>\n",
       "</table>"
      ]
     },
     "metadata": {},
     "output_type": "display_data"
    },
    {
     "data": {
      "text/plain": []
     },
     "execution_count": 31,
     "metadata": {},
     "output_type": "execute_result"
    }
   ],
   "source": [
    "titanic_df.head(1,10) # 1,1 | 1,10 | 5,10 | 5, airline_df.ncol | "
   ]
  },
  {
   "cell_type": "code",
   "execution_count": 29,
   "metadata": {},
   "outputs": [
    {
     "data": {
      "text/html": [
       "<table>\n",
       "<thead>\n",
       "<tr><th style=\"text-align: right;\">  pclass</th><th style=\"text-align: right;\">  survived</th><th>name                                           </th><th>sex   </th><th style=\"text-align: right;\">    age</th><th style=\"text-align: right;\">  sibsp</th><th style=\"text-align: right;\">  parch</th><th style=\"text-align: right;\">  ticket</th><th style=\"text-align: right;\">   fare</th><th>cabin  </th><th>embarked  </th><th style=\"text-align: right;\">  boat</th><th style=\"text-align: right;\">  body</th><th>home.dest                      </th></tr>\n",
       "</thead>\n",
       "<tbody>\n",
       "<tr><td style=\"text-align: right;\">       1</td><td style=\"text-align: right;\">         1</td><td>Allen  Miss. Elisabeth Walton                  </td><td>female</td><td style=\"text-align: right;\">29     </td><td style=\"text-align: right;\">      0</td><td style=\"text-align: right;\">      0</td><td style=\"text-align: right;\">   24160</td><td style=\"text-align: right;\">211.338</td><td>B5     </td><td>S         </td><td style=\"text-align: right;\">     2</td><td style=\"text-align: right;\">   nan</td><td>St Louis  MO                   </td></tr>\n",
       "<tr><td style=\"text-align: right;\">       1</td><td style=\"text-align: right;\">         1</td><td>Allison  Master. Hudson Trevor                 </td><td>male  </td><td style=\"text-align: right;\"> 0.9167</td><td style=\"text-align: right;\">      1</td><td style=\"text-align: right;\">      2</td><td style=\"text-align: right;\">  113781</td><td style=\"text-align: right;\">151.55 </td><td>C22 C26</td><td>S         </td><td style=\"text-align: right;\">    11</td><td style=\"text-align: right;\">   nan</td><td>Montreal  PQ / Chesterville  ON</td></tr>\n",
       "<tr><td style=\"text-align: right;\">       1</td><td style=\"text-align: right;\">         0</td><td>Allison  Miss. Helen Loraine                   </td><td>female</td><td style=\"text-align: right;\"> 2     </td><td style=\"text-align: right;\">      1</td><td style=\"text-align: right;\">      2</td><td style=\"text-align: right;\">  113781</td><td style=\"text-align: right;\">151.55 </td><td>C22 C26</td><td>S         </td><td style=\"text-align: right;\">   nan</td><td style=\"text-align: right;\">   nan</td><td>Montreal  PQ / Chesterville  ON</td></tr>\n",
       "<tr><td style=\"text-align: right;\">       1</td><td style=\"text-align: right;\">         0</td><td>Allison  Mr. Hudson Joshua Creighton           </td><td>male  </td><td style=\"text-align: right;\">30     </td><td style=\"text-align: right;\">      1</td><td style=\"text-align: right;\">      2</td><td style=\"text-align: right;\">  113781</td><td style=\"text-align: right;\">151.55 </td><td>C22 C26</td><td>S         </td><td style=\"text-align: right;\">   nan</td><td style=\"text-align: right;\">   135</td><td>Montreal  PQ / Chesterville  ON</td></tr>\n",
       "<tr><td style=\"text-align: right;\">       1</td><td style=\"text-align: right;\">         0</td><td>Allison  Mrs. Hudson J C (Bessie Waldo Daniels)</td><td>female</td><td style=\"text-align: right;\">25     </td><td style=\"text-align: right;\">      1</td><td style=\"text-align: right;\">      2</td><td style=\"text-align: right;\">  113781</td><td style=\"text-align: right;\">151.55 </td><td>C22 C26</td><td>S         </td><td style=\"text-align: right;\">   nan</td><td style=\"text-align: right;\">   nan</td><td>Montreal  PQ / Chesterville  ON</td></tr>\n",
       "</tbody>\n",
       "</table>"
      ]
     },
     "metadata": {},
     "output_type": "display_data"
    },
    {
     "data": {
      "text/plain": []
     },
     "execution_count": 29,
     "metadata": {},
     "output_type": "execute_result"
    }
   ],
   "source": [
    "titanic_df.head(5,20) # 1,1 | 1,10 | 5,10 | 5, airline_df.ncol | "
   ]
  },
  {
   "cell_type": "code",
   "execution_count": 32,
   "metadata": {},
   "outputs": [
    {
     "data": {
      "text/html": [
       "<table>\n",
       "<thead>\n",
       "<tr><th style=\"text-align: right;\">  pclass</th><th style=\"text-align: right;\">  survived</th><th>name                                           </th><th>sex   </th><th style=\"text-align: right;\">    age</th><th style=\"text-align: right;\">  sibsp</th><th style=\"text-align: right;\">  parch</th><th style=\"text-align: right;\">  ticket</th><th style=\"text-align: right;\">   fare</th><th>cabin  </th><th>embarked  </th><th style=\"text-align: right;\">  boat</th><th style=\"text-align: right;\">  body</th><th>home.dest                      </th></tr>\n",
       "</thead>\n",
       "<tbody>\n",
       "<tr><td style=\"text-align: right;\">       1</td><td style=\"text-align: right;\">         1</td><td>Allen  Miss. Elisabeth Walton                  </td><td>female</td><td style=\"text-align: right;\">29     </td><td style=\"text-align: right;\">      0</td><td style=\"text-align: right;\">      0</td><td style=\"text-align: right;\">   24160</td><td style=\"text-align: right;\">211.338</td><td>B5     </td><td>S         </td><td style=\"text-align: right;\">     2</td><td style=\"text-align: right;\">   nan</td><td>St Louis  MO                   </td></tr>\n",
       "<tr><td style=\"text-align: right;\">       1</td><td style=\"text-align: right;\">         1</td><td>Allison  Master. Hudson Trevor                 </td><td>male  </td><td style=\"text-align: right;\"> 0.9167</td><td style=\"text-align: right;\">      1</td><td style=\"text-align: right;\">      2</td><td style=\"text-align: right;\">  113781</td><td style=\"text-align: right;\">151.55 </td><td>C22 C26</td><td>S         </td><td style=\"text-align: right;\">    11</td><td style=\"text-align: right;\">   nan</td><td>Montreal  PQ / Chesterville  ON</td></tr>\n",
       "<tr><td style=\"text-align: right;\">       1</td><td style=\"text-align: right;\">         0</td><td>Allison  Miss. Helen Loraine                   </td><td>female</td><td style=\"text-align: right;\"> 2     </td><td style=\"text-align: right;\">      1</td><td style=\"text-align: right;\">      2</td><td style=\"text-align: right;\">  113781</td><td style=\"text-align: right;\">151.55 </td><td>C22 C26</td><td>S         </td><td style=\"text-align: right;\">   nan</td><td style=\"text-align: right;\">   nan</td><td>Montreal  PQ / Chesterville  ON</td></tr>\n",
       "<tr><td style=\"text-align: right;\">       1</td><td style=\"text-align: right;\">         0</td><td>Allison  Mr. Hudson Joshua Creighton           </td><td>male  </td><td style=\"text-align: right;\">30     </td><td style=\"text-align: right;\">      1</td><td style=\"text-align: right;\">      2</td><td style=\"text-align: right;\">  113781</td><td style=\"text-align: right;\">151.55 </td><td>C22 C26</td><td>S         </td><td style=\"text-align: right;\">   nan</td><td style=\"text-align: right;\">   135</td><td>Montreal  PQ / Chesterville  ON</td></tr>\n",
       "<tr><td style=\"text-align: right;\">       1</td><td style=\"text-align: right;\">         0</td><td>Allison  Mrs. Hudson J C (Bessie Waldo Daniels)</td><td>female</td><td style=\"text-align: right;\">25     </td><td style=\"text-align: right;\">      1</td><td style=\"text-align: right;\">      2</td><td style=\"text-align: right;\">  113781</td><td style=\"text-align: right;\">151.55 </td><td>C22 C26</td><td>S         </td><td style=\"text-align: right;\">   nan</td><td style=\"text-align: right;\">   nan</td><td>Montreal  PQ / Chesterville  ON</td></tr>\n",
       "</tbody>\n",
       "</table>"
      ]
     },
     "metadata": {},
     "output_type": "display_data"
    },
    {
     "data": {
      "text/plain": []
     },
     "execution_count": 32,
     "metadata": {},
     "output_type": "execute_result"
    }
   ],
   "source": [
    "titanic_df.head(5, airline_df.ncol)"
   ]
  },
  {
   "cell_type": "markdown",
   "metadata": {},
   "source": [
    "# Data Frames in H2O FLOW\n",
    "Add this point if you will see H2O data frames list and you will see the following 3 frames\n",
    "\n",
    "Command: getFrames\n",
    "\n",
    "allyears2k.hex 43978 31 2MB\n",
    "\n",
    "prostate.hex 380 9 5KB\n",
    "\n",
    "Key_Frame__upload_b34573442d4bb7de676d72ce9d6e41f3.hex      1309\t14\t121KB"
   ]
  },
  {
   "cell_type": "code",
   "execution_count": 33,
   "metadata": {},
   "outputs": [
    {
     "name": "stdout",
     "output_type": "stream",
     "text": [
      "Parse progress: |█████████████████████████████████████████████████████████| 100%\n"
     ]
    }
   ],
   "source": [
    "my_titanic_df = h2o.upload_file(titanic, destination_frame = \"my_titanic.hex\")"
   ]
  },
  {
   "cell_type": "markdown",
   "metadata": {},
   "source": [
    "# Data frames in H2O FLOW\n",
    "Add this point if you will see H2O data frames list and you will see the following 4 frames\n",
    "\n",
    "Command: getFrames\n",
    "\n",
    "allyears2k.hex 43978 31 2MB\n",
    "\n",
    "prostate.hex 380 9 5KB\n",
    "\n",
    "Key_Frame__upload_b34573442d4bb7de676d72ce9d6e41f3.hex 1309 14 121KB\n",
    "\n",
    "my_titanic.hex      1309\t14\t121KB"
   ]
  },
  {
   "cell_type": "code",
   "execution_count": 34,
   "metadata": {},
   "outputs": [
    {
     "data": {
      "text/plain": [
       "['ID', 'CAPSULE', 'AGE', 'RACE', 'DPROS', 'DCAPS', 'PSA', 'VOL', 'GLEASON']"
      ]
     },
     "execution_count": 34,
     "metadata": {},
     "output_type": "execute_result"
    }
   ],
   "source": [
    "# List Column Names\n",
    "prostate_df.col_names"
   ]
  },
  {
   "cell_type": "markdown",
   "metadata": {},
   "source": [
    "# Slicing rows by Index"
   ]
  },
  {
   "cell_type": "code",
   "execution_count": 35,
   "metadata": {},
   "outputs": [
    {
     "data": {
      "text/html": [
       "<table>\n",
       "<thead>\n",
       "<tr><th style=\"text-align: right;\">  ID</th><th style=\"text-align: right;\">  CAPSULE</th><th style=\"text-align: right;\">  AGE</th><th style=\"text-align: right;\">  RACE</th><th style=\"text-align: right;\">  DPROS</th><th style=\"text-align: right;\">  DCAPS</th><th style=\"text-align: right;\">  PSA</th><th style=\"text-align: right;\">  VOL</th><th style=\"text-align: right;\">  GLEASON</th></tr>\n",
       "</thead>\n",
       "<tbody>\n",
       "<tr><td style=\"text-align: right;\">  10</td><td style=\"text-align: right;\">        0</td><td style=\"text-align: right;\">   68</td><td style=\"text-align: right;\">     2</td><td style=\"text-align: right;\">      1</td><td style=\"text-align: right;\">      2</td><td style=\"text-align: right;\">   13</td><td style=\"text-align: right;\">    0</td><td style=\"text-align: right;\">        6</td></tr>\n",
       "</tbody>\n",
       "</table>"
      ]
     },
     "metadata": {},
     "output_type": "display_data"
    },
    {
     "data": {
      "text/plain": []
     },
     "execution_count": 35,
     "metadata": {},
     "output_type": "execute_result"
    }
   ],
   "source": [
    "# Slicing rows by Index\n",
    "\n",
    "# Getting 10th row based on index starts from 0\n",
    "prostate_df[9,:]"
   ]
  },
  {
   "cell_type": "code",
   "execution_count": 36,
   "metadata": {},
   "outputs": [
    {
     "data": {
      "text/html": [
       "<table>\n",
       "<thead>\n",
       "<tr><th style=\"text-align: right;\">  ID</th><th style=\"text-align: right;\">  CAPSULE</th><th style=\"text-align: right;\">  AGE</th><th style=\"text-align: right;\">  RACE</th><th style=\"text-align: right;\">  DPROS</th><th style=\"text-align: right;\">  DCAPS</th><th style=\"text-align: right;\">  PSA</th><th style=\"text-align: right;\">  VOL</th><th style=\"text-align: right;\">  GLEASON</th></tr>\n",
       "</thead>\n",
       "<tbody>\n",
       "<tr><td style=\"text-align: right;\">  10</td><td style=\"text-align: right;\">        0</td><td style=\"text-align: right;\">   68</td><td style=\"text-align: right;\">     2</td><td style=\"text-align: right;\">      1</td><td style=\"text-align: right;\">      2</td><td style=\"text-align: right;\"> 13  </td><td style=\"text-align: right;\">    0</td><td style=\"text-align: right;\">        6</td></tr>\n",
       "<tr><td style=\"text-align: right;\">  11</td><td style=\"text-align: right;\">        1</td><td style=\"text-align: right;\">   68</td><td style=\"text-align: right;\">     2</td><td style=\"text-align: right;\">      4</td><td style=\"text-align: right;\">      2</td><td style=\"text-align: right;\">  4  </td><td style=\"text-align: right;\">    0</td><td style=\"text-align: right;\">        7</td></tr>\n",
       "<tr><td style=\"text-align: right;\">  12</td><td style=\"text-align: right;\">        1</td><td style=\"text-align: right;\">   72</td><td style=\"text-align: right;\">     1</td><td style=\"text-align: right;\">      2</td><td style=\"text-align: right;\">      2</td><td style=\"text-align: right;\"> 21.2</td><td style=\"text-align: right;\">    0</td><td style=\"text-align: right;\">        7</td></tr>\n",
       "<tr><td style=\"text-align: right;\">  13</td><td style=\"text-align: right;\">        1</td><td style=\"text-align: right;\">   72</td><td style=\"text-align: right;\">     1</td><td style=\"text-align: right;\">      4</td><td style=\"text-align: right;\">      2</td><td style=\"text-align: right;\"> 22.7</td><td style=\"text-align: right;\">    0</td><td style=\"text-align: right;\">        9</td></tr>\n",
       "<tr><td style=\"text-align: right;\">  14</td><td style=\"text-align: right;\">        1</td><td style=\"text-align: right;\">   65</td><td style=\"text-align: right;\">     1</td><td style=\"text-align: right;\">      4</td><td style=\"text-align: right;\">      2</td><td style=\"text-align: right;\"> 39  </td><td style=\"text-align: right;\">    0</td><td style=\"text-align: right;\">        7</td></tr>\n",
       "<tr><td style=\"text-align: right;\">  15</td><td style=\"text-align: right;\">        0</td><td style=\"text-align: right;\">   75</td><td style=\"text-align: right;\">     1</td><td style=\"text-align: right;\">      1</td><td style=\"text-align: right;\">      1</td><td style=\"text-align: right;\">  7.5</td><td style=\"text-align: right;\">    0</td><td style=\"text-align: right;\">        5</td></tr>\n",
       "</tbody>\n",
       "</table>"
      ]
     },
     "metadata": {},
     "output_type": "display_data"
    },
    {
     "data": {
      "text/plain": []
     },
     "execution_count": 36,
     "metadata": {},
     "output_type": "execute_result"
    }
   ],
   "source": [
    "# Slicing rows by Index\n",
    "\n",
    "# Getting selected rows based on index starts from 0\n",
    "prostate_df[range(9,15),:]"
   ]
  },
  {
   "cell_type": "code",
   "execution_count": 37,
   "metadata": {},
   "outputs": [
    {
     "data": {
      "text/html": [
       "<table>\n",
       "<thead>\n",
       "<tr><th style=\"text-align: right;\">  AGE</th></tr>\n",
       "</thead>\n",
       "<tbody>\n",
       "<tr><td style=\"text-align: right;\">    0</td></tr>\n",
       "<tr><td style=\"text-align: right;\">    1</td></tr>\n",
       "<tr><td style=\"text-align: right;\">    0</td></tr>\n",
       "<tr><td style=\"text-align: right;\">    1</td></tr>\n",
       "<tr><td style=\"text-align: right;\">    0</td></tr>\n",
       "<tr><td style=\"text-align: right;\">    1</td></tr>\n",
       "<tr><td style=\"text-align: right;\">    0</td></tr>\n",
       "<tr><td style=\"text-align: right;\">    0</td></tr>\n",
       "<tr><td style=\"text-align: right;\">    0</td></tr>\n",
       "<tr><td style=\"text-align: right;\">    0</td></tr>\n",
       "</tbody>\n",
       "</table>"
      ]
     },
     "metadata": {},
     "output_type": "display_data"
    },
    {
     "data": {
      "text/plain": []
     },
     "execution_count": 37,
     "metadata": {},
     "output_type": "execute_result"
    }
   ],
   "source": [
    "#filter data based on some value\n",
    "prostate_df[\"AGE\"] > 70"
   ]
  },
  {
   "cell_type": "code",
   "execution_count": 38,
   "metadata": {},
   "outputs": [
    {
     "data": {
      "text/html": [
       "<table>\n",
       "<thead>\n",
       "<tr><th style=\"text-align: right;\">  PSA</th></tr>\n",
       "</thead>\n",
       "<tbody>\n",
       "<tr><td style=\"text-align: right;\">    1</td></tr>\n",
       "<tr><td style=\"text-align: right;\">    1</td></tr>\n",
       "<tr><td style=\"text-align: right;\">    1</td></tr>\n",
       "<tr><td style=\"text-align: right;\">    0</td></tr>\n",
       "<tr><td style=\"text-align: right;\">    1</td></tr>\n",
       "<tr><td style=\"text-align: right;\">    1</td></tr>\n",
       "<tr><td style=\"text-align: right;\">    0</td></tr>\n",
       "<tr><td style=\"text-align: right;\">    0</td></tr>\n",
       "<tr><td style=\"text-align: right;\">    1</td></tr>\n",
       "<tr><td style=\"text-align: right;\">    1</td></tr>\n",
       "</tbody>\n",
       "</table>"
      ]
     },
     "metadata": {},
     "output_type": "display_data"
    },
    {
     "data": {
      "text/plain": []
     },
     "execution_count": 38,
     "metadata": {},
     "output_type": "execute_result"
    }
   ],
   "source": [
    "# Slicing based on boolean values [1]\n",
    "\n",
    "mask = prostate_df['PSA'] < 20.0\n",
    "mask"
   ]
  },
  {
   "cell_type": "code",
   "execution_count": 39,
   "metadata": {},
   "outputs": [
    {
     "data": {
      "text/html": [
       "<table>\n",
       "<thead>\n",
       "<tr><th style=\"text-align: right;\">  ID</th><th style=\"text-align: right;\">  CAPSULE</th><th style=\"text-align: right;\">  AGE</th><th style=\"text-align: right;\">  RACE</th><th style=\"text-align: right;\">  DPROS</th><th style=\"text-align: right;\">  DCAPS</th><th style=\"text-align: right;\">  PSA</th><th style=\"text-align: right;\">  VOL</th><th style=\"text-align: right;\">  GLEASON</th></tr>\n",
       "</thead>\n",
       "<tbody>\n",
       "<tr><td style=\"text-align: right;\">   1</td><td style=\"text-align: right;\">        0</td><td style=\"text-align: right;\">   65</td><td style=\"text-align: right;\">     1</td><td style=\"text-align: right;\">      2</td><td style=\"text-align: right;\">      1</td><td style=\"text-align: right;\">  1.4</td><td style=\"text-align: right;\">  0  </td><td style=\"text-align: right;\">        6</td></tr>\n",
       "<tr><td style=\"text-align: right;\">   2</td><td style=\"text-align: right;\">        0</td><td style=\"text-align: right;\">   72</td><td style=\"text-align: right;\">     1</td><td style=\"text-align: right;\">      3</td><td style=\"text-align: right;\">      2</td><td style=\"text-align: right;\">  6.7</td><td style=\"text-align: right;\">  0  </td><td style=\"text-align: right;\">        7</td></tr>\n",
       "<tr><td style=\"text-align: right;\">   3</td><td style=\"text-align: right;\">        0</td><td style=\"text-align: right;\">   70</td><td style=\"text-align: right;\">     1</td><td style=\"text-align: right;\">      1</td><td style=\"text-align: right;\">      2</td><td style=\"text-align: right;\">  4.9</td><td style=\"text-align: right;\">  0  </td><td style=\"text-align: right;\">        6</td></tr>\n",
       "<tr><td style=\"text-align: right;\">   5</td><td style=\"text-align: right;\">        0</td><td style=\"text-align: right;\">   69</td><td style=\"text-align: right;\">     1</td><td style=\"text-align: right;\">      1</td><td style=\"text-align: right;\">      1</td><td style=\"text-align: right;\"> 12.3</td><td style=\"text-align: right;\"> 55.9</td><td style=\"text-align: right;\">        6</td></tr>\n",
       "<tr><td style=\"text-align: right;\">   6</td><td style=\"text-align: right;\">        1</td><td style=\"text-align: right;\">   71</td><td style=\"text-align: right;\">     1</td><td style=\"text-align: right;\">      3</td><td style=\"text-align: right;\">      2</td><td style=\"text-align: right;\">  3.3</td><td style=\"text-align: right;\">  0  </td><td style=\"text-align: right;\">        8</td></tr>\n",
       "<tr><td style=\"text-align: right;\">   9</td><td style=\"text-align: right;\">        0</td><td style=\"text-align: right;\">   69</td><td style=\"text-align: right;\">     1</td><td style=\"text-align: right;\">      1</td><td style=\"text-align: right;\">      1</td><td style=\"text-align: right;\">  3.9</td><td style=\"text-align: right;\"> 24  </td><td style=\"text-align: right;\">        7</td></tr>\n",
       "<tr><td style=\"text-align: right;\">  10</td><td style=\"text-align: right;\">        0</td><td style=\"text-align: right;\">   68</td><td style=\"text-align: right;\">     2</td><td style=\"text-align: right;\">      1</td><td style=\"text-align: right;\">      2</td><td style=\"text-align: right;\"> 13  </td><td style=\"text-align: right;\">  0  </td><td style=\"text-align: right;\">        6</td></tr>\n",
       "<tr><td style=\"text-align: right;\">  11</td><td style=\"text-align: right;\">        1</td><td style=\"text-align: right;\">   68</td><td style=\"text-align: right;\">     2</td><td style=\"text-align: right;\">      4</td><td style=\"text-align: right;\">      2</td><td style=\"text-align: right;\">  4  </td><td style=\"text-align: right;\">  0  </td><td style=\"text-align: right;\">        7</td></tr>\n",
       "<tr><td style=\"text-align: right;\">  15</td><td style=\"text-align: right;\">        0</td><td style=\"text-align: right;\">   75</td><td style=\"text-align: right;\">     1</td><td style=\"text-align: right;\">      1</td><td style=\"text-align: right;\">      1</td><td style=\"text-align: right;\">  7.5</td><td style=\"text-align: right;\">  0  </td><td style=\"text-align: right;\">        5</td></tr>\n",
       "<tr><td style=\"text-align: right;\">  16</td><td style=\"text-align: right;\">        0</td><td style=\"text-align: right;\">   73</td><td style=\"text-align: right;\">     1</td><td style=\"text-align: right;\">      2</td><td style=\"text-align: right;\">      1</td><td style=\"text-align: right;\">  2.6</td><td style=\"text-align: right;\">  0  </td><td style=\"text-align: right;\">        5</td></tr>\n",
       "</tbody>\n",
       "</table>"
      ]
     },
     "metadata": {},
     "output_type": "display_data"
    },
    {
     "data": {
      "text/plain": []
     },
     "execution_count": 39,
     "metadata": {},
     "output_type": "execute_result"
    }
   ],
   "source": [
    "# Slicing based on boolean values [2]\n",
    "\n",
    "mask_cols = prostate_df[mask,:]\n",
    "mask_cols"
   ]
  },
  {
   "cell_type": "code",
   "execution_count": 40,
   "metadata": {},
   "outputs": [
    {
     "data": {
      "text/html": [
       "<table>\n",
       "<thead>\n",
       "<tr><th style=\"text-align: right;\">  ID</th><th style=\"text-align: right;\">  CAPSULE</th><th style=\"text-align: right;\">  AGE</th><th style=\"text-align: right;\">  RACE</th><th style=\"text-align: right;\">  DPROS</th><th style=\"text-align: right;\">  DCAPS</th><th style=\"text-align: right;\">  PSA</th><th style=\"text-align: right;\">  VOL</th><th style=\"text-align: right;\">  GLEASON</th></tr>\n",
       "</thead>\n",
       "<tbody>\n",
       "<tr><td style=\"text-align: right;\">   4</td><td style=\"text-align: right;\">        0</td><td style=\"text-align: right;\">   76</td><td style=\"text-align: right;\">     2</td><td style=\"text-align: right;\">      2</td><td style=\"text-align: right;\">      1</td><td style=\"text-align: right;\"> 51.2</td><td style=\"text-align: right;\"> 20  </td><td style=\"text-align: right;\">        7</td></tr>\n",
       "<tr><td style=\"text-align: right;\">   7</td><td style=\"text-align: right;\">        0</td><td style=\"text-align: right;\">   68</td><td style=\"text-align: right;\">     2</td><td style=\"text-align: right;\">      4</td><td style=\"text-align: right;\">      2</td><td style=\"text-align: right;\"> 31.9</td><td style=\"text-align: right;\">  0  </td><td style=\"text-align: right;\">        7</td></tr>\n",
       "<tr><td style=\"text-align: right;\">   8</td><td style=\"text-align: right;\">        0</td><td style=\"text-align: right;\">   61</td><td style=\"text-align: right;\">     2</td><td style=\"text-align: right;\">      4</td><td style=\"text-align: right;\">      2</td><td style=\"text-align: right;\"> 66.7</td><td style=\"text-align: right;\"> 27.2</td><td style=\"text-align: right;\">        7</td></tr>\n",
       "<tr><td style=\"text-align: right;\">  12</td><td style=\"text-align: right;\">        1</td><td style=\"text-align: right;\">   72</td><td style=\"text-align: right;\">     1</td><td style=\"text-align: right;\">      2</td><td style=\"text-align: right;\">      2</td><td style=\"text-align: right;\"> 21.2</td><td style=\"text-align: right;\">  0  </td><td style=\"text-align: right;\">        7</td></tr>\n",
       "<tr><td style=\"text-align: right;\">  13</td><td style=\"text-align: right;\">        1</td><td style=\"text-align: right;\">   72</td><td style=\"text-align: right;\">     1</td><td style=\"text-align: right;\">      4</td><td style=\"text-align: right;\">      2</td><td style=\"text-align: right;\"> 22.7</td><td style=\"text-align: right;\">  0  </td><td style=\"text-align: right;\">        9</td></tr>\n",
       "<tr><td style=\"text-align: right;\">  14</td><td style=\"text-align: right;\">        1</td><td style=\"text-align: right;\">   65</td><td style=\"text-align: right;\">     1</td><td style=\"text-align: right;\">      4</td><td style=\"text-align: right;\">      2</td><td style=\"text-align: right;\"> 39  </td><td style=\"text-align: right;\">  0  </td><td style=\"text-align: right;\">        7</td></tr>\n",
       "<tr><td style=\"text-align: right;\">  22</td><td style=\"text-align: right;\">        1</td><td style=\"text-align: right;\">   70</td><td style=\"text-align: right;\">     0</td><td style=\"text-align: right;\">      4</td><td style=\"text-align: right;\">      1</td><td style=\"text-align: right;\"> 67.1</td><td style=\"text-align: right;\">  0  </td><td style=\"text-align: right;\">        7</td></tr>\n",
       "<tr><td style=\"text-align: right;\">  25</td><td style=\"text-align: right;\">        1</td><td style=\"text-align: right;\">   77</td><td style=\"text-align: right;\">     1</td><td style=\"text-align: right;\">      1</td><td style=\"text-align: right;\">      1</td><td style=\"text-align: right;\"> 61.1</td><td style=\"text-align: right;\"> 58  </td><td style=\"text-align: right;\">        7</td></tr>\n",
       "<tr><td style=\"text-align: right;\">  38</td><td style=\"text-align: right;\">        1</td><td style=\"text-align: right;\">   78</td><td style=\"text-align: right;\">     1</td><td style=\"text-align: right;\">      1</td><td style=\"text-align: right;\">      2</td><td style=\"text-align: right;\"> 27.2</td><td style=\"text-align: right;\">  0  </td><td style=\"text-align: right;\">        8</td></tr>\n",
       "<tr><td style=\"text-align: right;\">  39</td><td style=\"text-align: right;\">        1</td><td style=\"text-align: right;\">   63</td><td style=\"text-align: right;\">     1</td><td style=\"text-align: right;\">      2</td><td style=\"text-align: right;\">      1</td><td style=\"text-align: right;\"> 35.1</td><td style=\"text-align: right;\"> 18.7</td><td style=\"text-align: right;\">        7</td></tr>\n",
       "</tbody>\n",
       "</table>"
      ]
     },
     "metadata": {},
     "output_type": "display_data"
    },
    {
     "data": {
      "text/plain": []
     },
     "execution_count": 40,
     "metadata": {},
     "output_type": "execute_result"
    }
   ],
   "source": [
    "# Slicing based on boolean values [3]\n",
    "\n",
    "mask_cols = prostate_df[~mask,:]\n",
    "mask_cols"
   ]
  },
  {
   "cell_type": "code",
   "execution_count": 41,
   "metadata": {
    "scrolled": true
   },
   "outputs": [
    {
     "name": "stdout",
     "output_type": "stream",
     "text": [
      "(43978, 31)\n",
      "(1086, 31)\n"
     ]
    },
    {
     "data": {
      "text/html": [
       "<table>\n",
       "<thead>\n",
       "<tr><th style=\"text-align: right;\">  C1</th><th style=\"text-align: right;\">  C2</th><th style=\"text-align: right;\">  C3</th><th style=\"text-align: right;\">  C4</th><th style=\"text-align: right;\">  C5</th><th style=\"text-align: right;\">  C6</th><th style=\"text-align: right;\">  C7</th><th style=\"text-align: right;\">  C8</th><th>C9  </th><th style=\"text-align: right;\">  C10</th><th>C11  </th><th style=\"text-align: right;\">  C12</th><th style=\"text-align: right;\">  C13</th><th style=\"text-align: right;\">  C14</th><th style=\"text-align: right;\">  C15</th><th style=\"text-align: right;\">  C16</th><th>C17  </th><th>C18  </th><th style=\"text-align: right;\">  C19</th><th style=\"text-align: right;\">  C20</th><th style=\"text-align: right;\">  C21</th><th style=\"text-align: right;\">  C22</th><th>C23  </th><th style=\"text-align: right;\">  C24</th><th style=\"text-align: right;\">  C25</th><th style=\"text-align: right;\">  C26</th><th style=\"text-align: right;\">  C27</th><th style=\"text-align: right;\">  C28</th><th style=\"text-align: right;\">  C29</th><th>C30  </th><th>C31  </th></tr>\n",
       "</thead>\n",
       "<tbody>\n",
       "<tr><td style=\"text-align: right;\">1987</td><td style=\"text-align: right;\">  10</td><td style=\"text-align: right;\">  12</td><td style=\"text-align: right;\">   1</td><td style=\"text-align: right;\"> nan</td><td style=\"text-align: right;\">1505</td><td style=\"text-align: right;\"> nan</td><td style=\"text-align: right;\">1608</td><td>PS  </td><td style=\"text-align: right;\"> 1453</td><td>NA   </td><td style=\"text-align: right;\">  nan</td><td style=\"text-align: right;\">   63</td><td style=\"text-align: right;\">  nan</td><td style=\"text-align: right;\">  nan</td><td style=\"text-align: right;\">  nan</td><td>BUR  </td><td>OAK  </td><td style=\"text-align: right;\">  325</td><td style=\"text-align: right;\">  nan</td><td style=\"text-align: right;\">  nan</td><td style=\"text-align: right;\">    1</td><td>NA   </td><td style=\"text-align: right;\">    0</td><td style=\"text-align: right;\">  nan</td><td style=\"text-align: right;\">  nan</td><td style=\"text-align: right;\">  nan</td><td style=\"text-align: right;\">  nan</td><td style=\"text-align: right;\">  nan</td><td>YES  </td><td>YES  </td></tr>\n",
       "<tr><td style=\"text-align: right;\">1987</td><td style=\"text-align: right;\">  10</td><td style=\"text-align: right;\">  12</td><td style=\"text-align: right;\">   1</td><td style=\"text-align: right;\"> nan</td><td style=\"text-align: right;\">1635</td><td style=\"text-align: right;\"> nan</td><td style=\"text-align: right;\">1732</td><td>PS  </td><td style=\"text-align: right;\"> 1454</td><td>NA   </td><td style=\"text-align: right;\">  nan</td><td style=\"text-align: right;\">   57</td><td style=\"text-align: right;\">  nan</td><td style=\"text-align: right;\">  nan</td><td style=\"text-align: right;\">  nan</td><td>OAK  </td><td>BUR  </td><td style=\"text-align: right;\">  325</td><td style=\"text-align: right;\">  nan</td><td style=\"text-align: right;\">  nan</td><td style=\"text-align: right;\">    1</td><td>NA   </td><td style=\"text-align: right;\">    0</td><td style=\"text-align: right;\">  nan</td><td style=\"text-align: right;\">  nan</td><td style=\"text-align: right;\">  nan</td><td style=\"text-align: right;\">  nan</td><td style=\"text-align: right;\">  nan</td><td>YES  </td><td>YES  </td></tr>\n",
       "<tr><td style=\"text-align: right;\">1987</td><td style=\"text-align: right;\">  10</td><td style=\"text-align: right;\">   6</td><td style=\"text-align: right;\">   2</td><td style=\"text-align: right;\"> nan</td><td style=\"text-align: right;\"> 830</td><td style=\"text-align: right;\"> nan</td><td style=\"text-align: right;\"> 937</td><td>PS  </td><td style=\"text-align: right;\"> 1457</td><td>NA   </td><td style=\"text-align: right;\">  nan</td><td style=\"text-align: right;\">   67</td><td style=\"text-align: right;\">  nan</td><td style=\"text-align: right;\">  nan</td><td style=\"text-align: right;\">  nan</td><td>LAX  </td><td>SFO  </td><td style=\"text-align: right;\">  337</td><td style=\"text-align: right;\">  nan</td><td style=\"text-align: right;\">  nan</td><td style=\"text-align: right;\">    1</td><td>NA   </td><td style=\"text-align: right;\">    0</td><td style=\"text-align: right;\">  nan</td><td style=\"text-align: right;\">  nan</td><td style=\"text-align: right;\">  nan</td><td style=\"text-align: right;\">  nan</td><td style=\"text-align: right;\">  nan</td><td>YES  </td><td>YES  </td></tr>\n",
       "<tr><td style=\"text-align: right;\">1987</td><td style=\"text-align: right;\">  10</td><td style=\"text-align: right;\">  29</td><td style=\"text-align: right;\">   4</td><td style=\"text-align: right;\"> nan</td><td style=\"text-align: right;\"> 930</td><td style=\"text-align: right;\"> nan</td><td style=\"text-align: right;\">1040</td><td>PS  </td><td style=\"text-align: right;\"> 1459</td><td>NA   </td><td style=\"text-align: right;\">  nan</td><td style=\"text-align: right;\">   70</td><td style=\"text-align: right;\">  nan</td><td style=\"text-align: right;\">  nan</td><td style=\"text-align: right;\">  nan</td><td>LAX  </td><td>SFO  </td><td style=\"text-align: right;\">  337</td><td style=\"text-align: right;\">  nan</td><td style=\"text-align: right;\">  nan</td><td style=\"text-align: right;\">    1</td><td>NA   </td><td style=\"text-align: right;\">    0</td><td style=\"text-align: right;\">  nan</td><td style=\"text-align: right;\">  nan</td><td style=\"text-align: right;\">  nan</td><td style=\"text-align: right;\">  nan</td><td style=\"text-align: right;\">  nan</td><td>YES  </td><td>YES  </td></tr>\n",
       "<tr><td style=\"text-align: right;\">1987</td><td style=\"text-align: right;\">  10</td><td style=\"text-align: right;\">  22</td><td style=\"text-align: right;\">   4</td><td style=\"text-align: right;\"> nan</td><td style=\"text-align: right;\">2000</td><td style=\"text-align: right;\"> nan</td><td style=\"text-align: right;\">2059</td><td>PS  </td><td style=\"text-align: right;\"> 1465</td><td>NA   </td><td style=\"text-align: right;\">  nan</td><td style=\"text-align: right;\">   59</td><td style=\"text-align: right;\">  nan</td><td style=\"text-align: right;\">  nan</td><td style=\"text-align: right;\">  nan</td><td>BUR  </td><td>OAK  </td><td style=\"text-align: right;\">  325</td><td style=\"text-align: right;\">  nan</td><td style=\"text-align: right;\">  nan</td><td style=\"text-align: right;\">    1</td><td>NA   </td><td style=\"text-align: right;\">    0</td><td style=\"text-align: right;\">  nan</td><td style=\"text-align: right;\">  nan</td><td style=\"text-align: right;\">  nan</td><td style=\"text-align: right;\">  nan</td><td style=\"text-align: right;\">  nan</td><td>YES  </td><td>YES  </td></tr>\n",
       "<tr><td style=\"text-align: right;\">1987</td><td style=\"text-align: right;\">  10</td><td style=\"text-align: right;\">   5</td><td style=\"text-align: right;\">   1</td><td style=\"text-align: right;\"> nan</td><td style=\"text-align: right;\">1845</td><td style=\"text-align: right;\"> nan</td><td style=\"text-align: right;\">2005</td><td>PS  </td><td style=\"text-align: right;\"> 1480</td><td>NA   </td><td style=\"text-align: right;\">  nan</td><td style=\"text-align: right;\">   80</td><td style=\"text-align: right;\">  nan</td><td style=\"text-align: right;\">  nan</td><td style=\"text-align: right;\">  nan</td><td>SFO  </td><td>SAN  </td><td style=\"text-align: right;\">  447</td><td style=\"text-align: right;\">  nan</td><td style=\"text-align: right;\">  nan</td><td style=\"text-align: right;\">    1</td><td>NA   </td><td style=\"text-align: right;\">    0</td><td style=\"text-align: right;\">  nan</td><td style=\"text-align: right;\">  nan</td><td style=\"text-align: right;\">  nan</td><td style=\"text-align: right;\">  nan</td><td style=\"text-align: right;\">  nan</td><td>YES  </td><td>YES  </td></tr>\n",
       "<tr><td style=\"text-align: right;\">1987</td><td style=\"text-align: right;\">  10</td><td style=\"text-align: right;\">  28</td><td style=\"text-align: right;\">   3</td><td style=\"text-align: right;\"> nan</td><td style=\"text-align: right;\">1930</td><td style=\"text-align: right;\"> nan</td><td style=\"text-align: right;\">2040</td><td>PS  </td><td style=\"text-align: right;\"> 1502</td><td>NA   </td><td style=\"text-align: right;\">  nan</td><td style=\"text-align: right;\">   70</td><td style=\"text-align: right;\">  nan</td><td style=\"text-align: right;\">  nan</td><td style=\"text-align: right;\">  nan</td><td>SMF  </td><td>LAX  </td><td style=\"text-align: right;\">  373</td><td style=\"text-align: right;\">  nan</td><td style=\"text-align: right;\">  nan</td><td style=\"text-align: right;\">    1</td><td>NA   </td><td style=\"text-align: right;\">    0</td><td style=\"text-align: right;\">  nan</td><td style=\"text-align: right;\">  nan</td><td style=\"text-align: right;\">  nan</td><td style=\"text-align: right;\">  nan</td><td style=\"text-align: right;\">  nan</td><td>YES  </td><td>YES  </td></tr>\n",
       "<tr><td style=\"text-align: right;\">1987</td><td style=\"text-align: right;\">  10</td><td style=\"text-align: right;\">  11</td><td style=\"text-align: right;\">   7</td><td style=\"text-align: right;\"> nan</td><td style=\"text-align: right;\"> 700</td><td style=\"text-align: right;\"> nan</td><td style=\"text-align: right;\"> 807</td><td>PS  </td><td style=\"text-align: right;\"> 1517</td><td>NA   </td><td style=\"text-align: right;\">  nan</td><td style=\"text-align: right;\">   67</td><td style=\"text-align: right;\">  nan</td><td style=\"text-align: right;\">  nan</td><td style=\"text-align: right;\">  nan</td><td>LAX  </td><td>SFO  </td><td style=\"text-align: right;\">  337</td><td style=\"text-align: right;\">  nan</td><td style=\"text-align: right;\">  nan</td><td style=\"text-align: right;\">    1</td><td>NA   </td><td style=\"text-align: right;\">    0</td><td style=\"text-align: right;\">  nan</td><td style=\"text-align: right;\">  nan</td><td style=\"text-align: right;\">  nan</td><td style=\"text-align: right;\">  nan</td><td style=\"text-align: right;\">  nan</td><td>YES  </td><td>YES  </td></tr>\n",
       "<tr><td style=\"text-align: right;\">1987</td><td style=\"text-align: right;\">  10</td><td style=\"text-align: right;\">   1</td><td style=\"text-align: right;\">   4</td><td style=\"text-align: right;\"> nan</td><td style=\"text-align: right;\">1600</td><td style=\"text-align: right;\"> nan</td><td style=\"text-align: right;\">1708</td><td>PS  </td><td style=\"text-align: right;\"> 1522</td><td>NA   </td><td style=\"text-align: right;\">  nan</td><td style=\"text-align: right;\">   68</td><td style=\"text-align: right;\">  nan</td><td style=\"text-align: right;\">  nan</td><td style=\"text-align: right;\">  nan</td><td>SFO  </td><td>LAX  </td><td style=\"text-align: right;\">  337</td><td style=\"text-align: right;\">  nan</td><td style=\"text-align: right;\">  nan</td><td style=\"text-align: right;\">    1</td><td>NA   </td><td style=\"text-align: right;\">    0</td><td style=\"text-align: right;\">  nan</td><td style=\"text-align: right;\">  nan</td><td style=\"text-align: right;\">  nan</td><td style=\"text-align: right;\">  nan</td><td style=\"text-align: right;\">  nan</td><td>YES  </td><td>YES  </td></tr>\n",
       "<tr><td style=\"text-align: right;\">1987</td><td style=\"text-align: right;\">  10</td><td style=\"text-align: right;\">  23</td><td style=\"text-align: right;\">   5</td><td style=\"text-align: right;\"> nan</td><td style=\"text-align: right;\">1600</td><td style=\"text-align: right;\"> nan</td><td style=\"text-align: right;\">1708</td><td>PS  </td><td style=\"text-align: right;\"> 1522</td><td>NA   </td><td style=\"text-align: right;\">  nan</td><td style=\"text-align: right;\">   68</td><td style=\"text-align: right;\">  nan</td><td style=\"text-align: right;\">  nan</td><td style=\"text-align: right;\">  nan</td><td>SFO  </td><td>LAX  </td><td style=\"text-align: right;\">  337</td><td style=\"text-align: right;\">  nan</td><td style=\"text-align: right;\">  nan</td><td style=\"text-align: right;\">    1</td><td>NA   </td><td style=\"text-align: right;\">    0</td><td style=\"text-align: right;\">  nan</td><td style=\"text-align: right;\">  nan</td><td style=\"text-align: right;\">  nan</td><td style=\"text-align: right;\">  nan</td><td style=\"text-align: right;\">  nan</td><td>YES  </td><td>YES  </td></tr>\n",
       "</tbody>\n",
       "</table>"
      ]
     },
     "metadata": {},
     "output_type": "display_data"
    },
    {
     "data": {
      "text/plain": []
     },
     "execution_count": 41,
     "metadata": {},
     "output_type": "execute_result"
    }
   ],
   "source": [
    "# Slicing based on boolean values [4.1]\n",
    "\n",
    "airline_df_mask = airline_df['C5'].isna()\n",
    "airline_df_na = airline_df[airline_df_mask,:]\n",
    "print(airline_df.shape)\n",
    "print(airline_df_na.shape)\n",
    "airline_df_na"
   ]
  },
  {
   "cell_type": "code",
   "execution_count": 42,
   "metadata": {},
   "outputs": [
    {
     "name": "stdout",
     "output_type": "stream",
     "text": [
      "(43978, 31)\n",
      "(42892, 31)\n"
     ]
    },
    {
     "data": {
      "text/html": [
       "<table>\n",
       "<thead>\n",
       "<tr><th style=\"text-align: right;\">  C1</th><th style=\"text-align: right;\">  C2</th><th style=\"text-align: right;\">  C3</th><th style=\"text-align: right;\">  C4</th><th style=\"text-align: right;\">  C5</th><th style=\"text-align: right;\">  C6</th><th style=\"text-align: right;\">  C7</th><th style=\"text-align: right;\">  C8</th><th>C9  </th><th style=\"text-align: right;\">  C10</th><th>C11  </th><th style=\"text-align: right;\">  C12</th><th style=\"text-align: right;\">  C13</th><th style=\"text-align: right;\">  C14</th><th style=\"text-align: right;\">  C15</th><th style=\"text-align: right;\">  C16</th><th>C17  </th><th>C18  </th><th style=\"text-align: right;\">  C19</th><th style=\"text-align: right;\">  C20</th><th style=\"text-align: right;\">  C21</th><th style=\"text-align: right;\">  C22</th><th>C23  </th><th style=\"text-align: right;\">  C24</th><th style=\"text-align: right;\">  C25</th><th style=\"text-align: right;\">  C26</th><th style=\"text-align: right;\">  C27</th><th style=\"text-align: right;\">  C28</th><th style=\"text-align: right;\">  C29</th><th>C30  </th><th>C31  </th></tr>\n",
       "</thead>\n",
       "<tbody>\n",
       "<tr><td style=\"text-align: right;\">1987</td><td style=\"text-align: right;\">  10</td><td style=\"text-align: right;\">  14</td><td style=\"text-align: right;\">   3</td><td style=\"text-align: right;\"> 741</td><td style=\"text-align: right;\"> 730</td><td style=\"text-align: right;\"> 912</td><td style=\"text-align: right;\"> 849</td><td>PS  </td><td style=\"text-align: right;\"> 1451</td><td>NA   </td><td style=\"text-align: right;\">   91</td><td style=\"text-align: right;\">   79</td><td style=\"text-align: right;\">  nan</td><td style=\"text-align: right;\">   23</td><td style=\"text-align: right;\">   11</td><td>SAN  </td><td>SFO  </td><td style=\"text-align: right;\">  447</td><td style=\"text-align: right;\">  nan</td><td style=\"text-align: right;\">  nan</td><td style=\"text-align: right;\">    0</td><td>NA   </td><td style=\"text-align: right;\">    0</td><td style=\"text-align: right;\">  nan</td><td style=\"text-align: right;\">  nan</td><td style=\"text-align: right;\">  nan</td><td style=\"text-align: right;\">  nan</td><td style=\"text-align: right;\">  nan</td><td>YES  </td><td>YES  </td></tr>\n",
       "<tr><td style=\"text-align: right;\">1987</td><td style=\"text-align: right;\">  10</td><td style=\"text-align: right;\">  15</td><td style=\"text-align: right;\">   4</td><td style=\"text-align: right;\"> 729</td><td style=\"text-align: right;\"> 730</td><td style=\"text-align: right;\"> 903</td><td style=\"text-align: right;\"> 849</td><td>PS  </td><td style=\"text-align: right;\"> 1451</td><td>NA   </td><td style=\"text-align: right;\">   94</td><td style=\"text-align: right;\">   79</td><td style=\"text-align: right;\">  nan</td><td style=\"text-align: right;\">   14</td><td style=\"text-align: right;\">   -1</td><td>SAN  </td><td>SFO  </td><td style=\"text-align: right;\">  447</td><td style=\"text-align: right;\">  nan</td><td style=\"text-align: right;\">  nan</td><td style=\"text-align: right;\">    0</td><td>NA   </td><td style=\"text-align: right;\">    0</td><td style=\"text-align: right;\">  nan</td><td style=\"text-align: right;\">  nan</td><td style=\"text-align: right;\">  nan</td><td style=\"text-align: right;\">  nan</td><td style=\"text-align: right;\">  nan</td><td>YES  </td><td>NO   </td></tr>\n",
       "<tr><td style=\"text-align: right;\">1987</td><td style=\"text-align: right;\">  10</td><td style=\"text-align: right;\">  17</td><td style=\"text-align: right;\">   6</td><td style=\"text-align: right;\"> 741</td><td style=\"text-align: right;\"> 730</td><td style=\"text-align: right;\"> 918</td><td style=\"text-align: right;\"> 849</td><td>PS  </td><td style=\"text-align: right;\"> 1451</td><td>NA   </td><td style=\"text-align: right;\">   97</td><td style=\"text-align: right;\">   79</td><td style=\"text-align: right;\">  nan</td><td style=\"text-align: right;\">   29</td><td style=\"text-align: right;\">   11</td><td>SAN  </td><td>SFO  </td><td style=\"text-align: right;\">  447</td><td style=\"text-align: right;\">  nan</td><td style=\"text-align: right;\">  nan</td><td style=\"text-align: right;\">    0</td><td>NA   </td><td style=\"text-align: right;\">    0</td><td style=\"text-align: right;\">  nan</td><td style=\"text-align: right;\">  nan</td><td style=\"text-align: right;\">  nan</td><td style=\"text-align: right;\">  nan</td><td style=\"text-align: right;\">  nan</td><td>YES  </td><td>YES  </td></tr>\n",
       "<tr><td style=\"text-align: right;\">1987</td><td style=\"text-align: right;\">  10</td><td style=\"text-align: right;\">  18</td><td style=\"text-align: right;\">   7</td><td style=\"text-align: right;\"> 729</td><td style=\"text-align: right;\"> 730</td><td style=\"text-align: right;\"> 847</td><td style=\"text-align: right;\"> 849</td><td>PS  </td><td style=\"text-align: right;\"> 1451</td><td>NA   </td><td style=\"text-align: right;\">   78</td><td style=\"text-align: right;\">   79</td><td style=\"text-align: right;\">  nan</td><td style=\"text-align: right;\">   -2</td><td style=\"text-align: right;\">   -1</td><td>SAN  </td><td>SFO  </td><td style=\"text-align: right;\">  447</td><td style=\"text-align: right;\">  nan</td><td style=\"text-align: right;\">  nan</td><td style=\"text-align: right;\">    0</td><td>NA   </td><td style=\"text-align: right;\">    0</td><td style=\"text-align: right;\">  nan</td><td style=\"text-align: right;\">  nan</td><td style=\"text-align: right;\">  nan</td><td style=\"text-align: right;\">  nan</td><td style=\"text-align: right;\">  nan</td><td>NO   </td><td>NO   </td></tr>\n",
       "<tr><td style=\"text-align: right;\">1987</td><td style=\"text-align: right;\">  10</td><td style=\"text-align: right;\">  19</td><td style=\"text-align: right;\">   1</td><td style=\"text-align: right;\"> 749</td><td style=\"text-align: right;\"> 730</td><td style=\"text-align: right;\"> 922</td><td style=\"text-align: right;\"> 849</td><td>PS  </td><td style=\"text-align: right;\"> 1451</td><td>NA   </td><td style=\"text-align: right;\">   93</td><td style=\"text-align: right;\">   79</td><td style=\"text-align: right;\">  nan</td><td style=\"text-align: right;\">   33</td><td style=\"text-align: right;\">   19</td><td>SAN  </td><td>SFO  </td><td style=\"text-align: right;\">  447</td><td style=\"text-align: right;\">  nan</td><td style=\"text-align: right;\">  nan</td><td style=\"text-align: right;\">    0</td><td>NA   </td><td style=\"text-align: right;\">    0</td><td style=\"text-align: right;\">  nan</td><td style=\"text-align: right;\">  nan</td><td style=\"text-align: right;\">  nan</td><td style=\"text-align: right;\">  nan</td><td style=\"text-align: right;\">  nan</td><td>YES  </td><td>YES  </td></tr>\n",
       "<tr><td style=\"text-align: right;\">1987</td><td style=\"text-align: right;\">  10</td><td style=\"text-align: right;\">  21</td><td style=\"text-align: right;\">   3</td><td style=\"text-align: right;\"> 728</td><td style=\"text-align: right;\"> 730</td><td style=\"text-align: right;\"> 848</td><td style=\"text-align: right;\"> 849</td><td>PS  </td><td style=\"text-align: right;\"> 1451</td><td>NA   </td><td style=\"text-align: right;\">   80</td><td style=\"text-align: right;\">   79</td><td style=\"text-align: right;\">  nan</td><td style=\"text-align: right;\">   -1</td><td style=\"text-align: right;\">   -2</td><td>SAN  </td><td>SFO  </td><td style=\"text-align: right;\">  447</td><td style=\"text-align: right;\">  nan</td><td style=\"text-align: right;\">  nan</td><td style=\"text-align: right;\">    0</td><td>NA   </td><td style=\"text-align: right;\">    0</td><td style=\"text-align: right;\">  nan</td><td style=\"text-align: right;\">  nan</td><td style=\"text-align: right;\">  nan</td><td style=\"text-align: right;\">  nan</td><td style=\"text-align: right;\">  nan</td><td>NO   </td><td>NO   </td></tr>\n",
       "<tr><td style=\"text-align: right;\">1987</td><td style=\"text-align: right;\">  10</td><td style=\"text-align: right;\">  22</td><td style=\"text-align: right;\">   4</td><td style=\"text-align: right;\"> 728</td><td style=\"text-align: right;\"> 730</td><td style=\"text-align: right;\"> 852</td><td style=\"text-align: right;\"> 849</td><td>PS  </td><td style=\"text-align: right;\"> 1451</td><td>NA   </td><td style=\"text-align: right;\">   84</td><td style=\"text-align: right;\">   79</td><td style=\"text-align: right;\">  nan</td><td style=\"text-align: right;\">    3</td><td style=\"text-align: right;\">   -2</td><td>SAN  </td><td>SFO  </td><td style=\"text-align: right;\">  447</td><td style=\"text-align: right;\">  nan</td><td style=\"text-align: right;\">  nan</td><td style=\"text-align: right;\">    0</td><td>NA   </td><td style=\"text-align: right;\">    0</td><td style=\"text-align: right;\">  nan</td><td style=\"text-align: right;\">  nan</td><td style=\"text-align: right;\">  nan</td><td style=\"text-align: right;\">  nan</td><td style=\"text-align: right;\">  nan</td><td>YES  </td><td>NO   </td></tr>\n",
       "<tr><td style=\"text-align: right;\">1987</td><td style=\"text-align: right;\">  10</td><td style=\"text-align: right;\">  23</td><td style=\"text-align: right;\">   5</td><td style=\"text-align: right;\"> 731</td><td style=\"text-align: right;\"> 730</td><td style=\"text-align: right;\"> 902</td><td style=\"text-align: right;\"> 849</td><td>PS  </td><td style=\"text-align: right;\"> 1451</td><td>NA   </td><td style=\"text-align: right;\">   91</td><td style=\"text-align: right;\">   79</td><td style=\"text-align: right;\">  nan</td><td style=\"text-align: right;\">   13</td><td style=\"text-align: right;\">    1</td><td>SAN  </td><td>SFO  </td><td style=\"text-align: right;\">  447</td><td style=\"text-align: right;\">  nan</td><td style=\"text-align: right;\">  nan</td><td style=\"text-align: right;\">    0</td><td>NA   </td><td style=\"text-align: right;\">    0</td><td style=\"text-align: right;\">  nan</td><td style=\"text-align: right;\">  nan</td><td style=\"text-align: right;\">  nan</td><td style=\"text-align: right;\">  nan</td><td style=\"text-align: right;\">  nan</td><td>YES  </td><td>YES  </td></tr>\n",
       "<tr><td style=\"text-align: right;\">1987</td><td style=\"text-align: right;\">  10</td><td style=\"text-align: right;\">  24</td><td style=\"text-align: right;\">   6</td><td style=\"text-align: right;\"> 744</td><td style=\"text-align: right;\"> 730</td><td style=\"text-align: right;\"> 908</td><td style=\"text-align: right;\"> 849</td><td>PS  </td><td style=\"text-align: right;\"> 1451</td><td>NA   </td><td style=\"text-align: right;\">   84</td><td style=\"text-align: right;\">   79</td><td style=\"text-align: right;\">  nan</td><td style=\"text-align: right;\">   19</td><td style=\"text-align: right;\">   14</td><td>SAN  </td><td>SFO  </td><td style=\"text-align: right;\">  447</td><td style=\"text-align: right;\">  nan</td><td style=\"text-align: right;\">  nan</td><td style=\"text-align: right;\">    0</td><td>NA   </td><td style=\"text-align: right;\">    0</td><td style=\"text-align: right;\">  nan</td><td style=\"text-align: right;\">  nan</td><td style=\"text-align: right;\">  nan</td><td style=\"text-align: right;\">  nan</td><td style=\"text-align: right;\">  nan</td><td>YES  </td><td>YES  </td></tr>\n",
       "<tr><td style=\"text-align: right;\">1987</td><td style=\"text-align: right;\">  10</td><td style=\"text-align: right;\">  25</td><td style=\"text-align: right;\">   7</td><td style=\"text-align: right;\"> 729</td><td style=\"text-align: right;\"> 730</td><td style=\"text-align: right;\"> 851</td><td style=\"text-align: right;\"> 849</td><td>PS  </td><td style=\"text-align: right;\"> 1451</td><td>NA   </td><td style=\"text-align: right;\">   82</td><td style=\"text-align: right;\">   79</td><td style=\"text-align: right;\">  nan</td><td style=\"text-align: right;\">    2</td><td style=\"text-align: right;\">   -1</td><td>SAN  </td><td>SFO  </td><td style=\"text-align: right;\">  447</td><td style=\"text-align: right;\">  nan</td><td style=\"text-align: right;\">  nan</td><td style=\"text-align: right;\">    0</td><td>NA   </td><td style=\"text-align: right;\">    0</td><td style=\"text-align: right;\">  nan</td><td style=\"text-align: right;\">  nan</td><td style=\"text-align: right;\">  nan</td><td style=\"text-align: right;\">  nan</td><td style=\"text-align: right;\">  nan</td><td>YES  </td><td>NO   </td></tr>\n",
       "</tbody>\n",
       "</table>"
      ]
     },
     "metadata": {},
     "output_type": "display_data"
    },
    {
     "data": {
      "text/plain": []
     },
     "execution_count": 42,
     "metadata": {},
     "output_type": "execute_result"
    }
   ],
   "source": [
    "# Slicing based on boolean values [4.2]\n",
    "\n",
    "airline_df_mask = airline_df['C5'].isna()\n",
    "airline_df_na = airline_df[~airline_df_mask,:]\n",
    "print(airline_df.shape)\n",
    "print(airline_df_na.shape)\n",
    "airline_df_na"
   ]
  },
  {
   "cell_type": "code",
   "execution_count": 43,
   "metadata": {},
   "outputs": [
    {
     "data": {
      "text/html": [
       "<table>\n",
       "<thead>\n",
       "<tr><th style=\"text-align: right;\">  C2</th></tr>\n",
       "</thead>\n",
       "<tbody>\n",
       "<tr><td style=\"text-align: right;\">  10</td></tr>\n",
       "<tr><td style=\"text-align: right;\">  10</td></tr>\n",
       "<tr><td style=\"text-align: right;\">  10</td></tr>\n",
       "<tr><td style=\"text-align: right;\">  10</td></tr>\n",
       "<tr><td style=\"text-align: right;\">  10</td></tr>\n",
       "<tr><td style=\"text-align: right;\">  10</td></tr>\n",
       "<tr><td style=\"text-align: right;\">  10</td></tr>\n",
       "<tr><td style=\"text-align: right;\">  10</td></tr>\n",
       "<tr><td style=\"text-align: right;\">  10</td></tr>\n",
       "<tr><td style=\"text-align: right;\">  10</td></tr>\n",
       "</tbody>\n",
       "</table>"
      ]
     },
     "metadata": {},
     "output_type": "display_data"
    },
    {
     "data": {
      "text/plain": []
     },
     "execution_count": 43,
     "metadata": {},
     "output_type": "execute_result"
    }
   ],
   "source": [
    "# Slicing Columns [1]\n",
    "\n",
    "# Column by id\n",
    "airline_df[:,1] # try 0 , 1 or other"
   ]
  },
  {
   "cell_type": "code",
   "execution_count": 44,
   "metadata": {},
   "outputs": [
    {
     "data": {
      "text/html": [
       "<table>\n",
       "<thead>\n",
       "<tr><th>C11  </th></tr>\n",
       "</thead>\n",
       "<tbody>\n",
       "<tr><td>NA   </td></tr>\n",
       "<tr><td>NA   </td></tr>\n",
       "<tr><td>NA   </td></tr>\n",
       "<tr><td>NA   </td></tr>\n",
       "<tr><td>NA   </td></tr>\n",
       "<tr><td>NA   </td></tr>\n",
       "<tr><td>NA   </td></tr>\n",
       "<tr><td>NA   </td></tr>\n",
       "<tr><td>NA   </td></tr>\n",
       "<tr><td>NA   </td></tr>\n",
       "</tbody>\n",
       "</table>"
      ]
     },
     "metadata": {},
     "output_type": "display_data"
    },
    {
     "data": {
      "text/plain": []
     },
     "execution_count": 44,
     "metadata": {},
     "output_type": "execute_result"
    }
   ],
   "source": [
    "# Slicing Columns [2]\n",
    "\n",
    "# Column by name\n",
    "airline_df[:,'C11'] # try C1, C4 , C11 or other"
   ]
  },
  {
   "cell_type": "code",
   "execution_count": 45,
   "metadata": {},
   "outputs": [
    {
     "data": {
      "text/html": [
       "<table>\n",
       "<thead>\n",
       "<tr><th>C11  </th><th style=\"text-align: right;\">  C1</th></tr>\n",
       "</thead>\n",
       "<tbody>\n",
       "<tr><td>NA   </td><td style=\"text-align: right;\">1987</td></tr>\n",
       "<tr><td>NA   </td><td style=\"text-align: right;\">1987</td></tr>\n",
       "<tr><td>NA   </td><td style=\"text-align: right;\">1987</td></tr>\n",
       "<tr><td>NA   </td><td style=\"text-align: right;\">1987</td></tr>\n",
       "<tr><td>NA   </td><td style=\"text-align: right;\">1987</td></tr>\n",
       "<tr><td>NA   </td><td style=\"text-align: right;\">1987</td></tr>\n",
       "<tr><td>NA   </td><td style=\"text-align: right;\">1987</td></tr>\n",
       "<tr><td>NA   </td><td style=\"text-align: right;\">1987</td></tr>\n",
       "<tr><td>NA   </td><td style=\"text-align: right;\">1987</td></tr>\n",
       "<tr><td>NA   </td><td style=\"text-align: right;\">1987</td></tr>\n",
       "</tbody>\n",
       "</table>"
      ]
     },
     "metadata": {},
     "output_type": "display_data"
    },
    {
     "data": {
      "text/plain": []
     },
     "execution_count": 45,
     "metadata": {},
     "output_type": "execute_result"
    }
   ],
   "source": [
    "# Slicing Columns [3]\n",
    "\n",
    "# Column by names\n",
    "airline_df[:,['C11', 'C1']] # try ['C1', 'C11'] | "
   ]
  },
  {
   "cell_type": "code",
   "execution_count": 46,
   "metadata": {},
   "outputs": [
    {
     "data": {
      "text/html": [
       "<table>\n",
       "<thead>\n",
       "<tr><th style=\"text-align: right;\">  C1</th><th style=\"text-align: right;\">  C2</th><th style=\"text-align: right;\">  C3</th><th style=\"text-align: right;\">  C4</th><th style=\"text-align: right;\">  C5</th></tr>\n",
       "</thead>\n",
       "<tbody>\n",
       "<tr><td style=\"text-align: right;\">1987</td><td style=\"text-align: right;\">  10</td><td style=\"text-align: right;\">  14</td><td style=\"text-align: right;\">   3</td><td style=\"text-align: right;\"> 741</td></tr>\n",
       "<tr><td style=\"text-align: right;\">1987</td><td style=\"text-align: right;\">  10</td><td style=\"text-align: right;\">  15</td><td style=\"text-align: right;\">   4</td><td style=\"text-align: right;\"> 729</td></tr>\n",
       "<tr><td style=\"text-align: right;\">1987</td><td style=\"text-align: right;\">  10</td><td style=\"text-align: right;\">  17</td><td style=\"text-align: right;\">   6</td><td style=\"text-align: right;\"> 741</td></tr>\n",
       "<tr><td style=\"text-align: right;\">1987</td><td style=\"text-align: right;\">  10</td><td style=\"text-align: right;\">  18</td><td style=\"text-align: right;\">   7</td><td style=\"text-align: right;\"> 729</td></tr>\n",
       "<tr><td style=\"text-align: right;\">1987</td><td style=\"text-align: right;\">  10</td><td style=\"text-align: right;\">  19</td><td style=\"text-align: right;\">   1</td><td style=\"text-align: right;\"> 749</td></tr>\n",
       "<tr><td style=\"text-align: right;\">1987</td><td style=\"text-align: right;\">  10</td><td style=\"text-align: right;\">  21</td><td style=\"text-align: right;\">   3</td><td style=\"text-align: right;\"> 728</td></tr>\n",
       "<tr><td style=\"text-align: right;\">1987</td><td style=\"text-align: right;\">  10</td><td style=\"text-align: right;\">  22</td><td style=\"text-align: right;\">   4</td><td style=\"text-align: right;\"> 728</td></tr>\n",
       "<tr><td style=\"text-align: right;\">1987</td><td style=\"text-align: right;\">  10</td><td style=\"text-align: right;\">  23</td><td style=\"text-align: right;\">   5</td><td style=\"text-align: right;\"> 731</td></tr>\n",
       "<tr><td style=\"text-align: right;\">1987</td><td style=\"text-align: right;\">  10</td><td style=\"text-align: right;\">  24</td><td style=\"text-align: right;\">   6</td><td style=\"text-align: right;\"> 744</td></tr>\n",
       "<tr><td style=\"text-align: right;\">1987</td><td style=\"text-align: right;\">  10</td><td style=\"text-align: right;\">  25</td><td style=\"text-align: right;\">   7</td><td style=\"text-align: right;\"> 729</td></tr>\n",
       "</tbody>\n",
       "</table>"
      ]
     },
     "metadata": {},
     "output_type": "display_data"
    },
    {
     "data": {
      "text/plain": []
     },
     "execution_count": 46,
     "metadata": {},
     "output_type": "execute_result"
    }
   ],
   "source": [
    "# Slicing Columns [4]\n",
    "\n",
    "# Column by range\n",
    "airline_df[:,range(5)] # try range(2,9) | range(5,9) | range(9,2) - Error"
   ]
  },
  {
   "cell_type": "code",
   "execution_count": 47,
   "metadata": {},
   "outputs": [
    {
     "data": {
      "text/plain": [
       "79.0"
      ]
     },
     "execution_count": 47,
     "metadata": {},
     "output_type": "execute_result"
    }
   ],
   "source": [
    "# Getting value at speific cell [1]\n",
    "\n",
    "#airline_df[0,0] # Value at row 0 and column 0\n",
    "airline_df[10,12]  # Value at row 10 and column 20 "
   ]
  },
  {
   "cell_type": "code",
   "execution_count": 48,
   "metadata": {},
   "outputs": [
    {
     "data": {
      "text/html": [
       "<table>\n",
       "<thead>\n",
       "<tr><th style=\"text-align: right;\">  C1</th><th style=\"text-align: right;\">  C2</th><th style=\"text-align: right;\">  C3</th><th style=\"text-align: right;\">  C4</th><th style=\"text-align: right;\">  C5</th><th style=\"text-align: right;\">  C6</th><th style=\"text-align: right;\">  C7</th><th style=\"text-align: right;\">  C8</th><th>C9  </th><th style=\"text-align: right;\">  C10</th><th>C11  </th><th style=\"text-align: right;\">  C12</th><th style=\"text-align: right;\">  C13</th><th style=\"text-align: right;\">  C14</th><th style=\"text-align: right;\">  C15</th><th style=\"text-align: right;\">  C16</th><th>C17  </th><th>C18  </th><th style=\"text-align: right;\">  C19</th><th style=\"text-align: right;\">  C20</th><th style=\"text-align: right;\">  C21</th><th style=\"text-align: right;\">  C22</th><th>C23  </th><th style=\"text-align: right;\">  C24</th><th style=\"text-align: right;\">  C25</th><th style=\"text-align: right;\">  C26</th><th style=\"text-align: right;\">  C27</th><th style=\"text-align: right;\">  C28</th><th style=\"text-align: right;\">  C29</th><th>C30  </th><th>C31  </th></tr>\n",
       "</thead>\n",
       "<tbody>\n",
       "<tr><td style=\"text-align: right;\">1987</td><td style=\"text-align: right;\">  10</td><td style=\"text-align: right;\">  14</td><td style=\"text-align: right;\">   3</td><td style=\"text-align: right;\"> 741</td><td style=\"text-align: right;\"> 730</td><td style=\"text-align: right;\"> 912</td><td style=\"text-align: right;\"> 849</td><td>PS  </td><td style=\"text-align: right;\"> 1451</td><td>NA   </td><td style=\"text-align: right;\">   91</td><td style=\"text-align: right;\">   79</td><td style=\"text-align: right;\">  nan</td><td style=\"text-align: right;\">   23</td><td style=\"text-align: right;\">   11</td><td>SAN  </td><td>SFO  </td><td style=\"text-align: right;\">  447</td><td style=\"text-align: right;\">  nan</td><td style=\"text-align: right;\">  nan</td><td style=\"text-align: right;\">    0</td><td>NA   </td><td style=\"text-align: right;\">    0</td><td style=\"text-align: right;\">  nan</td><td style=\"text-align: right;\">  nan</td><td style=\"text-align: right;\">  nan</td><td style=\"text-align: right;\">  nan</td><td style=\"text-align: right;\">  nan</td><td>YES  </td><td>YES  </td></tr>\n",
       "<tr><td style=\"text-align: right;\">1987</td><td style=\"text-align: right;\">  10</td><td style=\"text-align: right;\">  15</td><td style=\"text-align: right;\">   4</td><td style=\"text-align: right;\"> 729</td><td style=\"text-align: right;\"> 730</td><td style=\"text-align: right;\"> 903</td><td style=\"text-align: right;\"> 849</td><td>PS  </td><td style=\"text-align: right;\"> 1451</td><td>NA   </td><td style=\"text-align: right;\">   94</td><td style=\"text-align: right;\">   79</td><td style=\"text-align: right;\">  nan</td><td style=\"text-align: right;\">   14</td><td style=\"text-align: right;\">   -1</td><td>SAN  </td><td>SFO  </td><td style=\"text-align: right;\">  447</td><td style=\"text-align: right;\">  nan</td><td style=\"text-align: right;\">  nan</td><td style=\"text-align: right;\">    0</td><td>NA   </td><td style=\"text-align: right;\">    0</td><td style=\"text-align: right;\">  nan</td><td style=\"text-align: right;\">  nan</td><td style=\"text-align: right;\">  nan</td><td style=\"text-align: right;\">  nan</td><td style=\"text-align: right;\">  nan</td><td>YES  </td><td>NO   </td></tr>\n",
       "<tr><td style=\"text-align: right;\">1987</td><td style=\"text-align: right;\">  10</td><td style=\"text-align: right;\">  17</td><td style=\"text-align: right;\">   6</td><td style=\"text-align: right;\"> 741</td><td style=\"text-align: right;\"> 730</td><td style=\"text-align: right;\"> 918</td><td style=\"text-align: right;\"> 849</td><td>PS  </td><td style=\"text-align: right;\"> 1451</td><td>NA   </td><td style=\"text-align: right;\">   97</td><td style=\"text-align: right;\">   79</td><td style=\"text-align: right;\">  nan</td><td style=\"text-align: right;\">   29</td><td style=\"text-align: right;\">   11</td><td>SAN  </td><td>SFO  </td><td style=\"text-align: right;\">  447</td><td style=\"text-align: right;\">  nan</td><td style=\"text-align: right;\">  nan</td><td style=\"text-align: right;\">    0</td><td>NA   </td><td style=\"text-align: right;\">    0</td><td style=\"text-align: right;\">  nan</td><td style=\"text-align: right;\">  nan</td><td style=\"text-align: right;\">  nan</td><td style=\"text-align: right;\">  nan</td><td style=\"text-align: right;\">  nan</td><td>YES  </td><td>YES  </td></tr>\n",
       "<tr><td style=\"text-align: right;\">1987</td><td style=\"text-align: right;\">  10</td><td style=\"text-align: right;\">  18</td><td style=\"text-align: right;\">   7</td><td style=\"text-align: right;\"> 729</td><td style=\"text-align: right;\"> 730</td><td style=\"text-align: right;\"> 847</td><td style=\"text-align: right;\"> 849</td><td>PS  </td><td style=\"text-align: right;\"> 1451</td><td>NA   </td><td style=\"text-align: right;\">   78</td><td style=\"text-align: right;\">   79</td><td style=\"text-align: right;\">  nan</td><td style=\"text-align: right;\">   -2</td><td style=\"text-align: right;\">   -1</td><td>SAN  </td><td>SFO  </td><td style=\"text-align: right;\">  447</td><td style=\"text-align: right;\">  nan</td><td style=\"text-align: right;\">  nan</td><td style=\"text-align: right;\">    0</td><td>NA   </td><td style=\"text-align: right;\">    0</td><td style=\"text-align: right;\">  nan</td><td style=\"text-align: right;\">  nan</td><td style=\"text-align: right;\">  nan</td><td style=\"text-align: right;\">  nan</td><td style=\"text-align: right;\">  nan</td><td>NO   </td><td>NO   </td></tr>\n",
       "<tr><td style=\"text-align: right;\">1987</td><td style=\"text-align: right;\">  10</td><td style=\"text-align: right;\">  19</td><td style=\"text-align: right;\">   1</td><td style=\"text-align: right;\"> 749</td><td style=\"text-align: right;\"> 730</td><td style=\"text-align: right;\"> 922</td><td style=\"text-align: right;\"> 849</td><td>PS  </td><td style=\"text-align: right;\"> 1451</td><td>NA   </td><td style=\"text-align: right;\">   93</td><td style=\"text-align: right;\">   79</td><td style=\"text-align: right;\">  nan</td><td style=\"text-align: right;\">   33</td><td style=\"text-align: right;\">   19</td><td>SAN  </td><td>SFO  </td><td style=\"text-align: right;\">  447</td><td style=\"text-align: right;\">  nan</td><td style=\"text-align: right;\">  nan</td><td style=\"text-align: right;\">    0</td><td>NA   </td><td style=\"text-align: right;\">    0</td><td style=\"text-align: right;\">  nan</td><td style=\"text-align: right;\">  nan</td><td style=\"text-align: right;\">  nan</td><td style=\"text-align: right;\">  nan</td><td style=\"text-align: right;\">  nan</td><td>YES  </td><td>YES  </td></tr>\n",
       "<tr><td style=\"text-align: right;\">1987</td><td style=\"text-align: right;\">  10</td><td style=\"text-align: right;\">  21</td><td style=\"text-align: right;\">   3</td><td style=\"text-align: right;\"> 728</td><td style=\"text-align: right;\"> 730</td><td style=\"text-align: right;\"> 848</td><td style=\"text-align: right;\"> 849</td><td>PS  </td><td style=\"text-align: right;\"> 1451</td><td>NA   </td><td style=\"text-align: right;\">   80</td><td style=\"text-align: right;\">   79</td><td style=\"text-align: right;\">  nan</td><td style=\"text-align: right;\">   -1</td><td style=\"text-align: right;\">   -2</td><td>SAN  </td><td>SFO  </td><td style=\"text-align: right;\">  447</td><td style=\"text-align: right;\">  nan</td><td style=\"text-align: right;\">  nan</td><td style=\"text-align: right;\">    0</td><td>NA   </td><td style=\"text-align: right;\">    0</td><td style=\"text-align: right;\">  nan</td><td style=\"text-align: right;\">  nan</td><td style=\"text-align: right;\">  nan</td><td style=\"text-align: right;\">  nan</td><td style=\"text-align: right;\">  nan</td><td>NO   </td><td>NO   </td></tr>\n",
       "<tr><td style=\"text-align: right;\">1987</td><td style=\"text-align: right;\">  10</td><td style=\"text-align: right;\">  22</td><td style=\"text-align: right;\">   4</td><td style=\"text-align: right;\"> 728</td><td style=\"text-align: right;\"> 730</td><td style=\"text-align: right;\"> 852</td><td style=\"text-align: right;\"> 849</td><td>PS  </td><td style=\"text-align: right;\"> 1451</td><td>NA   </td><td style=\"text-align: right;\">   84</td><td style=\"text-align: right;\">   79</td><td style=\"text-align: right;\">  nan</td><td style=\"text-align: right;\">    3</td><td style=\"text-align: right;\">   -2</td><td>SAN  </td><td>SFO  </td><td style=\"text-align: right;\">  447</td><td style=\"text-align: right;\">  nan</td><td style=\"text-align: right;\">  nan</td><td style=\"text-align: right;\">    0</td><td>NA   </td><td style=\"text-align: right;\">    0</td><td style=\"text-align: right;\">  nan</td><td style=\"text-align: right;\">  nan</td><td style=\"text-align: right;\">  nan</td><td style=\"text-align: right;\">  nan</td><td style=\"text-align: right;\">  nan</td><td>YES  </td><td>NO   </td></tr>\n",
       "<tr><td style=\"text-align: right;\">1987</td><td style=\"text-align: right;\">  10</td><td style=\"text-align: right;\">  23</td><td style=\"text-align: right;\">   5</td><td style=\"text-align: right;\"> 731</td><td style=\"text-align: right;\"> 730</td><td style=\"text-align: right;\"> 902</td><td style=\"text-align: right;\"> 849</td><td>PS  </td><td style=\"text-align: right;\"> 1451</td><td>NA   </td><td style=\"text-align: right;\">   91</td><td style=\"text-align: right;\">   79</td><td style=\"text-align: right;\">  nan</td><td style=\"text-align: right;\">   13</td><td style=\"text-align: right;\">    1</td><td>SAN  </td><td>SFO  </td><td style=\"text-align: right;\">  447</td><td style=\"text-align: right;\">  nan</td><td style=\"text-align: right;\">  nan</td><td style=\"text-align: right;\">    0</td><td>NA   </td><td style=\"text-align: right;\">    0</td><td style=\"text-align: right;\">  nan</td><td style=\"text-align: right;\">  nan</td><td style=\"text-align: right;\">  nan</td><td style=\"text-align: right;\">  nan</td><td style=\"text-align: right;\">  nan</td><td>YES  </td><td>YES  </td></tr>\n",
       "<tr><td style=\"text-align: right;\">1987</td><td style=\"text-align: right;\">  10</td><td style=\"text-align: right;\">  24</td><td style=\"text-align: right;\">   6</td><td style=\"text-align: right;\"> 744</td><td style=\"text-align: right;\"> 730</td><td style=\"text-align: right;\"> 908</td><td style=\"text-align: right;\"> 849</td><td>PS  </td><td style=\"text-align: right;\"> 1451</td><td>NA   </td><td style=\"text-align: right;\">   84</td><td style=\"text-align: right;\">   79</td><td style=\"text-align: right;\">  nan</td><td style=\"text-align: right;\">   19</td><td style=\"text-align: right;\">   14</td><td>SAN  </td><td>SFO  </td><td style=\"text-align: right;\">  447</td><td style=\"text-align: right;\">  nan</td><td style=\"text-align: right;\">  nan</td><td style=\"text-align: right;\">    0</td><td>NA   </td><td style=\"text-align: right;\">    0</td><td style=\"text-align: right;\">  nan</td><td style=\"text-align: right;\">  nan</td><td style=\"text-align: right;\">  nan</td><td style=\"text-align: right;\">  nan</td><td style=\"text-align: right;\">  nan</td><td>YES  </td><td>YES  </td></tr>\n",
       "<tr><td style=\"text-align: right;\">1987</td><td style=\"text-align: right;\">  10</td><td style=\"text-align: right;\">  25</td><td style=\"text-align: right;\">   7</td><td style=\"text-align: right;\"> 729</td><td style=\"text-align: right;\"> 730</td><td style=\"text-align: right;\"> 851</td><td style=\"text-align: right;\"> 849</td><td>PS  </td><td style=\"text-align: right;\"> 1451</td><td>NA   </td><td style=\"text-align: right;\">   82</td><td style=\"text-align: right;\">   79</td><td style=\"text-align: right;\">  nan</td><td style=\"text-align: right;\">    2</td><td style=\"text-align: right;\">   -1</td><td>SAN  </td><td>SFO  </td><td style=\"text-align: right;\">  447</td><td style=\"text-align: right;\">  nan</td><td style=\"text-align: right;\">  nan</td><td style=\"text-align: right;\">    0</td><td>NA   </td><td style=\"text-align: right;\">    0</td><td style=\"text-align: right;\">  nan</td><td style=\"text-align: right;\">  nan</td><td style=\"text-align: right;\">  nan</td><td style=\"text-align: right;\">  nan</td><td style=\"text-align: right;\">  nan</td><td>YES  </td><td>NO   </td></tr>\n",
       "</tbody>\n",
       "</table>"
      ]
     },
     "metadata": {},
     "output_type": "display_data"
    },
    {
     "data": {
      "text/plain": []
     },
     "execution_count": 48,
     "metadata": {},
     "output_type": "execute_result"
    }
   ],
   "source": [
    "airline_df"
   ]
  },
  {
   "cell_type": "code",
   "execution_count": 49,
   "metadata": {},
   "outputs": [
    {
     "name": "stdout",
     "output_type": "stream",
     "text": [
      "(43978, 31)\n"
     ]
    },
    {
     "data": {
      "text/plain": [
       "'YES'"
      ]
     },
     "execution_count": 49,
     "metadata": {},
     "output_type": "execute_result"
    }
   ],
   "source": [
    "# Getting value at speific cell [2]\n",
    "print(airline_df.shape)\n",
    "airline_df[10,30]  # Value at row 10 and column 30 "
   ]
  },
  {
   "cell_type": "code",
   "execution_count": 50,
   "metadata": {},
   "outputs": [
    {
     "name": "stdout",
     "output_type": "stream",
     "text": [
      "79.0\n"
     ]
    }
   ],
   "source": [
    "# Getting value at speific cell [1]\n",
    "\n",
    "print(airline_df[10,12])  # Value at row 10 and column 20 "
   ]
  },
  {
   "cell_type": "code",
   "execution_count": 51,
   "metadata": {},
   "outputs": [
    {
     "name": "stdout",
     "output_type": "stream",
     "text": [
      "79.0\n",
      "98.0\n",
      "948.0\n",
      "237.0\n"
     ]
    }
   ],
   "source": [
    "# Replacing value at speific cell [1]\n",
    "\n",
    "print(airline_df[10,12])  # Value at row 10 and column 20 \n",
    "print(airline_df[10,12]+19)  # Value at row 10 and column 20 \n",
    "print(airline_df[10,12]*12)  # Value at row 10 and column 20 \n",
    "print(airline_df[10,12]*airline_df[0,3])  # Value at row 10 and column 20 "
   ]
  },
  {
   "cell_type": "code",
   "execution_count": 52,
   "metadata": {},
   "outputs": [
    {
     "data": {
      "text/html": [
       "<table>\n",
       "<thead>\n",
       "<tr><th style=\"text-align: right;\">  C2</th></tr>\n",
       "</thead>\n",
       "<tbody>\n",
       "<tr><td style=\"text-align: right;\">  90</td></tr>\n",
       "<tr><td style=\"text-align: right;\">  90</td></tr>\n",
       "<tr><td style=\"text-align: right;\">  90</td></tr>\n",
       "<tr><td style=\"text-align: right;\">  90</td></tr>\n",
       "<tr><td style=\"text-align: right;\">  90</td></tr>\n",
       "<tr><td style=\"text-align: right;\">  90</td></tr>\n",
       "<tr><td style=\"text-align: right;\">  90</td></tr>\n",
       "<tr><td style=\"text-align: right;\">  90</td></tr>\n",
       "<tr><td style=\"text-align: right;\">  90</td></tr>\n",
       "<tr><td style=\"text-align: right;\">  90</td></tr>\n",
       "</tbody>\n",
       "</table>"
      ]
     },
     "metadata": {},
     "output_type": "display_data"
    },
    {
     "data": {
      "text/plain": []
     },
     "execution_count": 52,
     "metadata": {},
     "output_type": "execute_result"
    }
   ],
   "source": [
    "# Replacing Values in the Frame [1]\n",
    "\n",
    "# Multipying values into specific column\n",
    "# airline_df['C2']\n",
    "airline_df['C2']*9"
   ]
  },
  {
   "cell_type": "code",
   "execution_count": 54,
   "metadata": {},
   "outputs": [
    {
     "name": "stdout",
     "output_type": "stream",
     "text": [
      "(43978, 31)\n",
      "(43978, 1)\n",
      "(43978, 1)\n",
      "(42783, 31)\n",
      "There are 1195 missing values\n",
      "setting all NA to 0\n",
      "now checking the count of NA\n",
      "(43978, 1)\n",
      "(43978, 1)\n"
     ]
    }
   ],
   "source": [
    "# Replacing NA values in the Frame for a column\n",
    "\n",
    "# Multipying values into specific column\n",
    "print(airline_df.shape)\n",
    "print(airline_df['C7'].shape)\n",
    "print(airline_df['C7'].isna().shape)\n",
    "mask_c7_na = airline_df['C7'].isna()\n",
    "airline_df_c7_na = airline_df[~mask_c7_na,:]\n",
    "print(airline_df_c7_na.shape)\n",
    "print(\"There are 1195 missing values\")\n",
    "print(\"setting all NA to 0\")\n",
    "airline_df[airline_df[\"C7\"].isna(), \"C7\"] = 0\n",
    "print(\"now checking the count of NA\")\n",
    "print(airline_df['C7'].shape)\n",
    "print(airline_df['C7'].isna().shape)"
   ]
  },
  {
   "cell_type": "markdown",
   "metadata": {},
   "source": [
    "# Splitting Data sets\n"
   ]
  },
  {
   "cell_type": "code",
   "execution_count": 55,
   "metadata": {},
   "outputs": [
    {
     "data": {
      "text/plain": [
       "(43978, 31)"
      ]
     },
     "execution_count": 55,
     "metadata": {},
     "output_type": "execute_result"
    }
   ],
   "source": [
    "# Splitting Data sets [1]\n",
    "\n",
    "# Estimate the size of dataframe\n",
    "airline_df.shape"
   ]
  },
  {
   "cell_type": "code",
   "execution_count": 56,
   "metadata": {},
   "outputs": [
    {
     "name": "stdout",
     "output_type": "stream",
     "text": [
      "(35089, 31)\n",
      "(4477, 31)\n",
      "(4412, 31)\n"
     ]
    }
   ],
   "source": [
    "# Splitting Data sets [1]\n",
    "\n",
    "# Spliting frame into 3 sets - train, valid and test\n",
    "train1,test1,valid1 = airline_df.split_frame(ratios=[0.8,0.1])\n",
    "print(train1.shape)\n",
    "print(test1.shape)\n",
    "print(valid1.shape)"
   ]
  },
  {
   "cell_type": "code",
   "execution_count": 57,
   "metadata": {},
   "outputs": [
    {
     "name": "stdout",
     "output_type": "stream",
     "text": [
      "(43978, 31)\n",
      "(32939, 31)\n",
      "(11039, 31)\n"
     ]
    }
   ],
   "source": [
    "# Spliting frame into 2 sets - train and test\n",
    "\n",
    "# ERROR BELOW\n",
    "print(airline_df.shape)\n",
    "train2,test2 = airline_df.split_frame(ratios=[0.75])\n",
    "print(train2.shape)\n",
    "print(test2.shape)\n"
   ]
  },
  {
   "cell_type": "markdown",
   "metadata": {},
   "source": [
    "# Combining two datasets  - Adding Rows\n",
    "\n"
   ]
  },
  {
   "cell_type": "code",
   "execution_count": 58,
   "metadata": {},
   "outputs": [
    {
     "name": "stdout",
     "output_type": "stream",
     "text": [
      "(35089, 31)\n",
      "(4477, 31)\n",
      "(39566, 31)\n"
     ]
    },
    {
     "data": {
      "text/html": [
       "<table>\n",
       "<thead>\n",
       "<tr><th style=\"text-align: right;\">  C1</th><th style=\"text-align: right;\">  C2</th><th style=\"text-align: right;\">  C3</th><th style=\"text-align: right;\">  C4</th><th style=\"text-align: right;\">  C5</th><th style=\"text-align: right;\">  C6</th><th style=\"text-align: right;\">  C7</th><th style=\"text-align: right;\">  C8</th><th>C9  </th><th style=\"text-align: right;\">  C10</th><th>C11  </th><th style=\"text-align: right;\">  C12</th><th style=\"text-align: right;\">  C13</th><th style=\"text-align: right;\">  C14</th><th style=\"text-align: right;\">  C15</th><th style=\"text-align: right;\">  C16</th><th>C17  </th><th>C18  </th><th style=\"text-align: right;\">  C19</th><th style=\"text-align: right;\">  C20</th><th style=\"text-align: right;\">  C21</th><th style=\"text-align: right;\">  C22</th><th>C23  </th><th style=\"text-align: right;\">  C24</th><th style=\"text-align: right;\">  C25</th><th style=\"text-align: right;\">  C26</th><th style=\"text-align: right;\">  C27</th><th style=\"text-align: right;\">  C28</th><th style=\"text-align: right;\">  C29</th><th>C30  </th><th>C31  </th></tr>\n",
       "</thead>\n",
       "<tbody>\n",
       "<tr><td style=\"text-align: right;\">1987</td><td style=\"text-align: right;\">  10</td><td style=\"text-align: right;\">  14</td><td style=\"text-align: right;\">   3</td><td style=\"text-align: right;\"> 741</td><td style=\"text-align: right;\"> 730</td><td style=\"text-align: right;\"> 912</td><td style=\"text-align: right;\"> 849</td><td>PS  </td><td style=\"text-align: right;\"> 1451</td><td>NA   </td><td style=\"text-align: right;\">   91</td><td style=\"text-align: right;\">   79</td><td style=\"text-align: right;\">  nan</td><td style=\"text-align: right;\">   23</td><td style=\"text-align: right;\">   11</td><td>SAN  </td><td>SFO  </td><td style=\"text-align: right;\">  447</td><td style=\"text-align: right;\">  nan</td><td style=\"text-align: right;\">  nan</td><td style=\"text-align: right;\">    0</td><td>NA   </td><td style=\"text-align: right;\">    0</td><td style=\"text-align: right;\">  nan</td><td style=\"text-align: right;\">  nan</td><td style=\"text-align: right;\">  nan</td><td style=\"text-align: right;\">  nan</td><td style=\"text-align: right;\">  nan</td><td>YES  </td><td>YES  </td></tr>\n",
       "<tr><td style=\"text-align: right;\">1987</td><td style=\"text-align: right;\">  10</td><td style=\"text-align: right;\">  15</td><td style=\"text-align: right;\">   4</td><td style=\"text-align: right;\"> 729</td><td style=\"text-align: right;\"> 730</td><td style=\"text-align: right;\"> 903</td><td style=\"text-align: right;\"> 849</td><td>PS  </td><td style=\"text-align: right;\"> 1451</td><td>NA   </td><td style=\"text-align: right;\">   94</td><td style=\"text-align: right;\">   79</td><td style=\"text-align: right;\">  nan</td><td style=\"text-align: right;\">   14</td><td style=\"text-align: right;\">   -1</td><td>SAN  </td><td>SFO  </td><td style=\"text-align: right;\">  447</td><td style=\"text-align: right;\">  nan</td><td style=\"text-align: right;\">  nan</td><td style=\"text-align: right;\">    0</td><td>NA   </td><td style=\"text-align: right;\">    0</td><td style=\"text-align: right;\">  nan</td><td style=\"text-align: right;\">  nan</td><td style=\"text-align: right;\">  nan</td><td style=\"text-align: right;\">  nan</td><td style=\"text-align: right;\">  nan</td><td>YES  </td><td>NO   </td></tr>\n",
       "<tr><td style=\"text-align: right;\">1987</td><td style=\"text-align: right;\">  10</td><td style=\"text-align: right;\">  17</td><td style=\"text-align: right;\">   6</td><td style=\"text-align: right;\"> 741</td><td style=\"text-align: right;\"> 730</td><td style=\"text-align: right;\"> 918</td><td style=\"text-align: right;\"> 849</td><td>PS  </td><td style=\"text-align: right;\"> 1451</td><td>NA   </td><td style=\"text-align: right;\">   97</td><td style=\"text-align: right;\">   79</td><td style=\"text-align: right;\">  nan</td><td style=\"text-align: right;\">   29</td><td style=\"text-align: right;\">   11</td><td>SAN  </td><td>SFO  </td><td style=\"text-align: right;\">  447</td><td style=\"text-align: right;\">  nan</td><td style=\"text-align: right;\">  nan</td><td style=\"text-align: right;\">    0</td><td>NA   </td><td style=\"text-align: right;\">    0</td><td style=\"text-align: right;\">  nan</td><td style=\"text-align: right;\">  nan</td><td style=\"text-align: right;\">  nan</td><td style=\"text-align: right;\">  nan</td><td style=\"text-align: right;\">  nan</td><td>YES  </td><td>YES  </td></tr>\n",
       "<tr><td style=\"text-align: right;\">1987</td><td style=\"text-align: right;\">  10</td><td style=\"text-align: right;\">  18</td><td style=\"text-align: right;\">   7</td><td style=\"text-align: right;\"> 729</td><td style=\"text-align: right;\"> 730</td><td style=\"text-align: right;\"> 847</td><td style=\"text-align: right;\"> 849</td><td>PS  </td><td style=\"text-align: right;\"> 1451</td><td>NA   </td><td style=\"text-align: right;\">   78</td><td style=\"text-align: right;\">   79</td><td style=\"text-align: right;\">  nan</td><td style=\"text-align: right;\">   -2</td><td style=\"text-align: right;\">   -1</td><td>SAN  </td><td>SFO  </td><td style=\"text-align: right;\">  447</td><td style=\"text-align: right;\">  nan</td><td style=\"text-align: right;\">  nan</td><td style=\"text-align: right;\">    0</td><td>NA   </td><td style=\"text-align: right;\">    0</td><td style=\"text-align: right;\">  nan</td><td style=\"text-align: right;\">  nan</td><td style=\"text-align: right;\">  nan</td><td style=\"text-align: right;\">  nan</td><td style=\"text-align: right;\">  nan</td><td>NO   </td><td>NO   </td></tr>\n",
       "<tr><td style=\"text-align: right;\">1987</td><td style=\"text-align: right;\">  10</td><td style=\"text-align: right;\">  19</td><td style=\"text-align: right;\">   1</td><td style=\"text-align: right;\"> 749</td><td style=\"text-align: right;\"> 730</td><td style=\"text-align: right;\"> 922</td><td style=\"text-align: right;\"> 849</td><td>PS  </td><td style=\"text-align: right;\"> 1451</td><td>NA   </td><td style=\"text-align: right;\">   93</td><td style=\"text-align: right;\">   79</td><td style=\"text-align: right;\">  nan</td><td style=\"text-align: right;\">   33</td><td style=\"text-align: right;\">   19</td><td>SAN  </td><td>SFO  </td><td style=\"text-align: right;\">  447</td><td style=\"text-align: right;\">  nan</td><td style=\"text-align: right;\">  nan</td><td style=\"text-align: right;\">    0</td><td>NA   </td><td style=\"text-align: right;\">    0</td><td style=\"text-align: right;\">  nan</td><td style=\"text-align: right;\">  nan</td><td style=\"text-align: right;\">  nan</td><td style=\"text-align: right;\">  nan</td><td style=\"text-align: right;\">  nan</td><td>YES  </td><td>YES  </td></tr>\n",
       "<tr><td style=\"text-align: right;\">1987</td><td style=\"text-align: right;\">  10</td><td style=\"text-align: right;\">  21</td><td style=\"text-align: right;\">   3</td><td style=\"text-align: right;\"> 728</td><td style=\"text-align: right;\"> 730</td><td style=\"text-align: right;\"> 848</td><td style=\"text-align: right;\"> 849</td><td>PS  </td><td style=\"text-align: right;\"> 1451</td><td>NA   </td><td style=\"text-align: right;\">   80</td><td style=\"text-align: right;\">   79</td><td style=\"text-align: right;\">  nan</td><td style=\"text-align: right;\">   -1</td><td style=\"text-align: right;\">   -2</td><td>SAN  </td><td>SFO  </td><td style=\"text-align: right;\">  447</td><td style=\"text-align: right;\">  nan</td><td style=\"text-align: right;\">  nan</td><td style=\"text-align: right;\">    0</td><td>NA   </td><td style=\"text-align: right;\">    0</td><td style=\"text-align: right;\">  nan</td><td style=\"text-align: right;\">  nan</td><td style=\"text-align: right;\">  nan</td><td style=\"text-align: right;\">  nan</td><td style=\"text-align: right;\">  nan</td><td>NO   </td><td>NO   </td></tr>\n",
       "<tr><td style=\"text-align: right;\">1987</td><td style=\"text-align: right;\">  10</td><td style=\"text-align: right;\">  22</td><td style=\"text-align: right;\">   4</td><td style=\"text-align: right;\"> 728</td><td style=\"text-align: right;\"> 730</td><td style=\"text-align: right;\"> 852</td><td style=\"text-align: right;\"> 849</td><td>PS  </td><td style=\"text-align: right;\"> 1451</td><td>NA   </td><td style=\"text-align: right;\">   84</td><td style=\"text-align: right;\">   79</td><td style=\"text-align: right;\">  nan</td><td style=\"text-align: right;\">    3</td><td style=\"text-align: right;\">   -2</td><td>SAN  </td><td>SFO  </td><td style=\"text-align: right;\">  447</td><td style=\"text-align: right;\">  nan</td><td style=\"text-align: right;\">  nan</td><td style=\"text-align: right;\">    0</td><td>NA   </td><td style=\"text-align: right;\">    0</td><td style=\"text-align: right;\">  nan</td><td style=\"text-align: right;\">  nan</td><td style=\"text-align: right;\">  nan</td><td style=\"text-align: right;\">  nan</td><td style=\"text-align: right;\">  nan</td><td>YES  </td><td>NO   </td></tr>\n",
       "<tr><td style=\"text-align: right;\">1987</td><td style=\"text-align: right;\">  10</td><td style=\"text-align: right;\">  23</td><td style=\"text-align: right;\">   5</td><td style=\"text-align: right;\"> 731</td><td style=\"text-align: right;\"> 730</td><td style=\"text-align: right;\"> 902</td><td style=\"text-align: right;\"> 849</td><td>PS  </td><td style=\"text-align: right;\"> 1451</td><td>NA   </td><td style=\"text-align: right;\">   91</td><td style=\"text-align: right;\">   79</td><td style=\"text-align: right;\">  nan</td><td style=\"text-align: right;\">   13</td><td style=\"text-align: right;\">    1</td><td>SAN  </td><td>SFO  </td><td style=\"text-align: right;\">  447</td><td style=\"text-align: right;\">  nan</td><td style=\"text-align: right;\">  nan</td><td style=\"text-align: right;\">    0</td><td>NA   </td><td style=\"text-align: right;\">    0</td><td style=\"text-align: right;\">  nan</td><td style=\"text-align: right;\">  nan</td><td style=\"text-align: right;\">  nan</td><td style=\"text-align: right;\">  nan</td><td style=\"text-align: right;\">  nan</td><td>YES  </td><td>YES  </td></tr>\n",
       "<tr><td style=\"text-align: right;\">1987</td><td style=\"text-align: right;\">  10</td><td style=\"text-align: right;\">  24</td><td style=\"text-align: right;\">   6</td><td style=\"text-align: right;\"> 744</td><td style=\"text-align: right;\"> 730</td><td style=\"text-align: right;\"> 908</td><td style=\"text-align: right;\"> 849</td><td>PS  </td><td style=\"text-align: right;\"> 1451</td><td>NA   </td><td style=\"text-align: right;\">   84</td><td style=\"text-align: right;\">   79</td><td style=\"text-align: right;\">  nan</td><td style=\"text-align: right;\">   19</td><td style=\"text-align: right;\">   14</td><td>SAN  </td><td>SFO  </td><td style=\"text-align: right;\">  447</td><td style=\"text-align: right;\">  nan</td><td style=\"text-align: right;\">  nan</td><td style=\"text-align: right;\">    0</td><td>NA   </td><td style=\"text-align: right;\">    0</td><td style=\"text-align: right;\">  nan</td><td style=\"text-align: right;\">  nan</td><td style=\"text-align: right;\">  nan</td><td style=\"text-align: right;\">  nan</td><td style=\"text-align: right;\">  nan</td><td>YES  </td><td>YES  </td></tr>\n",
       "<tr><td style=\"text-align: right;\">1987</td><td style=\"text-align: right;\">  10</td><td style=\"text-align: right;\">  25</td><td style=\"text-align: right;\">   7</td><td style=\"text-align: right;\"> 729</td><td style=\"text-align: right;\"> 730</td><td style=\"text-align: right;\"> 851</td><td style=\"text-align: right;\"> 849</td><td>PS  </td><td style=\"text-align: right;\"> 1451</td><td>NA   </td><td style=\"text-align: right;\">   82</td><td style=\"text-align: right;\">   79</td><td style=\"text-align: right;\">  nan</td><td style=\"text-align: right;\">    2</td><td style=\"text-align: right;\">   -1</td><td>SAN  </td><td>SFO  </td><td style=\"text-align: right;\">  447</td><td style=\"text-align: right;\">  nan</td><td style=\"text-align: right;\">  nan</td><td style=\"text-align: right;\">    0</td><td>NA   </td><td style=\"text-align: right;\">    0</td><td style=\"text-align: right;\">  nan</td><td style=\"text-align: right;\">  nan</td><td style=\"text-align: right;\">  nan</td><td style=\"text-align: right;\">  nan</td><td style=\"text-align: right;\">  nan</td><td>YES  </td><td>NO   </td></tr>\n",
       "</tbody>\n",
       "</table>"
      ]
     },
     "metadata": {},
     "output_type": "display_data"
    },
    {
     "data": {
      "text/plain": [
       "<bound method H2OFrame.describe of >"
      ]
     },
     "execution_count": 58,
     "metadata": {},
     "output_type": "execute_result"
    }
   ],
   "source": [
    "# Previously we create train1 and test1\n",
    "# lets combine them\n",
    "print(train1.shape)\n",
    "print(test1.shape)\n",
    "\n",
    "newdf = train1.rbind(test1)\n",
    "print(newdf.shape)\n",
    "newdf.describe\n"
   ]
  },
  {
   "cell_type": "markdown",
   "metadata": {},
   "source": [
    "# Combining two datasets - Adding Columns"
   ]
  },
  {
   "cell_type": "code",
   "execution_count": 59,
   "metadata": {},
   "outputs": [
    {
     "data": {
      "image/png": "[encoded data removed]",
      "text/plain": [
       "<matplotlib.figure.Figure at 0x116ef59b0>"
      ]
     },
     "metadata": {},
     "output_type": "display_data"
    }
   ],
   "source": [
    "%matplotlib inline \n",
    "airline_df['C4'].hist(10,True)"
   ]
  },
  {
   "cell_type": "code",
   "execution_count": 60,
   "metadata": {},
   "outputs": [
    {
     "name": "stdout",
     "output_type": "stream",
     "text": [
      "(43978, 31)\n",
      "(23842, 31)\n",
      "(20136, 31)\n"
     ]
    }
   ],
   "source": [
    "# We are working on full dataframe\n",
    "\n",
    "print(airline_df.shape)\n",
    "print(airline_df[airline_df[\"C4\"] >= 4].shape)\n",
    "print(airline_df[airline_df[\"C4\"] < 4].shape)\n",
    "airline_df_C4_high = airline_df[airline_df[\"C4\"] >= 4]\n",
    "airline_df_C4_low = airline_df[airline_df[\"C4\"] < 4]"
   ]
  },
  {
   "cell_type": "code",
   "execution_count": 61,
   "metadata": {},
   "outputs": [
    {
     "data": {
      "text/plain": [
       "(43978, 1)"
      ]
     },
     "execution_count": 61,
     "metadata": {},
     "output_type": "execute_result"
    }
   ],
   "source": [
    "# lets work only on the specific column\n",
    "airline_c4 = airline_df[\"C4\"]\n",
    "airline_c4.shape"
   ]
  },
  {
   "cell_type": "code",
   "execution_count": 62,
   "metadata": {},
   "outputs": [
    {
     "data": {
      "text/plain": [
       "['C1',\n",
       " 'C2',\n",
       " 'C3',\n",
       " 'C4',\n",
       " 'C5',\n",
       " 'C6',\n",
       " 'C7',\n",
       " 'C8',\n",
       " 'C9',\n",
       " 'C10',\n",
       " 'C11',\n",
       " 'C12',\n",
       " 'C13',\n",
       " 'C14',\n",
       " 'C15',\n",
       " 'C16',\n",
       " 'C17',\n",
       " 'C18',\n",
       " 'C19',\n",
       " 'C20',\n",
       " 'C21',\n",
       " 'C22',\n",
       " 'C23',\n",
       " 'C24',\n",
       " 'C25',\n",
       " 'C26',\n",
       " 'C27',\n",
       " 'C28',\n",
       " 'C29',\n",
       " 'C30',\n",
       " 'C31']"
      ]
     },
     "execution_count": 62,
     "metadata": {},
     "output_type": "execute_result"
    }
   ],
   "source": [
    "len(airline_df.columns)\n",
    "airline_df.columns"
   ]
  },
  {
   "cell_type": "code",
   "execution_count": 63,
   "metadata": {
    "collapsed": true
   },
   "outputs": [],
   "source": [
    "airline_c4['C32'] = (airline_c4[\"C4\"] >= 4)"
   ]
  },
  {
   "cell_type": "code",
   "execution_count": 64,
   "metadata": {},
   "outputs": [
    {
     "name": "stdout",
     "output_type": "stream",
     "text": [
      "(43978, 1)\n"
     ]
    },
    {
     "data": {
      "text/html": [
       "<table>\n",
       "<thead>\n",
       "<tr><th style=\"text-align: right;\">  C32</th></tr>\n",
       "</thead>\n",
       "<tbody>\n",
       "<tr><td style=\"text-align: right;\">    0</td></tr>\n",
       "<tr><td style=\"text-align: right;\">    1</td></tr>\n",
       "<tr><td style=\"text-align: right;\">    1</td></tr>\n",
       "<tr><td style=\"text-align: right;\">    1</td></tr>\n",
       "<tr><td style=\"text-align: right;\">    0</td></tr>\n",
       "<tr><td style=\"text-align: right;\">    0</td></tr>\n",
       "<tr><td style=\"text-align: right;\">    1</td></tr>\n",
       "<tr><td style=\"text-align: right;\">    1</td></tr>\n",
       "<tr><td style=\"text-align: right;\">    1</td></tr>\n",
       "<tr><td style=\"text-align: right;\">    1</td></tr>\n",
       "</tbody>\n",
       "</table>"
      ]
     },
     "metadata": {},
     "output_type": "display_data"
    },
    {
     "data": {
      "text/plain": []
     },
     "execution_count": 64,
     "metadata": {},
     "output_type": "execute_result"
    }
   ],
   "source": [
    "print(airline_c4['C32'].shape)\n",
    "airline_c4['C32']"
   ]
  },
  {
   "cell_type": "code",
   "execution_count": 65,
   "metadata": {
    "collapsed": true
   },
   "outputs": [],
   "source": [
    "airline_df = airline_df.cbind(airline_c4['C32'])"
   ]
  },
  {
   "cell_type": "code",
   "execution_count": 66,
   "metadata": {},
   "outputs": [
    {
     "data": {
      "text/html": [
       "<table>\n",
       "<thead>\n",
       "<tr><th style=\"text-align: right;\">  C1</th><th style=\"text-align: right;\">  C2</th><th style=\"text-align: right;\">  C3</th><th style=\"text-align: right;\">  C4</th><th style=\"text-align: right;\">  C5</th><th style=\"text-align: right;\">  C6</th><th style=\"text-align: right;\">  C7</th><th style=\"text-align: right;\">  C8</th><th>C9  </th><th style=\"text-align: right;\">  C10</th><th>C11  </th><th style=\"text-align: right;\">  C12</th><th style=\"text-align: right;\">  C13</th><th style=\"text-align: right;\">  C14</th><th style=\"text-align: right;\">  C15</th><th style=\"text-align: right;\">  C16</th><th>C17  </th><th>C18  </th><th style=\"text-align: right;\">  C19</th><th style=\"text-align: right;\">  C20</th><th style=\"text-align: right;\">  C21</th><th style=\"text-align: right;\">  C22</th><th>C23  </th><th style=\"text-align: right;\">  C24</th><th style=\"text-align: right;\">  C25</th><th style=\"text-align: right;\">  C26</th><th style=\"text-align: right;\">  C27</th><th style=\"text-align: right;\">  C28</th><th style=\"text-align: right;\">  C29</th><th>C30  </th><th>C31  </th><th style=\"text-align: right;\">  C32</th></tr>\n",
       "</thead>\n",
       "<tbody>\n",
       "<tr><td style=\"text-align: right;\">1987</td><td style=\"text-align: right;\">  10</td><td style=\"text-align: right;\">  14</td><td style=\"text-align: right;\">   3</td><td style=\"text-align: right;\"> 741</td><td style=\"text-align: right;\"> 730</td><td style=\"text-align: right;\"> 912</td><td style=\"text-align: right;\"> 849</td><td>PS  </td><td style=\"text-align: right;\"> 1451</td><td>NA   </td><td style=\"text-align: right;\">   91</td><td style=\"text-align: right;\">   79</td><td style=\"text-align: right;\">  nan</td><td style=\"text-align: right;\">   23</td><td style=\"text-align: right;\">   11</td><td>SAN  </td><td>SFO  </td><td style=\"text-align: right;\">  447</td><td style=\"text-align: right;\">  nan</td><td style=\"text-align: right;\">  nan</td><td style=\"text-align: right;\">    0</td><td>NA   </td><td style=\"text-align: right;\">    0</td><td style=\"text-align: right;\">  nan</td><td style=\"text-align: right;\">  nan</td><td style=\"text-align: right;\">  nan</td><td style=\"text-align: right;\">  nan</td><td style=\"text-align: right;\">  nan</td><td>YES  </td><td>YES  </td><td style=\"text-align: right;\">    0</td></tr>\n",
       "<tr><td style=\"text-align: right;\">1987</td><td style=\"text-align: right;\">  10</td><td style=\"text-align: right;\">  15</td><td style=\"text-align: right;\">   4</td><td style=\"text-align: right;\"> 729</td><td style=\"text-align: right;\"> 730</td><td style=\"text-align: right;\"> 903</td><td style=\"text-align: right;\"> 849</td><td>PS  </td><td style=\"text-align: right;\"> 1451</td><td>NA   </td><td style=\"text-align: right;\">   94</td><td style=\"text-align: right;\">   79</td><td style=\"text-align: right;\">  nan</td><td style=\"text-align: right;\">   14</td><td style=\"text-align: right;\">   -1</td><td>SAN  </td><td>SFO  </td><td style=\"text-align: right;\">  447</td><td style=\"text-align: right;\">  nan</td><td style=\"text-align: right;\">  nan</td><td style=\"text-align: right;\">    0</td><td>NA   </td><td style=\"text-align: right;\">    0</td><td style=\"text-align: right;\">  nan</td><td style=\"text-align: right;\">  nan</td><td style=\"text-align: right;\">  nan</td><td style=\"text-align: right;\">  nan</td><td style=\"text-align: right;\">  nan</td><td>YES  </td><td>NO   </td><td style=\"text-align: right;\">    1</td></tr>\n",
       "<tr><td style=\"text-align: right;\">1987</td><td style=\"text-align: right;\">  10</td><td style=\"text-align: right;\">  17</td><td style=\"text-align: right;\">   6</td><td style=\"text-align: right;\"> 741</td><td style=\"text-align: right;\"> 730</td><td style=\"text-align: right;\"> 918</td><td style=\"text-align: right;\"> 849</td><td>PS  </td><td style=\"text-align: right;\"> 1451</td><td>NA   </td><td style=\"text-align: right;\">   97</td><td style=\"text-align: right;\">   79</td><td style=\"text-align: right;\">  nan</td><td style=\"text-align: right;\">   29</td><td style=\"text-align: right;\">   11</td><td>SAN  </td><td>SFO  </td><td style=\"text-align: right;\">  447</td><td style=\"text-align: right;\">  nan</td><td style=\"text-align: right;\">  nan</td><td style=\"text-align: right;\">    0</td><td>NA   </td><td style=\"text-align: right;\">    0</td><td style=\"text-align: right;\">  nan</td><td style=\"text-align: right;\">  nan</td><td style=\"text-align: right;\">  nan</td><td style=\"text-align: right;\">  nan</td><td style=\"text-align: right;\">  nan</td><td>YES  </td><td>YES  </td><td style=\"text-align: right;\">    1</td></tr>\n",
       "<tr><td style=\"text-align: right;\">1987</td><td style=\"text-align: right;\">  10</td><td style=\"text-align: right;\">  18</td><td style=\"text-align: right;\">   7</td><td style=\"text-align: right;\"> 729</td><td style=\"text-align: right;\"> 730</td><td style=\"text-align: right;\"> 847</td><td style=\"text-align: right;\"> 849</td><td>PS  </td><td style=\"text-align: right;\"> 1451</td><td>NA   </td><td style=\"text-align: right;\">   78</td><td style=\"text-align: right;\">   79</td><td style=\"text-align: right;\">  nan</td><td style=\"text-align: right;\">   -2</td><td style=\"text-align: right;\">   -1</td><td>SAN  </td><td>SFO  </td><td style=\"text-align: right;\">  447</td><td style=\"text-align: right;\">  nan</td><td style=\"text-align: right;\">  nan</td><td style=\"text-align: right;\">    0</td><td>NA   </td><td style=\"text-align: right;\">    0</td><td style=\"text-align: right;\">  nan</td><td style=\"text-align: right;\">  nan</td><td style=\"text-align: right;\">  nan</td><td style=\"text-align: right;\">  nan</td><td style=\"text-align: right;\">  nan</td><td>NO   </td><td>NO   </td><td style=\"text-align: right;\">    1</td></tr>\n",
       "<tr><td style=\"text-align: right;\">1987</td><td style=\"text-align: right;\">  10</td><td style=\"text-align: right;\">  19</td><td style=\"text-align: right;\">   1</td><td style=\"text-align: right;\"> 749</td><td style=\"text-align: right;\"> 730</td><td style=\"text-align: right;\"> 922</td><td style=\"text-align: right;\"> 849</td><td>PS  </td><td style=\"text-align: right;\"> 1451</td><td>NA   </td><td style=\"text-align: right;\">   93</td><td style=\"text-align: right;\">   79</td><td style=\"text-align: right;\">  nan</td><td style=\"text-align: right;\">   33</td><td style=\"text-align: right;\">   19</td><td>SAN  </td><td>SFO  </td><td style=\"text-align: right;\">  447</td><td style=\"text-align: right;\">  nan</td><td style=\"text-align: right;\">  nan</td><td style=\"text-align: right;\">    0</td><td>NA   </td><td style=\"text-align: right;\">    0</td><td style=\"text-align: right;\">  nan</td><td style=\"text-align: right;\">  nan</td><td style=\"text-align: right;\">  nan</td><td style=\"text-align: right;\">  nan</td><td style=\"text-align: right;\">  nan</td><td>YES  </td><td>YES  </td><td style=\"text-align: right;\">    0</td></tr>\n",
       "<tr><td style=\"text-align: right;\">1987</td><td style=\"text-align: right;\">  10</td><td style=\"text-align: right;\">  21</td><td style=\"text-align: right;\">   3</td><td style=\"text-align: right;\"> 728</td><td style=\"text-align: right;\"> 730</td><td style=\"text-align: right;\"> 848</td><td style=\"text-align: right;\"> 849</td><td>PS  </td><td style=\"text-align: right;\"> 1451</td><td>NA   </td><td style=\"text-align: right;\">   80</td><td style=\"text-align: right;\">   79</td><td style=\"text-align: right;\">  nan</td><td style=\"text-align: right;\">   -1</td><td style=\"text-align: right;\">   -2</td><td>SAN  </td><td>SFO  </td><td style=\"text-align: right;\">  447</td><td style=\"text-align: right;\">  nan</td><td style=\"text-align: right;\">  nan</td><td style=\"text-align: right;\">    0</td><td>NA   </td><td style=\"text-align: right;\">    0</td><td style=\"text-align: right;\">  nan</td><td style=\"text-align: right;\">  nan</td><td style=\"text-align: right;\">  nan</td><td style=\"text-align: right;\">  nan</td><td style=\"text-align: right;\">  nan</td><td>NO   </td><td>NO   </td><td style=\"text-align: right;\">    0</td></tr>\n",
       "<tr><td style=\"text-align: right;\">1987</td><td style=\"text-align: right;\">  10</td><td style=\"text-align: right;\">  22</td><td style=\"text-align: right;\">   4</td><td style=\"text-align: right;\"> 728</td><td style=\"text-align: right;\"> 730</td><td style=\"text-align: right;\"> 852</td><td style=\"text-align: right;\"> 849</td><td>PS  </td><td style=\"text-align: right;\"> 1451</td><td>NA   </td><td style=\"text-align: right;\">   84</td><td style=\"text-align: right;\">   79</td><td style=\"text-align: right;\">  nan</td><td style=\"text-align: right;\">    3</td><td style=\"text-align: right;\">   -2</td><td>SAN  </td><td>SFO  </td><td style=\"text-align: right;\">  447</td><td style=\"text-align: right;\">  nan</td><td style=\"text-align: right;\">  nan</td><td style=\"text-align: right;\">    0</td><td>NA   </td><td style=\"text-align: right;\">    0</td><td style=\"text-align: right;\">  nan</td><td style=\"text-align: right;\">  nan</td><td style=\"text-align: right;\">  nan</td><td style=\"text-align: right;\">  nan</td><td style=\"text-align: right;\">  nan</td><td>YES  </td><td>NO   </td><td style=\"text-align: right;\">    1</td></tr>\n",
       "<tr><td style=\"text-align: right;\">1987</td><td style=\"text-align: right;\">  10</td><td style=\"text-align: right;\">  23</td><td style=\"text-align: right;\">   5</td><td style=\"text-align: right;\"> 731</td><td style=\"text-align: right;\"> 730</td><td style=\"text-align: right;\"> 902</td><td style=\"text-align: right;\"> 849</td><td>PS  </td><td style=\"text-align: right;\"> 1451</td><td>NA   </td><td style=\"text-align: right;\">   91</td><td style=\"text-align: right;\">   79</td><td style=\"text-align: right;\">  nan</td><td style=\"text-align: right;\">   13</td><td style=\"text-align: right;\">    1</td><td>SAN  </td><td>SFO  </td><td style=\"text-align: right;\">  447</td><td style=\"text-align: right;\">  nan</td><td style=\"text-align: right;\">  nan</td><td style=\"text-align: right;\">    0</td><td>NA   </td><td style=\"text-align: right;\">    0</td><td style=\"text-align: right;\">  nan</td><td style=\"text-align: right;\">  nan</td><td style=\"text-align: right;\">  nan</td><td style=\"text-align: right;\">  nan</td><td style=\"text-align: right;\">  nan</td><td>YES  </td><td>YES  </td><td style=\"text-align: right;\">    1</td></tr>\n",
       "<tr><td style=\"text-align: right;\">1987</td><td style=\"text-align: right;\">  10</td><td style=\"text-align: right;\">  24</td><td style=\"text-align: right;\">   6</td><td style=\"text-align: right;\"> 744</td><td style=\"text-align: right;\"> 730</td><td style=\"text-align: right;\"> 908</td><td style=\"text-align: right;\"> 849</td><td>PS  </td><td style=\"text-align: right;\"> 1451</td><td>NA   </td><td style=\"text-align: right;\">   84</td><td style=\"text-align: right;\">   79</td><td style=\"text-align: right;\">  nan</td><td style=\"text-align: right;\">   19</td><td style=\"text-align: right;\">   14</td><td>SAN  </td><td>SFO  </td><td style=\"text-align: right;\">  447</td><td style=\"text-align: right;\">  nan</td><td style=\"text-align: right;\">  nan</td><td style=\"text-align: right;\">    0</td><td>NA   </td><td style=\"text-align: right;\">    0</td><td style=\"text-align: right;\">  nan</td><td style=\"text-align: right;\">  nan</td><td style=\"text-align: right;\">  nan</td><td style=\"text-align: right;\">  nan</td><td style=\"text-align: right;\">  nan</td><td>YES  </td><td>YES  </td><td style=\"text-align: right;\">    1</td></tr>\n",
       "<tr><td style=\"text-align: right;\">1987</td><td style=\"text-align: right;\">  10</td><td style=\"text-align: right;\">  25</td><td style=\"text-align: right;\">   7</td><td style=\"text-align: right;\"> 729</td><td style=\"text-align: right;\"> 730</td><td style=\"text-align: right;\"> 851</td><td style=\"text-align: right;\"> 849</td><td>PS  </td><td style=\"text-align: right;\"> 1451</td><td>NA   </td><td style=\"text-align: right;\">   82</td><td style=\"text-align: right;\">   79</td><td style=\"text-align: right;\">  nan</td><td style=\"text-align: right;\">    2</td><td style=\"text-align: right;\">   -1</td><td>SAN  </td><td>SFO  </td><td style=\"text-align: right;\">  447</td><td style=\"text-align: right;\">  nan</td><td style=\"text-align: right;\">  nan</td><td style=\"text-align: right;\">    0</td><td>NA   </td><td style=\"text-align: right;\">    0</td><td style=\"text-align: right;\">  nan</td><td style=\"text-align: right;\">  nan</td><td style=\"text-align: right;\">  nan</td><td style=\"text-align: right;\">  nan</td><td style=\"text-align: right;\">  nan</td><td>YES  </td><td>NO   </td><td style=\"text-align: right;\">    1</td></tr>\n",
       "</tbody>\n",
       "</table>"
      ]
     },
     "metadata": {},
     "output_type": "display_data"
    },
    {
     "data": {
      "text/plain": []
     },
     "execution_count": 66,
     "metadata": {},
     "output_type": "execute_result"
    }
   ],
   "source": [
    "airline_df"
   ]
  },
  {
   "cell_type": "code",
   "execution_count": 67,
   "metadata": {},
   "outputs": [
    {
     "data": {
      "text/plain": [
       "['C1',\n",
       " 'C2',\n",
       " 'C3',\n",
       " 'C4',\n",
       " 'C5',\n",
       " 'C6',\n",
       " 'C7',\n",
       " 'C8',\n",
       " 'C9',\n",
       " 'C10',\n",
       " 'C11',\n",
       " 'C12',\n",
       " 'C13',\n",
       " 'C14',\n",
       " 'C15',\n",
       " 'C16',\n",
       " 'C17',\n",
       " 'C18',\n",
       " 'C19',\n",
       " 'C20',\n",
       " 'C21',\n",
       " 'C22',\n",
       " 'C23',\n",
       " 'C24',\n",
       " 'C25',\n",
       " 'C26',\n",
       " 'C27',\n",
       " 'C28',\n",
       " 'C29',\n",
       " 'C30',\n",
       " 'C31',\n",
       " 'C32']"
      ]
     },
     "execution_count": 67,
     "metadata": {},
     "output_type": "execute_result"
    }
   ],
   "source": [
    "airline_df.columns"
   ]
  },
  {
   "cell_type": "code",
   "execution_count": 68,
   "metadata": {},
   "outputs": [
    {
     "data": {
      "text/html": [
       "<table>\n",
       "<thead>\n",
       "<tr><th style=\"text-align: right;\">  C1</th><th style=\"text-align: right;\">  C2</th><th style=\"text-align: right;\">  C3</th><th style=\"text-align: right;\">  C4</th><th style=\"text-align: right;\">  C5</th><th style=\"text-align: right;\">  C6</th><th style=\"text-align: right;\">  C7</th><th style=\"text-align: right;\">  C8</th><th>C9  </th><th style=\"text-align: right;\">  C10</th><th>C11  </th><th style=\"text-align: right;\">  C12</th><th style=\"text-align: right;\">  C13</th><th style=\"text-align: right;\">  C14</th><th style=\"text-align: right;\">  C15</th><th style=\"text-align: right;\">  C16</th><th>C17  </th><th>C18  </th><th style=\"text-align: right;\">  C19</th><th style=\"text-align: right;\">  C20</th><th style=\"text-align: right;\">  C21</th><th style=\"text-align: right;\">  C22</th><th>C23  </th><th style=\"text-align: right;\">  C24</th><th style=\"text-align: right;\">  C25</th><th style=\"text-align: right;\">  C26</th><th style=\"text-align: right;\">  C27</th><th style=\"text-align: right;\">  C28</th><th style=\"text-align: right;\">  C29</th><th>C30  </th><th>C31  </th><th style=\"text-align: right;\">  C32</th></tr>\n",
       "</thead>\n",
       "<tbody>\n",
       "<tr><td style=\"text-align: right;\">1987</td><td style=\"text-align: right;\">  10</td><td style=\"text-align: right;\">  14</td><td style=\"text-align: right;\">   3</td><td style=\"text-align: right;\"> 741</td><td style=\"text-align: right;\"> 730</td><td style=\"text-align: right;\"> 912</td><td style=\"text-align: right;\"> 849</td><td>PS  </td><td style=\"text-align: right;\"> 1451</td><td>NA   </td><td style=\"text-align: right;\">   91</td><td style=\"text-align: right;\">   79</td><td style=\"text-align: right;\">  nan</td><td style=\"text-align: right;\">   23</td><td style=\"text-align: right;\">   11</td><td>SAN  </td><td>SFO  </td><td style=\"text-align: right;\">  447</td><td style=\"text-align: right;\">  nan</td><td style=\"text-align: right;\">  nan</td><td style=\"text-align: right;\">    0</td><td>NA   </td><td style=\"text-align: right;\">    0</td><td style=\"text-align: right;\">  nan</td><td style=\"text-align: right;\">  nan</td><td style=\"text-align: right;\">  nan</td><td style=\"text-align: right;\">  nan</td><td style=\"text-align: right;\">  nan</td><td>YES  </td><td>YES  </td><td style=\"text-align: right;\">    0</td></tr>\n",
       "<tr><td style=\"text-align: right;\">1987</td><td style=\"text-align: right;\">  10</td><td style=\"text-align: right;\">  15</td><td style=\"text-align: right;\">   4</td><td style=\"text-align: right;\"> 729</td><td style=\"text-align: right;\"> 730</td><td style=\"text-align: right;\"> 903</td><td style=\"text-align: right;\"> 849</td><td>PS  </td><td style=\"text-align: right;\"> 1451</td><td>NA   </td><td style=\"text-align: right;\">   94</td><td style=\"text-align: right;\">   79</td><td style=\"text-align: right;\">  nan</td><td style=\"text-align: right;\">   14</td><td style=\"text-align: right;\">   -1</td><td>SAN  </td><td>SFO  </td><td style=\"text-align: right;\">  447</td><td style=\"text-align: right;\">  nan</td><td style=\"text-align: right;\">  nan</td><td style=\"text-align: right;\">    0</td><td>NA   </td><td style=\"text-align: right;\">    0</td><td style=\"text-align: right;\">  nan</td><td style=\"text-align: right;\">  nan</td><td style=\"text-align: right;\">  nan</td><td style=\"text-align: right;\">  nan</td><td style=\"text-align: right;\">  nan</td><td>YES  </td><td>NO   </td><td style=\"text-align: right;\">    1</td></tr>\n",
       "<tr><td style=\"text-align: right;\">1987</td><td style=\"text-align: right;\">  10</td><td style=\"text-align: right;\">  17</td><td style=\"text-align: right;\">   6</td><td style=\"text-align: right;\"> 741</td><td style=\"text-align: right;\"> 730</td><td style=\"text-align: right;\"> 918</td><td style=\"text-align: right;\"> 849</td><td>PS  </td><td style=\"text-align: right;\"> 1451</td><td>NA   </td><td style=\"text-align: right;\">   97</td><td style=\"text-align: right;\">   79</td><td style=\"text-align: right;\">  nan</td><td style=\"text-align: right;\">   29</td><td style=\"text-align: right;\">   11</td><td>SAN  </td><td>SFO  </td><td style=\"text-align: right;\">  447</td><td style=\"text-align: right;\">  nan</td><td style=\"text-align: right;\">  nan</td><td style=\"text-align: right;\">    0</td><td>NA   </td><td style=\"text-align: right;\">    0</td><td style=\"text-align: right;\">  nan</td><td style=\"text-align: right;\">  nan</td><td style=\"text-align: right;\">  nan</td><td style=\"text-align: right;\">  nan</td><td style=\"text-align: right;\">  nan</td><td>YES  </td><td>YES  </td><td style=\"text-align: right;\">    1</td></tr>\n",
       "<tr><td style=\"text-align: right;\">1987</td><td style=\"text-align: right;\">  10</td><td style=\"text-align: right;\">  18</td><td style=\"text-align: right;\">   7</td><td style=\"text-align: right;\"> 729</td><td style=\"text-align: right;\"> 730</td><td style=\"text-align: right;\"> 847</td><td style=\"text-align: right;\"> 849</td><td>PS  </td><td style=\"text-align: right;\"> 1451</td><td>NA   </td><td style=\"text-align: right;\">   78</td><td style=\"text-align: right;\">   79</td><td style=\"text-align: right;\">  nan</td><td style=\"text-align: right;\">   -2</td><td style=\"text-align: right;\">   -1</td><td>SAN  </td><td>SFO  </td><td style=\"text-align: right;\">  447</td><td style=\"text-align: right;\">  nan</td><td style=\"text-align: right;\">  nan</td><td style=\"text-align: right;\">    0</td><td>NA   </td><td style=\"text-align: right;\">    0</td><td style=\"text-align: right;\">  nan</td><td style=\"text-align: right;\">  nan</td><td style=\"text-align: right;\">  nan</td><td style=\"text-align: right;\">  nan</td><td style=\"text-align: right;\">  nan</td><td>NO   </td><td>NO   </td><td style=\"text-align: right;\">    1</td></tr>\n",
       "<tr><td style=\"text-align: right;\">1987</td><td style=\"text-align: right;\">  10</td><td style=\"text-align: right;\">  19</td><td style=\"text-align: right;\">   1</td><td style=\"text-align: right;\"> 749</td><td style=\"text-align: right;\"> 730</td><td style=\"text-align: right;\"> 922</td><td style=\"text-align: right;\"> 849</td><td>PS  </td><td style=\"text-align: right;\"> 1451</td><td>NA   </td><td style=\"text-align: right;\">   93</td><td style=\"text-align: right;\">   79</td><td style=\"text-align: right;\">  nan</td><td style=\"text-align: right;\">   33</td><td style=\"text-align: right;\">   19</td><td>SAN  </td><td>SFO  </td><td style=\"text-align: right;\">  447</td><td style=\"text-align: right;\">  nan</td><td style=\"text-align: right;\">  nan</td><td style=\"text-align: right;\">    0</td><td>NA   </td><td style=\"text-align: right;\">    0</td><td style=\"text-align: right;\">  nan</td><td style=\"text-align: right;\">  nan</td><td style=\"text-align: right;\">  nan</td><td style=\"text-align: right;\">  nan</td><td style=\"text-align: right;\">  nan</td><td>YES  </td><td>YES  </td><td style=\"text-align: right;\">    0</td></tr>\n",
       "<tr><td style=\"text-align: right;\">1987</td><td style=\"text-align: right;\">  10</td><td style=\"text-align: right;\">  21</td><td style=\"text-align: right;\">   3</td><td style=\"text-align: right;\"> 728</td><td style=\"text-align: right;\"> 730</td><td style=\"text-align: right;\"> 848</td><td style=\"text-align: right;\"> 849</td><td>PS  </td><td style=\"text-align: right;\"> 1451</td><td>NA   </td><td style=\"text-align: right;\">   80</td><td style=\"text-align: right;\">   79</td><td style=\"text-align: right;\">  nan</td><td style=\"text-align: right;\">   -1</td><td style=\"text-align: right;\">   -2</td><td>SAN  </td><td>SFO  </td><td style=\"text-align: right;\">  447</td><td style=\"text-align: right;\">  nan</td><td style=\"text-align: right;\">  nan</td><td style=\"text-align: right;\">    0</td><td>NA   </td><td style=\"text-align: right;\">    0</td><td style=\"text-align: right;\">  nan</td><td style=\"text-align: right;\">  nan</td><td style=\"text-align: right;\">  nan</td><td style=\"text-align: right;\">  nan</td><td style=\"text-align: right;\">  nan</td><td>NO   </td><td>NO   </td><td style=\"text-align: right;\">    0</td></tr>\n",
       "<tr><td style=\"text-align: right;\">1987</td><td style=\"text-align: right;\">  10</td><td style=\"text-align: right;\">  22</td><td style=\"text-align: right;\">   4</td><td style=\"text-align: right;\"> 728</td><td style=\"text-align: right;\"> 730</td><td style=\"text-align: right;\"> 852</td><td style=\"text-align: right;\"> 849</td><td>PS  </td><td style=\"text-align: right;\"> 1451</td><td>NA   </td><td style=\"text-align: right;\">   84</td><td style=\"text-align: right;\">   79</td><td style=\"text-align: right;\">  nan</td><td style=\"text-align: right;\">    3</td><td style=\"text-align: right;\">   -2</td><td>SAN  </td><td>SFO  </td><td style=\"text-align: right;\">  447</td><td style=\"text-align: right;\">  nan</td><td style=\"text-align: right;\">  nan</td><td style=\"text-align: right;\">    0</td><td>NA   </td><td style=\"text-align: right;\">    0</td><td style=\"text-align: right;\">  nan</td><td style=\"text-align: right;\">  nan</td><td style=\"text-align: right;\">  nan</td><td style=\"text-align: right;\">  nan</td><td style=\"text-align: right;\">  nan</td><td>YES  </td><td>NO   </td><td style=\"text-align: right;\">    1</td></tr>\n",
       "<tr><td style=\"text-align: right;\">1987</td><td style=\"text-align: right;\">  10</td><td style=\"text-align: right;\">  23</td><td style=\"text-align: right;\">   5</td><td style=\"text-align: right;\"> 731</td><td style=\"text-align: right;\"> 730</td><td style=\"text-align: right;\"> 902</td><td style=\"text-align: right;\"> 849</td><td>PS  </td><td style=\"text-align: right;\"> 1451</td><td>NA   </td><td style=\"text-align: right;\">   91</td><td style=\"text-align: right;\">   79</td><td style=\"text-align: right;\">  nan</td><td style=\"text-align: right;\">   13</td><td style=\"text-align: right;\">    1</td><td>SAN  </td><td>SFO  </td><td style=\"text-align: right;\">  447</td><td style=\"text-align: right;\">  nan</td><td style=\"text-align: right;\">  nan</td><td style=\"text-align: right;\">    0</td><td>NA   </td><td style=\"text-align: right;\">    0</td><td style=\"text-align: right;\">  nan</td><td style=\"text-align: right;\">  nan</td><td style=\"text-align: right;\">  nan</td><td style=\"text-align: right;\">  nan</td><td style=\"text-align: right;\">  nan</td><td>YES  </td><td>YES  </td><td style=\"text-align: right;\">    1</td></tr>\n",
       "<tr><td style=\"text-align: right;\">1987</td><td style=\"text-align: right;\">  10</td><td style=\"text-align: right;\">  24</td><td style=\"text-align: right;\">   6</td><td style=\"text-align: right;\"> 744</td><td style=\"text-align: right;\"> 730</td><td style=\"text-align: right;\"> 908</td><td style=\"text-align: right;\"> 849</td><td>PS  </td><td style=\"text-align: right;\"> 1451</td><td>NA   </td><td style=\"text-align: right;\">   84</td><td style=\"text-align: right;\">   79</td><td style=\"text-align: right;\">  nan</td><td style=\"text-align: right;\">   19</td><td style=\"text-align: right;\">   14</td><td>SAN  </td><td>SFO  </td><td style=\"text-align: right;\">  447</td><td style=\"text-align: right;\">  nan</td><td style=\"text-align: right;\">  nan</td><td style=\"text-align: right;\">    0</td><td>NA   </td><td style=\"text-align: right;\">    0</td><td style=\"text-align: right;\">  nan</td><td style=\"text-align: right;\">  nan</td><td style=\"text-align: right;\">  nan</td><td style=\"text-align: right;\">  nan</td><td style=\"text-align: right;\">  nan</td><td>YES  </td><td>YES  </td><td style=\"text-align: right;\">    1</td></tr>\n",
       "<tr><td style=\"text-align: right;\">1987</td><td style=\"text-align: right;\">  10</td><td style=\"text-align: right;\">  25</td><td style=\"text-align: right;\">   7</td><td style=\"text-align: right;\"> 729</td><td style=\"text-align: right;\"> 730</td><td style=\"text-align: right;\"> 851</td><td style=\"text-align: right;\"> 849</td><td>PS  </td><td style=\"text-align: right;\"> 1451</td><td>NA   </td><td style=\"text-align: right;\">   82</td><td style=\"text-align: right;\">   79</td><td style=\"text-align: right;\">  nan</td><td style=\"text-align: right;\">    2</td><td style=\"text-align: right;\">   -1</td><td>SAN  </td><td>SFO  </td><td style=\"text-align: right;\">  447</td><td style=\"text-align: right;\">  nan</td><td style=\"text-align: right;\">  nan</td><td style=\"text-align: right;\">    0</td><td>NA   </td><td style=\"text-align: right;\">    0</td><td style=\"text-align: right;\">  nan</td><td style=\"text-align: right;\">  nan</td><td style=\"text-align: right;\">  nan</td><td style=\"text-align: right;\">  nan</td><td style=\"text-align: right;\">  nan</td><td>YES  </td><td>NO   </td><td style=\"text-align: right;\">    1</td></tr>\n",
       "</tbody>\n",
       "</table>"
      ]
     },
     "metadata": {},
     "output_type": "display_data"
    },
    {
     "data": {
      "text/plain": []
     },
     "execution_count": 68,
     "metadata": {},
     "output_type": "execute_result"
    }
   ],
   "source": [
    "# Lets verify C32 columns\n",
    "airline_df"
   ]
  },
  {
   "cell_type": "markdown",
   "metadata": {},
   "source": [
    "# Using Functions on frames and columns"
   ]
  },
  {
   "cell_type": "code",
   "execution_count": 69,
   "metadata": {},
   "outputs": [
    {
     "data": {
      "text/plain": [
       "1.0"
      ]
     },
     "execution_count": 69,
     "metadata": {},
     "output_type": "execute_result"
    }
   ],
   "source": [
    "airline_df['C4'].min()"
   ]
  },
  {
   "cell_type": "code",
   "execution_count": 70,
   "metadata": {},
   "outputs": [
    {
     "data": {
      "text/plain": [
       "7.0"
      ]
     },
     "execution_count": 70,
     "metadata": {},
     "output_type": "execute_result"
    }
   ],
   "source": [
    "airline_df['C4'].max()"
   ]
  },
  {
   "cell_type": "code",
   "execution_count": 71,
   "metadata": {},
   "outputs": [
    {
     "name": "stdout",
     "output_type": "stream",
     "text": [
      "[0.0]\n",
      "[16026.0]\n"
     ]
    }
   ],
   "source": [
    "print(airline_df['C4'].nacnt())\n",
    "print(airline_df['C20'].nacnt())"
   ]
  },
  {
   "cell_type": "code",
   "execution_count": 72,
   "metadata": {},
   "outputs": [
    {
     "name": "stdout",
     "output_type": "stream",
     "text": [
      "[134]\n",
      "(134, 1)\n"
     ]
    },
    {
     "data": {
      "text/html": [
       "<table>\n",
       "<thead>\n",
       "<tr><th>C1  </th></tr>\n",
       "</thead>\n",
       "<tbody>\n",
       "<tr><td>ABE </td></tr>\n",
       "<tr><td>ABQ </td></tr>\n",
       "<tr><td>ACY </td></tr>\n",
       "<tr><td>ALB </td></tr>\n",
       "<tr><td>AMA </td></tr>\n",
       "<tr><td>ANC </td></tr>\n",
       "<tr><td>ATL </td></tr>\n",
       "<tr><td>AUS </td></tr>\n",
       "<tr><td>AVL </td></tr>\n",
       "<tr><td>AVP </td></tr>\n",
       "</tbody>\n",
       "</table>"
      ]
     },
     "metadata": {},
     "output_type": "display_data"
    },
    {
     "data": {
      "text/plain": []
     },
     "execution_count": 72,
     "metadata": {},
     "output_type": "execute_result"
    }
   ],
   "source": [
    "# total number of categorical elements in the column \n",
    "print(airline_df['C18'].nlevels())\n",
    "print(airline_df['C18'].unique().shape)\n",
    "airline_df['C18'].unique()"
   ]
  },
  {
   "cell_type": "markdown",
   "metadata": {},
   "source": [
    "# Documentation help\n",
    "\n",
    "List of funstions applied on H2OFrame\n",
    "http://docs.h2o.ai/h2o/latest-stable/h2o-py/docs/frame.html"
   ]
  },
  {
   "cell_type": "code",
   "execution_count": 73,
   "metadata": {},
   "outputs": [
    {
     "data": {
      "text/html": [
       "<div>\n",
       "<style>\n",
       "    .dataframe thead tr:only-child th {\n",
       "        text-align: right;\n",
       "    }\n",
       "\n",
       "    .dataframe thead th {\n",
       "        text-align: left;\n",
       "    }\n",
       "\n",
       "    .dataframe tbody tr th {\n",
       "        vertical-align: top;\n",
       "    }\n",
       "</style>\n",
       "<table border=\"1\" class=\"dataframe\">\n",
       "  <thead>\n",
       "    <tr style=\"text-align: right;\">\n",
       "      <th></th>\n",
       "      <th>key</th>\n",
       "    </tr>\n",
       "  </thead>\n",
       "  <tbody>\n",
       "    <tr>\n",
       "      <th>0</th>\n",
       "      <td>Key_Frame__upload_9c4025507c2f4fa935adfcaaa83a...</td>\n",
       "    </tr>\n",
       "    <tr>\n",
       "      <th>1</th>\n",
       "      <td>_91237ffd947223095b31e50ea32f4c4b</td>\n",
       "    </tr>\n",
       "    <tr>\n",
       "      <th>2</th>\n",
       "      <td>_994edc591cd2118c1513629f4bd14e0e</td>\n",
       "    </tr>\n",
       "    <tr>\n",
       "      <th>3</th>\n",
       "      <td>_a1c636e46a9caaa621f40182585c40c6</td>\n",
       "    </tr>\n",
       "    <tr>\n",
       "      <th>4</th>\n",
       "      <td>_a215dec563e463919ee3be5bcdaf496b</td>\n",
       "    </tr>\n",
       "    <tr>\n",
       "      <th>5</th>\n",
       "      <td>_ac7bb8725dd79740693eb51be58e43e3</td>\n",
       "    </tr>\n",
       "    <tr>\n",
       "      <th>6</th>\n",
       "      <td>_ae88fb493b0c8756183bdae28e7c4103</td>\n",
       "    </tr>\n",
       "    <tr>\n",
       "      <th>7</th>\n",
       "      <td>_b4fe727f727894fae169125261394386</td>\n",
       "    </tr>\n",
       "    <tr>\n",
       "      <th>8</th>\n",
       "      <td>allyears2k.hex</td>\n",
       "    </tr>\n",
       "    <tr>\n",
       "      <th>9</th>\n",
       "      <td>auto_mpg.hex</td>\n",
       "    </tr>\n",
       "    <tr>\n",
       "      <th>10</th>\n",
       "      <td>auto_mpg1.hex</td>\n",
       "    </tr>\n",
       "    <tr>\n",
       "      <th>11</th>\n",
       "      <td>deeplearning-5dbff3ab-8052-46d0-882e-b9d9cb222d39</td>\n",
       "    </tr>\n",
       "    <tr>\n",
       "      <th>12</th>\n",
       "      <td>grid-00857b1f-cca8-48d4-8c12-49d9ef3529ed</td>\n",
       "    </tr>\n",
       "    <tr>\n",
       "      <th>13</th>\n",
       "      <td>grid-3f9258f7-667c-4c8a-aa2d-62c23caae4fd</td>\n",
       "    </tr>\n",
       "    <tr>\n",
       "      <th>14</th>\n",
       "      <td>grid-483e7683-2075-4dcd-b489-e5f08798498d</td>\n",
       "    </tr>\n",
       "    <tr>\n",
       "      <th>15</th>\n",
       "      <td>loan.hex</td>\n",
       "    </tr>\n",
       "    <tr>\n",
       "      <th>16</th>\n",
       "      <td>loan1.hex</td>\n",
       "    </tr>\n",
       "    <tr>\n",
       "      <th>17</th>\n",
       "      <td>modelmetrics_deeplearning-5dbff3ab-8052-46d0-8...</td>\n",
       "    </tr>\n",
       "    <tr>\n",
       "      <th>18</th>\n",
       "      <td>modelmetrics_deeplearning-5dbff3ab-8052-46d0-8...</td>\n",
       "    </tr>\n",
       "    <tr>\n",
       "      <th>19</th>\n",
       "      <td>modelmetrics_deeplearning-8e07cf2e-ce52-4e82-8...</td>\n",
       "    </tr>\n",
       "    <tr>\n",
       "      <th>20</th>\n",
       "      <td>modelmetrics_deeplearning-8e07cf2e-ce52-4e82-8...</td>\n",
       "    </tr>\n",
       "    <tr>\n",
       "      <th>21</th>\n",
       "      <td>modelmetrics_deeplearning-8e07cf2e-ce52-4e82-8...</td>\n",
       "    </tr>\n",
       "    <tr>\n",
       "      <th>22</th>\n",
       "      <td>modelmetrics_deeplearning-8e07cf2e-ce52-4e82-8...</td>\n",
       "    </tr>\n",
       "    <tr>\n",
       "      <th>23</th>\n",
       "      <td>modelmetrics_deeplearning-8e07cf2e-ce52-4e82-8...</td>\n",
       "    </tr>\n",
       "    <tr>\n",
       "      <th>24</th>\n",
       "      <td>modelmetrics_deeplearning-8e07cf2e-ce52-4e82-8...</td>\n",
       "    </tr>\n",
       "    <tr>\n",
       "      <th>25</th>\n",
       "      <td>modelmetrics_deeplearning-8e07cf2e-ce52-4e82-8...</td>\n",
       "    </tr>\n",
       "    <tr>\n",
       "      <th>26</th>\n",
       "      <td>modelmetrics_deeplearning-8e07cf2e-ce52-4e82-8...</td>\n",
       "    </tr>\n",
       "    <tr>\n",
       "      <th>27</th>\n",
       "      <td>modelmetrics_deeplearning-8e07cf2e-ce52-4e82-8...</td>\n",
       "    </tr>\n",
       "    <tr>\n",
       "      <th>28</th>\n",
       "      <td>modelmetrics_deeplearning-8e07cf2e-ce52-4e82-8...</td>\n",
       "    </tr>\n",
       "    <tr>\n",
       "      <th>29</th>\n",
       "      <td>modelmetrics_deeplearning-8e07cf2e-ce52-4e82-8...</td>\n",
       "    </tr>\n",
       "    <tr>\n",
       "      <th>...</th>\n",
       "      <td>...</td>\n",
       "    </tr>\n",
       "    <tr>\n",
       "      <th>75</th>\n",
       "      <td>py_3_sid_ae5a</td>\n",
       "    </tr>\n",
       "    <tr>\n",
       "      <th>76</th>\n",
       "      <td>py_40_sid_ae5a</td>\n",
       "    </tr>\n",
       "    <tr>\n",
       "      <th>77</th>\n",
       "      <td>py_41_sid_ae5a</td>\n",
       "    </tr>\n",
       "    <tr>\n",
       "      <th>78</th>\n",
       "      <td>py_42_sid_ae5a</td>\n",
       "    </tr>\n",
       "    <tr>\n",
       "      <th>79</th>\n",
       "      <td>py_43_sid_ae5a_splitter</td>\n",
       "    </tr>\n",
       "    <tr>\n",
       "      <th>80</th>\n",
       "      <td>py_45_sid_ae5a</td>\n",
       "    </tr>\n",
       "    <tr>\n",
       "      <th>81</th>\n",
       "      <td>py_46_sid_ae5a</td>\n",
       "    </tr>\n",
       "    <tr>\n",
       "      <th>82</th>\n",
       "      <td>py_47_sid_ae5a</td>\n",
       "    </tr>\n",
       "    <tr>\n",
       "      <th>83</th>\n",
       "      <td>py_4_sid_a89d</td>\n",
       "    </tr>\n",
       "    <tr>\n",
       "      <th>84</th>\n",
       "      <td>py_4_sid_ae5a</td>\n",
       "    </tr>\n",
       "    <tr>\n",
       "      <th>85</th>\n",
       "      <td>py_4_sid_b447_splitter</td>\n",
       "    </tr>\n",
       "    <tr>\n",
       "      <th>86</th>\n",
       "      <td>py_56_sid_ae5a</td>\n",
       "    </tr>\n",
       "    <tr>\n",
       "      <th>87</th>\n",
       "      <td>py_57_sid_ae5a</td>\n",
       "    </tr>\n",
       "    <tr>\n",
       "      <th>88</th>\n",
       "      <td>py_58_sid_ae5a</td>\n",
       "    </tr>\n",
       "    <tr>\n",
       "      <th>89</th>\n",
       "      <td>py_59_sid_ae5a</td>\n",
       "    </tr>\n",
       "    <tr>\n",
       "      <th>90</th>\n",
       "      <td>py_5_sid_a89d</td>\n",
       "    </tr>\n",
       "    <tr>\n",
       "      <th>91</th>\n",
       "      <td>py_5_sid_ae5a</td>\n",
       "    </tr>\n",
       "    <tr>\n",
       "      <th>92</th>\n",
       "      <td>py_67_sid_ae5a</td>\n",
       "    </tr>\n",
       "    <tr>\n",
       "      <th>93</th>\n",
       "      <td>py_6_sid_a89d</td>\n",
       "    </tr>\n",
       "    <tr>\n",
       "      <th>94</th>\n",
       "      <td>py_6_sid_ae5a</td>\n",
       "    </tr>\n",
       "    <tr>\n",
       "      <th>95</th>\n",
       "      <td>py_6_sid_b447</td>\n",
       "    </tr>\n",
       "    <tr>\n",
       "      <th>96</th>\n",
       "      <td>py_7_sid_a89d</td>\n",
       "    </tr>\n",
       "    <tr>\n",
       "      <th>97</th>\n",
       "      <td>py_7_sid_ae5a</td>\n",
       "    </tr>\n",
       "    <tr>\n",
       "      <th>98</th>\n",
       "      <td>py_7_sid_b447</td>\n",
       "    </tr>\n",
       "    <tr>\n",
       "      <th>99</th>\n",
       "      <td>py_8_sid_a89d</td>\n",
       "    </tr>\n",
       "    <tr>\n",
       "      <th>100</th>\n",
       "      <td>py_8_sid_ae5a</td>\n",
       "    </tr>\n",
       "    <tr>\n",
       "      <th>101</th>\n",
       "      <td>py_8_sid_b447</td>\n",
       "    </tr>\n",
       "    <tr>\n",
       "      <th>102</th>\n",
       "      <td>py_9_sid_a89d</td>\n",
       "    </tr>\n",
       "    <tr>\n",
       "      <th>103</th>\n",
       "      <td>py_9_sid_ae5a</td>\n",
       "    </tr>\n",
       "    <tr>\n",
       "      <th>104</th>\n",
       "      <td>py_9_sid_b447</td>\n",
       "    </tr>\n",
       "  </tbody>\n",
       "</table>\n",
       "<p>105 rows × 1 columns</p>\n",
       "</div>"
      ],
      "text/plain": [
       "                                                   key\n",
       "0    Key_Frame__upload_9c4025507c2f4fa935adfcaaa83a...\n",
       "1                    _91237ffd947223095b31e50ea32f4c4b\n",
       "2                    _994edc591cd2118c1513629f4bd14e0e\n",
       "3                    _a1c636e46a9caaa621f40182585c40c6\n",
       "4                    _a215dec563e463919ee3be5bcdaf496b\n",
       "5                    _ac7bb8725dd79740693eb51be58e43e3\n",
       "6                    _ae88fb493b0c8756183bdae28e7c4103\n",
       "7                    _b4fe727f727894fae169125261394386\n",
       "8                                       allyears2k.hex\n",
       "9                                         auto_mpg.hex\n",
       "10                                       auto_mpg1.hex\n",
       "11   deeplearning-5dbff3ab-8052-46d0-882e-b9d9cb222d39\n",
       "12           grid-00857b1f-cca8-48d4-8c12-49d9ef3529ed\n",
       "13           grid-3f9258f7-667c-4c8a-aa2d-62c23caae4fd\n",
       "14           grid-483e7683-2075-4dcd-b489-e5f08798498d\n",
       "15                                            loan.hex\n",
       "16                                           loan1.hex\n",
       "17   modelmetrics_deeplearning-5dbff3ab-8052-46d0-8...\n",
       "18   modelmetrics_deeplearning-5dbff3ab-8052-46d0-8...\n",
       "19   modelmetrics_deeplearning-8e07cf2e-ce52-4e82-8...\n",
       "20   modelmetrics_deeplearning-8e07cf2e-ce52-4e82-8...\n",
       "21   modelmetrics_deeplearning-8e07cf2e-ce52-4e82-8...\n",
       "22   modelmetrics_deeplearning-8e07cf2e-ce52-4e82-8...\n",
       "23   modelmetrics_deeplearning-8e07cf2e-ce52-4e82-8...\n",
       "24   modelmetrics_deeplearning-8e07cf2e-ce52-4e82-8...\n",
       "25   modelmetrics_deeplearning-8e07cf2e-ce52-4e82-8...\n",
       "26   modelmetrics_deeplearning-8e07cf2e-ce52-4e82-8...\n",
       "27   modelmetrics_deeplearning-8e07cf2e-ce52-4e82-8...\n",
       "28   modelmetrics_deeplearning-8e07cf2e-ce52-4e82-8...\n",
       "29   modelmetrics_deeplearning-8e07cf2e-ce52-4e82-8...\n",
       "..                                                 ...\n",
       "75                                       py_3_sid_ae5a\n",
       "76                                      py_40_sid_ae5a\n",
       "77                                      py_41_sid_ae5a\n",
       "78                                      py_42_sid_ae5a\n",
       "79                             py_43_sid_ae5a_splitter\n",
       "80                                      py_45_sid_ae5a\n",
       "81                                      py_46_sid_ae5a\n",
       "82                                      py_47_sid_ae5a\n",
       "83                                       py_4_sid_a89d\n",
       "84                                       py_4_sid_ae5a\n",
       "85                              py_4_sid_b447_splitter\n",
       "86                                      py_56_sid_ae5a\n",
       "87                                      py_57_sid_ae5a\n",
       "88                                      py_58_sid_ae5a\n",
       "89                                      py_59_sid_ae5a\n",
       "90                                       py_5_sid_a89d\n",
       "91                                       py_5_sid_ae5a\n",
       "92                                      py_67_sid_ae5a\n",
       "93                                       py_6_sid_a89d\n",
       "94                                       py_6_sid_ae5a\n",
       "95                                       py_6_sid_b447\n",
       "96                                       py_7_sid_a89d\n",
       "97                                       py_7_sid_ae5a\n",
       "98                                       py_7_sid_b447\n",
       "99                                       py_8_sid_a89d\n",
       "100                                      py_8_sid_ae5a\n",
       "101                                      py_8_sid_b447\n",
       "102                                      py_9_sid_a89d\n",
       "103                                      py_9_sid_ae5a\n",
       "104                                      py_9_sid_b447\n",
       "\n",
       "[105 rows x 1 columns]"
      ]
     },
     "execution_count": 73,
     "metadata": {},
     "output_type": "execute_result"
    }
   ],
   "source": [
    "h2o.ls()"
   ]
  },
  {
   "cell_type": "code",
   "execution_count": null,
   "metadata": {
    "collapsed": true
   },
   "outputs": [],
   "source": []
  }
 ],
 "metadata": {
  "kernelspec": {
   "display_name": "Python 3",
   "language": "python",
   "name": "python3"
  },
  "language_info": {
   "codemirror_mode": {
    "name": "ipython",
    "version": 3
   },
   "file_extension": ".py",
   "mimetype": "text/x-python",
   "name": "python",
   "nbconvert_exporter": "python",
   "pygments_lexer": "ipython3",
   "version": "3.6.1"
  }
 },
 "nbformat": 4,
 "nbformat_minor": 1
}
