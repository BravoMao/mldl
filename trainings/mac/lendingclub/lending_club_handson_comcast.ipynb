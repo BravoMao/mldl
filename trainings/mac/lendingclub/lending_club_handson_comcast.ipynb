{
 "cells": [
  {
   "cell_type": "code",
   "execution_count": null,
   "metadata": {
    "collapsed": true
   },
   "outputs": [],
   "source": [
    "# Import necessary packages\n",
    "import h2o\n",
    "from h2o.estimators.gbm import H2OGradientBoostingEstimator\n",
    "from h2o.estimators.glm import H2OGeneralizedLinearEstimator"
   ]
  },
  {
   "cell_type": "code",
   "execution_count": null,
   "metadata": {
    "collapsed": false
   },
   "outputs": [],
   "source": [
    "# Initialize instance of H2O\n",
    "h2o.init()"
   ]
  },
  {
   "cell_type": "code",
   "execution_count": null,
   "metadata": {
    "collapsed": true
   },
   "outputs": [],
   "source": [
    "# If possible download from the s3 link and change the path to the dataset\n",
    "path = \"http://h2o-public-test-data.s3.amazonaws.com/bigdata/laptop/lending-club/LoanStats3a.csv\""
   ]
  },
  {
   "cell_type": "code",
   "execution_count": null,
   "metadata": {
    "collapsed": true
   },
   "outputs": [],
   "source": [
    "# Specify some column types to \"String\" that we want to munge later\n",
    "types = {\"int_rate\":\"string\", \"revol_util\":\"string\", \"emp_length\":\"string\", \n",
    "         \"earliest_cr_line\":\"string\", \"issue_d\":\"string\", \"last_credit_pull_d\":\"factor\", \"verification_status\":\"string\"}"
   ]
  },
  {
   "cell_type": "code",
   "execution_count": null,
   "metadata": {
    "collapsed": false
   },
   "outputs": [],
   "source": [
    "# Task 1: Import the file and look at the frame\n",
    "data = h2o.import_file(path=path, col_types= types)\n",
    "data.describe()"
   ]
  },
  {
   "cell_type": "code",
   "execution_count": null,
   "metadata": {
    "collapsed": false
   },
   "outputs": [],
   "source": [
    "# Task 2: Look at the levels int he response column, \"loan_status\"\n",
    "# Hint: Use .table() function on the response column\n",
    "\n"
   ]
  },
  {
   "cell_type": "code",
   "execution_count": null,
   "metadata": {
    "collapsed": false
   },
   "outputs": [],
   "source": [
    "data.show()"
   ]
  },
  {
   "cell_type": "code",
   "execution_count": null,
   "metadata": {
    "collapsed": true
   },
   "outputs": [],
   "source": [
    "# Task 3: Bin the response variable to good/bad oans only, use your best judgement for what qualifies as a good/bad loan\n",
    "# Create a new column called \"bad_loan\" which should be a binary variable\n",
    "# Hint: You can turn the bad_loan columm into a factor using .asfactor()\n"
   ]
  },
  {
   "cell_type": "code",
   "execution_count": null,
   "metadata": {
    "collapsed": false
   },
   "outputs": [],
   "source": [
    "# Task 4: String munging to clearn string columns before converting to numeric\n",
    "# Hint: Column that need munging include \"int_rate,\" \"revol_util,\" \"emp_length\"\n",
    "\n",
    "#### Example for int_rate using gsub, trim, asnumeric ####\n",
    "data [\"int_rate\"] = data[\"int_rate\"].gsub(pattern = \"%\", replacement = \"\") # strip %\n",
    "data [ \"int_rate\"] = data[\"int_rate\"].trim() # trim ws\n",
    "data [\"int_rate\"] = data[\"int_rate\"].asnumeric() #change to a numeric \n",
    "data[\"int_rate\"].show()"
   ]
  },
  {
   "cell_type": "code",
   "execution_count": null,
   "metadata": {
    "collapsed": false
   },
   "outputs": [],
   "source": [
    "# Now try for revol_util yourself\n",
    "\n",
    "\n",
    "\n",
    "\n"
   ]
  },
  {
   "cell_type": "code",
   "execution_count": null,
   "metadata": {
    "collapsed": true
   },
   "outputs": [],
   "source": [
    "# Now we're going to clean up emp_length\n",
    "# Use gsub to remove \" year\" and \" years\" also translate n/a to \"\" \n",
    "data [\"emp_length\"] = data[\"emp_length\"].gsub(pattern = \"([ ]*+[a-zA-Z].*)|(n/a)\", \n",
    "                                              replacement = \"\") \n",
    "\n",
    "# Use trim to remove any trailing spaces \n",
    "data [\"emp_length\"] = data[\"emp_length\"].trim()"
   ]
  },
  {
   "cell_type": "code",
   "execution_count": null,
   "metadata": {
    "collapsed": false
   },
   "outputs": [],
   "source": [
    "# Use sub to convert < 1 to 0 years and do the same for 10 + to 10\n",
    "# Hint: Be mindful of spaces between characters\n",
    "\n",
    "\n",
    "\n",
    "\n",
    "\n"
   ]
  },
  {
   "cell_type": "code",
   "execution_count": null,
   "metadata": {
    "collapsed": false
   },
   "outputs": [],
   "source": [
    "# Task 5: Extract month and year from earliest_cr_line and make two new columns called \n",
    "# earliest_cr_month and earliest_cr_year\n",
    "\n",
    "\n",
    "\n",
    "\n",
    "\n",
    "\n"
   ]
  },
  {
   "cell_type": "code",
   "execution_count": null,
   "metadata": {
    "collapsed": false
   },
   "outputs": [],
   "source": [
    "# Task 6: Extract month and year from issue_d and make two new columns called issue_d_month and issue_d_year\n",
    "\n",
    "\n",
    "\n",
    "\n",
    "\n",
    "\n"
   ]
  },
  {
   "cell_type": "code",
   "execution_count": null,
   "metadata": {
    "collapsed": false
   },
   "outputs": [],
   "source": [
    "# Task 7: Create new column called credit_length\n",
    "# Hint: Do this by subtracting the earliest_cr_year from the issue_d_year\n",
    "\n",
    "\n",
    "\n",
    "\n",
    "\n"
   ]
  },
  {
   "cell_type": "code",
   "execution_count": null,
   "metadata": {
    "collapsed": false,
    "scrolled": true
   },
   "outputs": [],
   "source": [
    "# Task 8: Use the sub function to create two levels from the verification_status column. Ie \"verified\" and \"not verified\"\n",
    "\n",
    "\n",
    "\n",
    "\n",
    "\n"
   ]
  },
  {
   "cell_type": "code",
   "execution_count": null,
   "metadata": {
    "collapsed": true
   },
   "outputs": [],
   "source": [
    "# Task 9: Do a test-train split (80-20)\n",
    "\n",
    "\n",
    "\n"
   ]
  },
  {
   "cell_type": "code",
   "execution_count": null,
   "metadata": {
    "collapsed": true
   },
   "outputs": [],
   "source": [
    "# Task 10: Define your response and predictor variables \n",
    "y=\"bad_loan\"\n",
    "x=[]"
   ]
  },
  {
   "cell_type": "code",
   "execution_count": null,
   "metadata": {
    "collapsed": true
   },
   "outputs": [],
   "source": [
    "# Task 11: Set parameters for GBM model \n"
   ]
  },
  {
   "cell_type": "code",
   "execution_count": null,
   "metadata": {
    "collapsed": false
   },
   "outputs": [],
   "source": [
    "# Task 12: Build your model and view model results \n"
   ]
  }
 ],
 "metadata": {
  "anaconda-cloud": {},
  "kernelspec": {
   "display_name": "Python [Root]",
   "language": "python",
   "name": "Python [Root]"
  },
  "language_info": {
   "codemirror_mode": {
    "name": "ipython",
    "version": 2
   },
   "file_extension": ".py",
   "mimetype": "text/x-python",
   "name": "python",
   "nbconvert_exporter": "python",
   "pygments_lexer": "ipython2",
   "version": "2.7.12"
  }
 },
 "nbformat": 4,
 "nbformat_minor": 0
}
