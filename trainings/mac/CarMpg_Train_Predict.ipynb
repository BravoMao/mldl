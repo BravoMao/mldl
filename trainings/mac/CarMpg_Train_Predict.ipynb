{
 "cells": [
  {
   "cell_type": "code",
   "execution_count": 2,
   "metadata": {
    "collapsed": true
   },
   "outputs": [],
   "source": [
    "import h2o"
   ]
  },
  {
   "cell_type": "code",
   "execution_count": 1,
   "metadata": {
    "collapsed": true
   },
   "outputs": [],
   "source": [
    "url = \"https://raw.githubusercontent.com/Avkash/mldl/master/data/auto_mpg.csv\""
   ]
  },
  {
   "cell_type": "code",
   "execution_count": 3,
   "metadata": {},
   "outputs": [
    {
     "name": "stderr",
     "output_type": "stream",
     "text": [
      "ERROR:h2o:Key init.version_check is not a valid config key\n"
     ]
    },
    {
     "name": "stdout",
     "output_type": "stream",
     "text": [
      "Checking whether there is an H2O instance running at http://localhost:54321. connected.\n"
     ]
    },
    {
     "data": {
      "text/html": [
       "<div style=\"overflow:auto\"><table style=\"width:50%\"><tr><td>H2O cluster uptime:</td>\n",
       "<td>4 hours 0 mins</td></tr>\n",
       "<tr><td>H2O cluster version:</td>\n",
       "<td>3.10.5.3</td></tr>\n",
       "<tr><td>H2O cluster version age:</td>\n",
       "<td>11 days </td></tr>\n",
       "<tr><td>H2O cluster name:</td>\n",
       "<td>H2O_from_python_avkashchauhan_2m13v0</td></tr>\n",
       "<tr><td>H2O cluster total nodes:</td>\n",
       "<td>1</td></tr>\n",
       "<tr><td>H2O cluster free memory:</td>\n",
       "<td>6.031 Gb</td></tr>\n",
       "<tr><td>H2O cluster total cores:</td>\n",
       "<td>8</td></tr>\n",
       "<tr><td>H2O cluster allowed cores:</td>\n",
       "<td>8</td></tr>\n",
       "<tr><td>H2O cluster status:</td>\n",
       "<td>locked, healthy</td></tr>\n",
       "<tr><td>H2O connection url:</td>\n",
       "<td>http://localhost:54321</td></tr>\n",
       "<tr><td>H2O connection proxy:</td>\n",
       "<td>None</td></tr>\n",
       "<tr><td>H2O internal security:</td>\n",
       "<td>False</td></tr>\n",
       "<tr><td>Python version:</td>\n",
       "<td>3.6.1 final</td></tr></table></div>"
      ],
      "text/plain": [
       "--------------------------  ------------------------------------\n",
       "H2O cluster uptime:         4 hours 0 mins\n",
       "H2O cluster version:        3.10.5.3\n",
       "H2O cluster version age:    11 days\n",
       "H2O cluster name:           H2O_from_python_avkashchauhan_2m13v0\n",
       "H2O cluster total nodes:    1\n",
       "H2O cluster free memory:    6.031 Gb\n",
       "H2O cluster total cores:    8\n",
       "H2O cluster allowed cores:  8\n",
       "H2O cluster status:         locked, healthy\n",
       "H2O connection url:         http://localhost:54321\n",
       "H2O connection proxy:\n",
       "H2O internal security:      False\n",
       "Python version:             3.6.1 final\n",
       "--------------------------  ------------------------------------"
      ]
     },
     "metadata": {},
     "output_type": "display_data"
    }
   ],
   "source": [
    "h2o.init()"
   ]
  },
  {
   "cell_type": "code",
   "execution_count": 5,
   "metadata": {},
   "outputs": [
    {
     "name": "stdout",
     "output_type": "stream",
     "text": [
      "Parse progress: |█████████████████████████████████████████████████████████| 100%\n"
     ]
    }
   ],
   "source": [
    "df = h2o.import_file(url)"
   ]
  },
  {
   "cell_type": "code",
   "execution_count": 6,
   "metadata": {},
   "outputs": [
    {
     "data": {
      "text/html": [
       "<table>\n",
       "<thead>\n",
       "<tr><th style=\"text-align: right;\">  cylinders</th><th style=\"text-align: right;\">  displacement</th><th style=\"text-align: right;\">  horsepower</th><th style=\"text-align: right;\">  weight</th><th style=\"text-align: right;\">  acceleration</th><th style=\"text-align: right;\">  modelyear</th><th style=\"text-align: right;\">  origin</th><th style=\"text-align: right;\">  mpg</th></tr>\n",
       "</thead>\n",
       "<tbody>\n",
       "<tr><td style=\"text-align: right;\">          8</td><td style=\"text-align: right;\">           307</td><td style=\"text-align: right;\">         130</td><td style=\"text-align: right;\">    3504</td><td style=\"text-align: right;\">          12  </td><td style=\"text-align: right;\">         70</td><td style=\"text-align: right;\">       1</td><td style=\"text-align: right;\">   18</td></tr>\n",
       "<tr><td style=\"text-align: right;\">          8</td><td style=\"text-align: right;\">           350</td><td style=\"text-align: right;\">         165</td><td style=\"text-align: right;\">    3693</td><td style=\"text-align: right;\">          11.5</td><td style=\"text-align: right;\">         70</td><td style=\"text-align: right;\">       1</td><td style=\"text-align: right;\">   15</td></tr>\n",
       "<tr><td style=\"text-align: right;\">          8</td><td style=\"text-align: right;\">           318</td><td style=\"text-align: right;\">         150</td><td style=\"text-align: right;\">    3436</td><td style=\"text-align: right;\">          11  </td><td style=\"text-align: right;\">         70</td><td style=\"text-align: right;\">       1</td><td style=\"text-align: right;\">   18</td></tr>\n",
       "<tr><td style=\"text-align: right;\">          8</td><td style=\"text-align: right;\">           304</td><td style=\"text-align: right;\">         150</td><td style=\"text-align: right;\">    3433</td><td style=\"text-align: right;\">          12  </td><td style=\"text-align: right;\">         70</td><td style=\"text-align: right;\">       1</td><td style=\"text-align: right;\">   16</td></tr>\n",
       "<tr><td style=\"text-align: right;\">          8</td><td style=\"text-align: right;\">           302</td><td style=\"text-align: right;\">         140</td><td style=\"text-align: right;\">    3449</td><td style=\"text-align: right;\">          10.5</td><td style=\"text-align: right;\">         70</td><td style=\"text-align: right;\">       1</td><td style=\"text-align: right;\">   17</td></tr>\n",
       "<tr><td style=\"text-align: right;\">          8</td><td style=\"text-align: right;\">           429</td><td style=\"text-align: right;\">         198</td><td style=\"text-align: right;\">    4341</td><td style=\"text-align: right;\">          10  </td><td style=\"text-align: right;\">         70</td><td style=\"text-align: right;\">       1</td><td style=\"text-align: right;\">   15</td></tr>\n",
       "<tr><td style=\"text-align: right;\">          8</td><td style=\"text-align: right;\">           454</td><td style=\"text-align: right;\">         220</td><td style=\"text-align: right;\">    4354</td><td style=\"text-align: right;\">           9  </td><td style=\"text-align: right;\">         70</td><td style=\"text-align: right;\">       1</td><td style=\"text-align: right;\">   14</td></tr>\n",
       "<tr><td style=\"text-align: right;\">          8</td><td style=\"text-align: right;\">           440</td><td style=\"text-align: right;\">         215</td><td style=\"text-align: right;\">    4312</td><td style=\"text-align: right;\">           8.5</td><td style=\"text-align: right;\">         70</td><td style=\"text-align: right;\">       1</td><td style=\"text-align: right;\">   14</td></tr>\n",
       "<tr><td style=\"text-align: right;\">          8</td><td style=\"text-align: right;\">           455</td><td style=\"text-align: right;\">         225</td><td style=\"text-align: right;\">    4425</td><td style=\"text-align: right;\">          10  </td><td style=\"text-align: right;\">         70</td><td style=\"text-align: right;\">       1</td><td style=\"text-align: right;\">   14</td></tr>\n",
       "<tr><td style=\"text-align: right;\">          8</td><td style=\"text-align: right;\">           390</td><td style=\"text-align: right;\">         190</td><td style=\"text-align: right;\">    3850</td><td style=\"text-align: right;\">           8.5</td><td style=\"text-align: right;\">         70</td><td style=\"text-align: right;\">       1</td><td style=\"text-align: right;\">   15</td></tr>\n",
       "</tbody>\n",
       "</table>"
      ]
     },
     "metadata": {},
     "output_type": "display_data"
    },
    {
     "data": {
      "text/plain": []
     },
     "execution_count": 6,
     "metadata": {},
     "output_type": "execute_result"
    }
   ],
   "source": [
    "df"
   ]
  },
  {
   "cell_type": "code",
   "execution_count": 9,
   "metadata": {},
   "outputs": [
    {
     "data": {
      "text/plain": [
       "['cylinders',\n",
       " 'displacement',\n",
       " 'horsepower',\n",
       " 'weight',\n",
       " 'acceleration',\n",
       " 'modelyear',\n",
       " 'origin',\n",
       " 'mpg']"
      ]
     },
     "execution_count": 9,
     "metadata": {},
     "output_type": "execute_result"
    }
   ],
   "source": [
    "df.col_names"
   ]
  },
  {
   "cell_type": "code",
   "execution_count": 10,
   "metadata": {
    "collapsed": true
   },
   "outputs": [],
   "source": [
    "y = \"mpg\""
   ]
  },
  {
   "cell_type": "code",
   "execution_count": 11,
   "metadata": {
    "collapsed": true
   },
   "outputs": [],
   "source": [
    "x = list(df.columns)"
   ]
  },
  {
   "cell_type": "code",
   "execution_count": 13,
   "metadata": {
    "collapsed": true
   },
   "outputs": [],
   "source": [
    "x.remove(y)"
   ]
  },
  {
   "cell_type": "code",
   "execution_count": 14,
   "metadata": {},
   "outputs": [
    {
     "data": {
      "text/plain": [
       "['cylinders',\n",
       " 'displacement',\n",
       " 'horsepower',\n",
       " 'weight',\n",
       " 'acceleration',\n",
       " 'modelyear',\n",
       " 'origin']"
      ]
     },
     "execution_count": 14,
     "metadata": {},
     "output_type": "execute_result"
    }
   ],
   "source": [
    "x"
   ]
  },
  {
   "cell_type": "code",
   "execution_count": 7,
   "metadata": {
    "collapsed": true
   },
   "outputs": [],
   "source": [
    "from h2o.estimators.random_forest import H2ORandomForestEstimator"
   ]
  },
  {
   "cell_type": "code",
   "execution_count": 8,
   "metadata": {
    "collapsed": true
   },
   "outputs": [],
   "source": [
    "rf_fit1 = H2ORandomForestEstimator(model_id='rf_fit1', seed=1, nfolds=5)"
   ]
  },
  {
   "cell_type": "code",
   "execution_count": 15,
   "metadata": {},
   "outputs": [
    {
     "name": "stdout",
     "output_type": "stream",
     "text": [
      "drf Model Build progress: |███████████████████████████████████████████████| 100%\n"
     ]
    }
   ],
   "source": [
    "rf_fit1.train(x=x, y=y, training_frame=df)"
   ]
  },
  {
   "cell_type": "code",
   "execution_count": 17,
   "metadata": {},
   "outputs": [
    {
     "name": "stdout",
     "output_type": "stream",
     "text": [
      "Model Details\n",
      "=============\n",
      "H2ORandomForestEstimator :  Distributed Random Forest\n",
      "Model Key:  rf_fit1\n",
      "\n",
      "\n",
      "ModelMetricsRegression: drf\n",
      "** Reported on train data. **\n",
      "\n",
      "MSE: 7.5987627959790585\n",
      "RMSE: 2.7565853507517337\n",
      "MAE: 1.9206450412848157\n",
      "RMSLE: 0.10358051677079261\n",
      "Mean Residual Deviance: 7.5987627959790585\n",
      "\n",
      "ModelMetricsRegression: drf\n",
      "** Reported on cross-validation data. **\n",
      "\n",
      "MSE: 8.29516230185694\n",
      "RMSE: 2.8801323410317345\n",
      "MAE: 2.0112433745992844\n",
      "RMSLE: 0.11062102329978081\n",
      "Mean Residual Deviance: 8.29516230185694\n",
      "Cross-Validation Metrics Summary: \n"
     ]
    },
    {
     "data": {
      "text/html": [
       "<div style=\"overflow:auto\"><table style=\"width:50%\"><tr><td><b></b></td>\n",
       "<td><b>mean</b></td>\n",
       "<td><b>sd</b></td>\n",
       "<td><b>cv_1_valid</b></td>\n",
       "<td><b>cv_2_valid</b></td>\n",
       "<td><b>cv_3_valid</b></td>\n",
       "<td><b>cv_4_valid</b></td>\n",
       "<td><b>cv_5_valid</b></td></tr>\n",
       "<tr><td>mae</td>\n",
       "<td>2.0237014</td>\n",
       "<td>0.1638963</td>\n",
       "<td>1.9953384</td>\n",
       "<td>1.7341846</td>\n",
       "<td>1.8316367</td>\n",
       "<td>2.1862466</td>\n",
       "<td>2.3711002</td></tr>\n",
       "<tr><td>mean_residual_deviance</td>\n",
       "<td>8.465879</td>\n",
       "<td>2.0719104</td>\n",
       "<td>7.381253</td>\n",
       "<td>5.323959</td>\n",
       "<td>5.7182593</td>\n",
       "<td>12.027496</td>\n",
       "<td>11.878431</td></tr>\n",
       "<tr><td>mse</td>\n",
       "<td>8.465879</td>\n",
       "<td>2.0719104</td>\n",
       "<td>7.381253</td>\n",
       "<td>5.323959</td>\n",
       "<td>5.7182593</td>\n",
       "<td>12.027496</td>\n",
       "<td>11.878431</td></tr>\n",
       "<tr><td>r2</td>\n",
       "<td>0.8587521</td>\n",
       "<td>0.0358379</td>\n",
       "<td>0.8683761</td>\n",
       "<td>0.9056743</td>\n",
       "<td>0.9136354</td>\n",
       "<td>0.7772611</td>\n",
       "<td>0.8288135</td></tr>\n",
       "<tr><td>residual_deviance</td>\n",
       "<td>8.465879</td>\n",
       "<td>2.0719104</td>\n",
       "<td>7.381253</td>\n",
       "<td>5.323959</td>\n",
       "<td>5.7182593</td>\n",
       "<td>12.027496</td>\n",
       "<td>11.878431</td></tr>\n",
       "<tr><td>rmse</td>\n",
       "<td>2.8660166</td>\n",
       "<td>0.3548441</td>\n",
       "<td>2.7168462</td>\n",
       "<td>2.3073704</td>\n",
       "<td>2.3912883</td>\n",
       "<td>3.4680681</td>\n",
       "<td>3.44651</td></tr>\n",
       "<tr><td>rmsle</td>\n",
       "<td>0.1105934</td>\n",
       "<td>0.0099739</td>\n",
       "<td>0.1124083</td>\n",
       "<td>0.0925495</td>\n",
       "<td>0.0964838</td>\n",
       "<td>0.1275804</td>\n",
       "<td>0.1239451</td></tr></table></div>"
      ],
      "text/plain": [
       "                        mean      sd          cv_1_valid    cv_2_valid    cv_3_valid    cv_4_valid    cv_5_valid\n",
       "----------------------  --------  ----------  ------------  ------------  ------------  ------------  ------------\n",
       "mae                     2.0237    0.163896    1.99534       1.73418       1.83164       2.18625       2.3711\n",
       "mean_residual_deviance  8.46588   2.07191     7.38125       5.32396       5.71826       12.0275       11.8784\n",
       "mse                     8.46588   2.07191     7.38125       5.32396       5.71826       12.0275       11.8784\n",
       "r2                      0.858752  0.0358379   0.868376      0.905674      0.913635      0.777261      0.828813\n",
       "residual_deviance       8.46588   2.07191     7.38125       5.32396       5.71826       12.0275       11.8784\n",
       "rmse                    2.86602   0.354844    2.71685       2.30737       2.39129       3.46807       3.44651\n",
       "rmsle                   0.110593  0.00997388  0.112408      0.0925495     0.0964838     0.12758       0.123945"
      ]
     },
     "metadata": {},
     "output_type": "display_data"
    },
    {
     "name": "stdout",
     "output_type": "stream",
     "text": [
      "Scoring History: \n"
     ]
    },
    {
     "data": {
      "text/html": [
       "<div style=\"overflow:auto\"><table style=\"width:50%\"><tr><td><b></b></td>\n",
       "<td><b>timestamp</b></td>\n",
       "<td><b>duration</b></td>\n",
       "<td><b>number_of_trees</b></td>\n",
       "<td><b>training_rmse</b></td>\n",
       "<td><b>training_mae</b></td>\n",
       "<td><b>training_deviance</b></td></tr>\n",
       "<tr><td></td>\n",
       "<td>2017-07-12 01:53:13</td>\n",
       "<td> 0.247 sec</td>\n",
       "<td>0.0</td>\n",
       "<td>nan</td>\n",
       "<td>nan</td>\n",
       "<td>nan</td></tr>\n",
       "<tr><td></td>\n",
       "<td>2017-07-12 01:53:13</td>\n",
       "<td> 0.250 sec</td>\n",
       "<td>1.0</td>\n",
       "<td>3.7188996</td>\n",
       "<td>2.4864287</td>\n",
       "<td>13.8302146</td></tr>\n",
       "<tr><td></td>\n",
       "<td>2017-07-12 01:53:13</td>\n",
       "<td> 0.252 sec</td>\n",
       "<td>2.0</td>\n",
       "<td>3.8293802</td>\n",
       "<td>2.5701125</td>\n",
       "<td>14.6641524</td></tr>\n",
       "<tr><td></td>\n",
       "<td>2017-07-12 01:53:13</td>\n",
       "<td> 0.254 sec</td>\n",
       "<td>3.0</td>\n",
       "<td>3.6861265</td>\n",
       "<td>2.4898245</td>\n",
       "<td>13.5875287</td></tr>\n",
       "<tr><td></td>\n",
       "<td>2017-07-12 01:53:13</td>\n",
       "<td> 0.256 sec</td>\n",
       "<td>4.0</td>\n",
       "<td>3.4135179</td>\n",
       "<td>2.3061940</td>\n",
       "<td>11.6521044</td></tr>\n",
       "<tr><td>---</td>\n",
       "<td>---</td>\n",
       "<td>---</td>\n",
       "<td>---</td>\n",
       "<td>---</td>\n",
       "<td>---</td>\n",
       "<td>---</td></tr>\n",
       "<tr><td></td>\n",
       "<td>2017-07-12 01:53:13</td>\n",
       "<td> 0.343 sec</td>\n",
       "<td>46.0</td>\n",
       "<td>2.7864630</td>\n",
       "<td>1.9335104</td>\n",
       "<td>7.7643762</td></tr>\n",
       "<tr><td></td>\n",
       "<td>2017-07-12 01:53:13</td>\n",
       "<td> 0.345 sec</td>\n",
       "<td>47.0</td>\n",
       "<td>2.7778532</td>\n",
       "<td>1.9260352</td>\n",
       "<td>7.7164687</td></tr>\n",
       "<tr><td></td>\n",
       "<td>2017-07-12 01:53:13</td>\n",
       "<td> 0.348 sec</td>\n",
       "<td>48.0</td>\n",
       "<td>2.7683191</td>\n",
       "<td>1.9235381</td>\n",
       "<td>7.6635906</td></tr>\n",
       "<tr><td></td>\n",
       "<td>2017-07-12 01:53:13</td>\n",
       "<td> 0.350 sec</td>\n",
       "<td>49.0</td>\n",
       "<td>2.7689111</td>\n",
       "<td>1.9226772</td>\n",
       "<td>7.6668684</td></tr>\n",
       "<tr><td></td>\n",
       "<td>2017-07-12 01:53:13</td>\n",
       "<td> 0.353 sec</td>\n",
       "<td>50.0</td>\n",
       "<td>2.7565854</td>\n",
       "<td>1.9206450</td>\n",
       "<td>7.5987628</td></tr></table></div>"
      ],
      "text/plain": [
       "     timestamp            duration    number_of_trees    training_rmse       training_mae        training_deviance\n",
       "---  -------------------  ----------  -----------------  ------------------  ------------------  -------------------\n",
       "     2017-07-12 01:53:13  0.247 sec   0.0                nan                 nan                 nan\n",
       "     2017-07-12 01:53:13  0.250 sec   1.0                3.7188996447877205  2.486428669520787   13.830214568002235\n",
       "     2017-07-12 01:53:13  0.252 sec   2.0                3.8293801582255993  2.570112542261051   14.664152396211916\n",
       "     2017-07-12 01:53:13  0.254 sec   3.0                3.686126515114462   2.489824465027562   13.58752868542989\n",
       "     2017-07-12 01:53:13  0.256 sec   4.0                3.413517898718202   2.3061940135377825  11.65210444486953\n",
       "---  ---                  ---         ---                ---                 ---                 ---\n",
       "     2017-07-12 01:53:13  0.343 sec   46.0               2.786463033352779   1.9335104240339176  7.764376236241571\n",
       "     2017-07-12 01:53:13  0.345 sec   47.0               2.77785324734401    1.9260351887116887  7.716468663779662\n",
       "     2017-07-12 01:53:13  0.348 sec   48.0               2.7683190990768067  1.9235380942009455  7.663590634313423\n",
       "     2017-07-12 01:53:13  0.350 sec   49.0               2.768911052077173   1.9226771590468466  7.6668684143151165\n",
       "     2017-07-12 01:53:13  0.353 sec   50.0               2.7565853507517337  1.9206450412848157  7.5987627959790585"
      ]
     },
     "metadata": {},
     "output_type": "display_data"
    },
    {
     "name": "stdout",
     "output_type": "stream",
     "text": [
      "\n",
      "See the whole table with table.as_data_frame()\n",
      "Variable Importances: \n"
     ]
    },
    {
     "data": {
      "text/html": [
       "<div style=\"overflow:auto\"><table style=\"width:50%\"><tr><td><b>variable</b></td>\n",
       "<td><b>relative_importance</b></td>\n",
       "<td><b>scaled_importance</b></td>\n",
       "<td><b>percentage</b></td></tr>\n",
       "<tr><td>displacement</td>\n",
       "<td>265549.6250000</td>\n",
       "<td>1.0</td>\n",
       "<td>0.2623763</td></tr>\n",
       "<tr><td>weight</td>\n",
       "<td>251463.9062500</td>\n",
       "<td>0.9469564</td>\n",
       "<td>0.2484589</td></tr>\n",
       "<tr><td>cylinders</td>\n",
       "<td>202639.8750000</td>\n",
       "<td>0.7630961</td>\n",
       "<td>0.2002184</td></tr>\n",
       "<tr><td>horsepower</td>\n",
       "<td>148905.5781250</td>\n",
       "<td>0.5607448</td>\n",
       "<td>0.1471262</td></tr>\n",
       "<tr><td>modelyear</td>\n",
       "<td>94746.5703125</td>\n",
       "<td>0.3567942</td>\n",
       "<td>0.0936144</td></tr>\n",
       "<tr><td>acceleration</td>\n",
       "<td>32898.3320312</td>\n",
       "<td>0.1238877</td>\n",
       "<td>0.0325052</td></tr>\n",
       "<tr><td>origin</td>\n",
       "<td>15890.5341797</td>\n",
       "<td>0.0598402</td>\n",
       "<td>0.0157006</td></tr></table></div>"
      ],
      "text/plain": [
       "variable      relative_importance    scaled_importance    percentage\n",
       "------------  ---------------------  -------------------  ------------\n",
       "displacement  265550                 1                    0.262376\n",
       "weight        251464                 0.946956             0.248459\n",
       "cylinders     202640                 0.763096             0.200218\n",
       "horsepower    148906                 0.560745             0.147126\n",
       "modelyear     94746.6                0.356794             0.0936144\n",
       "acceleration  32898.3                0.123888             0.0325052\n",
       "origin        15890.5                0.0598402            0.0157006"
      ]
     },
     "metadata": {},
     "output_type": "display_data"
    },
    {
     "data": {
      "text/plain": []
     },
     "execution_count": 17,
     "metadata": {},
     "output_type": "execute_result"
    }
   ],
   "source": [
    "rf_fit1"
   ]
  },
  {
   "cell_type": "code",
   "execution_count": 19,
   "metadata": {
    "collapsed": true
   },
   "outputs": [],
   "source": [
    "rf_perf1 = rf_fit1.model_performance(df)"
   ]
  },
  {
   "cell_type": "code",
   "execution_count": 22,
   "metadata": {},
   "outputs": [
    {
     "name": "stdout",
     "output_type": "stream",
     "text": [
      "\n",
      "ModelMetricsRegression: drf\n",
      "** Reported on test data. **\n",
      "\n",
      "MSE: 1.0954455386508093\n",
      "RMSE: 1.046635341774206\n",
      "MAE: 0.7382690682243459\n",
      "RMSLE: 0.03995614413348596\n",
      "Mean Residual Deviance: 1.0954455386508093\n"
     ]
    },
    {
     "data": {
      "text/plain": [
       "<bound method MetricsBase.auc of >"
      ]
     },
     "execution_count": 22,
     "metadata": {},
     "output_type": "execute_result"
    }
   ],
   "source": [
    "rf_perf1.auc"
   ]
  },
  {
   "cell_type": "code",
   "execution_count": 28,
   "metadata": {
    "collapsed": true
   },
   "outputs": [],
   "source": [
    "pred = df[1,:6]"
   ]
  },
  {
   "cell_type": "code",
   "execution_count": 43,
   "metadata": {
    "collapsed": true
   },
   "outputs": [],
   "source": [
    "pred['cylinders'] = 16\n",
    "pred['horsepower'] = 400\n",
    "pred['weight'] = 8000"
   ]
  },
  {
   "cell_type": "code",
   "execution_count": 40,
   "metadata": {},
   "outputs": [
    {
     "data": {
      "text/html": [
       "<table>\n",
       "<thead>\n",
       "<tr><th style=\"text-align: right;\">  cylinders</th><th style=\"text-align: right;\">  displacement</th><th style=\"text-align: right;\">  horsepower</th><th style=\"text-align: right;\">  weight</th><th style=\"text-align: right;\">  acceleration</th><th style=\"text-align: right;\">  modelyear</th></tr>\n",
       "</thead>\n",
       "<tbody>\n",
       "<tr><td style=\"text-align: right;\">         16</td><td style=\"text-align: right;\">           350</td><td style=\"text-align: right;\">         400</td><td style=\"text-align: right;\">    8000</td><td style=\"text-align: right;\">          11.5</td><td style=\"text-align: right;\">         70</td></tr>\n",
       "</tbody>\n",
       "</table>"
      ]
     },
     "metadata": {},
     "output_type": "display_data"
    },
    {
     "data": {
      "text/plain": []
     },
     "execution_count": 40,
     "metadata": {},
     "output_type": "execute_result"
    }
   ],
   "source": [
    "pred"
   ]
  },
  {
   "cell_type": "code",
   "execution_count": 41,
   "metadata": {},
   "outputs": [
    {
     "name": "stdout",
     "output_type": "stream",
     "text": [
      "drf prediction progress: |████████████████████████████████████████████████| 100%\n"
     ]
    },
    {
     "name": "stderr",
     "output_type": "stream",
     "text": [
      "/Users/avkashchauhan/.local/lib/python3.6/site-packages/h2o/job.py:65: UserWarning: Test/Validation dataset is missing column 'origin': substituting in a column of NaN\n",
      "  warnings.warn(w)\n"
     ]
    },
    {
     "data": {
      "text/html": [
       "<table>\n",
       "<thead>\n",
       "<tr><th style=\"text-align: right;\">  predict</th></tr>\n",
       "</thead>\n",
       "<tbody>\n",
       "<tr><td style=\"text-align: right;\">  11.9951</td></tr>\n",
       "</tbody>\n",
       "</table>"
      ]
     },
     "metadata": {},
     "output_type": "display_data"
    },
    {
     "data": {
      "text/plain": []
     },
     "execution_count": 41,
     "metadata": {},
     "output_type": "execute_result"
    }
   ],
   "source": [
    "rf_fit1.predict(pred)"
   ]
  },
  {
   "cell_type": "code",
   "execution_count": null,
   "metadata": {
    "collapsed": true
   },
   "outputs": [],
   "source": []
  }
 ],
 "metadata": {
  "kernelspec": {
   "display_name": "Python 3",
   "language": "python",
   "name": "python3"
  },
  "language_info": {
   "codemirror_mode": {
    "name": "ipython",
    "version": 3
   },
   "file_extension": ".py",
   "mimetype": "text/x-python",
   "name": "python",
   "nbconvert_exporter": "python",
   "pygments_lexer": "ipython3",
   "version": "3.6.1"
  }
 },
 "nbformat": 4,
 "nbformat_minor": 2
}
